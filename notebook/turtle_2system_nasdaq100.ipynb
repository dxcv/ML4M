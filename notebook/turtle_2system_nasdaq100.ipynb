{
 "cells": [
  {
   "cell_type": "code",
   "execution_count": 1,
   "metadata": {
    "scrolled": true
   },
   "outputs": [
    {
     "data": {
      "text/html": [
       "\n",
       "<script src=\"//code.highcharts.com/stock/highstock.js\"></script>\n",
       "<script src=\"//code.highcharts.com/highcharts-more.js\"></script>\n",
       "<script src=\"//code.highcharts.com/modules/exporting.js\"></script>\n"
      ],
      "text/plain": [
       "<IPython.core.display.HTML object>"
      ]
     },
     "metadata": {},
     "output_type": "display_data"
    },
    {
     "data": {
      "text/plain": [
       "<module 'pandas' from 'd:\\\\python3\\\\lib\\\\site-packages\\\\pandas\\\\__init__.py'>"
      ]
     },
     "execution_count": 1,
     "metadata": {},
     "output_type": "execute_result"
    }
   ],
   "source": [
    "import os\n",
    "import sys\n",
    "sys.path.append(os.path.abspath(os.path.join(os.getcwd(), '..')))\n",
    "\n",
    "import pandas as pd\n",
    "import empyrical as emp\n",
    "import time\n",
    "import random\n",
    "# from concurrent.futures import ProcessPoolExecutor\n",
    "\n",
    "from common.log import *\n",
    "from common.config import Config\n",
    "from spider.spider_nasdaq import Spider_nasdaq\n",
    "\n",
    "from IPython.core.interactiveshell import InteractiveShell\n",
    "InteractiveShell.ast_node_interactivity = 'all'\n",
    "\n",
    "from pandas_highcharts.core import serialize\n",
    "from pandas_highcharts.display import display_charts\n",
    "\n",
    "CONF = Config().data[0]\n",
    "MONGODB = CONF['MONGODB']\n",
    "NASDAQ = CONF['NASDAQ']\n",
    "CRYPTOCURRENCY = CONF['CRYPTOCURRENCY']\n",
    "NASDAQ100 = CONF['NASDAQ100']\n",
    "\n",
    "pd"
   ]
  },
  {
   "cell_type": "code",
   "execution_count": 2,
   "metadata": {
    "scrolled": false
   },
   "outputs": [
    {
     "name": "stdout",
     "output_type": "stream",
     "text": [
      "../database/market/NDX.csv\n",
      "../database/market/TSLA.csv\n",
      "Wall time: 13.8 s\n"
     ]
    }
   ],
   "source": [
    "%%time\n",
    "\n",
    "spider = Spider_nasdaq()\n",
    "timeframe = '10y'\n",
    "ignore = True\n",
    "\n",
    "# for symbol in NASDAQ100:\n",
    "for symbol in ['NDX', 'TSLA']:\n",
    "#     if symbol == 'SHPG':\n",
    "#         ignore = False\n",
    "#     if ignore:\n",
    "#         continue\n",
    "    datafile = spider.get_stock_data(symbol, timeframe)\n",
    "    print(datafile)\n",
    "    pass"
   ]
  },
  {
   "cell_type": "code",
   "execution_count": 3,
   "metadata": {},
   "outputs": [
    {
     "name": "stdout",
     "output_type": "stream",
     "text": [
      "Wall time: 0 ns\n"
     ]
    }
   ],
   "source": [
    "%%time\n",
    "\n",
    "### 时间设置\n",
    "start_date = '2008-06-02'\n",
    "start_date = '2010-01-01'\n",
    "# start_date = '2015-01-01'\n",
    "# start_date = '2017-01-03'\n",
    "start_date = '2018-01-01'\n",
    "end_date = '2018-12-31'\n",
    "\n",
    "TURTLE_POS = 20\n",
    "### Turtle System One - Short\n",
    "TURTLE_SHORT_BUY_N = 20\n",
    "TURTLE_SHORT_SELL_N = 20\n",
    "### Turtle System Two - Long\n",
    "TURTLE_LONG_BUY_N = 60\n",
    "TURTLE_LONG_SELL_N = 60\n",
    "\n",
    "### 业务设置\n",
    "IS_HAPPYMONEY = False\n",
    "IS_TAX = False\n",
    "IS_SLIPPAGE = True\n",
    "IS_RANDOM_BUY = True\n",
    "START_MONEY = 100000\n",
    "HAPPY_MONEY = 0\n",
    "PROPERTY = START_MONEY\n",
    "CASH = START_MONEY\n"
   ]
  },
  {
   "cell_type": "code",
   "execution_count": 4,
   "metadata": {},
   "outputs": [
    {
     "name": "stdout",
     "output_type": "stream",
     "text": [
      "Wall time: 51.6 s\n"
     ]
    }
   ],
   "source": [
    "%%time\n",
    "\n",
    "stock_df_dict = {}\n",
    "\n",
    "for symbol in NASDAQ100[:]:\n",
    "    stock_data_file = '../database/market/%s.csv' % symbol\n",
    "    stock_df = pd.read_csv(stock_data_file)\n",
    "\n",
    "    # 筛选字段\n",
    "#     stock_df = stock_df.loc[:, ['date', 'open', 'close']]\n",
    "\n",
    "    # 去掉Nasdaq行情首行的当天行情\n",
    "    if symbol in NASDAQ:\n",
    "        stock_df = stock_df.drop([0])\n",
    "\n",
    "    # 抛弃空值异常值\n",
    "    stock_df.dropna(axis=0, how='any', inplace=True)\n",
    "\n",
    "    # 格式化日期\n",
    "    # 1.48 s ± 45.8 ms per loop (mean ± std. dev. of 7 runs, 1 loop each)\n",
    "#     stock_df['date'] = stock_df['date'].apply(lambda x: pd.Period(x, freq='D'))\n",
    "\n",
    "    # 445 ms ± 17.5 ms per loop (mean ± std. dev. of 7 runs, 1 loop each)\n",
    "    stock_df = stock_df.assign(date=pd.to_datetime(stock_df['date']))  # need .index.to_period('D')\n",
    "\n",
    "    # 476 ms ± 46.6 ms per loop (mean ± std. dev. of 7 runs, 1 loop each)\n",
    "#     stock_df['date'] = pd.to_datetime(stock_df['date'])  # need .index.to_period('D')\n",
    "    \n",
    "    # 转换字段格式\n",
    "#     stock_df = stock_df.astype(dtype={'volume': 'float64'})\n",
    "\n",
    "    # 用日期作索引，日期升序排序\n",
    "    # 95.1 µs ± 1.58 µs per loop (mean ± std. dev. of 7 runs, 10000 loops each)\n",
    "    stock_df = stock_df[::-1]\n",
    "    \n",
    "    # 407 µs ± 5.07 µs per loop (mean ± std. dev. of 7 runs, 1000 loops each)\n",
    "#     %timeit stock_df.set_index(['date'], inplace=False)\n",
    "\n",
    "    # Wall time: 500 µs\n",
    "    stock_df.set_index(['date'], inplace=True)\n",
    "    \n",
    "    # 305 µs ± 2.75 µs per loop (mean ± std. dev. of 7 runs, 1000 loops each)\n",
    "#     stock_df = stock_df.sort_index(axis=0, ascending=True)\n",
    "    \n",
    "    # 822 µs ± 41.3 µs per loop (mean ± std. dev. of 7 runs, 1000 loops each)\n",
    "    stock_df.index = stock_df.index.to_period('D')\n",
    "\n",
    "    # 计算涨跌幅\n",
    "#     stock_df['c_pct_chg'] = stock_df.close.pct_change(1)\n",
    "    stock_df['o_pct_chg'] = stock_df.open.pct_change(1)\n",
    "    \n",
    "    # Turtle指标\n",
    "#     stock_df['TR1'] = abs(stock_df['high'] - stock_df['low'])\n",
    "#     stock_df['TR2'] = abs(stock_df['high'] - stock_df['close'].shift())\n",
    "#     stock_df['TR3'] = abs(stock_df['low'] - stock_df['close'].shift())\n",
    "#     stock_df['TR'] = stock_df[['TR1', 'TR2', 'TR3']].max(axis=1)\n",
    "#     stock_df['N'] = stock_df['TR'].rolling(20).mean()\n",
    "#     stock_df['UNIT'] = (0.01 * START_MONEY) / (stock_df['N'])\n",
    "    stock_df['ROLLING_%d_MAX' % TURTLE_SHORT_BUY_N] = stock_df['open'].rolling(TURTLE_SHORT_BUY_N).max()\n",
    "    stock_df['ROLLING_%d_MIN' % TURTLE_SHORT_SELL_N] = stock_df['open'].rolling(TURTLE_SHORT_SELL_N).min()\n",
    "    stock_df['ROLLING_%d_MAX' % TURTLE_LONG_BUY_N] = stock_df['open'].rolling(TURTLE_LONG_BUY_N).max()\n",
    "    stock_df['ROLLING_%d_MIN' % TURTLE_LONG_SELL_N] = stock_df['open'].rolling(TURTLE_LONG_SELL_N).min()\n",
    "#     stock_df['MA%d' % TURTLE_BUY_N] = stock_df['open'].rolling(TURTLE_BUY_N).mean()\n",
    "#     stock_df['MA%d' % TURTLE_SELL_N] = stock_df['open'].rolling(TURTLE_SELL_N).mean()\n",
    "#     stock_df['EWMA'] = stock_df['open'].ewm(alpha=0.1, adjust=False).mean()\n",
    "    stock_df['MA360'] = stock_df['open'].rolling(360).mean()\n",
    "    stock_df['MA180'] = stock_df['open'].rolling(180).mean()\n",
    "    stock_df['MA60'] = stock_df['open'].rolling(30).mean()\n",
    "    stock_df['MA30'] = stock_df['open'].rolling(30).mean()\n",
    "    \n",
    "#     stock_df['ops'] = ''\n",
    "#     stock_df['profit'] = 0\n",
    "    \n",
    "    # 减少数据\n",
    "    # stock_df = stock_df['2016-01-01':]\n",
    "    stock_df.dropna(how='any', inplace=True)\n",
    "#     stock_df.drop(columns=['volume', 'TR1', 'TR2', 'TR3'], inplace=True)\n",
    "    \n",
    "    stock_df_dict[symbol] = stock_df\n",
    "    \n",
    "#     print(stock_df.head(10))\n",
    "#     print(stock_df.dtypes)\n",
    "#     print(stock_df.index[0])\n",
    "#     print(type(stock_df.index[0]))"
   ]
  },
  {
   "cell_type": "code",
   "execution_count": 5,
   "metadata": {
    "scrolled": false
   },
   "outputs": [],
   "source": [
    "# %matplotlib inline\n",
    "\n",
    "# import matplotlib\n",
    "# import matplotlib.pyplot as plt\n",
    "# plt.rcParams['figure.figsize'] = [30, 20]\n",
    "\n",
    "# df = stock_df_dict['TSLA'].iloc[800:].copy()\n",
    "# df.columns\n",
    "# df.tail(10)\n",
    "# # df[(df.open == df.rolling_60_max)]\n",
    "# # df[(df.open >= df.rolling_60_max) & (df.MA30 > df.MA60)]\n",
    "# # df[(df.MA30 > df.MA60)]\n",
    "\n",
    "# # df = df.loc[:, ['open', 'ROLLING_60_MAX', 'rolling_30_min', 'MA60', 'MA30']]\n",
    "\n",
    "# df.reset_index(drop=False, inplace=True)\n",
    "# df = df.astype(dtype={'date': 'datetime64[ns]'})\n",
    "# df.set_index('date', inplace=True)\n",
    "# # df.index.astype()\n",
    "\n",
    "# display_charts(df, chart_type='stock', kind='line', y=['open', 'ROLLING_60_MAX', 'ROLLING_60_MIN'], figsize=(900, 600), logy=False)\n",
    "\n",
    "# # display_charts(df)\n",
    "\n",
    "# # ax = df.plot(kind='line', y=['open', 'rolling_max', 'rolling_min'], label='', linewidth=1)\n",
    "\n",
    "# # sum_buy_sig_short = 0\n",
    "# # sum_buy_sig_long = 0\n",
    "# # for symbol in NASDAQ100:\n",
    "# #     tdf = stock_df_dict[symbol]\n",
    "# #     buy_sig_short = tdf[(stock_df_dict[symbol].open == stock_df_dict[symbol]['ROLLING_%d_MAX' % TURTLE_SHORT_BUY_N])]\n",
    "# #     buy_sig_long = tdf[(stock_df_dict[symbol].open == stock_df_dict[symbol]['ROLLING_%d_MAX' % TURTLE_LONG_BUY_N])]\n",
    "# #     buy_sig_short_2 = buy_sig_short[buy_sig_short.MA30 >= buy_sig_short.MA180]\n",
    "# #     buy_sig_long_2 = buy_sig_long[buy_sig_long.MA30 >= buy_sig_long.MA180]\n",
    "# # #     print(symbol, len(tdf), len(buy_sig_short), len(buy_sig_short_2), len(buy_sig_long), len(buy_sig_long_2))\n",
    "# #     sum_buy_sig_short += len(buy_sig_short_2)\n",
    "# #     sum_buy_sig_long += len(buy_sig_long_2)\n",
    "# # print(len(stock_df_dict['NDX']), sum_buy_sig_short, sum_buy_sig_long)"
   ]
  },
  {
   "cell_type": "code",
   "execution_count": 6,
   "metadata": {
    "scrolled": false
   },
   "outputs": [
    {
     "data": {
      "text/plain": [
       "('cum_returns', 8.9895352416128329)"
      ]
     },
     "execution_count": 6,
     "metadata": {},
     "output_type": "execute_result"
    },
    {
     "data": {
      "text/plain": [
       "('max_drawdown', -0.5052664511419336, -0.17788401333635892)"
      ]
     },
     "execution_count": 6,
     "metadata": {},
     "output_type": "execute_result"
    },
    {
     "data": {
      "text/plain": [
       "('annual_return', 0.41730875113995158, 0.1772977289508153)"
      ]
     },
     "execution_count": 6,
     "metadata": {},
     "output_type": "execute_result"
    },
    {
     "data": {
      "text/plain": [
       "('annual_volatility', 0.49409444027132127)"
      ]
     },
     "execution_count": 6,
     "metadata": {},
     "output_type": "execute_result"
    },
    {
     "data": {
      "text/plain": [
       "('calmar_ratio', 0.82591818672466355)"
      ]
     },
     "execution_count": 6,
     "metadata": {},
     "output_type": "execute_result"
    },
    {
     "data": {
      "text/plain": [
       "('sharpe_ratio', 0.9520243070179603)"
      ]
     },
     "execution_count": 6,
     "metadata": {},
     "output_type": "execute_result"
    },
    {
     "data": {
      "text/plain": [
       "('alpha', 0.2133404480689456)"
      ]
     },
     "execution_count": 6,
     "metadata": {},
     "output_type": "execute_result"
    },
    {
     "data": {
      "text/plain": [
       "('beta', 1.3307502416215569)"
      ]
     },
     "execution_count": 6,
     "metadata": {},
     "output_type": "execute_result"
    }
   ],
   "source": [
    "algo = stock_df_dict['TSLA'].open.pct_change()\n",
    "benchmark = stock_df_dict['NDX'].open.pct_change()\n",
    "\n",
    "'cum_returns', emp.cum_returns(algo)[-1]\n",
    "'max_drawdown', emp.max_drawdown(algo), emp.max_drawdown(benchmark)\n",
    "'annual_return', emp.annual_return(algo), emp.annual_return(benchmark)\n",
    "'annual_volatility', emp.annual_volatility(algo, period='daily')\n",
    "'calmar_ratio', emp.calmar_ratio(algo)\n",
    "'sharpe_ratio', emp.sharpe_ratio(returns=algo)\n",
    "'alpha', emp.alpha(returns=algo, factor_returns=benchmark, risk_free=0.00)\n",
    "'beta', emp.beta(returns=algo, factor_returns=benchmark, risk_free=0.00)\n",
    "\n",
    "emp_df = None\n",
    "emp_df = pd.DataFrame(columns=[\n",
    "    'symbol', 'cum_returns', 'annual_return', 'annual_volatility', 'max_drawdown', 'alpha', 'beta', 'sharpe_ratio', 'calmar_ratio'\n",
    "])\n",
    "\n",
    "for symbol in NASDAQ100:\n",
    "    algo = stock_df_dict[symbol].open.pct_change()\n",
    "    emp_df = emp_df.append(\n",
    "        {\n",
    "            'symbol': symbol,\n",
    "            'cum_returns': emp.cum_returns(algo)[-1],\n",
    "            'annual_return': emp.annual_return(algo),\n",
    "            'annual_volatility': emp.annual_volatility(algo, period='daily'),\n",
    "            'max_drawdown': emp.max_drawdown(algo),\n",
    "            'alpha': round(emp.alpha(returns=algo, factor_returns=benchmark, risk_free=0.00), 2),\n",
    "            'beta': round(emp.beta(returns=algo, factor_returns=benchmark, risk_free=0.00), 2),\n",
    "            'sharpe_ratio': emp.sharpe_ratio(returns=algo),\n",
    "            'calmar_ratio': emp.calmar_ratio(algo)\n",
    "        },\n",
    "        ignore_index=True,\n",
    "    )\n",
    "\n",
    "# emp_df\n",
    "# emp_df.sort_values('cum_returns', ascending=False)\n",
    "# emp_df.sort_values('sharpe_ratio', ascending=False)"
   ]
  },
  {
   "cell_type": "code",
   "execution_count": 7,
   "metadata": {},
   "outputs": [
    {
     "name": "stdout",
     "output_type": "stream",
     "text": [
      "Wall time: 1 ms\n"
     ]
    }
   ],
   "source": [
    "%%time\n",
    "\n",
    "show_df = None\n",
    "show_df = stock_df_dict['NDX'].copy()"
   ]
  },
  {
   "cell_type": "code",
   "execution_count": 8,
   "metadata": {
    "scrolled": false
   },
   "outputs": [
    {
     "name": "stdout",
     "output_type": "stream",
     "text": [
      "1357.26224\n",
      "0\n",
      "111316.07824\n",
      "NDX 6431.589 7287.053 1.133009743\n",
      "Wall time: 15.1 s\n"
     ]
    }
   ],
   "source": [
    "%%time\n",
    "# %xmode\n",
    "\n",
    "PROPERTY = START_MONEY\n",
    "CASH = START_MONEY\n",
    "\n",
    "order_df = None\n",
    "order_df = pd.DataFrame(columns=[\n",
    "    'buy_date', 'symbol', 'buy_count', 'buy_price', 'buy_reason', 'sell_date', 'sell_price', 'sell_reason', 'profit', 'cash', 'property'\n",
    "])\n",
    "count_day = 0\n",
    "yesterday = None\n",
    "miss_buy_short = 0\n",
    "miss_buy_long = 0\n",
    "\n",
    "for today in pd.period_range(start=start_date, end=end_date, freq='D'):\n",
    "    count_day += 1\n",
    "    \n",
    "    if yesterday is None:\n",
    "        yesterday = today\n",
    "        continue\n",
    "\n",
    "    if today not in stock_df_dict['NDX'].index:\n",
    "        continue\n",
    "\n",
    "    if IS_HAPPYMONEY:        \n",
    "        if PROPERTY > START_MONEY * 2:\n",
    "            HAPPY_MONEY += 50000\n",
    "            PROPERTY -= 50000\n",
    "            CASH = PROPERTY\n",
    "    \n",
    "    # 买卖过程\n",
    "    for symbol in NASDAQ100[:]:\n",
    "#     for symbol in ['TSLA']:\n",
    "        if symbol in ['ALGN', 'ROST', 'ORLY', 'ESRX', 'ULTA', 'REGN', 'MNST']:\n",
    "#             continue\n",
    "            pass\n",
    "\n",
    "        if symbol == 'NDX':\n",
    "            continue\n",
    "        \n",
    "        if today not in stock_df_dict[symbol].index or yesterday not in stock_df_dict[symbol].index:\n",
    "            continue\n",
    "            \n",
    "        # TIME TEST\n",
    "#         print(order_df)\n",
    "#         print(order_df.columns)\n",
    "        \n",
    "#         %timeit (len(order_df[order_df['symbol'] == symbol]) != 0)\n",
    "#         %timeit order_df[order_df['symbol'] == symbol].shape[0] != 0\n",
    "#         %timeit n_order_df = order_df.values\n",
    "#         %timeit len(n_order_df[n_order_df[:, 1] == symbol]) != 0\n",
    "#         %timeit (len(order_df[(order_df['symbol'] == symbol) & (order_df['sell_price'] == 0)]) == 0)\n",
    "\n",
    "\n",
    "#         iiidx = stock_df_dict[symbol].index.get_loc(today)\n",
    "#         print(iiidx, type(iiidx))\n",
    "#         %timeit stock_df_dict[symbol].loc[today]\n",
    "#         %timeit n_stock_df = stock_df_dict[symbol].values\n",
    "#         %timeit n_stock_df[iiidx]\n",
    "        \n",
    "#         %timeit (stock_df_dict[symbol].loc[today, 'open'] >= stock_df_dict[symbol].loc[today, 'rolling_max'])\n",
    "#         %timeit (stock_df_dict[symbol].loc[today, 'open'] >= stock_df_dict[symbol].loc[today, 'rolling_max'])\n",
    "\n",
    "#         %timeit int(stock_df_dict[symbol].shift(1).loc[today, 'Unit'])\n",
    "#         %timeit int(CASH / stock_df_dict[symbol].loc[today, 'open'])\n",
    "#         %timeit buy_count * stock_df_dict[symbol].loc[today, 'open']\n",
    "#         %timeit stock_df_dict[symbol]\n",
    "#         %timeit stock_df_dict[symbol].loc[today, 'open']\n",
    "#         %timeit (stock_df_dict[symbol].loc[today, 'open'] > order_df[(order_df['symbol'] == symbol) & (order_df['sell_price'] == 0)].buy_price.iloc[-1] + 0.5 * stock_df_dict[symbol].shift(1).loc[today, 'N'])\n",
    "        \n",
    "#         n_order_df = order_df.values\n",
    "#         n_stock_df = stock_df_dict[symbol].values\n",
    "#         today_idx = stock_df_dict[symbol].index.get_loc(today)\n",
    "#         is_has_order = (len(n_order_df[n_order_df[:, 1] == symbol]) != 0)\n",
    "#         is_order_soldout = not is_has_order and (len(n_order_df[n_order_df[:, 6] == symbol]) == 0)\n",
    "        \n",
    "#         is_has_order = (len(order_df[order_df['symbol'] == symbol]) != 0)\n",
    "#         is_order_soldout = (len(order_df[(order_df['symbol'] == symbol) & (order_df['sell_price'] == 0)]) == 0)\n",
    "        \n",
    "    \n",
    "#         '''\n",
    "#         'buy_date', 'symbol', 'buy_count', 'buy_price', 'buy_reason', 'sell_date', 'sell_price', 'sell_reason', 'profit', 'cash', 'property'\n",
    "#         stock_df['ROLLING_%d_MAX' % TURTLE_SHORT_BUY_N] = stock_df['open'].rolling(TURTLE_SHORT_BUY_N).max()\n",
    "#         stock_df['ROLLING_%d_MIN' % TURTLE_SHORT_SELL_N] = stock_df['open'].rolling(TURTLE_SHORT_SELL_N).min()\n",
    "#         stock_df['ROLLING_%d_MAX' % TURTLE_LONG_BUY_N] = stock_df['open'].rolling(TURTLE_LONG_BUY_N).max()\n",
    "#         stock_df['ROLLING_%d_MIN' % TURTLE_LONG_SELL_N] = stock_df['open'].rolling(TURTLE_LONG_SELL_N).min()\n",
    "#         '''\n",
    "\n",
    "        today_market = stock_df_dict[symbol].loc[today]\n",
    "        \n",
    "        # 突破下行趋势，清仓退出\n",
    "        order_arr = order_df.to_records(index=False)\n",
    "        if len(order_arr[(order_arr.symbol == symbol) & (order_arr.sell_price == 0)] ) != 0:\n",
    "            is_sell = False\n",
    "            for idx in order_df[(order_df['symbol'] == symbol) & (order_df['sell_price'] == 0)].index:\n",
    "                cur_order = order_df.loc[idx]\n",
    "                if cur_order.buy_reason == 'SHORT':\n",
    "                    is_sell = (today_market.open <= today_market['ROLLING_%d_MIN' % TURTLE_SHORT_SELL_N])\n",
    "                if cur_order.buy_reason == 'LONG':\n",
    "                    is_sell = (today_market.open <= today_market['ROLLING_%d_MIN' % TURTLE_LONG_SELL_N])\n",
    "                if is_sell:\n",
    "                    CASH += cur_order.buy_count * today_market.open\n",
    "                    order_df.loc[idx, 'sell_date'] = today\n",
    "                    order_df.loc[idx, 'sell_price'] = today_market.open\n",
    "                    order_df.loc[idx, 'sell_reason'] = 'EXIT'\n",
    "                    order_df.loc[idx, 'profit'] = \\\n",
    "                        (today_market.open - cur_order.buy_price) * cur_order.buy_count\n",
    "#                 print(today, '退出', stock_df_dict[symbol].loc[today, 'open'], CASH)\n",
    "\n",
    "\n",
    "        # 突破上行趋势，就买一份\n",
    "        order_arr = order_df.to_records(index=False)\n",
    "        if today_market.MA60 >= today_market.MA180:\n",
    "#         if today_market.MA30 >= today_market.MA180:\n",
    "            is_buy = False\n",
    "            if today_market.open >= today_market['ROLLING_%d_MAX' % TURTLE_LONG_BUY_N]:\n",
    "                is_buy = True\n",
    "                buy_reason = 'LONG'\n",
    "            elif False and today_market.open >= today_market['ROLLING_%d_MAX' % TURTLE_SHORT_BUY_N]:\n",
    "                is_buy = True\n",
    "                buy_reason = 'SHORT'\n",
    "            if is_buy:\n",
    "                buy_count = 0\n",
    "                \n",
    "                if IS_SLIPPAGE:\n",
    "                    buy_price = today_market.open * (1 + random.randint(0, 20) / 1000)\n",
    "                else:\n",
    "                    buy_price = today_market.open\n",
    "\n",
    "                if CASH >= START_MONEY / TURTLE_POS:\n",
    "                    buy_count = int((START_MONEY / TURTLE_POS) / buy_price)\n",
    "                \n",
    "                if IS_RANDOM_BUY:\n",
    "                    if random.randint(0, 100) > 50:\n",
    "                        buy_count = 0\n",
    "\n",
    "                if buy_count > 0:\n",
    "                    CASH -= buy_count * buy_price\n",
    "#                     print(today, '建仓', buy_count, stock_df_dict[symbol].loc[today, 'open'], CASH)\n",
    "                    order_df = order_df.append(\n",
    "                        {\n",
    "                            'buy_date': today,\n",
    "                            'symbol': symbol,\n",
    "                            'buy_count': buy_count,\n",
    "                            'buy_price': today_market.open,\n",
    "                            'buy_reason': buy_reason,\n",
    "                            'sell_date': pd.np.nan,\n",
    "                            'sell_price': 0,\n",
    "                            'profit': 0,\n",
    "                            'cash': CASH,\n",
    "                            'property': PROPERTY,\n",
    "                        },\n",
    "                        ignore_index=True\n",
    "                    )\n",
    "                else:\n",
    "                    if buy_reason == 'LONG':\n",
    "                        miss_buy_long += 1\n",
    "                    elif buy_reason == 'SHORT':\n",
    "                        miss_buy_short += 1\n",
    "            \n",
    "    # 每天盘点财产\n",
    "    show_df.loc[today, 'CASH_TURTLE_%d_%d_%d' % (TURTLE_POS, TURTLE_LONG_BUY_N, TURTLE_LONG_SELL_N)] = CASH\n",
    "    PROPERTY = CASH + \\\n",
    "        sum(\n",
    "            [\n",
    "                stock_df_dict[order_df.loc[idx, 'symbol']][:today].iloc[-1].open * order_df.loc[idx, 'buy_count'] \\\n",
    "                for idx in order_df.loc[order_df['sell_price']==0].index\n",
    "            ]\n",
    "        )\n",
    "    show_df.loc[today, 'PROPERTY_TURTLE_%d_%d_%d' % (TURTLE_POS, TURTLE_LONG_BUY_N, TURTLE_LONG_SELL_N)] = PROPERTY\n",
    "\n",
    "    yesterday = today\n",
    "            \n",
    "\n",
    "print(CASH)\n",
    "print(HAPPY_MONEY)\n",
    "print(PROPERTY)\n",
    "\n",
    "s_p = stock_df_dict['NDX'][start_date:].iloc[0].open\n",
    "e_p = stock_df_dict['NDX'].iloc[-1].open\n",
    "print('NDX', s_p, e_p, e_p / s_p)\n"
   ]
  },
  {
   "cell_type": "code",
   "execution_count": 9,
   "metadata": {
    "scrolled": false
   },
   "outputs": [
    {
     "data": {
      "text/plain": [
       "'ALL'"
      ]
     },
     "execution_count": 9,
     "metadata": {},
     "output_type": "execute_result"
    },
    {
     "data": {
      "text/plain": [
       "('start_date', '2018-01-01')"
      ]
     },
     "execution_count": 9,
     "metadata": {},
     "output_type": "execute_result"
    },
    {
     "data": {
      "text/plain": [
       "('end_date', '2018-12-31')"
      ]
     },
     "execution_count": 9,
     "metadata": {},
     "output_type": "execute_result"
    },
    {
     "data": {
      "text/plain": [
       "('TURTLE_POS', 20)"
      ]
     },
     "execution_count": 9,
     "metadata": {},
     "output_type": "execute_result"
    },
    {
     "data": {
      "text/plain": [
       "('TURTLE_SHORT_BUY_N', 20)"
      ]
     },
     "execution_count": 9,
     "metadata": {},
     "output_type": "execute_result"
    },
    {
     "data": {
      "text/plain": [
       "('TURTLE_SHORT_SELL_N', 20)"
      ]
     },
     "execution_count": 9,
     "metadata": {},
     "output_type": "execute_result"
    },
    {
     "data": {
      "text/plain": [
       "('TURTLE_LONG_BUY_N', 60)"
      ]
     },
     "execution_count": 9,
     "metadata": {},
     "output_type": "execute_result"
    },
    {
     "data": {
      "text/plain": [
       "('TURTLE_LONG_SELL_N', 60)"
      ]
     },
     "execution_count": 9,
     "metadata": {},
     "output_type": "execute_result"
    },
    {
     "data": {
      "text/plain": [
       "('IS_HAPPYMONEY', False)"
      ]
     },
     "execution_count": 9,
     "metadata": {},
     "output_type": "execute_result"
    },
    {
     "data": {
      "text/plain": [
       "('IS_TAX', False)"
      ]
     },
     "execution_count": 9,
     "metadata": {},
     "output_type": "execute_result"
    },
    {
     "data": {
      "text/plain": [
       "('IS_SLIPPAGE', True)"
      ]
     },
     "execution_count": 9,
     "metadata": {},
     "output_type": "execute_result"
    },
    {
     "data": {
      "text/plain": [
       "('IS_RANDOM_BUY', True)"
      ]
     },
     "execution_count": 9,
     "metadata": {},
     "output_type": "execute_result"
    },
    {
     "data": {
      "text/plain": [
       "('START_MONEY', 100000)"
      ]
     },
     "execution_count": 9,
     "metadata": {},
     "output_type": "execute_result"
    },
    {
     "data": {
      "text/plain": [
       "('len(order_df)', 31)"
      ]
     },
     "execution_count": 9,
     "metadata": {},
     "output_type": "execute_result"
    },
    {
     "data": {
      "text/plain": [
       "('sum_profit', -4595.9100000000008)"
      ]
     },
     "execution_count": 9,
     "metadata": {},
     "output_type": "execute_result"
    },
    {
     "data": {
      "text/plain": [
       "('sum_tax', 0)"
      ]
     },
     "execution_count": 9,
     "metadata": {},
     "output_type": "execute_result"
    },
    {
     "data": {
      "text/plain": [
       "('win rate', 0.08333333333333333)"
      ]
     },
     "execution_count": 9,
     "metadata": {},
     "output_type": "execute_result"
    },
    {
     "data": {
      "text/plain": [
       "('len(order_df[order_df.profit != 0])', 12)"
      ]
     },
     "execution_count": 9,
     "metadata": {},
     "output_type": "execute_result"
    },
    {
     "data": {
      "text/plain": [
       "('len(order_df[order_df.profit > 0])', 1)"
      ]
     },
     "execution_count": 9,
     "metadata": {},
     "output_type": "execute_result"
    },
    {
     "data": {
      "text/plain": [
       "('order LONG', 31)"
      ]
     },
     "execution_count": 9,
     "metadata": {},
     "output_type": "execute_result"
    },
    {
     "data": {
      "text/plain": [
       "1"
      ]
     },
     "execution_count": 9,
     "metadata": {},
     "output_type": "execute_result"
    },
    {
     "data": {
      "text/plain": [
       "-4595.9100000000008"
      ]
     },
     "execution_count": 9,
     "metadata": {},
     "output_type": "execute_result"
    },
    {
     "data": {
      "text/plain": [
       "('order SHORT', 0)"
      ]
     },
     "execution_count": 9,
     "metadata": {},
     "output_type": "execute_result"
    },
    {
     "data": {
      "text/plain": [
       "0"
      ]
     },
     "execution_count": 9,
     "metadata": {},
     "output_type": "execute_result"
    },
    {
     "data": {
      "text/plain": [
       "0"
      ]
     },
     "execution_count": 9,
     "metadata": {},
     "output_type": "execute_result"
    },
    {
     "data": {
      "text/plain": [
       "('cum_returns', 0.1131607824000016, 0.13300974300441415)"
      ]
     },
     "execution_count": 9,
     "metadata": {},
     "output_type": "execute_result"
    },
    {
     "data": {
      "text/plain": [
       "('max_drawdown', -0.11539989300570139, -0.11791455209402121)"
      ]
     },
     "execution_count": 9,
     "metadata": {},
     "output_type": "execute_result"
    },
    {
     "data": {
      "text/plain": [
       "('annual_return', 0.22902794219143341, 0.27153206374216188)"
      ]
     },
     "execution_count": 9,
     "metadata": {},
     "output_type": "execute_result"
    },
    {
     "data": {
      "text/plain": [
       "('annual_volatility', 0.19317901713301758)"
      ]
     },
     "execution_count": 9,
     "metadata": {},
     "output_type": "execute_result"
    },
    {
     "data": {
      "text/plain": [
       "('calmar_ratio', 1.9846460531823731)"
      ]
     },
     "execution_count": 9,
     "metadata": {},
     "output_type": "execute_result"
    },
    {
     "data": {
      "text/plain": [
       "('sharpe_ratio', 1.1721946894947268)"
      ]
     },
     "execution_count": 9,
     "metadata": {},
     "output_type": "execute_result"
    },
    {
     "data": {
      "text/plain": [
       "('alpha', 0.017986573497475372)"
      ]
     },
     "execution_count": 9,
     "metadata": {},
     "output_type": "execute_result"
    },
    {
     "data": {
      "text/plain": [
       "('beta', 0.7835840452081952)"
      ]
     },
     "execution_count": 9,
     "metadata": {},
     "output_type": "execute_result"
    },
    {
     "data": {
      "text/plain": [
       "('ALL DAY', 131)"
      ]
     },
     "execution_count": 9,
     "metadata": {},
     "output_type": "execute_result"
    },
    {
     "data": {
      "text/plain": [
       "'CASH_TURTLE_20_60_60'"
      ]
     },
     "execution_count": 9,
     "metadata": {},
     "output_type": "execute_result"
    },
    {
     "data": {
      "text/plain": [
       "'PROPERTY_TURTLE_20_60_60'"
      ]
     },
     "execution_count": 9,
     "metadata": {},
     "output_type": "execute_result"
    },
    {
     "data": {
      "text/plain": [
       "('CASH NOT USED DAY', 26)"
      ]
     },
     "execution_count": 9,
     "metadata": {},
     "output_type": "execute_result"
    },
    {
     "data": {
      "text/plain": [
       "('MISS_BUY_SIGNAL_LONG', 908)"
      ]
     },
     "execution_count": 9,
     "metadata": {},
     "output_type": "execute_result"
    },
    {
     "data": {
      "text/plain": [
       "('MISS_BUY_SIGNAL_SHORT', 0)"
      ]
     },
     "execution_count": 9,
     "metadata": {},
     "output_type": "execute_result"
    }
   ],
   "source": [
    "'ALL'\n",
    "'start_date', start_date\n",
    "'end_date', end_date\n",
    "'TURTLE_POS', TURTLE_POS\n",
    "'TURTLE_SHORT_BUY_N', TURTLE_SHORT_BUY_N\n",
    "'TURTLE_SHORT_SELL_N', TURTLE_SHORT_SELL_N\n",
    "'TURTLE_LONG_BUY_N', TURTLE_LONG_BUY_N\n",
    "'TURTLE_LONG_SELL_N', TURTLE_LONG_SELL_N\n",
    "'IS_HAPPYMONEY', IS_HAPPYMONEY\n",
    "'IS_TAX', IS_TAX\n",
    "'IS_SLIPPAGE', IS_SLIPPAGE\n",
    "'IS_RANDOM_BUY', IS_RANDOM_BUY\n",
    "'START_MONEY', START_MONEY\n",
    "\n",
    "'len(order_df)', len(order_df)\n",
    "sum_profit = sum(list(order_df['profit']))\n",
    "'sum_profit', sum_profit\n",
    "# sum_tax = sum(list(order_df_TB['tax']))\n",
    "sum_tax = 0\n",
    "'sum_tax', sum_tax\n",
    "'win rate', len(order_df[order_df.profit > 0]) / len(order_df[order_df.profit != 0])\n",
    "# 'REWARD', ((sum_profit - sum_tax) / START_MONEY + 1) ** (365 / count_day)\n",
    "'len(order_df[order_df.profit != 0])', len(order_df[order_df.profit != 0])\n",
    "'len(order_df[order_df.profit > 0])', len(order_df[order_df.profit > 0])\n",
    "'order LONG', len(order_df[order_df.buy_reason == 'LONG'])\n",
    "len(order_df[(order_df.buy_reason == 'LONG') & (order_df.profit > 0)])\n",
    "sum(list(order_df[order_df.buy_reason == 'LONG']['profit']))\n",
    "'order SHORT', len(order_df[order_df.buy_reason == 'SHORT'])\n",
    "len(order_df[(order_df.buy_reason == 'SHORT') & (order_df.profit > 0)])\n",
    "sum(list(order_df[order_df.buy_reason == 'SHORT']['profit']))\n",
    "\n",
    "# order_df\n",
    "# order_df.loc[order_df['sell_price']==0]\n",
    "\n",
    "calc_df = order_df.copy()\n",
    "calc_df['profit_pct'] = calc_df['profit'] / (calc_df['buy_count'] * calc_df['buy_price'])\n",
    "# calc_df[calc_df.symbol == 'BIDU']\n",
    "# calc_df[calc_df.profit > 0]\n",
    "# calc_df\n",
    "\n",
    "# order_df[order_df.profit > 0]\n",
    "\n",
    "# csv_file = 'E:/Dev/result/T_TURTLE_POS%d_TURTLE_BUY_N%d_TURTLE_SELL_N%d_START_MONEY%d_%s_%s.csv' % \\\n",
    "#     (TURTLE_POS, TURTLE_BUY_N, TURTLE_SELL_N, START_MONEY, start_date, end_date)\n",
    "# calc_df.to_csv(csv_file)\n",
    "\n",
    "# list(show_df.dropna(how='any', inplace=False).PROPERTY_TURTLE_20_60_60.apply(int).tail(50))\n",
    "# list(show_df.open.apply(int).tail(50))\n",
    "\n",
    "df = show_df.dropna(how='any', inplace=False).copy()\n",
    "algo = df['PROPERTY_TURTLE_%d_%d_%d' % (TURTLE_POS, TURTLE_LONG_BUY_N, TURTLE_LONG_SELL_N)].pct_change()\n",
    "benchmark = df.open.pct_change()\n",
    "\n",
    "'cum_returns', emp.cum_returns(algo)[-1], emp.cum_returns(benchmark)[-1]\n",
    "'max_drawdown', emp.max_drawdown(algo), emp.max_drawdown(benchmark)\n",
    "'annual_return', emp.annual_return(algo), emp.annual_return(benchmark)\n",
    "'annual_volatility', emp.annual_volatility(algo, period='daily')\n",
    "'calmar_ratio', emp.calmar_ratio(algo)\n",
    "'sharpe_ratio', emp.sharpe_ratio(returns=algo)\n",
    "'alpha', emp.alpha(returns=algo, factor_returns=benchmark, risk_free=0.00)\n",
    "'beta', emp.beta(returns=algo, factor_returns=benchmark, risk_free=0.00)\n",
    "\n",
    "'ALL DAY', len(df)\n",
    "'CASH_TURTLE_%d_%d_%d' % (TURTLE_POS, TURTLE_LONG_BUY_N, TURTLE_LONG_SELL_N)\n",
    "'PROPERTY_TURTLE_%d_%d_%d' % (TURTLE_POS, TURTLE_LONG_BUY_N, TURTLE_LONG_SELL_N)\n",
    "'CASH NOT USED DAY', \\\n",
    "    len(df[df['CASH_TURTLE_%d_%d_%d' % (TURTLE_POS, TURTLE_LONG_BUY_N, TURTLE_LONG_SELL_N)] > \\\n",
    "           df['PROPERTY_TURTLE_%d_%d_%d' % (TURTLE_POS, TURTLE_LONG_BUY_N, TURTLE_LONG_SELL_N)] / TURTLE_POS])\n",
    "'MISS_BUY_SIGNAL_LONG', miss_buy_long\n",
    "'MISS_BUY_SIGNAL_SHORT', miss_buy_short"
   ]
  },
  {
   "cell_type": "code",
   "execution_count": 10,
   "metadata": {
    "scrolled": true
   },
   "outputs": [
    {
     "data": {
      "text/plain": [
       "76"
      ]
     },
     "execution_count": 10,
     "metadata": {},
     "output_type": "execute_result"
    }
   ],
   "source": [
    "bad_stock_cnt = 0\n",
    "s_p = stock_df_dict['NDX'][start_date:].iloc[0].open\n",
    "e_p = stock_df_dict['NDX'].iloc[-1].open\n",
    "benchmark_return = e_p / s_p\n",
    "for symbol, stock_df in stock_df_dict.items():\n",
    "    df = stock_df.loc[start_date:end_date, 'close']\n",
    "#     print(df)\n",
    "    s_p = df.head(1).values\n",
    "    e_p = df.tail(1).values\n",
    "#     print(symbol, s_p, e_p, e_p / s_p)\n",
    "    if e_p / s_p < benchmark_return:\n",
    "        bad_stock_cnt += 1\n",
    "bad_stock_cnt\n"
   ]
  },
  {
   "cell_type": "code",
   "execution_count": 11,
   "metadata": {
    "scrolled": false
   },
   "outputs": [],
   "source": [
    "%matplotlib inline\n",
    "\n",
    "import sys\n",
    "import matplotlib\n",
    "import matplotlib.pyplot as plt\n",
    "plt.rcParams['figure.figsize'] = [15, 10]\n",
    "\n",
    "# order_df_TB\n",
    "bar_df = order_df.copy()\n",
    "df = bar_df.sort_values(by=['profit'])\n",
    "# df\n",
    "\n",
    "bins = [100 * x for x in range(-200, 500)]\n",
    "# bins\n",
    "\n",
    "cats = pd.cut(df['profit'], bins)\n",
    "# cats\n",
    "\n",
    "def get_stats(group):\n",
    "    return {'count': group.count()}\n",
    "\n",
    "grouped = df['profit'].groupby(cats)\n",
    "bin_counts = grouped.apply(get_stats).unstack()\n",
    "bin_counts.reset_index(inplace=True, drop=False)\n",
    "bin_counts['profit'] = bin_counts['profit'].apply(str)\n",
    "# bin_counts\n",
    "\n",
    "# df['profit'].hist(bins=10)\n",
    "\n",
    "# bin_counts.plot(kind='barh', alpha=0.5, rot=0)\n",
    "\n",
    "# display_charts(bin_counts, kind='bar', x='profit', figsize=(900, 600), logy=True)"
   ]
  },
  {
   "cell_type": "code",
   "execution_count": 12,
   "metadata": {
    "scrolled": false
   },
   "outputs": [
    {
     "data": {
      "text/plain": [
       "Index(['open', 'high', 'low', 'close', 'volume', 'o_pct_chg', 'ROLLING_20_MAX',\n",
       "       'ROLLING_20_MIN', 'ROLLING_60_MAX', 'ROLLING_60_MIN', 'MA360', 'MA180',\n",
       "       'MA60', 'MA30', 'CASH_TURTLE_20_60_60', 'PROPERTY_TURTLE_20_60_60'],\n",
       "      dtype='object')"
      ]
     },
     "execution_count": 12,
     "metadata": {},
     "output_type": "execute_result"
    },
    {
     "data": {
      "image/png": "[encoded data removed]",
      "text/plain": [
       "<matplotlib.figure.Figure at 0xc8c74d0>"
      ]
     },
     "metadata": {},
     "output_type": "display_data"
    }
   ],
   "source": [
    "%matplotlib inline\n",
    "\n",
    "import matplotlib\n",
    "import matplotlib.pyplot as plt\n",
    "plt.rcParams['figure.figsize'] = [15, 10]\n",
    "\n",
    "df = show_df.dropna(how='any', inplace=False).copy()\n",
    "# df.drop(columns=['open', 'high', 'low', 'o_pct_chg', 'TR', 'N'], inplace=True)\n",
    "df.columns\n",
    "\n",
    "df['close'] = (df['close'] - df.iloc[0]['close']) / df.iloc[0]['close']\n",
    "ax = df.plot(kind='line', y='close', label='NDX_%.2f' % df.iloc[-1]['close'], linewidth=1, grid=True)\n",
    "for col in sorted(df.columns):\n",
    "    if 'PROPERTY' in col:\n",
    "        df[col] = (df[col] - df.iloc[1][col]) / df.iloc[0][col]\n",
    "        ax = df.plot(kind='line', y=col, secondary_y=False, label='%s_%.2f' % (col, df.iloc[-1][col]), linewidth=1, grid=True, ax=ax)\n",
    "\n",
    "# display_charts(df, kind='line', figsize=(900, 600), logy=False)"
   ]
  }
 ],
 "metadata": {
  "kernelspec": {
   "display_name": "Python 3",
   "language": "python",
   "name": "python3"
  },
  "language_info": {
   "codemirror_mode": {
    "name": "ipython",
    "version": 3
   },
   "file_extension": ".py",
   "mimetype": "text/x-python",
   "name": "python",
   "nbconvert_exporter": "python",
   "pygments_lexer": "ipython3",
   "version": "3.6.1"
  }
 },
 "nbformat": 4,
 "nbformat_minor": 2
}
