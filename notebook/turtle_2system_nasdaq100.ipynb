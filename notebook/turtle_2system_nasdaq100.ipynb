{
 "cells": [
  {
   "cell_type": "code",
   "execution_count": 1,
   "metadata": {
    "scrolled": true
   },
   "outputs": [
    {
     "data": {
      "text/html": [
       "\n",
       "<script src=\"//code.highcharts.com/stock/highstock.js\"></script>\n",
       "<script src=\"//code.highcharts.com/highcharts-more.js\"></script>\n",
       "<script src=\"//code.highcharts.com/modules/exporting.js\"></script>\n"
      ],
      "text/plain": [
       "<IPython.core.display.HTML object>"
      ]
     },
     "metadata": {},
     "output_type": "display_data"
    },
    {
     "data": {
      "text/plain": [
       "<module 'pandas' from 'd:\\\\python3\\\\lib\\\\site-packages\\\\pandas\\\\__init__.py'>"
      ]
     },
     "execution_count": 1,
     "metadata": {},
     "output_type": "execute_result"
    }
   ],
   "source": [
    "import os\n",
    "import sys\n",
    "sys.path.append(os.path.abspath(os.path.join(os.getcwd(), '..')))\n",
    "\n",
    "import pandas as pd\n",
    "import empyrical as emp\n",
    "import time\n",
    "import random\n",
    "# from concurrent.futures import ProcessPoolExecutor\n",
    "\n",
    "from common.log import *\n",
    "from common.config import Config\n",
    "from spider.spider_nasdaq import Spider_nasdaq\n",
    "\n",
    "from IPython.core.interactiveshell import InteractiveShell\n",
    "InteractiveShell.ast_node_interactivity = 'all'\n",
    "\n",
    "from pandas_highcharts.core import serialize\n",
    "from pandas_highcharts.display import display_charts\n",
    "\n",
    "CONF = Config().data[0]\n",
    "MONGODB = CONF['MONGODB']\n",
    "NASDAQ = CONF['NASDAQ']\n",
    "CRYPTOCURRENCY = CONF['CRYPTOCURRENCY']\n",
    "NASDAQ100 = CONF['NASDAQ100']\n",
    "\n",
    "pd"
   ]
  },
  {
   "cell_type": "code",
   "execution_count": 2,
   "metadata": {
    "scrolled": false
   },
   "outputs": [
    {
     "name": "stdout",
     "output_type": "stream",
     "text": [
      "Wall time: 0 ns\n"
     ]
    }
   ],
   "source": [
    "%%time\n",
    "\n",
    "spider = Spider_nasdaq()\n",
    "timeframe = '10y'\n",
    "ignore = True\n",
    "\n",
    "# for symbol in NASDAQ100:\n",
    "for symbol in ['NDX', 'TSLA']:\n",
    "#     if symbol == 'SHPG':\n",
    "#         ignore = False\n",
    "#     if ignore:\n",
    "#         continue\n",
    "#     datafile = spider.get_stock_data(symbol, timeframe)\n",
    "#     print(datafile)\n",
    "    pass"
   ]
  },
  {
   "cell_type": "code",
   "execution_count": 3,
   "metadata": {},
   "outputs": [
    {
     "name": "stdout",
     "output_type": "stream",
     "text": [
      "Wall time: 0 ns\n"
     ]
    }
   ],
   "source": [
    "%%time\n",
    "\n",
    "### 时间设置\n",
    "start_date = '2008-06-02'\n",
    "# start_date = '2010-01-01'\n",
    "# start_date = '2015-01-01'\n",
    "# start_date = '2017-01-03'\n",
    "# start_date = '2018-01-01'\n",
    "end_date = '2018-06-06'\n",
    "\n",
    "TURTLE_POS = 20\n",
    "### Turtle System One - Short\n",
    "TURTLE_SHORT_BUY_N = 20\n",
    "TURTLE_SHORT_SELL_N = 20\n",
    "### Turtle System Two - Long\n",
    "TURTLE_LONG_BUY_N = 60\n",
    "TURTLE_LONG_SELL_N = 60\n",
    "\n",
    "### 业务设置\n",
    "IS_HAPPYMONEY = False\n",
    "IS_TAX = False\n",
    "IS_SLIPPAGE = True\n",
    "IS_RANDOM_BUY = True\n",
    "START_MONEY = 10000\n",
    "HAPPY_MONEY = 0\n",
    "PROPERTY = START_MONEY\n",
    "CASH = START_MONEY\n"
   ]
  },
  {
   "cell_type": "code",
   "execution_count": 4,
   "metadata": {},
   "outputs": [
    {
     "name": "stdout",
     "output_type": "stream",
     "text": [
      "Wall time: 51.8 s\n"
     ]
    }
   ],
   "source": [
    "%%time\n",
    "\n",
    "stock_df_dict = {}\n",
    "\n",
    "for symbol in NASDAQ100[:]:\n",
    "    stock_data_file = '../database/market/%s.csv' % symbol\n",
    "    stock_df = pd.read_csv(stock_data_file)\n",
    "\n",
    "    # 筛选字段\n",
    "#     stock_df = stock_df.loc[:, ['date', 'open', 'close']]\n",
    "\n",
    "    # 去掉Nasdaq行情首行的当天行情\n",
    "    if symbol in NASDAQ:\n",
    "        stock_df = stock_df.drop([0])\n",
    "\n",
    "    # 抛弃空值异常值\n",
    "    stock_df.dropna(axis=0, how='any', inplace=True)\n",
    "\n",
    "    # 格式化日期\n",
    "    # 1.48 s ± 45.8 ms per loop (mean ± std. dev. of 7 runs, 1 loop each)\n",
    "#     stock_df['date'] = stock_df['date'].apply(lambda x: pd.Period(x, freq='D'))\n",
    "\n",
    "    # 445 ms ± 17.5 ms per loop (mean ± std. dev. of 7 runs, 1 loop each)\n",
    "    stock_df = stock_df.assign(date=pd.to_datetime(stock_df['date']))  # need .index.to_period('D')\n",
    "\n",
    "    # 476 ms ± 46.6 ms per loop (mean ± std. dev. of 7 runs, 1 loop each)\n",
    "#     stock_df['date'] = pd.to_datetime(stock_df['date'])  # need .index.to_period('D')\n",
    "    \n",
    "    # 转换字段格式\n",
    "#     stock_df = stock_df.astype(dtype={'volume': 'float64'})\n",
    "\n",
    "    # 用日期作索引，日期升序排序\n",
    "    # 95.1 µs ± 1.58 µs per loop (mean ± std. dev. of 7 runs, 10000 loops each)\n",
    "    stock_df = stock_df[::-1]\n",
    "    \n",
    "    # 407 µs ± 5.07 µs per loop (mean ± std. dev. of 7 runs, 1000 loops each)\n",
    "#     %timeit stock_df.set_index(['date'], inplace=False)\n",
    "\n",
    "    # Wall time: 500 µs\n",
    "    stock_df.set_index(['date'], inplace=True)\n",
    "    \n",
    "    # 305 µs ± 2.75 µs per loop (mean ± std. dev. of 7 runs, 1000 loops each)\n",
    "#     stock_df = stock_df.sort_index(axis=0, ascending=True)\n",
    "    \n",
    "    # 822 µs ± 41.3 µs per loop (mean ± std. dev. of 7 runs, 1000 loops each)\n",
    "    stock_df.index = stock_df.index.to_period('D')\n",
    "\n",
    "    # 计算涨跌幅\n",
    "#     stock_df['c_pct_chg'] = stock_df.close.pct_change(1)\n",
    "    stock_df['o_pct_chg'] = stock_df.open.pct_change(1)\n",
    "    \n",
    "    # Turtle指标\n",
    "#     stock_df['TR1'] = abs(stock_df['high'] - stock_df['low'])\n",
    "#     stock_df['TR2'] = abs(stock_df['high'] - stock_df['close'].shift())\n",
    "#     stock_df['TR3'] = abs(stock_df['low'] - stock_df['close'].shift())\n",
    "#     stock_df['TR'] = stock_df[['TR1', 'TR2', 'TR3']].max(axis=1)\n",
    "#     stock_df['N'] = stock_df['TR'].rolling(20).mean()\n",
    "#     stock_df['UNIT'] = (0.01 * START_MONEY) / (stock_df['N'])\n",
    "    stock_df['ROLLING_%d_MAX' % TURTLE_SHORT_BUY_N] = stock_df['open'].rolling(TURTLE_SHORT_BUY_N).max()\n",
    "    stock_df['ROLLING_%d_MIN' % TURTLE_SHORT_SELL_N] = stock_df['open'].rolling(TURTLE_SHORT_SELL_N).min()\n",
    "    stock_df['ROLLING_%d_MAX' % TURTLE_LONG_BUY_N] = stock_df['open'].rolling(TURTLE_LONG_BUY_N).max()\n",
    "    stock_df['ROLLING_%d_MIN' % TURTLE_LONG_SELL_N] = stock_df['open'].rolling(TURTLE_LONG_SELL_N).min()\n",
    "#     stock_df['MA%d' % TURTLE_BUY_N] = stock_df['open'].rolling(TURTLE_BUY_N).mean()\n",
    "#     stock_df['MA%d' % TURTLE_SELL_N] = stock_df['open'].rolling(TURTLE_SELL_N).mean()\n",
    "#     stock_df['EWMA'] = stock_df['open'].ewm(alpha=0.1, adjust=False).mean()\n",
    "    stock_df['MA360'] = stock_df['open'].rolling(360).mean()\n",
    "    stock_df['MA180'] = stock_df['open'].rolling(180).mean()\n",
    "    stock_df['MA60'] = stock_df['open'].rolling(30).mean()\n",
    "    stock_df['MA30'] = stock_df['open'].rolling(30).mean()\n",
    "    \n",
    "#     stock_df['ops'] = ''\n",
    "#     stock_df['profit'] = 0\n",
    "    \n",
    "    # 减少数据\n",
    "    # stock_df = stock_df['2016-01-01':]\n",
    "    stock_df.dropna(how='any', inplace=True)\n",
    "#     stock_df.drop(columns=['volume', 'TR1', 'TR2', 'TR3'], inplace=True)\n",
    "    \n",
    "    stock_df_dict[symbol] = stock_df\n",
    "    \n",
    "#     print(stock_df.head(10))\n",
    "#     print(stock_df.dtypes)\n",
    "#     print(stock_df.index[0])\n",
    "#     print(type(stock_df.index[0]))"
   ]
  },
  {
   "cell_type": "code",
   "execution_count": 5,
   "metadata": {
    "scrolled": false
   },
   "outputs": [],
   "source": [
    "# %matplotlib inline\n",
    "\n",
    "# import matplotlib\n",
    "# import matplotlib.pyplot as plt\n",
    "# plt.rcParams['figure.figsize'] = [30, 20]\n",
    "\n",
    "# df = stock_df_dict['HAS'].iloc[0:800].copy()\n",
    "# df\n",
    "# # df[(df.open == df.rolling_60_max)]\n",
    "# # df[(df.open >= df.rolling_60_max) & (df.MA30 > df.MA60)]\n",
    "# # df[(df.MA30 > df.MA60)]\n",
    "\n",
    "# df = df.loc[:, ['open', 'rolling_60_max', 'rolling_30_min', 'MA60', 'MA30']]\n",
    "\n",
    "# df.reset_index(drop=False, inplace=True)\n",
    "# df = df.astype(dtype={'date': 'datetime64[ns]'})\n",
    "# df.set_index('date', inplace=True)\n",
    "# df.index.astype()\n",
    "\n",
    "# from pandas.compat import StringIO\n",
    "# data = \"\"\"Date,Value\\n2019-12-31,1.7\\n2018-12-31,1.7\\n2017-12-31,1.7\\n2016-12-31,1.5\\n2015-12-31,1.247\\n2014-12-31,0.896\\n2013-12-31,1.601\\n2012-12-31,2.13\\n2011-12-31,2.498\\n2010-12-31,1.158\\n2009-12-31,0.226\\n2008-12-31,2.738\\n2007-12-31,2.285\\n2006-12-31,1.784\\n2005-12-31,1.92\\n2004-12-31,1.799\\n2003-12-31,1.022\\n2002-12-31,1.346\\n2001-12-31,1.904\\n2000-12-31,1.418\\n1999-12-31,0.626\\n1998-12-31,0.593\\n1997-12-31,1.542\\n1996-12-31,1.19\\n1995-12-31,1.733\\n1994-12-31,2.717\\n1993-12-31,4.476\\n1992-12-31,5.046\\n1991-12-31,3.474\\n1990-12-31,2.687\\n1989-12-31,2.778\\n1988-12-31,1.274\\n1987-12-31,0.242\\n1986-12-31,-0.125\\n1985-12-31,2.084\\n1984-12-31,2.396\\n1983-12-31,3.284\\n1982-12-31,5.256\\n1981-12-31,6.324\\n1980-12-31,5.447\\n\"\"\"\n",
    "# df = pd.read_csv(StringIO(data), index_col=0, parse_dates=True)\n",
    "# # df\n",
    "# df.index\n",
    "\n",
    "# display_charts(df, chart_type='stock', kind='line', y=['open', 'rolling_max', 'rolling_min'], figsize=(900, 600), logy=False)\n",
    "\n",
    "# display_charts(df)\n",
    "# ax = df.plot(kind='line', y=['open', 'rolling_max', 'rolling_min'], label='', linewidth=1)\n",
    "\n",
    "# sum_buy_sig_short = 0\n",
    "# sum_buy_sig_long = 0\n",
    "# for symbol in NASDAQ100:\n",
    "#     tdf = stock_df_dict[symbol]\n",
    "#     buy_sig_short = tdf[(stock_df_dict[symbol].open == stock_df_dict[symbol]['ROLLING_%d_MAX' % TURTLE_SHORT_BUY_N])]\n",
    "#     buy_sig_long = tdf[(stock_df_dict[symbol].open == stock_df_dict[symbol]['ROLLING_%d_MAX' % TURTLE_LONG_BUY_N])]\n",
    "#     buy_sig_short_2 = buy_sig_short[buy_sig_short.MA30 >= buy_sig_short.MA180]\n",
    "#     buy_sig_long_2 = buy_sig_long[buy_sig_long.MA30 >= buy_sig_long.MA180]\n",
    "# #     print(symbol, len(tdf), len(buy_sig_short), len(buy_sig_short_2), len(buy_sig_long), len(buy_sig_long_2))\n",
    "#     sum_buy_sig_short += len(buy_sig_short_2)\n",
    "#     sum_buy_sig_long += len(buy_sig_long_2)\n",
    "# print(len(stock_df_dict['NDX']), sum_buy_sig_short, sum_buy_sig_long)"
   ]
  },
  {
   "cell_type": "code",
   "execution_count": 6,
   "metadata": {
    "scrolled": false
   },
   "outputs": [
    {
     "data": {
      "text/plain": [
       "('cum_returns', 8.7306863650354227)"
      ]
     },
     "execution_count": 6,
     "metadata": {},
     "output_type": "execute_result"
    },
    {
     "data": {
      "text/plain": [
       "('max_drawdown', -0.5052664511419336, -0.1778840133363587)"
      ]
     },
     "execution_count": 6,
     "metadata": {},
     "output_type": "execute_result"
    },
    {
     "data": {
      "text/plain": [
       "('annual_return', 0.41822178878180449, 0.18025405966266006)"
      ]
     },
     "execution_count": 6,
     "metadata": {},
     "output_type": "execute_result"
    },
    {
     "data": {
      "text/plain": [
       "('annual_volatility', 0.4935501879023602)"
      ]
     },
     "execution_count": 6,
     "metadata": {},
     "output_type": "execute_result"
    },
    {
     "data": {
      "text/plain": [
       "('calmar_ratio', 0.82772522861273945)"
      ]
     },
     "execution_count": 6,
     "metadata": {},
     "output_type": "execute_result"
    },
    {
     "data": {
      "text/plain": [
       "('sharpe_ratio', 0.9537585146017781)"
      ]
     },
     "execution_count": 6,
     "metadata": {},
     "output_type": "execute_result"
    },
    {
     "data": {
      "text/plain": [
       "('alpha', 0.2086361678167491)"
      ]
     },
     "execution_count": 6,
     "metadata": {},
     "output_type": "execute_result"
    },
    {
     "data": {
      "text/plain": [
       "('beta', 1.351218549426868)"
      ]
     },
     "execution_count": 6,
     "metadata": {},
     "output_type": "execute_result"
    },
    {
     "data": {
      "text/html": [
       "<div>\n",
       "<style scoped>\n",
       "    .dataframe tbody tr th:only-of-type {\n",
       "        vertical-align: middle;\n",
       "    }\n",
       "\n",
       "    .dataframe tbody tr th {\n",
       "        vertical-align: top;\n",
       "    }\n",
       "\n",
       "    .dataframe thead th {\n",
       "        text-align: right;\n",
       "    }\n",
       "</style>\n",
       "<table border=\"1\" class=\"dataframe\">\n",
       "  <thead>\n",
       "    <tr style=\"text-align: right;\">\n",
       "      <th></th>\n",
       "      <th>symbol</th>\n",
       "      <th>cum_returns</th>\n",
       "      <th>annual_return</th>\n",
       "      <th>annual_volatility</th>\n",
       "      <th>max_drawdown</th>\n",
       "      <th>alpha</th>\n",
       "      <th>beta</th>\n",
       "      <th>sharpe_ratio</th>\n",
       "      <th>calmar_ratio</th>\n",
       "    </tr>\n",
       "  </thead>\n",
       "  <tbody>\n",
       "    <tr>\n",
       "      <th>76</th>\n",
       "      <td>PYPL</td>\n",
       "      <td>1.193308</td>\n",
       "      <td>0.683460</td>\n",
       "      <td>0.244135</td>\n",
       "      <td>-0.163146</td>\n",
       "      <td>0.25</td>\n",
       "      <td>1.07</td>\n",
       "      <td>2.263521</td>\n",
       "      <td>4.189267</td>\n",
       "    </tr>\n",
       "    <tr>\n",
       "      <th>44</th>\n",
       "      <td>FISV</td>\n",
       "      <td>5.381192</td>\n",
       "      <td>0.241381</td>\n",
       "      <td>0.192649</td>\n",
       "      <td>-0.244233</td>\n",
       "      <td>0.11</td>\n",
       "      <td>0.70</td>\n",
       "      <td>1.219780</td>\n",
       "      <td>0.988326</td>\n",
       "    </tr>\n",
       "    <tr>\n",
       "      <th>27</th>\n",
       "      <td>CTAS</td>\n",
       "      <td>5.602076</td>\n",
       "      <td>0.246320</td>\n",
       "      <td>0.211299</td>\n",
       "      <td>-0.223942</td>\n",
       "      <td>0.12</td>\n",
       "      <td>0.70</td>\n",
       "      <td>1.148464</td>\n",
       "      <td>1.099927</td>\n",
       "    </tr>\n",
       "    <tr>\n",
       "      <th>7</th>\n",
       "      <td>AMZN</td>\n",
       "      <td>12.362898</td>\n",
       "      <td>0.353368</td>\n",
       "      <td>0.314870</td>\n",
       "      <td>-0.309124</td>\n",
       "      <td>0.14</td>\n",
       "      <td>1.17</td>\n",
       "      <td>1.118692</td>\n",
       "      <td>1.143126</td>\n",
       "    </tr>\n",
       "    <tr>\n",
       "      <th>49</th>\n",
       "      <td>IDXX</td>\n",
       "      <td>7.464911</td>\n",
       "      <td>0.282988</td>\n",
       "      <td>0.251452</td>\n",
       "      <td>-0.260276</td>\n",
       "      <td>0.15</td>\n",
       "      <td>0.75</td>\n",
       "      <td>1.117688</td>\n",
       "      <td>1.087263</td>\n",
       "    </tr>\n",
       "    <tr>\n",
       "      <th>53</th>\n",
       "      <td>INTU</td>\n",
       "      <td>6.030557</td>\n",
       "      <td>0.255496</td>\n",
       "      <td>0.229202</td>\n",
       "      <td>-0.279506</td>\n",
       "      <td>0.10</td>\n",
       "      <td>0.84</td>\n",
       "      <td>1.108882</td>\n",
       "      <td>0.914098</td>\n",
       "    </tr>\n",
       "    <tr>\n",
       "      <th>4</th>\n",
       "      <td>ALGN</td>\n",
       "      <td>19.920386</td>\n",
       "      <td>0.425826</td>\n",
       "      <td>0.393412</td>\n",
       "      <td>-0.425232</td>\n",
       "      <td>0.24</td>\n",
       "      <td>1.05</td>\n",
       "      <td>1.098631</td>\n",
       "      <td>1.001397</td>\n",
       "    </tr>\n",
       "    <tr>\n",
       "      <th>19</th>\n",
       "      <td>BKNG</td>\n",
       "      <td>11.312557</td>\n",
       "      <td>0.340316</td>\n",
       "      <td>0.313066</td>\n",
       "      <td>-0.354879</td>\n",
       "      <td>0.15</td>\n",
       "      <td>1.06</td>\n",
       "      <td>1.091719</td>\n",
       "      <td>0.958965</td>\n",
       "    </tr>\n",
       "    <tr>\n",
       "      <th>72</th>\n",
       "      <td>NVDA</td>\n",
       "      <td>18.865067</td>\n",
       "      <td>0.417470</td>\n",
       "      <td>0.397464</td>\n",
       "      <td>-0.551522</td>\n",
       "      <td>0.18</td>\n",
       "      <td>1.36</td>\n",
       "      <td>1.075675</td>\n",
       "      <td>0.756942</td>\n",
       "    </tr>\n",
       "    <tr>\n",
       "      <th>80</th>\n",
       "      <td>ROST</td>\n",
       "      <td>6.376386</td>\n",
       "      <td>0.262550</td>\n",
       "      <td>0.245917</td>\n",
       "      <td>-0.254685</td>\n",
       "      <td>0.14</td>\n",
       "      <td>0.69</td>\n",
       "      <td>1.071461</td>\n",
       "      <td>1.030880</td>\n",
       "    </tr>\n",
       "    <tr>\n",
       "      <th>42</th>\n",
       "      <td>FB</td>\n",
       "      <td>2.685990</td>\n",
       "      <td>0.326344</td>\n",
       "      <td>0.308422</td>\n",
       "      <td>-0.228966</td>\n",
       "      <td>0.10</td>\n",
       "      <td>1.26</td>\n",
       "      <td>1.070195</td>\n",
       "      <td>1.425296</td>\n",
       "    </tr>\n",
       "    <tr>\n",
       "      <th>71</th>\n",
       "      <td>NFLX</td>\n",
       "      <td>45.365398</td>\n",
       "      <td>0.564874</td>\n",
       "      <td>0.572351</td>\n",
       "      <td>-0.820451</td>\n",
       "      <td>0.37</td>\n",
       "      <td>1.31</td>\n",
       "      <td>1.066649</td>\n",
       "      <td>0.688492</td>\n",
       "    </tr>\n",
       "    <tr>\n",
       "      <th>20</th>\n",
       "      <td>AVGO</td>\n",
       "      <td>8.237794</td>\n",
       "      <td>0.349983</td>\n",
       "      <td>0.334544</td>\n",
       "      <td>-0.318065</td>\n",
       "      <td>0.14</td>\n",
       "      <td>1.28</td>\n",
       "      <td>1.064360</td>\n",
       "      <td>1.100351</td>\n",
       "    </tr>\n",
       "    <tr>\n",
       "      <th>73</th>\n",
       "      <td>ORLY</td>\n",
       "      <td>6.216662</td>\n",
       "      <td>0.259329</td>\n",
       "      <td>0.247454</td>\n",
       "      <td>-0.405292</td>\n",
       "      <td>0.15</td>\n",
       "      <td>0.61</td>\n",
       "      <td>1.056963</td>\n",
       "      <td>0.639858</td>\n",
       "    </tr>\n",
       "    <tr>\n",
       "      <th>0</th>\n",
       "      <td>NDX</td>\n",
       "      <td>3.136636</td>\n",
       "      <td>0.180254</td>\n",
       "      <td>0.171940</td>\n",
       "      <td>-0.177884</td>\n",
       "      <td>-0.00</td>\n",
       "      <td>1.00</td>\n",
       "      <td>1.050914</td>\n",
       "      <td>1.013324</td>\n",
       "    </tr>\n",
       "    <tr>\n",
       "      <th>79</th>\n",
       "      <td>REGN</td>\n",
       "      <td>18.907256</td>\n",
       "      <td>0.417592</td>\n",
       "      <td>0.413419</td>\n",
       "      <td>-0.519927</td>\n",
       "      <td>0.24</td>\n",
       "      <td>1.08</td>\n",
       "      <td>1.050008</td>\n",
       "      <td>0.803174</td>\n",
       "    </tr>\n",
       "    <tr>\n",
       "      <th>6</th>\n",
       "      <td>GOOG</td>\n",
       "      <td>0.787744</td>\n",
       "      <td>0.232991</td>\n",
       "      <td>0.224163</td>\n",
       "      <td>-0.156218</td>\n",
       "      <td>0.01</td>\n",
       "      <td>1.14</td>\n",
       "      <td>1.047593</td>\n",
       "      <td>1.491448</td>\n",
       "    </tr>\n",
       "    <tr>\n",
       "      <th>95</th>\n",
       "      <td>ULTA</td>\n",
       "      <td>13.932788</td>\n",
       "      <td>0.370828</td>\n",
       "      <td>0.382711</td>\n",
       "      <td>-0.387057</td>\n",
       "      <td>0.21</td>\n",
       "      <td>0.99</td>\n",
       "      <td>1.016571</td>\n",
       "      <td>0.958073</td>\n",
       "    </tr>\n",
       "    <tr>\n",
       "      <th>83</th>\n",
       "      <td>SIRI</td>\n",
       "      <td>10.399046</td>\n",
       "      <td>0.328316</td>\n",
       "      <td>0.343412</td>\n",
       "      <td>-0.419087</td>\n",
       "      <td>0.18</td>\n",
       "      <td>0.92</td>\n",
       "      <td>0.998866</td>\n",
       "      <td>0.783407</td>\n",
       "    </tr>\n",
       "    <tr>\n",
       "      <th>2</th>\n",
       "      <td>ADBE</td>\n",
       "      <td>6.056988</td>\n",
       "      <td>0.256046</td>\n",
       "      <td>0.270174</td>\n",
       "      <td>-0.386813</td>\n",
       "      <td>0.09</td>\n",
       "      <td>0.99</td>\n",
       "      <td>0.981599</td>\n",
       "      <td>0.661938</td>\n",
       "    </tr>\n",
       "    <tr>\n",
       "      <th>22</th>\n",
       "      <td>CDNS</td>\n",
       "      <td>6.282645</td>\n",
       "      <td>0.260667</td>\n",
       "      <td>0.280647</td>\n",
       "      <td>-0.263021</td>\n",
       "      <td>0.11</td>\n",
       "      <td>0.90</td>\n",
       "      <td>0.965937</td>\n",
       "      <td>0.991051</td>\n",
       "    </tr>\n",
       "    <tr>\n",
       "      <th>90</th>\n",
       "      <td>TSLA</td>\n",
       "      <td>8.730686</td>\n",
       "      <td>0.418222</td>\n",
       "      <td>0.493550</td>\n",
       "      <td>-0.505266</td>\n",
       "      <td>0.21</td>\n",
       "      <td>1.35</td>\n",
       "      <td>0.953759</td>\n",
       "      <td>0.827725</td>\n",
       "    </tr>\n",
       "    <tr>\n",
       "      <th>11</th>\n",
       "      <td>AAPL</td>\n",
       "      <td>5.900474</td>\n",
       "      <td>0.252895</td>\n",
       "      <td>0.277272</td>\n",
       "      <td>-0.447659</td>\n",
       "      <td>0.05</td>\n",
       "      <td>1.17</td>\n",
       "      <td>0.952154</td>\n",
       "      <td>0.564927</td>\n",
       "    </tr>\n",
       "    <tr>\n",
       "      <th>96</th>\n",
       "      <td>VRSK</td>\n",
       "      <td>2.433271</td>\n",
       "      <td>0.185802</td>\n",
       "      <td>0.202169</td>\n",
       "      <td>-0.194147</td>\n",
       "      <td>0.10</td>\n",
       "      <td>0.52</td>\n",
       "      <td>0.944944</td>\n",
       "      <td>0.957017</td>\n",
       "    </tr>\n",
       "    <tr>\n",
       "      <th>61</th>\n",
       "      <td>MAR</td>\n",
       "      <td>4.665244</td>\n",
       "      <td>0.224265</td>\n",
       "      <td>0.249825</td>\n",
       "      <td>-0.397039</td>\n",
       "      <td>0.06</td>\n",
       "      <td>0.97</td>\n",
       "      <td>0.935536</td>\n",
       "      <td>0.564844</td>\n",
       "    </tr>\n",
       "    <tr>\n",
       "      <th>85</th>\n",
       "      <td>SBUX</td>\n",
       "      <td>4.412098</td>\n",
       "      <td>0.217753</td>\n",
       "      <td>0.243817</td>\n",
       "      <td>-0.296060</td>\n",
       "      <td>0.06</td>\n",
       "      <td>0.93</td>\n",
       "      <td>0.930565</td>\n",
       "      <td>0.735504</td>\n",
       "    </tr>\n",
       "    <tr>\n",
       "      <th>68</th>\n",
       "      <td>MNST</td>\n",
       "      <td>8.264248</td>\n",
       "      <td>0.296566</td>\n",
       "      <td>0.348558</td>\n",
       "      <td>-0.488445</td>\n",
       "      <td>0.18</td>\n",
       "      <td>0.79</td>\n",
       "      <td>0.918055</td>\n",
       "      <td>0.607163</td>\n",
       "    </tr>\n",
       "    <tr>\n",
       "      <th>91</th>\n",
       "      <td>TXN</td>\n",
       "      <td>3.900621</td>\n",
       "      <td>0.203731</td>\n",
       "      <td>0.231679</td>\n",
       "      <td>-0.333425</td>\n",
       "      <td>0.04</td>\n",
       "      <td>0.94</td>\n",
       "      <td>0.917049</td>\n",
       "      <td>0.611025</td>\n",
       "    </tr>\n",
       "    <tr>\n",
       "      <th>1</th>\n",
       "      <td>ATVI</td>\n",
       "      <td>5.486557</td>\n",
       "      <td>0.243755</td>\n",
       "      <td>0.286807</td>\n",
       "      <td>-0.282032</td>\n",
       "      <td>0.09</td>\n",
       "      <td>0.93</td>\n",
       "      <td>0.903685</td>\n",
       "      <td>0.864283</td>\n",
       "    </tr>\n",
       "    <tr>\n",
       "      <th>15</th>\n",
       "      <td>ADP</td>\n",
       "      <td>2.638427</td>\n",
       "      <td>0.162626</td>\n",
       "      <td>0.186497</td>\n",
       "      <td>-0.176931</td>\n",
       "      <td>0.05</td>\n",
       "      <td>0.68</td>\n",
       "      <td>0.901681</td>\n",
       "      <td>0.919146</td>\n",
       "    </tr>\n",
       "    <tr>\n",
       "      <th>...</th>\n",
       "      <td>...</td>\n",
       "      <td>...</td>\n",
       "      <td>...</td>\n",
       "      <td>...</td>\n",
       "      <td>...</td>\n",
       "      <td>...</td>\n",
       "      <td>...</td>\n",
       "      <td>...</td>\n",
       "      <td>...</td>\n",
       "    </tr>\n",
       "    <tr>\n",
       "      <th>43</th>\n",
       "      <td>FAST</td>\n",
       "      <td>1.849098</td>\n",
       "      <td>0.129924</td>\n",
       "      <td>0.257089</td>\n",
       "      <td>-0.360812</td>\n",
       "      <td>0.02</td>\n",
       "      <td>0.77</td>\n",
       "      <td>0.603977</td>\n",
       "      <td>0.360088</td>\n",
       "    </tr>\n",
       "    <tr>\n",
       "      <th>45</th>\n",
       "      <td>GILD</td>\n",
       "      <td>2.096274</td>\n",
       "      <td>0.140945</td>\n",
       "      <td>0.287602</td>\n",
       "      <td>-0.476568</td>\n",
       "      <td>0.02</td>\n",
       "      <td>0.86</td>\n",
       "      <td>0.602980</td>\n",
       "      <td>0.295750</td>\n",
       "    </tr>\n",
       "    <tr>\n",
       "      <th>75</th>\n",
       "      <td>PAYX</td>\n",
       "      <td>1.230391</td>\n",
       "      <td>0.098106</td>\n",
       "      <td>0.185083</td>\n",
       "      <td>-0.253333</td>\n",
       "      <td>-0.01</td>\n",
       "      <td>0.66</td>\n",
       "      <td>0.598689</td>\n",
       "      <td>0.387262</td>\n",
       "    </tr>\n",
       "    <tr>\n",
       "      <th>56</th>\n",
       "      <td>JD</td>\n",
       "      <td>0.497980</td>\n",
       "      <td>0.166840</td>\n",
       "      <td>0.381197</td>\n",
       "      <td>-0.394353</td>\n",
       "      <td>-0.04</td>\n",
       "      <td>1.48</td>\n",
       "      <td>0.595583</td>\n",
       "      <td>0.423073</td>\n",
       "    </tr>\n",
       "    <tr>\n",
       "      <th>60</th>\n",
       "      <td>LBTYK</td>\n",
       "      <td>1.872156</td>\n",
       "      <td>0.130987</td>\n",
       "      <td>0.272042</td>\n",
       "      <td>-0.443973</td>\n",
       "      <td>0.02</td>\n",
       "      <td>0.77</td>\n",
       "      <td>0.589132</td>\n",
       "      <td>0.295033</td>\n",
       "    </tr>\n",
       "    <tr>\n",
       "      <th>81</th>\n",
       "      <td>STX</td>\n",
       "      <td>2.792880</td>\n",
       "      <td>0.168279</td>\n",
       "      <td>0.413577</td>\n",
       "      <td>-0.729245</td>\n",
       "      <td>0.03</td>\n",
       "      <td>1.15</td>\n",
       "      <td>0.583836</td>\n",
       "      <td>0.230757</td>\n",
       "    </tr>\n",
       "    <tr>\n",
       "      <th>59</th>\n",
       "      <td>LBTYA</td>\n",
       "      <td>1.900110</td>\n",
       "      <td>0.132266</td>\n",
       "      <td>0.288566</td>\n",
       "      <td>-0.470870</td>\n",
       "      <td>0.01</td>\n",
       "      <td>0.84</td>\n",
       "      <td>0.575536</td>\n",
       "      <td>0.280896</td>\n",
       "    </tr>\n",
       "    <tr>\n",
       "      <th>23</th>\n",
       "      <td>CELG</td>\n",
       "      <td>1.984650</td>\n",
       "      <td>0.136068</td>\n",
       "      <td>0.303096</td>\n",
       "      <td>-0.481805</td>\n",
       "      <td>-0.01</td>\n",
       "      <td>1.03</td>\n",
       "      <td>0.573895</td>\n",
       "      <td>0.282412</td>\n",
       "    </tr>\n",
       "    <tr>\n",
       "      <th>82</th>\n",
       "      <td>SHPG</td>\n",
       "      <td>1.837535</td>\n",
       "      <td>0.129388</td>\n",
       "      <td>0.289773</td>\n",
       "      <td>-0.533224</td>\n",
       "      <td>0.03</td>\n",
       "      <td>0.73</td>\n",
       "      <td>0.566197</td>\n",
       "      <td>0.242652</td>\n",
       "    </tr>\n",
       "    <tr>\n",
       "      <th>67</th>\n",
       "      <td>MDLZ</td>\n",
       "      <td>1.183275</td>\n",
       "      <td>0.095375</td>\n",
       "      <td>0.197929</td>\n",
       "      <td>-0.254171</td>\n",
       "      <td>0.01</td>\n",
       "      <td>0.55</td>\n",
       "      <td>0.559505</td>\n",
       "      <td>0.375238</td>\n",
       "    </tr>\n",
       "    <tr>\n",
       "      <th>97</th>\n",
       "      <td>VRTX</td>\n",
       "      <td>2.746558</td>\n",
       "      <td>0.166605</td>\n",
       "      <td>0.482079</td>\n",
       "      <td>-0.539914</td>\n",
       "      <td>0.08</td>\n",
       "      <td>0.98</td>\n",
       "      <td>0.541729</td>\n",
       "      <td>0.308577</td>\n",
       "    </tr>\n",
       "    <tr>\n",
       "      <th>34</th>\n",
       "      <td>CTRP</td>\n",
       "      <td>2.131373</td>\n",
       "      <td>0.142446</td>\n",
       "      <td>0.451770</td>\n",
       "      <td>-0.760766</td>\n",
       "      <td>0.01</td>\n",
       "      <td>1.24</td>\n",
       "      <td>0.519044</td>\n",
       "      <td>0.187240</td>\n",
       "    </tr>\n",
       "    <tr>\n",
       "      <th>48</th>\n",
       "      <td>HOLX</td>\n",
       "      <td>1.453135</td>\n",
       "      <td>0.110369</td>\n",
       "      <td>0.283703</td>\n",
       "      <td>-0.394578</td>\n",
       "      <td>-0.01</td>\n",
       "      <td>0.83</td>\n",
       "      <td>0.511532</td>\n",
       "      <td>0.279715</td>\n",
       "    </tr>\n",
       "    <tr>\n",
       "      <th>102</th>\n",
       "      <td>WYNN</td>\n",
       "      <td>1.808934</td>\n",
       "      <td>0.128054</td>\n",
       "      <td>0.388481</td>\n",
       "      <td>-0.788104</td>\n",
       "      <td>-0.03</td>\n",
       "      <td>1.25</td>\n",
       "      <td>0.504549</td>\n",
       "      <td>0.162484</td>\n",
       "    </tr>\n",
       "    <tr>\n",
       "      <th>69</th>\n",
       "      <td>MYL</td>\n",
       "      <td>1.317533</td>\n",
       "      <td>0.103028</td>\n",
       "      <td>0.323190</td>\n",
       "      <td>-0.608886</td>\n",
       "      <td>-0.01</td>\n",
       "      <td>0.90</td>\n",
       "      <td>0.464782</td>\n",
       "      <td>0.169207</td>\n",
       "    </tr>\n",
       "    <tr>\n",
       "      <th>100</th>\n",
       "      <td>WDC</td>\n",
       "      <td>1.301359</td>\n",
       "      <td>0.102127</td>\n",
       "      <td>0.379989</td>\n",
       "      <td>-0.690358</td>\n",
       "      <td>-0.04</td>\n",
       "      <td>1.15</td>\n",
       "      <td>0.445281</td>\n",
       "      <td>0.147933</td>\n",
       "    </tr>\n",
       "    <tr>\n",
       "      <th>78</th>\n",
       "      <td>QRTEA</td>\n",
       "      <td>1.027406</td>\n",
       "      <td>0.085950</td>\n",
       "      <td>0.300019</td>\n",
       "      <td>-0.421255</td>\n",
       "      <td>-0.03</td>\n",
       "      <td>0.88</td>\n",
       "      <td>0.425816</td>\n",
       "      <td>0.204033</td>\n",
       "    </tr>\n",
       "    <tr>\n",
       "      <th>28</th>\n",
       "      <td>CSCO</td>\n",
       "      <td>0.848725</td>\n",
       "      <td>0.074359</td>\n",
       "      <td>0.241721</td>\n",
       "      <td>-0.496749</td>\n",
       "      <td>-0.06</td>\n",
       "      <td>0.88</td>\n",
       "      <td>0.418766</td>\n",
       "      <td>0.149692</td>\n",
       "    </tr>\n",
       "    <tr>\n",
       "      <th>41</th>\n",
       "      <td>ESRX</td>\n",
       "      <td>0.789006</td>\n",
       "      <td>0.070216</td>\n",
       "      <td>0.258542</td>\n",
       "      <td>-0.419839</td>\n",
       "      <td>-0.02</td>\n",
       "      <td>0.66</td>\n",
       "      <td>0.391870</td>\n",
       "      <td>0.167245</td>\n",
       "    </tr>\n",
       "    <tr>\n",
       "      <th>21</th>\n",
       "      <td>CA</td>\n",
       "      <td>0.688426</td>\n",
       "      <td>0.063015</td>\n",
       "      <td>0.231282</td>\n",
       "      <td>-0.302101</td>\n",
       "      <td>-0.06</td>\n",
       "      <td>0.82</td>\n",
       "      <td>0.379620</td>\n",
       "      <td>0.208591</td>\n",
       "    </tr>\n",
       "    <tr>\n",
       "      <th>74</th>\n",
       "      <td>PCAR</td>\n",
       "      <td>0.678114</td>\n",
       "      <td>0.062256</td>\n",
       "      <td>0.265001</td>\n",
       "      <td>-0.447182</td>\n",
       "      <td>-0.08</td>\n",
       "      <td>0.97</td>\n",
       "      <td>0.360505</td>\n",
       "      <td>0.139218</td>\n",
       "    </tr>\n",
       "    <tr>\n",
       "      <th>99</th>\n",
       "      <td>WBA</td>\n",
       "      <td>0.587481</td>\n",
       "      <td>0.055397</td>\n",
       "      <td>0.245810</td>\n",
       "      <td>-0.359167</td>\n",
       "      <td>-0.04</td>\n",
       "      <td>0.67</td>\n",
       "      <td>0.343393</td>\n",
       "      <td>0.154238</td>\n",
       "    </tr>\n",
       "    <tr>\n",
       "      <th>101</th>\n",
       "      <td>WDAY</td>\n",
       "      <td>0.270495</td>\n",
       "      <td>0.058396</td>\n",
       "      <td>0.364613</td>\n",
       "      <td>-0.521188</td>\n",
       "      <td>-0.10</td>\n",
       "      <td>1.29</td>\n",
       "      <td>0.341357</td>\n",
       "      <td>0.112045</td>\n",
       "    </tr>\n",
       "    <tr>\n",
       "      <th>36</th>\n",
       "      <td>DISH</td>\n",
       "      <td>0.519864</td>\n",
       "      <td>0.050051</td>\n",
       "      <td>0.314839</td>\n",
       "      <td>-0.630380</td>\n",
       "      <td>-0.06</td>\n",
       "      <td>0.88</td>\n",
       "      <td>0.313286</td>\n",
       "      <td>0.079399</td>\n",
       "    </tr>\n",
       "    <tr>\n",
       "      <th>77</th>\n",
       "      <td>QCOM</td>\n",
       "      <td>0.401447</td>\n",
       "      <td>0.040180</td>\n",
       "      <td>0.264609</td>\n",
       "      <td>-0.480889</td>\n",
       "      <td>-0.09</td>\n",
       "      <td>0.93</td>\n",
       "      <td>0.281016</td>\n",
       "      <td>0.083554</td>\n",
       "    </tr>\n",
       "    <tr>\n",
       "      <th>35</th>\n",
       "      <td>XRAY</td>\n",
       "      <td>0.280190</td>\n",
       "      <td>0.029237</td>\n",
       "      <td>0.229807</td>\n",
       "      <td>-0.382640</td>\n",
       "      <td>-0.07</td>\n",
       "      <td>0.72</td>\n",
       "      <td>0.240113</td>\n",
       "      <td>0.076408</td>\n",
       "    </tr>\n",
       "    <tr>\n",
       "      <th>86</th>\n",
       "      <td>SYMC</td>\n",
       "      <td>0.231386</td>\n",
       "      <td>0.024592</td>\n",
       "      <td>0.296705</td>\n",
       "      <td>-0.414277</td>\n",
       "      <td>-0.08</td>\n",
       "      <td>0.82</td>\n",
       "      <td>0.237024</td>\n",
       "      <td>0.059361</td>\n",
       "    </tr>\n",
       "    <tr>\n",
       "      <th>8</th>\n",
       "      <td>AAL</td>\n",
       "      <td>-0.095219</td>\n",
       "      <td>-0.032053</td>\n",
       "      <td>0.351337</td>\n",
       "      <td>-0.471790</td>\n",
       "      <td>-0.13</td>\n",
       "      <td>0.95</td>\n",
       "      <td>0.083738</td>\n",
       "      <td>-0.067940</td>\n",
       "    </tr>\n",
       "    <tr>\n",
       "      <th>98</th>\n",
       "      <td>VOD</td>\n",
       "      <td>-0.399041</td>\n",
       "      <td>-0.057680</td>\n",
       "      <td>0.267439</td>\n",
       "      <td>-0.661680</td>\n",
       "      <td>-0.13</td>\n",
       "      <td>0.62</td>\n",
       "      <td>-0.072429</td>\n",
       "      <td>-0.087172</td>\n",
       "    </tr>\n",
       "    <tr>\n",
       "      <th>92</th>\n",
       "      <td>KHC</td>\n",
       "      <td>-0.289210</td>\n",
       "      <td>-0.202591</td>\n",
       "      <td>0.171660</td>\n",
       "      <td>-0.420137</td>\n",
       "      <td>-0.34</td>\n",
       "      <td>0.45</td>\n",
       "      <td>-1.236292</td>\n",
       "      <td>-0.482203</td>\n",
       "    </tr>\n",
       "  </tbody>\n",
       "</table>\n",
       "<p>104 rows × 9 columns</p>\n",
       "</div>"
      ],
      "text/plain": [
       "    symbol  cum_returns  annual_return  annual_volatility  max_drawdown  \\\n",
       "76    PYPL     1.193308       0.683460           0.244135     -0.163146   \n",
       "44    FISV     5.381192       0.241381           0.192649     -0.244233   \n",
       "27    CTAS     5.602076       0.246320           0.211299     -0.223942   \n",
       "7     AMZN    12.362898       0.353368           0.314870     -0.309124   \n",
       "49    IDXX     7.464911       0.282988           0.251452     -0.260276   \n",
       "53    INTU     6.030557       0.255496           0.229202     -0.279506   \n",
       "4     ALGN    19.920386       0.425826           0.393412     -0.425232   \n",
       "19    BKNG    11.312557       0.340316           0.313066     -0.354879   \n",
       "72    NVDA    18.865067       0.417470           0.397464     -0.551522   \n",
       "80    ROST     6.376386       0.262550           0.245917     -0.254685   \n",
       "42      FB     2.685990       0.326344           0.308422     -0.228966   \n",
       "71    NFLX    45.365398       0.564874           0.572351     -0.820451   \n",
       "20    AVGO     8.237794       0.349983           0.334544     -0.318065   \n",
       "73    ORLY     6.216662       0.259329           0.247454     -0.405292   \n",
       "0      NDX     3.136636       0.180254           0.171940     -0.177884   \n",
       "79    REGN    18.907256       0.417592           0.413419     -0.519927   \n",
       "6     GOOG     0.787744       0.232991           0.224163     -0.156218   \n",
       "95    ULTA    13.932788       0.370828           0.382711     -0.387057   \n",
       "83    SIRI    10.399046       0.328316           0.343412     -0.419087   \n",
       "2     ADBE     6.056988       0.256046           0.270174     -0.386813   \n",
       "22    CDNS     6.282645       0.260667           0.280647     -0.263021   \n",
       "90    TSLA     8.730686       0.418222           0.493550     -0.505266   \n",
       "11    AAPL     5.900474       0.252895           0.277272     -0.447659   \n",
       "96    VRSK     2.433271       0.185802           0.202169     -0.194147   \n",
       "61     MAR     4.665244       0.224265           0.249825     -0.397039   \n",
       "85    SBUX     4.412098       0.217753           0.243817     -0.296060   \n",
       "68    MNST     8.264248       0.296566           0.348558     -0.488445   \n",
       "91     TXN     3.900621       0.203731           0.231679     -0.333425   \n",
       "1     ATVI     5.486557       0.243755           0.286807     -0.282032   \n",
       "15     ADP     2.638427       0.162626           0.186497     -0.176931   \n",
       "..     ...          ...            ...                ...           ...   \n",
       "43    FAST     1.849098       0.129924           0.257089     -0.360812   \n",
       "45    GILD     2.096274       0.140945           0.287602     -0.476568   \n",
       "75    PAYX     1.230391       0.098106           0.185083     -0.253333   \n",
       "56      JD     0.497980       0.166840           0.381197     -0.394353   \n",
       "60   LBTYK     1.872156       0.130987           0.272042     -0.443973   \n",
       "81     STX     2.792880       0.168279           0.413577     -0.729245   \n",
       "59   LBTYA     1.900110       0.132266           0.288566     -0.470870   \n",
       "23    CELG     1.984650       0.136068           0.303096     -0.481805   \n",
       "82    SHPG     1.837535       0.129388           0.289773     -0.533224   \n",
       "67    MDLZ     1.183275       0.095375           0.197929     -0.254171   \n",
       "97    VRTX     2.746558       0.166605           0.482079     -0.539914   \n",
       "34    CTRP     2.131373       0.142446           0.451770     -0.760766   \n",
       "48    HOLX     1.453135       0.110369           0.283703     -0.394578   \n",
       "102   WYNN     1.808934       0.128054           0.388481     -0.788104   \n",
       "69     MYL     1.317533       0.103028           0.323190     -0.608886   \n",
       "100    WDC     1.301359       0.102127           0.379989     -0.690358   \n",
       "78   QRTEA     1.027406       0.085950           0.300019     -0.421255   \n",
       "28    CSCO     0.848725       0.074359           0.241721     -0.496749   \n",
       "41    ESRX     0.789006       0.070216           0.258542     -0.419839   \n",
       "21      CA     0.688426       0.063015           0.231282     -0.302101   \n",
       "74    PCAR     0.678114       0.062256           0.265001     -0.447182   \n",
       "99     WBA     0.587481       0.055397           0.245810     -0.359167   \n",
       "101   WDAY     0.270495       0.058396           0.364613     -0.521188   \n",
       "36    DISH     0.519864       0.050051           0.314839     -0.630380   \n",
       "77    QCOM     0.401447       0.040180           0.264609     -0.480889   \n",
       "35    XRAY     0.280190       0.029237           0.229807     -0.382640   \n",
       "86    SYMC     0.231386       0.024592           0.296705     -0.414277   \n",
       "8      AAL    -0.095219      -0.032053           0.351337     -0.471790   \n",
       "98     VOD    -0.399041      -0.057680           0.267439     -0.661680   \n",
       "92     KHC    -0.289210      -0.202591           0.171660     -0.420137   \n",
       "\n",
       "     alpha  beta  sharpe_ratio  calmar_ratio  \n",
       "76    0.25  1.07      2.263521      4.189267  \n",
       "44    0.11  0.70      1.219780      0.988326  \n",
       "27    0.12  0.70      1.148464      1.099927  \n",
       "7     0.14  1.17      1.118692      1.143126  \n",
       "49    0.15  0.75      1.117688      1.087263  \n",
       "53    0.10  0.84      1.108882      0.914098  \n",
       "4     0.24  1.05      1.098631      1.001397  \n",
       "19    0.15  1.06      1.091719      0.958965  \n",
       "72    0.18  1.36      1.075675      0.756942  \n",
       "80    0.14  0.69      1.071461      1.030880  \n",
       "42    0.10  1.26      1.070195      1.425296  \n",
       "71    0.37  1.31      1.066649      0.688492  \n",
       "20    0.14  1.28      1.064360      1.100351  \n",
       "73    0.15  0.61      1.056963      0.639858  \n",
       "0    -0.00  1.00      1.050914      1.013324  \n",
       "79    0.24  1.08      1.050008      0.803174  \n",
       "6     0.01  1.14      1.047593      1.491448  \n",
       "95    0.21  0.99      1.016571      0.958073  \n",
       "83    0.18  0.92      0.998866      0.783407  \n",
       "2     0.09  0.99      0.981599      0.661938  \n",
       "22    0.11  0.90      0.965937      0.991051  \n",
       "90    0.21  1.35      0.953759      0.827725  \n",
       "11    0.05  1.17      0.952154      0.564927  \n",
       "96    0.10  0.52      0.944944      0.957017  \n",
       "61    0.06  0.97      0.935536      0.564844  \n",
       "85    0.06  0.93      0.930565      0.735504  \n",
       "68    0.18  0.79      0.918055      0.607163  \n",
       "91    0.04  0.94      0.917049      0.611025  \n",
       "1     0.09  0.93      0.903685      0.864283  \n",
       "15    0.05  0.68      0.901681      0.919146  \n",
       "..     ...   ...           ...           ...  \n",
       "43    0.02  0.77      0.603977      0.360088  \n",
       "45    0.02  0.86      0.602980      0.295750  \n",
       "75   -0.01  0.66      0.598689      0.387262  \n",
       "56   -0.04  1.48      0.595583      0.423073  \n",
       "60    0.02  0.77      0.589132      0.295033  \n",
       "81    0.03  1.15      0.583836      0.230757  \n",
       "59    0.01  0.84      0.575536      0.280896  \n",
       "23   -0.01  1.03      0.573895      0.282412  \n",
       "82    0.03  0.73      0.566197      0.242652  \n",
       "67    0.01  0.55      0.559505      0.375238  \n",
       "97    0.08  0.98      0.541729      0.308577  \n",
       "34    0.01  1.24      0.519044      0.187240  \n",
       "48   -0.01  0.83      0.511532      0.279715  \n",
       "102  -0.03  1.25      0.504549      0.162484  \n",
       "69   -0.01  0.90      0.464782      0.169207  \n",
       "100  -0.04  1.15      0.445281      0.147933  \n",
       "78   -0.03  0.88      0.425816      0.204033  \n",
       "28   -0.06  0.88      0.418766      0.149692  \n",
       "41   -0.02  0.66      0.391870      0.167245  \n",
       "21   -0.06  0.82      0.379620      0.208591  \n",
       "74   -0.08  0.97      0.360505      0.139218  \n",
       "99   -0.04  0.67      0.343393      0.154238  \n",
       "101  -0.10  1.29      0.341357      0.112045  \n",
       "36   -0.06  0.88      0.313286      0.079399  \n",
       "77   -0.09  0.93      0.281016      0.083554  \n",
       "35   -0.07  0.72      0.240113      0.076408  \n",
       "86   -0.08  0.82      0.237024      0.059361  \n",
       "8    -0.13  0.95      0.083738     -0.067940  \n",
       "98   -0.13  0.62     -0.072429     -0.087172  \n",
       "92   -0.34  0.45     -1.236292     -0.482203  \n",
       "\n",
       "[104 rows x 9 columns]"
      ]
     },
     "execution_count": 6,
     "metadata": {},
     "output_type": "execute_result"
    }
   ],
   "source": [
    "algo = stock_df_dict['TSLA'].open.pct_change()\n",
    "benchmark = stock_df_dict['NDX'].open.pct_change()\n",
    "\n",
    "'cum_returns', emp.cum_returns(algo)[-1]\n",
    "'max_drawdown', emp.max_drawdown(algo), emp.max_drawdown(benchmark)\n",
    "'annual_return', emp.annual_return(algo), emp.annual_return(benchmark)\n",
    "'annual_volatility', emp.annual_volatility(algo, period='daily')\n",
    "'calmar_ratio', emp.calmar_ratio(algo)\n",
    "'sharpe_ratio', emp.sharpe_ratio(returns=algo)\n",
    "'alpha', emp.alpha(returns=algo, factor_returns=benchmark, risk_free=0.00)\n",
    "'beta', emp.beta(returns=algo, factor_returns=benchmark, risk_free=0.00)\n",
    "\n",
    "emp_df = None\n",
    "emp_df = pd.DataFrame(columns=[\n",
    "    'symbol', 'cum_returns', 'annual_return', 'annual_volatility', 'max_drawdown', 'alpha', 'beta', 'sharpe_ratio', 'calmar_ratio'\n",
    "])\n",
    "\n",
    "for symbol in NASDAQ100:\n",
    "    algo = stock_df_dict[symbol].open.pct_change()\n",
    "    emp_df = emp_df.append(\n",
    "        {\n",
    "            'symbol': symbol,\n",
    "            'cum_returns': emp.cum_returns(algo)[-1],\n",
    "            'annual_return': emp.annual_return(algo),\n",
    "            'annual_volatility': emp.annual_volatility(algo, period='daily'),\n",
    "            'max_drawdown': emp.max_drawdown(algo),\n",
    "            'alpha': round(emp.alpha(returns=algo, factor_returns=benchmark, risk_free=0.00), 2),\n",
    "            'beta': round(emp.beta(returns=algo, factor_returns=benchmark, risk_free=0.00), 2),\n",
    "            'sharpe_ratio': emp.sharpe_ratio(returns=algo),\n",
    "            'calmar_ratio': emp.calmar_ratio(algo)\n",
    "        },\n",
    "        ignore_index=True,\n",
    "    )\n",
    "\n",
    "# emp_df\n",
    "# emp_df.sort_values('cum_returns', ascending=False)\n",
    "emp_df.sort_values('sharpe_ratio', ascending=False)"
   ]
  },
  {
   "cell_type": "code",
   "execution_count": 7,
   "metadata": {},
   "outputs": [
    {
     "name": "stdout",
     "output_type": "stream",
     "text": [
      "Wall time: 501 µs\n"
     ]
    }
   ],
   "source": [
    "%%time\n",
    "\n",
    "show_df = None\n",
    "show_df = stock_df_dict['NDX'].copy()"
   ]
  },
  {
   "cell_type": "code",
   "execution_count": 8,
   "metadata": {
    "scrolled": false
   },
   "outputs": [
    {
     "name": "stdout",
     "output_type": "stream",
     "text": [
      "18.391902\n",
      "0\n",
      "42170.430702\n",
      "NDX 1743.55 7212.431 4.13663559978\n",
      "Wall time: 8min 38s\n"
     ]
    }
   ],
   "source": [
    "%%time\n",
    "# %xmode\n",
    "\n",
    "PROPERTY = START_MONEY\n",
    "CASH = START_MONEY\n",
    "\n",
    "order_df = None\n",
    "order_df = pd.DataFrame(columns=[\n",
    "    'buy_date', 'symbol', 'buy_count', 'buy_price', 'buy_reason', 'sell_date', 'sell_price', 'sell_reason', 'profit', 'cash', 'property'\n",
    "])\n",
    "count_day = 0\n",
    "yesterday = None\n",
    "miss_buy_short = 0\n",
    "miss_buy_long = 0\n",
    "\n",
    "for today in pd.period_range(start=start_date, end=end_date, freq='D'):\n",
    "    count_day += 1\n",
    "    \n",
    "    if yesterday is None:\n",
    "        yesterday = today\n",
    "        continue\n",
    "\n",
    "    if today not in stock_df_dict['NDX'].index:\n",
    "        continue\n",
    "\n",
    "    if IS_HAPPYMONEY:        \n",
    "        if PROPERTY > START_MONEY * 2:\n",
    "            HAPPY_MONEY += 50000\n",
    "            PROPERTY -= 50000\n",
    "            CASH = PROPERTY\n",
    "    \n",
    "    # 买卖过程\n",
    "    for symbol in NASDAQ100[:]:\n",
    "#     for symbol in ['TSLA']:\n",
    "        if symbol in ['ALGN', 'ROST', 'ORLY', 'ESRX', 'ULTA', 'REGN', 'MNST']:\n",
    "#             continue\n",
    "            pass\n",
    "\n",
    "        if symbol == 'NDX':\n",
    "            continue\n",
    "        \n",
    "        if today not in stock_df_dict[symbol].index or yesterday not in stock_df_dict[symbol].index:\n",
    "            continue\n",
    "            \n",
    "        # TIME TEST\n",
    "#         print(order_df)\n",
    "#         print(order_df.columns)\n",
    "        \n",
    "#         %timeit (len(order_df[order_df['symbol'] == symbol]) != 0)\n",
    "#         %timeit order_df[order_df['symbol'] == symbol].shape[0] != 0\n",
    "#         %timeit n_order_df = order_df.values\n",
    "#         %timeit len(n_order_df[n_order_df[:, 1] == symbol]) != 0\n",
    "#         %timeit (len(order_df[(order_df['symbol'] == symbol) & (order_df['sell_price'] == 0)]) == 0)\n",
    "\n",
    "\n",
    "#         iiidx = stock_df_dict[symbol].index.get_loc(today)\n",
    "#         print(iiidx, type(iiidx))\n",
    "#         %timeit stock_df_dict[symbol].loc[today]\n",
    "#         %timeit n_stock_df = stock_df_dict[symbol].values\n",
    "#         %timeit n_stock_df[iiidx]\n",
    "        \n",
    "#         %timeit (stock_df_dict[symbol].loc[today, 'open'] >= stock_df_dict[symbol].loc[today, 'rolling_max'])\n",
    "#         %timeit (stock_df_dict[symbol].loc[today, 'open'] >= stock_df_dict[symbol].loc[today, 'rolling_max'])\n",
    "\n",
    "#         %timeit int(stock_df_dict[symbol].shift(1).loc[today, 'Unit'])\n",
    "#         %timeit int(CASH / stock_df_dict[symbol].loc[today, 'open'])\n",
    "#         %timeit buy_count * stock_df_dict[symbol].loc[today, 'open']\n",
    "#         %timeit stock_df_dict[symbol]\n",
    "#         %timeit stock_df_dict[symbol].loc[today, 'open']\n",
    "#         %timeit (stock_df_dict[symbol].loc[today, 'open'] > order_df[(order_df['symbol'] == symbol) & (order_df['sell_price'] == 0)].buy_price.iloc[-1] + 0.5 * stock_df_dict[symbol].shift(1).loc[today, 'N'])\n",
    "        \n",
    "#         n_order_df = order_df.values\n",
    "#         n_stock_df = stock_df_dict[symbol].values\n",
    "#         today_idx = stock_df_dict[symbol].index.get_loc(today)\n",
    "#         is_has_order = (len(n_order_df[n_order_df[:, 1] == symbol]) != 0)\n",
    "#         is_order_soldout = not is_has_order and (len(n_order_df[n_order_df[:, 6] == symbol]) == 0)\n",
    "        \n",
    "#         is_has_order = (len(order_df[order_df['symbol'] == symbol]) != 0)\n",
    "#         is_order_soldout = (len(order_df[(order_df['symbol'] == symbol) & (order_df['sell_price'] == 0)]) == 0)\n",
    "        \n",
    "    \n",
    "#         '''\n",
    "#         'buy_date', 'symbol', 'buy_count', 'buy_price', 'buy_reason', 'sell_date', 'sell_price', 'sell_reason', 'profit', 'cash', 'property'\n",
    "#         stock_df['ROLLING_%d_MAX' % TURTLE_SHORT_BUY_N] = stock_df['open'].rolling(TURTLE_SHORT_BUY_N).max()\n",
    "#         stock_df['ROLLING_%d_MIN' % TURTLE_SHORT_SELL_N] = stock_df['open'].rolling(TURTLE_SHORT_SELL_N).min()\n",
    "#         stock_df['ROLLING_%d_MAX' % TURTLE_LONG_BUY_N] = stock_df['open'].rolling(TURTLE_LONG_BUY_N).max()\n",
    "#         stock_df['ROLLING_%d_MIN' % TURTLE_LONG_SELL_N] = stock_df['open'].rolling(TURTLE_LONG_SELL_N).min()\n",
    "#         '''\n",
    "\n",
    "        today_market = stock_df_dict[symbol].loc[today]\n",
    "        \n",
    "        # 突破下行趋势，清仓退出\n",
    "        order_arr = order_df.to_records(index=False)\n",
    "        if len(order_arr[(order_arr.symbol == symbol) & (order_arr.sell_price == 0)] ) != 0:\n",
    "            is_sell = False\n",
    "            for idx in order_df[(order_df['symbol'] == symbol) & (order_df['sell_price'] == 0)].index:\n",
    "                cur_order = order_df.loc[idx]\n",
    "                if cur_order.buy_reason == 'SHORT':\n",
    "                    is_sell = (today_market.open <= today_market['ROLLING_%d_MIN' % TURTLE_SHORT_SELL_N])\n",
    "                if cur_order.buy_reason == 'LONG':\n",
    "                    is_sell = (today_market.open <= today_market['ROLLING_%d_MIN' % TURTLE_LONG_SELL_N])\n",
    "                if is_sell:\n",
    "                    CASH += cur_order.buy_count * today_market.open\n",
    "                    order_df.loc[idx, 'sell_date'] = today\n",
    "                    order_df.loc[idx, 'sell_price'] = today_market.open\n",
    "                    order_df.loc[idx, 'sell_reason'] = 'EXIT'\n",
    "                    order_df.loc[idx, 'profit'] = \\\n",
    "                        (today_market.open - cur_order.buy_price) * cur_order.buy_count\n",
    "#                 print(today, '退出', stock_df_dict[symbol].loc[today, 'open'], CASH)\n",
    "\n",
    "\n",
    "        # 突破上行趋势，就买一份\n",
    "        order_arr = order_df.to_records(index=False)\n",
    "        if today_market.MA60 >= today_market.MA180:\n",
    "#         if today_market.MA30 >= today_market.MA180:\n",
    "            is_buy = False\n",
    "            if today_market.open >= today_market['ROLLING_%d_MAX' % TURTLE_LONG_BUY_N]:\n",
    "                is_buy = True\n",
    "                buy_reason = 'LONG'\n",
    "            elif False and today_market.open >= today_market['ROLLING_%d_MAX' % TURTLE_SHORT_BUY_N]:\n",
    "                is_buy = True\n",
    "                buy_reason = 'SHORT'\n",
    "            if is_buy:\n",
    "                buy_count = 0\n",
    "                \n",
    "                if IS_SLIPPAGE:\n",
    "                    buy_price = today_market.open * (1 + random.randint(0, 20) / 1000)\n",
    "                else:\n",
    "                    buy_price = today_market.open\n",
    "\n",
    "                if CASH >= START_MONEY / TURTLE_POS:\n",
    "                    buy_count = int((START_MONEY / TURTLE_POS) / buy_price)\n",
    "                \n",
    "                if IS_RANDOM_BUY:\n",
    "                    if random.randint(0, 100) > 50:\n",
    "                        buy_count = 0\n",
    "\n",
    "                if buy_count > 0:\n",
    "                    CASH -= buy_count * buy_price\n",
    "#                     print(today, '建仓', buy_count, stock_df_dict[symbol].loc[today, 'open'], CASH)\n",
    "                    order_df = order_df.append(\n",
    "                        {\n",
    "                            'buy_date': today,\n",
    "                            'symbol': symbol,\n",
    "                            'buy_count': buy_count,\n",
    "                            'buy_price': today_market.open,\n",
    "                            'buy_reason': buy_reason,\n",
    "                            'sell_date': pd.np.nan,\n",
    "                            'sell_price': 0,\n",
    "                            'profit': 0,\n",
    "                            'cash': CASH,\n",
    "                            'property': PROPERTY,\n",
    "                        },\n",
    "                        ignore_index=True\n",
    "                    )\n",
    "                else:\n",
    "                    if buy_reason == 'LONG':\n",
    "                        miss_buy_long += 1\n",
    "                    elif buy_reason == 'SHORT':\n",
    "                        miss_buy_short += 1\n",
    "            \n",
    "    # 每天盘点财产\n",
    "    show_df.loc[today, 'CASH_TURTLE_%d_%d_%d' % (TURTLE_POS, TURTLE_LONG_BUY_N, TURTLE_LONG_SELL_N)] = CASH\n",
    "    PROPERTY = CASH + \\\n",
    "        sum(\n",
    "            [\n",
    "                stock_df_dict[order_df.loc[idx, 'symbol']].loc[today, 'open'] * order_df.loc[idx, 'buy_count'] \\\n",
    "                for idx in order_df.loc[order_df['sell_price']==0].index\n",
    "            ]\n",
    "        )\n",
    "    show_df.loc[today, 'PROPERTY_TURTLE_%d_%d_%d' % (TURTLE_POS, TURTLE_LONG_BUY_N, TURTLE_LONG_SELL_N)] = PROPERTY\n",
    "\n",
    "    yesterday = today\n",
    "            \n",
    "\n",
    "print(CASH)\n",
    "print(HAPPY_MONEY)\n",
    "print(PROPERTY)\n",
    "\n",
    "s_p = stock_df_dict['NDX'][start_date:].iloc[0].open\n",
    "e_p = stock_df_dict['NDX'].iloc[-1].open\n",
    "print('NDX', s_p, e_p, e_p / s_p)\n"
   ]
  },
  {
   "cell_type": "code",
   "execution_count": 9,
   "metadata": {
    "scrolled": false
   },
   "outputs": [
    {
     "data": {
      "text/plain": [
       "'ALL'"
      ]
     },
     "execution_count": 9,
     "metadata": {},
     "output_type": "execute_result"
    },
    {
     "data": {
      "text/plain": [
       "('start_date', '2008-06-02')"
      ]
     },
     "execution_count": 9,
     "metadata": {},
     "output_type": "execute_result"
    },
    {
     "data": {
      "text/plain": [
       "('end_date', '2018-06-06')"
      ]
     },
     "execution_count": 9,
     "metadata": {},
     "output_type": "execute_result"
    },
    {
     "data": {
      "text/plain": [
       "('TURTLE_POS', 20)"
      ]
     },
     "execution_count": 9,
     "metadata": {},
     "output_type": "execute_result"
    },
    {
     "data": {
      "text/plain": [
       "('TURTLE_SHORT_BUY_N', 20)"
      ]
     },
     "execution_count": 9,
     "metadata": {},
     "output_type": "execute_result"
    },
    {
     "data": {
      "text/plain": [
       "('TURTLE_SHORT_SELL_N', 20)"
      ]
     },
     "execution_count": 9,
     "metadata": {},
     "output_type": "execute_result"
    },
    {
     "data": {
      "text/plain": [
       "('TURTLE_LONG_BUY_N', 60)"
      ]
     },
     "execution_count": 9,
     "metadata": {},
     "output_type": "execute_result"
    },
    {
     "data": {
      "text/plain": [
       "('TURTLE_LONG_SELL_N', 60)"
      ]
     },
     "execution_count": 9,
     "metadata": {},
     "output_type": "execute_result"
    },
    {
     "data": {
      "text/plain": [
       "('IS_HAPPYMONEY', False)"
      ]
     },
     "execution_count": 9,
     "metadata": {},
     "output_type": "execute_result"
    },
    {
     "data": {
      "text/plain": [
       "('IS_TAX', False)"
      ]
     },
     "execution_count": 9,
     "metadata": {},
     "output_type": "execute_result"
    },
    {
     "data": {
      "text/plain": [
       "('IS_SLIPPAGE', True)"
      ]
     },
     "execution_count": 9,
     "metadata": {},
     "output_type": "execute_result"
    },
    {
     "data": {
      "text/plain": [
       "('IS_RANDOM_BUY', True)"
      ]
     },
     "execution_count": 9,
     "metadata": {},
     "output_type": "execute_result"
    },
    {
     "data": {
      "text/plain": [
       "('START_MONEY', 10000)"
      ]
     },
     "execution_count": 9,
     "metadata": {},
     "output_type": "execute_result"
    },
    {
     "data": {
      "text/plain": [
       "('len(order_df)', 699)"
      ]
     },
     "execution_count": 9,
     "metadata": {},
     "output_type": "execute_result"
    },
    {
     "data": {
      "text/plain": [
       "('sum_profit', 27551.374400000019)"
      ]
     },
     "execution_count": 9,
     "metadata": {},
     "output_type": "execute_result"
    },
    {
     "data": {
      "text/plain": [
       "('sum_tax', 0)"
      ]
     },
     "execution_count": 9,
     "metadata": {},
     "output_type": "execute_result"
    },
    {
     "data": {
      "text/plain": [
       "('win rate', 0.48534201954397393)"
      ]
     },
     "execution_count": 9,
     "metadata": {},
     "output_type": "execute_result"
    },
    {
     "data": {
      "text/plain": [
       "('len(order_df[order_df.profit != 0])', 614)"
      ]
     },
     "execution_count": 9,
     "metadata": {},
     "output_type": "execute_result"
    },
    {
     "data": {
      "text/plain": [
       "('len(order_df[order_df.profit > 0])', 298)"
      ]
     },
     "execution_count": 9,
     "metadata": {},
     "output_type": "execute_result"
    },
    {
     "data": {
      "text/plain": [
       "('order LONG', 699)"
      ]
     },
     "execution_count": 9,
     "metadata": {},
     "output_type": "execute_result"
    },
    {
     "data": {
      "text/plain": [
       "298"
      ]
     },
     "execution_count": 9,
     "metadata": {},
     "output_type": "execute_result"
    },
    {
     "data": {
      "text/plain": [
       "27551.374400000019"
      ]
     },
     "execution_count": 9,
     "metadata": {},
     "output_type": "execute_result"
    },
    {
     "data": {
      "text/plain": [
       "('order SHORT', 0)"
      ]
     },
     "execution_count": 9,
     "metadata": {},
     "output_type": "execute_result"
    },
    {
     "data": {
      "text/plain": [
       "0"
      ]
     },
     "execution_count": 9,
     "metadata": {},
     "output_type": "execute_result"
    },
    {
     "data": {
      "text/plain": [
       "0"
      ]
     },
     "execution_count": 9,
     "metadata": {},
     "output_type": "execute_result"
    },
    {
     "data": {
      "text/plain": [
       "('cum_returns', 3.2170430701999884, 3.1181726936422995)"
      ]
     },
     "execution_count": 9,
     "metadata": {},
     "output_type": "execute_result"
    },
    {
     "data": {
      "text/plain": [
       "('max_drawdown', -0.19427451331316947, -0.1778840133363587)"
      ]
     },
     "execution_count": 9,
     "metadata": {},
     "output_type": "execute_result"
    },
    {
     "data": {
      "text/plain": [
       "('annual_return', 0.18300119451256602, 0.1797282960178519)"
      ]
     },
     "execution_count": 9,
     "metadata": {},
     "output_type": "execute_result"
    },
    {
     "data": {
      "text/plain": [
       "('annual_volatility', 0.185102910820317)"
      ]
     },
     "execution_count": 9,
     "metadata": {},
     "output_type": "execute_result"
    },
    {
     "data": {
      "text/plain": [
       "('calmar_ratio', 0.94197221957555022)"
      ]
     },
     "execution_count": 9,
     "metadata": {},
     "output_type": "execute_result"
    },
    {
     "data": {
      "text/plain": [
       "('sharpe_ratio', 1.0014469859069695)"
      ]
     },
     "execution_count": 9,
     "metadata": {},
     "output_type": "execute_result"
    },
    {
     "data": {
      "text/plain": [
       "('alpha', 0.032729561712560515)"
      ]
     },
     "execution_count": 9,
     "metadata": {},
     "output_type": "execute_result"
    },
    {
     "data": {
      "text/plain": [
       "('beta', 0.8468095306547998)"
      ]
     },
     "execution_count": 9,
     "metadata": {},
     "output_type": "execute_result"
    },
    {
     "data": {
      "text/plain": [
       "('ALL DAY', 2158)"
      ]
     },
     "execution_count": 9,
     "metadata": {},
     "output_type": "execute_result"
    },
    {
     "data": {
      "text/plain": [
       "'CASH_TURTLE_20_60_60'"
      ]
     },
     "execution_count": 9,
     "metadata": {},
     "output_type": "execute_result"
    },
    {
     "data": {
      "text/plain": [
       "'PROPERTY_TURTLE_20_60_60'"
      ]
     },
     "execution_count": 9,
     "metadata": {},
     "output_type": "execute_result"
    },
    {
     "data": {
      "text/plain": [
       "('CASH NOT USED DAY', 402)"
      ]
     },
     "execution_count": 9,
     "metadata": {},
     "output_type": "execute_result"
    },
    {
     "data": {
      "text/plain": [
       "('MISS_BUY_SIGNAL_LONG', 18968)"
      ]
     },
     "execution_count": 9,
     "metadata": {},
     "output_type": "execute_result"
    },
    {
     "data": {
      "text/plain": [
       "('MISS_BUY_SIGNAL_SHORT', 0)"
      ]
     },
     "execution_count": 9,
     "metadata": {},
     "output_type": "execute_result"
    }
   ],
   "source": [
    "'ALL'\n",
    "'start_date', start_date\n",
    "'end_date', end_date\n",
    "'TURTLE_POS', TURTLE_POS\n",
    "'TURTLE_SHORT_BUY_N', TURTLE_SHORT_BUY_N\n",
    "'TURTLE_SHORT_SELL_N', TURTLE_SHORT_SELL_N\n",
    "'TURTLE_LONG_BUY_N', TURTLE_LONG_BUY_N\n",
    "'TURTLE_LONG_SELL_N', TURTLE_LONG_SELL_N\n",
    "'IS_HAPPYMONEY', IS_HAPPYMONEY\n",
    "'IS_TAX', IS_TAX\n",
    "'IS_SLIPPAGE', IS_SLIPPAGE\n",
    "'IS_RANDOM_BUY', IS_RANDOM_BUY\n",
    "'START_MONEY', START_MONEY\n",
    "\n",
    "'len(order_df)', len(order_df)\n",
    "sum_profit = sum(list(order_df['profit']))\n",
    "'sum_profit', sum_profit\n",
    "# sum_tax = sum(list(order_df_TB['tax']))\n",
    "sum_tax = 0\n",
    "'sum_tax', sum_tax\n",
    "'win rate', len(order_df[order_df.profit > 0]) / len(order_df[order_df.profit != 0])\n",
    "# 'REWARD', ((sum_profit - sum_tax) / START_MONEY + 1) ** (365 / count_day)\n",
    "'len(order_df[order_df.profit != 0])', len(order_df[order_df.profit != 0])\n",
    "'len(order_df[order_df.profit > 0])', len(order_df[order_df.profit > 0])\n",
    "'order LONG', len(order_df[order_df.buy_reason == 'LONG'])\n",
    "len(order_df[(order_df.buy_reason == 'LONG') & (order_df.profit > 0)])\n",
    "sum(list(order_df[order_df.buy_reason == 'LONG']['profit']))\n",
    "'order SHORT', len(order_df[order_df.buy_reason == 'SHORT'])\n",
    "len(order_df[(order_df.buy_reason == 'SHORT') & (order_df.profit > 0)])\n",
    "sum(list(order_df[order_df.buy_reason == 'SHORT']['profit']))\n",
    "\n",
    "# order_df\n",
    "# order_df.loc[order_df['sell_price']==0]\n",
    "\n",
    "calc_df = order_df.copy()\n",
    "calc_df['profit_pct'] = calc_df['profit'] / (calc_df['buy_count'] * calc_df['buy_price'])\n",
    "# calc_df[calc_df.symbol == 'BIDU']\n",
    "# calc_df[calc_df.profit > 0]\n",
    "# calc_df\n",
    "\n",
    "# order_df[order_df.profit > 0]\n",
    "\n",
    "# csv_file = 'E:/Dev/result/T_TURTLE_POS%d_TURTLE_BUY_N%d_TURTLE_SELL_N%d_START_MONEY%d_%s_%s.csv' % \\\n",
    "#     (TURTLE_POS, TURTLE_BUY_N, TURTLE_SELL_N, START_MONEY, start_date, end_date)\n",
    "# calc_df.to_csv(csv_file)\n",
    "\n",
    "# list(show_df.dropna(how='any', inplace=False).PROPERTY_TURTLE_20_60_60.apply(int).tail(50))\n",
    "# list(show_df.open.apply(int).tail(50))\n",
    "\n",
    "df = show_df.dropna(how='any', inplace=False).copy()\n",
    "algo = df['PROPERTY_TURTLE_%d_%d_%d' % (TURTLE_POS, TURTLE_LONG_BUY_N, TURTLE_LONG_SELL_N)].pct_change()\n",
    "benchmark = df.open.pct_change()\n",
    "\n",
    "'cum_returns', emp.cum_returns(algo)[-1], emp.cum_returns(benchmark)[-1]\n",
    "'max_drawdown', emp.max_drawdown(algo), emp.max_drawdown(benchmark)\n",
    "'annual_return', emp.annual_return(algo), emp.annual_return(benchmark)\n",
    "'annual_volatility', emp.annual_volatility(algo, period='daily')\n",
    "'calmar_ratio', emp.calmar_ratio(algo)\n",
    "'sharpe_ratio', emp.sharpe_ratio(returns=algo)\n",
    "'alpha', emp.alpha(returns=algo, factor_returns=benchmark, risk_free=0.00)\n",
    "'beta', emp.beta(returns=algo, factor_returns=benchmark, risk_free=0.00)\n",
    "\n",
    "'ALL DAY', len(df)\n",
    "'CASH_TURTLE_%d_%d_%d' % (TURTLE_POS, TURTLE_LONG_BUY_N, TURTLE_LONG_SELL_N)\n",
    "'PROPERTY_TURTLE_%d_%d_%d' % (TURTLE_POS, TURTLE_LONG_BUY_N, TURTLE_LONG_SELL_N)\n",
    "'CASH NOT USED DAY', \\\n",
    "    len(df[df['CASH_TURTLE_%d_%d_%d' % (TURTLE_POS, TURTLE_LONG_BUY_N, TURTLE_LONG_SELL_N)] > \\\n",
    "           df['PROPERTY_TURTLE_%d_%d_%d' % (TURTLE_POS, TURTLE_LONG_BUY_N, TURTLE_LONG_SELL_N)] / TURTLE_POS])\n",
    "'MISS_BUY_SIGNAL_LONG', miss_buy_long\n",
    "'MISS_BUY_SIGNAL_SHORT', miss_buy_short"
   ]
  },
  {
   "cell_type": "code",
   "execution_count": 10,
   "metadata": {
    "scrolled": true
   },
   "outputs": [
    {
     "data": {
      "text/plain": [
       "59"
      ]
     },
     "execution_count": 10,
     "metadata": {},
     "output_type": "execute_result"
    }
   ],
   "source": [
    "bad_stock_cnt = 0\n",
    "s_p = stock_df_dict['NDX'][start_date:].iloc[0].open\n",
    "e_p = stock_df_dict['NDX'].iloc[-1].open\n",
    "benchmark_return = e_p / s_p\n",
    "for symbol, stock_df in stock_df_dict.items():\n",
    "    df = stock_df.loc[start_date:end_date, 'close']\n",
    "#     print(df)\n",
    "    s_p = df.head(1).values\n",
    "    e_p = df.tail(1).values\n",
    "#     print(symbol, s_p, e_p, e_p / s_p)\n",
    "    if e_p / s_p < benchmark_return:\n",
    "        bad_stock_cnt += 1\n",
    "bad_stock_cnt\n"
   ]
  },
  {
   "cell_type": "code",
   "execution_count": 11,
   "metadata": {
    "scrolled": false
   },
   "outputs": [],
   "source": [
    "%matplotlib inline\n",
    "\n",
    "import sys\n",
    "import matplotlib\n",
    "import matplotlib.pyplot as plt\n",
    "plt.rcParams['figure.figsize'] = [15, 10]\n",
    "\n",
    "# order_df_TB\n",
    "bar_df = order_df.copy()\n",
    "df = bar_df.sort_values(by=['profit'])\n",
    "# df\n",
    "\n",
    "bins = [100 * x for x in range(-200, 500)]\n",
    "# bins\n",
    "\n",
    "cats = pd.cut(df['profit'], bins)\n",
    "# cats\n",
    "\n",
    "def get_stats(group):\n",
    "    return {'count': group.count()}\n",
    "\n",
    "grouped = df['profit'].groupby(cats)\n",
    "bin_counts = grouped.apply(get_stats).unstack()\n",
    "bin_counts.reset_index(inplace=True, drop=False)\n",
    "bin_counts['profit'] = bin_counts['profit'].apply(str)\n",
    "# bin_counts\n",
    "\n",
    "# df['profit'].hist(bins=10)\n",
    "\n",
    "# bin_counts.plot(kind='barh', alpha=0.5, rot=0)\n",
    "\n",
    "# display_charts(bin_counts, kind='bar', x='profit', figsize=(900, 600), logy=True)"
   ]
  },
  {
   "cell_type": "code",
   "execution_count": 12,
   "metadata": {
    "scrolled": false
   },
   "outputs": [
    {
     "data": {
      "text/plain": [
       "Index(['open', 'high', 'low', 'close', 'volume', 'o_pct_chg', 'ROLLING_20_MAX',\n",
       "       'ROLLING_20_MIN', 'ROLLING_60_MAX', 'ROLLING_60_MIN', 'MA360', 'MA180',\n",
       "       'MA60', 'MA30', 'CASH_TURTLE_20_60_60', 'PROPERTY_TURTLE_20_60_60'],\n",
       "      dtype='object')"
      ]
     },
     "execution_count": 12,
     "metadata": {},
     "output_type": "execute_result"
    },
    {
     "data": {
      "image/png": "[encoded data removed]",
      "text/plain": [
       "<matplotlib.figure.Figure at 0xe24ebd0>"
      ]
     },
     "metadata": {},
     "output_type": "display_data"
    }
   ],
   "source": [
    "%matplotlib inline\n",
    "\n",
    "import matplotlib\n",
    "import matplotlib.pyplot as plt\n",
    "plt.rcParams['figure.figsize'] = [15, 10]\n",
    "\n",
    "df = show_df.dropna(how='any', inplace=False).copy()\n",
    "# df.drop(columns=['open', 'high', 'low', 'o_pct_chg', 'TR', 'N'], inplace=True)\n",
    "df.columns\n",
    "\n",
    "df['close'] = (df['close'] - df.iloc[0]['close']) / df.iloc[0]['close']\n",
    "ax = df.plot(kind='line', y='close', label='NDX_%.2f' % df.iloc[-1]['close'], linewidth=1, grid=True)\n",
    "for col in sorted(df.columns):\n",
    "    if 'PROPERTY' in col:\n",
    "        df[col] = (df[col] - df.iloc[1][col]) / df.iloc[0][col]\n",
    "        ax = df.plot(kind='line', y=col, secondary_y=False, label='%s_%.2f' % (col, df.iloc[-1][col]), linewidth=1, grid=True, ax=ax)\n",
    "\n",
    "# display_charts(df, kind='line', figsize=(900, 600), logy=False)"
   ]
  }
 ],
 "metadata": {
  "kernelspec": {
   "display_name": "Python 3",
   "language": "python",
   "name": "python3"
  },
  "language_info": {
   "codemirror_mode": {
    "name": "ipython",
    "version": 3
   },
   "file_extension": ".py",
   "mimetype": "text/x-python",
   "name": "python",
   "nbconvert_exporter": "python",
   "pygments_lexer": "ipython3",
   "version": "3.6.1"
  }
 },
 "nbformat": 4,
 "nbformat_minor": 2
}
