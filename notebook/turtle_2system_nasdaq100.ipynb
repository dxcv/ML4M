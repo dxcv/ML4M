{
 "cells": [
  {
   "cell_type": "code",
   "execution_count": 1,
   "metadata": {
    "scrolled": true
   },
   "outputs": [
    {
     "data": {
      "text/html": [
       "\n",
       "<script src=\"//code.highcharts.com/stock/highstock.js\"></script>\n",
       "<script src=\"//code.highcharts.com/highcharts-more.js\"></script>\n",
       "<script src=\"//code.highcharts.com/modules/exporting.js\"></script>\n"
      ],
      "text/plain": [
       "<IPython.core.display.HTML object>"
      ]
     },
     "metadata": {},
     "output_type": "display_data"
    },
    {
     "data": {
      "text/plain": [
       "<module 'pandas' from '/usr/local/lib/python3.6/site-packages/pandas/__init__.py'>"
      ]
     },
     "execution_count": 1,
     "metadata": {},
     "output_type": "execute_result"
    }
   ],
   "source": [
    "import os\n",
    "import sys\n",
    "sys.path.append(os.path.abspath(os.path.join(os.getcwd(), '..')))\n",
    "\n",
    "import pandas as pd\n",
    "pd.core.common.is_list_like = pd.api.types.is_list_like\n",
    "# import empyrical as emp\n",
    "import time\n",
    "import random\n",
    "# from concurrent.futures import ProcessPoolExecutor\n",
    "\n",
    "from common.log import *\n",
    "from common.config import Config\n",
    "from spider.spider_nasdaq import Spider_nasdaq\n",
    "\n",
    "from IPython.core.interactiveshell import InteractiveShell\n",
    "InteractiveShell.ast_node_interactivity = 'all'\n",
    "\n",
    "from pandas_highcharts.core import serialize\n",
    "from pandas_highcharts.display import display_charts\n",
    "\n",
    "CONF = Config().data[0]\n",
    "MONGODB = CONF['MONGODB']\n",
    "NASDAQ = CONF['NASDAQ']\n",
    "CRYPTOCURRENCY = CONF['CRYPTOCURRENCY']\n",
    "NASDAQ100 = CONF['NASDAQ100']\n",
    "# print(NASDAQ100)\n",
    "# NASDAQ100 = ['NDX', 'TSLA', 'NVDA', 'AMZN', 'GOOGL', 'GOOG', 'BIDU', 'FB', 'JD']\n",
    "\n",
    "pd"
   ]
  },
  {
   "cell_type": "code",
   "execution_count": 2,
   "metadata": {
    "scrolled": false
   },
   "outputs": [
    {
     "name": "stdout",
     "output_type": "stream",
     "text": [
      "CPU times: user 0 ns, sys: 0 ns, total: 0 ns\n",
      "Wall time: 47.9 µs\n"
     ]
    }
   ],
   "source": [
    "%%time\n",
    "\n",
    "spider = Spider_nasdaq()\n",
    "timeframe = '10y'\n",
    "ignore = True\n",
    "\n",
    "for symbol in NASDAQ100:\n",
    "# for symbol in ['NDX', 'TSLA']:\n",
    "#     if symbol == 'VRTX':\n",
    "#         ignore = False\n",
    "#     if ignore:\n",
    "#         continue\n",
    "#     datafile = spider.get_stock_data(symbol, timeframe)\n",
    "#     print(datafile)\n",
    "    pass"
   ]
  },
  {
   "cell_type": "code",
   "execution_count": 3,
   "metadata": {},
   "outputs": [
    {
     "name": "stdout",
     "output_type": "stream",
     "text": [
      "CPU times: user 0 ns, sys: 0 ns, total: 0 ns\n",
      "Wall time: 27.2 µs\n"
     ]
    }
   ],
   "source": [
    "%%time\n",
    "\n",
    "### 时间设置\n",
    "start_date = '2008-06-02'\n",
    "# start_date = '2010-01-01'\n",
    "start_date = '2015-01-01'\n",
    "start_date = '2017-01-01'\n",
    "start_date = '2018-01-01'\n",
    "end_date = '2018-07-01'\n",
    "\n",
    "TURTLE_POS = 20\n",
    "### Turtle System One - Short\n",
    "TURTLE_SHORT_BUY_N = 20\n",
    "TURTLE_SHORT_SELL_N = 20\n",
    "### Turtle System Two - Long\n",
    "TURTLE_LONG_BUY_N = 60\n",
    "TURTLE_LONG_SELL_N = 60\n",
    "\n",
    "### 业务设置\n",
    "IS_HAPPYMONEY = False\n",
    "IS_TAX = False\n",
    "IS_SLIPPAGE = False\n",
    "IS_RANDOM_BUY = False\n",
    "IS_UNIQUE_BUY = False\n",
    "START_MONEY = 1000000\n",
    "HAPPY_MONEY = 0\n",
    "PROPERTY = START_MONEY\n",
    "CASH = START_MONEY\n"
   ]
  },
  {
   "cell_type": "code",
   "execution_count": 4,
   "metadata": {},
   "outputs": [
    {
     "name": "stdout",
     "output_type": "stream",
     "text": [
      "CPU times: user 2min 56s, sys: 366 ms, total: 2min 56s\n",
      "Wall time: 2min 57s\n"
     ]
    }
   ],
   "source": [
    "%%time\n",
    "\n",
    "stock_df_dict = {}\n",
    "\n",
    "for symbol in NASDAQ100[:]:\n",
    "    stock_data_file = '../database/market/%s.csv' % symbol\n",
    "    stock_df = pd.read_csv(stock_data_file)\n",
    "\n",
    "    # 筛选字段\n",
    "#     stock_df = stock_df.loc[:, ['date', 'open', 'close']]\n",
    "\n",
    "    # 去掉Nasdaq行情首行的当天行情\n",
    "    if symbol in NASDAQ:\n",
    "        stock_df = stock_df.drop([0])\n",
    "\n",
    "    # 抛弃空值异常值\n",
    "    stock_df.dropna(axis=0, how='any', inplace=True)\n",
    "\n",
    "    # 格式化日期\n",
    "    # 1.48 s ± 45.8 ms per loop (mean ± std. dev. of 7 runs, 1 loop each)\n",
    "#     stock_df['date'] = stock_df['date'].apply(lambda x: pd.Period(x, freq='D'))\n",
    "\n",
    "    # 445 ms ± 17.5 ms per loop (mean ± std. dev. of 7 runs, 1 loop each)\n",
    "    stock_df = stock_df.assign(date=pd.to_datetime(stock_df['date']))  # need .index.to_period('D')\n",
    "\n",
    "    # 476 ms ± 46.6 ms per loop (mean ± std. dev. of 7 runs, 1 loop each)\n",
    "#     stock_df['date'] = pd.to_datetime(stock_df['date'])  # need .index.to_period('D')\n",
    "    \n",
    "    # 转换字段格式\n",
    "#     stock_df = stock_df.astype(dtype={'volume': 'float64'})\n",
    "\n",
    "    # 用日期作索引，日期升序排序\n",
    "    # 95.1 µs ± 1.58 µs per loop (mean ± std. dev. of 7 runs, 10000 loops each)\n",
    "    stock_df = stock_df[::-1]\n",
    "    \n",
    "    # 407 µs ± 5.07 µs per loop (mean ± std. dev. of 7 runs, 1000 loops each)\n",
    "#     %timeit stock_df.set_index(['date'], inplace=False)\n",
    "\n",
    "    # Wall time: 500 µs\n",
    "    stock_df.set_index(['date'], inplace=True)\n",
    "    \n",
    "    # 305 µs ± 2.75 µs per loop (mean ± std. dev. of 7 runs, 1000 loops each)\n",
    "#     stock_df = stock_df.sort_index(axis=0, ascending=True)\n",
    "    \n",
    "    # 822 µs ± 41.3 µs per loop (mean ± std. dev. of 7 runs, 1000 loops each)\n",
    "    stock_df.index = stock_df.index.to_period('D')\n",
    "\n",
    "    # 计算涨跌幅\n",
    "#     stock_df['c_pct_chg'] = stock_df.close.pct_change(1)\n",
    "    stock_df['o_pct_chg'] = stock_df.open.pct_change(1)\n",
    "    \n",
    "    # Turtle指标\n",
    "#     stock_df['TR1'] = abs(stock_df['high'] - stock_df['low'])\n",
    "#     stock_df['TR2'] = abs(stock_df['high'] - stock_df['close'].shift())\n",
    "#     stock_df['TR3'] = abs(stock_df['low'] - stock_df['close'].shift())\n",
    "#     stock_df['TR'] = stock_df[['TR1', 'TR2', 'TR3']].max(axis=1)\n",
    "#     stock_df['N'] = stock_df['TR'].rolling(20).mean()\n",
    "#     stock_df['UNIT'] = (0.01 * START_MONEY) / (stock_df['N'])\n",
    "    stock_df['ROLLING_%d_MAX' % TURTLE_SHORT_BUY_N] = stock_df['open'].rolling(TURTLE_SHORT_BUY_N).max()\n",
    "    stock_df['ROLLING_%d_MIN' % TURTLE_SHORT_SELL_N] = stock_df['open'].rolling(TURTLE_SHORT_SELL_N).min()\n",
    "    stock_df['ROLLING_%d_MAX' % TURTLE_LONG_BUY_N] = stock_df['open'].rolling(TURTLE_LONG_BUY_N).max()\n",
    "    stock_df['ROLLING_%d_MIN' % TURTLE_LONG_SELL_N] = stock_df['open'].rolling(TURTLE_LONG_SELL_N).min()\n",
    "#     stock_df['MA%d' % TURTLE_BUY_N] = stock_df['open'].rolling(TURTLE_BUY_N).mean()\n",
    "#     stock_df['MA%d' % TURTLE_SELL_N] = stock_df['open'].rolling(TURTLE_SELL_N).mean()\n",
    "#     stock_df['EWMA'] = stock_df['open'].ewm(alpha=0.1, adjust=False).mean()\n",
    "#     stock_df['MA360'] = stock_df['open'].rolling(360).mean()\n",
    "    stock_df['MA180'] = stock_df['open'].rolling(180).mean()\n",
    "    stock_df['MA60'] = stock_df['open'].rolling(60).mean()\n",
    "    stock_df['MA30'] = stock_df['open'].rolling(30).mean()\n",
    "    \n",
    "#     stock_df['ops'] = ''\n",
    "#     stock_df['profit'] = 0\n",
    "    \n",
    "    # 减少数据\n",
    "    # stock_df = stock_df['2016-01-01':]\n",
    "    stock_df.dropna(how='any', inplace=True)\n",
    "#     stock_df.drop(columns=['volume', 'TR1', 'TR2', 'TR3'], inplace=True)\n",
    "    \n",
    "    stock_df_dict[symbol] = stock_df\n",
    "    \n",
    "#     print(stock_df.head(10))\n",
    "#     print(stock_df.dtypes)\n",
    "#     print(stock_df.index[0])\n",
    "#     print(type(stock_df.index[0]))"
   ]
  },
  {
   "cell_type": "code",
   "execution_count": 5,
   "metadata": {
    "scrolled": false
   },
   "outputs": [],
   "source": [
    "# %matplotlib inline\n",
    "\n",
    "# import matplotlib\n",
    "# import matplotlib.pyplot as plt\n",
    "# plt.rcParams['figure.figsize'] = [30, 20]\n",
    "\n",
    "# single_symbol = 'JD'\n",
    "# df = stock_df_dict[single_symbol].tail(600).copy()\n",
    "# df.columns\n",
    "# # df.tail(10)\n",
    "# # df[(df.open == df.rolling_60_max)]\n",
    "# # df[(df.open >= df.rolling_60_max) & (df.MA30 > df.MA60)]\n",
    "# # df[(df.MA30 > df.MA60)]\n",
    "\n",
    "# # df = df.loc[:, ['open', 'ROLLING_60_MAX', 'rolling_30_min', 'MA60', 'MA30']]\n",
    "\n",
    "# df.reset_index(drop=False, inplace=True)\n",
    "# df = df.astype(dtype={'date': 'datetime64[ns]'})\n",
    "# df.set_index('date', inplace=True)\n",
    "# # df.index.astype()\n",
    "\n",
    "# display_charts(df, chart_type='stock', kind='line', y=['open', 'ROLLING_60_MAX', 'ROLLING_60_MIN'], figsize=(900, 600), title=single_symbol)\n",
    "\n",
    "# # display_charts(df)\n",
    "\n",
    "# # ax = df.plot(kind='line', y=['open', 'rolling_max', 'rolling_min'], label='', linewidth=1)\n",
    "\n",
    "# # sum_buy_sig_short = 0\n",
    "# # sum_buy_sig_long = 0\n",
    "# # for symbol in NASDAQ100:\n",
    "# #     tdf = stock_df_dict[symbol]\n",
    "# #     buy_sig_short = tdf[(stock_df_dict[symbol].open == stock_df_dict[symbol]['ROLLING_%d_MAX' % TURTLE_SHORT_BUY_N])]\n",
    "# #     buy_sig_long = tdf[(stock_df_dict[symbol].open == stock_df_dict[symbol]['ROLLING_%d_MAX' % TURTLE_LONG_BUY_N])]\n",
    "# #     buy_sig_short_2 = buy_sig_short[buy_sig_short.MA30 >= buy_sig_short.MA180]\n",
    "# #     buy_sig_long_2 = buy_sig_long[buy_sig_long.MA30 >= buy_sig_long.MA180]\n",
    "# # #     print(symbol, len(tdf), len(buy_sig_short), len(buy_sig_short_2), len(buy_sig_long), len(buy_sig_long_2))\n",
    "# #     sum_buy_sig_short += len(buy_sig_short_2)\n",
    "# #     sum_buy_sig_long += len(buy_sig_long_2)\n",
    "# # print(len(stock_df_dict['NDX']), sum_buy_sig_short, sum_buy_sig_long)"
   ]
  },
  {
   "cell_type": "code",
   "execution_count": 6,
   "metadata": {
    "scrolled": false
   },
   "outputs": [],
   "source": [
    "# algo = stock_df_dict['TSLA'].open.pct_change()\n",
    "# benchmark = stock_df_dict['NDX'].open.pct_change()\n",
    "\n",
    "# 'cum_returns', emp.cum_returns(algo)[-1]\n",
    "# 'max_drawdown', emp.max_drawdown(algo), emp.max_drawdown(benchmark)\n",
    "# 'annual_return', emp.annual_return(algo), emp.annual_return(benchmark)\n",
    "# 'annual_volatility', emp.annual_volatility(algo, period='daily')\n",
    "# 'calmar_ratio', emp.calmar_ratio(algo)\n",
    "# 'sharpe_ratio', emp.sharpe_ratio(returns=algo)\n",
    "# 'alpha', emp.alpha(returns=algo, factor_returns=benchmark, risk_free=0.00)\n",
    "# 'beta', emp.beta(returns=algo, factor_returns=benchmark, risk_free=0.00)\n",
    "\n",
    "# emp_df = None\n",
    "# emp_df = pd.DataFrame(columns=[\n",
    "#     'symbol', 'cum_returns', 'annual_return', 'annual_volatility', 'max_drawdown', 'alpha', 'beta', 'sharpe_ratio', 'calmar_ratio'\n",
    "# ])\n",
    "\n",
    "# for symbol in NASDAQ100:\n",
    "#     algo = stock_df_dict[symbol].open.pct_change()\n",
    "#     emp_df = emp_df.append(\n",
    "#         {\n",
    "#             'symbol': symbol,\n",
    "#             'cum_returns': emp.cum_returns(algo)[-1],\n",
    "#             'annual_return': emp.annual_return(algo),\n",
    "#             'annual_volatility': emp.annual_volatility(algo, period='daily'),\n",
    "#             'max_drawdown': emp.max_drawdown(algo),\n",
    "#             'alpha': round(emp.alpha(returns=algo, factor_returns=benchmark, risk_free=0.00), 2),\n",
    "#             'beta': round(emp.beta(returns=algo, factor_returns=benchmark, risk_free=0.00), 2),\n",
    "#             'sharpe_ratio': emp.sharpe_ratio(returns=algo),\n",
    "#             'calmar_ratio': emp.calmar_ratio(algo)\n",
    "#         },\n",
    "#         ignore_index=True,\n",
    "#     )\n",
    "\n",
    "# # emp_df\n",
    "# # emp_df.sort_values('cum_returns', ascending=False)\n",
    "# # emp_df.sort_values('sharpe_ratio', ascending=False)"
   ]
  },
  {
   "cell_type": "code",
   "execution_count": 7,
   "metadata": {},
   "outputs": [
    {
     "name": "stdout",
     "output_type": "stream",
     "text": [
      "CPU times: user 1 ms, sys: 0 ns, total: 1 ms\n",
      "Wall time: 889 µs\n"
     ]
    }
   ],
   "source": [
    "%%time\n",
    "\n",
    "show_df = None\n",
    "show_df = stock_df_dict['NDX'].copy()"
   ]
  },
  {
   "cell_type": "code",
   "execution_count": 8,
   "metadata": {
    "scrolled": false
   },
   "outputs": [
    {
     "name": "stdout",
     "output_type": "stream",
     "text": [
      "1012346.8856000009\n",
      "0\n",
      "1012346.8856000025\n",
      "NDX 6431.589 7071.489000000001 1.0994932978459913\n",
      "CPU times: user 5min 24s, sys: 667 ms, total: 5min 25s\n",
      "Wall time: 5min 25s\n"
     ]
    }
   ],
   "source": [
    "%%time\n",
    "# %xmode\n",
    "\n",
    "PROPERTY = START_MONEY\n",
    "CASH = START_MONEY\n",
    "\n",
    "order_df = None\n",
    "order_df = pd.DataFrame(columns=[\n",
    "    'buy_date', 'symbol', 'buy_count', 'buy_price', 'buy_reason', 'sell_date', 'sell_price', 'sell_reason', 'profit', 'cash', 'property'\n",
    "])\n",
    "count_day = 0\n",
    "yesterday = None\n",
    "miss_buy_short = 0\n",
    "miss_buy_long = 0\n",
    "\n",
    "for today in pd.period_range(start=start_date, end=end_date, freq='D'):\n",
    "    count_day += 1\n",
    "    \n",
    "    if yesterday is None:\n",
    "        yesterday = today\n",
    "        continue\n",
    "\n",
    "    if today not in stock_df_dict['NDX'].index:\n",
    "        continue\n",
    "\n",
    "    if IS_HAPPYMONEY:        \n",
    "        if PROPERTY > START_MONEY * 2:\n",
    "            HAPPY_MONEY += 50000\n",
    "            PROPERTY -= 50000\n",
    "            CASH = PROPERTY\n",
    "    \n",
    "    # 买卖过程\n",
    "    for symbol in NASDAQ100[:]:\n",
    "#     for symbol in ['TSLA']:\n",
    "        if symbol in ['ALGN', 'ROST', 'ORLY', 'ESRX', 'ULTA', 'REGN', 'MNST']:\n",
    "#             continue\n",
    "            pass\n",
    "\n",
    "        if symbol == 'NDX':\n",
    "            continue\n",
    "        \n",
    "        if today not in stock_df_dict[symbol].index or yesterday not in stock_df_dict[symbol].index:\n",
    "            continue\n",
    "            \n",
    "        # TIME TEST\n",
    "#         print(order_df)\n",
    "#         print(order_df.columns)\n",
    "        \n",
    "#         %timeit (len(order_df[order_df['symbol'] == symbol]) != 0)\n",
    "#         %timeit order_df[order_df['symbol'] == symbol].shape[0] != 0\n",
    "#         %timeit n_order_df = order_df.values\n",
    "#         %timeit len(n_order_df[n_order_df[:, 1] == symbol]) != 0\n",
    "#         %timeit (len(order_df[(order_df['symbol'] == symbol) & (order_df['sell_price'] == 0)]) == 0)\n",
    "\n",
    "\n",
    "#         iiidx = stock_df_dict[symbol].index.get_loc(today)\n",
    "#         print(iiidx, type(iiidx))\n",
    "#         %timeit stock_df_dict[symbol].loc[today]\n",
    "#         %timeit n_stock_df = stock_df_dict[symbol].values\n",
    "#         %timeit n_stock_df[iiidx]\n",
    "        \n",
    "#         %timeit (stock_df_dict[symbol].loc[today, 'open'] >= stock_df_dict[symbol].loc[today, 'rolling_max'])\n",
    "#         %timeit (stock_df_dict[symbol].loc[today, 'open'] >= stock_df_dict[symbol].loc[today, 'rolling_max'])\n",
    "\n",
    "#         %timeit int(stock_df_dict[symbol].shift(1).loc[today, 'Unit'])\n",
    "#         %timeit int(CASH / stock_df_dict[symbol].loc[today, 'open'])\n",
    "#         %timeit buy_count * stock_df_dict[symbol].loc[today, 'open']\n",
    "#         %timeit stock_df_dict[symbol]\n",
    "#         %timeit stock_df_dict[symbol].loc[today, 'open']\n",
    "#         %timeit (stock_df_dict[symbol].loc[today, 'open'] > order_df[(order_df['symbol'] == symbol) & (order_df['sell_price'] == 0)].buy_price.iloc[-1] + 0.5 * stock_df_dict[symbol].shift(1).loc[today, 'N'])\n",
    "        \n",
    "#         n_order_df = order_df.values\n",
    "#         n_stock_df = stock_df_dict[symbol].values\n",
    "#         today_idx = stock_df_dict[symbol].index.get_loc(today)\n",
    "#         is_has_order = (len(n_order_df[n_order_df[:, 1] == symbol]) != 0)\n",
    "#         is_order_soldout = not is_has_order and (len(n_order_df[n_order_df[:, 6] == symbol]) == 0)\n",
    "        \n",
    "#         is_has_order = (len(order_df[order_df['symbol'] == symbol]) != 0)\n",
    "#         is_order_soldout = (len(order_df[(order_df['symbol'] == symbol) & (order_df['sell_price'] == 0)]) == 0)\n",
    "        \n",
    "    \n",
    "#         '''\n",
    "#         'buy_date', 'symbol', 'buy_count', 'buy_price', 'buy_reason', 'sell_date', 'sell_price', 'sell_reason', 'profit', 'cash', 'property'\n",
    "#         stock_df['ROLLING_%d_MAX' % TURTLE_SHORT_BUY_N] = stock_df['open'].rolling(TURTLE_SHORT_BUY_N).max()\n",
    "#         stock_df['ROLLING_%d_MIN' % TURTLE_SHORT_SELL_N] = stock_df['open'].rolling(TURTLE_SHORT_SELL_N).min()\n",
    "#         stock_df['ROLLING_%d_MAX' % TURTLE_LONG_BUY_N] = stock_df['open'].rolling(TURTLE_LONG_BUY_N).max()\n",
    "#         stock_df['ROLLING_%d_MIN' % TURTLE_LONG_SELL_N] = stock_df['open'].rolling(TURTLE_LONG_SELL_N).min()\n",
    "#         '''\n",
    "\n",
    "        today_market = stock_df_dict[symbol].loc[today]\n",
    "        \n",
    "        # 突破下行趋势，清仓退出\n",
    "        order_arr = order_df.to_records(index=False)\n",
    "        if len(order_arr[(order_arr.symbol == symbol) & (order_arr.sell_price == 0)] ) != 0:\n",
    "            is_sell = False\n",
    "            for idx in order_df[(order_df['symbol'] == symbol) & (order_df['sell_price'] == 0)].index:\n",
    "                cur_order = order_df.loc[idx]\n",
    "                if cur_order.buy_reason == 'SHORT':\n",
    "                    is_sell = (today_market.open <= today_market['ROLLING_%d_MIN' % TURTLE_SHORT_SELL_N])\n",
    "                if cur_order.buy_reason == 'LONG':\n",
    "                    is_sell = (today_market.open <= today_market['ROLLING_%d_MIN' % TURTLE_LONG_SELL_N])\n",
    "                if is_sell:\n",
    "                    CASH += cur_order.buy_count * today_market.open\n",
    "                    order_df.loc[idx, 'sell_date'] = today\n",
    "                    order_df.loc[idx, 'sell_price'] = today_market.open\n",
    "                    order_df.loc[idx, 'sell_reason'] = 'EXIT'\n",
    "                    order_df.loc[idx, 'profit'] = \\\n",
    "                        (today_market.open - cur_order.buy_price) * cur_order.buy_count\n",
    "#                 print(today, '退出', stock_df_dict[symbol].loc[today, 'open'], CASH)\n",
    "\n",
    "\n",
    "        # 突破上行趋势，就买一份\n",
    "        order_arr = order_df.to_records(index=False)\n",
    "        if today_market.MA60 >= today_market.MA180:\n",
    "#         if today_market.MA30 >= today_market.MA360:\n",
    "#         if today_market.MA30 >= today_market.MA180:\n",
    "#         if today_market.MA60 >= today_market.MA360:\n",
    "            is_buy = False\n",
    "            if today_market.open >= today_market['ROLLING_%d_MAX' % TURTLE_LONG_BUY_N]:\n",
    "                is_buy = True\n",
    "                buy_reason = 'LONG'\n",
    "            elif False and today_market.open >= today_market['ROLLING_%d_MAX' % TURTLE_SHORT_BUY_N]:\n",
    "                is_buy = True\n",
    "                buy_reason = 'SHORT'\n",
    "            if is_buy:\n",
    "                buy_count = 0\n",
    "                \n",
    "                if IS_SLIPPAGE:\n",
    "                    buy_price = today_market.open * (1 + random.randint(0, 20) / 1000)\n",
    "                else:\n",
    "                    buy_price = today_market.open\n",
    "\n",
    "                if CASH >= START_MONEY / TURTLE_POS:\n",
    "                    buy_count = int((START_MONEY / TURTLE_POS) / buy_price)\n",
    "                \n",
    "                if IS_RANDOM_BUY:\n",
    "                    if random.randint(0, 100) > 50:\n",
    "                        buy_count = 0\n",
    "                \n",
    "                if IS_UNIQUE_BUY:\n",
    "                    if len(order_arr[(order_arr.symbol == symbol) & (order_arr.sell_price == 0)] ) != 0:\n",
    "#                         buy_count = 1\n",
    "                        pass\n",
    "                    else:\n",
    "#                         buy_count = 10\n",
    "                        pass\n",
    "\n",
    "                buy_count = 1\n",
    "                if buy_count > 0:\n",
    "                    buy_count = int(1000 / buy_price)\n",
    "                    CASH -= buy_count * buy_price\n",
    "#                     print(today, '建仓', buy_count, stock_df_dict[symbol].loc[today, 'open'], CASH)\n",
    "                    order_df = order_df.append(\n",
    "                        {\n",
    "                            'buy_date': today,\n",
    "                            'symbol': symbol,\n",
    "                            'buy_count': buy_count,\n",
    "                            'buy_price': today_market.open,\n",
    "                            'buy_reason': buy_reason,\n",
    "                            'sell_date': pd.np.nan,\n",
    "                            'sell_price': 0,\n",
    "                            'profit': 0,\n",
    "                            'cash': CASH,\n",
    "                            'property': PROPERTY,\n",
    "                        },\n",
    "                        ignore_index=True\n",
    "                    )\n",
    "                else:\n",
    "                    if buy_reason == 'LONG':\n",
    "                        miss_buy_long += 1\n",
    "                    elif buy_reason == 'SHORT':\n",
    "                        miss_buy_short += 1\n",
    "            \n",
    "    # 每天盘点财产\n",
    "    show_df.loc[today, 'CASH_TURTLE_%d_%d_%d' % (TURTLE_POS, TURTLE_LONG_BUY_N, TURTLE_LONG_SELL_N)] = CASH\n",
    "    PROPERTY = CASH + \\\n",
    "        sum(\n",
    "            [\n",
    "                stock_df_dict[order_df.loc[idx, 'symbol']][:today].iloc[-1].open * order_df.loc[idx, 'buy_count'] \\\n",
    "                for idx in order_df.loc[order_df['sell_price']==0].index\n",
    "            ]\n",
    "        )\n",
    "    show_df.loc[today, 'PROPERTY_TURTLE_%d_%d_%d' % (TURTLE_POS, TURTLE_LONG_BUY_N, TURTLE_LONG_SELL_N)] = PROPERTY\n",
    "\n",
    "    yesterday = today\n",
    "\n",
    "\n",
    "    \n",
    "# 最后一天，清仓\n",
    "order_arr = order_df.to_records(index=False)\n",
    "for idx in order_df[order_df['sell_price'] == 0].index:\n",
    "    cur_order = order_df.loc[idx]\n",
    "    symbol = cur_order['symbol']\n",
    "    today_market = stock_df_dict[symbol][:today].iloc[-1]\n",
    "    CASH += cur_order.buy_count * today_market.open\n",
    "    order_df.loc[idx, 'sell_date'] = today\n",
    "    order_df.loc[idx, 'sell_price'] = today_market.open\n",
    "    order_df.loc[idx, 'sell_reason'] = 'EXIT'\n",
    "    order_df.loc[idx, 'profit'] = \\\n",
    "        (today_market.open - cur_order.buy_price) * cur_order.buy_count\n",
    "\n",
    "\n",
    "print(CASH)\n",
    "print(HAPPY_MONEY)\n",
    "print(PROPERTY)\n",
    "\n",
    "s_p = stock_df_dict['NDX'][start_date:].iloc[0].open\n",
    "e_p = stock_df_dict['NDX'][:end_date].iloc[-1].open\n",
    "print('NDX', s_p, e_p, e_p / s_p)\n"
   ]
  },
  {
   "cell_type": "code",
   "execution_count": 9,
   "metadata": {
    "scrolled": false
   },
   "outputs": [
    {
     "data": {
      "text/plain": [
       "'ALL'"
      ]
     },
     "execution_count": 9,
     "metadata": {},
     "output_type": "execute_result"
    },
    {
     "data": {
      "text/plain": [
       "('start_date', '2018-01-01')"
      ]
     },
     "execution_count": 9,
     "metadata": {},
     "output_type": "execute_result"
    },
    {
     "data": {
      "text/plain": [
       "('end_date', '2018-07-01')"
      ]
     },
     "execution_count": 9,
     "metadata": {},
     "output_type": "execute_result"
    },
    {
     "data": {
      "text/plain": [
       "('TURTLE_POS', 20)"
      ]
     },
     "execution_count": 9,
     "metadata": {},
     "output_type": "execute_result"
    },
    {
     "data": {
      "text/plain": [
       "('TURTLE_SHORT_BUY_N', 20)"
      ]
     },
     "execution_count": 9,
     "metadata": {},
     "output_type": "execute_result"
    },
    {
     "data": {
      "text/plain": [
       "('TURTLE_SHORT_SELL_N', 20)"
      ]
     },
     "execution_count": 9,
     "metadata": {},
     "output_type": "execute_result"
    },
    {
     "data": {
      "text/plain": [
       "('TURTLE_LONG_BUY_N', 60)"
      ]
     },
     "execution_count": 9,
     "metadata": {},
     "output_type": "execute_result"
    },
    {
     "data": {
      "text/plain": [
       "('TURTLE_LONG_SELL_N', 60)"
      ]
     },
     "execution_count": 9,
     "metadata": {},
     "output_type": "execute_result"
    },
    {
     "data": {
      "text/plain": [
       "('IS_HAPPYMONEY', False)"
      ]
     },
     "execution_count": 9,
     "metadata": {},
     "output_type": "execute_result"
    },
    {
     "data": {
      "text/plain": [
       "('IS_TAX', False)"
      ]
     },
     "execution_count": 9,
     "metadata": {},
     "output_type": "execute_result"
    },
    {
     "data": {
      "text/plain": [
       "('IS_SLIPPAGE', False)"
      ]
     },
     "execution_count": 9,
     "metadata": {},
     "output_type": "execute_result"
    },
    {
     "data": {
      "text/plain": [
       "('IS_RANDOM_BUY', False)"
      ]
     },
     "execution_count": 9,
     "metadata": {},
     "output_type": "execute_result"
    },
    {
     "data": {
      "text/plain": [
       "('START_MONEY', 1000000)"
      ]
     },
     "execution_count": 9,
     "metadata": {},
     "output_type": "execute_result"
    },
    {
     "data": {
      "text/plain": [
       "('len(order_df)', 988)"
      ]
     },
     "execution_count": 9,
     "metadata": {},
     "output_type": "execute_result"
    },
    {
     "data": {
      "text/plain": [
       "('sum_profit', 12346.885600000005)"
      ]
     },
     "execution_count": 9,
     "metadata": {},
     "output_type": "execute_result"
    },
    {
     "data": {
      "text/plain": [
       "('sum_tax', 0)"
      ]
     },
     "execution_count": 9,
     "metadata": {},
     "output_type": "execute_result"
    },
    {
     "data": {
      "text/plain": [
       "('win rate', 0.4648648648648649)"
      ]
     },
     "execution_count": 9,
     "metadata": {},
     "output_type": "execute_result"
    },
    {
     "data": {
      "text/plain": [
       "('annual_return', 1.0249153190007227)"
      ]
     },
     "execution_count": 9,
     "metadata": {},
     "output_type": "execute_result"
    },
    {
     "data": {
      "text/plain": [
       "('len(order_df[order_df.profit != 0])', 925)"
      ]
     },
     "execution_count": 9,
     "metadata": {},
     "output_type": "execute_result"
    },
    {
     "data": {
      "text/plain": [
       "('len(order_df[order_df.profit > 0])', 430)"
      ]
     },
     "execution_count": 9,
     "metadata": {},
     "output_type": "execute_result"
    },
    {
     "data": {
      "text/plain": [
       "('order LONG', 988)"
      ]
     },
     "execution_count": 9,
     "metadata": {},
     "output_type": "execute_result"
    },
    {
     "data": {
      "text/plain": [
       "430"
      ]
     },
     "execution_count": 9,
     "metadata": {},
     "output_type": "execute_result"
    },
    {
     "data": {
      "text/plain": [
       "12346.885600000005"
      ]
     },
     "execution_count": 9,
     "metadata": {},
     "output_type": "execute_result"
    },
    {
     "data": {
      "text/plain": [
       "('order SHORT', 0)"
      ]
     },
     "execution_count": 9,
     "metadata": {},
     "output_type": "execute_result"
    },
    {
     "data": {
      "text/plain": [
       "0"
      ]
     },
     "execution_count": 9,
     "metadata": {},
     "output_type": "execute_result"
    },
    {
     "data": {
      "text/plain": [
       "0"
      ]
     },
     "execution_count": 9,
     "metadata": {},
     "output_type": "execute_result"
    },
    {
     "data": {
      "text/plain": [
       "('ALL DAY', 125)"
      ]
     },
     "execution_count": 9,
     "metadata": {},
     "output_type": "execute_result"
    },
    {
     "data": {
      "text/plain": [
       "'CASH_TURTLE_20_60_60'"
      ]
     },
     "execution_count": 9,
     "metadata": {},
     "output_type": "execute_result"
    },
    {
     "data": {
      "text/plain": [
       "'PROPERTY_TURTLE_20_60_60'"
      ]
     },
     "execution_count": 9,
     "metadata": {},
     "output_type": "execute_result"
    },
    {
     "data": {
      "text/plain": [
       "('CASH NOT USED DAY', 125)"
      ]
     },
     "execution_count": 9,
     "metadata": {},
     "output_type": "execute_result"
    },
    {
     "data": {
      "text/plain": [
       "('MISS_BUY_SIGNAL_LONG', 0)"
      ]
     },
     "execution_count": 9,
     "metadata": {},
     "output_type": "execute_result"
    },
    {
     "data": {
      "text/plain": [
       "('MISS_BUY_SIGNAL_SHORT', 0)"
      ]
     },
     "execution_count": 9,
     "metadata": {},
     "output_type": "execute_result"
    }
   ],
   "source": [
    "'ALL'\n",
    "'start_date', start_date\n",
    "'end_date', end_date\n",
    "'TURTLE_POS', TURTLE_POS\n",
    "'TURTLE_SHORT_BUY_N', TURTLE_SHORT_BUY_N\n",
    "'TURTLE_SHORT_SELL_N', TURTLE_SHORT_SELL_N\n",
    "'TURTLE_LONG_BUY_N', TURTLE_LONG_BUY_N\n",
    "'TURTLE_LONG_SELL_N', TURTLE_LONG_SELL_N\n",
    "'IS_HAPPYMONEY', IS_HAPPYMONEY\n",
    "'IS_TAX', IS_TAX\n",
    "'IS_SLIPPAGE', IS_SLIPPAGE\n",
    "'IS_RANDOM_BUY', IS_RANDOM_BUY\n",
    "'START_MONEY', START_MONEY\n",
    "\n",
    "'len(order_df)', len(order_df)\n",
    "sum_profit = sum(list(order_df['profit']))\n",
    "'sum_profit', sum_profit\n",
    "# sum_tax = sum(list(order_df_TB['tax']))\n",
    "sum_tax = 0\n",
    "'sum_tax', sum_tax\n",
    "'win rate', len(order_df[order_df.profit > 0]) / len(order_df[order_df.profit != 0])\n",
    "'annual_return', ((sum_profit - sum_tax) / START_MONEY + 1) ** (365 / count_day)\n",
    "'len(order_df[order_df.profit != 0])', len(order_df[order_df.profit != 0])\n",
    "'len(order_df[order_df.profit > 0])', len(order_df[order_df.profit > 0])\n",
    "'order LONG', len(order_df[order_df.buy_reason == 'LONG'])\n",
    "len(order_df[(order_df.buy_reason == 'LONG') & (order_df.profit > 0)])\n",
    "sum(list(order_df[order_df.buy_reason == 'LONG']['profit']))\n",
    "'order SHORT', len(order_df[order_df.buy_reason == 'SHORT'])\n",
    "len(order_df[(order_df.buy_reason == 'SHORT') & (order_df.profit > 0)])\n",
    "sum(list(order_df[order_df.buy_reason == 'SHORT']['profit']))\n",
    "\n",
    "# order_df\n",
    "# order_df.loc[order_df['sell_price']==0]\n",
    "\n",
    "calc_df = order_df.copy()\n",
    "calc_df['profit_pct'] = calc_df['profit'] / (calc_df['buy_count'] * calc_df['buy_price'])\n",
    "# calc_df[calc_df.symbol == 'BIDU']\n",
    "# calc_df[calc_df.profit > 0]\n",
    "# calc_df\n",
    "\n",
    "# order_df[order_df.profit > 0]\n",
    "\n",
    "# csv_file = 'E:/Dev/result/T_TURTLE_POS%d_TURTLE_BUY_N%d_TURTLE_SELL_N%d_START_MONEY%d_%s_%s.csv' % \\\n",
    "#     (TURTLE_POS, TURTLE_BUY_N, TURTLE_SELL_N, START_MONEY, start_date, end_date)\n",
    "# calc_df.to_csv(csv_file)\n",
    "\n",
    "# list(show_df.dropna(how='any', inplace=False).PROPERTY_TURTLE_20_60_60.apply(int).tail(50))\n",
    "# list(show_df.open.apply(int).tail(50))\n",
    "\n",
    "df = show_df.dropna(how='any', inplace=False).copy()\n",
    "# algo = df['PROPERTY_TURTLE_%d_%d_%d' % (TURTLE_POS, TURTLE_LONG_BUY_N, TURTLE_LONG_SELL_N)].pct_change()\n",
    "# benchmark = df.open.pct_change()\n",
    "\n",
    "# 'cum_returns', emp.cum_returns(algo)[-1], emp.cum_returns(benchmark)[-1]\n",
    "# 'max_drawdown', emp.max_drawdown(algo), emp.max_drawdown(benchmark)\n",
    "# 'annual_return', emp.annual_return(algo), emp.annual_return(benchmark)\n",
    "# 'annual_volatility', emp.annual_volatility(algo, period='daily')\n",
    "# 'calmar_ratio', emp.calmar_ratio(algo)\n",
    "# 'sharpe_ratio', emp.sharpe_ratio(returns=algo)\n",
    "# 'alpha', emp.alpha(returns=algo, factor_returns=benchmark, risk_free=0.00)\n",
    "# 'beta', emp.beta(returns=algo, factor_returns=benchmark, risk_free=0.00)\n",
    "\n",
    "'ALL DAY', len(df)\n",
    "'CASH_TURTLE_%d_%d_%d' % (TURTLE_POS, TURTLE_LONG_BUY_N, TURTLE_LONG_SELL_N)\n",
    "'PROPERTY_TURTLE_%d_%d_%d' % (TURTLE_POS, TURTLE_LONG_BUY_N, TURTLE_LONG_SELL_N)\n",
    "'CASH NOT USED DAY', \\\n",
    "    len(df[df['CASH_TURTLE_%d_%d_%d' % (TURTLE_POS, TURTLE_LONG_BUY_N, TURTLE_LONG_SELL_N)] > \\\n",
    "           df['PROPERTY_TURTLE_%d_%d_%d' % (TURTLE_POS, TURTLE_LONG_BUY_N, TURTLE_LONG_SELL_N)] / TURTLE_POS])\n",
    "'MISS_BUY_SIGNAL_LONG', miss_buy_long\n",
    "'MISS_BUY_SIGNAL_SHORT', miss_buy_short"
   ]
  },
  {
   "cell_type": "code",
   "execution_count": 10,
   "metadata": {
    "scrolled": false
   },
   "outputs": [
    {
     "data": {
      "text/html": [
       "<div>\n",
       "<style scoped>\n",
       "    .dataframe tbody tr th:only-of-type {\n",
       "        vertical-align: middle;\n",
       "    }\n",
       "\n",
       "    .dataframe tbody tr th {\n",
       "        vertical-align: top;\n",
       "    }\n",
       "\n",
       "    .dataframe thead th {\n",
       "        text-align: right;\n",
       "    }\n",
       "</style>\n",
       "<table border=\"1\" class=\"dataframe\">\n",
       "  <thead>\n",
       "    <tr style=\"text-align: right;\">\n",
       "      <th></th>\n",
       "      <th>buy_date</th>\n",
       "      <th>symbol</th>\n",
       "      <th>buy_count</th>\n",
       "      <th>buy_price</th>\n",
       "      <th>buy_reason</th>\n",
       "      <th>sell_date</th>\n",
       "      <th>sell_price</th>\n",
       "      <th>profit</th>\n",
       "      <th>cash</th>\n",
       "      <th>property</th>\n",
       "      <th>pro_pct</th>\n",
       "      <th>h_days</th>\n",
       "      <th>per_d</th>\n",
       "      <th>curry_ret</th>\n",
       "    </tr>\n",
       "  </thead>\n",
       "  <tbody>\n",
       "    <tr>\n",
       "      <th>58</th>\n",
       "      <td>2018-01-08</td>\n",
       "      <td>NVDA</td>\n",
       "      <td>4</td>\n",
       "      <td>220.40</td>\n",
       "      <td>LONG</td>\n",
       "      <td>2018-07-01</td>\n",
       "      <td>243.49</td>\n",
       "      <td>92.36</td>\n",
       "      <td>952465</td>\n",
       "      <td>1.00026e+06</td>\n",
       "      <td>0.104764</td>\n",
       "      <td>174</td>\n",
       "      <td>0.219764</td>\n",
       "      <td>1.282358</td>\n",
       "    </tr>\n",
       "    <tr>\n",
       "      <th>85</th>\n",
       "      <td>2018-01-09</td>\n",
       "      <td>NVDA</td>\n",
       "      <td>4</td>\n",
       "      <td>222.22</td>\n",
       "      <td>LONG</td>\n",
       "      <td>2018-07-01</td>\n",
       "      <td>243.49</td>\n",
       "      <td>85.08</td>\n",
       "      <td>929950</td>\n",
       "      <td>1.00027e+06</td>\n",
       "      <td>0.095716</td>\n",
       "      <td>173</td>\n",
       "      <td>0.201944</td>\n",
       "      <td>1.282358</td>\n",
       "    </tr>\n",
       "    <tr>\n",
       "      <th>111</th>\n",
       "      <td>2018-01-11</td>\n",
       "      <td>NVDA</td>\n",
       "      <td>4</td>\n",
       "      <td>225.00</td>\n",
       "      <td>LONG</td>\n",
       "      <td>2018-07-01</td>\n",
       "      <td>243.49</td>\n",
       "      <td>73.96</td>\n",
       "      <td>906103</td>\n",
       "      <td>1.00041e+06</td>\n",
       "      <td>0.082178</td>\n",
       "      <td>171</td>\n",
       "      <td>0.175409</td>\n",
       "      <td>1.282358</td>\n",
       "    </tr>\n",
       "    <tr>\n",
       "      <th>217</th>\n",
       "      <td>2018-01-19</td>\n",
       "      <td>NVDA</td>\n",
       "      <td>4</td>\n",
       "      <td>228.09</td>\n",
       "      <td>LONG</td>\n",
       "      <td>2018-07-01</td>\n",
       "      <td>243.49</td>\n",
       "      <td>61.6</td>\n",
       "      <td>810272</td>\n",
       "      <td>1.00273e+06</td>\n",
       "      <td>0.067517</td>\n",
       "      <td>163</td>\n",
       "      <td>0.151189</td>\n",
       "      <td>1.282358</td>\n",
       "    </tr>\n",
       "    <tr>\n",
       "      <th>240</th>\n",
       "      <td>2018-01-22</td>\n",
       "      <td>NVDA</td>\n",
       "      <td>4</td>\n",
       "      <td>230.43</td>\n",
       "      <td>LONG</td>\n",
       "      <td>2018-07-01</td>\n",
       "      <td>243.49</td>\n",
       "      <td>52.24</td>\n",
       "      <td>790904</td>\n",
       "      <td>1.00323e+06</td>\n",
       "      <td>0.056677</td>\n",
       "      <td>160</td>\n",
       "      <td>0.129294</td>\n",
       "      <td>1.282358</td>\n",
       "    </tr>\n",
       "    <tr>\n",
       "      <th>273</th>\n",
       "      <td>2018-01-23</td>\n",
       "      <td>NVDA</td>\n",
       "      <td>4</td>\n",
       "      <td>235.85</td>\n",
       "      <td>LONG</td>\n",
       "      <td>2018-07-01</td>\n",
       "      <td>243.49</td>\n",
       "      <td>30.56</td>\n",
       "      <td>762937</td>\n",
       "      <td>1.0045e+06</td>\n",
       "      <td>0.032393</td>\n",
       "      <td>159</td>\n",
       "      <td>0.074362</td>\n",
       "      <td>1.282358</td>\n",
       "    </tr>\n",
       "    <tr>\n",
       "      <th>310</th>\n",
       "      <td>2018-01-24</td>\n",
       "      <td>NVDA</td>\n",
       "      <td>4</td>\n",
       "      <td>239.04</td>\n",
       "      <td>LONG</td>\n",
       "      <td>2018-07-01</td>\n",
       "      <td>243.49</td>\n",
       "      <td>17.8</td>\n",
       "      <td>731073</td>\n",
       "      <td>1.00757e+06</td>\n",
       "      <td>0.018616</td>\n",
       "      <td>158</td>\n",
       "      <td>0.043006</td>\n",
       "      <td>1.282358</td>\n",
       "    </tr>\n",
       "    <tr>\n",
       "      <th>399</th>\n",
       "      <td>2018-01-29</td>\n",
       "      <td>NVDA</td>\n",
       "      <td>4</td>\n",
       "      <td>242.74</td>\n",
       "      <td>LONG</td>\n",
       "      <td>2018-07-01</td>\n",
       "      <td>243.49</td>\n",
       "      <td>3</td>\n",
       "      <td>652019</td>\n",
       "      <td>1.00758e+06</td>\n",
       "      <td>0.003090</td>\n",
       "      <td>153</td>\n",
       "      <td>0.007371</td>\n",
       "      <td>1.282358</td>\n",
       "    </tr>\n",
       "    <tr>\n",
       "      <th>426</th>\n",
       "      <td>2018-01-31</td>\n",
       "      <td>NVDA</td>\n",
       "      <td>4</td>\n",
       "      <td>245.77</td>\n",
       "      <td>LONG</td>\n",
       "      <td>2018-07-01</td>\n",
       "      <td>243.49</td>\n",
       "      <td>-9.12</td>\n",
       "      <td>630150</td>\n",
       "      <td>1.00591e+06</td>\n",
       "      <td>-0.009277</td>\n",
       "      <td>151</td>\n",
       "      <td>-0.022424</td>\n",
       "      <td>1.282358</td>\n",
       "    </tr>\n",
       "    <tr>\n",
       "      <th>458</th>\n",
       "      <td>2018-02-21</td>\n",
       "      <td>NVDA</td>\n",
       "      <td>3</td>\n",
       "      <td>251.69</td>\n",
       "      <td>LONG</td>\n",
       "      <td>2018-07-01</td>\n",
       "      <td>243.49</td>\n",
       "      <td>-24.6</td>\n",
       "      <td>630187</td>\n",
       "      <td>992004</td>\n",
       "      <td>-0.032580</td>\n",
       "      <td>130</td>\n",
       "      <td>-0.091474</td>\n",
       "      <td>1.282358</td>\n",
       "    </tr>\n",
       "    <tr>\n",
       "      <th>682</th>\n",
       "      <td>2018-05-10</td>\n",
       "      <td>NVDA</td>\n",
       "      <td>3</td>\n",
       "      <td>257.92</td>\n",
       "      <td>LONG</td>\n",
       "      <td>2018-07-01</td>\n",
       "      <td>243.49</td>\n",
       "      <td>-43.29</td>\n",
       "      <td>615657</td>\n",
       "      <td>992411</td>\n",
       "      <td>-0.055948</td>\n",
       "      <td>52</td>\n",
       "      <td>-0.392709</td>\n",
       "      <td>1.282358</td>\n",
       "    </tr>\n",
       "    <tr>\n",
       "      <th>807</th>\n",
       "      <td>2018-06-04</td>\n",
       "      <td>NVDA</td>\n",
       "      <td>3</td>\n",
       "      <td>259.00</td>\n",
       "      <td>LONG</td>\n",
       "      <td>2018-07-01</td>\n",
       "      <td>243.49</td>\n",
       "      <td>-46.53</td>\n",
       "      <td>504788</td>\n",
       "      <td>1.00462e+06</td>\n",
       "      <td>-0.059884</td>\n",
       "      <td>27</td>\n",
       "      <td>-0.809545</td>\n",
       "      <td>1.282358</td>\n",
       "    </tr>\n",
       "    <tr>\n",
       "      <th>823</th>\n",
       "      <td>2018-06-05</td>\n",
       "      <td>NVDA</td>\n",
       "      <td>3</td>\n",
       "      <td>264.98</td>\n",
       "      <td>LONG</td>\n",
       "      <td>2018-07-01</td>\n",
       "      <td>243.49</td>\n",
       "      <td>-64.47</td>\n",
       "      <td>491800</td>\n",
       "      <td>1.01018e+06</td>\n",
       "      <td>-0.081100</td>\n",
       "      <td>26</td>\n",
       "      <td>-1.138526</td>\n",
       "      <td>1.282358</td>\n",
       "    </tr>\n",
       "    <tr>\n",
       "      <th>861</th>\n",
       "      <td>2018-06-07</td>\n",
       "      <td>NVDA</td>\n",
       "      <td>3</td>\n",
       "      <td>265.00</td>\n",
       "      <td>LONG</td>\n",
       "      <td>2018-07-01</td>\n",
       "      <td>243.49</td>\n",
       "      <td>-64.53</td>\n",
       "      <td>458040</td>\n",
       "      <td>1.01636e+06</td>\n",
       "      <td>-0.081170</td>\n",
       "      <td>24</td>\n",
       "      <td>-1.234458</td>\n",
       "      <td>1.282358</td>\n",
       "    </tr>\n",
       "  </tbody>\n",
       "</table>\n",
       "</div>"
      ],
      "text/plain": [
       "      buy_date symbol buy_count  buy_price buy_reason  sell_date sell_price  \\\n",
       "58  2018-01-08   NVDA         4     220.40       LONG 2018-07-01     243.49   \n",
       "85  2018-01-09   NVDA         4     222.22       LONG 2018-07-01     243.49   \n",
       "111 2018-01-11   NVDA         4     225.00       LONG 2018-07-01     243.49   \n",
       "217 2018-01-19   NVDA         4     228.09       LONG 2018-07-01     243.49   \n",
       "240 2018-01-22   NVDA         4     230.43       LONG 2018-07-01     243.49   \n",
       "273 2018-01-23   NVDA         4     235.85       LONG 2018-07-01     243.49   \n",
       "310 2018-01-24   NVDA         4     239.04       LONG 2018-07-01     243.49   \n",
       "399 2018-01-29   NVDA         4     242.74       LONG 2018-07-01     243.49   \n",
       "426 2018-01-31   NVDA         4     245.77       LONG 2018-07-01     243.49   \n",
       "458 2018-02-21   NVDA         3     251.69       LONG 2018-07-01     243.49   \n",
       "682 2018-05-10   NVDA         3     257.92       LONG 2018-07-01     243.49   \n",
       "807 2018-06-04   NVDA         3     259.00       LONG 2018-07-01     243.49   \n",
       "823 2018-06-05   NVDA         3     264.98       LONG 2018-07-01     243.49   \n",
       "861 2018-06-07   NVDA         3     265.00       LONG 2018-07-01     243.49   \n",
       "\n",
       "    profit    cash     property   pro_pct  h_days     per_d  curry_ret  \n",
       "58   92.36  952465  1.00026e+06  0.104764     174  0.219764   1.282358  \n",
       "85   85.08  929950  1.00027e+06  0.095716     173  0.201944   1.282358  \n",
       "111  73.96  906103  1.00041e+06  0.082178     171  0.175409   1.282358  \n",
       "217   61.6  810272  1.00273e+06  0.067517     163  0.151189   1.282358  \n",
       "240  52.24  790904  1.00323e+06  0.056677     160  0.129294   1.282358  \n",
       "273  30.56  762937   1.0045e+06  0.032393     159  0.074362   1.282358  \n",
       "310   17.8  731073  1.00757e+06  0.018616     158  0.043006   1.282358  \n",
       "399      3  652019  1.00758e+06  0.003090     153  0.007371   1.282358  \n",
       "426  -9.12  630150  1.00591e+06 -0.009277     151 -0.022424   1.282358  \n",
       "458  -24.6  630187       992004 -0.032580     130 -0.091474   1.282358  \n",
       "682 -43.29  615657       992411 -0.055948      52 -0.392709   1.282358  \n",
       "807 -46.53  504788  1.00462e+06 -0.059884      27 -0.809545   1.282358  \n",
       "823 -64.47  491800  1.01018e+06 -0.081100      26 -1.138526   1.282358  \n",
       "861 -64.53  458040  1.01636e+06 -0.081170      24 -1.234458   1.282358  "
      ]
     },
     "execution_count": 10,
     "metadata": {},
     "output_type": "execute_result"
    },
    {
     "data": {
      "text/html": [
       "<div id=\"chart_idLzyOWaUG\"</div>\n",
       "    <script type=\"text/javascript\">new Highcharts.StockChart({\"chart\":{\"renderTo\":\"chart_idLzyOWaUG\",\"width\":900,\"height\":600},\"legend\":{\"enabled\":true},\"series\":[{\"name\":\"ROLLING_60_MAX\",\"yAxis\":0,\"data\":[[1407369600000,19.72],[1407456000000,19.72],[1407715200000,19.72],[1407801600000,19.72],[1407888000000,19.72],[1407974400000,19.72],[1408060800000,19.72],[1408320000000,19.72],[1408406400000,19.72],[1408492800000,19.72],[1408579200000,19.72],[1408665600000,19.72],[1408924800000,19.72],[1409011200000,19.72],[1409097600000,19.72],[1409184000000,19.72],[1409270400000,19.72],[1409616000000,19.72],[1409702400000,19.72],[1409788800000,19.72],[1409875200000,20.01],[1410134400000,20.01],[1410220800000,20.01],[1410307200000,20.01],[1410393600000,20.01],[1410480000000,20.01],[1410739200000,20.01],[1410825600000,20.01],[1410912000000,20.01],[1410998400000,20.01],[1411084800000,20.01],[1411344000000,20.01],[1411430400000,20.01],[1411516800000,20.01],[1411603200000,20.01],[1411689600000,20.01],[1411948800000,20.01],[1412035200000,20.01],[1412121600000,20.01],[1412208000000,20.01],[1412294400000,20.01],[1412553600000,20.01],[1412640000000,20.01],[1412726400000,20.01],[1412812800000,20.01],[1412899200000,20.01],[1413158400000,20.01],[1413244800000,20.01],[1413331200000,20.01],[1413417600000,20.01],[1413504000000,20.01],[1413763200000,20.01],[1413849600000,20.01],[1413936000000,20.01],[1414022400000,20.01],[1414108800000,20.01],[1414368000000,20.01],[1414454400000,20.01],[1414540800000,20.01],[1414627200000,20.01],[1414713600000,20.01],[1414972800000,20.01],[1415059200000,20.01],[1415145600000,20.25],[1415232000000,20.25],[1415318400000,20.45],[1415577600000,20.45],[1415664000000,20.45],[1415750400000,20.45],[1415836800000,20.45],[1415923200000,20.45],[1416182400000,20.45],[1416268800000,20.45],[1416355200000,20.45],[1416441600000,20.45],[1416528000000,20.52],[1416787200000,20.52],[1416873600000,20.54],[1416960000000,20.54],[1417132800000,20.99],[1417392000000,20.99],[1417478400000,20.99],[1417564800000,20.99],[1417651200000,21.11],[1417737600000,21.11],[1417996800000,21.11],[1418083200000,21.11],[1418169600000,21.11],[1418256000000,21.11],[1418342400000,21.11],[1418601600000,21.11],[1418688000000,21.11],[1418774400000,21.11],[1418860800000,21.11],[1418947200000,21.11],[1419206400000,21.11],[1419292800000,21.11],[1419379200000,21.11],[1419552000000,21.11],[1419811200000,21.11],[1419897600000,21.11],[1419984000000,21.11],[1420156800000,21.11],[1420416000000,21.11],[1420502400000,21.11],[1420588800000,21.11],[1420675200000,21.11],[1420761600000,21.11],[1421020800000,21.11],[1421107200000,21.11],[1421193600000,21.11],[1421280000000,21.11],[1421366400000,21.11],[1421712000000,21.11],[1421798400000,21.11],[1421884800000,21.11],[1421971200000,21.11],[1422230400000,21.11],[1422316800000,21.11],[1422403200000,21.11],[1422489600000,21.11],[1422576000000,21.11],[1422835200000,21.11],[1422921600000,21.11],[1423008000000,21.11],[1423094400000,21.11],[1423180800000,21.11],[1423440000000,21.11],[1423526400000,21.11],[1423612800000,21.11],[1423699200000,22.0],[1423785600000,22.25],[1424131200000,22.27],[1424217600000,22.35],[1424304000000,22.4],[1424390400000,22.4],[1424649600000,22.4],[1424736000000,22.4],[1424822400000,22.4],[1424908800000,22.4],[1424995200000,22.4],[1425254400000,22.4],[1425340800000,22.43],[1425427200000,22.43],[1425513600000,22.43],[1425600000000,22.73],[1425859200000,22.73],[1425945600000,22.73],[1426032000000,23.0],[1426118400000,23.0],[1426204800000,23.0],[1426464000000,23.0],[1426550400000,23.0],[1426636800000,23.25],[1426723200000,23.25],[1426809600000,23.41],[1427068800000,23.41],[1427155200000,23.41],[1427241600000,23.41],[1427328000000,23.41],[1427414400000,23.41],[1427673600000,23.41],[1427760000000,23.41],[1427846400000,23.41],[1427932800000,23.41],[1428278400000,23.41],[1428364800000,23.41],[1428451200000,23.41],[1428537600000,23.41],[1428624000000,23.41],[1428883200000,23.41],[1428969600000,23.41],[1429056000000,23.41],[1429142400000,23.41],[1429228800000,23.41],[1429488000000,23.41],[1429574400000,23.41],[1429660800000,23.41],[1429747200000,23.41],[1429833600000,23.41],[1430092800000,23.41],[1430179200000,23.41],[1430265600000,23.41],[1430352000000,23.41],[1430438400000,23.41],[1430697600000,23.41],[1430784000000,23.41],[1430870400000,23.41],[1430956800000,23.41],[1431043200000,23.41],[1431302400000,23.41],[1431388800000,23.41],[1431475200000,23.41],[1431561600000,23.41],[1431648000000,23.41],[1431907200000,23.41],[1431993600000,23.41],[1432080000000,23.41],[1432166400000,23.41],[1432252800000,23.41],[1432598400000,23.41],[1432684800000,23.41],[1432771200000,23.41],[1432857600000,23.41],[1433116800000,23.41],[1433203200000,23.41],[1433289600000,23.41],[1433376000000,23.41],[1433462400000,23.41],[1433721600000,23.41],[1433808000000,23.41],[1433894400000,23.41],[1433980800000,23.41],[1434067200000,23.41],[1434326400000,23.41],[1434412800000,22.77],[1434499200000,22.73],[1434585600000,22.73],[1434672000000,22.73],[1434931200000,22.73],[1435017600000,22.73],[1435104000000,22.73],[1435190400000,22.73],[1435276800000,22.73],[1435536000000,22.73],[1435622400000,22.73],[1435708800000,22.73],[1435795200000,22.73],[1436140800000,22.73],[1436227200000,22.73],[1436313600000,22.73],[1436400000000,22.73],[1436486400000,22.73],[1436745600000,22.73],[1436832000000,22.73],[1436918400000,22.73],[1437004800000,22.73],[1437091200000,22.73],[1437350400000,22.73],[1437436800000,22.73],[1437523200000,22.73],[1437609600000,22.73],[1437696000000,22.73],[1437955200000,22.73],[1438041600000,22.73],[1438128000000,22.53],[1438214400000,22.27],[1438300800000,22.27],[1438560000000,22.27],[1438646400000,22.27],[1438732800000,22.27],[1438819200000,22.27],[1438905600000,22.46],[1439164800000,22.82],[1439251200000,23.43],[1439337600000,23.43],[1439424000000,23.75],[1439510400000,23.75],[1439769600000,23.75],[1439856000000,23.75],[1439942400000,23.75],[1440028800000,23.75],[1440115200000,23.75],[1440374400000,23.75],[1440460800000,23.75],[1440547200000,23.75],[1440633600000,23.75],[1440720000000,23.75],[1440979200000,23.75],[1441065600000,23.75],[1441152000000,23.75],[1441238400000,23.75],[1441324800000,23.75],[1441670400000,23.75],[1441756800000,23.75],[1441843200000,23.75],[1441929600000,23.75],[1442188800000,23.75],[1442275200000,23.75],[1442361600000,23.75],[1442448000000,23.75],[1442534400000,23.75],[1442793600000,23.75],[1442880000000,23.75],[1442966400000,23.75],[1443052800000,23.75],[1443139200000,23.75],[1443398400000,23.75],[1443484800000,23.75],[1443571200000,23.93],[1443657600000,24.65],[1443744000000,24.65],[1444003200000,24.96],[1444089600000,25.15],[1444176000000,25.81],[1444262400000,25.91],[1444348800000,26.03],[1444608000000,26.1],[1444694400000,26.14],[1444780800000,26.43],[1444867200000,27.41],[1444953600000,27.52],[1445212800000,27.95],[1445299200000,27.95],[1445385600000,27.95],[1445472000000,27.95],[1445558400000,28.65],[1445817600000,28.65],[1445904000000,28.65],[1445990400000,28.65],[1446076800000,28.65],[1446163200000,28.65],[1446422400000,28.65],[1446508800000,28.65],[1446595200000,28.65],[1446681600000,28.65],[1446768000000,30.45],[1447027200000,31.24],[1447113600000,31.24],[1447200000000,31.24],[1447286400000,31.24],[1447372800000,31.24],[1447632000000,31.24],[1447718400000,31.24],[1447804800000,31.24],[1447891200000,31.24],[1447977600000,31.35],[1448236800000,31.65],[1448323200000,31.65],[1448409600000,31.65],[1448582400000,31.65],[1448841600000,31.65],[1448928000000,32.0],[1449014400000,32.8],[1449100800000,32.8],[1449187200000,32.8],[1449446400000,33.74],[1449532800000,33.74],[1449619200000,33.74],[1449705600000,33.74],[1449792000000,33.74],[1450051200000,33.74],[1450137600000,33.74],[1450224000000,33.74],[1450310400000,33.74],[1450396800000,33.74],[1450656000000,33.74],[1450742400000,33.74],[1450828800000,33.74],[1450915200000,33.74],[1451260800000,33.74],[1451347200000,33.74],[1451433600000,33.74],[1451520000000,33.74],[1451865600000,33.74],[1451952000000,33.74],[1452038400000,33.74],[1452124800000,33.74],[1452211200000,33.74],[1452470400000,33.74],[1452556800000,33.74],[1452643200000,33.74],[1452729600000,33.74],[1452816000000,33.74],[1453161600000,33.74],[1453248000000,33.74],[1453334400000,33.74],[1453420800000,33.74],[1453680000000,33.74],[1453766400000,33.74],[1453852800000,33.74],[1453939200000,33.74],[1454025600000,33.74],[1454284800000,33.74],[1454371200000,33.74],[1454457600000,33.74],[1454544000000,33.74],[1454630400000,33.74],[1454889600000,33.74],[1454976000000,33.74],[1455062400000,33.74],[1455148800000,33.74],[1455235200000,33.74],[1455580800000,33.74],[1455667200000,33.74],[1455753600000,33.74],[1455840000000,33.74],[1456099200000,33.74],[1456185600000,33.74],[1456272000000,33.74],[1456358400000,33.74],[1456444800000,33.74],[1456704000000,33.74],[1456790400000,33.74],[1456876800000,33.74],[1456963200000,33.74],[1457049600000,33.65],[1457308800000,33.65],[1457395200000,33.65],[1457481600000,33.65],[1457568000000,33.65],[1457654400000,33.65],[1457913600000,33.65],[1458000000000,33.65],[1458086400000,33.65],[1458172800000,33.65],[1458259200000,33.65],[1458518400000,33.65],[1458604800000,33.8],[1458691200000,34.0],[1458777600000,34.12],[1459123200000,34.42],[1459209600000,34.68],[1459296000000,35.52],[1459382400000,35.92],[1459468800000,35.92],[1459728000000,36.45],[1459814400000,36.45],[1459900800000,36.45],[1459987200000,36.45],[1460073600000,36.45],[1460332800000,36.45],[1460419200000,36.45],[1460505600000,36.45],[1460592000000,36.64],[1460678400000,36.83],[1460937600000,37.06],[1461024000000,37.11],[1461110400000,37.11],[1461196800000,37.11],[1461283200000,37.11],[1461542400000,37.11],[1461628800000,37.11],[1461715200000,37.11],[1461801600000,37.11],[1461888000000,37.11],[1462147200000,37.11],[1462233600000,37.11],[1462320000000,37.11],[1462406400000,37.11],[1462492800000,37.11],[1462752000000,37.11],[1462838400000,37.11],[1462924800000,37.11],[1463011200000,37.11],[1463097600000,39.19],[1463356800000,40.67],[1463443200000,42.0],[1463529600000,42.0],[1463616000000,43.19],[1463702400000,43.82],[1463961600000,44.52],[1464048000000,44.52],[1464134400000,45.5],[1464220800000,45.5],[1464307200000,45.7],[1464652800000,46.1],[1464739200000,46.5],[1464825600000,47.06],[1464912000000,47.06],[1465171200000,47.06],[1465257600000,47.06],[1465344000000,47.06],[1465430400000,47.06],[1465516800000,47.06],[1465776000000,47.06],[1465862400000,47.06],[1465948800000,47.27],[1466035200000,47.27],[1466121600000,47.61],[1466380800000,47.61],[1466467200000,47.76],[1466553600000,47.76],[1466640000000,47.76],[1466726400000,47.76],[1466985600000,47.76],[1467072000000,47.76],[1467158400000,47.76],[1467244800000,47.76],[1467331200000,47.76],[1467676800000,47.76],[1467763200000,47.76],[1467849600000,47.97],[1467936000000,49.41],[1468195200000,51.58],[1468281600000,52.6],[1468368000000,52.9],[1468454400000,53.06],[1468540800000,53.06],[1468800000000,53.35],[1468886400000,53.35],[1468972800000,53.7],[1469059200000,54.1],[1469145600000,54.1],[1469404800000,55.0],[1469491200000,56.17],[1469577600000,57.12],[1469664000000,57.12],[1469750400000,57.12],[1470009600000,57.34],[1470096000000,57.34],[1470182400000,57.34],[1470268800000,57.34],[1470355200000,57.89],[1470614400000,59.0],[1470700800000,59.03],[1470787200000,59.41],[1470873600000,59.41],[1470960000000,61.9],[1471219200000,63.11],[1471305600000,63.11],[1471392000000,63.11],[1471478400000,63.11],[1471564800000,63.11],[1471824000000,63.11],[1471910400000,63.11],[1471996800000,63.13],[1472083200000,63.13],[1472169600000,63.13],[1472428800000,63.13],[1472515200000,63.13],[1472601600000,63.13],[1472688000000,63.13],[1472774400000,63.28],[1473120000000,63.28],[1473206400000,63.28],[1473292800000,63.28],[1473379200000,63.28],[1473638400000,63.28],[1473724800000,63.28],[1473811200000,63.28],[1473897600000,63.28],[1473984000000,63.28],[1474243200000,63.5],[1474329600000,64.4],[1474416000000,64.4],[1474502400000,65.24],[1474588800000,65.24],[1474848000000,65.24],[1474934400000,65.24],[1475020800000,66.64],[1475107200000,66.67],[1475193600000,67.77],[1475452800000,68.52],[1475539200000,68.55],[1475625600000,68.88],[1475712000000,68.88],[1475798400000,68.88],[1476057600000,68.88],[1476144000000,68.88],[1476230400000,68.88],[1476316800000,68.88],[1476403200000,68.88],[1476662400000,68.88],[1476748800000,68.88],[1476835200000,68.88],[1476921600000,68.88],[1477008000000,68.88],[1477267200000,68.88],[1477353600000,70.59],[1477440000000,71.27],[1477526400000,72.71],[1477612800000,72.71],[1477872000000,72.71],[1477958400000,72.71],[1478044800000,72.71],[1478131200000,72.71],[1478217600000,72.71],[1478476800000,72.71],[1478563200000,72.71],[1478649600000,72.71],[1478736000000,72.71],[1478822400000,79.51],[1479081600000,88.09],[1479168000000,88.09],[1479254400000,88.09],[1479340800000,92.31],[1479427200000,92.39],[1479686400000,94.09],[1479772800000,94.09],[1479859200000,94.09],[1480032000000,94.42],[1480291200000,94.42],[1480377600000,94.42],[1480464000000,94.42],[1480550400000,94.42],[1480636800000,94.42],[1480896000000,94.42],[1480982400000,94.42],[1481068800000,94.42],[1481155200000,95.19],[1481241600000,95.19],[1481500800000,95.19],[1481587200000,95.19],[1481673600000,95.19],[1481760000000,96.9],[1481846400000,99.83],[1482105600000,99.83],[1482192000000,104.58],[1482278400000,105.64],[1482364800000,106.82],[1482451200000,106.82],[1482796800000,112.06],[1482883200000,119.6],[1482969600000,119.6],[1483056000000,119.6],[1483401600000,119.6],[1483488000000,119.6],[1483574400000,119.6],[1483660800000,119.6],[1483920000000,119.6],[1484006400000,119.6],[1484092800000,119.6],[1484179200000,119.6],[1484265600000,119.6],[1484611200000,119.6],[1484697600000,119.6],[1484784000000,119.6],[1484870400000,119.6],[1485129600000,119.6],[1485216000000,119.6],[1485302400000,119.6],[1485388800000,119.6],[1485475200000,119.6],[1485734400000,119.6],[1485820800000,119.6],[1485907200000,119.6],[1485993600000,119.6],[1486080000000,119.6],[1486339200000,119.6],[1486425600000,119.6],[1486512000000,119.6],[1486598400000,119.6],[1486684800000,119.93],[1486944000000,119.93],[1487030400000,119.93],[1487116800000,119.93],[1487203200000,119.93],[1487289600000,119.93],[1487635200000,119.93],[1487721600000,119.93],[1487808000000,119.93],[1487894400000,119.93],[1488153600000,119.93],[1488240000000,119.93],[1488326400000,119.93],[1488412800000,119.93],[1488499200000,119.93],[1488758400000,119.93],[1488844800000,119.93],[1488931200000,119.93],[1489017600000,119.93],[1489104000000,119.93],[1489363200000,119.93],[1489449600000,119.93],[1489536000000,119.93],[1489622400000,119.93],[1489708800000,119.93],[1489968000000,119.93],[1490054400000,119.93],[1490140800000,119.93],[1490227200000,119.93],[1490313600000,119.93],[1490572800000,119.93],[1490659200000,119.93],[1490745600000,119.93],[1490832000000,119.93],[1490918400000,119.93],[1491177600000,119.93],[1491264000000,119.93],[1491350400000,119.93],[1491436800000,119.93],[1491523200000,119.93],[1491782400000,119.93],[1491868800000,119.93],[1491955200000,119.93],[1492041600000,119.93],[1492387200000,119.93],[1492473600000,119.93],[1492560000000,119.93],[1492646400000,119.93],[1492732800000,119.93],[1492992000000,119.93],[1493078400000,119.93],[1493164800000,119.93],[1493251200000,119.93],[1493337600000,119.93],[1493596800000,119.93],[1493683200000,119.93],[1493769600000,119.93],[1493856000000,119.93],[1493942400000,119.93],[1494201600000,119.93],[1494288000000,113.39],[1494374400000,114.29],[1494460800000,120.05],[1494547200000,126.63],[1494806400000,129.56],[1494892800000,136.38],[1494979200000,136.38],[1495065600000,136.38],[1495152000000,137.025],[1495411200000,137.77],[1495497600000,139.7],[1495584000000,140.96],[1495670400000,140.96],[1495756800000,140.96],[1496102400000,143.7],[1496188800000,146.69],[1496275200000,146.69],[1496361600000,146.69],[1496620800000,146.69],[1496707200000,147.82],[1496793600000,148.33],[1496880000000,153.46],[1496966400000,164.74],[1497225600000,164.74],[1497312000000,164.74],[1497398400000,164.74],[1497484800000,164.74],[1497571200000,164.74],[1497830400000,164.74],[1497916800000,164.74],[1498003200000,164.74],[1498089600000,164.74],[1498176000000,164.74],[1498435200000,164.74],[1498521600000,164.74],[1498608000000,164.74],[1498694400000,164.74],[1498780800000,164.74],[1499040000000,164.74],[1499212800000,164.74],[1499299200000,164.74],[1499385600000,164.74],[1499644800000,164.74],[1499731200000,164.74],[1499817600000,164.74],[1499904000000,164.74],[1499990400000,164.74],[1500249600000,166.33],[1500336000000,166.33],[1500422400000,166.33],[1500508800000,166.33],[1500595200000,166.67],[1500854400000,168.39],[1500940800000,168.39],[1501027200000,168.39],[1501113600000,168.39],[1501200000000,168.39],[1501459200000,168.39],[1501545600000,168.39],[1501632000000,168.39],[1501718400000,168.39],[1501804800000,168.39],[1502064000000,168.39],[1502150400000,173.89],[1502236800000,173.89],[1502323200000,173.89],[1502409600000,173.89],[1502668800000,173.89],[1502755200000,173.89],[1502841600000,173.89],[1502928000000,173.89],[1503014400000,173.89],[1503273600000,173.89],[1503360000000,173.89],[1503446400000,173.89],[1503532800000,173.89],[1503619200000,173.89],[1503878400000,173.89],[1503964800000,173.89],[1504051200000,173.89],[1504137600000,173.89],[1504224000000,173.89],[1504569600000,173.89],[1504656000000,173.89],[1504742400000,173.89],[1504828800000,173.89],[1505088000000,173.89],[1505174400000,173.89],[1505260800000,173.89],[1505347200000,173.89],[1505433600000,173.89],[1505692800000,185.14],[1505779200000,185.51],[1505865600000,187.5],[1505952000000,187.5],[1506038400000,187.5],[1506297600000,187.5],[1506384000000,187.5],[1506470400000,187.5],[1506556800000,187.5],[1506643200000,187.5],[1506902400000,187.5],[1506988800000,187.5],[1507075200000,187.5],[1507161600000,187.5],[1507248000000,187.5],[1507507200000,187.5],[1507593600000,191.43],[1507680000000,191.43],[1507766400000,191.43],[1507852800000,193.55],[1508112000000,195.8],[1508198400000,197.09],[1508284800000,198.11],[1508371200000,198.11],[1508457600000,198.49],[1508716800000,198.49],[1508803200000,198.49],[1508889600000,198.49],[1508976000000,198.49],[1509062400000,198.49],[1509321600000,201.86],[1509408000000,205.13],[1509494400000,209.35],[1509580800000,209.35],[1509667200000,209.35],[1509926400000,209.35],[1510012800000,210.55],[1510099200000,211.85],[1510185600000,211.85],[1510272000000,213.08],[1510531200000,216.14],[1510617600000,216.14],[1510704000000,216.14],[1510790400000,216.14],[1510876800000,216.14],[1511136000000,216.14],[1511222400000,216.14],[1511308800000,217.0],[1511481600000,217.0],[1511740800000,217.31],[1511827200000,217.31],[1511913600000,217.31],[1512000000000,217.31],[1512086400000,217.31],[1512345600000,217.31],[1512432000000,217.31],[1512518400000,217.31],[1512604800000,217.31],[1512691200000,217.31],[1512950400000,217.31],[1513036800000,217.31],[1513123200000,217.31],[1513209600000,217.31],[1513296000000,217.31],[1513555200000,217.31],[1513641600000,217.31],[1513728000000,217.31],[1513814400000,217.31],[1513900800000,217.31],[1514246400000,217.31],[1514332800000,217.31],[1514419200000,217.31],[1514505600000,217.31],[1514851200000,217.31],[1514937600000,217.31],[1515024000000,217.31],[1515110400000,217.31],[1515369600000,220.4],[1515456000000,222.22],[1515542400000,222.22],[1515628800000,225.0],[1515715200000,225.0],[1516060800000,225.0],[1516147200000,225.0],[1516233600000,225.0],[1516320000000,228.09],[1516579200000,230.43],[1516665600000,235.85],[1516752000000,239.04],[1516838400000,239.04],[1516924800000,239.04],[1517184000000,242.74],[1517270400000,242.74],[1517356800000,245.77],[1517443200000,245.77],[1517529600000,245.77],[1517788800000,245.77],[1517875200000,245.77],[1517961600000,245.77],[1518048000000,245.77],[1518134400000,245.77],[1518393600000,245.77],[1518480000000,245.77],[1518566400000,245.77],[1518652800000,245.77],[1518739200000,245.77],[1519084800000,245.77],[1519171200000,251.69],[1519257600000,251.69],[1519344000000,251.69],[1519603200000,251.69],[1519689600000,251.69],[1519776000000,251.69],[1519862400000,251.69],[1519948800000,251.69],[1520208000000,251.69],[1520294400000,251.69],[1520380800000,251.69],[1520467200000,251.69],[1520553600000,251.69],[1520812800000,251.69],[1520899200000,251.69],[1520985600000,251.69],[1521072000000,251.69],[1521158400000,251.69],[1521417600000,251.69],[1521504000000,251.69],[1521590400000,251.69],[1521676800000,251.69],[1521763200000,251.69],[1522022400000,251.69],[1522108800000,251.69],[1522195200000,251.69],[1522281600000,251.69],[1522627200000,251.69],[1522713600000,251.69],[1522800000000,251.69],[1522886400000,251.69],[1522972800000,251.69],[1523232000000,251.69],[1523318400000,251.69],[1523404800000,251.69],[1523491200000,251.69],[1523577600000,251.69],[1523836800000,251.69],[1523923200000,251.69],[1524009600000,251.69],[1524096000000,251.69],[1524182400000,251.69],[1524441600000,251.69],[1524528000000,251.69],[1524614400000,251.69],[1524700800000,251.69],[1524787200000,251.69],[1525046400000,251.69],[1525132800000,251.69],[1525219200000,251.69],[1525305600000,251.69],[1525392000000,251.69],[1525651200000,251.69],[1525737600000,251.69],[1525824000000,251.69],[1525910400000,257.92],[1525996800000,257.92],[1526256000000,257.92],[1526342400000,257.92],[1526428800000,257.92],[1526515200000,257.92],[1526601600000,257.92],[1526860800000,257.92],[1526947200000,257.92],[1527033600000,257.92],[1527120000000,257.92],[1527206400000,257.92],[1527552000000,257.92],[1527638400000,257.92],[1527724800000,257.92],[1527811200000,257.92],[1528070400000,259.0],[1528156800000,264.98],[1528243200000,264.98],[1528329600000,265.0],[1528416000000,265.0],[1528675200000,265.0],[1528761600000,265.0],[1528848000000,265.0],[1528934400000,265.0],[1529020800000,265.0],[1529280000000,265.0],[1529366400000,265.0],[1529452800000,265.0],[1529539200000,265.0],[1529625600000,265.0],[1529884800000,265.0],[1529971200000,265.0],[1530057600000,265.0],[1530144000000,265.0],[1530230400000,265.0],[1530489600000,265.0],[1530576000000,265.0],[1530748800000,265.0],[1530835200000,265.0],[1531094400000,265.0],[1531180800000,265.0],[1531267200000,265.0],[1531353600000,265.0],[1531440000000,265.0],[1531699200000,265.0],[1531785600000,265.0],[1531872000000,265.0],[1531958400000,265.0],[1532044800000,265.0],[1532304000000,265.0],[1532390400000,265.0],[1532476800000,265.0],[1532563200000,265.0]]},{\"name\":\"ROLLING_60_MIN\",\"yAxis\":0,\"data\":[[1407369600000,17.5],[1407456000000,17.5],[1407715200000,17.5],[1407801600000,17.5],[1407888000000,17.5],[1407974400000,17.5],[1408060800000,17.5],[1408320000000,17.5],[1408406400000,17.5],[1408492800000,17.5],[1408579200000,17.5],[1408665600000,17.5],[1408924800000,17.5],[1409011200000,17.5],[1409097600000,17.5],[1409184000000,17.5],[1409270400000,17.5],[1409616000000,17.5],[1409702400000,17.5],[1409788800000,17.5],[1409875200000,17.5],[1410134400000,17.5],[1410220800000,17.5],[1410307200000,17.5],[1410393600000,17.5],[1410480000000,17.5],[1410739200000,17.5],[1410825600000,17.5],[1410912000000,17.5],[1410998400000,17.5],[1411084800000,17.5],[1411344000000,17.5],[1411430400000,17.5],[1411516800000,17.5],[1411603200000,17.5],[1411689600000,17.5],[1411948800000,17.5],[1412035200000,17.5],[1412121600000,17.5],[1412208000000,17.5],[1412294400000,17.5],[1412553600000,17.5],[1412640000000,17.5],[1412726400000,17.5],[1412812800000,17.5],[1412899200000,17.5],[1413158400000,16.96],[1413244800000,16.96],[1413331200000,16.93],[1413417600000,16.93],[1413504000000,16.93],[1413763200000,16.93],[1413849600000,16.93],[1413936000000,16.93],[1414022400000,16.93],[1414108800000,16.93],[1414368000000,16.93],[1414454400000,16.93],[1414540800000,16.93],[1414627200000,16.93],[1414713600000,16.93],[1414972800000,16.93],[1415059200000,16.93],[1415145600000,16.93],[1415232000000,16.93],[1415318400000,16.93],[1415577600000,16.93],[1415664000000,16.93],[1415750400000,16.93],[1415836800000,16.93],[1415923200000,16.93],[1416182400000,16.93],[1416268800000,16.93],[1416355200000,16.93],[1416441600000,16.93],[1416528000000,16.93],[1416787200000,16.93],[1416873600000,16.93],[1416960000000,16.93],[1417132800000,16.93],[1417392000000,16.93],[1417478400000,16.93],[1417564800000,16.93],[1417651200000,16.93],[1417737600000,16.93],[1417996800000,16.93],[1418083200000,16.93],[1418169600000,16.93],[1418256000000,16.93],[1418342400000,16.93],[1418601600000,16.93],[1418688000000,16.93],[1418774400000,16.93],[1418860800000,16.93],[1418947200000,16.93],[1419206400000,16.93],[1419292800000,16.93],[1419379200000,16.93],[1419552000000,16.93],[1419811200000,16.93],[1419897600000,16.93],[1419984000000,16.93],[1420156800000,16.93],[1420416000000,16.93],[1420502400000,16.93],[1420588800000,16.93],[1420675200000,16.93],[1420761600000,16.93],[1421020800000,17.13],[1421107200000,17.42],[1421193600000,17.42],[1421280000000,17.7],[1421366400000,18.2],[1421712000000,18.2],[1421798400000,18.4],[1421884800000,18.44],[1421971200000,18.44],[1422230400000,18.76],[1422316800000,18.76],[1422403200000,19.12],[1422489600000,19.32],[1422576000000,19.32],[1422835200000,19.32],[1422921600000,19.32],[1423008000000,19.32],[1423094400000,19.32],[1423180800000,19.32],[1423440000000,19.32],[1423526400000,19.32],[1423612800000,19.32],[1423699200000,19.32],[1423785600000,19.32],[1424131200000,19.32],[1424217600000,19.32],[1424304000000,19.32],[1424390400000,19.32],[1424649600000,19.32],[1424736000000,19.32],[1424822400000,19.32],[1424908800000,19.32],[1424995200000,19.32],[1425254400000,19.32],[1425340800000,19.32],[1425427200000,19.32],[1425513600000,19.32],[1425600000000,19.32],[1425859200000,19.32],[1425945600000,19.32],[1426032000000,19.32],[1426118400000,19.32],[1426204800000,19.32],[1426464000000,19.32],[1426550400000,19.32],[1426636800000,19.32],[1426723200000,19.32],[1426809600000,19.32],[1427068800000,19.32],[1427155200000,19.32],[1427241600000,19.32],[1427328000000,19.32],[1427414400000,19.32],[1427673600000,19.32],[1427760000000,19.32],[1427846400000,19.32],[1427932800000,19.32],[1428278400000,19.32],[1428364800000,19.32],[1428451200000,19.32],[1428537600000,19.32],[1428624000000,19.32],[1428883200000,19.32],[1428969600000,19.32],[1429056000000,19.32],[1429142400000,19.32],[1429228800000,19.32],[1429488000000,19.32],[1429574400000,19.32],[1429660800000,19.32],[1429747200000,19.32],[1429833600000,19.32],[1430092800000,19.32],[1430179200000,19.32],[1430265600000,19.76],[1430352000000,20.05],[1430438400000,20.18],[1430697600000,20.28],[1430784000000,20.28],[1430870400000,20.4],[1430956800000,20.61],[1431043200000,20.61],[1431302400000,20.54],[1431388800000,20.48],[1431475200000,20.48],[1431561600000,20.48],[1431648000000,20.48],[1431907200000,20.48],[1431993600000,20.48],[1432080000000,20.48],[1432166400000,20.48],[1432252800000,20.48],[1432598400000,20.48],[1432684800000,20.48],[1432771200000,20.48],[1432857600000,20.48],[1433116800000,20.48],[1433203200000,20.48],[1433289600000,20.48],[1433376000000,20.48],[1433462400000,20.48],[1433721600000,20.48],[1433808000000,20.48],[1433894400000,20.48],[1433980800000,20.48],[1434067200000,20.48],[1434326400000,20.48],[1434412800000,20.48],[1434499200000,20.48],[1434585600000,20.48],[1434672000000,20.48],[1434931200000,20.48],[1435017600000,20.48],[1435104000000,20.48],[1435190400000,20.48],[1435276800000,20.48],[1435536000000,20.48],[1435622400000,20.24],[1435708800000,20.24],[1435795200000,20.24],[1436140800000,20.24],[1436227200000,20.05],[1436313600000,19.68],[1436400000000,19.68],[1436486400000,19.66],[1436745600000,19.66],[1436832000000,19.66],[1436918400000,19.66],[1437004800000,19.66],[1437091200000,19.66],[1437350400000,19.66],[1437436800000,19.66],[1437523200000,19.65],[1437609600000,19.45],[1437696000000,19.45],[1437955200000,19.25],[1438041600000,19.25],[1438128000000,19.25],[1438214400000,19.25],[1438300800000,19.25],[1438560000000,19.25],[1438646400000,19.25],[1438732800000,19.25],[1438819200000,19.25],[1438905600000,19.25],[1439164800000,19.25],[1439251200000,19.25],[1439337600000,19.25],[1439424000000,19.25],[1439510400000,19.25],[1439769600000,19.25],[1439856000000,19.25],[1439942400000,19.25],[1440028800000,19.25],[1440115200000,19.25],[1440374400000,19.25],[1440460800000,19.25],[1440547200000,19.25],[1440633600000,19.25],[1440720000000,19.25],[1440979200000,19.25],[1441065600000,19.25],[1441152000000,19.25],[1441238400000,19.25],[1441324800000,19.25],[1441670400000,19.25],[1441756800000,19.25],[1441843200000,19.25],[1441929600000,19.25],[1442188800000,19.25],[1442275200000,19.25],[1442361600000,19.25],[1442448000000,19.25],[1442534400000,19.25],[1442793600000,19.25],[1442880000000,19.25],[1442966400000,19.25],[1443052800000,19.25],[1443139200000,19.25],[1443398400000,19.25],[1443484800000,19.25],[1443571200000,19.25],[1443657600000,19.25],[1443744000000,19.25],[1444003200000,19.25],[1444089600000,19.25],[1444176000000,19.25],[1444262400000,19.25],[1444348800000,19.25],[1444608000000,19.25],[1444694400000,19.25],[1444780800000,19.25],[1444867200000,19.25],[1444953600000,19.25],[1445212800000,19.25],[1445299200000,19.36],[1445385600000,19.69],[1445472000000,19.92],[1445558400000,20.1],[1445817600000,20.11],[1445904000000,20.22],[1445990400000,20.27],[1446076800000,20.27],[1446163200000,20.27],[1446422400000,20.27],[1446508800000,20.27],[1446595200000,20.27],[1446681600000,20.27],[1446768000000,20.27],[1447027200000,20.27],[1447113600000,20.27],[1447200000000,20.27],[1447286400000,20.27],[1447372800000,20.27],[1447632000000,20.27],[1447718400000,20.94],[1447804800000,20.94],[1447891200000,21.83],[1447977600000,21.83],[1448236800000,21.83],[1448323200000,21.83],[1448409600000,21.89],[1448582400000,21.89],[1448841600000,21.89],[1448928000000,22.1],[1449014400000,22.1],[1449100800000,22.1],[1449187200000,22.33],[1449446400000,22.7],[1449532800000,22.7],[1449619200000,22.86],[1449705600000,22.86],[1449792000000,22.86],[1450051200000,22.86],[1450137600000,22.86],[1450224000000,22.86],[1450310400000,22.86],[1450396800000,23.55],[1450656000000,23.55],[1450742400000,23.55],[1450828800000,23.93],[1450915200000,24.04],[1451260800000,24.04],[1451347200000,24.96],[1451433600000,25.15],[1451520000000,25.81],[1451865600000,25.91],[1451952000000,26.03],[1452038400000,26.1],[1452124800000,26.14],[1452211200000,26.43],[1452470400000,27.41],[1452556800000,27.52],[1452643200000,27.69],[1452729600000,27.69],[1452816000000,27.52],[1453161600000,27.52],[1453248000000,26.81],[1453334400000,26.81],[1453420800000,26.81],[1453680000000,26.81],[1453766400000,26.81],[1453852800000,26.81],[1453939200000,26.81],[1454025600000,26.81],[1454284800000,26.81],[1454371200000,26.81],[1454457600000,26.81],[1454544000000,26.81],[1454630400000,26.81],[1454889600000,26.03],[1454976000000,24.92],[1455062400000,24.92],[1455148800000,24.78],[1455235200000,24.78],[1455580800000,24.78],[1455667200000,24.78],[1455753600000,24.78],[1455840000000,24.78],[1456099200000,24.78],[1456185600000,24.78],[1456272000000,24.78],[1456358400000,24.78],[1456444800000,24.78],[1456704000000,24.78],[1456790400000,24.78],[1456876800000,24.78],[1456963200000,24.78],[1457049600000,24.78],[1457308800000,24.78],[1457395200000,24.78],[1457481600000,24.78],[1457568000000,24.78],[1457654400000,24.78],[1457913600000,24.78],[1458000000000,24.78],[1458086400000,24.78],[1458172800000,24.78],[1458259200000,24.78],[1458518400000,24.78],[1458604800000,24.78],[1458691200000,24.78],[1458777600000,24.78],[1459123200000,24.78],[1459209600000,24.78],[1459296000000,24.78],[1459382400000,24.78],[1459468800000,24.78],[1459728000000,24.78],[1459814400000,24.78],[1459900800000,24.78],[1459987200000,24.78],[1460073600000,24.78],[1460332800000,24.78],[1460419200000,24.78],[1460505600000,24.78],[1460592000000,24.78],[1460678400000,24.78],[1460937600000,24.78],[1461024000000,24.78],[1461110400000,24.78],[1461196800000,24.78],[1461283200000,24.78],[1461542400000,24.78],[1461628800000,24.78],[1461715200000,24.78],[1461801600000,24.78],[1461888000000,24.78],[1462147200000,24.78],[1462233600000,24.78],[1462320000000,24.78],[1462406400000,24.78],[1462492800000,24.78],[1462752000000,25.7],[1462838400000,26.1],[1462924800000,27.33],[1463011200000,29.88],[1463097600000,29.88],[1463356800000,30.88],[1463443200000,31.27],[1463529600000,31.44],[1463616000000,31.44],[1463702400000,31.44],[1463961600000,31.44],[1464048000000,31.44],[1464134400000,31.9],[1464220800000,31.9],[1464307200000,31.9],[1464652800000,31.9],[1464739200000,31.9],[1464825600000,31.9],[1464912000000,31.9],[1465171200000,31.9],[1465257600000,31.9],[1465344000000,31.9],[1465430400000,31.9],[1465516800000,32.98],[1465776000000,33.21],[1465862400000,33.51],[1465948800000,33.8],[1466035200000,34.0],[1466121600000,34.12],[1466380800000,34.42],[1466467200000,34.68],[1466553600000,34.91],[1466640000000,34.91],[1466726400000,34.91],[1466985600000,34.91],[1467072000000,34.91],[1467158400000,34.91],[1467244800000,34.91],[1467331200000,34.91],[1467676800000,34.91],[1467763200000,34.91],[1467849600000,34.91],[1467936000000,34.91],[1468195200000,34.91],[1468281600000,34.91],[1468368000000,34.91],[1468454400000,34.91],[1468540800000,34.91],[1468800000000,34.91],[1468886400000,34.91],[1468972800000,34.91],[1469059200000,34.91],[1469145600000,34.91],[1469404800000,34.91],[1469491200000,34.91],[1469577600000,34.91],[1469664000000,34.91],[1469750400000,34.91],[1470009600000,34.91],[1470096000000,35.42],[1470182400000,35.5],[1470268800000,36.07],[1470355200000,36.32],[1470614400000,39.19],[1470700800000,40.67],[1470787200000,42.0],[1470873600000,42.0],[1470960000000,43.19],[1471219200000,43.82],[1471305600000,44.42],[1471392000000,44.42],[1471478400000,45.25],[1471564800000,45.25],[1471824000000,45.35],[1471910400000,45.35],[1471996800000,45.35],[1472083200000,45.35],[1472169600000,45.35],[1472428800000,45.35],[1472515200000,45.35],[1472601600000,45.35],[1472688000000,45.35],[1472774400000,45.35],[1473120000000,45.35],[1473206400000,45.35],[1473292800000,45.35],[1473379200000,45.35],[1473638400000,45.35],[1473724800000,45.35],[1473811200000,45.35],[1473897600000,45.35],[1473984000000,45.35],[1474243200000,45.35],[1474329600000,45.35],[1474416000000,46.1],[1474502400000,46.3],[1474588800000,46.4],[1474848000000,46.4],[1474934400000,46.4],[1475020800000,47.02],[1475107200000,47.97],[1475193600000,49.41],[1475452800000,51.58],[1475539200000,52.6],[1475625600000,52.64],[1475712000000,52.64],[1475798400000,52.64],[1476057600000,52.94],[1476144000000,52.94],[1476230400000,53.41],[1476316800000,53.41],[1476403200000,53.41],[1476662400000,55.0],[1476748800000,55.97],[1476835200000,55.97],[1476921600000,55.97],[1477008000000,55.97],[1477267200000,55.97],[1477353600000,55.97],[1477440000000,55.97],[1477526400000,56.46],[1477612800000,57.89],[1477872000000,58.73],[1477958400000,58.73],[1478044800000,58.73],[1478131200000,58.73],[1478217600000,58.73],[1478476800000,58.73],[1478563200000,58.73],[1478649600000,58.73],[1478736000000,58.73],[1478822400000,58.73],[1479081600000,58.73],[1479168000000,58.73],[1479254400000,58.73],[1479340800000,58.73],[1479427200000,58.73],[1479686400000,58.73],[1479772800000,58.73],[1479859200000,58.73],[1480032000000,58.73],[1480291200000,58.73],[1480377600000,58.73],[1480464000000,58.73],[1480550400000,58.73],[1480636800000,58.73],[1480896000000,58.73],[1480982400000,60.01],[1481068800000,60.01],[1481155200000,60.5],[1481241600000,62.91],[1481500800000,63.28],[1481587200000,63.28],[1481673600000,63.28],[1481760000000,64.09],[1481846400000,64.09],[1482105600000,64.09],[1482192000000,64.09],[1482278400000,65.65],[1482364800000,65.65],[1482451200000,65.65],[1482796800000,65.65],[1482883200000,65.65],[1482969600000,65.65],[1483056000000,65.65],[1483401600000,65.65],[1483488000000,65.65],[1483574400000,65.65],[1483660800000,65.65],[1483920000000,65.65],[1484006400000,65.98],[1484092800000,65.98],[1484179200000,66.16],[1484265600000,66.16],[1484611200000,67.25],[1484697600000,67.49],[1484784000000,67.51],[1484870400000,67.51],[1485129600000,67.51],[1485216000000,67.51],[1485302400000,67.51],[1485388800000,67.51],[1485475200000,67.51],[1485734400000,67.51],[1485820800000,67.51],[1485907200000,67.51],[1485993600000,69.23],[1486080000000,69.23],[1486339200000,69.23],[1486425600000,71.49],[1486512000000,79.51],[1486598400000,84.29],[1486684800000,84.29],[1486944000000,86.25],[1487030400000,86.25],[1487116800000,86.25],[1487203200000,86.25],[1487289600000,86.25],[1487635200000,86.25],[1487721600000,86.25],[1487808000000,86.25],[1487894400000,86.25],[1488153600000,86.25],[1488240000000,86.25],[1488326400000,86.25],[1488412800000,89.85],[1488499200000,89.85],[1488758400000,89.85],[1488844800000,89.85],[1488931200000,89.85],[1489017600000,89.85],[1489104000000,90.09],[1489363200000,92.54],[1489449600000,96.9],[1489536000000,96.96],[1489622400000,96.96],[1489708800000,96.96],[1489968000000,96.96],[1490054400000,96.96],[1490140800000,96.96],[1490227200000,96.96],[1490313600000,96.96],[1490572800000,96.96],[1490659200000,96.96],[1490745600000,96.96],[1490832000000,96.96],[1490918400000,96.96],[1491177600000,96.96],[1491264000000,96.96],[1491350400000,96.96],[1491436800000,96.96],[1491523200000,96.96],[1491782400000,96.96],[1491868800000,96.55],[1491955200000,96.55],[1492041600000,96.33],[1492387200000,96.01],[1492473600000,96.01],[1492560000000,96.01],[1492646400000,96.01],[1492732800000,96.01],[1492992000000,96.01],[1493078400000,96.01],[1493164800000,96.01],[1493251200000,96.01],[1493337600000,96.01],[1493596800000,96.01],[1493683200000,96.01],[1493769600000,96.01],[1493856000000,96.01],[1493942400000,96.01],[1494201600000,96.01],[1494288000000,96.01],[1494374400000,96.01],[1494460800000,96.01],[1494547200000,96.01],[1494806400000,96.01],[1494892800000,96.01],[1494979200000,96.01],[1495065600000,96.01],[1495152000000,96.01],[1495411200000,96.01],[1495497600000,96.01],[1495584000000,96.01],[1495670400000,96.01],[1495756800000,96.01],[1496102400000,96.01],[1496188800000,96.01],[1496275200000,96.01],[1496361600000,96.01],[1496620800000,96.01],[1496707200000,96.01],[1496793600000,96.01],[1496880000000,96.01],[1496966400000,96.01],[1497225600000,96.01],[1497312000000,96.01],[1497398400000,96.01],[1497484800000,96.01],[1497571200000,96.01],[1497830400000,96.01],[1497916800000,96.01],[1498003200000,96.01],[1498089600000,96.01],[1498176000000,96.01],[1498435200000,96.01],[1498521600000,96.01],[1498608000000,96.01],[1498694400000,96.01],[1498780800000,96.01],[1499040000000,96.01],[1499212800000,96.01],[1499299200000,96.01],[1499385600000,96.01],[1499644800000,96.01],[1499731200000,96.01],[1499817600000,98.65],[1499904000000,100.0],[1499990400000,100.27],[1500249600000,100.84],[1500336000000,102.96],[1500422400000,103.0],[1500508800000,103.0],[1500595200000,103.0],[1500854400000,103.0],[1500940800000,103.0],[1501027200000,103.0],[1501113600000,103.0],[1501200000000,103.0],[1501459200000,103.0],[1501545600000,103.0],[1501632000000,103.0],[1501718400000,114.29],[1501804800000,120.05],[1502064000000,126.63],[1502150400000,129.5],[1502236800000,129.5],[1502323200000,129.5],[1502409600000,129.5],[1502668800000,137.025],[1502755200000,137.77],[1502841600000,137.93],[1502928000000,137.93],[1503014400000,137.93],[1503273600000,137.93],[1503360000000,141.87],[1503446400000,141.87],[1503532800000,141.87],[1503619200000,141.87],[1503878400000,141.87],[1503964800000,141.87],[1504051200000,141.87],[1504137600000,141.87],[1504224000000,141.87],[1504569600000,141.87],[1504656000000,141.87],[1504742400000,141.87],[1504828800000,141.87],[1505088000000,141.87],[1505174400000,141.87],[1505260800000,141.87],[1505347200000,141.87],[1505433600000,141.87],[1505692800000,141.87],[1505779200000,141.87],[1505865600000,141.87],[1505952000000,141.87],[1506038400000,141.87],[1506297600000,141.87],[1506384000000,141.87],[1506470400000,141.87],[1506556800000,141.87],[1506643200000,145.78],[1506902400000,149.74],[1506988800000,153.85],[1507075200000,157.14],[1507161600000,157.14],[1507248000000,157.14],[1507507200000,157.14],[1507593600000,157.14],[1507680000000,157.14],[1507766400000,157.14],[1507852800000,157.14],[1508112000000,157.14],[1508198400000,157.14],[1508284800000,157.14],[1508371200000,157.14],[1508457600000,157.14],[1508716800000,157.14],[1508803200000,157.14],[1508889600000,157.14],[1508976000000,157.14],[1509062400000,157.14],[1509321600000,157.14],[1509408000000,157.14],[1509494400000,157.14],[1509580800000,157.14],[1509667200000,157.14],[1509926400000,159.67],[1510012800000,160.49],[1510099200000,160.49],[1510185600000,160.49],[1510272000000,160.49],[1510531200000,160.49],[1510617600000,160.49],[1510704000000,161.2],[1510790400000,162.59],[1510876800000,162.59],[1511136000000,162.59],[1511222400000,162.59],[1511308800000,165.5],[1511481600000,165.54],[1511740800000,165.54],[1511827200000,165.54],[1511913600000,165.54],[1512000000000,165.54],[1512086400000,165.54],[1512345600000,165.54],[1512432000000,168.59],[1512518400000,168.59],[1512604800000,168.79],[1512691200000,172.86],[1512950400000,175.62],[1513036800000,175.62],[1513123200000,175.62],[1513209600000,175.62],[1513296000000,175.62],[1513555200000,175.62],[1513641600000,175.62],[1513728000000,175.62],[1513814400000,176.02],[1513900800000,179.08],[1514246400000,179.25],[1514332800000,179.25],[1514419200000,179.62],[1514505600000,179.65],[1514851200000,179.65],[1514937600000,182.4],[1515024000000,182.4],[1515110400000,182.4],[1515369600000,182.4],[1515456000000,182.4],[1515542400000,182.4],[1515628800000,182.4],[1515715200000,182.4],[1516060800000,182.4],[1516147200000,182.4],[1516233600000,182.4],[1516320000000,182.4],[1516579200000,182.4],[1516665600000,182.4],[1516752000000,182.4],[1516838400000,182.4],[1516924800000,182.4],[1517184000000,182.4],[1517270400000,182.4],[1517356800000,182.4],[1517443200000,182.4],[1517529600000,182.4],[1517788800000,182.4],[1517875200000,182.4],[1517961600000,182.4],[1518048000000,182.4],[1518134400000,182.4],[1518393600000,182.4],[1518480000000,182.4],[1518566400000,182.4],[1518652800000,182.4],[1518739200000,182.4],[1519084800000,182.4],[1519171200000,182.4],[1519257600000,182.4],[1519344000000,182.4],[1519603200000,182.4],[1519689600000,182.4],[1519776000000,182.4],[1519862400000,182.4],[1519948800000,182.4],[1520208000000,185.7],[1520294400000,185.92],[1520380800000,185.92],[1520467200000,185.92],[1520553600000,185.92],[1520812800000,185.92],[1520899200000,185.92],[1520985600000,188.251],[1521072000000,193.03],[1521158400000,193.03],[1521417600000,193.03],[1521504000000,193.03],[1521590400000,193.03],[1521676800000,193.03],[1521763200000,195.78],[1522022400000,195.78],[1522108800000,195.78],[1522195200000,195.78],[1522281600000,204.1],[1522627200000,204.4],[1522713600000,204.4],[1522800000000,204.4],[1522886400000,204.4],[1522972800000,204.4],[1523232000000,204.4],[1523318400000,204.4],[1523404800000,204.4],[1523491200000,204.4],[1523577600000,204.4],[1523836800000,204.4],[1523923200000,204.4],[1524009600000,204.4],[1524096000000,204.4],[1524182400000,204.4],[1524441600000,204.4],[1524528000000,204.4],[1524614400000,204.4],[1524700800000,204.4],[1524787200000,204.4],[1525046400000,204.4],[1525132800000,204.4],[1525219200000,204.4],[1525305600000,215.01],[1525392000000,215.01],[1525651200000,215.01],[1525737600000,215.01],[1525824000000,215.01],[1525910400000,215.01],[1525996800000,215.01],[1526256000000,215.01],[1526342400000,215.01],[1526428800000,215.01],[1526515200000,215.01],[1526601600000,215.01],[1526860800000,215.01],[1526947200000,215.01],[1527033600000,215.01],[1527120000000,215.01],[1527206400000,215.01],[1527552000000,215.01],[1527638400000,215.01],[1527724800000,215.01],[1527811200000,215.01],[1528070400000,215.01],[1528156800000,215.01],[1528243200000,215.01],[1528329600000,215.01],[1528416000000,215.01],[1528675200000,215.01],[1528761600000,215.01],[1528848000000,215.01],[1528934400000,215.01],[1529020800000,215.01],[1529280000000,215.01],[1529366400000,215.01],[1529452800000,215.01],[1529539200000,215.01],[1529625600000,215.01],[1529884800000,215.01],[1529971200000,215.01],[1530057600000,215.01],[1530144000000,216.8],[1530230400000,216.8],[1530489600000,216.8],[1530576000000,220.0],[1530748800000,220.0],[1530835200000,220.0],[1531094400000,220.0],[1531180800000,220.0],[1531267200000,220.0],[1531353600000,220.0],[1531440000000,220.0],[1531699200000,220.0],[1531785600000,220.0],[1531872000000,220.0],[1531958400000,220.0],[1532044800000,223.2],[1532304000000,224.57],[1532390400000,224.57],[1532476800000,224.57],[1532563200000,227.0]]},{\"name\":\"open\",\"yAxis\":0,\"data\":[[1407369600000,17.79],[1407456000000,18.22],[1407715200000,19.02],[1407801600000,18.89],[1407888000000,18.93],[1407974400000,19.08],[1408060800000,18.86],[1408320000000,19.12],[1408406400000,19.22],[1408492800000,19.3],[1408579200000,19.2],[1408665600000,19.05],[1408924800000,19.16],[1409011200000,19.16],[1409097600000,19.33],[1409184000000,19.19],[1409270400000,19.46],[1409616000000,19.5],[1409702400000,19.6],[1409788800000,19.65],[1409875200000,20.01],[1410134400000,19.95],[1410220800000,19.7],[1410307200000,19.65],[1410393600000,19.47],[1410480000000,19.53],[1410739200000,19.18],[1410825600000,18.81],[1410912000000,19.09],[1410998400000,19.27],[1411084800000,19.5],[1411344000000,19.47],[1411430400000,18.79],[1411516800000,18.8],[1411603200000,18.9],[1411689600000,18.57],[1411948800000,18.4],[1412035200000,18.44],[1412121600000,18.48],[1412208000000,18.24],[1412294400000,18.3],[1412553600000,18.3],[1412640000000,18.04],[1412726400000,17.91],[1412812800000,18.18],[1412899200000,17.77],[1413158400000,16.96],[1413244800000,17.02],[1413331200000,16.93],[1413417600000,17.13],[1413504000000,17.66],[1413763200000,17.42],[1413849600000,17.7],[1413936000000,18.29],[1414022400000,18.2],[1414108800000,18.4],[1414368000000,18.47],[1414454400000,18.44],[1414540800000,18.85],[1414627200000,18.76],[1414713600000,19.12],[1414972800000,19.99],[1415059200000,20.0],[1415145600000,20.25],[1415232000000,20.17],[1415318400000,20.45],[1415577600000,19.77],[1415664000000,19.9],[1415750400000,19.71],[1415836800000,19.72],[1415923200000,19.57],[1416182400000,19.7],[1416268800000,19.71],[1416355200000,20.1],[1416441600000,19.87],[1416528000000,20.52],[1416787200000,20.5],[1416873600000,20.54],[1416960000000,20.45],[1417132800000,20.99],[1417392000000,20.88],[1417478400000,20.56],[1417564800000,20.71],[1417651200000,21.11],[1417737600000,20.96],[1417996800000,21.04],[1418083200000,20.67],[1418169600000,20.67],[1418256000000,20.39],[1418342400000,19.99],[1418601600000,19.86],[1418688000000,19.55],[1418774400000,19.74],[1418860800000,20.39],[1418947200000,20.36],[1419206400000,20.4],[1419292800000,20.94],[1419379200000,20.7],[1419552000000,20.57],[1419811200000,20.53],[1419897600000,20.42],[1419984000000,20.4],[1420156800000,20.13],[1420416000000,20.13],[1420502400000,19.82],[1420588800000,19.33],[1420675200000,19.36],[1420761600000,19.93],[1421020800000,19.99],[1421107200000,19.84],[1421193600000,19.45],[1421280000000,19.88],[1421366400000,19.57],[1421712000000,20.1],[1421798400000,19.91],[1421884800000,20.34],[1421971200000,20.67],[1422230400000,20.62],[1422316800000,20.3],[1422403200000,19.87],[1422489600000,19.32],[1422576000000,19.64],[1422835200000,19.32],[1422921600000,19.76],[1423008000000,20.05],[1423094400000,20.18],[1423180800000,20.47],[1423440000000,20.28],[1423526400000,20.4],[1423612800000,21.0],[1423699200000,22.0],[1423785600000,22.25],[1424131200000,22.27],[1424217600000,22.35],[1424304000000,22.4],[1424390400000,22.16],[1424649600000,22.33],[1424736000000,22.16],[1424822400000,22.22],[1424908800000,22.16],[1424995200000,22.14],[1425254400000,22.0],[1425340800000,22.43],[1425427200000,22.1],[1425513600000,22.43],[1425600000000,22.73],[1425859200000,22.56],[1425945600000,22.71],[1426032000000,23.0],[1426118400000,22.66],[1426204800000,22.56],[1426464000000,22.88],[1426550400000,22.92],[1426636800000,23.25],[1426723200000,22.95],[1426809600000,23.41],[1427068800000,22.77],[1427155200000,22.64],[1427241600000,22.39],[1427328000000,20.61],[1427414400000,21.09],[1427673600000,21.48],[1427760000000,21.41],[1427846400000,21.01],[1427932800000,21.13],[1428278400000,20.97],[1428364800000,21.67],[1428451200000,21.88],[1428537600000,21.85],[1428624000000,22.55],[1428883200000,22.71],[1428969600000,22.46],[1429056000000,22.42],[1429142400000,22.5],[1429228800000,22.02],[1429488000000,22.3],[1429574400000,22.36],[1429660800000,22.19],[1429747200000,21.9],[1429833600000,22.21],[1430092800000,22.1],[1430179200000,22.16],[1430265600000,22.15],[1430352000000,22.03],[1430438400000,22.38],[1430697600000,22.73],[1430784000000,22.53],[1430870400000,22.15],[1430956800000,22.01],[1431043200000,21.01],[1431302400000,20.54],[1431388800000,20.48],[1431475200000,20.98],[1431561600000,21.01],[1431648000000,21.38],[1431907200000,21.25],[1431993600000,21.2],[1432080000000,21.05],[1432166400000,21.05],[1432252800000,20.94],[1432598400000,20.76],[1432684800000,20.87],[1432771200000,21.84],[1432857600000,22.14],[1433116800000,22.27],[1433203200000,22.24],[1433289600000,22.0],[1433376000000,21.57],[1433462400000,22.02],[1433721600000,22.19],[1433808000000,21.77],[1433894400000,21.6],[1433980800000,21.47],[1434067200000,21.56],[1434326400000,21.0],[1434412800000,21.03],[1434499200000,21.32],[1434585600000,21.76],[1434672000000,21.94],[1434931200000,21.91],[1435017600000,21.82],[1435104000000,21.19],[1435190400000,21.01],[1435276800000,21.0],[1435536000000,20.5],[1435622400000,20.24],[1435708800000,20.61],[1435795200000,20.39],[1436140800000,20.25],[1436227200000,20.05],[1436313600000,19.68],[1436400000000,19.96],[1436486400000,19.66],[1436745600000,19.95],[1436832000000,19.91],[1436918400000,19.84],[1437004800000,19.87],[1437091200000,20.12],[1437350400000,20.07],[1437436800000,19.66],[1437523200000,19.65],[1437609600000,19.45],[1437696000000,19.79],[1437955200000,19.25],[1438041600000,19.36],[1438128000000,19.69],[1438214400000,19.92],[1438300800000,20.1],[1438560000000,20.11],[1438646400000,20.22],[1438732800000,20.87],[1438819200000,20.53],[1438905600000,22.46],[1439164800000,22.82],[1439251200000,23.43],[1439337600000,23.28],[1439424000000,23.75],[1439510400000,23.5],[1439769600000,23.5],[1439856000000,23.22],[1439942400000,23.05],[1440028800000,22.73],[1440115200000,22.0],[1440374400000,20.27],[1440460800000,21.62],[1440547200000,20.94],[1440633600000,22.04],[1440720000000,22.63],[1440979200000,22.62],[1441065600000,21.83],[1441152000000,22.15],[1441238400000,22.54],[1441324800000,21.89],[1441670400000,22.28],[1441756800000,22.75],[1441843200000,22.1],[1441929600000,22.33],[1442188800000,22.76],[1442275200000,22.7],[1442361600000,22.9],[1442448000000,23.5],[1442534400000,22.99],[1442793600000,23.32],[1442880000000,23.02],[1442966400000,22.91],[1443052800000,22.86],[1443139200000,23.73],[1443398400000,23.61],[1443484800000,23.55],[1443571200000,23.93],[1443657600000,24.65],[1443744000000,24.04],[1444003200000,24.96],[1444089600000,25.15],[1444176000000,25.81],[1444262400000,25.91],[1444348800000,26.03],[1444608000000,26.1],[1444694400000,26.14],[1444780800000,26.43],[1444867200000,27.41],[1444953600000,27.52],[1445212800000,27.95],[1445299200000,27.69],[1445385600000,27.94],[1445472000000,27.73],[1445558400000,28.65],[1445817600000,28.61],[1445904000000,28.32],[1445990400000,28.62],[1446076800000,28.21],[1446163200000,27.98],[1446422400000,28.46],[1446508800000,28.53],[1446595200000,28.42],[1446681600000,28.17],[1446768000000,30.45],[1447027200000,31.24],[1447113600000,31.0],[1447200000000,30.83],[1447286400000,30.44],[1447372800000,30.43],[1447632000000,30.19],[1447718400000,30.48],[1447804800000,30.41],[1447891200000,31.14],[1447977600000,31.35],[1448236800000,31.65],[1448323200000,30.92],[1448409600000,31.11],[1448582400000,31.19],[1448841600000,31.42],[1448928000000,32.0],[1449014400000,32.8],[1449100800000,32.76],[1449187200000,32.43],[1449446400000,33.74],[1449532800000,32.7],[1449619200000,33.55],[1449705600000,32.81],[1449792000000,32.65],[1450051200000,32.52],[1450137600000,32.94],[1450224000000,33.04],[1450310400000,33.22],[1450396800000,32.44],[1450656000000,32.49],[1450742400000,33.0],[1450828800000,32.98],[1450915200000,32.96],[1451260800000,32.82],[1451347200000,33.16],[1451433600000,33.65],[1451520000000,33.34],[1451865600000,32.29],[1451952000000,32.98],[1452038400000,32.35],[1452124800000,30.74],[1452211200000,30.67],[1452470400000,29.66],[1452556800000,30.21],[1452643200000,30.41],[1452729600000,28.66],[1452816000000,27.52],[1453161600000,27.67],[1453248000000,26.81],[1453334400000,27.78],[1453420800000,28.33],[1453680000000,28.44],[1453766400000,28.48],[1453852800000,28.66],[1453939200000,28.59],[1454025600000,28.29],[1454284800000,29.26],[1454371200000,29.0],[1454457600000,28.28],[1454544000000,28.24],[1454630400000,28.02],[1454889600000,26.03],[1454976000000,24.92],[1455062400000,25.65],[1455148800000,24.78],[1455235200000,25.7],[1455580800000,26.1],[1455667200000,27.33],[1455753600000,29.93],[1455840000000,29.88],[1456099200000,30.88],[1456185600000,31.27],[1456272000000,31.47],[1456358400000,31.94],[1456444800000,32.04],[1456704000000,31.61],[1456790400000,31.44],[1456876800000,32.57],[1456963200000,32.9],[1457049600000,32.9],[1457308800000,32.37],[1457395200000,32.01],[1457481600000,32.03],[1457568000000,31.92],[1457654400000,32.15],[1457913600000,32.07],[1458000000000,32.13],[1458086400000,31.9],[1458172800000,32.98],[1458259200000,33.21],[1458518400000,33.51],[1458604800000,33.8],[1458691200000,34.0],[1458777600000,34.12],[1459123200000,34.42],[1459209600000,34.68],[1459296000000,35.52],[1459382400000,35.92],[1459468800000,35.41],[1459728000000,36.45],[1459814400000,35.48],[1459900800000,35.3],[1459987200000,35.57],[1460073600000,35.72],[1460332800000,35.87],[1460419200000,36.0],[1460505600000,36.0],[1460592000000,36.64],[1460678400000,36.83],[1460937600000,37.06],[1461024000000,37.11],[1461110400000,36.25],[1461196800000,36.46],[1461283200000,36.53],[1461542400000,36.28],[1461628800000,36.67],[1461715200000,36.39],[1461801600000,37.08],[1461888000000,36.05],[1462147200000,35.87],[1462233600000,35.59],[1462320000000,35.14],[1462406400000,35.05],[1462492800000,34.91],[1462752000000,35.42],[1462838400000,35.5],[1462924800000,36.07],[1463011200000,36.32],[1463097600000,39.19],[1463356800000,40.67],[1463443200000,42.0],[1463529600000,42.0],[1463616000000,43.19],[1463702400000,43.82],[1463961600000,44.52],[1464048000000,44.42],[1464134400000,45.5],[1464220800000,45.25],[1464307200000,45.7],[1464652800000,46.1],[1464739200000,46.5],[1464825600000,47.06],[1464912000000,46.68],[1465171200000,46.6],[1465257600000,46.52],[1465344000000,46.34],[1465430400000,46.02],[1465516800000,46.82],[1465776000000,46.25],[1465862400000,46.68],[1465948800000,47.27],[1466035200000,47.01],[1466121600000,47.61],[1466380800000,47.47],[1466467200000,47.76],[1466553600000,47.37],[1466640000000,47.68],[1466726400000,46.5],[1466985600000,45.35],[1467072000000,46.1],[1467158400000,46.3],[1467244800000,46.73],[1467331200000,46.75],[1467676800000,46.4],[1467763200000,47.02],[1467849600000,47.97],[1467936000000,49.41],[1468195200000,51.58],[1468281600000,52.6],[1468368000000,52.9],[1468454400000,53.06],[1468540800000,52.64],[1468800000000,53.35],[1468886400000,52.94],[1468972800000,53.7],[1469059200000,54.1],[1469145600000,53.41],[1469404800000,55.0],[1469491200000,56.17],[1469577600000,57.12],[1469664000000,56.19],[1469750400000,56.39],[1470009600000,57.34],[1470096000000,57.0],[1470182400000,55.97],[1470268800000,56.46],[1470355200000,57.89],[1470614400000,59.0],[1470700800000,59.03],[1470787200000,59.41],[1470873600000,58.82],[1470960000000,61.9],[1471219200000,63.11],[1471305600000,62.89],[1471392000000,62.6],[1471478400000,61.06],[1471564800000,62.07],[1471824000000,62.45],[1471910400000,63.04],[1471996800000,63.13],[1472083200000,61.96],[1472169600000,61.69],[1472428800000,62.28],[1472515200000,61.91],[1472601600000,61.75],[1472688000000,61.39],[1472774400000,63.28],[1473120000000,62.75],[1473206400000,62.92],[1473292800000,62.13],[1473379200000,61.95],[1473638400000,58.73],[1473724800000,60.6],[1473811200000,60.01],[1473897600000,60.5],[1473984000000,62.91],[1474243200000,63.5],[1474329600000,64.4],[1474416000000,63.28],[1474502400000,65.24],[1474588800000,65.1],[1474848000000,64.21],[1474934400000,64.09],[1475020800000,66.64],[1475107200000,66.67],[1475193600000,67.77],[1475452800000,68.52],[1475539200000,68.55],[1475625600000,68.88],[1475712000000,67.41],[1475798400000,67.79],[1476057600000,67.2],[1476144000000,66.88],[1476230400000,65.86],[1476316800000,65.65],[1476403200000,66.15],[1476662400000,65.98],[1476748800000,66.52],[1476835200000,66.16],[1476921600000,67.25],[1477008000000,67.49],[1477267200000,68.0],[1477353600000,70.59],[1477440000000,71.27],[1477526400000,72.71],[1477612800000,71.02],[1477872000000,70.79],[1477958400000,71.42],[1478044800000,69.58],[1478131200000,69.08],[1478217600000,67.51],[1478476800000,69.55],[1478563200000,71.54],[1478649600000,69.23],[1478736000000,71.49],[1478822400000,79.51],[1479081600000,88.09],[1479168000000,84.29],[1479254400000,87.34],[1479340800000,92.31],[1479427200000,92.39],[1479686400000,94.09],[1479772800000,93.3],[1479859200000,93.72],[1480032000000,94.42],[1480291200000,93.87],[1480377600000,94.0],[1480464000000,93.6],[1480550400000,92.1],[1480636800000,86.25],[1480896000000,89.99],[1480982400000,92.21],[1481068800000,92.84],[1481155200000,95.19],[1481241600000,94.2],[1481500800000,89.85],[1481587200000,90.09],[1481673600000,92.54],[1481760000000,96.9],[1481846400000,99.83],[1482105600000,99.7],[1482192000000,104.58],[1482278400000,105.64],[1482364800000,106.82],[1482451200000,106.38],[1482796800000,112.06],[1482883200000,119.6],[1482969600000,104.9],[1483056000000,111.35],[1483401600000,104.4],[1483488000000,103.4],[1483574400000,104.53],[1483660800000,102.85],[1483920000000,103.5],[1484006400000,107.81],[1484092800000,106.0],[1484179200000,104.23],[1484265600000,103.6],[1484611200000,103.0],[1484697600000,100.24],[1484784000000,103.07],[1484870400000,106.08],[1485129600000,103.8],[1485216000000,105.5],[1485302400000,109.05],[1485388800000,107.9],[1485475200000,109.93],[1485734400000,110.92],[1485820800000,108.95],[1485907200000,110.58],[1485993600000,113.3],[1486080000000,115.45],[1486339200000,114.0],[1486425600000,118.7],[1486512000000,118.4],[1486598400000,118.86],[1486684800000,119.93],[1486944000000,113.39],[1487030400000,107.99],[1487116800000,108.9],[1487203200000,109.39],[1487289600000,106.7],[1487635200000,108.23],[1487721600000,111.42],[1487808000000,105.5],[1487894400000,97.07],[1488153600000,102.2],[1488240000000,104.8],[1488326400000,103.79],[1488412800000,102.27],[1488499200000,98.57],[1488758400000,96.96],[1488844800000,97.67],[1488931200000,100.7],[1489017600000,97.91],[1489104000000,99.61],[1489363200000,99.54],[1489449600000,102.37],[1489536000000,102.25],[1489622400000,102.98],[1489708800000,104.52],[1489968000000,106.78],[1490054400000,108.75],[1490140800000,105.46],[1490227200000,107.75],[1490313600000,108.97],[1490572800000,105.58],[1490659200000,108.3],[1490745600000,107.99],[1490832000000,107.63],[1490918400000,109.01],[1491177600000,108.95],[1491264000000,103.4],[1491350400000,100.015],[1491436800000,100.24],[1491523200000,101.02],[1491782400000,100.36],[1491868800000,96.55],[1491955200000,98.12],[1492041600000,96.33],[1492387200000,96.01],[1492473600000,98.65],[1492560000000,100.0],[1492646400000,100.27],[1492732800000,100.84],[1492992000000,102.96],[1493078400000,103.54],[1493164800000,105.29],[1493251200000,104.32],[1493337600000,105.36],[1493596800000,104.74],[1493683200000,105.55],[1493769600000,103.2],[1493856000000,104.5],[1493942400000,103.38],[1494201600000,104.34],[1494288000000,103.0],[1494374400000,114.29],[1494460800000,120.05],[1494547200000,126.63],[1494806400000,129.56],[1494892800000,136.38],[1494979200000,134.1],[1495065600000,129.5],[1495152000000,137.025],[1495411200000,137.77],[1495497600000,139.7],[1495584000000,140.96],[1495670400000,140.0],[1495756800000,137.93],[1496102400000,143.7],[1496188800000,146.69],[1496275200000,144.99],[1496361600000,144.24],[1496620800000,142.98],[1496707200000,147.82],[1496793600000,148.33],[1496880000000,153.46],[1496966400000,164.74],[1497225600000,145.88],[1497312000000,154.4],[1497398400000,151.52],[1497484800000,146.96],[1497571200000,152.76],[1497830400000,153.41],[1497916800000,159.03],[1498003200000,158.21],[1498089600000,159.8],[1498176000000,158.68],[1498435200000,155.16],[1498521600000,151.44],[1498608000000,149.32],[1498694400000,150.6],[1498780800000,147.38],[1499040000000,145.05],[1499212800000,141.9],[1499299200000,141.87],[1499385600000,145.78],[1499644800000,149.74],[1499731200000,153.85],[1499817600000,158.3],[1499904000000,163.0],[1499990400000,161.29],[1500249600000,166.33],[1500336000000,161.78],[1500422400000,166.33],[1500508800000,165.93],[1500595200000,166.67],[1500854400000,168.39],[1500940800000,165.22],[1501027200000,167.68],[1501113600000,168.27],[1501200000000,160.29],[1501459200000,164.94],[1501545600000,162.125],[1501632000000,165.75],[1501718400000,164.37],[1501804800000,167.4],[1502064000000,168.39],[1502150400000,173.89],[1502236800000,168.43],[1502323200000,172.16],[1502409600000,157.14],[1502668800000,159.67],[1502755200000,168.61],[1502841600000,167.59],[1502928000000,164.81],[1503014400000,163.67],[1503273600000,162.49],[1503360000000,160.49],[1503446400000,161.2],[1503532800000,167.1],[1503619200000,166.17],[1503878400000,164.58],[1503964800000,162.59],[1504051200000,165.5],[1504137600000,166.5],[1504224000000,169.95],[1504569600000,168.38],[1504656000000,167.24],[1504742400000,166.49],[1504828800000,166.11],[1505088000000,165.54],[1505174400000,170.0],[1505260800000,168.59],[1505347200000,168.79],[1505433600000,172.86],[1505692800000,185.14],[1505779200000,185.51],[1505865600000,187.5],[1505952000000,181.64],[1506038400000,180.3],[1506297600000,177.75],[1506384000000,176.45],[1506470400000,175.62],[1506556800000,176.02],[1506643200000,179.08],[1506902400000,180.8],[1506988800000,179.25],[1507075200000,179.62],[1507161600000,181.86],[1507248000000,179.65],[1507507200000,182.79],[1507593600000,191.43],[1507680000000,189.6],[1507766400000,191.08],[1507852800000,193.55],[1508112000000,195.8],[1508198400000,197.09],[1508284800000,198.11],[1508371200000,194.44],[1508457600000,198.49],[1508716800000,197.78],[1508803200000,196.99],[1508889600000,197.08],[1508976000000,194.78],[1509062400000,197.8],[1509321600000,201.86],[1509408000000,205.13],[1509494400000,209.35],[1509580800000,206.0],[1509667200000,207.2],[1509926400000,207.2],[1510012800000,210.55],[1510099200000,211.85],[1510185600000,205.27],[1510272000000,213.08],[1510531200000,216.14],[1510617600000,213.0],[1510704000000,211.95],[1510790400000,212.98],[1510876800000,213.92],[1511136000000,211.99],[1511222400000,215.69],[1511308800000,217.0],[1511481600000,215.59],[1511740800000,217.31],[1511827200000,214.35],[1511913600000,210.01],[1512000000000,199.2],[1512086400000,199.31],[1512345600000,200.05],[1512432000000,182.4],[1512518400000,185.7],[1512604800000,191.96],[1512691200000,194.01],[1512950400000,192.06],[1513036800000,192.9],[1513123200000,192.5],[1513209600000,185.92],[1513296000000,188.251],[1513555200000,193.2],[1513641600000,197.52],[1513728000000,197.7],[1513814400000,196.94],[1513900800000,194.4],[1514246400000,193.03],[1514332800000,196.9],[1514419200000,198.13],[1514505600000,198.46],[1514851200000,195.78],[1514937600000,204.1],[1515024000000,215.76],[1515110400000,214.19],[1515369600000,220.4],[1515456000000,222.22],[1515542400000,218.2],[1515628800000,225.0],[1515715200000,223.6],[1516060800000,224.05],[1516147200000,220.7],[1516233600000,223.94],[1516320000000,228.09],[1516579200000,230.43],[1516665600000,235.85],[1516752000000,239.04],[1516838400000,238.0],[1516924800000,238.12],[1517184000000,242.74],[1517270400000,241.11],[1517356800000,245.77],[1517443200000,238.52],[1517529600000,237.0],[1517788800000,227.0],[1517875200000,204.4],[1517961600000,229.58],[1518048000000,233.88],[1518134400000,238.25],[1518393600000,235.355],[1518480000000,226.56],[1518566400000,231.0],[1518652800000,244.785],[1518739200000,245.4],[1519084800000,244.75],[1519171200000,251.69],[1519257600000,242.73],[1519344000000,244.57],[1519603200000,247.8],[1519689600000,245.5],[1519776000000,246.5],[1519862400000,241.91],[1519948800000,227.86],[1520208000000,234.51],[1520294400000,239.1],[1520380800000,238.0],[1520467200000,242.95],[1520553600000,243.1],[1520812800000,247.0],[1520899200000,251.49],[1520985600000,249.45],[1521072000000,249.29],[1521158400000,250.0],[1521417600000,248.18],[1521504000000,241.12],[1521590400000,249.32],[1521676800000,246.0],[1521763200000,242.4],[1522022400000,238.0],[1522108800000,247.75],[1522195200000,224.13],[1522281600000,224.105],[1522627200000,228.74],[1522713600000,227.8],[1522800000000,215.01],[1522886400000,228.6],[1522972800000,217.23],[1523232000000,216.8],[1523318400000,224.72],[1523404800000,227.31],[1523491200000,230.0],[1523577600000,237.17],[1523836800000,231.772],[1523923200000,233.6],[1524009600000,235.5],[1524096000000,231.745],[1524182400000,228.69],[1524441600000,229.43],[1524528000000,224.92],[1524614400000,220.0],[1524700800000,223.2],[1524787200000,229.5],[1525046400000,226.99],[1525132800000,224.57],[1525219200000,227.0],[1525305600000,227.6],[1525392000000,231.83],[1525651200000,243.295],[1525737600000,248.69],[1525824000000,251.21],[1525910400000,257.92],[1525996800000,252.78],[1526256000000,256.07],[1526342400000,252.79],[1526428800000,244.0],[1526515200000,246.084],[1526601600000,249.81],[1526860800000,249.88],[1526947200000,244.78],[1527033600000,240.28],[1527120000000,247.39],[1527206400000,248.2],[1527552000000,248.55],[1527638400000,249.95],[1527724800000,251.7],[1527811200000,254.0],[1528070400000,259.0],[1528156800000,264.98],[1528243200000,261.43],[1528329600000,265.0],[1528416000000,259.96],[1528675200000,261.77],[1528761600000,261.69],[1528848000000,262.64],[1528934400000,264.22],[1529020800000,264.6],[1529280000000,263.48],[1529366400000,260.92],[1529452800000,261.832],[1529539200000,263.6],[1529625600000,257.95],[1529884800000,246.65],[1529971200000,243.7],[1530057600000,243.75],[1530144000000,235.32],[1530230400000,243.49],[1530489600000,234.09],[1530576000000,243.64],[1530748800000,239.07],[1530835200000,241.74],[1531094400000,250.3297],[1531180800000,249.75],[1531267200000,249.5],[1531353600000,249.36],[1531440000000,251.98],[1531699200000,248.2],[1531785600000,246.21],[1531872000000,253.39],[1531958400000,250.94],[1532044800000,251.93],[1532304000000,249.82],[1532390400000,251.35],[1532476800000,249.09],[1532563200000,251.06]]}],\"title\":{\"text\":\"NVDA\"},\"xAxis\":{\"title\":{\"text\":\"date\"},\"type\":\"datetime\"},\"yAxis\":[{}]});</script>"
      ],
      "text/plain": [
       "<IPython.core.display.HTML object>"
      ]
     },
     "metadata": {},
     "output_type": "display_data"
    }
   ],
   "source": [
    "df = order_df.copy()\n",
    "df.drop(columns=['sell_reason'], inplace=True)\n",
    "df['pro_pct'] = (df.sell_price - df.buy_price) / df.buy_price\n",
    "# df.sell_date.dtypes\n",
    "# df.loc[1].sell_date\n",
    "# df.loc[1].sell_date.to_timestamp()\n",
    "\n",
    "# df = df.astype(dtype={'sell_date': 'datetime64[ns]', 'buy_date': 'datetime64[ns]', 'cash':'int'})\n",
    "df = df.astype(dtype={'cash': 'int'})\n",
    "# df.loc[1].sell_date\n",
    "\n",
    "# type(df[1].sell_date)\n",
    "df['h_days'] = (df.sell_date - df.buy_date)\n",
    "# df.loc[1].h_days\n",
    "# type(df.loc[1].h_days)\n",
    "\n",
    "df['h_days'] = df['h_days'].apply(lambda x: 1 if x == 0 else x)\n",
    "# df.loc[1].h_days\n",
    "\n",
    "df['per_d'] = df.pro_pct / df.h_days * 365\n",
    "# df['per_d'] = df.apply(lambda x: x.pro_pct / x.h_days)\n",
    "\n",
    "df['curry_ret'] = df['symbol'].apply(lambda x: stock_df_dict[x].iloc[-1].open / stock_df_dict[x][start_date:].iloc[0].open)\n",
    "# df['lasty_ret'] = df['symbol'].apply(lambda x: stock_df_dict[x][:start_date].iloc[-1].open / stock_df_dict[x][:start_date].iloc[-150].open)\n",
    "\n",
    "df = df.astype(dtype={'per_d': 'float64', 'pro_pct': 'float64'})\n",
    "# df.dtypes\n",
    "\n",
    "# df\n",
    "# df.sort_values(by='pro_pct', ascending=False)\n",
    "# df.sort_values(by='per_d', ascending=False)\n",
    "\n",
    "# df = df.loc[:, ['symbol', 'pro_pct', 'h_days']]\n",
    "# df = df.groupby(by='symbol').sum()\n",
    "# df = df.groupby('symbol')\n",
    "# df['per_d'].agg('mean')\n",
    "# df.sort_values(by='pro_pct', ascending=False).head(1000)\n",
    "\n",
    "\n",
    "single_symbol = 'NVDA'\n",
    "df.sort_values(by='pro_pct', ascending=False).loc[df.symbol==single_symbol]\n",
    "df = stock_df_dict[single_symbol].tail(1000).copy()\n",
    "# df.columns\n",
    "df.reset_index(drop=False, inplace=True)\n",
    "df = df.astype(dtype={'date': 'datetime64[ns]'})\n",
    "df.set_index('date', inplace=True)\n",
    "display_charts(df, chart_type='stock', y=['open', 'ROLLING_60_MAX', 'ROLLING_60_MIN'], figsize=(900, 600), title=single_symbol)"
   ]
  },
  {
   "cell_type": "code",
   "execution_count": 11,
   "metadata": {
    "scrolled": false
   },
   "outputs": [
    {
     "data": {
      "text/plain": [
       "'选股，计算哪些股票跑不赢指数'"
      ]
     },
     "execution_count": 11,
     "metadata": {},
     "output_type": "execute_result"
    },
    {
     "data": {
      "text/plain": [
       "(4920.792, 6439.905)"
      ]
     },
     "execution_count": 11,
     "metadata": {},
     "output_type": "execute_result"
    },
    {
     "data": {
      "text/plain": [
       "('benchmark_return_lastyear', 1.3087131095969915)"
      ]
     },
     "execution_count": 11,
     "metadata": {},
     "output_type": "execute_result"
    },
    {
     "data": {
      "text/plain": [
       "('benchmark_return', 1.0994932978459913)"
      ]
     },
     "execution_count": 11,
     "metadata": {},
     "output_type": "execute_result"
    },
    {
     "data": {
      "text/plain": [
       "68"
      ]
     },
     "execution_count": 11,
     "metadata": {},
     "output_type": "execute_result"
    },
    {
     "data": {
      "text/html": [
       "<div>\n",
       "<style scoped>\n",
       "    .dataframe tbody tr th:only-of-type {\n",
       "        vertical-align: middle;\n",
       "    }\n",
       "\n",
       "    .dataframe tbody tr th {\n",
       "        vertical-align: top;\n",
       "    }\n",
       "\n",
       "    .dataframe thead th {\n",
       "        text-align: right;\n",
       "    }\n",
       "</style>\n",
       "<table border=\"1\" class=\"dataframe\">\n",
       "  <thead>\n",
       "    <tr style=\"text-align: right;\">\n",
       "      <th></th>\n",
       "      <th>symbol</th>\n",
       "      <th>return</th>\n",
       "    </tr>\n",
       "  </thead>\n",
       "  <tbody>\n",
       "    <tr>\n",
       "      <th>71</th>\n",
       "      <td>NFLX</td>\n",
       "      <td>2.035645</td>\n",
       "    </tr>\n",
       "    <tr>\n",
       "      <th>4</th>\n",
       "      <td>ALGN</td>\n",
       "      <td>1.552985</td>\n",
       "    </tr>\n",
       "    <tr>\n",
       "      <th>7</th>\n",
       "      <td>AMZN</td>\n",
       "      <td>1.465017</td>\n",
       "    </tr>\n",
       "    <tr>\n",
       "      <th>94</th>\n",
       "      <td>FOX</td>\n",
       "      <td>1.431646</td>\n",
       "    </tr>\n",
       "    <tr>\n",
       "      <th>93</th>\n",
       "      <td>FOXA</td>\n",
       "      <td>1.426805</td>\n",
       "    </tr>\n",
       "    <tr>\n",
       "      <th>49</th>\n",
       "      <td>IDXX</td>\n",
       "      <td>1.382956</td>\n",
       "    </tr>\n",
       "    <tr>\n",
       "      <th>2</th>\n",
       "      <td>ADBE</td>\n",
       "      <td>1.375490</td>\n",
       "    </tr>\n",
       "    <tr>\n",
       "      <th>81</th>\n",
       "      <td>STX</td>\n",
       "      <td>1.342857</td>\n",
       "    </tr>\n",
       "    <tr>\n",
       "      <th>39</th>\n",
       "      <td>EA</td>\n",
       "      <td>1.335469</td>\n",
       "    </tr>\n",
       "    <tr>\n",
       "      <th>54</th>\n",
       "      <td>ISRG</td>\n",
       "      <td>1.315638</td>\n",
       "    </tr>\n",
       "    <tr>\n",
       "      <th>83</th>\n",
       "      <td>SIRI</td>\n",
       "      <td>1.313093</td>\n",
       "    </tr>\n",
       "    <tr>\n",
       "      <th>65</th>\n",
       "      <td>MU</td>\n",
       "      <td>1.292489</td>\n",
       "    </tr>\n",
       "    <tr>\n",
       "      <th>53</th>\n",
       "      <td>INTU</td>\n",
       "      <td>1.291619</td>\n",
       "    </tr>\n",
       "    <tr>\n",
       "      <th>72</th>\n",
       "      <td>NVDA</td>\n",
       "      <td>1.243692</td>\n",
       "    </tr>\n",
       "    <tr>\n",
       "      <th>14</th>\n",
       "      <td>ADSK</td>\n",
       "      <td>1.239130</td>\n",
       "    </tr>\n",
       "    <tr>\n",
       "      <th>50</th>\n",
       "      <td>ILMN</td>\n",
       "      <td>1.231693</td>\n",
       "    </tr>\n",
       "    <tr>\n",
       "      <th>1</th>\n",
       "      <td>ATVI</td>\n",
       "      <td>1.203022</td>\n",
       "    </tr>\n",
       "    <tr>\n",
       "      <th>101</th>\n",
       "      <td>WDAY</td>\n",
       "      <td>1.182852</td>\n",
       "    </tr>\n",
       "    <tr>\n",
       "      <th>27</th>\n",
       "      <td>CTAS</td>\n",
       "      <td>1.181419</td>\n",
       "    </tr>\n",
       "    <tr>\n",
       "      <th>29</th>\n",
       "      <td>CTXS</td>\n",
       "      <td>1.177354</td>\n",
       "    </tr>\n",
       "    <tr>\n",
       "      <th>19</th>\n",
       "      <td>BKNG</td>\n",
       "      <td>1.163340</td>\n",
       "    </tr>\n",
       "    <tr>\n",
       "      <th>15</th>\n",
       "      <td>ADP</td>\n",
       "      <td>1.155908</td>\n",
       "    </tr>\n",
       "    <tr>\n",
       "      <th>73</th>\n",
       "      <td>ORLY</td>\n",
       "      <td>1.149872</td>\n",
       "    </tr>\n",
       "    <tr>\n",
       "      <th>33</th>\n",
       "      <td>CSX</td>\n",
       "      <td>1.149380</td>\n",
       "    </tr>\n",
       "    <tr>\n",
       "      <th>66</th>\n",
       "      <td>MSFT</td>\n",
       "      <td>1.148679</td>\n",
       "    </tr>\n",
       "    <tr>\n",
       "      <th>13</th>\n",
       "      <td>ASML</td>\n",
       "      <td>1.137131</td>\n",
       "    </tr>\n",
       "    <tr>\n",
       "      <th>90</th>\n",
       "      <td>TSLA</td>\n",
       "      <td>1.132468</td>\n",
       "    </tr>\n",
       "    <tr>\n",
       "      <th>44</th>\n",
       "      <td>FISV</td>\n",
       "      <td>1.121855</td>\n",
       "    </tr>\n",
       "    <tr>\n",
       "      <th>32</th>\n",
       "      <td>COST</td>\n",
       "      <td>1.119799</td>\n",
       "    </tr>\n",
       "    <tr>\n",
       "      <th>76</th>\n",
       "      <td>PYPL</td>\n",
       "      <td>1.114703</td>\n",
       "    </tr>\n",
       "    <tr>\n",
       "      <th>...</th>\n",
       "      <td>...</td>\n",
       "      <td>...</td>\n",
       "    </tr>\n",
       "    <tr>\n",
       "      <th>58</th>\n",
       "      <td>LRCX</td>\n",
       "      <td>0.931947</td>\n",
       "    </tr>\n",
       "    <tr>\n",
       "      <th>56</th>\n",
       "      <td>JD</td>\n",
       "      <td>0.929046</td>\n",
       "    </tr>\n",
       "    <tr>\n",
       "      <th>61</th>\n",
       "      <td>MAR</td>\n",
       "      <td>0.922658</td>\n",
       "    </tr>\n",
       "    <tr>\n",
       "      <th>48</th>\n",
       "      <td>HOLX</td>\n",
       "      <td>0.922573</td>\n",
       "    </tr>\n",
       "    <tr>\n",
       "      <th>79</th>\n",
       "      <td>REGN</td>\n",
       "      <td>0.905450</td>\n",
       "    </tr>\n",
       "    <tr>\n",
       "      <th>17</th>\n",
       "      <td>BIIB</td>\n",
       "      <td>0.903254</td>\n",
       "    </tr>\n",
       "    <tr>\n",
       "      <th>68</th>\n",
       "      <td>MNST</td>\n",
       "      <td>0.895110</td>\n",
       "    </tr>\n",
       "    <tr>\n",
       "      <th>43</th>\n",
       "      <td>FAST</td>\n",
       "      <td>0.887357</td>\n",
       "    </tr>\n",
       "    <tr>\n",
       "      <th>24</th>\n",
       "      <td>CERN</td>\n",
       "      <td>0.886454</td>\n",
       "    </tr>\n",
       "    <tr>\n",
       "      <th>12</th>\n",
       "      <td>AMAT</td>\n",
       "      <td>0.884868</td>\n",
       "    </tr>\n",
       "    <tr>\n",
       "      <th>77</th>\n",
       "      <td>QCOM</td>\n",
       "      <td>0.871855</td>\n",
       "    </tr>\n",
       "    <tr>\n",
       "      <th>69</th>\n",
       "      <td>MYL</td>\n",
       "      <td>0.861865</td>\n",
       "    </tr>\n",
       "    <tr>\n",
       "      <th>78</th>\n",
       "      <td>QRTEA</td>\n",
       "      <td>0.859798</td>\n",
       "    </tr>\n",
       "    <tr>\n",
       "      <th>25</th>\n",
       "      <td>CHTR</td>\n",
       "      <td>0.857903</td>\n",
       "    </tr>\n",
       "    <tr>\n",
       "      <th>74</th>\n",
       "      <td>PCAR</td>\n",
       "      <td>0.853107</td>\n",
       "    </tr>\n",
       "    <tr>\n",
       "      <th>85</th>\n",
       "      <td>SBUX</td>\n",
       "      <td>0.829681</td>\n",
       "    </tr>\n",
       "    <tr>\n",
       "      <th>99</th>\n",
       "      <td>WBA</td>\n",
       "      <td>0.816184</td>\n",
       "    </tr>\n",
       "    <tr>\n",
       "      <th>31</th>\n",
       "      <td>CMCSA</td>\n",
       "      <td>0.804902</td>\n",
       "    </tr>\n",
       "    <tr>\n",
       "      <th>92</th>\n",
       "      <td>KHC</td>\n",
       "      <td>0.804270</td>\n",
       "    </tr>\n",
       "    <tr>\n",
       "      <th>37</th>\n",
       "      <td>DLTR</td>\n",
       "      <td>0.787110</td>\n",
       "    </tr>\n",
       "    <tr>\n",
       "      <th>60</th>\n",
       "      <td>LBTYK</td>\n",
       "      <td>0.783584</td>\n",
       "    </tr>\n",
       "    <tr>\n",
       "      <th>59</th>\n",
       "      <td>LBTYA</td>\n",
       "      <td>0.768511</td>\n",
       "    </tr>\n",
       "    <tr>\n",
       "      <th>98</th>\n",
       "      <td>VOD</td>\n",
       "      <td>0.752488</td>\n",
       "    </tr>\n",
       "    <tr>\n",
       "      <th>23</th>\n",
       "      <td>CELG</td>\n",
       "      <td>0.744325</td>\n",
       "    </tr>\n",
       "    <tr>\n",
       "      <th>8</th>\n",
       "      <td>AAL</td>\n",
       "      <td>0.730938</td>\n",
       "    </tr>\n",
       "    <tr>\n",
       "      <th>86</th>\n",
       "      <td>SYMC</td>\n",
       "      <td>0.719391</td>\n",
       "    </tr>\n",
       "    <tr>\n",
       "      <th>70</th>\n",
       "      <td>NTES</td>\n",
       "      <td>0.717586</td>\n",
       "    </tr>\n",
       "    <tr>\n",
       "      <th>36</th>\n",
       "      <td>DISH</td>\n",
       "      <td>0.697377</td>\n",
       "    </tr>\n",
       "    <tr>\n",
       "      <th>51</th>\n",
       "      <td>INCY</td>\n",
       "      <td>0.674610</td>\n",
       "    </tr>\n",
       "    <tr>\n",
       "      <th>35</th>\n",
       "      <td>XRAY</td>\n",
       "      <td>0.654697</td>\n",
       "    </tr>\n",
       "  </tbody>\n",
       "</table>\n",
       "<p>104 rows × 2 columns</p>\n",
       "</div>"
      ],
      "text/plain": [
       "    symbol    return\n",
       "71    NFLX  2.035645\n",
       "4     ALGN  1.552985\n",
       "7     AMZN  1.465017\n",
       "94     FOX  1.431646\n",
       "93    FOXA  1.426805\n",
       "49    IDXX  1.382956\n",
       "2     ADBE  1.375490\n",
       "81     STX  1.342857\n",
       "39      EA  1.335469\n",
       "54    ISRG  1.315638\n",
       "83    SIRI  1.313093\n",
       "65      MU  1.292489\n",
       "53    INTU  1.291619\n",
       "72    NVDA  1.243692\n",
       "14    ADSK  1.239130\n",
       "50    ILMN  1.231693\n",
       "1     ATVI  1.203022\n",
       "101   WDAY  1.182852\n",
       "27    CTAS  1.181419\n",
       "29    CTXS  1.177354\n",
       "19    BKNG  1.163340\n",
       "15     ADP  1.155908\n",
       "73    ORLY  1.149872\n",
       "33     CSX  1.149380\n",
       "66    MSFT  1.148679\n",
       "13    ASML  1.137131\n",
       "90    TSLA  1.132468\n",
       "44    FISV  1.121855\n",
       "32    COST  1.119799\n",
       "76    PYPL  1.114703\n",
       "..     ...       ...\n",
       "58    LRCX  0.931947\n",
       "56      JD  0.929046\n",
       "61     MAR  0.922658\n",
       "48    HOLX  0.922573\n",
       "79    REGN  0.905450\n",
       "17    BIIB  0.903254\n",
       "68    MNST  0.895110\n",
       "43    FAST  0.887357\n",
       "24    CERN  0.886454\n",
       "12    AMAT  0.884868\n",
       "77    QCOM  0.871855\n",
       "69     MYL  0.861865\n",
       "78   QRTEA  0.859798\n",
       "25    CHTR  0.857903\n",
       "74    PCAR  0.853107\n",
       "85    SBUX  0.829681\n",
       "99     WBA  0.816184\n",
       "31   CMCSA  0.804902\n",
       "92     KHC  0.804270\n",
       "37    DLTR  0.787110\n",
       "60   LBTYK  0.783584\n",
       "59   LBTYA  0.768511\n",
       "98     VOD  0.752488\n",
       "23    CELG  0.744325\n",
       "8      AAL  0.730938\n",
       "86    SYMC  0.719391\n",
       "70    NTES  0.717586\n",
       "36    DISH  0.697377\n",
       "51    INCY  0.674610\n",
       "35    XRAY  0.654697\n",
       "\n",
       "[104 rows x 2 columns]"
      ]
     },
     "execution_count": 11,
     "metadata": {},
     "output_type": "execute_result"
    }
   ],
   "source": [
    "# %%time\n",
    "\n",
    "'''选股，计算哪些股票跑不赢指数'''\n",
    "\n",
    "df = None\n",
    "df = pd.DataFrame(columns=[\n",
    "    'symbol', 'return'\n",
    "])\n",
    "\n",
    "s_p = stock_df_dict['NDX'][:start_date].iloc[-250].open\n",
    "e_p = stock_df_dict['NDX'][:start_date].iloc[-1].open\n",
    "benchmark_return = e_p / s_p\n",
    "s_p, e_p\n",
    "'benchmark_return_lastyear', benchmark_return\n",
    "\n",
    "s_p = stock_df_dict['NDX'][start_date:].iloc[0].open\n",
    "e_p = stock_df_dict['NDX'][:end_date].iloc[-1].open\n",
    "benchmark_return = e_p / s_p\n",
    "'benchmark_return', benchmark_return\n",
    "\n",
    "\n",
    "\n",
    "for symbol, stock_df in stock_df_dict.items():\n",
    "    df = df.append(\n",
    "        {\n",
    "            'symbol': symbol,\n",
    "            'return': stock_df[:end_date].iloc[-1].open / stock_df[start_date:].iloc[0].open,\n",
    "        },\n",
    "        ignore_index = True\n",
    "    )\n",
    "\n",
    "len(df[df['return'] < benchmark_return])\n",
    "\n",
    "# df[df['return'] >= benchmark_return]\n",
    "\n",
    "df.sort_values(by=['return'], ascending=False)\n"
   ]
  },
  {
   "cell_type": "code",
   "execution_count": 12,
   "metadata": {
    "scrolled": false
   },
   "outputs": [],
   "source": [
    "%matplotlib inline\n",
    "\n",
    "import sys\n",
    "import matplotlib\n",
    "import matplotlib.pyplot as plt\n",
    "plt.rcParams['figure.figsize'] = [15, 10]\n",
    "\n",
    "# order_df_TB\n",
    "bar_df = order_df.copy()\n",
    "df = bar_df.sort_values(by=['profit'])\n",
    "# df\n",
    "\n",
    "bins = [100 * x for x in range(-200, 500)]\n",
    "# bins\n",
    "\n",
    "cats = pd.cut(df['profit'], bins)\n",
    "# cats\n",
    "\n",
    "def get_stats(group):\n",
    "    return {'count': group.count()}\n",
    "\n",
    "grouped = df['profit'].groupby(cats)\n",
    "bin_counts = grouped.apply(get_stats).unstack()\n",
    "bin_counts.reset_index(inplace=True, drop=False)\n",
    "bin_counts['profit'] = bin_counts['profit'].apply(str)\n",
    "# bin_counts\n",
    "\n",
    "# df['profit'].hist(bins=10)\n",
    "\n",
    "# bin_counts.plot(kind='barh', alpha=0.5, rot=0)\n",
    "\n",
    "# display_charts(bin_counts, kind='bar', x='profit', figsize=(900, 600), logy=True)"
   ]
  },
  {
   "cell_type": "code",
   "execution_count": 13,
   "metadata": {
    "scrolled": false
   },
   "outputs": [
    {
     "data": {
      "text/plain": [
       "Index(['open', 'high', 'low', 'close', 'volume', 'o_pct_chg', 'ROLLING_20_MAX',\n",
       "       'ROLLING_20_MIN', 'ROLLING_60_MAX', 'ROLLING_60_MIN', 'MA180', 'MA60',\n",
       "       'MA30', 'CASH_TURTLE_20_60_60', 'PROPERTY_TURTLE_20_60_60'],\n",
       "      dtype='object')"
      ]
     },
     "execution_count": 13,
     "metadata": {},
     "output_type": "execute_result"
    },
    {
     "data": {
      "image/png": "[encoded data removed]",
      "text/plain": [
       "<matplotlib.figure.Figure at 0x7bedc742d710>"
      ]
     },
     "metadata": {},
     "output_type": "display_data"
    }
   ],
   "source": [
    "%matplotlib inline\n",
    "\n",
    "import matplotlib\n",
    "import matplotlib.pyplot as plt\n",
    "plt.rcParams['figure.figsize'] = [15, 10]\n",
    "\n",
    "df = show_df.dropna(how='any', inplace=False).copy()\n",
    "# df.drop(columns=['open', 'high', 'low', 'o_pct_chg', 'TR', 'N'], inplace=True)\n",
    "df.columns\n",
    "\n",
    "# df.iloc[0]['open']\n",
    "# stock_df_dict['NDX'][start_date:].iloc[0].open\n",
    "# stock_df_dict['NDX'][:end_date].iloc[-1].open\n",
    "# df['open']\n",
    "\n",
    "df['close'] = (df['close'] - df.iloc[0]['close']) / df.iloc[0]['close']\n",
    "ax = df.plot(kind='line', y='close', label='NDX_%.2f' % df.iloc[-1]['close'], linewidth=1, grid=True)\n",
    "for col in sorted(df.columns):\n",
    "    if 'PROPERTY' in col:\n",
    "        df[col] = (df[col] - df.iloc[1][col]) / df.iloc[0][col]\n",
    "        ax = df.plot(kind='line', y=col, secondary_y=False, label='%s_%.2f' % (col, df.iloc[-1][col]), linewidth=1, grid=True, ax=ax)\n",
    "\n",
    "# display_charts(df, kind='line', figsize=(900, 600), logy=False)"
   ]
  },
  {
   "cell_type": "code",
   "execution_count": 14,
   "metadata": {},
   "outputs": [
    {
     "data": {
      "text/plain": [
       "Index(['open', 'high', 'low', 'close', 'volume', 'o_pct_chg', 'ROLLING_20_MAX',\n",
       "       'ROLLING_20_MIN', 'ROLLING_60_MAX', 'ROLLING_60_MIN', 'MA180', 'MA60',\n",
       "       'MA30', 'CASH_TURTLE_20_60_60', 'PROPERTY_TURTLE_20_60_60'],\n",
       "      dtype='object')"
      ]
     },
     "execution_count": 14,
     "metadata": {},
     "output_type": "execute_result"
    },
    {
     "data": {
      "text/html": [
       "<div id=\"chart_idXFtzklJn\"</div>\n",
       "    <script type=\"text/javascript\">new Highcharts.StockChart({\"chart\":{\"renderTo\":\"chart_idXFtzklJn\",\"width\":900,\"height\":800},\"legend\":{\"enabled\":true},\"series\":[{\"name\":\"CASH_TURTLE_20_60_60\",\"yAxis\":0,\"data\":[[1514851200000,1.0],[1514937600000,0.99141823],[1515024000000,0.97797876],[1515110400000,0.96000434],[1515369600000,0.9468341],[1515456000000,0.92609076],[1515542400000,0.91558383],[1515628800000,0.90416467],[1515715200000,0.8861016],[1516060800000,0.85848948],[1516147200000,0.84735564],[1516233600000,0.82319056],[1516320000000,0.80467985],[1516579200000,0.78435288],[1516665600000,0.75228234],[1516752000000,0.71961778],[1516838400000,0.69284056],[1516924800000,0.675187415],[1517184000000,0.645365415],[1517270400000,0.63568461],[1517356800000,0.62623751],[1517443200000,0.62078127],[1517529600000,0.61864952],[1517788800000,0.61924747],[1517875200000,0.63001285],[1517961600000,0.63001285],[1518048000000,0.63250285],[1518134400000,0.63943995],[1518393600000,0.63943995],[1518480000000,0.63943995],[1518566400000,0.63943995],[1518652800000,0.64009924],[1518739200000,0.63632629],[1519084800000,0.63447697],[1519171200000,0.62830148],[1519257600000,0.62456956],[1519344000000,0.62074767],[1519603200000,0.611639155],[1519689600000,0.600450915],[1519776000000,0.597662345],[1519862400000,0.601741295],[1519948800000,0.601741295],[1520208000000,0.608904765],[1520294400000,0.601434955],[1520380800000,0.596853165],[1520467200000,0.581667095],[1520553600000,0.57229541],[1520812800000,0.545787655],[1520899200000,0.525507235],[1520985600000,0.522905515],[1521072000000,0.522048315],[1521158400000,0.518407605],[1521417600000,0.517453695],[1521504000000,0.524057895],[1521590400000,0.523142855],[1521676800000,0.531897995],[1521763200000,0.537909195],[1522022400000,0.542228695],[1522108800000,0.540354915],[1522195200000,0.541121375],[1522281600000,0.541121375],[1522627200000,0.541121375],[1522713600000,0.573800765],[1522800000000,0.59125457],[1522886400000,0.59125457],[1522972800000,0.60173195],[1523232000000,0.60173195],[1523318400000,0.60077579],[1523404800000,0.60492499],[1523491200000,0.61880647],[1523577600000,0.61689199],[1523836800000,0.61591775],[1523923200000,0.61299654],[1524009600000,0.6047351544],[1524096000000,0.6008725844],[1524182400000,0.6127255044],[1524441600000,0.6127255044],[1524528000000,0.6098759744],[1524614400000,0.6098759744],[1524700800000,0.6247373344],[1524787200000,0.6218361644],[1525046400000,0.6162432944],[1525132800000,0.6160049042],[1525219200000,0.6250079442],[1525305600000,0.6324231442],[1525392000000,0.6324231442],[1525651200000,0.6268530342],[1525737600000,0.6203196742],[1525824000000,0.6256856002],[1525910400000,0.6136638902],[1525996800000,0.6009472602],[1526256000000,0.5900652402],[1526342400000,0.5874602202],[1526428800000,0.5839077802],[1526515200000,0.5776245402],[1526601600000,0.5713785002],[1526860800000,0.5641331302],[1526947200000,0.5585174552],[1527033600000,0.5585174552],[1527120000000,0.5503007352],[1527206400000,0.5438028652],[1527552000000,0.5421452952],[1527638400000,0.5356841752],[1527724800000,0.5265963752],[1527811200000,0.5206273052],[1528070400000,0.5038708802],[1528156800000,0.4889744152],[1528243200000,0.4715485856],[1528329600000,0.4512922856],[1528416000000,0.4530014156],[1528675200000,0.4436087356],[1528761600000,0.4307601456],[1528848000000,0.4149543056],[1528934400000,0.4002884056],[1529020800000,0.3917355856],[1529280000000,0.3880569456],[1529366400000,0.3895766656],[1529452800000,0.3833544656],[1529539200000,0.3769872056],[1529625600000,0.3715045056],[1529884800000,0.3853696056],[1529971200000,0.3845200856],[1530057600000,0.3845200856],[1530144000000,0.3942752656],[1530230400000,0.3922986656]]},{\"name\":\"PROPERTY_TURTLE_20_60_60\",\"yAxis\":0,\"data\":[[1514851200000,0.0],[1514937600000,0.0],[1515024000000,0.00011868],[1515110400000,0.00025734],[1515369600000,0.00026843],[1515456000000,0.00053517],[1515542400000,0.00040611],[1515628800000,0.00049933],[1515715200000,0.0012956],[1516060800000,0.00290017],[1516147200000,0.001935125],[1516233600000,0.002728465],[1516320000000,0.0032314],[1516579200000,0.00449813],[1516665600000,0.00756633],[1516752000000,0.007691645],[1516838400000,0.007934975],[1516924800000,0.00757553],[1517184000000,0.008991065],[1517270400000,0.00591385],[1517356800000,0.00653442],[1517443200000,0.00186409],[1517529600000,-0.00078878],[1517788800000,-0.00775619],[1517875200000,-0.026004445],[1517961600000,-0.01541728],[1518048000000,-0.015489375],[1518134400000,-0.0259289],[1518393600000,-0.02123887],[1518480000000,-0.021445585],[1518566400000,-0.019815625],[1518652800000,-0.008218945],[1518739200000,-0.006308145],[1519084800000,-0.007995595],[1519171200000,-0.005297165],[1519257600000,-0.006331925],[1519344000000,-0.00568683],[1519603200000,0.001544635],[1519689600000,0.003655605],[1519776000000,0.000719195],[1519862400000,-0.004104925],[1519948800000,-0.012731555],[1520208000000,-0.007218855],[1520294400000,0.001255635],[1520380800000,-0.000246775],[1520467200000,0.005774065],[1520553600000,0.008585245],[1520812800000,0.01555402],[1520899200000,0.01653567],[1520985600000,0.01192518],[1521072000000,0.009159665],[1521158400000,0.009410485],[1521417600000,0.00444433],[1521504000000,0.000300625],[1521590400000,0.001661865],[1521676800000,-0.005389525],[1521763200000,-0.010463765],[1522022400000,-0.012867715],[1522108800000,-0.002753795],[1522195200000,-0.020110675],[1522281600000,-0.02187828],[1522627200000,-0.018391795],[1522713600000,-0.024584545],[1522800000000,-0.03143833],[1522886400000,-0.01689428],[1522972800000,-0.02384519],[1523232000000,-0.02614523],[1523318400000,-0.01959467],[1523404800000,-0.02020787],[1523491200000,-0.017666286],[1523577600000,-0.01203579],[1523836800000,-0.013940661],[1523923200000,-0.00957611],[1524009600000,-0.0048702708],[1524096000000,-0.0063997506],[1524182400000,-0.0104959056],[1524441600000,-0.0120015106],[1524528000000,-0.0128535026],[1524614400000,-0.0205093956],[1524700800000,-0.0181860456],[1524787200000,-0.0136174856],[1525046400000,-0.0148630756],[1525132800000,-0.0213927958],[1525219200000,-0.0184441158],[1525305600000,-0.0222289206],[1525392000000,-0.0199096658],[1525651200000,-0.0108002862],[1525737600000,-0.0097513232],[1525824000000,-0.0075886638],[1525910400000,-0.0019943588],[1525996800000,-0.0006189398],[1526256000000,-0.0005880658],[1526342400000,-0.0046730998],[1526428800000,-0.0039906298],[1526515200000,-0.0034889918],[1526601600000,-0.0052004698],[1526860800000,-0.0021097198],[1526947200000,-0.0004454548],[1527033600000,-0.0071881948],[1527120000000,0.0004918252],[1527206400000,0.0012622992],[1527552000000,-0.0013872398],[1527638400000,0.0029242052],[1527724800000,0.0055815522],[1527811200000,0.0046187952],[1528070400000,0.0101825652],[1528156800000,0.0141784852],[1528243200000,0.0163627864],[1528329600000,0.0188455256],[1528416000000,0.0104460696],[1528675200000,0.0147469556],[1528761600000,0.0171898256],[1528848000000,0.0238145456],[1528934400000,0.0277363356],[1529020800000,0.0285480656],[1529280000000,0.0253110416],[1529366400000,0.0225248556],[1529452800000,0.0327650776],[1529539200000,0.0336879456],[1529625600000,0.0296311256],[1529884800000,0.0184684656],[1529971200000,0.0107902256],[1530057600000,0.0143198256],[1530144000000,0.0022661456],[1530230400000,0.0123468856]]},{\"name\":\"close\",\"yAxis\":0,\"data\":[[1514851200000,0.0],[1514937600000,0.0098991852],[1515024000000,0.0112471404],[1515110400000,0.0217996469],[1515369600000,0.0253847746],[1515456000000,0.0255845798],[1515542400000,0.0232388275],[1515628800000,0.0302776201],[1515715200000,0.0379637445],[1516060800000,0.0346768655],[1516147200000,0.0459107981],[1516233600000,0.0460788126],[1516320000000,0.049603277],[1516579200000,0.0606530695],[1516665600000,0.0694358953],[1516752000000,0.0626611035],[1516838400000,0.0621931509],[1516924800000,0.0785750223],[1517184000000,0.0732524652],[1517270400000,0.0644080546],[1517356800000,0.0673661229],[1517443200000,0.0599200411],[1517529600000,0.0382325062],[1517788800000,-0.0023690961],[1517875200000,0.0237487069],[1517961600000,0.0108547483],[1518048000000,-0.0315206814],[1518134400000,-0.0151526321],[1518393600000,0.0019209552],[1518480000000,0.0065299883],[1518566400000,0.0251387425],[1518652800000,0.0435513774],[1518739200000,0.0398258793],[1519084800000,0.0412128433],[1519171200000,0.0380747815],[1519257600000,0.0384730096],[1519344000000,0.0591672011],[1519603200000,0.0733725633],[1519689600000,0.0597431191],[1519776000000,0.0526886615],[1519862400000,0.0367357338],[1519948800000,0.046026596],[1520208000000,0.0568142307],[1520294400000,0.0616891075],[1520380800000,0.0642022599],[1520467200000,0.0698906401],[1520553600000,0.0905859067],[1520812800000,0.0951841893],[1520899200000,0.0821900978],[1520985600000,0.0813405036],[1521072000000,0.079803033],[1521158400000,0.0781106021],[1521417600000,0.0542958566],[1521504000000,0.0575263724],[1521590400000,0.0525404586],[1521676800000,0.0262480373],[1521763200000,-0.0004997432],[1522022400000,0.0372408523],[1522108800000,0.002840581],[1522195200000,-0.0077610705],[1522281600000,0.0107168351],[1522627200000,-0.0185073926],[1522713600000,-0.0080646945],[1522800000000,0.0074815583],[1522886400000,0.0128231591],[1522972800000,-0.0119989053],[1523232000000,-0.0059895469],[1523318400000,0.0160530606],[1523404800000,0.0110731364],[1523491200000,0.022255006],[1523577600000,0.0179686406],[1523836800000,0.0251616256],[1523923200000,0.0468448603],[1524009600000,0.0494317302],[1524096000000,0.0404744397],[1524182400000,0.0240205402],[1524441600000,0.0211110026],[1524528000000,-0.000352769],[1524614400000,0.0003988424],[1524700800000,0.0212410833],[1524787200000,0.0222700567],[1525046400000,0.0144710524],[1525132800000,0.0262030389],[1525219200000,0.0204463165],[1525305600000,0.0202931991],[1525392000000,0.0395882939],[1525651200000,0.0476907686],[1525737600000,0.0467092508],[1525824000000,0.058647032],[1525910400000,0.0694484887],[1525996800000,0.0677615865],[1526256000000,0.069575037],[1526342400000,0.0579282864],[1526428800000,0.0642910281],[1526515200000,0.0599398527],[1526601600000,0.0545064122],[1526860800000,0.0605385002],[1526947200000,0.0587093847],[1527033600000,0.0679253008],[1527120000000,0.0673217388],[1527206400000,0.0690447318],[1527552000000,0.0637654837],[1527638400000,0.0714173602],[1527724800000,0.070090906],[1527811200000,0.0879360697],[1528070400000,0.0970960834],[1528156800000,0.1006566386],[1528243200000,0.1073108716],[1528329600000,0.098518524],[1528416000000,0.098486119],[1528675200000,0.1009217145],[1528761600000,0.1071729585],[1528848000000,0.1065693964],[1528934400000,0.1179863942],[1529020800000,0.1143250917],[1529280000000,0.113657334],[1529366400000,0.1100692883],[1529452800000,0.1181567123],[1529539200000,0.1084482712],[1529625600000,0.1053803946],[1529884800000,0.0809092562],[1529971200000,0.0855201322],[1530057600000,0.0703891547],[1530144000000,0.0799007087],[1530230400000,0.0813130131]]}],\"xAxis\":{\"title\":{\"text\":\"date\"},\"type\":\"datetime\"},\"yAxis\":[{}]});</script>"
      ],
      "text/plain": [
       "<IPython.core.display.HTML object>"
      ]
     },
     "metadata": {},
     "output_type": "display_data"
    }
   ],
   "source": [
    "df = show_df.dropna(how='any', inplace=False).copy()\n",
    "# df.drop(columns=['open', 'high', 'low', 'o_pct_chg', 'TR', 'N'], inplace=True)\n",
    "df.columns\n",
    "\n",
    "df['close'] = (df['close'] - df.iloc[0]['close']) / df.iloc[0]['close']\n",
    "for col in sorted(df.columns):\n",
    "    if 'PROPERTY' in col:\n",
    "        df[col] = (df[col] - df.iloc[1][col]) / df.iloc[0][col]\n",
    "    if 'CASH' in col:\n",
    "        df[col] = df[col] / df.iloc[0][col]\n",
    "\n",
    "df = df.loc[:, ['close', 'CASH_TURTLE_20_60_60', 'PROPERTY_TURTLE_20_60_60']]\n",
    "# df = df.loc[:, ['close', 'CASH_TURTLE_100_60_60', 'PROPERTY_TURTLE_100_60_60']]\n",
    "df.reset_index(drop=False, inplace=True)\n",
    "# df.dtypes\n",
    "# df.iloc[0].date\n",
    "# df.iloc[0].date.to_timestamp()\n",
    "# df.iloc[0].date.to_timestamp().to_datetime64()\n",
    "df['date'] = df['date'].apply(lambda x: x.to_timestamp().to_datetime64())\n",
    "# df.iloc[0].date\n",
    "df.set_index(keys=['date'], inplace=True)\n",
    "# df\n",
    "\n",
    "display_charts(df, chart_type='stock', figsize=(900, 800), logy=False)"
   ]
  }
 ],
 "metadata": {
  "kernelspec": {
   "display_name": "Python 3",
   "language": "python",
   "name": "python3"
  },
  "language_info": {
   "codemirror_mode": {
    "name": "ipython",
    "version": 3
   },
   "file_extension": ".py",
   "mimetype": "text/x-python",
   "name": "python",
   "nbconvert_exporter": "python",
   "pygments_lexer": "ipython3",
   "version": "3.6.4"
  }
 },
 "nbformat": 4,
 "nbformat_minor": 2
}
