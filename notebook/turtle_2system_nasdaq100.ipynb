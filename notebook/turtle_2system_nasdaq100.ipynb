{
 "cells": [
  {
   "cell_type": "code",
   "execution_count": 1,
   "metadata": {
    "scrolled": true
   },
   "outputs": [
    {
     "data": {
      "text/html": [
       "\n",
       "<script src=\"//code.highcharts.com/stock/highstock.js\"></script>\n",
       "<script src=\"//code.highcharts.com/highcharts-more.js\"></script>\n",
       "<script src=\"//code.highcharts.com/modules/exporting.js\"></script>\n"
      ],
      "text/plain": [
       "<IPython.core.display.HTML object>"
      ]
     },
     "metadata": {},
     "output_type": "display_data"
    },
    {
     "data": {
      "text/plain": [
       "<module 'pandas' from 'd:\\\\python3\\\\lib\\\\site-packages\\\\pandas\\\\__init__.py'>"
      ]
     },
     "execution_count": 1,
     "metadata": {},
     "output_type": "execute_result"
    }
   ],
   "source": [
    "import os\n",
    "import sys\n",
    "sys.path.append(os.path.abspath(os.path.join(os.getcwd(), '..')))\n",
    "\n",
    "import pandas as pd\n",
    "import empyrical as emp\n",
    "import time\n",
    "import random\n",
    "# from concurrent.futures import ProcessPoolExecutor\n",
    "\n",
    "from common.log import *\n",
    "from common.config import Config\n",
    "from spider.spider_nasdaq import Spider_nasdaq\n",
    "\n",
    "from IPython.core.interactiveshell import InteractiveShell\n",
    "InteractiveShell.ast_node_interactivity = 'all'\n",
    "\n",
    "from pandas_highcharts.core import serialize\n",
    "from pandas_highcharts.display import display_charts\n",
    "\n",
    "CONF = Config().data[0]\n",
    "MONGODB = CONF['MONGODB']\n",
    "NASDAQ = CONF['NASDAQ']\n",
    "CRYPTOCURRENCY = CONF['CRYPTOCURRENCY']\n",
    "NASDAQ100 = CONF['NASDAQ100']\n",
    "\n",
    "pd"
   ]
  },
  {
   "cell_type": "code",
   "execution_count": 2,
   "metadata": {
    "scrolled": false
   },
   "outputs": [
    {
     "name": "stdout",
     "output_type": "stream",
     "text": [
      "Wall time: 0 ns\n"
     ]
    }
   ],
   "source": [
    "%%time\n",
    "\n",
    "spider = Spider_nasdaq()\n",
    "timeframe = '10y'\n",
    "ignore = True\n",
    "\n",
    "# for symbol in NASDAQ100:\n",
    "for symbol in ['NDX', 'TSLA']:\n",
    "#     if symbol == 'SHPG':\n",
    "#         ignore = False\n",
    "#     if ignore:\n",
    "#         continue\n",
    "#     datafile = spider.get_stock_data(symbol, timeframe)\n",
    "#     print(datafile)\n",
    "    pass"
   ]
  },
  {
   "cell_type": "code",
   "execution_count": 3,
   "metadata": {},
   "outputs": [
    {
     "name": "stdout",
     "output_type": "stream",
     "text": [
      "Wall time: 0 ns\n"
     ]
    }
   ],
   "source": [
    "%%time\n",
    "\n",
    "### 时间设置\n",
    "start_date = '2008-06-02'\n",
    "# start_date = '2010-01-01'\n",
    "# start_date = '2017-01-03'\n",
    "# start_date = '2018-01-01'\n",
    "end_date = '2018-06-06'\n",
    "\n",
    "TURTLE_POS = 20\n",
    "### Turtle System One - Short\n",
    "TURTLE_SHORT_BUY_N = 20\n",
    "TURTLE_SHORT_SELL_N = 20\n",
    "### Turtle System Two - Long\n",
    "TURTLE_LONG_BUY_N = 60\n",
    "TURTLE_LONG_SELL_N = 60\n",
    "\n",
    "### 业务设置\n",
    "IS_HAPPYMONEY = False\n",
    "IS_TAX = False\n",
    "IS_SLIPPAGE = True\n",
    "IS_RANDOM_BUY = True\n",
    "START_MONEY = 100000\n",
    "HAPPY_MONEY = 0\n",
    "PROPERTY = START_MONEY\n",
    "CASH = START_MONEY\n"
   ]
  },
  {
   "cell_type": "code",
   "execution_count": 4,
   "metadata": {},
   "outputs": [
    {
     "name": "stdout",
     "output_type": "stream",
     "text": [
      "Wall time: 53.7 s\n"
     ]
    }
   ],
   "source": [
    "%%time\n",
    "\n",
    "stock_df_dict = {}\n",
    "\n",
    "for symbol in NASDAQ100[:]:\n",
    "    stock_data_file = '../database/market/%s.csv' % symbol\n",
    "    stock_df = pd.read_csv(stock_data_file)\n",
    "\n",
    "    # 筛选字段\n",
    "#     stock_df = stock_df.loc[:, ['date', 'open', 'close']]\n",
    "\n",
    "    # 去掉Nasdaq行情首行的当天行情\n",
    "    if symbol in NASDAQ:\n",
    "        stock_df = stock_df.drop([0])\n",
    "\n",
    "    # 抛弃空值异常值\n",
    "    stock_df.dropna(axis=0, how='any', inplace=True)\n",
    "\n",
    "    # 格式化日期\n",
    "    # 1.48 s ± 45.8 ms per loop (mean ± std. dev. of 7 runs, 1 loop each)\n",
    "#     stock_df['date'] = stock_df['date'].apply(lambda x: pd.Period(x, freq='D'))\n",
    "\n",
    "    # 445 ms ± 17.5 ms per loop (mean ± std. dev. of 7 runs, 1 loop each)\n",
    "    stock_df = stock_df.assign(date=pd.to_datetime(stock_df['date']))  # need .index.to_period('D')\n",
    "\n",
    "    # 476 ms ± 46.6 ms per loop (mean ± std. dev. of 7 runs, 1 loop each)\n",
    "#     stock_df['date'] = pd.to_datetime(stock_df['date'])  # need .index.to_period('D')\n",
    "    \n",
    "    # 转换字段格式\n",
    "#     stock_df = stock_df.astype(dtype={'volume': 'float64'})\n",
    "\n",
    "    # 用日期作索引，日期升序排序\n",
    "    # 95.1 µs ± 1.58 µs per loop (mean ± std. dev. of 7 runs, 10000 loops each)\n",
    "    stock_df = stock_df[::-1]\n",
    "    \n",
    "    # 407 µs ± 5.07 µs per loop (mean ± std. dev. of 7 runs, 1000 loops each)\n",
    "#     %timeit stock_df.set_index(['date'], inplace=False)\n",
    "\n",
    "    # Wall time: 500 µs\n",
    "    stock_df.set_index(['date'], inplace=True)\n",
    "    \n",
    "    # 305 µs ± 2.75 µs per loop (mean ± std. dev. of 7 runs, 1000 loops each)\n",
    "#     stock_df = stock_df.sort_index(axis=0, ascending=True)\n",
    "    \n",
    "    # 822 µs ± 41.3 µs per loop (mean ± std. dev. of 7 runs, 1000 loops each)\n",
    "    stock_df.index = stock_df.index.to_period('D')\n",
    "\n",
    "    # 计算涨跌幅\n",
    "#     stock_df['c_pct_chg'] = stock_df.close.pct_change(1)\n",
    "    stock_df['o_pct_chg'] = stock_df.open.pct_change(1)\n",
    "    \n",
    "    # Turtle指标\n",
    "#     stock_df['TR1'] = abs(stock_df['high'] - stock_df['low'])\n",
    "#     stock_df['TR2'] = abs(stock_df['high'] - stock_df['close'].shift())\n",
    "#     stock_df['TR3'] = abs(stock_df['low'] - stock_df['close'].shift())\n",
    "#     stock_df['TR'] = stock_df[['TR1', 'TR2', 'TR3']].max(axis=1)\n",
    "#     stock_df['N'] = stock_df['TR'].rolling(20).mean()\n",
    "#     stock_df['UNIT'] = (0.01 * START_MONEY) / (stock_df['N'])\n",
    "    stock_df['ROLLING_%d_MAX' % TURTLE_SHORT_BUY_N] = stock_df['open'].rolling(TURTLE_SHORT_BUY_N).max()\n",
    "    stock_df['ROLLING_%d_MIN' % TURTLE_SHORT_SELL_N] = stock_df['open'].rolling(TURTLE_SHORT_SELL_N).min()\n",
    "    stock_df['ROLLING_%d_MAX' % TURTLE_LONG_BUY_N] = stock_df['open'].rolling(TURTLE_LONG_BUY_N).max()\n",
    "    stock_df['ROLLING_%d_MIN' % TURTLE_LONG_SELL_N] = stock_df['open'].rolling(TURTLE_LONG_SELL_N).min()\n",
    "#     stock_df['MA%d' % TURTLE_BUY_N] = stock_df['open'].rolling(TURTLE_BUY_N).mean()\n",
    "#     stock_df['MA%d' % TURTLE_SELL_N] = stock_df['open'].rolling(TURTLE_SELL_N).mean()\n",
    "#     stock_df['EWMA'] = stock_df['open'].ewm(alpha=0.1, adjust=False).mean()\n",
    "#     stock_df['MA360'] = stock_df['open'].rolling(360).mean()\n",
    "    stock_df['MA180'] = stock_df['open'].rolling(180).mean()\n",
    "    stock_df['MA30'] = stock_df['open'].rolling(30).mean()\n",
    "    \n",
    "#     stock_df['ops'] = ''\n",
    "#     stock_df['profit'] = 0\n",
    "    \n",
    "    # 减少数据\n",
    "    # stock_df = stock_df['2016-01-01':]\n",
    "    stock_df.dropna(how='any', inplace=True)\n",
    "#     stock_df.drop(columns=['volume', 'TR1', 'TR2', 'TR3'], inplace=True)\n",
    "    \n",
    "    stock_df_dict[symbol] = stock_df\n",
    "    \n",
    "#     print(stock_df.head(10))\n",
    "#     print(stock_df.dtypes)\n",
    "#     print(stock_df.index[0])\n",
    "#     print(type(stock_df.index[0]))"
   ]
  },
  {
   "cell_type": "code",
   "execution_count": 5,
   "metadata": {
    "scrolled": false
   },
   "outputs": [],
   "source": [
    "# %matplotlib inline\n",
    "\n",
    "# import matplotlib\n",
    "# import matplotlib.pyplot as plt\n",
    "# plt.rcParams['figure.figsize'] = [30, 20]\n",
    "\n",
    "# df = stock_df_dict['HAS'].iloc[0:800].copy()\n",
    "# df\n",
    "# # df[(df.open == df.rolling_60_max)]\n",
    "# # df[(df.open >= df.rolling_60_max) & (df.MA30 > df.MA60)]\n",
    "# # df[(df.MA30 > df.MA60)]\n",
    "\n",
    "# df = df.loc[:, ['open', 'rolling_60_max', 'rolling_30_min', 'MA60', 'MA30']]\n",
    "\n",
    "# df.reset_index(drop=False, inplace=True)\n",
    "# df = df.astype(dtype={'date': 'datetime64[ns]'})\n",
    "# df.set_index('date', inplace=True)\n",
    "# df.index.astype()\n",
    "\n",
    "# from pandas.compat import StringIO\n",
    "# data = \"\"\"Date,Value\\n2019-12-31,1.7\\n2018-12-31,1.7\\n2017-12-31,1.7\\n2016-12-31,1.5\\n2015-12-31,1.247\\n2014-12-31,0.896\\n2013-12-31,1.601\\n2012-12-31,2.13\\n2011-12-31,2.498\\n2010-12-31,1.158\\n2009-12-31,0.226\\n2008-12-31,2.738\\n2007-12-31,2.285\\n2006-12-31,1.784\\n2005-12-31,1.92\\n2004-12-31,1.799\\n2003-12-31,1.022\\n2002-12-31,1.346\\n2001-12-31,1.904\\n2000-12-31,1.418\\n1999-12-31,0.626\\n1998-12-31,0.593\\n1997-12-31,1.542\\n1996-12-31,1.19\\n1995-12-31,1.733\\n1994-12-31,2.717\\n1993-12-31,4.476\\n1992-12-31,5.046\\n1991-12-31,3.474\\n1990-12-31,2.687\\n1989-12-31,2.778\\n1988-12-31,1.274\\n1987-12-31,0.242\\n1986-12-31,-0.125\\n1985-12-31,2.084\\n1984-12-31,2.396\\n1983-12-31,3.284\\n1982-12-31,5.256\\n1981-12-31,6.324\\n1980-12-31,5.447\\n\"\"\"\n",
    "# df = pd.read_csv(StringIO(data), index_col=0, parse_dates=True)\n",
    "# # df\n",
    "# df.index\n",
    "\n",
    "# display_charts(df, chart_type='stock', kind='line', y=['open', 'rolling_max', 'rolling_min'], figsize=(900, 600), logy=False)\n",
    "\n",
    "# display_charts(df)\n",
    "# ax = df.plot(kind='line', y=['open', 'rolling_max', 'rolling_min'], label='', linewidth=1)\n",
    "\n",
    "# sum_buy_sig_short = 0\n",
    "# sum_buy_sig_long = 0\n",
    "# for symbol in NASDAQ100:\n",
    "#     tdf = stock_df_dict[symbol]\n",
    "#     buy_sig_short = tdf[(stock_df_dict[symbol].open == stock_df_dict[symbol]['ROLLING_%d_MAX' % TURTLE_SHORT_BUY_N])]\n",
    "#     buy_sig_long = tdf[(stock_df_dict[symbol].open == stock_df_dict[symbol]['ROLLING_%d_MAX' % TURTLE_LONG_BUY_N])]\n",
    "#     buy_sig_short_2 = buy_sig_short[buy_sig_short.MA30 >= buy_sig_short.MA180]\n",
    "#     buy_sig_long_2 = buy_sig_long[buy_sig_long.MA30 >= buy_sig_long.MA180]\n",
    "# #     print(symbol, len(tdf), len(buy_sig_short), len(buy_sig_short_2), len(buy_sig_long), len(buy_sig_long_2))\n",
    "#     sum_buy_sig_short += len(buy_sig_short_2)\n",
    "#     sum_buy_sig_long += len(buy_sig_long_2)\n",
    "# print(len(stock_df_dict['NDX']), sum_buy_sig_short, sum_buy_sig_long)"
   ]
  },
  {
   "cell_type": "code",
   "execution_count": 6,
   "metadata": {
    "scrolled": false
   },
   "outputs": [
    {
     "data": {
      "text/plain": [
       "('cum_returns', 13.240990990991008)"
      ]
     },
     "execution_count": 6,
     "metadata": {},
     "output_type": "execute_result"
    },
    {
     "data": {
      "text/plain": [
       "('max_drawdown', -0.5052664511419334, -0.17788401333635892)"
      ]
     },
     "execution_count": 6,
     "metadata": {},
     "output_type": "execute_result"
    },
    {
     "data": {
      "text/plain": [
       "('annual_return', 0.44421962380492586, 0.22069541723964359)"
      ]
     },
     "execution_count": 6,
     "metadata": {},
     "output_type": "execute_result"
    },
    {
     "data": {
      "text/plain": [
       "('annual_volatility', 0.49130314283731796)"
      ]
     },
     "execution_count": 6,
     "metadata": {},
     "output_type": "execute_result"
    },
    {
     "data": {
      "text/plain": [
       "('calmar_ratio', 0.87917894172661193)"
      ]
     },
     "execution_count": 6,
     "metadata": {},
     "output_type": "execute_result"
    },
    {
     "data": {
      "text/plain": [
       "('sharpe_ratio', 0.9930044401276165)"
      ]
     },
     "execution_count": 6,
     "metadata": {},
     "output_type": "execute_result"
    },
    {
     "data": {
      "text/plain": [
       "('alpha', 0.2523059335595071)"
      ]
     },
     "execution_count": 6,
     "metadata": {},
     "output_type": "execute_result"
    },
    {
     "data": {
      "text/plain": [
       "('beta', 1.3238131848183827)"
      ]
     },
     "execution_count": 6,
     "metadata": {},
     "output_type": "execute_result"
    },
    {
     "data": {
      "text/html": [
       "<div>\n",
       "<style scoped>\n",
       "    .dataframe tbody tr th:only-of-type {\n",
       "        vertical-align: middle;\n",
       "    }\n",
       "\n",
       "    .dataframe tbody tr th {\n",
       "        vertical-align: top;\n",
       "    }\n",
       "\n",
       "    .dataframe thead th {\n",
       "        text-align: right;\n",
       "    }\n",
       "</style>\n",
       "<table border=\"1\" class=\"dataframe\">\n",
       "  <thead>\n",
       "    <tr style=\"text-align: right;\">\n",
       "      <th></th>\n",
       "      <th>symbol</th>\n",
       "      <th>cum_returns</th>\n",
       "      <th>annual_return</th>\n",
       "      <th>annual_volatility</th>\n",
       "      <th>max_drawdown</th>\n",
       "      <th>alpha</th>\n",
       "      <th>beta</th>\n",
       "      <th>sharpe_ratio</th>\n",
       "      <th>calmar_ratio</th>\n",
       "    </tr>\n",
       "  </thead>\n",
       "  <tbody>\n",
       "    <tr>\n",
       "      <th>76</th>\n",
       "      <td>PYPL</td>\n",
       "      <td>1.162142</td>\n",
       "      <td>0.414809</td>\n",
       "      <td>0.252182</td>\n",
       "      <td>-0.163146</td>\n",
       "      <td>0.12</td>\n",
       "      <td>1.10</td>\n",
       "      <td>1.505656</td>\n",
       "      <td>2.542571</td>\n",
       "    </tr>\n",
       "    <tr>\n",
       "      <th>44</th>\n",
       "      <td>FISV</td>\n",
       "      <td>8.198185</td>\n",
       "      <td>0.269940</td>\n",
       "      <td>0.199420</td>\n",
       "      <td>-0.244233</td>\n",
       "      <td>0.11</td>\n",
       "      <td>0.70</td>\n",
       "      <td>1.299129</td>\n",
       "      <td>1.105259</td>\n",
       "    </tr>\n",
       "    <tr>\n",
       "      <th>7</th>\n",
       "      <td>AMZN</td>\n",
       "      <td>26.409359</td>\n",
       "      <td>0.428620</td>\n",
       "      <td>0.323870</td>\n",
       "      <td>-0.309124</td>\n",
       "      <td>0.16</td>\n",
       "      <td>1.15</td>\n",
       "      <td>1.263151</td>\n",
       "      <td>1.386563</td>\n",
       "    </tr>\n",
       "    <tr>\n",
       "      <th>19</th>\n",
       "      <td>BKNG</td>\n",
       "      <td>25.014954</td>\n",
       "      <td>0.420393</td>\n",
       "      <td>0.319338</td>\n",
       "      <td>-0.354879</td>\n",
       "      <td>0.18</td>\n",
       "      <td>1.04</td>\n",
       "      <td>1.258482</td>\n",
       "      <td>1.184611</td>\n",
       "    </tr>\n",
       "    <tr>\n",
       "      <th>49</th>\n",
       "      <td>IDXX</td>\n",
       "      <td>13.317398</td>\n",
       "      <td>0.331919</td>\n",
       "      <td>0.258456</td>\n",
       "      <td>-0.260276</td>\n",
       "      <td>0.16</td>\n",
       "      <td>0.75</td>\n",
       "      <td>1.239093</td>\n",
       "      <td>1.275258</td>\n",
       "    </tr>\n",
       "    <tr>\n",
       "      <th>42</th>\n",
       "      <td>FB</td>\n",
       "      <td>5.637091</td>\n",
       "      <td>0.426004</td>\n",
       "      <td>0.333337</td>\n",
       "      <td>-0.228966</td>\n",
       "      <td>0.17</td>\n",
       "      <td>1.25</td>\n",
       "      <td>1.228770</td>\n",
       "      <td>1.860561</td>\n",
       "    </tr>\n",
       "    <tr>\n",
       "      <th>95</th>\n",
       "      <td>ULTA</td>\n",
       "      <td>43.982394</td>\n",
       "      <td>0.506676</td>\n",
       "      <td>0.404775</td>\n",
       "      <td>-0.387057</td>\n",
       "      <td>0.27</td>\n",
       "      <td>1.04</td>\n",
       "      <td>1.215609</td>\n",
       "      <td>1.309050</td>\n",
       "    </tr>\n",
       "    <tr>\n",
       "      <th>0</th>\n",
       "      <td>NDX</td>\n",
       "      <td>5.366007</td>\n",
       "      <td>0.220695</td>\n",
       "      <td>0.177442</td>\n",
       "      <td>-0.177884</td>\n",
       "      <td>0.00</td>\n",
       "      <td>1.00</td>\n",
       "      <td>1.213733</td>\n",
       "      <td>1.240670</td>\n",
       "    </tr>\n",
       "    <tr>\n",
       "      <th>27</th>\n",
       "      <td>CTAS</td>\n",
       "      <td>8.221846</td>\n",
       "      <td>0.270292</td>\n",
       "      <td>0.219393</td>\n",
       "      <td>-0.242177</td>\n",
       "      <td>0.11</td>\n",
       "      <td>0.70</td>\n",
       "      <td>1.200994</td>\n",
       "      <td>1.116090</td>\n",
       "    </tr>\n",
       "    <tr>\n",
       "      <th>11</th>\n",
       "      <td>AAPL</td>\n",
       "      <td>14.540400</td>\n",
       "      <td>0.343898</td>\n",
       "      <td>0.279788</td>\n",
       "      <td>-0.447659</td>\n",
       "      <td>0.08</td>\n",
       "      <td>1.16</td>\n",
       "      <td>1.196982</td>\n",
       "      <td>0.768214</td>\n",
       "    </tr>\n",
       "    <tr>\n",
       "      <th>4</th>\n",
       "      <td>ALGN</td>\n",
       "      <td>42.961977</td>\n",
       "      <td>0.502958</td>\n",
       "      <td>0.425878</td>\n",
       "      <td>-0.425232</td>\n",
       "      <td>0.27</td>\n",
       "      <td>1.08</td>\n",
       "      <td>1.167680</td>\n",
       "      <td>1.182785</td>\n",
       "    </tr>\n",
       "    <tr>\n",
       "      <th>80</th>\n",
       "      <td>ROST</td>\n",
       "      <td>10.410696</td>\n",
       "      <td>0.299764</td>\n",
       "      <td>0.255110</td>\n",
       "      <td>-0.254685</td>\n",
       "      <td>0.14</td>\n",
       "      <td>0.71</td>\n",
       "      <td>1.155805</td>\n",
       "      <td>1.176998</td>\n",
       "    </tr>\n",
       "    <tr>\n",
       "      <th>85</th>\n",
       "      <td>SBUX</td>\n",
       "      <td>11.557018</td>\n",
       "      <td>0.313233</td>\n",
       "      <td>0.266660</td>\n",
       "      <td>-0.296060</td>\n",
       "      <td>0.10</td>\n",
       "      <td>0.98</td>\n",
       "      <td>1.155769</td>\n",
       "      <td>1.058003</td>\n",
       "    </tr>\n",
       "    <tr>\n",
       "      <th>2</th>\n",
       "      <td>ADBE</td>\n",
       "      <td>13.629694</td>\n",
       "      <td>0.335017</td>\n",
       "      <td>0.287014</td>\n",
       "      <td>-0.386813</td>\n",
       "      <td>0.11</td>\n",
       "      <td>1.04</td>\n",
       "      <td>1.152504</td>\n",
       "      <td>0.866097</td>\n",
       "    </tr>\n",
       "    <tr>\n",
       "      <th>72</th>\n",
       "      <td>NVDA</td>\n",
       "      <td>35.301370</td>\n",
       "      <td>0.472528</td>\n",
       "      <td>0.408407</td>\n",
       "      <td>-0.551522</td>\n",
       "      <td>0.17</td>\n",
       "      <td>1.39</td>\n",
       "      <td>1.151504</td>\n",
       "      <td>0.856770</td>\n",
       "    </tr>\n",
       "    <tr>\n",
       "      <th>53</th>\n",
       "      <td>INTU</td>\n",
       "      <td>7.978130</td>\n",
       "      <td>0.266633</td>\n",
       "      <td>0.233000</td>\n",
       "      <td>-0.279506</td>\n",
       "      <td>0.09</td>\n",
       "      <td>0.80</td>\n",
       "      <td>1.132488</td>\n",
       "      <td>0.953942</td>\n",
       "    </tr>\n",
       "    <tr>\n",
       "      <th>83</th>\n",
       "      <td>SIRI</td>\n",
       "      <td>53.483283</td>\n",
       "      <td>0.538092</td>\n",
       "      <td>0.488841</td>\n",
       "      <td>-0.425926</td>\n",
       "      <td>0.32</td>\n",
       "      <td>1.03</td>\n",
       "      <td>1.113163</td>\n",
       "      <td>1.263345</td>\n",
       "    </tr>\n",
       "    <tr>\n",
       "      <th>71</th>\n",
       "      <td>NFLX</td>\n",
       "      <td>71.424635</td>\n",
       "      <td>0.586285</td>\n",
       "      <td>0.563202</td>\n",
       "      <td>-0.820451</td>\n",
       "      <td>0.35</td>\n",
       "      <td>1.23</td>\n",
       "      <td>1.099029</td>\n",
       "      <td>0.714588</td>\n",
       "    </tr>\n",
       "    <tr>\n",
       "      <th>20</th>\n",
       "      <td>AVGO</td>\n",
       "      <td>11.272515</td>\n",
       "      <td>0.361618</td>\n",
       "      <td>0.337914</td>\n",
       "      <td>-0.318065</td>\n",
       "      <td>0.16</td>\n",
       "      <td>1.23</td>\n",
       "      <td>1.082701</td>\n",
       "      <td>1.136931</td>\n",
       "    </tr>\n",
       "    <tr>\n",
       "      <th>54</th>\n",
       "      <td>ISRG</td>\n",
       "      <td>13.898761</td>\n",
       "      <td>0.337640</td>\n",
       "      <td>0.320608</td>\n",
       "      <td>-0.403542</td>\n",
       "      <td>0.15</td>\n",
       "      <td>0.90</td>\n",
       "      <td>1.067789</td>\n",
       "      <td>0.836691</td>\n",
       "    </tr>\n",
       "    <tr>\n",
       "      <th>61</th>\n",
       "      <td>MAR</td>\n",
       "      <td>9.852428</td>\n",
       "      <td>0.292761</td>\n",
       "      <td>0.279680</td>\n",
       "      <td>-0.397039</td>\n",
       "      <td>0.07</td>\n",
       "      <td>1.05</td>\n",
       "      <td>1.058049</td>\n",
       "      <td>0.737361</td>\n",
       "    </tr>\n",
       "    <tr>\n",
       "      <th>91</th>\n",
       "      <td>TXN</td>\n",
       "      <td>7.018293</td>\n",
       "      <td>0.251304</td>\n",
       "      <td>0.242912</td>\n",
       "      <td>-0.333425</td>\n",
       "      <td>0.05</td>\n",
       "      <td>0.93</td>\n",
       "      <td>1.045233</td>\n",
       "      <td>0.753704</td>\n",
       "    </tr>\n",
       "    <tr>\n",
       "      <th>73</th>\n",
       "      <td>ORLY</td>\n",
       "      <td>7.600984</td>\n",
       "      <td>0.260793</td>\n",
       "      <td>0.254952</td>\n",
       "      <td>-0.405292</td>\n",
       "      <td>0.13</td>\n",
       "      <td>0.62</td>\n",
       "      <td>1.037662</td>\n",
       "      <td>0.643468</td>\n",
       "    </tr>\n",
       "    <tr>\n",
       "      <th>22</th>\n",
       "      <td>CDNS</td>\n",
       "      <td>10.444156</td>\n",
       "      <td>0.300174</td>\n",
       "      <td>0.304315</td>\n",
       "      <td>-0.323857</td>\n",
       "      <td>0.10</td>\n",
       "      <td>0.95</td>\n",
       "      <td>1.014858</td>\n",
       "      <td>0.926872</td>\n",
       "    </tr>\n",
       "    <tr>\n",
       "      <th>32</th>\n",
       "      <td>COST</td>\n",
       "      <td>3.875973</td>\n",
       "      <td>0.186039</td>\n",
       "      <td>0.187035</td>\n",
       "      <td>-0.176834</td>\n",
       "      <td>0.07</td>\n",
       "      <td>0.56</td>\n",
       "      <td>1.006400</td>\n",
       "      <td>1.052052</td>\n",
       "    </tr>\n",
       "    <tr>\n",
       "      <th>6</th>\n",
       "      <td>GOOG</td>\n",
       "      <td>1.122233</td>\n",
       "      <td>0.240761</td>\n",
       "      <td>0.244824</td>\n",
       "      <td>-0.156218</td>\n",
       "      <td>0.07</td>\n",
       "      <td>1.07</td>\n",
       "      <td>1.003619</td>\n",
       "      <td>1.541187</td>\n",
       "    </tr>\n",
       "    <tr>\n",
       "      <th>63</th>\n",
       "      <td>MELI</td>\n",
       "      <td>23.590164</td>\n",
       "      <td>0.411804</td>\n",
       "      <td>0.440286</td>\n",
       "      <td>-0.468642</td>\n",
       "      <td>0.17</td>\n",
       "      <td>1.26</td>\n",
       "      <td>1.002215</td>\n",
       "      <td>0.878717</td>\n",
       "    </tr>\n",
       "    <tr>\n",
       "      <th>25</th>\n",
       "      <td>CHTR</td>\n",
       "      <td>5.987815</td>\n",
       "      <td>0.283163</td>\n",
       "      <td>0.291635</td>\n",
       "      <td>-0.352292</td>\n",
       "      <td>0.16</td>\n",
       "      <td>0.69</td>\n",
       "      <td>1.001432</td>\n",
       "      <td>0.803775</td>\n",
       "    </tr>\n",
       "    <tr>\n",
       "      <th>90</th>\n",
       "      <td>TSLA</td>\n",
       "      <td>13.240991</td>\n",
       "      <td>0.444220</td>\n",
       "      <td>0.491303</td>\n",
       "      <td>-0.505266</td>\n",
       "      <td>0.25</td>\n",
       "      <td>1.32</td>\n",
       "      <td>0.993004</td>\n",
       "      <td>0.879179</td>\n",
       "    </tr>\n",
       "    <tr>\n",
       "      <th>16</th>\n",
       "      <td>BIDU</td>\n",
       "      <td>19.126987</td>\n",
       "      <td>0.381869</td>\n",
       "      <td>0.415130</td>\n",
       "      <td>-0.499720</td>\n",
       "      <td>0.10</td>\n",
       "      <td>1.43</td>\n",
       "      <td>0.987585</td>\n",
       "      <td>0.764166</td>\n",
       "    </tr>\n",
       "    <tr>\n",
       "      <th>...</th>\n",
       "      <td>...</td>\n",
       "      <td>...</td>\n",
       "      <td>...</td>\n",
       "      <td>...</td>\n",
       "      <td>...</td>\n",
       "      <td>...</td>\n",
       "      <td>...</td>\n",
       "      <td>...</td>\n",
       "      <td>...</td>\n",
       "    </tr>\n",
       "    <tr>\n",
       "      <th>3</th>\n",
       "      <td>ALXN</td>\n",
       "      <td>5.601422</td>\n",
       "      <td>0.225374</td>\n",
       "      <td>0.355064</td>\n",
       "      <td>-0.526420</td>\n",
       "      <td>0.05</td>\n",
       "      <td>1.01</td>\n",
       "      <td>0.749425</td>\n",
       "      <td>0.428126</td>\n",
       "    </tr>\n",
       "    <tr>\n",
       "      <th>103</th>\n",
       "      <td>XLNX</td>\n",
       "      <td>3.309335</td>\n",
       "      <td>0.170443</td>\n",
       "      <td>0.270244</td>\n",
       "      <td>-0.339448</td>\n",
       "      <td>-0.01</td>\n",
       "      <td>0.95</td>\n",
       "      <td>0.718211</td>\n",
       "      <td>0.502119</td>\n",
       "    </tr>\n",
       "    <tr>\n",
       "      <th>102</th>\n",
       "      <td>WYNN</td>\n",
       "      <td>6.635705</td>\n",
       "      <td>0.244733</td>\n",
       "      <td>0.444925</td>\n",
       "      <td>-0.788104</td>\n",
       "      <td>0.01</td>\n",
       "      <td>1.42</td>\n",
       "      <td>0.712960</td>\n",
       "      <td>0.310533</td>\n",
       "    </tr>\n",
       "    <tr>\n",
       "      <th>46</th>\n",
       "      <td>HAS</td>\n",
       "      <td>2.894760</td>\n",
       "      <td>0.157685</td>\n",
       "      <td>0.256339</td>\n",
       "      <td>-0.367968</td>\n",
       "      <td>0.03</td>\n",
       "      <td>0.69</td>\n",
       "      <td>0.699064</td>\n",
       "      <td>0.428528</td>\n",
       "    </tr>\n",
       "    <tr>\n",
       "      <th>100</th>\n",
       "      <td>WDC</td>\n",
       "      <td>5.075323</td>\n",
       "      <td>0.214463</td>\n",
       "      <td>0.387784</td>\n",
       "      <td>-0.690358</td>\n",
       "      <td>0.02</td>\n",
       "      <td>1.17</td>\n",
       "      <td>0.694699</td>\n",
       "      <td>0.310655</td>\n",
       "    </tr>\n",
       "    <tr>\n",
       "      <th>75</th>\n",
       "      <td>PAYX</td>\n",
       "      <td>1.896846</td>\n",
       "      <td>0.121362</td>\n",
       "      <td>0.194622</td>\n",
       "      <td>-0.253333</td>\n",
       "      <td>-0.01</td>\n",
       "      <td>0.68</td>\n",
       "      <td>0.686307</td>\n",
       "      <td>0.479060</td>\n",
       "    </tr>\n",
       "    <tr>\n",
       "      <th>82</th>\n",
       "      <td>SHPG</td>\n",
       "      <td>3.152703</td>\n",
       "      <td>0.165707</td>\n",
       "      <td>0.293092</td>\n",
       "      <td>-0.533224</td>\n",
       "      <td>0.04</td>\n",
       "      <td>0.72</td>\n",
       "      <td>0.670940</td>\n",
       "      <td>0.310765</td>\n",
       "    </tr>\n",
       "    <tr>\n",
       "      <th>9</th>\n",
       "      <td>AMGN</td>\n",
       "      <td>2.228400</td>\n",
       "      <td>0.134525</td>\n",
       "      <td>0.242093</td>\n",
       "      <td>-0.256338</td>\n",
       "      <td>-0.00</td>\n",
       "      <td>0.73</td>\n",
       "      <td>0.642394</td>\n",
       "      <td>0.524795</td>\n",
       "    </tr>\n",
       "    <tr>\n",
       "      <th>43</th>\n",
       "      <td>FAST</td>\n",
       "      <td>2.477477</td>\n",
       "      <td>0.143642</td>\n",
       "      <td>0.269082</td>\n",
       "      <td>-0.360812</td>\n",
       "      <td>-0.01</td>\n",
       "      <td>0.83</td>\n",
       "      <td>0.633571</td>\n",
       "      <td>0.398107</td>\n",
       "    </tr>\n",
       "    <tr>\n",
       "      <th>28</th>\n",
       "      <td>CSCO</td>\n",
       "      <td>2.074357</td>\n",
       "      <td>0.128625</td>\n",
       "      <td>0.248714</td>\n",
       "      <td>-0.496749</td>\n",
       "      <td>-0.04</td>\n",
       "      <td>0.92</td>\n",
       "      <td>0.611974</td>\n",
       "      <td>0.258935</td>\n",
       "    </tr>\n",
       "    <tr>\n",
       "      <th>88</th>\n",
       "      <td>TMUS</td>\n",
       "      <td>0.742424</td>\n",
       "      <td>0.134612</td>\n",
       "      <td>0.269745</td>\n",
       "      <td>-0.298999</td>\n",
       "      <td>0.04</td>\n",
       "      <td>0.71</td>\n",
       "      <td>0.603611</td>\n",
       "      <td>0.450209</td>\n",
       "    </tr>\n",
       "    <tr>\n",
       "      <th>67</th>\n",
       "      <td>MDLZ</td>\n",
       "      <td>1.535981</td>\n",
       "      <td>0.105410</td>\n",
       "      <td>0.203775</td>\n",
       "      <td>-0.254171</td>\n",
       "      <td>0.01</td>\n",
       "      <td>0.53</td>\n",
       "      <td>0.593946</td>\n",
       "      <td>0.414721</td>\n",
       "    </tr>\n",
       "    <tr>\n",
       "      <th>101</th>\n",
       "      <td>WDAY</td>\n",
       "      <td>0.994405</td>\n",
       "      <td>0.150225</td>\n",
       "      <td>0.360809</td>\n",
       "      <td>-0.582852</td>\n",
       "      <td>-0.05</td>\n",
       "      <td>1.28</td>\n",
       "      <td>0.571283</td>\n",
       "      <td>0.257741</td>\n",
       "    </tr>\n",
       "    <tr>\n",
       "      <th>97</th>\n",
       "      <td>VRTX</td>\n",
       "      <td>3.432579</td>\n",
       "      <td>0.173924</td>\n",
       "      <td>0.479404</td>\n",
       "      <td>-0.539914</td>\n",
       "      <td>0.06</td>\n",
       "      <td>0.95</td>\n",
       "      <td>0.556497</td>\n",
       "      <td>0.322132</td>\n",
       "    </tr>\n",
       "    <tr>\n",
       "      <th>48</th>\n",
       "      <td>HOLX</td>\n",
       "      <td>2.115764</td>\n",
       "      <td>0.130194</td>\n",
       "      <td>0.308313</td>\n",
       "      <td>-0.394578</td>\n",
       "      <td>-0.02</td>\n",
       "      <td>0.87</td>\n",
       "      <td>0.552194</td>\n",
       "      <td>0.329958</td>\n",
       "    </tr>\n",
       "    <tr>\n",
       "      <th>45</th>\n",
       "      <td>GILD</td>\n",
       "      <td>1.936874</td>\n",
       "      <td>0.123020</td>\n",
       "      <td>0.289467</td>\n",
       "      <td>-0.476568</td>\n",
       "      <td>-0.02</td>\n",
       "      <td>0.83</td>\n",
       "      <td>0.546134</td>\n",
       "      <td>0.258138</td>\n",
       "    </tr>\n",
       "    <tr>\n",
       "      <th>69</th>\n",
       "      <td>MYL</td>\n",
       "      <td>2.097710</td>\n",
       "      <td>0.129487</td>\n",
       "      <td>0.327652</td>\n",
       "      <td>-0.608886</td>\n",
       "      <td>-0.01</td>\n",
       "      <td>0.88</td>\n",
       "      <td>0.535240</td>\n",
       "      <td>0.212662</td>\n",
       "    </tr>\n",
       "    <tr>\n",
       "      <th>99</th>\n",
       "      <td>WBA</td>\n",
       "      <td>1.603050</td>\n",
       "      <td>0.108522</td>\n",
       "      <td>0.253422</td>\n",
       "      <td>-0.359167</td>\n",
       "      <td>-0.01</td>\n",
       "      <td>0.67</td>\n",
       "      <td>0.534074</td>\n",
       "      <td>0.302149</td>\n",
       "    </tr>\n",
       "    <tr>\n",
       "      <th>41</th>\n",
       "      <td>ESRX</td>\n",
       "      <td>1.725102</td>\n",
       "      <td>0.114006</td>\n",
       "      <td>0.271133</td>\n",
       "      <td>-0.419839</td>\n",
       "      <td>0.00</td>\n",
       "      <td>0.67</td>\n",
       "      <td>0.534045</td>\n",
       "      <td>0.271546</td>\n",
       "    </tr>\n",
       "    <tr>\n",
       "      <th>23</th>\n",
       "      <td>CELG</td>\n",
       "      <td>1.982955</td>\n",
       "      <td>0.124905</td>\n",
       "      <td>0.314625</td>\n",
       "      <td>-0.481805</td>\n",
       "      <td>-0.05</td>\n",
       "      <td>1.01</td>\n",
       "      <td>0.532766</td>\n",
       "      <td>0.259244</td>\n",
       "    </tr>\n",
       "    <tr>\n",
       "      <th>56</th>\n",
       "      <td>JD</td>\n",
       "      <td>0.530008</td>\n",
       "      <td>0.136078</td>\n",
       "      <td>0.409711</td>\n",
       "      <td>-0.464717</td>\n",
       "      <td>-0.02</td>\n",
       "      <td>1.35</td>\n",
       "      <td>0.515174</td>\n",
       "      <td>0.292819</td>\n",
       "    </tr>\n",
       "    <tr>\n",
       "      <th>36</th>\n",
       "      <td>DISH</td>\n",
       "      <td>1.838674</td>\n",
       "      <td>0.118915</td>\n",
       "      <td>0.340908</td>\n",
       "      <td>-0.630380</td>\n",
       "      <td>-0.03</td>\n",
       "      <td>0.91</td>\n",
       "      <td>0.499836</td>\n",
       "      <td>0.188640</td>\n",
       "    </tr>\n",
       "    <tr>\n",
       "      <th>74</th>\n",
       "      <td>PCAR</td>\n",
       "      <td>1.563821</td>\n",
       "      <td>0.106711</td>\n",
       "      <td>0.284735</td>\n",
       "      <td>-0.447182</td>\n",
       "      <td>-0.08</td>\n",
       "      <td>1.01</td>\n",
       "      <td>0.498777</td>\n",
       "      <td>0.238629</td>\n",
       "    </tr>\n",
       "    <tr>\n",
       "      <th>21</th>\n",
       "      <td>CA</td>\n",
       "      <td>1.139003</td>\n",
       "      <td>0.085329</td>\n",
       "      <td>0.242504</td>\n",
       "      <td>-0.302101</td>\n",
       "      <td>-0.06</td>\n",
       "      <td>0.82</td>\n",
       "      <td>0.458789</td>\n",
       "      <td>0.282451</td>\n",
       "    </tr>\n",
       "    <tr>\n",
       "      <th>77</th>\n",
       "      <td>QCOM</td>\n",
       "      <td>0.869159</td>\n",
       "      <td>0.069712</td>\n",
       "      <td>0.266344</td>\n",
       "      <td>-0.480889</td>\n",
       "      <td>-0.10</td>\n",
       "      <td>0.93</td>\n",
       "      <td>0.386073</td>\n",
       "      <td>0.144964</td>\n",
       "    </tr>\n",
       "    <tr>\n",
       "      <th>35</th>\n",
       "      <td>XRAY</td>\n",
       "      <td>0.677973</td>\n",
       "      <td>0.057323</td>\n",
       "      <td>0.236717</td>\n",
       "      <td>-0.382640</td>\n",
       "      <td>-0.07</td>\n",
       "      <td>0.71</td>\n",
       "      <td>0.353696</td>\n",
       "      <td>0.149809</td>\n",
       "    </tr>\n",
       "    <tr>\n",
       "      <th>86</th>\n",
       "      <td>SYMC</td>\n",
       "      <td>0.604478</td>\n",
       "      <td>0.052258</td>\n",
       "      <td>0.308163</td>\n",
       "      <td>-0.414277</td>\n",
       "      <td>-0.09</td>\n",
       "      <td>0.86</td>\n",
       "      <td>0.325618</td>\n",
       "      <td>0.126143</td>\n",
       "    </tr>\n",
       "    <tr>\n",
       "      <th>8</th>\n",
       "      <td>AAL</td>\n",
       "      <td>0.119595</td>\n",
       "      <td>0.030290</td>\n",
       "      <td>0.362628</td>\n",
       "      <td>-0.532653</td>\n",
       "      <td>-0.07</td>\n",
       "      <td>1.00</td>\n",
       "      <td>0.264266</td>\n",
       "      <td>0.056867</td>\n",
       "    </tr>\n",
       "    <tr>\n",
       "      <th>98</th>\n",
       "      <td>VOD</td>\n",
       "      <td>-0.217065</td>\n",
       "      <td>-0.026009</td>\n",
       "      <td>0.270924</td>\n",
       "      <td>-0.661680</td>\n",
       "      <td>-0.12</td>\n",
       "      <td>0.62</td>\n",
       "      <td>0.052880</td>\n",
       "      <td>-0.039307</td>\n",
       "    </tr>\n",
       "    <tr>\n",
       "      <th>92</th>\n",
       "      <td>KHC</td>\n",
       "      <td>-0.252826</td>\n",
       "      <td>-0.122919</td>\n",
       "      <td>0.188153</td>\n",
       "      <td>-0.420137</td>\n",
       "      <td>-0.25</td>\n",
       "      <td>0.57</td>\n",
       "      <td>-0.604269</td>\n",
       "      <td>-0.292568</td>\n",
       "    </tr>\n",
       "  </tbody>\n",
       "</table>\n",
       "<p>104 rows × 9 columns</p>\n",
       "</div>"
      ],
      "text/plain": [
       "    symbol  cum_returns  annual_return  annual_volatility  max_drawdown  \\\n",
       "76    PYPL     1.162142       0.414809           0.252182     -0.163146   \n",
       "44    FISV     8.198185       0.269940           0.199420     -0.244233   \n",
       "7     AMZN    26.409359       0.428620           0.323870     -0.309124   \n",
       "19    BKNG    25.014954       0.420393           0.319338     -0.354879   \n",
       "49    IDXX    13.317398       0.331919           0.258456     -0.260276   \n",
       "42      FB     5.637091       0.426004           0.333337     -0.228966   \n",
       "95    ULTA    43.982394       0.506676           0.404775     -0.387057   \n",
       "0      NDX     5.366007       0.220695           0.177442     -0.177884   \n",
       "27    CTAS     8.221846       0.270292           0.219393     -0.242177   \n",
       "11    AAPL    14.540400       0.343898           0.279788     -0.447659   \n",
       "4     ALGN    42.961977       0.502958           0.425878     -0.425232   \n",
       "80    ROST    10.410696       0.299764           0.255110     -0.254685   \n",
       "85    SBUX    11.557018       0.313233           0.266660     -0.296060   \n",
       "2     ADBE    13.629694       0.335017           0.287014     -0.386813   \n",
       "72    NVDA    35.301370       0.472528           0.408407     -0.551522   \n",
       "53    INTU     7.978130       0.266633           0.233000     -0.279506   \n",
       "83    SIRI    53.483283       0.538092           0.488841     -0.425926   \n",
       "71    NFLX    71.424635       0.586285           0.563202     -0.820451   \n",
       "20    AVGO    11.272515       0.361618           0.337914     -0.318065   \n",
       "54    ISRG    13.898761       0.337640           0.320608     -0.403542   \n",
       "61     MAR     9.852428       0.292761           0.279680     -0.397039   \n",
       "91     TXN     7.018293       0.251304           0.242912     -0.333425   \n",
       "73    ORLY     7.600984       0.260793           0.254952     -0.405292   \n",
       "22    CDNS    10.444156       0.300174           0.304315     -0.323857   \n",
       "32    COST     3.875973       0.186039           0.187035     -0.176834   \n",
       "6     GOOG     1.122233       0.240761           0.244824     -0.156218   \n",
       "63    MELI    23.590164       0.411804           0.440286     -0.468642   \n",
       "25    CHTR     5.987815       0.283163           0.291635     -0.352292   \n",
       "90    TSLA    13.240991       0.444220           0.491303     -0.505266   \n",
       "16    BIDU    19.126987       0.381869           0.415130     -0.499720   \n",
       "..     ...          ...            ...                ...           ...   \n",
       "3     ALXN     5.601422       0.225374           0.355064     -0.526420   \n",
       "103   XLNX     3.309335       0.170443           0.270244     -0.339448   \n",
       "102   WYNN     6.635705       0.244733           0.444925     -0.788104   \n",
       "46     HAS     2.894760       0.157685           0.256339     -0.367968   \n",
       "100    WDC     5.075323       0.214463           0.387784     -0.690358   \n",
       "75    PAYX     1.896846       0.121362           0.194622     -0.253333   \n",
       "82    SHPG     3.152703       0.165707           0.293092     -0.533224   \n",
       "9     AMGN     2.228400       0.134525           0.242093     -0.256338   \n",
       "43    FAST     2.477477       0.143642           0.269082     -0.360812   \n",
       "28    CSCO     2.074357       0.128625           0.248714     -0.496749   \n",
       "88    TMUS     0.742424       0.134612           0.269745     -0.298999   \n",
       "67    MDLZ     1.535981       0.105410           0.203775     -0.254171   \n",
       "101   WDAY     0.994405       0.150225           0.360809     -0.582852   \n",
       "97    VRTX     3.432579       0.173924           0.479404     -0.539914   \n",
       "48    HOLX     2.115764       0.130194           0.308313     -0.394578   \n",
       "45    GILD     1.936874       0.123020           0.289467     -0.476568   \n",
       "69     MYL     2.097710       0.129487           0.327652     -0.608886   \n",
       "99     WBA     1.603050       0.108522           0.253422     -0.359167   \n",
       "41    ESRX     1.725102       0.114006           0.271133     -0.419839   \n",
       "23    CELG     1.982955       0.124905           0.314625     -0.481805   \n",
       "56      JD     0.530008       0.136078           0.409711     -0.464717   \n",
       "36    DISH     1.838674       0.118915           0.340908     -0.630380   \n",
       "74    PCAR     1.563821       0.106711           0.284735     -0.447182   \n",
       "21      CA     1.139003       0.085329           0.242504     -0.302101   \n",
       "77    QCOM     0.869159       0.069712           0.266344     -0.480889   \n",
       "35    XRAY     0.677973       0.057323           0.236717     -0.382640   \n",
       "86    SYMC     0.604478       0.052258           0.308163     -0.414277   \n",
       "8      AAL     0.119595       0.030290           0.362628     -0.532653   \n",
       "98     VOD    -0.217065      -0.026009           0.270924     -0.661680   \n",
       "92     KHC    -0.252826      -0.122919           0.188153     -0.420137   \n",
       "\n",
       "     alpha  beta  sharpe_ratio  calmar_ratio  \n",
       "76    0.12  1.10      1.505656      2.542571  \n",
       "44    0.11  0.70      1.299129      1.105259  \n",
       "7     0.16  1.15      1.263151      1.386563  \n",
       "19    0.18  1.04      1.258482      1.184611  \n",
       "49    0.16  0.75      1.239093      1.275258  \n",
       "42    0.17  1.25      1.228770      1.860561  \n",
       "95    0.27  1.04      1.215609      1.309050  \n",
       "0     0.00  1.00      1.213733      1.240670  \n",
       "27    0.11  0.70      1.200994      1.116090  \n",
       "11    0.08  1.16      1.196982      0.768214  \n",
       "4     0.27  1.08      1.167680      1.182785  \n",
       "80    0.14  0.71      1.155805      1.176998  \n",
       "85    0.10  0.98      1.155769      1.058003  \n",
       "2     0.11  1.04      1.152504      0.866097  \n",
       "72    0.17  1.39      1.151504      0.856770  \n",
       "53    0.09  0.80      1.132488      0.953942  \n",
       "83    0.32  1.03      1.113163      1.263345  \n",
       "71    0.35  1.23      1.099029      0.714588  \n",
       "20    0.16  1.23      1.082701      1.136931  \n",
       "54    0.15  0.90      1.067789      0.836691  \n",
       "61    0.07  1.05      1.058049      0.737361  \n",
       "91    0.05  0.93      1.045233      0.753704  \n",
       "73    0.13  0.62      1.037662      0.643468  \n",
       "22    0.10  0.95      1.014858      0.926872  \n",
       "32    0.07  0.56      1.006400      1.052052  \n",
       "6     0.07  1.07      1.003619      1.541187  \n",
       "63    0.17  1.26      1.002215      0.878717  \n",
       "25    0.16  0.69      1.001432      0.803775  \n",
       "90    0.25  1.32      0.993004      0.879179  \n",
       "16    0.10  1.43      0.987585      0.764166  \n",
       "..     ...   ...           ...           ...  \n",
       "3     0.05  1.01      0.749425      0.428126  \n",
       "103  -0.01  0.95      0.718211      0.502119  \n",
       "102   0.01  1.42      0.712960      0.310533  \n",
       "46    0.03  0.69      0.699064      0.428528  \n",
       "100   0.02  1.17      0.694699      0.310655  \n",
       "75   -0.01  0.68      0.686307      0.479060  \n",
       "82    0.04  0.72      0.670940      0.310765  \n",
       "9    -0.00  0.73      0.642394      0.524795  \n",
       "43   -0.01  0.83      0.633571      0.398107  \n",
       "28   -0.04  0.92      0.611974      0.258935  \n",
       "88    0.04  0.71      0.603611      0.450209  \n",
       "67    0.01  0.53      0.593946      0.414721  \n",
       "101  -0.05  1.28      0.571283      0.257741  \n",
       "97    0.06  0.95      0.556497      0.322132  \n",
       "48   -0.02  0.87      0.552194      0.329958  \n",
       "45   -0.02  0.83      0.546134      0.258138  \n",
       "69   -0.01  0.88      0.535240      0.212662  \n",
       "99   -0.01  0.67      0.534074      0.302149  \n",
       "41    0.00  0.67      0.534045      0.271546  \n",
       "23   -0.05  1.01      0.532766      0.259244  \n",
       "56   -0.02  1.35      0.515174      0.292819  \n",
       "36   -0.03  0.91      0.499836      0.188640  \n",
       "74   -0.08  1.01      0.498777      0.238629  \n",
       "21   -0.06  0.82      0.458789      0.282451  \n",
       "77   -0.10  0.93      0.386073      0.144964  \n",
       "35   -0.07  0.71      0.353696      0.149809  \n",
       "86   -0.09  0.86      0.325618      0.126143  \n",
       "8    -0.07  1.00      0.264266      0.056867  \n",
       "98   -0.12  0.62      0.052880     -0.039307  \n",
       "92   -0.25  0.57     -0.604269     -0.292568  \n",
       "\n",
       "[104 rows x 9 columns]"
      ]
     },
     "execution_count": 6,
     "metadata": {},
     "output_type": "execute_result"
    }
   ],
   "source": [
    "algo = stock_df_dict['TSLA'].open.pct_change()\n",
    "benchmark = stock_df_dict['NDX'].open.pct_change()\n",
    "\n",
    "'cum_returns', emp.cum_returns(algo)[-1]\n",
    "'max_drawdown', emp.max_drawdown(algo), emp.max_drawdown(benchmark)\n",
    "'annual_return', emp.annual_return(algo), emp.annual_return(benchmark)\n",
    "'annual_volatility', emp.annual_volatility(algo, period='daily')\n",
    "'calmar_ratio', emp.calmar_ratio(algo)\n",
    "'sharpe_ratio', emp.sharpe_ratio(returns=algo)\n",
    "'alpha', emp.alpha(returns=algo, factor_returns=benchmark, risk_free=0.00)\n",
    "'beta', emp.beta(returns=algo, factor_returns=benchmark, risk_free=0.00)\n",
    "\n",
    "emp_df = None\n",
    "emp_df = pd.DataFrame(columns=[\n",
    "    'symbol', 'cum_returns', 'annual_return', 'annual_volatility', 'max_drawdown', 'alpha', 'beta', 'sharpe_ratio', 'calmar_ratio'\n",
    "])\n",
    "\n",
    "for symbol in NASDAQ100:\n",
    "    algo = stock_df_dict[symbol].open.pct_change()\n",
    "    emp_df = emp_df.append(\n",
    "        {\n",
    "            'symbol': symbol,\n",
    "            'cum_returns': emp.cum_returns(algo)[-1],\n",
    "            'annual_return': emp.annual_return(algo),\n",
    "            'annual_volatility': emp.annual_volatility(algo, period='daily'),\n",
    "            'max_drawdown': emp.max_drawdown(algo),\n",
    "            'alpha': round(emp.alpha(returns=algo, factor_returns=benchmark, risk_free=0.00), 2),\n",
    "            'beta': round(emp.beta(returns=algo, factor_returns=benchmark, risk_free=0.00), 2),\n",
    "            'sharpe_ratio': emp.sharpe_ratio(returns=algo),\n",
    "            'calmar_ratio': emp.calmar_ratio(algo)\n",
    "        },\n",
    "        ignore_index=True,\n",
    "    )\n",
    "\n",
    "# emp_df\n",
    "# emp_df.sort_values('cum_returns', ascending=False)\n",
    "emp_df.sort_values('sharpe_ratio', ascending=False)"
   ]
  },
  {
   "cell_type": "code",
   "execution_count": 7,
   "metadata": {},
   "outputs": [
    {
     "name": "stdout",
     "output_type": "stream",
     "text": [
      "Wall time: 502 µs\n"
     ]
    }
   ],
   "source": [
    "%%time\n",
    "\n",
    "show_df = None\n",
    "show_df = stock_df_dict['NDX'].copy()"
   ]
  },
  {
   "cell_type": "code",
   "execution_count": 19,
   "metadata": {
    "scrolled": false
   },
   "outputs": [
    {
     "name": "stdout",
     "output_type": "stream",
     "text": [
      "14203.1994254\n",
      "0\n",
      "441096.292225\n",
      "NDX 1132.96 7212.431 6.3660067434\n",
      "Wall time: 8min 9s\n"
     ]
    }
   ],
   "source": [
    "%%time\n",
    "# %xmode\n",
    "\n",
    "PROPERTY = START_MONEY\n",
    "CASH = START_MONEY\n",
    "\n",
    "order_df = None\n",
    "order_df = pd.DataFrame(columns=[\n",
    "    'buy_date', 'symbol', 'buy_count', 'buy_price', 'buy_reason', 'sell_date', 'sell_price', 'sell_reason', 'profit', 'cash', 'property'\n",
    "])\n",
    "count_day = 0\n",
    "yesterday = None\n",
    "miss_buy_short = 0\n",
    "miss_buy_long = 0\n",
    "\n",
    "for today in pd.period_range(start=start_date, end=end_date, freq='D'):\n",
    "    count_day += 1\n",
    "    \n",
    "    if yesterday is None:\n",
    "        yesterday = today\n",
    "        continue\n",
    "\n",
    "    if today not in stock_df_dict['NDX'].index:\n",
    "        continue\n",
    "\n",
    "    if IS_HAPPYMONEY:        \n",
    "        if PROPERTY > START_MONEY * 2:\n",
    "            HAPPY_MONEY += 50000\n",
    "            PROPERTY -= 50000\n",
    "            CASH = PROPERTY\n",
    "    \n",
    "    # 买卖过程\n",
    "    for symbol in NASDAQ100[:]:\n",
    "#     for symbol in ['TSLA']:\n",
    "        if symbol in ['ALGN', 'ROST', 'ORLY', 'ESRX', 'ULTA', 'REGN', 'MNST']:\n",
    "#             continue\n",
    "            pass\n",
    "\n",
    "        if symbol == 'NDX':\n",
    "            continue\n",
    "        \n",
    "        if today not in stock_df_dict[symbol].index or yesterday not in stock_df_dict[symbol].index:\n",
    "            continue\n",
    "            \n",
    "        # TIME TEST\n",
    "#         print(order_df)\n",
    "#         print(order_df.columns)\n",
    "        \n",
    "#         %timeit (len(order_df[order_df['symbol'] == symbol]) != 0)\n",
    "#         %timeit order_df[order_df['symbol'] == symbol].shape[0] != 0\n",
    "#         %timeit n_order_df = order_df.values\n",
    "#         %timeit len(n_order_df[n_order_df[:, 1] == symbol]) != 0\n",
    "#         %timeit (len(order_df[(order_df['symbol'] == symbol) & (order_df['sell_price'] == 0)]) == 0)\n",
    "\n",
    "\n",
    "#         iiidx = stock_df_dict[symbol].index.get_loc(today)\n",
    "#         print(iiidx, type(iiidx))\n",
    "#         %timeit stock_df_dict[symbol].loc[today]\n",
    "#         %timeit n_stock_df = stock_df_dict[symbol].values\n",
    "#         %timeit n_stock_df[iiidx]\n",
    "        \n",
    "#         %timeit (stock_df_dict[symbol].loc[today, 'open'] >= stock_df_dict[symbol].loc[today, 'rolling_max'])\n",
    "#         %timeit (stock_df_dict[symbol].loc[today, 'open'] >= stock_df_dict[symbol].loc[today, 'rolling_max'])\n",
    "\n",
    "#         %timeit int(stock_df_dict[symbol].shift(1).loc[today, 'Unit'])\n",
    "#         %timeit int(CASH / stock_df_dict[symbol].loc[today, 'open'])\n",
    "#         %timeit buy_count * stock_df_dict[symbol].loc[today, 'open']\n",
    "#         %timeit stock_df_dict[symbol]\n",
    "#         %timeit stock_df_dict[symbol].loc[today, 'open']\n",
    "#         %timeit (stock_df_dict[symbol].loc[today, 'open'] > order_df[(order_df['symbol'] == symbol) & (order_df['sell_price'] == 0)].buy_price.iloc[-1] + 0.5 * stock_df_dict[symbol].shift(1).loc[today, 'N'])\n",
    "        \n",
    "#         n_order_df = order_df.values\n",
    "#         n_stock_df = stock_df_dict[symbol].values\n",
    "#         today_idx = stock_df_dict[symbol].index.get_loc(today)\n",
    "#         is_has_order = (len(n_order_df[n_order_df[:, 1] == symbol]) != 0)\n",
    "#         is_order_soldout = not is_has_order and (len(n_order_df[n_order_df[:, 6] == symbol]) == 0)\n",
    "        \n",
    "#         is_has_order = (len(order_df[order_df['symbol'] == symbol]) != 0)\n",
    "#         is_order_soldout = (len(order_df[(order_df['symbol'] == symbol) & (order_df['sell_price'] == 0)]) == 0)\n",
    "        \n",
    "    \n",
    "#         '''\n",
    "#         'buy_date', 'symbol', 'buy_count', 'buy_price', 'buy_reason', 'sell_date', 'sell_price', 'sell_reason', 'profit', 'cash', 'property'\n",
    "#         stock_df['ROLLING_%d_MAX' % TURTLE_SHORT_BUY_N] = stock_df['open'].rolling(TURTLE_SHORT_BUY_N).max()\n",
    "#         stock_df['ROLLING_%d_MIN' % TURTLE_SHORT_SELL_N] = stock_df['open'].rolling(TURTLE_SHORT_SELL_N).min()\n",
    "#         stock_df['ROLLING_%d_MAX' % TURTLE_LONG_BUY_N] = stock_df['open'].rolling(TURTLE_LONG_BUY_N).max()\n",
    "#         stock_df['ROLLING_%d_MIN' % TURTLE_LONG_SELL_N] = stock_df['open'].rolling(TURTLE_LONG_SELL_N).min()\n",
    "#         '''\n",
    "\n",
    "        today_market = stock_df_dict[symbol].loc[today]\n",
    "        \n",
    "        # 突破下行趋势，清仓退出\n",
    "        order_arr = order_df.to_records(index=False)\n",
    "        if len(order_arr[(order_arr.symbol == symbol) & (order_arr.sell_price == 0)] ) != 0:\n",
    "            is_sell = False\n",
    "            for idx in order_df[(order_df['symbol'] == symbol) & (order_df['sell_price'] == 0)].index:\n",
    "                cur_order = order_df.loc[idx]\n",
    "                if cur_order.buy_reason == 'SHORT':\n",
    "                    is_sell = (today_market.open <= today_market['ROLLING_%d_MIN' % TURTLE_SHORT_SELL_N])\n",
    "                if cur_order.buy_reason == 'LONG':\n",
    "                    is_sell = (today_market.open <= today_market['ROLLING_%d_MIN' % TURTLE_LONG_SELL_N])\n",
    "                if is_sell:\n",
    "                    CASH += cur_order.buy_count * today_market.open\n",
    "                    order_df.loc[idx, 'sell_date'] = today\n",
    "                    order_df.loc[idx, 'sell_price'] = today_market.open\n",
    "                    order_df.loc[idx, 'sell_reason'] = 'EXIT'\n",
    "                    order_df.loc[idx, 'profit'] = \\\n",
    "                        (today_market.open - cur_order.buy_price) * cur_order.buy_count\n",
    "#                 print(today, '退出', stock_df_dict[symbol].loc[today, 'open'], CASH)\n",
    "\n",
    "\n",
    "        # 突破上行趋势，就买一份\n",
    "        order_arr = order_df.to_records(index=False)\n",
    "        if today_market.MA30 >= today_market.MA180:\n",
    "            is_buy = False\n",
    "            if today_market.open >= today_market['ROLLING_%d_MAX' % TURTLE_LONG_BUY_N]:\n",
    "                is_buy = True\n",
    "                buy_reason = 'LONG'\n",
    "            elif today_market.open >= today_market['ROLLING_%d_MAX' % TURTLE_SHORT_BUY_N]:\n",
    "                is_buy = True\n",
    "                buy_reason = 'SHORT'\n",
    "            if is_buy:\n",
    "                buy_count = 0\n",
    "                \n",
    "                if IS_SLIPPAGE:\n",
    "                    buy_price = today_market.open * (1 + random.randint(0, 20) / 1000)\n",
    "                else:\n",
    "                    buy_price = today_market.open\n",
    "\n",
    "                if CASH >= PROPERTY / TURTLE_POS:\n",
    "                    buy_count = int((PROPERTY / TURTLE_POS) / buy_price)\n",
    "                \n",
    "                if IS_RANDOM_BUY:\n",
    "                    if random.randint(0, 100) > 50:\n",
    "                        buy_count = 0\n",
    "\n",
    "                if buy_count > 0:\n",
    "                    CASH -= buy_count * buy_price\n",
    "#                     print(today, '建仓', buy_count, stock_df_dict[symbol].loc[today, 'open'], CASH)\n",
    "                    order_df = order_df.append(\n",
    "                        {\n",
    "                            'buy_date': today,\n",
    "                            'symbol': symbol,\n",
    "                            'buy_count': buy_count,\n",
    "                            'buy_price': today_market.open,\n",
    "                            'buy_reason': buy_reason,\n",
    "                            'sell_date': pd.np.nan,\n",
    "                            'sell_price': 0,\n",
    "                            'profit': 0,\n",
    "                            'cash': CASH,\n",
    "                            'property': PROPERTY,\n",
    "                        },\n",
    "                        ignore_index=True\n",
    "                    )\n",
    "                else:\n",
    "                    if buy_reason == 'LONG':\n",
    "                        miss_buy_long += 1\n",
    "                    elif buy_reason == 'SHORT':\n",
    "                        miss_buy_short += 1\n",
    "            \n",
    "    # 每天盘点财产\n",
    "    show_df.loc[today, 'CASH_TURTLE_%d_%d_%d' % (TURTLE_POS, TURTLE_LONG_BUY_N, TURTLE_LONG_SELL_N)] = CASH\n",
    "    PROPERTY = CASH + \\\n",
    "        sum(\n",
    "            [\n",
    "                stock_df_dict[order_df.loc[idx, 'symbol']].loc[today, 'open'] * order_df.loc[idx, 'buy_count'] \\\n",
    "                for idx in order_df.loc[order_df['sell_price']==0].index\n",
    "            ]\n",
    "        )\n",
    "    show_df.loc[today, 'PROPERTY_TURTLE_%d_%d_%d' % (TURTLE_POS, TURTLE_LONG_BUY_N, TURTLE_LONG_SELL_N)] = PROPERTY\n",
    "\n",
    "    yesterday = today\n",
    "            \n",
    "\n",
    "print(CASH)\n",
    "print(HAPPY_MONEY)\n",
    "print(PROPERTY)\n",
    "\n",
    "s_p = stock_df_dict['NDX'][start_date:].iloc[0].open\n",
    "e_p = stock_df_dict['NDX'].iloc[-1].open\n",
    "print('NDX', s_p, e_p, e_p / s_p)\n"
   ]
  },
  {
   "cell_type": "code",
   "execution_count": 18,
   "metadata": {
    "scrolled": false
   },
   "outputs": [
    {
     "data": {
      "text/plain": [
       "'ALL'"
      ]
     },
     "execution_count": 18,
     "metadata": {},
     "output_type": "execute_result"
    },
    {
     "data": {
      "text/plain": [
       "('start_date', '2008-06-02')"
      ]
     },
     "execution_count": 18,
     "metadata": {},
     "output_type": "execute_result"
    },
    {
     "data": {
      "text/plain": [
       "('end_date', '2018-06-06')"
      ]
     },
     "execution_count": 18,
     "metadata": {},
     "output_type": "execute_result"
    },
    {
     "data": {
      "text/plain": [
       "('TURTLE_POS', 20)"
      ]
     },
     "execution_count": 18,
     "metadata": {},
     "output_type": "execute_result"
    },
    {
     "data": {
      "text/plain": [
       "('TURTLE_SHORT_BUY_N', 20)"
      ]
     },
     "execution_count": 18,
     "metadata": {},
     "output_type": "execute_result"
    },
    {
     "data": {
      "text/plain": [
       "('TURTLE_SHORT_SELL_N', 20)"
      ]
     },
     "execution_count": 18,
     "metadata": {},
     "output_type": "execute_result"
    },
    {
     "data": {
      "text/plain": [
       "('TURTLE_LONG_BUY_N', 60)"
      ]
     },
     "execution_count": 18,
     "metadata": {},
     "output_type": "execute_result"
    },
    {
     "data": {
      "text/plain": [
       "('TURTLE_LONG_SELL_N', 60)"
      ]
     },
     "execution_count": 18,
     "metadata": {},
     "output_type": "execute_result"
    },
    {
     "data": {
      "text/plain": [
       "('IS_HAPPYMONEY', False)"
      ]
     },
     "execution_count": 18,
     "metadata": {},
     "output_type": "execute_result"
    },
    {
     "data": {
      "text/plain": [
       "('IS_TAX', False)"
      ]
     },
     "execution_count": 18,
     "metadata": {},
     "output_type": "execute_result"
    },
    {
     "data": {
      "text/plain": [
       "('IS_SLIPPAGE', True)"
      ]
     },
     "execution_count": 18,
     "metadata": {},
     "output_type": "execute_result"
    },
    {
     "data": {
      "text/plain": [
       "('IS_RANDOM_BUY', True)"
      ]
     },
     "execution_count": 18,
     "metadata": {},
     "output_type": "execute_result"
    },
    {
     "data": {
      "text/plain": [
       "('START_MONEY', 100000)"
      ]
     },
     "execution_count": 18,
     "metadata": {},
     "output_type": "execute_result"
    },
    {
     "data": {
      "text/plain": [
       "('len(order_df)', 438)"
      ]
     },
     "execution_count": 18,
     "metadata": {},
     "output_type": "execute_result"
    },
    {
     "data": {
      "text/plain": [
       "('sum_profit', 329734.64280000015)"
      ]
     },
     "execution_count": 18,
     "metadata": {},
     "output_type": "execute_result"
    },
    {
     "data": {
      "text/plain": [
       "('sum_tax', 0)"
      ]
     },
     "execution_count": 18,
     "metadata": {},
     "output_type": "execute_result"
    },
    {
     "data": {
      "text/plain": [
       "('win rate', 0.5)"
      ]
     },
     "execution_count": 18,
     "metadata": {},
     "output_type": "execute_result"
    },
    {
     "data": {
      "text/plain": [
       "('len(order_df[order_df.profit != 0])', 420)"
      ]
     },
     "execution_count": 18,
     "metadata": {},
     "output_type": "execute_result"
    },
    {
     "data": {
      "text/plain": [
       "('len(order_df[order_df.profit > 0])', 210)"
      ]
     },
     "execution_count": 18,
     "metadata": {},
     "output_type": "execute_result"
    },
    {
     "data": {
      "text/plain": [
       "('order LONG', 296)"
      ]
     },
     "execution_count": 18,
     "metadata": {},
     "output_type": "execute_result"
    },
    {
     "data": {
      "text/plain": [
       "146"
      ]
     },
     "execution_count": 18,
     "metadata": {},
     "output_type": "execute_result"
    },
    {
     "data": {
      "text/plain": [
       "296406.84780000005"
      ]
     },
     "execution_count": 18,
     "metadata": {},
     "output_type": "execute_result"
    },
    {
     "data": {
      "text/plain": [
       "('order SHORT', 142)"
      ]
     },
     "execution_count": 18,
     "metadata": {},
     "output_type": "execute_result"
    },
    {
     "data": {
      "text/plain": [
       "64"
      ]
     },
     "execution_count": 18,
     "metadata": {},
     "output_type": "execute_result"
    },
    {
     "data": {
      "text/plain": [
       "33327.795000000027"
      ]
     },
     "execution_count": 18,
     "metadata": {},
     "output_type": "execute_result"
    },
    {
     "data": {
      "text/plain": [
       "('cum_returns', 3.7963139420770062, 5.3375935602316407)"
      ]
     },
     "execution_count": 18,
     "metadata": {},
     "output_type": "execute_result"
    },
    {
     "data": {
      "text/plain": [
       "('max_drawdown', -0.2574236577088431, -0.17788401333635892)"
      ]
     },
     "execution_count": 18,
     "metadata": {},
     "output_type": "execute_result"
    },
    {
     "data": {
      "text/plain": [
       "('annual_return', 0.18410779077854622, 0.22021107797504591)"
      ]
     },
     "execution_count": 18,
     "metadata": {},
     "output_type": "execute_result"
    },
    {
     "data": {
      "text/plain": [
       "('annual_volatility', 0.1922460512790405)"
      ]
     },
     "execution_count": 18,
     "metadata": {},
     "output_type": "execute_result"
    },
    {
     "data": {
      "text/plain": [
       "('calmar_ratio', 0.71519374876873132)"
      ]
     },
     "execution_count": 18,
     "metadata": {},
     "output_type": "execute_result"
    },
    {
     "data": {
      "text/plain": [
       "('sharpe_ratio', 0.9760088061458071)"
      ]
     },
     "execution_count": 18,
     "metadata": {},
     "output_type": "execute_result"
    },
    {
     "data": {
      "text/plain": [
       "('alpha', 0.0046622757908703506)"
      ]
     },
     "execution_count": 18,
     "metadata": {},
     "output_type": "execute_result"
    },
    {
     "data": {
      "text/plain": [
       "('beta', 0.8511240601568669)"
      ]
     },
     "execution_count": 18,
     "metadata": {},
     "output_type": "execute_result"
    },
    {
     "data": {
      "text/plain": [
       "('ALL DAY', 2338)"
      ]
     },
     "execution_count": 18,
     "metadata": {},
     "output_type": "execute_result"
    },
    {
     "data": {
      "text/plain": [
       "'CASH_TURTLE_20_60_60'"
      ]
     },
     "execution_count": 18,
     "metadata": {},
     "output_type": "execute_result"
    },
    {
     "data": {
      "text/plain": [
       "'PROPERTY_TURTLE_20_60_60'"
      ]
     },
     "execution_count": 18,
     "metadata": {},
     "output_type": "execute_result"
    },
    {
     "data": {
      "text/plain": [
       "('CASH NOT USED DAY', 328)"
      ]
     },
     "execution_count": 18,
     "metadata": {},
     "output_type": "execute_result"
    },
    {
     "data": {
      "text/plain": [
       "('MISS_BUY_SIGNAL_LONG', 21241)"
      ]
     },
     "execution_count": 18,
     "metadata": {},
     "output_type": "execute_result"
    },
    {
     "data": {
      "text/plain": [
       "('MISS_BUY_SIGNAL_SHORT', 6202)"
      ]
     },
     "execution_count": 18,
     "metadata": {},
     "output_type": "execute_result"
    }
   ],
   "source": [
    "'ALL'\n",
    "'start_date', start_date\n",
    "'end_date', end_date\n",
    "'TURTLE_POS', TURTLE_POS\n",
    "'TURTLE_SHORT_BUY_N', TURTLE_SHORT_BUY_N\n",
    "'TURTLE_SHORT_SELL_N', TURTLE_SHORT_SELL_N\n",
    "'TURTLE_LONG_BUY_N', TURTLE_LONG_BUY_N\n",
    "'TURTLE_LONG_SELL_N', TURTLE_LONG_SELL_N\n",
    "'IS_HAPPYMONEY', IS_HAPPYMONEY\n",
    "'IS_TAX', IS_TAX\n",
    "'IS_SLIPPAGE', IS_SLIPPAGE\n",
    "'IS_RANDOM_BUY', IS_RANDOM_BUY\n",
    "'START_MONEY', START_MONEY\n",
    "\n",
    "'len(order_df)', len(order_df)\n",
    "sum_profit = sum(list(order_df['profit']))\n",
    "'sum_profit', sum_profit\n",
    "# sum_tax = sum(list(order_df_TB['tax']))\n",
    "sum_tax = 0\n",
    "'sum_tax', sum_tax\n",
    "'win rate', len(order_df[order_df.profit > 0]) / len(order_df[order_df.profit != 0])\n",
    "# 'REWARD', ((sum_profit - sum_tax) / START_MONEY + 1) ** (365 / count_day)\n",
    "'len(order_df[order_df.profit != 0])', len(order_df[order_df.profit != 0])\n",
    "'len(order_df[order_df.profit > 0])', len(order_df[order_df.profit > 0])\n",
    "'order LONG', len(order_df[order_df.buy_reason == 'LONG'])\n",
    "len(order_df[(order_df.buy_reason == 'LONG') & (order_df.profit > 0)])\n",
    "sum(list(order_df[order_df.buy_reason == 'LONG']['profit']))\n",
    "'order SHORT', len(order_df[order_df.buy_reason == 'SHORT'])\n",
    "len(order_df[(order_df.buy_reason == 'SHORT') & (order_df.profit > 0)])\n",
    "sum(list(order_df[order_df.buy_reason == 'SHORT']['profit']))\n",
    "\n",
    "# order_df\n",
    "# order_df.loc[order_df['sell_price']==0]\n",
    "\n",
    "calc_df = order_df.copy()\n",
    "calc_df['profit_pct'] = calc_df['profit'] / (calc_df['buy_count'] * calc_df['buy_price'])\n",
    "# calc_df[calc_df.symbol == 'BIDU']\n",
    "# calc_df[calc_df.profit > 0]\n",
    "# calc_df\n",
    "\n",
    "# order_df[order_df.profit > 0]\n",
    "\n",
    "# csv_file = 'E:/Dev/result/T_TURTLE_POS%d_TURTLE_BUY_N%d_TURTLE_SELL_N%d_START_MONEY%d_%s_%s.csv' % \\\n",
    "#     (TURTLE_POS, TURTLE_BUY_N, TURTLE_SELL_N, START_MONEY, start_date, end_date)\n",
    "# calc_df.to_csv(csv_file)\n",
    "\n",
    "# list(show_df.dropna(how='any', inplace=False).PROPERTY_TURTLE_20_60_60.apply(int).tail(50))\n",
    "# list(show_df.open.apply(int).tail(50))\n",
    "\n",
    "df = show_df.dropna(how='any', inplace=False).copy()\n",
    "algo = df['PROPERTY_TURTLE_%d_%d_%d' % (TURTLE_POS, TURTLE_LONG_BUY_N, TURTLE_LONG_SELL_N)].pct_change()\n",
    "benchmark = df.open.pct_change()\n",
    "\n",
    "'cum_returns', emp.cum_returns(algo)[-1], emp.cum_returns(benchmark)[-1]\n",
    "'max_drawdown', emp.max_drawdown(algo), emp.max_drawdown(benchmark)\n",
    "'annual_return', emp.annual_return(algo), emp.annual_return(benchmark)\n",
    "'annual_volatility', emp.annual_volatility(algo, period='daily')\n",
    "'calmar_ratio', emp.calmar_ratio(algo)\n",
    "'sharpe_ratio', emp.sharpe_ratio(returns=algo)\n",
    "'alpha', emp.alpha(returns=algo, factor_returns=benchmark, risk_free=0.00)\n",
    "'beta', emp.beta(returns=algo, factor_returns=benchmark, risk_free=0.00)\n",
    "\n",
    "'ALL DAY', len(df)\n",
    "'CASH_TURTLE_%d_%d_%d' % (TURTLE_POS, TURTLE_LONG_BUY_N, TURTLE_LONG_SELL_N)\n",
    "'PROPERTY_TURTLE_%d_%d_%d' % (TURTLE_POS, TURTLE_LONG_BUY_N, TURTLE_LONG_SELL_N)\n",
    "'CASH NOT USED DAY', \\\n",
    "    len(df[df['CASH_TURTLE_%d_%d_%d' % (TURTLE_POS, TURTLE_LONG_BUY_N, TURTLE_LONG_SELL_N)] > \\\n",
    "           df['PROPERTY_TURTLE_%d_%d_%d' % (TURTLE_POS, TURTLE_LONG_BUY_N, TURTLE_LONG_SELL_N)] / TURTLE_POS])\n",
    "'MISS_BUY_SIGNAL_LONG', miss_buy_long\n",
    "'MISS_BUY_SIGNAL_SHORT', miss_buy_short"
   ]
  },
  {
   "cell_type": "code",
   "execution_count": 10,
   "metadata": {
    "scrolled": true
   },
   "outputs": [
    {
     "data": {
      "text/plain": [
       "48"
      ]
     },
     "execution_count": 10,
     "metadata": {},
     "output_type": "execute_result"
    }
   ],
   "source": [
    "bad_stock_cnt = 0\n",
    "s_p = stock_df_dict['NDX'][start_date:].iloc[0].open\n",
    "e_p = stock_df_dict['NDX'].iloc[-1].open\n",
    "benchmark_return = e_p / s_p\n",
    "for symbol, stock_df in stock_df_dict.items():\n",
    "    df = stock_df.loc[start_date:end_date, 'close']\n",
    "#     print(df)\n",
    "    s_p = df.head(1).values\n",
    "    e_p = df.tail(1).values\n",
    "#     print(symbol, s_p, e_p, e_p / s_p)\n",
    "    if e_p / s_p < benchmark_return:\n",
    "        bad_stock_cnt += 1\n",
    "bad_stock_cnt\n"
   ]
  },
  {
   "cell_type": "code",
   "execution_count": 11,
   "metadata": {
    "scrolled": false
   },
   "outputs": [],
   "source": [
    "%matplotlib inline\n",
    "\n",
    "import sys\n",
    "import matplotlib\n",
    "import matplotlib.pyplot as plt\n",
    "plt.rcParams['figure.figsize'] = [15, 10]\n",
    "\n",
    "# order_df_TB\n",
    "bar_df = order_df.copy()\n",
    "df = bar_df.sort_values(by=['profit'])\n",
    "# df\n",
    "\n",
    "bins = [100 * x for x in range(-200, 500)]\n",
    "# bins\n",
    "\n",
    "cats = pd.cut(df['profit'], bins)\n",
    "# cats\n",
    "\n",
    "def get_stats(group):\n",
    "    return {'count': group.count()}\n",
    "\n",
    "grouped = df['profit'].groupby(cats)\n",
    "bin_counts = grouped.apply(get_stats).unstack()\n",
    "bin_counts.reset_index(inplace=True, drop=False)\n",
    "bin_counts['profit'] = bin_counts['profit'].apply(str)\n",
    "# bin_counts\n",
    "\n",
    "# df['profit'].hist(bins=10)\n",
    "\n",
    "# bin_counts.plot(kind='barh', alpha=0.5, rot=0)\n",
    "\n",
    "# display_charts(bin_counts, kind='bar', x='profit', figsize=(900, 600), logy=True)"
   ]
  },
  {
   "cell_type": "code",
   "execution_count": 12,
   "metadata": {
    "scrolled": false
   },
   "outputs": [
    {
     "data": {
      "text/plain": [
       "Index(['open', 'high', 'low', 'close', 'volume', 'o_pct_chg', 'ROLLING_20_MAX',\n",
       "       'ROLLING_20_MIN', 'ROLLING_60_MAX', 'ROLLING_60_MIN', 'MA180', 'MA30',\n",
       "       'CASH_TURTLE_20_60_60', 'PROPERTY_TURTLE_20_60_60'],\n",
       "      dtype='object')"
      ]
     },
     "execution_count": 12,
     "metadata": {},
     "output_type": "execute_result"
    },
    {
     "data": {
      "image/png": "[encoded data removed]",
      "text/plain": [
       "<matplotlib.figure.Figure at 0xe47b3f0>"
      ]
     },
     "metadata": {},
     "output_type": "display_data"
    }
   ],
   "source": [
    "%matplotlib inline\n",
    "\n",
    "import matplotlib\n",
    "import matplotlib.pyplot as plt\n",
    "plt.rcParams['figure.figsize'] = [15, 10]\n",
    "\n",
    "df = show_df.dropna(how='any', inplace=False).copy()\n",
    "# df.drop(columns=['open', 'high', 'low', 'o_pct_chg', 'TR', 'N'], inplace=True)\n",
    "df.columns\n",
    "\n",
    "df['close'] = (df['close'] - df.iloc[0]['close']) / df.iloc[0]['close']\n",
    "ax = df.plot(kind='line', y='close', label='NDX_%.2f' % df.iloc[-1]['close'], linewidth=1, grid=True)\n",
    "for col in sorted(df.columns):\n",
    "    if 'PROPERTY' in col:\n",
    "        df[col] = (df[col] - df.iloc[1][col]) / df.iloc[0][col]\n",
    "        ax = df.plot(kind='line', y=col, secondary_y=False, label='%s_%.2f' % (col, df.iloc[-1][col]), linewidth=1, grid=True, ax=ax)\n",
    "\n",
    "# display_charts(df, kind='line', figsize=(900, 600), logy=False)"
   ]
  }
 ],
 "metadata": {
  "kernelspec": {
   "display_name": "Python 3",
   "language": "python",
   "name": "python3"
  },
  "language_info": {
   "codemirror_mode": {
    "name": "ipython",
    "version": 3
   },
   "file_extension": ".py",
   "mimetype": "text/x-python",
   "name": "python",
   "nbconvert_exporter": "python",
   "pygments_lexer": "ipython3",
   "version": "3.6.1"
  }
 },
 "nbformat": 4,
 "nbformat_minor": 2
}
