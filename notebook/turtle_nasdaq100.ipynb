{
 "cells": [
  {
   "cell_type": "code",
   "execution_count": 1,
   "metadata": {
    "scrolled": true
   },
   "outputs": [
    {
     "data": {
      "text/html": [
       "\n",
       "<script src=\"//code.highcharts.com/stock/highstock.js\"></script>\n",
       "<script src=\"//code.highcharts.com/highcharts-more.js\"></script>\n",
       "<script src=\"//code.highcharts.com/modules/exporting.js\"></script>\n"
      ],
      "text/plain": [
       "<IPython.core.display.HTML object>"
      ]
     },
     "metadata": {},
     "output_type": "display_data"
    },
    {
     "data": {
      "text/plain": [
       "<module 'pandas' from 'D:\\\\Anaconda3\\\\lib\\\\site-packages\\\\pandas\\\\__init__.py'>"
      ]
     },
     "execution_count": 1,
     "metadata": {},
     "output_type": "execute_result"
    }
   ],
   "source": [
    "import os\n",
    "import sys\n",
    "sys.path.append(os.path.abspath(os.path.join(os.getcwd(), '..')))\n",
    "\n",
    "import pandas as pd\n",
    "pd.core.common.is_list_like = pd.api.types.is_list_like\n",
    "import empyrical as emp\n",
    "import time\n",
    "# from concurrent.futures import ProcessPoolExecutor\n",
    "\n",
    "from common.log import *\n",
    "from common.config import Config\n",
    "from spider.spider_nasdaq import Spider_nasdaq\n",
    "\n",
    "from IPython.core.interactiveshell import InteractiveShell\n",
    "InteractiveShell.ast_node_interactivity = 'all'\n",
    "\n",
    "from pandas_highcharts.core import serialize\n",
    "from pandas_highcharts.display import display_charts\n",
    "\n",
    "CONF = Config().data[0]\n",
    "MONGODB = CONF['MONGODB']\n",
    "NASDAQ = CONF['NASDAQ']\n",
    "CRYPTOCURRENCY = CONF['CRYPTOCURRENCY']\n",
    "NASDAQ100 = CONF['NASDAQ100']\n",
    "\n",
    "pd"
   ]
  },
  {
   "cell_type": "code",
   "execution_count": 2,
   "metadata": {
    "scrolled": false
   },
   "outputs": [
    {
     "name": "stdout",
     "output_type": "stream",
     "text": [
      "Wall time: 0 ns\n"
     ]
    }
   ],
   "source": [
    "%%time\n",
    "\n",
    "spider = Spider_nasdaq()\n",
    "timeframe = '10y'\n",
    "ignore = True\n",
    "\n",
    "for symbol in NASDAQ100:\n",
    "# for symbol in ['NDX']:\n",
    "#     if symbol == 'AMZN':\n",
    "#         ignore = False\n",
    "#     if ignore:\n",
    "#         continue\n",
    "#     datafile = spider.get_stock_data(symbol, timeframe)\n",
    "#     print(datafile)\n",
    "    pass"
   ]
  },
  {
   "cell_type": "code",
   "execution_count": 3,
   "metadata": {},
   "outputs": [
    {
     "name": "stdout",
     "output_type": "stream",
     "text": [
      "Wall time: 0 ns\n"
     ]
    }
   ],
   "source": [
    "%%time\n",
    "\n",
    "### 业务设置\n",
    "\n",
    "start_date = '2008-06-02'\n",
    "start_date = '2015-01-01'\n",
    "# start_date = '2017-01-03'\n",
    "end_date = '2018-06-06'\n"
   ]
  },
  {
   "cell_type": "code",
   "execution_count": 4,
   "metadata": {},
   "outputs": [
    {
     "name": "stdout",
     "output_type": "stream",
     "text": [
      "Wall time: 19.7 s\n"
     ]
    }
   ],
   "source": [
    "%%time\n",
    "\n",
    "stock_df_dict = {}\n",
    "\n",
    "for symbol in NASDAQ100[:]:\n",
    "    stock_data_file = '../database/market/%s.csv' % symbol\n",
    "    stock_df = pd.read_csv(stock_data_file)\n",
    "\n",
    "    # 筛选字段\n",
    "#     stock_df = stock_df.loc[:, ['date', 'open', 'close']]\n",
    "\n",
    "    # 去掉Nasdaq行情首行的当天行情\n",
    "    if symbol in NASDAQ:\n",
    "        stock_df = stock_df.drop([0])\n",
    "\n",
    "    # 抛弃空值异常值\n",
    "    stock_df.dropna(axis=0, how='any', inplace=True)\n",
    "\n",
    "    # 格式化日期\n",
    "    # 1.48 s ± 45.8 ms per loop (mean ± std. dev. of 7 runs, 1 loop each)\n",
    "#     stock_df['date'] = stock_df['date'].apply(lambda x: pd.Period(x, freq='D'))\n",
    "\n",
    "    # 445 ms ± 17.5 ms per loop (mean ± std. dev. of 7 runs, 1 loop each)\n",
    "    stock_df = stock_df.assign(date=pd.to_datetime(stock_df['date']))  # need .index.to_period('D')\n",
    "\n",
    "    # 476 ms ± 46.6 ms per loop (mean ± std. dev. of 7 runs, 1 loop each)\n",
    "#     stock_df['date'] = pd.to_datetime(stock_df['date'])  # need .index.to_period('D')\n",
    "    \n",
    "    # 转换字段格式\n",
    "#     stock_df = stock_df.astype(dtype={'volume': 'float64'})\n",
    "\n",
    "    # 用日期作索引，日期升序排序\n",
    "    # 95.1 µs ± 1.58 µs per loop (mean ± std. dev. of 7 runs, 10000 loops each)\n",
    "    stock_df = stock_df[::-1]\n",
    "    \n",
    "    # 407 µs ± 5.07 µs per loop (mean ± std. dev. of 7 runs, 1000 loops each)\n",
    "#     %timeit stock_df.set_index(['date'], inplace=False)\n",
    "\n",
    "    # Wall time: 500 µs\n",
    "    stock_df.set_index(['date'], inplace=True)\n",
    "    \n",
    "    # 305 µs ± 2.75 µs per loop (mean ± std. dev. of 7 runs, 1000 loops each)\n",
    "#     stock_df = stock_df.sort_index(axis=0, ascending=True)\n",
    "    \n",
    "    # 822 µs ± 41.3 µs per loop (mean ± std. dev. of 7 runs, 1000 loops each)\n",
    "    stock_df.index = stock_df.index.to_period('D')\n",
    "\n",
    "    # 计算涨跌幅\n",
    "    stock_df['pct_change'] = stock_df.close.pct_change(1)\n",
    "    stock_df['open_pct_change'] = stock_df.open.pct_change(1)\n",
    "    \n",
    "    # Turtle指标\n",
    "    stock_df['TR1'] = abs(stock_df['high'] - stock_df['low'])\n",
    "    stock_df['TR2'] = abs(stock_df['high'] - stock_df['close'].shift())\n",
    "    stock_df['TR3'] = abs(stock_df['low'] - stock_df['close'].shift())\n",
    "    stock_df['TR'] = stock_df[['TR1', 'TR2', 'TR3']].max(axis=1)\n",
    "    stock_df['ATR_20'] = stock_df['TR'].rolling(20).mean()\n",
    "    stock_df['N'] = (0.01 * 10000) / (stock_df['ATR_20'])\n",
    "    \n",
    "    # 减少数据\n",
    "#     stock_df = stock_df['2016-01-01':]\n",
    "    \n",
    "    stock_df_dict[symbol] = stock_df\n",
    "    \n",
    "#     print(stock_df.head(10))\n",
    "#     print(stock_df.dtypes)\n",
    "#     print(stock_df.index[0])\n",
    "#     print(type(stock_df.index[0]))"
   ]
  },
  {
   "cell_type": "code",
   "execution_count": 5,
   "metadata": {},
   "outputs": [],
   "source": [
    "# stock_df_dict.keys()\n",
    "# stock_df_dict['ATVI']"
   ]
  },
  {
   "cell_type": "code",
   "execution_count": 6,
   "metadata": {},
   "outputs": [
    {
     "name": "stdout",
     "output_type": "stream",
     "text": [
      "Wall time: 1 ms\n"
     ]
    }
   ],
   "source": [
    "%%time\n",
    "\n",
    "show_df = None\n",
    "show_df = stock_df_dict['NDX'].copy()"
   ]
  },
  {
   "cell_type": "code",
   "execution_count": 7,
   "metadata": {
    "scrolled": false
   },
   "outputs": [
    {
     "name": "stdout",
     "output_type": "stream",
     "text": [
      "4922.232599999981 0 136798.91759999978\n",
      "NDX 4258.603 7287.053000000001 1.7111369620507009\n",
      "Wall time: 9min 33s\n"
     ]
    }
   ],
   "source": [
    "%%time\n",
    "\n",
    "### Turtle\n",
    "TURTLE_POS = 20\n",
    "TURTLE_BUY_N = 60\n",
    "TURTLE_SELL_N = 60\n",
    "\n",
    "is_happy_money = False\n",
    "START_MONEY = 100000\n",
    "HAPPY_MONEY = 0\n",
    "PROPERTY = START_MONEY\n",
    "CASH = START_MONEY\n",
    "hold = []\n",
    "order_df = pd.DataFrame(columns=['buy_date', 'symbol', 'buy_count', 'buy_price', 'sell_date', 'sell_price', 'profit', 'cash', 'property'])\n",
    "count_day = 0\n",
    "yesterday = None\n",
    "\n",
    "# show_df['CASH_T'] = pd.np.nan\n",
    "# show_df['PROPERTY_T'] = pd.np.nan\n",
    "\n",
    "rolling_min_dict = {}\n",
    "rolling_max_dict = {}\n",
    "\n",
    "for symbol in NASDAQ100:\n",
    "    rolling_min_dict[symbol] = stock_df_dict[symbol].loc[:, 'open'].rolling(TURTLE_SELL_N).min()\n",
    "    rolling_max_dict[symbol] = stock_df_dict[symbol].loc[:, 'open'].rolling(TURTLE_BUY_N).max()\n",
    "    \n",
    "\n",
    "for today in pd.period_range(start=start_date, end=end_date, freq='D'):\n",
    "# for today in stock_df_dict['NDX'].index:\n",
    "    count_day += 1\n",
    "    \n",
    "    if yesterday is None:\n",
    "        yesterday = today\n",
    "        continue\n",
    "\n",
    "    if today not in stock_df_dict['NDX'].index:\n",
    "        continue\n",
    "\n",
    "    if is_happy_money:        \n",
    "        if PROPERTY > 100000 * 2:\n",
    "            hold = []\n",
    "            HAPPY_MONEY += 50000\n",
    "            PROPERTY -= 50000\n",
    "            CASH = PROPERTY\n",
    "    \n",
    "    for idx in order_df.index:\n",
    "        order = order_df.iloc[idx]\n",
    "        \n",
    "        if order['sell_price'] != 0:\n",
    "            continue\n",
    "        \n",
    "        is_sell = (stock_df_dict[order['symbol']].loc[today, 'open'] == rolling_min_dict[order['symbol']].loc[today])\n",
    "#         is_sell = False\n",
    "        \n",
    "        if is_sell:\n",
    "            CASH += stock_df_dict[order['symbol']].loc[today, 'open'] * order['buy_count']\n",
    "#             print('%s 售出 SELL %s * %d @ %f CASH=%d PROPERTY=%d' \n",
    "#                   % (today, order['symbol'], order['buy_count'], stock_df_dict[order[1]].loc[today, 'open'], CASH, PROPERTY))\n",
    "            order_df.loc[idx, 'sell_date'] = today\n",
    "            order_df.loc[idx, 'sell_price'] = stock_df_dict[order[1]].loc[today, 'open']\n",
    "            order_df.loc[idx, 'profit'] = (order_df.loc[idx, 'sell_price'] - order_df.loc[idx, 'buy_price']) * order_df.loc[idx, 'buy_count']\n",
    "    \n",
    "    for symbol in NASDAQ100:\n",
    "        if symbol == 'NDX':\n",
    "            continue\n",
    "        \n",
    "        if today not in stock_df_dict[symbol].index:\n",
    "            continue\n",
    "        \n",
    "        if count_day < TURTLE_BUY_N:\n",
    "            is_buy = False\n",
    "        else:\n",
    "            is_buy = (stock_df_dict[symbol].loc[today, 'open'] == rolling_max_dict[symbol].loc[today])\n",
    "#             is_buy = (stock_df_dict[symbol].loc[yesterday, 'close'] == (stock_df_dict[symbol].loc[:, 'close'].rolling(N).max()).loc[yesterday])\n",
    "        \n",
    "        if is_buy:\n",
    "            if CASH < START_MONEY / TURTLE_POS:\n",
    "                continue\n",
    "            buy = int(START_MONEY / TURTLE_POS / stock_df_dict[symbol].loc[today, 'open'])\n",
    "            buy = 1\n",
    "            if buy == 0:\n",
    "                continue\n",
    "            CASH -= stock_df_dict[symbol].loc[today, 'open'] * buy\n",
    "#             print('%s 进场 BUY  %s * %d @ %f CASH=%d PROPERTY=%d' % \n",
    "#                   (today, symbol, buy, stock_df_dict[symbol].loc[today, 'open'], CASH, PROPERTY))\n",
    "            order_df = order_df.append(\n",
    "                {\n",
    "                    'buy_date': today,\n",
    "                    'symbol': symbol,\n",
    "                    'buy_count': buy,\n",
    "                    'buy_price': stock_df_dict[symbol].loc[today, 'open'],\n",
    "                    'sell_date': pd.np.nan,\n",
    "                    'sell_price': 0,\n",
    "                    'profit': 0,\n",
    "                    'cash': CASH,\n",
    "                    'property': PROPERTY,\n",
    "                },\n",
    "                ignore_index=True\n",
    "            )\n",
    "            \n",
    "    \n",
    "    show_df.loc[today, 'CASH_TURTLE_%d_%d_%d' % (TURTLE_POS, TURTLE_BUY_N, TURTLE_SELL_N)] = CASH\n",
    "    PROPERTY = CASH + sum([stock_df_dict[order_df.loc[idx, 'symbol']].loc[today, 'open'] * order_df.loc[idx, 'buy_count'] for idx in order_df.loc[order_df['sell_price']==0].index])\n",
    "    show_df.loc[today, 'PROPERTY_TURTLE_%d_%d_%d' % (TURTLE_POS, TURTLE_BUY_N, TURTLE_SELL_N)] = PROPERTY\n",
    "\n",
    "    yesterday = today\n",
    "            \n",
    "\n",
    "print(CASH, HAPPY_MONEY, PROPERTY)\n",
    "\n",
    "s_p = stock_df_dict['NDX'][start_date:].iloc[0].open\n",
    "e_p = stock_df_dict['NDX'].iloc[-1].open\n",
    "print('NDX', s_p, e_p, e_p / s_p)\n"
   ]
  },
  {
   "cell_type": "code",
   "execution_count": 8,
   "metadata": {
    "scrolled": false
   },
   "outputs": [
    {
     "data": {
      "text/plain": [
       "'ALL'"
      ]
     },
     "execution_count": 8,
     "metadata": {},
     "output_type": "execute_result"
    },
    {
     "data": {
      "text/plain": [
       "('len(order_df)', 4498)"
      ]
     },
     "execution_count": 8,
     "metadata": {},
     "output_type": "execute_result"
    },
    {
     "data": {
      "text/plain": [
       "('sum_profit', 5322.886999999961)"
      ]
     },
     "execution_count": 8,
     "metadata": {},
     "output_type": "execute_result"
    },
    {
     "data": {
      "text/plain": [
       "('sum_tax', 0)"
      ]
     },
     "execution_count": 8,
     "metadata": {},
     "output_type": "execute_result"
    },
    {
     "data": {
      "text/plain": [
       "('win rate', 0.41161290322580646)"
      ]
     },
     "execution_count": 8,
     "metadata": {},
     "output_type": "execute_result"
    },
    {
     "data": {
      "text/plain": [
       "('REWARD', 1.0051995268614182)"
      ]
     },
     "execution_count": 8,
     "metadata": {},
     "output_type": "execute_result"
    }
   ],
   "source": [
    "'ALL'\n",
    "'len(order_df)', len(order_df)\n",
    "sum_profit = sum(list(order_df['profit']))\n",
    "'sum_profit', sum_profit\n",
    "# sum_tax = sum(list(order_df_TB['tax']))\n",
    "sum_tax = 0\n",
    "'sum_tax', sum_tax\n",
    "'win rate', len(order_df[order_df.profit > 0]) / len(order_df[order_df.profit != 0])\n",
    "'REWARD', ((sum_profit - sum_tax) / START_MONEY + 1) ** 0.1\n",
    "\n",
    "# order_df\n",
    "# order_df.loc[order_df['sell_price']==0]\n",
    "\n",
    "calc_df = order_df.copy()\n",
    "calc_df['profit_pct'] = calc_df['profit'] / (calc_df['buy_count'] * calc_df['buy_price'])\n",
    "# calc_df\n",
    "\n",
    "# csv_file = 'E:/Dev/result/T_TURTLE_POS%d_TURTLE_BUY_N%d_TURTLE_SELL_N%d_START_MONEY%d_%s_%s.csv' % \\\n",
    "#     (TURTLE_POS, TURTLE_BUY_N, TURTLE_SELL_N, START_MONEY, start_date, end_date)\n",
    "# calc_df.to_csv(csv_file)"
   ]
  },
  {
   "cell_type": "code",
   "execution_count": 9,
   "metadata": {
    "scrolled": false
   },
   "outputs": [],
   "source": [
    "# %%time\n",
    "\n",
    "# ### Turtle + BT\n",
    "# TURTLE_POS = 20\n",
    "# TURTLE_BUY_N = 60\n",
    "# TURTLE_SELL_N = 60\n",
    "\n",
    "# tax = 6.95\n",
    "# tax = 0\n",
    "# is_happy_money = False\n",
    "# START_MONEY = 10000\n",
    "# HAPPY_MONEY = 0\n",
    "# PROPERTY = START_MONEY\n",
    "# CASH = START_MONEY\n",
    "# hold = []\n",
    "# order_df_TB = pd.DataFrame(\n",
    "#     columns=['buy_date', 'strategy', 'symbol', 'buy_count', 'buy_price', 'expect', 'sell_date', 'sell_price', 'profit', 'tax', 'cash', 'property']\n",
    "# )\n",
    "# count_day = 0\n",
    "# yesterday = None\n",
    "\n",
    "# # show_df['CASH_T'] = pd.np.nan\n",
    "# # show_df['PROPERTY_T'] = pd.np.nan\n",
    "\n",
    "# rolling_min_dict = {}\n",
    "# rolling_max_dict = {}\n",
    "\n",
    "# for symbol in NASDAQ100:\n",
    "#     rolling_min_dict[symbol] = stock_df_dict[symbol].loc[:, 'open'].rolling(TURTLE_SELL_N).min()\n",
    "#     rolling_max_dict[symbol] = stock_df_dict[symbol].loc[:, 'open'].rolling(TURTLE_BUY_N).max()\n",
    "    \n",
    "\n",
    "# for today in pd.period_range(start=start_date, end=end_date, freq='D'):\n",
    "# # for today in stock_df_dict['NDX'].index:\n",
    "#     count_day += 1\n",
    "    \n",
    "#     if yesterday is None:\n",
    "#         yesterday = today\n",
    "#         continue\n",
    "\n",
    "#     if today not in stock_df_dict['NDX'].index:\n",
    "#         continue\n",
    "\n",
    "#     if is_happy_money:        \n",
    "#         if PROPERTY > 100000 * 2:\n",
    "#             hold = []\n",
    "#             HAPPY_MONEY += 50000\n",
    "#             PROPERTY -= 50000\n",
    "#             CASH = PROPERTY\n",
    "    \n",
    "#     for idx in order_df_TB.index:\n",
    "#         order = order_df_TB.iloc[idx]\n",
    "        \n",
    "#         if order['sell_price'] != 0:\n",
    "#             continue\n",
    "        \n",
    "#         if order['strategy'] == 'TURTLE':\n",
    "#             is_sell = stock_df_dict[order['symbol']].loc[today, 'open'] == rolling_min_dict[order['symbol']].loc[today]\n",
    "#         elif order['strategy'] == 'BT':\n",
    "#             is_sell = stock_df_dict[order['symbol']].loc[today, 'open'] > order['expect']\n",
    "#             is_sell = is_sell or stock_df_dict[order['symbol']].loc[today, 'open'] / order['buy_price'] < 0.8\n",
    "#             is_sell = is_sell or today - order['buy_date'] > 30\n",
    "        \n",
    "#         if is_sell:\n",
    "#             CASH += stock_df_dict[order['symbol']].loc[today, 'open'] * order['buy_count'] - tax\n",
    "# #             print('%s 售出 %s SELL %s * %d @ %f CASH=%d PROPERTY=%d' \n",
    "# #                   % (today, order['strategy'], order['symbol'], order['buy_count'], stock_df_dict[order['symbol']].loc[today, 'open'], CASH, PROPERTY))\n",
    "#             order_df_TB.loc[idx, 'sell_date'] = today\n",
    "#             order_df_TB.loc[idx, 'sell_price'] = stock_df_dict[order['symbol']].loc[today, 'open']\n",
    "#             order_df_TB.loc[idx, 'profit'] = (order_df_TB.loc[idx, 'sell_price'] - order_df_TB.loc[idx, 'buy_price']) * order_df_TB.loc[idx, 'buy_count']\n",
    "#             order_df_TB.loc[idx, 'tax'] = order_df_TB.loc[idx, 'tax'] + tax\n",
    "    \n",
    "#     for symbol in NASDAQ100:\n",
    "#         if symbol == 'NDX':\n",
    "#             continue\n",
    "        \n",
    "#         if today not in stock_df_dict[symbol].index:\n",
    "#             continue\n",
    "        \n",
    "#         if count_day < TURTLE_BUY_N:\n",
    "#             continue\n",
    "        \n",
    "#         is_buy = False\n",
    "        \n",
    "#         if not is_buy:\n",
    "#             is_buy = (stock_df_dict[symbol].loc[today, 'open'] == rolling_max_dict[symbol].loc[today])\n",
    "#             if is_buy:\n",
    "#                 strategy = 'TURTLE'\n",
    "\n",
    "#         if not is_buy:\n",
    "#             is_buy = (stock_df_dict[symbol].loc[today, 'open_pct_change'] < -0.05)\n",
    "#             if is_buy:\n",
    "#                 strategy = 'BT'\n",
    "        \n",
    "#         if is_buy:\n",
    "#             if CASH < START_MONEY / TURTLE_POS:\n",
    "#                 continue\n",
    "#             buy = int(START_MONEY / TURTLE_POS / stock_df_dict[symbol].loc[today, 'open'])\n",
    "#             buy = 1\n",
    "#             if buy == 0:\n",
    "#                 continue\n",
    "#             CASH -= stock_df_dict[symbol].loc[today, 'open'] * buy + tax\n",
    "# #             print('%s 进场 %s BUY %s * %d @ %f CASH=%d PROPERTY=%d' % \n",
    "# #                   (today, strategy, symbol, buy, stock_df_dict[symbol].loc[today, 'open'], CASH, PROPERTY))\n",
    "#             order_df_TB = order_df_TB.append(\n",
    "#                 {\n",
    "#                     'buy_date': today,\n",
    "#                     'strategy': strategy,\n",
    "#                     'symbol': symbol,\n",
    "#                     'buy_count': buy,\n",
    "#                     'buy_price': stock_df_dict[symbol].loc[today, 'open'],\n",
    "#                     'expect': stock_df_dict[symbol].loc[yesterday, 'open'],\n",
    "#                     'sell_date': pd.np.nan,\n",
    "#                     'sell_price': 0,\n",
    "#                     'cash': CASH,\n",
    "#                     'profit': 0,\n",
    "#                     'tax': tax,\n",
    "#                     'property': PROPERTY,\n",
    "#                 },\n",
    "#                 ignore_index=True\n",
    "#             )\n",
    "            \n",
    "#     show_df.loc[today, 'CASH_T+B_%d_%d_%d' % (TURTLE_POS, TURTLE_BUY_N, TURTLE_SELL_N)] = CASH\n",
    "#     PROPERTY = CASH + \\\n",
    "#         sum([stock_df_dict[order_df_TB.loc[idx, 'symbol']].loc[today, 'open'] * order_df_TB.loc[idx, 'buy_count'] for idx in order_df_TB.loc[order_df_TB['sell_price']==0].index])\n",
    "#     show_df.loc[today, 'PROPERTY_T+B_%d_%d_%d' % (TURTLE_POS, TURTLE_BUY_N, TURTLE_SELL_N)] = PROPERTY\n",
    "\n",
    "#     yesterday = today\n",
    "            \n",
    "\n",
    "# print(CASH)\n",
    "# print(HAPPY_MONEY)\n",
    "# print(PROPERTY)\n",
    "# print(hold)\n",
    "\n",
    "# s_p = stock_df_dict['NDX'][start_date:].iloc[0].open\n",
    "# e_p = stock_df_dict['NDX'].iloc[-1].open\n",
    "# print('NDX', s_p, e_p, e_p / s_p)\n"
   ]
  },
  {
   "cell_type": "code",
   "execution_count": 10,
   "metadata": {
    "scrolled": false
   },
   "outputs": [],
   "source": [
    "# turtle_df = order_df_TB.loc[order_df_TB['strategy']=='TURTLE']\n",
    "# bt_df = order_df_TB.loc[order_df_TB['strategy']=='BT']\n",
    "\n",
    "# 'ALL'\n",
    "# 'len(order_df_TB)', len(order_df_TB)\n",
    "# sum_profit = sum(list(order_df_TB['profit']))\n",
    "# 'sum_profit', sum_profit\n",
    "# sum_tax = sum(list(order_df_TB['tax']))\n",
    "# 'sum_tax', sum_tax\n",
    "# 'win rate', len(order_df_TB[order_df_TB.profit > 0]) / len(order_df_TB[order_df_TB.profit != 0])\n",
    "# 'IRR', ((sum_profit - sum_tax) / START_MONEY + 1) ** (365 / (pd.to_datetime(end_date) - pd.to_datetime(start_date)).days)\n",
    "\n",
    "# '----------------------------'\n",
    "\n",
    "# 'TURTLE'\n",
    "# 'len(turtle_df)', len(turtle_df)\n",
    "# 'sum_profit turtle', sum(list(turtle_df['profit']))\n",
    "# 'win rate', len(turtle_df[turtle_df.profit > 0]) / len(turtle_df[turtle_df.profit != 0])\n",
    "\n",
    "# '----------------------------'\n",
    "\n",
    "# 'BT'\n",
    "# 'len(bt_df)', len(bt_df)\n",
    "# 'sum_profit bt', sum(list(bt_df['profit']))\n",
    "# 'win rate', len(bt_df[bt_df.profit > 0]) / len(bt_df[bt_df.profit != 0])\n",
    "\n",
    "\n",
    "# calc_df = order_df_TB.copy()\n",
    "# calc_df['profit_pct'] = calc_df['profit'] / (calc_df['buy_count'] * calc_df['buy_price'])\n",
    "# # calc_df\n",
    "\n",
    "# # csv_file = 'E:/Dev/result/TB_TURTLE_POS%d_TURTLE_BUY_N%d_TURTLE_SELL_N%d_START_MONEY%d_%s_%s.csv' % \\\n",
    "# #     (TURTLE_POS, TURTLE_BUY_N, TURTLE_SELL_N, START_MONEY, start_date, end_date)\n",
    "# # calc_df.to_csv(csv_file)"
   ]
  },
  {
   "cell_type": "code",
   "execution_count": 11,
   "metadata": {},
   "outputs": [
    {
     "name": "stdout",
     "output_type": "stream",
     "text": [
      "4989.8326000000625\n",
      "0\n",
      "118675.20880000002\n",
      "[]\n",
      "NDX 4258.603 7287.053000000001 1.7111369620507009\n",
      "Wall time: 10min 20s\n"
     ]
    }
   ],
   "source": [
    "%%time\n",
    "\n",
    "### Turtle + BT with futu tax\n",
    "'''\n",
    "futu\n",
    "套餐一：按股收费 · 适合小额交易者\n",
    "类型\t费用\t收费方\n",
    "佣金\t每股0.0049 美元，每笔订单最低0.99 美元\t富途证券\n",
    "平台使用费\t每股0.005 美元，每笔订单最低1 美元\t富途证券\n",
    "交收费\t每股0.003 美元\t美国结算机构\n",
    "'''\n",
    "\n",
    "TURTLE_POS = 20\n",
    "TURTLE_BUY_N = 60\n",
    "TURTLE_SELL_N = 60\n",
    "\n",
    "is_happy_money = False\n",
    "START_MONEY = 100000\n",
    "HAPPY_MONEY = 0\n",
    "PROPERTY = START_MONEY\n",
    "CASH = START_MONEY\n",
    "hold = []\n",
    "order_df_TB = pd.DataFrame(\n",
    "    columns=['buy_date', 'strategy', 'symbol', 'buy_count', 'buy_price', 'expect', 'sell_date', 'sell_price', 'profit', 'tax', 'cash', 'property']\n",
    ")\n",
    "count_day = 0\n",
    "yesterday = None\n",
    "\n",
    "# show_df['CASH_T'] = pd.np.nan\n",
    "# show_df['PROPERTY_T'] = pd.np.nan\n",
    "\n",
    "rolling_min_dict = {}\n",
    "rolling_max_dict = {}\n",
    "\n",
    "for symbol in NASDAQ100:\n",
    "    rolling_min_dict[symbol] = stock_df_dict[symbol].loc[:, 'open'].rolling(TURTLE_SELL_N).min()\n",
    "    rolling_max_dict[symbol] = stock_df_dict[symbol].loc[:, 'open'].rolling(TURTLE_BUY_N).max()\n",
    "    \n",
    "\n",
    "for today in pd.period_range(start=start_date, end=end_date, freq='D'):\n",
    "# for today in stock_df_dict['NDX'].index:\n",
    "    count_day += 1\n",
    "    \n",
    "    if yesterday is None:\n",
    "        yesterday = today\n",
    "        continue\n",
    "\n",
    "    if today not in stock_df_dict['NDX'].index:\n",
    "        continue\n",
    "\n",
    "    if is_happy_money:        \n",
    "        if PROPERTY > 100000 * 2:\n",
    "            hold = []\n",
    "            HAPPY_MONEY += 50000\n",
    "            PROPERTY -= 50000\n",
    "            CASH = PROPERTY\n",
    "    \n",
    "    for idx in order_df_TB.index:\n",
    "        order = order_df_TB.iloc[idx]\n",
    "        \n",
    "        if order['sell_price'] != 0:\n",
    "            continue\n",
    "        \n",
    "        if order['strategy'] == 'TURTLE':\n",
    "            is_sell = stock_df_dict[order['symbol']].loc[today, 'open'] == rolling_min_dict[order['symbol']].loc[today]\n",
    "        elif order['strategy'] == 'BT':\n",
    "            is_sell = stock_df_dict[order['symbol']].loc[today, 'open'] > order['expect']\n",
    "            is_sell = is_sell or stock_df_dict[order['symbol']].loc[today, 'open'] / order['buy_price'] < 0.8\n",
    "            is_sell = is_sell or today - order['buy_date'] > 30\n",
    "        \n",
    "        if is_sell:\n",
    "            tax = max(0.0049 * order_df_TB.loc[idx, 'buy_count'], 0.99) + max(0.005 * order_df_TB.loc[idx, 'buy_count'], 1) + 0.003 * order_df_TB.loc[idx, 'buy_count']\n",
    "            CASH += stock_df_dict[order['symbol']].loc[today, 'open'] * order['buy_count'] - tax\n",
    "#             print('%s 售出 %s SELL %s * %d @ %f CASH=%d PROPERTY=%d' \n",
    "#                   % (today, order['strategy'], order['symbol'], order['buy_count'], stock_df_dict[order['symbol']].loc[today, 'open'], CASH, PROPERTY))\n",
    "            order_df_TB.loc[idx, 'sell_date'] = today\n",
    "            order_df_TB.loc[idx, 'sell_price'] = stock_df_dict[order['symbol']].loc[today, 'open']\n",
    "            order_df_TB.loc[idx, 'profit'] = (order_df_TB.loc[idx, 'sell_price'] - order_df_TB.loc[idx, 'buy_price']) * order_df_TB.loc[idx, 'buy_count']\n",
    "            order_df_TB.loc[idx, 'tax'] = order_df_TB.loc[idx, 'tax'] + tax\n",
    "    \n",
    "    for symbol in NASDAQ100:\n",
    "        if symbol == 'NDX':\n",
    "            continue\n",
    "        \n",
    "        if today not in stock_df_dict[symbol].index:\n",
    "            continue\n",
    "        \n",
    "        if count_day < TURTLE_BUY_N:\n",
    "            continue\n",
    "        \n",
    "        is_buy = False\n",
    "        \n",
    "        if not is_buy:\n",
    "            is_buy = (stock_df_dict[symbol].loc[today, 'open'] == rolling_max_dict[symbol].loc[today])\n",
    "            if is_buy:\n",
    "                strategy = 'TURTLE'\n",
    "        \n",
    "        if not is_buy:\n",
    "            is_buy = (stock_df_dict[symbol].loc[today, 'open_pct_change'] < -0.05)\n",
    "            if is_buy:\n",
    "                strategy = 'BT'\n",
    "        \n",
    "        if is_buy:\n",
    "            if CASH < START_MONEY / TURTLE_POS:\n",
    "                continue\n",
    "            buy = int(START_MONEY / TURTLE_POS / stock_df_dict[symbol].loc[today, 'open'])\n",
    "            buy = 1\n",
    "            if buy == 0:\n",
    "                continue\n",
    "            tax = max(0.0049 * buy, 0.99) + max(0.005 * buy, 1) + 0.003 * buy\n",
    "            CASH -= stock_df_dict[symbol].loc[today, 'open'] * buy + tax\n",
    "#             print('%s 进场 %s BUY %s * %d @ %f CASH=%d PROPERTY=%d' % \n",
    "#                   (today, strategy, symbol, buy, stock_df_dict[symbol].loc[today, 'open'], CASH, PROPERTY))\n",
    "            order_df_TB = order_df_TB.append(\n",
    "                {\n",
    "                    'buy_date': today,\n",
    "                    'strategy': strategy,\n",
    "                    'symbol': symbol,\n",
    "                    'buy_count': buy,\n",
    "                    'buy_price': stock_df_dict[symbol].loc[today, 'open'],\n",
    "                    'expect': stock_df_dict[symbol].loc[yesterday, 'open'],\n",
    "                    'sell_date': pd.np.nan,\n",
    "                    'sell_price': 0,\n",
    "                    'cash': CASH,\n",
    "                    'profit': 0,\n",
    "                    'tax': tax,\n",
    "                    'property': PROPERTY,\n",
    "                },\n",
    "                ignore_index=True\n",
    "            )\n",
    "            \n",
    "    show_df.loc[today, 'CASH_T+B+FUTU_%d_%d_%d' % (TURTLE_POS, TURTLE_BUY_N, TURTLE_SELL_N)] = CASH\n",
    "    PROPERTY = CASH + \\\n",
    "        sum([stock_df_dict[order_df_TB.loc[idx, 'symbol']].loc[today, 'open'] * order_df_TB.loc[idx, 'buy_count'] for idx in order_df_TB.loc[order_df_TB['sell_price']==0].index])\n",
    "    show_df.loc[today, 'PROPERTY_T+B+FUTU_%d_%d_%d' % (TURTLE_POS, TURTLE_BUY_N, TURTLE_SELL_N)] = PROPERTY\n",
    "\n",
    "    yesterday = today\n",
    "            \n",
    "\n",
    "print(CASH)\n",
    "print(HAPPY_MONEY)\n",
    "print(PROPERTY)\n",
    "print(hold)\n",
    "\n",
    "s_p = stock_df_dict['NDX'][start_date:].iloc[0].open\n",
    "e_p = stock_df_dict['NDX'].iloc[-1].open\n",
    "print('NDX', s_p, e_p, e_p / s_p)\n"
   ]
  },
  {
   "cell_type": "code",
   "execution_count": 12,
   "metadata": {
    "scrolled": false
   },
   "outputs": [
    {
     "data": {
      "text/plain": [
       "'ALL'"
      ]
     },
     "execution_count": 12,
     "metadata": {},
     "output_type": "execute_result"
    },
    {
     "data": {
      "text/plain": [
       "('len(order_df_TB)', 4922)"
      ]
     },
     "execution_count": 12,
     "metadata": {},
     "output_type": "execute_result"
    },
    {
     "data": {
      "text/plain": [
       "('sum_profit', 8308.28449999998)"
      ]
     },
     "execution_count": 12,
     "metadata": {},
     "output_type": "execute_result"
    },
    {
     "data": {
      "text/plain": [
       "('sum_tax', 18594.690000001305)"
      ]
     },
     "execution_count": 12,
     "metadata": {},
     "output_type": "execute_result"
    },
    {
     "data": {
      "text/plain": [
       "('win rate', 0.4628999319264806)"
      ]
     },
     "execution_count": 12,
     "metadata": {},
     "output_type": "execute_result"
    },
    {
     "data": {
      "text/plain": [
       "('IRR', 0.9688501273154141)"
      ]
     },
     "execution_count": 12,
     "metadata": {},
     "output_type": "execute_result"
    },
    {
     "data": {
      "text/plain": [
       "'----------------------------'"
      ]
     },
     "execution_count": 12,
     "metadata": {},
     "output_type": "execute_result"
    },
    {
     "data": {
      "text/plain": [
       "'TURTLE'"
      ]
     },
     "execution_count": 12,
     "metadata": {},
     "output_type": "execute_result"
    },
    {
     "data": {
      "text/plain": [
       "('len(turtle_df)', 4110)"
      ]
     },
     "execution_count": 12,
     "metadata": {},
     "output_type": "execute_result"
    },
    {
     "data": {
      "text/plain": [
       "('sum_profit turtle', 4603.162899999971)"
      ]
     },
     "execution_count": 12,
     "metadata": {},
     "output_type": "execute_result"
    },
    {
     "data": {
      "text/plain": [
       "('win rate', 0.4051054384017758)"
      ]
     },
     "execution_count": 12,
     "metadata": {},
     "output_type": "execute_result"
    },
    {
     "data": {
      "text/plain": [
       "'----------------------------'"
      ]
     },
     "execution_count": 12,
     "metadata": {},
     "output_type": "execute_result"
    },
    {
     "data": {
      "text/plain": [
       "'BT'"
      ]
     },
     "execution_count": 12,
     "metadata": {},
     "output_type": "execute_result"
    },
    {
     "data": {
      "text/plain": [
       "('len(bt_df)', 812)"
      ]
     },
     "execution_count": 12,
     "metadata": {},
     "output_type": "execute_result"
    },
    {
     "data": {
      "text/plain": [
       "('sum_profit bt', 3705.121600000001)"
      ]
     },
     "execution_count": 12,
     "metadata": {},
     "output_type": "execute_result"
    },
    {
     "data": {
      "text/plain": [
       "('win rate', 0.7222914072229141)"
      ]
     },
     "execution_count": 12,
     "metadata": {},
     "output_type": "execute_result"
    }
   ],
   "source": [
    "turtle_df = order_df_TB.loc[order_df_TB['strategy']=='TURTLE']\n",
    "bt_df = order_df_TB.loc[order_df_TB['strategy']=='BT']\n",
    "\n",
    "'ALL'\n",
    "'len(order_df_TB)', len(order_df_TB)\n",
    "sum_profit = sum(list(order_df_TB['profit']))\n",
    "'sum_profit', sum_profit\n",
    "sum_tax = sum(list(order_df_TB['tax']))\n",
    "'sum_tax', sum_tax\n",
    "'win rate', len(order_df_TB[order_df_TB.profit > 0]) / len(order_df_TB[order_df_TB.profit != 0])\n",
    "'IRR', ((sum_profit - sum_tax) / START_MONEY + 1) ** (365 / (pd.to_datetime(end_date) - pd.to_datetime(start_date)).days)\n",
    "\n",
    "'----------------------------'\n",
    "\n",
    "'TURTLE'\n",
    "'len(turtle_df)', len(turtle_df)\n",
    "'sum_profit turtle', sum(list(turtle_df['profit']))\n",
    "'win rate', len(turtle_df[turtle_df.profit > 0]) / len(turtle_df[turtle_df.profit != 0])\n",
    "\n",
    "'----------------------------'\n",
    "\n",
    "'BT'\n",
    "'len(bt_df)', len(bt_df)\n",
    "'sum_profit bt', sum(list(bt_df['profit']))\n",
    "'win rate', len(bt_df[bt_df.profit > 0]) / len(bt_df[bt_df.profit != 0])\n",
    "\n",
    "\n",
    "calc_df = order_df_TB.copy()\n",
    "calc_df['profit_pct'] = calc_df['profit'] / (calc_df['buy_count'] * calc_df['buy_price'])\n",
    "# calc_df\n",
    "\n",
    "# csv_file = 'E:/Dev/result/TB_TURTLE_POS%d_TURTLE_BUY_N%d_TURTLE_SELL_N%d_START_MONEY%d_%s_%s.csv' % \\\n",
    "#     (TURTLE_POS, TURTLE_BUY_N, TURTLE_SELL_N, START_MONEY, start_date, end_date)\n",
    "# calc_df.to_csv(csv_file)"
   ]
  },
  {
   "cell_type": "code",
   "execution_count": 13,
   "metadata": {
    "scrolled": true
   },
   "outputs": [],
   "source": [
    "for symbol, stock_df in stock_df_dict.items():\n",
    "    df = stock_df.loc[start_date:end_date, 'close']\n",
    "#     print(df)\n",
    "    s_p = df.head(1).values\n",
    "    e_p = df.tail(1).values\n",
    "#     print(symbol, s_p, e_p, e_p / s_p)\n"
   ]
  },
  {
   "cell_type": "code",
   "execution_count": 14,
   "metadata": {
    "scrolled": false
   },
   "outputs": [],
   "source": [
    "# pd.set_option('display.max_rows', 1000)\n",
    "# record_df\n",
    "# record_df.loc[record_df['ops']=='SELL'].sort_values(by=['profit'])"
   ]
  },
  {
   "cell_type": "code",
   "execution_count": 15,
   "metadata": {
    "scrolled": false
   },
   "outputs": [],
   "source": [
    "%matplotlib inline\n",
    "\n",
    "import sys\n",
    "import matplotlib\n",
    "import matplotlib.pyplot as plt\n",
    "plt.rcParams['figure.figsize'] = [15, 10]\n",
    "\n",
    "# order_df_TB\n",
    "bar_df = turtle_df.copy()\n",
    "df = bar_df.sort_values(by=['profit'])\n",
    "# df\n",
    "\n",
    "bins = [100 * x for x in range(-200, 800)]\n",
    "# bins\n",
    "\n",
    "cats = pd.cut(df['profit'], bins)\n",
    "# cats\n",
    "\n",
    "def get_stats(group):\n",
    "    return {'count': group.count()}\n",
    "\n",
    "grouped = df['profit'].groupby(cats)\n",
    "bin_counts = grouped.apply(get_stats).unstack()\n",
    "bin_counts.reset_index(inplace=True, drop=False)\n",
    "bin_counts['profit'] = bin_counts['profit'].apply(str)\n",
    "# bin_counts\n",
    "\n",
    "# df['profit'].hist(bins=10)\n",
    "\n",
    "# bin_counts.plot(kind='barh', alpha=0.5, rot=0)\n",
    "\n",
    "# display_charts(bin_counts, kind='bar', x='profit', figsize=(900, 600), logy=True)"
   ]
  },
  {
   "cell_type": "code",
   "execution_count": 16,
   "metadata": {
    "scrolled": false
   },
   "outputs": [
    {
     "data": {
      "text/plain": [
       "Index(['close', 'CASH_TURTLE_20_60_60', 'PROPERTY_TURTLE_20_60_60',\n",
       "       'CASH_T+B+FUTU_20_60_60', 'PROPERTY_T+B+FUTU_20_60_60'],\n",
       "      dtype='object')"
      ]
     },
     "execution_count": 16,
     "metadata": {},
     "output_type": "execute_result"
    },
    {
     "data": {
      "image/png": "[encoded data removed]",
      "text/plain": [
       "<Figure size 1080x720 with 1 Axes>"
      ]
     },
     "metadata": {},
     "output_type": "display_data"
    }
   ],
   "source": [
    "%matplotlib inline\n",
    "\n",
    "import matplotlib\n",
    "import matplotlib.pyplot as plt\n",
    "plt.rcParams['figure.figsize'] = [15, 10]\n",
    "\n",
    "df = show_df.dropna(how='any', inplace=False).copy()\n",
    "df.drop(columns=['open', 'high', 'low', 'volume', 'pct_change', 'open_pct_change', 'TR1', 'TR2', 'TR3', 'TR', 'ATR_20', 'N'], inplace=True)\n",
    "df.columns\n",
    "\n",
    "df['close'] = (df['close'] - df.iloc[0]['close']) / df.iloc[0]['close']\n",
    "ax = df.plot(kind='line', y='close', label='NDX_%.2f' % df.iloc[-1]['close'], linewidth=1, grid=True)\n",
    "# df['PROPERTY_TURTLE'] = (df['PROPERTY_TURTLE'] - df.iloc[0]['PROPERTY_TURTLE']) / df.iloc[0]['PROPERTY_TURTLE']\n",
    "# df['PROPERTY_T+B'] = (df['PROPERTY_T+B'] - df.iloc[0]['PROPERTY_T+B']) / df.iloc[0]['PROPERTY_T+B']\n",
    "\n",
    "for col in sorted(df.columns):\n",
    "    if 'PROPERTY' in col:\n",
    "        df[col] = (df[col] - df.iloc[1][col]) / df.iloc[0][col]\n",
    "        ax = df.plot(kind='line', y=col, secondary_y=False, label='%s_%.2f' % (col, df.iloc[-1][col]), linewidth=1, grid=True, ax=ax)\n",
    "\n",
    "# ax = df.plot(kind='line', y='PROPERTY_TURTLE', secondary_y=False, label='PROPERTY_TURTLE', linewidth=1, ax=ax)\n",
    "# ax = df.plot(kind='line', y='PROPERTY_T+B', secondary_y=False, label='PROPERTY_T+B', linewidth=1, ax=ax)\n",
    "# ax = df.plot(kind='line', y=['close', 'PROPERTY_TURTLE', 'PROPERTY_T+B'], linewidth=1, grid=True)\n",
    "# ax = df.plot(kind='line', y=['CASH_TURTLE', 'CASH_T+B'], secondary_y=True, linewidth=1, ax=ax)\n",
    "# ax = df.plot(kind='line', y=['PROPERTY_TURTLE_5_60_60', 'PROPERTY_TURTLE_10_60_60', 'PROPERTY_TURTLE_30_60_60', 'PROPERTY_TURTLE_50_60_60'], linewidth=1, grid=True, ax=ax)\n",
    "\n",
    "\n",
    "\n",
    "\n",
    "\n",
    "# for symbol, stock_df in stock_df_dict.items():\n",
    "#     df = stock_df.copy()\n",
    "#     df['close'] = (df['close'] - df.head(1)['close'].values) / df.head(1)['close'].values\n",
    "#     ax = df.plot(kind='line', y='close', secondary_y=False, label=symbol, linewidth=0.5, ax=ax)\n",
    "\n",
    "# plt.figure(figsize=(10, 6), dpi=80)\n",
    "# plt.show()\n",
    "\n",
    "# df = df.loc[:, ['close', 'PROPERTY_TURTLE', 'PROPERTY_T+B']]\n",
    "# df\n",
    "# display_charts(df, kind='line', figsize=(900, 600), logy=False)"
   ]
  },
  {
   "cell_type": "code",
   "execution_count": 17,
   "metadata": {
    "scrolled": false
   },
   "outputs": [],
   "source": [
    "pd.set_option('display.max_rows', 1000)\n",
    "tb_df = order_df_TB.loc[:, ['buy_date', 'strategy', 'symbol', 'buy_count', 'profit', 'cash', 'property']]\n",
    "t_df = order_df.loc[:, ['buy_date', 'symbol', 'buy_count', 'profit', 'cash', 'property']]\n",
    "all_order_df = pd.merge(tb_df, t_df, how='outer', on=['buy_date', 'symbol'])\n",
    "# all_order_df.sort_values('buy_date')\n",
    "pd.reset_option('display.max_rows')"
   ]
  },
  {
   "cell_type": "code",
   "execution_count": 18,
   "metadata": {},
   "outputs": [
    {
     "data": {
      "text/plain": [
       "Index(['close', 'CASH_TURTLE_20_60_60', 'PROPERTY_TURTLE_20_60_60',\n",
       "       'CASH_T+B+FUTU_20_60_60', 'PROPERTY_T+B+FUTU_20_60_60'],\n",
       "      dtype='object')"
      ]
     },
     "execution_count": 18,
     "metadata": {},
     "output_type": "execute_result"
    },
    {
     "data": {
      "text/plain": [
       "'max_drawdown'"
      ]
     },
     "execution_count": 18,
     "metadata": {},
     "output_type": "execute_result"
    },
    {
     "data": {
      "text/plain": [
       "-0.16343335689031055"
      ]
     },
     "execution_count": 18,
     "metadata": {},
     "output_type": "execute_result"
    },
    {
     "data": {
      "text/plain": [
       "-0.1626086542379762"
      ]
     },
     "execution_count": 18,
     "metadata": {},
     "output_type": "execute_result"
    },
    {
     "data": {
      "text/plain": [
       "-0.21663696947006708"
      ]
     },
     "execution_count": 18,
     "metadata": {},
     "output_type": "execute_result"
    },
    {
     "data": {
      "text/plain": [
       "'annual_return'"
      ]
     },
     "execution_count": 18,
     "metadata": {},
     "output_type": "execute_result"
    },
    {
     "data": {
      "text/plain": [
       "0.16847948174328375"
      ]
     },
     "execution_count": 18,
     "metadata": {},
     "output_type": "execute_result"
    },
    {
     "data": {
      "text/plain": [
       "0.09581380610091594"
      ]
     },
     "execution_count": 18,
     "metadata": {},
     "output_type": "execute_result"
    },
    {
     "data": {
      "text/plain": [
       "0.05126805091559894"
      ]
     },
     "execution_count": 18,
     "metadata": {},
     "output_type": "execute_result"
    },
    {
     "data": {
      "text/plain": [
       "'annual_volatility'"
      ]
     },
     "execution_count": 18,
     "metadata": {},
     "output_type": "execute_result"
    },
    {
     "data": {
      "text/plain": [
       "0.1371638654003574"
      ]
     },
     "execution_count": 18,
     "metadata": {},
     "output_type": "execute_result"
    },
    {
     "data": {
      "text/plain": [
       "0.14774792566225906"
      ]
     },
     "execution_count": 18,
     "metadata": {},
     "output_type": "execute_result"
    },
    {
     "data": {
      "text/plain": [
       "'alpha'"
      ]
     },
     "execution_count": 18,
     "metadata": {},
     "output_type": "execute_result"
    },
    {
     "data": {
      "text/plain": [
       "0.06667244438559938"
      ]
     },
     "execution_count": 18,
     "metadata": {},
     "output_type": "execute_result"
    },
    {
     "data": {
      "text/plain": [
       "0.022486966454457323"
      ]
     },
     "execution_count": 18,
     "metadata": {},
     "output_type": "execute_result"
    },
    {
     "data": {
      "text/plain": [
       "'beta'"
      ]
     },
     "execution_count": 18,
     "metadata": {},
     "output_type": "execute_result"
    },
    {
     "data": {
      "text/plain": [
       "0.2038811888487456"
      ]
     },
     "execution_count": 18,
     "metadata": {},
     "output_type": "execute_result"
    },
    {
     "data": {
      "text/plain": [
       "0.22853945636502596"
      ]
     },
     "execution_count": 18,
     "metadata": {},
     "output_type": "execute_result"
    },
    {
     "data": {
      "text/plain": [
       "'sharpe_ratio'"
      ]
     },
     "execution_count": 18,
     "metadata": {},
     "output_type": "execute_result"
    },
    {
     "data": {
      "text/plain": [
       "0.7370158746504639"
      ]
     },
     "execution_count": 18,
     "metadata": {},
     "output_type": "execute_result"
    },
    {
     "data": {
      "text/plain": [
       "0.41333447190306144"
      ]
     },
     "execution_count": 18,
     "metadata": {},
     "output_type": "execute_result"
    }
   ],
   "source": [
    "df = show_df[start_date:].dropna(how='any', inplace=False).copy()\n",
    "df.drop(columns=['open', 'high', 'low', 'pct_change', 'open_pct_change', 'volume', 'TR1', 'TR2', 'TR3', 'TR', 'ATR_20', 'N'], inplace=True)\n",
    "df.columns\n",
    "\n",
    "# df.PROPERTY_TURTLE_20_60_60\n",
    "# df['PROPERTY_T+B_20_60_60']\n",
    "\n",
    "df['turtle_pct'] = df.PROPERTY_TURTLE_20_60_60.pct_change()\n",
    "df['tb_pct'] = df['PROPERTY_T+B+FUTU_20_60_60'].pct_change()\n",
    "df['benchmark_pct'] = df.close.pct_change()\n",
    "# emp.cum_returns(df.turtle_pct)\n",
    "# emp.cum_returns(df.tb_pct)\n",
    "# emp.cum_returns(df.benchmark_pct)\n",
    "'max_drawdown'\n",
    "emp.max_drawdown(df.benchmark_pct)\n",
    "emp.max_drawdown(df.turtle_pct)\n",
    "emp.max_drawdown(df.tb_pct)\n",
    "\n",
    "\n",
    "'annual_return'\n",
    "emp.annual_return(df.benchmark_pct)\n",
    "emp.annual_return(df.turtle_pct)\n",
    "emp.annual_return(df.tb_pct)\n",
    "\n",
    "'annual_volatility'\n",
    "emp.annual_volatility(df.turtle_pct, period='daily')\n",
    "emp.annual_volatility(df.tb_pct, period='daily')\n",
    "\n",
    "'alpha'\n",
    "emp.alpha(returns=df.turtle_pct, factor_returns=df.benchmark_pct, risk_free=0.00)\n",
    "emp.alpha(returns=df.tb_pct, factor_returns=df.benchmark_pct, risk_free=0.00)\n",
    "\n",
    "'beta'\n",
    "emp.beta(returns=df.turtle_pct, factor_returns=df.benchmark_pct, risk_free=0.00)\n",
    "emp.beta(returns=df.tb_pct, factor_returns=df.benchmark_pct, risk_free=0.00)\n",
    "# emp.calmar_ratio(df.turtle_pct)\n",
    "\n",
    "'sharpe_ratio'\n",
    "emp.sharpe_ratio(returns=df.turtle_pct)\n",
    "emp.sharpe_ratio(returns=df.tb_pct)"
   ]
  }
 ],
 "metadata": {
  "kernelspec": {
   "display_name": "Python 3",
   "language": "python",
   "name": "python3"
  },
  "language_info": {
   "codemirror_mode": {
    "name": "ipython",
    "version": 3
   },
   "file_extension": ".py",
   "mimetype": "text/x-python",
   "name": "python",
   "nbconvert_exporter": "python",
   "pygments_lexer": "ipython3",
   "version": "3.5.5"
  }
 },
 "nbformat": 4,
 "nbformat_minor": 2
}
