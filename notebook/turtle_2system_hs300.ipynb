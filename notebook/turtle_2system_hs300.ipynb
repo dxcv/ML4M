{
 "cells": [
  {
   "cell_type": "code",
   "execution_count": 1,
   "metadata": {
    "scrolled": false
   },
   "outputs": [
    {
     "data": {
      "text/html": [
       "\n",
       "<script src=\"//code.highcharts.com/stock/highstock.js\"></script>\n",
       "<script src=\"//code.highcharts.com/highcharts-more.js\"></script>\n",
       "<script src=\"//code.highcharts.com/modules/exporting.js\"></script>\n"
      ],
      "text/plain": [
       "<IPython.core.display.HTML object>"
      ]
     },
     "metadata": {},
     "output_type": "display_data"
    },
    {
     "data": {
      "text/plain": [
       "<module 'pandas' from 'd:\\\\python3\\\\lib\\\\site-packages\\\\pandas\\\\__init__.py'>"
      ]
     },
     "execution_count": 1,
     "metadata": {},
     "output_type": "execute_result"
    }
   ],
   "source": [
    "import os\n",
    "import sys\n",
    "sys.path.append(os.path.abspath(os.path.join(os.getcwd(), '..')))\n",
    "\n",
    "import pandas as pd\n",
    "pd.core.common.is_list_like = pd.api.types.is_list_like\n",
    "emp = None\n",
    "import empyrical as emp\n",
    "import tushare as ts\n",
    "import time\n",
    "import random\n",
    "# from concurrent.futures import ProcessPoolExecutor\n",
    "\n",
    "from common.log import *\n",
    "from common.config import Config\n",
    "from spider.spider_nasdaq import Spider_nasdaq\n",
    "\n",
    "from IPython.core.interactiveshell import InteractiveShell\n",
    "InteractiveShell.ast_node_interactivity = 'all'\n",
    "\n",
    "from pandas_highcharts.core import serialize\n",
    "from pandas_highcharts.display import display_charts\n",
    "\n",
    "CONF = Config().data[0]\n",
    "MONGODB = CONF['MONGODB']\n",
    "NASDAQ = CONF['NASDAQ']\n",
    "CRYPTOCURRENCY = CONF['CRYPTOCURRENCY']\n",
    "NASDAQ100 = CONF['NASDAQ100']\n",
    "# NASDAQ100 = ['NDX', 'TSLA', 'NVDA', 'AMZN', 'GOOGL', 'GOOG', 'BIDU', 'FB', 'JD']\n",
    "HS300 = list(ts.get_hs300s()['code']) + ['399300']\n",
    "# print(HS300)\n",
    "BENCHMARK = '399300'\n",
    "\n",
    "pd"
   ]
  },
  {
   "cell_type": "code",
   "execution_count": 2,
   "metadata": {
    "scrolled": false
   },
   "outputs": [
    {
     "name": "stdout",
     "output_type": "stream",
     "text": [
      "../database/market/399300.csv\n",
      "Wall time: 1.8 s\n"
     ]
    }
   ],
   "source": [
    "%%time\n",
    "\n",
    "# for symbol in HS300[:]:\n",
    "for symbol in ['399300']:\n",
    "    df = ts.get_k_data(code=symbol, index=True, start='2005-01-01', end='2018-08-01')\n",
    "#     df = ts.get_k_data(code=symbol, ktype='D', autype='qfq', index=False, start='2008-01-01', end='2018-08-01')\n",
    "#     print(df)\n",
    "    datafile = '../database/market/%s.csv' % symbol\n",
    "    df.to_csv(datafile, index=False, encoding='utf-8')\n",
    "    print(datafile)\n",
    "    time.sleep(1)"
   ]
  },
  {
   "cell_type": "code",
   "execution_count": 3,
   "metadata": {},
   "outputs": [
    {
     "name": "stdout",
     "output_type": "stream",
     "text": [
      "Wall time: 0 ns\n"
     ]
    }
   ],
   "source": [
    "%%time\n",
    "\n",
    "### 时间设置\n",
    "# start_date = '2005-01-01'\n",
    "start_date = '2008-01-01'\n",
    "# start_date = '2009-01-01'\n",
    "# start_date = '2010-01-01'\n",
    "# start_date = '2013-01-01'\n",
    "# start_date = '2014-01-01'\n",
    "# start_date = '2015-01-01'\n",
    "# start_date = '2015-07-01'\n",
    "# start_date = '2016-01-01'\n",
    "# start_date = '2017-01-01'\n",
    "# start_date = '2018-01-01'\n",
    "# end_date = '2016-01-01'\n",
    "end_date = '2018-08-01'\n",
    "\n",
    "TURTLE_POS = 20\n",
    "### Turtle System One - Short\n",
    "TURTLE_SHORT_BUY_N = 20\n",
    "TURTLE_SHORT_SELL_N = 20\n",
    "### Turtle System Two - Long\n",
    "TURTLE_LONG_BUY_N = 60\n",
    "TURTLE_LONG_SELL_N = 30\n",
    "\n",
    "### 业务设置\n",
    "IS_HAPPYMONEY = False\n",
    "IS_TAX = False\n",
    "IS_SLIPPAGE = False\n",
    "IS_RANDOM_BUY = True\n",
    "IS_FILTER = True\n",
    "IS_MARKETUP = False\n",
    "START_MONEY = 100000\n",
    "HAPPY_MONEY = 0\n",
    "PROPERTY = START_MONEY\n",
    "CASH = START_MONEY\n"
   ]
  },
  {
   "cell_type": "code",
   "execution_count": 4,
   "metadata": {},
   "outputs": [
    {
     "name": "stdout",
     "output_type": "stream",
     "text": [
      "Wall time: 16.2 s\n"
     ]
    }
   ],
   "source": [
    "%%time\n",
    "\n",
    "stock_df_dict = {}\n",
    "\n",
    "for symbol in HS300[:]:\n",
    "    stock_data_file = '../database/market/%s.csv' % symbol\n",
    "    stock_df = pd.read_csv(stock_data_file)\n",
    "\n",
    "    # 筛选字段\n",
    "    stock_df = stock_df.loc[:, ['date', 'open', 'close']]\n",
    "#     stock_df = stock_df.loc[:, ['date', 'close']]\n",
    "\n",
    "    # 去掉Nasdaq行情首行的当天行情\n",
    "    if symbol in NASDAQ:\n",
    "        stock_df = stock_df.drop([0])\n",
    "\n",
    "    # 抛弃空值异常值\n",
    "    stock_df.dropna(axis=0, how='any', inplace=True)\n",
    "\n",
    "    # 格式化日期\n",
    "    # 1.48 s ± 45.8 ms per loop (mean ± std. dev. of 7 runs, 1 loop each)\n",
    "#     stock_df['date'] = stock_df['date'].apply(lambda x: pd.Period(x, freq='D'))\n",
    "\n",
    "    # 445 ms ± 17.5 ms per loop (mean ± std. dev. of 7 runs, 1 loop each)\n",
    "    stock_df = stock_df.assign(date=pd.to_datetime(stock_df['date']))  # need .index.to_period('D')\n",
    "\n",
    "    # 476 ms ± 46.6 ms per loop (mean ± std. dev. of 7 runs, 1 loop each)\n",
    "#     stock_df['date'] = pd.to_datetime(stock_df['date'])  # need .index.to_period('D')\n",
    "    \n",
    "    # 转换字段格式\n",
    "#     stock_df = stock_df.astype(dtype={'volume': 'float64'})\n",
    "\n",
    "    # 用日期作索引，日期升序排序\n",
    "    # 95.1 µs ± 1.58 µs per loop (mean ± std. dev. of 7 runs, 10000 loops each)\n",
    "#     stock_df = stock_df[::-1]\n",
    "    \n",
    "    # 407 µs ± 5.07 µs per loop (mean ± std. dev. of 7 runs, 1000 loops each)\n",
    "#     %timeit stock_df.set_index(['date'], inplace=False)\n",
    "\n",
    "    # Wall time: 500 µs\n",
    "    stock_df.set_index(['date'], inplace=True)\n",
    "    \n",
    "    # 305 µs ± 2.75 µs per loop (mean ± std. dev. of 7 runs, 1000 loops each)\n",
    "#     stock_df = stock_df.sort_index(axis=0, ascending=True)\n",
    "    \n",
    "    # 822 µs ± 41.3 µs per loop (mean ± std. dev. of 7 runs, 1000 loops each)\n",
    "    stock_df.index = stock_df.index.to_period('D')\n",
    "\n",
    "    # 计算涨跌幅\n",
    "#     stock_df['c_pct_chg'] = stock_df.close.pct_change(1)\n",
    "    stock_df['o_pct_chg'] = stock_df.open.pct_change(1)\n",
    "    \n",
    "    # Turtle指标\n",
    "#     stock_df['TR1'] = abs(stock_df['high'] - stock_df['low'])\n",
    "#     stock_df['TR2'] = abs(stock_df['high'] - stock_df['close'].shift())\n",
    "#     stock_df['TR3'] = abs(stock_df['low'] - stock_df['close'].shift())\n",
    "#     stock_df['TR'] = stock_df[['TR1', 'TR2', 'TR3']].max(axis=1)\n",
    "#     stock_df['N'] = stock_df['TR'].rolling(20).mean()\n",
    "#     stock_df['UNIT'] = (0.01 * START_MONEY) / (stock_df['N'])\n",
    "    stock_df['ROLLING_%d_MAX' % TURTLE_SHORT_BUY_N] = stock_df['open'].rolling(TURTLE_SHORT_BUY_N).max()\n",
    "    stock_df['ROLLING_%d_MIN' % TURTLE_SHORT_SELL_N] = stock_df['open'].rolling(TURTLE_SHORT_SELL_N).min()\n",
    "    stock_df['ROLLING_%d_MAX' % TURTLE_LONG_BUY_N] = stock_df['open'].rolling(TURTLE_LONG_BUY_N).max()\n",
    "    stock_df['ROLLING_%d_MIN' % TURTLE_LONG_SELL_N] = stock_df['open'].rolling(TURTLE_LONG_SELL_N).min()\n",
    "#     stock_df['MA%d' % TURTLE_BUY_N] = stock_df['open'].rolling(TURTLE_BUY_N).mean()\n",
    "#     stock_df['MA%d' % TURTLE_SELL_N] = stock_df['open'].rolling(TURTLE_SELL_N).mean()\n",
    "#     stock_df['EWMA'] = stock_df['open'].ewm(alpha=0.1, adjust=False).mean()\n",
    "#     stock_df['MA360'] = stock_df['open'].rolling(360).mean()\n",
    "    stock_df['MA180'] = stock_df['open'].rolling(180).mean()\n",
    "    stock_df['MA60'] = stock_df['open'].rolling(60).mean()\n",
    "    stock_df['MA30'] = stock_df['open'].rolling(30).mean()\n",
    "    \n",
    "#     stock_df['ops'] = ''\n",
    "#     stock_df['profit'] = 0\n",
    "    \n",
    "    # 减少数据\n",
    "    # stock_df = stock_df['2016-01-01':]\n",
    "    stock_df.dropna(how='any', inplace=True)\n",
    "#     stock_df.drop(columns=['volume', 'TR1', 'TR2', 'TR3'], inplace=True)\n",
    "    \n",
    "    stock_df_dict[symbol] = stock_df\n",
    "    \n",
    "#     print(stock_df.head(10))\n",
    "#     print(stock_df.dtypes)\n",
    "#     print(stock_df.index[0])\n",
    "#     print(type(stock_df.index[0]))"
   ]
  },
  {
   "cell_type": "code",
   "execution_count": 5,
   "metadata": {},
   "outputs": [
    {
     "data": {
      "text/html": [
       "<div>\n",
       "<style scoped>\n",
       "    .dataframe tbody tr th:only-of-type {\n",
       "        vertical-align: middle;\n",
       "    }\n",
       "\n",
       "    .dataframe tbody tr th {\n",
       "        vertical-align: top;\n",
       "    }\n",
       "\n",
       "    .dataframe thead th {\n",
       "        text-align: right;\n",
       "    }\n",
       "</style>\n",
       "<table border=\"1\" class=\"dataframe\">\n",
       "  <thead>\n",
       "    <tr style=\"text-align: right;\">\n",
       "      <th></th>\n",
       "      <th>open</th>\n",
       "      <th>close</th>\n",
       "      <th>o_pct_chg</th>\n",
       "      <th>ROLLING_20_MAX</th>\n",
       "      <th>ROLLING_20_MIN</th>\n",
       "      <th>ROLLING_60_MAX</th>\n",
       "      <th>ROLLING_30_MIN</th>\n",
       "      <th>MA180</th>\n",
       "      <th>MA60</th>\n",
       "      <th>MA30</th>\n",
       "    </tr>\n",
       "    <tr>\n",
       "      <th>date</th>\n",
       "      <th></th>\n",
       "      <th></th>\n",
       "      <th></th>\n",
       "      <th></th>\n",
       "      <th></th>\n",
       "      <th></th>\n",
       "      <th></th>\n",
       "      <th></th>\n",
       "      <th></th>\n",
       "      <th></th>\n",
       "    </tr>\n",
       "  </thead>\n",
       "  <tbody>\n",
       "    <tr>\n",
       "      <th>2005-12-29</th>\n",
       "      <td>921.14</td>\n",
       "      <td>932.03</td>\n",
       "      <td>0.002274</td>\n",
       "      <td>922.44</td>\n",
       "      <td>858.11</td>\n",
       "      <td>923.43</td>\n",
       "      <td>858.11</td>\n",
       "      <td>900.228556</td>\n",
       "      <td>888.027833</td>\n",
       "      <td>887.838667</td>\n",
       "    </tr>\n",
       "    <tr>\n",
       "      <th>2005-12-30</th>\n",
       "      <td>933.45</td>\n",
       "      <td>923.45</td>\n",
       "      <td>0.013364</td>\n",
       "      <td>933.45</td>\n",
       "      <td>858.11</td>\n",
       "      <td>933.45</td>\n",
       "      <td>858.11</td>\n",
       "      <td>899.944056</td>\n",
       "      <td>888.308833</td>\n",
       "      <td>890.201000</td>\n",
       "    </tr>\n",
       "    <tr>\n",
       "      <th>2006-01-04</th>\n",
       "      <td>926.56</td>\n",
       "      <td>941.43</td>\n",
       "      <td>-0.007381</td>\n",
       "      <td>933.45</td>\n",
       "      <td>858.11</td>\n",
       "      <td>933.45</td>\n",
       "      <td>858.11</td>\n",
       "      <td>899.514500</td>\n",
       "      <td>888.464667</td>\n",
       "      <td>891.660000</td>\n",
       "    </tr>\n",
       "    <tr>\n",
       "      <th>2006-01-05</th>\n",
       "      <td>943.85</td>\n",
       "      <td>959.13</td>\n",
       "      <td>0.018660</td>\n",
       "      <td>943.85</td>\n",
       "      <td>865.72</td>\n",
       "      <td>943.85</td>\n",
       "      <td>858.11</td>\n",
       "      <td>899.237500</td>\n",
       "      <td>889.085000</td>\n",
       "      <td>893.657333</td>\n",
       "    </tr>\n",
       "    <tr>\n",
       "      <th>2006-01-06</th>\n",
       "      <td>961.91</td>\n",
       "      <td>970.03</td>\n",
       "      <td>0.019134</td>\n",
       "      <td>961.91</td>\n",
       "      <td>873.69</td>\n",
       "      <td>961.91</td>\n",
       "      <td>858.11</td>\n",
       "      <td>899.092833</td>\n",
       "      <td>889.776000</td>\n",
       "      <td>896.787333</td>\n",
       "    </tr>\n",
       "  </tbody>\n",
       "</table>\n",
       "</div>"
      ],
      "text/plain": [
       "              open   close  o_pct_chg  ROLLING_20_MAX  ROLLING_20_MIN  \\\n",
       "date                                                                    \n",
       "2005-12-29  921.14  932.03   0.002274          922.44          858.11   \n",
       "2005-12-30  933.45  923.45   0.013364          933.45          858.11   \n",
       "2006-01-04  926.56  941.43  -0.007381          933.45          858.11   \n",
       "2006-01-05  943.85  959.13   0.018660          943.85          865.72   \n",
       "2006-01-06  961.91  970.03   0.019134          961.91          873.69   \n",
       "\n",
       "            ROLLING_60_MAX  ROLLING_30_MIN       MA180        MA60        MA30  \n",
       "date                                                                            \n",
       "2005-12-29          923.43          858.11  900.228556  888.027833  887.838667  \n",
       "2005-12-30          933.45          858.11  899.944056  888.308833  890.201000  \n",
       "2006-01-04          933.45          858.11  899.514500  888.464667  891.660000  \n",
       "2006-01-05          943.85          858.11  899.237500  889.085000  893.657333  \n",
       "2006-01-06          961.91          858.11  899.092833  889.776000  896.787333  "
      ]
     },
     "execution_count": 5,
     "metadata": {},
     "output_type": "execute_result"
    },
    {
     "data": {
      "text/html": [
       "<div>\n",
       "<style scoped>\n",
       "    .dataframe tbody tr th:only-of-type {\n",
       "        vertical-align: middle;\n",
       "    }\n",
       "\n",
       "    .dataframe tbody tr th {\n",
       "        vertical-align: top;\n",
       "    }\n",
       "\n",
       "    .dataframe thead th {\n",
       "        text-align: right;\n",
       "    }\n",
       "</style>\n",
       "<table border=\"1\" class=\"dataframe\">\n",
       "  <thead>\n",
       "    <tr style=\"text-align: right;\">\n",
       "      <th></th>\n",
       "      <th>open</th>\n",
       "      <th>close</th>\n",
       "      <th>o_pct_chg</th>\n",
       "      <th>ROLLING_20_MAX</th>\n",
       "      <th>ROLLING_20_MIN</th>\n",
       "      <th>ROLLING_60_MAX</th>\n",
       "      <th>ROLLING_30_MIN</th>\n",
       "      <th>MA180</th>\n",
       "      <th>MA60</th>\n",
       "      <th>MA30</th>\n",
       "    </tr>\n",
       "    <tr>\n",
       "      <th>date</th>\n",
       "      <th></th>\n",
       "      <th></th>\n",
       "      <th></th>\n",
       "      <th></th>\n",
       "      <th></th>\n",
       "      <th></th>\n",
       "      <th></th>\n",
       "      <th></th>\n",
       "      <th></th>\n",
       "      <th></th>\n",
       "    </tr>\n",
       "  </thead>\n",
       "  <tbody>\n",
       "    <tr>\n",
       "      <th>2018-07-26</th>\n",
       "      <td>3583.32</td>\n",
       "      <td>3536.25</td>\n",
       "      <td>-0.001724</td>\n",
       "      <td>3589.51</td>\n",
       "      <td>3347.06</td>\n",
       "      <td>3925.54</td>\n",
       "      <td>3347.06</td>\n",
       "      <td>3920.750167</td>\n",
       "      <td>3671.989333</td>\n",
       "      <td>3506.776333</td>\n",
       "    </tr>\n",
       "    <tr>\n",
       "      <th>2018-07-27</th>\n",
       "      <td>3533.77</td>\n",
       "      <td>3521.23</td>\n",
       "      <td>-0.013828</td>\n",
       "      <td>3589.51</td>\n",
       "      <td>3347.06</td>\n",
       "      <td>3925.54</td>\n",
       "      <td>3347.06</td>\n",
       "      <td>3918.192833</td>\n",
       "      <td>3668.282667</td>\n",
       "      <td>3498.747333</td>\n",
       "    </tr>\n",
       "    <tr>\n",
       "      <th>2018-07-30</th>\n",
       "      <td>3520.85</td>\n",
       "      <td>3515.08</td>\n",
       "      <td>-0.003656</td>\n",
       "      <td>3589.51</td>\n",
       "      <td>3347.06</td>\n",
       "      <td>3925.54</td>\n",
       "      <td>3347.06</td>\n",
       "      <td>3915.573389</td>\n",
       "      <td>3663.891500</td>\n",
       "      <td>3490.674333</td>\n",
       "    </tr>\n",
       "    <tr>\n",
       "      <th>2018-07-31</th>\n",
       "      <td>3510.47</td>\n",
       "      <td>3517.66</td>\n",
       "      <td>-0.002948</td>\n",
       "      <td>3589.51</td>\n",
       "      <td>3347.06</td>\n",
       "      <td>3925.54</td>\n",
       "      <td>3347.06</td>\n",
       "      <td>3912.913889</td>\n",
       "      <td>3659.357000</td>\n",
       "      <td>3484.267667</td>\n",
       "    </tr>\n",
       "    <tr>\n",
       "      <th>2018-08-01</th>\n",
       "      <td>3530.03</td>\n",
       "      <td>3447.39</td>\n",
       "      <td>0.005572</td>\n",
       "      <td>3589.51</td>\n",
       "      <td>3347.06</td>\n",
       "      <td>3925.54</td>\n",
       "      <td>3347.06</td>\n",
       "      <td>3910.178500</td>\n",
       "      <td>3654.280667</td>\n",
       "      <td>3481.850333</td>\n",
       "    </tr>\n",
       "  </tbody>\n",
       "</table>\n",
       "</div>"
      ],
      "text/plain": [
       "               open    close  o_pct_chg  ROLLING_20_MAX  ROLLING_20_MIN  \\\n",
       "date                                                                      \n",
       "2018-07-26  3583.32  3536.25  -0.001724         3589.51         3347.06   \n",
       "2018-07-27  3533.77  3521.23  -0.013828         3589.51         3347.06   \n",
       "2018-07-30  3520.85  3515.08  -0.003656         3589.51         3347.06   \n",
       "2018-07-31  3510.47  3517.66  -0.002948         3589.51         3347.06   \n",
       "2018-08-01  3530.03  3447.39   0.005572         3589.51         3347.06   \n",
       "\n",
       "            ROLLING_60_MAX  ROLLING_30_MIN        MA180         MA60  \\\n",
       "date                                                                   \n",
       "2018-07-26         3925.54         3347.06  3920.750167  3671.989333   \n",
       "2018-07-27         3925.54         3347.06  3918.192833  3668.282667   \n",
       "2018-07-30         3925.54         3347.06  3915.573389  3663.891500   \n",
       "2018-07-31         3925.54         3347.06  3912.913889  3659.357000   \n",
       "2018-08-01         3925.54         3347.06  3910.178500  3654.280667   \n",
       "\n",
       "                   MA30  \n",
       "date                     \n",
       "2018-07-26  3506.776333  \n",
       "2018-07-27  3498.747333  \n",
       "2018-07-30  3490.674333  \n",
       "2018-07-31  3484.267667  \n",
       "2018-08-01  3481.850333  "
      ]
     },
     "execution_count": 5,
     "metadata": {},
     "output_type": "execute_result"
    }
   ],
   "source": [
    "stock_df_dict[BENCHMARK].head(5)\n",
    "stock_df_dict[BENCHMARK].tail(5)"
   ]
  },
  {
   "cell_type": "code",
   "execution_count": 6,
   "metadata": {
    "scrolled": false
   },
   "outputs": [
    {
     "data": {
      "text/plain": [
       "Index(['open', 'close', 'o_pct_chg', 'ROLLING_20_MAX', 'ROLLING_20_MIN',\n",
       "       'ROLLING_60_MAX', 'ROLLING_30_MIN', 'MA180', 'MA60', 'MA30'],\n",
       "      dtype='object')"
      ]
     },
     "execution_count": 6,
     "metadata": {},
     "output_type": "execute_result"
    }
   ],
   "source": [
    "%matplotlib inline\n",
    "\n",
    "import matplotlib\n",
    "import matplotlib.pyplot as plt\n",
    "plt.rcParams['figure.figsize'] = [30, 20]\n",
    "\n",
    "df = stock_df_dict[BENCHMARK].iloc[:].copy()\n",
    "df.columns\n",
    "# df.tail(10)\n",
    "# df[(df.open == df.ROLLING_60_MAX)]\n",
    "# df[(df.open >= df.rolling_60_max) & (df.MA30 > df.MA60)]\n",
    "# df[(df.MA30 > df.MA60)]\n",
    "\n",
    "# df = df.loc[:, ['open', 'ROLLING_60_MAX', 'rolling_30_min', 'MA60', 'MA30']]\n",
    "\n",
    "df.reset_index(drop=False, inplace=True)\n",
    "df = df.astype(dtype={'date': 'datetime64[ns]'})\n",
    "df.set_index('date', inplace=True)\n",
    "# df.index.astype()\n",
    "\n",
    "# display_charts(df, chart_type='stock', kind='line', y=['open', 'ROLLING_60_MAX', 'ROLLING_60_MIN', 'MA60', 'MA180'], figsize=(900, 600))\n",
    "# display_charts(df, chart_type='stock', kind='line', y=['open', 'ROLLING_60_MAX', 'ROLLING_60_MIN'], figsize=(900, 600))\n",
    "\n",
    "# display_charts(df)\n",
    "\n",
    "# ax = df.plot(kind='line', y=['open', 'rolling_max', 'rolling_min'], label='', linewidth=1)\n",
    "\n",
    "# sum_buy_sig_short = 0\n",
    "# sum_buy_sig_long = 0\n",
    "# for symbol in NASDAQ100:\n",
    "#     tdf = stock_df_dict[symbol]\n",
    "#     buy_sig_short = tdf[(stock_df_dict[symbol].open == stock_df_dict[symbol]['ROLLING_%d_MAX' % TURTLE_SHORT_BUY_N])]\n",
    "#     buy_sig_long = tdf[(stock_df_dict[symbol].open == stock_df_dict[symbol]['ROLLING_%d_MAX' % TURTLE_LONG_BUY_N])]\n",
    "#     buy_sig_short_2 = buy_sig_short[buy_sig_short.MA30 >= buy_sig_short.MA180]\n",
    "#     buy_sig_long_2 = buy_sig_long[buy_sig_long.MA30 >= buy_sig_long.MA180]\n",
    "# #     print(symbol, len(tdf), len(buy_sig_short), len(buy_sig_short_2), len(buy_sig_long), len(buy_sig_long_2))\n",
    "#     sum_buy_sig_short += len(buy_sig_short_2)\n",
    "#     sum_buy_sig_long += len(buy_sig_long_2)\n",
    "# print(len(stock_df_dict['NDX']), sum_buy_sig_short, sum_buy_sig_long)"
   ]
  },
  {
   "cell_type": "code",
   "execution_count": 7,
   "metadata": {
    "scrolled": false
   },
   "outputs": [],
   "source": [
    "# algo = stock_df_dict['TSLA'].open.pct_change()\n",
    "# benchmark = stock_df_dict['NDX'].open.pct_change()\n",
    "\n",
    "# 'cum_returns', emp.cum_returns(algo)[-1]\n",
    "# 'max_drawdown', emp.max_drawdown(algo), emp.max_drawdown(benchmark)\n",
    "# 'annual_return', emp.annual_return(algo), emp.annual_return(benchmark)\n",
    "# 'annual_volatility', emp.annual_volatility(algo, period='daily')\n",
    "# 'calmar_ratio', emp.calmar_ratio(algo)\n",
    "# 'sharpe_ratio', emp.sharpe_ratio(returns=algo)\n",
    "# 'alpha', emp.alpha(returns=algo, factor_returns=benchmark, risk_free=0.00)\n",
    "# 'beta', emp.beta(returns=algo, factor_returns=benchmark, risk_free=0.00)\n",
    "\n",
    "# emp_df = None\n",
    "# emp_df = pd.DataFrame(columns=[\n",
    "#     'symbol', 'cum_returns', 'annual_return', 'annual_volatility', 'max_drawdown', 'alpha', 'beta', 'sharpe_ratio', 'calmar_ratio'\n",
    "# ])\n",
    "\n",
    "# for symbol in NASDAQ100:\n",
    "#     algo = stock_df_dict[symbol].open.pct_change()\n",
    "#     emp_df = emp_df.append(\n",
    "#         {\n",
    "#             'symbol': symbol,\n",
    "#             'cum_returns': emp.cum_returns(algo)[-1],\n",
    "#             'annual_return': emp.annual_return(algo),\n",
    "#             'annual_volatility': emp.annual_volatility(algo, period='daily'),\n",
    "#             'max_drawdown': emp.max_drawdown(algo),\n",
    "#             'alpha': round(emp.alpha(returns=algo, factor_returns=benchmark, risk_free=0.00), 2),\n",
    "#             'beta': round(emp.beta(returns=algo, factor_returns=benchmark, risk_free=0.00), 2),\n",
    "#             'sharpe_ratio': emp.sharpe_ratio(returns=algo),\n",
    "#             'calmar_ratio': emp.calmar_ratio(algo)\n",
    "#         },\n",
    "#         ignore_index=True,\n",
    "#     )\n",
    "\n",
    "# # emp_df\n",
    "# # emp_df.sort_values('cum_returns', ascending=False)\n",
    "# # emp_df.sort_values('sharpe_ratio', ascending=False)"
   ]
  },
  {
   "cell_type": "code",
   "execution_count": 8,
   "metadata": {},
   "outputs": [
    {
     "name": "stdout",
     "output_type": "stream",
     "text": [
      "Wall time: 0 ns\n"
     ]
    }
   ],
   "source": [
    "%%time\n",
    "\n",
    "show_df = None\n",
    "show_df = stock_df_dict[BENCHMARK].copy()"
   ]
  },
  {
   "cell_type": "code",
   "execution_count": 9,
   "metadata": {
    "scrolled": false
   },
   "outputs": [],
   "source": [
    "# '''剔除上一年跑不赢HS300指数的股票'''\n",
    "\n",
    "# # HS300\n",
    "\n",
    "# s_p = stock_df_dict['399300'][:start_date].iloc[-250].open\n",
    "# e_p = stock_df_dict['399300'][:start_date].iloc[-1].open\n",
    "# benchmark_return_lastyear = e_p / s_p\n",
    "# s_p, e_p\n",
    "# 'benchmark_return_lastyear', benchmark_return_lastyear\n",
    "\n",
    "# # s_p = stock_df_dict['399300'][start_date:].iloc[0].open\n",
    "# # e_p = stock_df_dict['399300'][:end_date].iloc[-1].open\n",
    "# # benchmark_return = e_p / s_p\n",
    "# # 'benchmark_return', benchmark_return\n",
    "\n",
    "\n",
    "# # stock_df_dict['000540']\n",
    "# # stock_df_dict['000540'].index[-1] > stock_df_dict['000540'].index[-2]\n",
    "# # stock_df_dict['000540'].index[-1].strftime('%Y-%m-%d')\n",
    "# # '2017-08-18' < start_date\n",
    "\n",
    "# for symbol, stock_df in stock_df_dict.items():\n",
    "# #     print(symbol)\n",
    "#     if len(stock_df) == 0:\n",
    "#         continue\n",
    "#     if stock_df.index[-1].strftime('%Y-%m-%d') < start_date:\n",
    "#         continue\n",
    "# #     print(stock_df[start_date:].iloc[0].open,)\n",
    "#     try:\n",
    "#         return_lastyear = stock_df[:start_date].iloc[-1].open / stock_df[:start_date].iloc[-250].open\n",
    "#         if return_lastyear < benchmark_return_lastyear:\n",
    "#             HS300.remove(symbol)\n",
    "#             print(symbol, return_lastyear)\n",
    "#     except:\n",
    "# #         HS300.remove(symbol)\n",
    "#         pass\n",
    "\n",
    "# print(len(HS300))"
   ]
  },
  {
   "cell_type": "code",
   "execution_count": 10,
   "metadata": {
    "scrolled": false
   },
   "outputs": [
    {
     "name": "stdout",
     "output_type": "stream",
     "text": [
      "2008-01-01 HS300 after filter 1\n",
      "2009-01-01 HS300 after filter 1\n",
      "2010-01-01 HS300 after filter 88\n",
      "2011-01-01 HS300 after filter 108\n",
      "2012-01-01 HS300 after filter 95\n",
      "2013-01-01 HS300 after filter 108\n",
      "2014-01-01 HS300 after filter 167\n",
      "2015-01-01 HS300 after filter 128\n",
      "2016-01-01 HS300 after filter 178\n",
      "2017-01-01 HS300 after filter 147\n",
      "2018-01-01 HS300 after filter 112\n",
      "CASH 128169.894\n",
      "HAPPY_MONEY 0\n",
      "PROPERTY 128169.894\n",
      "BENCHMARK 5349.76 3530.03 0.65984829226\n",
      "Wall time: 5min 54s\n"
     ]
    }
   ],
   "source": [
    "%%time\n",
    "# %xmode\n",
    "\n",
    "PROPERTY = START_MONEY\n",
    "CASH = START_MONEY\n",
    "\n",
    "order_df = None\n",
    "order_df = pd.DataFrame(columns=[\n",
    "    'buy_date', 'symbol', 'buy_count', 'buy_price', 'buy_reason', 'sell_date', 'sell_price', 'sell_reason', 'profit', 'cash', 'property'\n",
    "])\n",
    "count_day = 0\n",
    "yesterday = None\n",
    "miss_buy_short = 0\n",
    "miss_buy_long = 0\n",
    "\n",
    "for today in pd.period_range(start=start_date, end=end_date, freq='D'):\n",
    "    count_day += 1\n",
    "    \n",
    "    # 新的一年筛股\n",
    "    if IS_FILTER and (today.dayofyear == 1 or count_day == 1):\n",
    "        HS300 = list(ts.get_hs300s()['code']) + [BENCHMARK]\n",
    "        benchmark_lastyear = stock_df_dict[BENCHMARK][:today]\n",
    "        if today - stock_df_dict[BENCHMARK].iloc[0].name < 250:\n",
    "            continue\n",
    "        benchmark_return_lastyear = benchmark_lastyear.iloc[-1].open / benchmark_lastyear.iloc[-250].open\n",
    "        for symbol, stock_df in stock_df_dict.items():\n",
    "            try:\n",
    "                return_lastyear = stock_df[:today].iloc[-1].open / stock_df[:today].iloc[-250].open\n",
    "                if return_lastyear < benchmark_return_lastyear:\n",
    "                    HS300.remove(symbol)\n",
    "#                     print(symbol, return_lastyear)\n",
    "            except:\n",
    "                HS300.remove(symbol)\n",
    "                pass\n",
    "        print(today, 'HS300 after filter', len(HS300))\n",
    "        \n",
    "    \n",
    "    if yesterday is None:\n",
    "        yesterday = today\n",
    "        continue\n",
    "\n",
    "    if today not in stock_df_dict[BENCHMARK].index:\n",
    "        continue\n",
    "            \n",
    "    # 突破下行趋势，清仓退出\n",
    "    order_arr = order_df.to_records(index=False)\n",
    "    if len(order_arr[(order_arr.buy_count > 0) & (order_arr.sell_price == 0)] ) != 0:\n",
    "        is_sell = False\n",
    "        for idx in order_df[(order_df['buy_count'] > 0) & (order_df['sell_price'] == 0)].index:\n",
    "            cur_order = order_df.loc[idx]\n",
    "            symbol = cur_order['symbol']\n",
    "            if today not in stock_df_dict[symbol].index or yesterday not in stock_df_dict[symbol].index:\n",
    "                continue\n",
    "            today_market = stock_df_dict[symbol].loc[today]\n",
    "            if cur_order.buy_reason == 'SHORT':\n",
    "                is_sell = (today_market.open <= today_market['ROLLING_%d_MIN' % TURTLE_SHORT_SELL_N])\n",
    "            if cur_order.buy_reason == 'LONG':\n",
    "                is_sell = (today_market.open <= today_market['ROLLING_%d_MIN' % TURTLE_LONG_SELL_N])\n",
    "            if is_sell:\n",
    "                CASH += cur_order.buy_count * today_market.open\n",
    "                order_df.loc[idx, 'sell_date'] = today\n",
    "                order_df.loc[idx, 'sell_price'] = today_market.open\n",
    "                order_df.loc[idx, 'sell_reason'] = 'EXIT'\n",
    "                order_df.loc[idx, 'profit'] = \\\n",
    "                    (today_market.open - cur_order.buy_price) * cur_order.buy_count\n",
    "#                 print(today, '退出', stock_df_dict[symbol].loc[today, 'open'], CASH)\n",
    "\n",
    "    if IS_HAPPYMONEY:        \n",
    "        if PROPERTY > START_MONEY * 2 and CASH > START_MONEY:\n",
    "            HAPPY_MONEY += START_MONEY\n",
    "            PROPERTY -= START_MONEY\n",
    "            CASH -= START_MONEY\n",
    "    \n",
    "    benchmark_today_market = stock_df_dict[BENCHMARK].loc[today]\n",
    "    # 买卖过程\n",
    "    for symbol in HS300[:]:\n",
    "#     for symbol in [BENCHMARK]:\n",
    "        if IS_MARKETUP:\n",
    "            if benchmark_today_market.MA60 < benchmark_today_market.MA180:\n",
    "                break\n",
    "        \n",
    "        if symbol == BENCHMARK:\n",
    "            continue\n",
    "        \n",
    "        if today not in stock_df_dict[symbol].index or yesterday not in stock_df_dict[symbol].index:\n",
    "            continue\n",
    "            \n",
    "        # TIME TEST\n",
    "#         print(order_df)\n",
    "#         print(order_df.columns)\n",
    "        \n",
    "#         %timeit (len(order_df[order_df['symbol'] == symbol]) != 0)\n",
    "#         %timeit order_df[order_df['symbol'] == symbol].shape[0] != 0\n",
    "#         %timeit n_order_df = order_df.values\n",
    "#         %timeit len(n_order_df[n_order_df[:, 1] == symbol]) != 0\n",
    "#         %timeit (len(order_df[(order_df['symbol'] == symbol) & (order_df['sell_price'] == 0)]) == 0)\n",
    "\n",
    "\n",
    "#         iiidx = stock_df_dict[symbol].index.get_loc(today)\n",
    "#         print(iiidx, type(iiidx))\n",
    "#         %timeit stock_df_dict[symbol].loc[today]\n",
    "#         %timeit n_stock_df = stock_df_dict[symbol].values\n",
    "#         %timeit n_stock_df[iiidx]\n",
    "        \n",
    "#         %timeit (stock_df_dict[symbol].loc[today, 'open'] >= stock_df_dict[symbol].loc[today, 'rolling_max'])\n",
    "#         %timeit (stock_df_dict[symbol].loc[today, 'open'] >= stock_df_dict[symbol].loc[today, 'rolling_max'])\n",
    "\n",
    "#         %timeit int(stock_df_dict[symbol].shift(1).loc[today, 'Unit'])\n",
    "#         %timeit int(CASH / stock_df_dict[symbol].loc[today, 'open'])\n",
    "#         %timeit buy_count * stock_df_dict[symbol].loc[today, 'open']\n",
    "#         %timeit stock_df_dict[symbol]\n",
    "#         %timeit stock_df_dict[symbol].loc[today, 'open']\n",
    "#         %timeit (stock_df_dict[symbol].loc[today, 'open'] > order_df[(order_df['symbol'] == symbol) & (order_df['sell_price'] == 0)].buy_price.iloc[-1] + 0.5 * stock_df_dict[symbol].shift(1).loc[today, 'N'])\n",
    "        \n",
    "#         n_order_df = order_df.values\n",
    "#         n_stock_df = stock_df_dict[symbol].values\n",
    "#         today_idx = stock_df_dict[symbol].index.get_loc(today)\n",
    "#         is_has_order = (len(n_order_df[n_order_df[:, 1] == symbol]) != 0)\n",
    "#         is_order_soldout = not is_has_order and (len(n_order_df[n_order_df[:, 6] == symbol]) == 0)\n",
    "        \n",
    "#         is_has_order = (len(order_df[order_df['symbol'] == symbol]) != 0)\n",
    "#         is_order_soldout = (len(order_df[(order_df['symbol'] == symbol) & (order_df['sell_price'] == 0)]) == 0)\n",
    "        \n",
    "    \n",
    "#         '''\n",
    "#         'buy_date', 'symbol', 'buy_count', 'buy_price', 'buy_reason', 'sell_date', 'sell_price', 'sell_reason', 'profit', 'cash', 'property'\n",
    "#         stock_df['ROLLING_%d_MAX' % TURTLE_SHORT_BUY_N] = stock_df['open'].rolling(TURTLE_SHORT_BUY_N).max()\n",
    "#         stock_df['ROLLING_%d_MIN' % TURTLE_SHORT_SELL_N] = stock_df['open'].rolling(TURTLE_SHORT_SELL_N).min()\n",
    "#         stock_df['ROLLING_%d_MAX' % TURTLE_LONG_BUY_N] = stock_df['open'].rolling(TURTLE_LONG_BUY_N).max()\n",
    "#         stock_df['ROLLING_%d_MIN' % TURTLE_LONG_SELL_N] = stock_df['open'].rolling(TURTLE_LONG_SELL_N).min()\n",
    "#         '''\n",
    "\n",
    "        today_market = stock_df_dict[symbol].loc[today]\n",
    "\n",
    "        # 突破上行趋势，就买一份\n",
    "        order_arr = order_df.to_records(index=False)\n",
    "#         if today_market.MA60 >= today_market.MA180:\n",
    "        if today_market.MA30 >= today_market.MA60:\n",
    "#         if True:\n",
    "            is_buy = False\n",
    "            if today_market.open >= today_market['ROLLING_%d_MAX' % TURTLE_LONG_BUY_N]:\n",
    "                is_buy = True\n",
    "                buy_reason = 'LONG'\n",
    "            elif False and today_market.open >= today_market['ROLLING_%d_MAX' % TURTLE_SHORT_BUY_N]:\n",
    "                is_buy = True\n",
    "                buy_reason = 'SHORT'\n",
    "            if is_buy:\n",
    "                buy_count = 0\n",
    "                \n",
    "                if IS_SLIPPAGE:\n",
    "                    buy_price = today_market.open * (1 + random.randint(0, 20) / 1000)\n",
    "                else:\n",
    "                    buy_price = today_market.open\n",
    "\n",
    "#                 if CASH >= START_MONEY / TURTLE_POS:\n",
    "#                     buy_count = int((START_MONEY / TURTLE_POS) / buy_price)\n",
    "\n",
    "                if CASH >= PROPERTY / TURTLE_POS:\n",
    "                    buy_count = int((PROPERTY / TURTLE_POS) / buy_price)\n",
    "\n",
    "#                 buy_count = int(CASH / buy_price)\n",
    "                \n",
    "                if IS_RANDOM_BUY:\n",
    "                    if random.randint(0, 100) > 50:\n",
    "                        buy_count = 0\n",
    "\n",
    "                if buy_count > 0:\n",
    "#                     buy_count = 1\n",
    "                    CASH -= buy_count * buy_price\n",
    "#                     print(today, '建仓', buy_count, stock_df_dict[symbol].loc[today, 'open'], CASH)\n",
    "                    order_df = order_df.append(\n",
    "                        {\n",
    "                            'buy_date': today,\n",
    "                            'symbol': symbol,\n",
    "                            'buy_count': buy_count,\n",
    "                            'buy_price': today_market.open,\n",
    "                            'buy_reason': buy_reason,\n",
    "                            'sell_date': pd.np.nan,\n",
    "                            'sell_price': 0,\n",
    "                            'profit': 0,\n",
    "                            'cash': CASH,\n",
    "                            'property': PROPERTY,\n",
    "                        },\n",
    "                        ignore_index=True\n",
    "                    )\n",
    "                else:\n",
    "                    if buy_reason == 'LONG':\n",
    "                        miss_buy_long += 1\n",
    "                    elif buy_reason == 'SHORT':\n",
    "                        miss_buy_short += 1\n",
    "            \n",
    "    # 每天盘点财产\n",
    "#     CASH = CASH * (1 + 0.04 / 365)\n",
    "    show_df.loc[today, 'CASH_TURTLE_%d_%d_%d' % (TURTLE_POS, TURTLE_LONG_BUY_N, TURTLE_LONG_SELL_N)] = CASH\n",
    "    PROPERTY = CASH + \\\n",
    "        sum(\n",
    "            [\n",
    "                stock_df_dict[order_df.loc[idx, 'symbol']][:today].iloc[-1].open * order_df.loc[idx, 'buy_count'] \\\n",
    "                for idx in order_df.loc[order_df['sell_price']==0].index\n",
    "            ]\n",
    "        )\n",
    "    show_df.loc[today, 'PROPERTY_TURTLE_%d_%d_%d' % (TURTLE_POS, TURTLE_LONG_BUY_N, TURTLE_LONG_SELL_N)] = PROPERTY\n",
    "\n",
    "    yesterday = today\n",
    "\n",
    "\n",
    "    \n",
    "# 最后一天，清仓\n",
    "order_arr = order_df.to_records(index=False)\n",
    "for idx in order_df[order_df['sell_price'] == 0].index:\n",
    "    cur_order = order_df.loc[idx]\n",
    "    symbol = cur_order['symbol']\n",
    "    today_market = stock_df_dict[symbol][:today].iloc[-1]\n",
    "    CASH += cur_order.buy_count * today_market.open\n",
    "    order_df.loc[idx, 'sell_date'] = today\n",
    "    order_df.loc[idx, 'sell_price'] = today_market.open\n",
    "    order_df.loc[idx, 'sell_reason'] = 'EXIT'\n",
    "    order_df.loc[idx, 'profit'] = \\\n",
    "        (today_market.open - cur_order.buy_price) * cur_order.buy_count\n",
    "\n",
    "\n",
    "print('CASH', CASH)\n",
    "print('HAPPY_MONEY', HAPPY_MONEY)\n",
    "print('PROPERTY', PROPERTY)\n",
    "\n",
    "s_p = stock_df_dict['399300'][start_date:].iloc[0].open\n",
    "e_p = stock_df_dict['399300'][:end_date].iloc[-1].open\n",
    "print('BENCHMARK', s_p, e_p, e_p / s_p)\n"
   ]
  },
  {
   "cell_type": "code",
   "execution_count": 11,
   "metadata": {},
   "outputs": [],
   "source": [
    "df = order_df.copy()\n",
    "df = df.astype(dtype={'cash': 'int', 'profit': 'int'})\n",
    "\n",
    "# df\n",
    "# df[0:50]"
   ]
  },
  {
   "cell_type": "code",
   "execution_count": 12,
   "metadata": {
    "scrolled": false
   },
   "outputs": [
    {
     "data": {
      "text/plain": [
       "'ALL'"
      ]
     },
     "execution_count": 12,
     "metadata": {},
     "output_type": "execute_result"
    },
    {
     "data": {
      "text/plain": [
       "('start_date', '2008-01-01')"
      ]
     },
     "execution_count": 12,
     "metadata": {},
     "output_type": "execute_result"
    },
    {
     "data": {
      "text/plain": [
       "('end_date', '2018-08-01')"
      ]
     },
     "execution_count": 12,
     "metadata": {},
     "output_type": "execute_result"
    },
    {
     "data": {
      "text/plain": [
       "('TURTLE_POS', 20)"
      ]
     },
     "execution_count": 12,
     "metadata": {},
     "output_type": "execute_result"
    },
    {
     "data": {
      "text/plain": [
       "('TURTLE_SHORT_BUY_N', 20)"
      ]
     },
     "execution_count": 12,
     "metadata": {},
     "output_type": "execute_result"
    },
    {
     "data": {
      "text/plain": [
       "('TURTLE_SHORT_SELL_N', 20)"
      ]
     },
     "execution_count": 12,
     "metadata": {},
     "output_type": "execute_result"
    },
    {
     "data": {
      "text/plain": [
       "('TURTLE_LONG_BUY_N', 60)"
      ]
     },
     "execution_count": 12,
     "metadata": {},
     "output_type": "execute_result"
    },
    {
     "data": {
      "text/plain": [
       "('TURTLE_LONG_SELL_N', 30)"
      ]
     },
     "execution_count": 12,
     "metadata": {},
     "output_type": "execute_result"
    },
    {
     "data": {
      "text/plain": [
       "('IS_HAPPYMONEY', False)"
      ]
     },
     "execution_count": 12,
     "metadata": {},
     "output_type": "execute_result"
    },
    {
     "data": {
      "text/plain": [
       "('IS_TAX', False)"
      ]
     },
     "execution_count": 12,
     "metadata": {},
     "output_type": "execute_result"
    },
    {
     "data": {
      "text/plain": [
       "('IS_SLIPPAGE', False)"
      ]
     },
     "execution_count": 12,
     "metadata": {},
     "output_type": "execute_result"
    },
    {
     "data": {
      "text/plain": [
       "('IS_RANDOM_BUY', True)"
      ]
     },
     "execution_count": 12,
     "metadata": {},
     "output_type": "execute_result"
    },
    {
     "data": {
      "text/plain": [
       "('START_MONEY', 100000)"
      ]
     },
     "execution_count": 12,
     "metadata": {},
     "output_type": "execute_result"
    },
    {
     "data": {
      "text/plain": [
       "('len(order_df)', 668)"
      ]
     },
     "execution_count": 12,
     "metadata": {},
     "output_type": "execute_result"
    },
    {
     "data": {
      "text/plain": [
       "('sum_profit', 28169.89400000004)"
      ]
     },
     "execution_count": 12,
     "metadata": {},
     "output_type": "execute_result"
    },
    {
     "data": {
      "text/plain": [
       "('sum_tax', 0)"
      ]
     },
     "execution_count": 12,
     "metadata": {},
     "output_type": "execute_result"
    },
    {
     "data": {
      "text/plain": [
       "('win_rate', 0.362406015037594)"
      ]
     },
     "execution_count": 12,
     "metadata": {},
     "output_type": "execute_result"
    },
    {
     "data": {
      "text/plain": [
       "('annual_return', 1.0237086752199118)"
      ]
     },
     "execution_count": 12,
     "metadata": {},
     "output_type": "execute_result"
    },
    {
     "data": {
      "text/plain": [
       "('len(order_df[order_df.profit != 0])', 665)"
      ]
     },
     "execution_count": 12,
     "metadata": {},
     "output_type": "execute_result"
    },
    {
     "data": {
      "text/plain": [
       "('len(order_df[order_df.profit > 0])', 241)"
      ]
     },
     "execution_count": 12,
     "metadata": {},
     "output_type": "execute_result"
    },
    {
     "data": {
      "text/plain": [
       "('order LONG', 668)"
      ]
     },
     "execution_count": 12,
     "metadata": {},
     "output_type": "execute_result"
    },
    {
     "data": {
      "text/plain": [
       "241"
      ]
     },
     "execution_count": 12,
     "metadata": {},
     "output_type": "execute_result"
    },
    {
     "data": {
      "text/plain": [
       "28169.89400000004"
      ]
     },
     "execution_count": 12,
     "metadata": {},
     "output_type": "execute_result"
    },
    {
     "data": {
      "text/plain": [
       "('order SHORT', 0)"
      ]
     },
     "execution_count": 12,
     "metadata": {},
     "output_type": "execute_result"
    },
    {
     "data": {
      "text/plain": [
       "0"
      ]
     },
     "execution_count": 12,
     "metadata": {},
     "output_type": "execute_result"
    },
    {
     "data": {
      "text/plain": [
       "0"
      ]
     },
     "execution_count": 12,
     "metadata": {},
     "output_type": "execute_result"
    },
    {
     "data": {
      "text/plain": [
       "('cum_returns', 0.28169894000000162, -0.34015170774015702)"
      ]
     },
     "execution_count": 12,
     "metadata": {},
     "output_type": "execute_result"
    },
    {
     "data": {
      "text/plain": [
       "('max_drawdown', -0.5216873830733627, -0.7188753062194538)"
      ]
     },
     "execution_count": 12,
     "metadata": {},
     "output_type": "execute_result"
    },
    {
     "data": {
      "text/plain": [
       "('annual_return', 0.02457625116569373, -0.039854783586569686)"
      ]
     },
     "execution_count": 12,
     "metadata": {},
     "output_type": "execute_result"
    },
    {
     "data": {
      "text/plain": [
       "('annual_volatility', 0.2304659218807053)"
      ]
     },
     "execution_count": 12,
     "metadata": {},
     "output_type": "execute_result"
    },
    {
     "data": {
      "text/plain": [
       "('calmar_ratio', 0.047109153801861592)"
      ]
     },
     "execution_count": 12,
     "metadata": {},
     "output_type": "execute_result"
    },
    {
     "data": {
      "text/plain": [
       "('sharpe_ratio', 0.22131367595256307)"
      ]
     },
     "execution_count": 12,
     "metadata": {},
     "output_type": "execute_result"
    },
    {
     "data": {
      "text/plain": [
       "('alpha', 0.049319115108344774)"
      ]
     },
     "execution_count": 12,
     "metadata": {},
     "output_type": "execute_result"
    },
    {
     "data": {
      "text/plain": [
       "('beta', 0.3866150311858098)"
      ]
     },
     "execution_count": 12,
     "metadata": {},
     "output_type": "execute_result"
    },
    {
     "data": {
      "text/plain": [
       "('ALL DAY', 2576)"
      ]
     },
     "execution_count": 12,
     "metadata": {},
     "output_type": "execute_result"
    },
    {
     "data": {
      "text/plain": [
       "'CASH_TURTLE_20_60_30'"
      ]
     },
     "execution_count": 12,
     "metadata": {},
     "output_type": "execute_result"
    },
    {
     "data": {
      "text/plain": [
       "'PROPERTY_TURTLE_20_60_30'"
      ]
     },
     "execution_count": 12,
     "metadata": {},
     "output_type": "execute_result"
    },
    {
     "data": {
      "text/plain": [
       "('CASH NOT USED DAY', 1083)"
      ]
     },
     "execution_count": 12,
     "metadata": {},
     "output_type": "execute_result"
    },
    {
     "data": {
      "text/plain": [
       "('MISS_BUY_SIGNAL_LONG', 15114)"
      ]
     },
     "execution_count": 12,
     "metadata": {},
     "output_type": "execute_result"
    },
    {
     "data": {
      "text/plain": [
       "('MISS_BUY_SIGNAL_SHORT', 0)"
      ]
     },
     "execution_count": 12,
     "metadata": {},
     "output_type": "execute_result"
    }
   ],
   "source": [
    "'ALL'\n",
    "'start_date', start_date\n",
    "'end_date', end_date\n",
    "'TURTLE_POS', TURTLE_POS\n",
    "'TURTLE_SHORT_BUY_N', TURTLE_SHORT_BUY_N\n",
    "'TURTLE_SHORT_SELL_N', TURTLE_SHORT_SELL_N\n",
    "'TURTLE_LONG_BUY_N', TURTLE_LONG_BUY_N\n",
    "'TURTLE_LONG_SELL_N', TURTLE_LONG_SELL_N\n",
    "'IS_HAPPYMONEY', IS_HAPPYMONEY\n",
    "'IS_TAX', IS_TAX\n",
    "'IS_SLIPPAGE', IS_SLIPPAGE\n",
    "'IS_RANDOM_BUY', IS_RANDOM_BUY\n",
    "'START_MONEY', START_MONEY\n",
    "\n",
    "'len(order_df)', len(order_df)\n",
    "sum_profit = sum(list(order_df['profit']))\n",
    "'sum_profit', sum_profit\n",
    "# sum_tax = sum(list(order_df_TB['tax']))\n",
    "sum_tax = 0\n",
    "'sum_tax', sum_tax\n",
    "'win_rate', len(order_df[order_df.profit > 0]) / len(order_df[order_df.profit != 0])\n",
    "'annual_return', ((sum_profit - sum_tax) / START_MONEY + 1) ** (365 / count_day)\n",
    "'len(order_df[order_df.profit != 0])', len(order_df[order_df.profit != 0])\n",
    "'len(order_df[order_df.profit > 0])', len(order_df[order_df.profit > 0])\n",
    "'order LONG', len(order_df[order_df.buy_reason == 'LONG'])\n",
    "len(order_df[(order_df.buy_reason == 'LONG') & (order_df.profit > 0)])\n",
    "sum(list(order_df[order_df.buy_reason == 'LONG']['profit']))\n",
    "'order SHORT', len(order_df[order_df.buy_reason == 'SHORT'])\n",
    "len(order_df[(order_df.buy_reason == 'SHORT') & (order_df.profit > 0)])\n",
    "sum(list(order_df[order_df.buy_reason == 'SHORT']['profit']))\n",
    "\n",
    "# order_df\n",
    "# order_df.loc[order_df['sell_price']==0]\n",
    "\n",
    "calc_df = order_df.copy()\n",
    "calc_df['profit_pct'] = calc_df['profit'] / (calc_df['buy_count'] * calc_df['buy_price'])\n",
    "# calc_df[calc_df.symbol == 'BIDU']\n",
    "# calc_df[calc_df.profit > 0]\n",
    "# calc_df\n",
    "\n",
    "# order_df[order_df.profit > 0]\n",
    "\n",
    "# csv_file = 'E:/Dev/result/T_TURTLE_POS%d_TURTLE_BUY_N%d_TURTLE_SELL_N%d_START_MONEY%d_%s_%s.csv' % \\\n",
    "#     (TURTLE_POS, TURTLE_BUY_N, TURTLE_SELL_N, START_MONEY, start_date, end_date)\n",
    "# calc_df.to_csv(csv_file)\n",
    "\n",
    "# list(show_df.dropna(how='any', inplace=False).PROPERTY_TURTLE_20_60_60.apply(int).tail(50))\n",
    "# list(show_df.open.apply(int).tail(50))\n",
    "\n",
    "df = show_df.dropna(how='any', inplace=False).copy()\n",
    "algo = df['PROPERTY_TURTLE_%d_%d_%d' % (TURTLE_POS, TURTLE_LONG_BUY_N, TURTLE_LONG_SELL_N)].pct_change()\n",
    "benchmark = df.open.pct_change()\n",
    "\n",
    "'cum_returns', emp.cum_returns(algo)[-1], emp.cum_returns(benchmark)[-1]\n",
    "'max_drawdown', emp.max_drawdown(algo), emp.max_drawdown(benchmark)\n",
    "'annual_return', emp.annual_return(algo), emp.annual_return(benchmark)\n",
    "'annual_volatility', emp.annual_volatility(algo, period='daily')\n",
    "'calmar_ratio', emp.calmar_ratio(algo)\n",
    "'sharpe_ratio', emp.sharpe_ratio(returns=algo)\n",
    "'alpha', emp.alpha(returns=algo, factor_returns=benchmark, risk_free=0.00)\n",
    "'beta', emp.beta(returns=algo, factor_returns=benchmark, risk_free=0.00)\n",
    "\n",
    "'ALL DAY', len(df)\n",
    "'CASH_TURTLE_%d_%d_%d' % (TURTLE_POS, TURTLE_LONG_BUY_N, TURTLE_LONG_SELL_N)\n",
    "'PROPERTY_TURTLE_%d_%d_%d' % (TURTLE_POS, TURTLE_LONG_BUY_N, TURTLE_LONG_SELL_N)\n",
    "'CASH NOT USED DAY', \\\n",
    "    len(df[df['CASH_TURTLE_%d_%d_%d' % (TURTLE_POS, TURTLE_LONG_BUY_N, TURTLE_LONG_SELL_N)] > \\\n",
    "           df['PROPERTY_TURTLE_%d_%d_%d' % (TURTLE_POS, TURTLE_LONG_BUY_N, TURTLE_LONG_SELL_N)] / TURTLE_POS])\n",
    "'MISS_BUY_SIGNAL_LONG', miss_buy_long\n",
    "'MISS_BUY_SIGNAL_SHORT', miss_buy_short"
   ]
  },
  {
   "cell_type": "code",
   "execution_count": 13,
   "metadata": {
    "scrolled": false
   },
   "outputs": [
    {
     "data": {
      "text/html": [
       "<div>\n",
       "<style scoped>\n",
       "    .dataframe tbody tr th:only-of-type {\n",
       "        vertical-align: middle;\n",
       "    }\n",
       "\n",
       "    .dataframe tbody tr th {\n",
       "        vertical-align: top;\n",
       "    }\n",
       "\n",
       "    .dataframe thead th {\n",
       "        text-align: right;\n",
       "    }\n",
       "</style>\n",
       "<table border=\"1\" class=\"dataframe\">\n",
       "  <thead>\n",
       "    <tr style=\"text-align: right;\">\n",
       "      <th></th>\n",
       "      <th>pro_pct</th>\n",
       "    </tr>\n",
       "    <tr>\n",
       "      <th>symbol</th>\n",
       "      <th></th>\n",
       "    </tr>\n",
       "  </thead>\n",
       "  <tbody>\n",
       "    <tr>\n",
       "      <th>600886</th>\n",
       "      <td>4.939219</td>\n",
       "    </tr>\n",
       "    <tr>\n",
       "      <th>300017</th>\n",
       "      <td>3.606735</td>\n",
       "    </tr>\n",
       "    <tr>\n",
       "      <th>600009</th>\n",
       "      <td>2.013868</td>\n",
       "    </tr>\n",
       "    <tr>\n",
       "      <th>600519</th>\n",
       "      <td>1.840614</td>\n",
       "    </tr>\n",
       "    <tr>\n",
       "      <th>000768</th>\n",
       "      <td>1.622639</td>\n",
       "    </tr>\n",
       "    <tr>\n",
       "      <th>600177</th>\n",
       "      <td>1.470526</td>\n",
       "    </tr>\n",
       "    <tr>\n",
       "      <th>000858</th>\n",
       "      <td>1.453642</td>\n",
       "    </tr>\n",
       "    <tr>\n",
       "      <th>600436</th>\n",
       "      <td>1.193143</td>\n",
       "    </tr>\n",
       "    <tr>\n",
       "      <th>600690</th>\n",
       "      <td>1.169228</td>\n",
       "    </tr>\n",
       "    <tr>\n",
       "      <th>002065</th>\n",
       "      <td>1.123706</td>\n",
       "    </tr>\n",
       "    <tr>\n",
       "      <th>600809</th>\n",
       "      <td>1.120662</td>\n",
       "    </tr>\n",
       "    <tr>\n",
       "      <th>002236</th>\n",
       "      <td>1.066617</td>\n",
       "    </tr>\n",
       "    <tr>\n",
       "      <th>600170</th>\n",
       "      <td>1.044477</td>\n",
       "    </tr>\n",
       "    <tr>\n",
       "      <th>600660</th>\n",
       "      <td>0.799547</td>\n",
       "    </tr>\n",
       "    <tr>\n",
       "      <th>600606</th>\n",
       "      <td>0.754894</td>\n",
       "    </tr>\n",
       "    <tr>\n",
       "      <th>600109</th>\n",
       "      <td>0.736253</td>\n",
       "    </tr>\n",
       "    <tr>\n",
       "      <th>002456</th>\n",
       "      <td>0.721649</td>\n",
       "    </tr>\n",
       "    <tr>\n",
       "      <th>600016</th>\n",
       "      <td>0.680896</td>\n",
       "    </tr>\n",
       "    <tr>\n",
       "      <th>000002</th>\n",
       "      <td>0.600043</td>\n",
       "    </tr>\n",
       "    <tr>\n",
       "      <th>600549</th>\n",
       "      <td>0.589801</td>\n",
       "    </tr>\n",
       "  </tbody>\n",
       "</table>\n",
       "</div>"
      ],
      "text/plain": [
       "         pro_pct\n",
       "symbol          \n",
       "600886  4.939219\n",
       "300017  3.606735\n",
       "600009  2.013868\n",
       "600519  1.840614\n",
       "000768  1.622639\n",
       "600177  1.470526\n",
       "000858  1.453642\n",
       "600436  1.193143\n",
       "600690  1.169228\n",
       "002065  1.123706\n",
       "600809  1.120662\n",
       "002236  1.066617\n",
       "600170  1.044477\n",
       "600660  0.799547\n",
       "600606  0.754894\n",
       "600109  0.736253\n",
       "002456  0.721649\n",
       "600016  0.680896\n",
       "000002  0.600043\n",
       "600549  0.589801"
      ]
     },
     "execution_count": 13,
     "metadata": {},
     "output_type": "execute_result"
    }
   ],
   "source": [
    "df = order_df.copy()\n",
    "df.drop(columns=['sell_reason'], inplace=True)\n",
    "df['pro_pct'] = (df.sell_price - df.buy_price) / df.buy_price\n",
    "# df.sell_date.dtypes\n",
    "# df.loc[1].sell_date\n",
    "# df.loc[1].sell_date.to_timestamp()\n",
    "\n",
    "# df = df.astype(dtype={'sell_date': 'datetime64[ns]', 'buy_date': 'datetime64[ns]', 'cash':'int'})\n",
    "df = df.astype(dtype={'cash': 'int', 'profit': 'float64'})\n",
    "# df.loc[1].sell_date\n",
    "\n",
    "# type(df[1].sell_date)\n",
    "df['h_days'] = (df.sell_date - df.buy_date)\n",
    "# df.loc[1].h_days\n",
    "# type(df.loc[1].h_days)\n",
    "\n",
    "df['h_days'] = df['h_days'].apply(lambda x: 1 if x == 0 else x)\n",
    "# df.loc[1].h_days\n",
    "\n",
    "df['per_d'] = df.pro_pct / df.h_days * 365\n",
    "# df['per_d'] = df.apply(lambda x: x.pro_pct / x.h_days)\n",
    "\n",
    "# df\n",
    "# df.sort_values(by='pro_pct', ascending=False)\n",
    "# df.sort_values(by='per_d', ascending=False)\n",
    "\n",
    "df = df.loc[:, ['symbol', 'pro_pct']]\n",
    "df = df.groupby(by='symbol').sum()\n",
    "df.sort_values(by='pro_pct', ascending=False).head(20)"
   ]
  },
  {
   "cell_type": "code",
   "execution_count": 14,
   "metadata": {
    "scrolled": false
   },
   "outputs": [],
   "source": [
    "# # %%time\n",
    "\n",
    "# '''选股，计算哪些股票跑不赢指数'''\n",
    "\n",
    "# df = None\n",
    "# df = pd.DataFrame(columns=[\n",
    "#     'symbol', 'return'\n",
    "# ])\n",
    "\n",
    "# s_p = stock_df_dict['399300'][:start_date].iloc[-250].open\n",
    "# e_p = stock_df_dict['399300'][:start_date].iloc[-1].open\n",
    "# benchmark_return_lastyear = e_p / s_p\n",
    "# s_p, e_p\n",
    "# 'benchmark_return_lastyear', benchmark_return_lastyear\n",
    "\n",
    "# s_p = stock_df_dict['399300'][start_date:].iloc[0].open\n",
    "# e_p = stock_df_dict['399300'][:end_date].iloc[-1].open\n",
    "# benchmark_return = e_p / s_p\n",
    "# 'benchmark_return', benchmark_return\n",
    "\n",
    "\n",
    "# # stock_df_dict['000540']\n",
    "# # stock_df_dict['000540'].index[-1] > stock_df_dict['000540'].index[-2]\n",
    "# # stock_df_dict['000540'].index[-1].strftime('%Y-%m-%d')\n",
    "# # '2017-08-18' < start_date\n",
    "\n",
    "# for symbol, stock_df in stock_df_dict.items():\n",
    "# #     print(symbol)\n",
    "#     if len(stock_df) == 0:\n",
    "#         continue\n",
    "#     if stock_df.index[-1].strftime('%Y-%m-%d') < start_date:\n",
    "#         continue\n",
    "# #     print(stock_df[start_date:].iloc[0].open,)\n",
    "#     try:\n",
    "#         df = df.append(\n",
    "#             {\n",
    "#                 'symbol': symbol,\n",
    "#                 'return': stock_df[:end_date].iloc[-1].open / stock_df[start_date:].iloc[0].open,\n",
    "#                 'return_lastyear': stock_df[:start_date].iloc[-1].open / stock_df[:start_date].iloc[-250].open,\n",
    "#             },\n",
    "#             ignore_index = True\n",
    "#         )\n",
    "#     except:\n",
    "#         pass\n",
    "\n",
    "# df.sort_values(by=['return'], ascending=False).head(10)\n",
    "# # df[df['return'] >= benchmark_return]\n",
    "\n",
    "\n",
    "# loser_symbol = df[df['return'] <= benchmark_return].copy()\n",
    "# winner_symbol = df[df['return'] > benchmark_return].copy()\n",
    "# loser_symbol = df[df['return_lastyear'] <= benchmark_return_lastyear].copy()\n",
    "# winner_symbol = df[df['return_lastyear'] > benchmark_return_lastyear].copy()\n",
    "# winner_symbol_list = list(winner_symbol.symbol)\n",
    "# 'len(loser_symbol)', len(loser_symbol)\n",
    "\n",
    "\n",
    "# df = order_df.copy()\n",
    "# df = df.astype(dtype={'cash': 'int', 'profit': 'int'})\n",
    "# df['is_winner'] = 0\n",
    "# df['is_winner'] = df['symbol'].apply(lambda x: 1 if x in winner_symbol_list else 0)\n",
    "\n",
    "# 'len(order_df)', len(order_df)\n",
    "# 'len(is_winner == 0)', len(df[df['is_winner'] == 0])\n",
    "# 'len(is_winner == 0 & profit < 0)', len(df[(df.is_winner == 0) & (df.profit < 0)])\n",
    "# df[(df.is_winner == 0)].profit.sum()\n",
    "# 'len(is_winner == 1)', len(df[df['is_winner'] == 1])\n",
    "# 'len(is_winner == 1 & profit < 0)', len(df[(df.is_winner == 1) & (df.profit < 0)])\n",
    "# df[(df.is_winner == 1)].profit.sum()\n",
    "\n",
    "# df[df['is_winner'] == 0]"
   ]
  },
  {
   "cell_type": "code",
   "execution_count": 15,
   "metadata": {
    "scrolled": false
   },
   "outputs": [],
   "source": [
    "# %matplotlib inline\n",
    "\n",
    "# import sys\n",
    "# import matplotlib\n",
    "# import matplotlib.pyplot as plt\n",
    "# plt.rcParams['figure.figsize'] = [15, 10]\n",
    "\n",
    "# # order_df_TB\n",
    "# bar_df = order_df.copy()\n",
    "# df = bar_df.sort_values(by=['profit'])\n",
    "# # df\n",
    "\n",
    "# bins = [100 * x for x in range(-200, 500)]\n",
    "# # bins\n",
    "\n",
    "# cats = pd.cut(df['profit'], bins)\n",
    "# # cats\n",
    "\n",
    "# def get_stats(group):\n",
    "#     return {'count': group.count()}\n",
    "\n",
    "# grouped = df['profit'].groupby(cats)\n",
    "# bin_counts = grouped.apply(get_stats).unstack()\n",
    "# bin_counts.reset_index(inplace=True, drop=False)\n",
    "# bin_counts['profit'] = bin_counts['profit'].apply(str)\n",
    "# # bin_counts\n",
    "\n",
    "# # df['profit'].hist(bins=10)\n",
    "\n",
    "# # bin_counts.plot(kind='barh', alpha=0.5, rot=0)\n",
    "\n",
    "# # display_charts(bin_counts, kind='bar', x='profit', figsize=(900, 600), logy=True)"
   ]
  },
  {
   "cell_type": "code",
   "execution_count": 16,
   "metadata": {
    "scrolled": false
   },
   "outputs": [
    {
     "data": {
      "text/plain": [
       "Index(['open', 'close', 'o_pct_chg', 'ROLLING_20_MAX', 'ROLLING_20_MIN',\n",
       "       'ROLLING_60_MAX', 'ROLLING_30_MIN', 'MA180', 'MA60', 'MA30',\n",
       "       'CASH_TURTLE_20_60_30', 'PROPERTY_TURTLE_20_60_30'],\n",
       "      dtype='object')"
      ]
     },
     "execution_count": 16,
     "metadata": {},
     "output_type": "execute_result"
    },
    {
     "data": {
      "image/png": "[encoded data removed]",
      "text/plain": [
       "<matplotlib.figure.Figure at 0x111fa6d0>"
      ]
     },
     "metadata": {},
     "output_type": "display_data"
    }
   ],
   "source": [
    "%matplotlib inline\n",
    "\n",
    "import matplotlib\n",
    "import matplotlib.pyplot as plt\n",
    "plt.rcParams['figure.figsize'] = [15, 10]\n",
    "\n",
    "# df = show_df.fillna(START_MONEY).copy()\n",
    "df = show_df.dropna(how='any', inplace=False).copy()\n",
    "# df.drop(columns=['open', 'high', 'low', 'o_pct_chg', 'TR', 'N'], inplace=True)\n",
    "df.columns\n",
    "\n",
    "df['close'] = (df['close'] - df.iloc[0]['close']) / df.iloc[0]['close']\n",
    "ax = df.plot(kind='line', y='close', label='BENCHMARK_%.2f' % df.iloc[-1]['close'], linewidth=1, grid=True)\n",
    "for col in sorted(df.columns):\n",
    "    if 'PROPERTY' in col:\n",
    "        df[col] = (df[col] - df.iloc[1][col]) / df.iloc[0][col]\n",
    "        ax = df.plot(kind='line', y=col, secondary_y=False, label='%s_%.2f' % (col, df.iloc[-1][col]), linewidth=1, grid=True, ax=ax)\n",
    "\n",
    "# display_charts(df, kind='line', figsize=(900, 600), logy=False)"
   ]
  },
  {
   "cell_type": "code",
   "execution_count": 17,
   "metadata": {},
   "outputs": [
    {
     "data": {
      "text/plain": [
       "Index(['open', 'close', 'o_pct_chg', 'ROLLING_20_MAX', 'ROLLING_20_MIN',\n",
       "       'ROLLING_60_MAX', 'ROLLING_30_MIN', 'MA180', 'MA60', 'MA30',\n",
       "       'CASH_TURTLE_20_60_30', 'PROPERTY_TURTLE_20_60_30'],\n",
       "      dtype='object')"
      ]
     },
     "execution_count": 17,
     "metadata": {},
     "output_type": "execute_result"
    },
    {
     "data": {
      "text/html": [
       "<div id=\"chart_idfbxrRGnH\"</div>\n",
       "    <script type=\"text/javascript\">new Highcharts.StockChart({\"chart\":{\"renderTo\":\"chart_idfbxrRGnH\",\"width\":900,\"height\":600},\"legend\":{\"enabled\":true},\"series\":[{\"name\":\"CASH_TURTLE_20_60_30\",\"yAxis\":0,\"data\":[[1199232000000,1.0],[1199318400000,1.0],[1199404800000,1.0],[1199664000000,1.0],[1199750400000,1.0],[1199836800000,1.0],[1199923200000,1.0],[1200009600000,1.0],[1200268800000,1.0],[1200355200000,1.0],[1200441600000,1.0],[1200528000000,1.0],[1200614400000,1.0],[1200873600000,1.0],[1200960000000,1.0],[1201046400000,1.0],[1201132800000,1.0],[1201219200000,1.0],[1201478400000,1.0],[1201564800000,1.0],[1201651200000,1.0],[1201737600000,1.0],[1201824000000,1.0],[1202083200000,1.0],[1202169600000,1.0],[1202860800000,1.0],[1202947200000,1.0],[1203033600000,1.0],[1203292800000,1.0],[1203379200000,1.0],[1203465600000,1.0],[1203552000000,1.0],[1203638400000,1.0],[1203897600000,1.0],[1203984000000,1.0],[1204070400000,1.0],[1204156800000,1.0],[1204243200000,1.0],[1204502400000,1.0],[1204588800000,1.0],[1204675200000,1.0],[1204761600000,1.0],[1204848000000,1.0],[1205107200000,1.0],[1205193600000,1.0],[1205280000000,1.0],[1205366400000,1.0],[1205452800000,1.0],[1205712000000,1.0],[1205798400000,1.0],[1205884800000,1.0],[1205971200000,1.0],[1206057600000,1.0],[1206316800000,1.0],[1206403200000,1.0],[1206489600000,1.0],[1206576000000,1.0],[1206662400000,1.0],[1206921600000,1.0],[1207008000000,1.0],[1207094400000,1.0],[1207180800000,1.0],[1207526400000,1.0],[1207612800000,1.0],[1207699200000,1.0],[1207785600000,1.0],[1207872000000,1.0],[1208131200000,1.0],[1208217600000,1.0],[1208304000000,1.0],[1208390400000,1.0],[1208476800000,1.0],[1208736000000,1.0],[1208822400000,1.0],[1208908800000,1.0],[1208995200000,1.0],[1209081600000,1.0],[1209340800000,1.0],[1209427200000,1.0],[1209513600000,1.0],[1209945600000,1.0],[1210032000000,1.0],[1210118400000,1.0],[1210204800000,1.0],[1210291200000,1.0],[1210550400000,1.0],[1210636800000,1.0],[1210723200000,1.0],[1210809600000,1.0],[1210896000000,1.0],[1211155200000,1.0],[1211241600000,1.0],[1211328000000,1.0],[1211414400000,1.0],[1211500800000,1.0],[1211760000000,1.0],[1211846400000,1.0],[1211932800000,1.0],[1212019200000,1.0],[1212105600000,1.0],[1212364800000,1.0],[1212451200000,1.0],[1212537600000,1.0],[1212624000000,1.0],[1212710400000,1.0],[1213056000000,1.0],[1213142400000,1.0],[1213228800000,1.0],[1213315200000,1.0],[1213574400000,1.0],[1213660800000,1.0],[1213747200000,1.0],[1213833600000,1.0],[1213920000000,1.0],[1214179200000,1.0],[1214265600000,1.0],[1214352000000,1.0],[1214438400000,1.0],[1214524800000,1.0],[1214784000000,1.0],[1214870400000,1.0],[1214956800000,1.0],[1215043200000,1.0],[1215129600000,1.0],[1215388800000,1.0],[1215475200000,1.0],[1215561600000,1.0],[1215648000000,1.0],[1215734400000,1.0],[1215993600000,1.0],[1216080000000,1.0],[1216166400000,1.0],[1216252800000,1.0],[1216339200000,1.0],[1216598400000,1.0],[1216684800000,1.0],[1216771200000,1.0],[1216857600000,1.0],[1216944000000,1.0],[1217203200000,1.0],[1217289600000,1.0],[1217376000000,1.0],[1217462400000,1.0],[1217548800000,1.0],[1217808000000,1.0],[1217894400000,1.0],[1217980800000,1.0],[1218067200000,1.0],[1218153600000,1.0],[1218412800000,1.0],[1218499200000,1.0],[1218585600000,1.0],[1218672000000,1.0],[1218758400000,1.0],[1219017600000,1.0],[1219104000000,1.0],[1219190400000,1.0],[1219276800000,1.0],[1219363200000,1.0],[1219622400000,1.0],[1219708800000,1.0],[1219795200000,1.0],[1219881600000,1.0],[1219968000000,1.0],[1220227200000,1.0],[1220313600000,1.0],[1220400000000,1.0],[1220486400000,1.0],[1220572800000,1.0],[1220832000000,1.0],[1220918400000,1.0],[1221004800000,1.0],[1221091200000,1.0],[1221177600000,1.0],[1221523200000,1.0],[1221609600000,1.0],[1221696000000,1.0],[1221782400000,1.0],[1222041600000,1.0],[1222128000000,1.0],[1222214400000,1.0],[1222300800000,1.0],[1222387200000,1.0],[1223251200000,1.0],[1223337600000,1.0],[1223424000000,1.0],[1223510400000,1.0],[1223596800000,1.0],[1223856000000,1.0],[1223942400000,1.0],[1224028800000,1.0],[1224115200000,1.0],[1224201600000,1.0],[1224460800000,1.0],[1224547200000,1.0],[1224633600000,1.0],[1224720000000,1.0],[1224806400000,1.0],[1225065600000,1.0],[1225152000000,1.0],[1225238400000,1.0],[1225324800000,1.0],[1225411200000,1.0],[1225670400000,1.0],[1225756800000,1.0],[1225843200000,1.0],[1225929600000,1.0],[1226016000000,1.0],[1226275200000,1.0],[1226361600000,1.0],[1226448000000,1.0],[1226534400000,1.0],[1226620800000,1.0],[1226880000000,1.0],[1226966400000,1.0],[1227052800000,1.0],[1227139200000,1.0],[1227225600000,1.0],[1227484800000,1.0],[1227571200000,1.0],[1227657600000,1.0],[1227744000000,1.0],[1227830400000,1.0],[1228089600000,1.0],[1228176000000,1.0],[1228262400000,1.0],[1228348800000,1.0],[1228435200000,1.0],[1228694400000,1.0],[1228780800000,1.0],[1228867200000,1.0],[1228953600000,1.0],[1229040000000,1.0],[1229299200000,1.0],[1229385600000,1.0],[1229472000000,1.0],[1229558400000,1.0],[1229644800000,1.0],[1229904000000,1.0],[1229990400000,1.0],[1230076800000,1.0],[1230163200000,1.0],[1230249600000,1.0],[1230508800000,1.0],[1230595200000,1.0],[1230681600000,1.0],[1231113600000,1.0],[1231200000000,1.0],[1231286400000,1.0],[1231372800000,1.0],[1231459200000,1.0],[1231718400000,1.0],[1231804800000,1.0],[1231891200000,1.0],[1231977600000,1.0],[1232064000000,1.0],[1232323200000,1.0],[1232409600000,1.0],[1232496000000,1.0],[1232582400000,1.0],[1232668800000,1.0],[1233532800000,1.0],[1233619200000,1.0],[1233705600000,1.0],[1233792000000,1.0],[1233878400000,1.0],[1234137600000,1.0],[1234224000000,1.0],[1234310400000,1.0],[1234396800000,1.0],[1234483200000,1.0],[1234742400000,1.0],[1234828800000,1.0],[1234915200000,1.0],[1235001600000,1.0],[1235088000000,1.0],[1235347200000,1.0],[1235433600000,1.0],[1235520000000,1.0],[1235606400000,1.0],[1235692800000,1.0],[1235952000000,1.0],[1236038400000,1.0],[1236124800000,1.0],[1236211200000,1.0],[1236297600000,1.0],[1236556800000,1.0],[1236643200000,1.0],[1236729600000,1.0],[1236816000000,1.0],[1236902400000,1.0],[1237161600000,1.0],[1237248000000,1.0],[1237334400000,1.0],[1237420800000,1.0],[1237507200000,1.0],[1237766400000,1.0],[1237852800000,1.0],[1237939200000,1.0],[1238025600000,1.0],[1238112000000,1.0],[1238371200000,1.0],[1238457600000,1.0],[1238544000000,1.0],[1238630400000,1.0],[1238716800000,1.0],[1239062400000,1.0],[1239148800000,1.0],[1239235200000,1.0],[1239321600000,1.0],[1239580800000,1.0],[1239667200000,1.0],[1239753600000,1.0],[1239840000000,1.0],[1239926400000,1.0],[1240185600000,1.0],[1240272000000,1.0],[1240358400000,1.0],[1240444800000,1.0],[1240531200000,1.0],[1240790400000,1.0],[1240876800000,1.0],[1240963200000,1.0],[1241049600000,1.0],[1241395200000,1.0],[1241481600000,1.0],[1241568000000,1.0],[1241654400000,1.0],[1241740800000,1.0],[1242000000000,1.0],[1242086400000,1.0],[1242172800000,1.0],[1242259200000,1.0],[1242345600000,1.0],[1242604800000,1.0],[1242691200000,1.0],[1242777600000,1.0],[1242864000000,1.0],[1242950400000,1.0],[1243209600000,1.0],[1243296000000,1.0],[1243382400000,1.0],[1243814400000,1.0],[1243900800000,1.0],[1243987200000,1.0],[1244073600000,1.0],[1244160000000,1.0],[1244419200000,1.0],[1244505600000,1.0],[1244592000000,1.0],[1244678400000,1.0],[1244764800000,1.0],[1245024000000,1.0],[1245110400000,1.0],[1245196800000,1.0],[1245283200000,1.0],[1245369600000,1.0],[1245628800000,1.0],[1245715200000,1.0],[1245801600000,1.0],[1245888000000,1.0],[1245974400000,1.0],[1246233600000,1.0],[1246320000000,1.0],[1246406400000,1.0],[1246492800000,1.0],[1246579200000,1.0],[1246838400000,1.0],[1246924800000,1.0],[1247011200000,1.0],[1247097600000,1.0],[1247184000000,1.0],[1247443200000,1.0],[1247529600000,1.0],[1247616000000,1.0],[1247702400000,1.0],[1247788800000,1.0],[1248048000000,1.0],[1248134400000,1.0],[1248220800000,1.0],[1248307200000,1.0],[1248393600000,1.0],[1248652800000,1.0],[1248739200000,1.0],[1248825600000,1.0],[1248912000000,1.0],[1248998400000,1.0],[1249257600000,1.0],[1249344000000,1.0],[1249430400000,1.0],[1249516800000,1.0],[1249603200000,1.0],[1249862400000,1.0],[1249948800000,1.0],[1250035200000,1.0],[1250121600000,1.0],[1250208000000,1.0],[1250467200000,1.0],[1250553600000,1.0],[1250640000000,1.0],[1250726400000,1.0],[1250812800000,1.0],[1251072000000,1.0],[1251158400000,1.0],[1251244800000,1.0],[1251331200000,1.0],[1251417600000,1.0],[1251676800000,1.0],[1251763200000,1.0],[1251849600000,1.0],[1251936000000,1.0],[1252022400000,1.0],[1252281600000,1.0],[1252368000000,1.0],[1252454400000,1.0],[1252540800000,1.0],[1252627200000,1.0],[1252886400000,1.0],[1252972800000,1.0],[1253059200000,1.0],[1253145600000,1.0],[1253232000000,1.0],[1253491200000,1.0],[1253577600000,1.0],[1253664000000,1.0],[1253750400000,1.0],[1253836800000,1.0],[1254096000000,1.0],[1254182400000,1.0],[1254268800000,1.0],[1255046400000,1.0],[1255305600000,1.0],[1255392000000,1.0],[1255478400000,1.0],[1255564800000,1.0],[1255651200000,1.0],[1255910400000,1.0],[1255996800000,1.0],[1256083200000,1.0],[1256169600000,1.0],[1256256000000,1.0],[1256515200000,1.0],[1256601600000,1.0],[1256688000000,1.0],[1256774400000,1.0],[1256860800000,1.0],[1257120000000,1.0],[1257206400000,1.0],[1257292800000,1.0],[1257379200000,1.0],[1257465600000,1.0],[1257724800000,1.0],[1257811200000,1.0],[1257897600000,1.0],[1257984000000,1.0],[1258070400000,1.0],[1258329600000,1.0],[1258416000000,1.0],[1258502400000,1.0],[1258588800000,1.0],[1258675200000,1.0],[1258934400000,1.0],[1259020800000,1.0],[1259107200000,1.0],[1259193600000,1.0],[1259280000000,1.0],[1259539200000,1.0],[1259625600000,1.0],[1259712000000,1.0],[1259798400000,1.0],[1259884800000,1.0],[1260144000000,1.0],[1260230400000,1.0],[1260316800000,1.0],[1260403200000,1.0],[1260489600000,1.0],[1260748800000,1.0],[1260835200000,1.0],[1260921600000,1.0],[1261008000000,1.0],[1261094400000,1.0],[1261353600000,1.0],[1261440000000,1.0],[1261526400000,1.0],[1261612800000,1.0],[1261699200000,1.0],[1261958400000,1.0],[1262044800000,1.0],[1262131200000,1.0],[1262217600000,1.0],[1262563200000,0.85009195],[1262649600000,0.70024184],[1262736000000,0.3517176],[1262822400000,0.30165408],[1262908800000,0.25222148],[1263168000000,0.01014582],[1263254400000,0.00393005],[1263340800000,0.00393005],[1263427200000,0.00393005],[1263513600000,0.00393005],[1263772800000,0.00393005],[1263859200000,0.00393005],[1263945600000,0.00393005],[1264032000000,0.00393005],[1264118400000,0.00393005],[1264377600000,0.04567163],[1264464000000,0.04567163],[1264550400000,0.04567163],[1264636800000,0.11794646],[1264723200000,0.24298566],[1264982400000,0.24298566],[1265068800000,0.24298566],[1265155200000,0.33237408],[1265241600000,0.33237408],[1265328000000,0.37941939],[1265587200000,0.37941939],[1265673600000,0.37941939],[1265760000000,0.37941939],[1265846400000,0.33412221],[1265932800000,0.33412221],[1266796800000,0.28839221],[1266883200000,0.28839221],[1266969600000,0.24215231],[1267056000000,0.10340132],[1267142400000,0.00883344],[1267401600000,0.00883344],[1267488000000,0.00883344],[1267574400000,0.00883344],[1267660800000,0.00883344],[1267747200000,0.00883344],[1268006400000,0.00883344],[1268092800000,0.00883344],[1268179200000,0.00883344],[1268265600000,0.00883344],[1268352000000,0.00883344],[1268611200000,0.00883344],[1268697600000,0.00883344],[1268784000000,0.00883344],[1268870400000,0.00883344],[1268956800000,0.00883344],[1269216000000,0.00883344],[1269302400000,0.00883344],[1269388800000,0.00883344],[1269475200000,0.00883344],[1269561600000,0.00883344],[1269820800000,0.00883344],[1269907200000,0.00883344],[1269993600000,0.00883344],[1270080000000,0.00883344],[1270166400000,0.00883344],[1270512000000,0.00883344],[1270598400000,0.00883344],[1270684800000,0.00883344],[1270771200000,0.00883344],[1271030400000,0.00883344],[1271116800000,0.00883344],[1271203200000,0.00883344],[1271289600000,0.00883344],[1271376000000,0.00883344],[1271635200000,0.00883344],[1271721600000,0.09689244],[1271808000000,0.04382449],[1271894400000,0.04382449],[1271980800000,0.04382449],[1272240000000,0.04382449],[1272326400000,0.04382449],[1272412800000,0.12932943],[1272499200000,0.02395419],[1272585600000,0.07180399],[1272931200000,0.21248827],[1273017600000,0.16231262],[1273104000000,0.06061378],[1273190400000,0.27333275],[1273449600000,0.22378175],[1273536000000,0.37466861],[1273622400000,0.32721061],[1273708800000,0.32721061],[1273795200000,0.32721061],[1274054400000,0.32721061],[1274140800000,0.37141213],[1274227200000,0.37141213],[1274313600000,0.37141213],[1274400000000,0.37141213],[1274659200000,0.32494586],[1274745600000,0.32494586],[1274832000000,0.27630398],[1274918400000,0.27630398],[1275004800000,0.12843619],[1275264000000,0.07863217],[1275350400000,0.07863217],[1275436800000,0.07863217],[1275523200000,0.07863217],[1275609600000,0.02887339],[1275868800000,0.02887339],[1275955200000,0.02887339],[1276041600000,0.02887339],[1276128000000,0.02887339],[1276214400000,0.02887339],[1276732800000,0.02887339],[1276819200000,0.02887339],[1277078400000,0.02887339],[1277164800000,0.02887339],[1277251200000,0.02887339],[1277337600000,0.02887339],[1277424000000,0.11663311],[1277683200000,0.11663311],[1277769600000,0.11663311],[1277856000000,0.56207565],[1277942400000,0.56207565],[1278028800000,0.64169743],[1278288000000,0.80339121],[1278374400000,0.80339121],[1278460800000,0.80339121],[1278547200000,0.80339121],[1278633600000,0.80339121],[1278892800000,0.80339121],[1278979200000,0.80339121],[1279065600000,0.80339121],[1279152000000,0.80339121],[1279238400000,0.80339121],[1279497600000,0.80339121],[1279584000000,0.71800351],[1279670400000,0.54728795],[1279756800000,0.54728795],[1279843200000,0.54728795],[1280102400000,0.46195734],[1280188800000,0.37687043],[1280275200000,0.29142863],[1280361600000,0.03408703],[1280448000000,0.03408703],[1280707200000,0.03408703],[1280793600000,0.03408703],[1280880000000,0.03408703],[1280966400000,0.03408703],[1281052800000,0.03408703],[1281312000000,0.03408703],[1281398400000,0.03408703],[1281484800000,0.03408703],[1281571200000,0.03408703],[1281657600000,0.03408703],[1281916800000,0.03408703],[1282003200000,0.03408703],[1282089600000,0.03408703],[1282176000000,0.03408703],[1282262400000,0.03408703],[1282521600000,0.03408703],[1282608000000,0.03408703],[1282694400000,0.03408703],[1282780800000,0.03408703],[1282867200000,0.03408703],[1283126400000,0.03408703],[1283212800000,0.03408703],[1283299200000,0.02611718],[1283385600000,0.02611718],[1283472000000,0.02611718],[1283731200000,0.02611718],[1283817600000,0.02611718],[1283904000000,0.02611718],[1283990400000,0.02611718],[1284076800000,0.22889195],[1284336000000,0.00199026],[1284422400000,0.00199026],[1284508800000,0.00199026],[1284595200000,0.00199026],[1284681600000,0.04391276],[1284940800000,0.04391276],[1285027200000,0.04391276],[1285545600000,0.04391276],[1285632000000,0.04391276],[1285718400000,0.04391276],[1285804800000,0.04391276],[1286496000000,0.04391276],[1286755200000,0.04391276],[1286841600000,0.04391276],[1286928000000,0.04391276],[1287014400000,0.04391276],[1287100800000,0.04391276],[1287360000000,0.04391276],[1287446400000,0.03420743],[1287532800000,0.03420743],[1287619200000,0.03420743],[1287705600000,0.03420743],[1287964800000,0.03420743],[1288051200000,0.03420743],[1288137600000,0.03420743],[1288224000000,0.03420743],[1288310400000,0.03420743],[1288569600000,0.03420743],[1288656000000,0.03420743],[1288742400000,0.03420743],[1288828800000,0.03420743],[1288915200000,0.03420743],[1289174400000,0.03420743],[1289260800000,0.03420743],[1289347200000,0.03420743],[1289433600000,0.03420743],[1289520000000,0.03420743],[1289779200000,0.03420743],[1289865600000,0.03420743],[1289952000000,0.03420743],[1290038400000,0.03420743],[1290124800000,0.03420743],[1290384000000,0.03420743],[1290470400000,0.03420743],[1290556800000,0.02317061],[1290643200000,0.02317061],[1290729600000,0.02317061],[1290988800000,0.02317061],[1291075200000,0.02317061],[1291161600000,0.01331169],[1291248000000,0.01331169],[1291334400000,0.01331169],[1291593600000,0.01331169],[1291680000000,0.01331169],[1291766400000,0.01331169],[1291852800000,0.01331169],[1291939200000,0.01331169],[1292198400000,0.01331169],[1292284800000,0.01331169],[1292371200000,0.01331169],[1292457600000,0.01331169],[1292544000000,0.01331169],[1292803200000,0.15260001],[1292889600000,0.04109515],[1292976000000,0.04109515],[1293062400000,0.25311451],[1293148800000,0.25311451],[1293408000000,0.25311451],[1293494400000,0.25311451],[1293580800000,0.43681227],[1293667200000,0.43681227],[1293753600000,0.43681227],[1294099200000,0.22477416],[1294185600000,0.17109456],[1294272000000,0.01209501],[1294358400000,0.01209501],[1294617600000,0.01209501],[1294704000000,0.10856547],[1294790400000,0.2140994],[1294876800000,0.11432453],[1294963200000,0.06454909],[1295222400000,0.17284786],[1295308800000,0.36820554],[1295395200000,0.36820554],[1295481600000,0.32050745],[1295568000000,0.27157095],[1295827200000,0.17700602],[1295913600000,0.12006702],[1296000000000,0.22166814],[1296086400000,0.22166814],[1296172800000,0.17654514],[1296432000000,0.13040937],[1296518400000,0.03662853],[1297209600000,0.03662853],[1297296000000,0.03662853],[1297382400000,0.03662853],[1297641600000,0.03662853],[1297728000000,0.03662853],[1297814400000,0.03662853],[1297900800000,0.03662853],[1297987200000,0.03662853],[1298246400000,0.03662853],[1298332800000,0.03662853],[1298419200000,0.03662853],[1298505600000,0.03662853],[1298592000000,0.03662853],[1298851200000,0.03662853],[1298937600000,0.03662853],[1299024000000,0.07916594],[1299110400000,0.02987776],[1299196800000,0.02987776],[1299456000000,0.02987776],[1299542400000,0.02987776],[1299628800000,0.02987776],[1299715200000,0.02987776],[1299801600000,0.02987776],[1300060800000,0.02987776],[1300147200000,0.02987776],[1300233600000,0.14600073],[1300320000000,0.04788725],[1300406400000,0.04788725],[1300665600000,0.04788725],[1300752000000,0.04788725],[1300838400000,0.04722059],[1300924800000,0.04722059],[1301011200000,0.04722059],[1301270400000,0.04722059],[1301356800000,0.03703926],[1301443200000,0.12994437],[1301529600000,0.03635061],[1301616000000,0.03635061],[1302048000000,0.03635061],[1302134400000,0.03635061],[1302220800000,0.03635061],[1302480000000,0.03635061],[1302566400000,0.03635061],[1302652800000,0.03635061],[1302739200000,0.03635061],[1302825600000,0.03635061],[1303084800000,0.03635061],[1303171200000,0.10599756],[1303257600000,0.13787256],[1303344000000,0.04546732],[1303430400000,0.04546732],[1303689600000,0.04091023],[1303776000000,0.04091023],[1303862400000,0.04091023],[1303948800000,0.04091023],[1304035200000,0.12796775],[1304380800000,0.08513168],[1304467200000,0.03845458],[1304553600000,0.03845458],[1304640000000,0.21317361],[1304899200000,0.21317361],[1304985600000,0.17067353],[1305072000000,0.17067353],[1305158400000,0.04285073],[1305244800000,0.00010852],[1305504000000,0.00010852],[1305590400000,0.03941656],[1305676800000,0.03941656],[1305763200000,0.03941656],[1305849600000,0.04018378],[1306108800000,0.07750599],[1306195200000,0.24777936],[1306281600000,0.20704536],[1306368000000,0.1661973],[1306454400000,0.1661973],[1306713600000,0.1661973],[1306800000000,0.1661973],[1306886400000,0.1267572],[1306972800000,0.1267572],[1307059200000,0.0855167],[1307404800000,0.0445538],[1307491200000,0.002755],[1307577600000,0.002755],[1307664000000,0.002755],[1307923200000,0.002755],[1308009600000,0.002755],[1308096000000,0.002755],[1308182400000,0.04215625],[1308268800000,0.04215625],[1308528000000,0.20992105],[1308614400000,0.37276981],[1308700800000,0.37276981],[1308787200000,0.37276981],[1308873600000,0.33340562],[1309132800000,0.33340562],[1309219200000,0.29355192],[1309305600000,0.29355192],[1309392000000,0.29355192],[1309478400000,0.21216417],[1309737600000,0.21216417],[1309824000000,0.13144433],[1309910400000,0.09078623],[1309996800000,0.00966623],[1310083200000,0.00966623],[1310342400000,0.00966623],[1310428800000,0.00966623],[1310515200000,0.00966623],[1310601600000,0.00966623],[1310688000000,0.00966623],[1310947200000,0.00966623],[1311033600000,0.00966623],[1311120000000,0.00966623],[1311206400000,0.00966623],[1311292800000,0.00966623],[1311552000000,0.01107517],[1311638400000,0.01107517],[1311724800000,0.01107517],[1311811200000,0.01107517],[1311897600000,0.01107517],[1312156800000,0.04851712],[1312243200000,0.04851712],[1312329600000,0.04851712],[1312416000000,0.00907756],[1312502400000,0.00907756],[1312761600000,0.00907756],[1312848000000,0.11889103],[1312934400000,0.00085112],[1313020800000,0.00085112],[1313107200000,0.00085112],[1313366400000,0.00085112],[1313452800000,0.00085112],[1313539200000,0.00085112],[1313625600000,0.00085112],[1313712000000,0.00085112],[1313971200000,0.00085112],[1314057600000,0.00085112],[1314144000000,0.00085112],[1314230400000,0.00085112],[1314316800000,0.00085112],[1314576000000,0.00085112],[1314662400000,0.00085112],[1314748800000,0.00085112],[1314835200000,0.00085112],[1314921600000,0.00085112],[1315180800000,0.00085112],[1315267200000,0.00085112],[1315353600000,0.03664637],[1315440000000,0.03664637],[1315526400000,0.03664637],[1315872000000,0.19977532],[1315958400000,0.2386382],[1316044800000,0.2386382],[1316131200000,0.2386382],[1316390400000,0.2386382],[1316476800000,0.2386382],[1316563200000,0.28298305],[1316649600000,0.28298305],[1316736000000,0.68560567],[1316995200000,0.68560567],[1317081600000,0.68560567],[1317168000000,0.68560567],[1317254400000,0.72598007],[1317340800000,0.72598007],[1318204800000,0.72598007],[1318291200000,0.72598007],[1318377600000,0.72598007],[1318464000000,0.72598007],[1318550400000,0.72598007],[1318809600000,0.72598007],[1318896000000,0.68789727],[1318982400000,0.68789727],[1319068800000,0.68789727],[1319155200000,0.68789727],[1319414400000,0.72038104],[1319500800000,0.72038104],[1319587200000,0.72038104],[1319673600000,0.72038104],[1319760000000,0.72038104],[1320019200000,0.72038104],[1320105600000,0.72038104],[1320192000000,0.68253082],[1320278400000,0.64466266],[1320364800000,0.60660816],[1320624000000,0.60660816],[1320710400000,0.56869798],[1320796800000,0.53059342],[1320883200000,0.49259463],[1320969600000,0.45455641],[1321228800000,0.37870136],[1321315200000,0.30321595],[1321401600000,0.22734017],[1321488000000,0.22734017],[1321574400000,0.22734017],[1321833600000,0.19021217],[1321920000000,0.19021217],[1322006400000,0.19021217],[1322092800000,0.15298797],[1322179200000,0.15298797],[1322438400000,0.11581525],[1322524800000,0.04167109],[1322611200000,0.00454615],[1322697600000,0.00454615],[1322784000000,0.00092514],[1323043200000,0.00092514],[1323129600000,0.20495598],[1323216000000,0.20495598],[1323302400000,0.20495598],[1323388800000,0.20495598],[1323648000000,0.23788734],[1323734400000,0.23788734],[1323820800000,0.44296978],[1323907200000,0.44296978],[1323993600000,0.51304594],[1324252800000,0.4787607],[1324339200000,0.4442223],[1324425600000,0.40949622],[1324512000000,0.44491046],[1324598400000,0.44491046],[1324857600000,0.44491046],[1324944000000,0.44491046],[1325030400000,0.5021381],[1325116800000,0.5021381],[1325203200000,0.5021381],[1325635200000,0.43469261],[1325721600000,0.40062941],[1325808000000,0.43053481],[1326067200000,0.43053481],[1326153600000,0.33082488],[1326240000000,0.23005412],[1326326400000,0.23005412],[1326412800000,0.23005412],[1326672000000,0.23005412],[1326758400000,0.29056223],[1326844800000,0.15963698],[1326931200000,0.1261829],[1327017600000,0.0599383],[1327881600000,0.02644506],[1327968000000,0.02644506],[1328054400000,0.02644506],[1328140800000,0.02644506],[1328227200000,0.02644506],[1328486400000,0.02644506],[1328572800000,0.02644506],[1328659200000,0.02644506],[1328745600000,0.02644506],[1328832000000,0.02644506],[1329091200000,0.02644506],[1329177600000,0.02644506],[1329264000000,0.05763081],[1329350400000,0.02466689],[1329436800000,0.02466689],[1329696000000,0.02466689],[1329782400000,0.02466689],[1329868800000,0.02466689],[1329955200000,0.02466689],[1330041600000,0.02466689],[1330300800000,0.02466689],[1330387200000,0.02466689],[1330473600000,0.02466689],[1330560000000,0.02466689],[1330646400000,0.02466689],[1330905600000,0.02466689],[1330992000000,0.02121833],[1331078400000,0.27644373],[1331164800000,0.13981279],[1331251200000,0.00294191],[1331510400000,0.00294191],[1331596800000,0.00294191],[1331683200000,0.00294191],[1331769600000,0.06555397],[1331856000000,0.06555397],[1332115200000,0.00030934],[1332201600000,0.00030934],[1332288000000,0.0316086],[1332374400000,0.06311458],[1332460800000,0.06311458],[1332720000000,0.0298431],[1332806400000,0.06048358],[1332892800000,0.08981491],[1332979200000,0.08981491],[1333065600000,0.12328798],[1333584000000,0.15477528],[1333670400000,0.15477528],[1333929600000,0.22070315],[1334016000000,0.22070315],[1334102400000,0.22070315],[1334188800000,0.15412433],[1334275200000,0.02017906],[1334534400000,0.02017906],[1334620800000,0.02017906],[1334707200000,0.02017906],[1334793600000,0.02017906],[1334880000000,0.02017906],[1335139200000,0.02017906],[1335225600000,0.02017906],[1335312000000,0.02017906],[1335398400000,0.02017906],[1335484800000,0.02017906],[1335916800000,0.02017906],[1336003200000,0.02017906],[1336089600000,0.02017906],[1336348800000,0.02017906],[1336435200000,0.02017906],[1336521600000,0.02017906],[1336608000000,0.02017906],[1336694400000,0.02017906],[1336953600000,0.13144595],[1337040000000,0.13144595],[1337126400000,0.09813443],[1337212800000,0.09813443],[1337299200000,0.09813443],[1337558400000,0.06486927],[1337644800000,0.03020513],[1337731200000,0.03020513],[1337817600000,0.03020513],[1337904000000,0.03020513],[1338163200000,0.06128871],[1338249600000,0.02747251],[1338336000000,0.02747251],[1338422400000,0.02747251],[1338508800000,0.02747251],[1338768000000,0.02747251],[1338854400000,0.02747251],[1338940800000,0.02747251],[1339027200000,0.02747251],[1339113600000,0.02747251],[1339372800000,0.02533782],[1339459200000,0.02533782],[1339545600000,0.02533782],[1339632000000,0.02533782],[1339718400000,0.01667052],[1339977600000,0.01793286],[1340064000000,0.01793286],[1340150400000,0.01793286],[1340236800000,0.01793286],[1340582400000,0.08409853],[1340668800000,0.15644406],[1340755200000,0.15644406],[1340841600000,0.12310188],[1340928000000,0.0894384],[1341187200000,0.0223607],[1341273600000,0.0223607],[1341360000000,0.0223607],[1341446400000,0.0525364],[1341532800000,0.01858624],[1341792000000,0.01858624],[1341878400000,0.01858624],[1341964800000,0.01858624],[1342051200000,0.01858624],[1342137600000,0.01858624],[1342396800000,0.01858624],[1342483200000,0.01858624],[1342569600000,0.01858624],[1342656000000,0.09300525],[1342742400000,0.05854866],[1343001600000,0.02413759],[1343088000000,0.02413759],[1343174400000,0.02413759],[1343260800000,0.02413759],[1343347200000,0.02127119],[1343606400000,0.02127119],[1343692800000,0.02127119],[1343779200000,0.05576617],[1343865600000,0.05576617],[1343952000000,0.02204729],[1344211200000,0.02204729],[1344297600000,0.02204729],[1344384000000,0.02204729],[1344470400000,0.02204729],[1344556800000,0.02204729],[1344816000000,0.02204729],[1344902400000,0.01311916],[1344988800000,0.01311916],[1345075200000,0.01311916],[1345161600000,0.08555123],[1345420800000,0.08555123],[1345507200000,0.08555123],[1345593600000,0.01672665],[1345680000000,0.01672665],[1345766400000,0.01672665],[1346025600000,0.05817817],[1346112000000,0.0911612],[1346198400000,0.0911612],[1346284800000,0.0244114],[1346371200000,0.19084144],[1346630400000,0.19084144],[1346716800000,0.19084144],[1346803200000,0.19084144],[1346889600000,0.08926835],[1346976000000,0.08926835],[1347235200000,0.02052983],[1347321600000,0.02052983],[1347408000000,0.02052983],[1347494400000,0.02052983],[1347580800000,0.02052983],[1347840000000,0.02052983],[1347926400000,0.02052983],[1348012800000,0.02052983],[1348099200000,0.02052983],[1348185600000,0.02052983],[1348444800000,0.02052983],[1348531200000,0.02052983],[1348617600000,0.02052983],[1348704000000,0.08379459],[1348790400000,0.08379459],[1349654400000,0.08379459],[1349740800000,0.08379459],[1349827200000,0.08379459],[1349913600000,0.04960819],[1350000000000,0.01510891],[1350259200000,0.01510891],[1350345600000,0.01272691],[1350432000000,0.01272691],[1350518400000,0.01272691],[1350604800000,0.01272691],[1350864000000,0.01272691],[1350950400000,0.00912255],[1351036800000,0.00912255],[1351123200000,0.00912255],[1351209600000,0.00912255],[1351468800000,0.00912255],[1351555200000,0.00912255],[1351641600000,0.00912255],[1351728000000,0.00912255],[1351814400000,0.00912255],[1352073600000,0.00912255],[1352160000000,0.00912255],[1352246400000,0.00912255],[1352332800000,0.01044211],[1352419200000,0.00425789],[1352678400000,0.24433145],[1352764800000,0.27459789],[1352851200000,0.44128619],[1352937600000,0.47425531],[1353024000000,0.50708458],[1353283200000,0.53825878],[1353369600000,0.53825878],[1353456000000,0.53825878],[1353542400000,0.50642482],[1353628800000,0.47460014],[1353888000000,0.37904184],[1353974400000,0.31525941],[1354060800000,0.31525941],[1354147200000,0.28351385],[1354233600000,0.28351385],[1354492800000,0.22038425],[1354579200000,0.15635235],[1354665600000,0.02888803],[1354752000000,0.02888803],[1354838400000,0.02888803],[1355097600000,0.02888803],[1355184000000,0.02888803],[1355270400000,0.02888803],[1355356800000,0.02888803],[1355443200000,0.02888803],[1355702400000,0.02888803],[1355788800000,0.02888803],[1355875200000,0.02888803],[1355961600000,0.02888803],[1356048000000,0.02888803],[1356307200000,0.02888803],[1356393600000,0.02888803],[1356480000000,0.02888803],[1356566400000,0.02888803],[1356652800000,0.02888803],[1356912000000,0.02888803],[1357257600000,0.02888803],[1357516800000,0.02888803],[1357603200000,0.02888803],[1357689600000,0.02888803],[1357776000000,0.02888803],[1357862400000,0.02888803],[1358121600000,0.02888803],[1358208000000,0.02888803],[1358294400000,0.02888803],[1358380800000,0.02888803],[1358467200000,0.02888803],[1358726400000,0.02888803],[1358812800000,0.01596462],[1358899200000,0.01596462],[1358985600000,0.01233568],[1359072000000,0.01233568],[1359331200000,0.01233568],[1359417600000,0.01233568],[1359504000000,0.01233568],[1359590400000,0.01233568],[1359676800000,0.01233568],[1359936000000,0.01233568],[1360022400000,0.01233568],[1360108800000,0.01233568],[1360195200000,0.01233568],[1360281600000,0.01233568],[1361145600000,0.01233568],[1361232000000,0.00944098],[1361318400000,0.00944098],[1361404800000,0.00944098],[1361491200000,0.00944098],[1361750400000,0.00676348],[1361836800000,0.00661988],[1361923200000,0.00353088],[1362009600000,0.00353088],[1362096000000,0.00353088],[1362355200000,0.00365451],[1362441600000,0.00365451],[1362528000000,0.00365451],[1362614400000,0.00365451],[1362700800000,0.0030707],[1362960000000,0.0030707],[1363046400000,0.0030707],[1363132800000,0.03905042],[1363219200000,0.03905042],[1363305600000,0.00343212],[1363564800000,0.00343212],[1363651200000,0.00343212],[1363737600000,0.00343212],[1363824000000,0.00343212],[1363910400000,0.00343212],[1364169600000,0.00343212],[1364256000000,0.00343212],[1364342400000,0.03444466],[1364428800000,0.03444466],[1364515200000,0.02989654],[1364774400000,0.02989654],[1364860800000,0.02989654],[1364947200000,0.02989654],[1365379200000,0.1513933],[1365465600000,0.11459524],[1365552000000,0.00125006],[1365638400000,0.00125006],[1365724800000,0.00125006],[1365984000000,0.00125006],[1366070400000,0.00125006],[1366156800000,0.00125006],[1366243200000,0.11048588],[1366329600000,0.03564979],[1366588800000,0.03564979],[1366675200000,0.03564979],[1366761600000,0.03564979],[1366848000000,0.03564979],[1366934400000,0.03564979],[1367452800000,0.09528363],[1367539200000,0.02091033],[1367798400000,0.02091033],[1367884800000,0.02091033],[1367971200000,0.02091033],[1368057600000,0.02091033],[1368144000000,0.02091033],[1368403200000,0.02091033],[1368489600000,0.02091033],[1368576000000,0.02091033],[1368662400000,0.02091033],[1368748800000,0.02091033],[1369008000000,0.02091033],[1369094400000,0.02091033],[1369180800000,0.02091033],[1369267200000,0.02091033],[1369353600000,0.02091033],[1369612800000,0.02091033],[1369699200000,0.02091033],[1369785600000,0.02091033],[1369872000000,0.02091033],[1369958400000,0.02091033],[1370217600000,0.02091033],[1370304000000,0.01769033],[1370390400000,0.09098812],[1370476800000,0.0523919],[1370563200000,0.0523919],[1371081600000,0.19383392],[1371168000000,0.30376582],[1371427200000,0.22821922],[1371513600000,0.18988218],[1371600000000,0.29851416],[1371686400000,0.26102302],[1371772800000,0.30393962],[1372032000000,0.30393962],[1372118400000,0.44898972],[1372204800000,0.47999316],[1372291200000,0.44392224],[1372377600000,0.44392224],[1372636800000,0.44392224],[1372723200000,0.40811425],[1372809600000,0.18991036],[1372896000000,0.04343483],[1372982400000,0.00653593],[1373241600000,0.00653593],[1373328000000,0.00653593],[1373414400000,0.00653593],[1373500800000,0.00653593],[1373587200000,0.00653593],[1373846400000,0.00653593],[1373932800000,0.00653593],[1374019200000,0.00653593],[1374105600000,0.00653593],[1374192000000,0.00112198],[1374451200000,0.00112198],[1374537600000,0.00112198],[1374624000000,0.00112198],[1374710400000,0.00112198],[1374796800000,0.00112198],[1375056000000,0.00112198],[1375142400000,0.03248657],[1375228800000,0.03248657],[1375315200000,0.03248657],[1375401600000,0.03248657],[1375660800000,0.03248657],[1375747200000,0.03248657],[1375833600000,0.03248657],[1375920000000,0.03248657],[1376006400000,0.03248657],[1376265600000,0.03248657],[1376352000000,0.03248657],[1376438400000,0.03248657],[1376524800000,0.03248657],[1376611200000,0.03248657],[1376870400000,0.25045843],[1376956800000,0.21323444],[1377043200000,0.17515558],[1377129600000,0.02321598],[1377216000000,0.02321598],[1377475200000,0.02321598],[1377561600000,0.02321598],[1377648000000,0.02321598],[1377734400000,0.01885878],[1377820800000,0.01544278],[1378080000000,0.01544278],[1378166400000,0.01544278],[1378252800000,0.01544278],[1378339200000,0.01544278],[1378425600000,0.01544278],[1378684800000,0.0159716],[1378771200000,0.0159716],[1378857600000,0.0159716],[1378944000000,0.0238892],[1379030400000,0.02163911],[1379289600000,0.02163911],[1379376000000,0.02163911],[1379462400000,0.02163911],[1379894400000,0.06655431],[1379980800000,0.03007056],[1380067200000,0.03007056],[1380153600000,0.03007056],[1380240000000,0.09792702],[1380499200000,0.02327103],[1381190400000,0.02327103],[1381276800000,0.02327103],[1381363200000,0.02327103],[1381449600000,0.02327103],[1381708800000,0.02327103],[1381795200000,0.02327103],[1381881600000,0.02327103],[1381968000000,0.02327103],[1382054400000,0.02327103],[1382313600000,0.02327103],[1382400000000,0.02327103],[1382486400000,0.02327103],[1382572800000,0.02327103],[1382659200000,0.02327103],[1382918400000,0.02327103],[1383004800000,0.12911346],[1383091200000,0.08830309],[1383177600000,0.00777484],[1383264000000,0.04150084],[1383523200000,0.00127476],[1383609600000,0.00127476],[1383696000000,0.00127476],[1383782400000,0.00127476],[1383868800000,0.03988284],[1384128000000,0.03988284],[1384214400000,0.03988284],[1384300800000,0.03988284],[1384387200000,0.11051115],[1384473600000,0.11051115],[1384732800000,0.0305567],[1384819200000,0.0305567],[1384905600000,0.0305567],[1384992000000,0.0305567],[1385078400000,0.0305567],[1385337600000,0.0305567],[1385424000000,0.0305567],[1385510400000,0.0305567],[1385596800000,0.0305567],[1385683200000,0.0305567],[1385942400000,0.0305567],[1386028800000,0.02222761],[1386115200000,0.02222761],[1386201600000,0.02222761],[1386288000000,0.02222761],[1386547200000,0.02222761],[1386633600000,0.02222761],[1386720000000,0.02222761],[1386806400000,0.02222761],[1386892800000,0.02222761],[1387152000000,0.02222761],[1387238400000,0.02222761],[1387324800000,0.063243],[1387411200000,0.063243],[1387497600000,0.063243],[1387756800000,0.28735292],[1387843200000,0.24685435],[1387929600000,0.24685435],[1388016000000,0.20508795],[1388102400000,0.24488649],[1388361600000,0.24488649],[1388448000000,0.24488649],[1388620800000,0.12020215],[1388707200000,0.03664585],[1388966400000,0.03664585],[1389052800000,0.03664585],[1389139200000,0.03664585],[1389225600000,0.03664585],[1389312000000,0.02965312],[1389571200000,0.02965312],[1389657600000,0.03929366],[1389744000000,0.03929366],[1389830400000,0.03929366],[1389916800000,0.03929366],[1390176000000,0.03929366],[1390262400000,0.03929366],[1390348800000,0.03929366],[1390435200000,0.03929366],[1390521600000,0.03929366],[1390780800000,0.03929366],[1390867200000,0.03065915],[1390953600000,0.03065915],[1391040000000,0.03065915],[1391731200000,0.03065915],[1391990400000,0.03065915],[1392076800000,0.03065915],[1392163200000,0.03065915],[1392249600000,0.03065915],[1392336000000,0.03065915],[1392595200000,0.03065915],[1392681600000,0.03065915],[1392768000000,0.03065915],[1392854400000,0.02078335],[1392940800000,0.02078335],[1393200000000,0.02078335],[1393286400000,0.02078335],[1393372800000,0.0323778],[1393459200000,0.0323778],[1393545600000,0.00410258],[1393804800000,0.00410258],[1393891200000,0.00410258],[1393977600000,0.00410258],[1394064000000,0.00410258],[1394150400000,0.03642],[1394409600000,0.03642],[1394496000000,0.12147937],[1394582400000,0.11887814],[1394668800000,0.07660474],[1394755200000,0.03515704],[1395014400000,0.02962633],[1395100800000,0.02962633],[1395187200000,0.02962633],[1395273600000,0.02962633],[1395360000000,0.02962633],[1395619200000,0.02962633],[1395705600000,0.02962633],[1395792000000,0.02962633],[1395878400000,0.02962633],[1395964800000,0.02962633],[1396224000000,0.15346537],[1396310400000,0.03640657],[1396396800000,0.03640657],[1396483200000,0.23979781],[1396569600000,0.20159437],[1396915200000,0.12543512],[1397001600000,0.00956802],[1397088000000,0.00956802],[1397174400000,0.00956802],[1397433600000,0.00956802],[1397520000000,0.00956802],[1397606400000,0.00956802],[1397692800000,0.00956802],[1397779200000,0.00956802],[1398038400000,0.00956802],[1398124800000,0.00956802],[1398211200000,0.01731984],[1398297600000,0.01731984],[1398384000000,0.05670646],[1398643200000,0.09583308],[1398729600000,0.12978128],[1398816000000,0.12978128],[1399248000000,0.12978128],[1399334400000,0.0923339],[1399420800000,0.09112522],[1399507200000,0.16527952],[1399593600000,0.09079118],[1399852800000,0.01602529],[1399939200000,0.01602529],[1400025600000,0.01602529],[1400112000000,0.01602529],[1400198400000,0.01602529],[1400457600000,0.01602529],[1400544000000,0.01023039],[1400630400000,0.04914679],[1400716800000,0.04914679],[1400803200000,0.04914679],[1401062400000,0.01241488],[1401148800000,0.01241488],[1401235200000,0.01241488],[1401321600000,0.01241488],[1401408000000,0.04830355],[1401753600000,0.0843922],[1401840000000,0.0476668],[1401926400000,0.01106872],[1402012800000,0.01106872],[1402272000000,0.01106872],[1402358400000,0.01106872],[1402444800000,0.01106872],[1402531200000,0.01106872],[1402617600000,0.00783571],[1402876800000,0.00783571],[1402963200000,0.00783571],[1403049600000,0.00783571],[1403136000000,0.00783571],[1403222400000,0.07534833],[1403481600000,0.00175183],[1403568000000,0.00175183],[1403654400000,0.03470839],[1403740800000,0.03470839],[1403827200000,0.03470839],[1404086400000,0.03470839],[1404172800000,0.03470839],[1404259200000,0.03470839],[1404345600000,0.03470839],[1404432000000,0.03470839],[1404691200000,0.03470839],[1404777600000,0.03470839],[1404864000000,0.03470839],[1404950400000,0.03470839],[1405036800000,0.03470839],[1405296000000,0.02998978],[1405382400000,0.02998978],[1405468800000,0.02998978],[1405555200000,0.02998978],[1405641600000,0.02998978],[1405900800000,0.02998978],[1405987200000,0.02701778],[1406073600000,0.02701778],[1406160000000,0.02701778],[1406246400000,0.02701778],[1406505600000,0.02701778],[1406592000000,0.02701778],[1406678400000,0.02701778],[1406764800000,0.02701778],[1406851200000,0.02701778],[1407110400000,0.02701778],[1407196800000,0.02701778],[1407283200000,0.02701778],[1407369600000,0.02701778],[1407456000000,0.02701778],[1407715200000,0.02701778],[1407801600000,0.02701778],[1407888000000,0.02701778],[1407974400000,0.02701778],[1408060800000,0.02701778],[1408320000000,0.02701778],[1408406400000,0.02701778],[1408492800000,0.02701778],[1408579200000,0.02701778],[1408665600000,0.02701778],[1408924800000,0.02701778],[1409011200000,0.02701778],[1409097600000,0.02701778],[1409184000000,0.02701778],[1409270400000,0.02701778],[1409529600000,0.02701778],[1409616000000,0.02701778],[1409702400000,0.02701778],[1409788800000,0.02701778],[1409875200000,0.02701778],[1410220800000,0.02701778],[1410307200000,0.02701778],[1410393600000,0.02701778],[1410480000000,0.03040295],[1410739200000,0.03040295],[1410825600000,0.03040295],[1410912000000,0.03040295],[1410998400000,0.03040295],[1411084800000,0.02816151],[1411344000000,0.02816151],[1411430400000,0.02816151],[1411516800000,0.02816151],[1411603200000,0.02816151],[1411689600000,0.02816151],[1411948800000,0.02816151],[1412035200000,0.02816151],[1412726400000,0.02816151],[1412812800000,0.02816151],[1412899200000,0.02816151],[1413158400000,0.02144682],[1413244800000,0.02144682],[1413331200000,0.02144682],[1413417600000,0.02144682],[1413504000000,0.02144682],[1413763200000,0.02798684],[1413849600000,0.02798684],[1413936000000,0.03071845],[1414022400000,0.03071845],[1414108800000,0.07073037],[1414368000000,0.02708919],[1414454400000,0.02616851],[1414540800000,0.02616851],[1414627200000,0.02616851],[1414713600000,0.02616851],[1414972800000,0.02616851],[1415059200000,0.0233766],[1415145600000,0.0233766],[1415232000000,0.01370957],[1415318400000,0.01370957],[1415577600000,0.01370957],[1415664000000,0.01370957],[1415750400000,0.01370957],[1415836800000,0.01370957],[1415923200000,0.01370957],[1416182400000,0.01370957],[1416268800000,0.01370957],[1416355200000,0.01370957],[1416441600000,0.01370957],[1416528000000,0.01370957],[1416787200000,0.01370957],[1416873600000,0.01370957],[1416960000000,0.01370957],[1417046400000,0.01370957],[1417132800000,0.01370957],[1417392000000,0.01370957],[1417478400000,0.01214687],[1417564800000,0.01214687],[1417651200000,0.01214687],[1417737600000,0.01214687],[1417996800000,0.01214687],[1418083200000,0.01214687],[1418169600000,0.00328955],[1418256000000,0.00328955],[1418342400000,0.00328955],[1418601600000,0.00328955],[1418688000000,0.00328955],[1418774400000,0.00328955],[1418860800000,0.00328955],[1418947200000,0.05362555],[1419206400000,0.03528103],[1419292800000,0.03528103],[1419379200000,0.03528103],[1419465600000,0.03528103],[1419552000000,0.03528103],[1419811200000,0.03528103],[1419897600000,0.03528103],[1419984000000,0.03528103],[1420416000000,0.03528103],[1420502400000,0.03528103],[1420588800000,0.03528103],[1420675200000,0.03528103],[1420761600000,0.03528103],[1421020800000,0.03528103],[1421107200000,0.03528103],[1421193600000,0.03528103],[1421280000000,0.03528103],[1421366400000,0.03528103],[1421625600000,0.09986234],[1421712000000,0.04207332],[1421798400000,0.04207332],[1421884800000,0.04207332],[1421971200000,0.04207332],[1422230400000,0.04207332],[1422316800000,0.04207332],[1422403200000,0.04207332],[1422489600000,0.04207332],[1422576000000,0.04207332],[1422835200000,0.1007478],[1422921600000,0.3446081],[1423008000000,0.28557409],[1423094400000,0.10638232],[1423180800000,0.04647114],[1423440000000,0.04910657],[1423526400000,0.04910657],[1423612800000,0.04910657],[1423699200000,0.04910657],[1423785600000,0.04910657],[1424044800000,0.04910657],[1424131200000,0.04910657],[1424822400000,0.04910657],[1424908800000,0.04910657],[1424995200000,0.04910657],[1425254400000,0.04910657],[1425340800000,0.04910657],[1425427200000,0.04910657],[1425513600000,0.04910657],[1425600000000,0.04910657],[1425859200000,0.04910657],[1425945600000,0.04910657],[1426032000000,0.04910657],[1426118400000,0.04910657],[1426204800000,0.04910657],[1426464000000,0.04910657],[1426550400000,0.04910657],[1426636800000,0.04910657],[1426723200000,0.04910657],[1426809600000,0.04910657],[1427068800000,0.04910657],[1427155200000,0.04910657],[1427241600000,0.04910657],[1427328000000,0.04910657],[1427414400000,0.04910657],[1427673600000,0.04910657],[1427760000000,0.04910657],[1427846400000,0.04910657],[1427932800000,0.04910657],[1428019200000,0.04910657],[1428364800000,0.04910657],[1428451200000,0.04910657],[1428537600000,0.04910657],[1428624000000,0.04910657],[1428883200000,0.04910657],[1428969600000,0.04910657],[1429056000000,0.04910657],[1429142400000,0.07057467],[1429228800000,0.07057467],[1429488000000,0.07057467],[1429574400000,0.07057467],[1429660800000,0.07057467],[1429747200000,0.07057467],[1429833600000,0.07057467],[1430092800000,0.07057467],[1430179200000,0.07057467],[1430265600000,0.07057467],[1430352000000,0.07057467],[1430697600000,0.07057467],[1430784000000,0.07057467],[1430870400000,0.07057467],[1430956800000,0.07216187],[1431043200000,0.06157426],[1431302400000,0.06157426],[1431388800000,0.06157426],[1431475200000,0.06157426],[1431561600000,0.06157426],[1431648000000,0.06157426],[1431907200000,0.06157426],[1431993600000,0.06157426],[1432080000000,0.06157426],[1432166400000,0.06157426],[1432252800000,0.06157426],[1432512000000,0.06157426],[1432598400000,0.06157426],[1432684800000,0.06157426],[1432771200000,0.06157426],[1432857600000,0.06157426],[1433116800000,0.06157426],[1433203200000,0.06157426],[1433289600000,0.06157426],[1433376000000,0.06157426],[1433462400000,0.06157426],[1433721600000,0.06157426],[1433808000000,0.06157426],[1433894400000,0.06157426],[1433980800000,0.06157426],[1434067200000,0.06157426],[1434326400000,0.06157426],[1434412800000,0.06157426],[1434499200000,0.06157426],[1434585600000,0.06157426],[1434672000000,0.40164898],[1435017600000,0.70639316],[1435104000000,0.72601484],[1435190400000,0.37934447],[1435276800000,0.37171046],[1435536000000,0.18588613],[1435622400000,0.27949265],[1435708800000,0.20404946],[1435795200000,0.20909541],[1435881600000,0.49429598],[1436140800000,0.49429598],[1436227200000,0.67228364],[1436313600000,0.65355558],[1436400000000,0.58666603],[1436486400000,0.51945179],[1436745600000,0.51945179],[1436832000000,0.51945179],[1436918400000,0.51945179],[1437004800000,0.51945179],[1437091200000,0.51945179],[1437350400000,0.51945179],[1437436800000,0.51945179],[1437523200000,0.51945179],[1437609600000,0.51945179],[1437696000000,0.51945179],[1437955200000,0.51945179],[1438041600000,0.51945179],[1438128000000,0.51945179],[1438214400000,0.51945179],[1438300800000,0.38105277],[1438560000000,0.38105277],[1438646400000,0.37332104],[1438732800000,0.30889019],[1438819200000,0.37202703],[1438905600000,0.37202703],[1439164800000,0.37202703],[1439251200000,0.37202703],[1439337600000,0.30452335],[1439424000000,0.30452335],[1439510400000,0.30452335],[1439769600000,0.23539819],[1439856000000,0.34176585],[1439942400000,0.34176585],[1440028800000,0.34176585],[1440115200000,0.40029014],[1440374400000,0.40029014],[1440460800000,0.62394384],[1440547200000,0.62394384],[1440633600000,0.74103692],[1440720000000,0.74103692],[1440979200000,0.74103692],[1441065600000,0.74103692],[1441152000000,0.82073336],[1441584000000,0.82073336],[1441670400000,0.95937368],[1441756800000,0.95937368],[1441843200000,0.95937368],[1441929600000,0.95937368],[1442188800000,0.95937368],[1442275200000,0.95937368],[1442361600000,0.95937368],[1442448000000,0.95937368],[1442534400000,0.95937368],[1442793600000,0.95937368],[1442880000000,0.95937368],[1442966400000,0.95937368],[1443052800000,0.95937368],[1443139200000,0.95937368],[1443398400000,0.95937368],[1443484800000,0.95937368],[1443571200000,0.95937368],[1444262400000,0.95937368],[1444348800000,0.95937368],[1444608000000,0.95937368],[1444694400000,0.95937368],[1444780800000,0.95937368],[1444867200000,0.95937368],[1444953600000,0.95937368],[1445212800000,0.90441752],[1445299200000,0.84941018],[1445385600000,0.84941018],[1445472000000,0.84941018],[1445558400000,0.84941018],[1445817600000,0.84941018],[1445904000000,0.79460594],[1445990400000,0.79460594],[1446076800000,0.79460594],[1446163200000,0.79460594],[1446422400000,0.79460594],[1446508800000,0.79460594],[1446595200000,0.79460594],[1446681600000,0.52432515],[1446768000000,0.08951352],[1447027200000,0.03491088],[1447113600000,0.03491088],[1447200000000,0.03491088],[1447286400000,0.03491088],[1447372800000,0.03491088],[1447632000000,0.03491088],[1447718400000,0.03491088],[1447804800000,0.03491088],[1447891200000,0.03491088],[1447977600000,0.03491088],[1448236800000,0.03491088],[1448323200000,0.03491088],[1448409600000,0.03491088],[1448496000000,0.03491088],[1448582400000,0.08675799],[1448841600000,0.08675799],[1448928000000,0.03304995],[1449014400000,0.03304995],[1449100800000,0.03304995],[1449187200000,0.03304995],[1449446400000,0.03304995],[1449532800000,0.03304995],[1449619200000,0.02422803],[1449705600000,0.02422803],[1449792000000,0.01337679],[1450051200000,0.01337679],[1450137600000,0.01337679],[1450224000000,0.01337679],[1450310400000,0.01337679],[1450396800000,0.01337679],[1450656000000,0.01337679],[1450742400000,0.01337679],[1450828800000,0.01337679],[1450915200000,0.01337679],[1451001600000,0.01337679],[1451260800000,0.01337679],[1451347200000,0.01337679],[1451433600000,0.06305919],[1451520000000,0.06305919],[1451865600000,0.06305919],[1451952000000,0.55552083],[1452038400000,0.55552083],[1452124800000,0.50059554],[1452211200000,0.50059554],[1452470400000,0.60076649],[1452556800000,0.65008082],[1452643200000,0.69491162],[1452729600000,0.69491162],[1452816000000,0.69491162],[1453075200000,0.69491162],[1453161600000,0.69491162],[1453248000000,0.69491162],[1453334400000,0.69491162],[1453420800000,0.69491162],[1453680000000,0.69491162],[1453766400000,0.69491162],[1453852800000,0.64285019],[1453939200000,0.64285019],[1454025600000,0.83780958],[1454284800000,0.83780958],[1454371200000,0.83780958],[1454457600000,0.78698698],[1454544000000,0.78698698],[1454630400000,0.78698698],[1455494400000,0.78698698],[1455580800000,0.78698698],[1455667200000,0.78698698],[1455753600000,0.73613728],[1455840000000,0.73613728],[1456099200000,0.73613728],[1456185600000,0.73613728],[1456272000000,0.68473728],[1456358400000,0.68473728],[1456444800000,0.68473728],[1456704000000,0.68473728],[1456790400000,0.68473728],[1456876800000,0.68473728],[1456963200000,0.68473728],[1457049600000,0.72626333],[1457308800000,0.67603133],[1457395200000,0.62599933],[1457481600000,0.62599933],[1457568000000,0.62599933],[1457654400000,0.62599933],[1457913600000,0.62599933],[1458000000000,0.62599933],[1458086400000,0.62599933],[1458172800000,0.62599933],[1458259200000,0.62599933],[1458518400000,0.62599933],[1458604800000,0.62599933],[1458691200000,0.5257637],[1458777600000,0.47581506],[1458864000000,0.37754244],[1459123200000,0.32862714],[1459209600000,0.23178706],[1459296000000,0.18218338],[1459382400000,0.03583146],[1459468800000,0.03583146],[1459814400000,0.03583146],[1459900800000,0.03583146],[1459987200000,0.03583146],[1460073600000,0.03583146],[1460332800000,0.03583146],[1460419200000,0.03583146],[1460505600000,0.03583146],[1460592000000,0.03583146],[1460678400000,0.03583146],[1460937600000,0.03583146],[1461024000000,0.03583146],[1461110400000,0.03583146],[1461196800000,0.16991611],[1461283200000,0.02650625],[1461542400000,0.02650625],[1461628800000,0.02650625],[1461715200000,0.02650625],[1461801600000,0.02650625],[1461888000000,0.02650625],[1462233600000,0.02650625],[1462320000000,0.02650625],[1462406400000,0.02650625],[1462492800000,0.02650625],[1462752000000,0.06892199],[1462838400000,0.23748258],[1462924800000,0.23748258],[1463011200000,0.04360762],[1463097600000,0.04360762],[1463356800000,0.04360762],[1463443200000,0.04360762],[1463529600000,0.04360762],[1463616000000,0.04360762],[1463702400000,0.04360762],[1463961600000,0.04360762],[1464048000000,0.04360762],[1464134400000,0.04360762],[1464220800000,0.08291728],[1464307200000,0.03572696],[1464566400000,0.03572696],[1464652800000,0.03067333],[1464739200000,0.03067333],[1464825600000,0.03067333],[1464912000000,0.03067333],[1465171200000,0.03067333],[1465257600000,0.03067333],[1465344000000,0.03067333],[1465776000000,0.03067333],[1465862400000,0.03067333],[1465948800000,0.02758418],[1466035200000,0.02758418],[1466121600000,0.02758418],[1466380800000,0.02758418],[1466467200000,0.02758418],[1466553600000,0.02304902],[1466640000000,0.02304902],[1466726400000,0.02304902],[1466985600000,0.16770557],[1467072000000,0.07300758],[1467158400000,0.02399784],[1467244800000,0.02399784],[1467331200000,0.02399784],[1467590400000,0.02399784],[1467676800000,0.02399784],[1467763200000,0.02399784],[1467849600000,0.02399784],[1467936000000,0.02399784],[1468195200000,0.02399784],[1468281600000,0.02399784],[1468368000000,0.02399784],[1468454400000,0.02399784],[1468540800000,0.02399784],[1468800000000,0.02399784],[1468886400000,0.02399784],[1468972800000,0.02399784],[1469059200000,0.02399784],[1469145600000,0.02399784],[1469404800000,0.02399784],[1469491200000,0.02399784],[1469577600000,0.02399784],[1469664000000,0.02399784],[1469750400000,0.02399784],[1470009600000,0.02399784],[1470096000000,0.02399784],[1470182400000,0.02399784],[1470268800000,0.02399784],[1470355200000,0.02399784],[1470614400000,0.02399784],[1470700800000,0.01296151],[1470787200000,0.01296151],[1470873600000,0.01296151],[1470960000000,0.01296151],[1471219200000,0.01296151],[1471305600000,0.01296151],[1471392000000,0.01296151],[1471478400000,0.01296151],[1471564800000,0.02600152],[1471824000000,0.02600152],[1471910400000,0.02068594],[1471996800000,0.02068594],[1472083200000,0.06525766],[1472169600000,0.01084505],[1472428800000,0.01084505],[1472515200000,0.00786477],[1472601600000,0.00786477],[1472688000000,0.00786477],[1472774400000,0.00795151],[1473033600000,0.01887832],[1473120000000,0.01887832],[1473206400000,0.01887832],[1473292800000,0.01887832],[1473379200000,0.01887832],[1473638400000,0.01887832],[1473724800000,0.01482663],[1473811200000,0.01446419],[1474243200000,0.01446419],[1474329600000,0.01446419],[1474416000000,0.01446419],[1474502400000,0.01446419],[1474588800000,0.01446419],[1474848000000,0.01446419],[1474934400000,0.06565099],[1475020800000,0.01187027],[1475107200000,0.01187027],[1475193600000,0.00657539],[1476057600000,0.00657539],[1476144000000,0.00202279],[1476230400000,0.00202279],[1476316800000,0.00202279],[1476403200000,0.05486927],[1476662400000,0.05486927],[1476748800000,0.05486927],[1476835200000,0.00046294],[1476921600000,0.00046294],[1477008000000,0.00046294],[1477267200000,0.00046294],[1477353600000,0.00046294],[1477440000000,0.05149938],[1477526400000,0.05149938],[1477612800000,0.05149938],[1477872000000,0.0432036],[1477958400000,0.10269047],[1478044800000,0.04895467],[1478131200000,0.04895467],[1478217600000,0.04895467],[1478476800000,0.04895467],[1478563200000,0.04895467],[1478649600000,0.04895467],[1478736000000,0.04895467],[1478822400000,0.04895467],[1479081600000,0.04895467],[1479168000000,0.04895467],[1479254400000,0.04895467],[1479340800000,0.04895467],[1479427200000,0.04895467],[1479686400000,0.04895467],[1479772800000,0.04895467],[1479859200000,0.04225333],[1479945600000,0.04225333],[1480032000000,0.04225333],[1480291200000,0.04225333],[1480377600000,0.040263],[1480464000000,0.040263],[1480550400000,0.040263],[1480636800000,0.040263],[1480896000000,0.2053007],[1480982400000,0.03952445],[1481068800000,0.03952445],[1481155200000,0.03952445],[1481241600000,0.03952445],[1481500800000,0.03952445],[1481587200000,0.26379981],[1481673600000,0.20921541],[1481760000000,0.15397953],[1481846400000,0.15252863],[1482105600000,0.09769583],[1482192000000,0.04248639],[1482278400000,0.14656102],[1482364800000,0.03695422],[1482451200000,0.03695422],[1482710400000,0.08746312],[1482796800000,0.03152214],[1482883200000,0.03152214],[1482969600000,0.03152214],[1483056000000,0.03152214],[1483401600000,0.03152214],[1483488000000,0.03152214],[1483574400000,0.03152214],[1483660800000,0.03152214],[1483920000000,0.03152214],[1484006400000,0.03152214],[1484092800000,0.03152214],[1484179200000,0.03152214],[1484265600000,0.03040685],[1484524800000,0.03040685],[1484611200000,0.09656302],[1484697600000,0.04368942],[1484784000000,0.04368942],[1484870400000,0.04469648],[1485129600000,0.04469648],[1485216000000,0.04469648],[1485302400000,0.04469648],[1485388800000,0.04469648],[1486080000000,0.04469648],[1486339200000,0.04469648],[1486425600000,0.04469648],[1486512000000,0.04469648],[1486598400000,0.04469648],[1486684800000,0.04469648],[1486944000000,0.04469648],[1487030400000,0.04469648],[1487116800000,0.04469648],[1487203200000,0.04469648],[1487289600000,0.04469648],[1487548800000,0.04469648],[1487635200000,0.04469648],[1487721600000,0.04469648],[1487808000000,0.04469648],[1487894400000,0.04469648],[1488153600000,0.04427298],[1488240000000,0.04427298],[1488326400000,0.04427298],[1488412800000,0.04427298],[1488499200000,0.04427298],[1488758400000,0.04241726],[1488844800000,0.04241726],[1488931200000,0.04241726],[1489017600000,0.04135014],[1489104000000,0.04135014],[1489363200000,0.04135014],[1489449600000,0.04135014],[1489536000000,0.04135014],[1489622400000,0.04156084],[1489708800000,0.04156084],[1489968000000,0.04156084],[1490054400000,0.04156084],[1490140800000,0.03486724],[1490227200000,0.03964725],[1490313600000,0.03964725],[1490572800000,0.03964725],[1490659200000,0.03964725],[1490745600000,0.03964725],[1490832000000,0.03964725],[1490918400000,0.03964725],[1491350400000,0.03434586],[1491436800000,0.03434586],[1491523200000,0.03434586],[1491782400000,0.03434586],[1491868800000,0.03476808],[1491955200000,0.03476808],[1492041600000,0.03476808],[1492128000000,0.03476808],[1492387200000,0.03476808],[1492473600000,0.03476808],[1492560000000,0.03476808],[1492646400000,0.03019708],[1492732800000,0.03019708],[1492992000000,0.03955094],[1493078400000,0.04569278],[1493164800000,0.04569278],[1493251200000,0.04569278],[1493337600000,0.04269774],[1493683200000,0.04269774],[1493769600000,0.04269774],[1493856000000,0.04269774],[1493942400000,0.04269774],[1494201600000,0.03763883],[1494288000000,0.03763883],[1494374400000,0.03763883],[1494460800000,0.03728841],[1494547200000,0.03728841],[1494806400000,0.03728841],[1494892800000,0.03728841],[1494979200000,0.03806362],[1495065600000,0.03806362],[1495152000000,0.03806362],[1495411200000,0.03806362],[1495497600000,0.03806362],[1495584000000,0.03356788],[1495670400000,0.03356788],[1495756800000,0.03356788],[1496188800000,0.03356788],[1496275200000,0.03356788],[1496361600000,0.03356788],[1496620800000,0.02841079],[1496707200000,0.02841079],[1496793600000,0.02841079],[1496880000000,0.02841079],[1496966400000,0.02841079],[1497225600000,0.02841079],[1497312000000,0.02841079],[1497398400000,0.02841079],[1497484800000,0.02841079],[1497571200000,0.02841079],[1497830400000,0.02841079],[1497916800000,0.02841079],[1498003200000,0.02841079],[1498089600000,0.02841079],[1498176000000,0.02841079],[1498435200000,0.02841079],[1498521600000,0.02841079],[1498608000000,0.02841079],[1498694400000,0.02841079],[1498780800000,0.02841079],[1499040000000,0.02841079],[1499126400000,0.02841079],[1499212800000,0.02841079],[1499299200000,0.02841079],[1499385600000,0.02740736],[1499644800000,0.02740736],[1499731200000,0.02740736],[1499817600000,0.02740736],[1499904000000,0.04273087],[1499990400000,0.03958181],[1500249600000,0.03958181],[1500336000000,0.04954911],[1500422400000,0.04954911],[1500508800000,0.04954911],[1500595200000,0.04954911],[1500854400000,0.04954911],[1500940800000,0.04954911],[1501027200000,0.04954911],[1501113600000,0.11706799],[1501200000000,0.05741807],[1501459200000,0.05741807],[1501545600000,0.05741807],[1501632000000,0.05741807],[1501718400000,0.06004233],[1501804800000,0.06004233],[1502064000000,0.00011499],[1502150400000,0.00011499],[1502236800000,0.00011499],[1502323200000,0.00011499],[1502409600000,0.00011499],[1502668800000,0.00011499],[1502755200000,0.00011499],[1502841600000,0.00011499],[1502928000000,0.05573499],[1503014400000,0.05573499],[1503273600000,0.05573499],[1503360000000,0.05573499],[1503446400000,0.05573499],[1503532800000,0.05506438],[1503619200000,0.05506438],[1503878400000,0.05506438],[1503964800000,0.05506438],[1504051200000,0.04812598],[1504137600000,0.04812598],[1504224000000,0.04812598],[1504483200000,0.04812598],[1504569600000,0.0462929],[1504656000000,0.04010813],[1504742400000,0.04010813],[1504828800000,0.04010813],[1505088000000,0.04749071],[1505174400000,0.04749071],[1505260800000,0.04749071],[1505347200000,0.04749071],[1505433600000,0.04749071],[1505692800000,0.04749071],[1505779200000,0.03842891],[1505865600000,0.03842891],[1505952000000,0.03842891],[1506038400000,0.03842891],[1506297600000,0.03842891],[1506384000000,0.03701323],[1506470400000,0.03701323],[1506556800000,0.03420293],[1506643200000,0.04092648],[1507507200000,0.04092648],[1507593600000,0.04092648],[1507680000000,0.04092648],[1507766400000,0.04092648],[1507852800000,0.04092648],[1508112000000,0.04092648],[1508198400000,0.04092648],[1508284800000,0.04092648],[1508371200000,0.04092648],[1508457600000,0.04092648],[1508716800000,0.04092648],[1508803200000,0.04092648],[1508889600000,0.04092648],[1508976000000,0.04041627],[1509062400000,0.03575517],[1509321600000,0.03575517],[1509408000000,0.04326647],[1509494400000,0.04326647],[1509580800000,0.04326647],[1509667200000,0.04326647],[1509926400000,0.04326647],[1510012800000,0.04326647],[1510099200000,0.04326647],[1510185600000,0.04326647],[1510272000000,0.04326647],[1510531200000,0.04326647],[1510617600000,0.04326647],[1510704000000,0.04326647],[1510790400000,0.04326647],[1510876800000,0.03355515],[1511136000000,0.03355515],[1511222400000,0.03355515],[1511308800000,0.03355515],[1511395200000,0.03355515],[1511481600000,0.03355515],[1511740800000,0.03355515],[1511827200000,0.16239444],[1511913600000,0.0317382],[1512000000000,0.0317382],[1512086400000,0.0317382],[1512345600000,0.0317382],[1512432000000,0.0317382],[1512518400000,0.0317382],[1512604800000,0.0317382],[1512691200000,0.0317382],[1512950400000,0.0317382],[1513036800000,0.0317382],[1513123200000,0.0317382],[1513209600000,0.0317382],[1513296000000,0.0317382],[1513555200000,0.0317382],[1513641600000,0.0317382],[1513728000000,0.0317382],[1513814400000,0.0317382],[1513900800000,0.0317382],[1514160000000,0.0317382],[1514246400000,0.0317382],[1514332800000,0.0317382],[1514419200000,0.0317382],[1514505600000,0.0317382],[1514851200000,0.0317382],[1514937600000,0.0317382],[1515024000000,0.0317382],[1515110400000,0.0317382],[1515369600000,0.0317382],[1515456000000,0.0317382],[1515542400000,0.0317382],[1515628800000,0.0317382],[1515715200000,0.0317382],[1515974400000,0.0317382],[1516060800000,0.0317382],[1516147200000,0.0317382],[1516233600000,0.0317382],[1516320000000,0.0317382],[1516579200000,0.0317382],[1516665600000,0.0317382],[1516752000000,0.0317382],[1516838400000,0.0317382],[1516924800000,0.0317382],[1517184000000,0.0317382],[1517270400000,0.06401098],[1517356800000,0.06401098],[1517443200000,0.06401098],[1517529600000,0.15165614],[1517788800000,0.01378529],[1517875200000,0.01820733],[1517961600000,0.01820733],[1518048000000,0.29285823],[1518134400000,0.36802495],[1518393600000,0.36802495],[1518480000000,0.36802495],[1518566400000,0.36802495],[1519257600000,0.36802495],[1519344000000,0.17631016],[1519603200000,0.04663726],[1519689600000,0.04663726],[1519776000000,0.04663726],[1519862400000,0.04663726],[1519948800000,0.04663726],[1520208000000,0.04186948],[1520294400000,0.04186948],[1520380800000,0.04186948],[1520467200000,0.04186948],[1520553600000,0.0351617],[1520812800000,0.03506462],[1520899200000,0.03506462],[1520985600000,0.03506462],[1521072000000,0.03506462],[1521158400000,0.03506462],[1521417600000,0.03506462],[1521504000000,0.03506462],[1521590400000,0.03506462],[1521676800000,0.03506462],[1521763200000,0.15885962],[1522022400000,0.15885962],[1522108800000,0.03060897],[1522195200000,0.02462669],[1522281600000,0.02462669],[1522368000000,0.02462669],[1522627200000,0.02462669],[1522713600000,0.02462669],[1522800000000,0.02462669],[1523232000000,0.02462669],[1523318400000,0.02462669],[1523404800000,0.02462669],[1523491200000,0.02462669],[1523577600000,0.02462669],[1523836800000,0.46313669],[1523923200000,0.52285959],[1524009600000,0.75891895],[1524096000000,0.75891895],[1524182400000,0.69795967],[1524441600000,0.69795967],[1524528000000,0.57495448],[1524614400000,0.45211019],[1524700800000,0.02020944],[1524787200000,0.02020944],[1525219200000,0.02020944],[1525305600000,0.02020944],[1525392000000,0.02020944],[1525651200000,0.02020944],[1525737600000,0.02020944],[1525824000000,0.02020944],[1525910400000,0.02020944],[1525996800000,0.02020944],[1526256000000,0.02020944],[1526342400000,0.02020944],[1526428800000,0.02020944],[1526515200000,0.02020944],[1526601600000,0.02020944],[1526860800000,0.01255711],[1526947200000,0.01255711],[1527033600000,0.01255711],[1527120000000,0.01255711],[1527206400000,0.01255711],[1527465600000,0.01255711],[1527552000000,0.01255711],[1527638400000,0.01255711],[1527724800000,0.01255711],[1527811200000,0.01255711],[1528070400000,0.01255711],[1528156800000,0.01255711],[1528243200000,0.01255711],[1528329600000,0.01255711],[1528416000000,0.01255711],[1528675200000,0.01255711],[1528761600000,0.07201111],[1528848000000,0.00215511],[1528934400000,0.06324831],[1529020800000,0.06324831],[1529366400000,0.33569299],[1529452800000,0.33569299],[1529539200000,0.26804099],[1529625600000,0.34661534],[1529884800000,0.27899174],[1529971200000,0.21107774],[1530057600000,0.21107774],[1530144000000,0.21107774],[1530230400000,0.21107774],[1530489600000,0.21107774],[1530576000000,0.46766424],[1530662400000,0.52716624],[1530748800000,0.66124824],[1530835200000,0.66124824],[1531094400000,0.66124824],[1531180800000,0.66124824],[1531267200000,0.66124824],[1531353600000,0.66124824],[1531440000000,0.59364824],[1531699200000,0.45614024],[1531785600000,0.24923964],[1531872000000,0.24923964],[1531958400000,0.11156324],[1532044800000,0.04219524],[1532304000000,0.04219524],[1532390400000,0.15034614],[1532476800000,0.02239424],[1532563200000,0.02239424],[1532649600000,0.02239424],[1532908800000,0.02239424],[1532995200000,0.09771764],[1533081600000,0.03385424]]},{\"name\":\"PROPERTY_TURTLE_20_60_30\",\"yAxis\":0,\"data\":[[1199232000000,0.0],[1199318400000,0.0],[1199404800000,0.0],[1199664000000,0.0],[1199750400000,0.0],[1199836800000,0.0],[1199923200000,0.0],[1200009600000,0.0],[1200268800000,0.0],[1200355200000,0.0],[1200441600000,0.0],[1200528000000,0.0],[1200614400000,0.0],[1200873600000,0.0],[1200960000000,0.0],[1201046400000,0.0],[1201132800000,0.0],[1201219200000,0.0],[1201478400000,0.0],[1201564800000,0.0],[1201651200000,0.0],[1201737600000,0.0],[1201824000000,0.0],[1202083200000,0.0],[1202169600000,0.0],[1202860800000,0.0],[1202947200000,0.0],[1203033600000,0.0],[1203292800000,0.0],[1203379200000,0.0],[1203465600000,0.0],[1203552000000,0.0],[1203638400000,0.0],[1203897600000,0.0],[1203984000000,0.0],[1204070400000,0.0],[1204156800000,0.0],[1204243200000,0.0],[1204502400000,0.0],[1204588800000,0.0],[1204675200000,0.0],[1204761600000,0.0],[1204848000000,0.0],[1205107200000,0.0],[1205193600000,0.0],[1205280000000,0.0],[1205366400000,0.0],[1205452800000,0.0],[1205712000000,0.0],[1205798400000,0.0],[1205884800000,0.0],[1205971200000,0.0],[1206057600000,0.0],[1206316800000,0.0],[1206403200000,0.0],[1206489600000,0.0],[1206576000000,0.0],[1206662400000,0.0],[1206921600000,0.0],[1207008000000,0.0],[1207094400000,0.0],[1207180800000,0.0],[1207526400000,0.0],[1207612800000,0.0],[1207699200000,0.0],[1207785600000,0.0],[1207872000000,0.0],[1208131200000,0.0],[1208217600000,0.0],[1208304000000,0.0],[1208390400000,0.0],[1208476800000,0.0],[1208736000000,0.0],[1208822400000,0.0],[1208908800000,0.0],[1208995200000,0.0],[1209081600000,0.0],[1209340800000,0.0],[1209427200000,0.0],[1209513600000,0.0],[1209945600000,0.0],[1210032000000,0.0],[1210118400000,0.0],[1210204800000,0.0],[1210291200000,0.0],[1210550400000,0.0],[1210636800000,0.0],[1210723200000,0.0],[1210809600000,0.0],[1210896000000,0.0],[1211155200000,0.0],[1211241600000,0.0],[1211328000000,0.0],[1211414400000,0.0],[1211500800000,0.0],[1211760000000,0.0],[1211846400000,0.0],[1211932800000,0.0],[1212019200000,0.0],[1212105600000,0.0],[1212364800000,0.0],[1212451200000,0.0],[1212537600000,0.0],[1212624000000,0.0],[1212710400000,0.0],[1213056000000,0.0],[1213142400000,0.0],[1213228800000,0.0],[1213315200000,0.0],[1213574400000,0.0],[1213660800000,0.0],[1213747200000,0.0],[1213833600000,0.0],[1213920000000,0.0],[1214179200000,0.0],[1214265600000,0.0],[1214352000000,0.0],[1214438400000,0.0],[1214524800000,0.0],[1214784000000,0.0],[1214870400000,0.0],[1214956800000,0.0],[1215043200000,0.0],[1215129600000,0.0],[1215388800000,0.0],[1215475200000,0.0],[1215561600000,0.0],[1215648000000,0.0],[1215734400000,0.0],[1215993600000,0.0],[1216080000000,0.0],[1216166400000,0.0],[1216252800000,0.0],[1216339200000,0.0],[1216598400000,0.0],[1216684800000,0.0],[1216771200000,0.0],[1216857600000,0.0],[1216944000000,0.0],[1217203200000,0.0],[1217289600000,0.0],[1217376000000,0.0],[1217462400000,0.0],[1217548800000,0.0],[1217808000000,0.0],[1217894400000,0.0],[1217980800000,0.0],[1218067200000,0.0],[1218153600000,0.0],[1218412800000,0.0],[1218499200000,0.0],[1218585600000,0.0],[1218672000000,0.0],[1218758400000,0.0],[1219017600000,0.0],[1219104000000,0.0],[1219190400000,0.0],[1219276800000,0.0],[1219363200000,0.0],[1219622400000,0.0],[1219708800000,0.0],[1219795200000,0.0],[1219881600000,0.0],[1219968000000,0.0],[1220227200000,0.0],[1220313600000,0.0],[1220400000000,0.0],[1220486400000,0.0],[1220572800000,0.0],[1220832000000,0.0],[1220918400000,0.0],[1221004800000,0.0],[1221091200000,0.0],[1221177600000,0.0],[1221523200000,0.0],[1221609600000,0.0],[1221696000000,0.0],[1221782400000,0.0],[1222041600000,0.0],[1222128000000,0.0],[1222214400000,0.0],[1222300800000,0.0],[1222387200000,0.0],[1223251200000,0.0],[1223337600000,0.0],[1223424000000,0.0],[1223510400000,0.0],[1223596800000,0.0],[1223856000000,0.0],[1223942400000,0.0],[1224028800000,0.0],[1224115200000,0.0],[1224201600000,0.0],[1224460800000,0.0],[1224547200000,0.0],[1224633600000,0.0],[1224720000000,0.0],[1224806400000,0.0],[1225065600000,0.0],[1225152000000,0.0],[1225238400000,0.0],[1225324800000,0.0],[1225411200000,0.0],[1225670400000,0.0],[1225756800000,0.0],[1225843200000,0.0],[1225929600000,0.0],[1226016000000,0.0],[1226275200000,0.0],[1226361600000,0.0],[1226448000000,0.0],[1226534400000,0.0],[1226620800000,0.0],[1226880000000,0.0],[1226966400000,0.0],[1227052800000,0.0],[1227139200000,0.0],[1227225600000,0.0],[1227484800000,0.0],[1227571200000,0.0],[1227657600000,0.0],[1227744000000,0.0],[1227830400000,0.0],[1228089600000,0.0],[1228176000000,0.0],[1228262400000,0.0],[1228348800000,0.0],[1228435200000,0.0],[1228694400000,0.0],[1228780800000,0.0],[1228867200000,0.0],[1228953600000,0.0],[1229040000000,0.0],[1229299200000,0.0],[1229385600000,0.0],[1229472000000,0.0],[1229558400000,0.0],[1229644800000,0.0],[1229904000000,0.0],[1229990400000,0.0],[1230076800000,0.0],[1230163200000,0.0],[1230249600000,0.0],[1230508800000,0.0],[1230595200000,0.0],[1230681600000,0.0],[1231113600000,0.0],[1231200000000,0.0],[1231286400000,0.0],[1231372800000,0.0],[1231459200000,0.0],[1231718400000,0.0],[1231804800000,0.0],[1231891200000,0.0],[1231977600000,0.0],[1232064000000,0.0],[1232323200000,0.0],[1232409600000,0.0],[1232496000000,0.0],[1232582400000,0.0],[1232668800000,0.0],[1233532800000,0.0],[1233619200000,0.0],[1233705600000,0.0],[1233792000000,0.0],[1233878400000,0.0],[1234137600000,0.0],[1234224000000,0.0],[1234310400000,0.0],[1234396800000,0.0],[1234483200000,0.0],[1234742400000,0.0],[1234828800000,0.0],[1234915200000,0.0],[1235001600000,0.0],[1235088000000,0.0],[1235347200000,0.0],[1235433600000,0.0],[1235520000000,0.0],[1235606400000,0.0],[1235692800000,0.0],[1235952000000,0.0],[1236038400000,0.0],[1236124800000,0.0],[1236211200000,0.0],[1236297600000,0.0],[1236556800000,0.0],[1236643200000,0.0],[1236729600000,0.0],[1236816000000,0.0],[1236902400000,0.0],[1237161600000,0.0],[1237248000000,0.0],[1237334400000,0.0],[1237420800000,0.0],[1237507200000,0.0],[1237766400000,0.0],[1237852800000,0.0],[1237939200000,0.0],[1238025600000,0.0],[1238112000000,0.0],[1238371200000,0.0],[1238457600000,0.0],[1238544000000,0.0],[1238630400000,0.0],[1238716800000,0.0],[1239062400000,0.0],[1239148800000,0.0],[1239235200000,0.0],[1239321600000,0.0],[1239580800000,0.0],[1239667200000,0.0],[1239753600000,0.0],[1239840000000,0.0],[1239926400000,0.0],[1240185600000,0.0],[1240272000000,0.0],[1240358400000,0.0],[1240444800000,0.0],[1240531200000,0.0],[1240790400000,0.0],[1240876800000,0.0],[1240963200000,0.0],[1241049600000,0.0],[1241395200000,0.0],[1241481600000,0.0],[1241568000000,0.0],[1241654400000,0.0],[1241740800000,0.0],[1242000000000,0.0],[1242086400000,0.0],[1242172800000,0.0],[1242259200000,0.0],[1242345600000,0.0],[1242604800000,0.0],[1242691200000,0.0],[1242777600000,0.0],[1242864000000,0.0],[1242950400000,0.0],[1243209600000,0.0],[1243296000000,0.0],[1243382400000,0.0],[1243814400000,0.0],[1243900800000,0.0],[1243987200000,0.0],[1244073600000,0.0],[1244160000000,0.0],[1244419200000,0.0],[1244505600000,0.0],[1244592000000,0.0],[1244678400000,0.0],[1244764800000,0.0],[1245024000000,0.0],[1245110400000,0.0],[1245196800000,0.0],[1245283200000,0.0],[1245369600000,0.0],[1245628800000,0.0],[1245715200000,0.0],[1245801600000,0.0],[1245888000000,0.0],[1245974400000,0.0],[1246233600000,0.0],[1246320000000,0.0],[1246406400000,0.0],[1246492800000,0.0],[1246579200000,0.0],[1246838400000,0.0],[1246924800000,0.0],[1247011200000,0.0],[1247097600000,0.0],[1247184000000,0.0],[1247443200000,0.0],[1247529600000,0.0],[1247616000000,0.0],[1247702400000,0.0],[1247788800000,0.0],[1248048000000,0.0],[1248134400000,0.0],[1248220800000,0.0],[1248307200000,0.0],[1248393600000,0.0],[1248652800000,0.0],[1248739200000,0.0],[1248825600000,0.0],[1248912000000,0.0],[1248998400000,0.0],[1249257600000,0.0],[1249344000000,0.0],[1249430400000,0.0],[1249516800000,0.0],[1249603200000,0.0],[1249862400000,0.0],[1249948800000,0.0],[1250035200000,0.0],[1250121600000,0.0],[1250208000000,0.0],[1250467200000,0.0],[1250553600000,0.0],[1250640000000,0.0],[1250726400000,0.0],[1250812800000,0.0],[1251072000000,0.0],[1251158400000,0.0],[1251244800000,0.0],[1251331200000,0.0],[1251417600000,0.0],[1251676800000,0.0],[1251763200000,0.0],[1251849600000,0.0],[1251936000000,0.0],[1252022400000,0.0],[1252281600000,0.0],[1252368000000,0.0],[1252454400000,0.0],[1252540800000,0.0],[1252627200000,0.0],[1252886400000,0.0],[1252972800000,0.0],[1253059200000,0.0],[1253145600000,0.0],[1253232000000,0.0],[1253491200000,0.0],[1253577600000,0.0],[1253664000000,0.0],[1253750400000,0.0],[1253836800000,0.0],[1254096000000,0.0],[1254182400000,0.0],[1254268800000,0.0],[1255046400000,0.0],[1255305600000,0.0],[1255392000000,0.0],[1255478400000,0.0],[1255564800000,0.0],[1255651200000,0.0],[1255910400000,0.0],[1255996800000,0.0],[1256083200000,0.0],[1256169600000,0.0],[1256256000000,0.0],[1256515200000,0.0],[1256601600000,0.0],[1256688000000,0.0],[1256774400000,0.0],[1256860800000,0.0],[1257120000000,0.0],[1257206400000,0.0],[1257292800000,0.0],[1257379200000,0.0],[1257465600000,0.0],[1257724800000,0.0],[1257811200000,0.0],[1257897600000,0.0],[1257984000000,0.0],[1258070400000,0.0],[1258329600000,0.0],[1258416000000,0.0],[1258502400000,0.0],[1258588800000,0.0],[1258675200000,0.0],[1258934400000,0.0],[1259020800000,0.0],[1259107200000,0.0],[1259193600000,0.0],[1259280000000,0.0],[1259539200000,0.0],[1259625600000,0.0],[1259712000000,0.0],[1259798400000,0.0],[1259884800000,0.0],[1260144000000,0.0],[1260230400000,0.0],[1260316800000,0.0],[1260403200000,0.0],[1260489600000,0.0],[1260748800000,0.0],[1260835200000,0.0],[1260921600000,0.0],[1261008000000,0.0],[1261094400000,0.0],[1261353600000,0.0],[1261440000000,0.0],[1261526400000,0.0],[1261612800000,0.0],[1261699200000,0.0],[1261958400000,0.0],[1262044800000,0.0],[1262131200000,0.0],[1262217600000,0.0],[1262563200000,0.0],[1262649600000,-0.00282845],[1262736000000,0.00166304],[1262822400000,-0.01113962],[1262908800000,-0.03102249],[1263168000000,0.00177415],[1263254400000,-0.03072983],[1263340800000,-0.02938665],[1263427200000,-0.01379226],[1263513600000,0.00554888],[1263772800000,0.01068018],[1263859200000,0.02579716],[1263945600000,0.02243034],[1264032000000,-0.0212008],[1264118400000,-0.03809196],[1264377600000,-0.06615189],[1264464000000,-0.06641872],[1264550400000,-0.09095955],[1264636800000,-0.09357352],[1264723200000,-0.08233469],[1264982400000,-0.07975503],[1265068800000,-0.08950905],[1265155200000,-0.09698231],[1265241600000,-0.09370417],[1265328000000,-0.09130476],[1265587200000,-0.0978276],[1265673600000,-0.0981988],[1265760000000,-0.09317874],[1265846400000,-0.08266488],[1265932800000,-0.08480525],[1266796800000,-0.07508533],[1266883200000,-0.07480741],[1266969600000,-0.07426854],[1267056000000,-0.05392414],[1267142400000,-0.0367595],[1267401600000,-0.02474464],[1267488000000,-0.02220143],[1267574400000,-0.026005],[1267660800000,0.00639846],[1267747200000,-0.02164227],[1268006400000,-0.0207624],[1268092800000,-0.00753553],[1268179200000,-0.00968306],[1268265600000,-0.02471122],[1268352000000,-0.02319775],[1268611200000,-0.04018304],[1268697600000,-0.06104467],[1268784000000,-0.05192523],[1268870400000,-0.03091809],[1268956800000,-0.03444008],[1269216000000,-0.01544617],[1269302400000,0.00301919],[1269388800000,0.00379811],[1269475200000,0.01398984],[1269561600000,0.00906471],[1269820800000,0.03890936],[1269907200000,0.02735392],[1269993600000,0.03028036],[1270080000000,0.04197021],[1270166400000,0.0708591],[1270512000000,0.07122823],[1270598400000,0.07889154],[1270684800000,0.08822415],[1270771200000,0.09617996],[1271030400000,0.11143533],[1271116800000,0.13115763],[1271203200000,0.10437694],[1271289600000,0.11693635],[1271376000000,0.10183579],[1271635200000,0.10046797],[1271721600000,0.06201027],[1271808000000,0.08547152],[1271894400000,0.11903725],[1271980800000,0.12016942],[1272240000000,0.11213564],[1272326400000,0.09699461],[1272412800000,0.05476208],[1272499200000,0.06654921],[1272585600000,0.0452553],[1272931200000,0.00450196],[1273017600000,0.01757768],[1273104000000,0.03734367],[1273190400000,-0.00724302],[1273449600000,-0.01555173],[1273536000000,-0.04480295],[1273622400000,-0.07064879],[1273708800000,-0.07849066],[1273795200000,-0.0649907],[1274054400000,-0.0599923],[1274140800000,-0.06481396],[1274227200000,-0.06461455],[1274313600000,-0.05457936],[1274400000000,-0.06978474],[1274659200000,-0.01313674],[1274745600000,-0.02594064],[1274832000000,-0.02016527],[1274918400000,-0.01264556],[1275004800000,0.00344871],[1275264000000,0.00864687],[1275350400000,-0.02309122],[1275436800000,-0.00586909],[1275523200000,-0.00182617],[1275609600000,-0.0140748],[1275868800000,-0.01838413],[1275955200000,-0.01039914],[1276041600000,-0.00104921],[1276128000000,0.00771424],[1276214400000,0.01201628],[1276732800000,0.00861564],[1276819200000,-0.02364398],[1277078400000,-0.07089444],[1277164800000,-0.05325032],[1277251200000,-0.05503661],[1277337600000,-0.05039141],[1277424000000,-0.06049766],[1277683200000,-0.06731845],[1277769600000,-0.08539949],[1277856000000,-0.13146761],[1277942400000,-0.1346979],[1278028800000,-0.13913901],[1278288000000,-0.15055811],[1278374400000,-0.14898225],[1278460800000,-0.14732735],[1278547200000,-0.14679136],[1278633600000,-0.14620844],[1278892800000,-0.14411882],[1278979200000,-0.14532665],[1279065600000,-0.14520315],[1279152000000,-0.14538099],[1279238400000,-0.14542792],[1279497600000,-0.14580583],[1279584000000,-0.14577372],[1279670400000,-0.14487108],[1279756800000,-0.14933466],[1279843200000,-0.14391862],[1280102400000,-0.14732759],[1280188800000,-0.14465012],[1280275200000,-0.14084261],[1280361600000,-0.13156163],[1280448000000,-0.13609726],[1280707200000,-0.13270859],[1280793600000,-0.10978917],[1280880000000,-0.12672536],[1280966400000,-0.11443874],[1281052800000,-0.12300787],[1281312000000,-0.11352687],[1281398400000,-0.10955719],[1281484800000,-0.1371436],[1281571200000,-0.12523166],[1281657600000,-0.11098645],[1281916800000,-0.0973408],[1282003200000,-0.08428937],[1282089600000,-0.07055889],[1282176000000,-0.07969193],[1282262400000,-0.08950163],[1282521600000,-0.10032683],[1282608000000,-0.09639778],[1282694400000,-0.09008974],[1282780800000,-0.10419804],[1282867200000,-0.10034619],[1283126400000,-0.0925005],[1283212800000,-0.07780539],[1283299200000,-0.071631],[1283385600000,-0.07891741],[1283472000000,-0.07367078],[1283731200000,-0.0702183],[1283817600000,-0.05438821],[1283904000000,-0.06916797],[1283990400000,-0.06287659],[1284076800000,-0.09048745],[1284336000000,-0.07637554],[1284422400000,-0.06142981],[1284508800000,-0.06198747],[1284595200000,-0.07931297],[1284681600000,-0.09302957],[1284940800000,-0.08478866],[1285027200000,-0.09021571],[1285545600000,-0.08058116],[1285632000000,-0.05914541],[1285718400000,-0.0498712],[1285804800000,-0.06106275],[1286496000000,-0.02856863],[1286755200000,-0.00006291],[1286841600000,-0.03114625],[1286928000000,-0.02072623],[1287014400000,-0.02194577],[1287100800000,-0.048293],[1287360000000,-0.03110607],[1287446400000,-0.03572645],[1287532800000,-0.01253481],[1287619200000,0.03479216],[1287705600000,0.03291649],[1287964800000,0.07677414],[1288051200000,0.10770336],[1288137600000,0.09456713],[1288224000000,0.07683966],[1288310400000,0.09084337],[1288569600000,0.12834528],[1288656000000,0.14000768],[1288742400000,0.12402203],[1288828800000,0.09838556],[1288915200000,0.1364621],[1289174400000,0.12386125],[1289260800000,0.13758711],[1289347200000,0.13630175],[1289433600000,0.16675574],[1289520000000,0.14740993],[1289779200000,0.10234431],[1289865600000,0.15352098],[1289952000000,0.10316274],[1290038400000,0.06461498],[1290124800000,0.08747227],[1290384000000,0.0941837],[1290470400000,0.11745206],[1290556800000,0.10268805],[1290643200000,0.16039177],[1290729600000,0.14928728],[1290988800000,0.15318376],[1291075200000,0.15423048],[1291161600000,0.12466377],[1291248000000,0.13800694],[1291334400000,0.12223111],[1291593600000,0.10438955],[1291680000000,0.08977053],[1291766400000,0.11683898],[1291852800000,0.11461694],[1291939200000,0.08319887],[1292198400000,0.10780186],[1292284800000,0.12744998],[1292371200000,0.13045395],[1292457600000,0.13378389],[1292544000000,0.12591039],[1292803200000,0.11637785],[1292889600000,0.10106547],[1292976000000,0.10498162],[1293062400000,0.09120536],[1293148800000,0.06553863],[1293408000000,0.06997011],[1293494400000,0.0397069],[1293580800000,0.03230976],[1293667200000,0.04293172],[1293753600000,0.0617074],[1294099200000,0.07538575],[1294185600000,0.06252457],[1294272000000,0.07122113],[1294358400000,0.04862645],[1294617600000,0.0463031],[1294704000000,-0.00320184],[1294790400000,-0.00170914],[1294876800000,-0.0032172],[1294963200000,0.01070609],[1295222400000,-0.01271991],[1295308800000,-0.05107145],[1295395200000,-0.04485905],[1295481600000,-0.0204803],[1295568000000,-0.05357562],[1295827200000,-0.04605252],[1295913600000,-0.07362499],[1296000000000,-0.11044585],[1296086400000,-0.09712649],[1296172800000,-0.07638577],[1296432000000,-0.06156672],[1296518400000,-0.04322678],[1297209600000,-0.06550838],[1297296000000,-0.04362526],[1297382400000,-0.00814694],[1297641600000,-0.00782323],[1297728000000,-0.00456146],[1297814400000,-0.00971585],[1297900800000,0.00230615],[1297987200000,0.00435314],[1298246400000,-0.01721615],[1298332800000,0.00848254],[1298419200000,-0.02142508],[1298505600000,-0.00668199],[1298592000000,-0.01460803],[1298851200000,-0.01721824],[1298937600000,0.00283747],[1299024000000,-0.01226808],[1299110400000,-0.01552024],[1299196800000,-0.01450699],[1299456000000,0.00789953],[1299542400000,0.01484075],[1299628800000,0.02860819],[1299715200000,0.02537297],[1299801600000,0.00722274],[1300060800000,-0.0038181],[1300147200000,-0.00681757],[1300233600000,-0.01840382],[1300320000000,-0.02222855],[1300406400000,-0.02422098],[1300665600000,-0.03165597],[1300752000000,-0.03064748],[1300838400000,-0.03815728],[1300924800000,-0.01799897],[1301011200000,-0.02265045],[1301270400000,-0.01716916],[1301356800000,-0.02956113],[1301443200000,-0.05264368],[1301529600000,-0.05102585],[1301616000000,-0.06467632],[1302048000000,-0.05795022],[1302134400000,-0.05503452],[1302220800000,-0.05934899],[1302480000000,-0.04979226],[1302566400000,-0.06002283],[1302652800000,-0.07265661],[1302739200000,-0.06260957],[1302825600000,-0.06476573],[1303084800000,-0.05646765],[1303171200000,-0.06635266],[1303257600000,-0.07562411],[1303344000000,-0.07360759],[1303430400000,-0.07672245],[1303689600000,-0.08263997],[1303776000000,-0.10805695],[1303862400000,-0.1078864],[1303948800000,-0.11457479],[1304035200000,-0.1426636],[1304380800000,-0.12152828],[1304467200000,-0.12257067],[1304553600000,-0.14945575],[1304640000000,-0.16024837],[1304899200000,-0.14996991],[1304985600000,-0.15504752],[1305072000000,-0.14665753],[1305158400000,-0.14472674],[1305244800000,-0.15882147],[1305504000000,-0.15781041],[1305590400000,-0.16025717],[1305676800000,-0.17193369],[1305763200000,-0.15948659],[1305849600000,-0.1599012],[1306108800000,-0.15952806],[1306195200000,-0.18524995],[1306281600000,-0.1818827],[1306368000000,-0.17801241],[1306454400000,-0.18854254],[1306713600000,-0.20183924],[1306800000000,-0.19050926],[1306886400000,-0.18508578],[1306972800000,-0.17407506],[1307059200000,-0.17286203],[1307404800000,-0.16299375],[1307491200000,-0.13406819],[1307577600000,-0.13230563],[1307664000000,-0.14471061],[1307923200000,-0.15575307],[1308009600000,-0.15184663],[1308096000000,-0.15127083],[1308182400000,-0.15912211],[1308268800000,-0.16556725],[1308528000000,-0.20402879],[1308614400000,-0.20213733],[1308700800000,-0.2105867],[1308787200000,-0.21006745],[1308873600000,-0.20614276],[1309132800000,-0.201769],[1309219200000,-0.19819917],[1309305600000,-0.18517264],[1309392000000,-0.1860929],[1309478400000,-0.18277997],[1309737600000,-0.18710325],[1309824000000,-0.17934808],[1309910400000,-0.1876925],[1309996800000,-0.1814144],[1310083200000,-0.1836086],[1310342400000,-0.19129071],[1310428800000,-0.18239474],[1310515200000,-0.18492836],[1310601600000,-0.17702687],[1310688000000,-0.17661196],[1310947200000,-0.16459502],[1311033600000,-0.17378986],[1311120000000,-0.17309114],[1311206400000,-0.17406899],[1311292800000,-0.17740666],[1311552000000,-0.17737391],[1311638400000,-0.19529102],[1311724800000,-0.19833306],[1311811200000,-0.1886576],[1311897600000,-0.18458591],[1312156800000,-0.18961937],[1312243200000,-0.20213613],[1312329600000,-0.21061938],[1312416000000,-0.19146998],[1312502400000,-0.21082349],[1312761600000,-0.19275435],[1312848000000,-0.21180077],[1312934400000,-0.18111211],[1313020800000,-0.18257647],[1313107200000,-0.1483479],[1313366400000,-0.15064392],[1313452800000,-0.15097791],[1313539200000,-0.16229573],[1313625600000,-0.1686338],[1313712000000,-0.18170605],[1313971200000,-0.17070822],[1314057600000,-0.18786596],[1314144000000,-0.17843966],[1314230400000,-0.16151611],[1314316800000,-0.16041708],[1314576000000,-0.15816246],[1314662400000,-0.14331351],[1314748800000,-0.15046791],[1314835200000,-0.15991876],[1314921600000,-0.17109383],[1315180800000,-0.18093308],[1315267200000,-0.19021271],[1315353600000,-0.18455996],[1315440000000,-0.17363653],[1315526400000,-0.18417377],[1315872000000,-0.20477588],[1315958400000,-0.20459155],[1316044800000,-0.21272649],[1316131200000,-0.21167573],[1316390400000,-0.20993462],[1316476800000,-0.22170498],[1316563200000,-0.22322821],[1316649600000,-0.21815469],[1316736000000,-0.23625154],[1316995200000,-0.23596147],[1317081600000,-0.23393329],[1317168000000,-0.23462893],[1317254400000,-0.23795379],[1317340800000,-0.23963492],[1318204800000,-0.23999858],[1318291200000,-0.23862688],[1318377600000,-0.24014213],[1318464000000,-0.23917875],[1318550400000,-0.23908305],[1318809600000,-0.23751995],[1318896000000,-0.23735088],[1318982400000,-0.24003546],[1319068800000,-0.24129657],[1319155200000,-0.24254396],[1319414400000,-0.24491028],[1319500800000,-0.24302356],[1319587200000,-0.24252776],[1319673600000,-0.24197032],[1319760000000,-0.24165944],[1320019200000,-0.24178272],[1320105600000,-0.2420936],[1320192000000,-0.2407536],[1320278400000,-0.23639464],[1320364800000,-0.23765844],[1320624000000,-0.23935799],[1320710400000,-0.23741484],[1320796800000,-0.23973098],[1320883200000,-0.23877471],[1320969600000,-0.24134175],[1321228800000,-0.24311378],[1321315200000,-0.23920508],[1321401600000,-0.2366942],[1321488000000,-0.25450285],[1321574400000,-0.25713333],[1321833600000,-0.26978346],[1321920000000,-0.26712624],[1322006400000,-0.25445707],[1322092800000,-0.26038511],[1322179200000,-0.25505123],[1322438400000,-0.25493296],[1322524800000,-0.25699497],[1322611200000,-0.25443837],[1322697600000,-0.25342568],[1322784000000,-0.26547562],[1323043200000,-0.27334565],[1323129600000,-0.30156372],[1323216000000,-0.30320034],[1323302400000,-0.30229987],[1323388800000,-0.30352718],[1323648000000,-0.30490174],[1323734400000,-0.31025512],[1323820800000,-0.31230977],[1323907200000,-0.31332396],[1323993600000,-0.31337212],[1324252800000,-0.30851147],[1324339200000,-0.30494676],[1324425600000,-0.30831174],[1324512000000,-0.31693116],[1324598400000,-0.31468926],[1324857600000,-0.31331027],[1324944000000,-0.31520219],[1325030400000,-0.32427538],[1325116800000,-0.32658183],[1325203200000,-0.32512982],[1325635200000,-0.31831179],[1325721600000,-0.3277386],[1325808000000,-0.33617596],[1326067200000,-0.33481751],[1326153600000,-0.32765236],[1326240000000,-0.32419483],[1326326400000,-0.32898691],[1326412800000,-0.32891758],[1326672000000,-0.33548231],[1326758400000,-0.34510438],[1326844800000,-0.33009572],[1326931200000,-0.33717425],[1327017600000,-0.32951494],[1327881600000,-0.32343443],[1327968000000,-0.334117],[1328054400000,-0.33375151],[1328140800000,-0.33647665],[1328227200000,-0.32651444],[1328486400000,-0.32249445],[1328572800000,-0.33249098],[1328659200000,-0.34305344],[1328745600000,-0.33159597],[1328832000000,-0.32977888],[1329091200000,-0.33892949],[1329177600000,-0.33771467],[1329264000000,-0.34067735],[1329350400000,-0.3379809],[1329436800000,-0.33385159],[1329696000000,-0.33052033],[1329782400000,-0.33397829],[1329868800000,-0.33013212],[1329955200000,-0.32235615],[1330041600000,-0.32428357],[1330300800000,-0.31412593],[1330387200000,-0.31277594],[1330473600000,-0.30578282],[1330560000000,-0.31315928],[1330646400000,-0.30627542],[1330905600000,-0.2926277],[1330992000000,-0.30723174],[1331078400000,-0.31640629],[1331164800000,-0.3138184],[1331251200000,-0.31151386],[1331510400000,-0.30881584],[1331596800000,-0.31082108],[1331683200000,-0.30609168],[1331769600000,-0.33581771],[1331856000000,-0.34712951],[1332115200000,-0.33735467],[1332201600000,-0.33268889],[1332288000000,-0.32527499],[1332374400000,-0.33283453],[1332460800000,-0.33208411],[1332720000000,-0.33722452],[1332806400000,-0.33673073],[1332892800000,-0.34593203],[1332979200000,-0.36019156],[1333065600000,-0.349793],[1333584000000,-0.35444133],[1333670400000,-0.33865206],[1333929600000,-0.33854671],[1334016000000,-0.33757106],[1334102400000,-0.33366383],[1334188800000,-0.32914115],[1334275200000,-0.32294307],[1334534400000,-0.327464],[1334620800000,-0.32470746],[1334707200000,-0.33452648],[1334793600000,-0.32123083],[1334880000000,-0.32696104],[1335139200000,-0.32454824],[1335225600000,-0.3330513],[1335312000000,-0.33995585],[1335398400000,-0.32389625],[1335484800000,-0.32638635],[1335916800000,-0.31996346],[1336003200000,-0.30924712],[1336089600000,-0.31868461],[1336348800000,-0.3116857],[1336435200000,-0.31066886],[1336521600000,-0.3188813],[1336608000000,-0.32428469],[1336694400000,-0.31856363],[1336953600000,-0.32254765],[1337040000000,-0.33320717],[1337126400000,-0.32680512],[1337212800000,-0.33651345],[1337299200000,-0.33463137],[1337558400000,-0.33875917],[1337644800000,-0.3314201],[1337731200000,-0.31954367],[1337817600000,-0.31501686],[1337904000000,-0.31518502],[1338163200000,-0.322968],[1338249600000,-0.30495309],[1338336000000,-0.2970939],[1338422400000,-0.29982877],[1338508800000,-0.29467773],[1338768000000,-0.30383336],[1338854400000,-0.30550062],[1338940800000,-0.30519771],[1339027200000,-0.30364547],[1339113600000,-0.30194433],[1339372800000,-0.31122586],[1339459200000,-0.29654434],[1339545600000,-0.28638306],[1339632000000,-0.28037437],[1339718400000,-0.28653487],[1339977600000,-0.29699531],[1340064000000,-0.29605203],[1340150400000,-0.30259346],[1340236800000,-0.31401526],[1340582400000,-0.32233165],[1340668800000,-0.33619677],[1340755200000,-0.33248143],[1340841600000,-0.32386922],[1340928000000,-0.32812628],[1341187200000,-0.32082593],[1341273600000,-0.31234761],[1341360000000,-0.30660953],[1341446400000,-0.32032777],[1341532800000,-0.30636445],[1341792000000,-0.29283225],[1341878400000,-0.28396833],[1341964800000,-0.29330117],[1342051200000,-0.2790463],[1342137600000,-0.2786716],[1342396800000,-0.27234807],[1342483200000,-0.29225583],[1342569600000,-0.29095302],[1342656000000,-0.31079935],[1342742400000,-0.31017554],[1343001600000,-0.31072952],[1343088000000,-0.31236204],[1343174400000,-0.30767234],[1343260800000,-0.30679769],[1343347200000,-0.31280874],[1343606400000,-0.33459201],[1343692800000,-0.33757455],[1343779200000,-0.33348872],[1343865600000,-0.32532245],[1343952000000,-0.31851465],[1344211200000,-0.31080717],[1344297600000,-0.30468529],[1344384000000,-0.30439336],[1344470400000,-0.31061188],[1344556800000,-0.28797734],[1344816000000,-0.28860367],[1344902400000,-0.29013635],[1344988800000,-0.30496785],[1345075200000,-0.30054771],[1345161600000,-0.31259162],[1345420800000,-0.3223309],[1345507200000,-0.31048523],[1345593600000,-0.2947205],[1345680000000,-0.30091688],[1345766400000,-0.30228015],[1346025600000,-0.31172296],[1346112000000,-0.31935377],[1346198400000,-0.33119818],[1346284800000,-0.32530453],[1346371200000,-0.3430514],[1346630400000,-0.33967699],[1346716800000,-0.32609803],[1346803200000,-0.32264335],[1346889600000,-0.31418804],[1346976000000,-0.31109789],[1347235200000,-0.29643771],[1347321600000,-0.30386491],[1347408000000,-0.29323201],[1347494400000,-0.29105387],[1347580800000,-0.30172246],[1347840000000,-0.31115126],[1347926400000,-0.32280996],[1348012800000,-0.32034543],[1348099200000,-0.31836523],[1348185600000,-0.33301661],[1348444800000,-0.34451221],[1348531200000,-0.33149137],[1348617600000,-0.33222565],[1348704000000,-0.34328418],[1348790400000,-0.33588779],[1349654400000,-0.32845434],[1349740800000,-0.32542225],[1349827200000,-0.3153299],[1349913600000,-0.30978999],[1350000000000,-0.31129994],[1350259200000,-0.32196988],[1350345600000,-0.3199516],[1350432000000,-0.31173374],[1350518400000,-0.31346484],[1350604800000,-0.30408009],[1350864000000,-0.30867424],[1350950400000,-0.30898653],[1351036800000,-0.32075489],[1351123200000,-0.32026441],[1351209600000,-0.32770318],[1351468800000,-0.33290035],[1351555200000,-0.33251957],[1351641600000,-0.32751481],[1351728000000,-0.31742852],[1351814400000,-0.31458574],[1352073600000,-0.32281519],[1352160000000,-0.32678461],[1352246400000,-0.32795497],[1352332800000,-0.33684154],[1352419200000,-0.34679515],[1352678400000,-0.34939129],[1352764800000,-0.35223072],[1352851200000,-0.35801885],[1352937600000,-0.3581943],[1353024000000,-0.36041216],[1353283200000,-0.36367858],[1353369600000,-0.36340842],[1353456000000,-0.36307424],[1353542400000,-0.36296791],[1353628800000,-0.36283283],[1353888000000,-0.36190307],[1353974400000,-0.3613713],[1354060800000,-0.36436958],[1354147200000,-0.36597682],[1354233600000,-0.36734729],[1354492800000,-0.35903239],[1354579200000,-0.36211498],[1354665600000,-0.35610353],[1354752000000,-0.34097894],[1354838400000,-0.33427556],[1355097600000,-0.33093085],[1355184000000,-0.33559006],[1355270400000,-0.33959027],[1355356800000,-0.3375808],[1355443200000,-0.33645237],[1355702400000,-0.31365132],[1355788800000,-0.32278113],[1355875200000,-0.32652315],[1355961600000,-0.32660015],[1356048000000,-0.31436088],[1356307200000,-0.32388603],[1356393600000,-0.31807173],[1356480000000,-0.29666049],[1356566400000,-0.29986674],[1356652800000,-0.30149939],[1356912000000,-0.29598374],[1357257600000,-0.28457582],[1357516800000,-0.28657502],[1357603200000,-0.27691529],[1357689600000,-0.28038485],[1357776000000,-0.28575554],[1357862400000,-0.2853058],[1358121600000,-0.29559599],[1358208000000,-0.2747142],[1358294400000,-0.28048897],[1358380800000,-0.28418067],[1358467200000,-0.28322284],[1358726400000,-0.26811325],[1358812800000,-0.27627018],[1358899200000,-0.28980208],[1358985600000,-0.28568539],[1359072000000,-0.28882308],[1359331200000,-0.28936133],[1359417600000,-0.26885012],[1359504000000,-0.26770083],[1359590400000,-0.26411012],[1359676800000,-0.26138982],[1359936000000,-0.24773552],[1360022400000,-0.25200973],[1360108800000,-0.24253416],[1360195200000,-0.24585439],[1360281600000,-0.25501171],[1361145600000,-0.24686348],[1361232000000,-0.25856227],[1361318400000,-0.27136043],[1361404800000,-0.2631314],[1361491200000,-0.28083243],[1361750400000,-0.27684209],[1361836800000,-0.280176],[1361923200000,-0.27787605],[1362009600000,-0.26350948],[1362096000000,-0.25778433],[1362355200000,-0.26859924],[1362441600000,-0.27859921],[1362528000000,-0.2622516],[1362614400000,-0.25240838],[1362700800000,-0.26071801],[1362960000000,-0.26978244],[1363046400000,-0.2651423],[1363132800000,-0.27799175],[1363219200000,-0.2870625],[1363305600000,-0.26924807],[1363564800000,-0.26892971],[1363651200000,-0.26557086],[1363737600000,-0.26184627],[1363824000000,-0.24825991],[1363910400000,-0.23411835],[1364169600000,-0.22841407],[1364256000000,-0.22912333],[1364342400000,-0.23371797],[1364428800000,-0.23561078],[1364515200000,-0.24008512],[1364774400000,-0.24248641],[1364860800000,-0.23827108],[1364947200000,-0.25175507],[1365379200000,-0.26322624],[1365465600000,-0.24321846],[1365552000000,-0.24759701],[1365638400000,-0.24587582],[1365724800000,-0.24956572],[1365984000000,-0.25092163],[1366070400000,-0.26251873],[1366156800000,-0.25657026],[1366243200000,-0.25114119],[1366329600000,-0.24701191],[1366588800000,-0.23185268],[1366675200000,-0.2115533],[1366761600000,-0.22574612],[1366848000000,-0.19175507],[1366934400000,-0.22192868],[1367452800000,-0.25324478],[1367539200000,-0.22614129],[1367798400000,-0.21786813],[1367884800000,-0.21816968],[1367971200000,-0.21691256],[1368057600000,-0.20576584],[1368144000000,-0.21321124],[1368403200000,-0.21437974],[1368489600000,-0.20913616],[1368576000000,-0.21973783],[1368662400000,-0.2060113],[1368748800000,-0.19374054],[1369008000000,-0.18661923],[1369094400000,-0.19347219],[1369180800000,-0.17875865],[1369267200000,-0.18425223],[1369353600000,-0.18205058],[1369612800000,-0.17646402],[1369699200000,-0.17146465],[1369785600000,-0.17138898],[1369872000000,-0.17551865],[1369958400000,-0.17514787],[1370217600000,-0.1927051],[1370304000000,-0.20066087],[1370390400000,-0.22566115],[1370476800000,-0.22065469],[1370563200000,-0.22703407],[1371081600000,-0.24455287],[1371168000000,-0.24338921],[1371427200000,-0.22878882],[1371513600000,-0.24111844],[1371600000000,-0.24714182],[1371686400000,-0.25114518],[1371772800000,-0.26979778],[1372032000000,-0.263337],[1372118400000,-0.28385039],[1372204800000,-0.2784713],[1372291200000,-0.26949398],[1372377600000,-0.27564832],[1372636800000,-0.28283663],[1372723200000,-0.2689826],[1372809600000,-0.26411936],[1372896000000,-0.26155368],[1372982400000,-0.2669777],[1373241600000,-0.29136476],[1373328000000,-0.28902523],[1373414400000,-0.27622457],[1373500800000,-0.2713125],[1373587200000,-0.25050999],[1373846400000,-0.23774487],[1373932800000,-0.21014844],[1374019200000,-0.2137451],[1374105600000,-0.22406726],[1374192000000,-0.21546984],[1374451200000,-0.23947434],[1374537600000,-0.22108007],[1374624000000,-0.19850144],[1374710400000,-0.17684689],[1374796800000,-0.21213077],[1375056000000,-0.21300585],[1375142400000,-0.22123023],[1375228800000,-0.23688667],[1375315200000,-0.23742999],[1375401600000,-0.20640888],[1375660800000,-0.21133314],[1375747200000,-0.19778961],[1375833600000,-0.19269495],[1375920000000,-0.21668975],[1376006400000,-0.20471701],[1376265600000,-0.21878918],[1376352000000,-0.23181672],[1376438400000,-0.22370059],[1376524800000,-0.22254222],[1376611200000,-0.23850713],[1376870400000,-0.25465398],[1376956800000,-0.23761406],[1377043200000,-0.2386186],[1377129600000,-0.24114672],[1377216000000,-0.2291307],[1377475200000,-0.22600997],[1377561600000,-0.22129988],[1377648000000,-0.22192125],[1377734400000,-0.23010618],[1377820800000,-0.24245895],[1378080000000,-0.25889462],[1378166400000,-0.24644482],[1378252800000,-0.2404825],[1378339200000,-0.24199835],[1378425600000,-0.24891205],[1378684800000,-0.2463721],[1378771200000,-0.24805273],[1378857600000,-0.25627928],[1378944000000,-0.26482818],[1379030400000,-0.26612554],[1379289600000,-0.25321981],[1379376000000,-0.2585545],[1379462400000,-0.26264485],[1379894400000,-0.26827546],[1379980800000,-0.24020364],[1380067200000,-0.2435704],[1380153600000,-0.24878154],[1380240000000,-0.25222754],[1380499200000,-0.2443454],[1381190400000,-0.2268053],[1381276800000,-0.22896543],[1381363200000,-0.21270544],[1381449600000,-0.20456281],[1381708800000,-0.18770168],[1381795200000,-0.16931369],[1381881600000,-0.16710416],[1381968000000,-0.16785455],[1382054400000,-0.17786235],[1382313600000,-0.16539109],[1382400000000,-0.13019744],[1382486400000,-0.14296648],[1382572800000,-0.16583055],[1382659200000,-0.16246025],[1382918400000,-0.19111403],[1383004800000,-0.18361876],[1383091200000,-0.19284781],[1383177600000,-0.16176615],[1383264000000,-0.19478592],[1383523200000,-0.17864058],[1383609600000,-0.18885013],[1383696000000,-0.17297546],[1383782400000,-0.18800746],[1383868800000,-0.20880808],[1384128000000,-0.21364751],[1384214400000,-0.20689005],[1384300800000,-0.20967842],[1384387200000,-0.21966406],[1384473600000,-0.1980856],[1384732800000,-0.17638873],[1384819200000,-0.16737323],[1384905600000,-0.16719692],[1384992000000,-0.1804741],[1385078400000,-0.18013661],[1385337600000,-0.19374727],[1385424000000,-0.19474935],[1385510400000,-0.19034705],[1385596800000,-0.18554081],[1385683200000,-0.16659678],[1385942400000,-0.17280422],[1386028800000,-0.18807978],[1386115200000,-0.15453106],[1386201600000,-0.14877588],[1386288000000,-0.17030166],[1386547200000,-0.17317042],[1386633600000,-0.15200655],[1386720000000,-0.15107003],[1386806400000,-0.16507456],[1386892800000,-0.16611345],[1387152000000,-0.15973158],[1387238400000,-0.16970498],[1387324800000,-0.18269626],[1387411200000,-0.17432144],[1387497600000,-0.16918094],[1387756800000,-0.18936733],[1387843200000,-0.17342552],[1387929600000,-0.16464545],[1388016000000,-0.16427582],[1388102400000,-0.18669139],[1388361600000,-0.16452856],[1388448000000,-0.16787575],[1388620800000,-0.16320854],[1388707200000,-0.14488972],[1388966400000,-0.14870275],[1389052800000,-0.16024116],[1389139200000,-0.14250597],[1389225600000,-0.13220339],[1389312000000,-0.14536634],[1389571200000,-0.15719049],[1389657600000,-0.15546873],[1389744000000,-0.13595978],[1389830400000,-0.11554207],[1389916800000,-0.12959338],[1390176000000,-0.13238197],[1390262400000,-0.14972592],[1390348800000,-0.13408001],[1390435200000,-0.11643952],[1390521600000,-0.09592515],[1390780800000,-0.06896109],[1390867200000,-0.06860749],[1390953600000,-0.06865987],[1391040000000,-0.04222108],[1391731200000,-0.0581223],[1391990400000,-0.00817475],[1392076800000,0.00109656],[1392163200000,-0.00558792],[1392249600000,-0.00882616],[1392336000000,-0.04323941],[1392595200000,-0.03931039],[1392681600000,-0.02354728],[1392768000000,-0.02116148],[1392854400000,-0.01550908],[1392940800000,-0.03156376],[1393200000000,-0.02721962],[1393286400000,-0.0241489],[1393372800000,-0.10331687],[1393459200000,-0.07679923],[1393545600000,-0.10795396],[1393804800000,-0.10984462],[1393891200000,-0.10475604],[1393977600000,-0.1144968],[1394064000000,-0.11610917],[1394150400000,-0.11181405],[1394409600000,-0.11632884],[1394496000000,-0.14703979],[1394582400000,-0.15392045],[1394668800000,-0.16846989],[1394755200000,-0.16835161],[1395014400000,-0.14352922],[1395100800000,-0.12060962],[1395187200000,-0.10817094],[1395273600000,-0.10964938],[1395360000000,-0.14202615],[1395619200000,-0.12720363],[1395705600000,-0.14638841],[1395792000000,-0.14332442],[1395878400000,-0.15253646],[1395964800000,-0.19702078],[1396224000000,-0.21902895],[1396310400000,-0.22414968],[1396396800000,-0.21034324],[1396483200000,-0.23520688],[1396569600000,-0.23814899],[1396915200000,-0.22662949],[1397001600000,-0.22021009],[1397088000000,-0.21891252],[1397174400000,-0.21946582],[1397433600000,-0.21185547],[1397520000000,-0.21144789],[1397606400000,-0.22248126],[1397692800000,-0.22003184],[1397779200000,-0.22248015],[1398038400000,-0.22241137],[1398124800000,-0.22260071],[1398211200000,-0.22069987],[1398297600000,-0.22788301],[1398384000000,-0.22439224],[1398643200000,-0.2252093],[1398729600000,-0.24178105],[1398816000000,-0.24313308],[1399248000000,-0.2500798],[1399334400000,-0.24674614],[1399420800000,-0.24765263],[1399507200000,-0.25410961],[1399593600000,-0.25173794],[1399852800000,-0.26042053],[1399939200000,-0.25556646],[1400025600000,-0.25451492],[1400112000000,-0.25557531],[1400198400000,-0.27687471],[1400457600000,-0.27896399],[1400544000000,-0.27634518],[1400630400000,-0.27703907],[1400716800000,-0.26618419],[1400803200000,-0.26445987],[1401062400000,-0.25456923],[1401148800000,-0.25957005],[1401235200000,-0.26039972],[1401321600000,-0.25573363],[1401408000000,-0.26903552],[1401753600000,-0.26491285],[1401840000000,-0.26759554],[1401926400000,-0.27035018],[1402012800000,-0.25814245],[1402272000000,-0.25819423],[1402358400000,-0.2591044],[1402444800000,-0.25309489],[1402531200000,-0.24689649],[1402617600000,-0.2486671],[1402876800000,-0.24700112],[1402963200000,-0.24705208],[1403049600000,-0.25368791],[1403136000000,-0.25193479],[1403222400000,-0.26358634],[1403481600000,-0.25474435],[1403568000000,-0.25755166],[1403654400000,-0.26124056],[1403740800000,-0.26022282],[1403827200000,-0.25334974],[1404086400000,-0.24803014],[1404172800000,-0.23744382],[1404259200000,-0.23270825],[1404345600000,-0.22762178],[1404432000000,-0.22544182],[1404691200000,-0.22957624],[1404777600000,-0.23208524],[1404864000000,-0.22961382],[1404950400000,-0.23543675],[1405036800000,-0.24304863],[1405296000000,-0.24502651],[1405382400000,-0.24059236],[1405468800000,-0.23059551],[1405555200000,-0.2388008],[1405641600000,-0.24814385],[1405900800000,-0.24846081],[1405987200000,-0.24819376],[1406073600000,-0.23748691],[1406160000000,-0.24196373],[1406246400000,-0.23337799],[1406505600000,-0.22175983],[1406592000000,-0.22519127],[1406678400000,-0.2226923],[1406764800000,-0.2238078],[1406851200000,-0.21819766],[1407110400000,-0.21370415],[1407196800000,-0.21140213],[1407283200000,-0.21296202],[1407369600000,-0.2055161],[1407456000000,-0.20816014],[1407715200000,-0.20504235],[1407801600000,-0.19571225],[1407888000000,-0.18311307],[1407974400000,-0.18122444],[1408060800000,-0.18910444],[1408320000000,-0.18045132],[1408406400000,-0.1767269],[1408492800000,-0.17784424],[1408579200000,-0.18353475],[1408665600000,-0.1846215],[1408924800000,-0.17813586],[1409011200000,-0.17977797],[1409097600000,-0.18681858],[1409184000000,-0.17770163],[1409270400000,-0.18005115],[1409529600000,-0.16984862],[1409616000000,-0.15756458],[1409702400000,-0.14733588],[1409788800000,-0.14416063],[1409875200000,-0.1329267],[1410220800000,-0.12634266],[1410307200000,-0.12433747],[1410393600000,-0.11196074],[1410480000000,-0.11646794],[1410739200000,-0.11059812],[1410825600000,-0.1092392],[1410912000000,-0.14400666],[1410998400000,-0.1384507],[1411084800000,-0.13027209],[1411344000000,-0.1170011],[1411430400000,-0.12635755],[1411516800000,-0.12141519],[1411603200000,-0.10965848],[1411689600000,-0.11121244],[1411948800000,-0.10342693],[1412035200000,-0.0922901],[1412726400000,-0.08438438],[1412812800000,-0.08080002],[1412899200000,-0.08504496],[1413158400000,-0.10311858],[1413244800000,-0.09949675],[1413331200000,-0.10657713],[1413417600000,-0.10560498],[1413504000000,-0.10987862],[1413763200000,-0.10140384],[1413849600000,-0.10539755],[1413936000000,-0.11341682],[1414022400000,-0.12246597],[1414108800000,-0.12601531],[1414368000000,-0.12784555],[1414454400000,-0.1251306],[1414540800000,-0.10536553],[1414627200000,-0.09245569],[1414713600000,-0.07527],[1414972800000,-0.07230582],[1415059200000,-0.07647562],[1415145600000,-0.08396104],[1415232000000,-0.09023459],[1415318400000,-0.08429308],[1415577600000,-0.07670007],[1415664000000,-0.05316215],[1415750400000,-0.07875419],[1415836800000,-0.0543562],[1415923200000,-0.06643269],[1416182400000,-0.05182824],[1416268800000,-0.06864586],[1416355200000,-0.0715969],[1416441600000,-0.07077247],[1416528000000,-0.06920385],[1416787200000,-0.04597975],[1416873600000,-0.03963549],[1416960000000,-0.0256921],[1417046400000,-0.01419862],[1417132800000,-0.01562202],[1417392000000,-0.01943689],[1417478400000,-0.02857966],[1417564800000,0.00129576],[1417651200000,0.00257224],[1417737600000,0.04884956],[1417996800000,0.06392591],[1418083200000,0.10478544],[1418169600000,0.07004243],[1418256000000,0.09879195],[1418342400000,0.11150996],[1418601600000,0.09991447],[1418688000000,0.11362494],[1418774400000,0.13697178],[1418860800000,0.12881485],[1418947200000,0.12345237],[1419206400000,0.15150518],[1419292800000,0.16430731],[1419379200000,0.12602598],[1419465600000,0.11278847],[1419552000000,0.14446254],[1419811200000,0.17974534],[1419897600000,0.18071833],[1419984000000,0.16333855],[1420416000000,0.21049337],[1420502400000,0.2462201],[1420588800000,0.24948285],[1420675200000,0.25041497],[1420761600000,0.21202548],[1421020800000,0.19243824],[1421107200000,0.17023392],[1421193600000,0.18762156],[1421280000000,0.17589219],[1421366400000,0.21285332],[1421625600000,0.15779084],[1421712000000,0.14799316],[1421798400000,0.18785445],[1421884800000,0.2288419],[1421971200000,0.24308252],[1422230400000,0.24469092],[1422316800000,0.27579546],[1422403200000,0.2523113],[1422489600000,0.22754745],[1422576000000,0.24038744],[1422835200000,0.17216855],[1422921600000,0.18164462],[1423008000000,0.19572491],[1423094400000,0.19847817],[1423180800000,0.17545459],[1423440000000,0.15043541],[1423526400000,0.11756007],[1423612800000,0.16508694],[1423699200000,0.18335558],[1423785600000,0.17731183],[1424044800000,0.18474291],[1424131200000,0.22132398],[1424822400000,0.22667904],[1424908800000,0.21921512],[1424995200000,0.23740621],[1425254400000,0.25611937],[1425340800000,0.2547786],[1425427200000,0.24446646],[1425513600000,0.25060922],[1425600000000,0.24507394],[1425859200000,0.23357126],[1425945600000,0.25710222],[1426032000000,0.2635315],[1426118400000,0.24766497],[1426204800000,0.25193331],[1426464000000,0.27978869],[1426550400000,0.32207922],[1426636800000,0.32226536],[1426723200000,0.35251761],[1426809600000,0.36209638],[1427068800000,0.37620391],[1427155200000,0.41343645],[1427241600000,0.40922392],[1427328000000,0.39009184],[1427414400000,0.39341229],[1427673600000,0.43456076],[1427760000000,0.4417254],[1427846400000,0.4252605],[1427932800000,0.45957243],[1428019200000,0.44826085],[1428364800000,0.49281191],[1428451200000,0.50199445],[1428537600000,0.47603964],[1428624000000,0.44715845],[1428883200000,0.50536175],[1428969600000,0.52553741],[1429056000000,0.5290869],[1429142400000,0.47073442],[1429228800000,0.53302323],[1429488000000,0.5188592],[1429574400000,0.49853],[1429660800000,0.55926204],[1429747200000,0.58567407],[1429833600000,0.57607088],[1430092800000,0.61320951],[1430179200000,0.61487016],[1430265600000,0.58078191],[1430352000000,0.60130914],[1430697600000,0.61720999],[1430784000000,0.60313928],[1430870400000,0.51663801],[1430956800000,0.50692257],[1431043200000,0.49982305],[1431302400000,0.54908896],[1431388800000,0.60104462],[1431475200000,0.60406756],[1431561600000,0.64386922],[1431648000000,0.65525253],[1431907200000,0.647257],[1431993600000,0.66546228],[1432080000000,0.68381832],[1432166400000,0.71614624],[1432252800000,0.78638789],[1432512000000,0.79719709],[1432598400000,0.85751011],[1432684800000,0.9213015],[1432771200000,0.9589254],[1432857600000,0.78742111],[1433116800000,0.821908],[1433203200000,0.89741616],[1433289600000,0.9475428],[1433376000000,0.92315932],[1433462400000,0.91114198],[1433721600000,0.90205884],[1433808000000,0.9093178],[1433894400000,0.90518243],[1433980800000,0.92719336],[1434067200000,0.97516477],[1434326400000,0.97156259],[1434412800000,0.88079184],[1434499200000,0.8253094],[1434585600000,0.86573709],[1434672000000,0.77576865],[1435017600000,0.70405528],[1435104000000,0.73439696],[1435190400000,0.76821587],[1435276800000,0.66976877],[1435536000000,0.6419427],[1435622400000,0.51059933],[1435708800000,0.55147808],[1435795200000,0.48647508],[1435881600000,0.36561711],[1436140800000,0.39438101],[1436227200000,0.34549839],[1436313600000,0.33851999],[1436400000000,0.34499023],[1436486400000,0.34321626],[1436745600000,0.3582596],[1436832000000,0.34139171],[1436918400000,0.36856991],[1437004800000,0.35783506],[1437091200000,0.37014207],[1437350400000,0.38922035],[1437436800000,0.39539506],[1437523200000,0.40937402],[1437609600000,0.40079216],[1437696000000,0.40950181],[1437955200000,0.41909091],[1438041600000,0.35436519],[1438128000000,0.37812018],[1438214400000,0.38568395],[1438300800000,0.35803599],[1438560000000,0.32000545],[1438646400000,0.29001849],[1438732800000,0.3263733],[1438819200000,0.29145332],[1438905600000,0.30205771],[1439164800000,0.32434666],[1439251200000,0.35246027],[1439337600000,0.34032144],[1439424000000,0.34041391],[1439510400000,0.38507636],[1439769600000,0.38881953],[1439856000000,0.43324259],[1439942400000,0.32279165],[1440028800000,0.36077223],[1440115200000,0.30589996],[1440374400000,0.25950256],[1440460800000,0.17179886],[1440547200000,0.15317388],[1440633600000,0.13812307],[1440720000000,0.16223221],[1440979200000,0.18470455],[1441065600000,0.15881377],[1441152000000,0.12014149],[1441584000000,0.12349393],[1441670400000,0.10223269],[1441756800000,0.10223269],[1441843200000,0.10223269],[1441929600000,0.10223269],[1442188800000,0.10223269],[1442275200000,0.10223269],[1442361600000,0.10223269],[1442448000000,0.10223269],[1442534400000,0.10223269],[1442793600000,0.10223269],[1442880000000,0.10223269],[1442966400000,0.10223269],[1443052800000,0.10223269],[1443139200000,0.10223269],[1443398400000,0.10223269],[1443484800000,0.10223269],[1443571200000,0.10223269],[1444262400000,0.10223269],[1444348800000,0.10223269],[1444608000000,0.10223269],[1444694400000,0.10223269],[1444780800000,0.10223269],[1444867200000,0.10223269],[1444953600000,0.10223269],[1445212800000,0.10223269],[1445299200000,0.10146283],[1445385600000,0.10017123],[1445472000000,0.09543329],[1445558400000,0.09743017],[1445817600000,0.09673142],[1445904000000,0.09860065],[1445990400000,0.09800847],[1446076800000,0.09188396],[1446163200000,0.09028396],[1446422400000,0.08638641],[1446508800000,0.08400887],[1446595200000,0.08425652],[1446681600000,0.08963849],[1446768000000,0.09306756],[1447027200000,0.13319881],[1447113600000,0.12560031],[1447200000000,0.13903153],[1447286400000,0.13446027],[1447372800000,0.1148923],[1447632000000,0.09537447],[1447718400000,0.12712751],[1447804800000,0.11542476],[1447891200000,0.09711074],[1447977600000,0.11516583],[1448236800000,0.11499412],[1448323200000,0.11405783],[1448409600000,0.11828478],[1448496000000,0.14437897],[1448582400000,0.11574965],[1448841600000,0.07459908],[1448928000000,0.07035376],[1449014400000,0.07988735],[1449100800000,0.12942013],[1449187200000,0.13194806],[1449446400000,0.11666599],[1449532800000,0.11129475],[1449619200000,0.10253538],[1449705600000,0.1153184],[1449792000000,0.10953529],[1450051200000,0.10108958],[1450137600000,0.14671352],[1450224000000,0.1516964],[1450310400000,0.15147811],[1450396800000,0.16434541],[1450656000000,0.16493042],[1450742400000,0.19093873],[1450828800000,0.2068909],[1450915200000,0.21977973],[1451001600000,0.23058633],[1451260800000,0.24965039],[1451347200000,0.21554166],[1451433600000,0.21570699],[1451520000000,0.20708662],[1451865600000,0.17939403],[1451952000000,0.09332862],[1452038400000,0.10259877],[1452124800000,0.09615628],[1452211200000,0.0811814],[1452470400000,0.06606219],[1452556800000,0.05573061],[1452643200000,0.05762895],[1452729600000,0.04682352],[1452816000000,0.05755891],[1453075200000,0.05162088],[1453161600000,0.05584007],[1453248000000,0.05922642],[1453334400000,0.05534832],[1453420800000,0.04902112],[1453680000000,0.05101252],[1453766400000,0.04806286],[1453852800000,0.05980777],[1453939200000,0.0386442],[1454025600000,0.01894324],[1454284800000,0.01845572],[1454371200000,0.01705523],[1454457600000,0.0253063],[1454544000000,0.02021633],[1454630400000,0.02100756],[1455494400000,0.00972073],[1455580800000,0.01680937],[1455667200000,0.01858238],[1455753600000,0.02692425],[1455840000000,0.0216054],[1456099200000,0.02550635],[1456185600000,0.0280067],[1456272000000,0.02197085],[1456358400000,0.0219456],[1456444800000,0.0042805],[1456704000000,0.00867905],[1456790400000,-0.0011074],[1456876800000,0.0006813],[1456963200000,0.01207555],[1457049600000,0.0050681],[1457308800000,0.00075935],[1457395200000,0.0047627],[1457481600000,-0.006267],[1457568000000,-0.012825],[1457654400000,-0.02198545],[1457913600000,-0.01736945],[1458000000000,-0.01346715],[1458086400000,-0.0093913],[1458172800000,-0.01427075],[1458259200000,-0.00788505],[1458518400000,0.0021032],[1458604800000,0.00348085],[1458691200000,-0.00033285],[1458777600000,-0.00059251],[1458864000000,-0.00212436],[1459123200000,-0.00983218],[1459209600000,-0.00635188],[1459296000000,-0.00940064],[1459382400000,0.02135655],[1459468800000,0.00398876],[1459814400000,0.0215464],[1459900800000,0.03521176],[1459987200000,0.05666071],[1460073600000,0.03428747],[1460332800000,0.02990134],[1460419200000,0.02928701],[1460505600000,0.02074072],[1460592000000,0.0114213],[1460678400000,0.0132022],[1460937600000,0.00929536],[1461024000000,0.01337398],[1461110400000,0.01199721],[1461196800000,-0.04221455],[1461283200000,-0.04577534],[1461542400000,-0.03115656],[1461628800000,-0.02708515],[1461715200000,-0.02429988],[1461801600000,-0.02650927],[1461888000000,-0.02105972],[1462233600000,-0.01708876],[1462320000000,0.00495622],[1462406400000,0.00154244],[1462492800000,0.00669025],[1462752000000,-0.03205838],[1462838400000,-0.05366847],[1462924800000,-0.04742607],[1463011200000,-0.04689878],[1463097600000,-0.03381486],[1463356800000,-0.04643197],[1463443200000,-0.0354949],[1463529600000,-0.04150501],[1463616000000,-0.0467077],[1463702400000,-0.04939252],[1463961600000,-0.04234031],[1464048000000,-0.03298279],[1464134400000,-0.03443715],[1464220800000,-0.05525377],[1464307200000,-0.0540003],[1464566400000,-0.05018693],[1464652800000,-0.04239873],[1464739200000,-0.01398917],[1464825600000,-0.02308123],[1464912000000,-0.01512969],[1465171200000,0.00897389],[1465257600000,0.00104225],[1465344000000,-0.00293973],[1465776000000,-0.01203189],[1465862400000,-0.03294392],[1465948800000,-0.03237085],[1466035200000,-0.01225549],[1466121600000,-0.00838272],[1466380800000,0.00409087],[1466467200000,0.0015277],[1466553600000,-0.00591433],[1466640000000,-0.00596259],[1466726400000,-0.01367833],[1466985600000,-0.02810316],[1467072000000,-0.00852038],[1467158400000,0.00671152],[1467244800000,0.01155316],[1467331200000,0.02016456],[1467590400000,0.00634503],[1467676800000,0.01224173],[1467763200000,0.01599602],[1467849600000,0.05841461],[1467936000000,0.05378729],[1468195200000,0.05627833],[1468281600000,0.06745875],[1468368000000,0.08652001],[1468454400000,0.07602923],[1468540800000,0.08205773],[1468800000000,0.08527017],[1468886400000,0.08326475],[1468972800000,0.06534063],[1469059200000,0.06902295],[1469145600000,0.08397232],[1469404800000,0.07440908],[1469491200000,0.08598314],[1469577600000,0.11056921],[1469664000000,0.08287651],[1469750400000,0.08183231],[1470009600000,0.08290511],[1470096000000,0.0556815],[1470182400000,0.06177129],[1470268800000,0.06522544],[1470355200000,0.07967673],[1470614400000,0.07985865],[1470700800000,0.08679527],[1470787200000,0.10067731],[1470873600000,0.10085216],[1470960000000,0.0986066],[1471219200000,0.11551854],[1471305600000,0.14282885],[1471392000000,0.12744143],[1471478400000,0.12492909],[1471564800000,0.11966527],[1471824000000,0.11488896],[1471910400000,0.0989965],[1471996800000,0.09861232],[1472083200000,0.09024011],[1472169600000,0.08781269],[1472428800000,0.10015247],[1472515200000,0.10433405],[1472601600000,0.10514047],[1472688000000,0.11860984],[1472774400000,0.10736864],[1473033600000,0.11464325],[1473120000000,0.11783636],[1473206400000,0.12814],[1473292800000,0.12347629],[1473379200000,0.13804271],[1473638400000,0.109502],[1473724800000,0.1135616],[1473811200000,0.10141045],[1474243200000,0.1143312],[1474329600000,0.11922316],[1474416000000,0.1126886],[1474502400000,0.11344249],[1474588800000,0.12100042],[1474848000000,0.10071331],[1474934400000,0.0770877],[1475020800000,0.08611407],[1475107200000,0.08688164],[1475193600000,0.08268294],[1476057600000,0.09114496],[1476144000000,0.0951293],[1476230400000,0.09447878],[1476316800000,0.10090035],[1476403200000,0.10289432],[1476662400000,0.10117153],[1476748800000,0.08820084],[1476835200000,0.09860352],[1476921600000,0.0936789],[1477008000000,0.08971213],[1477267200000,0.08189671],[1477353600000,0.08391444],[1477440000000,0.08382276],[1477526400000,0.08398835],[1477612800000,0.08621563],[1477872000000,0.07860007],[1477958400000,0.07969555],[1478044800000,0.0838192],[1478131200000,0.08273407],[1478217600000,0.09509297],[1478476800000,0.09489641],[1478563200000,0.09843687],[1478649600000,0.10893877],[1478736000000,0.11790746],[1478822400000,0.12354585],[1479081600000,0.11841235],[1479168000000,0.12959607],[1479254400000,0.13280054],[1479340800000,0.1347796],[1479427200000,0.14426004],[1479686400000,0.14240883],[1479772800000,0.13810648],[1479859200000,0.14252457],[1479945600000,0.13732566],[1480032000000,0.14075206],[1480291200000,0.14662435],[1480377600000,0.14105534],[1480464000000,0.14223761],[1480550400000,0.14602342],[1480636800000,0.15629769],[1480896000000,0.10649253],[1480982400000,0.11166789],[1481068800000,0.12117335],[1481155200000,0.13622452],[1481241600000,0.12634704],[1481500800000,0.13069913],[1481587200000,0.09307731],[1481673600000,0.10540735],[1481760000000,0.09903562],[1481846400000,0.09739389],[1482105600000,0.10418993],[1482192000000,0.10087414],[1482278400000,0.09690835],[1482364800000,0.10960929],[1482451200000,0.1217053],[1482710400000,0.11917252],[1482796800000,0.12295357],[1482883200000,0.1125977],[1482969600000,0.10641513],[1483056000000,0.11694502],[1483401600000,0.11219099],[1483488000000,0.12268597],[1483574400000,0.13258323],[1483660800000,0.14806235],[1483920000000,0.1495335],[1484006400000,0.1335342],[1484092800000,0.11698154],[1484179200000,0.09471463],[1484265600000,0.07952801],[1484524800000,0.07853198],[1484611200000,0.06259828],[1484697600000,0.07105139],[1484784000000,0.07631346],[1484870400000,0.06281878],[1485129600000,0.06890192],[1485216000000,0.06980761],[1485302400000,0.07335815],[1485388800000,0.07842752],[1486080000000,0.0836231],[1486339200000,0.07958307],[1486425600000,0.07694255],[1486512000000,0.07865464],[1486598400000,0.07736871],[1486684800000,0.08556327],[1486944000000,0.08999906],[1487030400000,0.09856542],[1487116800000,0.09549407],[1487203200000,0.08844037],[1487289600000,0.09452154],[1487548800000,0.0986617],[1487635200000,0.11756569],[1487721600000,0.13204735],[1487808000000,0.13763739],[1487894400000,0.12612622],[1488153600000,0.12801227],[1488240000000,0.11710586],[1488326400000,0.12137669],[1488412800000,0.12203469],[1488499200000,0.12152327],[1488758400000,0.11388446],[1488844800000,0.11576526],[1488931200000,0.11295061],[1489017600000,0.11107441],[1489104000000,0.10362703],[1489363200000,0.11125486],[1489449600000,0.138158],[1489536000000,0.15053722],[1489622400000,0.16490187],[1489708800000,0.15891329],[1489968000000,0.13890228],[1490054400000,0.13203156],[1490140800000,0.1336483],[1490227200000,0.14148299],[1490313600000,0.13406003],[1490572800000,0.14111765],[1490659200000,0.13033587],[1490745600000,0.13162325],[1490832000000,0.12549997],[1490918400000,0.11430353],[1491350400000,0.1282575],[1491436800000,0.15258365],[1491523200000,0.16489054],[1491782400000,0.16347328],[1491868800000,0.15508047],[1491955200000,0.15854893],[1492041600000,0.15468426],[1492128000000,0.1736423],[1492387200000,0.1559815],[1492473600000,0.15401095],[1492560000000,0.16374759],[1492646400000,0.15723583],[1492732800000,0.16972715],[1492992000000,0.14371777],[1493078400000,0.13856125],[1493164800000,0.14250818],[1493251200000,0.13490469],[1493337600000,0.13396393],[1493683200000,0.12156734],[1493769600000,0.13029479],[1493856000000,0.1343398],[1493942400000,0.13026255],[1494201600000,0.12414957],[1494288000000,0.11598451],[1494374400000,0.12120009],[1494460800000,0.11114497],[1494547200000,0.11736495],[1494806400000,0.13519418],[1494892800000,0.1457737],[1494979200000,0.16320166],[1495065600000,0.14380089],[1495152000000,0.15004612],[1495411200000,0.1684388],[1495497600000,0.16701717],[1495584000000,0.17616877],[1495670400000,0.16815806],[1495756800000,0.16251274],[1496188800000,0.16003315],[1496275200000,0.15690316],[1496361600000,0.17805271],[1496620800000,0.17322335],[1496707200000,0.15714901],[1496793600000,0.17438233],[1496880000000,0.1907946],[1496966400000,0.22467737],[1497225600000,0.2292668],[1497312000000,0.23175226],[1497398400000,0.23970865],[1497484800000,0.21294358],[1497571200000,0.19652203],[1497830400000,0.19390566],[1497916800000,0.20915207],[1498003200000,0.20090248],[1498089600000,0.23268901],[1498176000000,0.21832886],[1498435200000,0.24375111],[1498521600000,0.25208786],[1498608000000,0.24895458],[1498694400000,0.23359135],[1498780800000,0.23409602],[1499040000000,0.24264054],[1499126400000,0.22878202],[1499212800000,0.21931129],[1499299200000,0.23330782],[1499385600000,0.23315668],[1499644800000,0.23012533],[1499731200000,0.21511041],[1499817600000,0.22769709],[1499904000000,0.21228853],[1499990400000,0.20075352],[1500249600000,0.21580874],[1500336000000,0.20772038],[1500422400000,0.20528088],[1500508800000,0.21861186],[1500595200000,0.22411087],[1500854400000,0.22369752],[1500940800000,0.2301746],[1501027200000,0.21784298],[1501113600000,0.19315928],[1501200000000,0.18446259],[1501459200000,0.19706944],[1501545600000,0.21166153],[1501632000000,0.21045765],[1501718400000,0.21174799],[1501804800000,0.19966915],[1502064000000,0.19177794],[1502150400000,0.20085051],[1502236800000,0.20432126],[1502323200000,0.20137425],[1502409600000,0.19055079],[1502668800000,0.1731788],[1502755200000,0.18103361],[1502841600000,0.19336094],[1502928000000,0.18986904],[1503014400000,0.18815041],[1503273600000,0.19312158],[1503360000000,0.1942561],[1503446400000,0.19402398],[1503532800000,0.19411082],[1503619200000,0.1932247],[1503878400000,0.20821431],[1503964800000,0.21760031],[1504051200000,0.22009337],[1504137600000,0.21905763],[1504224000000,0.2108723],[1504483200000,0.2159578],[1504569600000,0.22321592],[1504656000000,0.2272276],[1504742400000,0.22853458],[1504828800000,0.23160689],[1505088000000,0.23789254],[1505174400000,0.23167896],[1505260800000,0.2377034],[1505347200000,0.23673985],[1505433600000,0.22755057],[1505692800000,0.22222265],[1505779200000,0.21847883],[1505865600000,0.20813653],[1505952000000,0.21067246],[1506038400000,0.19983406],[1506297600000,0.20531564],[1506384000000,0.20965125],[1506470400000,0.20614204],[1506556800000,0.20721423],[1506643200000,0.21948595],[1507507200000,0.2402057],[1507593600000,0.23915249],[1507680000000,0.23180575],[1507766400000,0.24865639],[1507852800000,0.25990874],[1508112000000,0.25787755],[1508198400000,0.2539355],[1508284800000,0.25320145],[1508371200000,0.25994401],[1508457600000,0.27963863],[1508716800000,0.28071705],[1508803200000,0.27119208],[1508889600000,0.28142237],[1508976000000,0.29466478],[1509062400000,0.28870739],[1509321600000,0.28662968],[1509408000000,0.27850382],[1509494400000,0.2938453],[1509580800000,0.28711821],[1509667200000,0.2937198],[1509926400000,0.32064985],[1510012800000,0.3799992],[1510099200000,0.35134177],[1510185600000,0.33896793],[1510272000000,0.36937471],[1510531200000,0.41520035],[1510617600000,0.40893421],[1510704000000,0.36582843],[1510790400000,0.3700353],[1510876800000,0.39964812],[1511136000000,0.3749398],[1511222400000,0.4208703],[1511308800000,0.43938347],[1511395200000,0.40875212],[1511481600000,0.32024496],[1511740800000,0.33558278],[1511827200000,0.30985196],[1511913600000,0.34213639],[1512000000000,0.32964942],[1512086400000,0.30759677],[1512345600000,0.31404146],[1512432000000,0.32089942],[1512518400000,0.31212477],[1512604800000,0.26485783],[1512691200000,0.25458103],[1512950400000,0.27688721],[1513036800000,0.32896301],[1513123200000,0.31930207],[1513209600000,0.34476565],[1513296000000,0.3462955],[1513555200000,0.31943842],[1513641600000,0.31323319],[1513728000000,0.33657839],[1513814400000,0.34360657],[1513900800000,0.37998318],[1514160000000,0.38896865],[1514246400000,0.37989805],[1514332800000,0.36842571],[1514419200000,0.33457541],[1514505600000,0.34436244],[1514851200000,0.36146286],[1514937600000,0.37511183],[1515024000000,0.38163158],[1515110400000,0.40698627],[1515369600000,0.39511528],[1515456000000,0.39922866],[1515542400000,0.41374725],[1515628800000,0.40381055],[1515715200000,0.38933081],[1515974400000,0.40202991],[1516060800000,0.39041719],[1516147200000,0.41149221],[1516233600000,0.37815716],[1516320000000,0.37782658],[1516579200000,0.38729509],[1516665600000,0.42033802],[1516752000000,0.43678362],[1516838400000,0.44418449],[1516924800000,0.42763109],[1517184000000,0.42960938],[1517270400000,0.37957456],[1517356800000,0.37655513],[1517443200000,0.40430249],[1517529600000,0.38228933],[1517788800000,0.40046974],[1517875200000,0.36821291],[1517961600000,0.38239566],[1518048000000,0.31364753],[1518134400000,0.25269743],[1518393600000,0.23336776],[1518480000000,0.25547762],[1518566400000,0.25222908],[1519257600000,0.2816482],[1519344000000,0.30194289],[1519603200000,0.32573563],[1519689600000,0.33508836],[1519776000000,0.2886019],[1519862400000,0.28603386],[1519948800000,0.2949377],[1520208000000,0.30432439],[1520294400000,0.30272314],[1520380800000,0.29771558],[1520467200000,0.29539261],[1520553600000,0.30600616],[1520812800000,0.31505802],[1520899200000,0.30815909],[1520985600000,0.3027601],[1521072000000,0.31577274],[1521158400000,0.32312332],[1521417600000,0.30328034],[1521504000000,0.31415596],[1521590400000,0.32801979],[1521676800000,0.31922841],[1521763200000,0.27724283],[1522022400000,0.28577574],[1522108800000,0.3054419],[1522195200000,0.2830835],[1522281600000,0.27812022],[1522368000000,0.23915024],[1522627200000,0.27526832],[1522713600000,0.24960332],[1522800000000,0.26186124],[1523232000000,0.2376843],[1523318400000,0.25468708],[1523404800000,0.27485663],[1523491200000,0.27024709],[1523577600000,0.2775482],[1523836800000,0.26134107],[1523923200000,0.2537511],[1524009600000,0.21934218],[1524096000000,0.22256549],[1524182400000,0.23003353],[1524441600000,0.23143289],[1524528000000,0.23322703],[1524614400000,0.238232],[1524700800000,0.25864697],[1524787200000,0.25560629],[1525219200000,0.30867259],[1525305600000,0.308205],[1525392000000,0.30521203],[1525651200000,0.32294875],[1525737600000,0.34969331],[1525824000000,0.32450162],[1525910400000,0.32340407],[1525996800000,0.36626117],[1526256000000,0.34342038],[1526342400000,0.36509238],[1526428800000,0.40324376],[1526515200000,0.42891738],[1526601600000,0.38755856],[1526860800000,0.4055424],[1526947200000,0.40372508],[1527033600000,0.43510298],[1527120000000,0.43887346],[1527206400000,0.44610314],[1527465600000,0.46533445],[1527552000000,0.49497804],[1527638400000,0.37828193],[1527724800000,0.41260887],[1527811200000,0.45068708],[1528070400000,0.38676893],[1528156800000,0.39801242],[1528243200000,0.4531795],[1528329600000,0.47006954],[1528416000000,0.44297502],[1528675200000,0.44200977],[1528761600000,0.40018632],[1528848000000,0.43477578],[1528934400000,0.41274246],[1529020800000,0.39364527],[1529366400000,0.35108551],[1529452800000,0.35404026],[1529539200000,0.3800003],[1529625600000,0.35673966],[1529884800000,0.37128015],[1529971200000,0.35491764],[1530057600000,0.34669073],[1530144000000,0.29794789],[1530230400000,0.30967142],[1530489600000,0.34473708],[1530576000000,0.34133874],[1530662400000,0.32116914],[1530748800000,0.32090294],[1530835200000,0.30745394],[1531094400000,0.32154084],[1531180800000,0.34728354],[1531267200000,0.34311364],[1531353600000,0.35880174],[1531440000000,0.38060784],[1531699200000,0.38198434],[1531785600000,0.39919014],[1531872000000,0.37875724],[1531958400000,0.38801884],[1532044800000,0.36043794],[1532304000000,0.32540424],[1532390400000,0.28255974],[1532476800000,0.28837454],[1532563200000,0.30602684],[1532649600000,0.29717484],[1532908800000,0.28752184],[1532995200000,0.27882474],[1533081600000,0.28169894]]},{\"name\":\"close\",\"yAxis\":0,\"data\":[[1199232000000,0.0],[1199318400000,0.0068578114],[1199404800000,0.0183004958],[1199664000000,0.0318452768],[1199750400000,0.0265454681],[1199836800000,0.042461607],[1199923200000,0.0533044883],[1200009600000,0.0583183228],[1200268800000,0.0643739206],[1200355200000,0.0578169393],[1200441600000,0.0223988412],[1200528000000,-0.0036173887],[1200614400000,0.0054539377],[1200873600000,-0.044450428],[1200960000000,-0.117217879],[1201046400000,-0.0761341479],[1201132800000,-0.0664593044],[1201219200000,-0.0571335723],[1201478400000,-0.1213013686],[1201564800000,-0.1156933019],[1201651200000,-0.1252437281],[1201737600000,-0.142002934],[1201824000000,-0.1510018384],[1202083200000,-0.0807747303],[1202169600000,-0.0860281146],[1202860800000,-0.105665633],[1202947200000,-0.0937494197],[1203033600000,-0.1061800152],[1203292800000,-0.0880410763],[1203379200000,-0.0676589107],[1203465600000,-0.0884626098],[1203552000000,-0.0945330635],[1203638400000,-0.1268054447],[1203897600000,-0.1606878238],[1203984000000,-0.1614770385],[1204070400000,-0.138405972],[1204156800000,-0.1416946761],[1204243200000,-0.1319474104],[1204502400000,-0.1103712094],[1204588800000,-0.1325787822],[1204675200000,-0.1404579302],[1204761600000,-0.1300012999],[1204848000000,-0.1417633842],[1205107200000,-0.1770644928],[1205193600000,-0.175283653],[1205280000000,-0.1997084548],[1205366400000,-0.2202633192],[1205452800000,-0.2278936324],[1205712000000,-0.263657128],[1205798400000,-0.3010436204],[1205884800000,-0.2778481365],[1205971200000,-0.2568698817],[1206057600000,-0.2501847691],[1206316800000,-0.2837477484],[1206403200000,-0.2747079906],[1206489600000,-0.2731109914],[1206576000000,-0.3038346549],[1206662400000,-0.2724071976],[1206921600000,-0.2961077789],[1207008000000,-0.3346734508],[1207094400000,-0.3411487252],[1207180800000,-0.3220738705],[1207526400000,-0.2858405601],[1207612800000,-0.2774396019],[1207699200000,-0.3151250673],[1207785600000,-0.302757609],[1207872000000,-0.2973705224],[1208131200000,-0.3433121019],[1208217600000,-0.3345898869],[1208304000000,-0.3511689662],[1208390400000,-0.3711110286],[1208476800000,-0.3923046926],[1208736000000,-0.3932238956],[1208822400000,-0.3878888043],[1208908800000,-0.3586507214],[1208995200000,-0.299084511],[1209081600000,-0.2937791313],[1209340800000,-0.3075058959],[1209427200000,-0.2986314089],[1209513600000,-0.2648010251],[1209945600000,-0.2468514977],[1210032000000,-0.2551874617],[1210118400000,-0.2903901506],[1210204800000,-0.2711295983],[1210291200000,-0.2796939704],[1210550400000,-0.2748658335],[1210636800000,-0.2847505153],[1210723200000,-0.2617073035],[1210809600000,-0.2668492693],[1210896000000,-0.2690720692],[1211155200000,-0.2731667007],[1211241600000,-0.3109097324],[1211328000000,-0.2974967967],[1211414400000,-0.3107945999],[1211500800000,-0.3175335648],[1211760000000,-0.3390614845],[1211846400000,-0.3359083397],[1211932800000,-0.3173330115],[1212019200000,-0.335041132],[1212105600000,-0.3293847839],[1212364800000,-0.3266921691],[1212451200000,-0.3288685447],[1212537600000,-0.3413455646],[1212624000000,-0.3478041262],[1212710400000,-0.3520083193],[1213056000000,-0.4045495905],[1213142400000,-0.4168539117],[1213228800000,-0.4271916956],[1213315200000,-0.4467846465],[1213574400000,-0.4517761973],[1213660800000,-0.4721212234],[1213747200000,-0.444528421],[1213833600000,-0.4850457745],[1213920000000,-0.4708231973],[1214179200000,-0.4819149134],[1214265600000,-0.4704053778],[1214352000000,-0.4485636293],[1214438400000,-0.4464522479],[1214524800000,-0.4770719207],[1214784000000,-0.4815658019],[1214870400000,-0.4989229541],[1214956800000,-0.4986908321],[1215043200000,-0.4873614232],[1215129600000,-0.4908451097],[1215388800000,-0.4646784647],[1215475200000,-0.461135355],[1215561600000,-0.4400976769],[1215648000000,-0.4477855564],[1215734400000,-0.4515422183],[1215993600000,-0.4473881636],[1216080000000,-0.4702085384],[1216166400000,-0.4901487438],[1216252800000,-0.4952609979],[1216339200000,-0.4771759113],[1216598400000,-0.4594250803],[1216684800000,-0.460596832],[1216771200000,-0.464574474],[1216857600000,-0.4471114743],[1216944000000,-0.4541976936],[1217203200000,-0.4501773412],[1217289600000,-0.4604315612],[1217376000000,-0.4643776346],[1217462400000,-0.4790793114],[1217548800000,-0.4724721918],[1217808000000,-0.4850327756],[1217894400000,-0.4980446046],[1217980800000,-0.4945887727],[1218067200000,-0.4948208947],[1218153600000,-0.5187721676],[1218412800000,-0.5437763458],[1218499200000,-0.5461254201],[1218585600000,-0.5460307144],[1218672000000,-0.5462461236],[1218758400000,-0.5454847635],[1219017600000,-0.5704072348],[1219104000000,-0.5638948209],[1219190400000,-0.5296391896],[1219276800000,-0.5461588457],[1219363200000,-0.5534103359],[1219622400000,-0.5542236913],[1219708800000,-0.5670405378],[1219795200000,-0.5681992906],[1219881600000,-0.5662364673],[1219968000000,-0.5558782567],[1220227200000,-0.5711927355],[1220313600000,-0.5756049098],[1220400000000,-0.5829306791],[1220486400000,-0.5819669087],[1220572800000,-0.5945423483],[1220832000000,-0.6051103972],[1220918400000,-0.6027650369],[1221004800000,-0.6020166756],[1221091200000,-0.6152104882],[1221177600000,-0.6141482981],[1221523200000,-0.6284841507],[1221609600000,-0.6417633842],[1221696000000,-0.6479192587],[1221782400000,-0.6150285046],[1222041600000,-0.590052181],[1222128000000,-0.6056749178],[1222214400000,-0.6028207461],[1222300800000,-0.5870958757],[1222387200000,-0.5833577835],[1223251200000,-0.6047055765],[1223337600000,-0.6095801378],[1223424000000,-0.6243560937],[1223510400000,-0.6294776327],[1223596800000,-0.6458821563],[1223856000000,-0.6312993259],[1223942400000,-0.6407457615],[1224028800000,-0.6445079943],[1224115200000,-0.6618632894],[1224201600000,-0.6595680674],[1224460800000,-0.6477818425],[1224547200000,-0.6506267293],[1224633600000,-0.6595569256],[1224720000000,-0.6592858071],[1224806400000,-0.6691612041],[1225065600000,-0.692731797],[1225152000000,-0.6832333661],[1225238400000,-0.6920725706],[1225324800000,-0.6847486583],[1225411200000,-0.6910623758],[1225670400000,-0.6929416353],[1225756800000,-0.6977289187],[1225843200000,-0.6859074112],[1225929600000,-0.6936398581],[1226016000000,-0.6884310412],[1226275200000,-0.6654342538],[1226361600000,-0.6692057715],[1226448000000,-0.6654063991],[1226534400000,-0.6519878925],[1226620800000,-0.6390689124],[1226880000000,-0.6309780691],[1226966400000,-0.6583498914],[1227052800000,-0.6373029285],[1227139200000,-0.6411524391],[1227225600000,-0.6433251007],[1227484800000,-0.6587547121],[1227571200000,-0.6593767989],[1227657600000,-0.6576683813],[1227744000000,-0.6526582608],[1227830400000,-0.6601882973],[1228089600000,-0.6538225845],[1228176000000,-0.6529999443],[1228262400000,-0.6373939203],[1228348800000,-0.6317747117],[1228435200000,-0.6261573601],[1228694400000,-0.6109561568],[1228780800000,-0.6210191083],[1228867200000,-0.6107054651],[1228953600000,-0.6199996286],[1229040000000,-0.635962192],[1229299200000,-0.6332417225],[1229385600000,-0.6296354757],[1229472000000,-0.6283411636],[1229558400000,-0.6202298936],[1229644800000,-0.6189281536],[1229904000000,-0.6253458617],[1229990400000,-0.6436556424],[1230076800000,-0.649575681],[1230163200000,-0.6526025515],[1230249600000,-0.6542125494],[1230508800000,-0.6555755696],[1230595200000,-0.6595346419],[1230681600000,-0.6624538077],[1231113600000,-0.6503388981],[1231200000000,-0.6392267553],[1231286400000,-0.6413845611],[1231372800000,-0.6494048393],[1231459200000,-0.643765204],[1231718400000,-0.6433325286],[1231804800000,-0.6515960706],[1231891200000,-0.6369166775],[1231977600000,-0.6369853856],[1232064000000,-0.6304228334],[1232323200000,-0.6262910624],[1232409600000,-0.6239271323],[1232496000000,-0.6245733598],[1232582400000,-0.6203320273],[1232668800000,-0.6225362575],[1233532800000,-0.6180089506],[1233619200000,-0.6083805315],[1233705600000,-0.597702921],[1233792000000,-0.6005700915],[1233878400000,-0.584542534],[1234137600000,-0.5735139552],[1234224000000,-0.5679281722],[1234310400000,-0.5671129598],[1234396800000,-0.5694898888],[1234483200000,-0.5545003807],[1234742400000,-0.542766151],[1234828800000,-0.5570574363],[1234915200000,-0.5773820356],[1235001600000,-0.5731908414],[1235088000000,-0.5646654658],[1235347200000,-0.5523797144],[1235433600000,-0.5725520417],[1235520000000,-0.5721063676],[1235606400000,-0.5932870327],[1235692800000,-0.6025162021],[1235952000000,-0.5980260348],[1236038400000,-0.6022079441],[1236124800000,-0.5756531912],[1236211200000,-0.5719819502],[1236297600000,-0.5753876437],[1236556800000,-0.5909955247],[1236643200000,-0.5838925925],[1236729600000,-0.587680823],[1236816000000,-0.5885498877],[1236902400000,-0.5904588587],[1237161600000,-0.5837384635],[1237248000000,-0.5687359566],[1237334400000,-0.5668325565],[1237420800000,-0.5575643906],[1237507200000,-0.558069488],[1237766400000,-0.5470093406],[1237852800000,-0.5447104046],[1237939200000,-0.5540788472],[1238025600000,-0.5395090156],[1238112000000,-0.5359547641],[1238371200000,-0.538636237],[1238457600000,-0.5343094836],[1238544000000,-0.5268017307],[1238630400000,-0.5215687731],[1238716800000,-0.5226643888],[1239062400000,-0.5214666394],[1239148800000,-0.5395907225],[1239235200000,-0.5324747916],[1239321600000,-0.5180163785],[1239580800000,-0.5066906836],[1239667200000,-0.5029117379],[1239753600000,-0.5010324785],[1239840000000,-0.5010101948],[1239926400000,-0.5077733004],[1240185600000,-0.4971922527],[1240272000000,-0.5031772855],[1240358400000,-0.5215910568],[1240444800000,-0.5183822027],[1240531200000,-0.5222205716],[1240790400000,-0.5332881469],[1240876800000,-0.5323150916],[1240963200000,-0.5161891144],[1241049600000,-0.512928265],[1241395200000,-0.4959610778],[1241481600000,-0.4936008616],[1241568000000,-0.4865499248],[1241654400000,-0.4861599599],[1241740800000,-0.4820486156],[1242000000000,-0.4939146905],[1242086400000,-0.482171176],[1242172800000,-0.4774470298],[1242259200000,-0.4814209578],[1242345600000,-0.4807673024],[1242604800000,-0.4780839724],[1242691200000,-0.4726040371],[1242777600000,-0.477658725],[1242864000000,-0.4893298175],[1242950400000,-0.4910623758],[1243209600000,-0.488826577],[1243296000000,-0.494947169],[1243382400000,-0.487528551],[1243814400000,-0.4692131994],[1243900800000,-0.4679578838],[1243987200000,-0.4541624111],[1244073600000,-0.4514957939],[1244160000000,-0.4541772669],[1244419200000,-0.4524744202],[1244505600000,-0.4502311935],[1244592000000,-0.4448403929],[1244678400000,-0.4500324971],[1244764800000,-0.4603090008],[1245024000000,-0.4491857161],[1245110400000,-0.4501086331],[1245196800000,-0.4409407439],[1245283200000,-0.4322426696],[1245369600000,-0.4280514754],[1245628800000,-0.4275760896],[1245715200000,-0.4273272548],[1245801600000,-0.4204880132],[1245888000000,-0.4210098234],[1245974400000,-0.4190599989],[1246233600000,-0.409487289],[1246320000000,-0.4119942062],[1246406400000,-0.3987298286],[1246492800000,-0.3904737145],[1246579200000,-0.3821581772],[1246838400000,-0.3733171157],[1246924800000,-0.3796791146],[1247011200000,-0.3774915972],[1247097600000,-0.369315333],[1247184000000,-0.3689420809],[1247443200000,-0.3758686004],[1247529600000,-0.3584613099],[1247616000000,-0.3513026685],[1247702400000,-0.3498282297],[1247788800000,-0.3463798258],[1248048000000,-0.3331377319],[1248134400000,-0.3426621604],[1248220800000,-0.3302037102],[1248307200000,-0.3218380346],[1248393600000,-0.3189430094],[1248652800000,-0.304816995],[1248739200000,-0.3025533416],[1248825600000,-0.3391933297],[1248912000000,-0.325022748],[1248998400000,-0.3064901302],[1249257600000,-0.2967577204],[1249344000000,-0.2968357134],[1249430400000,-0.3053165215],[1249516800000,-0.3197675066],[1249603200000,-0.3398284154],[1249862400000,-0.3417875248],[1249948800000,-0.3395888656],[1250035200000,-0.3691110657],[1250121600000,-0.3610480771],[1250208000000,-0.3789418952],[1250467200000,-0.4168594826],[1250553600000,-0.4109691556],[1250640000000,-0.4402016676],[1250726400000,-0.4160944086],[1250812800000,-0.4050955414],[1251072000000,-0.4002711185],[1251158400000,-0.4225121168],[1251244800000,-0.4108948766],[1251331200000,-0.4138827506],[1251417600000,-0.4342203487],[1251676800000,-0.4744257303],[1251763200000,-0.4719318119],[1251849600000,-0.4631613155],[1251936000000,-0.4332584353],[1252022400000,-0.4285825704],[1252281600000,-0.4235557371],[1252368000000,-0.4111585672],[1252454400000,-0.4067129673],[1252540800000,-0.4126552896],[1252627200000,-0.3986871182],[1252886400000,-0.3884254703],[1252972800000,-0.3867077677],[1253059200000,-0.39495274],[1253145600000,-0.3834654881],[1253232000000,-0.4058253329],[1253491200000,-0.4041707675],[1253577600000,-0.4185753282],[1253664000000,-0.431752428],[1253750400000,-0.4278787766],[1253836800000,-0.4320384023],[1254096000000,-0.4479879668],[1254182400000,-0.4480529609],[1254268800000,-0.4420159329],[1255046400000,-0.4125067315],[1255305600000,-0.4147499582],[1255392000000,-0.406042599],[1255478400000,-0.4006796531],[1255564800000,-0.3984067148],[1255651200000,-0.3980223208],[1255910400000,-0.3817830681],[1255996800000,-0.3727934486],[1256083200000,-0.3743328815],[1256169600000,-0.3784108002],[1256256000000,-0.3661677592],[1256515200000,-0.3659839186],[1256601600000,-0.384464541],[1256688000000,-0.3817514995],[1256774400000,-0.3970306958],[1256860800000,-0.3908432527],[1257120000000,-0.3699652746],[1257206400000,-0.362048987],[1257292800000,-0.3586210098],[1257379200000,-0.3566841841],[1257465600000,-0.3532116395],[1257724800000,-0.3508402815],[1257811200000,-0.3493565579],[1257897600000,-0.3508625652],[1257984000000,-0.3500603517],[1258070400000,-0.3465822362],[1258329600000,-0.3266977401],[1258416000000,-0.3262242112],[1258502400000,-0.3258750998],[1258588800000,-0.3236077324],[1258675200000,-0.3257302557],[1258934400000,-0.3193236894],[1259020800000,-0.3411301554],[1259107200000,-0.3259865184],[1259193600000,-0.3527009712],[1259280000000,-0.3718761026],[1259539200000,-0.3478914041],[1259625600000,-0.3387625114],[1259712000000,-0.33198455],[1259798400000,-0.3331822993],[1259884800000,-0.32341275],[1260144000000,-0.3187071735],[1260230400000,-0.3270282817],[1260316800000,-0.339941691],[1260403200000,-0.3357152142],[1260489600000,-0.3361274628],[1260748800000,-0.3291210934],[1260835200000,-0.334582459],[1260921600000,-0.3387829381],[1261008000000,-0.3537445916],[1261094400000,-0.370162114],[1261353600000,-0.3692559098],[1261440000000,-0.3861692448],[1261526400000,-0.3804237619],[1261612800000,-0.3614194722],[1261699200000,-0.3640261091],[1261958400000,-0.3540634343],[1262044800000,-0.3499216356],[1262131200000,-0.3390490427],[1262217600000,-0.3360578262],[1262563200000,-0.3433323429],[1262649600000,-0.3381667936],[1262736000000,-0.3422203859],[1262822400000,-0.3551999034],[1262908800000,-0.3536976101],[1263168000000,-0.3532747767],[1263254400000,-0.3434835008],[1263340800000,-0.3647070621],[1263427200000,-0.3557007298],[1263513600000,-0.3531574158],[1263772800000,-0.3498248872],[1263859200000,-0.348595755],[1263945600000,-0.3694759614],[1264032000000,-0.3669014503],[1264118400000,-0.3748088243],[1264377600000,-0.3819999629],[1264464000000,-0.397755102],[1264550400000,-0.4059779763],[1264636800000,-0.4043975042],[1264723200000,-0.4048556201],[1264982400000,-0.4145133795],[1265068800000,-0.4157373122],[1265155200000,-0.4000471672],[1265241600000,-0.4021747043],[1265328000000,-0.4144450428],[1265587200000,-0.414770385],[1265673600000,-0.4115136209],[1265760000000,-0.4031423743],[1265846400000,-0.4020051624],[1265932800000,-0.3962890197],[1266796800000,-0.3994512637],[1266883200000,-0.4060424133],[1266969600000,-0.397454272],[1267056000000,-0.3886724481],[1267142400000,-0.3905140109],[1267401600000,-0.3825880671],[1267488000000,-0.3850569163],[1267574400000,-0.3805771481],[1267660800000,-0.3963764833],[1267747200000,-0.3945755882],[1268006400000,-0.3897710349],[1268092800000,-0.3860511411],[1268179200000,-0.3908530947],[1268265600000,-0.3914068448],[1268352000000,-0.3994867319],[1268611200000,-0.4088733728],[1268697600000,-0.4050881135],[1268784000000,-0.3920671854],[1268870400000,-0.3931748714],[1268956800000,-0.3884436686],[1269216000000,-0.3867450929],[1269302400000,-0.3916681213],[1269388800000,-0.3914528978],[1269475200000,-0.4003535682],[1269561600000,-0.3918514048],[1269820800000,-0.3762754638],[1269907200000,-0.3747178325],[1269993600000,-0.3786848898],[1270080000000,-0.3701314739],[1270166400000,-0.367276188],[1270512000000,-0.3676176858],[1270598400000,-0.3709114037],[1270684800000,-0.3785799707],[1270771200000,-0.3724601214],[1271030400000,-0.3776386697],[1271116800000,-0.3701665707],[1271203200000,-0.3678408943],[1271289600000,-0.3695933223],[1271376000000,-0.3765723942],[1271635200000,-0.4099832872],[1271721600000,-0.4106718538],[1271808000000,-0.398928525],[1271894400000,-0.4053380624],[1271980800000,-0.4075675475],[1272240000000,-0.4108306252],[1272326400000,-0.422673488],[1272412800000,-0.4247460586],[1272499200000,-0.4316228111],[1272585600000,-0.4303073295],[1272931200000,-0.4392956491],[1273017600000,-0.4361174351],[1273104000000,-0.4619321832],[1273190400000,-0.4732166534],[1273449600000,-0.4692015004],[1273536000000,-0.4798558987],[1273622400000,-0.4766188186],[1273708800000,-0.4639650146],[1273795200000,-0.4673747934],[1274054400000,-0.4958867988],[1274140800000,-0.4855750125],[1274227200000,-0.4869774006],[1274313600000,-0.4937100518],[1274400000000,-0.485785965],[1274659200000,-0.4663477001],[1274745600000,-0.4773164844],[1274832000000,-0.4774377449],[1274918400000,-0.4689298249],[1275004800000,-0.4706393567],[1275264000000,-0.4849423409],[1275350400000,-0.4903153145],[1275436800000,-0.4878620638],[1275523200000,-0.4918237359],[1275609600000,-0.4903301703],[1275868800000,-0.499309205],[1275955200000,-0.4986746764],[1276041600000,-0.4833590834],[1276128000000,-0.489290821],[1276214400000,-0.487606544],[1276732800000,-0.4905804906],[1276819200000,-0.4991964866],[1277078400000,-0.4837106089],[1277164800000,-0.483017957],[1277251200000,-0.487744703],[1277337600000,-0.4876087724],[1277424000000,-0.4918402629],[1277683200000,-0.4953649886],[1277769600000,-0.5186633489],[1277856000000,-0.5241399417],[1277942400000,-0.5308387959],[1278028800000,-0.529531485],[1278288000000,-0.5333193441],[1278374400000,-0.5241666821],[1278460800000,-0.5207873577],[1278547200000,-0.5217253162],[1278633600000,-0.5084262131],[1278892800000,-0.5030324414],[1278979200000,-0.5107186496],[1279065600000,-0.5072312492],[1279152000000,-0.5155469722],[1279238400000,-0.514097974],[1279497600000,-0.5018714601],[1279584000000,-0.4908863345],[1279670400000,-0.4898659264],[1279756800000,-0.4835603796],[1279843200000,-0.4813076823],[1280102400000,-0.4779708826],[1280188800000,-0.4807971997],[1280275200000,-0.4681614083],[1280361600000,-0.4656405638],[1280448000000,-0.4673372825],[1280707200000,-0.458355648],[1280793600000,-0.4678351377],[1280880000000,-0.4658589441],[1280966400000,-0.4706079739],[1281052800000,-0.4618714601],[1281312000000,-0.4580564892],[1281398400000,-0.4739765278],[1281484800000,-0.4706254294],[1281571200000,-0.4768930939],[1281657600000,-0.4697004698],[1281916800000,-0.4574262316],[1282003200000,-0.4535603796],[1282089600000,-0.4545390058],[1282176000000,-0.4511422258],[1282262400000,-0.4617412861],[1282521600000,-0.4620599432],[1282608000000,-0.4591877588],[1282694400000,-0.4720575291],[1282780800000,-0.4707452044],[1282867200000,-0.4691704889],[1283126400000,-0.4586897179],[1283212800000,-0.4608846632],[1283299200000,-0.4644407718],[1283385600000,-0.4575049674],[1283472000000,-0.4577240905],[1283731200000,-0.4475330077],[1283817600000,-0.4460437132],[1283904000000,-0.446441106],[1283990400000,-0.4565634807],[1284076800000,-0.4554325825],[1284336000000,-0.4499043657],[1284422400000,-0.4494048393],[1284508800000,-0.4590276875],[1284595200000,-0.469315333],[1284681600000,-0.4686505357],[1284940800000,-0.4707934857],[1285027200000,-0.4693728993],[1285545600000,-0.4605429797],[1285632000000,-0.4650220052],[1285718400000,-0.4661547604],[1285804800000,-0.4548717758],[1286496000000,-0.4346938776],[1286755200000,-0.4182280738],[1286841600000,-0.4108317394],[1286928000000,-0.4025032033],[1287014400000,-0.4012850272],[1287100800000,-0.3820579005],[1287360000000,-0.3860541123],[1287446400000,-0.373146274],[1287532800000,-0.3692076285],[1287619200000,-0.3733282576],[1287705600000,-0.3725910382],[1287964800000,-0.3535718928],[1288051200000,-0.3563573564],[1288137600000,-0.3679096024],[1288224000000,-0.3690572134],[1288310400000,-0.3723459174],[1288569600000,-0.3550723292],[1288656000000,-0.3569051642],[1288742400000,-0.3648511634],[1288828800000,-0.3536795974],[1288915200000,-0.3461959852],[1289174400000,-0.3410391636],[1289260800000,-0.3456110379],[1289347200000,-0.3502237656],[1289433600000,-0.348205233],[1289520000000,-0.3887151585],[1289779200000,-0.3844329725],[1289865600000,-0.4114241147],[1289952000000,-0.4236114464],[1290038400000,-0.4154314683],[1290124800000,-0.4096952703],[1290384000000,-0.4109784405],[1290470400000,-0.4230042153],[1290556800000,-0.4100313829],[1290643200000,-0.4014075876],[1290729600000,-0.4067241091],[1290988800000,-0.4076154575],[1291075200000,-0.4174685707],[1291161600000,-0.4176486973],[1291248000000,-0.4141130155],[1291334400000,-0.4135373531],[1291593600000,-0.4121613341],[1291680000000,-0.4057046294],[1291766400000,-0.4109895824],[1291852800000,-0.4199977716],[1291939200000,-0.4128279883],[1292198400000,-0.3944290728],[1292284800000,-0.3928673562],[1292371200000,-0.3969211342],[1292457600000,-0.4000724221],[1292544000000,-0.4010027669],[1292803200000,-0.4097305528],[1292889600000,-0.3965738798],[1292976000000,-0.4028987391],[1293062400000,-0.407882862],[1293148800000,-0.4126460047],[1293408000000,-0.4243913762],[1293494400000,-0.4345638892],[1293580800000,-0.4314256003],[1293667200000,-0.4310040668],[1293753600000,-0.4190897105],[1294099200000,-0.4076841656],[1294185600000,-0.4102876455],[1294272000000,-0.4132625207],[1294358400000,-0.4119663516],[1294617600000,-0.4228166608],[1294704000000,-0.4197099404],[1294790400000,-0.4164750887],[1294876800000,-0.4166719281],[1294963200000,-0.4258491022],[1295222400000,-0.4476704239],[1295308800000,-0.447057622],[1295395200000,-0.4345787451],[1295481600000,-0.4531745],[1295568000000,-0.4459787191],[1295827200000,-0.4514066591],[1295913600000,-0.4542998273],[1296000000000,-0.4469127778],[1296086400000,-0.4379918664],[1296172800000,-0.4360847524],[1296432000000,-0.4286995599],[1296518400000,-0.4285565728],[1297209600000,-0.4353029656],[1297296000000,-0.423565022],[1297382400000,-0.4204453028],[1297641600000,-0.4022135151],[1297728000000,-0.4024864905],[1297814400000,-0.3967558634],[1297900800000,-0.397242391],[1297987200000,-0.4035616794],[1298246400000,-0.3950140202],[1298332800000,-0.4125308722],[1298419200000,-0.4104584873],[1298505600000,-0.4074501866],[1298592000000,-0.4062097268],[1298851200000,-0.3984215706],[1298937600000,-0.3955748268],[1299024000000,-0.3977270617],[1299110400000,-0.4017344153],[1299196800000,-0.3926445191],[1299456000000,-0.3807895861],[1299542400000,-0.3802417782],[1299628800000,-0.3799818016],[1299715200000,-0.3908636794],[1299801600000,-0.3969694156],[1300060800000,-0.3940836753],[1300147200000,-0.4050324042],[1300233600000,-0.3968171436],[1300320000000,-0.4063062896],[1300406400000,-0.4028541717],[1300665600000,-0.4044474569],[1300752000000,-0.4015041503],[1300838400000,-0.3937104232],[1300924800000,-0.3962303393],[1301011200000,-0.3882230599],[1301270400000,-0.3889491374],[1301356800000,-0.3950010213],[1301443200000,-0.3953538467],[1301529600000,-0.4014428701],[1301616000000,-0.3922619821],[1302048000000,-0.3851423372],[1302134400000,-0.3826632746],[1302220800000,-0.3772891868],[1302480000000,-0.3809901395],[1302566400000,-0.3822268853],[1302652800000,-0.3738222131],[1302739200000,-0.3772520473],[1302825600000,-0.3762529944],[1303084800000,-0.3761601456],[1303171200000,-0.3879760822],[1303257600000,-0.387985367],[1303344000000,-0.3839724425],[1303430400000,-0.3872091512],[1303689600000,-0.3965627379],[1303776000000,-0.4000185698],[1303862400000,-0.4040036397],[1303948800000,-0.4128651279],[1304035200000,-0.4071196449],[1304380800000,-0.4037009526],[1304467200000,-0.4189467234],[1304553600000,-0.4194871033],[1304640000000,-0.4203635958],[1304899200000,-0.4188111641],[1304985600000,-0.4144546991],[1305072000000,-0.4159662773],[1305158400000,-0.4240404078],[1305244800000,-0.4191212791],[1305504000000,-0.424252103],[1305590400000,-0.4213607918],[1305676800000,-0.4170247535],[1305763200000,-0.420504726],[1305849600000,-0.4203264563],[1306108800000,-0.438639951],[1306195200000,-0.4380382908],[1306281600000,-0.4447011198],[1306368000000,-0.4469220627],[1306454400000,-0.4497205252],[1306713600000,-0.4513546638],[1306800000000,-0.442617593],[1306886400000,-0.4421329223],[1306972800000,-0.4511318267],[1307059200000,-0.4454420531],[1307404800000,-0.4421162095],[1307491200000,-0.4413009972],[1307577600000,-0.4518411914],[1307664000000,-0.4499767878],[1307923200000,-0.4521271657],[1308009600000,-0.4441031736],[1308096000000,-0.4497558077],[1308182400000,-0.4582124752],[1308268800000,-0.4629329075],[1308528000000,-0.4661380476],[1308614400000,-0.4597927615],[1308700800000,-0.4598837533],[1308787200000,-0.4507752874],[1308873600000,-0.4378061689],[1309132800000,-0.4361311768],[1309219200000,-0.4351581215],[1309305600000,-0.4428757126],[1309392000000,-0.4347198752],[1309478400000,-0.4336688269],[1309737600000,-0.4202558913],[1309824000000,-0.4201593285],[1309910400000,-0.4217916102],[1309996800000,-0.424025552],[1310083200000,-0.4226328202],[1310342400000,-0.421884459],[1310428800000,-0.4323392323],[1310515200000,-0.4231769141],[1310601600000,-0.4214127871],[1310688000000,-0.418972721],[1310947200000,-0.4201407588],[1311033600000,-0.4252437281],[1311120000000,-0.4259029544],[1311206400000,-0.4319251267],[1311292800000,-0.4302817032],[1311552000000,-0.4487957512],[1311638400000,-0.4470353382],[1311724800000,-0.4428979963],[1311811200000,-0.4464355351],[1311897600000,-0.4480919574],[1312156800000,-0.4470446231],[1312243200000,-0.4510074093],[1312329600000,-0.4512878127],[1312416000000,-0.4502776179],[1312502400000,-0.4619561382],[1312761600000,-0.481179551],[1312848000000,-0.4803829084],[1312934400000,-0.4755677703],[1313020800000,-0.4676199142],[1313107200000,-0.4660526267],[1313366400000,-0.4581567659],[1313452800000,-0.4619264266],[1313539200000,-0.4640749475],[1313625600000,-0.4736866539],[1313712000000,-0.4786243524],[1313971200000,-0.4841711389],[1314057600000,-0.4761471468],[1314144000000,-0.4781861061],[1314230400000,-0.4607639598],[1314316800000,-0.4612504875],[1314576000000,-0.470240107],[1314662400000,-0.4722957791],[1314748800000,-0.4713598633],[1314835200000,-0.4736346586],[1314921600000,-0.4793318601],[1315180800000,-0.4904792854],[1315267200000,-0.4942897996],[1315353600000,-0.483929732],[1315440000000,-0.4881989192],[1315526400000,-0.4891292641],[1315872000000,-0.4948506063],[1315958400000,-0.4924681064],[1316044800000,-0.4932220386],[1316131200000,-0.4923046926],[1316390400000,-0.5024660638],[1316476800000,-0.5005032404],[1316563200000,-0.4854301684],[1316649600000,-0.5012738854],[1316736000000,-0.504284043],[1316995200000,-0.5151584929],[1317081600000,-0.5101520863],[1317168000000,-0.5152197731],[1317254400000,-0.5193793987],[1317340800000,-0.5206495701],[1318204800000,-0.5251564502],[1318291200000,-0.5261016509],[1318377600000,-0.508874487],[1318464000000,-0.5055616423],[1318550400000,-0.5071994949],[1318809600000,-0.5047538579],[1318896000000,-0.5186328945],[1318982400000,-0.5203283133],[1319068800000,-0.5319436965],[1319155200000,-0.5342927708],[1319414400000,-0.5215186348],[1319500800000,-0.5124640211],[1319587200000,-0.5075950307],[1319673600000,-0.5065124139],[1319760000000,-0.496941561],[1320019200000,-0.4994874747],[1320105600000,-0.4990752261],[1320192000000,-0.490744833],[1320278400000,-0.4903901506],[1320364800000,-0.4867783328],[1320624000000,-0.4918850161],[1320710400000,-0.4934708733],[1320796800000,-0.4890252734],[1320883200000,-0.4986926891],[1320969600000,-0.4995450409],[1321228800000,-0.4892945349],[1321315200000,-0.4903195855],[1321401600000,-0.5041651966],[1321488000000,-0.5056693469],[1321574400000,-0.5159792762],[1321833600000,-0.5153869009],[1321920000000,-0.5154258974],[1322006400000,-0.5201556146],[1322092800000,-0.5192438395],[1322179200000,-0.5227628085],[1322438400000,-0.5221407216],[1322524800000,-0.5155948822],[1322611200000,-0.5317598559],[1322697600000,-0.5202298936],[1322784000000,-0.5251601642],[1323043200000,-0.5318638465],[1323129600000,-0.5327217693],[1323216000000,-0.5305138252],[1323302400000,-0.5311136283],[1323388800000,-0.5351135541],[1323648000000,-0.5398989805],[1323734400000,-0.5464336781],[1323820800000,-0.5540342798],[1323907200000,-0.5629607621],[1323993600000,-0.55615866],[1324252800000,-0.5572208501],[1324339200000,-0.5585838703],[1324425600000,-0.5656329502],[1324512000000,-0.5652207016],[1324598400000,-0.5619097138],[1324857600000,-0.5662661789],[1324944000000,-0.5719615235],[1325030400000,-0.5714230005],[1325116800000,-0.5707860578],[1325203200000,-0.5644017753],[1325635200000,-0.5731277042],[1325721600000,-0.577279902],[1325808000000,-0.5746411394],[1326067200000,-0.5601622997],[1326153600000,-0.5455330449],[1326240000000,-0.5477131344],[1326326400000,-0.5477855564],[1326412800000,-0.5553787302],[1326672000000,-0.5644184881],[1326758400000,-0.543072552],[1326844800000,-0.5502051958],[1326931200000,-0.5416333959],[1327017600000,-0.5349965646],[1327881600000,-0.5430502683],[1327968000000,-0.5423928989],[1328054400000,-0.5489424523],[1328140800000,-0.5383112663],[1328227200000,-0.5346251694],[1328486400000,-0.5349538542],[1328572800000,-0.5435646506],[1328659200000,-0.5305119682],[1328745600000,-0.5303281276],[1328832000000,-0.5295129153],[1329091200000,-0.5298174593],[1329177600000,-0.5316502943],[1329264000000,-0.5265436111],[1329350400000,-0.5290579562],[1329436800000,-0.5288685447],[1329696000000,-0.5281963195],[1329782400000,-0.5241592542],[1329868800000,-0.5176542683],[1329955200000,-0.5160238436],[1330041600000,-0.5082691129],[1330300800000,-0.5066813987],[1330387200000,-0.50558764],[1330473600000,-0.5108465952],[1330560000000,-0.5109951533],[1330646400000,-0.5023435034],[1330905600000,-0.5055430726],[1330992000000,-0.5132773765],[1331078400000,-0.5166292177],[1331164800000,-0.5105401942],[1331251200000,-0.5052459564],[1331510400000,-0.5070843624],[1331596800000,-0.5021318081],[1331683200000,-0.5162373958],[1331769600000,-0.5198696403],[1331856000000,-0.5128187035],[1332115200000,-0.5116135262],[1332201600000,-0.5200739076],[1332288000000,-0.5194536777],[1332374400000,-0.5202038959],[1332460800000,-0.5259252382],[1332720000000,-0.5254609942],[1332806400000,-0.5270022841],[1332892800000,-0.5404170767],[1332979200000,-0.5463185456],[1333065600000,-0.5441310282],[1333584000000,-0.5333735678],[1333670400000,-0.5320736848],[1333929600000,-0.5366567009],[1334016000000,-0.5320811127],[1334102400000,-0.5320346883],[1334188800000,-0.5226755306],[1334275200000,-0.5208166979],[1334534400000,-0.5220070194],[1334620800000,-0.5279790533],[1334707200000,-0.5172030232],[1334793600000,-0.5179179588],[1334880000000,-0.5122021875],[1335139200000,-0.516064697],[1335225600000,-0.5162819632],[1335312000000,-0.5123600305],[1335398400000,-0.5113386938],[1335484800000,-0.5123284619],[1335916800000,-0.50168242],[1336003200000,-0.5001912685],[1336089600000,-0.4956676756],[1336348800000,-0.4953148502],[1336435200000,-0.4969229912],[1336521600000,-0.506506843],[1336608000000,-0.5065625522],[1336694400000,-0.510330356],[1336953600000,-0.5143024271],[1337040000000,-0.5139607435],[1337126400000,-0.5218937438],[1337212800000,-0.5145976862],[1337299200000,-0.5220181612],[1337558400000,-0.5195576684],[1337644800000,-0.5120759132],[1337731200000,-0.5140535923],[1337817600000,-0.5180665169],[1337904000000,-0.5221815751],[1338163200000,-0.514458413],[1338249600000,-0.5077435888],[1338336000000,-0.5093387309],[1338422400000,-0.5112365601],[1338508800000,-0.5110582905],[1338768000000,-0.5247943399],[1338854400000,-0.5248296225],[1338940800000,-0.525097027],[1339027200000,-0.527923344],[1339113600000,-0.5312380457],[1339372800000,-0.5249373271],[1339459200000,-0.5282947392],[1339545600000,-0.5207814154],[1339632000000,-0.5245362203],[1339718400000,-0.5231193478],[1339977600000,-0.5206755678],[1340064000000,-0.5248704759],[1340150400000,-0.5259865184],[1340236800000,-0.5334924143],[1340582400000,-0.5438301981],[1340668800000,-0.5441273143],[1340755200000,-0.5455608995],[1340841600000,-0.5495478264],[1340928000000,-0.5428849975],[1341187200000,-0.5422109153],[1341273600000,-0.5415646877],[1341360000000,-0.5422703385],[1341446400000,-0.5486861897],[1341532800000,-0.5408423242],[1341792000000,-0.5513472359],[1341878400000,-0.5530797942],[1341964800000,-0.549577538],[1342051200000,-0.5451932183],[1342137600000,-0.5449239568],[1342396800000,-0.5543759633],[1342483200000,-0.5516889194],[1342569600000,-0.5516647787],[1342656000000,-0.54980966],[1342742400000,-0.5546117992],[1343001600000,-0.5607453901],[1343088000000,-0.5587844237],[1343174400000,-0.5617388721],[1343260800000,-0.5640768045],[1343347200000,-0.5637759744],[1343606400000,-0.5662494661],[1343692800000,-0.5667824182],[1343779200000,-0.5620044196],[1343865600000,-0.5664184509],[1343952000000,-0.5629161947],[1344211200000,-0.556998013],[1344297600000,-0.5563926389],[1344384000000,-0.5562217972],[1344470400000,-0.5521531634],[1344556800000,-0.5543722494],[1344816000000,-0.5632523073],[1344902400000,-0.5623071066],[1344988800000,-0.567025682],[1345075200000,-0.569242911],[1345161600000,-0.570392379],[1345420800000,-0.5725631836],[1345507200000,-0.5703515255],[1345593600000,-0.5737145086],[1345680000000,-0.5724870476],[1345766400000,-0.5774117472],[1346025600000,-0.586228668],[1346112000000,-0.5843326958],[1346198400000,-0.5887151585],[1346284800000,-0.5893539581],[1346371200000,-0.5905609924],[1346630400000,-0.5861970994],[1346716800000,-0.5906464133],[1346803200000,-0.5914876233],[1346889600000,-0.5881562088],[1346976000000,-0.569705298],[1347235200000,-0.567943028],[1347321600000,-0.5706876381],[1347408000000,-0.569168632],[1347494400000,-0.5731815565],[1347580800000,-0.570009842],[1347840000000,-0.580563035],[1347926400000,-0.5849213571],[1348012800000,-0.5828786838],[1348099200000,-0.5922174147],[1348185600000,-0.5916398953],[1348444800000,-0.5885833132],[1348531200000,-0.5895805092],[1348617600000,-0.5942712299],[1348704000000,-0.5818610611],[1348790400000,-0.5741750385],[1349654400000,-0.5784572246],[1349740800000,-0.5691519192],[1349827200000,-0.5684165568],[1349913600000,-0.5724257674],[1350000000000,-0.5720543722],[1350259200000,-0.5738500678],[1350345600000,-0.5732372658],[1350432000000,-0.5727470242],[1350518400000,-0.5661956138],[1350604800000,-0.5668659821],[1350864000000,-0.5651724202],[1350950400000,-0.5706523556],[1351036800000,-0.5714508551],[1351123200000,-0.574522293],[1351209600000,-0.5825685688],[1351468800000,-0.5848080816],[1351555200000,-0.5840597203],[1351641600000,-0.5812853986],[1351728000000,-0.5732892611],[1351814400000,-0.5716384097],[1352073600000,-0.5725464708],[1352160000000,-0.5743421663],[1352246400000,-0.5752168019],[1352332800000,-0.5830328128],[1352419200000,-0.5838665949],[1352678400000,-0.5818369204],[1352764800000,-0.5891552617],[1352851200000,-0.5871738686],[1352937600000,-0.5926500901],[1353024000000,-0.5956918163],[1353283200000,-0.5961096358],[1353369600000,-0.5979870383],[1353456000000,-0.5924123972],[1353542400000,-0.5956342501],[1353628800000,-0.5928246458],[1353888000000,-0.5959963603],[1353974400000,-0.6006313717],[1354060800000,-0.6046201556],[1354147200000,-0.6071233589],[1354233600000,-0.6026703311],[1354492800000,-0.6083916733],[1354579200000,-0.6041911942],[1354665600000,-0.5900020427],[1354752000000,-0.5907968283],[1354838400000,-0.582782121],[1355097600000,-0.578271527],[1355184000000,-0.5806020315],[1355270400000,-0.578880615],[1355356800000,-0.583547195],[1355443200000,-0.5625225158],[1355702400000,-0.5605095541],[1355788800000,-0.5602458636],[1355875200000,-0.5596906278],[1355961600000,-0.5571447141],[1356048000000,-0.559525357],[1356307200000,-0.5578132254],[1356393600000,-0.5453380624],[1356480000000,-0.5436259308],[1356566400000,-0.5460455702],[1356652800000,-0.5394607342],[1356912000000,-0.5314943084],[1357257600000,-0.5312231899],[1357516800000,-0.529072812],[1357603200000,-0.5310523481],[1357689600000,-0.5309037901],[1357776000000,-0.5300792929],[1357862400000,-0.538870216],[1358121600000,-0.5213217953],[1358208000000,-0.5179550983],[1358294400000,-0.5214406418],[1358380800000,-0.5259586637],[1358467200000,-0.5180330913],[1358726400000,-0.5151622068],[1358812800000,-0.5177619729],[1358899200000,-0.5158010065],[1358985600000,-0.5203895935],[1359072000000,-0.5224471226],[1359331200000,-0.5075560342],[1359417600000,-0.5030974355],[1359504000000,-0.5007130787],[1359590400000,-0.5010529052],[1359676800000,-0.4905721342],[1359936000000,-0.4896974987],[1360022400000,-0.4853057511],[1360108800000,-0.4845332492],[1360195200000,-0.4874988394],[1360281600000,-0.4852964662],[1361145600000,-0.491658465],[1361232000000,-0.5012887412],[1361318400000,-0.4981263115],[1361404800000,-0.515227201],[1361491200000,-0.5178176821],[1361750400000,-0.5162652504],[1361836800000,-0.5232047687],[1361923200000,-0.5181742215],[1362009600000,-0.5035691074],[1362096000000,-0.5044028895],[1362355200000,-0.5272659746],[1362441600000,-0.5129505487],[1362528000000,-0.5078642922],[1362614400000,-0.5135689217],[1362700800000,-0.5158994262],[1362960000000,-0.5186031829],[1363046400000,-0.5254294256],[1363132800000,-0.5306512414],[1363219200000,-0.5293922118],[1363305600000,-0.5283523054],[1363564800000,-0.5352936807],[1363651200000,-0.5310950586],[1363737600000,-0.5152977661],[1363824000000,-0.5144027038],[1363910400000,-0.5137861878],[1364169600000,-0.5147536722],[1364256000000,-0.5218194648],[1364342400000,-0.5202447494],[1364428800000,-0.535886056],[1364515200000,-0.5366696997],[1364774400000,-0.5370206681],[1364860800000,-0.5382834116],[1364947200000,-0.5388107927],[1365379200000,-0.5408998904],[1365465600000,-0.537718891],[1365552000000,-0.538483965],[1365638400000,-0.539863698],[1365724800000,-0.5427921487],[1365984000000,-0.5474884403],[1366070400000,-0.5432601066],[1366156800000,-0.5434680879],[1366243200000,-0.5422833374],[1366329600000,-0.5294739188],[1366588800000,-0.5300607231],[1366675200000,-0.545139366],[1366761600000,-0.5365768509],[1366848000000,-0.5417206737],[1366934400000,-0.5455404728],[1367452800000,-0.5451077974],[1367539200000,-0.5370726635],[1367798400000,-0.5309316447],[1367884800000,-0.5301962823],[1367971200000,-0.5278082115],[1368057600000,-0.5305955321],[1368144000000,-0.5281721788],[1368403200000,-0.5300421533],[1368489600000,-0.5369928135],[1368576000000,-0.5344691835],[1368662400000,-0.5259679486],[1368748800000,-0.5186626061],[1369008000000,-0.5154017567],[1369094400000,-0.5144287014],[1369180800000,-0.5138381831],[1369267200000,-0.5203710238],[1369353600000,-0.5177006927],[1369612800000,-0.5172624464],[1369699200000,-0.508948766],[1369785600000,-0.5092830217],[1369872000000,-0.5108131697],[1369958400000,-0.515992275],[1370217600000,-0.5166997827],[1370304000000,-0.5235613081],[1370390400000,-0.5245139366],[1370476800000,-0.5305862472],[1370563200000,-0.5386975172],[1371081600000,-0.5543369668],[1371168000000,-0.5512116767],[1371427200000,-0.5536127463],[1371513600000,-0.5508439955],[1371600000000,-0.5541846948],[1371686400000,-0.5689086554],[1371772800000,-0.5696663015],[1372032000000,-0.5968115727],[1372118400000,-0.5978867616],[1372204800000,-0.5973519526],[1372291200000,-0.5987558263],[1372377600000,-0.5913464931],[1372636800000,-0.5889918479],[1372723200000,-0.5873837069],[1372809600000,-0.5907541178],[1372896000000,-0.5873837069],[1372982400000,-0.5864793597],[1373241600000,-0.5982210173],[1373328000000,-0.5983974299],[1373414400000,-0.5869974559],[1373500800000,-0.567939314],[1373587200000,-0.5774693135],[1373846400000,-0.57153999],[1373932800000,-0.5695808806],[1374019200000,-0.5760821526],[1374105600000,-0.5830476686],[1374192000000,-0.5932331804],[1374451200000,-0.5910586619],[1374537600000,-0.5792390113],[1374624000000,-0.5823383038],[1374710400000,-0.584468255],[1374796800000,-0.5870067408],[1375056000000,-0.5959276522],[1375142400000,-0.5934355908],[1375228800000,-0.5927615086],[1375315200000,-0.5830420976],[1375401600000,-0.5826892723],[1375660800000,-0.5769196487],[1375747200000,-0.5740766188],[1375833600000,-0.5764944012],[1375920000000,-0.5772074799],[1376006400000,-0.5754934913],[1376265600000,-0.5630926074],[1376352000000,-0.5619264266],[1376438400000,-0.5637815454],[1376524800000,-0.5688882286],[1376611200000,-0.5721267943],[1376870400000,-0.5670591075],[1376956800000,-0.5705799335],[1377043200000,-0.5713004401],[1377129600000,-0.5721657908],[1377216000000,-0.5753226495],[1377475200000,-0.5662810347],[1377561600000,-0.5653042655],[1377648000000,-0.5676849084],[1377734400000,-0.5694954597],[1377820800000,-0.570312529],[1378080000000,-0.5691184936],[1378166400000,-0.5627750645],[1378252800000,-0.5634807153],[1378339200000,-0.5651445656],[1378425600000,-0.5621659765],[1378684800000,-0.5467846465],[1378771200000,-0.5404189337],[1378857600000,-0.5389333531],[1378944000000,-0.5343707638],[1379030400000,-0.5378173107],[1379289600000,-0.5397689922],[1379376000000,-0.5492525673],[1379462400000,-0.5482887969],[1379894400000,-0.5409017474],[1379980800000,-0.5461755585],[1380067200000,-0.5489350244],[1380153600000,-0.5572152792],[1380240000000,-0.5552598838],[1380499200000,-0.5526471189],[1381190400000,-0.5465618094],[1381276800000,-0.544376149],[1381363200000,-0.5488811721],[1381449600000,-0.5416036842],[1381708800000,-0.540855323],[1381795200000,-0.5417875248],[1381881600000,-0.5503574678],[1381968000000,-0.5518504763],[1382054400000,-0.5494884032],[1382313600000,-0.5410818741],[1382400000000,-0.5458041633],[1382486400000,-0.5508922768],[1382572800000,-0.5542311192],[1382659200000,-0.5601641567],[1382918400000,-0.5606488273],[1383004800000,-0.5595160721],[1383091200000,-0.5529386641],[1383177600000,-0.5592059572],[1383264000000,-0.5571187165],[1383523200000,-0.5579562125],[1383609600000,-0.5573396966],[1383696000000,-0.5629477633],[1383782400000,-0.5653655457],[1383868800000,-0.5714192865],[1384128000000,-0.5699448478],[1384214400000,-0.5654676793],[1384300800000,-0.5751016694],[1384387200000,-0.5720599432],[1384473600000,-0.5634751444],[1384732800000,-0.5489591651],[1384819200000,-0.5520677425],[1384905600000,-0.5497112403],[1384992000000,-0.5524707062],[1385078400000,-0.554704648],[1385337600000,-0.5564372064],[1385424000000,-0.5566619004],[1385510400000,-0.5516369241],[1385596800000,-0.5469851999],[1385683200000,-0.5470947615],[1385942400000,-0.5508365676],[1386028800000,-0.5463816828],[1386115200000,-0.5403725093],[1386201600000,-0.5416612505],[1386288000000,-0.5446156989],[1386547200000,-0.5448793894],[1386633600000,-0.5444244304],[1386720000000,-0.5519563239],[1386806400000,-0.5524669923],[1386892800000,-0.5530927931],[1387152000000,-0.5602830031],[1387238400000,-0.5624259531],[1387324800000,-0.5622681102],[1387411200000,-0.5668771239],[1387497600000,-0.5769549312],[1387756800000,-0.5757553249],[1387843200000,-0.5750775287],[1387929600000,-0.5719466677],[1388016000000,-0.5793337171],[1388102400000,-0.5722493547],[1388361600000,-0.5729958589],[1388448000000,-0.5673190841],[1388620800000,-0.5688139496],[1388707200000,-0.5746077139],[1388966400000,-0.5842899853],[1389052800000,-0.5844088318],[1389139200000,-0.5836827543],[1389225600000,-0.5873391395],[1389312000000,-0.5905647063],[1389571200000,-0.5926389482],[1389657600000,-0.5890791257],[1389744000000,-0.5898052032],[1389830400000,-0.5892666803],[1389916800000,-0.5954596943],[1390176000000,-0.597780914],[1390262400000,-0.593803272],[1390348800000,-0.5833317859],[1390435200000,-0.5855434439],[1390521600000,-0.5829826744],[1390780800000,-0.5885090342],[1390867200000,-0.5877792427],[1390953600000,-0.586306661],[1391040000000,-0.5910103805],[1391731200000,-0.5891478338],[1391990400000,-0.5789251824],[1392076800000,-0.5755770552],[1392163200000,-0.574520436],[1392249600000,-0.5766930976],[1392336000000,-0.5737182225],[1392595200000,-0.5707322055],[1392681600000,-0.5761564316],[1392768000000,-0.5712874413],[1392854400000,-0.5752279438],[1392940800000,-0.5795268426],[1393200000000,-0.5887708678],[1393286400000,-0.5992813504],[1393372800000,-0.5982600137],[1393459200000,-0.5999870012],[1393545600000,-0.5953705595],[1393804800000,-0.5932536072],[1393891200000,-0.5943863624],[1393977600000,-0.5981541661],[1394064000000,-0.5963621845],[1394150400000,-0.5973408108],[1394409600000,-0.6104454885],[1394496000000,-0.6084269559],[1394582400000,-0.6074111901],[1394668800000,-0.6025459137],[1394755200000,-0.6057937643],[1395014400000,-0.6020426733],[1395100800000,-0.6029544484],[1395187200000,-0.6061595885],[1395273600000,-0.6124547362],[1395360000000,-0.5991160796],[1395619200000,-0.5958199476],[1395705600000,-0.5962117695],[1395792000000,-0.5968412843],[1395878400000,-0.5996898851],[1395964800000,-0.600384394],[1396224000000,-0.6014372992],[1396310400000,-0.598315723],[1396396800000,-0.5950437318],[1396483200000,-0.5979628976],[1396569600000,-0.5941635253],[1396915200000,-0.5845351061],[1397001600000,-0.5842936993],[1397088000000,-0.5777682866],[1397174400000,-0.5783420921],[1397433600000,-0.5787246291],[1397520000000,-0.585994689],[1397606400000,-0.5854245975],[1397692800000,-0.5868600397],[1397779200000,-0.586919463],[1398038400000,-0.5938329836],[1398124800000,-0.5920614288],[1398211200000,-0.5925888099],[1398297600000,-0.5932350374],[1398384000000,-0.5974392305],[1398643200000,-0.6035412527],[1398729600000,-0.5991773598],[1398816000000,-0.5991420772],[1399248000000,-0.5995487549],[1399334400000,-0.599389055],[1399420800000,-0.6031048634],[1399507200000,-0.603442833],[1399593600000,-0.6037380921],[1399852800000,-0.5951700061],[1399939200000,-0.5961356335],[1400025600000,-0.5965961635],[1400112000000,-0.6018495478],[1400198400000,-0.6015022934],[1400457600000,-0.6072236356],[1400544000000,-0.6071066461],[1400630400000,-0.603366697],[1400716800000,-0.6043026128],[1400803200000,-0.6010454773],[1401062400000,-0.5996397467],[1401148800000,-0.6012553156],[1401235200000,-0.5971569702],[1401321600000,-0.5997920187],[1401408000000,-0.5995506119],[1401753600000,-0.600765074],[1401840000000,-0.6047854265],[1401926400000,-0.6006387997],[1402012800000,-0.6035876771],[1402272000000,-0.603669384],[1402358400000,-0.5986574065],[1402444800000,-0.5987502553],[1402531200000,-0.6001169895],[1402617600000,-0.5958775139],[1402876800000,-0.5929787748],[1402963200000,-0.5970975469],[1403049600000,-0.598848675],[1403136000000,-0.6050379752],[1403222400000,-0.603214425],[1403481600000,-0.6037009526],[1403568000000,-0.6017121316],[1403654400000,-0.6038383688],[1403740800000,-0.60092106],[1403827200000,-0.6007019368],[1404086400000,-0.5979424709],[1404172800000,-0.5980464615],[1404259200000,-0.5968747098],[1404345600000,-0.5951440085],[1404432000000,-0.5954206979],[1404691200000,-0.595868229],[1404777600000,-0.5950920131],[1404864000000,-0.6009897681],[1404950400000,-0.6020779558],[1405036800000,-0.6011197564],[1405296000000,-0.596709439],[1405382400000,-0.5961114928],[1405468800000,-0.5968747098],[1405555200000,-0.5994373364],[1405641600000,-0.5981244545],[1405900800000,-0.5977252047],[1405987200000,-0.5928209318],[1406073600000,-0.5918683033],[1406160000000,-0.5845926724],[1406246400000,-0.5802399213],[1406505600000,-0.5684574103],[1406592000000,-0.5670702494],[1406678400000,-0.5688083787],[1406764800000,-0.5635642792],[1406851200000,-0.5674360736],[1407110400000,-0.5588531318],[1407196800000,-0.5600174556],[1407283200000,-0.5611557817],[1407369600000,-0.5677963269],[1407456000000,-0.5671148168],[1407715200000,-0.5607602459],[1407801600000,-0.5623015357],[1407888000000,-0.5619579952],[1407974400000,-0.5662197545],[1408060800000,-0.5616348814],[1408320000000,-0.5590499712],[1408406400000,-0.5590109747],[1408492800000,-0.5606135448],[1408579200000,-0.5628233459],[1408665600000,-0.5607583889],[1408924800000,-0.5649365843],[1409011200000,-0.5684221277],[1409097600000,-0.5677721862],[1409184000000,-0.5708009136],[1409270400000,-0.5657852222],[1409529600000,-0.5626227925],[1409616000000,-0.5568401701],[1409702400000,-0.5526842584],[1409788800000,-0.5494568346],[1409875200000,-0.5451783625],[1410220800000,-0.5459285807],[1410307200000,-0.5483036527],[1410393600000,-0.5499712169],[1410480000000,-0.5472024661],[1410739200000,-0.5474197322],[1410825600000,-0.5564130657],[1410912000000,-0.5540788472],[1410998400000,-0.552717684],[1411084800000,-0.5496443891],[1411344000000,-0.5582403298],[1411430400000,-0.5544261017],[1411516800000,-0.5465525246],[1411603200000,-0.5474605857],[1411689600000,-0.5474178752],[1411948800000,-0.545449481],[1412035200000,-0.5448571057],[1412726400000,-0.5397708492],[1412812800000,-0.5391060519],[1412899200000,-0.5419230841],[1413158400000,-0.5441217433],[1413244800000,-0.545679746],[1413331200000,-0.542465321],[1413417600000,-0.5460808527],[1413504000000,-0.5465766652],[1413763200000,-0.5441663107],[1413849600000,-0.548125383],[1413936000000,-0.5508644222],[1414022400000,-0.5550797571],[1414108800000,-0.5560509554],[1414368000000,-0.5601140183],[1414454400000,-0.5512339604],[1414540800000,-0.5447846837],[1414627200000,-0.5415256913],[1414713600000,-0.5342110639],[1414972800000,-0.5334255631],[1415059200000,-0.5333104306],[1415145600000,-0.535115411],[1415232000000,-0.5346288834],[1415318400000,-0.5353568179],[1415577600000,-0.5235501662],[1415664000000,-0.5248723329],[1415750400000,-0.5182410726],[1415836800000,-0.5209466862],[1415923200000,-0.5206978515],[1416182400000,-0.5232957605],[1416268800000,-0.5280644742],[1416355200000,-0.528844404],[1416441600000,-0.5288666877],[1416528000000,-0.5202577482],[1416787200000,-0.5080388479],[1416873600000,-0.501298026],[1416960000000,-0.494341795],[1417046400000,-0.4884978923],[1417132800000,-0.4784089432],[1417392000000,-0.4763681269],[1417478400000,-0.4570314386],[1417564800000,-0.4489331674],[1417651200000,-0.4235297395],[1417737600000,-0.4197155113],[1417996800000,-0.395948079],[1418083200000,-0.4230543537],[1418169600000,-0.4017659839],[1418256000000,-0.4089227684],[1418342400000,-0.4070249392],[1418601600000,-0.4025681974],[1418688000000,-0.3865666376],[1418774400000,-0.3759447364],[1418860800000,-0.3786689198],[1418947200000,-0.3717535422],[1419206400000,-0.3696533026],[1419292800000,-0.3825704258],[1419379200000,-0.4001244174],[1419465600000,-0.3806206013],[1419552000000,-0.3601158753],[1419811200000,-0.3583294646],[1419897600000,-0.3579413567],[1419984000000,-0.3437986296],[1420416000000,-0.3237748603],[1420502400000,-0.3238639951],[1420588800000,-0.3233570407],[1420675200000,-0.3390540566],[1420761600000,-0.3413827041],[1421020800000,-0.3475367217],[1421107200000,-0.3474513008],[1421193600000,-0.3496091066],[1421280000000,-0.3307236634],[1421366400000,-0.3249614678],[1421625600000,-0.3769549312],[1421712000000,-0.3693301889],[1421798400000,-0.3409797404],[1421884800000,-0.3375034818],[1421971200000,-0.3367384078],[1422230400000,-0.3300050138],[1422316800000,-0.3361441756],[1422403200000,-0.3453566322],[1422489600000,-0.3534381906],[1422576000000,-0.3622421125],[1422835200000,-0.3771777683],[1422921600000,-0.3616738779],[1423008000000,-0.3682995673],[1423094400000,-0.3747655568],[1423180800000,-0.3848916455],[1423440000000,-0.3786707768],[1423526400000,-0.3673395109],[1423612800000,-0.3622922508],[1423699200000,-0.3606673971],[1423785600000,-0.3556609905],[1424044800000,-0.3501550575],[1424131200000,-0.3459137249],[1424822400000,-0.3540082821],[1424908800000,-0.3377486026],[1424995200000,-0.3365322835],[1425254400000,-0.3312547585],[1425340800000,-0.3485914839],[1425427200000,-0.3443352955],[1425513600000,-0.3507381479],[1425600000000,-0.3540472786],[1425859200000,-0.3430484114],[1425945600000,-0.3462312678],[1426032000000,-0.3454810496],[1426118400000,-0.3328183321],[1426204800000,-0.3282093183],[1426464000000,-0.3118660749],[1426550400000,-0.3023119348],[1426636800000,-0.2857978496],[1426723200000,-0.2869696013],[1426809600000,-0.2771591985],[1427068800000,-0.2623980985],[1427155200000,-0.2622142579],[1427241600000,-0.2682754266],[1427328000000,-0.2664945869],[1427414400000,-0.2624655067],[1427673600000,-0.2408348963],[1427760000000,-0.2477019925],[1427846400000,-0.234201779],[1427932800000,-0.2340383651],[1428019200000,-0.2255408442],[1428364800000,-0.2089209114],[1428451200000,-0.2022803662],[1428537600000,-0.2085309465],[1428624000000,-0.1932517502],[1428883200000,-0.1790180312],[1428969600000,-0.1758407458],[1429056000000,-0.1865499248],[1429142400000,-0.1618447197],[1429228800000,-0.1465079571],[1429488000000,-0.160290431],[1429574400000,-0.142233199],[1429660800000,-0.1198287868],[1429747200000,-0.1196282335],[1429833600000,-0.1267311656],[1430092800000,-0.1072422053],[1430179200000,-0.1194481068],[1430265600000,-0.1134185066],[1430352000000,-0.1179569553],[1430697600000,-0.1109283022],[1430784000000,-0.1463779688],[1430870400000,-0.1544576702],[1430956800000,-0.1699151362],[1431043200000,-0.1535161835],[1431302400000,-0.1289799632],[1431388800000,-0.1184156283],[1431475200000,-0.123797144],[1431561600000,-0.1270765631],[1431648000000,-0.1425470279],[1431907200000,-0.1504076062],[1431993600000,-0.121423929],[1432080000000,-0.1170228965],[1432166400000,-0.1010417634],[1432252800000,-0.0805500362],[1432512000000,-0.0530352268],[1432598400000,-0.0345731741],[1432684800000,-0.0378210247],[1432771200000,-0.1023360755],[1432857600000,-0.101069618],[1433116800000,-0.0573656942],[1433203200000,-0.0414532692],[1433289600000,-0.0448478208],[1433376000000,-0.0378228817],[1433462400000,-0.0286995599],[1433721600000,-0.0058216189],[1433808000000,-0.0125605838],[1433894400000,-0.0141111586],[1433980800000,-0.0145791165],[1434067200000,-0.0092811647],[1434326400000,-0.0304414031],[1434412800000,-0.0594752187],[1434499200000,-0.0457317413],[1434585600000,-0.0844088318],[1434672000000,-0.1389110694],[1435017600000,-0.1112347032],[1435104000000,-0.0937717034],[1435190400000,-0.126010659],[1435276800000,-0.1947800412],[1435536000000,-0.2216393382],[1435622400000,-0.1693747563],[1435708800000,-0.2102245084],[1435795200000,-0.2371543704],[1435881600000,-0.2783940874],[1436140800000,-0.2574808267],[1436227200000,-0.2705799335],[1436313600000,-0.3197823624],[1436400000000,-0.2762195688],[1436486400000,-0.2374217749],[1436745600000,-0.2178771053],[1436832000000,-0.2363837255],[1436918400000,-0.2633822956],[1437004800000,-0.2576999499],[1437091200000,-0.229076526],[1437350400000,-0.2273848211],[1437436800000,-0.2263820542],[1437523200000,-0.2280254777],[1437609600000,-0.2106349],[1437696000000,-0.2244749401],[1437955200000,-0.2908711073],[1438041600000,-0.2922898368],[1438128000000,-0.2701379733],[1438214400000,-0.2914876233],[1438300800000,-0.2912480734],[1438560000000,-0.2889194258],[1438646400000,-0.2668362704],[1438732800000,-0.2819260552],[1438819200000,-0.2884347552],[1438905600000,-0.2744888674],[1439164800000,-0.241544261],[1439251200000,-0.2448292511],[1439337600000,-0.2542144064],[1439424000000,-0.2431969694],[1439510400000,-0.2435535088],[1439769600000,-0.2427494383],[1439856000000,-0.2896306475],[1439942400000,-0.2783532339],[1440028800000,-0.3015078643],[1440115200000,-0.3334311341],[1440374400000,-0.3917420289],[1440460800000,-0.4349352844],[1440547200000,-0.4381367106],[1440633600000,-0.4047204323],[1440720000000,-0.379344859],[1440979200000,-0.3748416928],[1441065600000,-0.375669904],[1441152000000,-0.3749735381],[1441584000000,-0.3963918962],[1441670400000,-0.3808805779],[1441756800000,-0.3687582403],[1441843200000,-0.376509257],[1441929600000,-0.3784349409],[1442188800000,-0.3907021225],[1442275200000,-0.4146385397],[1442361600000,-0.3854803068],[1442448000000,-0.3988969564],[1442534400000,-0.3962470521],[1442793600000,-0.3856660043],[1442880000000,-0.3799502331],[1442966400000,-0.3940632486],[1443052800000,-0.3899834729],[1443139200000,-0.3998347292],[1443398400000,-0.3978291954],[1443484800000,-0.4096952703],[1443571200000,-0.4052199588],[1444262400000,-0.3878516648],[1444348800000,-0.3797478227],[1444608000000,-0.3597723348],[1444694400000,-0.3602644333],[1444780800000,-0.3674936399],[1444867200000,-0.3525078457],[1444953600000,-0.3437336354],[1445212800000,-0.3437113517],[1445299200000,-0.3356297933],[1445385600000,-0.3550259048],[1445472000000,-0.3455033333],[1445558400000,-0.3368293996],[1445817600000,-0.3334831294],[1445904000000,-0.3328109042],[1445990400000,-0.3454309112],[1446076800000,-0.3438729086],[1446163200000,-0.3437299214],[1446422400000,-0.3545226644],[1446508800000,-0.356466918],[1446595200000,-0.3261889287],[1446681600000,-0.3118103656],[1446768000000,-0.2955803978],[1447027200000,-0.2868563258],[1447113600000,-0.2881766355],[1447200000000,-0.2881004995],[1447286400000,-0.2952182875],[1447372800000,-0.3043323244],[1447632000000,-0.3010101948],[1447718400000,-0.3020760989],[1447804800000,-0.310025812],[1447891200000,-0.2989972331],[1447977600000,-0.2991067947],[1448236800000,-0.3030157286],[1448323200000,-0.3029117379],[1448409600000,-0.2977642012],[1448496000000,-0.3018829734],[1448582400000,-0.3394755901],[1448841600000,-0.3377263189],[1448928000000,-0.3330300273],[1449014400000,-0.3088410614],[1449100800000,-0.3037640898],[1449187200000,-0.3170804628],[1449446400000,-0.3152197731],[1449532800000,-0.3272139793],[1449619200000,-0.3248147667],[1449705600000,-0.3272028375],[1449792000000,-0.329992015],[1450051200000,-0.3108168836],[1450137600000,-0.3139607435],[1450224000000,-0.3156227368],[1450310400000,-0.3025403428],[1450396800000,-0.300308258],[1450656000000,-0.282098754],[1450742400000,-0.2801006481],[1450828800000,-0.282022618],[1450915200000,-0.2888897142],[1451001600000,-0.2872555756],[1451260800000,-0.3077881562],[1451347200000,-0.3014280143],[1451433600000,-0.3008152123],[1451520000000,-0.3071623554],[1451865600000,-0.3555532859],[1451952000000,-0.3539989972],[1452038400000,-0.3426658744],[1452124800000,-0.3882416297],[1452211200000,-0.3757664667],[1452470400000,-0.4071697833],[1452556800000,-0.4028504577],[1452643200000,-0.4139607435],[1452729600000,-0.40176227],[1452816000000,-0.4208594084],[1453075200000,-0.4186310375],[1453161600000,-0.4014744387],[1453248000000,-0.4105253384],[1453334400000,-0.4278026406],[1453420800000,-0.4218380346],[1453680000000,-0.418972721],[1453766400000,-0.4539544298],[1453852800000,-0.4558411172],[1453939200000,-0.4700636943],[1454025600000,-0.4529182374],[1454284800000,-0.461282056],[1454371200000,-0.4500882063],[1454457600000,-0.4524447085],[1454544000000,-0.4457373122],[1454630400000,-0.4496313903],[1455494400000,-0.4528031049],[1455580800000,-0.4360309001],[1455667200000,-0.4311489109],[1455753600000,-0.4329353215],[1455840000000,-0.4333290004],[1456099200000,-0.4208334107],[1456185600000,-0.4263133461],[1456272000000,-0.4225659691],[1456358400000,-0.457995209],[1456444800000,-0.4525579841],[1456704000000,-0.4656608048],[1456790400000,-0.45577798],[1456876800000,-0.4333754248],[1456963200000,-0.432058829],[1457049600000,-0.4254721361],[1457308800000,-0.4234387477],[1457395200000,-0.4229132235],[1457481600000,-0.4295537687],[1457568000000,-0.4404653581],[1457654400000,-0.4395127296],[1457913600000,-0.4307088076],[1458000000000,-0.4290208167],[1458086400000,-0.4261889287],[1458172800000,-0.4198436426],[1458259200000,-0.4109747266],[1458518400000,-0.3965868786],[1458604800000,-0.4009786262],[1458691200000,-0.3990659412],[1458777600000,-0.4091381776],[1458864000000,-0.4061725873],[1459123200000,-0.4113888321],[1459209600000,-0.4177619729],[1459296000000,-0.4027464671],[1459382400000,-0.4024084975],[1459468800000,-0.4017009898],[1459814400000,-0.3937921301],[1459900800000,-0.3950845852],[1459987200000,-0.4040426362],[1460073600000,-0.408417671],[1460332800000,-0.4001782697],[1460419200000,-0.4023416464],[1460505600000,-0.3943696496],[1460592000000,-0.3916863197],[1460678400000,-0.3923585449],[1460937600000,-0.4004846707],[1461024000000,-0.3986555496],[1461110400000,-0.4092904496],[1461196800000,-0.413084251],[1461283200000,-0.4104287757],[1461542400000,-0.4128187035],[1461628800000,-0.409637704],[1461715200000,-0.4120963399],[1461801600000,-0.4130879649],[1461888000000,-0.4137991866],[1462233600000,-0.4032534215],[1462320000000,-0.4040110676],[1462406400000,-0.4031828564],[1462492800000,-0.4187016026],[1462752000000,-0.4307236634],[1462838400000,-0.4300737219],[1462924800000,-0.4275296652],[1463011200000,-0.426168502],[1463097600000,-0.4289911051],[1463356800000,-0.4252084455],[1463443200000,-0.426933576],[1463529600000,-0.4302742753],[1463616000000,-0.4313011829],[1463702400000,-0.428382017],[1463961600000,-0.4267107389],[1464048000000,-0.4311062004],[1464134400000,-0.431908414],[1464220800000,-0.43098364],[1464307200000,-0.4313011829],[1464566400000,-0.4305193961],[1464652800000,-0.4114204007],[1464739200000,-0.4130935359],[1464825600000,-0.4118772168],[1464912000000,-0.4077510167],[1465171200000,-0.4097064121],[1465257600000,-0.4100295259],[1465344000000,-0.4124547362],[1465776000000,-0.4305881042],[1465862400000,-0.4287979796],[1465948800000,-0.4212976546],[1466035200000,-0.425327292],[1466121600000,-0.4224136971],[1466380800000,-0.4219847357],[1466467200000,-0.4231639152],[1466553600000,-0.4180312343],[1466640000000,-0.4211212419],[1466726400000,-0.4285788565],[1466985600000,-0.4205232958],[1467072000000,-0.4175781323],[1467158400000,-0.4147945256],[1467244800000,-0.4143247108],[1467331200000,-0.4142727155],[1467590400000,-0.404894988],[1467676800000,-0.4043973185],[1467763200000,-0.4026480474],[1467849600000,-0.4039200758],[1467936000000,-0.4072013519],[1468195200000,-0.4051493937],[1468281600000,-0.3921784182],[1468368000000,-0.3903790087],[1468454400000,-0.3915136209],[1468540800000,-0.3916027558],[1468800000000,-0.3942508031],[1468886400000,-0.3968115727],[1468972800000,-0.3987855379],[1469059200000,-0.3960149301],[1469145600000,-0.4010956157],[1469404800000,-0.4000315686],[1469491200000,-0.3928450725],[1469577600000,-0.4023806429],[1469664000000,-0.4018421199],[1469750400000,-0.4050379752],[1470009600000,-0.4100740933],[1470096000000,-0.407801155],[1470182400000,-0.4069729439],[1470268800000,-0.4055282167],[1470355200000,-0.404818852],[1470614400000,-0.3994206236],[1470700800000,-0.3951867189],[1470787200000,-0.3977196338],[1470873600000,-0.3995728956],[1470960000000,-0.3882694843],[1471219200000,-0.3698501421],[1471305600000,-0.3726671742],[1471392000000,-0.3736328016],[1471478400000,-0.3752223728],[1471564800000,-0.3751239531],[1471824000000,-0.3803661956],[1471910400000,-0.3794302798],[1471996800000,-0.3816530798],[1472083200000,-0.3855323021],[1472169600000,-0.3858814135],[1472428800000,-0.3857532822],[1472515200000,-0.3849714954],[1472601600000,-0.3820374738],[1472688000000,-0.3869046072],[1472774400000,-0.3845778166],[1473033600000,-0.3835434811],[1473120000000,-0.3792835788],[1473206400000,-0.3796178344],[1473292800000,-0.3798518133],[1473379200000,-0.3838480251],[1473638400000,-0.3941430985],[1473724800000,-0.394564632],[1473811200000,-0.3985756996],[1474243200000,-0.3940465358],[1474329600000,-0.3951087259],[1474416000000,-0.3933928804],[1474502400000,-0.3888470038],[1474588800000,-0.3917160313],[1474848000000,-0.4020018198],[1474934400000,-0.3982005905],[1475020800000,-0.4000315686],[1475107200000,-0.3975246514],[1475193600000,-0.3958737999],[1476057600000,-0.3883363354],[1476144000000,-0.3859798332],[1476230400000,-0.3871961523],[1476316800000,-0.3867059108],[1476403200000,-0.3861116785],[1476662400000,-0.3913056396],[1476748800000,-0.3832370801],[1476835200000,-0.3841822807],[1476921600000,-0.3837440345],[1477008000000,-0.3820467586],[1477267200000,-0.3746485673],[1477353600000,-0.374672708],[1477440000000,-0.3770217823],[1477526400000,-0.3787116302],[1477612800000,-0.3797459657],[1477872000000,-0.3804609014],[1477958400000,-0.3762325676],[1478044800000,-0.3810049953],[1478131200000,-0.3751128113],[1478217600000,-0.3771387718],[1478476800000,-0.3766893837],[1478563200000,-0.3739911979],[1478649600000,-0.3773467531],[1478736000000,-0.3703719522],[1478822400000,-0.3654305398],[1479081600000,-0.3630109004],[1479168000000,-0.3630814655],[1479254400000,-0.3631334608],[1479340800000,-0.3618447197],[1479427200000,-0.3653859724],[1479686400000,-0.3609942248],[1479772800000,-0.3559339659],[1479859200000,-0.3547510724],[1479945600000,-0.3521494494],[1480032000000,-0.3461031364],[1480291200000,-0.3435442239],[1480377600000,-0.3381664222],[1480464000000,-0.343001987],[1480550400000,-0.3379807246],[1480636800000,-0.34468255],[1480896000000,-0.3557389835],[1480982400000,-0.3576442406],[1481068800000,-0.3545616609],[1481155200000,-0.3556034243],[1481241600000,-0.3512283894],[1481500800000,-0.3669235483],[1481587200000,-0.3676923363],[1481673600000,-0.3725371859],[1481760000000,-0.3796902564],[1481846400000,-0.37865035],[1482105600000,-0.3818164937],[1482192000000,-0.3855155893],[1482278400000,-0.3800412249],[1482364800000,-0.3805741769],[1482451200000,-0.3857867078],[1482710400000,-0.3830383837],[1482796800000,-0.3841544261],[1482883200000,-0.3868470409],[1482969600000,-0.3876139719],[1483056000000,-0.3853261778],[1483401600000,-0.3793560008],[1483488000000,-0.3745130081],[1483574400000,-0.3746095709],[1483660800000,-0.378345806],[1483920000000,-0.3753319344],[1484006400000,-0.3763774117],[1484092800000,-0.3807914431],[1484179200000,-0.3839260181],[1484265600000,-0.3835007706],[1484524800000,-0.3835861915],[1484611200000,-0.3823030213],[1484697600000,-0.3798870959],[1484784000000,-0.3817589274],[1484870400000,-0.3770050695],[1485129600000,-0.3752985088],[1485216000000,-0.3752298007],[1485302400000,-0.3731035635],[1485388800000,-0.3708640508],[1486080000000,-0.3752223728],[1486339200000,-0.37360309],[1486425600000,-0.3750013927],[1486512000000,-0.3717312585],[1486598400000,-0.36931719],[1486684800000,-0.3661231918],[1486944000000,-0.3618930011],[1487030400000,-0.3619802789],[1487116800000,-0.3645967577],[1487203200000,-0.3610276504],[1487289600000,-0.3646468961],[1487548800000,-0.3553713023],[1487635200000,-0.353248779],[1487721600000,-0.3519600379],[1487808000000,-0.355012906],[1487894400000,-0.3549144863],[1488153600000,-0.3600453102],[1488240000000,-0.3588215632],[1488326400000,-0.3577760859],[1488412800000,-0.3621102672],[1488499200000,-0.3634547176],[1488758400000,-0.3599970288],[1488844800000,-0.358608011],[1488931200000,-0.3595792093],[1489017600000,-0.3636255594],[1489104000000,-0.3634491467],[1489363200000,-0.357839223],[1489449600000,-0.3581010566],[1489536000000,-0.3568104585],[1489622400000,-0.3534920429],[1489708800000,-0.3601214462],[1489968000000,-0.3594157954],[1490054400000,-0.3563072181],[1490140800000,-0.3593340885],[1490227200000,-0.3571187165],[1490313600000,-0.3519897495],[1490572800000,-0.3541364134],[1490659200000,-0.3556647045],[1490745600000,-0.3565226272],[1490832000000,-0.3618020092],[1490918400000,-0.3582199031],[1491350400000,-0.3493361312],[1491436800000,-0.3474494438],[1491523200000,-0.3468162151],[1491782400000,-0.3491040092],[1491868800000,-0.3468403558],[1491955200000,-0.3483055096],[1492041600000,-0.3473528811],[1492128000000,-0.352565412],[1492387200000,-0.353783588],[1492473600000,-0.3569775863],[1492560000000,-0.3601084474],[1492646400000,-0.3571985664],[1492732800000,-0.3562255111],[1492992000000,-0.3628233459],[1493078400000,-0.3610202225],[1493164800000,-0.3602384357],[1493251200000,-0.3599524614],[1493337600000,-0.3612467735],[1493683200000,-0.3636924105],[1493769600000,-0.3661900429],[1493856000000,-0.3678130397],[1493942400000,-0.3718686747],[1494201600000,-0.3762771351],[1494288000000,-0.3774433158],[1494374400000,-0.3801972108],[1494460800000,-0.3766782418],[1494547200000,-0.3713431505],[1494806400000,-0.3687786671],[1494892800000,-0.3633080166],[1494979200000,-0.3667768472],[1495065600000,-0.3689792204],[1495152000000,-0.3679133164],[1495411200000,-0.3665410113],[1495497600000,-0.3641362277],[1495584000000,-0.3641399417],[1495670400000,-0.3527213979],[1495756800000,-0.3536925962],[1496188800000,-0.3513806615],[1496275200000,-0.3504781713],[1496361600000,-0.352563555],[1496620800000,-0.3558615439],[1496707200000,-0.3513806615],[1496793600000,-0.3437689179],[1496880000000,-0.3387346567],[1496966400000,-0.3359139106],[1497225600000,-0.3362444523],[1497312000000,-0.3347811554],[1497398400000,-0.3435033704],[1497484800000,-0.3447122616],[1497571200000,-0.3465748083],[1497830400000,-0.340092106],[1497916800000,-0.3414254146],[1498003200000,-0.3337245362],[1498089600000,-0.333282576],[1498176000000,-0.327239977],[1498435200000,-0.3188445897],[1498521600000,-0.3176134148],[1498608000000,-0.3229150805],[1498694400000,-0.3187071735],[1498780800000,-0.3190841396],[1499040000000,-0.3220460159],[1499126400000,-0.3277784999],[1499212800000,-0.3204063063],[1499299200000,-0.3203283133],[1499385600000,-0.3211026722],[1499644800000,-0.3215186348],[1499731200000,-0.3183394923],[1499817600000,-0.3205660062],[1499904000000,-0.3153479044],[1499990400000,-0.3123451746],[1500249600000,-0.3196857997],[1500336000000,-0.3190135745],[1500422400000,-0.3073944774],[1500508800000,-0.3040277804],[1500595200000,-0.3076080296],[1500854400000,-0.3048467067],[1500940800000,-0.3092867356],[1501027200000,-0.3119180702],[1501113600000,-0.3106553267],[1501200000000,-0.3088540603],[1501459200000,-0.3058866131],[1501545600000,-0.299849585],[1501632000000,-0.3016192828],[1501718400000,-0.3077510167],[1501804800000,-0.3115113925],[1502064000000,-0.3079441422],[1502150400000,-0.3069376613],[1502236800000,-0.3071549275],[1502323200000,-0.3099626748],[1502409600000,-0.3226959574],[1502668800000,-0.3139068912],[1502755200000,-0.3117936529],[1502841600000,-0.3126552896],[1502928000000,-0.3089673358],[1503014400000,-0.308337821],[1503273600000,-0.3053072366],[1503360000000,-0.3032069971],[1503446400000,-0.3025032033],[1503532800000,-0.3064845592],[1503619200000,-0.2951384375],[1503878400000,-0.2864180795],[1503964800000,-0.2879352287],[1504051200000,-0.2879797961],[1504137600000,-0.2902471635],[1504224000000,-0.288678019],[1504483200000,-0.2858776996],[1504569600000,-0.2837551763],[1504656000000,-0.2851664779],[1504742400000,-0.2888024364],[1504828800000,-0.2895229429],[1505088000000,-0.2895860801],[1505174400000,-0.2873057139],[1505260800000,-0.2864366493],[1505347200000,-0.2887857236],[1505433600000,-0.2885368888],[1505692800000,-0.2863382296],[1505779200000,-0.2883846168],[1505865600000,-0.2864682179],[1505952000000,-0.2873261406],[1506038400000,-0.2873428534],[1506297600000,-0.291045663],[1506384000000,-0.2904904273],[1506470400000,-0.2904124343],[1506556800000,-0.2901635996],[1506643200000,-0.2875712614],[1507507200000,-0.2790830254],[1507593600000,-0.277662439],[1507680000000,-0.2752799391],[1507766400000,-0.273374682],[1507852800000,-0.2718798165],[1508112000000,-0.2732818332],[1508198400000,-0.2733523983],[1508284800000,-0.2675790607],[1508371200000,-0.2699764164],[1508457600000,-0.2707934857],[1508716800000,-0.2700599803],[1508803200000,-0.2647490297],[1508889600000,-0.2614900373],[1508976000000,-0.2584018867],[1509062400000,-0.2531299326],[1509321600000,-0.2554047279],[1509408000000,-0.2559618206],[1509494400000,-0.2578373661],[1509580800000,-0.2577426603],[1509667200000,-0.2585653006],[1509926400000,-0.253330486],[1510012800000,-0.2471356149],[1510099200000,-0.2482943678],[1510185600000,-0.2431152625],[1510272000000,-0.2364282929],[1510531200000,-0.2334274201],[1510617600000,-0.2387606544],[1510704000000,-0.2435293681],[1510790400000,-0.2377096061],[1510876800000,-0.2347681566],[1511136000000,-0.2305008264],[1511222400000,-0.2167833466],[1511308800000,-0.2149505116],[1511395200000,-0.2381942768],[1511481600000,-0.2378600212],[1511740800000,-0.2479341145],[1511827200000,-0.2468440697],[1511913600000,-0.2472284637],[1512000000000,-0.2560769531],[1512086400000,-0.2575551058],[1512345600000,-0.253707452],[1512432000000,-0.2497502368],[1512518400000,-0.2542719727],[1512604800000,-0.262583796],[1512691200000,-0.2565820505],[1512950400000,-0.244303727],[1513036800000,-0.2542348332],[1513123200000,-0.2479081168],[1513209600000,-0.2523537167],[1513296000000,-0.2607639598],[1513555200000,-0.2599413196],[1513641600000,-0.250649013],[1513728000000,-0.2515477893],[1513814400000,-0.2446101279],[1513900800000,-0.2470706208],[1514160000000,-0.2494958311],[1514246400000,-0.2472526044],[1514332800000,-0.2588419899],[1514419200000,-0.2537000241],[1514505600000,-0.2514809381],[1514851200000,-0.2409797404],[1514937600000,-0.2365248556],[1515024000000,-0.2332900039],[1515110400000,-0.23144417],[1515369600000,-0.227468385],[1515456000000,-0.2220571577],[1515542400000,-0.2186198956],[1515628800000,-0.2190321442],[1515715200000,-0.2154277544],[1515974400000,-0.2153831869],[1516060800000,-0.2092124566],[1516147200000,-0.2111344265],[1516233600000,-0.206807673],[1516320000000,-0.204211621],[1516579200000,-0.1947039052],[1516665600000,-0.1861599599],[1516752000000,-0.1848080816],[1516838400000,-0.1894152383],[1516924800000,-0.1864032237],[1517184000000,-0.2011253273],[1517270400000,-0.2096525598],[1517356800000,-0.2059757479],[1517443200000,-0.2115466751],[1517529600000,-0.2068429556],[1517788800000,-0.2063007186],[1517875200000,-0.2295611966],[1517961600000,-0.2478319808],[1518048000000,-0.2549720525],[1518134400000,-0.2868006165],[1518393600000,-0.2776178715],[1518480000000,-0.269163061],[1518566400000,-0.2633451561],[1519257600000,-0.2474178752],[1519344000000,-0.2440084678],[1519603200000,-0.2352194017],[1519689600000,-0.2462572654],[1519776000000,-0.2528198176],[1519862400000,-0.2480938144],[1519948800000,-0.2541531262],[1520208000000,-0.2538485822],[1520294400000,-0.2448496778],[1520380800000,-0.2504038922],[1520467200000,-0.2427995766],[1520553600000,-0.2369928135],[1520812800000,-0.2335016991],[1520899200000,-0.2402648047],[1520985600000,-0.2435906483],[1521072000000,-0.2393530297],[1521158400000,-0.2467326512],[1521417600000,-0.2434216635],[1521504000000,-0.2427810069],[1521590400000,-0.2458728714],[1521676800000,-0.2534307627],[1521763200000,-0.2748621196],[1522022400000,-0.2795138438],[1522108800000,-0.2733152588],[1522195200000,-0.2864162225],[1522281600000,-0.2768843661],[1522368000000,-0.2760580119],[1522627200000,-0.2782083898],[1522713600000,-0.2827468385],[1522800000000,-0.284161854],[1523232000000,-0.2845202503],[1523318400000,-0.2707340625],[1523404800000,-0.2686598206],[1523491200000,-0.2760320143],[1523577600000,-0.2811386975],[1523836800000,-0.2927039424],[1523923200000,-0.3038866502],[1524009600000,-0.300610945],[1524096000000,-0.2921505636],[1524182400000,-0.3016192828],[1524441600000,-0.3006016601],[1524528000000,-0.2862732354],[1524614400000,-0.2890197025],[1524700800000,-0.3026146218],[1524787200000,-0.3023565022],[1525219200000,-0.3010993296],[1525305600000,-0.2956491059],[1525392000000,-0.2990659412],[1525651200000,-0.2880002228],[1525737600000,-0.2797385378],[1525824000000,-0.2810495627],[1525910400000,-0.2770682067],[1525996800000,-0.2808230116],[1526256000000,-0.2740543351],[1526342400000,-0.2713041541],[1526428800000,-0.2771090602],[1526515200000,-0.2824552933],[1526601600000,-0.275211231],[1526860800000,-0.2718352491],[1526947200000,-0.2746262836],[1527033600000,-0.2842138493],[1527120000000,-0.2892945349],[1527206400000,-0.2912852129],[1527465600000,-0.2881729216],[1527552000000,-0.2936045756],[1527638400000,-0.3085792279],[1527724800000,-0.2939072626],[1527811200000,-0.2998105885],[1528070400000,-0.2929416353],[1528156800000,-0.2859334089],[1528243200000,-0.2874134185],[1528329600000,-0.2885907411],[1528416000000,-0.2981337394],[1528675200000,-0.2980668883],[1528761600000,-0.2895303708],[1528848000000,-0.2965144566],[1528934400000,-0.2992943492],[1529020800000,-0.3029971588],[1529366400000,-0.3275668047],[1529452800000,-0.3249076155],[1529539200000,-0.3327941914],[1529625600000,-0.329836029],[1529884800000,-0.3388275055],[1529971200000,-0.3442814432],[1530057600000,-0.3576238139],[1530144000000,-0.3642587881],[1530230400000,-0.3480195354],[1530489600000,-0.3671500993],[1530576000000,-0.3669049786],[1530662400000,-0.375359789],[1530748800000,-0.3793170043],[1530835200000,-0.3751053834],[1531094400000,-0.3576386697],[1531180800000,-0.3560899519],[1531267200000,-0.3672299493],[1531353600000,-0.3535756068],[1531440000000,-0.351415944],[1531699200000,-0.355241314],[1531785600000,-0.3594585059],[1531872000000,-0.362812204],[1531958400000,-0.3633655828],[1532044800000,-0.3513788045],[1532304000000,-0.3452767822],[1532390400000,-0.3348851461],[1532476800000,-0.3356205084],[1532563200000,-0.3433269577],[1532649600000,-0.3461161353],[1532908800000,-0.3472581753],[1532995200000,-0.3467790756],[1533081600000,-0.359828044]]}],\"xAxis\":{\"title\":{\"text\":\"date\"},\"type\":\"datetime\"},\"yAxis\":[{}]});</script>"
      ],
      "text/plain": [
       "<IPython.core.display.HTML object>"
      ]
     },
     "metadata": {},
     "output_type": "display_data"
    }
   ],
   "source": [
    "df = show_df.dropna(how='any', inplace=False).copy()\n",
    "# df.drop(columns=['open', 'high', 'low', 'o_pct_chg', 'TR', 'N'], inplace=True)\n",
    "df.columns\n",
    "\n",
    "show_columns = ['close']\n",
    "df['close'] = (df['close'] - df.iloc[0]['close']) / df.iloc[0]['close']\n",
    "for col in sorted(df.columns):\n",
    "    if 'PROPERTY' in col:\n",
    "        df[col] = (df[col] - df.iloc[1][col]) / df.iloc[0][col]\n",
    "        show_columns.append(col)\n",
    "    if 'CASH' in col:\n",
    "        df[col] = df[col] / df.iloc[0][col]\n",
    "        show_columns.append(col)\n",
    "\n",
    "# df = df.loc[:, ['close', 'CASH_TURTLE_20_60_60', 'PROPERTY_TURTLE_20_60_60']]\n",
    "df = df.loc[:, show_columns]\n",
    "df.reset_index(drop=False, inplace=True)\n",
    "# df.dtypes\n",
    "# df.iloc[0].date\n",
    "# df.iloc[0].date.to_timestamp()\n",
    "# df.iloc[0].date.to_timestamp().to_datetime64()\n",
    "df['date'] = df['date'].apply(lambda x: x.to_timestamp().to_datetime64())\n",
    "# df.iloc[0].date\n",
    "df.set_index(keys=['date'], inplace=True)\n",
    "# df\n",
    "\n",
    "display_charts(df, chart_type='stock', figsize=(900, 600), logy=False)"
   ]
  }
 ],
 "metadata": {
  "kernelspec": {
   "display_name": "Python 3",
   "language": "python",
   "name": "python3"
  },
  "language_info": {
   "codemirror_mode": {
    "name": "ipython",
    "version": 3
   },
   "file_extension": ".py",
   "mimetype": "text/x-python",
   "name": "python",
   "nbconvert_exporter": "python",
   "pygments_lexer": "ipython3",
   "version": "3.6.1"
  }
 },
 "nbformat": 4,
 "nbformat_minor": 2
}
