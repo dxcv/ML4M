{
 "cells": [
  {
   "cell_type": "code",
   "execution_count": 1,
   "metadata": {
    "scrolled": false
   },
   "outputs": [
    {
     "data": {
      "text/html": [
       "\n",
       "<script src=\"//code.highcharts.com/stock/highstock.js\"></script>\n",
       "<script src=\"//code.highcharts.com/highcharts-more.js\"></script>\n",
       "<script src=\"//code.highcharts.com/modules/exporting.js\"></script>\n"
      ],
      "text/plain": [
       "<IPython.core.display.HTML object>"
      ]
     },
     "metadata": {},
     "output_type": "display_data"
    },
    {
     "data": {
      "text/plain": [
       "<module 'pandas' from 'd:\\\\python3\\\\lib\\\\site-packages\\\\pandas\\\\__init__.py'>"
      ]
     },
     "execution_count": 1,
     "metadata": {},
     "output_type": "execute_result"
    }
   ],
   "source": [
    "import os\n",
    "import sys\n",
    "sys.path.append(os.path.abspath(os.path.join(os.getcwd(), '..')))\n",
    "\n",
    "import pandas as pd\n",
    "pd.core.common.is_list_like = pd.api.types.is_list_like\n",
    "emp = None\n",
    "import empyrical as emp\n",
    "import tushare as ts\n",
    "import time\n",
    "import random\n",
    "# from concurrent.futures import ProcessPoolExecutor\n",
    "\n",
    "from common.log import *\n",
    "from common.config import Config\n",
    "from spider.spider_nasdaq import Spider_nasdaq\n",
    "\n",
    "from IPython.core.interactiveshell import InteractiveShell\n",
    "InteractiveShell.ast_node_interactivity = 'all'\n",
    "\n",
    "from pandas_highcharts.core import serialize\n",
    "from pandas_highcharts.display import display_charts\n",
    "\n",
    "CONF = Config().data[0]\n",
    "MONGODB = CONF['MONGODB']\n",
    "NASDAQ = CONF['NASDAQ']\n",
    "CRYPTOCURRENCY = CONF['CRYPTOCURRENCY']\n",
    "NASDAQ100 = CONF['NASDAQ100']\n",
    "# NASDAQ100 = ['NDX', 'TSLA', 'NVDA', 'AMZN', 'GOOGL', 'GOOG', 'BIDU', 'FB', 'JD']\n",
    "HS300 = list(ts.get_hs300s()['code']) + ['399300']\n",
    "# print(HS300)\n",
    "\n",
    "pd"
   ]
  },
  {
   "cell_type": "code",
   "execution_count": 2,
   "metadata": {
    "scrolled": false
   },
   "outputs": [
    {
     "name": "stdout",
     "output_type": "stream",
     "text": [
      "../database/market/399300.csv\n",
      "Wall time: 1.72 s\n"
     ]
    }
   ],
   "source": [
    "%%time\n",
    "\n",
    "# for symbol in HS300[:]:\n",
    "for symbol in ['399300']:\n",
    "# for symbol in ['600025']:\n",
    "    df = ts.get_k_data(code=symbol, index=True, start='2008-01-01', end='2018-08-01')\n",
    "#     df = ts.get_k_data(code=symbol, ktype='D', autype='qfq', index=False, start='2008-01-01', end='2018-08-01')\n",
    "#     print(df)\n",
    "    datafile = '../database/market/%s.csv' % symbol\n",
    "    df.to_csv(datafile, index=False, encoding='utf-8')\n",
    "    print(datafile)\n",
    "    time.sleep(1)"
   ]
  },
  {
   "cell_type": "code",
   "execution_count": 3,
   "metadata": {},
   "outputs": [
    {
     "name": "stdout",
     "output_type": "stream",
     "text": [
      "Wall time: 0 ns\n"
     ]
    }
   ],
   "source": [
    "%%time\n",
    "\n",
    "### 时间设置\n",
    "start_date = '2008-01-01'\n",
    "# start_date = '2010-01-01'\n",
    "# start_date = '2015-01-01'\n",
    "# start_date = '2016-01-01'\n",
    "start_date = '2017-01-01'\n",
    "# start_date = '2018-01-01'\n",
    "end_date = '2018-08-01'\n",
    "\n",
    "TURTLE_POS = 20\n",
    "### Turtle System One - Short\n",
    "TURTLE_SHORT_BUY_N = 20\n",
    "TURTLE_SHORT_SELL_N = 20\n",
    "### Turtle System Two - Long\n",
    "TURTLE_LONG_BUY_N = 60\n",
    "TURTLE_LONG_SELL_N = 60\n",
    "\n",
    "### 业务设置\n",
    "IS_HAPPYMONEY = True\n",
    "IS_TAX = False\n",
    "IS_SLIPPAGE = False\n",
    "IS_RANDOM_BUY = True\n",
    "START_MONEY = 100000\n",
    "HAPPY_MONEY = 0\n",
    "PROPERTY = START_MONEY\n",
    "CASH = START_MONEY\n"
   ]
  },
  {
   "cell_type": "code",
   "execution_count": 4,
   "metadata": {},
   "outputs": [
    {
     "name": "stdout",
     "output_type": "stream",
     "text": [
      "Wall time: 7.38 s\n"
     ]
    }
   ],
   "source": [
    "%%time\n",
    "\n",
    "stock_df_dict = {}\n",
    "\n",
    "for symbol in HS300[:]:\n",
    "    stock_data_file = '../database/market/%s.csv' % symbol\n",
    "    stock_df = pd.read_csv(stock_data_file)\n",
    "\n",
    "    # 筛选字段\n",
    "    stock_df = stock_df.loc[:, ['date', 'open', 'close']]\n",
    "#     stock_df = stock_df.loc[:, ['date', 'close']]\n",
    "\n",
    "    # 去掉Nasdaq行情首行的当天行情\n",
    "    if symbol in NASDAQ:\n",
    "        stock_df = stock_df.drop([0])\n",
    "\n",
    "    # 抛弃空值异常值\n",
    "    stock_df.dropna(axis=0, how='any', inplace=True)\n",
    "\n",
    "    # 格式化日期\n",
    "    # 1.48 s ± 45.8 ms per loop (mean ± std. dev. of 7 runs, 1 loop each)\n",
    "#     stock_df['date'] = stock_df['date'].apply(lambda x: pd.Period(x, freq='D'))\n",
    "\n",
    "    # 445 ms ± 17.5 ms per loop (mean ± std. dev. of 7 runs, 1 loop each)\n",
    "    stock_df = stock_df.assign(date=pd.to_datetime(stock_df['date']))  # need .index.to_period('D')\n",
    "\n",
    "    # 476 ms ± 46.6 ms per loop (mean ± std. dev. of 7 runs, 1 loop each)\n",
    "#     stock_df['date'] = pd.to_datetime(stock_df['date'])  # need .index.to_period('D')\n",
    "    \n",
    "    # 转换字段格式\n",
    "#     stock_df = stock_df.astype(dtype={'volume': 'float64'})\n",
    "\n",
    "    # 用日期作索引，日期升序排序\n",
    "    # 95.1 µs ± 1.58 µs per loop (mean ± std. dev. of 7 runs, 10000 loops each)\n",
    "#     stock_df = stock_df[::-1]\n",
    "    \n",
    "    # 407 µs ± 5.07 µs per loop (mean ± std. dev. of 7 runs, 1000 loops each)\n",
    "#     %timeit stock_df.set_index(['date'], inplace=False)\n",
    "\n",
    "    # Wall time: 500 µs\n",
    "    stock_df.set_index(['date'], inplace=True)\n",
    "    \n",
    "    # 305 µs ± 2.75 µs per loop (mean ± std. dev. of 7 runs, 1000 loops each)\n",
    "#     stock_df = stock_df.sort_index(axis=0, ascending=True)\n",
    "    \n",
    "    # 822 µs ± 41.3 µs per loop (mean ± std. dev. of 7 runs, 1000 loops each)\n",
    "    stock_df.index = stock_df.index.to_period('D')\n",
    "\n",
    "    # 计算涨跌幅\n",
    "#     stock_df['c_pct_chg'] = stock_df.close.pct_change(1)\n",
    "    stock_df['o_pct_chg'] = stock_df.open.pct_change(1)\n",
    "    \n",
    "    # Turtle指标\n",
    "#     stock_df['TR1'] = abs(stock_df['high'] - stock_df['low'])\n",
    "#     stock_df['TR2'] = abs(stock_df['high'] - stock_df['close'].shift())\n",
    "#     stock_df['TR3'] = abs(stock_df['low'] - stock_df['close'].shift())\n",
    "#     stock_df['TR'] = stock_df[['TR1', 'TR2', 'TR3']].max(axis=1)\n",
    "#     stock_df['N'] = stock_df['TR'].rolling(20).mean()\n",
    "#     stock_df['UNIT'] = (0.01 * START_MONEY) / (stock_df['N'])\n",
    "    stock_df['ROLLING_%d_MAX' % TURTLE_SHORT_BUY_N] = stock_df['open'].rolling(TURTLE_SHORT_BUY_N).max()\n",
    "    stock_df['ROLLING_%d_MIN' % TURTLE_SHORT_SELL_N] = stock_df['open'].rolling(TURTLE_SHORT_SELL_N).min()\n",
    "    stock_df['ROLLING_%d_MAX' % TURTLE_LONG_BUY_N] = stock_df['open'].rolling(TURTLE_LONG_BUY_N).max()\n",
    "    stock_df['ROLLING_%d_MIN' % TURTLE_LONG_SELL_N] = stock_df['open'].rolling(TURTLE_LONG_SELL_N).min()\n",
    "#     stock_df['MA%d' % TURTLE_BUY_N] = stock_df['open'].rolling(TURTLE_BUY_N).mean()\n",
    "#     stock_df['MA%d' % TURTLE_SELL_N] = stock_df['open'].rolling(TURTLE_SELL_N).mean()\n",
    "#     stock_df['EWMA'] = stock_df['open'].ewm(alpha=0.1, adjust=False).mean()\n",
    "#     stock_df['MA360'] = stock_df['open'].rolling(360).mean()\n",
    "    stock_df['MA180'] = stock_df['open'].rolling(180).mean()\n",
    "    stock_df['MA60'] = stock_df['open'].rolling(60).mean()\n",
    "    stock_df['MA30'] = stock_df['open'].rolling(30).mean()\n",
    "    \n",
    "#     stock_df['ops'] = ''\n",
    "#     stock_df['profit'] = 0\n",
    "    \n",
    "    # 减少数据\n",
    "    # stock_df = stock_df['2016-01-01':]\n",
    "    stock_df.dropna(how='any', inplace=True)\n",
    "#     stock_df.drop(columns=['volume', 'TR1', 'TR2', 'TR3'], inplace=True)\n",
    "    \n",
    "    stock_df_dict[symbol] = stock_df\n",
    "    \n",
    "#     print(stock_df.head(10))\n",
    "#     print(stock_df.dtypes)\n",
    "#     print(stock_df.index[0])\n",
    "#     print(type(stock_df.index[0]))"
   ]
  },
  {
   "cell_type": "code",
   "execution_count": 5,
   "metadata": {},
   "outputs": [
    {
     "data": {
      "text/html": [
       "<div>\n",
       "<style scoped>\n",
       "    .dataframe tbody tr th:only-of-type {\n",
       "        vertical-align: middle;\n",
       "    }\n",
       "\n",
       "    .dataframe tbody tr th {\n",
       "        vertical-align: top;\n",
       "    }\n",
       "\n",
       "    .dataframe thead th {\n",
       "        text-align: right;\n",
       "    }\n",
       "</style>\n",
       "<table border=\"1\" class=\"dataframe\">\n",
       "  <thead>\n",
       "    <tr style=\"text-align: right;\">\n",
       "      <th></th>\n",
       "      <th>open</th>\n",
       "      <th>close</th>\n",
       "      <th>o_pct_chg</th>\n",
       "      <th>ROLLING_20_MAX</th>\n",
       "      <th>ROLLING_20_MIN</th>\n",
       "      <th>ROLLING_60_MAX</th>\n",
       "      <th>ROLLING_60_MIN</th>\n",
       "      <th>MA180</th>\n",
       "      <th>MA60</th>\n",
       "      <th>MA30</th>\n",
       "    </tr>\n",
       "    <tr>\n",
       "      <th>date</th>\n",
       "      <th></th>\n",
       "      <th></th>\n",
       "      <th></th>\n",
       "      <th></th>\n",
       "      <th></th>\n",
       "      <th></th>\n",
       "      <th></th>\n",
       "      <th></th>\n",
       "      <th></th>\n",
       "      <th></th>\n",
       "    </tr>\n",
       "  </thead>\n",
       "  <tbody>\n",
       "    <tr>\n",
       "      <th>2008-09-23</th>\n",
       "      <td>2141.60</td>\n",
       "      <td>2123.48</td>\n",
       "      <td>-0.038939</td>\n",
       "      <td>2372.64</td>\n",
       "      <td>1876.96</td>\n",
       "      <td>2987.06</td>\n",
       "      <td>1876.96</td>\n",
       "      <td>3602.807111</td>\n",
       "      <td>2547.598000</td>\n",
       "      <td>2262.171667</td>\n",
       "    </tr>\n",
       "    <tr>\n",
       "      <th>2008-09-24</th>\n",
       "      <td>2072.65</td>\n",
       "      <td>2138.85</td>\n",
       "      <td>-0.032196</td>\n",
       "      <td>2372.64</td>\n",
       "      <td>1876.96</td>\n",
       "      <td>2987.06</td>\n",
       "      <td>1876.96</td>\n",
       "      <td>3584.600944</td>\n",
       "      <td>2535.488833</td>\n",
       "      <td>2250.214000</td>\n",
       "    </tr>\n",
       "    <tr>\n",
       "      <th>2008-09-25</th>\n",
       "      <td>2143.73</td>\n",
       "      <td>2223.53</td>\n",
       "      <td>0.034294</td>\n",
       "      <td>2372.64</td>\n",
       "      <td>1876.96</td>\n",
       "      <td>2987.06</td>\n",
       "      <td>1876.96</td>\n",
       "      <td>3566.615278</td>\n",
       "      <td>2526.173833</td>\n",
       "      <td>2240.755000</td>\n",
       "    </tr>\n",
       "    <tr>\n",
       "      <th>2008-09-26</th>\n",
       "      <td>2234.46</td>\n",
       "      <td>2243.66</td>\n",
       "      <td>0.042323</td>\n",
       "      <td>2372.64</td>\n",
       "      <td>1876.96</td>\n",
       "      <td>2987.06</td>\n",
       "      <td>1876.96</td>\n",
       "      <td>3548.858778</td>\n",
       "      <td>2519.173500</td>\n",
       "      <td>2234.237667</td>\n",
       "    </tr>\n",
       "    <tr>\n",
       "      <th>2008-10-06</th>\n",
       "      <td>2206.56</td>\n",
       "      <td>2128.70</td>\n",
       "      <td>-0.012486</td>\n",
       "      <td>2372.64</td>\n",
       "      <td>1876.96</td>\n",
       "      <td>2987.06</td>\n",
       "      <td>1876.96</td>\n",
       "      <td>3530.670556</td>\n",
       "      <td>2510.096000</td>\n",
       "      <td>2226.443333</td>\n",
       "    </tr>\n",
       "    <tr>\n",
       "      <th>2008-10-07</th>\n",
       "      <td>2043.92</td>\n",
       "      <td>2102.45</td>\n",
       "      <td>-0.073707</td>\n",
       "      <td>2292.69</td>\n",
       "      <td>1876.96</td>\n",
       "      <td>2987.06</td>\n",
       "      <td>1876.96</td>\n",
       "      <td>3511.048167</td>\n",
       "      <td>2498.367833</td>\n",
       "      <td>2212.863667</td>\n",
       "    </tr>\n",
       "    <tr>\n",
       "      <th>2008-10-08</th>\n",
       "      <td>2041.99</td>\n",
       "      <td>2022.88</td>\n",
       "      <td>-0.000944</td>\n",
       "      <td>2279.60</td>\n",
       "      <td>1876.96</td>\n",
       "      <td>2987.06</td>\n",
       "      <td>1876.96</td>\n",
       "      <td>3491.797444</td>\n",
       "      <td>2484.058167</td>\n",
       "      <td>2204.746333</td>\n",
       "    </tr>\n",
       "    <tr>\n",
       "      <th>2008-10-09</th>\n",
       "      <td>2059.58</td>\n",
       "      <td>1995.30</td>\n",
       "      <td>0.008614</td>\n",
       "      <td>2238.65</td>\n",
       "      <td>1876.96</td>\n",
       "      <td>2987.06</td>\n",
       "      <td>1876.96</td>\n",
       "      <td>3471.952611</td>\n",
       "      <td>2469.601167</td>\n",
       "      <td>2195.652667</td>\n",
       "    </tr>\n",
       "    <tr>\n",
       "      <th>2008-10-10</th>\n",
       "      <td>1913.27</td>\n",
       "      <td>1906.96</td>\n",
       "      <td>-0.071039</td>\n",
       "      <td>2234.46</td>\n",
       "      <td>1876.96</td>\n",
       "      <td>2987.06</td>\n",
       "      <td>1876.96</td>\n",
       "      <td>3450.978778</td>\n",
       "      <td>2451.972667</td>\n",
       "      <td>2176.286333</td>\n",
       "    </tr>\n",
       "    <tr>\n",
       "      <th>2008-10-13</th>\n",
       "      <td>1889.75</td>\n",
       "      <td>1985.49</td>\n",
       "      <td>-0.012293</td>\n",
       "      <td>2234.46</td>\n",
       "      <td>1876.96</td>\n",
       "      <td>2987.06</td>\n",
       "      <td>1876.96</td>\n",
       "      <td>3429.713389</td>\n",
       "      <td>2434.087500</td>\n",
       "      <td>2158.569667</td>\n",
       "    </tr>\n",
       "  </tbody>\n",
       "</table>\n",
       "</div>"
      ],
      "text/plain": [
       "               open    close  o_pct_chg  ROLLING_20_MAX  ROLLING_20_MIN  \\\n",
       "date                                                                      \n",
       "2008-09-23  2141.60  2123.48  -0.038939         2372.64         1876.96   \n",
       "2008-09-24  2072.65  2138.85  -0.032196         2372.64         1876.96   \n",
       "2008-09-25  2143.73  2223.53   0.034294         2372.64         1876.96   \n",
       "2008-09-26  2234.46  2243.66   0.042323         2372.64         1876.96   \n",
       "2008-10-06  2206.56  2128.70  -0.012486         2372.64         1876.96   \n",
       "2008-10-07  2043.92  2102.45  -0.073707         2292.69         1876.96   \n",
       "2008-10-08  2041.99  2022.88  -0.000944         2279.60         1876.96   \n",
       "2008-10-09  2059.58  1995.30   0.008614         2238.65         1876.96   \n",
       "2008-10-10  1913.27  1906.96  -0.071039         2234.46         1876.96   \n",
       "2008-10-13  1889.75  1985.49  -0.012293         2234.46         1876.96   \n",
       "\n",
       "            ROLLING_60_MAX  ROLLING_60_MIN        MA180         MA60  \\\n",
       "date                                                                   \n",
       "2008-09-23         2987.06         1876.96  3602.807111  2547.598000   \n",
       "2008-09-24         2987.06         1876.96  3584.600944  2535.488833   \n",
       "2008-09-25         2987.06         1876.96  3566.615278  2526.173833   \n",
       "2008-09-26         2987.06         1876.96  3548.858778  2519.173500   \n",
       "2008-10-06         2987.06         1876.96  3530.670556  2510.096000   \n",
       "2008-10-07         2987.06         1876.96  3511.048167  2498.367833   \n",
       "2008-10-08         2987.06         1876.96  3491.797444  2484.058167   \n",
       "2008-10-09         2987.06         1876.96  3471.952611  2469.601167   \n",
       "2008-10-10         2987.06         1876.96  3450.978778  2451.972667   \n",
       "2008-10-13         2987.06         1876.96  3429.713389  2434.087500   \n",
       "\n",
       "                   MA30  \n",
       "date                     \n",
       "2008-09-23  2262.171667  \n",
       "2008-09-24  2250.214000  \n",
       "2008-09-25  2240.755000  \n",
       "2008-09-26  2234.237667  \n",
       "2008-10-06  2226.443333  \n",
       "2008-10-07  2212.863667  \n",
       "2008-10-08  2204.746333  \n",
       "2008-10-09  2195.652667  \n",
       "2008-10-10  2176.286333  \n",
       "2008-10-13  2158.569667  "
      ]
     },
     "execution_count": 5,
     "metadata": {},
     "output_type": "execute_result"
    },
    {
     "data": {
      "text/html": [
       "<div>\n",
       "<style scoped>\n",
       "    .dataframe tbody tr th:only-of-type {\n",
       "        vertical-align: middle;\n",
       "    }\n",
       "\n",
       "    .dataframe tbody tr th {\n",
       "        vertical-align: top;\n",
       "    }\n",
       "\n",
       "    .dataframe thead th {\n",
       "        text-align: right;\n",
       "    }\n",
       "</style>\n",
       "<table border=\"1\" class=\"dataframe\">\n",
       "  <thead>\n",
       "    <tr style=\"text-align: right;\">\n",
       "      <th></th>\n",
       "      <th>open</th>\n",
       "      <th>close</th>\n",
       "      <th>o_pct_chg</th>\n",
       "      <th>ROLLING_20_MAX</th>\n",
       "      <th>ROLLING_20_MIN</th>\n",
       "      <th>ROLLING_60_MAX</th>\n",
       "      <th>ROLLING_60_MIN</th>\n",
       "      <th>MA180</th>\n",
       "      <th>MA60</th>\n",
       "      <th>MA30</th>\n",
       "    </tr>\n",
       "    <tr>\n",
       "      <th>date</th>\n",
       "      <th></th>\n",
       "      <th></th>\n",
       "      <th></th>\n",
       "      <th></th>\n",
       "      <th></th>\n",
       "      <th></th>\n",
       "      <th></th>\n",
       "      <th></th>\n",
       "      <th></th>\n",
       "      <th></th>\n",
       "    </tr>\n",
       "  </thead>\n",
       "  <tbody>\n",
       "    <tr>\n",
       "      <th>2018-07-19</th>\n",
       "      <td>3444.80</td>\n",
       "      <td>3428.34</td>\n",
       "      <td>-0.003417</td>\n",
       "      <td>3625.80</td>\n",
       "      <td>3347.06</td>\n",
       "      <td>3925.54</td>\n",
       "      <td>3347.06</td>\n",
       "      <td>3934.062667</td>\n",
       "      <td>3694.606333</td>\n",
       "      <td>3554.529667</td>\n",
       "    </tr>\n",
       "    <tr>\n",
       "      <th>2018-07-20</th>\n",
       "      <td>3426.46</td>\n",
       "      <td>3492.89</td>\n",
       "      <td>-0.005324</td>\n",
       "      <td>3625.80</td>\n",
       "      <td>3347.06</td>\n",
       "      <td>3925.54</td>\n",
       "      <td>3347.06</td>\n",
       "      <td>3930.987167</td>\n",
       "      <td>3688.882667</td>\n",
       "      <td>3540.513667</td>\n",
       "    </tr>\n",
       "    <tr>\n",
       "      <th>2018-07-23</th>\n",
       "      <td>3471.86</td>\n",
       "      <td>3525.75</td>\n",
       "      <td>0.013250</td>\n",
       "      <td>3525.13</td>\n",
       "      <td>3347.06</td>\n",
       "      <td>3925.54</td>\n",
       "      <td>3347.06</td>\n",
       "      <td>3928.094444</td>\n",
       "      <td>3683.003833</td>\n",
       "      <td>3528.927333</td>\n",
       "    </tr>\n",
       "    <tr>\n",
       "      <th>2018-07-24</th>\n",
       "      <td>3530.66</td>\n",
       "      <td>3581.71</td>\n",
       "      <td>0.016936</td>\n",
       "      <td>3530.66</td>\n",
       "      <td>3347.06</td>\n",
       "      <td>3925.54</td>\n",
       "      <td>3347.06</td>\n",
       "      <td>3925.363889</td>\n",
       "      <td>3678.125000</td>\n",
       "      <td>3520.942333</td>\n",
       "    </tr>\n",
       "    <tr>\n",
       "      <th>2018-07-25</th>\n",
       "      <td>3589.51</td>\n",
       "      <td>3577.75</td>\n",
       "      <td>0.016668</td>\n",
       "      <td>3589.51</td>\n",
       "      <td>3347.06</td>\n",
       "      <td>3925.54</td>\n",
       "      <td>3347.06</td>\n",
       "      <td>3923.109000</td>\n",
       "      <td>3675.099500</td>\n",
       "      <td>3514.486333</td>\n",
       "    </tr>\n",
       "    <tr>\n",
       "      <th>2018-07-26</th>\n",
       "      <td>3583.32</td>\n",
       "      <td>3536.25</td>\n",
       "      <td>-0.001724</td>\n",
       "      <td>3589.51</td>\n",
       "      <td>3347.06</td>\n",
       "      <td>3925.54</td>\n",
       "      <td>3347.06</td>\n",
       "      <td>3920.750167</td>\n",
       "      <td>3671.989333</td>\n",
       "      <td>3506.776333</td>\n",
       "    </tr>\n",
       "    <tr>\n",
       "      <th>2018-07-27</th>\n",
       "      <td>3533.77</td>\n",
       "      <td>3521.23</td>\n",
       "      <td>-0.013828</td>\n",
       "      <td>3589.51</td>\n",
       "      <td>3347.06</td>\n",
       "      <td>3925.54</td>\n",
       "      <td>3347.06</td>\n",
       "      <td>3918.192833</td>\n",
       "      <td>3668.282667</td>\n",
       "      <td>3498.747333</td>\n",
       "    </tr>\n",
       "    <tr>\n",
       "      <th>2018-07-30</th>\n",
       "      <td>3520.85</td>\n",
       "      <td>3515.08</td>\n",
       "      <td>-0.003656</td>\n",
       "      <td>3589.51</td>\n",
       "      <td>3347.06</td>\n",
       "      <td>3925.54</td>\n",
       "      <td>3347.06</td>\n",
       "      <td>3915.573389</td>\n",
       "      <td>3663.891500</td>\n",
       "      <td>3490.674333</td>\n",
       "    </tr>\n",
       "    <tr>\n",
       "      <th>2018-07-31</th>\n",
       "      <td>3510.47</td>\n",
       "      <td>3517.66</td>\n",
       "      <td>-0.002948</td>\n",
       "      <td>3589.51</td>\n",
       "      <td>3347.06</td>\n",
       "      <td>3925.54</td>\n",
       "      <td>3347.06</td>\n",
       "      <td>3912.913889</td>\n",
       "      <td>3659.357000</td>\n",
       "      <td>3484.267667</td>\n",
       "    </tr>\n",
       "    <tr>\n",
       "      <th>2018-08-01</th>\n",
       "      <td>3530.03</td>\n",
       "      <td>3447.39</td>\n",
       "      <td>0.005572</td>\n",
       "      <td>3589.51</td>\n",
       "      <td>3347.06</td>\n",
       "      <td>3925.54</td>\n",
       "      <td>3347.06</td>\n",
       "      <td>3910.178500</td>\n",
       "      <td>3654.280667</td>\n",
       "      <td>3481.850333</td>\n",
       "    </tr>\n",
       "  </tbody>\n",
       "</table>\n",
       "</div>"
      ],
      "text/plain": [
       "               open    close  o_pct_chg  ROLLING_20_MAX  ROLLING_20_MIN  \\\n",
       "date                                                                      \n",
       "2018-07-19  3444.80  3428.34  -0.003417         3625.80         3347.06   \n",
       "2018-07-20  3426.46  3492.89  -0.005324         3625.80         3347.06   \n",
       "2018-07-23  3471.86  3525.75   0.013250         3525.13         3347.06   \n",
       "2018-07-24  3530.66  3581.71   0.016936         3530.66         3347.06   \n",
       "2018-07-25  3589.51  3577.75   0.016668         3589.51         3347.06   \n",
       "2018-07-26  3583.32  3536.25  -0.001724         3589.51         3347.06   \n",
       "2018-07-27  3533.77  3521.23  -0.013828         3589.51         3347.06   \n",
       "2018-07-30  3520.85  3515.08  -0.003656         3589.51         3347.06   \n",
       "2018-07-31  3510.47  3517.66  -0.002948         3589.51         3347.06   \n",
       "2018-08-01  3530.03  3447.39   0.005572         3589.51         3347.06   \n",
       "\n",
       "            ROLLING_60_MAX  ROLLING_60_MIN        MA180         MA60  \\\n",
       "date                                                                   \n",
       "2018-07-19         3925.54         3347.06  3934.062667  3694.606333   \n",
       "2018-07-20         3925.54         3347.06  3930.987167  3688.882667   \n",
       "2018-07-23         3925.54         3347.06  3928.094444  3683.003833   \n",
       "2018-07-24         3925.54         3347.06  3925.363889  3678.125000   \n",
       "2018-07-25         3925.54         3347.06  3923.109000  3675.099500   \n",
       "2018-07-26         3925.54         3347.06  3920.750167  3671.989333   \n",
       "2018-07-27         3925.54         3347.06  3918.192833  3668.282667   \n",
       "2018-07-30         3925.54         3347.06  3915.573389  3663.891500   \n",
       "2018-07-31         3925.54         3347.06  3912.913889  3659.357000   \n",
       "2018-08-01         3925.54         3347.06  3910.178500  3654.280667   \n",
       "\n",
       "                   MA30  \n",
       "date                     \n",
       "2018-07-19  3554.529667  \n",
       "2018-07-20  3540.513667  \n",
       "2018-07-23  3528.927333  \n",
       "2018-07-24  3520.942333  \n",
       "2018-07-25  3514.486333  \n",
       "2018-07-26  3506.776333  \n",
       "2018-07-27  3498.747333  \n",
       "2018-07-30  3490.674333  \n",
       "2018-07-31  3484.267667  \n",
       "2018-08-01  3481.850333  "
      ]
     },
     "execution_count": 5,
     "metadata": {},
     "output_type": "execute_result"
    }
   ],
   "source": [
    "stock_df_dict['399300'].head(10)\n",
    "stock_df_dict['399300'].tail(10)"
   ]
  },
  {
   "cell_type": "code",
   "execution_count": 6,
   "metadata": {
    "scrolled": false
   },
   "outputs": [],
   "source": [
    "# %matplotlib inline\n",
    "\n",
    "# import matplotlib\n",
    "# import matplotlib.pyplot as plt\n",
    "# plt.rcParams['figure.figsize'] = [30, 20]\n",
    "\n",
    "# df = stock_df_dict['TSLA'].iloc[800:].copy()\n",
    "# df.columns\n",
    "# df.tail(10)\n",
    "# # df[(df.open == df.rolling_60_max)]\n",
    "# # df[(df.open >= df.rolling_60_max) & (df.MA30 > df.MA60)]\n",
    "# # df[(df.MA30 > df.MA60)]\n",
    "\n",
    "# # df = df.loc[:, ['open', 'ROLLING_60_MAX', 'rolling_30_min', 'MA60', 'MA30']]\n",
    "\n",
    "# df.reset_index(drop=False, inplace=True)\n",
    "# df = df.astype(dtype={'date': 'datetime64[ns]'})\n",
    "# df.set_index('date', inplace=True)\n",
    "# # df.index.astype()\n",
    "\n",
    "# display_charts(df, chart_type='stock', kind='line', y=['open', 'ROLLING_60_MAX', 'ROLLING_60_MIN'], figsize=(900, 600), logy=False)\n",
    "\n",
    "# # display_charts(df)\n",
    "\n",
    "# # ax = df.plot(kind='line', y=['open', 'rolling_max', 'rolling_min'], label='', linewidth=1)\n",
    "\n",
    "# # sum_buy_sig_short = 0\n",
    "# # sum_buy_sig_long = 0\n",
    "# # for symbol in NASDAQ100:\n",
    "# #     tdf = stock_df_dict[symbol]\n",
    "# #     buy_sig_short = tdf[(stock_df_dict[symbol].open == stock_df_dict[symbol]['ROLLING_%d_MAX' % TURTLE_SHORT_BUY_N])]\n",
    "# #     buy_sig_long = tdf[(stock_df_dict[symbol].open == stock_df_dict[symbol]['ROLLING_%d_MAX' % TURTLE_LONG_BUY_N])]\n",
    "# #     buy_sig_short_2 = buy_sig_short[buy_sig_short.MA30 >= buy_sig_short.MA180]\n",
    "# #     buy_sig_long_2 = buy_sig_long[buy_sig_long.MA30 >= buy_sig_long.MA180]\n",
    "# # #     print(symbol, len(tdf), len(buy_sig_short), len(buy_sig_short_2), len(buy_sig_long), len(buy_sig_long_2))\n",
    "# #     sum_buy_sig_short += len(buy_sig_short_2)\n",
    "# #     sum_buy_sig_long += len(buy_sig_long_2)\n",
    "# # print(len(stock_df_dict['NDX']), sum_buy_sig_short, sum_buy_sig_long)"
   ]
  },
  {
   "cell_type": "code",
   "execution_count": 7,
   "metadata": {
    "scrolled": false
   },
   "outputs": [],
   "source": [
    "# algo = stock_df_dict['TSLA'].open.pct_change()\n",
    "# benchmark = stock_df_dict['NDX'].open.pct_change()\n",
    "\n",
    "# 'cum_returns', emp.cum_returns(algo)[-1]\n",
    "# 'max_drawdown', emp.max_drawdown(algo), emp.max_drawdown(benchmark)\n",
    "# 'annual_return', emp.annual_return(algo), emp.annual_return(benchmark)\n",
    "# 'annual_volatility', emp.annual_volatility(algo, period='daily')\n",
    "# 'calmar_ratio', emp.calmar_ratio(algo)\n",
    "# 'sharpe_ratio', emp.sharpe_ratio(returns=algo)\n",
    "# 'alpha', emp.alpha(returns=algo, factor_returns=benchmark, risk_free=0.00)\n",
    "# 'beta', emp.beta(returns=algo, factor_returns=benchmark, risk_free=0.00)\n",
    "\n",
    "# emp_df = None\n",
    "# emp_df = pd.DataFrame(columns=[\n",
    "#     'symbol', 'cum_returns', 'annual_return', 'annual_volatility', 'max_drawdown', 'alpha', 'beta', 'sharpe_ratio', 'calmar_ratio'\n",
    "# ])\n",
    "\n",
    "# for symbol in NASDAQ100:\n",
    "#     algo = stock_df_dict[symbol].open.pct_change()\n",
    "#     emp_df = emp_df.append(\n",
    "#         {\n",
    "#             'symbol': symbol,\n",
    "#             'cum_returns': emp.cum_returns(algo)[-1],\n",
    "#             'annual_return': emp.annual_return(algo),\n",
    "#             'annual_volatility': emp.annual_volatility(algo, period='daily'),\n",
    "#             'max_drawdown': emp.max_drawdown(algo),\n",
    "#             'alpha': round(emp.alpha(returns=algo, factor_returns=benchmark, risk_free=0.00), 2),\n",
    "#             'beta': round(emp.beta(returns=algo, factor_returns=benchmark, risk_free=0.00), 2),\n",
    "#             'sharpe_ratio': emp.sharpe_ratio(returns=algo),\n",
    "#             'calmar_ratio': emp.calmar_ratio(algo)\n",
    "#         },\n",
    "#         ignore_index=True,\n",
    "#     )\n",
    "\n",
    "# # emp_df\n",
    "# # emp_df.sort_values('cum_returns', ascending=False)\n",
    "# # emp_df.sort_values('sharpe_ratio', ascending=False)"
   ]
  },
  {
   "cell_type": "code",
   "execution_count": 8,
   "metadata": {},
   "outputs": [
    {
     "name": "stdout",
     "output_type": "stream",
     "text": [
      "Wall time: 500 µs\n"
     ]
    }
   ],
   "source": [
    "%%time\n",
    "\n",
    "show_df = None\n",
    "show_df = stock_df_dict['399300'].copy()"
   ]
  },
  {
   "cell_type": "code",
   "execution_count": 9,
   "metadata": {
    "scrolled": false
   },
   "outputs": [
    {
     "data": {
      "text/plain": [
       "'剔除上一年跑不赢HS300指数的股票'"
      ]
     },
     "execution_count": 9,
     "metadata": {},
     "output_type": "execute_result"
    },
    {
     "data": {
      "text/plain": [
       "(3858.1399999999999, 3302.5999999999999)"
      ]
     },
     "execution_count": 9,
     "metadata": {},
     "output_type": "execute_result"
    },
    {
     "data": {
      "text/plain": [
       "('benchmark_return_lastyear', 0.85600833562286494)"
      ]
     },
     "execution_count": 9,
     "metadata": {},
     "output_type": "execute_result"
    },
    {
     "name": "stdout",
     "output_type": "stream",
     "text": [
      "600008 0.782201405152\n",
      "600010 0.740177909563\n",
      "600011 0.831304347826\n",
      "600018 0.777403846154\n",
      "600023 0.733616149795\n",
      "600029 0.795523432035\n",
      "600030 0.781156080946\n",
      "600061 0.656887864036\n",
      "600085 0.76308913677\n",
      "600089 0.766442210128\n",
      "600100 0.771960806654\n",
      "600109 0.784434422233\n",
      "600111 0.843739244166\n",
      "600118 0.725153975364\n",
      "600157 0.853939782191\n",
      "600170 0.739723320158\n",
      "600176 0.845945597525\n",
      "600177 0.844614095522\n",
      "600208 0.83474663909\n",
      "600221 0.812468063362\n",
      "600271 0.427773343974\n",
      "600297 0.596628131021\n",
      "600332 0.753462603878\n",
      "600339 0.77970858068\n",
      "600340 0.743483643946\n",
      "600352 0.727265177311\n",
      "600369 0.705581157194\n",
      "600372 0.740679868516\n",
      "600373 0.800663091973\n",
      "600383 0.845908922621\n",
      "600398 0.772558714462\n",
      "600482 0.681098466106\n",
      "600516 0.718513646827\n",
      "600570 0.75966720396\n",
      "600583 0.830908466033\n",
      "600588 0.684523046691\n",
      "600606 0.4956666052\n",
      "600637 0.599884131248\n",
      "600663 0.827969139651\n",
      "600674 0.793147332354\n",
      "600703 0.800063959066\n",
      "600704 0.717561584743\n",
      "600705 0.743923828614\n",
      "600739 0.658431516937\n",
      "600795 0.813066154268\n",
      "600886 0.781609195402\n",
      "600893 0.646187756738\n",
      "600958 0.621243480421\n",
      "600999 0.71398812162\n",
      "601006 0.828813777149\n",
      "601018 0.407235313641\n",
      "601021 0.640194746776\n",
      "601111 0.828169347209\n",
      "601198 0.643766233766\n",
      "601216 0.787402933563\n",
      "601336 0.793924966322\n",
      "601360 0.724826768213\n",
      "601377 0.653762125317\n",
      "601390 0.800797182054\n",
      "601555 0.817063061914\n",
      "601600 0.80879541109\n",
      "601618 0.746627179993\n",
      "601628 0.816137984333\n",
      "601688 0.841680753441\n",
      "601718 0.778002699055\n",
      "601727 0.420205855901\n",
      "601766 0.771692861821\n",
      "601788 0.66880777744\n",
      "601808 0.784593437946\n",
      "601866 0.559065934066\n",
      "601877 0.786329386437\n",
      "601888 0.721590115873\n",
      "601901 0.752267065272\n",
      "601919 0.483425414365\n",
      "601989 0.695525291829\n",
      "601991 0.770623742455\n",
      "603288 0.826126283847\n",
      "603993 0.694302479652\n",
      "000060 0.731502128522\n",
      "000063 0.854244239383\n",
      "000069 0.746372736475\n",
      "000100 0.627747529744\n",
      "000157 0.84935712915\n",
      "000166 0.82932857339\n",
      "000402 0.791755449926\n",
      "000425 0.784626201078\n",
      "000540 0.676174496644\n",
      "000559 0.62182049945\n",
      "000627 0.741150009779\n",
      "000630 0.837874659401\n",
      "000671 0.592928965294\n",
      "000728 0.770181120307\n",
      "000776 0.8218663998\n",
      "000783 0.815484196369\n",
      "000792 0.737566504742\n",
      "000839 0.850246948094\n",
      "000876 0.704355268163\n",
      "000938 0.584283535478\n",
      "002008 0.850330572232\n",
      "002024 0.840835539865\n",
      "002027 0.603433803892\n",
      "002065 0.589821101145\n",
      "002074 0.823364485981\n",
      "002081 0.786496500618\n",
      "002146 0.775204806117\n",
      "002153 0.637109334441\n",
      "002202 0.72132152209\n",
      "002230 0.804885715569\n",
      "002241 0.786085088609\n",
      "002385 0.839199614272\n",
      "002470 0.849087177271\n",
      "002500 0.744423676012\n",
      "002555 0.597109271034\n",
      "002594 0.792382267022\n",
      "002625 0.683343216504\n",
      "002673 0.597795127836\n",
      "002736 0.78214692778\n",
      "300017 0.850360605626\n",
      "300024 0.653605450566\n",
      "300027 0.512804849396\n",
      "300059 0.523762642084\n",
      "300070 0.814594645198\n",
      "300144 0.664988543583\n",
      "300251 0.749668667654\n",
      "300408 0.854672412853\n",
      "176\n"
     ]
    }
   ],
   "source": [
    "'''剔除上一年跑不赢HS300指数的股票'''\n",
    "\n",
    "# HS300\n",
    "\n",
    "s_p = stock_df_dict['399300'][:start_date].iloc[-250].open\n",
    "e_p = stock_df_dict['399300'][:start_date].iloc[-1].open\n",
    "benchmark_return_lastyear = e_p / s_p\n",
    "s_p, e_p\n",
    "'benchmark_return_lastyear', benchmark_return_lastyear\n",
    "\n",
    "# s_p = stock_df_dict['399300'][start_date:].iloc[0].open\n",
    "# e_p = stock_df_dict['399300'][:end_date].iloc[-1].open\n",
    "# benchmark_return = e_p / s_p\n",
    "# 'benchmark_return', benchmark_return\n",
    "\n",
    "\n",
    "# stock_df_dict['000540']\n",
    "# stock_df_dict['000540'].index[-1] > stock_df_dict['000540'].index[-2]\n",
    "# stock_df_dict['000540'].index[-1].strftime('%Y-%m-%d')\n",
    "# '2017-08-18' < start_date\n",
    "\n",
    "for symbol, stock_df in stock_df_dict.items():\n",
    "#     print(symbol)\n",
    "    if len(stock_df) == 0:\n",
    "        continue\n",
    "    if stock_df.index[-1].strftime('%Y-%m-%d') < start_date:\n",
    "        continue\n",
    "#     print(stock_df[start_date:].iloc[0].open,)\n",
    "    try:\n",
    "        return_lastyear = stock_df[:start_date].iloc[-1].open / stock_df[:start_date].iloc[-250].open\n",
    "        if return_lastyear < benchmark_return_lastyear:\n",
    "            HS300.remove(symbol)\n",
    "            print(symbol, return_lastyear)\n",
    "    except:\n",
    "#         HS300.remove(symbol)\n",
    "        pass\n",
    "\n",
    "print(len(HS300))"
   ]
  },
  {
   "cell_type": "code",
   "execution_count": 10,
   "metadata": {
    "scrolled": false
   },
   "outputs": [
    {
     "name": "stdout",
     "output_type": "stream",
     "text": [
      "CASH 165829.641\n",
      "HAPPY_MONEY 0\n",
      "PROPERTY 165829.641\n",
      "BENCHMARK 3313.95 3530.03 1.06520315635\n",
      "Wall time: 49.6 s\n"
     ]
    }
   ],
   "source": [
    "%%time\n",
    "# %xmode\n",
    "\n",
    "PROPERTY = START_MONEY\n",
    "CASH = START_MONEY\n",
    "\n",
    "order_df = None\n",
    "order_df = pd.DataFrame(columns=[\n",
    "    'buy_date', 'symbol', 'buy_count', 'buy_price', 'buy_reason', 'sell_date', 'sell_price', 'sell_reason', 'profit', 'cash', 'property'\n",
    "])\n",
    "count_day = 0\n",
    "yesterday = None\n",
    "miss_buy_short = 0\n",
    "miss_buy_long = 0\n",
    "\n",
    "for today in pd.period_range(start=start_date, end=end_date, freq='D'):\n",
    "    count_day += 1\n",
    "    \n",
    "    if yesterday is None:\n",
    "        yesterday = today\n",
    "        continue\n",
    "\n",
    "    if today not in stock_df_dict['399300'].index:\n",
    "        continue\n",
    "            \n",
    "    # 突破下行趋势，清仓退出\n",
    "    order_arr = order_df.to_records(index=False)\n",
    "    if len(order_arr[(order_arr.buy_count > 0) & (order_arr.sell_price == 0)] ) != 0:\n",
    "        is_sell = False\n",
    "        for idx in order_df[(order_df['buy_count'] > 0) & (order_df['sell_price'] == 0)].index:\n",
    "            cur_order = order_df.loc[idx]\n",
    "            symbol = cur_order['symbol']\n",
    "            if today not in stock_df_dict[symbol].index or yesterday not in stock_df_dict[symbol].index:\n",
    "                continue\n",
    "            today_market = stock_df_dict[symbol].loc[today]\n",
    "            if cur_order.buy_reason == 'SHORT':\n",
    "                is_sell = (today_market.open <= today_market['ROLLING_%d_MIN' % TURTLE_SHORT_SELL_N])\n",
    "            if cur_order.buy_reason == 'LONG':\n",
    "                is_sell = (today_market.open <= today_market['ROLLING_%d_MIN' % TURTLE_LONG_SELL_N])\n",
    "            if is_sell:\n",
    "                CASH += cur_order.buy_count * today_market.open\n",
    "                order_df.loc[idx, 'sell_date'] = today\n",
    "                order_df.loc[idx, 'sell_price'] = today_market.open\n",
    "                order_df.loc[idx, 'sell_reason'] = 'EXIT'\n",
    "                order_df.loc[idx, 'profit'] = \\\n",
    "                    (today_market.open - cur_order.buy_price) * cur_order.buy_count\n",
    "#                 print(today, '退出', stock_df_dict[symbol].loc[today, 'open'], CASH)\n",
    "\n",
    "    if IS_HAPPYMONEY:        \n",
    "        if PROPERTY > START_MONEY * 2 and CASH > START_MONEY:\n",
    "            HAPPY_MONEY += START_MONEY\n",
    "            PROPERTY -= START_MONEY\n",
    "            CASH -= START_MONEY\n",
    "    \n",
    "    # 买卖过程\n",
    "    for symbol in HS300[:]:\n",
    "#     for symbol in ['TSLA']:\n",
    "        if symbol in ['ALGN', 'ROST', 'ORLY', 'ESRX', 'ULTA', 'REGN', 'MNST']:\n",
    "#             continue\n",
    "            pass\n",
    "\n",
    "        if symbol == '399300':\n",
    "            continue\n",
    "        \n",
    "        if today not in stock_df_dict[symbol].index or yesterday not in stock_df_dict[symbol].index:\n",
    "            continue\n",
    "            \n",
    "        # TIME TEST\n",
    "#         print(order_df)\n",
    "#         print(order_df.columns)\n",
    "        \n",
    "#         %timeit (len(order_df[order_df['symbol'] == symbol]) != 0)\n",
    "#         %timeit order_df[order_df['symbol'] == symbol].shape[0] != 0\n",
    "#         %timeit n_order_df = order_df.values\n",
    "#         %timeit len(n_order_df[n_order_df[:, 1] == symbol]) != 0\n",
    "#         %timeit (len(order_df[(order_df['symbol'] == symbol) & (order_df['sell_price'] == 0)]) == 0)\n",
    "\n",
    "\n",
    "#         iiidx = stock_df_dict[symbol].index.get_loc(today)\n",
    "#         print(iiidx, type(iiidx))\n",
    "#         %timeit stock_df_dict[symbol].loc[today]\n",
    "#         %timeit n_stock_df = stock_df_dict[symbol].values\n",
    "#         %timeit n_stock_df[iiidx]\n",
    "        \n",
    "#         %timeit (stock_df_dict[symbol].loc[today, 'open'] >= stock_df_dict[symbol].loc[today, 'rolling_max'])\n",
    "#         %timeit (stock_df_dict[symbol].loc[today, 'open'] >= stock_df_dict[symbol].loc[today, 'rolling_max'])\n",
    "\n",
    "#         %timeit int(stock_df_dict[symbol].shift(1).loc[today, 'Unit'])\n",
    "#         %timeit int(CASH / stock_df_dict[symbol].loc[today, 'open'])\n",
    "#         %timeit buy_count * stock_df_dict[symbol].loc[today, 'open']\n",
    "#         %timeit stock_df_dict[symbol]\n",
    "#         %timeit stock_df_dict[symbol].loc[today, 'open']\n",
    "#         %timeit (stock_df_dict[symbol].loc[today, 'open'] > order_df[(order_df['symbol'] == symbol) & (order_df['sell_price'] == 0)].buy_price.iloc[-1] + 0.5 * stock_df_dict[symbol].shift(1).loc[today, 'N'])\n",
    "        \n",
    "#         n_order_df = order_df.values\n",
    "#         n_stock_df = stock_df_dict[symbol].values\n",
    "#         today_idx = stock_df_dict[symbol].index.get_loc(today)\n",
    "#         is_has_order = (len(n_order_df[n_order_df[:, 1] == symbol]) != 0)\n",
    "#         is_order_soldout = not is_has_order and (len(n_order_df[n_order_df[:, 6] == symbol]) == 0)\n",
    "        \n",
    "#         is_has_order = (len(order_df[order_df['symbol'] == symbol]) != 0)\n",
    "#         is_order_soldout = (len(order_df[(order_df['symbol'] == symbol) & (order_df['sell_price'] == 0)]) == 0)\n",
    "        \n",
    "    \n",
    "#         '''\n",
    "#         'buy_date', 'symbol', 'buy_count', 'buy_price', 'buy_reason', 'sell_date', 'sell_price', 'sell_reason', 'profit', 'cash', 'property'\n",
    "#         stock_df['ROLLING_%d_MAX' % TURTLE_SHORT_BUY_N] = stock_df['open'].rolling(TURTLE_SHORT_BUY_N).max()\n",
    "#         stock_df['ROLLING_%d_MIN' % TURTLE_SHORT_SELL_N] = stock_df['open'].rolling(TURTLE_SHORT_SELL_N).min()\n",
    "#         stock_df['ROLLING_%d_MAX' % TURTLE_LONG_BUY_N] = stock_df['open'].rolling(TURTLE_LONG_BUY_N).max()\n",
    "#         stock_df['ROLLING_%d_MIN' % TURTLE_LONG_SELL_N] = stock_df['open'].rolling(TURTLE_LONG_SELL_N).min()\n",
    "#         '''\n",
    "\n",
    "        today_market = stock_df_dict[symbol].loc[today]\n",
    "\n",
    "        # 突破上行趋势，就买一份\n",
    "        order_arr = order_df.to_records(index=False)\n",
    "        if today_market.MA60 >= today_market.MA180:\n",
    "#         if today_market.MA30 >= today_market.MA180:\n",
    "            is_buy = False\n",
    "            if today_market.open >= today_market['ROLLING_%d_MAX' % TURTLE_LONG_BUY_N]:\n",
    "                is_buy = True\n",
    "                buy_reason = 'LONG'\n",
    "            elif False and today_market.open >= today_market['ROLLING_%d_MAX' % TURTLE_SHORT_BUY_N]:\n",
    "                is_buy = True\n",
    "                buy_reason = 'SHORT'\n",
    "            if is_buy:\n",
    "                buy_count = 0\n",
    "                \n",
    "                if IS_SLIPPAGE:\n",
    "                    buy_price = today_market.open * (1 + random.randint(0, 20) / 1000)\n",
    "                else:\n",
    "                    buy_price = today_market.open\n",
    "\n",
    "                if CASH >= START_MONEY / TURTLE_POS:\n",
    "                    buy_count = int((START_MONEY / TURTLE_POS) / buy_price)\n",
    "                \n",
    "                if IS_RANDOM_BUY:\n",
    "                    if random.randint(0, 100) > 50:\n",
    "                        buy_count = 0\n",
    "\n",
    "                if buy_count > 0:\n",
    "#                     buy_count = 1\n",
    "                    CASH -= buy_count * buy_price\n",
    "#                     print(today, '建仓', buy_count, stock_df_dict[symbol].loc[today, 'open'], CASH)\n",
    "                    order_df = order_df.append(\n",
    "                        {\n",
    "                            'buy_date': today,\n",
    "                            'symbol': symbol,\n",
    "                            'buy_count': buy_count,\n",
    "                            'buy_price': today_market.open,\n",
    "                            'buy_reason': buy_reason,\n",
    "                            'sell_date': pd.np.nan,\n",
    "                            'sell_price': 0,\n",
    "                            'profit': 0,\n",
    "                            'cash': CASH,\n",
    "                            'property': PROPERTY,\n",
    "                        },\n",
    "                        ignore_index=True\n",
    "                    )\n",
    "                else:\n",
    "                    if buy_reason == 'LONG':\n",
    "                        miss_buy_long += 1\n",
    "                    elif buy_reason == 'SHORT':\n",
    "                        miss_buy_short += 1\n",
    "            \n",
    "    # 每天盘点财产\n",
    "    show_df.loc[today, 'CASH_TURTLE_%d_%d_%d' % (TURTLE_POS, TURTLE_LONG_BUY_N, TURTLE_LONG_SELL_N)] = CASH\n",
    "    PROPERTY = CASH + \\\n",
    "        sum(\n",
    "            [\n",
    "                stock_df_dict[order_df.loc[idx, 'symbol']][:today].iloc[-1].open * order_df.loc[idx, 'buy_count'] \\\n",
    "                for idx in order_df.loc[order_df['sell_price']==0].index\n",
    "            ]\n",
    "        )\n",
    "    show_df.loc[today, 'PROPERTY_TURTLE_%d_%d_%d' % (TURTLE_POS, TURTLE_LONG_BUY_N, TURTLE_LONG_SELL_N)] = PROPERTY\n",
    "\n",
    "    yesterday = today\n",
    "\n",
    "\n",
    "    \n",
    "# 最后一天，清仓\n",
    "order_arr = order_df.to_records(index=False)\n",
    "for idx in order_df[order_df['sell_price'] == 0].index:\n",
    "    cur_order = order_df.loc[idx]\n",
    "    symbol = cur_order['symbol']\n",
    "    today_market = stock_df_dict[symbol][:today].iloc[-1]\n",
    "    CASH += cur_order.buy_count * today_market.open\n",
    "    order_df.loc[idx, 'sell_date'] = today\n",
    "    order_df.loc[idx, 'sell_price'] = today_market.open\n",
    "    order_df.loc[idx, 'sell_reason'] = 'EXIT'\n",
    "    order_df.loc[idx, 'profit'] = \\\n",
    "        (today_market.open - cur_order.buy_price) * cur_order.buy_count\n",
    "\n",
    "\n",
    "print('CASH', CASH)\n",
    "print('HAPPY_MONEY', HAPPY_MONEY)\n",
    "print('PROPERTY', PROPERTY)\n",
    "\n",
    "s_p = stock_df_dict['399300'][start_date:].iloc[0].open\n",
    "e_p = stock_df_dict['399300'][:end_date].iloc[-1].open\n",
    "print('BENCHMARK', s_p, e_p, e_p / s_p)\n"
   ]
  },
  {
   "cell_type": "code",
   "execution_count": 11,
   "metadata": {
    "scrolled": false
   },
   "outputs": [
    {
     "data": {
      "text/plain": [
       "'ALL'"
      ]
     },
     "execution_count": 11,
     "metadata": {},
     "output_type": "execute_result"
    },
    {
     "data": {
      "text/plain": [
       "('start_date', '2017-01-01')"
      ]
     },
     "execution_count": 11,
     "metadata": {},
     "output_type": "execute_result"
    },
    {
     "data": {
      "text/plain": [
       "('end_date', '2018-08-01')"
      ]
     },
     "execution_count": 11,
     "metadata": {},
     "output_type": "execute_result"
    },
    {
     "data": {
      "text/plain": [
       "('TURTLE_POS', 20)"
      ]
     },
     "execution_count": 11,
     "metadata": {},
     "output_type": "execute_result"
    },
    {
     "data": {
      "text/plain": [
       "('TURTLE_SHORT_BUY_N', 20)"
      ]
     },
     "execution_count": 11,
     "metadata": {},
     "output_type": "execute_result"
    },
    {
     "data": {
      "text/plain": [
       "('TURTLE_SHORT_SELL_N', 20)"
      ]
     },
     "execution_count": 11,
     "metadata": {},
     "output_type": "execute_result"
    },
    {
     "data": {
      "text/plain": [
       "('TURTLE_LONG_BUY_N', 60)"
      ]
     },
     "execution_count": 11,
     "metadata": {},
     "output_type": "execute_result"
    },
    {
     "data": {
      "text/plain": [
       "('TURTLE_LONG_SELL_N', 60)"
      ]
     },
     "execution_count": 11,
     "metadata": {},
     "output_type": "execute_result"
    },
    {
     "data": {
      "text/plain": [
       "('IS_HAPPYMONEY', True)"
      ]
     },
     "execution_count": 11,
     "metadata": {},
     "output_type": "execute_result"
    },
    {
     "data": {
      "text/plain": [
       "('IS_TAX', False)"
      ]
     },
     "execution_count": 11,
     "metadata": {},
     "output_type": "execute_result"
    },
    {
     "data": {
      "text/plain": [
       "('IS_SLIPPAGE', False)"
      ]
     },
     "execution_count": 11,
     "metadata": {},
     "output_type": "execute_result"
    },
    {
     "data": {
      "text/plain": [
       "('IS_RANDOM_BUY', True)"
      ]
     },
     "execution_count": 11,
     "metadata": {},
     "output_type": "execute_result"
    },
    {
     "data": {
      "text/plain": [
       "('START_MONEY', 100000)"
      ]
     },
     "execution_count": 11,
     "metadata": {},
     "output_type": "execute_result"
    },
    {
     "data": {
      "text/plain": [
       "('len(order_df)', 64)"
      ]
     },
     "execution_count": 11,
     "metadata": {},
     "output_type": "execute_result"
    },
    {
     "data": {
      "text/plain": [
       "('sum_profit', 65829.641000000018)"
      ]
     },
     "execution_count": 11,
     "metadata": {},
     "output_type": "execute_result"
    },
    {
     "data": {
      "text/plain": [
       "('sum_tax', 0)"
      ]
     },
     "execution_count": 11,
     "metadata": {},
     "output_type": "execute_result"
    },
    {
     "data": {
      "text/plain": [
       "('win_rate', 0.5079365079365079)"
      ]
     },
     "execution_count": 11,
     "metadata": {},
     "output_type": "execute_result"
    },
    {
     "data": {
      "text/plain": [
       "('annual_return', 1.3763028022028974)"
      ]
     },
     "execution_count": 11,
     "metadata": {},
     "output_type": "execute_result"
    },
    {
     "data": {
      "text/plain": [
       "('len(order_df[order_df.profit != 0])', 63)"
      ]
     },
     "execution_count": 11,
     "metadata": {},
     "output_type": "execute_result"
    },
    {
     "data": {
      "text/plain": [
       "('len(order_df[order_df.profit > 0])', 32)"
      ]
     },
     "execution_count": 11,
     "metadata": {},
     "output_type": "execute_result"
    },
    {
     "data": {
      "text/plain": [
       "('order LONG', 64)"
      ]
     },
     "execution_count": 11,
     "metadata": {},
     "output_type": "execute_result"
    },
    {
     "data": {
      "text/plain": [
       "32"
      ]
     },
     "execution_count": 11,
     "metadata": {},
     "output_type": "execute_result"
    },
    {
     "data": {
      "text/plain": [
       "65829.641000000018"
      ]
     },
     "execution_count": 11,
     "metadata": {},
     "output_type": "execute_result"
    },
    {
     "data": {
      "text/plain": [
       "('order SHORT', 0)"
      ]
     },
     "execution_count": 11,
     "metadata": {},
     "output_type": "execute_result"
    },
    {
     "data": {
      "text/plain": [
       "0"
      ]
     },
     "execution_count": 11,
     "metadata": {},
     "output_type": "execute_result"
    },
    {
     "data": {
      "text/plain": [
       "0"
      ]
     },
     "execution_count": 11,
     "metadata": {},
     "output_type": "execute_result"
    },
    {
     "data": {
      "text/plain": [
       "('cum_returns', 0.65829640999999883, 0.065203156354200154)"
      ]
     },
     "execution_count": 11,
     "metadata": {},
     "output_type": "execute_result"
    },
    {
     "data": {
      "text/plain": [
       "('max_drawdown', -0.13475017776277706, -0.23747622139447916)"
      ]
     },
     "execution_count": 11,
     "metadata": {},
     "output_type": "execute_result"
    },
    {
     "data": {
      "text/plain": [
       "('annual_return', 0.39125386743593205, 0.042099684425607631)"
      ]
     },
     "execution_count": 11,
     "metadata": {},
     "output_type": "execute_result"
    },
    {
     "data": {
      "text/plain": [
       "('annual_volatility', 0.2021766063884817)"
      ]
     },
     "execution_count": 11,
     "metadata": {},
     "output_type": "execute_result"
    },
    {
     "data": {
      "text/plain": [
       "('calmar_ratio', 2.9035499168299479)"
      ]
     },
     "execution_count": 11,
     "metadata": {},
     "output_type": "execute_result"
    },
    {
     "data": {
      "text/plain": [
       "('sharpe_ratio', 1.7395000523890667)"
      ]
     },
     "execution_count": 11,
     "metadata": {},
     "output_type": "execute_result"
    },
    {
     "data": {
      "text/plain": [
       "('alpha', 0.30097970909956784)"
      ]
     },
     "execution_count": 11,
     "metadata": {},
     "output_type": "execute_result"
    },
    {
     "data": {
      "text/plain": [
       "('beta', 0.9751894087252074)"
      ]
     },
     "execution_count": 11,
     "metadata": {},
     "output_type": "execute_result"
    },
    {
     "data": {
      "text/plain": [
       "('ALL DAY', 386)"
      ]
     },
     "execution_count": 11,
     "metadata": {},
     "output_type": "execute_result"
    },
    {
     "data": {
      "text/plain": [
       "'CASH_TURTLE_20_60_60'"
      ]
     },
     "execution_count": 11,
     "metadata": {},
     "output_type": "execute_result"
    },
    {
     "data": {
      "text/plain": [
       "'PROPERTY_TURTLE_20_60_60'"
      ]
     },
     "execution_count": 11,
     "metadata": {},
     "output_type": "execute_result"
    },
    {
     "data": {
      "text/plain": [
       "('CASH NOT USED DAY', 51)"
      ]
     },
     "execution_count": 11,
     "metadata": {},
     "output_type": "execute_result"
    },
    {
     "data": {
      "text/plain": [
       "('MISS_BUY_SIGNAL_LONG', 3461)"
      ]
     },
     "execution_count": 11,
     "metadata": {},
     "output_type": "execute_result"
    },
    {
     "data": {
      "text/plain": [
       "('MISS_BUY_SIGNAL_SHORT', 0)"
      ]
     },
     "execution_count": 11,
     "metadata": {},
     "output_type": "execute_result"
    }
   ],
   "source": [
    "'ALL'\n",
    "'start_date', start_date\n",
    "'end_date', end_date\n",
    "'TURTLE_POS', TURTLE_POS\n",
    "'TURTLE_SHORT_BUY_N', TURTLE_SHORT_BUY_N\n",
    "'TURTLE_SHORT_SELL_N', TURTLE_SHORT_SELL_N\n",
    "'TURTLE_LONG_BUY_N', TURTLE_LONG_BUY_N\n",
    "'TURTLE_LONG_SELL_N', TURTLE_LONG_SELL_N\n",
    "'IS_HAPPYMONEY', IS_HAPPYMONEY\n",
    "'IS_TAX', IS_TAX\n",
    "'IS_SLIPPAGE', IS_SLIPPAGE\n",
    "'IS_RANDOM_BUY', IS_RANDOM_BUY\n",
    "'START_MONEY', START_MONEY\n",
    "\n",
    "'len(order_df)', len(order_df)\n",
    "sum_profit = sum(list(order_df['profit']))\n",
    "'sum_profit', sum_profit\n",
    "# sum_tax = sum(list(order_df_TB['tax']))\n",
    "sum_tax = 0\n",
    "'sum_tax', sum_tax\n",
    "'win_rate', len(order_df[order_df.profit > 0]) / len(order_df[order_df.profit != 0])\n",
    "'annual_return', ((sum_profit - sum_tax) / START_MONEY + 1) ** (365 / count_day)\n",
    "'len(order_df[order_df.profit != 0])', len(order_df[order_df.profit != 0])\n",
    "'len(order_df[order_df.profit > 0])', len(order_df[order_df.profit > 0])\n",
    "'order LONG', len(order_df[order_df.buy_reason == 'LONG'])\n",
    "len(order_df[(order_df.buy_reason == 'LONG') & (order_df.profit > 0)])\n",
    "sum(list(order_df[order_df.buy_reason == 'LONG']['profit']))\n",
    "'order SHORT', len(order_df[order_df.buy_reason == 'SHORT'])\n",
    "len(order_df[(order_df.buy_reason == 'SHORT') & (order_df.profit > 0)])\n",
    "sum(list(order_df[order_df.buy_reason == 'SHORT']['profit']))\n",
    "\n",
    "# order_df\n",
    "# order_df.loc[order_df['sell_price']==0]\n",
    "\n",
    "calc_df = order_df.copy()\n",
    "calc_df['profit_pct'] = calc_df['profit'] / (calc_df['buy_count'] * calc_df['buy_price'])\n",
    "# calc_df[calc_df.symbol == 'BIDU']\n",
    "# calc_df[calc_df.profit > 0]\n",
    "# calc_df\n",
    "\n",
    "# order_df[order_df.profit > 0]\n",
    "\n",
    "# csv_file = 'E:/Dev/result/T_TURTLE_POS%d_TURTLE_BUY_N%d_TURTLE_SELL_N%d_START_MONEY%d_%s_%s.csv' % \\\n",
    "#     (TURTLE_POS, TURTLE_BUY_N, TURTLE_SELL_N, START_MONEY, start_date, end_date)\n",
    "# calc_df.to_csv(csv_file)\n",
    "\n",
    "# list(show_df.dropna(how='any', inplace=False).PROPERTY_TURTLE_20_60_60.apply(int).tail(50))\n",
    "# list(show_df.open.apply(int).tail(50))\n",
    "\n",
    "df = show_df.dropna(how='any', inplace=False).copy()\n",
    "algo = df['PROPERTY_TURTLE_%d_%d_%d' % (TURTLE_POS, TURTLE_LONG_BUY_N, TURTLE_LONG_SELL_N)].pct_change()\n",
    "benchmark = df.open.pct_change()\n",
    "\n",
    "'cum_returns', emp.cum_returns(algo)[-1], emp.cum_returns(benchmark)[-1]\n",
    "'max_drawdown', emp.max_drawdown(algo), emp.max_drawdown(benchmark)\n",
    "'annual_return', emp.annual_return(algo), emp.annual_return(benchmark)\n",
    "'annual_volatility', emp.annual_volatility(algo, period='daily')\n",
    "'calmar_ratio', emp.calmar_ratio(algo)\n",
    "'sharpe_ratio', emp.sharpe_ratio(returns=algo)\n",
    "'alpha', emp.alpha(returns=algo, factor_returns=benchmark, risk_free=0.00)\n",
    "'beta', emp.beta(returns=algo, factor_returns=benchmark, risk_free=0.00)\n",
    "\n",
    "'ALL DAY', len(df)\n",
    "'CASH_TURTLE_%d_%d_%d' % (TURTLE_POS, TURTLE_LONG_BUY_N, TURTLE_LONG_SELL_N)\n",
    "'PROPERTY_TURTLE_%d_%d_%d' % (TURTLE_POS, TURTLE_LONG_BUY_N, TURTLE_LONG_SELL_N)\n",
    "'CASH NOT USED DAY', \\\n",
    "    len(df[df['CASH_TURTLE_%d_%d_%d' % (TURTLE_POS, TURTLE_LONG_BUY_N, TURTLE_LONG_SELL_N)] > \\\n",
    "           df['PROPERTY_TURTLE_%d_%d_%d' % (TURTLE_POS, TURTLE_LONG_BUY_N, TURTLE_LONG_SELL_N)] / TURTLE_POS])\n",
    "'MISS_BUY_SIGNAL_LONG', miss_buy_long\n",
    "'MISS_BUY_SIGNAL_SHORT', miss_buy_short"
   ]
  },
  {
   "cell_type": "code",
   "execution_count": 12,
   "metadata": {
    "scrolled": false
   },
   "outputs": [
    {
     "data": {
      "text/html": [
       "<div>\n",
       "<style scoped>\n",
       "    .dataframe tbody tr th:only-of-type {\n",
       "        vertical-align: middle;\n",
       "    }\n",
       "\n",
       "    .dataframe tbody tr th {\n",
       "        vertical-align: top;\n",
       "    }\n",
       "\n",
       "    .dataframe thead th {\n",
       "        text-align: right;\n",
       "    }\n",
       "</style>\n",
       "<table border=\"1\" class=\"dataframe\">\n",
       "  <thead>\n",
       "    <tr style=\"text-align: right;\">\n",
       "      <th></th>\n",
       "      <th>pro_pct</th>\n",
       "    </tr>\n",
       "    <tr>\n",
       "      <th>symbol</th>\n",
       "      <th></th>\n",
       "    </tr>\n",
       "  </thead>\n",
       "  <tbody>\n",
       "    <tr>\n",
       "      <th>600309</th>\n",
       "      <td>6.461308</td>\n",
       "    </tr>\n",
       "    <tr>\n",
       "      <th>600519</th>\n",
       "      <td>2.074601</td>\n",
       "    </tr>\n",
       "    <tr>\n",
       "      <th>600009</th>\n",
       "      <td>1.080780</td>\n",
       "    </tr>\n",
       "    <tr>\n",
       "      <th>600276</th>\n",
       "      <td>1.007616</td>\n",
       "    </tr>\n",
       "    <tr>\n",
       "      <th>002415</th>\n",
       "      <td>0.768576</td>\n",
       "    </tr>\n",
       "    <tr>\n",
       "      <th>600436</th>\n",
       "      <td>0.555823</td>\n",
       "    </tr>\n",
       "    <tr>\n",
       "      <th>600887</th>\n",
       "      <td>0.512501</td>\n",
       "    </tr>\n",
       "    <tr>\n",
       "      <th>002050</th>\n",
       "      <td>0.426922</td>\n",
       "    </tr>\n",
       "    <tr>\n",
       "      <th>600487</th>\n",
       "      <td>0.391937</td>\n",
       "    </tr>\n",
       "    <tr>\n",
       "      <th>600741</th>\n",
       "      <td>0.345446</td>\n",
       "    </tr>\n",
       "    <tr>\n",
       "      <th>300136</th>\n",
       "      <td>0.316285</td>\n",
       "    </tr>\n",
       "    <tr>\n",
       "      <th>601398</th>\n",
       "      <td>0.295475</td>\n",
       "    </tr>\n",
       "    <tr>\n",
       "      <th>000725</th>\n",
       "      <td>0.234462</td>\n",
       "    </tr>\n",
       "    <tr>\n",
       "      <th>600585</th>\n",
       "      <td>0.224380</td>\n",
       "    </tr>\n",
       "    <tr>\n",
       "      <th>600346</th>\n",
       "      <td>0.217060</td>\n",
       "    </tr>\n",
       "    <tr>\n",
       "      <th>300015</th>\n",
       "      <td>0.182119</td>\n",
       "    </tr>\n",
       "    <tr>\n",
       "      <th>000651</th>\n",
       "      <td>0.156598</td>\n",
       "    </tr>\n",
       "    <tr>\n",
       "      <th>600438</th>\n",
       "      <td>0.131727</td>\n",
       "    </tr>\n",
       "    <tr>\n",
       "      <th>300124</th>\n",
       "      <td>0.040391</td>\n",
       "    </tr>\n",
       "    <tr>\n",
       "      <th>000963</th>\n",
       "      <td>0.029230</td>\n",
       "    </tr>\n",
       "  </tbody>\n",
       "</table>\n",
       "</div>"
      ],
      "text/plain": [
       "         pro_pct\n",
       "symbol          \n",
       "600309  6.461308\n",
       "600519  2.074601\n",
       "600009  1.080780\n",
       "600276  1.007616\n",
       "002415  0.768576\n",
       "600436  0.555823\n",
       "600887  0.512501\n",
       "002050  0.426922\n",
       "600487  0.391937\n",
       "600741  0.345446\n",
       "300136  0.316285\n",
       "601398  0.295475\n",
       "000725  0.234462\n",
       "600585  0.224380\n",
       "600346  0.217060\n",
       "300015  0.182119\n",
       "000651  0.156598\n",
       "600438  0.131727\n",
       "300124  0.040391\n",
       "000963  0.029230"
      ]
     },
     "execution_count": 12,
     "metadata": {},
     "output_type": "execute_result"
    }
   ],
   "source": [
    "df = order_df.copy()\n",
    "df.drop(columns=['sell_reason'], inplace=True)\n",
    "df['pro_pct'] = (df.sell_price - df.buy_price) / df.buy_price\n",
    "# df.sell_date.dtypes\n",
    "# df.loc[1].sell_date\n",
    "# df.loc[1].sell_date.to_timestamp()\n",
    "\n",
    "# df = df.astype(dtype={'sell_date': 'datetime64[ns]', 'buy_date': 'datetime64[ns]', 'cash':'int'})\n",
    "df = df.astype(dtype={'cash': 'int', 'profit': 'float64'})\n",
    "# df.loc[1].sell_date\n",
    "\n",
    "# type(df[1].sell_date)\n",
    "df['h_days'] = (df.sell_date - df.buy_date)\n",
    "# df.loc[1].h_days\n",
    "# type(df.loc[1].h_days)\n",
    "\n",
    "df['h_days'] = df['h_days'].apply(lambda x: 1 if x == 0 else x)\n",
    "# df.loc[1].h_days\n",
    "\n",
    "df['per_d'] = df.pro_pct / df.h_days * 365\n",
    "# df['per_d'] = df.apply(lambda x: x.pro_pct / x.h_days)\n",
    "\n",
    "# df\n",
    "# df.sort_values(by='pro_pct', ascending=False)\n",
    "# df.sort_values(by='per_d', ascending=False)\n",
    "\n",
    "df = df.loc[:, ['symbol', 'pro_pct']]\n",
    "df = df.groupby(by='symbol').sum()\n",
    "df.sort_values(by='pro_pct', ascending=False).head(20)"
   ]
  },
  {
   "cell_type": "code",
   "execution_count": 13,
   "metadata": {
    "scrolled": false
   },
   "outputs": [
    {
     "data": {
      "text/plain": [
       "'选股，计算哪些股票跑不赢指数'"
      ]
     },
     "execution_count": 13,
     "metadata": {},
     "output_type": "execute_result"
    },
    {
     "data": {
      "text/plain": [
       "(3858.1399999999999, 3302.5999999999999)"
      ]
     },
     "execution_count": 13,
     "metadata": {},
     "output_type": "execute_result"
    },
    {
     "data": {
      "text/plain": [
       "('benchmark_return_lastyear', 0.85600833562286494)"
      ]
     },
     "execution_count": 13,
     "metadata": {},
     "output_type": "execute_result"
    },
    {
     "data": {
      "text/plain": [
       "('benchmark_return', 1.0652031563541997)"
      ]
     },
     "execution_count": 13,
     "metadata": {},
     "output_type": "execute_result"
    },
    {
     "data": {
      "text/html": [
       "<div>\n",
       "<style scoped>\n",
       "    .dataframe tbody tr th:only-of-type {\n",
       "        vertical-align: middle;\n",
       "    }\n",
       "\n",
       "    .dataframe tbody tr th {\n",
       "        vertical-align: top;\n",
       "    }\n",
       "\n",
       "    .dataframe thead th {\n",
       "        text-align: right;\n",
       "    }\n",
       "</style>\n",
       "<table border=\"1\" class=\"dataframe\">\n",
       "  <thead>\n",
       "    <tr style=\"text-align: right;\">\n",
       "      <th></th>\n",
       "      <th>symbol</th>\n",
       "      <th>return</th>\n",
       "      <th>return_lastyear</th>\n",
       "    </tr>\n",
       "  </thead>\n",
       "  <tbody>\n",
       "    <tr>\n",
       "      <th>147</th>\n",
       "      <td>601888</td>\n",
       "      <td>3.400897</td>\n",
       "      <td>0.721590</td>\n",
       "    </tr>\n",
       "    <tr>\n",
       "      <th>43</th>\n",
       "      <td>600309</td>\n",
       "      <td>3.021719</td>\n",
       "      <td>1.168903</td>\n",
       "    </tr>\n",
       "    <tr>\n",
       "      <th>65</th>\n",
       "      <td>600516</td>\n",
       "      <td>2.923554</td>\n",
       "      <td>0.718514</td>\n",
       "    </tr>\n",
       "    <tr>\n",
       "      <th>161</th>\n",
       "      <td>603799</td>\n",
       "      <td>2.739548</td>\n",
       "      <td>1.217106</td>\n",
       "    </tr>\n",
       "    <tr>\n",
       "      <th>59</th>\n",
       "      <td>600436</td>\n",
       "      <td>2.573195</td>\n",
       "      <td>0.958622</td>\n",
       "    </tr>\n",
       "    <tr>\n",
       "      <th>257</th>\n",
       "      <td>300015</td>\n",
       "      <td>2.549496</td>\n",
       "      <td>0.929994</td>\n",
       "    </tr>\n",
       "    <tr>\n",
       "      <th>160</th>\n",
       "      <td>603288</td>\n",
       "      <td>2.489830</td>\n",
       "      <td>0.826126</td>\n",
       "    </tr>\n",
       "    <tr>\n",
       "      <th>91</th>\n",
       "      <td>600809</td>\n",
       "      <td>2.451966</td>\n",
       "      <td>1.283322</td>\n",
       "    </tr>\n",
       "    <tr>\n",
       "      <th>74</th>\n",
       "      <td>600585</td>\n",
       "      <td>2.449975</td>\n",
       "      <td>0.985319</td>\n",
       "    </tr>\n",
       "    <tr>\n",
       "      <th>41</th>\n",
       "      <td>600276</td>\n",
       "      <td>2.406539</td>\n",
       "      <td>1.085581</td>\n",
       "    </tr>\n",
       "  </tbody>\n",
       "</table>\n",
       "</div>"
      ],
      "text/plain": [
       "     symbol    return  return_lastyear\n",
       "147  601888  3.400897         0.721590\n",
       "43   600309  3.021719         1.168903\n",
       "65   600516  2.923554         0.718514\n",
       "161  603799  2.739548         1.217106\n",
       "59   600436  2.573195         0.958622\n",
       "257  300015  2.549496         0.929994\n",
       "160  603288  2.489830         0.826126\n",
       "91   600809  2.451966         1.283322\n",
       "74   600585  2.449975         0.985319\n",
       "41   600276  2.406539         1.085581"
      ]
     },
     "execution_count": 13,
     "metadata": {},
     "output_type": "execute_result"
    },
    {
     "data": {
      "text/plain": [
       "('len(loser_symbol)', 126)"
      ]
     },
     "execution_count": 13,
     "metadata": {},
     "output_type": "execute_result"
    },
    {
     "data": {
      "text/plain": [
       "('len(order_df)', 64)"
      ]
     },
     "execution_count": 13,
     "metadata": {},
     "output_type": "execute_result"
    },
    {
     "data": {
      "text/plain": [
       "('len(is_winner == 0)', 0)"
      ]
     },
     "execution_count": 13,
     "metadata": {},
     "output_type": "execute_result"
    },
    {
     "data": {
      "text/plain": [
       "('len(is_winner == 0 & profit < 0)', 0)"
      ]
     },
     "execution_count": 13,
     "metadata": {},
     "output_type": "execute_result"
    },
    {
     "data": {
      "text/plain": [
       "nan"
      ]
     },
     "execution_count": 13,
     "metadata": {},
     "output_type": "execute_result"
    },
    {
     "data": {
      "text/plain": [
       "('len(is_winner == 1)', 64)"
      ]
     },
     "execution_count": 13,
     "metadata": {},
     "output_type": "execute_result"
    },
    {
     "data": {
      "text/plain": [
       "('len(is_winner == 1 & profit < 0)', 31)"
      ]
     },
     "execution_count": 13,
     "metadata": {},
     "output_type": "execute_result"
    },
    {
     "data": {
      "text/plain": [
       "65831"
      ]
     },
     "execution_count": 13,
     "metadata": {},
     "output_type": "execute_result"
    },
    {
     "data": {
      "text/html": [
       "<div>\n",
       "<style scoped>\n",
       "    .dataframe tbody tr th:only-of-type {\n",
       "        vertical-align: middle;\n",
       "    }\n",
       "\n",
       "    .dataframe tbody tr th {\n",
       "        vertical-align: top;\n",
       "    }\n",
       "\n",
       "    .dataframe thead th {\n",
       "        text-align: right;\n",
       "    }\n",
       "</style>\n",
       "<table border=\"1\" class=\"dataframe\">\n",
       "  <thead>\n",
       "    <tr style=\"text-align: right;\">\n",
       "      <th></th>\n",
       "      <th>buy_date</th>\n",
       "      <th>symbol</th>\n",
       "      <th>buy_count</th>\n",
       "      <th>buy_price</th>\n",
       "      <th>buy_reason</th>\n",
       "      <th>sell_date</th>\n",
       "      <th>sell_price</th>\n",
       "      <th>sell_reason</th>\n",
       "      <th>profit</th>\n",
       "      <th>cash</th>\n",
       "      <th>property</th>\n",
       "      <th>is_winner</th>\n",
       "    </tr>\n",
       "  </thead>\n",
       "  <tbody>\n",
       "  </tbody>\n",
       "</table>\n",
       "</div>"
      ],
      "text/plain": [
       "Empty DataFrame\n",
       "Columns: [buy_date, symbol, buy_count, buy_price, buy_reason, sell_date, sell_price, sell_reason, profit, cash, property, is_winner]\n",
       "Index: []"
      ]
     },
     "execution_count": 13,
     "metadata": {},
     "output_type": "execute_result"
    }
   ],
   "source": [
    "# %%time\n",
    "\n",
    "'''选股，计算哪些股票跑不赢指数'''\n",
    "\n",
    "df = None\n",
    "df = pd.DataFrame(columns=[\n",
    "    'symbol', 'return'\n",
    "])\n",
    "\n",
    "s_p = stock_df_dict['399300'][:start_date].iloc[-250].open\n",
    "e_p = stock_df_dict['399300'][:start_date].iloc[-1].open\n",
    "benchmark_return_lastyear = e_p / s_p\n",
    "s_p, e_p\n",
    "'benchmark_return_lastyear', benchmark_return_lastyear\n",
    "\n",
    "s_p = stock_df_dict['399300'][start_date:].iloc[0].open\n",
    "e_p = stock_df_dict['399300'][:end_date].iloc[-1].open\n",
    "benchmark_return = e_p / s_p\n",
    "'benchmark_return', benchmark_return\n",
    "\n",
    "\n",
    "# stock_df_dict['000540']\n",
    "# stock_df_dict['000540'].index[-1] > stock_df_dict['000540'].index[-2]\n",
    "# stock_df_dict['000540'].index[-1].strftime('%Y-%m-%d')\n",
    "# '2017-08-18' < start_date\n",
    "\n",
    "for symbol, stock_df in stock_df_dict.items():\n",
    "#     print(symbol)\n",
    "    if len(stock_df) == 0:\n",
    "        continue\n",
    "    if stock_df.index[-1].strftime('%Y-%m-%d') < start_date:\n",
    "        continue\n",
    "#     print(stock_df[start_date:].iloc[0].open,)\n",
    "    try:\n",
    "        df = df.append(\n",
    "            {\n",
    "                'symbol': symbol,\n",
    "                'return': stock_df[:end_date].iloc[-1].open / stock_df[start_date:].iloc[0].open,\n",
    "                'return_lastyear': stock_df[:start_date].iloc[-1].open / stock_df[:start_date].iloc[-250].open,\n",
    "            },\n",
    "            ignore_index = True\n",
    "        )\n",
    "    except:\n",
    "        pass\n",
    "\n",
    "df.sort_values(by=['return'], ascending=False).head(10)\n",
    "# df[df['return'] >= benchmark_return]\n",
    "\n",
    "\n",
    "loser_symbol = df[df['return'] <= benchmark_return].copy()\n",
    "winner_symbol = df[df['return'] > benchmark_return].copy()\n",
    "loser_symbol = df[df['return_lastyear'] <= benchmark_return_lastyear].copy()\n",
    "winner_symbol = df[df['return_lastyear'] > benchmark_return_lastyear].copy()\n",
    "winner_symbol_list = list(winner_symbol.symbol)\n",
    "'len(loser_symbol)', len(loser_symbol)\n",
    "\n",
    "\n",
    "df = order_df.copy()\n",
    "df = df.astype(dtype={'cash': 'int', 'profit': 'int'})\n",
    "df['is_winner'] = 0\n",
    "df['is_winner'] = df['symbol'].apply(lambda x: 1 if x in winner_symbol_list else 0)\n",
    "\n",
    "'len(order_df)', len(order_df)\n",
    "'len(is_winner == 0)', len(df[df['is_winner'] == 0])\n",
    "'len(is_winner == 0 & profit < 0)', len(df[(df.is_winner == 0) & (df.profit < 0)])\n",
    "df[(df.is_winner == 0)].profit.sum()\n",
    "'len(is_winner == 1)', len(df[df['is_winner'] == 1])\n",
    "'len(is_winner == 1 & profit < 0)', len(df[(df.is_winner == 1) & (df.profit < 0)])\n",
    "df[(df.is_winner == 1)].profit.sum()\n",
    "\n",
    "df[df['is_winner'] == 0]"
   ]
  },
  {
   "cell_type": "code",
   "execution_count": 14,
   "metadata": {
    "scrolled": false
   },
   "outputs": [],
   "source": [
    "# %matplotlib inline\n",
    "\n",
    "# import sys\n",
    "# import matplotlib\n",
    "# import matplotlib.pyplot as plt\n",
    "# plt.rcParams['figure.figsize'] = [15, 10]\n",
    "\n",
    "# # order_df_TB\n",
    "# bar_df = order_df.copy()\n",
    "# df = bar_df.sort_values(by=['profit'])\n",
    "# # df\n",
    "\n",
    "# bins = [100 * x for x in range(-200, 500)]\n",
    "# # bins\n",
    "\n",
    "# cats = pd.cut(df['profit'], bins)\n",
    "# # cats\n",
    "\n",
    "# def get_stats(group):\n",
    "#     return {'count': group.count()}\n",
    "\n",
    "# grouped = df['profit'].groupby(cats)\n",
    "# bin_counts = grouped.apply(get_stats).unstack()\n",
    "# bin_counts.reset_index(inplace=True, drop=False)\n",
    "# bin_counts['profit'] = bin_counts['profit'].apply(str)\n",
    "# # bin_counts\n",
    "\n",
    "# # df['profit'].hist(bins=10)\n",
    "\n",
    "# # bin_counts.plot(kind='barh', alpha=0.5, rot=0)\n",
    "\n",
    "# # display_charts(bin_counts, kind='bar', x='profit', figsize=(900, 600), logy=True)"
   ]
  },
  {
   "cell_type": "code",
   "execution_count": 15,
   "metadata": {
    "scrolled": false
   },
   "outputs": [
    {
     "data": {
      "text/plain": [
       "Index(['open', 'close', 'o_pct_chg', 'ROLLING_20_MAX', 'ROLLING_20_MIN',\n",
       "       'ROLLING_60_MAX', 'ROLLING_60_MIN', 'MA180', 'MA60', 'MA30',\n",
       "       'CASH_TURTLE_20_60_60', 'PROPERTY_TURTLE_20_60_60'],\n",
       "      dtype='object')"
      ]
     },
     "execution_count": 15,
     "metadata": {},
     "output_type": "execute_result"
    },
    {
     "data": {
      "image/png": "[encoded data removed]",
      "text/plain": [
       "<matplotlib.figure.Figure at 0x1240ffb0>"
      ]
     },
     "metadata": {},
     "output_type": "display_data"
    }
   ],
   "source": [
    "%matplotlib inline\n",
    "\n",
    "import matplotlib\n",
    "import matplotlib.pyplot as plt\n",
    "plt.rcParams['figure.figsize'] = [15, 10]\n",
    "\n",
    "df = show_df.dropna(how='any', inplace=False).copy()\n",
    "# df.drop(columns=['open', 'high', 'low', 'o_pct_chg', 'TR', 'N'], inplace=True)\n",
    "df.columns\n",
    "\n",
    "df['close'] = (df['close'] - df.iloc[0]['close']) / df.iloc[0]['close']\n",
    "ax = df.plot(kind='line', y='close', label='BENCHMARK_%.2f' % df.iloc[-1]['close'], linewidth=1, grid=True)\n",
    "for col in sorted(df.columns):\n",
    "    if 'PROPERTY' in col:\n",
    "        df[col] = (df[col] - df.iloc[1][col]) / df.iloc[0][col]\n",
    "        ax = df.plot(kind='line', y=col, secondary_y=False, label='%s_%.2f' % (col, df.iloc[-1][col]), linewidth=1, grid=True, ax=ax)\n",
    "\n",
    "# display_charts(df, kind='line', figsize=(900, 600), logy=False)"
   ]
  },
  {
   "cell_type": "code",
   "execution_count": 16,
   "metadata": {},
   "outputs": [
    {
     "data": {
      "text/plain": [
       "Index(['open', 'close', 'o_pct_chg', 'ROLLING_20_MAX', 'ROLLING_20_MIN',\n",
       "       'ROLLING_60_MAX', 'ROLLING_60_MIN', 'MA180', 'MA60', 'MA30',\n",
       "       'CASH_TURTLE_20_60_60', 'PROPERTY_TURTLE_20_60_60'],\n",
       "      dtype='object')"
      ]
     },
     "execution_count": 16,
     "metadata": {},
     "output_type": "execute_result"
    },
    {
     "data": {
      "text/html": [
       "<div id=\"chart_idrobxLlnc\"</div>\n",
       "    <script type=\"text/javascript\">new Highcharts.StockChart({\"chart\":{\"renderTo\":\"chart_idrobxLlnc\",\"width\":900,\"height\":600},\"legend\":{\"enabled\":true},\"series\":[{\"name\":\"CASH_TURTLE_20_60_60\",\"yAxis\":0,\"data\":[[1483401600000,1.0],[1483488000000,0.90012519],[1483574400000,0.65262083],[1483660800000,0.55306711],[1483920000000,0.45317248],[1484006400000,0.303319],[1484092800000,0.20384344],[1484179200000,0.20384344],[1484265600000,0.20384344],[1484524800000,0.20384344],[1484611200000,0.1039859],[1484697600000,0.05400534],[1484784000000,0.00402464],[1484870400000,0.00402464],[1485129600000,0.00402464],[1485216000000,0.00402464],[1485302400000,0.00402464],[1485388800000,0.00402464],[1486080000000,0.00402464],[1486339200000,0.00402464],[1486425600000,0.00402464],[1486512000000,0.00402464],[1486598400000,0.00402464],[1486684800000,0.00402464],[1486944000000,0.00402464],[1487030400000,0.00402464],[1487116800000,0.00402464],[1487203200000,0.00402464],[1487289600000,0.00402464],[1487548800000,0.00402464],[1487635200000,0.00402464],[1487721600000,0.00402464],[1487808000000,0.00402464],[1487894400000,0.00402464],[1488153600000,0.00402464],[1488240000000,0.00402464],[1488326400000,0.00402464],[1488412800000,0.00402464],[1488499200000,0.00402464],[1488758400000,0.00402464],[1488844800000,0.00402464],[1488931200000,0.00402464],[1489017600000,0.00402464],[1489104000000,0.00402464],[1489363200000,0.00402464],[1489449600000,0.00402464],[1489536000000,0.00402464],[1489622400000,0.00402464],[1489708800000,0.00402464],[1489968000000,0.00402464],[1490054400000,0.00402464],[1490140800000,0.04978094],[1490227200000,0.04978094],[1490313600000,0.08453646],[1490572800000,0.03463288],[1490659200000,0.03463288],[1490745600000,0.03463288],[1490832000000,0.03463288],[1490918400000,0.02581677],[1491350400000,0.02581677],[1491436800000,0.02581677],[1491523200000,0.02581677],[1491782400000,0.02581677],[1491868800000,0.02581677],[1491955200000,0.02581677],[1492041600000,0.02581677],[1492128000000,0.02581677],[1492387200000,0.02581677],[1492473600000,0.02581677],[1492560000000,0.02581677],[1492646400000,0.01662939],[1492732800000,0.01662939],[1492992000000,0.01662939],[1493078400000,0.00241338],[1493164800000,0.00241338],[1493251200000,0.00241338],[1493337600000,0.00241338],[1493683200000,0.00241338],[1493769600000,0.00241338],[1493856000000,0.00241338],[1493942400000,0.00241338],[1494201600000,0.00241338],[1494288000000,0.04734748],[1494374400000,0.04734748],[1494460800000,0.04734748],[1494547200000,0.04734748],[1494806400000,0.04734748],[1494892800000,0.04734748],[1494979200000,0.04734748],[1495065600000,0.04734748],[1495152000000,0.04734748],[1495411200000,0.04734748],[1495497600000,0.04734748],[1495584000000,0.04734748],[1495670400000,0.04734748],[1495756800000,0.04734748],[1496188800000,0.04734748],[1496275200000,0.04734748],[1496361600000,0.04734748],[1496620800000,0.04734748],[1496707200000,0.04734748],[1496793600000,0.04734748],[1496880000000,0.04734748],[1496966400000,0.04734748],[1497225600000,0.04734748],[1497312000000,0.04734748],[1497398400000,0.04734748],[1497484800000,0.04734748],[1497571200000,0.04734748],[1497830400000,0.04734748],[1497916800000,0.04734748],[1498003200000,0.04734748],[1498089600000,0.04734748],[1498176000000,0.04734748],[1498435200000,0.04734748],[1498521600000,0.04734748],[1498608000000,0.04734748],[1498694400000,0.04734748],[1498780800000,0.04734748],[1499040000000,0.04734748],[1499126400000,0.04734748],[1499212800000,0.04734748],[1499299200000,0.04734748],[1499385600000,0.04734748],[1499644800000,0.04734748],[1499731200000,0.04498015],[1499817600000,0.04498015],[1499904000000,0.04498015],[1499990400000,0.04498015],[1500249600000,0.04498015],[1500336000000,0.04498015],[1500422400000,0.04498015],[1500508800000,0.04498015],[1500595200000,0.04498015],[1500854400000,0.04498015],[1500940800000,0.04498015],[1501027200000,0.04498015],[1501113600000,0.04498015],[1501200000000,0.04498015],[1501459200000,0.04498015],[1501545600000,0.04498015],[1501632000000,0.04498015],[1501718400000,0.04498015],[1501804800000,0.04498015],[1502064000000,0.04498015],[1502150400000,0.04498015],[1502236800000,0.00893571],[1502323200000,0.00893571],[1502409600000,0.00893571],[1502668800000,0.00893571],[1502755200000,0.00893571],[1502841600000,0.00893571],[1502928000000,0.00893571],[1503014400000,0.00893571],[1503273600000,0.00893571],[1503360000000,0.00893571],[1503446400000,0.00893571],[1503532800000,0.00893571],[1503619200000,0.00893571],[1503878400000,0.00893571],[1503964800000,0.00893571],[1504051200000,0.00893571],[1504137600000,0.00893571],[1504224000000,0.00893571],[1504483200000,0.00893571],[1504569600000,0.00893571],[1504656000000,0.00893571],[1504742400000,0.00893571],[1504828800000,0.00893571],[1505088000000,0.00893571],[1505174400000,0.00893571],[1505260800000,0.01663439],[1505347200000,0.01663439],[1505433600000,0.01663439],[1505692800000,0.01663439],[1505779200000,0.01663439],[1505865600000,0.01663439],[1505952000000,0.01663439],[1506038400000,0.01663439],[1506297600000,0.01663439],[1506384000000,0.01663439],[1506470400000,0.01663439],[1506556800000,0.01663439],[1506643200000,0.01663439],[1507507200000,0.01663439],[1507593600000,0.01663439],[1507680000000,0.01663439],[1507766400000,0.01663439],[1507852800000,0.01663439],[1508112000000,0.01663439],[1508198400000,0.01663439],[1508284800000,0.01663439],[1508371200000,0.01663439],[1508457600000,0.01663439],[1508716800000,0.01663439],[1508803200000,0.01663439],[1508889600000,0.01663439],[1508976000000,0.01663439],[1509062400000,0.01663439],[1509321600000,0.01663439],[1509408000000,0.01663439],[1509494400000,0.01663439],[1509580800000,0.01663439],[1509667200000,0.01663439],[1509926400000,0.01663439],[1510012800000,0.01663439],[1510099200000,0.01663439],[1510185600000,0.01663439],[1510272000000,0.01663439],[1510531200000,0.01663439],[1510617600000,0.01663439],[1510704000000,0.01663439],[1510790400000,0.01663439],[1510876800000,0.01663439],[1511136000000,0.01663439],[1511222400000,0.01663439],[1511308800000,0.01663439],[1511395200000,0.01663439],[1511481600000,0.01663439],[1511740800000,0.01663439],[1511827200000,0.01663439],[1511913600000,0.01663439],[1512000000000,0.01663439],[1512086400000,0.01663439],[1512345600000,0.01663439],[1512432000000,0.01663439],[1512518400000,0.01663439],[1512604800000,0.01663439],[1512691200000,0.01663439],[1512950400000,0.01663439],[1513036800000,0.01663439],[1513123200000,0.01663439],[1513209600000,0.01663439],[1513296000000,0.01663439],[1513555200000,0.01663439],[1513641600000,0.01663439],[1513728000000,0.01663439],[1513814400000,0.01663439],[1513900800000,0.01663439],[1514160000000,0.01663439],[1514246400000,0.01663439],[1514332800000,0.01663439],[1514419200000,0.01663439],[1514505600000,0.01663439],[1514851200000,0.01663439],[1514937600000,0.01663439],[1515024000000,0.01663439],[1515110400000,0.01663439],[1515369600000,0.01663439],[1515456000000,0.01663439],[1515542400000,0.01663439],[1515628800000,0.01663439],[1515715200000,0.03223751],[1515974400000,0.03223751],[1516060800000,0.03223751],[1516147200000,0.03223751],[1516233600000,0.03223751],[1516320000000,0.03223751],[1516579200000,0.03223751],[1516665600000,0.03223751],[1516752000000,0.03223751],[1516838400000,0.03223751],[1516924800000,0.03223751],[1517184000000,0.03223751],[1517270400000,0.00165244],[1517356800000,0.00165244],[1517443200000,0.00165244],[1517529600000,0.00165244],[1517788800000,0.00165244],[1517875200000,0.00816876],[1517961600000,0.00816876],[1518048000000,0.09638696],[1518134400000,0.09638696],[1518393600000,0.16359654],[1518480000000,0.16359654],[1518566400000,0.16359654],[1519257600000,0.11359785],[1519344000000,0.11359785],[1519603200000,0.06367362],[1519689600000,0.01375542],[1519776000000,0.01375542],[1519862400000,0.01375542],[1519948800000,0.01375542],[1520208000000,0.01375542],[1520294400000,0.01375542],[1520380800000,0.01375542],[1520467200000,0.01375542],[1520553600000,0.01375542],[1520812800000,0.01375542],[1520899200000,0.01375542],[1520985600000,0.01375542],[1521072000000,0.01375542],[1521158400000,0.01375542],[1521417600000,0.01375542],[1521504000000,0.00224436],[1521590400000,0.00224436],[1521676800000,0.00224436],[1521763200000,0.12073256],[1522022400000,0.16386612],[1522108800000,0.06470641],[1522195200000,0.13568006],[1522281600000,0.13568006],[1522368000000,0.20695649],[1522627200000,0.39850754],[1522713600000,0.39850754],[1522800000000,0.2988173],[1523232000000,0.2988173],[1523318400000,0.2988173],[1523404800000,0.24916344],[1523491200000,0.24916344],[1523577600000,0.05022518],[1523836800000,0.05022518],[1523923200000,0.00057446],[1524009600000,0.00057446],[1524096000000,0.00057446],[1524182400000,0.00057446],[1524441600000,0.00057446],[1524528000000,0.00057446],[1524614400000,0.00057446],[1524700800000,0.00057446],[1524787200000,0.00057446],[1525219200000,0.00057446],[1525305600000,0.00057446],[1525392000000,0.00057446],[1525651200000,0.00057446],[1525737600000,0.00057446],[1525824000000,0.00057446],[1525910400000,0.00057446],[1525996800000,0.00057446],[1526256000000,0.00057446],[1526342400000,0.00057446],[1526428800000,0.00057446],[1526515200000,0.00057446],[1526601600000,0.00057446],[1526860800000,0.00057446],[1526947200000,0.00057446],[1527033600000,0.00057446],[1527120000000,0.00057446],[1527206400000,0.00057446],[1527465600000,0.00057446],[1527552000000,0.00057446],[1527638400000,0.00057446],[1527724800000,0.00057446],[1527811200000,0.00057446],[1528070400000,0.00057446],[1528156800000,0.04257601],[1528243200000,0.04257601],[1528329600000,0.04257601],[1528416000000,0.04257601],[1528675200000,0.04257601],[1528761600000,0.04257601],[1528848000000,0.04257601],[1528934400000,0.04257601],[1529020800000,0.04257601],[1529366400000,0.04257601],[1529452800000,0.04257601],[1529539200000,0.04257601],[1529625600000,0.05355191],[1529884800000,0.05355191],[1529971200000,0.05355191],[1530057600000,0.05355191],[1530144000000,0.13703831],[1530230400000,0.13703831],[1530489600000,0.13703831],[1530576000000,0.13703831],[1530662400000,0.13703831],[1530748800000,0.13703831],[1530835200000,0.18905651],[1531094400000,0.18905651],[1531180800000,0.18905651],[1531267200000,0.18905651],[1531353600000,0.18905651],[1531440000000,0.18905651],[1531699200000,0.13945651],[1531785600000,0.04095291],[1531872000000,0.04095291],[1531958400000,0.04095291],[1532044800000,0.04095291],[1532304000000,0.08878641],[1532390400000,0.03909291],[1532476800000,0.03909291],[1532563200000,0.03909291],[1532649600000,0.03909291],[1532908800000,0.13939491],[1532995200000,0.18853171],[1533081600000,0.13877311]]},{\"name\":\"PROPERTY_TURTLE_20_60_60\",\"yAxis\":0,\"data\":[[1483401600000,0.0],[1483488000000,0.0],[1483574400000,0.0023924],[1483660800000,0.00642207],[1483920000000,0.00317019],[1484006400000,0.00704655],[1484092800000,-0.00225552],[1484179200000,-0.00724367],[1484265600000,-0.01111997],[1484524800000,-0.0078446],[1484611200000,-0.01762398],[1484697600000,-0.00679803],[1484784000000,0.00205237],[1484870400000,-0.00849751],[1485129600000,-0.00094075],[1485216000000,-0.00231714],[1485302400000,0.00413474],[1485388800000,0.00293097],[1486080000000,0.00801514],[1486339200000,0.00439597],[1486425600000,-0.00010048],[1486512000000,-0.00439139],[1486598400000,-0.00638726],[1486684800000,-0.00216292],[1486944000000,0.00296766],[1487030400000,0.01481803],[1487116800000,0.00419741],[1487203200000,-0.00098536],[1487289600000,0.01027921],[1487548800000,0.00498661],[1487635200000,0.01207267],[1487721600000,0.0196543],[1487808000000,0.02061419],[1487894400000,0.00616795],[1488153600000,0.01109786],[1488240000000,-0.00242518],[1488326400000,0.00064965],[1488412800000,0.00187933],[1488499200000,-0.00569647],[1488758400000,-0.00614005],[1488844800000,-0.00033069],[1488931200000,0.00750894],[1489017600000,0.00552581],[1489104000000,-0.0050806],[1489363200000,-0.00496112],[1489449600000,0.00196438],[1489536000000,0.00405837],[1489622400000,-0.00274996],[1489708800000,0.00236078],[1489968000000,-0.00949562],[1490054400000,-0.00955275],[1490140800000,-0.01057036],[1490227200000,-0.01343309],[1490313600000,-0.01640156],[1490572800000,0.00232591],[1490659200000,-0.00263876],[1490745600000,-0.00588546],[1490832000000,-0.01482777],[1490918400000,-0.02306523],[1491350400000,-0.0061774],[1491436800000,0.01336921],[1491523200000,0.01417517],[1491782400000,0.02319956],[1491868800000,0.02899426],[1491955200000,0.03346227],[1492041600000,0.02849243],[1492128000000,0.03829202],[1492387200000,0.02119312],[1492473600000,0.01052614],[1492560000000,0.02384935],[1492646400000,0.01908718],[1492732800000,0.03864458],[1492992000000,0.02171158],[1493078400000,0.02004416],[1493164800000,0.0241709],[1493251200000,0.01284253],[1493337600000,0.01001674],[1493683200000,0.00180031],[1493769600000,0.00573494],[1493856000000,0.00634489],[1493942400000,0.004398],[1494201600000,-0.0041753],[1494288000000,-0.02146876],[1494374400000,-0.01109036],[1494460800000,-0.01639181],[1494547200000,-0.00194345],[1494806400000,0.00654537],[1494892800000,0.0250212],[1494979200000,0.04703682],[1495065600000,0.03150342],[1495152000000,0.03919911],[1495411200000,0.04317239],[1495497600000,0.05024397],[1495584000000,0.06051788],[1495670400000,0.05849797],[1495756800000,0.05702592],[1496188800000,0.05041045],[1496275200000,0.04306623],[1496361600000,0.04878547],[1496620800000,0.04561001],[1496707200000,0.04186897],[1496793600000,0.05305279],[1496880000000,0.0789276],[1496966400000,0.10388269],[1497225600000,0.10716423],[1497312000000,0.11854484],[1497398400000,0.12374005],[1497484800000,0.1044176],[1497571200000,0.09495765],[1497830400000,0.1056464],[1497916800000,0.11143883],[1498003200000,0.11170292],[1498089600000,0.13596811],[1498176000000,0.13110524],[1498435200000,0.15695284],[1498521600000,0.17175087],[1498608000000,0.1654207],[1498694400000,0.16736747],[1498780800000,0.1721771],[1499040000000,0.18059251],[1499126400000,0.16228861],[1499212800000,0.15659887],[1499299200000,0.17223628],[1499385600000,0.16999095],[1499644800000,0.16381027],[1499731200000,0.15254146],[1499817600000,0.17034358],[1499904000000,0.16807843],[1499990400000,0.15375795],[1500249600000,0.16475188],[1500336000000,0.15011898],[1500422400000,0.15692764],[1500508800000,0.1836055],[1500595200000,0.20059425],[1500854400000,0.20089258],[1500940800000,0.20601761],[1501027200000,0.20412986],[1501113600000,0.18864758],[1501200000000,0.18204237],[1501459200000,0.20219788],[1501545600000,0.2337461],[1501632000000,0.23022712],[1501718400000,0.22699003],[1501804800000,0.21116969],[1502064000000,0.21191289],[1502150400000,0.22007635],[1502236800000,0.21619424],[1502323200000,0.22595263],[1502409600000,0.20684903],[1502668800000,0.18688553],[1502755200000,0.227613],[1502841600000,0.23590192],[1502928000000,0.23473727],[1503014400000,0.22947523],[1503273600000,0.2349904],[1503360000000,0.25169934],[1503446400000,0.25906456],[1503532800000,0.26220689],[1503619200000,0.25903853],[1503878400000,0.26683965],[1503964800000,0.27571567],[1504051200000,0.26727769],[1504137600000,0.2772386],[1504224000000,0.27440023],[1504483200000,0.29751742],[1504569600000,0.30359735],[1504656000000,0.3013789],[1504742400000,0.31306941],[1504828800000,0.31905787],[1505088000000,0.32411735],[1505174400000,0.32869648],[1505260800000,0.34303736],[1505347200000,0.35380816],[1505433600000,0.3475873],[1505692800000,0.32718877],[1505779200000,0.33093689],[1505865600000,0.31547306],[1505952000000,0.32104866],[1506038400000,0.30740466],[1506297600000,0.31304577],[1506384000000,0.32121596],[1506470400000,0.32591398],[1506556800000,0.34713432],[1506643200000,0.36304518],[1507507200000,0.39168892],[1507593600000,0.38822857],[1507680000000,0.38883563],[1507766400000,0.38361636],[1507852800000,0.40545246],[1508112000000,0.39567115],[1508198400000,0.37432591],[1508284800000,0.37550679],[1508371200000,0.37764201],[1508457600000,0.38434317],[1508716800000,0.39986421],[1508803200000,0.40000323],[1508889600000,0.41100492],[1508976000000,0.43341411],[1509062400000,0.44071989],[1509321600000,0.44181987],[1509408000000,0.42704559],[1509494400000,0.43314678],[1509580800000,0.42728621],[1509667200000,0.40965784],[1509926400000,0.42026356],[1510012800000,0.46626613],[1510099200000,0.47017896],[1510185600000,0.46885441],[1510272000000,0.4812244],[1510531200000,0.51750844],[1510617600000,0.56342449],[1510704000000,0.53660959],[1510790400000,0.52585578],[1510876800000,0.56338294],[1511136000000,0.526886],[1511222400000,0.55469797],[1511308800000,0.58739667],[1511395200000,0.55039223],[1511481600000,0.49646308],[1511740800000,0.49232236],[1511827200000,0.46537028],[1511913600000,0.49953553],[1512000000000,0.49524179],[1512086400000,0.48473538],[1512345600000,0.47366299],[1512432000000,0.49156192],[1512518400000,0.48953105],[1512604800000,0.45779021],[1512691200000,0.44219151],[1512950400000,0.46127244],[1513036800000,0.49686601],[1513123200000,0.48566967],[1513209600000,0.51011592],[1513296000000,0.50509222],[1513555200000,0.48880206],[1513641600000,0.49032299],[1513728000000,0.50989202],[1513814400000,0.51220118],[1513900800000,0.53578063],[1514160000000,0.5375875],[1514246400000,0.53617528],[1514332800000,0.52673364],[1514419200000,0.50733719],[1514505600000,0.52678146],[1514851200000,0.53514233],[1514937600000,0.54225673],[1515024000000,0.5604117],[1515110400000,0.578908],[1515369600000,0.56256483],[1515456000000,0.57857035],[1515542400000,0.59853449],[1515628800000,0.58913172],[1515715200000,0.57680952],[1515974400000,0.5949186],[1516060800000,0.5820865],[1516147200000,0.59144605],[1516233600000,0.56996676],[1516320000000,0.57283316],[1516579200000,0.57581585],[1516665600000,0.61110698],[1516752000000,0.62451051],[1516838400000,0.61857563],[1516924800000,0.61098701],[1517184000000,0.61920283],[1517270400000,0.5690263],[1517356800000,0.56269976],[1517443200000,0.59046072],[1517529600000,0.5755536],[1517788800000,0.57765659],[1517875200000,0.54296016],[1517961600000,0.55401426],[1518048000000,0.4982437],[1518134400000,0.46259629],[1518393600000,0.46321339],[1518480000000,0.48989632],[1518566400000,0.49697509],[1519257600000,0.51837854],[1519344000000,0.54066721],[1519603200000,0.55020533],[1519689600000,0.55717137],[1519776000000,0.52343937],[1519862400000,0.51929202],[1519948800000,0.52365412],[1520208000000,0.52761279],[1520294400000,0.51508174],[1520380800000,0.51458447],[1520467200000,0.49962082],[1520553600000,0.51557315],[1520812800000,0.5246195],[1520899200000,0.52891312],[1520985600000,0.52207813],[1521072000000,0.5344117],[1521158400000,0.54873273],[1521417600000,0.53107464],[1521504000000,0.52871073],[1521590400000,0.54123348],[1521676800000,0.53088352],[1521763200000,0.47259526],[1522022400000,0.47572828],[1522108800000,0.50239837],[1522195200000,0.46904538],[1522281600000,0.45657103],[1522368000000,0.45063465],[1522627200000,0.46942984],[1522713600000,0.45319726],[1522800000000,0.46574159],[1523232000000,0.44390532],[1523318400000,0.44010992],[1523404800000,0.45584608],[1523491200000,0.45333377],[1523577600000,0.46269712],[1523836800000,0.43329724],[1523923200000,0.43750445],[1524009600000,0.40560743],[1524096000000,0.40644405],[1524182400000,0.41968623],[1524441600000,0.42145143],[1524528000000,0.42421619],[1524614400000,0.43945043],[1524700800000,0.4656878],[1524787200000,0.45105277],[1525219200000,0.49674339],[1525305600000,0.48708966],[1525392000000,0.48766847],[1525651200000,0.50469888],[1525737600000,0.52771873],[1525824000000,0.51750805],[1525910400000,0.51943739],[1525996800000,0.55289661],[1526256000000,0.53272636],[1526342400000,0.54940365],[1526428800000,0.56516274],[1526515200000,0.57815253],[1526601600000,0.56370046],[1526860800000,0.5851465],[1526947200000,0.58146278],[1527033600000,0.59923897],[1527120000000,0.58705574],[1527206400000,0.5935263],[1527465600000,0.60559519],[1527552000000,0.62406222],[1527638400000,0.55257399],[1527724800000,0.56678246],[1527811200000,0.58883163],[1528070400000,0.59266644],[1528156800000,0.64419863],[1528243200000,0.67786538],[1528329600000,0.72748415],[1528416000000,0.72315632],[1528675200000,0.71182602],[1528761600000,0.69777142],[1528848000000,0.7328695],[1528934400000,0.70361232],[1529020800000,0.68663731],[1529366400000,0.64152866],[1529452800000,0.63097481],[1529539200000,0.66389431],[1529625600000,0.66233821],[1529884800000,0.69983351],[1529971200000,0.64138641],[1530057600000,0.65864171],[1530144000000,0.58415831],[1530230400000,0.57681791],[1530489600000,0.62333391],[1530576000000,0.62699741],[1530662400000,0.59388871],[1530748800000,0.58197351],[1530835200000,0.56744751],[1531094400000,0.56925371],[1531180800000,0.62415961],[1531267200000,0.60788381],[1531353600000,0.63264881],[1531440000000,0.67485621],[1531699200000,0.72870241],[1531785600000,0.74951161],[1531872000000,0.74352961],[1531958400000,0.75451411],[1532044800000,0.71092431],[1532304000000,0.67072631],[1532390400000,0.69161871],[1532476800000,0.69821881],[1532563200000,0.71940991],[1532649600000,0.70636441],[1532908800000,0.66874891],[1532995200000,0.65681211],[1533081600000,0.65829641]]},{\"name\":\"close\",\"yAxis\":0,\"data\":[[1483401600000,0.0],[1483488000000,0.0078031733],[1483574400000,0.0076475886],[1483660800000,0.0016276558],[1483920000000,0.006483695],[1484006400000,0.004799191],[1484092800000,-0.0023128271],[1484179200000,-0.0073633472],[1484265600000,-0.0066781759],[1484524800000,-0.0068158086],[1484611200000,-0.0047483267],[1484697600000,-0.0008557161],[1484784000000,-0.0038716665],[1484870400000,0.0037878901],[1485129600000,0.0065375513],[1485216000000,0.0066482558],[1485302400000,0.0100741122],[1485388800000,0.0136824815],[1486080000000,0.0066602239],[1486339200000,0.0092692603],[1486425600000,0.0070162736],[1486512000000,0.0122852108],[1486598400000,0.0161748294],[1486684800000,0.021321094],[1486944000000,0.0281369026],[1487030400000,0.0279962779],[1487116800000,0.0237805298],[1487203200000,0.0295311813],[1487289600000,0.0236997454],[1487548800000,0.0386448569],[1487635200000,0.0420647292],[1487721600000,0.0441411872],[1487808000000,0.0392223156],[1487894400000,0.0393808924],[1488153600000,0.0311139568],[1488240000000,0.0330856943],[1488326400000,0.0347701983],[1488412800000,0.0277868369],[1488499200000,0.0256206186],[1488758400000,0.0311917492],[1488844800000,0.0334297759],[1488931200000,0.0318649524],[1489017600000,0.0253453533],[1489104000000,0.0256295946],[1489363200000,0.0346684699],[1489449600000,0.0342465958],[1489536000000,0.0363260458],[1489622400000,0.0416727754],[1489708800000,0.0309912843],[1489968000000,0.0321282497],[1490054400000,0.0371368817],[1490140800000,0.0322598983],[1490227200000,0.0358293714],[1490313600000,0.0440933149],[1490572800000,0.0406345464],[1490659200000,0.0381721186],[1490745600000,0.036789808],[1490832000000,0.0282835113],[1490918400000,0.0340551069],[1491350400000,0.0483689034],[1491436800000,0.0514087899],[1491523200000,0.0524290668],[1491782400000,0.0487429052],[1491868800000,0.0523901706],[1491955200000,0.0500294713],[1492041600000,0.0515643747],[1492128000000,0.0431657905],[1492387200000,0.0412030291],[1492473600000,0.0360567645],[1492560000000,0.0310122284],[1492646400000,0.0357007148],[1492732800000,0.0372685303],[1492992000000,0.0266379034],[1493078400000,0.0295431493],[1493164800000,0.0308027874],[1493251200000,0.0312635576],[1493337600000,0.0291781236],[1493683200000,0.0252376407],[1493769600000,0.0212133815],[1493856000000,0.018598361],[1493942400000,0.0120638017],[1494201600000,0.0049607597],[1494288000000,0.0030817747],[1494374400000,-0.0013553825],[1494460800000,0.0043144846],[1494547200000,0.0129105418],[1494806400000,0.0170425135],[1494892800000,0.0258569877],[1494979200000,0.020267905],[1495065600000,0.016719376],[1495152000000,0.0184367922],[1495411200000,0.0206478908],[1495497600000,0.0245225493],[1495584000000,0.0245165653],[1495670400000,0.0429144613],[1495756800000,0.0413496378],[1496188800000,0.0450746956],[1496275200000,0.0465288146],[1496361600000,0.0431687825],[1496620800000,0.0378549651],[1496707200000,0.0450746956],[1496793600000,0.0573389623],[1496880000000,0.0654503131],[1496966400000,0.0699951829],[1497225600000,0.0694626043],[1497312000000,0.0718203116],[1497398400000,0.0577668204],[1497484800000,0.055819019],[1497571200000,0.0528180287],[1497830400000,0.0632631507],[1497916800000,0.0611148844],[1498003200000,0.0735227677],[1498089600000,0.0742348671],[1498176000000,0.0839708817],[1498435200000,0.0974977784],[1498521600000,0.0994814839],[1498608000000,0.0909392831],[1498694400000,0.0977191875],[1498780800000,0.0971118086],[1499040000000,0.0923395458],[1499126400000,0.0831031976],[1499212800000,0.0949814944],[1499299200000,0.095107159],[1499385600000,0.093859489],[1499644800000,0.0931892778],[1499731200000,0.0983116063],[1499817600000,0.0947241812],[1499904000000,0.1031317414],[1499990400000,0.1079698285],[1500249600000,0.0961423959],[1500336000000,0.0972255051],[1500422400000,0.1159465387],[1500508800000,0.1213710606],[1500595200000,0.115602457],[1500854400000,0.1200515823],[1500940800000,0.1128976761],[1501027200000,0.1086579918],[1501113600000,0.1106925616],[1501200000000,0.1135948154],[1501459200000,0.1183760543],[1501545600000,0.1281030928],[1501632000000,0.1252517032],[1501718400000,0.1153720719],[1501804800000,0.109313243],[1502064000000,0.1150609025],[1502150400000,0.1166825742],[1502236800000,0.1163325085],[1502323200000,0.1118085829],[1502409600000,0.0912923407],[1502668800000,0.1054535445],[1502755200000,0.1088584568],[1502841600000,0.1074701621],[1502928000000,0.1134123026],[1503014400000,0.1144265954],[1503273600000,0.1193095628],[1503360000000,0.122693531],[1503446400000,0.1238275044],[1503532800000,0.1174126257],[1503619200000,0.1356938332],[1503878400000,0.1497443324],[1503964800000,0.1472998567],[1504051200000,0.1472280483],[1504137600000,0.1435747989],[1504224000000,0.146103051],[1504483200000,0.1506150085],[1504569600000,0.1540348809],[1504656000000,0.15176095],[1504742400000,0.145902586],[1504828800000,0.1447416844],[1505088000000,0.144639956],[1505174400000,0.1483141495],[1505260800000,0.1497144122],[1505347200000,0.1459295141],[1505433600000,0.146330444],[1505692800000,0.149872989],[1505779200000,0.1465757892],[1505865600000,0.149663548],[1505952000000,0.1482812374],[1506038400000,0.1482543092],[1506297600000,0.1422882327],[1506384000000,0.143182845],[1506470400000,0.1433085096],[1506556800000,0.1437094395],[1506643200000,0.1478862915],[1507507200000,0.1615627889],[1507593600000,0.1638516799],[1507680000000,0.1676904342],[1507766400000,0.1707602409],[1507852800000,0.1731688124],[1508112000000,0.1709098416],[1508198400000,0.1707961451],[1508284800000,0.1800983176],[1508371200000,0.1762356271],[1508457600000,0.1749191408],[1508716800000,0.1761009865],[1508803200000,0.1846581474],[1508889600000,0.1899091325],[1508976000000,0.1948848523],[1509062400000,0.203379181],[1509321600000,0.1997139634],[1509408000000,0.1988163591],[1509494400000,0.1957944247],[1509580800000,0.1959470174],[1509667200000,0.1946215551],[1509926400000,0.2030560434],[1510012800000,0.2130374032],[1510099200000,0.2111703862],[1510185600000,0.2195151142],[1510272000000,0.2302893577],[1510531200000,0.2351244528],[1510617600000,0.2265313877],[1510704000000,0.218847895],[1510790400000,0.2282248678],[1510876800000,0.2329642185],[1511136000000,0.2398398674],[1511222400000,0.2619418771],[1511308800000,0.2648949953],[1511395200000,0.2274439521],[1511481600000,0.2279825147],[1511740800000,0.211750837],[1511827200000,0.2135071494],[1511913600000,0.2128878025],[1512000000000,0.1986308543],[1512086400000,0.1962492109],[1512345600000,0.2024486645],[1512432000000,0.208824647],[1512518400000,0.2015390922],[1512604800000,0.1881468361],[1512691200000,0.1978170264],[1512950400000,0.217600225],[1513036800000,0.2015989324],[1513123200000,0.2117927252],[1513209600000,0.2046298429],[1513296000000,0.1910790101],[1513555200000,0.1924044725],[1513641600000,0.2073765121],[1513728000000,0.2059283772],[1513814400000,0.2171065426],[1513900800000,0.2131421237],[1514160000000,0.209234553],[1514246400000,0.2128489063],[1514332800000,0.1941757449],[1514419200000,0.2024606326],[1514505600000,0.2060360897],[1514851200000,0.2229559306],[1514937600000,0.230133773],[1515024000000,0.2353458619],[1515110400000,0.2383199241],[1515369600000,0.2447258268],[1515456000000,0.2534445565],[1515542400000,0.258982775],[1515628800000,0.2583185478],[1515715200000,0.2641260476],[1515974400000,0.2641978559],[1516060800000,0.2741403195],[1516147200000,0.2710435847],[1516233600000,0.278014978],[1516320000000,0.282197814],[1516579200000,0.2975169273],[1516665600000,0.3112831852],[1516752000000,0.3134613716],[1516838400000,0.3060381841],[1516924800000,0.3108912313],[1517184000000,0.2871705418],[1517270400000,0.2734312121],[1517356800000,0.2793554004],[1517443200000,0.2703793575],[1517529600000,0.2779581298],[1517788800000,0.2788317979],[1517875200000,0.2413538266],[1517961600000,0.2119153978],[1518048000000,0.2004111028],[1518134400000,0.1491279774],[1518393600000,0.1639234882],[1518480000000,0.1775461294],[1518566400000,0.1869201102],[1519257600000,0.212582617],[1519344000000,0.2180759553],[1519603200000,0.232237159],[1519689600000,0.2144526259],[1519776000000,0.2038788474],[1519862400000,0.2114935238],[1519948800000,0.2017305811],[1520208000000,0.2022212714],[1520294400000,0.2167205728],[1520380800000,0.207771458],[1520467200000,0.2200237566],[1520553600000,0.2293797854],[1520812800000,0.2350047723],[1520899200000,0.2241078561],[1520985600000,0.2187491585],[1521072000000,0.2255769352],[1521158400000,0.2136866703],[1521417600000,0.2190214318],[1521504000000,0.2200536767],[1521590400000,0.2150719729],[1521676800000,0.2028944746],[1521763200000,0.1683636375],[1522022400000,0.1608686416],[1522108800000,0.1708559854],[1522195200000,0.1497473244],[1522281600000,0.1651053339],[1522368000000,0.1664367802],[1522627200000,0.1629720277],[1522713600000,0.1556595447],[1522800000000,0.1533796298],[1523232000000,0.152802171],[1523318400000,0.1750148853],[1523404800000,0.1783569653],[1523491200000,0.1664786684],[1523577600000,0.1582506291],[1523836800000,0.1396163639],[1523923200000,0.1215984537],[1524009600000,0.126876367],[1524096000000,0.1405079842],[1524182400000,0.1252517032],[1524441600000,0.126891327],[1524528000000,0.1499777095],[1524614400000,0.1455525203],[1524700800000,0.1236479835],[1524787200000,0.1240638735],[1525219200000,0.1260894672],[1525305600000,0.1348710292],[1525392000000,0.1293657229],[1525651200000,0.1471951362],[1525737600000,0.1605066079],[1525824000000,0.1583942458],[1525910400000,0.1648091244],[1525996800000,0.1587592715],[1526256000000,0.1696651637],[1526342400000,0.1740963369],[1526428800000,0.1647433001],[1526515200000,0.1561292909],[1526601600000,0.1678011388],[1526860800000,0.1732406208],[1526947200000,0.1687436233],[1527033600000,0.1532958534],[1527120000000,0.1451097022],[1527206400000,0.1419022629],[1527465600000,0.1469168789],[1527552000000,0.138165237],[1527638400000,0.1140376336],[1527724800000,0.1376775386],[1527811200000,0.1281659251],[1528070400000,0.1392333861],[1528156800000,0.1505252481],[1528243200000,0.1481406127],[1528329600000,0.1462436756],[1528416000000,0.1308677141],[1528675200000,0.1309754266],[1528761600000,0.1447297164],[1528848000000,0.1334767506],[1528934400000,0.1289977051],[1529020800000,0.1230316286],[1529366400000,0.0834442872],[1529452800000,0.0877288517],[1529539200000,0.0750217669],[1529625600000,0.0797880457],[1529884800000,0.0653007124],[1529971200000,0.0565131664],[1530057600000,0.0350155435],[1530144000000,0.0243250764],[1530230400000,0.0504902415],[1530489600000,0.0196665101],[1530576000000,0.020061456],[1530662400000,0.0064388148],[1530748800000,0.0000628323],[1530835200000,0.0068487208],[1531094400000,0.0349916074],[1531180800000,0.0374869473],[1531267200000,0.0195378535],[1531353600000,0.0415381347],[1531440000000,0.0450178474],[1531699200000,0.0388542979],[1531785600000,0.0320594334],[1531872000000,0.0266558555],[1531958400000,0.0257642353],[1532044800000,0.0450776877],[1532304000000,0.0549094467],[1532390400000,0.0716527588],[1532476800000,0.0704679211],[1532563200000,0.0580510617],[1532649600000,0.0535570562],[1532908800000,0.0517169674],[1532995200000,0.0524889071],[1533081600000,0.0314640225]]}],\"xAxis\":{\"title\":{\"text\":\"date\"},\"type\":\"datetime\"},\"yAxis\":[{}]});</script>"
      ],
      "text/plain": [
       "<IPython.core.display.HTML object>"
      ]
     },
     "metadata": {},
     "output_type": "display_data"
    }
   ],
   "source": [
    "df = show_df.dropna(how='any', inplace=False).copy()\n",
    "# df.drop(columns=['open', 'high', 'low', 'o_pct_chg', 'TR', 'N'], inplace=True)\n",
    "df.columns\n",
    "\n",
    "df['close'] = (df['close'] - df.iloc[0]['close']) / df.iloc[0]['close']\n",
    "for col in sorted(df.columns):\n",
    "    if 'PROPERTY' in col:\n",
    "        df[col] = (df[col] - df.iloc[1][col]) / df.iloc[0][col]\n",
    "    if 'CASH' in col:\n",
    "        df[col] = df[col] / df.iloc[0][col]\n",
    "\n",
    "df = df.loc[:, ['close', 'CASH_TURTLE_20_60_60', 'PROPERTY_TURTLE_20_60_60']]\n",
    "df.reset_index(drop=False, inplace=True)\n",
    "# df.dtypes\n",
    "# df.iloc[0].date\n",
    "# df.iloc[0].date.to_timestamp()\n",
    "# df.iloc[0].date.to_timestamp().to_datetime64()\n",
    "df['date'] = df['date'].apply(lambda x: x.to_timestamp().to_datetime64())\n",
    "# df.iloc[0].date\n",
    "df.set_index(keys=['date'], inplace=True)\n",
    "# df\n",
    "\n",
    "display_charts(df, chart_type='stock', figsize=(900, 600), logy=False)"
   ]
  }
 ],
 "metadata": {
  "kernelspec": {
   "display_name": "Python 3",
   "language": "python",
   "name": "python3"
  },
  "language_info": {
   "codemirror_mode": {
    "name": "ipython",
    "version": 3
   },
   "file_extension": ".py",
   "mimetype": "text/x-python",
   "name": "python",
   "nbconvert_exporter": "python",
   "pygments_lexer": "ipython3",
   "version": "3.6.1"
  }
 },
 "nbformat": 4,
 "nbformat_minor": 2
}
