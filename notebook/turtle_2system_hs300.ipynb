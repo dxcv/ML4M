{
 "cells": [
  {
   "cell_type": "code",
   "execution_count": 1,
   "metadata": {
    "scrolled": false
   },
   "outputs": [
    {
     "data": {
      "text/html": [
       "\n",
       "<script src=\"//code.highcharts.com/stock/highstock.js\"></script>\n",
       "<script src=\"//code.highcharts.com/highcharts-more.js\"></script>\n",
       "<script src=\"//code.highcharts.com/modules/exporting.js\"></script>\n"
      ],
      "text/plain": [
       "<IPython.core.display.HTML object>"
      ]
     },
     "metadata": {},
     "output_type": "display_data"
    },
    {
     "name": "stdout",
     "output_type": "stream",
     "text": [
      "['600000', '600008', '600009', '600010', '600011', '600015', '600016', '600018', '600019', '600023', '600025', '600028', '600029', '600030', '600031', '600036', '600038', '600048', '600050', '600061', '600066', '600068', '600085', '600089', '600100', '600104', '600109', '600111', '600115', '600118', '600153', '600157', '600170', '600176', '600177', '600188', '600196', '600208', '600219', '600221', '600233', '600271', '600276', '600297', '600309', '600332', '600339', '600340', '600346', '600352', '600362', '600369', '600372', '600373', '600376', '600383', '600390', '600398', '600406', '600415', '600436', '600438', '600482', '600487', '600489', '600498', '600516', '600518', '600519', '600522', '600535', '600547', '600549', '600570', '600583', '600585', '600588', '600606', '600637', '600660', '600663', '600674', '600682', '600688', '600690', '600703', '600704', '600705', '600739', '600741', '600795', '600804', '600809', '600816', '600820', '600837', '600867', '600886', '600887', '600893', '600900', '600909', '600919', '600926', '600958', '600959', '600977', '600999', '601006', '601009', '601012', '601018', '601021', '601088', '601099', '601108', '601111', '601117', '601155', '601166', '601169', '601186', '601198', '601211', '601212', '601216', '601225', '601228', '601229', '601238', '601288', '601318', '601328', '601333', '601336', '601360', '601377', '601390', '601398', '601555', '601600', '601601', '601607', '601611', '601618', '601628', '601633', '601668', '601669', '601688', '601718', '601727', '601766', '601788', '601800', '601808', '601818', '601828', '601838', '601857', '601866', '601877', '601878', '601881', '601888', '601898', '601899', '601901', '601919', '601933', '601939', '601958', '601985', '601988', '601989', '601991', '601992', '601997', '601998', '603160', '603260', '603288', '603799', '603833', '603858', '603993', '000001', '000002', '000060', '000063', '000069', '000100', '000157', '000166', '000333', '000338', '000402', '000413', '000415', '000423', '000425', '000503', '000538', '000540', '000559', '000568', '000623', '000625', '000627', '000630', '000651', '000671', '000709', '000723', '000725', '000728', '000768', '000776', '000783', '000786', '000792', '000826', '000839', '000858', '000876', '000895', '000898', '000938', '000959', '000961', '000963', '000983', '001965', '001979', '002007', '002008', '002024', '002027', '002044', '002050', '002065', '002074', '002081', '002085', '002142', '002146', '002153', '002202', '002230', '002236', '002241', '002252', '002294', '002304', '002310', '002352', '002385', '002411', '002415', '002450', '002456', '002460', '002466', '002468', '002470', '002475', '002493', '002500', '002508', '002555', '002558', '002572', '002594', '002601', '002602', '002608', '002624', '002625', '002673', '002714', '002736', '002739', '002797', '002925', '300003', '300015', '300017', '300024', '300027', '300033', '300059', '300070', '300072', '300122', '300124', '300136', '300144', '300251', '300408', '300433', '399300']\n"
     ]
    },
    {
     "data": {
      "text/plain": [
       "<module 'pandas' from 'd:\\\\python3\\\\lib\\\\site-packages\\\\pandas\\\\__init__.py'>"
      ]
     },
     "execution_count": 1,
     "metadata": {},
     "output_type": "execute_result"
    }
   ],
   "source": [
    "import os\n",
    "import sys\n",
    "sys.path.append(os.path.abspath(os.path.join(os.getcwd(), '..')))\n",
    "\n",
    "import pandas as pd\n",
    "pd.core.common.is_list_like = pd.api.types.is_list_like\n",
    "import empyrical as emp\n",
    "import tushare as ts\n",
    "import time\n",
    "import random\n",
    "# from concurrent.futures import ProcessPoolExecutor\n",
    "\n",
    "from common.log import *\n",
    "from common.config import Config\n",
    "from spider.spider_nasdaq import Spider_nasdaq\n",
    "\n",
    "from IPython.core.interactiveshell import InteractiveShell\n",
    "InteractiveShell.ast_node_interactivity = 'all'\n",
    "\n",
    "from pandas_highcharts.core import serialize\n",
    "from pandas_highcharts.display import display_charts\n",
    "\n",
    "CONF = Config().data[0]\n",
    "MONGODB = CONF['MONGODB']\n",
    "NASDAQ = CONF['NASDAQ']\n",
    "CRYPTOCURRENCY = CONF['CRYPTOCURRENCY']\n",
    "NASDAQ100 = CONF['NASDAQ100']\n",
    "# NASDAQ100 = ['NDX', 'TSLA', 'NVDA', 'AMZN', 'GOOGL', 'GOOG', 'BIDU', 'FB', 'JD']\n",
    "HS300 = list(ts.get_hs300s()['code']) + ['399300']\n",
    "print(HS300)\n",
    "\n",
    "pd"
   ]
  },
  {
   "cell_type": "code",
   "execution_count": 2,
   "metadata": {
    "scrolled": false
   },
   "outputs": [
    {
     "name": "stdout",
     "output_type": "stream",
     "text": [
      "../database/market/399300.csv\n",
      "Wall time: 1.68 s\n"
     ]
    }
   ],
   "source": [
    "%%time\n",
    "\n",
    "# for symbol in HS300[:]:\n",
    "for symbol in ['399300']:\n",
    "    df = ts.get_k_data(code=symbol, index=True, start='2008-01-01', end='2018-05-01')\n",
    "#     df = ts.get_k_data(code=symbol, ktype='D', autype='qfq', index=False, start='2008-01-01', end='2018-05-01')\n",
    "    datafile = '../database/market/%s.csv' % symbol\n",
    "    df.to_csv(datafile, index=False, encoding='utf-8')\n",
    "    print(datafile)\n",
    "    time.sleep(1)"
   ]
  },
  {
   "cell_type": "code",
   "execution_count": 3,
   "metadata": {},
   "outputs": [
    {
     "name": "stdout",
     "output_type": "stream",
     "text": [
      "Wall time: 0 ns\n"
     ]
    }
   ],
   "source": [
    "%%time\n",
    "\n",
    "### 时间设置\n",
    "start_date = '2008-01-02'\n",
    "# start_date = '2010-01-01'\n",
    "# start_date = '2015-01-01'\n",
    "# start_date = '2017-01-03'\n",
    "start_date = '2018-01-01'\n",
    "end_date = '2018-04-27'\n",
    "\n",
    "TURTLE_POS = 20\n",
    "### Turtle System One - Short\n",
    "TURTLE_SHORT_BUY_N = 20\n",
    "TURTLE_SHORT_SELL_N = 20\n",
    "### Turtle System Two - Long\n",
    "TURTLE_LONG_BUY_N = 60\n",
    "TURTLE_LONG_SELL_N = 60\n",
    "\n",
    "### 业务设置\n",
    "IS_HAPPYMONEY = False\n",
    "IS_TAX = False\n",
    "IS_SLIPPAGE = False\n",
    "IS_RANDOM_BUY = True\n",
    "START_MONEY = 100000\n",
    "HAPPY_MONEY = 0\n",
    "PROPERTY = START_MONEY\n",
    "CASH = START_MONEY\n"
   ]
  },
  {
   "cell_type": "code",
   "execution_count": 4,
   "metadata": {},
   "outputs": [
    {
     "name": "stdout",
     "output_type": "stream",
     "text": [
      "Wall time: 8.08 s\n"
     ]
    }
   ],
   "source": [
    "%%time\n",
    "\n",
    "stock_df_dict = {}\n",
    "\n",
    "for symbol in HS300[:]:\n",
    "    stock_data_file = '../database/market/%s.csv' % symbol\n",
    "    stock_df = pd.read_csv(stock_data_file)\n",
    "\n",
    "    # 筛选字段\n",
    "    stock_df = stock_df.loc[:, ['date', 'open', 'close']]\n",
    "#     stock_df = stock_df.loc[:, ['date', 'close']]\n",
    "\n",
    "    # 去掉Nasdaq行情首行的当天行情\n",
    "    if symbol in NASDAQ:\n",
    "        stock_df = stock_df.drop([0])\n",
    "\n",
    "    # 抛弃空值异常值\n",
    "    stock_df.dropna(axis=0, how='any', inplace=True)\n",
    "\n",
    "    # 格式化日期\n",
    "    # 1.48 s ± 45.8 ms per loop (mean ± std. dev. of 7 runs, 1 loop each)\n",
    "#     stock_df['date'] = stock_df['date'].apply(lambda x: pd.Period(x, freq='D'))\n",
    "\n",
    "    # 445 ms ± 17.5 ms per loop (mean ± std. dev. of 7 runs, 1 loop each)\n",
    "    stock_df = stock_df.assign(date=pd.to_datetime(stock_df['date']))  # need .index.to_period('D')\n",
    "\n",
    "    # 476 ms ± 46.6 ms per loop (mean ± std. dev. of 7 runs, 1 loop each)\n",
    "#     stock_df['date'] = pd.to_datetime(stock_df['date'])  # need .index.to_period('D')\n",
    "    \n",
    "    # 转换字段格式\n",
    "#     stock_df = stock_df.astype(dtype={'volume': 'float64'})\n",
    "\n",
    "    # 用日期作索引，日期升序排序\n",
    "    # 95.1 µs ± 1.58 µs per loop (mean ± std. dev. of 7 runs, 10000 loops each)\n",
    "#     stock_df = stock_df[::-1]\n",
    "    \n",
    "    # 407 µs ± 5.07 µs per loop (mean ± std. dev. of 7 runs, 1000 loops each)\n",
    "#     %timeit stock_df.set_index(['date'], inplace=False)\n",
    "\n",
    "    # Wall time: 500 µs\n",
    "    stock_df.set_index(['date'], inplace=True)\n",
    "    \n",
    "    # 305 µs ± 2.75 µs per loop (mean ± std. dev. of 7 runs, 1000 loops each)\n",
    "#     stock_df = stock_df.sort_index(axis=0, ascending=True)\n",
    "    \n",
    "    # 822 µs ± 41.3 µs per loop (mean ± std. dev. of 7 runs, 1000 loops each)\n",
    "    stock_df.index = stock_df.index.to_period('D')\n",
    "\n",
    "    # 计算涨跌幅\n",
    "#     stock_df['c_pct_chg'] = stock_df.close.pct_change(1)\n",
    "    stock_df['o_pct_chg'] = stock_df.open.pct_change(1)\n",
    "    \n",
    "    # Turtle指标\n",
    "#     stock_df['TR1'] = abs(stock_df['high'] - stock_df['low'])\n",
    "#     stock_df['TR2'] = abs(stock_df['high'] - stock_df['close'].shift())\n",
    "#     stock_df['TR3'] = abs(stock_df['low'] - stock_df['close'].shift())\n",
    "#     stock_df['TR'] = stock_df[['TR1', 'TR2', 'TR3']].max(axis=1)\n",
    "#     stock_df['N'] = stock_df['TR'].rolling(20).mean()\n",
    "#     stock_df['UNIT'] = (0.01 * START_MONEY) / (stock_df['N'])\n",
    "    stock_df['ROLLING_%d_MAX' % TURTLE_SHORT_BUY_N] = stock_df['open'].rolling(TURTLE_SHORT_BUY_N).max()\n",
    "    stock_df['ROLLING_%d_MIN' % TURTLE_SHORT_SELL_N] = stock_df['open'].rolling(TURTLE_SHORT_SELL_N).min()\n",
    "    stock_df['ROLLING_%d_MAX' % TURTLE_LONG_BUY_N] = stock_df['open'].rolling(TURTLE_LONG_BUY_N).max()\n",
    "    stock_df['ROLLING_%d_MIN' % TURTLE_LONG_SELL_N] = stock_df['open'].rolling(TURTLE_LONG_SELL_N).min()\n",
    "#     stock_df['MA%d' % TURTLE_BUY_N] = stock_df['open'].rolling(TURTLE_BUY_N).mean()\n",
    "#     stock_df['MA%d' % TURTLE_SELL_N] = stock_df['open'].rolling(TURTLE_SELL_N).mean()\n",
    "#     stock_df['EWMA'] = stock_df['open'].ewm(alpha=0.1, adjust=False).mean()\n",
    "#     stock_df['MA360'] = stock_df['open'].rolling(360).mean()\n",
    "    stock_df['MA180'] = stock_df['open'].rolling(180).mean()\n",
    "    stock_df['MA60'] = stock_df['open'].rolling(60).mean()\n",
    "    stock_df['MA30'] = stock_df['open'].rolling(30).mean()\n",
    "    \n",
    "#     stock_df['ops'] = ''\n",
    "#     stock_df['profit'] = 0\n",
    "    \n",
    "    # 减少数据\n",
    "    # stock_df = stock_df['2016-01-01':]\n",
    "    stock_df.dropna(how='any', inplace=True)\n",
    "#     stock_df.drop(columns=['volume', 'TR1', 'TR2', 'TR3'], inplace=True)\n",
    "    \n",
    "    stock_df_dict[symbol] = stock_df\n",
    "    \n",
    "#     print(stock_df.head(10))\n",
    "#     print(stock_df.dtypes)\n",
    "#     print(stock_df.index[0])\n",
    "#     print(type(stock_df.index[0]))"
   ]
  },
  {
   "cell_type": "code",
   "execution_count": 5,
   "metadata": {},
   "outputs": [
    {
     "data": {
      "text/html": [
       "<div>\n",
       "<style scoped>\n",
       "    .dataframe tbody tr th:only-of-type {\n",
       "        vertical-align: middle;\n",
       "    }\n",
       "\n",
       "    .dataframe tbody tr th {\n",
       "        vertical-align: top;\n",
       "    }\n",
       "\n",
       "    .dataframe thead th {\n",
       "        text-align: right;\n",
       "    }\n",
       "</style>\n",
       "<table border=\"1\" class=\"dataframe\">\n",
       "  <thead>\n",
       "    <tr style=\"text-align: right;\">\n",
       "      <th></th>\n",
       "      <th>open</th>\n",
       "      <th>close</th>\n",
       "      <th>o_pct_chg</th>\n",
       "      <th>ROLLING_20_MAX</th>\n",
       "      <th>ROLLING_20_MIN</th>\n",
       "      <th>ROLLING_60_MAX</th>\n",
       "      <th>ROLLING_60_MIN</th>\n",
       "      <th>MA180</th>\n",
       "      <th>MA60</th>\n",
       "      <th>MA30</th>\n",
       "    </tr>\n",
       "    <tr>\n",
       "      <th>date</th>\n",
       "      <th></th>\n",
       "      <th></th>\n",
       "      <th></th>\n",
       "      <th></th>\n",
       "      <th></th>\n",
       "      <th></th>\n",
       "      <th></th>\n",
       "      <th></th>\n",
       "      <th></th>\n",
       "      <th></th>\n",
       "    </tr>\n",
       "  </thead>\n",
       "  <tbody>\n",
       "    <tr>\n",
       "      <th>2008-09-23</th>\n",
       "      <td>2141.60</td>\n",
       "      <td>2123.48</td>\n",
       "      <td>-0.038939</td>\n",
       "      <td>2372.64</td>\n",
       "      <td>1876.96</td>\n",
       "      <td>2987.06</td>\n",
       "      <td>1876.96</td>\n",
       "      <td>3602.807111</td>\n",
       "      <td>2547.598000</td>\n",
       "      <td>2262.171667</td>\n",
       "    </tr>\n",
       "    <tr>\n",
       "      <th>2008-09-24</th>\n",
       "      <td>2072.65</td>\n",
       "      <td>2138.85</td>\n",
       "      <td>-0.032196</td>\n",
       "      <td>2372.64</td>\n",
       "      <td>1876.96</td>\n",
       "      <td>2987.06</td>\n",
       "      <td>1876.96</td>\n",
       "      <td>3584.600944</td>\n",
       "      <td>2535.488833</td>\n",
       "      <td>2250.214000</td>\n",
       "    </tr>\n",
       "    <tr>\n",
       "      <th>2008-09-25</th>\n",
       "      <td>2143.73</td>\n",
       "      <td>2223.53</td>\n",
       "      <td>0.034294</td>\n",
       "      <td>2372.64</td>\n",
       "      <td>1876.96</td>\n",
       "      <td>2987.06</td>\n",
       "      <td>1876.96</td>\n",
       "      <td>3566.615278</td>\n",
       "      <td>2526.173833</td>\n",
       "      <td>2240.755000</td>\n",
       "    </tr>\n",
       "    <tr>\n",
       "      <th>2008-09-26</th>\n",
       "      <td>2234.46</td>\n",
       "      <td>2243.66</td>\n",
       "      <td>0.042323</td>\n",
       "      <td>2372.64</td>\n",
       "      <td>1876.96</td>\n",
       "      <td>2987.06</td>\n",
       "      <td>1876.96</td>\n",
       "      <td>3548.858778</td>\n",
       "      <td>2519.173500</td>\n",
       "      <td>2234.237667</td>\n",
       "    </tr>\n",
       "    <tr>\n",
       "      <th>2008-10-06</th>\n",
       "      <td>2206.56</td>\n",
       "      <td>2128.70</td>\n",
       "      <td>-0.012486</td>\n",
       "      <td>2372.64</td>\n",
       "      <td>1876.96</td>\n",
       "      <td>2987.06</td>\n",
       "      <td>1876.96</td>\n",
       "      <td>3530.670556</td>\n",
       "      <td>2510.096000</td>\n",
       "      <td>2226.443333</td>\n",
       "    </tr>\n",
       "    <tr>\n",
       "      <th>2008-10-07</th>\n",
       "      <td>2043.92</td>\n",
       "      <td>2102.45</td>\n",
       "      <td>-0.073707</td>\n",
       "      <td>2292.69</td>\n",
       "      <td>1876.96</td>\n",
       "      <td>2987.06</td>\n",
       "      <td>1876.96</td>\n",
       "      <td>3511.048167</td>\n",
       "      <td>2498.367833</td>\n",
       "      <td>2212.863667</td>\n",
       "    </tr>\n",
       "    <tr>\n",
       "      <th>2008-10-08</th>\n",
       "      <td>2041.99</td>\n",
       "      <td>2022.88</td>\n",
       "      <td>-0.000944</td>\n",
       "      <td>2279.60</td>\n",
       "      <td>1876.96</td>\n",
       "      <td>2987.06</td>\n",
       "      <td>1876.96</td>\n",
       "      <td>3491.797444</td>\n",
       "      <td>2484.058167</td>\n",
       "      <td>2204.746333</td>\n",
       "    </tr>\n",
       "    <tr>\n",
       "      <th>2008-10-09</th>\n",
       "      <td>2059.58</td>\n",
       "      <td>1995.30</td>\n",
       "      <td>0.008614</td>\n",
       "      <td>2238.65</td>\n",
       "      <td>1876.96</td>\n",
       "      <td>2987.06</td>\n",
       "      <td>1876.96</td>\n",
       "      <td>3471.952611</td>\n",
       "      <td>2469.601167</td>\n",
       "      <td>2195.652667</td>\n",
       "    </tr>\n",
       "    <tr>\n",
       "      <th>2008-10-10</th>\n",
       "      <td>1913.27</td>\n",
       "      <td>1906.96</td>\n",
       "      <td>-0.071039</td>\n",
       "      <td>2234.46</td>\n",
       "      <td>1876.96</td>\n",
       "      <td>2987.06</td>\n",
       "      <td>1876.96</td>\n",
       "      <td>3450.978778</td>\n",
       "      <td>2451.972667</td>\n",
       "      <td>2176.286333</td>\n",
       "    </tr>\n",
       "    <tr>\n",
       "      <th>2008-10-13</th>\n",
       "      <td>1889.75</td>\n",
       "      <td>1985.49</td>\n",
       "      <td>-0.012293</td>\n",
       "      <td>2234.46</td>\n",
       "      <td>1876.96</td>\n",
       "      <td>2987.06</td>\n",
       "      <td>1876.96</td>\n",
       "      <td>3429.713389</td>\n",
       "      <td>2434.087500</td>\n",
       "      <td>2158.569667</td>\n",
       "    </tr>\n",
       "  </tbody>\n",
       "</table>\n",
       "</div>"
      ],
      "text/plain": [
       "               open    close  o_pct_chg  ROLLING_20_MAX  ROLLING_20_MIN  \\\n",
       "date                                                                      \n",
       "2008-09-23  2141.60  2123.48  -0.038939         2372.64         1876.96   \n",
       "2008-09-24  2072.65  2138.85  -0.032196         2372.64         1876.96   \n",
       "2008-09-25  2143.73  2223.53   0.034294         2372.64         1876.96   \n",
       "2008-09-26  2234.46  2243.66   0.042323         2372.64         1876.96   \n",
       "2008-10-06  2206.56  2128.70  -0.012486         2372.64         1876.96   \n",
       "2008-10-07  2043.92  2102.45  -0.073707         2292.69         1876.96   \n",
       "2008-10-08  2041.99  2022.88  -0.000944         2279.60         1876.96   \n",
       "2008-10-09  2059.58  1995.30   0.008614         2238.65         1876.96   \n",
       "2008-10-10  1913.27  1906.96  -0.071039         2234.46         1876.96   \n",
       "2008-10-13  1889.75  1985.49  -0.012293         2234.46         1876.96   \n",
       "\n",
       "            ROLLING_60_MAX  ROLLING_60_MIN        MA180         MA60  \\\n",
       "date                                                                   \n",
       "2008-09-23         2987.06         1876.96  3602.807111  2547.598000   \n",
       "2008-09-24         2987.06         1876.96  3584.600944  2535.488833   \n",
       "2008-09-25         2987.06         1876.96  3566.615278  2526.173833   \n",
       "2008-09-26         2987.06         1876.96  3548.858778  2519.173500   \n",
       "2008-10-06         2987.06         1876.96  3530.670556  2510.096000   \n",
       "2008-10-07         2987.06         1876.96  3511.048167  2498.367833   \n",
       "2008-10-08         2987.06         1876.96  3491.797444  2484.058167   \n",
       "2008-10-09         2987.06         1876.96  3471.952611  2469.601167   \n",
       "2008-10-10         2987.06         1876.96  3450.978778  2451.972667   \n",
       "2008-10-13         2987.06         1876.96  3429.713389  2434.087500   \n",
       "\n",
       "                   MA30  \n",
       "date                     \n",
       "2008-09-23  2262.171667  \n",
       "2008-09-24  2250.214000  \n",
       "2008-09-25  2240.755000  \n",
       "2008-09-26  2234.237667  \n",
       "2008-10-06  2226.443333  \n",
       "2008-10-07  2212.863667  \n",
       "2008-10-08  2204.746333  \n",
       "2008-10-09  2195.652667  \n",
       "2008-10-10  2176.286333  \n",
       "2008-10-13  2158.569667  "
      ]
     },
     "execution_count": 5,
     "metadata": {},
     "output_type": "execute_result"
    },
    {
     "data": {
      "text/html": [
       "<div>\n",
       "<style scoped>\n",
       "    .dataframe tbody tr th:only-of-type {\n",
       "        vertical-align: middle;\n",
       "    }\n",
       "\n",
       "    .dataframe tbody tr th {\n",
       "        vertical-align: top;\n",
       "    }\n",
       "\n",
       "    .dataframe thead th {\n",
       "        text-align: right;\n",
       "    }\n",
       "</style>\n",
       "<table border=\"1\" class=\"dataframe\">\n",
       "  <thead>\n",
       "    <tr style=\"text-align: right;\">\n",
       "      <th></th>\n",
       "      <th>open</th>\n",
       "      <th>close</th>\n",
       "      <th>o_pct_chg</th>\n",
       "      <th>ROLLING_20_MAX</th>\n",
       "      <th>ROLLING_20_MIN</th>\n",
       "      <th>ROLLING_60_MAX</th>\n",
       "      <th>ROLLING_60_MIN</th>\n",
       "      <th>MA180</th>\n",
       "      <th>MA60</th>\n",
       "      <th>MA30</th>\n",
       "    </tr>\n",
       "    <tr>\n",
       "      <th>date</th>\n",
       "      <th></th>\n",
       "      <th></th>\n",
       "      <th></th>\n",
       "      <th></th>\n",
       "      <th></th>\n",
       "      <th></th>\n",
       "      <th></th>\n",
       "      <th></th>\n",
       "      <th></th>\n",
       "      <th></th>\n",
       "    </tr>\n",
       "  </thead>\n",
       "  <tbody>\n",
       "    <tr>\n",
       "      <th>2018-04-16</th>\n",
       "      <td>3862.47</td>\n",
       "      <td>3808.86</td>\n",
       "      <td>-0.014862</td>\n",
       "      <td>4097.02</td>\n",
       "      <td>3850.15</td>\n",
       "      <td>4389.45</td>\n",
       "      <td>3846.27</td>\n",
       "      <td>3970.873111</td>\n",
       "      <td>4073.852167</td>\n",
       "      <td>3976.503000</td>\n",
       "    </tr>\n",
       "    <tr>\n",
       "      <th>2018-04-17</th>\n",
       "      <td>3812.87</td>\n",
       "      <td>3748.64</td>\n",
       "      <td>-0.012842</td>\n",
       "      <td>4097.02</td>\n",
       "      <td>3812.87</td>\n",
       "      <td>4389.45</td>\n",
       "      <td>3812.87</td>\n",
       "      <td>3971.360500</td>\n",
       "      <td>4067.314333</td>\n",
       "      <td>3969.767000</td>\n",
       "    </tr>\n",
       "    <tr>\n",
       "      <th>2018-04-18</th>\n",
       "      <td>3785.31</td>\n",
       "      <td>3766.28</td>\n",
       "      <td>-0.007228</td>\n",
       "      <td>4097.02</td>\n",
       "      <td>3785.31</td>\n",
       "      <td>4389.45</td>\n",
       "      <td>3785.31</td>\n",
       "      <td>3971.622333</td>\n",
       "      <td>4059.905500</td>\n",
       "      <td>3961.888667</td>\n",
       "    </tr>\n",
       "    <tr>\n",
       "      <th>2018-04-19</th>\n",
       "      <td>3774.78</td>\n",
       "      <td>3811.84</td>\n",
       "      <td>-0.002782</td>\n",
       "      <td>4097.02</td>\n",
       "      <td>3774.78</td>\n",
       "      <td>4389.45</td>\n",
       "      <td>3774.78</td>\n",
       "      <td>3971.902333</td>\n",
       "      <td>4052.558167</td>\n",
       "      <td>3953.215000</td>\n",
       "    </tr>\n",
       "    <tr>\n",
       "      <th>2018-04-20</th>\n",
       "      <td>3801.21</td>\n",
       "      <td>3760.85</td>\n",
       "      <td>0.007002</td>\n",
       "      <td>4062.07</td>\n",
       "      <td>3774.78</td>\n",
       "      <td>4389.45</td>\n",
       "      <td>3774.78</td>\n",
       "      <td>3972.227722</td>\n",
       "      <td>4044.882000</td>\n",
       "      <td>3944.472000</td>\n",
       "    </tr>\n",
       "    <tr>\n",
       "      <th>2018-04-23</th>\n",
       "      <td>3754.69</td>\n",
       "      <td>3766.33</td>\n",
       "      <td>-0.012238</td>\n",
       "      <td>3935.67</td>\n",
       "      <td>3754.69</td>\n",
       "      <td>4389.45</td>\n",
       "      <td>3754.69</td>\n",
       "      <td>3972.404444</td>\n",
       "      <td>4036.470500</td>\n",
       "      <td>3934.996667</td>\n",
       "    </tr>\n",
       "    <tr>\n",
       "      <th>2018-04-24</th>\n",
       "      <td>3769.88</td>\n",
       "      <td>3843.49</td>\n",
       "      <td>0.004046</td>\n",
       "      <td>3935.67</td>\n",
       "      <td>3754.69</td>\n",
       "      <td>4389.45</td>\n",
       "      <td>3754.69</td>\n",
       "      <td>3972.787889</td>\n",
       "      <td>4027.936167</td>\n",
       "      <td>3924.390333</td>\n",
       "    </tr>\n",
       "    <tr>\n",
       "      <th>2018-04-25</th>\n",
       "      <td>3824.59</td>\n",
       "      <td>3828.70</td>\n",
       "      <td>0.014512</td>\n",
       "      <td>3935.67</td>\n",
       "      <td>3754.69</td>\n",
       "      <td>4389.45</td>\n",
       "      <td>3754.69</td>\n",
       "      <td>3973.460667</td>\n",
       "      <td>4020.404667</td>\n",
       "      <td>3914.186333</td>\n",
       "    </tr>\n",
       "    <tr>\n",
       "      <th>2018-04-26</th>\n",
       "      <td>3823.39</td>\n",
       "      <td>3755.49</td>\n",
       "      <td>-0.000314</td>\n",
       "      <td>3935.67</td>\n",
       "      <td>3754.69</td>\n",
       "      <td>4389.45</td>\n",
       "      <td>3754.69</td>\n",
       "      <td>3974.021556</td>\n",
       "      <td>4011.679667</td>\n",
       "      <td>3904.155000</td>\n",
       "    </tr>\n",
       "    <tr>\n",
       "      <th>2018-04-27</th>\n",
       "      <td>3771.04</td>\n",
       "      <td>3756.88</td>\n",
       "      <td>-0.013692</td>\n",
       "      <td>3935.67</td>\n",
       "      <td>3754.69</td>\n",
       "      <td>4387.06</td>\n",
       "      <td>3754.69</td>\n",
       "      <td>3974.201000</td>\n",
       "      <td>4001.372833</td>\n",
       "      <td>3893.987667</td>\n",
       "    </tr>\n",
       "  </tbody>\n",
       "</table>\n",
       "</div>"
      ],
      "text/plain": [
       "               open    close  o_pct_chg  ROLLING_20_MAX  ROLLING_20_MIN  \\\n",
       "date                                                                      \n",
       "2018-04-16  3862.47  3808.86  -0.014862         4097.02         3850.15   \n",
       "2018-04-17  3812.87  3748.64  -0.012842         4097.02         3812.87   \n",
       "2018-04-18  3785.31  3766.28  -0.007228         4097.02         3785.31   \n",
       "2018-04-19  3774.78  3811.84  -0.002782         4097.02         3774.78   \n",
       "2018-04-20  3801.21  3760.85   0.007002         4062.07         3774.78   \n",
       "2018-04-23  3754.69  3766.33  -0.012238         3935.67         3754.69   \n",
       "2018-04-24  3769.88  3843.49   0.004046         3935.67         3754.69   \n",
       "2018-04-25  3824.59  3828.70   0.014512         3935.67         3754.69   \n",
       "2018-04-26  3823.39  3755.49  -0.000314         3935.67         3754.69   \n",
       "2018-04-27  3771.04  3756.88  -0.013692         3935.67         3754.69   \n",
       "\n",
       "            ROLLING_60_MAX  ROLLING_60_MIN        MA180         MA60  \\\n",
       "date                                                                   \n",
       "2018-04-16         4389.45         3846.27  3970.873111  4073.852167   \n",
       "2018-04-17         4389.45         3812.87  3971.360500  4067.314333   \n",
       "2018-04-18         4389.45         3785.31  3971.622333  4059.905500   \n",
       "2018-04-19         4389.45         3774.78  3971.902333  4052.558167   \n",
       "2018-04-20         4389.45         3774.78  3972.227722  4044.882000   \n",
       "2018-04-23         4389.45         3754.69  3972.404444  4036.470500   \n",
       "2018-04-24         4389.45         3754.69  3972.787889  4027.936167   \n",
       "2018-04-25         4389.45         3754.69  3973.460667  4020.404667   \n",
       "2018-04-26         4389.45         3754.69  3974.021556  4011.679667   \n",
       "2018-04-27         4387.06         3754.69  3974.201000  4001.372833   \n",
       "\n",
       "                   MA30  \n",
       "date                     \n",
       "2018-04-16  3976.503000  \n",
       "2018-04-17  3969.767000  \n",
       "2018-04-18  3961.888667  \n",
       "2018-04-19  3953.215000  \n",
       "2018-04-20  3944.472000  \n",
       "2018-04-23  3934.996667  \n",
       "2018-04-24  3924.390333  \n",
       "2018-04-25  3914.186333  \n",
       "2018-04-26  3904.155000  \n",
       "2018-04-27  3893.987667  "
      ]
     },
     "execution_count": 5,
     "metadata": {},
     "output_type": "execute_result"
    }
   ],
   "source": [
    "stock_df_dict['399300'].head(10)\n",
    "stock_df_dict['399300'].tail(10)"
   ]
  },
  {
   "cell_type": "code",
   "execution_count": 6,
   "metadata": {
    "scrolled": false
   },
   "outputs": [],
   "source": [
    "# %matplotlib inline\n",
    "\n",
    "# import matplotlib\n",
    "# import matplotlib.pyplot as plt\n",
    "# plt.rcParams['figure.figsize'] = [30, 20]\n",
    "\n",
    "# df = stock_df_dict['TSLA'].iloc[800:].copy()\n",
    "# df.columns\n",
    "# df.tail(10)\n",
    "# # df[(df.open == df.rolling_60_max)]\n",
    "# # df[(df.open >= df.rolling_60_max) & (df.MA30 > df.MA60)]\n",
    "# # df[(df.MA30 > df.MA60)]\n",
    "\n",
    "# # df = df.loc[:, ['open', 'ROLLING_60_MAX', 'rolling_30_min', 'MA60', 'MA30']]\n",
    "\n",
    "# df.reset_index(drop=False, inplace=True)\n",
    "# df = df.astype(dtype={'date': 'datetime64[ns]'})\n",
    "# df.set_index('date', inplace=True)\n",
    "# # df.index.astype()\n",
    "\n",
    "# display_charts(df, chart_type='stock', kind='line', y=['open', 'ROLLING_60_MAX', 'ROLLING_60_MIN'], figsize=(900, 600), logy=False)\n",
    "\n",
    "# # display_charts(df)\n",
    "\n",
    "# # ax = df.plot(kind='line', y=['open', 'rolling_max', 'rolling_min'], label='', linewidth=1)\n",
    "\n",
    "# # sum_buy_sig_short = 0\n",
    "# # sum_buy_sig_long = 0\n",
    "# # for symbol in NASDAQ100:\n",
    "# #     tdf = stock_df_dict[symbol]\n",
    "# #     buy_sig_short = tdf[(stock_df_dict[symbol].open == stock_df_dict[symbol]['ROLLING_%d_MAX' % TURTLE_SHORT_BUY_N])]\n",
    "# #     buy_sig_long = tdf[(stock_df_dict[symbol].open == stock_df_dict[symbol]['ROLLING_%d_MAX' % TURTLE_LONG_BUY_N])]\n",
    "# #     buy_sig_short_2 = buy_sig_short[buy_sig_short.MA30 >= buy_sig_short.MA180]\n",
    "# #     buy_sig_long_2 = buy_sig_long[buy_sig_long.MA30 >= buy_sig_long.MA180]\n",
    "# # #     print(symbol, len(tdf), len(buy_sig_short), len(buy_sig_short_2), len(buy_sig_long), len(buy_sig_long_2))\n",
    "# #     sum_buy_sig_short += len(buy_sig_short_2)\n",
    "# #     sum_buy_sig_long += len(buy_sig_long_2)\n",
    "# # print(len(stock_df_dict['NDX']), sum_buy_sig_short, sum_buy_sig_long)"
   ]
  },
  {
   "cell_type": "code",
   "execution_count": 7,
   "metadata": {
    "scrolled": false
   },
   "outputs": [],
   "source": [
    "# algo = stock_df_dict['TSLA'].open.pct_change()\n",
    "# benchmark = stock_df_dict['NDX'].open.pct_change()\n",
    "\n",
    "# 'cum_returns', emp.cum_returns(algo)[-1]\n",
    "# 'max_drawdown', emp.max_drawdown(algo), emp.max_drawdown(benchmark)\n",
    "# 'annual_return', emp.annual_return(algo), emp.annual_return(benchmark)\n",
    "# 'annual_volatility', emp.annual_volatility(algo, period='daily')\n",
    "# 'calmar_ratio', emp.calmar_ratio(algo)\n",
    "# 'sharpe_ratio', emp.sharpe_ratio(returns=algo)\n",
    "# 'alpha', emp.alpha(returns=algo, factor_returns=benchmark, risk_free=0.00)\n",
    "# 'beta', emp.beta(returns=algo, factor_returns=benchmark, risk_free=0.00)\n",
    "\n",
    "# emp_df = None\n",
    "# emp_df = pd.DataFrame(columns=[\n",
    "#     'symbol', 'cum_returns', 'annual_return', 'annual_volatility', 'max_drawdown', 'alpha', 'beta', 'sharpe_ratio', 'calmar_ratio'\n",
    "# ])\n",
    "\n",
    "# for symbol in NASDAQ100:\n",
    "#     algo = stock_df_dict[symbol].open.pct_change()\n",
    "#     emp_df = emp_df.append(\n",
    "#         {\n",
    "#             'symbol': symbol,\n",
    "#             'cum_returns': emp.cum_returns(algo)[-1],\n",
    "#             'annual_return': emp.annual_return(algo),\n",
    "#             'annual_volatility': emp.annual_volatility(algo, period='daily'),\n",
    "#             'max_drawdown': emp.max_drawdown(algo),\n",
    "#             'alpha': round(emp.alpha(returns=algo, factor_returns=benchmark, risk_free=0.00), 2),\n",
    "#             'beta': round(emp.beta(returns=algo, factor_returns=benchmark, risk_free=0.00), 2),\n",
    "#             'sharpe_ratio': emp.sharpe_ratio(returns=algo),\n",
    "#             'calmar_ratio': emp.calmar_ratio(algo)\n",
    "#         },\n",
    "#         ignore_index=True,\n",
    "#     )\n",
    "\n",
    "# # emp_df\n",
    "# # emp_df.sort_values('cum_returns', ascending=False)\n",
    "# # emp_df.sort_values('sharpe_ratio', ascending=False)"
   ]
  },
  {
   "cell_type": "code",
   "execution_count": 8,
   "metadata": {},
   "outputs": [
    {
     "name": "stdout",
     "output_type": "stream",
     "text": [
      "Wall time: 501 µs\n"
     ]
    }
   ],
   "source": [
    "%%time\n",
    "\n",
    "show_df = None\n",
    "show_df = stock_df_dict['399300'].copy()"
   ]
  },
  {
   "cell_type": "code",
   "execution_count": 9,
   "metadata": {
    "scrolled": false
   },
   "outputs": [
    {
     "name": "stdout",
     "output_type": "stream",
     "text": [
      "92528.689\n",
      "0\n",
      "92528.689\n",
      "BENCHMARK 4045.21 3771.04 0.932223543401\n",
      "Wall time: 20.6 s\n"
     ]
    }
   ],
   "source": [
    "%%time\n",
    "# %xmode\n",
    "\n",
    "PROPERTY = START_MONEY\n",
    "CASH = START_MONEY\n",
    "\n",
    "order_df = None\n",
    "order_df = pd.DataFrame(columns=[\n",
    "    'buy_date', 'symbol', 'buy_count', 'buy_price', 'buy_reason', 'sell_date', 'sell_price', 'sell_reason', 'profit', 'cash', 'property'\n",
    "])\n",
    "count_day = 0\n",
    "yesterday = None\n",
    "miss_buy_short = 0\n",
    "miss_buy_long = 0\n",
    "\n",
    "for today in pd.period_range(start=start_date, end=end_date, freq='D'):\n",
    "    count_day += 1\n",
    "    \n",
    "    if yesterday is None:\n",
    "        yesterday = today\n",
    "        continue\n",
    "\n",
    "    if today not in stock_df_dict['399300'].index:\n",
    "        continue\n",
    "\n",
    "    if IS_HAPPYMONEY:        \n",
    "        if PROPERTY > START_MONEY * 2:\n",
    "            HAPPY_MONEY += 50000\n",
    "            PROPERTY -= 50000\n",
    "            CASH = PROPERTY\n",
    "    \n",
    "    # 买卖过程\n",
    "    for symbol in HS300[:]:\n",
    "#     for symbol in ['TSLA']:\n",
    "        if symbol in ['ALGN', 'ROST', 'ORLY', 'ESRX', 'ULTA', 'REGN', 'MNST']:\n",
    "#             continue\n",
    "            pass\n",
    "\n",
    "        if symbol == '399300':\n",
    "            continue\n",
    "        \n",
    "        if today not in stock_df_dict[symbol].index or yesterday not in stock_df_dict[symbol].index:\n",
    "            continue\n",
    "            \n",
    "        # TIME TEST\n",
    "#         print(order_df)\n",
    "#         print(order_df.columns)\n",
    "        \n",
    "#         %timeit (len(order_df[order_df['symbol'] == symbol]) != 0)\n",
    "#         %timeit order_df[order_df['symbol'] == symbol].shape[0] != 0\n",
    "#         %timeit n_order_df = order_df.values\n",
    "#         %timeit len(n_order_df[n_order_df[:, 1] == symbol]) != 0\n",
    "#         %timeit (len(order_df[(order_df['symbol'] == symbol) & (order_df['sell_price'] == 0)]) == 0)\n",
    "\n",
    "\n",
    "#         iiidx = stock_df_dict[symbol].index.get_loc(today)\n",
    "#         print(iiidx, type(iiidx))\n",
    "#         %timeit stock_df_dict[symbol].loc[today]\n",
    "#         %timeit n_stock_df = stock_df_dict[symbol].values\n",
    "#         %timeit n_stock_df[iiidx]\n",
    "        \n",
    "#         %timeit (stock_df_dict[symbol].loc[today, 'open'] >= stock_df_dict[symbol].loc[today, 'rolling_max'])\n",
    "#         %timeit (stock_df_dict[symbol].loc[today, 'open'] >= stock_df_dict[symbol].loc[today, 'rolling_max'])\n",
    "\n",
    "#         %timeit int(stock_df_dict[symbol].shift(1).loc[today, 'Unit'])\n",
    "#         %timeit int(CASH / stock_df_dict[symbol].loc[today, 'open'])\n",
    "#         %timeit buy_count * stock_df_dict[symbol].loc[today, 'open']\n",
    "#         %timeit stock_df_dict[symbol]\n",
    "#         %timeit stock_df_dict[symbol].loc[today, 'open']\n",
    "#         %timeit (stock_df_dict[symbol].loc[today, 'open'] > order_df[(order_df['symbol'] == symbol) & (order_df['sell_price'] == 0)].buy_price.iloc[-1] + 0.5 * stock_df_dict[symbol].shift(1).loc[today, 'N'])\n",
    "        \n",
    "#         n_order_df = order_df.values\n",
    "#         n_stock_df = stock_df_dict[symbol].values\n",
    "#         today_idx = stock_df_dict[symbol].index.get_loc(today)\n",
    "#         is_has_order = (len(n_order_df[n_order_df[:, 1] == symbol]) != 0)\n",
    "#         is_order_soldout = not is_has_order and (len(n_order_df[n_order_df[:, 6] == symbol]) == 0)\n",
    "        \n",
    "#         is_has_order = (len(order_df[order_df['symbol'] == symbol]) != 0)\n",
    "#         is_order_soldout = (len(order_df[(order_df['symbol'] == symbol) & (order_df['sell_price'] == 0)]) == 0)\n",
    "        \n",
    "    \n",
    "#         '''\n",
    "#         'buy_date', 'symbol', 'buy_count', 'buy_price', 'buy_reason', 'sell_date', 'sell_price', 'sell_reason', 'profit', 'cash', 'property'\n",
    "#         stock_df['ROLLING_%d_MAX' % TURTLE_SHORT_BUY_N] = stock_df['open'].rolling(TURTLE_SHORT_BUY_N).max()\n",
    "#         stock_df['ROLLING_%d_MIN' % TURTLE_SHORT_SELL_N] = stock_df['open'].rolling(TURTLE_SHORT_SELL_N).min()\n",
    "#         stock_df['ROLLING_%d_MAX' % TURTLE_LONG_BUY_N] = stock_df['open'].rolling(TURTLE_LONG_BUY_N).max()\n",
    "#         stock_df['ROLLING_%d_MIN' % TURTLE_LONG_SELL_N] = stock_df['open'].rolling(TURTLE_LONG_SELL_N).min()\n",
    "#         '''\n",
    "\n",
    "        today_market = stock_df_dict[symbol].loc[today]\n",
    "        \n",
    "        # 突破下行趋势，清仓退出\n",
    "        order_arr = order_df.to_records(index=False)\n",
    "        if len(order_arr[(order_arr.symbol == symbol) & (order_arr.sell_price == 0)] ) != 0:\n",
    "            is_sell = False\n",
    "            for idx in order_df[(order_df['symbol'] == symbol) & (order_df['sell_price'] == 0)].index:\n",
    "                cur_order = order_df.loc[idx]\n",
    "                if cur_order.buy_reason == 'SHORT':\n",
    "                    is_sell = (today_market.open <= today_market['ROLLING_%d_MIN' % TURTLE_SHORT_SELL_N])\n",
    "                if cur_order.buy_reason == 'LONG':\n",
    "                    is_sell = (today_market.open <= today_market['ROLLING_%d_MIN' % TURTLE_LONG_SELL_N])\n",
    "                if is_sell:\n",
    "                    CASH += cur_order.buy_count * today_market.open\n",
    "                    order_df.loc[idx, 'sell_date'] = today\n",
    "                    order_df.loc[idx, 'sell_price'] = today_market.open\n",
    "                    order_df.loc[idx, 'sell_reason'] = 'EXIT'\n",
    "                    order_df.loc[idx, 'profit'] = \\\n",
    "                        (today_market.open - cur_order.buy_price) * cur_order.buy_count\n",
    "#                 print(today, '退出', stock_df_dict[symbol].loc[today, 'open'], CASH)\n",
    "\n",
    "\n",
    "        # 突破上行趋势，就买一份\n",
    "        order_arr = order_df.to_records(index=False)\n",
    "        if today_market.MA60 >= today_market.MA180:\n",
    "#         if today_market.MA30 >= today_market.MA180:\n",
    "            is_buy = False\n",
    "            if today_market.open >= today_market['ROLLING_%d_MAX' % TURTLE_LONG_BUY_N]:\n",
    "                is_buy = True\n",
    "                buy_reason = 'LONG'\n",
    "            elif False and today_market.open >= today_market['ROLLING_%d_MAX' % TURTLE_SHORT_BUY_N]:\n",
    "                is_buy = True\n",
    "                buy_reason = 'SHORT'\n",
    "            if is_buy:\n",
    "                buy_count = 0\n",
    "                \n",
    "                if IS_SLIPPAGE:\n",
    "                    buy_price = today_market.open * (1 + random.randint(0, 20) / 1000)\n",
    "                else:\n",
    "                    buy_price = today_market.open\n",
    "\n",
    "                if CASH >= START_MONEY / TURTLE_POS:\n",
    "                    buy_count = int((START_MONEY / TURTLE_POS) / buy_price)\n",
    "                \n",
    "                if IS_RANDOM_BUY:\n",
    "                    if random.randint(0, 100) > 50:\n",
    "                        buy_count = 0\n",
    "\n",
    "                if buy_count > 0:\n",
    "#                     buy_count = 1\n",
    "                    CASH -= buy_count * buy_price\n",
    "#                     print(today, '建仓', buy_count, stock_df_dict[symbol].loc[today, 'open'], CASH)\n",
    "                    order_df = order_df.append(\n",
    "                        {\n",
    "                            'buy_date': today,\n",
    "                            'symbol': symbol,\n",
    "                            'buy_count': buy_count,\n",
    "                            'buy_price': today_market.open,\n",
    "                            'buy_reason': buy_reason,\n",
    "                            'sell_date': pd.np.nan,\n",
    "                            'sell_price': 0,\n",
    "                            'profit': 0,\n",
    "                            'cash': CASH,\n",
    "                            'property': PROPERTY,\n",
    "                        },\n",
    "                        ignore_index=True\n",
    "                    )\n",
    "                else:\n",
    "                    if buy_reason == 'LONG':\n",
    "                        miss_buy_long += 1\n",
    "                    elif buy_reason == 'SHORT':\n",
    "                        miss_buy_short += 1\n",
    "            \n",
    "    # 每天盘点财产\n",
    "    show_df.loc[today, 'CASH_TURTLE_%d_%d_%d' % (TURTLE_POS, TURTLE_LONG_BUY_N, TURTLE_LONG_SELL_N)] = CASH\n",
    "    PROPERTY = CASH + \\\n",
    "        sum(\n",
    "            [\n",
    "                stock_df_dict[order_df.loc[idx, 'symbol']][:today].iloc[-1].open * order_df.loc[idx, 'buy_count'] \\\n",
    "                for idx in order_df.loc[order_df['sell_price']==0].index\n",
    "            ]\n",
    "        )\n",
    "    show_df.loc[today, 'PROPERTY_TURTLE_%d_%d_%d' % (TURTLE_POS, TURTLE_LONG_BUY_N, TURTLE_LONG_SELL_N)] = PROPERTY\n",
    "\n",
    "    yesterday = today\n",
    "\n",
    "\n",
    "    \n",
    "# 最后一天，清仓\n",
    "order_arr = order_df.to_records(index=False)\n",
    "for idx in order_df[order_df['sell_price'] == 0].index:\n",
    "    cur_order = order_df.loc[idx]\n",
    "    symbol = cur_order['symbol']\n",
    "    today_market = stock_df_dict[symbol][:today].iloc[-1]\n",
    "    CASH += cur_order.buy_count * today_market.open\n",
    "    order_df.loc[idx, 'sell_date'] = today\n",
    "    order_df.loc[idx, 'sell_price'] = today_market.open\n",
    "    order_df.loc[idx, 'sell_reason'] = 'EXIT'\n",
    "    order_df.loc[idx, 'profit'] = \\\n",
    "        (today_market.open - cur_order.buy_price) * cur_order.buy_count\n",
    "\n",
    "\n",
    "print(CASH)\n",
    "print(HAPPY_MONEY)\n",
    "print(PROPERTY)\n",
    "\n",
    "s_p = stock_df_dict['399300'][start_date:].iloc[0].open\n",
    "e_p = stock_df_dict['399300'].iloc[-1].open\n",
    "print('BENCHMARK', s_p, e_p, e_p / s_p)\n"
   ]
  },
  {
   "cell_type": "code",
   "execution_count": 10,
   "metadata": {
    "scrolled": false
   },
   "outputs": [
    {
     "data": {
      "text/plain": [
       "'ALL'"
      ]
     },
     "execution_count": 10,
     "metadata": {},
     "output_type": "execute_result"
    },
    {
     "data": {
      "text/plain": [
       "('start_date', '2018-01-01')"
      ]
     },
     "execution_count": 10,
     "metadata": {},
     "output_type": "execute_result"
    },
    {
     "data": {
      "text/plain": [
       "('end_date', '2018-04-27')"
      ]
     },
     "execution_count": 10,
     "metadata": {},
     "output_type": "execute_result"
    },
    {
     "data": {
      "text/plain": [
       "('TURTLE_POS', 20)"
      ]
     },
     "execution_count": 10,
     "metadata": {},
     "output_type": "execute_result"
    },
    {
     "data": {
      "text/plain": [
       "('TURTLE_SHORT_BUY_N', 20)"
      ]
     },
     "execution_count": 10,
     "metadata": {},
     "output_type": "execute_result"
    },
    {
     "data": {
      "text/plain": [
       "('TURTLE_SHORT_SELL_N', 20)"
      ]
     },
     "execution_count": 10,
     "metadata": {},
     "output_type": "execute_result"
    },
    {
     "data": {
      "text/plain": [
       "('TURTLE_LONG_BUY_N', 60)"
      ]
     },
     "execution_count": 10,
     "metadata": {},
     "output_type": "execute_result"
    },
    {
     "data": {
      "text/plain": [
       "('TURTLE_LONG_SELL_N', 60)"
      ]
     },
     "execution_count": 10,
     "metadata": {},
     "output_type": "execute_result"
    },
    {
     "data": {
      "text/plain": [
       "('IS_HAPPYMONEY', False)"
      ]
     },
     "execution_count": 10,
     "metadata": {},
     "output_type": "execute_result"
    },
    {
     "data": {
      "text/plain": [
       "('IS_TAX', False)"
      ]
     },
     "execution_count": 10,
     "metadata": {},
     "output_type": "execute_result"
    },
    {
     "data": {
      "text/plain": [
       "('IS_SLIPPAGE', False)"
      ]
     },
     "execution_count": 10,
     "metadata": {},
     "output_type": "execute_result"
    },
    {
     "data": {
      "text/plain": [
       "('IS_RANDOM_BUY', True)"
      ]
     },
     "execution_count": 10,
     "metadata": {},
     "output_type": "execute_result"
    },
    {
     "data": {
      "text/plain": [
       "('START_MONEY', 100000)"
      ]
     },
     "execution_count": 10,
     "metadata": {},
     "output_type": "execute_result"
    },
    {
     "data": {
      "text/plain": [
       "('len(order_df)', 31)"
      ]
     },
     "execution_count": 10,
     "metadata": {},
     "output_type": "execute_result"
    },
    {
     "data": {
      "text/plain": [
       "('sum_profit', -7471.3110000000033)"
      ]
     },
     "execution_count": 10,
     "metadata": {},
     "output_type": "execute_result"
    },
    {
     "data": {
      "text/plain": [
       "('sum_tax', 0)"
      ]
     },
     "execution_count": 10,
     "metadata": {},
     "output_type": "execute_result"
    },
    {
     "data": {
      "text/plain": [
       "('win rate', 0.45161290322580644)"
      ]
     },
     "execution_count": 10,
     "metadata": {},
     "output_type": "execute_result"
    },
    {
     "data": {
      "text/plain": [
       "('len(order_df[order_df.profit != 0])', 31)"
      ]
     },
     "execution_count": 10,
     "metadata": {},
     "output_type": "execute_result"
    },
    {
     "data": {
      "text/plain": [
       "('len(order_df[order_df.profit > 0])', 14)"
      ]
     },
     "execution_count": 10,
     "metadata": {},
     "output_type": "execute_result"
    },
    {
     "data": {
      "text/plain": [
       "('order LONG', 31)"
      ]
     },
     "execution_count": 10,
     "metadata": {},
     "output_type": "execute_result"
    },
    {
     "data": {
      "text/plain": [
       "14"
      ]
     },
     "execution_count": 10,
     "metadata": {},
     "output_type": "execute_result"
    },
    {
     "data": {
      "text/plain": [
       "-7471.3110000000033"
      ]
     },
     "execution_count": 10,
     "metadata": {},
     "output_type": "execute_result"
    },
    {
     "data": {
      "text/plain": [
       "('order SHORT', 0)"
      ]
     },
     "execution_count": 10,
     "metadata": {},
     "output_type": "execute_result"
    },
    {
     "data": {
      "text/plain": [
       "0"
      ]
     },
     "execution_count": 10,
     "metadata": {},
     "output_type": "execute_result"
    },
    {
     "data": {
      "text/plain": [
       "0"
      ]
     },
     "execution_count": 10,
     "metadata": {},
     "output_type": "execute_result"
    },
    {
     "data": {
      "text/plain": [
       "('cum_returns', -0.074713110000000471, -0.067776456599285884)"
      ]
     },
     "execution_count": 10,
     "metadata": {},
     "output_type": "execute_result"
    },
    {
     "data": {
      "text/plain": [
       "('max_drawdown', -0.16030131604769746, -0.1446103725979334)"
      ]
     },
     "execution_count": 10,
     "metadata": {},
     "output_type": "execute_result"
    },
    {
     "data": {
      "text/plain": [
       "('annual_return', -0.22441056667721382, -0.20521897201533024)"
      ]
     },
     "execution_count": 10,
     "metadata": {},
     "output_type": "execute_result"
    },
    {
     "data": {
      "text/plain": [
       "('annual_volatility', 0.26937177561169784)"
      ]
     },
     "execution_count": 10,
     "metadata": {},
     "output_type": "execute_result"
    },
    {
     "data": {
      "text/plain": [
       "('calmar_ratio', -1.3999296587835919)"
      ]
     },
     "execution_count": 10,
     "metadata": {},
     "output_type": "execute_result"
    },
    {
     "data": {
      "text/plain": [
       "('sharpe_ratio', -0.8210003815852144)"
      ]
     },
     "execution_count": 10,
     "metadata": {},
     "output_type": "execute_result"
    },
    {
     "data": {
      "text/plain": [
       "('alpha', 0.023603305413304028)"
      ]
     },
     "execution_count": 10,
     "metadata": {},
     "output_type": "execute_result"
    },
    {
     "data": {
      "text/plain": [
       "('beta', 1.148885404025665)"
      ]
     },
     "execution_count": 10,
     "metadata": {},
     "output_type": "execute_result"
    },
    {
     "data": {
      "text/plain": [
       "('ALL DAY', 77)"
      ]
     },
     "execution_count": 10,
     "metadata": {},
     "output_type": "execute_result"
    },
    {
     "data": {
      "text/plain": [
       "'CASH_TURTLE_20_60_60'"
      ]
     },
     "execution_count": 10,
     "metadata": {},
     "output_type": "execute_result"
    },
    {
     "data": {
      "text/plain": [
       "'PROPERTY_TURTLE_20_60_60'"
      ]
     },
     "execution_count": 10,
     "metadata": {},
     "output_type": "execute_result"
    },
    {
     "data": {
      "text/plain": [
       "('CASH NOT USED DAY', 18)"
      ]
     },
     "execution_count": 10,
     "metadata": {},
     "output_type": "execute_result"
    },
    {
     "data": {
      "text/plain": [
       "('MISS_BUY_SIGNAL_LONG', 696)"
      ]
     },
     "execution_count": 10,
     "metadata": {},
     "output_type": "execute_result"
    },
    {
     "data": {
      "text/plain": [
       "('MISS_BUY_SIGNAL_SHORT', 0)"
      ]
     },
     "execution_count": 10,
     "metadata": {},
     "output_type": "execute_result"
    }
   ],
   "source": [
    "'ALL'\n",
    "'start_date', start_date\n",
    "'end_date', end_date\n",
    "'TURTLE_POS', TURTLE_POS\n",
    "'TURTLE_SHORT_BUY_N', TURTLE_SHORT_BUY_N\n",
    "'TURTLE_SHORT_SELL_N', TURTLE_SHORT_SELL_N\n",
    "'TURTLE_LONG_BUY_N', TURTLE_LONG_BUY_N\n",
    "'TURTLE_LONG_SELL_N', TURTLE_LONG_SELL_N\n",
    "'IS_HAPPYMONEY', IS_HAPPYMONEY\n",
    "'IS_TAX', IS_TAX\n",
    "'IS_SLIPPAGE', IS_SLIPPAGE\n",
    "'IS_RANDOM_BUY', IS_RANDOM_BUY\n",
    "'START_MONEY', START_MONEY\n",
    "\n",
    "'len(order_df)', len(order_df)\n",
    "sum_profit = sum(list(order_df['profit']))\n",
    "'sum_profit', sum_profit\n",
    "# sum_tax = sum(list(order_df_TB['tax']))\n",
    "sum_tax = 0\n",
    "'sum_tax', sum_tax\n",
    "'win rate', len(order_df[order_df.profit > 0]) / len(order_df[order_df.profit != 0])\n",
    "# 'REWARD', ((sum_profit - sum_tax) / START_MONEY + 1) ** (365 / count_day)\n",
    "'len(order_df[order_df.profit != 0])', len(order_df[order_df.profit != 0])\n",
    "'len(order_df[order_df.profit > 0])', len(order_df[order_df.profit > 0])\n",
    "'order LONG', len(order_df[order_df.buy_reason == 'LONG'])\n",
    "len(order_df[(order_df.buy_reason == 'LONG') & (order_df.profit > 0)])\n",
    "sum(list(order_df[order_df.buy_reason == 'LONG']['profit']))\n",
    "'order SHORT', len(order_df[order_df.buy_reason == 'SHORT'])\n",
    "len(order_df[(order_df.buy_reason == 'SHORT') & (order_df.profit > 0)])\n",
    "sum(list(order_df[order_df.buy_reason == 'SHORT']['profit']))\n",
    "\n",
    "# order_df\n",
    "# order_df.loc[order_df['sell_price']==0]\n",
    "\n",
    "calc_df = order_df.copy()\n",
    "calc_df['profit_pct'] = calc_df['profit'] / (calc_df['buy_count'] * calc_df['buy_price'])\n",
    "# calc_df[calc_df.symbol == 'BIDU']\n",
    "# calc_df[calc_df.profit > 0]\n",
    "# calc_df\n",
    "\n",
    "# order_df[order_df.profit > 0]\n",
    "\n",
    "# csv_file = 'E:/Dev/result/T_TURTLE_POS%d_TURTLE_BUY_N%d_TURTLE_SELL_N%d_START_MONEY%d_%s_%s.csv' % \\\n",
    "#     (TURTLE_POS, TURTLE_BUY_N, TURTLE_SELL_N, START_MONEY, start_date, end_date)\n",
    "# calc_df.to_csv(csv_file)\n",
    "\n",
    "# list(show_df.dropna(how='any', inplace=False).PROPERTY_TURTLE_20_60_60.apply(int).tail(50))\n",
    "# list(show_df.open.apply(int).tail(50))\n",
    "\n",
    "df = show_df.dropna(how='any', inplace=False).copy()\n",
    "algo = df['PROPERTY_TURTLE_%d_%d_%d' % (TURTLE_POS, TURTLE_LONG_BUY_N, TURTLE_LONG_SELL_N)].pct_change()\n",
    "benchmark = df.open.pct_change()\n",
    "\n",
    "'cum_returns', emp.cum_returns(algo)[-1], emp.cum_returns(benchmark)[-1]\n",
    "'max_drawdown', emp.max_drawdown(algo), emp.max_drawdown(benchmark)\n",
    "'annual_return', emp.annual_return(algo), emp.annual_return(benchmark)\n",
    "'annual_volatility', emp.annual_volatility(algo, period='daily')\n",
    "'calmar_ratio', emp.calmar_ratio(algo)\n",
    "'sharpe_ratio', emp.sharpe_ratio(returns=algo)\n",
    "'alpha', emp.alpha(returns=algo, factor_returns=benchmark, risk_free=0.00)\n",
    "'beta', emp.beta(returns=algo, factor_returns=benchmark, risk_free=0.00)\n",
    "\n",
    "'ALL DAY', len(df)\n",
    "'CASH_TURTLE_%d_%d_%d' % (TURTLE_POS, TURTLE_LONG_BUY_N, TURTLE_LONG_SELL_N)\n",
    "'PROPERTY_TURTLE_%d_%d_%d' % (TURTLE_POS, TURTLE_LONG_BUY_N, TURTLE_LONG_SELL_N)\n",
    "'CASH NOT USED DAY', \\\n",
    "    len(df[df['CASH_TURTLE_%d_%d_%d' % (TURTLE_POS, TURTLE_LONG_BUY_N, TURTLE_LONG_SELL_N)] > \\\n",
    "           df['PROPERTY_TURTLE_%d_%d_%d' % (TURTLE_POS, TURTLE_LONG_BUY_N, TURTLE_LONG_SELL_N)] / TURTLE_POS])\n",
    "'MISS_BUY_SIGNAL_LONG', miss_buy_long\n",
    "'MISS_BUY_SIGNAL_SHORT', miss_buy_short"
   ]
  },
  {
   "cell_type": "code",
   "execution_count": 11,
   "metadata": {
    "scrolled": false
   },
   "outputs": [
    {
     "data": {
      "text/html": [
       "<div>\n",
       "<style scoped>\n",
       "    .dataframe tbody tr th:only-of-type {\n",
       "        vertical-align: middle;\n",
       "    }\n",
       "\n",
       "    .dataframe tbody tr th {\n",
       "        vertical-align: top;\n",
       "    }\n",
       "\n",
       "    .dataframe thead th {\n",
       "        text-align: right;\n",
       "    }\n",
       "</style>\n",
       "<table border=\"1\" class=\"dataframe\">\n",
       "  <thead>\n",
       "    <tr style=\"text-align: right;\">\n",
       "      <th></th>\n",
       "      <th>pro_pct</th>\n",
       "    </tr>\n",
       "    <tr>\n",
       "      <th>symbol</th>\n",
       "      <th></th>\n",
       "    </tr>\n",
       "  </thead>\n",
       "  <tbody>\n",
       "    <tr>\n",
       "      <th>000963</th>\n",
       "      <td>0.168643</td>\n",
       "    </tr>\n",
       "    <tr>\n",
       "      <th>600346</th>\n",
       "      <td>0.153165</td>\n",
       "    </tr>\n",
       "    <tr>\n",
       "      <th>300003</th>\n",
       "      <td>0.125501</td>\n",
       "    </tr>\n",
       "    <tr>\n",
       "      <th>600585</th>\n",
       "      <td>0.052478</td>\n",
       "    </tr>\n",
       "    <tr>\n",
       "      <th>002044</th>\n",
       "      <td>0.050992</td>\n",
       "    </tr>\n",
       "    <tr>\n",
       "      <th>600436</th>\n",
       "      <td>0.044906</td>\n",
       "    </tr>\n",
       "    <tr>\n",
       "      <th>300015</th>\n",
       "      <td>0.044215</td>\n",
       "    </tr>\n",
       "    <tr>\n",
       "      <th>601877</th>\n",
       "      <td>0.037237</td>\n",
       "    </tr>\n",
       "    <tr>\n",
       "      <th>600028</th>\n",
       "      <td>0.035068</td>\n",
       "    </tr>\n",
       "    <tr>\n",
       "      <th>600570</th>\n",
       "      <td>0.027511</td>\n",
       "    </tr>\n",
       "  </tbody>\n",
       "</table>\n",
       "</div>"
      ],
      "text/plain": [
       "         pro_pct\n",
       "symbol          \n",
       "000963  0.168643\n",
       "600346  0.153165\n",
       "300003  0.125501\n",
       "600585  0.052478\n",
       "002044  0.050992\n",
       "600436  0.044906\n",
       "300015  0.044215\n",
       "601877  0.037237\n",
       "600028  0.035068\n",
       "600570  0.027511"
      ]
     },
     "execution_count": 11,
     "metadata": {},
     "output_type": "execute_result"
    }
   ],
   "source": [
    "df = order_df.copy()\n",
    "df.drop(columns=['sell_reason'], inplace=True)\n",
    "df['pro_pct'] = (df.sell_price - df.buy_price) / df.buy_price\n",
    "# df.sell_date.dtypes\n",
    "# df.loc[1].sell_date\n",
    "# df.loc[1].sell_date.to_timestamp()\n",
    "\n",
    "# df = df.astype(dtype={'sell_date': 'datetime64[ns]', 'buy_date': 'datetime64[ns]', 'cash':'int'})\n",
    "df = df.astype(dtype={'cash': 'int'})\n",
    "# df.loc[1].sell_date\n",
    "\n",
    "# type(df[1].sell_date)\n",
    "df['h_days'] = (df.sell_date - df.buy_date)\n",
    "# df.loc[1].h_days\n",
    "# type(df.loc[1].h_days)\n",
    "\n",
    "df['h_days'] = df['h_days'].apply(lambda x: 1 if x == 0 else x)\n",
    "# df.loc[1].h_days\n",
    "\n",
    "df['per_d'] = df.pro_pct / df.h_days * 365\n",
    "# df['per_d'] = df.apply(lambda x: x.pro_pct / x.h_days)\n",
    "\n",
    "# df\n",
    "# df.sort_values(by='pro_pct', ascending=False)\n",
    "# df.sort_values(by='per_d', ascending=False)\n",
    "\n",
    "df = df.loc[:, ['symbol', 'pro_pct']]\n",
    "df = df.groupby(by='symbol').sum()\n",
    "df.sort_values(by='pro_pct', ascending=False).head(10)"
   ]
  },
  {
   "cell_type": "code",
   "execution_count": 12,
   "metadata": {
    "scrolled": true
   },
   "outputs": [
    {
     "data": {
      "text/plain": [
       "165"
      ]
     },
     "execution_count": 12,
     "metadata": {},
     "output_type": "execute_result"
    }
   ],
   "source": [
    "bad_stock_cnt = 0\n",
    "s_p = stock_df_dict['399300'][start_date:].iloc[0].open\n",
    "e_p = stock_df_dict['399300'].iloc[-1].open\n",
    "benchmark_return = e_p / s_p\n",
    "for symbol, stock_df in stock_df_dict.items():\n",
    "    df = stock_df.loc[start_date:end_date, 'close']\n",
    "#     print(df)\n",
    "    s_p = df.head(1).values\n",
    "    e_p = df.tail(1).values\n",
    "#     print(symbol, s_p, e_p, e_p / s_p)\n",
    "    if e_p / s_p < benchmark_return:\n",
    "        bad_stock_cnt += 1\n",
    "bad_stock_cnt\n"
   ]
  },
  {
   "cell_type": "code",
   "execution_count": 13,
   "metadata": {
    "scrolled": false
   },
   "outputs": [],
   "source": [
    "# %matplotlib inline\n",
    "\n",
    "# import sys\n",
    "# import matplotlib\n",
    "# import matplotlib.pyplot as plt\n",
    "# plt.rcParams['figure.figsize'] = [15, 10]\n",
    "\n",
    "# # order_df_TB\n",
    "# bar_df = order_df.copy()\n",
    "# df = bar_df.sort_values(by=['profit'])\n",
    "# # df\n",
    "\n",
    "# bins = [100 * x for x in range(-200, 500)]\n",
    "# # bins\n",
    "\n",
    "# cats = pd.cut(df['profit'], bins)\n",
    "# # cats\n",
    "\n",
    "# def get_stats(group):\n",
    "#     return {'count': group.count()}\n",
    "\n",
    "# grouped = df['profit'].groupby(cats)\n",
    "# bin_counts = grouped.apply(get_stats).unstack()\n",
    "# bin_counts.reset_index(inplace=True, drop=False)\n",
    "# bin_counts['profit'] = bin_counts['profit'].apply(str)\n",
    "# # bin_counts\n",
    "\n",
    "# # df['profit'].hist(bins=10)\n",
    "\n",
    "# # bin_counts.plot(kind='barh', alpha=0.5, rot=0)\n",
    "\n",
    "# # display_charts(bin_counts, kind='bar', x='profit', figsize=(900, 600), logy=True)"
   ]
  },
  {
   "cell_type": "code",
   "execution_count": 14,
   "metadata": {
    "scrolled": false
   },
   "outputs": [
    {
     "data": {
      "text/plain": [
       "Index(['open', 'close', 'o_pct_chg', 'ROLLING_20_MAX', 'ROLLING_20_MIN',\n",
       "       'ROLLING_60_MAX', 'ROLLING_60_MIN', 'MA180', 'MA60', 'MA30',\n",
       "       'CASH_TURTLE_20_60_60', 'PROPERTY_TURTLE_20_60_60'],\n",
       "      dtype='object')"
      ]
     },
     "execution_count": 14,
     "metadata": {},
     "output_type": "execute_result"
    },
    {
     "data": {
      "image/png": "[encoded data removed]",
      "text/plain": [
       "<matplotlib.figure.Figure at 0xd508c30>"
      ]
     },
     "metadata": {},
     "output_type": "display_data"
    }
   ],
   "source": [
    "%matplotlib inline\n",
    "\n",
    "import matplotlib\n",
    "import matplotlib.pyplot as plt\n",
    "plt.rcParams['figure.figsize'] = [15, 10]\n",
    "\n",
    "df = show_df.dropna(how='any', inplace=False).copy()\n",
    "# df.drop(columns=['open', 'high', 'low', 'o_pct_chg', 'TR', 'N'], inplace=True)\n",
    "df.columns\n",
    "\n",
    "df['close'] = (df['close'] - df.iloc[0]['close']) / df.iloc[0]['close']\n",
    "ax = df.plot(kind='line', y='close', label='NDX_%.2f' % df.iloc[-1]['close'], linewidth=1, grid=True)\n",
    "for col in sorted(df.columns):\n",
    "    if 'PROPERTY' in col:\n",
    "        df[col] = (df[col] - df.iloc[1][col]) / df.iloc[0][col]\n",
    "        ax = df.plot(kind='line', y=col, secondary_y=False, label='%s_%.2f' % (col, df.iloc[-1][col]), linewidth=1, grid=True, ax=ax)\n",
    "\n",
    "# display_charts(df, kind='line', figsize=(900, 600), logy=False)"
   ]
  },
  {
   "cell_type": "code",
   "execution_count": 15,
   "metadata": {},
   "outputs": [
    {
     "data": {
      "text/plain": [
       "Index(['open', 'close', 'o_pct_chg', 'ROLLING_20_MAX', 'ROLLING_20_MIN',\n",
       "       'ROLLING_60_MAX', 'ROLLING_60_MIN', 'MA180', 'MA60', 'MA30',\n",
       "       'CASH_TURTLE_20_60_60', 'PROPERTY_TURTLE_20_60_60'],\n",
       "      dtype='object')"
      ]
     },
     "execution_count": 15,
     "metadata": {},
     "output_type": "execute_result"
    },
    {
     "data": {
      "text/html": [
       "<div id=\"chart_idsclGdWPG\"</div>\n",
       "    <script type=\"text/javascript\">new Highcharts.StockChart({\"chart\":{\"renderTo\":\"chart_idsclGdWPG\",\"width\":900,\"height\":600},\"legend\":{\"enabled\":true},\"series\":[{\"name\":\"CASH_TURTLE_20_60_60\",\"yAxis\":0,\"data\":[[1514851200000,1.0],[1514937600000,0.50084027],[1515024000000,0.05195561],[1515110400000,0.00200691],[1515369600000,0.00200691],[1515456000000,0.00200691],[1515542400000,0.00200691],[1515628800000,0.00200691],[1515715200000,0.00200691],[1515974400000,0.00200691],[1516060800000,0.00200691],[1516147200000,0.00200691],[1516233600000,0.00200691],[1516320000000,0.00200691],[1516579200000,0.00200691],[1516665600000,0.00200691],[1516752000000,0.00200691],[1516838400000,0.00200691],[1516924800000,0.00200691],[1517184000000,0.00200691],[1517270400000,0.00200691],[1517356800000,0.00200691],[1517443200000,0.00200691],[1517529600000,0.00200691],[1517788800000,0.00200691],[1517875200000,0.00200691],[1517961600000,0.00200691],[1518048000000,0.00200691],[1518134400000,0.04145511],[1518393600000,0.04145511],[1518480000000,0.04145511],[1518566400000,0.04145511],[1519257600000,0.04145511],[1519344000000,0.04145511],[1519603200000,0.04145511],[1519689600000,0.04145511],[1519776000000,0.04145511],[1519862400000,0.04145511],[1519948800000,0.04145511],[1520208000000,0.04145511],[1520294400000,0.04145511],[1520380800000,0.04145511],[1520467200000,0.04145511],[1520553600000,0.04145511],[1520812800000,0.04145511],[1520899200000,0.04145511],[1520985600000,0.04145511],[1521072000000,0.04145511],[1521158400000,0.04145511],[1521417600000,0.04145511],[1521504000000,0.03331611],[1521590400000,0.03331611],[1521676800000,0.03331611],[1521763200000,0.11055717],[1522022400000,0.19208527],[1522108800000,0.1428994],[1522195200000,0.1345813],[1522281600000,0.08481568],[1522368000000,0.07947802],[1522627200000,0.02229439],[1522713600000,0.07135847],[1522800000000,0.02165847],[1523232000000,0.02165847],[1523318400000,0.02165847],[1523404800000,0.02165847],[1523491200000,0.02165847],[1523577600000,0.02165847],[1523836800000,0.02165847],[1523923200000,0.02165847],[1524009600000,0.09796722],[1524096000000,0.04816292],[1524182400000,0.04816292],[1524441600000,0.04816292],[1524528000000,0.04816292],[1524614400000,0.04816292],[1524700800000,0.04816292],[1524787200000,0.04816292]]},{\"name\":\"PROPERTY_TURTLE_20_60_60\",\"yAxis\":0,\"data\":[[1514851200000,0.0],[1514937600000,0.0],[1515024000000,-0.00033276],[1515110400000,0.01125545],[1515369600000,0.01051925],[1515456000000,0.02243453],[1515542400000,0.02250269],[1515628800000,0.0119589],[1515715200000,0.00351483],[1515974400000,0.00956655],[1516060800000,-0.00668126],[1516147200000,0.01388716],[1516233600000,-0.002898],[1516320000000,0.01600629],[1516579200000,0.01968449],[1516665600000,0.04206839],[1516752000000,0.06472458],[1516838400000,0.06811555],[1516924800000,0.06272575],[1517184000000,0.07307129],[1517270400000,0.06203278],[1517356800000,0.05110222],[1517443200000,0.05376066],[1517529600000,0.03555103],[1517788800000,0.05206756],[1517875200000,0.04846691],[1517961600000,0.04921044],[1518048000000,-0.01026253],[1518134400000,-0.05732282],[1518393600000,-0.06759208],[1518480000000,-0.03235991],[1518566400000,-0.02087807],[1519257600000,0.0055813],[1519344000000,0.01957815],[1519603200000,0.02456734],[1519689600000,0.02920242],[1519776000000,0.00089897],[1519862400000,-0.01167733],[1519948800000,-0.00981238],[1520208000000,-0.00690421],[1520294400000,-0.02254559],[1520380800000,-0.01205447],[1520467200000,-0.02641393],[1520553600000,-0.0135616],[1520812800000,-0.00308491],[1520899200000,0.00261855],[1520985600000,0.00018755],[1521072000000,-0.00365996],[1521158400000,0.00045158],[1521417600000,-0.01209626],[1521504000000,-0.02483532],[1521590400000,-0.00829933],[1521676800000,-0.01432019],[1521763200000,-0.06598822],[1522022400000,-0.06852344],[1522108800000,-0.04727266],[1522195200000,-0.07109653],[1522281600000,-0.07749111],[1522368000000,-0.07815503],[1522627200000,-0.05790173],[1522713600000,-0.0729549],[1522800000000,-0.0563472],[1523232000000,-0.07532889],[1523318400000,-0.0698697],[1523404800000,-0.05464926],[1523491200000,-0.06105865],[1523577600000,-0.05471411],[1523836800000,-0.07012677],[1523923200000,-0.06647617],[1524009600000,-0.08697346],[1524096000000,-0.08192099],[1524182400000,-0.08110296],[1524441600000,-0.08719656],[1524528000000,-0.09894345],[1524614400000,-0.08291685],[1524700800000,-0.07055343],[1524787200000,-0.07471311]]},{\"name\":\"close\",\"yAxis\":0,\"data\":[[1514851200000,0.0],[1514937600000,0.0058692567],[1515024000000,0.0101311347],[1515110400000,0.0125629985],[1515369600000,0.0178010471],[1515456000000,0.0249302735],[1515542400000,0.0294588247],[1515628800000,0.0289156921],[1515715200000,0.0336644322],[1515974400000,0.0337231492],[1516060800000,0.0418530117],[1516147200000,0.0393208397],[1516233600000,0.0450212849],[1516320000000,0.0484415521],[1516579200000,0.0609678524],[1516665600000,0.0722243969],[1516752000000,0.0740054803],[1516838400000,0.067935607],[1516924800000,0.0719038998],[1517184000000,0.0525077066],[1517270400000,0.041273181],[1517356800000,0.0461173362],[1517443200000,0.0387777071],[1517529600000,0.0449748006],[1517788800000,0.0456891912],[1517875200000,0.0150437931],[1517961600000,-0.0090277438],[1518048000000,-0.0184347018],[1518134400000,-0.0603684494],[1518393600000,-0.0482702941],[1518480000000,-0.0371311836],[1518566400000,-0.0294661643],[1519257600000,-0.0084821647],[1519344000000,-0.0039903117],[1519603200000,0.0075891765],[1519689600000,-0.0069530753],[1519776000000,-0.0155991584],[1519862400000,-0.0093727064],[1519948800000,-0.0173557763],[1520208000000,-0.0169545432],[1520294400000,-0.0050985957],[1520380800000,-0.0124162059],[1520467200000,-0.0023976122],[1520553600000,0.0052527279],[1520812800000,0.0098522288],[1520899200000,0.0009419191],[1520985600000,-0.0034398395],[1521072000000,0.0021431717],[1521158400000,-0.0075793903],[1521417600000,-0.0032172041],[1521504000000,-0.0023731467],[1521590400000,-0.0064466409],[1521676800000,-0.016404071],[1521763200000,-0.0446396242],[1522022400000,-0.0507682145],[1522108800000,-0.0426016539],[1522195200000,-0.059862015],[1522281600000,-0.0473039096],[1522368000000,-0.0462151979],[1522627200000,-0.0490482948],[1522713600000,-0.0550276459],[1522800000000,-0.0568919117],[1523232000000,-0.0573640945],[1523318400000,-0.039200959],[1523404800000,-0.0364681705],[1523491200000,-0.0461809463],[1523577600000,-0.0529089397],[1523836800000,-0.0681460097],[1523923200000,-0.0828790918],[1524009600000,-0.0785633899],[1524096000000,-0.0674169399],[1524182400000,-0.0798918628],[1524441600000,-0.0785511572],[1524528000000,-0.0596736312],[1524614400000,-0.0632920683],[1524700800000,-0.0812032099],[1524787200000,-0.0808631404]]}],\"xAxis\":{\"title\":{\"text\":\"date\"},\"type\":\"datetime\"},\"yAxis\":[{}]});</script>"
      ],
      "text/plain": [
       "<IPython.core.display.HTML object>"
      ]
     },
     "metadata": {},
     "output_type": "display_data"
    }
   ],
   "source": [
    "df = show_df.dropna(how='any', inplace=False).copy()\n",
    "# df.drop(columns=['open', 'high', 'low', 'o_pct_chg', 'TR', 'N'], inplace=True)\n",
    "df.columns\n",
    "\n",
    "df['close'] = (df['close'] - df.iloc[0]['close']) / df.iloc[0]['close']\n",
    "for col in sorted(df.columns):\n",
    "    if 'PROPERTY' in col:\n",
    "        df[col] = (df[col] - df.iloc[1][col]) / df.iloc[0][col]\n",
    "    if 'CASH' in col:\n",
    "        df[col] = df[col] / df.iloc[0][col]\n",
    "\n",
    "df = df.loc[:, ['close', 'CASH_TURTLE_20_60_60', 'PROPERTY_TURTLE_20_60_60']]\n",
    "df.reset_index(drop=False, inplace=True)\n",
    "# df.dtypes\n",
    "# df.iloc[0].date\n",
    "# df.iloc[0].date.to_timestamp()\n",
    "# df.iloc[0].date.to_timestamp().to_datetime64()\n",
    "df['date'] = df['date'].apply(lambda x: x.to_timestamp().to_datetime64())\n",
    "# df.iloc[0].date\n",
    "df.set_index(keys=['date'], inplace=True)\n",
    "# df\n",
    "\n",
    "display_charts(df, chart_type='stock', figsize=(900, 600), logy=False)"
   ]
  }
 ],
 "metadata": {
  "kernelspec": {
   "display_name": "Python 3",
   "language": "python",
   "name": "python3"
  },
  "language_info": {
   "codemirror_mode": {
    "name": "ipython",
    "version": 3
   },
   "file_extension": ".py",
   "mimetype": "text/x-python",
   "name": "python",
   "nbconvert_exporter": "python",
   "pygments_lexer": "ipython3",
   "version": "3.6.1"
  }
 },
 "nbformat": 4,
 "nbformat_minor": 2
}
