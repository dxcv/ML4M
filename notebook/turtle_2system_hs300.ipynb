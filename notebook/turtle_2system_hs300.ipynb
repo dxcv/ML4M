{
 "cells": [
  {
   "cell_type": "code",
   "execution_count": 1,
   "metadata": {
    "scrolled": false
   },
   "outputs": [
    {
     "data": {
      "text/html": [
       "\n",
       "<script src=\"//code.highcharts.com/stock/highstock.js\"></script>\n",
       "<script src=\"//code.highcharts.com/highcharts-more.js\"></script>\n",
       "<script src=\"//code.highcharts.com/modules/exporting.js\"></script>\n"
      ],
      "text/plain": [
       "<IPython.core.display.HTML object>"
      ]
     },
     "metadata": {},
     "output_type": "display_data"
    },
    {
     "data": {
      "text/plain": [
       "<module 'pandas' from 'd:\\\\python3\\\\lib\\\\site-packages\\\\pandas\\\\__init__.py'>"
      ]
     },
     "execution_count": 1,
     "metadata": {},
     "output_type": "execute_result"
    }
   ],
   "source": [
    "import os\n",
    "import sys\n",
    "sys.path.append(os.path.abspath(os.path.join(os.getcwd(), '..')))\n",
    "\n",
    "import pandas as pd\n",
    "pd.core.common.is_list_like = pd.api.types.is_list_like\n",
    "emp = None\n",
    "import empyrical as emp\n",
    "import tushare as ts\n",
    "import time\n",
    "import random\n",
    "# from concurrent.futures import ProcessPoolExecutor\n",
    "\n",
    "from common.log import *\n",
    "from common.config import Config\n",
    "from spider.spider_nasdaq import Spider_nasdaq\n",
    "\n",
    "from IPython.core.interactiveshell import InteractiveShell\n",
    "InteractiveShell.ast_node_interactivity = 'all'\n",
    "\n",
    "from pandas_highcharts.core import serialize\n",
    "from pandas_highcharts.display import display_charts\n",
    "\n",
    "CONF = Config().data[0]\n",
    "MONGODB = CONF['MONGODB']\n",
    "NASDAQ = CONF['NASDAQ']\n",
    "CRYPTOCURRENCY = CONF['CRYPTOCURRENCY']\n",
    "NASDAQ100 = CONF['NASDAQ100']\n",
    "# NASDAQ100 = ['NDX', 'TSLA', 'NVDA', 'AMZN', 'GOOGL', 'GOOG', 'BIDU', 'FB', 'JD']\n",
    "HS300 = list(ts.get_hs300s()['code']) + ['399300']\n",
    "# print(HS300)\n",
    "BENCHMARK = '399300'\n",
    "\n",
    "pd"
   ]
  },
  {
   "cell_type": "code",
   "execution_count": 2,
   "metadata": {
    "scrolled": false
   },
   "outputs": [
    {
     "name": "stdout",
     "output_type": "stream",
     "text": [
      "../database/market/399300.csv\n",
      "Wall time: 1.53 s\n"
     ]
    }
   ],
   "source": [
    "%%time\n",
    "\n",
    "# for symbol in HS300[:]:\n",
    "for symbol in ['399300']:\n",
    "    df = ts.get_k_data(code=symbol, index=True, start='2005-01-01', end='2018-08-01')\n",
    "#     df = ts.get_k_data(code=symbol, ktype='D', autype='qfq', index=False, start='2008-01-01', end='2018-08-01')\n",
    "#     print(df)\n",
    "    datafile = '../database/market/%s.csv' % symbol\n",
    "    df.to_csv(datafile, index=False, encoding='utf-8')\n",
    "    print(datafile)\n",
    "    time.sleep(1)"
   ]
  },
  {
   "cell_type": "code",
   "execution_count": 3,
   "metadata": {},
   "outputs": [
    {
     "name": "stdout",
     "output_type": "stream",
     "text": [
      "Wall time: 0 ns\n"
     ]
    }
   ],
   "source": [
    "%%time\n",
    "\n",
    "### 时间设置\n",
    "# start_date = '2005-01-01'\n",
    "start_date = '2008-01-01'\n",
    "# start_date = '2009-01-01'\n",
    "# start_date = '2010-01-01'\n",
    "# start_date = '2013-01-01'\n",
    "# start_date = '2014-01-01'\n",
    "# start_date = '2015-01-01'\n",
    "# start_date = '2015-07-01'\n",
    "# start_date = '2016-01-01'\n",
    "start_date = '2017-01-01'\n",
    "# start_date = '2018-01-01'\n",
    "# end_date = '2016-01-01'\n",
    "end_date = '2018-08-01'\n",
    "\n",
    "TURTLE_POS = 20\n",
    "### Turtle System One - Short\n",
    "TURTLE_SHORT_BUY_N = 20\n",
    "TURTLE_SHORT_SELL_N = 20\n",
    "### Turtle System Two - Long\n",
    "TURTLE_LONG_BUY_N = 60\n",
    "TURTLE_LONG_SELL_N = 30\n",
    "\n",
    "### 业务设置\n",
    "IS_HAPPYMONEY = False\n",
    "IS_TAX = False\n",
    "IS_SLIPPAGE = False\n",
    "IS_RANDOM_BUY = True\n",
    "IS_FILTER = True\n",
    "IS_MARKETUP = False\n",
    "START_MONEY = 100000\n",
    "HAPPY_MONEY = 0\n",
    "PROPERTY = START_MONEY\n",
    "CASH = START_MONEY\n"
   ]
  },
  {
   "cell_type": "code",
   "execution_count": 4,
   "metadata": {},
   "outputs": [
    {
     "name": "stdout",
     "output_type": "stream",
     "text": [
      "Wall time: 7.3 s\n"
     ]
    }
   ],
   "source": [
    "%%time\n",
    "\n",
    "stock_df_dict = {}\n",
    "\n",
    "for symbol in HS300[:]:\n",
    "    stock_data_file = '../database/market/%s.csv' % symbol\n",
    "    stock_df = pd.read_csv(stock_data_file)\n",
    "\n",
    "    # 筛选字段\n",
    "    stock_df = stock_df.loc[:, ['date', 'open', 'close']]\n",
    "#     stock_df = stock_df.loc[:, ['date', 'close']]\n",
    "\n",
    "    # 去掉Nasdaq行情首行的当天行情\n",
    "    if symbol in NASDAQ:\n",
    "        stock_df = stock_df.drop([0])\n",
    "\n",
    "    # 抛弃空值异常值\n",
    "    stock_df.dropna(axis=0, how='any', inplace=True)\n",
    "\n",
    "    # 格式化日期\n",
    "    # 1.48 s ± 45.8 ms per loop (mean ± std. dev. of 7 runs, 1 loop each)\n",
    "#     stock_df['date'] = stock_df['date'].apply(lambda x: pd.Period(x, freq='D'))\n",
    "\n",
    "    # 445 ms ± 17.5 ms per loop (mean ± std. dev. of 7 runs, 1 loop each)\n",
    "    stock_df = stock_df.assign(date=pd.to_datetime(stock_df['date']))  # need .index.to_period('D')\n",
    "\n",
    "    # 476 ms ± 46.6 ms per loop (mean ± std. dev. of 7 runs, 1 loop each)\n",
    "#     stock_df['date'] = pd.to_datetime(stock_df['date'])  # need .index.to_period('D')\n",
    "    \n",
    "    # 转换字段格式\n",
    "#     stock_df = stock_df.astype(dtype={'volume': 'float64'})\n",
    "\n",
    "    # 用日期作索引，日期升序排序\n",
    "    # 95.1 µs ± 1.58 µs per loop (mean ± std. dev. of 7 runs, 10000 loops each)\n",
    "#     stock_df = stock_df[::-1]\n",
    "    \n",
    "    # 407 µs ± 5.07 µs per loop (mean ± std. dev. of 7 runs, 1000 loops each)\n",
    "#     %timeit stock_df.set_index(['date'], inplace=False)\n",
    "\n",
    "    # Wall time: 500 µs\n",
    "    stock_df.set_index(['date'], inplace=True)\n",
    "    \n",
    "    # 305 µs ± 2.75 µs per loop (mean ± std. dev. of 7 runs, 1000 loops each)\n",
    "#     stock_df = stock_df.sort_index(axis=0, ascending=True)\n",
    "    \n",
    "    # 822 µs ± 41.3 µs per loop (mean ± std. dev. of 7 runs, 1000 loops each)\n",
    "    stock_df.index = stock_df.index.to_period('D')\n",
    "\n",
    "    # 计算涨跌幅\n",
    "#     stock_df['c_pct_chg'] = stock_df.close.pct_change(1)\n",
    "    stock_df['o_pct_chg'] = stock_df.open.pct_change(1)\n",
    "    \n",
    "    # Turtle指标\n",
    "#     stock_df['TR1'] = abs(stock_df['high'] - stock_df['low'])\n",
    "#     stock_df['TR2'] = abs(stock_df['high'] - stock_df['close'].shift())\n",
    "#     stock_df['TR3'] = abs(stock_df['low'] - stock_df['close'].shift())\n",
    "#     stock_df['TR'] = stock_df[['TR1', 'TR2', 'TR3']].max(axis=1)\n",
    "#     stock_df['N'] = stock_df['TR'].rolling(20).mean()\n",
    "#     stock_df['UNIT'] = (0.01 * START_MONEY) / (stock_df['N'])\n",
    "    stock_df['ROLLING_%d_MAX' % TURTLE_SHORT_BUY_N] = stock_df['open'].rolling(TURTLE_SHORT_BUY_N).max()\n",
    "    stock_df['ROLLING_%d_MIN' % TURTLE_SHORT_SELL_N] = stock_df['open'].rolling(TURTLE_SHORT_SELL_N).min()\n",
    "    stock_df['ROLLING_%d_MAX' % TURTLE_LONG_BUY_N] = stock_df['open'].rolling(TURTLE_LONG_BUY_N).max()\n",
    "    stock_df['ROLLING_%d_MIN' % TURTLE_LONG_SELL_N] = stock_df['open'].rolling(TURTLE_LONG_SELL_N).min()\n",
    "#     stock_df['MA%d' % TURTLE_BUY_N] = stock_df['open'].rolling(TURTLE_BUY_N).mean()\n",
    "#     stock_df['MA%d' % TURTLE_SELL_N] = stock_df['open'].rolling(TURTLE_SELL_N).mean()\n",
    "#     stock_df['EWMA'] = stock_df['open'].ewm(alpha=0.1, adjust=False).mean()\n",
    "#     stock_df['MA360'] = stock_df['open'].rolling(360).mean()\n",
    "    stock_df['MA180'] = stock_df['open'].rolling(180).mean()\n",
    "    stock_df['MA60'] = stock_df['open'].rolling(60).mean()\n",
    "    stock_df['MA30'] = stock_df['open'].rolling(30).mean()\n",
    "    \n",
    "#     stock_df['ops'] = ''\n",
    "#     stock_df['profit'] = 0\n",
    "    \n",
    "    # 减少数据\n",
    "    # stock_df = stock_df['2016-01-01':]\n",
    "    stock_df.dropna(how='any', inplace=True)\n",
    "#     stock_df.drop(columns=['volume', 'TR1', 'TR2', 'TR3'], inplace=True)\n",
    "    \n",
    "    stock_df_dict[symbol] = stock_df\n",
    "    \n",
    "#     print(stock_df.head(10))\n",
    "#     print(stock_df.dtypes)\n",
    "#     print(stock_df.index[0])\n",
    "#     print(type(stock_df.index[0]))"
   ]
  },
  {
   "cell_type": "code",
   "execution_count": 5,
   "metadata": {},
   "outputs": [
    {
     "data": {
      "text/html": [
       "<div>\n",
       "<style scoped>\n",
       "    .dataframe tbody tr th:only-of-type {\n",
       "        vertical-align: middle;\n",
       "    }\n",
       "\n",
       "    .dataframe tbody tr th {\n",
       "        vertical-align: top;\n",
       "    }\n",
       "\n",
       "    .dataframe thead th {\n",
       "        text-align: right;\n",
       "    }\n",
       "</style>\n",
       "<table border=\"1\" class=\"dataframe\">\n",
       "  <thead>\n",
       "    <tr style=\"text-align: right;\">\n",
       "      <th></th>\n",
       "      <th>open</th>\n",
       "      <th>close</th>\n",
       "      <th>o_pct_chg</th>\n",
       "      <th>ROLLING_20_MAX</th>\n",
       "      <th>ROLLING_20_MIN</th>\n",
       "      <th>ROLLING_60_MAX</th>\n",
       "      <th>ROLLING_30_MIN</th>\n",
       "      <th>MA180</th>\n",
       "      <th>MA60</th>\n",
       "      <th>MA30</th>\n",
       "    </tr>\n",
       "    <tr>\n",
       "      <th>date</th>\n",
       "      <th></th>\n",
       "      <th></th>\n",
       "      <th></th>\n",
       "      <th></th>\n",
       "      <th></th>\n",
       "      <th></th>\n",
       "      <th></th>\n",
       "      <th></th>\n",
       "      <th></th>\n",
       "      <th></th>\n",
       "    </tr>\n",
       "  </thead>\n",
       "  <tbody>\n",
       "    <tr>\n",
       "      <th>2005-12-29</th>\n",
       "      <td>921.14</td>\n",
       "      <td>932.03</td>\n",
       "      <td>0.002274</td>\n",
       "      <td>922.44</td>\n",
       "      <td>858.11</td>\n",
       "      <td>923.43</td>\n",
       "      <td>858.11</td>\n",
       "      <td>900.228556</td>\n",
       "      <td>888.027833</td>\n",
       "      <td>887.838667</td>\n",
       "    </tr>\n",
       "    <tr>\n",
       "      <th>2005-12-30</th>\n",
       "      <td>933.45</td>\n",
       "      <td>923.45</td>\n",
       "      <td>0.013364</td>\n",
       "      <td>933.45</td>\n",
       "      <td>858.11</td>\n",
       "      <td>933.45</td>\n",
       "      <td>858.11</td>\n",
       "      <td>899.944056</td>\n",
       "      <td>888.308833</td>\n",
       "      <td>890.201000</td>\n",
       "    </tr>\n",
       "    <tr>\n",
       "      <th>2006-01-04</th>\n",
       "      <td>926.56</td>\n",
       "      <td>941.43</td>\n",
       "      <td>-0.007381</td>\n",
       "      <td>933.45</td>\n",
       "      <td>858.11</td>\n",
       "      <td>933.45</td>\n",
       "      <td>858.11</td>\n",
       "      <td>899.514500</td>\n",
       "      <td>888.464667</td>\n",
       "      <td>891.660000</td>\n",
       "    </tr>\n",
       "    <tr>\n",
       "      <th>2006-01-05</th>\n",
       "      <td>943.85</td>\n",
       "      <td>959.13</td>\n",
       "      <td>0.018660</td>\n",
       "      <td>943.85</td>\n",
       "      <td>865.72</td>\n",
       "      <td>943.85</td>\n",
       "      <td>858.11</td>\n",
       "      <td>899.237500</td>\n",
       "      <td>889.085000</td>\n",
       "      <td>893.657333</td>\n",
       "    </tr>\n",
       "    <tr>\n",
       "      <th>2006-01-06</th>\n",
       "      <td>961.91</td>\n",
       "      <td>970.03</td>\n",
       "      <td>0.019134</td>\n",
       "      <td>961.91</td>\n",
       "      <td>873.69</td>\n",
       "      <td>961.91</td>\n",
       "      <td>858.11</td>\n",
       "      <td>899.092833</td>\n",
       "      <td>889.776000</td>\n",
       "      <td>896.787333</td>\n",
       "    </tr>\n",
       "  </tbody>\n",
       "</table>\n",
       "</div>"
      ],
      "text/plain": [
       "              open   close  o_pct_chg  ROLLING_20_MAX  ROLLING_20_MIN  \\\n",
       "date                                                                    \n",
       "2005-12-29  921.14  932.03   0.002274          922.44          858.11   \n",
       "2005-12-30  933.45  923.45   0.013364          933.45          858.11   \n",
       "2006-01-04  926.56  941.43  -0.007381          933.45          858.11   \n",
       "2006-01-05  943.85  959.13   0.018660          943.85          865.72   \n",
       "2006-01-06  961.91  970.03   0.019134          961.91          873.69   \n",
       "\n",
       "            ROLLING_60_MAX  ROLLING_30_MIN       MA180        MA60        MA30  \n",
       "date                                                                            \n",
       "2005-12-29          923.43          858.11  900.228556  888.027833  887.838667  \n",
       "2005-12-30          933.45          858.11  899.944056  888.308833  890.201000  \n",
       "2006-01-04          933.45          858.11  899.514500  888.464667  891.660000  \n",
       "2006-01-05          943.85          858.11  899.237500  889.085000  893.657333  \n",
       "2006-01-06          961.91          858.11  899.092833  889.776000  896.787333  "
      ]
     },
     "execution_count": 5,
     "metadata": {},
     "output_type": "execute_result"
    },
    {
     "data": {
      "text/html": [
       "<div>\n",
       "<style scoped>\n",
       "    .dataframe tbody tr th:only-of-type {\n",
       "        vertical-align: middle;\n",
       "    }\n",
       "\n",
       "    .dataframe tbody tr th {\n",
       "        vertical-align: top;\n",
       "    }\n",
       "\n",
       "    .dataframe thead th {\n",
       "        text-align: right;\n",
       "    }\n",
       "</style>\n",
       "<table border=\"1\" class=\"dataframe\">\n",
       "  <thead>\n",
       "    <tr style=\"text-align: right;\">\n",
       "      <th></th>\n",
       "      <th>open</th>\n",
       "      <th>close</th>\n",
       "      <th>o_pct_chg</th>\n",
       "      <th>ROLLING_20_MAX</th>\n",
       "      <th>ROLLING_20_MIN</th>\n",
       "      <th>ROLLING_60_MAX</th>\n",
       "      <th>ROLLING_30_MIN</th>\n",
       "      <th>MA180</th>\n",
       "      <th>MA60</th>\n",
       "      <th>MA30</th>\n",
       "    </tr>\n",
       "    <tr>\n",
       "      <th>date</th>\n",
       "      <th></th>\n",
       "      <th></th>\n",
       "      <th></th>\n",
       "      <th></th>\n",
       "      <th></th>\n",
       "      <th></th>\n",
       "      <th></th>\n",
       "      <th></th>\n",
       "      <th></th>\n",
       "      <th></th>\n",
       "    </tr>\n",
       "  </thead>\n",
       "  <tbody>\n",
       "    <tr>\n",
       "      <th>2018-07-26</th>\n",
       "      <td>3583.32</td>\n",
       "      <td>3536.25</td>\n",
       "      <td>-0.001724</td>\n",
       "      <td>3589.51</td>\n",
       "      <td>3347.06</td>\n",
       "      <td>3925.54</td>\n",
       "      <td>3347.06</td>\n",
       "      <td>3920.750167</td>\n",
       "      <td>3671.989333</td>\n",
       "      <td>3506.776333</td>\n",
       "    </tr>\n",
       "    <tr>\n",
       "      <th>2018-07-27</th>\n",
       "      <td>3533.77</td>\n",
       "      <td>3521.23</td>\n",
       "      <td>-0.013828</td>\n",
       "      <td>3589.51</td>\n",
       "      <td>3347.06</td>\n",
       "      <td>3925.54</td>\n",
       "      <td>3347.06</td>\n",
       "      <td>3918.192833</td>\n",
       "      <td>3668.282667</td>\n",
       "      <td>3498.747333</td>\n",
       "    </tr>\n",
       "    <tr>\n",
       "      <th>2018-07-30</th>\n",
       "      <td>3520.85</td>\n",
       "      <td>3515.08</td>\n",
       "      <td>-0.003656</td>\n",
       "      <td>3589.51</td>\n",
       "      <td>3347.06</td>\n",
       "      <td>3925.54</td>\n",
       "      <td>3347.06</td>\n",
       "      <td>3915.573389</td>\n",
       "      <td>3663.891500</td>\n",
       "      <td>3490.674333</td>\n",
       "    </tr>\n",
       "    <tr>\n",
       "      <th>2018-07-31</th>\n",
       "      <td>3510.47</td>\n",
       "      <td>3517.66</td>\n",
       "      <td>-0.002948</td>\n",
       "      <td>3589.51</td>\n",
       "      <td>3347.06</td>\n",
       "      <td>3925.54</td>\n",
       "      <td>3347.06</td>\n",
       "      <td>3912.913889</td>\n",
       "      <td>3659.357000</td>\n",
       "      <td>3484.267667</td>\n",
       "    </tr>\n",
       "    <tr>\n",
       "      <th>2018-08-01</th>\n",
       "      <td>3530.03</td>\n",
       "      <td>3447.39</td>\n",
       "      <td>0.005572</td>\n",
       "      <td>3589.51</td>\n",
       "      <td>3347.06</td>\n",
       "      <td>3925.54</td>\n",
       "      <td>3347.06</td>\n",
       "      <td>3910.178500</td>\n",
       "      <td>3654.280667</td>\n",
       "      <td>3481.850333</td>\n",
       "    </tr>\n",
       "  </tbody>\n",
       "</table>\n",
       "</div>"
      ],
      "text/plain": [
       "               open    close  o_pct_chg  ROLLING_20_MAX  ROLLING_20_MIN  \\\n",
       "date                                                                      \n",
       "2018-07-26  3583.32  3536.25  -0.001724         3589.51         3347.06   \n",
       "2018-07-27  3533.77  3521.23  -0.013828         3589.51         3347.06   \n",
       "2018-07-30  3520.85  3515.08  -0.003656         3589.51         3347.06   \n",
       "2018-07-31  3510.47  3517.66  -0.002948         3589.51         3347.06   \n",
       "2018-08-01  3530.03  3447.39   0.005572         3589.51         3347.06   \n",
       "\n",
       "            ROLLING_60_MAX  ROLLING_30_MIN        MA180         MA60  \\\n",
       "date                                                                   \n",
       "2018-07-26         3925.54         3347.06  3920.750167  3671.989333   \n",
       "2018-07-27         3925.54         3347.06  3918.192833  3668.282667   \n",
       "2018-07-30         3925.54         3347.06  3915.573389  3663.891500   \n",
       "2018-07-31         3925.54         3347.06  3912.913889  3659.357000   \n",
       "2018-08-01         3925.54         3347.06  3910.178500  3654.280667   \n",
       "\n",
       "                   MA30  \n",
       "date                     \n",
       "2018-07-26  3506.776333  \n",
       "2018-07-27  3498.747333  \n",
       "2018-07-30  3490.674333  \n",
       "2018-07-31  3484.267667  \n",
       "2018-08-01  3481.850333  "
      ]
     },
     "execution_count": 5,
     "metadata": {},
     "output_type": "execute_result"
    }
   ],
   "source": [
    "stock_df_dict[BENCHMARK].head(5)\n",
    "stock_df_dict[BENCHMARK].tail(5)"
   ]
  },
  {
   "cell_type": "code",
   "execution_count": 6,
   "metadata": {
    "scrolled": false
   },
   "outputs": [
    {
     "data": {
      "text/plain": [
       "Index(['open', 'close', 'o_pct_chg', 'ROLLING_20_MAX', 'ROLLING_20_MIN',\n",
       "       'ROLLING_60_MAX', 'ROLLING_30_MIN', 'MA180', 'MA60', 'MA30'],\n",
       "      dtype='object')"
      ]
     },
     "execution_count": 6,
     "metadata": {},
     "output_type": "execute_result"
    }
   ],
   "source": [
    "%matplotlib inline\n",
    "\n",
    "import matplotlib\n",
    "import matplotlib.pyplot as plt\n",
    "plt.rcParams['figure.figsize'] = [30, 20]\n",
    "\n",
    "df = stock_df_dict[BENCHMARK].iloc[:].copy()\n",
    "df.columns\n",
    "# df.tail(10)\n",
    "# df[(df.open == df.ROLLING_60_MAX)]\n",
    "# df[(df.open >= df.rolling_60_max) & (df.MA30 > df.MA60)]\n",
    "# df[(df.MA30 > df.MA60)]\n",
    "\n",
    "# df = df.loc[:, ['open', 'ROLLING_60_MAX', 'rolling_30_min', 'MA60', 'MA30']]\n",
    "\n",
    "df.reset_index(drop=False, inplace=True)\n",
    "df = df.astype(dtype={'date': 'datetime64[ns]'})\n",
    "df.set_index('date', inplace=True)\n",
    "# df.index.astype()\n",
    "\n",
    "# display_charts(df, chart_type='stock', kind='line', y=['open', 'ROLLING_60_MAX', 'ROLLING_60_MIN', 'MA60', 'MA180'], figsize=(900, 600))\n",
    "# display_charts(df, chart_type='stock', kind='line', y=['open', 'ROLLING_60_MAX', 'ROLLING_60_MIN'], figsize=(900, 600))\n",
    "\n",
    "# display_charts(df)\n",
    "\n",
    "# ax = df.plot(kind='line', y=['open', 'rolling_max', 'rolling_min'], label='', linewidth=1)\n",
    "\n",
    "# sum_buy_sig_short = 0\n",
    "# sum_buy_sig_long = 0\n",
    "# for symbol in NASDAQ100:\n",
    "#     tdf = stock_df_dict[symbol]\n",
    "#     buy_sig_short = tdf[(stock_df_dict[symbol].open == stock_df_dict[symbol]['ROLLING_%d_MAX' % TURTLE_SHORT_BUY_N])]\n",
    "#     buy_sig_long = tdf[(stock_df_dict[symbol].open == stock_df_dict[symbol]['ROLLING_%d_MAX' % TURTLE_LONG_BUY_N])]\n",
    "#     buy_sig_short_2 = buy_sig_short[buy_sig_short.MA30 >= buy_sig_short.MA180]\n",
    "#     buy_sig_long_2 = buy_sig_long[buy_sig_long.MA30 >= buy_sig_long.MA180]\n",
    "# #     print(symbol, len(tdf), len(buy_sig_short), len(buy_sig_short_2), len(buy_sig_long), len(buy_sig_long_2))\n",
    "#     sum_buy_sig_short += len(buy_sig_short_2)\n",
    "#     sum_buy_sig_long += len(buy_sig_long_2)\n",
    "# print(len(stock_df_dict['NDX']), sum_buy_sig_short, sum_buy_sig_long)"
   ]
  },
  {
   "cell_type": "code",
   "execution_count": 7,
   "metadata": {
    "scrolled": false
   },
   "outputs": [],
   "source": [
    "# algo = stock_df_dict['TSLA'].open.pct_change()\n",
    "# benchmark = stock_df_dict['NDX'].open.pct_change()\n",
    "\n",
    "# 'cum_returns', emp.cum_returns(algo)[-1]\n",
    "# 'max_drawdown', emp.max_drawdown(algo), emp.max_drawdown(benchmark)\n",
    "# 'annual_return', emp.annual_return(algo), emp.annual_return(benchmark)\n",
    "# 'annual_volatility', emp.annual_volatility(algo, period='daily')\n",
    "# 'calmar_ratio', emp.calmar_ratio(algo)\n",
    "# 'sharpe_ratio', emp.sharpe_ratio(returns=algo)\n",
    "# 'alpha', emp.alpha(returns=algo, factor_returns=benchmark, risk_free=0.00)\n",
    "# 'beta', emp.beta(returns=algo, factor_returns=benchmark, risk_free=0.00)\n",
    "\n",
    "# emp_df = None\n",
    "# emp_df = pd.DataFrame(columns=[\n",
    "#     'symbol', 'cum_returns', 'annual_return', 'annual_volatility', 'max_drawdown', 'alpha', 'beta', 'sharpe_ratio', 'calmar_ratio'\n",
    "# ])\n",
    "\n",
    "# for symbol in NASDAQ100:\n",
    "#     algo = stock_df_dict[symbol].open.pct_change()\n",
    "#     emp_df = emp_df.append(\n",
    "#         {\n",
    "#             'symbol': symbol,\n",
    "#             'cum_returns': emp.cum_returns(algo)[-1],\n",
    "#             'annual_return': emp.annual_return(algo),\n",
    "#             'annual_volatility': emp.annual_volatility(algo, period='daily'),\n",
    "#             'max_drawdown': emp.max_drawdown(algo),\n",
    "#             'alpha': round(emp.alpha(returns=algo, factor_returns=benchmark, risk_free=0.00), 2),\n",
    "#             'beta': round(emp.beta(returns=algo, factor_returns=benchmark, risk_free=0.00), 2),\n",
    "#             'sharpe_ratio': emp.sharpe_ratio(returns=algo),\n",
    "#             'calmar_ratio': emp.calmar_ratio(algo)\n",
    "#         },\n",
    "#         ignore_index=True,\n",
    "#     )\n",
    "\n",
    "# # emp_df\n",
    "# # emp_df.sort_values('cum_returns', ascending=False)\n",
    "# # emp_df.sort_values('sharpe_ratio', ascending=False)"
   ]
  },
  {
   "cell_type": "code",
   "execution_count": 8,
   "metadata": {},
   "outputs": [
    {
     "name": "stdout",
     "output_type": "stream",
     "text": [
      "Wall time: 1 ms\n"
     ]
    }
   ],
   "source": [
    "%%time\n",
    "\n",
    "show_df = None\n",
    "show_df = stock_df_dict[BENCHMARK].copy()"
   ]
  },
  {
   "cell_type": "code",
   "execution_count": 9,
   "metadata": {
    "scrolled": false
   },
   "outputs": [],
   "source": [
    "# '''剔除上一年跑不赢HS300指数的股票'''\n",
    "\n",
    "# # HS300\n",
    "\n",
    "# s_p = stock_df_dict['399300'][:start_date].iloc[-250].open\n",
    "# e_p = stock_df_dict['399300'][:start_date].iloc[-1].open\n",
    "# benchmark_return_lastyear = e_p / s_p\n",
    "# s_p, e_p\n",
    "# 'benchmark_return_lastyear', benchmark_return_lastyear\n",
    "\n",
    "# # s_p = stock_df_dict['399300'][start_date:].iloc[0].open\n",
    "# # e_p = stock_df_dict['399300'][:end_date].iloc[-1].open\n",
    "# # benchmark_return = e_p / s_p\n",
    "# # 'benchmark_return', benchmark_return\n",
    "\n",
    "\n",
    "# # stock_df_dict['000540']\n",
    "# # stock_df_dict['000540'].index[-1] > stock_df_dict['000540'].index[-2]\n",
    "# # stock_df_dict['000540'].index[-1].strftime('%Y-%m-%d')\n",
    "# # '2017-08-18' < start_date\n",
    "\n",
    "# for symbol, stock_df in stock_df_dict.items():\n",
    "# #     print(symbol)\n",
    "#     if len(stock_df) == 0:\n",
    "#         continue\n",
    "#     if stock_df.index[-1].strftime('%Y-%m-%d') < start_date:\n",
    "#         continue\n",
    "# #     print(stock_df[start_date:].iloc[0].open,)\n",
    "#     try:\n",
    "#         return_lastyear = stock_df[:start_date].iloc[-1].open / stock_df[:start_date].iloc[-250].open\n",
    "#         if return_lastyear < benchmark_return_lastyear:\n",
    "#             HS300.remove(symbol)\n",
    "#             print(symbol, return_lastyear)\n",
    "#     except:\n",
    "# #         HS300.remove(symbol)\n",
    "#         pass\n",
    "\n",
    "# print(len(HS300))"
   ]
  },
  {
   "cell_type": "code",
   "execution_count": 19,
   "metadata": {
    "scrolled": false
   },
   "outputs": [
    {
     "name": "stdout",
     "output_type": "stream",
     "text": [
      "2017-01-01 HS300 after filter 147\n",
      "2018-01-01 HS300 after filter 112\n",
      "CASH 121525.181\n",
      "HAPPY_MONEY 0\n",
      "PROPERTY 121525.181\n",
      "BENCHMARK 3313.95 3530.03 1.06520315635\n",
      "Wall time: 43.4 s\n"
     ]
    }
   ],
   "source": [
    "%%time\n",
    "# %xmode\n",
    "\n",
    "PROPERTY = START_MONEY\n",
    "CASH = START_MONEY\n",
    "\n",
    "order_df = None\n",
    "order_df = pd.DataFrame(columns=[\n",
    "    'buy_date', 'symbol', 'buy_count', 'buy_price', 'buy_reason', 'sell_date', 'sell_price', 'sell_reason', 'profit', 'cash', 'property'\n",
    "])\n",
    "count_day = 0\n",
    "yesterday = None\n",
    "miss_buy_short = 0\n",
    "miss_buy_long = 0\n",
    "\n",
    "for today in pd.period_range(start=start_date, end=end_date, freq='D'):\n",
    "    count_day += 1\n",
    "    \n",
    "    # 新的一年筛股\n",
    "    if IS_FILTER and (today.dayofyear == 1 or count_day == 1):\n",
    "        HS300 = list(ts.get_hs300s()['code']) + [BENCHMARK]\n",
    "        benchmark_lastyear = stock_df_dict[BENCHMARK][:today]\n",
    "        if today - stock_df_dict[BENCHMARK].iloc[0].name < 250:\n",
    "            continue\n",
    "        benchmark_return_lastyear = benchmark_lastyear.iloc[-1].open / benchmark_lastyear.iloc[-250].open\n",
    "        for symbol, stock_df in stock_df_dict.items():\n",
    "            try:\n",
    "                return_lastyear = stock_df[:today].iloc[-1].open / stock_df[:today].iloc[-250].open\n",
    "                if return_lastyear < benchmark_return_lastyear:\n",
    "                    HS300.remove(symbol)\n",
    "#                     print(symbol, return_lastyear)\n",
    "            except:\n",
    "                HS300.remove(symbol)\n",
    "                pass\n",
    "        print(today, 'HS300 after filter', len(HS300))\n",
    "        \n",
    "    \n",
    "    if yesterday is None:\n",
    "        yesterday = today\n",
    "        continue\n",
    "\n",
    "    if today not in stock_df_dict[BENCHMARK].index:\n",
    "        continue\n",
    "            \n",
    "    # 突破下行趋势，清仓退出\n",
    "    order_arr = order_df.to_records(index=False)\n",
    "    if len(order_arr[(order_arr.buy_count > 0) & (order_arr.sell_price == 0)] ) != 0:\n",
    "        is_sell = False\n",
    "        for idx in order_df[(order_df['buy_count'] > 0) & (order_df['sell_price'] == 0)].index:\n",
    "            cur_order = order_df.loc[idx]\n",
    "            symbol = cur_order['symbol']\n",
    "            if today not in stock_df_dict[symbol].index or yesterday not in stock_df_dict[symbol].index:\n",
    "                continue\n",
    "            today_market = stock_df_dict[symbol].loc[today]\n",
    "            if cur_order.buy_reason == 'SHORT':\n",
    "                is_sell = (today_market.open <= today_market['ROLLING_%d_MIN' % TURTLE_SHORT_SELL_N])\n",
    "            if cur_order.buy_reason == 'LONG':\n",
    "                is_sell = (today_market.open <= today_market['ROLLING_%d_MIN' % TURTLE_LONG_SELL_N])\n",
    "            if is_sell:\n",
    "                CASH += cur_order.buy_count * today_market.open\n",
    "                order_df.loc[idx, 'sell_date'] = today\n",
    "                order_df.loc[idx, 'sell_price'] = today_market.open\n",
    "                order_df.loc[idx, 'sell_reason'] = 'EXIT'\n",
    "                order_df.loc[idx, 'profit'] = \\\n",
    "                    (today_market.open - cur_order.buy_price) * cur_order.buy_count\n",
    "#                 print(today, '退出', stock_df_dict[symbol].loc[today, 'open'], CASH)\n",
    "\n",
    "    if IS_HAPPYMONEY:        \n",
    "        if PROPERTY > START_MONEY * 2 and CASH > START_MONEY:\n",
    "            HAPPY_MONEY += START_MONEY\n",
    "            PROPERTY -= START_MONEY\n",
    "            CASH -= START_MONEY\n",
    "    \n",
    "    benchmark_today_market = stock_df_dict[BENCHMARK].loc[today]\n",
    "    # 买卖过程\n",
    "    for symbol in HS300[:]:\n",
    "#     for symbol in [BENCHMARK]:\n",
    "        if IS_MARKETUP:\n",
    "            if benchmark_today_market.MA60 < benchmark_today_market.MA180:\n",
    "                break\n",
    "        \n",
    "        if symbol == BENCHMARK:\n",
    "            continue\n",
    "        \n",
    "        if today not in stock_df_dict[symbol].index or yesterday not in stock_df_dict[symbol].index:\n",
    "            continue\n",
    "            \n",
    "        # TIME TEST\n",
    "#         print(order_df)\n",
    "#         print(order_df.columns)\n",
    "        \n",
    "#         %timeit (len(order_df[order_df['symbol'] == symbol]) != 0)\n",
    "#         %timeit order_df[order_df['symbol'] == symbol].shape[0] != 0\n",
    "#         %timeit n_order_df = order_df.values\n",
    "#         %timeit len(n_order_df[n_order_df[:, 1] == symbol]) != 0\n",
    "#         %timeit (len(order_df[(order_df['symbol'] == symbol) & (order_df['sell_price'] == 0)]) == 0)\n",
    "\n",
    "\n",
    "#         iiidx = stock_df_dict[symbol].index.get_loc(today)\n",
    "#         print(iiidx, type(iiidx))\n",
    "#         %timeit stock_df_dict[symbol].loc[today]\n",
    "#         %timeit n_stock_df = stock_df_dict[symbol].values\n",
    "#         %timeit n_stock_df[iiidx]\n",
    "        \n",
    "#         %timeit (stock_df_dict[symbol].loc[today, 'open'] >= stock_df_dict[symbol].loc[today, 'rolling_max'])\n",
    "#         %timeit (stock_df_dict[symbol].loc[today, 'open'] >= stock_df_dict[symbol].loc[today, 'rolling_max'])\n",
    "\n",
    "#         %timeit int(stock_df_dict[symbol].shift(1).loc[today, 'Unit'])\n",
    "#         %timeit int(CASH / stock_df_dict[symbol].loc[today, 'open'])\n",
    "#         %timeit buy_count * stock_df_dict[symbol].loc[today, 'open']\n",
    "#         %timeit stock_df_dict[symbol]\n",
    "#         %timeit stock_df_dict[symbol].loc[today, 'open']\n",
    "#         %timeit (stock_df_dict[symbol].loc[today, 'open'] > order_df[(order_df['symbol'] == symbol) & (order_df['sell_price'] == 0)].buy_price.iloc[-1] + 0.5 * stock_df_dict[symbol].shift(1).loc[today, 'N'])\n",
    "        \n",
    "#         n_order_df = order_df.values\n",
    "#         n_stock_df = stock_df_dict[symbol].values\n",
    "#         today_idx = stock_df_dict[symbol].index.get_loc(today)\n",
    "#         is_has_order = (len(n_order_df[n_order_df[:, 1] == symbol]) != 0)\n",
    "#         is_order_soldout = not is_has_order and (len(n_order_df[n_order_df[:, 6] == symbol]) == 0)\n",
    "        \n",
    "#         is_has_order = (len(order_df[order_df['symbol'] == symbol]) != 0)\n",
    "#         is_order_soldout = (len(order_df[(order_df['symbol'] == symbol) & (order_df['sell_price'] == 0)]) == 0)\n",
    "        \n",
    "    \n",
    "#         '''\n",
    "#         'buy_date', 'symbol', 'buy_count', 'buy_price', 'buy_reason', 'sell_date', 'sell_price', 'sell_reason', 'profit', 'cash', 'property'\n",
    "#         stock_df['ROLLING_%d_MAX' % TURTLE_SHORT_BUY_N] = stock_df['open'].rolling(TURTLE_SHORT_BUY_N).max()\n",
    "#         stock_df['ROLLING_%d_MIN' % TURTLE_SHORT_SELL_N] = stock_df['open'].rolling(TURTLE_SHORT_SELL_N).min()\n",
    "#         stock_df['ROLLING_%d_MAX' % TURTLE_LONG_BUY_N] = stock_df['open'].rolling(TURTLE_LONG_BUY_N).max()\n",
    "#         stock_df['ROLLING_%d_MIN' % TURTLE_LONG_SELL_N] = stock_df['open'].rolling(TURTLE_LONG_SELL_N).min()\n",
    "#         '''\n",
    "\n",
    "        today_market = stock_df_dict[symbol].loc[today]\n",
    "\n",
    "        # 突破上行趋势，就买一份\n",
    "        order_arr = order_df.to_records(index=False)\n",
    "#         if today_market.MA60 >= today_market.MA180:\n",
    "        if today_market.MA30 >= today_market.MA60:\n",
    "#         if True:\n",
    "            is_buy = False\n",
    "            if today_market.open >= today_market['ROLLING_%d_MAX' % TURTLE_LONG_BUY_N]:\n",
    "                is_buy = True\n",
    "                buy_reason = 'LONG'\n",
    "            elif False and today_market.open >= today_market['ROLLING_%d_MAX' % TURTLE_SHORT_BUY_N]:\n",
    "                is_buy = True\n",
    "                buy_reason = 'SHORT'\n",
    "            if is_buy:\n",
    "                buy_count = 0\n",
    "                \n",
    "                if IS_SLIPPAGE:\n",
    "                    buy_price = today_market.open * (1 + random.randint(0, 20) / 1000)\n",
    "                else:\n",
    "                    buy_price = today_market.open\n",
    "\n",
    "#                 if CASH >= START_MONEY / TURTLE_POS:\n",
    "#                     buy_count = int((START_MONEY / TURTLE_POS) / buy_price)\n",
    "\n",
    "                if CASH >= PROPERTY / TURTLE_POS:\n",
    "                    buy_count = int((PROPERTY / TURTLE_POS) / buy_price)\n",
    "\n",
    "#                 buy_count = int(CASH / buy_price)\n",
    "                \n",
    "                if IS_RANDOM_BUY:\n",
    "                    if random.randint(0, 100) > 50:\n",
    "                        buy_count = 0\n",
    "\n",
    "                if buy_count > 0:\n",
    "#                     buy_count = 1\n",
    "                    CASH -= buy_count * buy_price\n",
    "#                     print(today, '建仓', buy_count, stock_df_dict[symbol].loc[today, 'open'], CASH)\n",
    "                    order_df = order_df.append(\n",
    "                        {\n",
    "                            'buy_date': today,\n",
    "                            'symbol': symbol,\n",
    "                            'buy_count': buy_count,\n",
    "                            'buy_price': today_market.open,\n",
    "                            'buy_reason': buy_reason,\n",
    "                            'sell_date': pd.np.nan,\n",
    "                            'sell_price': 0,\n",
    "                            'profit': 0,\n",
    "                            'cash': CASH,\n",
    "                            'property': PROPERTY,\n",
    "                        },\n",
    "                        ignore_index=True\n",
    "                    )\n",
    "                else:\n",
    "                    if buy_reason == 'LONG':\n",
    "                        miss_buy_long += 1\n",
    "                    elif buy_reason == 'SHORT':\n",
    "                        miss_buy_short += 1\n",
    "            \n",
    "    # 每天盘点财产\n",
    "#     CASH = CASH * (1 + 0.04 / 365)\n",
    "    show_df.loc[today, 'CASH_TURTLE_%d_%d_%d' % (TURTLE_POS, TURTLE_LONG_BUY_N, TURTLE_LONG_SELL_N)] = CASH\n",
    "    PROPERTY = CASH + \\\n",
    "        sum(\n",
    "            [\n",
    "                stock_df_dict[order_df.loc[idx, 'symbol']][:today].iloc[-1].open * order_df.loc[idx, 'buy_count'] \\\n",
    "                for idx in order_df.loc[order_df['sell_price']==0].index\n",
    "            ]\n",
    "        )\n",
    "    show_df.loc[today, 'PROPERTY_TURTLE_%d_%d_%d' % (TURTLE_POS, TURTLE_LONG_BUY_N, TURTLE_LONG_SELL_N)] = PROPERTY\n",
    "\n",
    "    yesterday = today\n",
    "\n",
    "\n",
    "    \n",
    "# 最后一天，清仓\n",
    "order_arr = order_df.to_records(index=False)\n",
    "for idx in order_df[order_df['sell_price'] == 0].index:\n",
    "    cur_order = order_df.loc[idx]\n",
    "    symbol = cur_order['symbol']\n",
    "    today_market = stock_df_dict[symbol][:today].iloc[-1]\n",
    "    CASH += cur_order.buy_count * today_market.open\n",
    "    order_df.loc[idx, 'sell_date'] = today\n",
    "    order_df.loc[idx, 'sell_price'] = today_market.open\n",
    "    order_df.loc[idx, 'sell_reason'] = 'EXIT'\n",
    "    order_df.loc[idx, 'profit'] = \\\n",
    "        (today_market.open - cur_order.buy_price) * cur_order.buy_count\n",
    "\n",
    "\n",
    "print('CASH', CASH)\n",
    "print('HAPPY_MONEY', HAPPY_MONEY)\n",
    "print('PROPERTY', PROPERTY)\n",
    "\n",
    "s_p = stock_df_dict['399300'][start_date:].iloc[0].open\n",
    "e_p = stock_df_dict['399300'][:end_date].iloc[-1].open\n",
    "print('BENCHMARK', s_p, e_p, e_p / s_p)\n"
   ]
  },
  {
   "cell_type": "code",
   "execution_count": 11,
   "metadata": {},
   "outputs": [],
   "source": [
    "df = order_df.copy()\n",
    "df = df.astype(dtype={'cash': 'int', 'profit': 'int'})\n",
    "\n",
    "# df\n",
    "# df[0:50]"
   ]
  },
  {
   "cell_type": "code",
   "execution_count": 12,
   "metadata": {
    "scrolled": false
   },
   "outputs": [
    {
     "data": {
      "text/plain": [
       "'ALL'"
      ]
     },
     "execution_count": 12,
     "metadata": {},
     "output_type": "execute_result"
    },
    {
     "data": {
      "text/plain": [
       "('start_date', '2017-01-01')"
      ]
     },
     "execution_count": 12,
     "metadata": {},
     "output_type": "execute_result"
    },
    {
     "data": {
      "text/plain": [
       "('end_date', '2018-08-01')"
      ]
     },
     "execution_count": 12,
     "metadata": {},
     "output_type": "execute_result"
    },
    {
     "data": {
      "text/plain": [
       "('TURTLE_POS', 20)"
      ]
     },
     "execution_count": 12,
     "metadata": {},
     "output_type": "execute_result"
    },
    {
     "data": {
      "text/plain": [
       "('TURTLE_SHORT_BUY_N', 20)"
      ]
     },
     "execution_count": 12,
     "metadata": {},
     "output_type": "execute_result"
    },
    {
     "data": {
      "text/plain": [
       "('TURTLE_SHORT_SELL_N', 20)"
      ]
     },
     "execution_count": 12,
     "metadata": {},
     "output_type": "execute_result"
    },
    {
     "data": {
      "text/plain": [
       "('TURTLE_LONG_BUY_N', 60)"
      ]
     },
     "execution_count": 12,
     "metadata": {},
     "output_type": "execute_result"
    },
    {
     "data": {
      "text/plain": [
       "('TURTLE_LONG_SELL_N', 30)"
      ]
     },
     "execution_count": 12,
     "metadata": {},
     "output_type": "execute_result"
    },
    {
     "data": {
      "text/plain": [
       "('IS_HAPPYMONEY', False)"
      ]
     },
     "execution_count": 12,
     "metadata": {},
     "output_type": "execute_result"
    },
    {
     "data": {
      "text/plain": [
       "('IS_TAX', False)"
      ]
     },
     "execution_count": 12,
     "metadata": {},
     "output_type": "execute_result"
    },
    {
     "data": {
      "text/plain": [
       "('IS_SLIPPAGE', False)"
      ]
     },
     "execution_count": 12,
     "metadata": {},
     "output_type": "execute_result"
    },
    {
     "data": {
      "text/plain": [
       "('IS_RANDOM_BUY', True)"
      ]
     },
     "execution_count": 12,
     "metadata": {},
     "output_type": "execute_result"
    },
    {
     "data": {
      "text/plain": [
       "('START_MONEY', 100000)"
      ]
     },
     "execution_count": 12,
     "metadata": {},
     "output_type": "execute_result"
    },
    {
     "data": {
      "text/plain": [
       "('len(order_df)', 134)"
      ]
     },
     "execution_count": 12,
     "metadata": {},
     "output_type": "execute_result"
    },
    {
     "data": {
      "text/plain": [
       "('sum_profit', 19190.172999999992)"
      ]
     },
     "execution_count": 12,
     "metadata": {},
     "output_type": "execute_result"
    },
    {
     "data": {
      "text/plain": [
       "('sum_tax', 0)"
      ]
     },
     "execution_count": 12,
     "metadata": {},
     "output_type": "execute_result"
    },
    {
     "data": {
      "text/plain": [
       "('win_rate', 0.48120300751879697)"
      ]
     },
     "execution_count": 12,
     "metadata": {},
     "output_type": "execute_result"
    },
    {
     "data": {
      "text/plain": [
       "('annual_return', 1.1172359991752403)"
      ]
     },
     "execution_count": 12,
     "metadata": {},
     "output_type": "execute_result"
    },
    {
     "data": {
      "text/plain": [
       "('len(order_df[order_df.profit != 0])', 133)"
      ]
     },
     "execution_count": 12,
     "metadata": {},
     "output_type": "execute_result"
    },
    {
     "data": {
      "text/plain": [
       "('len(order_df[order_df.profit > 0])', 64)"
      ]
     },
     "execution_count": 12,
     "metadata": {},
     "output_type": "execute_result"
    },
    {
     "data": {
      "text/plain": [
       "('order LONG', 134)"
      ]
     },
     "execution_count": 12,
     "metadata": {},
     "output_type": "execute_result"
    },
    {
     "data": {
      "text/plain": [
       "64"
      ]
     },
     "execution_count": 12,
     "metadata": {},
     "output_type": "execute_result"
    },
    {
     "data": {
      "text/plain": [
       "19190.172999999992"
      ]
     },
     "execution_count": 12,
     "metadata": {},
     "output_type": "execute_result"
    },
    {
     "data": {
      "text/plain": [
       "('order SHORT', 0)"
      ]
     },
     "execution_count": 12,
     "metadata": {},
     "output_type": "execute_result"
    },
    {
     "data": {
      "text/plain": [
       "0"
      ]
     },
     "execution_count": 12,
     "metadata": {},
     "output_type": "execute_result"
    },
    {
     "data": {
      "text/plain": [
       "0"
      ]
     },
     "execution_count": 12,
     "metadata": {},
     "output_type": "execute_result"
    },
    {
     "data": {
      "text/plain": [
       "('cum_returns', 0.19190172999999811, 0.065203156354200154)"
      ]
     },
     "execution_count": 12,
     "metadata": {},
     "output_type": "execute_result"
    },
    {
     "data": {
      "text/plain": [
       "('max_drawdown', -0.15410102976977588, -0.23747622139447916)"
      ]
     },
     "execution_count": 12,
     "metadata": {},
     "output_type": "execute_result"
    },
    {
     "data": {
      "text/plain": [
       "('annual_return', 0.1214335844668113, 0.042099684425607631)"
      ]
     },
     "execution_count": 12,
     "metadata": {},
     "output_type": "execute_result"
    },
    {
     "data": {
      "text/plain": [
       "('annual_volatility', 0.22725628290409566)"
      ]
     },
     "execution_count": 12,
     "metadata": {},
     "output_type": "execute_result"
    },
    {
     "data": {
      "text/plain": [
       "('calmar_ratio', 0.78801280334226742)"
      ]
     },
     "execution_count": 12,
     "metadata": {},
     "output_type": "execute_result"
    },
    {
     "data": {
      "text/plain": [
       "('sharpe_ratio', 0.6197551134066996)"
      ]
     },
     "execution_count": 12,
     "metadata": {},
     "output_type": "execute_result"
    },
    {
     "data": {
      "text/plain": [
       "('alpha', 0.09030440029206536)"
      ]
     },
     "execution_count": 12,
     "metadata": {},
     "output_type": "execute_result"
    },
    {
     "data": {
      "text/plain": [
       "('beta', 0.9719648652519017)"
      ]
     },
     "execution_count": 12,
     "metadata": {},
     "output_type": "execute_result"
    },
    {
     "data": {
      "text/plain": [
       "('ALL DAY', 386)"
      ]
     },
     "execution_count": 12,
     "metadata": {},
     "output_type": "execute_result"
    },
    {
     "data": {
      "text/plain": [
       "'CASH_TURTLE_20_60_30'"
      ]
     },
     "execution_count": 12,
     "metadata": {},
     "output_type": "execute_result"
    },
    {
     "data": {
      "text/plain": [
       "'PROPERTY_TURTLE_20_60_30'"
      ]
     },
     "execution_count": 12,
     "metadata": {},
     "output_type": "execute_result"
    },
    {
     "data": {
      "text/plain": [
       "('CASH NOT USED DAY', 67)"
      ]
     },
     "execution_count": 12,
     "metadata": {},
     "output_type": "execute_result"
    },
    {
     "data": {
      "text/plain": [
       "('MISS_BUY_SIGNAL_LONG', 3544)"
      ]
     },
     "execution_count": 12,
     "metadata": {},
     "output_type": "execute_result"
    },
    {
     "data": {
      "text/plain": [
       "('MISS_BUY_SIGNAL_SHORT', 0)"
      ]
     },
     "execution_count": 12,
     "metadata": {},
     "output_type": "execute_result"
    }
   ],
   "source": [
    "'ALL'\n",
    "'start_date', start_date\n",
    "'end_date', end_date\n",
    "'TURTLE_POS', TURTLE_POS\n",
    "'TURTLE_SHORT_BUY_N', TURTLE_SHORT_BUY_N\n",
    "'TURTLE_SHORT_SELL_N', TURTLE_SHORT_SELL_N\n",
    "'TURTLE_LONG_BUY_N', TURTLE_LONG_BUY_N\n",
    "'TURTLE_LONG_SELL_N', TURTLE_LONG_SELL_N\n",
    "'IS_HAPPYMONEY', IS_HAPPYMONEY\n",
    "'IS_TAX', IS_TAX\n",
    "'IS_SLIPPAGE', IS_SLIPPAGE\n",
    "'IS_RANDOM_BUY', IS_RANDOM_BUY\n",
    "'START_MONEY', START_MONEY\n",
    "\n",
    "'len(order_df)', len(order_df)\n",
    "sum_profit = sum(list(order_df['profit']))\n",
    "'sum_profit', sum_profit\n",
    "# sum_tax = sum(list(order_df_TB['tax']))\n",
    "sum_tax = 0\n",
    "'sum_tax', sum_tax\n",
    "'win_rate', len(order_df[order_df.profit > 0]) / len(order_df[order_df.profit != 0])\n",
    "'annual_return', ((sum_profit - sum_tax) / START_MONEY + 1) ** (365 / count_day)\n",
    "'len(order_df[order_df.profit != 0])', len(order_df[order_df.profit != 0])\n",
    "'len(order_df[order_df.profit > 0])', len(order_df[order_df.profit > 0])\n",
    "'order LONG', len(order_df[order_df.buy_reason == 'LONG'])\n",
    "len(order_df[(order_df.buy_reason == 'LONG') & (order_df.profit > 0)])\n",
    "sum(list(order_df[order_df.buy_reason == 'LONG']['profit']))\n",
    "'order SHORT', len(order_df[order_df.buy_reason == 'SHORT'])\n",
    "len(order_df[(order_df.buy_reason == 'SHORT') & (order_df.profit > 0)])\n",
    "sum(list(order_df[order_df.buy_reason == 'SHORT']['profit']))\n",
    "\n",
    "# order_df\n",
    "# order_df.loc[order_df['sell_price']==0]\n",
    "\n",
    "calc_df = order_df.copy()\n",
    "calc_df['profit_pct'] = calc_df['profit'] / (calc_df['buy_count'] * calc_df['buy_price'])\n",
    "# calc_df[calc_df.symbol == 'BIDU']\n",
    "# calc_df[calc_df.profit > 0]\n",
    "# calc_df\n",
    "\n",
    "# order_df[order_df.profit > 0]\n",
    "\n",
    "# csv_file = 'E:/Dev/result/T_TURTLE_POS%d_TURTLE_BUY_N%d_TURTLE_SELL_N%d_START_MONEY%d_%s_%s.csv' % \\\n",
    "#     (TURTLE_POS, TURTLE_BUY_N, TURTLE_SELL_N, START_MONEY, start_date, end_date)\n",
    "# calc_df.to_csv(csv_file)\n",
    "\n",
    "# list(show_df.dropna(how='any', inplace=False).PROPERTY_TURTLE_20_60_60.apply(int).tail(50))\n",
    "# list(show_df.open.apply(int).tail(50))\n",
    "\n",
    "df = show_df.dropna(how='any', inplace=False).copy()\n",
    "algo = df['PROPERTY_TURTLE_%d_%d_%d' % (TURTLE_POS, TURTLE_LONG_BUY_N, TURTLE_LONG_SELL_N)].pct_change()\n",
    "benchmark = df.open.pct_change()\n",
    "\n",
    "'cum_returns', emp.cum_returns(algo)[-1], emp.cum_returns(benchmark)[-1]\n",
    "'max_drawdown', emp.max_drawdown(algo), emp.max_drawdown(benchmark)\n",
    "'annual_return', emp.annual_return(algo), emp.annual_return(benchmark)\n",
    "'annual_volatility', emp.annual_volatility(algo, period='daily')\n",
    "'calmar_ratio', emp.calmar_ratio(algo)\n",
    "'sharpe_ratio', emp.sharpe_ratio(returns=algo)\n",
    "'alpha', emp.alpha(returns=algo, factor_returns=benchmark, risk_free=0.00)\n",
    "'beta', emp.beta(returns=algo, factor_returns=benchmark, risk_free=0.00)\n",
    "\n",
    "'ALL DAY', len(df)\n",
    "'CASH_TURTLE_%d_%d_%d' % (TURTLE_POS, TURTLE_LONG_BUY_N, TURTLE_LONG_SELL_N)\n",
    "'PROPERTY_TURTLE_%d_%d_%d' % (TURTLE_POS, TURTLE_LONG_BUY_N, TURTLE_LONG_SELL_N)\n",
    "'CASH NOT USED DAY', \\\n",
    "    len(df[df['CASH_TURTLE_%d_%d_%d' % (TURTLE_POS, TURTLE_LONG_BUY_N, TURTLE_LONG_SELL_N)] > \\\n",
    "           df['PROPERTY_TURTLE_%d_%d_%d' % (TURTLE_POS, TURTLE_LONG_BUY_N, TURTLE_LONG_SELL_N)] / TURTLE_POS])\n",
    "'MISS_BUY_SIGNAL_LONG', miss_buy_long\n",
    "'MISS_BUY_SIGNAL_SHORT', miss_buy_short"
   ]
  },
  {
   "cell_type": "code",
   "execution_count": 13,
   "metadata": {
    "scrolled": false
   },
   "outputs": [
    {
     "data": {
      "text/html": [
       "<div>\n",
       "<style scoped>\n",
       "    .dataframe tbody tr th:only-of-type {\n",
       "        vertical-align: middle;\n",
       "    }\n",
       "\n",
       "    .dataframe tbody tr th {\n",
       "        vertical-align: top;\n",
       "    }\n",
       "\n",
       "    .dataframe thead th {\n",
       "        text-align: right;\n",
       "    }\n",
       "</style>\n",
       "<table border=\"1\" class=\"dataframe\">\n",
       "  <thead>\n",
       "    <tr style=\"text-align: right;\">\n",
       "      <th></th>\n",
       "      <th>pro_pct</th>\n",
       "    </tr>\n",
       "    <tr>\n",
       "      <th>symbol</th>\n",
       "      <th></th>\n",
       "    </tr>\n",
       "  </thead>\n",
       "  <tbody>\n",
       "    <tr>\n",
       "      <th>600009</th>\n",
       "      <td>1.472281</td>\n",
       "    </tr>\n",
       "    <tr>\n",
       "      <th>600519</th>\n",
       "      <td>0.974971</td>\n",
       "    </tr>\n",
       "    <tr>\n",
       "      <th>600660</th>\n",
       "      <td>0.545209</td>\n",
       "    </tr>\n",
       "    <tr>\n",
       "      <th>600436</th>\n",
       "      <td>0.534501</td>\n",
       "    </tr>\n",
       "    <tr>\n",
       "      <th>600276</th>\n",
       "      <td>0.479865</td>\n",
       "    </tr>\n",
       "    <tr>\n",
       "      <th>601318</th>\n",
       "      <td>0.326085</td>\n",
       "    </tr>\n",
       "    <tr>\n",
       "      <th>601398</th>\n",
       "      <td>0.324192</td>\n",
       "    </tr>\n",
       "    <tr>\n",
       "      <th>600036</th>\n",
       "      <td>0.317515</td>\n",
       "    </tr>\n",
       "    <tr>\n",
       "      <th>600438</th>\n",
       "      <td>0.311286</td>\n",
       "    </tr>\n",
       "    <tr>\n",
       "      <th>600332</th>\n",
       "      <td>0.295809</td>\n",
       "    </tr>\n",
       "    <tr>\n",
       "      <th>600487</th>\n",
       "      <td>0.294230</td>\n",
       "    </tr>\n",
       "    <tr>\n",
       "      <th>600887</th>\n",
       "      <td>0.275525</td>\n",
       "    </tr>\n",
       "    <tr>\n",
       "      <th>603288</th>\n",
       "      <td>0.262360</td>\n",
       "    </tr>\n",
       "    <tr>\n",
       "      <th>600690</th>\n",
       "      <td>0.254125</td>\n",
       "    </tr>\n",
       "    <tr>\n",
       "      <th>002236</th>\n",
       "      <td>0.174890</td>\n",
       "    </tr>\n",
       "    <tr>\n",
       "      <th>300003</th>\n",
       "      <td>0.109247</td>\n",
       "    </tr>\n",
       "    <tr>\n",
       "      <th>600809</th>\n",
       "      <td>0.107168</td>\n",
       "    </tr>\n",
       "    <tr>\n",
       "      <th>600196</th>\n",
       "      <td>0.078205</td>\n",
       "    </tr>\n",
       "    <tr>\n",
       "      <th>600518</th>\n",
       "      <td>0.072870</td>\n",
       "    </tr>\n",
       "    <tr>\n",
       "      <th>601006</th>\n",
       "      <td>0.056979</td>\n",
       "    </tr>\n",
       "  </tbody>\n",
       "</table>\n",
       "</div>"
      ],
      "text/plain": [
       "         pro_pct\n",
       "symbol          \n",
       "600009  1.472281\n",
       "600519  0.974971\n",
       "600660  0.545209\n",
       "600436  0.534501\n",
       "600276  0.479865\n",
       "601318  0.326085\n",
       "601398  0.324192\n",
       "600036  0.317515\n",
       "600438  0.311286\n",
       "600332  0.295809\n",
       "600487  0.294230\n",
       "600887  0.275525\n",
       "603288  0.262360\n",
       "600690  0.254125\n",
       "002236  0.174890\n",
       "300003  0.109247\n",
       "600809  0.107168\n",
       "600196  0.078205\n",
       "600518  0.072870\n",
       "601006  0.056979"
      ]
     },
     "execution_count": 13,
     "metadata": {},
     "output_type": "execute_result"
    }
   ],
   "source": [
    "df = order_df.copy()\n",
    "df.drop(columns=['sell_reason'], inplace=True)\n",
    "df['pro_pct'] = (df.sell_price - df.buy_price) / df.buy_price\n",
    "# df.sell_date.dtypes\n",
    "# df.loc[1].sell_date\n",
    "# df.loc[1].sell_date.to_timestamp()\n",
    "\n",
    "# df = df.astype(dtype={'sell_date': 'datetime64[ns]', 'buy_date': 'datetime64[ns]', 'cash':'int'})\n",
    "df = df.astype(dtype={'cash': 'int', 'profit': 'float64'})\n",
    "# df.loc[1].sell_date\n",
    "\n",
    "# type(df[1].sell_date)\n",
    "df['h_days'] = (df.sell_date - df.buy_date)\n",
    "# df.loc[1].h_days\n",
    "# type(df.loc[1].h_days)\n",
    "\n",
    "df['h_days'] = df['h_days'].apply(lambda x: 1 if x == 0 else x)\n",
    "# df.loc[1].h_days\n",
    "\n",
    "df['per_d'] = df.pro_pct / df.h_days * 365\n",
    "# df['per_d'] = df.apply(lambda x: x.pro_pct / x.h_days)\n",
    "\n",
    "# df\n",
    "# df.sort_values(by='pro_pct', ascending=False)\n",
    "# df.sort_values(by='per_d', ascending=False)\n",
    "\n",
    "df = df.loc[:, ['symbol', 'pro_pct']]\n",
    "df = df.groupby(by='symbol').sum()\n",
    "df.sort_values(by='pro_pct', ascending=False).head(20)"
   ]
  },
  {
   "cell_type": "code",
   "execution_count": 14,
   "metadata": {
    "scrolled": false
   },
   "outputs": [],
   "source": [
    "# # %%time\n",
    "\n",
    "# '''选股，计算哪些股票跑不赢指数'''\n",
    "\n",
    "# df = None\n",
    "# df = pd.DataFrame(columns=[\n",
    "#     'symbol', 'return'\n",
    "# ])\n",
    "\n",
    "# s_p = stock_df_dict['399300'][:start_date].iloc[-250].open\n",
    "# e_p = stock_df_dict['399300'][:start_date].iloc[-1].open\n",
    "# benchmark_return_lastyear = e_p / s_p\n",
    "# s_p, e_p\n",
    "# 'benchmark_return_lastyear', benchmark_return_lastyear\n",
    "\n",
    "# s_p = stock_df_dict['399300'][start_date:].iloc[0].open\n",
    "# e_p = stock_df_dict['399300'][:end_date].iloc[-1].open\n",
    "# benchmark_return = e_p / s_p\n",
    "# 'benchmark_return', benchmark_return\n",
    "\n",
    "\n",
    "# # stock_df_dict['000540']\n",
    "# # stock_df_dict['000540'].index[-1] > stock_df_dict['000540'].index[-2]\n",
    "# # stock_df_dict['000540'].index[-1].strftime('%Y-%m-%d')\n",
    "# # '2017-08-18' < start_date\n",
    "\n",
    "# for symbol, stock_df in stock_df_dict.items():\n",
    "# #     print(symbol)\n",
    "#     if len(stock_df) == 0:\n",
    "#         continue\n",
    "#     if stock_df.index[-1].strftime('%Y-%m-%d') < start_date:\n",
    "#         continue\n",
    "# #     print(stock_df[start_date:].iloc[0].open,)\n",
    "#     try:\n",
    "#         df = df.append(\n",
    "#             {\n",
    "#                 'symbol': symbol,\n",
    "#                 'return': stock_df[:end_date].iloc[-1].open / stock_df[start_date:].iloc[0].open,\n",
    "#                 'return_lastyear': stock_df[:start_date].iloc[-1].open / stock_df[:start_date].iloc[-250].open,\n",
    "#             },\n",
    "#             ignore_index = True\n",
    "#         )\n",
    "#     except:\n",
    "#         pass\n",
    "\n",
    "# df.sort_values(by=['return'], ascending=False).head(10)\n",
    "# # df[df['return'] >= benchmark_return]\n",
    "\n",
    "\n",
    "# loser_symbol = df[df['return'] <= benchmark_return].copy()\n",
    "# winner_symbol = df[df['return'] > benchmark_return].copy()\n",
    "# loser_symbol = df[df['return_lastyear'] <= benchmark_return_lastyear].copy()\n",
    "# winner_symbol = df[df['return_lastyear'] > benchmark_return_lastyear].copy()\n",
    "# winner_symbol_list = list(winner_symbol.symbol)\n",
    "# 'len(loser_symbol)', len(loser_symbol)\n",
    "\n",
    "\n",
    "# df = order_df.copy()\n",
    "# df = df.astype(dtype={'cash': 'int', 'profit': 'int'})\n",
    "# df['is_winner'] = 0\n",
    "# df['is_winner'] = df['symbol'].apply(lambda x: 1 if x in winner_symbol_list else 0)\n",
    "\n",
    "# 'len(order_df)', len(order_df)\n",
    "# 'len(is_winner == 0)', len(df[df['is_winner'] == 0])\n",
    "# 'len(is_winner == 0 & profit < 0)', len(df[(df.is_winner == 0) & (df.profit < 0)])\n",
    "# df[(df.is_winner == 0)].profit.sum()\n",
    "# 'len(is_winner == 1)', len(df[df['is_winner'] == 1])\n",
    "# 'len(is_winner == 1 & profit < 0)', len(df[(df.is_winner == 1) & (df.profit < 0)])\n",
    "# df[(df.is_winner == 1)].profit.sum()\n",
    "\n",
    "# df[df['is_winner'] == 0]"
   ]
  },
  {
   "cell_type": "code",
   "execution_count": 15,
   "metadata": {
    "scrolled": false
   },
   "outputs": [],
   "source": [
    "# %matplotlib inline\n",
    "\n",
    "# import sys\n",
    "# import matplotlib\n",
    "# import matplotlib.pyplot as plt\n",
    "# plt.rcParams['figure.figsize'] = [15, 10]\n",
    "\n",
    "# # order_df_TB\n",
    "# bar_df = order_df.copy()\n",
    "# df = bar_df.sort_values(by=['profit'])\n",
    "# # df\n",
    "\n",
    "# bins = [100 * x for x in range(-200, 500)]\n",
    "# # bins\n",
    "\n",
    "# cats = pd.cut(df['profit'], bins)\n",
    "# # cats\n",
    "\n",
    "# def get_stats(group):\n",
    "#     return {'count': group.count()}\n",
    "\n",
    "# grouped = df['profit'].groupby(cats)\n",
    "# bin_counts = grouped.apply(get_stats).unstack()\n",
    "# bin_counts.reset_index(inplace=True, drop=False)\n",
    "# bin_counts['profit'] = bin_counts['profit'].apply(str)\n",
    "# # bin_counts\n",
    "\n",
    "# # df['profit'].hist(bins=10)\n",
    "\n",
    "# # bin_counts.plot(kind='barh', alpha=0.5, rot=0)\n",
    "\n",
    "# # display_charts(bin_counts, kind='bar', x='profit', figsize=(900, 600), logy=True)"
   ]
  },
  {
   "cell_type": "code",
   "execution_count": 16,
   "metadata": {
    "scrolled": false
   },
   "outputs": [
    {
     "data": {
      "text/plain": [
       "Index(['open', 'close', 'o_pct_chg', 'ROLLING_20_MAX', 'ROLLING_20_MIN',\n",
       "       'ROLLING_60_MAX', 'ROLLING_30_MIN', 'MA180', 'MA60', 'MA30',\n",
       "       'CASH_TURTLE_20_60_30', 'PROPERTY_TURTLE_20_60_30'],\n",
       "      dtype='object')"
      ]
     },
     "execution_count": 16,
     "metadata": {},
     "output_type": "execute_result"
    },
    {
     "data": {
      "image/png": "[encoded data removed]",
      "text/plain": [
       "<matplotlib.figure.Figure at 0x10eeded0>"
      ]
     },
     "metadata": {},
     "output_type": "display_data"
    }
   ],
   "source": [
    "%matplotlib inline\n",
    "\n",
    "import matplotlib\n",
    "import matplotlib.pyplot as plt\n",
    "plt.rcParams['figure.figsize'] = [15, 10]\n",
    "\n",
    "# df = show_df.fillna(START_MONEY).copy()\n",
    "df = show_df.dropna(how='any', inplace=False).copy()\n",
    "# df.drop(columns=['open', 'high', 'low', 'o_pct_chg', 'TR', 'N'], inplace=True)\n",
    "df.columns\n",
    "\n",
    "df['close'] = (df['close'] - df.iloc[0]['close']) / df.iloc[0]['close']\n",
    "ax = df.plot(kind='line', y='close', label='BENCHMARK_%.2f' % df.iloc[-1]['close'], linewidth=1, grid=True)\n",
    "for col in sorted(df.columns):\n",
    "    if 'PROPERTY' in col:\n",
    "        df[col] = (df[col] - df.iloc[1][col]) / df.iloc[0][col]\n",
    "        ax = df.plot(kind='line', y=col, secondary_y=False, label='%s_%.2f' % (col, df.iloc[-1][col]), linewidth=1, grid=True, ax=ax)\n",
    "\n",
    "# display_charts(df, kind='line', figsize=(900, 600), logy=False)"
   ]
  },
  {
   "cell_type": "code",
   "execution_count": 17,
   "metadata": {},
   "outputs": [
    {
     "data": {
      "text/plain": [
       "Index(['open', 'close', 'o_pct_chg', 'ROLLING_20_MAX', 'ROLLING_20_MIN',\n",
       "       'ROLLING_60_MAX', 'ROLLING_30_MIN', 'MA180', 'MA60', 'MA30',\n",
       "       'CASH_TURTLE_20_60_30', 'PROPERTY_TURTLE_20_60_30'],\n",
       "      dtype='object')"
      ]
     },
     "execution_count": 17,
     "metadata": {},
     "output_type": "execute_result"
    },
    {
     "data": {
      "text/html": [
       "<div id=\"chart_idTDIDiHNH\"</div>\n",
       "    <script type=\"text/javascript\">new Highcharts.StockChart({\"chart\":{\"renderTo\":\"chart_idTDIDiHNH\",\"width\":900,\"height\":600},\"legend\":{\"enabled\":true},\"series\":[{\"name\":\"CASH_TURTLE_20_60_30\",\"yAxis\":0,\"data\":[[1483401600000,1.0],[1483488000000,0.90009963],[1483574400000,0.70042733],[1483660800000,0.65046763],[1483920000000,0.55037678],[1484006400000,0.35074776],[1484092800000,0.25083366],[1484179200000,0.25083366],[1484265600000,0.15241922],[1484524800000,0.00472842],[1484611200000,0.04905065],[1484697600000,0.00102847],[1484784000000,0.00102847],[1484870400000,0.00102847],[1485129600000,0.00102847],[1485216000000,0.00102847],[1485302400000,0.00102847],[1485388800000,0.00102847],[1486080000000,0.00102847],[1486339200000,0.00102847],[1486425600000,0.00102847],[1486512000000,0.00102847],[1486598400000,0.00102847],[1486684800000,0.00102847],[1486944000000,0.00102847],[1487030400000,0.00102847],[1487116800000,0.00102847],[1487203200000,0.00102847],[1487289600000,0.00102847],[1487548800000,0.00102847],[1487635200000,0.00102847],[1487721600000,0.00102847],[1487808000000,0.00102847],[1487894400000,0.00102847],[1488153600000,0.04954967],[1488240000000,0.03474468],[1488326400000,0.03474468],[1488412800000,0.03474468],[1488499200000,0.03474468],[1488758400000,0.03474468],[1488844800000,0.03474468],[1488931200000,0.03474468],[1489017600000,0.02472381],[1489104000000,0.02158745],[1489363200000,0.01804239],[1489449600000,0.01804239],[1489536000000,0.01804239],[1489622400000,0.01225214],[1489708800000,0.01225214],[1489968000000,0.01225214],[1490054400000,0.01225214],[1490140800000,0.01225214],[1490227200000,0.00386483],[1490313600000,0.00386483],[1490572800000,0.00386483],[1490659200000,0.00386483],[1490745600000,0.00386483],[1490832000000,0.00172401],[1490918400000,0.04288182],[1491350400000,0.04288182],[1491436800000,0.04288182],[1491523200000,0.04288182],[1491782400000,0.04288182],[1491868800000,0.04648311],[1491955200000,0.04648311],[1492041600000,0.09346355],[1492128000000,0.03708337],[1492387200000,0.03708337],[1492473600000,0.03708337],[1492560000000,0.03708337],[1492646400000,0.03708337],[1492732800000,0.03395317],[1492992000000,0.03500528],[1493078400000,0.03610526],[1493164800000,0.03610526],[1493251200000,0.03610526],[1493337600000,0.03610526],[1493683200000,0.03610526],[1493769600000,0.03610526],[1493856000000,0.03610526],[1493942400000,0.03610526],[1494201600000,0.03421096],[1494288000000,0.03421096],[1494374400000,0.03421096],[1494460800000,0.03247826],[1494547200000,0.03247826],[1494806400000,0.03247826],[1494892800000,0.03247826],[1494979200000,0.03247826],[1495065600000,0.03247826],[1495152000000,0.03247826],[1495411200000,0.03247826],[1495497600000,0.02846862],[1495584000000,0.02846862],[1495670400000,0.02846862],[1495756800000,0.02846862],[1496188800000,0.02846862],[1496275200000,0.02846862],[1496361600000,0.02846862],[1496620800000,0.07636713],[1496707200000,0.02313759],[1496793600000,0.02313759],[1496880000000,0.02313759],[1496966400000,0.02313759],[1497225600000,0.02313759],[1497312000000,0.02313759],[1497398400000,0.02313759],[1497484800000,0.02313759],[1497571200000,0.02313759],[1497830400000,0.02313759],[1497916800000,0.02313759],[1498003200000,0.02313759],[1498089600000,0.02313759],[1498176000000,0.02313759],[1498435200000,0.02313759],[1498521600000,0.02313759],[1498608000000,0.02313759],[1498694400000,0.02313759],[1498780800000,0.02313759],[1499040000000,0.02313759],[1499126400000,0.02313759],[1499212800000,0.02313759],[1499299200000,0.02313759],[1499385600000,0.01989996],[1499644800000,0.01989996],[1499731200000,0.01989996],[1499817600000,0.01989996],[1499904000000,0.01989996],[1499990400000,0.03735898],[1500249600000,0.03844679],[1500336000000,0.03618679],[1500422400000,0.03618679],[1500508800000,0.03618679],[1500595200000,0.03618679],[1500854400000,0.03618679],[1500940800000,0.03618679],[1501027200000,0.03618679],[1501113600000,0.03618679],[1501200000000,0.03618679],[1501459200000,0.03618679],[1501545600000,0.03618679],[1501632000000,0.03618679],[1501718400000,0.03618679],[1501804800000,0.03618679],[1502064000000,0.03618679],[1502150400000,0.03618679],[1502236800000,0.03618679],[1502323200000,0.03618679],[1502409600000,0.03618679],[1502668800000,0.03618679],[1502755200000,0.03618679],[1502841600000,0.03618679],[1502928000000,0.02837131],[1503014400000,0.02837131],[1503273600000,0.02837131],[1503360000000,0.02837131],[1503446400000,0.02837131],[1503532800000,0.02837131],[1503619200000,0.02837131],[1503878400000,0.02837131],[1503964800000,0.02837131],[1504051200000,0.02837131],[1504137600000,0.02837131],[1504224000000,0.02837131],[1504483200000,0.02837131],[1504569600000,0.02837131],[1504656000000,0.02837131],[1504742400000,0.02837131],[1504828800000,0.02837131],[1505088000000,0.05111371],[1505174400000,0.05111371],[1505260800000,0.05111371],[1505347200000,0.05111371],[1505433600000,0.05111371],[1505692800000,0.05111371],[1505779200000,0.05111371],[1505865600000,0.05111371],[1505952000000,0.05111371],[1506038400000,0.04396848],[1506297600000,0.03798561],[1506384000000,0.03798561],[1506470400000,0.03798561],[1506556800000,0.03168233],[1506643200000,0.04618829],[1507507200000,0.04618829],[1507593600000,0.04618829],[1507680000000,0.04618829],[1507766400000,0.04618829],[1507852800000,0.04618829],[1508112000000,0.04618829],[1508198400000,0.04108564],[1508284800000,0.03929845],[1508371200000,0.03929845],[1508457600000,0.03929845],[1508716800000,0.03929845],[1508803200000,0.03929845],[1508889600000,0.03929845],[1508976000000,0.03929845],[1509062400000,0.03929845],[1509321600000,0.03929845],[1509408000000,0.03929845],[1509494400000,0.03929845],[1509580800000,0.03929845],[1509667200000,0.03929845],[1509926400000,0.03929845],[1510012800000,0.03929845],[1510099200000,0.03929845],[1510185600000,0.03929845],[1510272000000,0.04495609],[1510531200000,0.04495609],[1510617600000,0.04495609],[1510704000000,0.04495609],[1510790400000,0.04495609],[1510876800000,0.03894859],[1511136000000,0.03894859],[1511222400000,0.03894859],[1511308800000,0.03894859],[1511395200000,0.03894859],[1511481600000,0.03894859],[1511740800000,0.03894859],[1511827200000,0.08455195],[1511913600000,0.02215661],[1512000000000,0.02215661],[1512086400000,0.02215661],[1512345600000,0.02215661],[1512432000000,0.02215661],[1512518400000,0.02215661],[1512604800000,0.02215661],[1512691200000,0.08890505],[1512950400000,0.08890505],[1513036800000,0.02849246],[1513123200000,0.02849246],[1513209600000,0.0868485],[1513296000000,0.0238737],[1513555200000,0.0238737],[1513641600000,0.0238737],[1513728000000,0.0238737],[1513814400000,0.0238737],[1513900800000,0.0238737],[1514160000000,0.0238737],[1514246400000,0.0238737],[1514332800000,0.0238737],[1514419200000,0.0238737],[1514505600000,0.0238737],[1514851200000,0.0238737],[1514937600000,0.0238737],[1515024000000,0.0238737],[1515110400000,0.0238737],[1515369600000,0.0238737],[1515456000000,0.0238737],[1515542400000,0.0238737],[1515628800000,0.0238737],[1515715200000,0.0238737],[1515974400000,0.0238737],[1516060800000,0.0238737],[1516147200000,0.0238737],[1516233600000,0.0238737],[1516320000000,0.0238737],[1516579200000,0.0238737],[1516665600000,0.0238737],[1516752000000,0.0238737],[1516838400000,0.0238737],[1516924800000,0.0238737],[1517184000000,0.01549716],[1517270400000,0.06579449],[1517356800000,0.06579449],[1517443200000,0.00170627],[1517529600000,0.01405787],[1517788800000,0.01405787],[1517875200000,0.01858019],[1517961600000,0.01858019],[1518048000000,0.14180759],[1518134400000,0.41648796],[1518393600000,0.41648796],[1518480000000,0.41648796],[1518566400000,0.41648796],[1519257600000,0.41648796],[1519344000000,0.29660218],[1519603200000,0.17423656],[1519689600000,0.04904796],[1519776000000,0.04904796],[1519862400000,0.05592565],[1519948800000,0.05592565],[1520208000000,0.05592565],[1520294400000,0.05592565],[1520380800000,0.05592565],[1520467200000,0.05592565],[1520553600000,0.05592565],[1520812800000,0.05196821],[1520899200000,0.05196821],[1520985600000,0.05196821],[1521072000000,0.05196821],[1521158400000,0.05196821],[1521417600000,0.05196821],[1521504000000,0.03842912],[1521590400000,0.03842912],[1521676800000,0.03842912],[1521763200000,0.09649487],[1522022400000,0.09649487],[1522108800000,0.03572122],[1522195200000,0.03572122],[1522281600000,0.03572122],[1522368000000,0.03572122],[1522627200000,0.03572122],[1522713600000,0.03572122],[1522800000000,0.03572122],[1523232000000,0.03572122],[1523318400000,0.09026302],[1523404800000,0.09026302],[1523491200000,0.03064696],[1523577600000,0.03064696],[1523836800000,0.62848696],[1523923200000,0.62848696],[1524009600000,0.84879468],[1524096000000,0.84879468],[1524182400000,0.79177804],[1524441600000,0.79177804],[1524528000000,0.7343755],[1524614400000,0.61930123],[1524700800000,0.44629855],[1524787200000,0.32909897],[1525219200000,0.09759018],[1525305600000,0.03771984],[1525392000000,0.03771984],[1525651200000,0.03771984],[1525737600000,0.03771984],[1525824000000,0.03771984],[1525910400000,0.03771984],[1525996800000,0.03771984],[1526256000000,0.03771984],[1526342400000,0.03771984],[1526428800000,0.03771984],[1526515200000,0.03771984],[1526601600000,0.03771984],[1526860800000,0.03771984],[1526947200000,0.03771984],[1527033600000,0.03771984],[1527120000000,0.03771984],[1527206400000,0.03771984],[1527465600000,0.03771984],[1527552000000,0.03771984],[1527638400000,0.03771984],[1527724800000,0.03771984],[1527811200000,0.03771984],[1528070400000,0.03771984],[1528156800000,0.03771984],[1528243200000,0.03771984],[1528329600000,0.03771984],[1528416000000,0.03771984],[1528675200000,0.03771984],[1528761600000,0.03771984],[1528848000000,0.03771984],[1528934400000,0.02892609],[1529020800000,0.02892609],[1529366400000,0.13534015],[1529452800000,0.13534015],[1529539200000,0.13534015],[1529625600000,0.26261645],[1529884800000,0.07114563],[1529971200000,0.07114563],[1530057600000,0.07114563],[1530144000000,0.07114563],[1530230400000,0.07114563],[1530489600000,0.00985293],[1530576000000,0.19774393],[1530662400000,0.25376443],[1530748800000,0.50697863],[1530835200000,0.50697863],[1531094400000,0.56367043],[1531180800000,0.56367043],[1531267200000,0.56367043],[1531353600000,0.56367043],[1531440000000,0.50023043],[1531699200000,0.30681783],[1531785600000,0.11448863],[1531872000000,0.04925113],[1531958400000,0.04925113],[1532044800000,0.04925113],[1532304000000,0.04925113],[1532390400000,0.32668423],[1532476800000,0.26664083],[1532563200000,0.14679833],[1532649600000,0.14679833],[1532908800000,0.14679833],[1532995200000,0.09901873],[1533081600000,0.03946513]]},{\"name\":\"PROPERTY_TURTLE_20_60_30\",\"yAxis\":0,\"data\":[[1483401600000,1.455191523e-16],[1483488000000,0.0],[1483574400000,0.00012016],[1483660800000,0.00143349],[1483920000000,-0.0013307],[1484006400000,0.0012044],[1484092800000,-0.008874],[1484179200000,-0.01541119],[1484265600000,-0.01475133],[1484524800000,-0.01683351],[1484611200000,-0.03933517],[1484697600000,-0.02330665],[1484784000000,-0.02225379],[1484870400000,-0.0338219],[1485129600000,-0.02327546],[1485216000000,-0.0198241],[1485302400000,-0.0184813],[1485388800000,-0.01721204],[1486080000000,-0.01114153],[1486339200000,-0.02201553],[1486425600000,-0.0192365],[1486512000000,-0.01349908],[1486598400000,-0.01369061],[1486684800000,-0.00862145],[1486944000000,-0.00185288],[1487030400000,0.00492712],[1487116800000,0.00214429],[1487203200000,-0.0003422],[1487289600000,-0.00067097],[1487548800000,-0.00186542],[1487635200000,0.01709895],[1487721600000,0.03878553],[1487808000000,0.04950346],[1487894400000,0.04346862],[1488153600000,0.03995477],[1488240000000,0.03693028],[1488326400000,0.03750168],[1488412800000,0.03994919],[1488499200000,0.04367578],[1488758400000,0.02907939],[1488844800000,0.03011784],[1488931200000,0.02019805],[1489017600000,0.02117544],[1489104000000,0.00951936],[1489363200000,0.01637269],[1489449600000,0.02712438],[1489536000000,0.02365685],[1489622400000,0.03416768],[1489708800000,0.02818292],[1489968000000,0.02019339],[1490054400000,0.0123032],[1490140800000,0.02205457],[1490227200000,0.02643487],[1490313600000,0.02528185],[1490572800000,0.02242978],[1490659200000,0.01213826],[1490745600000,0.01184215],[1490832000000,0.01391274],[1490918400000,0.0090714],[1491350400000,0.02211575],[1491436800000,0.04045206],[1491523200000,0.04813961],[1491782400000,0.03410653],[1491868800000,0.02115443],[1491955200000,0.02341689],[1492041600000,0.02464958],[1492128000000,0.03960837],[1492387200000,0.02680557],[1492473600000,0.03730567],[1492560000000,0.04879232],[1492646400000,0.04003205],[1492732800000,0.04818905],[1492992000000,0.01881435],[1493078400000,0.00443051],[1493164800000,0.00887327],[1493251200000,0.00686163],[1493337600000,0.01099712],[1493683200000,-0.0067816],[1493769600000,-0.00282661],[1493856000000,0.0054179],[1493942400000,0.00568455],[1494201600000,0.00812697],[1494288000000,0.00148598],[1494374400000,-0.00724922],[1494460800000,-0.00675928],[1494547200000,-0.00267471],[1494806400000,0.01654139],[1494892800000,0.02702256],[1494979200000,0.05048312],[1495065600000,0.03290337],[1495152000000,0.03905599],[1495411200000,0.05307801],[1495497600000,0.05990302],[1495584000000,0.07826102],[1495670400000,0.06825336],[1495756800000,0.06529145],[1496188800000,0.06063173],[1496275200000,0.05723103],[1496361600000,0.07439851],[1496620800000,0.06760189],[1496707200000,0.05623383],[1496793600000,0.07012295],[1496880000000,0.08503491],[1496966400000,0.10921447],[1497225600000,0.10654078],[1497312000000,0.11111308],[1497398400000,0.11168214],[1497484800000,0.09094054],[1497571200000,0.072303],[1497830400000,0.07218404],[1497916800000,0.0814683],[1498003200000,0.07599455],[1498089600000,0.10210052],[1498176000000,0.09085967],[1498435200000,0.1071546],[1498521600000,0.1158024],[1498608000000,0.11628737],[1498694400000,0.10232121],[1498780800000,0.10143825],[1499040000000,0.10841374],[1499126400000,0.09798043],[1499212800000,0.08469991],[1499299200000,0.09585889],[1499385600000,0.09169401],[1499644800000,0.0880204],[1499731200000,0.08274297],[1499817600000,0.0965154],[1499904000000,0.08780664],[1499990400000,0.08238309],[1500249600000,0.09202071],[1500336000000,0.08720432],[1500422400000,0.08612124],[1500508800000,0.10036777],[1500595200000,0.10260505],[1500854400000,0.09764192],[1500940800000,0.10951702],[1501027200000,0.09801405],[1501113600000,0.0874449],[1501200000000,0.08440681],[1501459200000,0.09586582],[1501545600000,0.10074825],[1501632000000,0.10474143],[1501718400000,0.10465763],[1501804800000,0.08703031],[1502064000000,0.07824365],[1502150400000,0.08973368],[1502236800000,0.09070481],[1502323200000,0.08607307],[1502409600000,0.07892905],[1502668800000,0.06922788],[1502755200000,0.0759778],[1502841600000,0.08862159],[1502928000000,0.08602315],[1503014400000,0.08026579],[1503273600000,0.08569245],[1503360000000,0.08707283],[1503446400000,0.08632494],[1503532800000,0.09462593],[1503619200000,0.09699587],[1503878400000,0.10942946],[1503964800000,0.11545012],[1504051200000,0.12006337],[1504137600000,0.11688399],[1504224000000,0.11249525],[1504483200000,0.11139116],[1504569600000,0.11696433],[1504656000000,0.12335379],[1504742400000,0.12160661],[1504828800000,0.11971743],[1505088000000,0.12689935],[1505174400000,0.12550698],[1505260800000,0.12755887],[1505347200000,0.12666368],[1505433600000,0.12439679],[1505692800000,0.12700467],[1505779200000,0.1207821],[1505865600000,0.11515304],[1505952000000,0.11183344],[1506038400000,0.10279525],[1506297600000,0.10777651],[1506384000000,0.1073631],[1506470400000,0.11183298],[1506556800000,0.12595633],[1506643200000,0.12422215],[1507507200000,0.14726951],[1507593600000,0.14101119],[1507680000000,0.13061808],[1507766400000,0.13519566],[1507852800000,0.14909889],[1508112000000,0.15743725],[1508198400000,0.14989766],[1508284800000,0.14679775],[1508371200000,0.15612639],[1508457600000,0.1595304],[1508716800000,0.1609219],[1508803200000,0.16378527],[1508889600000,0.17081817],[1508976000000,0.1812889],[1509062400000,0.1823606],[1509321600000,0.18635271],[1509408000000,0.19646476],[1509494400000,0.21219755],[1509580800000,0.20155466],[1509667200000,0.20227666],[1509926400000,0.2138224],[1510012800000,0.25830383],[1510099200000,0.24919125],[1510185600000,0.24311428],[1510272000000,0.26543079],[1510531200000,0.30797751],[1510617600000,0.31423377],[1510704000000,0.28751555],[1510790400000,0.28202853],[1510876800000,0.30597675],[1511136000000,0.29424556],[1511222400000,0.32939982],[1511308800000,0.35059357],[1511395200000,0.32609262],[1511481600000,0.26980003],[1511740800000,0.27175174],[1511827200000,0.24801202],[1511913600000,0.27022703],[1512000000000,0.25231353],[1512086400000,0.23922459],[1512345600000,0.23980672],[1512432000000,0.24441721],[1512518400000,0.24867105],[1512604800000,0.20280411],[1512691200000,0.19287134],[1512950400000,0.21183001],[1513036800000,0.24610979],[1513123200000,0.23832896],[1513209600000,0.26040857],[1513296000000,0.25845465],[1513555200000,0.24091693],[1513641600000,0.23988144],[1513728000000,0.26783091],[1513814400000,0.27621361],[1513900800000,0.30092979],[1514160000000,0.29606657],[1514246400000,0.28737328],[1514332800000,0.28259855],[1514419200000,0.26012859],[1514505600000,0.26427302],[1514851200000,0.27981314],[1514937600000,0.29362611],[1515024000000,0.29158118],[1515110400000,0.30837252],[1515369600000,0.296209],[1515456000000,0.30036043],[1515542400000,0.31379989],[1515628800000,0.30445573],[1515715200000,0.30308779],[1515974400000,0.32511656],[1516060800000,0.32181383],[1516147200000,0.33773222],[1516233600000,0.30776918],[1516320000000,0.30859033],[1516579200000,0.30556773],[1516665600000,0.34100353],[1516752000000,0.35365111],[1516838400000,0.35264665],[1516924800000,0.33544127],[1517184000000,0.33619362],[1517270400000,0.28530543],[1517356800000,0.28226987],[1517443200000,0.31843446],[1517529600000,0.31294513],[1517788800000,0.32691089],[1517875200000,0.29640232],[1517961600000,0.31361541],[1518048000000,0.24755672],[1518134400000,0.18630781],[1518393600000,0.172007],[1518480000000,0.19038295],[1518566400000,0.18555448],[1519257600000,0.2065973],[1519344000000,0.23172101],[1519603200000,0.25824073],[1519689600000,0.27016593],[1519776000000,0.23250042],[1519862400000,0.22484343],[1519948800000,0.22914021],[1520208000000,0.2428181],[1520294400000,0.23876752],[1520380800000,0.23491072],[1520467200000,0.23019161],[1520553600000,0.24162849],[1520812800000,0.25253459],[1520899200000,0.24350187],[1520985600000,0.24282245],[1521072000000,0.24932703],[1521158400000,0.25709108],[1521417600000,0.23319745],[1521504000000,0.24242937],[1521590400000,0.25052345],[1521676800000,0.24630345],[1521763200000,0.20886596],[1522022400000,0.22029853],[1522108800000,0.24702184],[1522195200000,0.21713316],[1522281600000,0.21641692],[1522368000000,0.1820319],[1522627200000,0.22141276],[1522713600000,0.19768154],[1522800000000,0.20169422],[1523232000000,0.17551808],[1523318400000,0.17655255],[1523404800000,0.19697773],[1523491200000,0.19153327],[1523577600000,0.19630982],[1523836800000,0.17678489],[1523923200000,0.17016231],[1524009600000,0.14505208],[1524096000000,0.14511466],[1524182400000,0.14959208],[1524441600000,0.15089995],[1524528000000,0.15332508],[1524614400000,0.15596463],[1524700800000,0.17695835],[1524787200000,0.16366571],[1525219200000,0.19766354],[1525305600000,0.19475644],[1525392000000,0.19772133],[1525651200000,0.21476052],[1525737600000,0.24079565],[1525824000000,0.2164714],[1525910400000,0.21937135],[1525996800000,0.26244594],[1526256000000,0.24422958],[1526342400000,0.26583541],[1526428800000,0.30832743],[1526515200000,0.32700211],[1526601600000,0.2955618],[1526860800000,0.30902313],[1526947200000,0.30307085],[1527033600000,0.33220687],[1527120000000,0.33899347],[1527206400000,0.34574356],[1527465600000,0.36727291],[1527552000000,0.38889705],[1527638400000,0.28841962],[1527724800000,0.32440805],[1527811200000,0.35232093],[1528070400000,0.28656478],[1528156800000,0.30374292],[1528243200000,0.36121471],[1528329600000,0.38466049],[1528416000000,0.3622034],[1528675200000,0.35785651],[1528761600000,0.31788064],[1528848000000,0.35469978],[1528934400000,0.33059984],[1529020800000,0.31190601],[1529366400000,0.2714921],[1529452800000,0.27376049],[1529539200000,0.3071359],[1529625600000,0.27940125],[1529884800000,0.29307155],[1529971200000,0.27779491],[1530057600000,0.27254965],[1530144000000,0.22329113],[1530230400000,0.22901073],[1530489600000,0.26987853],[1530576000000,0.26154883],[1530662400000,0.23927553],[1530748800000,0.23277863],[1530835200000,0.21806503],[1531094400000,0.23396613],[1531180800000,0.25998833],[1531267200000,0.25485413],[1531353600000,0.27056393],[1531440000000,0.29273013],[1531699200000,0.28980023],[1531785600000,0.30864263],[1531872000000,0.29236093],[1531958400000,0.30050663],[1532044800000,0.26422813],[1532304000000,0.23021613],[1532390400000,0.20247453],[1532476800000,0.20140293],[1532563200000,0.20780563],[1532649600000,0.20251493],[1532908800000,0.19030233],[1532995200000,0.19131483],[1533081600000,0.19190173]]},{\"name\":\"close\",\"yAxis\":0,\"data\":[[1483401600000,0.0],[1483488000000,0.0078031733],[1483574400000,0.0076475886],[1483660800000,0.0016276558],[1483920000000,0.006483695],[1484006400000,0.004799191],[1484092800000,-0.0023128271],[1484179200000,-0.0073633472],[1484265600000,-0.0066781759],[1484524800000,-0.0068158086],[1484611200000,-0.0047483267],[1484697600000,-0.0008557161],[1484784000000,-0.0038716665],[1484870400000,0.0037878901],[1485129600000,0.0065375513],[1485216000000,0.0066482558],[1485302400000,0.0100741122],[1485388800000,0.0136824815],[1486080000000,0.0066602239],[1486339200000,0.0092692603],[1486425600000,0.0070162736],[1486512000000,0.0122852108],[1486598400000,0.0161748294],[1486684800000,0.021321094],[1486944000000,0.0281369026],[1487030400000,0.0279962779],[1487116800000,0.0237805298],[1487203200000,0.0295311813],[1487289600000,0.0236997454],[1487548800000,0.0386448569],[1487635200000,0.0420647292],[1487721600000,0.0441411872],[1487808000000,0.0392223156],[1487894400000,0.0393808924],[1488153600000,0.0311139568],[1488240000000,0.0330856943],[1488326400000,0.0347701983],[1488412800000,0.0277868369],[1488499200000,0.0256206186],[1488758400000,0.0311917492],[1488844800000,0.0334297759],[1488931200000,0.0318649524],[1489017600000,0.0253453533],[1489104000000,0.0256295946],[1489363200000,0.0346684699],[1489449600000,0.0342465958],[1489536000000,0.0363260458],[1489622400000,0.0416727754],[1489708800000,0.0309912843],[1489968000000,0.0321282497],[1490054400000,0.0371368817],[1490140800000,0.0322598983],[1490227200000,0.0358293714],[1490313600000,0.0440933149],[1490572800000,0.0406345464],[1490659200000,0.0381721186],[1490745600000,0.036789808],[1490832000000,0.0282835113],[1490918400000,0.0340551069],[1491350400000,0.0483689034],[1491436800000,0.0514087899],[1491523200000,0.0524290668],[1491782400000,0.0487429052],[1491868800000,0.0523901706],[1491955200000,0.0500294713],[1492041600000,0.0515643747],[1492128000000,0.0431657905],[1492387200000,0.0412030291],[1492473600000,0.0360567645],[1492560000000,0.0310122284],[1492646400000,0.0357007148],[1492732800000,0.0372685303],[1492992000000,0.0266379034],[1493078400000,0.0295431493],[1493164800000,0.0308027874],[1493251200000,0.0312635576],[1493337600000,0.0291781236],[1493683200000,0.0252376407],[1493769600000,0.0212133815],[1493856000000,0.018598361],[1493942400000,0.0120638017],[1494201600000,0.0049607597],[1494288000000,0.0030817747],[1494374400000,-0.0013553825],[1494460800000,0.0043144846],[1494547200000,0.0129105418],[1494806400000,0.0170425135],[1494892800000,0.0258569877],[1494979200000,0.020267905],[1495065600000,0.016719376],[1495152000000,0.0184367922],[1495411200000,0.0206478908],[1495497600000,0.0245225493],[1495584000000,0.0245165653],[1495670400000,0.0429144613],[1495756800000,0.0413496378],[1496188800000,0.0450746956],[1496275200000,0.0465288146],[1496361600000,0.0431687825],[1496620800000,0.0378549651],[1496707200000,0.0450746956],[1496793600000,0.0573389623],[1496880000000,0.0654503131],[1496966400000,0.0699951829],[1497225600000,0.0694626043],[1497312000000,0.0718203116],[1497398400000,0.0577668204],[1497484800000,0.055819019],[1497571200000,0.0528180287],[1497830400000,0.0632631507],[1497916800000,0.0611148844],[1498003200000,0.0735227677],[1498089600000,0.0742348671],[1498176000000,0.0839708817],[1498435200000,0.0974977784],[1498521600000,0.0994814839],[1498608000000,0.0909392831],[1498694400000,0.0977191875],[1498780800000,0.0971118086],[1499040000000,0.0923395458],[1499126400000,0.0831031976],[1499212800000,0.0949814944],[1499299200000,0.095107159],[1499385600000,0.093859489],[1499644800000,0.0931892778],[1499731200000,0.0983116063],[1499817600000,0.0947241812],[1499904000000,0.1031317414],[1499990400000,0.1079698285],[1500249600000,0.0961423959],[1500336000000,0.0972255051],[1500422400000,0.1159465387],[1500508800000,0.1213710606],[1500595200000,0.115602457],[1500854400000,0.1200515823],[1500940800000,0.1128976761],[1501027200000,0.1086579918],[1501113600000,0.1106925616],[1501200000000,0.1135948154],[1501459200000,0.1183760543],[1501545600000,0.1281030928],[1501632000000,0.1252517032],[1501718400000,0.1153720719],[1501804800000,0.109313243],[1502064000000,0.1150609025],[1502150400000,0.1166825742],[1502236800000,0.1163325085],[1502323200000,0.1118085829],[1502409600000,0.0912923407],[1502668800000,0.1054535445],[1502755200000,0.1088584568],[1502841600000,0.1074701621],[1502928000000,0.1134123026],[1503014400000,0.1144265954],[1503273600000,0.1193095628],[1503360000000,0.122693531],[1503446400000,0.1238275044],[1503532800000,0.1174126257],[1503619200000,0.1356938332],[1503878400000,0.1497443324],[1503964800000,0.1472998567],[1504051200000,0.1472280483],[1504137600000,0.1435747989],[1504224000000,0.146103051],[1504483200000,0.1506150085],[1504569600000,0.1540348809],[1504656000000,0.15176095],[1504742400000,0.145902586],[1504828800000,0.1447416844],[1505088000000,0.144639956],[1505174400000,0.1483141495],[1505260800000,0.1497144122],[1505347200000,0.1459295141],[1505433600000,0.146330444],[1505692800000,0.149872989],[1505779200000,0.1465757892],[1505865600000,0.149663548],[1505952000000,0.1482812374],[1506038400000,0.1482543092],[1506297600000,0.1422882327],[1506384000000,0.143182845],[1506470400000,0.1433085096],[1506556800000,0.1437094395],[1506643200000,0.1478862915],[1507507200000,0.1615627889],[1507593600000,0.1638516799],[1507680000000,0.1676904342],[1507766400000,0.1707602409],[1507852800000,0.1731688124],[1508112000000,0.1709098416],[1508198400000,0.1707961451],[1508284800000,0.1800983176],[1508371200000,0.1762356271],[1508457600000,0.1749191408],[1508716800000,0.1761009865],[1508803200000,0.1846581474],[1508889600000,0.1899091325],[1508976000000,0.1948848523],[1509062400000,0.203379181],[1509321600000,0.1997139634],[1509408000000,0.1988163591],[1509494400000,0.1957944247],[1509580800000,0.1959470174],[1509667200000,0.1946215551],[1509926400000,0.2030560434],[1510012800000,0.2130374032],[1510099200000,0.2111703862],[1510185600000,0.2195151142],[1510272000000,0.2302893577],[1510531200000,0.2351244528],[1510617600000,0.2265313877],[1510704000000,0.218847895],[1510790400000,0.2282248678],[1510876800000,0.2329642185],[1511136000000,0.2398398674],[1511222400000,0.2619418771],[1511308800000,0.2648949953],[1511395200000,0.2274439521],[1511481600000,0.2279825147],[1511740800000,0.211750837],[1511827200000,0.2135071494],[1511913600000,0.2128878025],[1512000000000,0.1986308543],[1512086400000,0.1962492109],[1512345600000,0.2024486645],[1512432000000,0.208824647],[1512518400000,0.2015390922],[1512604800000,0.1881468361],[1512691200000,0.1978170264],[1512950400000,0.217600225],[1513036800000,0.2015989324],[1513123200000,0.2117927252],[1513209600000,0.2046298429],[1513296000000,0.1910790101],[1513555200000,0.1924044725],[1513641600000,0.2073765121],[1513728000000,0.2059283772],[1513814400000,0.2171065426],[1513900800000,0.2131421237],[1514160000000,0.209234553],[1514246400000,0.2128489063],[1514332800000,0.1941757449],[1514419200000,0.2024606326],[1514505600000,0.2060360897],[1514851200000,0.2229559306],[1514937600000,0.230133773],[1515024000000,0.2353458619],[1515110400000,0.2383199241],[1515369600000,0.2447258268],[1515456000000,0.2534445565],[1515542400000,0.258982775],[1515628800000,0.2583185478],[1515715200000,0.2641260476],[1515974400000,0.2641978559],[1516060800000,0.2741403195],[1516147200000,0.2710435847],[1516233600000,0.278014978],[1516320000000,0.282197814],[1516579200000,0.2975169273],[1516665600000,0.3112831852],[1516752000000,0.3134613716],[1516838400000,0.3060381841],[1516924800000,0.3108912313],[1517184000000,0.2871705418],[1517270400000,0.2734312121],[1517356800000,0.2793554004],[1517443200000,0.2703793575],[1517529600000,0.2779581298],[1517788800000,0.2788317979],[1517875200000,0.2413538266],[1517961600000,0.2119153978],[1518048000000,0.2004111028],[1518134400000,0.1491279774],[1518393600000,0.1639234882],[1518480000000,0.1775461294],[1518566400000,0.1869201102],[1519257600000,0.212582617],[1519344000000,0.2180759553],[1519603200000,0.232237159],[1519689600000,0.2144526259],[1519776000000,0.2038788474],[1519862400000,0.2114935238],[1519948800000,0.2017305811],[1520208000000,0.2022212714],[1520294400000,0.2167205728],[1520380800000,0.207771458],[1520467200000,0.2200237566],[1520553600000,0.2293797854],[1520812800000,0.2350047723],[1520899200000,0.2241078561],[1520985600000,0.2187491585],[1521072000000,0.2255769352],[1521158400000,0.2136866703],[1521417600000,0.2190214318],[1521504000000,0.2200536767],[1521590400000,0.2150719729],[1521676800000,0.2028944746],[1521763200000,0.1683636375],[1522022400000,0.1608686416],[1522108800000,0.1708559854],[1522195200000,0.1497473244],[1522281600000,0.1651053339],[1522368000000,0.1664367802],[1522627200000,0.1629720277],[1522713600000,0.1556595447],[1522800000000,0.1533796298],[1523232000000,0.152802171],[1523318400000,0.1750148853],[1523404800000,0.1783569653],[1523491200000,0.1664786684],[1523577600000,0.1582506291],[1523836800000,0.1396163639],[1523923200000,0.1215984537],[1524009600000,0.126876367],[1524096000000,0.1405079842],[1524182400000,0.1252517032],[1524441600000,0.126891327],[1524528000000,0.1499777095],[1524614400000,0.1455525203],[1524700800000,0.1236479835],[1524787200000,0.1240638735],[1525219200000,0.1260894672],[1525305600000,0.1348710292],[1525392000000,0.1293657229],[1525651200000,0.1471951362],[1525737600000,0.1605066079],[1525824000000,0.1583942458],[1525910400000,0.1648091244],[1525996800000,0.1587592715],[1526256000000,0.1696651637],[1526342400000,0.1740963369],[1526428800000,0.1647433001],[1526515200000,0.1561292909],[1526601600000,0.1678011388],[1526860800000,0.1732406208],[1526947200000,0.1687436233],[1527033600000,0.1532958534],[1527120000000,0.1451097022],[1527206400000,0.1419022629],[1527465600000,0.1469168789],[1527552000000,0.138165237],[1527638400000,0.1140376336],[1527724800000,0.1376775386],[1527811200000,0.1281659251],[1528070400000,0.1392333861],[1528156800000,0.1505252481],[1528243200000,0.1481406127],[1528329600000,0.1462436756],[1528416000000,0.1308677141],[1528675200000,0.1309754266],[1528761600000,0.1447297164],[1528848000000,0.1334767506],[1528934400000,0.1289977051],[1529020800000,0.1230316286],[1529366400000,0.0834442872],[1529452800000,0.0877288517],[1529539200000,0.0750217669],[1529625600000,0.0797880457],[1529884800000,0.0653007124],[1529971200000,0.0565131664],[1530057600000,0.0350155435],[1530144000000,0.0243250764],[1530230400000,0.0504902415],[1530489600000,0.0196665101],[1530576000000,0.020061456],[1530662400000,0.0064388148],[1530748800000,0.0000628323],[1530835200000,0.0068487208],[1531094400000,0.0349916074],[1531180800000,0.0374869473],[1531267200000,0.0195378535],[1531353600000,0.0415381347],[1531440000000,0.0450178474],[1531699200000,0.0388542979],[1531785600000,0.0320594334],[1531872000000,0.0266558555],[1531958400000,0.0257642353],[1532044800000,0.0450776877],[1532304000000,0.0549094467],[1532390400000,0.0716527588],[1532476800000,0.0704679211],[1532563200000,0.0580510617],[1532649600000,0.0535570562],[1532908800000,0.0517169674],[1532995200000,0.0524889071],[1533081600000,0.0314640225]]}],\"xAxis\":{\"title\":{\"text\":\"date\"},\"type\":\"datetime\"},\"yAxis\":[{}]});</script>"
      ],
      "text/plain": [
       "<IPython.core.display.HTML object>"
      ]
     },
     "metadata": {},
     "output_type": "display_data"
    }
   ],
   "source": [
    "df = show_df.dropna(how='any', inplace=False).copy()\n",
    "# df.drop(columns=['open', 'high', 'low', 'o_pct_chg', 'TR', 'N'], inplace=True)\n",
    "df.columns\n",
    "\n",
    "show_columns = ['close']\n",
    "df['close'] = (df['close'] - df.iloc[0]['close']) / df.iloc[0]['close']\n",
    "for col in sorted(df.columns):\n",
    "    if 'PROPERTY' in col:\n",
    "        df[col] = (df[col] - df.iloc[1][col]) / df.iloc[0][col]\n",
    "        show_columns.append(col)\n",
    "    if 'CASH' in col:\n",
    "        df[col] = df[col] / df.iloc[0][col]\n",
    "        show_columns.append(col)\n",
    "\n",
    "# df = df.loc[:, ['close', 'CASH_TURTLE_20_60_60', 'PROPERTY_TURTLE_20_60_60']]\n",
    "df = df.loc[:, show_columns]\n",
    "df.reset_index(drop=False, inplace=True)\n",
    "# df.dtypes\n",
    "# df.iloc[0].date\n",
    "# df.iloc[0].date.to_timestamp()\n",
    "# df.iloc[0].date.to_timestamp().to_datetime64()\n",
    "df['date'] = df['date'].apply(lambda x: x.to_timestamp().to_datetime64())\n",
    "# df.iloc[0].date\n",
    "df.set_index(keys=['date'], inplace=True)\n",
    "# df\n",
    "\n",
    "display_charts(df, chart_type='stock', figsize=(900, 600), logy=False)"
   ]
  }
 ],
 "metadata": {
  "kernelspec": {
   "display_name": "Python 3",
   "language": "python",
   "name": "python3"
  },
  "language_info": {
   "codemirror_mode": {
    "name": "ipython",
    "version": 3
   },
   "file_extension": ".py",
   "mimetype": "text/x-python",
   "name": "python",
   "nbconvert_exporter": "python",
   "pygments_lexer": "ipython3",
   "version": "3.6.1"
  }
 },
 "nbformat": 4,
 "nbformat_minor": 2
}
