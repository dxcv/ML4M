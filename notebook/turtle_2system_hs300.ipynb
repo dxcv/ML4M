{
 "cells": [
  {
   "cell_type": "code",
   "execution_count": 1,
   "metadata": {
    "scrolled": false
   },
   "outputs": [
    {
     "data": {
      "text/html": [
       "\n",
       "<script src=\"//code.highcharts.com/stock/highstock.js\"></script>\n",
       "<script src=\"//code.highcharts.com/highcharts-more.js\"></script>\n",
       "<script src=\"//code.highcharts.com/modules/exporting.js\"></script>\n"
      ],
      "text/plain": [
       "<IPython.core.display.HTML object>"
      ]
     },
     "metadata": {},
     "output_type": "display_data"
    },
    {
     "data": {
      "text/plain": [
       "<module 'pandas' from 'd:\\\\python3\\\\lib\\\\site-packages\\\\pandas\\\\__init__.py'>"
      ]
     },
     "execution_count": 1,
     "metadata": {},
     "output_type": "execute_result"
    }
   ],
   "source": [
    "import os\n",
    "import sys\n",
    "sys.path.append(os.path.abspath(os.path.join(os.getcwd(), '..')))\n",
    "\n",
    "import pandas as pd\n",
    "pd.core.common.is_list_like = pd.api.types.is_list_like\n",
    "import empyrical as emp\n",
    "import tushare as ts\n",
    "import time\n",
    "import random\n",
    "# from concurrent.futures import ProcessPoolExecutor\n",
    "\n",
    "from common.log import *\n",
    "from common.config import Config\n",
    "from spider.spider_nasdaq import Spider_nasdaq\n",
    "\n",
    "from IPython.core.interactiveshell import InteractiveShell\n",
    "InteractiveShell.ast_node_interactivity = 'all'\n",
    "\n",
    "from pandas_highcharts.core import serialize\n",
    "from pandas_highcharts.display import display_charts\n",
    "\n",
    "CONF = Config().data[0]\n",
    "MONGODB = CONF['MONGODB']\n",
    "NASDAQ = CONF['NASDAQ']\n",
    "CRYPTOCURRENCY = CONF['CRYPTOCURRENCY']\n",
    "NASDAQ100 = CONF['NASDAQ100']\n",
    "# NASDAQ100 = ['NDX', 'TSLA', 'NVDA', 'AMZN', 'GOOGL', 'GOOG', 'BIDU', 'FB', 'JD']\n",
    "HS300 = list(ts.get_hs300s()['code']) + ['399300']\n",
    "# print(HS300)\n",
    "\n",
    "pd"
   ]
  },
  {
   "cell_type": "code",
   "execution_count": 2,
   "metadata": {
    "scrolled": false
   },
   "outputs": [
    {
     "name": "stdout",
     "output_type": "stream",
     "text": [
      "../database/market/399300.csv\n",
      "Wall time: 1.46 s\n"
     ]
    }
   ],
   "source": [
    "%%time\n",
    "\n",
    "# for symbol in HS300[:]:\n",
    "for symbol in ['399300']:\n",
    "    df = ts.get_k_data(code=symbol, index=True, start='2008-01-01', end='2018-08-01')\n",
    "#     df = ts.get_k_data(code=symbol, ktype='D', autype='qfq', index=False, start='2008-01-01', end='2018-08-01')\n",
    "    datafile = '../database/market/%s.csv' % symbol\n",
    "    df.to_csv(datafile, index=False, encoding='utf-8')\n",
    "    print(datafile)\n",
    "    time.sleep(1)"
   ]
  },
  {
   "cell_type": "code",
   "execution_count": 3,
   "metadata": {},
   "outputs": [
    {
     "name": "stdout",
     "output_type": "stream",
     "text": [
      "Wall time: 0 ns\n"
     ]
    }
   ],
   "source": [
    "%%time\n",
    "\n",
    "### 时间设置\n",
    "start_date = '2008-01-01'\n",
    "# start_date = '2010-01-01'\n",
    "# start_date = '2015-01-01'\n",
    "# start_date = '2017-01-01'\n",
    "# start_date = '2018-01-01'\n",
    "end_date = '2018-08-01'\n",
    "\n",
    "TURTLE_POS = 20\n",
    "### Turtle System One - Short\n",
    "TURTLE_SHORT_BUY_N = 20\n",
    "TURTLE_SHORT_SELL_N = 20\n",
    "### Turtle System Two - Long\n",
    "TURTLE_LONG_BUY_N = 60\n",
    "TURTLE_LONG_SELL_N = 60\n",
    "\n",
    "### 业务设置\n",
    "IS_HAPPYMONEY = True\n",
    "IS_TAX = False\n",
    "IS_SLIPPAGE = False\n",
    "IS_RANDOM_BUY = True\n",
    "START_MONEY = 100000\n",
    "HAPPY_MONEY = 0\n",
    "PROPERTY = START_MONEY\n",
    "CASH = START_MONEY\n"
   ]
  },
  {
   "cell_type": "code",
   "execution_count": 4,
   "metadata": {},
   "outputs": [
    {
     "name": "stdout",
     "output_type": "stream",
     "text": [
      "Wall time: 7.45 s\n"
     ]
    }
   ],
   "source": [
    "%%time\n",
    "\n",
    "stock_df_dict = {}\n",
    "\n",
    "for symbol in HS300[:]:\n",
    "    stock_data_file = '../database/market/%s.csv' % symbol\n",
    "    stock_df = pd.read_csv(stock_data_file)\n",
    "\n",
    "    # 筛选字段\n",
    "    stock_df = stock_df.loc[:, ['date', 'open', 'close']]\n",
    "#     stock_df = stock_df.loc[:, ['date', 'close']]\n",
    "\n",
    "    # 去掉Nasdaq行情首行的当天行情\n",
    "    if symbol in NASDAQ:\n",
    "        stock_df = stock_df.drop([0])\n",
    "\n",
    "    # 抛弃空值异常值\n",
    "    stock_df.dropna(axis=0, how='any', inplace=True)\n",
    "\n",
    "    # 格式化日期\n",
    "    # 1.48 s ± 45.8 ms per loop (mean ± std. dev. of 7 runs, 1 loop each)\n",
    "#     stock_df['date'] = stock_df['date'].apply(lambda x: pd.Period(x, freq='D'))\n",
    "\n",
    "    # 445 ms ± 17.5 ms per loop (mean ± std. dev. of 7 runs, 1 loop each)\n",
    "    stock_df = stock_df.assign(date=pd.to_datetime(stock_df['date']))  # need .index.to_period('D')\n",
    "\n",
    "    # 476 ms ± 46.6 ms per loop (mean ± std. dev. of 7 runs, 1 loop each)\n",
    "#     stock_df['date'] = pd.to_datetime(stock_df['date'])  # need .index.to_period('D')\n",
    "    \n",
    "    # 转换字段格式\n",
    "#     stock_df = stock_df.astype(dtype={'volume': 'float64'})\n",
    "\n",
    "    # 用日期作索引，日期升序排序\n",
    "    # 95.1 µs ± 1.58 µs per loop (mean ± std. dev. of 7 runs, 10000 loops each)\n",
    "#     stock_df = stock_df[::-1]\n",
    "    \n",
    "    # 407 µs ± 5.07 µs per loop (mean ± std. dev. of 7 runs, 1000 loops each)\n",
    "#     %timeit stock_df.set_index(['date'], inplace=False)\n",
    "\n",
    "    # Wall time: 500 µs\n",
    "    stock_df.set_index(['date'], inplace=True)\n",
    "    \n",
    "    # 305 µs ± 2.75 µs per loop (mean ± std. dev. of 7 runs, 1000 loops each)\n",
    "#     stock_df = stock_df.sort_index(axis=0, ascending=True)\n",
    "    \n",
    "    # 822 µs ± 41.3 µs per loop (mean ± std. dev. of 7 runs, 1000 loops each)\n",
    "    stock_df.index = stock_df.index.to_period('D')\n",
    "\n",
    "    # 计算涨跌幅\n",
    "#     stock_df['c_pct_chg'] = stock_df.close.pct_change(1)\n",
    "    stock_df['o_pct_chg'] = stock_df.open.pct_change(1)\n",
    "    \n",
    "    # Turtle指标\n",
    "#     stock_df['TR1'] = abs(stock_df['high'] - stock_df['low'])\n",
    "#     stock_df['TR2'] = abs(stock_df['high'] - stock_df['close'].shift())\n",
    "#     stock_df['TR3'] = abs(stock_df['low'] - stock_df['close'].shift())\n",
    "#     stock_df['TR'] = stock_df[['TR1', 'TR2', 'TR3']].max(axis=1)\n",
    "#     stock_df['N'] = stock_df['TR'].rolling(20).mean()\n",
    "#     stock_df['UNIT'] = (0.01 * START_MONEY) / (stock_df['N'])\n",
    "    stock_df['ROLLING_%d_MAX' % TURTLE_SHORT_BUY_N] = stock_df['open'].rolling(TURTLE_SHORT_BUY_N).max()\n",
    "    stock_df['ROLLING_%d_MIN' % TURTLE_SHORT_SELL_N] = stock_df['open'].rolling(TURTLE_SHORT_SELL_N).min()\n",
    "    stock_df['ROLLING_%d_MAX' % TURTLE_LONG_BUY_N] = stock_df['open'].rolling(TURTLE_LONG_BUY_N).max()\n",
    "    stock_df['ROLLING_%d_MIN' % TURTLE_LONG_SELL_N] = stock_df['open'].rolling(TURTLE_LONG_SELL_N).min()\n",
    "#     stock_df['MA%d' % TURTLE_BUY_N] = stock_df['open'].rolling(TURTLE_BUY_N).mean()\n",
    "#     stock_df['MA%d' % TURTLE_SELL_N] = stock_df['open'].rolling(TURTLE_SELL_N).mean()\n",
    "#     stock_df['EWMA'] = stock_df['open'].ewm(alpha=0.1, adjust=False).mean()\n",
    "#     stock_df['MA360'] = stock_df['open'].rolling(360).mean()\n",
    "    stock_df['MA180'] = stock_df['open'].rolling(180).mean()\n",
    "    stock_df['MA60'] = stock_df['open'].rolling(60).mean()\n",
    "    stock_df['MA30'] = stock_df['open'].rolling(30).mean()\n",
    "    \n",
    "#     stock_df['ops'] = ''\n",
    "#     stock_df['profit'] = 0\n",
    "    \n",
    "    # 减少数据\n",
    "    # stock_df = stock_df['2016-01-01':]\n",
    "    stock_df.dropna(how='any', inplace=True)\n",
    "#     stock_df.drop(columns=['volume', 'TR1', 'TR2', 'TR3'], inplace=True)\n",
    "    \n",
    "    stock_df_dict[symbol] = stock_df\n",
    "    \n",
    "#     print(stock_df.head(10))\n",
    "#     print(stock_df.dtypes)\n",
    "#     print(stock_df.index[0])\n",
    "#     print(type(stock_df.index[0]))"
   ]
  },
  {
   "cell_type": "code",
   "execution_count": 5,
   "metadata": {},
   "outputs": [
    {
     "data": {
      "text/html": [
       "<div>\n",
       "<style scoped>\n",
       "    .dataframe tbody tr th:only-of-type {\n",
       "        vertical-align: middle;\n",
       "    }\n",
       "\n",
       "    .dataframe tbody tr th {\n",
       "        vertical-align: top;\n",
       "    }\n",
       "\n",
       "    .dataframe thead th {\n",
       "        text-align: right;\n",
       "    }\n",
       "</style>\n",
       "<table border=\"1\" class=\"dataframe\">\n",
       "  <thead>\n",
       "    <tr style=\"text-align: right;\">\n",
       "      <th></th>\n",
       "      <th>open</th>\n",
       "      <th>close</th>\n",
       "      <th>o_pct_chg</th>\n",
       "      <th>ROLLING_20_MAX</th>\n",
       "      <th>ROLLING_20_MIN</th>\n",
       "      <th>ROLLING_60_MAX</th>\n",
       "      <th>ROLLING_60_MIN</th>\n",
       "      <th>MA180</th>\n",
       "      <th>MA60</th>\n",
       "      <th>MA30</th>\n",
       "    </tr>\n",
       "    <tr>\n",
       "      <th>date</th>\n",
       "      <th></th>\n",
       "      <th></th>\n",
       "      <th></th>\n",
       "      <th></th>\n",
       "      <th></th>\n",
       "      <th></th>\n",
       "      <th></th>\n",
       "      <th></th>\n",
       "      <th></th>\n",
       "      <th></th>\n",
       "    </tr>\n",
       "  </thead>\n",
       "  <tbody>\n",
       "    <tr>\n",
       "      <th>2008-09-23</th>\n",
       "      <td>2141.60</td>\n",
       "      <td>2123.48</td>\n",
       "      <td>-0.038939</td>\n",
       "      <td>2372.64</td>\n",
       "      <td>1876.96</td>\n",
       "      <td>2987.06</td>\n",
       "      <td>1876.96</td>\n",
       "      <td>3602.807111</td>\n",
       "      <td>2547.598000</td>\n",
       "      <td>2262.171667</td>\n",
       "    </tr>\n",
       "    <tr>\n",
       "      <th>2008-09-24</th>\n",
       "      <td>2072.65</td>\n",
       "      <td>2138.85</td>\n",
       "      <td>-0.032196</td>\n",
       "      <td>2372.64</td>\n",
       "      <td>1876.96</td>\n",
       "      <td>2987.06</td>\n",
       "      <td>1876.96</td>\n",
       "      <td>3584.600944</td>\n",
       "      <td>2535.488833</td>\n",
       "      <td>2250.214000</td>\n",
       "    </tr>\n",
       "    <tr>\n",
       "      <th>2008-09-25</th>\n",
       "      <td>2143.73</td>\n",
       "      <td>2223.53</td>\n",
       "      <td>0.034294</td>\n",
       "      <td>2372.64</td>\n",
       "      <td>1876.96</td>\n",
       "      <td>2987.06</td>\n",
       "      <td>1876.96</td>\n",
       "      <td>3566.615278</td>\n",
       "      <td>2526.173833</td>\n",
       "      <td>2240.755000</td>\n",
       "    </tr>\n",
       "    <tr>\n",
       "      <th>2008-09-26</th>\n",
       "      <td>2234.46</td>\n",
       "      <td>2243.66</td>\n",
       "      <td>0.042323</td>\n",
       "      <td>2372.64</td>\n",
       "      <td>1876.96</td>\n",
       "      <td>2987.06</td>\n",
       "      <td>1876.96</td>\n",
       "      <td>3548.858778</td>\n",
       "      <td>2519.173500</td>\n",
       "      <td>2234.237667</td>\n",
       "    </tr>\n",
       "    <tr>\n",
       "      <th>2008-10-06</th>\n",
       "      <td>2206.56</td>\n",
       "      <td>2128.70</td>\n",
       "      <td>-0.012486</td>\n",
       "      <td>2372.64</td>\n",
       "      <td>1876.96</td>\n",
       "      <td>2987.06</td>\n",
       "      <td>1876.96</td>\n",
       "      <td>3530.670556</td>\n",
       "      <td>2510.096000</td>\n",
       "      <td>2226.443333</td>\n",
       "    </tr>\n",
       "    <tr>\n",
       "      <th>2008-10-07</th>\n",
       "      <td>2043.92</td>\n",
       "      <td>2102.45</td>\n",
       "      <td>-0.073707</td>\n",
       "      <td>2292.69</td>\n",
       "      <td>1876.96</td>\n",
       "      <td>2987.06</td>\n",
       "      <td>1876.96</td>\n",
       "      <td>3511.048167</td>\n",
       "      <td>2498.367833</td>\n",
       "      <td>2212.863667</td>\n",
       "    </tr>\n",
       "    <tr>\n",
       "      <th>2008-10-08</th>\n",
       "      <td>2041.99</td>\n",
       "      <td>2022.88</td>\n",
       "      <td>-0.000944</td>\n",
       "      <td>2279.60</td>\n",
       "      <td>1876.96</td>\n",
       "      <td>2987.06</td>\n",
       "      <td>1876.96</td>\n",
       "      <td>3491.797444</td>\n",
       "      <td>2484.058167</td>\n",
       "      <td>2204.746333</td>\n",
       "    </tr>\n",
       "    <tr>\n",
       "      <th>2008-10-09</th>\n",
       "      <td>2059.58</td>\n",
       "      <td>1995.30</td>\n",
       "      <td>0.008614</td>\n",
       "      <td>2238.65</td>\n",
       "      <td>1876.96</td>\n",
       "      <td>2987.06</td>\n",
       "      <td>1876.96</td>\n",
       "      <td>3471.952611</td>\n",
       "      <td>2469.601167</td>\n",
       "      <td>2195.652667</td>\n",
       "    </tr>\n",
       "    <tr>\n",
       "      <th>2008-10-10</th>\n",
       "      <td>1913.27</td>\n",
       "      <td>1906.96</td>\n",
       "      <td>-0.071039</td>\n",
       "      <td>2234.46</td>\n",
       "      <td>1876.96</td>\n",
       "      <td>2987.06</td>\n",
       "      <td>1876.96</td>\n",
       "      <td>3450.978778</td>\n",
       "      <td>2451.972667</td>\n",
       "      <td>2176.286333</td>\n",
       "    </tr>\n",
       "    <tr>\n",
       "      <th>2008-10-13</th>\n",
       "      <td>1889.75</td>\n",
       "      <td>1985.49</td>\n",
       "      <td>-0.012293</td>\n",
       "      <td>2234.46</td>\n",
       "      <td>1876.96</td>\n",
       "      <td>2987.06</td>\n",
       "      <td>1876.96</td>\n",
       "      <td>3429.713389</td>\n",
       "      <td>2434.087500</td>\n",
       "      <td>2158.569667</td>\n",
       "    </tr>\n",
       "  </tbody>\n",
       "</table>\n",
       "</div>"
      ],
      "text/plain": [
       "               open    close  o_pct_chg  ROLLING_20_MAX  ROLLING_20_MIN  \\\n",
       "date                                                                      \n",
       "2008-09-23  2141.60  2123.48  -0.038939         2372.64         1876.96   \n",
       "2008-09-24  2072.65  2138.85  -0.032196         2372.64         1876.96   \n",
       "2008-09-25  2143.73  2223.53   0.034294         2372.64         1876.96   \n",
       "2008-09-26  2234.46  2243.66   0.042323         2372.64         1876.96   \n",
       "2008-10-06  2206.56  2128.70  -0.012486         2372.64         1876.96   \n",
       "2008-10-07  2043.92  2102.45  -0.073707         2292.69         1876.96   \n",
       "2008-10-08  2041.99  2022.88  -0.000944         2279.60         1876.96   \n",
       "2008-10-09  2059.58  1995.30   0.008614         2238.65         1876.96   \n",
       "2008-10-10  1913.27  1906.96  -0.071039         2234.46         1876.96   \n",
       "2008-10-13  1889.75  1985.49  -0.012293         2234.46         1876.96   \n",
       "\n",
       "            ROLLING_60_MAX  ROLLING_60_MIN        MA180         MA60  \\\n",
       "date                                                                   \n",
       "2008-09-23         2987.06         1876.96  3602.807111  2547.598000   \n",
       "2008-09-24         2987.06         1876.96  3584.600944  2535.488833   \n",
       "2008-09-25         2987.06         1876.96  3566.615278  2526.173833   \n",
       "2008-09-26         2987.06         1876.96  3548.858778  2519.173500   \n",
       "2008-10-06         2987.06         1876.96  3530.670556  2510.096000   \n",
       "2008-10-07         2987.06         1876.96  3511.048167  2498.367833   \n",
       "2008-10-08         2987.06         1876.96  3491.797444  2484.058167   \n",
       "2008-10-09         2987.06         1876.96  3471.952611  2469.601167   \n",
       "2008-10-10         2987.06         1876.96  3450.978778  2451.972667   \n",
       "2008-10-13         2987.06         1876.96  3429.713389  2434.087500   \n",
       "\n",
       "                   MA30  \n",
       "date                     \n",
       "2008-09-23  2262.171667  \n",
       "2008-09-24  2250.214000  \n",
       "2008-09-25  2240.755000  \n",
       "2008-09-26  2234.237667  \n",
       "2008-10-06  2226.443333  \n",
       "2008-10-07  2212.863667  \n",
       "2008-10-08  2204.746333  \n",
       "2008-10-09  2195.652667  \n",
       "2008-10-10  2176.286333  \n",
       "2008-10-13  2158.569667  "
      ]
     },
     "execution_count": 5,
     "metadata": {},
     "output_type": "execute_result"
    },
    {
     "data": {
      "text/html": [
       "<div>\n",
       "<style scoped>\n",
       "    .dataframe tbody tr th:only-of-type {\n",
       "        vertical-align: middle;\n",
       "    }\n",
       "\n",
       "    .dataframe tbody tr th {\n",
       "        vertical-align: top;\n",
       "    }\n",
       "\n",
       "    .dataframe thead th {\n",
       "        text-align: right;\n",
       "    }\n",
       "</style>\n",
       "<table border=\"1\" class=\"dataframe\">\n",
       "  <thead>\n",
       "    <tr style=\"text-align: right;\">\n",
       "      <th></th>\n",
       "      <th>open</th>\n",
       "      <th>close</th>\n",
       "      <th>o_pct_chg</th>\n",
       "      <th>ROLLING_20_MAX</th>\n",
       "      <th>ROLLING_20_MIN</th>\n",
       "      <th>ROLLING_60_MAX</th>\n",
       "      <th>ROLLING_60_MIN</th>\n",
       "      <th>MA180</th>\n",
       "      <th>MA60</th>\n",
       "      <th>MA30</th>\n",
       "    </tr>\n",
       "    <tr>\n",
       "      <th>date</th>\n",
       "      <th></th>\n",
       "      <th></th>\n",
       "      <th></th>\n",
       "      <th></th>\n",
       "      <th></th>\n",
       "      <th></th>\n",
       "      <th></th>\n",
       "      <th></th>\n",
       "      <th></th>\n",
       "      <th></th>\n",
       "    </tr>\n",
       "  </thead>\n",
       "  <tbody>\n",
       "    <tr>\n",
       "      <th>2018-07-19</th>\n",
       "      <td>3444.80</td>\n",
       "      <td>3428.34</td>\n",
       "      <td>-0.003417</td>\n",
       "      <td>3625.80</td>\n",
       "      <td>3347.06</td>\n",
       "      <td>3925.54</td>\n",
       "      <td>3347.06</td>\n",
       "      <td>3934.062667</td>\n",
       "      <td>3694.606333</td>\n",
       "      <td>3554.529667</td>\n",
       "    </tr>\n",
       "    <tr>\n",
       "      <th>2018-07-20</th>\n",
       "      <td>3426.46</td>\n",
       "      <td>3492.89</td>\n",
       "      <td>-0.005324</td>\n",
       "      <td>3625.80</td>\n",
       "      <td>3347.06</td>\n",
       "      <td>3925.54</td>\n",
       "      <td>3347.06</td>\n",
       "      <td>3930.987167</td>\n",
       "      <td>3688.882667</td>\n",
       "      <td>3540.513667</td>\n",
       "    </tr>\n",
       "    <tr>\n",
       "      <th>2018-07-23</th>\n",
       "      <td>3471.86</td>\n",
       "      <td>3525.75</td>\n",
       "      <td>0.013250</td>\n",
       "      <td>3525.13</td>\n",
       "      <td>3347.06</td>\n",
       "      <td>3925.54</td>\n",
       "      <td>3347.06</td>\n",
       "      <td>3928.094444</td>\n",
       "      <td>3683.003833</td>\n",
       "      <td>3528.927333</td>\n",
       "    </tr>\n",
       "    <tr>\n",
       "      <th>2018-07-24</th>\n",
       "      <td>3530.66</td>\n",
       "      <td>3581.71</td>\n",
       "      <td>0.016936</td>\n",
       "      <td>3530.66</td>\n",
       "      <td>3347.06</td>\n",
       "      <td>3925.54</td>\n",
       "      <td>3347.06</td>\n",
       "      <td>3925.363889</td>\n",
       "      <td>3678.125000</td>\n",
       "      <td>3520.942333</td>\n",
       "    </tr>\n",
       "    <tr>\n",
       "      <th>2018-07-25</th>\n",
       "      <td>3589.51</td>\n",
       "      <td>3577.75</td>\n",
       "      <td>0.016668</td>\n",
       "      <td>3589.51</td>\n",
       "      <td>3347.06</td>\n",
       "      <td>3925.54</td>\n",
       "      <td>3347.06</td>\n",
       "      <td>3923.109000</td>\n",
       "      <td>3675.099500</td>\n",
       "      <td>3514.486333</td>\n",
       "    </tr>\n",
       "    <tr>\n",
       "      <th>2018-07-26</th>\n",
       "      <td>3583.32</td>\n",
       "      <td>3536.25</td>\n",
       "      <td>-0.001724</td>\n",
       "      <td>3589.51</td>\n",
       "      <td>3347.06</td>\n",
       "      <td>3925.54</td>\n",
       "      <td>3347.06</td>\n",
       "      <td>3920.750167</td>\n",
       "      <td>3671.989333</td>\n",
       "      <td>3506.776333</td>\n",
       "    </tr>\n",
       "    <tr>\n",
       "      <th>2018-07-27</th>\n",
       "      <td>3533.77</td>\n",
       "      <td>3521.23</td>\n",
       "      <td>-0.013828</td>\n",
       "      <td>3589.51</td>\n",
       "      <td>3347.06</td>\n",
       "      <td>3925.54</td>\n",
       "      <td>3347.06</td>\n",
       "      <td>3918.192833</td>\n",
       "      <td>3668.282667</td>\n",
       "      <td>3498.747333</td>\n",
       "    </tr>\n",
       "    <tr>\n",
       "      <th>2018-07-30</th>\n",
       "      <td>3520.85</td>\n",
       "      <td>3515.08</td>\n",
       "      <td>-0.003656</td>\n",
       "      <td>3589.51</td>\n",
       "      <td>3347.06</td>\n",
       "      <td>3925.54</td>\n",
       "      <td>3347.06</td>\n",
       "      <td>3915.573389</td>\n",
       "      <td>3663.891500</td>\n",
       "      <td>3490.674333</td>\n",
       "    </tr>\n",
       "    <tr>\n",
       "      <th>2018-07-31</th>\n",
       "      <td>3510.47</td>\n",
       "      <td>3517.66</td>\n",
       "      <td>-0.002948</td>\n",
       "      <td>3589.51</td>\n",
       "      <td>3347.06</td>\n",
       "      <td>3925.54</td>\n",
       "      <td>3347.06</td>\n",
       "      <td>3912.913889</td>\n",
       "      <td>3659.357000</td>\n",
       "      <td>3484.267667</td>\n",
       "    </tr>\n",
       "    <tr>\n",
       "      <th>2018-08-01</th>\n",
       "      <td>3530.03</td>\n",
       "      <td>3447.39</td>\n",
       "      <td>0.005572</td>\n",
       "      <td>3589.51</td>\n",
       "      <td>3347.06</td>\n",
       "      <td>3925.54</td>\n",
       "      <td>3347.06</td>\n",
       "      <td>3910.178500</td>\n",
       "      <td>3654.280667</td>\n",
       "      <td>3481.850333</td>\n",
       "    </tr>\n",
       "  </tbody>\n",
       "</table>\n",
       "</div>"
      ],
      "text/plain": [
       "               open    close  o_pct_chg  ROLLING_20_MAX  ROLLING_20_MIN  \\\n",
       "date                                                                      \n",
       "2018-07-19  3444.80  3428.34  -0.003417         3625.80         3347.06   \n",
       "2018-07-20  3426.46  3492.89  -0.005324         3625.80         3347.06   \n",
       "2018-07-23  3471.86  3525.75   0.013250         3525.13         3347.06   \n",
       "2018-07-24  3530.66  3581.71   0.016936         3530.66         3347.06   \n",
       "2018-07-25  3589.51  3577.75   0.016668         3589.51         3347.06   \n",
       "2018-07-26  3583.32  3536.25  -0.001724         3589.51         3347.06   \n",
       "2018-07-27  3533.77  3521.23  -0.013828         3589.51         3347.06   \n",
       "2018-07-30  3520.85  3515.08  -0.003656         3589.51         3347.06   \n",
       "2018-07-31  3510.47  3517.66  -0.002948         3589.51         3347.06   \n",
       "2018-08-01  3530.03  3447.39   0.005572         3589.51         3347.06   \n",
       "\n",
       "            ROLLING_60_MAX  ROLLING_60_MIN        MA180         MA60  \\\n",
       "date                                                                   \n",
       "2018-07-19         3925.54         3347.06  3934.062667  3694.606333   \n",
       "2018-07-20         3925.54         3347.06  3930.987167  3688.882667   \n",
       "2018-07-23         3925.54         3347.06  3928.094444  3683.003833   \n",
       "2018-07-24         3925.54         3347.06  3925.363889  3678.125000   \n",
       "2018-07-25         3925.54         3347.06  3923.109000  3675.099500   \n",
       "2018-07-26         3925.54         3347.06  3920.750167  3671.989333   \n",
       "2018-07-27         3925.54         3347.06  3918.192833  3668.282667   \n",
       "2018-07-30         3925.54         3347.06  3915.573389  3663.891500   \n",
       "2018-07-31         3925.54         3347.06  3912.913889  3659.357000   \n",
       "2018-08-01         3925.54         3347.06  3910.178500  3654.280667   \n",
       "\n",
       "                   MA30  \n",
       "date                     \n",
       "2018-07-19  3554.529667  \n",
       "2018-07-20  3540.513667  \n",
       "2018-07-23  3528.927333  \n",
       "2018-07-24  3520.942333  \n",
       "2018-07-25  3514.486333  \n",
       "2018-07-26  3506.776333  \n",
       "2018-07-27  3498.747333  \n",
       "2018-07-30  3490.674333  \n",
       "2018-07-31  3484.267667  \n",
       "2018-08-01  3481.850333  "
      ]
     },
     "execution_count": 5,
     "metadata": {},
     "output_type": "execute_result"
    }
   ],
   "source": [
    "stock_df_dict['399300'].head(10)\n",
    "stock_df_dict['399300'].tail(10)"
   ]
  },
  {
   "cell_type": "code",
   "execution_count": 6,
   "metadata": {
    "scrolled": false
   },
   "outputs": [],
   "source": [
    "# %matplotlib inline\n",
    "\n",
    "# import matplotlib\n",
    "# import matplotlib.pyplot as plt\n",
    "# plt.rcParams['figure.figsize'] = [30, 20]\n",
    "\n",
    "# df = stock_df_dict['TSLA'].iloc[800:].copy()\n",
    "# df.columns\n",
    "# df.tail(10)\n",
    "# # df[(df.open == df.rolling_60_max)]\n",
    "# # df[(df.open >= df.rolling_60_max) & (df.MA30 > df.MA60)]\n",
    "# # df[(df.MA30 > df.MA60)]\n",
    "\n",
    "# # df = df.loc[:, ['open', 'ROLLING_60_MAX', 'rolling_30_min', 'MA60', 'MA30']]\n",
    "\n",
    "# df.reset_index(drop=False, inplace=True)\n",
    "# df = df.astype(dtype={'date': 'datetime64[ns]'})\n",
    "# df.set_index('date', inplace=True)\n",
    "# # df.index.astype()\n",
    "\n",
    "# display_charts(df, chart_type='stock', kind='line', y=['open', 'ROLLING_60_MAX', 'ROLLING_60_MIN'], figsize=(900, 600), logy=False)\n",
    "\n",
    "# # display_charts(df)\n",
    "\n",
    "# # ax = df.plot(kind='line', y=['open', 'rolling_max', 'rolling_min'], label='', linewidth=1)\n",
    "\n",
    "# # sum_buy_sig_short = 0\n",
    "# # sum_buy_sig_long = 0\n",
    "# # for symbol in NASDAQ100:\n",
    "# #     tdf = stock_df_dict[symbol]\n",
    "# #     buy_sig_short = tdf[(stock_df_dict[symbol].open == stock_df_dict[symbol]['ROLLING_%d_MAX' % TURTLE_SHORT_BUY_N])]\n",
    "# #     buy_sig_long = tdf[(stock_df_dict[symbol].open == stock_df_dict[symbol]['ROLLING_%d_MAX' % TURTLE_LONG_BUY_N])]\n",
    "# #     buy_sig_short_2 = buy_sig_short[buy_sig_short.MA30 >= buy_sig_short.MA180]\n",
    "# #     buy_sig_long_2 = buy_sig_long[buy_sig_long.MA30 >= buy_sig_long.MA180]\n",
    "# # #     print(symbol, len(tdf), len(buy_sig_short), len(buy_sig_short_2), len(buy_sig_long), len(buy_sig_long_2))\n",
    "# #     sum_buy_sig_short += len(buy_sig_short_2)\n",
    "# #     sum_buy_sig_long += len(buy_sig_long_2)\n",
    "# # print(len(stock_df_dict['NDX']), sum_buy_sig_short, sum_buy_sig_long)"
   ]
  },
  {
   "cell_type": "code",
   "execution_count": 7,
   "metadata": {
    "scrolled": false
   },
   "outputs": [],
   "source": [
    "# algo = stock_df_dict['TSLA'].open.pct_change()\n",
    "# benchmark = stock_df_dict['NDX'].open.pct_change()\n",
    "\n",
    "# 'cum_returns', emp.cum_returns(algo)[-1]\n",
    "# 'max_drawdown', emp.max_drawdown(algo), emp.max_drawdown(benchmark)\n",
    "# 'annual_return', emp.annual_return(algo), emp.annual_return(benchmark)\n",
    "# 'annual_volatility', emp.annual_volatility(algo, period='daily')\n",
    "# 'calmar_ratio', emp.calmar_ratio(algo)\n",
    "# 'sharpe_ratio', emp.sharpe_ratio(returns=algo)\n",
    "# 'alpha', emp.alpha(returns=algo, factor_returns=benchmark, risk_free=0.00)\n",
    "# 'beta', emp.beta(returns=algo, factor_returns=benchmark, risk_free=0.00)\n",
    "\n",
    "# emp_df = None\n",
    "# emp_df = pd.DataFrame(columns=[\n",
    "#     'symbol', 'cum_returns', 'annual_return', 'annual_volatility', 'max_drawdown', 'alpha', 'beta', 'sharpe_ratio', 'calmar_ratio'\n",
    "# ])\n",
    "\n",
    "# for symbol in NASDAQ100:\n",
    "#     algo = stock_df_dict[symbol].open.pct_change()\n",
    "#     emp_df = emp_df.append(\n",
    "#         {\n",
    "#             'symbol': symbol,\n",
    "#             'cum_returns': emp.cum_returns(algo)[-1],\n",
    "#             'annual_return': emp.annual_return(algo),\n",
    "#             'annual_volatility': emp.annual_volatility(algo, period='daily'),\n",
    "#             'max_drawdown': emp.max_drawdown(algo),\n",
    "#             'alpha': round(emp.alpha(returns=algo, factor_returns=benchmark, risk_free=0.00), 2),\n",
    "#             'beta': round(emp.beta(returns=algo, factor_returns=benchmark, risk_free=0.00), 2),\n",
    "#             'sharpe_ratio': emp.sharpe_ratio(returns=algo),\n",
    "#             'calmar_ratio': emp.calmar_ratio(algo)\n",
    "#         },\n",
    "#         ignore_index=True,\n",
    "#     )\n",
    "\n",
    "# # emp_df\n",
    "# # emp_df.sort_values('cum_returns', ascending=False)\n",
    "# # emp_df.sort_values('sharpe_ratio', ascending=False)"
   ]
  },
  {
   "cell_type": "code",
   "execution_count": 8,
   "metadata": {},
   "outputs": [
    {
     "name": "stdout",
     "output_type": "stream",
     "text": [
      "Wall time: 499 µs\n"
     ]
    }
   ],
   "source": [
    "%%time\n",
    "\n",
    "show_df = None\n",
    "show_df = stock_df_dict['399300'].copy()"
   ]
  },
  {
   "cell_type": "code",
   "execution_count": 17,
   "metadata": {
    "scrolled": false
   },
   "outputs": [
    {
     "name": "stdout",
     "output_type": "stream",
     "text": [
      "CASH 208017.543\n",
      "HAPPY_MONEY 400000\n",
      "PROPERTY 208017.543\n",
      "BENCHMARK 2141.6 3530.03 1.64831434442\n",
      "Wall time: 10min 4s\n"
     ]
    }
   ],
   "source": [
    "%%time\n",
    "# %xmode\n",
    "\n",
    "PROPERTY = START_MONEY\n",
    "CASH = START_MONEY\n",
    "\n",
    "order_df = None\n",
    "order_df = pd.DataFrame(columns=[\n",
    "    'buy_date', 'symbol', 'buy_count', 'buy_price', 'buy_reason', 'sell_date', 'sell_price', 'sell_reason', 'profit', 'cash', 'property'\n",
    "])\n",
    "count_day = 0\n",
    "yesterday = None\n",
    "miss_buy_short = 0\n",
    "miss_buy_long = 0\n",
    "\n",
    "for today in pd.period_range(start=start_date, end=end_date, freq='D'):\n",
    "    count_day += 1\n",
    "    \n",
    "    if yesterday is None:\n",
    "        yesterday = today\n",
    "        continue\n",
    "\n",
    "    if today not in stock_df_dict['399300'].index:\n",
    "        continue\n",
    "            \n",
    "    # 突破下行趋势，清仓退出\n",
    "    order_arr = order_df.to_records(index=False)\n",
    "    if len(order_arr[(order_arr.buy_count > 0) & (order_arr.sell_price == 0)] ) != 0:\n",
    "        is_sell = False\n",
    "        for idx in order_df[(order_df['buy_count'] > 0) & (order_df['sell_price'] == 0)].index:\n",
    "            cur_order = order_df.loc[idx]\n",
    "            symbol = cur_order['symbol']\n",
    "            if today not in stock_df_dict[symbol].index or yesterday not in stock_df_dict[symbol].index:\n",
    "                continue\n",
    "            today_market = stock_df_dict[symbol].loc[today]\n",
    "            if cur_order.buy_reason == 'SHORT':\n",
    "                is_sell = (today_market.open <= today_market['ROLLING_%d_MIN' % TURTLE_SHORT_SELL_N])\n",
    "            if cur_order.buy_reason == 'LONG':\n",
    "                is_sell = (today_market.open <= today_market['ROLLING_%d_MIN' % TURTLE_LONG_SELL_N])\n",
    "            if is_sell:\n",
    "                CASH += cur_order.buy_count * today_market.open\n",
    "                order_df.loc[idx, 'sell_date'] = today\n",
    "                order_df.loc[idx, 'sell_price'] = today_market.open\n",
    "                order_df.loc[idx, 'sell_reason'] = 'EXIT'\n",
    "                order_df.loc[idx, 'profit'] = \\\n",
    "                    (today_market.open - cur_order.buy_price) * cur_order.buy_count\n",
    "#                 print(today, '退出', stock_df_dict[symbol].loc[today, 'open'], CASH)\n",
    "\n",
    "    if IS_HAPPYMONEY:        \n",
    "        if PROPERTY > START_MONEY * 2 and CASH > START_MONEY:\n",
    "            HAPPY_MONEY += START_MONEY\n",
    "            PROPERTY -= START_MONEY\n",
    "            CASH -= START_MONEY\n",
    "    \n",
    "    # 买卖过程\n",
    "    for symbol in HS300[:]:\n",
    "#     for symbol in ['TSLA']:\n",
    "        if symbol in ['ALGN', 'ROST', 'ORLY', 'ESRX', 'ULTA', 'REGN', 'MNST']:\n",
    "#             continue\n",
    "            pass\n",
    "\n",
    "        if symbol == '399300':\n",
    "            continue\n",
    "        \n",
    "        if today not in stock_df_dict[symbol].index or yesterday not in stock_df_dict[symbol].index:\n",
    "            continue\n",
    "            \n",
    "        # TIME TEST\n",
    "#         print(order_df)\n",
    "#         print(order_df.columns)\n",
    "        \n",
    "#         %timeit (len(order_df[order_df['symbol'] == symbol]) != 0)\n",
    "#         %timeit order_df[order_df['symbol'] == symbol].shape[0] != 0\n",
    "#         %timeit n_order_df = order_df.values\n",
    "#         %timeit len(n_order_df[n_order_df[:, 1] == symbol]) != 0\n",
    "#         %timeit (len(order_df[(order_df['symbol'] == symbol) & (order_df['sell_price'] == 0)]) == 0)\n",
    "\n",
    "\n",
    "#         iiidx = stock_df_dict[symbol].index.get_loc(today)\n",
    "#         print(iiidx, type(iiidx))\n",
    "#         %timeit stock_df_dict[symbol].loc[today]\n",
    "#         %timeit n_stock_df = stock_df_dict[symbol].values\n",
    "#         %timeit n_stock_df[iiidx]\n",
    "        \n",
    "#         %timeit (stock_df_dict[symbol].loc[today, 'open'] >= stock_df_dict[symbol].loc[today, 'rolling_max'])\n",
    "#         %timeit (stock_df_dict[symbol].loc[today, 'open'] >= stock_df_dict[symbol].loc[today, 'rolling_max'])\n",
    "\n",
    "#         %timeit int(stock_df_dict[symbol].shift(1).loc[today, 'Unit'])\n",
    "#         %timeit int(CASH / stock_df_dict[symbol].loc[today, 'open'])\n",
    "#         %timeit buy_count * stock_df_dict[symbol].loc[today, 'open']\n",
    "#         %timeit stock_df_dict[symbol]\n",
    "#         %timeit stock_df_dict[symbol].loc[today, 'open']\n",
    "#         %timeit (stock_df_dict[symbol].loc[today, 'open'] > order_df[(order_df['symbol'] == symbol) & (order_df['sell_price'] == 0)].buy_price.iloc[-1] + 0.5 * stock_df_dict[symbol].shift(1).loc[today, 'N'])\n",
    "        \n",
    "#         n_order_df = order_df.values\n",
    "#         n_stock_df = stock_df_dict[symbol].values\n",
    "#         today_idx = stock_df_dict[symbol].index.get_loc(today)\n",
    "#         is_has_order = (len(n_order_df[n_order_df[:, 1] == symbol]) != 0)\n",
    "#         is_order_soldout = not is_has_order and (len(n_order_df[n_order_df[:, 6] == symbol]) == 0)\n",
    "        \n",
    "#         is_has_order = (len(order_df[order_df['symbol'] == symbol]) != 0)\n",
    "#         is_order_soldout = (len(order_df[(order_df['symbol'] == symbol) & (order_df['sell_price'] == 0)]) == 0)\n",
    "        \n",
    "    \n",
    "#         '''\n",
    "#         'buy_date', 'symbol', 'buy_count', 'buy_price', 'buy_reason', 'sell_date', 'sell_price', 'sell_reason', 'profit', 'cash', 'property'\n",
    "#         stock_df['ROLLING_%d_MAX' % TURTLE_SHORT_BUY_N] = stock_df['open'].rolling(TURTLE_SHORT_BUY_N).max()\n",
    "#         stock_df['ROLLING_%d_MIN' % TURTLE_SHORT_SELL_N] = stock_df['open'].rolling(TURTLE_SHORT_SELL_N).min()\n",
    "#         stock_df['ROLLING_%d_MAX' % TURTLE_LONG_BUY_N] = stock_df['open'].rolling(TURTLE_LONG_BUY_N).max()\n",
    "#         stock_df['ROLLING_%d_MIN' % TURTLE_LONG_SELL_N] = stock_df['open'].rolling(TURTLE_LONG_SELL_N).min()\n",
    "#         '''\n",
    "\n",
    "        today_market = stock_df_dict[symbol].loc[today]\n",
    "\n",
    "        # 突破上行趋势，就买一份\n",
    "        order_arr = order_df.to_records(index=False)\n",
    "        if today_market.MA60 >= today_market.MA180:\n",
    "#         if today_market.MA30 >= today_market.MA180:\n",
    "            is_buy = False\n",
    "            if today_market.open >= today_market['ROLLING_%d_MAX' % TURTLE_LONG_BUY_N]:\n",
    "                is_buy = True\n",
    "                buy_reason = 'LONG'\n",
    "            elif False and today_market.open >= today_market['ROLLING_%d_MAX' % TURTLE_SHORT_BUY_N]:\n",
    "                is_buy = True\n",
    "                buy_reason = 'SHORT'\n",
    "            if is_buy:\n",
    "                buy_count = 0\n",
    "                \n",
    "                if IS_SLIPPAGE:\n",
    "                    buy_price = today_market.open * (1 + random.randint(0, 20) / 1000)\n",
    "                else:\n",
    "                    buy_price = today_market.open\n",
    "\n",
    "                if CASH >= START_MONEY / TURTLE_POS:\n",
    "                    buy_count = int((START_MONEY / TURTLE_POS) / buy_price)\n",
    "                \n",
    "                if IS_RANDOM_BUY:\n",
    "                    if random.randint(0, 100) > 50:\n",
    "                        buy_count = 0\n",
    "\n",
    "                if buy_count > 0:\n",
    "#                     buy_count = 1\n",
    "                    CASH -= buy_count * buy_price\n",
    "#                     print(today, '建仓', buy_count, stock_df_dict[symbol].loc[today, 'open'], CASH)\n",
    "                    order_df = order_df.append(\n",
    "                        {\n",
    "                            'buy_date': today,\n",
    "                            'symbol': symbol,\n",
    "                            'buy_count': buy_count,\n",
    "                            'buy_price': today_market.open,\n",
    "                            'buy_reason': buy_reason,\n",
    "                            'sell_date': pd.np.nan,\n",
    "                            'sell_price': 0,\n",
    "                            'profit': 0,\n",
    "                            'cash': CASH,\n",
    "                            'property': PROPERTY,\n",
    "                        },\n",
    "                        ignore_index=True\n",
    "                    )\n",
    "                else:\n",
    "                    if buy_reason == 'LONG':\n",
    "                        miss_buy_long += 1\n",
    "                    elif buy_reason == 'SHORT':\n",
    "                        miss_buy_short += 1\n",
    "            \n",
    "    # 每天盘点财产\n",
    "    show_df.loc[today, 'CASH_TURTLE_%d_%d_%d' % (TURTLE_POS, TURTLE_LONG_BUY_N, TURTLE_LONG_SELL_N)] = CASH\n",
    "    PROPERTY = CASH + \\\n",
    "        sum(\n",
    "            [\n",
    "                stock_df_dict[order_df.loc[idx, 'symbol']][:today].iloc[-1].open * order_df.loc[idx, 'buy_count'] \\\n",
    "                for idx in order_df.loc[order_df['sell_price']==0].index\n",
    "            ]\n",
    "        )\n",
    "    show_df.loc[today, 'PROPERTY_TURTLE_%d_%d_%d' % (TURTLE_POS, TURTLE_LONG_BUY_N, TURTLE_LONG_SELL_N)] = PROPERTY\n",
    "\n",
    "    yesterday = today\n",
    "\n",
    "\n",
    "    \n",
    "# 最后一天，清仓\n",
    "order_arr = order_df.to_records(index=False)\n",
    "for idx in order_df[order_df['sell_price'] == 0].index:\n",
    "    cur_order = order_df.loc[idx]\n",
    "    symbol = cur_order['symbol']\n",
    "    today_market = stock_df_dict[symbol][:today].iloc[-1]\n",
    "    CASH += cur_order.buy_count * today_market.open\n",
    "    order_df.loc[idx, 'sell_date'] = today\n",
    "    order_df.loc[idx, 'sell_price'] = today_market.open\n",
    "    order_df.loc[idx, 'sell_reason'] = 'EXIT'\n",
    "    order_df.loc[idx, 'profit'] = \\\n",
    "        (today_market.open - cur_order.buy_price) * cur_order.buy_count\n",
    "\n",
    "\n",
    "print('CASH', CASH)\n",
    "print('HAPPY_MONEY', HAPPY_MONEY)\n",
    "print('PROPERTY', PROPERTY)\n",
    "\n",
    "s_p = stock_df_dict['399300'][start_date:].iloc[0].open\n",
    "e_p = stock_df_dict['399300'].iloc[-1].open\n",
    "print('BENCHMARK', s_p, e_p, e_p / s_p)\n"
   ]
  },
  {
   "cell_type": "code",
   "execution_count": 10,
   "metadata": {
    "scrolled": false
   },
   "outputs": [
    {
     "data": {
      "text/plain": [
       "'ALL'"
      ]
     },
     "execution_count": 10,
     "metadata": {},
     "output_type": "execute_result"
    },
    {
     "data": {
      "text/plain": [
       "('start_date', '2008-01-01')"
      ]
     },
     "execution_count": 10,
     "metadata": {},
     "output_type": "execute_result"
    },
    {
     "data": {
      "text/plain": [
       "('end_date', '2018-08-01')"
      ]
     },
     "execution_count": 10,
     "metadata": {},
     "output_type": "execute_result"
    },
    {
     "data": {
      "text/plain": [
       "('TURTLE_POS', 20)"
      ]
     },
     "execution_count": 10,
     "metadata": {},
     "output_type": "execute_result"
    },
    {
     "data": {
      "text/plain": [
       "('TURTLE_SHORT_BUY_N', 20)"
      ]
     },
     "execution_count": 10,
     "metadata": {},
     "output_type": "execute_result"
    },
    {
     "data": {
      "text/plain": [
       "('TURTLE_SHORT_SELL_N', 20)"
      ]
     },
     "execution_count": 10,
     "metadata": {},
     "output_type": "execute_result"
    },
    {
     "data": {
      "text/plain": [
       "('TURTLE_LONG_BUY_N', 60)"
      ]
     },
     "execution_count": 10,
     "metadata": {},
     "output_type": "execute_result"
    },
    {
     "data": {
      "text/plain": [
       "('TURTLE_LONG_SELL_N', 60)"
      ]
     },
     "execution_count": 10,
     "metadata": {},
     "output_type": "execute_result"
    },
    {
     "data": {
      "text/plain": [
       "('IS_HAPPYMONEY', True)"
      ]
     },
     "execution_count": 10,
     "metadata": {},
     "output_type": "execute_result"
    },
    {
     "data": {
      "text/plain": [
       "('IS_TAX', False)"
      ]
     },
     "execution_count": 10,
     "metadata": {},
     "output_type": "execute_result"
    },
    {
     "data": {
      "text/plain": [
       "('IS_SLIPPAGE', False)"
      ]
     },
     "execution_count": 10,
     "metadata": {},
     "output_type": "execute_result"
    },
    {
     "data": {
      "text/plain": [
       "('IS_RANDOM_BUY', True)"
      ]
     },
     "execution_count": 10,
     "metadata": {},
     "output_type": "execute_result"
    },
    {
     "data": {
      "text/plain": [
       "('START_MONEY', 100000)"
      ]
     },
     "execution_count": 10,
     "metadata": {},
     "output_type": "execute_result"
    },
    {
     "data": {
      "text/plain": [
       "('len(order_df)', 563)"
      ]
     },
     "execution_count": 10,
     "metadata": {},
     "output_type": "execute_result"
    },
    {
     "data": {
      "text/plain": [
       "('sum_profit', 253797.76400000005)"
      ]
     },
     "execution_count": 10,
     "metadata": {},
     "output_type": "execute_result"
    },
    {
     "data": {
      "text/plain": [
       "('sum_tax', 0)"
      ]
     },
     "execution_count": 10,
     "metadata": {},
     "output_type": "execute_result"
    },
    {
     "data": {
      "text/plain": [
       "('win rate', 0.38324420677361853)"
      ]
     },
     "execution_count": 10,
     "metadata": {},
     "output_type": "execute_result"
    },
    {
     "data": {
      "text/plain": [
       "('len(order_df[order_df.profit != 0])', 561)"
      ]
     },
     "execution_count": 10,
     "metadata": {},
     "output_type": "execute_result"
    },
    {
     "data": {
      "text/plain": [
       "('len(order_df[order_df.profit > 0])', 215)"
      ]
     },
     "execution_count": 10,
     "metadata": {},
     "output_type": "execute_result"
    },
    {
     "data": {
      "text/plain": [
       "('order LONG', 563)"
      ]
     },
     "execution_count": 10,
     "metadata": {},
     "output_type": "execute_result"
    },
    {
     "data": {
      "text/plain": [
       "215"
      ]
     },
     "execution_count": 10,
     "metadata": {},
     "output_type": "execute_result"
    },
    {
     "data": {
      "text/plain": [
       "253797.76400000005"
      ]
     },
     "execution_count": 10,
     "metadata": {},
     "output_type": "execute_result"
    },
    {
     "data": {
      "text/plain": [
       "('order SHORT', 0)"
      ]
     },
     "execution_count": 10,
     "metadata": {},
     "output_type": "execute_result"
    },
    {
     "data": {
      "text/plain": [
       "0"
      ]
     },
     "execution_count": 10,
     "metadata": {},
     "output_type": "execute_result"
    },
    {
     "data": {
      "text/plain": [
       "0"
      ]
     },
     "execution_count": 10,
     "metadata": {},
     "output_type": "execute_result"
    },
    {
     "data": {
      "text/plain": [
       "('cum_returns', 1.5379776399999963, 0.64831434441539737)"
      ]
     },
     "execution_count": 10,
     "metadata": {},
     "output_type": "execute_result"
    },
    {
     "data": {
      "text/plain": [
       "('max_drawdown', -0.5673499866223625, -0.4691670369014046)"
      ]
     },
     "execution_count": 10,
     "metadata": {},
     "output_type": "execute_result"
    },
    {
     "data": {
      "text/plain": [
       "('annual_return', 0.10287012766147963, 0.053944461970586666)"
      ]
     },
     "execution_count": 10,
     "metadata": {},
     "output_type": "execute_result"
    },
    {
     "data": {
      "text/plain": [
       "('annual_volatility', 0.2767507931281172)"
      ]
     },
     "execution_count": 10,
     "metadata": {},
     "output_type": "execute_result"
    },
    {
     "data": {
      "text/plain": [
       "('calmar_ratio', 0.18131687686096956)"
      ]
     },
     "execution_count": 10,
     "metadata": {},
     "output_type": "execute_result"
    },
    {
     "data": {
      "text/plain": [
       "('sharpe_ratio', 0.4973839443258487)"
      ]
     },
     "execution_count": 10,
     "metadata": {},
     "output_type": "execute_result"
    },
    {
     "data": {
      "text/plain": [
       "('alpha', 0.07936101247359247)"
      ]
     },
     "execution_count": 10,
     "metadata": {},
     "output_type": "execute_result"
    },
    {
     "data": {
      "text/plain": [
       "('beta', 0.6429757687739196)"
      ]
     },
     "execution_count": 10,
     "metadata": {},
     "output_type": "execute_result"
    },
    {
     "data": {
      "text/plain": [
       "('ALL DAY', 2397)"
      ]
     },
     "execution_count": 10,
     "metadata": {},
     "output_type": "execute_result"
    },
    {
     "data": {
      "text/plain": [
       "'CASH_TURTLE_20_60_60'"
      ]
     },
     "execution_count": 10,
     "metadata": {},
     "output_type": "execute_result"
    },
    {
     "data": {
      "text/plain": [
       "'PROPERTY_TURTLE_20_60_60'"
      ]
     },
     "execution_count": 10,
     "metadata": {},
     "output_type": "execute_result"
    },
    {
     "data": {
      "text/plain": [
       "('CASH NOT USED DAY', 554)"
      ]
     },
     "execution_count": 10,
     "metadata": {},
     "output_type": "execute_result"
    },
    {
     "data": {
      "text/plain": [
       "('MISS_BUY_SIGNAL_LONG', 25905)"
      ]
     },
     "execution_count": 10,
     "metadata": {},
     "output_type": "execute_result"
    },
    {
     "data": {
      "text/plain": [
       "('MISS_BUY_SIGNAL_SHORT', 0)"
      ]
     },
     "execution_count": 10,
     "metadata": {},
     "output_type": "execute_result"
    }
   ],
   "source": [
    "'ALL'\n",
    "'start_date', start_date\n",
    "'end_date', end_date\n",
    "'TURTLE_POS', TURTLE_POS\n",
    "'TURTLE_SHORT_BUY_N', TURTLE_SHORT_BUY_N\n",
    "'TURTLE_SHORT_SELL_N', TURTLE_SHORT_SELL_N\n",
    "'TURTLE_LONG_BUY_N', TURTLE_LONG_BUY_N\n",
    "'TURTLE_LONG_SELL_N', TURTLE_LONG_SELL_N\n",
    "'IS_HAPPYMONEY', IS_HAPPYMONEY\n",
    "'IS_TAX', IS_TAX\n",
    "'IS_SLIPPAGE', IS_SLIPPAGE\n",
    "'IS_RANDOM_BUY', IS_RANDOM_BUY\n",
    "'START_MONEY', START_MONEY\n",
    "\n",
    "'len(order_df)', len(order_df)\n",
    "sum_profit = sum(list(order_df['profit']))\n",
    "'sum_profit', sum_profit\n",
    "# sum_tax = sum(list(order_df_TB['tax']))\n",
    "sum_tax = 0\n",
    "'sum_tax', sum_tax\n",
    "'win rate', len(order_df[order_df.profit > 0]) / len(order_df[order_df.profit != 0])\n",
    "# 'REWARD', ((sum_profit - sum_tax) / START_MONEY + 1) ** (365 / count_day)\n",
    "'len(order_df[order_df.profit != 0])', len(order_df[order_df.profit != 0])\n",
    "'len(order_df[order_df.profit > 0])', len(order_df[order_df.profit > 0])\n",
    "'order LONG', len(order_df[order_df.buy_reason == 'LONG'])\n",
    "len(order_df[(order_df.buy_reason == 'LONG') & (order_df.profit > 0)])\n",
    "sum(list(order_df[order_df.buy_reason == 'LONG']['profit']))\n",
    "'order SHORT', len(order_df[order_df.buy_reason == 'SHORT'])\n",
    "len(order_df[(order_df.buy_reason == 'SHORT') & (order_df.profit > 0)])\n",
    "sum(list(order_df[order_df.buy_reason == 'SHORT']['profit']))\n",
    "\n",
    "# order_df\n",
    "# order_df.loc[order_df['sell_price']==0]\n",
    "\n",
    "calc_df = order_df.copy()\n",
    "calc_df['profit_pct'] = calc_df['profit'] / (calc_df['buy_count'] * calc_df['buy_price'])\n",
    "# calc_df[calc_df.symbol == 'BIDU']\n",
    "# calc_df[calc_df.profit > 0]\n",
    "# calc_df\n",
    "\n",
    "# order_df[order_df.profit > 0]\n",
    "\n",
    "# csv_file = 'E:/Dev/result/T_TURTLE_POS%d_TURTLE_BUY_N%d_TURTLE_SELL_N%d_START_MONEY%d_%s_%s.csv' % \\\n",
    "#     (TURTLE_POS, TURTLE_BUY_N, TURTLE_SELL_N, START_MONEY, start_date, end_date)\n",
    "# calc_df.to_csv(csv_file)\n",
    "\n",
    "# list(show_df.dropna(how='any', inplace=False).PROPERTY_TURTLE_20_60_60.apply(int).tail(50))\n",
    "# list(show_df.open.apply(int).tail(50))\n",
    "\n",
    "df = show_df.dropna(how='any', inplace=False).copy()\n",
    "algo = df['PROPERTY_TURTLE_%d_%d_%d' % (TURTLE_POS, TURTLE_LONG_BUY_N, TURTLE_LONG_SELL_N)].pct_change()\n",
    "benchmark = df.open.pct_change()\n",
    "\n",
    "'cum_returns', emp.cum_returns(algo)[-1], emp.cum_returns(benchmark)[-1]\n",
    "'max_drawdown', emp.max_drawdown(algo), emp.max_drawdown(benchmark)\n",
    "'annual_return', emp.annual_return(algo), emp.annual_return(benchmark)\n",
    "'annual_volatility', emp.annual_volatility(algo, period='daily')\n",
    "'calmar_ratio', emp.calmar_ratio(algo)\n",
    "'sharpe_ratio', emp.sharpe_ratio(returns=algo)\n",
    "'alpha', emp.alpha(returns=algo, factor_returns=benchmark, risk_free=0.00)\n",
    "'beta', emp.beta(returns=algo, factor_returns=benchmark, risk_free=0.00)\n",
    "\n",
    "'ALL DAY', len(df)\n",
    "'CASH_TURTLE_%d_%d_%d' % (TURTLE_POS, TURTLE_LONG_BUY_N, TURTLE_LONG_SELL_N)\n",
    "'PROPERTY_TURTLE_%d_%d_%d' % (TURTLE_POS, TURTLE_LONG_BUY_N, TURTLE_LONG_SELL_N)\n",
    "'CASH NOT USED DAY', \\\n",
    "    len(df[df['CASH_TURTLE_%d_%d_%d' % (TURTLE_POS, TURTLE_LONG_BUY_N, TURTLE_LONG_SELL_N)] > \\\n",
    "           df['PROPERTY_TURTLE_%d_%d_%d' % (TURTLE_POS, TURTLE_LONG_BUY_N, TURTLE_LONG_SELL_N)] / TURTLE_POS])\n",
    "'MISS_BUY_SIGNAL_LONG', miss_buy_long\n",
    "'MISS_BUY_SIGNAL_SHORT', miss_buy_short"
   ]
  },
  {
   "cell_type": "code",
   "execution_count": 11,
   "metadata": {
    "scrolled": false
   },
   "outputs": [
    {
     "data": {
      "text/html": [
       "<div>\n",
       "<style scoped>\n",
       "    .dataframe tbody tr th:only-of-type {\n",
       "        vertical-align: middle;\n",
       "    }\n",
       "\n",
       "    .dataframe tbody tr th {\n",
       "        vertical-align: top;\n",
       "    }\n",
       "\n",
       "    .dataframe thead th {\n",
       "        text-align: right;\n",
       "    }\n",
       "</style>\n",
       "<table border=\"1\" class=\"dataframe\">\n",
       "  <thead>\n",
       "    <tr style=\"text-align: right;\">\n",
       "      <th></th>\n",
       "      <th>pro_pct</th>\n",
       "    </tr>\n",
       "    <tr>\n",
       "      <th>symbol</th>\n",
       "      <th></th>\n",
       "    </tr>\n",
       "  </thead>\n",
       "  <tbody>\n",
       "    <tr>\n",
       "      <th>002252</th>\n",
       "      <td>20.242767</td>\n",
       "    </tr>\n",
       "    <tr>\n",
       "      <th>002236</th>\n",
       "      <td>9.801586</td>\n",
       "    </tr>\n",
       "    <tr>\n",
       "      <th>600809</th>\n",
       "      <td>4.529921</td>\n",
       "    </tr>\n",
       "    <tr>\n",
       "      <th>600406</th>\n",
       "      <td>4.080220</td>\n",
       "    </tr>\n",
       "    <tr>\n",
       "      <th>600309</th>\n",
       "      <td>3.532870</td>\n",
       "    </tr>\n",
       "    <tr>\n",
       "      <th>600886</th>\n",
       "      <td>2.361586</td>\n",
       "    </tr>\n",
       "    <tr>\n",
       "      <th>600009</th>\n",
       "      <td>2.284978</td>\n",
       "    </tr>\n",
       "    <tr>\n",
       "      <th>600340</th>\n",
       "      <td>2.281607</td>\n",
       "    </tr>\n",
       "    <tr>\n",
       "      <th>000538</th>\n",
       "      <td>2.117360</td>\n",
       "    </tr>\n",
       "    <tr>\n",
       "      <th>600498</th>\n",
       "      <td>1.904784</td>\n",
       "    </tr>\n",
       "  </tbody>\n",
       "</table>\n",
       "</div>"
      ],
      "text/plain": [
       "          pro_pct\n",
       "symbol           \n",
       "002252  20.242767\n",
       "002236   9.801586\n",
       "600809   4.529921\n",
       "600406   4.080220\n",
       "600309   3.532870\n",
       "600886   2.361586\n",
       "600009   2.284978\n",
       "600340   2.281607\n",
       "000538   2.117360\n",
       "600498   1.904784"
      ]
     },
     "execution_count": 11,
     "metadata": {},
     "output_type": "execute_result"
    }
   ],
   "source": [
    "df = order_df.copy()\n",
    "df.drop(columns=['sell_reason'], inplace=True)\n",
    "df['pro_pct'] = (df.sell_price - df.buy_price) / df.buy_price\n",
    "# df.sell_date.dtypes\n",
    "# df.loc[1].sell_date\n",
    "# df.loc[1].sell_date.to_timestamp()\n",
    "\n",
    "# df = df.astype(dtype={'sell_date': 'datetime64[ns]', 'buy_date': 'datetime64[ns]', 'cash':'int'})\n",
    "df = df.astype(dtype={'cash': 'int'})\n",
    "# df.loc[1].sell_date\n",
    "\n",
    "# type(df[1].sell_date)\n",
    "df['h_days'] = (df.sell_date - df.buy_date)\n",
    "# df.loc[1].h_days\n",
    "# type(df.loc[1].h_days)\n",
    "\n",
    "df['h_days'] = df['h_days'].apply(lambda x: 1 if x == 0 else x)\n",
    "# df.loc[1].h_days\n",
    "\n",
    "df['per_d'] = df.pro_pct / df.h_days * 365\n",
    "# df['per_d'] = df.apply(lambda x: x.pro_pct / x.h_days)\n",
    "\n",
    "# df\n",
    "# df.sort_values(by='pro_pct', ascending=False)\n",
    "# df.sort_values(by='per_d', ascending=False)\n",
    "\n",
    "df = df.loc[:, ['symbol', 'pro_pct']]\n",
    "df = df.groupby(by='symbol').sum()\n",
    "df.sort_values(by='pro_pct', ascending=False).head(10)"
   ]
  },
  {
   "cell_type": "code",
   "execution_count": 12,
   "metadata": {
    "scrolled": true
   },
   "outputs": [
    {
     "data": {
      "text/plain": [
       "109"
      ]
     },
     "execution_count": 12,
     "metadata": {},
     "output_type": "execute_result"
    }
   ],
   "source": [
    "bad_stock_cnt = 0\n",
    "s_p = stock_df_dict['399300'][start_date:].iloc[0].open\n",
    "e_p = stock_df_dict['399300'].iloc[-1].open\n",
    "benchmark_return = e_p / s_p\n",
    "for symbol, stock_df in stock_df_dict.items():\n",
    "    df = stock_df.loc[start_date:end_date, 'close']\n",
    "#     print(df)\n",
    "    s_p = df.head(1).values\n",
    "    e_p = df.tail(1).values\n",
    "#     print(symbol, s_p, e_p, e_p / s_p)\n",
    "    if e_p / s_p < benchmark_return:\n",
    "        bad_stock_cnt += 1\n",
    "bad_stock_cnt\n"
   ]
  },
  {
   "cell_type": "code",
   "execution_count": 13,
   "metadata": {
    "scrolled": false
   },
   "outputs": [],
   "source": [
    "# %matplotlib inline\n",
    "\n",
    "# import sys\n",
    "# import matplotlib\n",
    "# import matplotlib.pyplot as plt\n",
    "# plt.rcParams['figure.figsize'] = [15, 10]\n",
    "\n",
    "# # order_df_TB\n",
    "# bar_df = order_df.copy()\n",
    "# df = bar_df.sort_values(by=['profit'])\n",
    "# # df\n",
    "\n",
    "# bins = [100 * x for x in range(-200, 500)]\n",
    "# # bins\n",
    "\n",
    "# cats = pd.cut(df['profit'], bins)\n",
    "# # cats\n",
    "\n",
    "# def get_stats(group):\n",
    "#     return {'count': group.count()}\n",
    "\n",
    "# grouped = df['profit'].groupby(cats)\n",
    "# bin_counts = grouped.apply(get_stats).unstack()\n",
    "# bin_counts.reset_index(inplace=True, drop=False)\n",
    "# bin_counts['profit'] = bin_counts['profit'].apply(str)\n",
    "# # bin_counts\n",
    "\n",
    "# # df['profit'].hist(bins=10)\n",
    "\n",
    "# # bin_counts.plot(kind='barh', alpha=0.5, rot=0)\n",
    "\n",
    "# # display_charts(bin_counts, kind='bar', x='profit', figsize=(900, 600), logy=True)"
   ]
  },
  {
   "cell_type": "code",
   "execution_count": 14,
   "metadata": {
    "scrolled": false
   },
   "outputs": [
    {
     "data": {
      "text/plain": [
       "Index(['open', 'close', 'o_pct_chg', 'ROLLING_20_MAX', 'ROLLING_20_MIN',\n",
       "       'ROLLING_60_MAX', 'ROLLING_60_MIN', 'MA180', 'MA60', 'MA30',\n",
       "       'CASH_TURTLE_20_60_60', 'PROPERTY_TURTLE_20_60_60'],\n",
       "      dtype='object')"
      ]
     },
     "execution_count": 14,
     "metadata": {},
     "output_type": "execute_result"
    },
    {
     "data": {
      "image/png": "[encoded data removed]",
      "text/plain": [
       "<matplotlib.figure.Figure at 0x336b570>"
      ]
     },
     "metadata": {},
     "output_type": "display_data"
    }
   ],
   "source": [
    "%matplotlib inline\n",
    "\n",
    "import matplotlib\n",
    "import matplotlib.pyplot as plt\n",
    "plt.rcParams['figure.figsize'] = [15, 10]\n",
    "\n",
    "df = show_df.dropna(how='any', inplace=False).copy()\n",
    "# df.drop(columns=['open', 'high', 'low', 'o_pct_chg', 'TR', 'N'], inplace=True)\n",
    "df.columns\n",
    "\n",
    "df['close'] = (df['close'] - df.iloc[0]['close']) / df.iloc[0]['close']\n",
    "ax = df.plot(kind='line', y='close', label='NDX_%.2f' % df.iloc[-1]['close'], linewidth=1, grid=True)\n",
    "for col in sorted(df.columns):\n",
    "    if 'PROPERTY' in col:\n",
    "        df[col] = (df[col] - df.iloc[1][col]) / df.iloc[0][col]\n",
    "        ax = df.plot(kind='line', y=col, secondary_y=False, label='%s_%.2f' % (col, df.iloc[-1][col]), linewidth=1, grid=True, ax=ax)\n",
    "\n",
    "# display_charts(df, kind='line', figsize=(900, 600), logy=False)"
   ]
  },
  {
   "cell_type": "code",
   "execution_count": 15,
   "metadata": {},
   "outputs": [
    {
     "data": {
      "text/plain": [
       "Index(['open', 'close', 'o_pct_chg', 'ROLLING_20_MAX', 'ROLLING_20_MIN',\n",
       "       'ROLLING_60_MAX', 'ROLLING_60_MIN', 'MA180', 'MA60', 'MA30',\n",
       "       'CASH_TURTLE_20_60_60', 'PROPERTY_TURTLE_20_60_60'],\n",
       "      dtype='object')"
      ]
     },
     "execution_count": 15,
     "metadata": {},
     "output_type": "execute_result"
    },
    {
     "data": {
      "text/html": [
       "<div id=\"chart_idueCjfXVY\"</div>\n",
       "    <script type=\"text/javascript\">new Highcharts.StockChart({\"chart\":{\"renderTo\":\"chart_idueCjfXVY\",\"width\":900,\"height\":600},\"legend\":{\"enabled\":true},\"series\":[{\"name\":\"CASH_TURTLE_20_60_60\",\"yAxis\":0,\"data\":[[1222128000000,1.0],[1222214400000,1.0],[1222300800000,1.0],[1222387200000,1.0],[1223251200000,1.0],[1223337600000,1.0],[1223424000000,1.0],[1223510400000,1.0],[1223596800000,1.0],[1223856000000,1.0],[1223942400000,1.0],[1224028800000,1.0],[1224115200000,1.0],[1224201600000,1.0],[1224460800000,1.0],[1224547200000,1.0],[1224633600000,1.0],[1224720000000,1.0],[1224806400000,1.0],[1225065600000,1.0],[1225152000000,1.0],[1225238400000,1.0],[1225324800000,1.0],[1225411200000,1.0],[1225670400000,1.0],[1225756800000,1.0],[1225843200000,1.0],[1225929600000,1.0],[1226016000000,1.0],[1226275200000,1.0],[1226361600000,1.0],[1226448000000,1.0],[1226534400000,1.0],[1226620800000,1.0],[1226880000000,1.0],[1226966400000,1.0],[1227052800000,1.0],[1227139200000,1.0],[1227225600000,1.0],[1227484800000,1.0],[1227571200000,1.0],[1227657600000,1.0],[1227744000000,1.0],[1227830400000,1.0],[1228089600000,1.0],[1228176000000,1.0],[1228262400000,1.0],[1228348800000,1.0],[1228435200000,1.0],[1228694400000,1.0],[1228780800000,1.0],[1228867200000,1.0],[1228953600000,1.0],[1229040000000,1.0],[1229299200000,1.0],[1229385600000,1.0],[1229472000000,0.95011016],[1229558400000,0.95011016],[1229644800000,0.95011016],[1229904000000,0.85021393],[1229990400000,0.85021393],[1230076800000,0.85021393],[1230163200000,0.85021393],[1230249600000,0.85021393],[1230508800000,0.85021393],[1230595200000,0.85021393],[1230681600000,0.85021393],[1231113600000,0.85021393],[1231200000000,0.85021393],[1231286400000,0.85021393],[1231372800000,0.85021393],[1231459200000,0.85021393],[1231718400000,0.85021393],[1231804800000,0.85021393],[1231891200000,0.85021393],[1231977600000,0.85021393],[1232064000000,0.85021393],[1232323200000,0.85021393],[1232409600000,0.85021393],[1232496000000,0.85021393],[1232582400000,0.85021393],[1232668800000,0.85021393],[1233532800000,0.85021393],[1233619200000,0.80022013],[1233705600000,0.80022013],[1233792000000,0.70026414],[1233878400000,0.60031784],[1234137600000,0.40041595],[1234224000000,0.15071196],[1234310400000,0.0007703],[1234396800000,0.0007703],[1234483200000,0.0007703],[1234742400000,0.0007703],[1234828800000,0.0007703],[1234915200000,0.0007703],[1235001600000,0.0007703],[1235088000000,0.0007703],[1235347200000,0.0007703],[1235433600000,0.0007703],[1235520000000,0.0007703],[1235606400000,0.0007703],[1235692800000,0.0007703],[1235952000000,0.08573742],[1236038400000,0.08573742],[1236124800000,0.03576798],[1236211200000,0.03576798],[1236297600000,0.03576798],[1236556800000,0.03576798],[1236643200000,0.03576798],[1236729600000,0.03576798],[1236816000000,0.03576798],[1236902400000,0.03576798],[1237161600000,0.03576798],[1237248000000,0.03576798],[1237334400000,0.03576798],[1237420800000,0.03576798],[1237507200000,0.03576798],[1237766400000,0.03576798],[1237852800000,0.03576798],[1237939200000,0.03576798],[1238025600000,0.03576798],[1238112000000,0.03576798],[1238371200000,0.03576798],[1238457600000,0.03576798],[1238544000000,0.03576798],[1238630400000,0.03576798],[1238716800000,0.03576798],[1239062400000,0.03576798],[1239148800000,0.03576798],[1239235200000,0.03576798],[1239321600000,0.03576798],[1239580800000,0.03576798],[1239667200000,0.03576798],[1239753600000,0.03576798],[1239840000000,0.03576798],[1239926400000,0.03576798],[1240185600000,0.03576798],[1240272000000,0.03576798],[1240358400000,0.03576798],[1240444800000,0.03576798],[1240531200000,0.03576798],[1240790400000,0.03576798],[1240876800000,0.03576798],[1240963200000,0.03576798],[1241049600000,0.03576798],[1241395200000,0.03576798],[1241481600000,0.03576798],[1241568000000,0.03576798],[1241654400000,0.03576798],[1241740800000,0.03576798],[1242000000000,0.03576798],[1242086400000,0.18521541],[1242172800000,0.03526747],[1242259200000,0.03526747],[1242345600000,0.03526747],[1242604800000,0.03526747],[1242691200000,0.03526747],[1242777600000,0.03526747],[1242864000000,0.03526747],[1242950400000,0.03526747],[1243209600000,0.03526747],[1243296000000,0.03526747],[1243382400000,0.03526747],[1243814400000,0.03526747],[1243900800000,0.03526747],[1243987200000,0.03526747],[1244073600000,0.03526747],[1244160000000,0.03526747],[1244419200000,0.03526747],[1244505600000,0.03526747],[1244592000000,0.03526747],[1244678400000,0.03526747],[1244764800000,0.03526747],[1245024000000,0.03526747],[1245110400000,0.03526747],[1245196800000,0.03526747],[1245283200000,0.03526747],[1245369600000,0.03526747],[1245628800000,0.03526747],[1245715200000,0.03526747],[1245801600000,0.03526747],[1245888000000,0.03526747],[1245974400000,0.03526747],[1246233600000,0.03526747],[1246320000000,0.03247977],[1246406400000,0.03247977],[1246492800000,0.03247977],[1246579200000,0.03247977],[1246838400000,0.03247977],[1246924800000,0.03247977],[1247011200000,0.03247977],[1247097600000,0.03247977],[1247184000000,0.03247977],[1247443200000,0.03247977],[1247529600000,0.03247977],[1247616000000,0.03247977],[1247702400000,0.03247977],[1247788800000,0.03247977],[1248048000000,0.03247977],[1248134400000,0.03247977],[1248220800000,0.03247977],[1248307200000,0.03247977],[1248393600000,0.03247977],[1248652800000,0.03247977],[1248739200000,0.03247977],[1248825600000,0.03247977],[1248912000000,0.03247977],[1248998400000,0.03247977],[1249257600000,0.03247977],[1249344000000,0.03247977],[1249430400000,0.03247977],[1249516800000,0.03247977],[1249603200000,0.03247977],[1249862400000,0.03247977],[1249948800000,0.03247977],[1250035200000,0.03247977],[1250121600000,0.03247977],[1250208000000,0.03247977],[1250467200000,0.29538765],[1250553600000,0.38747325],[1250640000000,0.38747325],[1250726400000,0.45013848],[1250812800000,0.45013848],[1251072000000,0.40015653],[1251158400000,0.35018036],[1251244800000,0.2899317],[1251331200000,0.09014948],[1251417600000,0.04582427],[1251676800000,0.04582427],[1251763200000,0.11562136],[1251849600000,0.06567916],[1251936000000,0.06567916],[1252022400000,0.06567916],[1252281600000,0.01571143],[1252368000000,0.01571143],[1252454400000,0.01571143],[1252540800000,0.01571143],[1252627200000,0.01571143],[1252886400000,0.01571143],[1252972800000,0.01571143],[1253059200000,0.01571143],[1253145600000,0.01571143],[1253232000000,0.01571143],[1253491200000,0.01571143],[1253577600000,0.01571143],[1253664000000,0.01571143],[1253750400000,0.01571143],[1253836800000,0.01571143],[1254096000000,0.01571143],[1254182400000,0.01571143],[1254268800000,0.01571143],[1255046400000,0.01571143],[1255305600000,0.01571143],[1255392000000,0.01571143],[1255478400000,0.01571143],[1255564800000,0.01571143],[1255651200000,0.01571143],[1255910400000,0.01571143],[1255996800000,0.01571143],[1256083200000,0.01571143],[1256169600000,0.01571143],[1256256000000,0.01571143],[1256515200000,0.01571143],[1256601600000,0.01571143],[1256688000000,0.01571143],[1256774400000,0.01571143],[1256860800000,0.01571143],[1257120000000,0.01571143],[1257206400000,0.01571143],[1257292800000,0.01571143],[1257379200000,0.01571143],[1257465600000,0.01571143],[1257724800000,0.01571143],[1257811200000,0.01571143],[1257897600000,0.01571143],[1257984000000,0.01571143],[1258070400000,0.01571143],[1258329600000,0.01571143],[1258416000000,0.01571143],[1258502400000,0.01571143],[1258588800000,0.01571143],[1258675200000,0.01571143],[1258934400000,0.01571143],[1259020800000,0.01571143],[1259107200000,0.01571143],[1259193600000,0.01571143],[1259280000000,0.01571143],[1259539200000,0.01571143],[1259625600000,0.01571143],[1259712000000,0.01571143],[1259798400000,0.01571143],[1259884800000,0.01571143],[1260144000000,0.01571143],[1260230400000,0.01571143],[1260316800000,0.01571143],[1260403200000,0.01571143],[1260489600000,0.01571143],[1260748800000,0.01571143],[1260835200000,0.01571143],[1260921600000,0.01571143],[1261008000000,0.01571143],[1261094400000,0.01571143],[1261353600000,0.06685177],[1261440000000,0.06685177],[1261526400000,0.01698244],[1261612800000,0.01698244],[1261699200000,0.01698244],[1261958400000,0.01698244],[1262044800000,0.01698244],[1262131200000,0.01698244],[1262217600000,0.01698244],[1262563200000,0.01698244],[1262649600000,0.01698244],[1262736000000,0.01698244],[1262822400000,0.01698244],[1262908800000,0.01698244],[1263168000000,0.01698244],[1263254400000,0.01698244],[1263340800000,0.01698244],[1263427200000,0.01698244],[1263513600000,0.01698244],[1263772800000,0.01698244],[1263859200000,0.01698244],[1263945600000,0.01698244],[1264032000000,0.01698244],[1264118400000,0.01698244],[1264377600000,0.01698244],[1264464000000,0.01698244],[1264550400000,0.01698244],[1264636800000,0.18244899],[1264723200000,0.13253619],[1264982400000,0.08260457],[1265068800000,0.08260457],[1265155200000,0.03266117],[1265241600000,0.03266117],[1265328000000,0.09114498],[1265587200000,0.09114498],[1265673600000,0.14824453],[1265760000000,0.09825445],[1265846400000,0.04828393],[1265932800000,0.04828393],[1266796800000,0.04828393],[1266883200000,0.04828393],[1266969600000,0.04828393],[1267056000000,0.04828393],[1267142400000,0.04828393],[1267401600000,0.04828393],[1267488000000,0.04828393],[1267574400000,0.04828393],[1267660800000,0.04828393],[1267747200000,0.04828393],[1268006400000,0.04828393],[1268092800000,0.04828393],[1268179200000,0.04828393],[1268265600000,0.04828393],[1268352000000,0.04828393],[1268611200000,0.04828393],[1268697600000,0.04828393],[1268784000000,0.04828393],[1268870400000,0.04828393],[1268956800000,0.04828393],[1269216000000,0.04828393],[1269302400000,0.04828393],[1269388800000,0.04828393],[1269475200000,0.04828393],[1269561600000,0.04828393],[1269820800000,0.04828393],[1269907200000,0.04828393],[1269993600000,0.04828393],[1270080000000,0.04828393],[1270166400000,0.04828393],[1270512000000,0.0030852],[1270598400000,0.0030852],[1270684800000,0.0030852],[1270771200000,0.0030852],[1271030400000,0.0030852],[1271116800000,0.0030852],[1271203200000,0.0030852],[1271289600000,0.0030852],[1271376000000,0.0030852],[1271635200000,0.0030852],[1271721600000,0.0030852],[1271808000000,0.0030852],[1271894400000,0.0030852],[1271980800000,0.0030852],[1272240000000,0.0030852],[1272326400000,0.0030852],[1272412800000,0.04381176],[1272499200000,0.04611369],[1272585600000,0.04611369],[1272931200000,0.08355753],[1273017600000,0.03357158],[1273104000000,0.03357158],[1273190400000,0.03357158],[1273449600000,0.03357158],[1273536000000,0.03357158],[1273622400000,0.03357158],[1273708800000,0.22869233],[1273795200000,0.17873567],[1274054400000,0.12883407],[1274140800000,0.12883407],[1274227200000,0.16983087],[1274313600000,0.16983087],[1274400000000,0.16983087],[1274659200000,0.11990323],[1274745600000,0.06993979],[1274832000000,0.02001937],[1274918400000,0.02001937],[1275004800000,0.02001937],[1275264000000,0.02001937],[1275350400000,0.02001937],[1275436800000,0.02001937],[1275523200000,0.02001937],[1275609600000,0.0085118],[1275868800000,0.0085118],[1275955200000,0.0085118],[1276041600000,0.0085118],[1276128000000,0.0085118],[1276214400000,0.0085118],[1276732800000,0.0085118],[1276819200000,0.0085118],[1277078400000,0.11893838],[1277164800000,0.11893838],[1277251200000,0.11893838],[1277337600000,0.06896758],[1277424000000,0.06896758],[1277683200000,0.06896758],[1277769600000,0.06896758],[1277856000000,0.46899167],[1277942400000,0.46899167],[1278028800000,0.5049975],[1278288000000,0.66009205],[1278374400000,0.66009205],[1278460800000,0.61011245],[1278547200000,0.61011245],[1278633600000,0.56012123],[1278892800000,0.51014582],[1278979200000,0.51014582],[1279065600000,0.51014582],[1279152000000,0.51014582],[1279238400000,0.51014582],[1279497600000,0.51014582],[1279584000000,0.51014582],[1279670400000,0.51014582],[1279756800000,0.51014582],[1279843200000,0.51014582],[1280102400000,0.51014582],[1280188800000,0.46020186],[1280275200000,0.31060574],[1280361600000,0.1608585],[1280448000000,0.11088321],[1280707200000,0.01100729],[1280793600000,0.01100729],[1280880000000,0.01100729],[1280966400000,0.01100729],[1281052800000,0.01100729],[1281312000000,0.01100729],[1281398400000,0.01100729],[1281484800000,0.01100729],[1281571200000,0.01100729],[1281657600000,0.01100729],[1281916800000,0.01100729],[1282003200000,0.01100729],[1282089600000,0.01100729],[1282176000000,0.01100729],[1282262400000,0.01100729],[1282521600000,0.01100729],[1282608000000,0.01100729],[1282694400000,0.01100729],[1282780800000,0.01100729],[1282867200000,0.01100729],[1283126400000,0.01100729],[1283212800000,0.01100729],[1283299200000,0.01100729],[1283385600000,0.01100729],[1283472000000,0.01100729],[1283731200000,0.01100729],[1283817600000,0.01100729],[1283904000000,0.01100729],[1283990400000,0.01100729],[1284076800000,0.01100729],[1284336000000,0.01100729],[1284422400000,0.01100729],[1284508800000,0.01100729],[1284595200000,0.01100729],[1284681600000,0.01100729],[1284940800000,0.01100729],[1285027200000,0.01100729],[1285545600000,0.01100729],[1285632000000,0.01100729],[1285718400000,0.01100729],[1285804800000,0.01100729],[1286496000000,0.01100729],[1286755200000,0.01100729],[1286841600000,0.01100729],[1286928000000,0.01100729],[1287014400000,0.01100729],[1287100800000,0.01100729],[1287360000000,0.01100729],[1287446400000,0.01100729],[1287532800000,0.01100729],[1287619200000,0.01100729],[1287705600000,0.01100729],[1287964800000,0.01100729],[1288051200000,0.01100729],[1288137600000,0.01100729],[1288224000000,0.01100729],[1288310400000,0.01100729],[1288569600000,0.01100729],[1288656000000,0.01100729],[1288742400000,0.01100729],[1288828800000,0.01100729],[1288915200000,0.01100729],[1289174400000,0.01100729],[1289260800000,0.01100729],[1289347200000,0.01100729],[1289433600000,0.01100729],[1289520000000,0.01100729],[1289779200000,0.01100729],[1289865600000,0.01100729],[1289952000000,0.01100729],[1290038400000,0.01100729],[1290124800000,0.01100729],[1290384000000,0.01100729],[1290470400000,0.01100729],[1290556800000,0.01100729],[1290643200000,0.01100729],[1290729600000,0.01100729],[1290988800000,0.01100729],[1291075200000,0.01100729],[1291161600000,0.01100729],[1291248000000,0.01100729],[1291334400000,0.01100729],[1291593600000,0.01100729],[1291680000000,0.01100729],[1291766400000,0.01100729],[1291852800000,0.01100729],[1291939200000,0.01100729],[1292198400000,0.01100729],[1292284800000,0.01100729],[1292371200000,0.01100729],[1292457600000,0.01100729],[1292544000000,0.01100729],[1292803200000,0.01100729],[1292889600000,0.01100729],[1292976000000,0.20090759],[1293062400000,0.38397451],[1293148800000,0.38397451],[1293408000000,0.33405939],[1293494400000,0.33405939],[1293580800000,0.33405939],[1293667200000,0.28407066],[1293753600000,0.08423015],[1294099200000,0.03439715],[1294185600000,0.03439715],[1294272000000,0.03439715],[1294358400000,0.04733153],[1294617600000,0.04733153],[1294704000000,0.10583805],[1294790400000,0.05588052],[1294876800000,0.00588057],[1294963200000,0.00588057],[1295222400000,0.04527213],[1295308800000,0.30305463],[1295395200000,0.30305463],[1295481600000,0.25312503],[1295568000000,0.20313171],[1295827200000,0.15322671],[1295913600000,0.30489725],[1296000000000,0.38767085],[1296086400000,0.38767085],[1296172800000,0.33768065],[1296432000000,0.23777273],[1296518400000,0.03795501],[1297209600000,0.03795501],[1297296000000,0.03795501],[1297382400000,0.03795501],[1297641600000,0.03795501],[1297728000000,0.03795501],[1297814400000,0.03795501],[1297900800000,0.03795501],[1297987200000,0.03795501],[1298246400000,0.03795501],[1298332800000,0.03795501],[1298419200000,0.03795501],[1298505600000,0.03795501],[1298592000000,0.03795501],[1298851200000,0.03795501],[1298937600000,0.03795501],[1299024000000,0.03795501],[1299110400000,0.03795501],[1299196800000,0.03795501],[1299456000000,0.03795501],[1299542400000,0.03795501],[1299628800000,0.03795501],[1299715200000,0.04761341],[1299801600000,0.04761341],[1300060800000,0.04761341],[1300147200000,0.04761341],[1300233600000,0.04761341],[1300320000000,0.04761341],[1300406400000,0.04761341],[1300665600000,0.04761341],[1300752000000,0.04761341],[1300838400000,0.04761341],[1300924800000,0.04761341],[1301011200000,0.04761341],[1301270400000,0.04761341],[1301356800000,0.04761341],[1301443200000,0.04761341],[1301529600000,0.03903309],[1301616000000,0.03903309],[1302048000000,0.03903309],[1302134400000,0.02554434],[1302220800000,0.02554434],[1302480000000,0.02554434],[1302566400000,0.02554434],[1302652800000,0.02554434],[1302739200000,0.02554434],[1302825600000,0.02554434],[1303084800000,0.02554434],[1303171200000,0.02554434],[1303257600000,0.02554434],[1303344000000,0.02554434],[1303430400000,0.02554434],[1303689600000,0.02554434],[1303776000000,0.02031043],[1303862400000,0.02031043],[1303948800000,0.14313694],[1304035200000,0.47863325],[1304380800000,0.37864891],[1304467200000,0.22878936],[1304553600000,0.25324477],[1304640000000,0.20334487],[1304899200000,0.20334487],[1304985600000,0.15336017],[1305072000000,0.32628028],[1305158400000,0.07640514],[1305244800000,0.02641019],[1305504000000,0.02641019],[1305590400000,0.0211033],[1305676800000,0.00978132],[1305763200000,0.00978132],[1305849600000,0.00978132],[1306108800000,0.00978132],[1306195200000,0.09241329],[1306281600000,0.13686861],[1306368000000,0.13439262],[1306454400000,0.18003269],[1306713600000,0.18003269],[1306800000000,0.20456265],[1306886400000,0.15460519],[1306972800000,0.10491345],[1307059200000,0.05496465],[1307404800000,0.05496465],[1307491200000,0.00510825],[1307577600000,0.00510825],[1307664000000,0.00510825],[1307923200000,0.00510825],[1308009600000,0.00510825],[1308096000000,0.00510825],[1308182400000,0.00510825],[1308268800000,0.00510825],[1308528000000,0.00510825],[1308614400000,0.00510825],[1308700800000,0.00510825],[1308787200000,0.00510825],[1308873600000,0.00510825],[1309132800000,0.00510825],[1309219200000,0.00510825],[1309305600000,0.00510825],[1309392000000,0.00510825],[1309478400000,0.00510825],[1309737600000,0.00510825],[1309824000000,0.00510825],[1309910400000,0.00510825],[1309996800000,0.00510825],[1310083200000,0.00510825],[1310342400000,0.00510825],[1310428800000,0.00510825],[1310515200000,0.00510825],[1310601600000,0.00510825],[1310688000000,0.00510825],[1310947200000,0.00510825],[1311033600000,0.00510825],[1311120000000,0.00510825],[1311206400000,0.00510825],[1311292800000,0.00510825],[1311552000000,0.00510825],[1311638400000,0.00510825],[1311724800000,0.00510825],[1311811200000,0.08687645],[1311897600000,0.03782525],[1312156800000,0.03782525],[1312243200000,0.03782525],[1312329600000,0.03782525],[1312416000000,0.03782525],[1312502400000,0.15783605],[1312761600000,0.1078581],[1312848000000,0.18674994],[1312934400000,0.0373332],[1313020800000,0.0373332],[1313107200000,0.0373332],[1313366400000,0.0373332],[1313452800000,0.0373332],[1313539200000,0.0373332],[1313625600000,0.0373332],[1313712000000,0.17800695],[1313971200000,0.17800695],[1314057600000,0.17800695],[1314144000000,0.17800695],[1314230400000,0.12805925],[1314316800000,0.12805925],[1314576000000,0.12805925],[1314662400000,0.0780652],[1314748800000,0.02947735],[1314835200000,0.02947735],[1314921600000,0.02947735],[1315180800000,0.07059997],[1315267200000,0.02060333],[1315353600000,0.02060333],[1315440000000,0.02060333],[1315526400000,0.02060333],[1315872000000,0.02060333],[1315958400000,0.02060333],[1316044800000,0.11146614],[1316131200000,0.06147339],[1316390400000,0.06147339],[1316476800000,0.35267899],[1316563200000,0.35267899],[1316649600000,0.35267899],[1316736000000,0.35267899],[1316995200000,0.35267899],[1317081600000,0.68803303],[1317168000000,0.73153784],[1317254400000,0.8183068],[1317340800000,0.8183068],[1318204800000,0.8183068],[1318291200000,0.8183068],[1318377600000,0.94488055],[1318464000000,0.94488055],[1318550400000,0.94488055],[1318809600000,0.94488055],[1318896000000,0.94488055],[1318982400000,0.94488055],[1319068800000,0.94488055],[1319155200000,0.94488055],[1319414400000,0.94488055],[1319500800000,0.94488055],[1319587200000,0.89490842],[1319673600000,0.84492712],[1319760000000,0.84492712],[1320019200000,0.84492712],[1320105600000,0.7950399],[1320192000000,0.7450671],[1320278400000,0.49522449],[1320364800000,0.49522449],[1320624000000,0.44530737],[1320710400000,0.44530737],[1320796800000,0.44530737],[1320883200000,0.34532229],[1320969600000,0.34532229],[1321228800000,0.34532229],[1321315200000,0.19562633],[1321401600000,0.09590928],[1321488000000,0.09590928],[1321574400000,0.09590928],[1321833600000,0.09590928],[1321920000000,0.09590928],[1322006400000,0.09590928],[1322092800000,0.04600978],[1322179200000,0.04600978],[1322438400000,0.04600978],[1322524800000,0.04600978],[1322611200000,0.04600978],[1322697600000,0.04600978],[1322784000000,0.04600978],[1323043200000,0.04600978],[1323129600000,0.04600978],[1323216000000,0.04600978],[1323302400000,0.04600978],[1323388800000,0.04600978],[1323648000000,0.04600978],[1323734400000,0.04600978],[1323820800000,0.04600978],[1323907200000,0.53369524],[1323993600000,0.53369524],[1324252800000,0.43373396],[1324339200000,0.38377436],[1324425600000,0.28382108],[1324512000000,0.28382108],[1324598400000,0.28382108],[1324857600000,0.28382108],[1324944000000,0.32265212],[1325030400000,0.32265212],[1325116800000,0.32265212],[1325203200000,0.32265212],[1325635200000,0.32265212],[1325721600000,0.40789706],[1325808000000,0.44839367],[1326067200000,0.44839367],[1326153600000,0.44839367],[1326240000000,0.44839367],[1326326400000,0.44839367],[1326412800000,0.44839367],[1326672000000,0.60685811],[1326758400000,0.60685811],[1326844800000,0.55686833],[1326931200000,0.89331416],[1327017600000,0.79331741],[1327881600000,0.54346315],[1327968000000,0.49350337],[1328054400000,0.49350337],[1328140800000,0.49350337],[1328227200000,0.39354562],[1328486400000,0.39354562],[1328572800000,0.39354562],[1328659200000,0.39354562],[1328745600000,0.39354562],[1328832000000,0.3435487],[1329091200000,0.2935559],[1329177600000,0.2935559],[1329264000000,0.2935559],[1329350400000,0.2935559],[1329436800000,0.2935559],[1329696000000,0.24357478],[1329782400000,0.19360546],[1329868800000,0.14360596],[1329955200000,0.09362491],[1330041600000,0.09362491],[1330300800000,0.09362491],[1330387200000,0.09362491],[1330473600000,0.04365641],[1330560000000,0.04365641],[1330646400000,0.04365641],[1330905600000,0.04365641],[1330992000000,0.04365641],[1331078400000,0.04365641],[1331164800000,0.04365641],[1331251200000,0.04365641],[1331510400000,0.04365641],[1331596800000,0.04365641],[1331683200000,0.04365641],[1331769600000,0.04365641],[1331856000000,0.04365641],[1332115200000,0.04365641],[1332201600000,0.08982098],[1332288000000,0.08982098],[1332374400000,0.08982098],[1332460800000,0.08982098],[1332720000000,0.08982098],[1332806400000,0.08982098],[1332892800000,0.13610618],[1332979200000,0.22456793],[1333065600000,0.26639829],[1333584000000,0.26639829],[1333670400000,0.21660554],[1333929600000,0.16661432],[1334016000000,0.16661432],[1334102400000,0.16661432],[1334188800000,0.0167153],[1334275200000,0.0167153],[1334534400000,0.0167153],[1334620800000,0.0167153],[1334707200000,0.0167153],[1334793600000,0.0167153],[1334880000000,0.0167153],[1335139200000,0.0167153],[1335225600000,0.0167153],[1335312000000,0.0167153],[1335398400000,0.0167153],[1335484800000,0.0167153],[1335916800000,0.0167153],[1336003200000,0.0167153],[1336089600000,0.0167153],[1336348800000,0.0167153],[1336435200000,0.0167153],[1336521600000,0.0167153],[1336608000000,0.0167153],[1336694400000,0.0167153],[1336953600000,0.0167153],[1337040000000,0.10611622],[1337126400000,0.00616146],[1337212800000,0.00616146],[1337299200000,0.00616146],[1337558400000,0.09969485],[1337644800000,0.04985425],[1337731200000,0.04985425],[1337817600000,0.04985425],[1337904000000,0.04985425],[1338163200000,0.13785215],[1338249600000,0.03793716],[1338336000000,0.03793716],[1338422400000,0.03793716],[1338508800000,0.03793716],[1338768000000,0.03793716],[1338854400000,0.03793716],[1338940800000,0.03793716],[1339027200000,0.03793716],[1339113600000,0.03793716],[1339372800000,0.07932343],[1339459200000,0.02937217],[1339545600000,0.02937217],[1339632000000,0.02937217],[1339718400000,0.02937217],[1339977600000,0.01624644],[1340064000000,0.01624644],[1340150400000,0.01624644],[1340236800000,0.01624644],[1340582400000,0.01624644],[1340668800000,0.01624644],[1340755200000,0.01624644],[1340841600000,0.01624644],[1340928000000,0.01624644],[1341187200000,0.01624644],[1341273600000,0.01624644],[1341360000000,0.01624644],[1341446400000,0.01624644],[1341532800000,0.01624644],[1341792000000,0.01624644],[1341878400000,0.00949061],[1341964800000,0.00949061],[1342051200000,0.00949061],[1342137600000,0.00949061],[1342396800000,0.00949061],[1342483200000,0.04711214],[1342569600000,0.04711214],[1342656000000,0.04711214],[1342742400000,0.04711214],[1343001600000,0.04711214],[1343088000000,0.04711214],[1343174400000,0.04711214],[1343260800000,0.03287926],[1343347200000,0.03287926],[1343606400000,0.03287926],[1343692800000,0.07367756],[1343779200000,0.07367756],[1343865600000,0.02382659],[1343952000000,0.02382659],[1344211200000,0.01820472],[1344297600000,0.01820472],[1344384000000,0.01820472],[1344470400000,0.01820472],[1344556800000,0.01820472],[1344816000000,0.01820472],[1344902400000,0.01259258],[1344988800000,0.00627271],[1345075200000,0.00627271],[1345161600000,0.00627271],[1345420800000,0.00097765],[1345507200000,0.00097765],[1345593600000,0.00097765],[1345680000000,0.00097765],[1345766400000,0.00097765],[1346025600000,0.00097765],[1346112000000,0.08772711],[1346198400000,0.08772711],[1346284800000,0.03775596],[1346371200000,0.19557996],[1346630400000,0.19557996],[1346716800000,0.09563424],[1346803200000,0.04567524],[1346889600000,0.04567524],[1346976000000,0.04567524],[1347235200000,0.04567524],[1347321600000,0.04567524],[1347408000000,0.04567524],[1347494400000,0.04567524],[1347580800000,0.04567524],[1347840000000,0.04567524],[1347926400000,0.04244784],[1348012800000,0.13073376],[1348099200000,0.13073376],[1348185600000,0.1201252],[1348444800000,0.0701456],[1348531200000,0.02018912],[1348617600000,0.02018912],[1348704000000,0.02018912],[1348790400000,0.02018912],[1349654400000,0.02018912],[1349740800000,0.02018912],[1349827200000,0.02018912],[1349913600000,0.02018912],[1350000000000,0.02018912],[1350259200000,0.02018912],[1350345600000,0.02018912],[1350432000000,0.02018912],[1350518400000,0.02018912],[1350604800000,0.02018912],[1350864000000,0.02018912],[1350950400000,0.02018912],[1351036800000,0.02018912],[1351123200000,0.02018912],[1351209600000,0.02018912],[1351468800000,0.02018912],[1351555200000,0.04629847],[1351641600000,0.04629847],[1351728000000,0.04629847],[1351814400000,0.04629847],[1352073600000,0.04629847],[1352160000000,0.04629847],[1352246400000,0.04629847],[1352332800000,0.04629847],[1352419200000,0.04629847],[1352678400000,0.04629847],[1352764800000,0.04629847],[1352851200000,0.04629847],[1352937600000,0.04629847],[1353024000000,0.04629847],[1353283200000,0.09005287],[1353369600000,0.09005287],[1353456000000,0.04007287],[1353542400000,0.04007287],[1353628800000,0.04007287],[1353888000000,0.04007287],[1353974400000,0.04368534],[1354060800000,0.13238718],[1354147200000,0.28723076],[1354233600000,0.28723076],[1354492800000,0.1373706],[1354579200000,0.08742792],[1354665600000,0.02077435],[1354752000000,0.02077435],[1354838400000,0.02077435],[1355097600000,0.02077435],[1355184000000,0.02077435],[1355270400000,0.02077435],[1355356800000,0.02077435],[1355443200000,0.02077435],[1355702400000,0.02077435],[1355788800000,0.02077435],[1355875200000,0.02077435],[1355961600000,0.02077435],[1356048000000,0.02077435],[1356307200000,0.02077435],[1356393600000,0.02077435],[1356480000000,0.02077435],[1356566400000,0.02077435],[1356652800000,0.02077435],[1356912000000,0.02077435],[1357257600000,0.02077435],[1357516800000,0.02077435],[1357603200000,0.02077435],[1357689600000,0.02077435],[1357776000000,0.02077435],[1357862400000,0.02077435],[1358121600000,0.02077435],[1358208000000,0.02077435],[1358294400000,0.02077435],[1358380800000,0.02077435],[1358467200000,0.02077435],[1358726400000,0.02077435],[1358812800000,0.02077435],[1358899200000,0.02077435],[1358985600000,0.02077435],[1359072000000,0.02077435],[1359331200000,0.02077435],[1359417600000,0.02077435],[1359504000000,0.02077435],[1359590400000,0.02077435],[1359676800000,0.02077435],[1359936000000,0.02077435],[1360022400000,0.02077435],[1360108800000,0.02077435],[1360195200000,0.02077435],[1360281600000,0.02077435],[1361145600000,0.02077435],[1361232000000,0.02077435],[1361318400000,0.02077435],[1361404800000,0.02077435],[1361491200000,0.02077435],[1361750400000,0.02077435],[1361836800000,0.02077435],[1361923200000,0.02077435],[1362009600000,0.02077435],[1362096000000,0.02077435],[1362355200000,0.02077435],[1362441600000,0.02077435],[1362528000000,0.02077435],[1362614400000,0.02077435],[1362700800000,0.02077435],[1362960000000,0.02077435],[1363046400000,0.02077435],[1363132800000,0.05625415],[1363219200000,0.05625415],[1363305600000,0.00627381],[1363564800000,0.00627381],[1363651200000,0.00627381],[1363737600000,0.00627381],[1363824000000,0.00627381],[1363910400000,0.00627381],[1364169600000,0.00627381],[1364256000000,0.00627381],[1364342400000,0.00627381],[1364428800000,0.00627381],[1364515200000,0.00627381],[1364774400000,0.00627381],[1364860800000,0.00627381],[1364947200000,0.00627381],[1365379200000,0.00627381],[1365465600000,0.00627381],[1365552000000,0.00627381],[1365638400000,0.00627381],[1365724800000,0.00627381],[1365984000000,0.00627381],[1366070400000,0.00627381],[1366156800000,0.00627381],[1366243200000,0.00627381],[1366329600000,0.00627381],[1366588800000,0.00627381],[1366675200000,0.00627381],[1366761600000,0.00538198],[1366848000000,0.00538198],[1366934400000,0.00538198],[1367452800000,0.00538198],[1367539200000,0.00538198],[1367798400000,0.00538198],[1367884800000,0.00538198],[1367971200000,0.00538198],[1368057600000,0.00538198],[1368144000000,0.00538198],[1368403200000,0.00538198],[1368489600000,0.00538198],[1368576000000,0.00538198],[1368662400000,0.00538198],[1368748800000,0.00538198],[1369008000000,0.00538198],[1369094400000,0.00538198],[1369180800000,0.00538198],[1369267200000,0.00538198],[1369353600000,0.00538198],[1369612800000,0.00538198],[1369699200000,0.00538198],[1369785600000,0.00538198],[1369872000000,0.00538198],[1369958400000,0.00538198],[1370217600000,0.00538198],[1370304000000,0.00538198],[1370390400000,0.00538198],[1370476800000,0.00538198],[1370563200000,0.00538198],[1371081600000,0.05033499],[1371168000000,0.14664939],[1371427200000,0.04667769],[1371513600000,0.04462096],[1371600000000,0.04462096],[1371686400000,0.04462096],[1371772800000,0.16239675],[1372032000000,0.16239675],[1372118400000,0.11240267],[1372204800000,0.06240416],[1372291200000,0.01241296],[1372377600000,0.01241296],[1372636800000,0.01241296],[1372723200000,0.01241296],[1372809600000,0.01241296],[1372896000000,0.01241296],[1372982400000,0.01241296],[1373241600000,0.01241296],[1373328000000,0.01241296],[1373414400000,0.01241296],[1373500800000,0.01241296],[1373587200000,0.01241296],[1373846400000,0.01241296],[1373932800000,0.01241296],[1374019200000,0.01241296],[1374105600000,0.01241296],[1374192000000,0.01241296],[1374451200000,0.01241296],[1374537600000,0.01241296],[1374624000000,0.01241296],[1374710400000,0.01241296],[1374796800000,0.01241296],[1375056000000,0.01241296],[1375142400000,0.01241296],[1375228800000,0.01241296],[1375315200000,0.01241296],[1375401600000,0.01241296],[1375660800000,0.01241296],[1375747200000,0.01241296],[1375833600000,0.01241296],[1375920000000,0.01241296],[1376006400000,0.01241296],[1376265600000,0.04870201],[1376352000000,0.04870201],[1376438400000,0.04870201],[1376524800000,0.04870201],[1376611200000,0.04870201],[1376870400000,0.04870201],[1376956800000,0.04870201],[1377043200000,0.02969092],[1377129600000,0.02969092],[1377216000000,0.02969092],[1377475200000,0.02969092],[1377561600000,0.02969092],[1377648000000,0.02969092],[1377734400000,0.02969092],[1377820800000,0.02969092],[1378080000000,0.02969092],[1378166400000,0.02969092],[1378252800000,0.02969092],[1378339200000,0.02969092],[1378425600000,0.02969092],[1378684800000,0.02969092],[1378771200000,0.02969092],[1378857600000,0.02969092],[1378944000000,0.02969092],[1379030400000,0.02969092],[1379289600000,0.02969092],[1379376000000,0.02969092],[1379462400000,0.02969092],[1379894400000,0.02969092],[1379980800000,0.02969092],[1380067200000,0.02969092],[1380153600000,0.02969092],[1380240000000,0.02969092],[1380499200000,0.01410546],[1381190400000,0.01410546],[1381276800000,0.01136074],[1381363200000,0.01136074],[1381449600000,0.01136074],[1381708800000,0.01136074],[1381795200000,0.01136074],[1381881600000,0.00450225],[1381968000000,0.00450225],[1382054400000,0.00450225],[1382313600000,0.00450225],[1382400000000,0.00450225],[1382486400000,0.00450225],[1382572800000,0.00450225],[1382659200000,0.00450225],[1382918400000,0.00450225],[1383004800000,0.03246025],[1383091200000,0.03246025],[1383177600000,0.03246025],[1383264000000,0.03246025],[1383523200000,0.11677774],[1383609600000,0.0168496],[1383696000000,0.0168496],[1383782400000,0.13606576],[1383868800000,0.1796602],[1384128000000,0.12966438],[1384214400000,0.02971188],[1384300800000,0.02971188],[1384387200000,0.02971188],[1384473600000,0.08788601],[1384732800000,0.03793226],[1384819200000,0.03793226],[1384905600000,0.03793226],[1384992000000,0.03793226],[1385078400000,0.03793226],[1385337600000,0.03793226],[1385424000000,0.03793226],[1385510400000,0.03793226],[1385596800000,0.03105416],[1385683200000,0.03105416],[1385942400000,0.03105416],[1386028800000,0.03926493],[1386115200000,0.03926493],[1386201600000,0.03926493],[1386288000000,0.4739743],[1386547200000,0.32410132],[1386633600000,0.17420587],[1386720000000,0.07431491],[1386806400000,0.07431491],[1386892800000,0.07431491],[1387152000000,0.02441033],[1387238400000,0.02441033],[1387324800000,0.02497904],[1387411200000,0.02497904],[1387497600000,0.01483718],[1387756800000,0.01483718],[1387843200000,0.01483718],[1387929600000,0.01483718],[1388016000000,0.01483718],[1388102400000,0.10644666],[1388361600000,0.05646438],[1388448000000,0.02734513],[1388620800000,0.02734513],[1388707200000,0.02734513],[1388966400000,0.02013005],[1389052800000,0.02013005],[1389139200000,0.02013005],[1389225600000,0.02013005],[1389312000000,0.02013005],[1389571200000,0.02013005],[1389657600000,0.02013005],[1389744000000,0.02013005],[1389830400000,0.00459082],[1389916800000,0.00459082],[1390176000000,0.04685952],[1390262400000,0.04685952],[1390348800000,0.04685952],[1390435200000,0.04685952],[1390521600000,0.04685952],[1390780800000,0.04685952],[1390867200000,0.04685952],[1390953600000,0.04685952],[1391040000000,0.04685952],[1391731200000,0.04685952],[1391990400000,0.04685952],[1392076800000,0.04685952],[1392163200000,0.04685952],[1392249600000,0.04685952],[1392336000000,0.04685952],[1392595200000,0.04685952],[1392681600000,0.04685952],[1392768000000,0.04685952],[1392854400000,0.04685952],[1392940800000,0.04685952],[1393200000000,0.04685952],[1393286400000,0.02598001],[1393372800000,0.06879103],[1393459200000,0.05514533],[1393545600000,0.00517057],[1393804800000,0.00517057],[1393891200000,0.00517057],[1393977600000,0.00517057],[1394064000000,0.00517057],[1394150400000,0.00517057],[1394409600000,0.00517057],[1394496000000,0.00517057],[1394582400000,0.00517057],[1394668800000,0.00517057],[1394755200000,0.00517057],[1395014400000,0.00517057],[1395100800000,0.00517057],[1395187200000,0.00517057],[1395273600000,0.00517057],[1395360000000,0.04605127],[1395619200000,0.04605127],[1395705600000,0.04605127],[1395792000000,0.04605127],[1395878400000,0.04605127],[1395964800000,0.10044292],[1396224000000,0.08887691],[1396310400000,0.03894139],[1396396800000,0.03894139],[1396483200000,0.03386421],[1396569600000,0.03386421],[1396915200000,0.03386421],[1397001600000,0.03386421],[1397088000000,0.03386421],[1397174400000,0.03386421],[1397433600000,0.03386421],[1397520000000,0.03386421],[1397606400000,0.03386421],[1397692800000,0.03386421],[1397779200000,0.03386421],[1398038400000,0.03386421],[1398124800000,0.03386421],[1398211200000,0.21121592],[1398297600000,0.01129151],[1398384000000,0.01129151],[1398643200000,0.03298679],[1398729600000,0.17396711],[1398816000000,0.17396711],[1399248000000,0.17396711],[1399334400000,0.17396711],[1399420800000,0.17396711],[1399507200000,0.17396711],[1399593600000,0.22559171],[1399852800000,0.26454187],[1399939200000,0.21458007],[1400025600000,0.21458007],[1400112000000,0.21458007],[1400198400000,0.25797094],[1400457600000,0.25797094],[1400544000000,0.25797094],[1400630400000,0.24654592],[1400716800000,0.19659768],[1400803200000,0.19659768],[1401062400000,0.0966354],[1401148800000,0.0966354],[1401235200000,0.0466617],[1401321600000,0.0466617],[1401408000000,0.04236305],[1401753600000,0.04236305],[1401840000000,0.04236305],[1401926400000,0.04236305],[1402012800000,0.04236305],[1402272000000,0.04236305],[1402358400000,0.04236305],[1402444800000,0.04236305],[1402531200000,0.04236305],[1402617600000,0.04236305],[1402876800000,0.04236305],[1402963200000,0.04236305],[1403049600000,0.04236305],[1403136000000,0.04236305],[1403222400000,0.17249094],[1403481600000,0.12253693],[1403568000000,0.07255392],[1403654400000,0.02262104],[1403740800000,0.02262104],[1403827200000,0.02262104],[1404086400000,0.02262104],[1404172800000,0.02262104],[1404259200000,0.02262104],[1404345600000,0.02262104],[1404432000000,0.02262104],[1404691200000,0.02262104],[1404777600000,0.04823496],[1404864000000,0.04823496],[1404950400000,0.04823496],[1405036800000,0.04580178],[1405296000000,0.04580178],[1405382400000,0.04580178],[1405468800000,0.04580178],[1405555200000,0.04580178],[1405641600000,0.04142743],[1405900800000,0.04142743],[1405987200000,0.04142743],[1406073600000,0.04142743],[1406160000000,0.04142743],[1406246400000,0.04142743],[1406505600000,0.04142743],[1406592000000,0.04142743],[1406678400000,0.04142743],[1406764800000,0.04142743],[1406851200000,0.04142743],[1407110400000,0.04142743],[1407196800000,0.04142743],[1407283200000,0.04142743],[1407369600000,0.04142743],[1407456000000,0.04142743],[1407715200000,0.04142743],[1407801600000,0.04142743],[1407888000000,0.04142743],[1407974400000,0.04142743],[1408060800000,0.04142743],[1408320000000,0.04142743],[1408406400000,0.04142743],[1408492800000,0.04142743],[1408579200000,0.04142743],[1408665600000,0.04142743],[1408924800000,0.04142743],[1409011200000,0.04142743],[1409097600000,0.04142743],[1409184000000,0.04142743],[1409270400000,0.04142743],[1409529600000,0.04142743],[1409616000000,0.04142743],[1409702400000,0.04142743],[1409788800000,0.04142743],[1409875200000,0.04142743],[1410220800000,0.04142743],[1410307200000,0.04142743],[1410393600000,0.04142743],[1410480000000,0.04142743],[1410739200000,0.04142743],[1410825600000,0.04142743],[1410912000000,0.04142743],[1410998400000,0.04142743],[1411084800000,0.04655902],[1411344000000,0.04655902],[1411430400000,0.04655902],[1411516800000,0.04655902],[1411603200000,0.04655902],[1411689600000,0.04655902],[1411948800000,0.04655902],[1412035200000,0.04655902],[1412726400000,0.04655902],[1412812800000,0.04655902],[1412899200000,0.04655902],[1413158400000,0.04655902],[1413244800000,0.04713018],[1413331200000,0.04713018],[1413417600000,0.04713018],[1413504000000,0.04713018],[1413763200000,0.04713018],[1413849600000,0.04713018],[1413936000000,0.04573861],[1414022400000,0.04573861],[1414108800000,0.04573861],[1414368000000,0.04561117],[1414454400000,0.04561117],[1414540800000,0.04561117],[1414627200000,0.04561117],[1414713600000,0.04561117],[1414972800000,0.04561117],[1415059200000,0.04561117],[1415145600000,0.04561117],[1415232000000,0.02891498],[1415318400000,0.02891498],[1415577600000,0.02891498],[1415664000000,0.02891498],[1415750400000,0.00479963],[1415836800000,0.00479963],[1415923200000,0.00479963],[1416182400000,0.00479963],[1416268800000,0.00479963],[1416355200000,0.00479963],[1416441600000,0.00479963],[1416528000000,0.00479963],[1416787200000,0.00479963],[1416873600000,0.00479963],[1416960000000,0.00479963],[1417046400000,0.00479963],[1417132800000,0.00479963],[1417392000000,0.00479963],[1417478400000,0.00479963],[1417564800000,0.00479963],[1417651200000,0.00479963],[1417737600000,0.00479963],[1417996800000,0.00479963],[1418083200000,0.017558],[1418169600000,0.017558],[1418256000000,0.017558],[1418342400000,0.017558],[1418601600000,0.017558],[1418688000000,0.017558],[1418774400000,0.017558],[1418860800000,0.017558],[1418947200000,0.017558],[1419206400000,0.01762133],[1419292800000,0.01762133],[1419379200000,0.01762133],[1419465600000,0.01762133],[1419552000000,0.01762133],[1419811200000,0.01762133],[1419897600000,0.01762133],[1419984000000,0.01762133],[1420416000000,0.01762133],[1420502400000,0.01762133],[1420588800000,0.01762133],[1420675200000,0.01762133],[1420761600000,0.01762133],[1421020800000,0.01762133],[1421107200000,0.01762133],[1421193600000,0.01762133],[1421280000000,0.01762133],[1421366400000,0.01762133],[1421625600000,0.01762133],[1421712000000,0.01762133],[1421798400000,0.01762133],[1421884800000,0.01762133],[1421971200000,0.01762133],[1422230400000,0.01762133],[1422316800000,0.01762133],[1422403200000,0.01762133],[1422489600000,0.01762133],[1422576000000,0.01762133],[1422835200000,0.01762133],[1422921600000,0.01762133],[1423008000000,0.01762133],[1423094400000,0.01762133],[1423180800000,0.01762133],[1423440000000,0.01762133],[1423526400000,0.01762133],[1423612800000,0.01762133],[1423699200000,0.01762133],[1423785600000,0.01762133],[1424044800000,0.01762133],[1424131200000,0.01762133],[1424822400000,0.01762133],[1424908800000,0.01762133],[1424995200000,0.01762133],[1425254400000,0.01762133],[1425340800000,0.01762133],[1425427200000,0.01762133],[1425513600000,0.01762133],[1425600000000,0.01762133],[1425859200000,0.01762133],[1425945600000,0.01762133],[1426032000000,0.01762133],[1426118400000,0.01762133],[1426204800000,0.01762133],[1426464000000,0.01762133],[1426550400000,0.01762133],[1426636800000,0.01762133],[1426723200000,0.01762133],[1426809600000,0.01762133],[1427068800000,0.01762133],[1427155200000,0.01762133],[1427241600000,0.01762133],[1427328000000,0.01762133],[1427414400000,0.01762133],[1427673600000,0.01762133],[1427760000000,0.01762133],[1427846400000,0.01762133],[1427932800000,0.01762133],[1428019200000,0.01762133],[1428364800000,0.01762133],[1428451200000,0.01762133],[1428537600000,0.01762133],[1428624000000,0.01762133],[1428883200000,0.01762133],[1428969600000,0.01762133],[1429056000000,0.01762133],[1429142400000,0.01762133],[1429228800000,0.01762133],[1429488000000,0.01762133],[1429574400000,0.01762133],[1429660800000,0.01762133],[1429747200000,0.01762133],[1429833600000,0.01762133],[1430092800000,0.01762133],[1430179200000,0.01762133],[1430265600000,0.01762133],[1430352000000,0.01762133],[1430697600000,0.01762133],[1430784000000,0.01762133],[1430870400000,0.01762133],[1430956800000,0.01762133],[1431043200000,0.01762133],[1431302400000,0.01762133],[1431388800000,0.01762133],[1431475200000,0.01762133],[1431561600000,0.01762133],[1431648000000,0.01762133],[1431907200000,0.01762133],[1431993600000,0.01762133],[1432080000000,0.01762133],[1432166400000,0.01762133],[1432252800000,0.01762133],[1432512000000,0.01762133],[1432598400000,0.01762133],[1432684800000,0.01762133],[1432771200000,0.01762133],[1432857600000,0.01762133],[1433116800000,0.01762133],[1433203200000,0.01762133],[1433289600000,0.01762133],[1433376000000,0.01762133],[1433462400000,0.01762133],[1433721600000,0.01762133],[1433808000000,0.01762133],[1433894400000,0.01762133],[1433980800000,0.01762133],[1434067200000,0.01762133],[1434326400000,0.01762133],[1434412800000,0.01762133],[1434499200000,0.01762133],[1434585600000,0.01762133],[1434672000000,0.01762133],[1435017600000,0.01762133],[1435104000000,0.01762133],[1435190400000,0.01762133],[1435276800000,0.03534539],[1435536000000,0.03574379],[1435622400000,0.02390921],[1435708800000,0.02390921],[1435795200000,0.09203049],[1435881600000,0.35760043],[1436140800000,0.30778603],[1436227200000,0.5780669],[1436313600000,0.5780669],[1436400000000,0.86942148],[1436486400000,0.81957384],[1436745600000,0.81957384],[1436832000000,0.81957384],[1436918400000,0.81957384],[1437004800000,0.76957976],[1437091200000,0.76957976],[1437350400000,0.7196468],[1437436800000,0.66966215],[1437523200000,0.5699544],[1437609600000,0.5699544],[1437696000000,0.5699544],[1437955200000,0.5200812],[1438041600000,0.7033038],[1438128000000,0.7033038],[1438214400000,0.7033038],[1438300800000,0.6533193],[1438560000000,0.6533193],[1438646400000,0.60347176],[1438732800000,0.60347176],[1438819200000,0.60347176],[1438905600000,0.60347176],[1439164800000,0.55358016],[1439251200000,0.55358016],[1439337600000,0.55358016],[1439424000000,0.55358016],[1439510400000,0.50379408],[1439769600000,0.35397181],[1439856000000,0.25408369],[1439942400000,0.36137987],[1440028800000,0.36137987],[1440115200000,0.43255091],[1440374400000,0.46173391],[1440460800000,0.63699298],[1440547200000,0.63699298],[1440633600000,0.63699298],[1440720000000,0.63699298],[1440979200000,0.63699298],[1441065600000,0.63699298],[1441152000000,0.7363567],[1441584000000,0.7363567],[1441670400000,0.7363567],[1441756800000,0.7363567],[1441843200000,0.7363567],[1441929600000,0.68635708],[1442188800000,0.68635708],[1442275200000,0.68635708],[1442361600000,0.68635708],[1442448000000,0.68635708],[1442534400000,0.63642706],[1442793600000,0.70274386],[1442880000000,0.70274386],[1442966400000,0.90664641],[1443052800000,0.90664641],[1443139200000,0.85672771],[1443398400000,0.85672771],[1443484800000,0.85672771],[1443571200000,0.80676439],[1444262400000,0.80676439],[1444348800000,0.80676439],[1444608000000,0.80676439],[1444694400000,0.80676439],[1444780800000,0.80676439],[1444867200000,0.80676439],[1444953600000,0.75706691],[1445212800000,0.6571976],[1445299200000,0.55749153],[1445385600000,0.50749487],[1445472000000,0.50749487],[1445558400000,0.50749487],[1445817600000,0.40786027],[1445904000000,0.30810663],[1445990400000,0.30810663],[1446076800000,0.20889769],[1446163200000,0.15898057],[1446422400000,0.10907401],[1446508800000,0.00929751],[1446595200000,0.00929751],[1446681600000,0.00929751],[1446768000000,0.00929751],[1447027200000,0.00929751],[1447113600000,0.00929751],[1447200000000,0.00929751],[1447286400000,0.00929751],[1447372800000,0.00929751],[1447632000000,0.00929751],[1447718400000,0.00929751],[1447804800000,0.00929751],[1447891200000,0.00929751],[1447977600000,0.00929751],[1448236800000,0.00929751],[1448323200000,0.00929751],[1448409600000,0.00929751],[1448496000000,0.00929751],[1448582400000,0.00929751],[1448841600000,0.00929751],[1448928000000,0.00929751],[1449014400000,0.00929751],[1449100800000,0.00929751],[1449187200000,0.00929751],[1449446400000,0.00929751],[1449532800000,0.00929751],[1449619200000,0.00929751],[1449705600000,0.42016014],[1449792000000,0.42016014],[1450051200000,0.46523439],[1450137600000,0.41538557],[1450224000000,0.36542267],[1450310400000,0.31562897],[1450396800000,0.2160461],[1450656000000,0.166082],[1450742400000,0.06621082],[1450828800000,0.01624232],[1450915200000,0.01624232],[1451001600000,0.01624232],[1451260800000,0.01624232],[1451347200000,0.01624232],[1451433600000,0.01624232],[1451520000000,0.01624232],[1451865600000,0.01624232],[1451952000000,0.53001621],[1452038400000,0.53001621],[1452124800000,0.53001621],[1452211200000,0.53001621],[1452470400000,0.57366871],[1452556800000,0.76632583],[1452643200000,0.76632583],[1452729600000,0.76632583],[1452816000000,0.76632583],[1453075200000,0.76632583],[1453161600000,0.76632583],[1453248000000,0.76632583],[1453334400000,0.76632583],[1453420800000,0.76632583],[1453680000000,0.79533937],[1453766400000,0.79533937],[1453852800000,0.89159509],[1453939200000,1.0693459],[1454025600000,1.2599194],[1454284800000,1.2599194],[1454371200000,1.2599194],[1454457600000,1.2102607],[1454544000000,1.2102607],[1454630400000,1.2102607],[1455494400000,1.2102607],[1455580800000,1.2102607],[1455667200000,1.2102607],[1455753600000,1.1603031],[1455840000000,1.1603031],[1456099200000,1.1603031],[1456185600000,1.1603031],[1456272000000,1.1603031],[1456358400000,1.1603031],[1456444800000,1.1603031],[1456704000000,1.1603031],[1456790400000,1.1603031],[1456876800000,1.1603031],[1456963200000,1.1603031],[1457049600000,1.1603031],[1457308800000,1.1603031],[1457395200000,1.06035759],[1457481600000,1.06035759],[1457568000000,1.06035759],[1457654400000,1.06035759],[1457913600000,1.06035759],[1458000000000,1.06035759],[1458086400000,1.09757959],[1458172800000,1.09757959],[1458259200000,1.09757959],[1458518400000,1.09757959],[1458604800000,1.09757959],[1458691200000,1.04761933],[1458777600000,1.04761933],[1458864000000,0.99919921],[1459123200000,0.99919921],[1459209600000,0.94936138],[1459296000000,0.94936138],[1459382400000,0.89947567],[1459468800000,0.89947567],[1459814400000,0.79980048],[1459900800000,0.69991568],[1459987200000,0.50130941],[1460073600000,0.40149574],[1460332800000,0.25175858],[1460419200000,0.15198912],[1460505600000,0.10201456],[1460592000000,0.05210902],[1460678400000,0.05210902],[1460937600000,0.00213492],[1461024000000,0.00213492],[1461110400000,0.00213492],[1461196800000,0.00213492],[1461283200000,0.00213492],[1461542400000,0.00213492],[1461628800000,0.00213492],[1461715200000,0.00213492],[1461801600000,0.00213492],[1461888000000,0.00213492],[1462233600000,0.00213492],[1462320000000,0.00213492],[1462406400000,0.00213492],[1462492800000,0.00213492],[1462752000000,0.00213492],[1462838400000,0.00213492],[1462924800000,0.00213492],[1463011200000,0.03026229],[1463097600000,0.03026229],[1463356800000,0.03026229],[1463443200000,0.03026229],[1463529600000,0.03026229],[1463616000000,0.03026229],[1463702400000,0.03026229],[1463961600000,0.03026229],[1464048000000,0.03026229],[1464134400000,0.03026229],[1464220800000,0.03026229],[1464307200000,0.03026229],[1464566400000,0.03026229],[1464652800000,0.03026229],[1464739200000,0.03026229],[1464825600000,0.03026229],[1464912000000,0.03026229],[1465171200000,0.03026229],[1465257600000,0.03026229],[1465344000000,0.03026229],[1465776000000,0.03026229],[1465862400000,0.03026229],[1465948800000,0.03026229],[1466035200000,0.01543488],[1466121600000,0.01543488],[1466380800000,0.01543488],[1466467200000,0.01543488],[1466553600000,0.01543488],[1466640000000,0.01543488],[1466726400000,0.01543488],[1466985600000,0.01543488],[1467072000000,0.01543488],[1467158400000,0.01543488],[1467244800000,0.01543488],[1467331200000,0.01543488],[1467590400000,0.01543488],[1467676800000,0.01543488],[1467763200000,0.01543488],[1467849600000,0.01543488],[1467936000000,0.01543488],[1468195200000,0.01543488],[1468281600000,0.01543488],[1468368000000,0.01543488],[1468454400000,0.01543488],[1468540800000,0.01543488],[1468800000000,0.01543488],[1468886400000,0.01543488],[1468972800000,0.01543488],[1469059200000,0.01543488],[1469145600000,0.01543488],[1469404800000,0.01543488],[1469491200000,0.28620372],[1469577600000,0.03655998],[1469664000000,0.03655998],[1469750400000,0.03655998],[1470009600000,0.03655998],[1470096000000,0.03655998],[1470182400000,0.03655998],[1470268800000,0.03655998],[1470355200000,0.03655998],[1470614400000,0.03655998],[1470700800000,0.03655998],[1470787200000,0.03655998],[1470873600000,0.03655998],[1470960000000,0.03655998],[1471219200000,0.03655998],[1471305600000,0.03655998],[1471392000000,0.03655998],[1471478400000,0.03655998],[1471564800000,0.03655998],[1471824000000,0.03655998],[1471910400000,0.03655998],[1471996800000,0.03655998],[1472083200000,0.03655998],[1472169600000,0.03655998],[1472428800000,0.03655998],[1472515200000,0.03655998],[1472601600000,0.03655998],[1472688000000,0.03655998],[1472774400000,0.03655998],[1473033600000,0.02797416],[1473120000000,0.02797416],[1473206400000,0.02797416],[1473292800000,0.02797416],[1473379200000,0.02797416],[1473638400000,0.13435497],[1473724800000,0.07706593],[1473811200000,0.02715665],[1474243200000,0.02715665],[1474329600000,0.02715665],[1474416000000,0.02715665],[1474502400000,0.02715665],[1474588800000,0.02715665],[1474848000000,0.02715665],[1474934400000,0.2227198],[1475020800000,0.17275005],[1475107200000,0.15526704],[1475193600000,0.00555532],[1476057600000,0.00555532],[1476144000000,0.00555532],[1476230400000,0.00555532],[1476316800000,0.00555532],[1476403200000,0.00555532],[1476662400000,0.00555532],[1476748800000,0.00326601],[1476835200000,0.00326601],[1476921600000,0.00326601],[1477008000000,0.00326601],[1477267200000,0.02352881],[1477353600000,0.02352881],[1477440000000,0.02352881],[1477526400000,0.02352881],[1477612800000,0.02352881],[1477872000000,0.02352881],[1477958400000,0.02352881],[1478044800000,0.02352881],[1478131200000,0.02352881],[1478217600000,0.02352881],[1478476800000,0.02352881],[1478563200000,0.02352881],[1478649600000,0.02352881],[1478736000000,0.02352881],[1478822400000,0.02352881],[1479081600000,0.02352881],[1479168000000,0.02352881],[1479254400000,0.02352881],[1479340800000,0.02352881],[1479427200000,0.02352881],[1479686400000,0.02352881],[1479772800000,0.02715117],[1479859200000,0.02715117],[1479945600000,0.02715117],[1480032000000,0.01986916],[1480291200000,0.0464551],[1480377600000,0.0464551],[1480464000000,0.04110443],[1480550400000,0.04110443],[1480636800000,0.04110443],[1480896000000,0.04110443],[1480982400000,0.04110443],[1481068800000,0.04110443],[1481155200000,0.04110443],[1481241600000,0.04110443],[1481500800000,0.04110443],[1481587200000,0.09944389],[1481673600000,0.05691806],[1481760000000,0.05898963],[1481846400000,0.00683459],[1482105600000,0.00683459],[1482192000000,0.00683459],[1482278400000,0.05126399],[1482364800000,0.00135601],[1482451200000,0.04495994],[1482710400000,0.03871389],[1482796800000,0.03871389],[1482883200000,0.03871389],[1482969600000,0.03871389],[1483056000000,0.03871389],[1483401600000,0.03871389],[1483488000000,0.03871389],[1483574400000,0.03871389],[1483660800000,0.03871389],[1483920000000,0.03871389],[1484006400000,0.03784657],[1484092800000,0.03784657],[1484179200000,0.03784657],[1484265600000,0.03173403],[1484524800000,0.02884663],[1484611200000,0.10219396],[1484697600000,0.00252276],[1484784000000,0.00252276],[1484870400000,0.00405247],[1485129600000,0.00405247],[1485216000000,0.00467722],[1485302400000,0.00467722],[1485388800000,0.00467722],[1486080000000,0.00467722],[1486339200000,0.00467722],[1486425600000,0.00467722],[1486512000000,0.00467722],[1486598400000,0.00467722],[1486684800000,0.00467722],[1486944000000,0.00467722],[1487030400000,0.00467722],[1487116800000,0.00467722],[1487203200000,0.00467722],[1487289600000,0.00467722],[1487548800000,0.00467722],[1487635200000,0.00467722],[1487721600000,0.00467722],[1487808000000,0.00467722],[1487894400000,0.00467722],[1488153600000,0.00467722],[1488240000000,0.00467722],[1488326400000,0.00467722],[1488412800000,0.0023799],[1488499200000,0.0023799],[1488758400000,0.0023799],[1488844800000,0.0023799],[1488931200000,0.0023799],[1489017600000,0.0023799],[1489104000000,0.0023799],[1489363200000,0.0023799],[1489449600000,0.0023799],[1489536000000,0.0023799],[1489622400000,0.0023799],[1489708800000,0.0023799],[1489968000000,0.0023799],[1490054400000,0.0023799],[1490140800000,0.0023799],[1490227200000,0.00056285],[1490313600000,0.04715666],[1490572800000,0.04715666],[1490659200000,0.04715666],[1490745600000,0.04715666],[1490832000000,0.04715666],[1490918400000,0.04508392],[1491350400000,0.04508392],[1491436800000,0.04508392],[1491523200000,0.04508392],[1491782400000,0.04508392],[1491868800000,0.04508392],[1491955200000,0.04508392],[1492041600000,0.04508392],[1492128000000,0.04508392],[1492387200000,0.04508392],[1492473600000,0.04508392],[1492560000000,0.0434066],[1492646400000,0.15414245],[1492732800000,0.00466366],[1492992000000,0.00466366],[1493078400000,0.00466366],[1493164800000,0.00466366],[1493251200000,0.03841432],[1493337600000,0.03841432],[1493683200000,0.03841432],[1493769600000,0.03841432],[1493856000000,0.0347984],[1493942400000,0.0347984],[1494201600000,0.03690916],[1494288000000,0.04667209],[1494374400000,0.04667209],[1494460800000,0.03547073],[1494547200000,0.03547073],[1494806400000,0.03547073],[1494892800000,0.03547073],[1494979200000,0.03547073],[1495065600000,0.03547073],[1495152000000,0.03547073],[1495411200000,0.03547073],[1495497600000,0.03792513],[1495584000000,0.03792513],[1495670400000,0.03792513],[1495756800000,0.03792513],[1496188800000,0.03792513],[1496275200000,0.03792513],[1496361600000,0.03792513],[1496620800000,0.03792513],[1496707200000,0.03792513],[1496793600000,0.03792513],[1496880000000,0.03792513],[1496966400000,0.03792513],[1497225600000,0.03792513],[1497312000000,0.03792513],[1497398400000,0.03792513],[1497484800000,0.03792513],[1497571200000,0.03792513],[1497830400000,0.03792513],[1497916800000,0.03792513],[1498003200000,0.03792513],[1498089600000,0.03792513],[1498176000000,0.03792513],[1498435200000,0.03792513],[1498521600000,0.03792513],[1498608000000,0.03792513],[1498694400000,0.03792513],[1498780800000,0.03792513],[1499040000000,0.03792513],[1499126400000,0.03792513],[1499212800000,0.03792513],[1499299200000,0.03792513],[1499385600000,0.03792513],[1499644800000,0.03792513],[1499731200000,0.0326257],[1499817600000,0.0326257],[1499904000000,0.0326257],[1499990400000,0.0326257],[1500249600000,0.0326257],[1500336000000,0.0326257],[1500422400000,0.0326257],[1500508800000,0.0326257],[1500595200000,0.0326257],[1500854400000,0.0326257],[1500940800000,0.0326257],[1501027200000,0.0326257],[1501113600000,0.0326257],[1501200000000,0.0326257],[1501459200000,0.0326257],[1501545600000,0.0326257],[1501632000000,0.0326257],[1501718400000,0.0326257],[1501804800000,0.0326257],[1502064000000,0.0326257],[1502150400000,0.0326257],[1502236800000,0.04737317],[1502323200000,0.04737317],[1502409600000,0.04737317],[1502668800000,0.04737317],[1502755200000,0.04737317],[1502841600000,0.04737317],[1502928000000,0.04737317],[1503014400000,0.04737317],[1503273600000,0.04737317],[1503360000000,0.04737317],[1503446400000,0.04737317],[1503532800000,0.04737317],[1503619200000,0.01641165],[1503878400000,0.01641165],[1503964800000,0.01641165],[1504051200000,0.01641165],[1504137600000,0.01641165],[1504224000000,0.01641165],[1504483200000,0.01641165],[1504569600000,0.01641165],[1504656000000,0.01641165],[1504742400000,0.01641165],[1504828800000,0.01641165],[1505088000000,0.01641165],[1505174400000,0.01641165],[1505260800000,0.01641165],[1505347200000,0.01641165],[1505433600000,0.03410461],[1505692800000,0.03410461],[1505779200000,0.03410461],[1505865600000,0.03410461],[1505952000000,0.03410461],[1506038400000,0.03410461],[1506297600000,0.03410461],[1506384000000,0.03410461],[1506470400000,0.03410461],[1506556800000,0.03410461],[1506643200000,0.03410461],[1507507200000,0.03410461],[1507593600000,0.03665774],[1507680000000,0.03665774],[1507766400000,0.03665774],[1507852800000,0.04963824],[1508112000000,0.04963824],[1508198400000,0.04963824],[1508284800000,0.04963824],[1508371200000,0.04963824],[1508457600000,0.0427588],[1508716800000,0.0427588],[1508803200000,0.0427588],[1508889600000,0.0427588],[1508976000000,0.0427588],[1509062400000,0.0427588],[1509321600000,0.0427588],[1509408000000,0.0427588],[1509494400000,0.0427588],[1509580800000,0.0427588],[1509667200000,0.0427588],[1509926400000,0.0427588],[1510012800000,0.0427588],[1510099200000,0.0427588],[1510185600000,0.0427588],[1510272000000,0.0427588],[1510531200000,0.0350327],[1510617600000,0.0350327],[1510704000000,0.0350327],[1510790400000,0.0350327],[1510876800000,0.04590864],[1511136000000,0.04590864],[1511222400000,0.00113844],[1511308800000,0.00113844],[1511395200000,0.00113844],[1511481600000,0.00113844],[1511740800000,0.00113844],[1511827200000,0.00113844],[1511913600000,0.00113844],[1512000000000,0.00113844],[1512086400000,0.00113844],[1512345600000,0.00113844],[1512432000000,0.00113844],[1512518400000,0.04610804],[1512604800000,0.04610804],[1512691200000,0.04610804],[1512950400000,0.04610804],[1513036800000,0.04610804],[1513123200000,0.04610804],[1513209600000,0.04610804],[1513296000000,0.04610804],[1513555200000,0.04610804],[1513641600000,0.04610804],[1513728000000,0.04610804],[1513814400000,0.04907712],[1513900800000,0.04907712],[1514160000000,0.04907712],[1514246400000,0.04267162],[1514332800000,0.04267162],[1514419200000,0.04267162],[1514505600000,0.04267162],[1514851200000,0.04267162],[1514937600000,0.04267162],[1515024000000,0.04267162],[1515110400000,0.04267162],[1515369600000,0.04267162],[1515456000000,0.04267162],[1515542400000,0.04267162],[1515628800000,0.04674694],[1515715200000,0.03308629],[1515974400000,0.03308629],[1516060800000,0.00493384],[1516147200000,0.00493384],[1516233600000,0.00493384],[1516320000000,0.00493384],[1516579200000,0.00493384],[1516665600000,0.00493384],[1516752000000,0.00493384],[1516838400000,0.00493384],[1516924800000,0.00493384],[1517184000000,0.00493384],[1517270400000,0.03839252],[1517356800000,0.03839252],[1517443200000,0.03839252],[1517529600000,0.03839252],[1517788800000,0.03839252],[1517875200000,0.02952406],[1517961600000,0.02952406],[1518048000000,0.02993926],[1518134400000,0.02993926],[1518393600000,0.02993926],[1518480000000,0.03815824],[1518566400000,0.03815824],[1519257600000,0.03815824],[1519344000000,0.03815824],[1519603200000,0.03815824],[1519689600000,0.03815824],[1519776000000,0.03815824],[1519862400000,0.03318466],[1519948800000,0.03318466],[1520208000000,0.03318466],[1520294400000,0.03318466],[1520380800000,0.03318466],[1520467200000,0.03318466],[1520553600000,0.03318466],[1520812800000,0.03318466],[1520899200000,0.03318466],[1520985600000,0.03318466],[1521072000000,0.03318466],[1521158400000,0.03318466],[1521417600000,0.03318466],[1521504000000,0.02849548],[1521590400000,0.02849548],[1521676800000,0.02849548],[1521763200000,0.11069405],[1522022400000,0.15382761],[1522108800000,0.15382761],[1522195200000,0.67976909],[1522281600000,0.63000347],[1522368000000,0.58000577],[1522627200000,0.5320746],[1522713600000,0.48263772],[1522800000000,0.27303352],[1523232000000,0.27303352],[1523318400000,0.29532993],[1523404800000,0.24567607],[1523491200000,0.14584347],[1523577600000,0.04645719],[1523836800000,0.04645719],[1523923200000,0.04645719],[1524009600000,0.15175306],[1524096000000,0.10180426],[1524182400000,0.05198918],[1524441600000,0.05198918],[1524528000000,0.00207824],[1524614400000,0.00207824],[1524700800000,0.00207824],[1524787200000,0.00207824],[1525219200000,0.00207824],[1525305600000,0.00207824],[1525392000000,0.00207824],[1525651200000,0.00207824],[1525737600000,0.00207824],[1525824000000,0.00207824],[1525910400000,0.00207824],[1525996800000,0.00207824],[1526256000000,0.00207824],[1526342400000,0.00207824],[1526428800000,0.00207824],[1526515200000,0.00207824],[1526601600000,0.00207824],[1526860800000,0.00207824],[1526947200000,0.00207824],[1527033600000,0.04678904],[1527120000000,0.04678904],[1527206400000,0.02371399],[1527465600000,0.01586125],[1527552000000,0.01586125],[1527638400000,0.01586125],[1527724800000,0.01586125],[1527811200000,0.03387168],[1528070400000,0.03387168],[1528156800000,0.0211879],[1528243200000,0.0211879],[1528329600000,0.0211879],[1528416000000,0.0211879],[1528675200000,0.0211879],[1528761600000,0.0636303],[1528848000000,0.0136303],[1528934400000,0.0136303],[1529020800000,0.0136303],[1529366400000,0.0136303],[1529452800000,0.04989364],[1529539200000,0.04989364],[1529625600000,0.28755964],[1529884800000,0.28755964],[1529971200000,0.28755964],[1530057600000,0.28755964],[1530144000000,0.28755964],[1530230400000,0.28755964],[1530489600000,0.28755964],[1530576000000,0.28755964],[1530662400000,0.28755964],[1530748800000,0.28755964],[1530835200000,0.37682104],[1531094400000,0.37682104],[1531180800000,0.37682104],[1531267200000,0.37682104],[1531353600000,0.37682104],[1531440000000,0.27698104],[1531699200000,0.17775734],[1531785600000,0.07829234],[1531872000000,0.02871184],[1531958400000,0.02871184],[1532044800000,0.02871184],[1532304000000,0.02026084],[1532390400000,0.02026084],[1532476800000,0.02026084],[1532563200000,0.02026084],[1532649600000,0.02026084],[1532908800000,0.06274684],[1532995200000,0.21415424],[1533081600000,0.16439564]]},{\"name\":\"PROPERTY_TURTLE_20_60_60\",\"yAxis\":0,\"data\":[[1222128000000,0.0],[1222214400000,0.0],[1222300800000,0.0],[1222387200000,0.0],[1223251200000,0.0],[1223337600000,0.0],[1223424000000,0.0],[1223510400000,0.0],[1223596800000,0.0],[1223856000000,0.0],[1223942400000,0.0],[1224028800000,0.0],[1224115200000,0.0],[1224201600000,0.0],[1224460800000,0.0],[1224547200000,0.0],[1224633600000,0.0],[1224720000000,0.0],[1224806400000,0.0],[1225065600000,0.0],[1225152000000,0.0],[1225238400000,0.0],[1225324800000,0.0],[1225411200000,0.0],[1225670400000,0.0],[1225756800000,0.0],[1225843200000,0.0],[1225929600000,0.0],[1226016000000,0.0],[1226275200000,0.0],[1226361600000,0.0],[1226448000000,0.0],[1226534400000,0.0],[1226620800000,0.0],[1226880000000,0.0],[1226966400000,0.0],[1227052800000,0.0],[1227139200000,0.0],[1227225600000,0.0],[1227484800000,0.0],[1227571200000,0.0],[1227657600000,0.0],[1227744000000,0.0],[1227830400000,0.0],[1228089600000,0.0],[1228176000000,0.0],[1228262400000,0.0],[1228348800000,0.0],[1228435200000,0.0],[1228694400000,0.0],[1228780800000,0.0],[1228867200000,0.0],[1228953600000,0.0],[1229040000000,0.0],[1229299200000,0.0],[1229385600000,0.0],[1229472000000,0.0],[1229558400000,0.00125356],[1229644800000,0.0010472],[1229904000000,0.001771],[1229990400000,-0.00069247],[1230076800000,-0.00705076],[1230163200000,-0.00390179],[1230249600000,-0.00229458],[1230508800000,-0.00442712],[1230595200000,-0.00427751],[1230681600000,-0.00056458],[1231113600000,-0.00113456],[1231200000000,-0.00311491],[1231286400000,-0.00334481],[1231372800000,-0.00484473],[1231459200000,-0.00788849],[1231718400000,-0.00874329],[1231804800000,-0.00640729],[1231891200000,-0.00889174],[1231977600000,-0.00341205],[1232064000000,-0.00552931],[1232323200000,-0.00886517],[1232409600000,-0.01114548],[1232496000000,-0.0102023],[1232582400000,-0.01027725],[1232668800000,-0.00762375],[1233532800000,-0.00838309],[1233619200000,-0.01037019],[1233705600000,-0.00588701],[1233792000000,-0.00421871],[1233878400000,-0.00840992],[1234137600000,0.00287742],[1234224000000,0.01656857],[1234310400000,0.02803559],[1234396800000,0.04103655],[1234483200000,0.04661198],[1234742400000,0.08602609],[1234828800000,0.08317882],[1234915200000,0.04201237],[1235001600000,0.0384626],[1235088000000,0.04303533],[1235347200000,0.06217779],[1235433600000,0.07682249],[1235520000000,0.05375174],[1235606400000,0.03950175],[1235692800000,-0.0349364],[1235952000000,-0.06518064],[1236038400000,-0.05328822],[1236124800000,-0.01882753],[1236211200000,0.02983293],[1236297600000,0.001543],[1236556800000,0.01284965],[1236643200000,-0.04197852],[1236729600000,-0.00522026],[1236816000000,-0.02925635],[1236902400000,-0.02573958],[1237161600000,-0.03924504],[1237248000000,-0.015246],[1237334400000,0.01663502],[1237420800000,0.01571592],[1237507200000,0.03996748],[1237766400000,0.0251285],[1237852800000,0.04849985],[1237939200000,0.05266282],[1238025600000,0.0280788],[1238112000000,0.04694421],[1238371200000,0.0559064],[1238457600000,0.03718685],[1238544000000,0.08445147],[1238630400000,0.08961017],[1238716800000,0.09032502],[1239062400000,0.07631221],[1239148800000,0.06649338],[1239235200000,0.02895164],[1239321600000,0.04545888],[1239580800000,0.07941355],[1239667200000,0.08192395],[1239753600000,0.09779034],[1239840000000,0.12569372],[1239926400000,0.14172695],[1240185600000,0.1119793],[1240272000000,0.12201285],[1240358400000,0.13387342],[1240444800000,0.07333525],[1240531200000,0.08790101],[1240790400000,0.06510314],[1240876800000,0.04955885],[1240963200000,0.06919741],[1241049600000,0.10016293],[1241395200000,0.11690821],[1241481600000,0.13936449],[1241568000000,0.13271627],[1241654400000,0.1578726],[1241740800000,0.13487346],[1242000000000,0.12471661],[1242086400000,0.08230428],[1242172800000,0.10802152],[1242259200000,0.10108145],[1242345600000,0.1077605],[1242604800000,0.10687158],[1242691200000,0.11824374],[1242777600000,0.13164082],[1242864000000,0.11287952],[1242950400000,0.10510474],[1243209600000,0.09427329],[1243296000000,0.13685241],[1243382400000,0.14637658],[1243814400000,0.15727117],[1243900800000,0.16865537],[1243987200000,0.15732319],[1244073600000,0.16161261],[1244160000000,0.15896484],[1244419200000,0.14834804],[1244505600000,0.14779387],[1244592000000,0.15404554],[1244678400000,0.15349403],[1244764800000,0.14640275],[1245024000000,0.13188105],[1245110400000,0.14520777],[1245196800000,0.14899124],[1245283200000,0.16665271],[1245369600000,0.1793938],[1245628800000,0.18205856],[1245715200000,0.15753614],[1245801600000,0.16790261],[1245888000000,0.17932995],[1245974400000,0.18917579],[1246233600000,0.18164701],[1246320000000,0.20604784],[1246406400000,0.20175734],[1246492800000,0.23220075],[1246579200000,0.2253504],[1246838400000,0.24378046],[1246924800000,0.24259281],[1247011200000,0.235333],[1247097600000,0.24130746],[1247184000000,0.26739433],[1247443200000,0.25856362],[1247529600000,0.2832897],[1247616000000,0.30146345],[1247702400000,0.30369411],[1247788800000,0.28470906],[1248048000000,0.29163443],[1248134400000,0.30230891],[1248220800000,0.27459919],[1248307200000,0.28817049],[1248393600000,0.31379216],[1248652800000,0.30744608],[1248739200000,0.32841983],[1248825600000,0.34390578],[1248912000000,0.28362548],[1248998400000,0.31143579],[1249257600000,0.32113078],[1249344000000,0.3209672],[1249430400000,0.31650903],[1249516800000,0.31052408],[1249603200000,0.31459804],[1249862400000,0.30897931],[1249948800000,0.30552613],[1250035200000,0.31436424],[1250121600000,0.25590728],[1250208000000,0.26851314],[1250467200000,0.19468793],[1250553600000,0.15267894],[1250640000000,0.15853393],[1250726400000,0.12724457],[1250812800000,0.14750646],[1251072000000,0.16937539],[1251158400000,0.17556856],[1251244800000,0.15155781],[1251331200000,0.16044311],[1251417600000,0.17473031],[1251676800000,0.11115345],[1251763200000,0.04496217],[1251849600000,0.05267966],[1251936000000,0.06181845],[1252022400000,0.09729068],[1252281600000,0.13726681],[1252368000000,0.15933057],[1252454400000,0.1672818],[1252540800000,0.16380882],[1252627200000,0.16008718],[1252886400000,0.1990437],[1252972800000,0.22038252],[1253059200000,0.21095876],[1253145600000,0.205273],[1253232000000,0.21585639],[1253491200000,0.18922077],[1253577600000,0.21873812],[1253664000000,0.19466875],[1253750400000,0.14997006],[1253836800000,0.15004681],[1254096000000,0.15034579],[1254182400000,0.13436178],[1254268800000,0.10908133],[1255046400000,0.14602172],[1255305600000,0.17789329],[1255392000000,0.16992562],[1255478400000,0.17898744],[1255564800000,0.18545765],[1255651200000,0.16653212],[1255910400000,0.18286454],[1255996800000,0.21046104],[1256083200000,0.20295528],[1256169600000,0.19396524],[1256256000000,0.20431129],[1256515200000,0.22873251],[1256601600000,0.23636793],[1256688000000,0.21762382],[1256774400000,0.20901236],[1256860800000,0.22109469],[1257120000000,0.21126746],[1257206400000,0.29133787],[1257292800000,0.28192737],[1257379200000,0.28078907],[1257465600000,0.29848395],[1257724800000,0.29011029],[1257811200000,0.2945591],[1257897600000,0.28868015],[1257984000000,0.28926526],[1258070400000,0.28870653],[1258329600000,0.31207633],[1258416000000,0.33427334],[1258502400000,0.33074795],[1258588800000,0.34638739],[1258675200000,0.34531351],[1258934400000,0.3503329],[1259020800000,0.3689021],[1259107200000,0.29390125],[1259193600000,0.32689498],[1259280000000,0.27407434],[1259539200000,0.27526204],[1259625600000,0.30983962],[1259712000000,0.34064879],[1259798400000,0.33417846],[1259884800000,0.35387308],[1260144000000,0.32482852],[1260230400000,0.33778032],[1260316800000,0.31839302],[1260403200000,0.33543563],[1260489600000,0.34301811],[1260748800000,0.34128003],[1260835200000,0.33069479],[1260921600000,0.34093253],[1261008000000,0.33673827],[1261094400000,0.28486755],[1261353600000,0.27149845],[1261440000000,0.29882399],[1261526400000,0.27875702],[1261612800000,0.30427337],[1261699200000,0.33591155],[1261958400000,0.34894226],[1262044800000,0.36514072],[1262131200000,0.369447],[1262217600000,0.36856903],[1262563200000,0.3792854],[1262649600000,0.36801539],[1262736000000,0.38117786],[1262822400000,0.37773082],[1262908800000,0.33320199],[1263168000000,0.35649705],[1263254400000,0.35020956],[1263340800000,0.35709544],[1263427200000,0.39818745],[1263513600000,0.45887031],[1263772800000,0.44769353],[1263859200000,0.46883626],[1263945600000,0.46440651],[1264032000000,0.41617107],[1264118400000,0.40676333],[1264377600000,0.38564592],[1264464000000,0.36264057],[1264550400000,0.33669344],[1264636800000,0.34461264],[1264723200000,0.36355424],[1264982400000,0.38828627],[1265068800000,0.37542357],[1265155200000,0.36131636],[1265241600000,0.34353569],[1265328000000,0.32861283],[1265587200000,0.32781152],[1265673600000,0.32324023],[1265760000000,0.33591338],[1265846400000,0.34513462],[1265932800000,0.34689577],[1266796800000,0.35588692],[1266883200000,0.36096925],[1266969600000,0.37696356],[1267056000000,0.42939715],[1267142400000,0.43640407],[1267401600000,0.44599193],[1267488000000,0.44895801],[1267574400000,0.44629369],[1267660800000,0.45972551],[1267747200000,0.41079227],[1268006400000,0.41374122],[1268092800000,0.42857526],[1268179200000,0.42412692],[1268265600000,0.3930655],[1268352000000,0.39036992],[1268611200000,0.37385372],[1268697600000,0.35421729],[1268784000000,0.36703725],[1268870400000,0.40224866],[1268956800000,0.38945344],[1269216000000,0.39433737],[1269302400000,0.40474592],[1269388800000,0.39659238],[1269475200000,0.4096919],[1269561600000,0.40321582],[1269820800000,0.42737684],[1269907200000,0.42015598],[1269993600000,0.41999223],[1270080000000,0.42884307],[1270166400000,0.44945172],[1270512000000,0.44510129],[1270598400000,0.44335133],[1270684800000,0.46247466],[1270771200000,0.49403074],[1271030400000,0.51494034],[1271116800000,0.55643838],[1271203200000,0.54110334],[1271289600000,0.55526652],[1271376000000,0.52972109],[1271635200000,0.52207425],[1271721600000,0.499166],[1271808000000,0.56390102],[1271894400000,0.59537974],[1271980800000,0.58188708],[1272240000000,0.57457545],[1272326400000,0.59141974],[1272412800000,0.56455994],[1272499200000,0.57988347],[1272585600000,0.51324149],[1272931200000,0.46493542],[1273017600000,0.4980529],[1273104000000,0.55102578],[1273190400000,0.49355013],[1273449600000,0.49719011],[1273536000000,0.4753774],[1273622400000,0.40704609],[1273708800000,0.3928594],[1273795200000,0.43316316],[1274054400000,0.45367045],[1274140800000,0.42006085],[1274227200000,0.41827897],[1274313600000,0.43716665],[1274400000000,0.39775556],[1274659200000,0.47111955],[1274745600000,0.49070878],[1274832000000,0.495281],[1274918400000,0.49717929],[1275004800000,0.52314789],[1275264000000,0.54199013],[1275350400000,0.51262823],[1275436800000,0.50745987],[1275523200000,0.52494806],[1275609600000,0.52163174],[1275868800000,0.51232111],[1275955200000,0.52984412],[1276041600000,0.55461877],[1276128000000,0.56845374],[1276214400000,0.56548876],[1276732800000,0.55522275],[1276819200000,0.45800267],[1277078400000,0.3718592],[1277164800000,0.40426532],[1277251200000,0.41008865],[1277337600000,0.42861442],[1277424000000,0.41651116],[1277683200000,0.38992162],[1277769600000,0.36827546],[1277856000000,0.30423891],[1277942400000,0.32723715],[1278028800000,0.30483076],[1278288000000,0.25399219],[1278374400000,0.26611548],[1278460800000,0.28429333],[1278547200000,0.29793325],[1278633600000,0.30745796],[1278892800000,0.32282601],[1278979200000,0.29958506],[1279065600000,0.30551078],[1279152000000,0.30207129],[1279238400000,0.29282437],[1279497600000,0.28655933],[1279584000000,0.29805765],[1279670400000,0.3172912],[1279756800000,0.3180325],[1279843200000,0.3223104],[1280102400000,0.33148944],[1280188800000,0.34167332],[1280275200000,0.35450459],[1280361600000,0.38183493],[1280448000000,0.37163866],[1280707200000,0.38791328],[1280793600000,0.41341579],[1280880000000,0.38200552],[1280966400000,0.40751716],[1281052800000,0.4160737],[1281312000000,0.44941238],[1281398400000,0.45234304],[1281484800000,0.41687216],[1281571200000,0.43658614],[1281657600000,0.43452121],[1281916800000,0.45242659],[1282003200000,0.49943528],[1282089600000,0.50037513],[1282176000000,0.50978206],[1282262400000,0.50461728],[1282521600000,0.47077731],[1282608000000,0.47303378],[1282694400000,0.49531029],[1282780800000,0.50043966],[1282867200000,0.52485548],[1283126400000,0.53684915],[1283212800000,0.57516995],[1283299200000,0.58379132],[1283385600000,0.56389717],[1283472000000,0.58278782],[1283731200000,0.58212344],[1283817600000,0.5804563],[1283904000000,0.57605971],[1283990400000,0.61396002],[1284076800000,0.61757877],[1284336000000,0.67262493],[1284422400000,0.7332602],[1284508800000,0.73288093],[1284595200000,0.7095919],[1284681600000,0.68308217],[1284940800000,0.71782944],[1285027200000,0.68511589],[1285545600000,0.67417304],[1285632000000,0.70438576],[1285718400000,0.72693504],[1285804800000,0.70909276],[1286496000000,0.75152921],[1286755200000,0.77603831],[1286841600000,0.69923593],[1286928000000,0.66410173],[1287014400000,0.64489889],[1287100800000,0.57037744],[1287360000000,0.56185895],[1287446400000,0.58935818],[1287532800000,0.60871623],[1287619200000,0.64602262],[1287705600000,0.65877899],[1287964800000,0.68297451],[1288051200000,0.71812649],[1288137600000,0.71370987],[1288224000000,0.68693413],[1288310400000,0.70704924],[1288569600000,0.7396998],[1288656000000,0.7621067],[1288742400000,0.7440645],[1288828800000,0.73535324],[1288915200000,0.77826288],[1289174400000,0.80621379],[1289260800000,0.86299514],[1289347200000,0.90599204],[1289433600000,0.92501164],[1289520000000,0.92115019],[1289779200000,0.88210022],[1289865600000,0.98534231],[1289952000000,0.88749275],[1290038400000,0.84783864],[1290124800000,0.8682033],[1290384000000,0.90330841],[1290470400000,0.93137129],[1290556800000,0.89543017],[1290643200000,0.98918508],[1290729600000,0.96844455],[1290988800000,0.96666576],[1291075200000,0.97059889],[1291161600000,0.96118418],[1291248000000,0.96780412],[1291334400000,0.95047674],[1291593600000,0.92942078],[1291680000000,0.8878382],[1291766400000,0.93120343],[1291852800000,0.93812429],[1291939200000,0.91995372],[1292198400000,0.96470511],[1292284800000,0.98759561],[1292371200000,1.00585707],[1292457600000,0.9949289],[1292544000000,0.98290064],[1292803200000,0.9845548],[1292889600000,0.93746239],[1292976000000,0.91864962],[1293062400000,0.89344181],[1293148800000,0.86956838],[1293408000000,0.86099113],[1293494400000,0.80127101],[1293580800000,0.78354183],[1293667200000,0.82309002],[1293753600000,0.83689401],[1294099200000,0.87469856],[1294185600000,0.87835029],[1294272000000,0.89074041],[1294358400000,0.85507098],[1294617600000,0.83617218],[1294704000000,0.7503983],[1294790400000,0.74750959],[1294876800000,0.74928878],[1294963200000,0.74054945],[1295222400000,0.68744596],[1295308800000,0.61563885],[1295395200000,0.65192519],[1295481600000,0.67611473],[1295568000000,0.62334345],[1295827200000,0.65029199],[1295913600000,0.59512303],[1296000000000,0.58582308],[1296086400000,0.6034799],[1296172800000,0.63127537],[1296432000000,0.64450406],[1296518400000,0.66374249],[1297209600000,0.6339503],[1297296000000,0.62449987],[1297382400000,0.66724574],[1297641600000,0.68142473],[1297728000000,0.70926309],[1297814400000,0.71411994],[1297900800000,0.72766964],[1297987200000,0.72588473],[1298246400000,0.70290166],[1298332800000,0.73964567],[1298419200000,0.69037781],[1298505600000,0.69016201],[1298592000000,0.69565268],[1298851200000,0.69437304],[1298937600000,0.73098974],[1299024000000,0.71392094],[1299110400000,0.70864189],[1299196800000,0.66883595],[1299456000000,0.69632978],[1299542400000,0.69806598],[1299628800000,0.71069569],[1299715200000,0.72136673],[1299801600000,0.69412175],[1300060800000,0.68109966],[1300147200000,0.67004928],[1300233600000,0.65132374],[1300320000000,0.64898189],[1300406400000,0.65491697],[1300665600000,0.64502923],[1300752000000,0.6541823],[1300838400000,0.63754667],[1300924800000,0.64887782],[1301011200000,0.65902779],[1301270400000,0.67880299],[1301356800000,0.65098609],[1301443200000,0.61179266],[1301529600000,0.60120315],[1301616000000,0.57327456],[1302048000000,0.58313422],[1302134400000,0.57843894],[1302220800000,0.58784377],[1302480000000,0.62400783],[1302566400000,0.5973841],[1302652800000,0.58535854],[1302739200000,0.60741333],[1302825600000,0.5926701],[1303084800000,0.58641337],[1303171200000,0.58373244],[1303257600000,0.58695125],[1303344000000,0.63757529],[1303430400000,0.62050039],[1303689600000,0.63672601],[1303776000000,0.59504376],[1303862400000,0.57349096],[1303948800000,0.55209166],[1304035200000,0.49994173],[1304380800000,0.51571447],[1304467200000,0.51527714],[1304553600000,0.49588793],[1304640000000,0.49384266],[1304899200000,0.51204831],[1304985600000,0.51162379],[1305072000000,0.50700471],[1305158400000,0.51697384],[1305244800000,0.50207829],[1305504000000,0.51520077],[1305590400000,0.50355755],[1305676800000,0.488897],[1305763200000,0.48928161],[1305849600000,0.4920254],[1306108800000,0.48265798],[1306195200000,0.4129098],[1306281600000,0.40741298],[1306368000000,0.41905499],[1306454400000,0.39442084],[1306713600000,0.38315605],[1306800000000,0.36908128],[1306886400000,0.38696746],[1306972800000,0.39320426],[1307059200000,0.38289628],[1307404800000,0.40613643],[1307491200000,0.43582222],[1307577600000,0.46042384],[1307664000000,0.44493026],[1307923200000,0.44158419],[1308009600000,0.46343884],[1308096000000,0.47209729],[1308182400000,0.44682851],[1308268800000,0.43008709],[1308528000000,0.41306054],[1308614400000,0.40610323],[1308700800000,0.41754489],[1308787200000,0.42619318],[1308873600000,0.44551203],[1309132800000,0.46523613],[1309219200000,0.46755597],[1309305600000,0.47572758],[1309392000000,0.47096366],[1309478400000,0.49658716],[1309737600000,0.49643552],[1309824000000,0.52934516],[1309910400000,0.54150813],[1309996800000,0.55861949],[1310083200000,0.57879654],[1310342400000,0.54506752],[1310428800000,0.5399584],[1310515200000,0.51954865],[1310601600000,0.56501383],[1310688000000,0.56304341],[1310947200000,0.59163647],[1311033600000,0.5828631],[1311120000000,0.59298124],[1311206400000,0.57416195],[1311292800000,0.5653999],[1311552000000,0.56283661],[1311638400000,0.53900292],[1311724800000,0.54067263],[1311811200000,0.54725508],[1311897600000,0.57415793],[1312156800000,0.56260386],[1312243200000,0.55684334],[1312329600000,0.54312963],[1312416000000,0.55509137],[1312502400000,0.51859857],[1312761600000,0.51034492],[1312848000000,0.48201823],[1312934400000,0.51698553],[1313020800000,0.51810801],[1313107200000,0.58383266],[1313366400000,0.58709706],[1313452800000,0.590317],[1313539200000,0.57306965],[1313625600000,0.56680927],[1313712000000,0.53881363],[1313971200000,0.54497179],[1314057600000,0.50302708],[1314144000000,0.52039706],[1314230400000,0.5221154],[1314316800000,0.5274611],[1314576000000,0.55404786],[1314662400000,0.58732909],[1314748800000,0.59889944],[1314835200000,0.59829801],[1314921600000,0.55919005],[1315180800000,0.54234243],[1315267200000,0.56355954],[1315353600000,0.55795175],[1315440000000,0.5892295],[1315526400000,0.61688642],[1315872000000,0.53675442],[1315958400000,0.53415455],[1316044800000,0.56610091],[1316131200000,0.57618019],[1316390400000,0.58557799],[1316476800000,0.568211],[1316563200000,0.53906163],[1316649600000,0.56789658],[1316736000000,0.48565051],[1316995200000,0.46983825],[1317081600000,0.48547734],[1317168000000,0.48346712],[1317254400000,0.49127517],[1317340800000,0.47535767],[1318204800000,0.47426149],[1318291200000,0.4563469],[1318377600000,0.41046061],[1318464000000,0.43225147],[1318550400000,0.45940485],[1318809600000,0.47121069],[1318896000000,0.47477213],[1318982400000,0.47112705],[1319068800000,0.43544375],[1319155200000,0.44585443],[1319414400000,0.42520791],[1319500800000,0.47061189],[1319587200000,0.47491849],[1319673600000,0.47581601],[1319760000000,0.4747887],[1320019200000,0.47551298],[1320105600000,0.47905283],[1320192000000,0.5276863],[1320278400000,0.55825103],[1320364800000,0.5219986],[1320624000000,0.49152233],[1320710400000,0.5445247],[1320796800000,0.51395858],[1320883200000,0.50734406],[1320969600000,0.49996739],[1321228800000,0.51175612],[1321315200000,0.514887],[1321401600000,0.50604881],[1321488000000,0.44686457],[1321574400000,0.44989617],[1321833600000,0.42572361],[1321920000000,0.4312767],[1322006400000,0.44118835],[1322092800000,0.46745904],[1322179200000,0.51067827],[1322438400000,0.51086023],[1322524800000,0.51328898],[1322611200000,0.47921234],[1322697600000,0.50074782],[1322784000000,0.47334704],[1323043200000,0.47555357],[1323129600000,0.40022987],[1323216000000,0.4172164],[1323302400000,0.42237675],[1323388800000,0.41273897],[1323648000000,0.41474975],[1323734400000,0.37823546],[1323820800000,0.36585294],[1323907200000,0.31813972],[1323993600000,0.32147186],[1324252800000,0.3388454],[1324339200000,0.3580104],[1324425600000,0.35615659],[1324512000000,0.33167946],[1324598400000,0.32989905],[1324857600000,0.33115955],[1324944000000,0.31973282],[1325030400000,0.30307125],[1325116800000,0.29453544],[1325203200000,0.30644791],[1325635200000,0.33084312],[1325721600000,0.29836146],[1325808000000,0.26674684],[1326067200000,0.26336694],[1326153600000,0.2770013],[1326240000000,0.29732601],[1326326400000,0.30110146],[1326412800000,0.29298874],[1326672000000,0.26386691],[1326758400000,0.23728152],[1326844800000,0.26132645],[1326931200000,0.19962964],[1327017600000,0.20716258],[1327881600000,0.21312188],[1327968000000,0.20694913],[1328054400000,0.20550035],[1328140800000,0.20727582],[1328227200000,0.21915263],[1328486400000,0.22454131],[1328572800000,0.22483816],[1328659200000,0.21254491],[1328745600000,0.22461053],[1328832000000,0.22178213],[1329091200000,0.21662166],[1329177600000,0.21556345],[1329264000000,0.2226446],[1329350400000,0.21905429],[1329436800000,0.22347026],[1329696000000,0.22719914],[1329782400000,0.228782],[1329868800000,0.24183335],[1329955200000,0.24696467],[1330041600000,0.23561612],[1330300800000,0.24029499],[1330387200000,0.24126553],[1330473600000,0.24851525],[1330560000000,0.23596561],[1330646400000,0.25194409],[1330905600000,0.2690886],[1330992000000,0.26131777],[1331078400000,0.24943807],[1331164800000,0.25453182],[1331251200000,0.25705918],[1331510400000,0.25856672],[1331596800000,0.25628267],[1331683200000,0.26879289],[1331769600000,0.23820443],[1331856000000,0.23414733],[1332115200000,0.23666154],[1332201600000,0.23035085],[1332288000000,0.22687577],[1332374400000,0.21545564],[1332460800000,0.21161526],[1332720000000,0.1991168],[1332806400000,0.21562935],[1332892800000,0.20996608],[1332979200000,0.18961549],[1333065600000,0.1920005],[1333584000000,0.18959978],[1333670400000,0.21562184],[1333929600000,0.21095859],[1334016000000,0.20856071],[1334102400000,0.21354192],[1334188800000,0.22633122],[1334275200000,0.2493665],[1334534400000,0.24531941],[1334620800000,0.2558473],[1334707200000,0.23675518],[1334793600000,0.25618983],[1334880000000,0.23443519],[1335139200000,0.23883776],[1335225600000,0.22158597],[1335312000000,0.21731759],[1335398400000,0.22793532],[1335484800000,0.21985986],[1335916800000,0.23126024],[1336003200000,0.23588339],[1336089600000,0.23590705],[1336348800000,0.24916327],[1336435200000,0.25970918],[1336521600000,0.24500293],[1336608000000,0.23748854],[1336694400000,0.23167631],[1336953600000,0.22692547],[1337040000000,0.21116663],[1337126400000,0.21838104],[1337212800000,0.21227459],[1337299200000,0.21820727],[1337558400000,0.21004439],[1337644800000,0.21336497],[1337731200000,0.22610018],[1337817600000,0.23400843],[1337904000000,0.23589132],[1338163200000,0.21617221],[1338249600000,0.2400446],[1338336000000,0.25301994],[1338422400000,0.25686065],[1338508800000,0.26354088],[1338768000000,0.24278315],[1338854400000,0.24672327],[1338940800000,0.23946516],[1339027200000,0.25401731],[1339113600000,0.25505498],[1339372800000,0.24032009],[1339459200000,0.27129628],[1339545600000,0.28315705],[1339632000000,0.29932887],[1339718400000,0.28534832],[1339977600000,0.26294276],[1340064000000,0.27148281],[1340150400000,0.26485745],[1340236800000,0.23667713],[1340582400000,0.22154899],[1340668800000,0.18405133],[1340755200000,0.20133205],[1340841600000,0.22534422],[1340928000000,0.2025875],[1341187200000,0.23348065],[1341273600000,0.25076299],[1341360000000,0.26949234],[1341446400000,0.25458933],[1341532800000,0.26116573],[1341792000000,0.27193668],[1341878400000,0.27726583],[1341964800000,0.25801099],[1342051200000,0.2536572],[1342137600000,0.28221192],[1342396800000,0.27472759],[1342483200000,0.22959274],[1342569600000,0.24741929],[1342656000000,0.22942321],[1342742400000,0.22461174],[1343001600000,0.21326223],[1343088000000,0.20514331],[1343174400000,0.21950456],[1343260800000,0.22068665],[1343347200000,0.2169229],[1343606400000,0.19500117],[1343692800000,0.188251],[1343779200000,0.19992283],[1343865600000,0.20655637],[1343952000000,0.20636645],[1344211200000,0.22085503],[1344297600000,0.24772902],[1344384000000,0.25131449],[1344470400000,0.24513146],[1344556800000,0.28694952],[1344816000000,0.28466591],[1344902400000,0.27306981],[1344988800000,0.24909731],[1345075200000,0.26151193],[1345161600000,0.2479746],[1345420800000,0.2265453],[1345507200000,0.24341856],[1345593600000,0.26787423],[1345680000000,0.2520094],[1345766400000,0.24270646],[1346025600000,0.22336544],[1346112000000,0.20803661],[1346198400000,0.19438199],[1346284800000,0.18572123],[1346371200000,0.16505781],[1346630400000,0.17490108],[1346716800000,0.19917072],[1346803200000,0.19793471],[1346889600000,0.22317386],[1346976000000,0.23315884],[1347235200000,0.26053747],[1347321600000,0.24837741],[1347408000000,0.25707854],[1347494400000,0.25918375],[1347580800000,0.24186533],[1347840000000,0.22387697],[1347926400000,0.20593189],[1348012800000,0.21120143],[1348099200000,0.22331232],[1348185600000,0.19887202],[1348444800000,0.1854566],[1348531200000,0.20329686],[1348617600000,0.19625705],[1348704000000,0.18076607],[1348790400000,0.20453741],[1349654400000,0.22252818],[1349740800000,0.23382245],[1349827200000,0.25585736],[1349913600000,0.25507004],[1350000000000,0.24263723],[1350259200000,0.22828165],[1350345600000,0.22495184],[1350432000000,0.24384232],[1350518400000,0.23533279],[1350604800000,0.26005921],[1350864000000,0.25089083],[1350950400000,0.25440662],[1351036800000,0.22901829],[1351123200000,0.2327455],[1351209600000,0.2139085],[1351468800000,0.20023655],[1351555200000,0.20378896],[1351641600000,0.21343383],[1351728000000,0.22609734],[1351814400000,0.23277605],[1352073600000,0.21951761],[1352160000000,0.20447288],[1352246400000,0.20656063],[1352332800000,0.20131489],[1352419200000,0.18874206],[1352678400000,0.18542426],[1352764800000,0.17492118],[1352851200000,0.15368345],[1352937600000,0.15712161],[1353024000000,0.1639617],[1353283200000,0.16315156],[1353369600000,0.16632907],[1353456000000,0.17197485],[1353542400000,0.16938061],[1353628800000,0.15578056],[1353888000000,0.14350729],[1353974400000,0.12187824],[1354060800000,0.10069954],[1354147200000,0.09310908],[1354233600000,0.09644806],[1354492800000,0.11877238],[1354579200000,0.11511654],[1354665600000,0.13000574],[1354752000000,0.17128159],[1354838400000,0.16838847],[1355097600000,0.17168075],[1355184000000,0.16556084],[1355270400000,0.16967905],[1355356800000,0.16487274],[1355443200000,0.16239733],[1355702400000,0.20658002],[1355788800000,0.18020354],[1355875200000,0.17090249],[1355961600000,0.1821634],[1356048000000,0.20694903],[1356307200000,0.20255508],[1356393600000,0.21650667],[1356480000000,0.24410311],[1356566400000,0.25259778],[1356652800000,0.2584624],[1356912000000,0.27595222],[1357257600000,0.28463467],[1357516800000,0.23555304],[1357603200000,0.24667473],[1357689600000,0.2596625],[1357776000000,0.26582398],[1357862400000,0.26527483],[1358121600000,0.25645121],[1358208000000,0.29655885],[1358294400000,0.31574619],[1358380800000,0.32884837],[1358467200000,0.33413669],[1358726400000,0.35123892],[1358812800000,0.35003694],[1358899200000,0.32949274],[1358985600000,0.33595295],[1359072000000,0.33157176],[1359331200000,0.32662006],[1359417600000,0.34268246],[1359504000000,0.32998355],[1359590400000,0.3430427],[1359676800000,0.33990652],[1359936000000,0.33184592],[1360022400000,0.32779512],[1360108800000,0.35760509],[1360195200000,0.35282095],[1360281600000,0.36360173],[1361145600000,0.3945329],[1361232000000,0.38656921],[1361318400000,0.35214478],[1361404800000,0.37839883],[1361491200000,0.37313627],[1361750400000,0.37702418],[1361836800000,0.38775892],[1361923200000,0.39937153],[1362009600000,0.40910268],[1362096000000,0.43044808],[1362355200000,0.43979137],[1362441600000,0.40846007],[1362528000000,0.45067056],[1362614400000,0.45328316],[1362700800000,0.43586263],[1362960000000,0.42076228],[1363046400000,0.43704873],[1363132800000,0.42552769],[1363219200000,0.41242321],[1363305600000,0.45729194],[1363564800000,0.45028262],[1363651200000,0.46677438],[1363737600000,0.46734244],[1363824000000,0.49790602],[1363910400000,0.54532972],[1364169600000,0.55528769],[1364256000000,0.57126019],[1364342400000,0.57810137],[1364428800000,0.57361679],[1364515200000,0.56898666],[1364774400000,0.55975993],[1364860800000,0.55656259],[1364947200000,0.52426872],[1365379200000,0.49897824],[1365465600000,0.55111416],[1365552000000,0.54766026],[1365638400000,0.53568547],[1365724800000,0.5252032],[1365984000000,0.50765424],[1366070400000,0.48957118],[1366156800000,0.52514263],[1366243200000,0.58042711],[1366329600000,0.57846341],[1366588800000,0.60504408],[1366675200000,0.64265039],[1366761600000,0.61337098],[1366848000000,0.68545556],[1366934400000,0.66085859],[1367452800000,0.60000941],[1367539200000,0.65655452],[1367798400000,0.68381757],[1367884800000,0.67842013],[1367971200000,0.68320449],[1368057600000,0.70696431],[1368144000000,0.69894483],[1368403200000,0.70141772],[1368489600000,0.70340134],[1368576000000,0.67674584],[1368662400000,0.71249174],[1368748800000,0.75815291],[1369008000000,0.80658587],[1369094400000,0.79877338],[1369180800000,0.84523004],[1369267200000,0.81950027],[1369353600000,0.82122905],[1369612800000,0.82168154],[1369699200000,0.8300678],[1369785600000,0.86038546],[1369872000000,0.84847401],[1369958400000,0.84457557],[1370217600000,0.82213853],[1370304000000,0.77897631],[1370390400000,0.73531387],[1370476800000,0.73820404],[1370563200000,0.72455709],[1371081600000,0.69894723],[1371168000000,0.68166597],[1371427200000,0.72081045],[1371513600000,0.69952311],[1371600000000,0.69278926],[1371686400000,0.68642142],[1371772800000,0.60382682],[1372032000000,0.62602335],[1372118400000,0.5157646],[1372204800000,0.59900459],[1372291200000,0.6493109],[1372377600000,0.60820615],[1372636800000,0.61523585],[1372723200000,0.69706635],[1372809600000,0.71865704],[1372896000000,0.74250244],[1372982400000,0.75022364],[1373241600000,0.71370962],[1373328000000,0.68725632],[1373414400000,0.69899391],[1373500800000,0.75581476],[1373587200000,0.79505312],[1373846400000,0.79048732],[1373932800000,0.79799276],[1374019200000,0.81197765],[1374105600000,0.78279117],[1374192000000,0.76974821],[1374451200000,0.7437964],[1374537600000,0.79301556],[1374624000000,0.86625516],[1374710400000,0.89994316],[1374796800000,0.83694956],[1375056000000,0.81280086],[1375142400000,0.80049462],[1375228800000,0.76416804],[1375315200000,0.70191758],[1375401600000,0.76056379],[1375660800000,0.74616009],[1375747200000,0.7968165],[1375833600000,0.83983742],[1375920000000,0.81100673],[1376006400000,0.813078],[1376265600000,0.79258529],[1376352000000,0.7932272],[1376438400000,0.82115728],[1376524800000,0.84785303],[1376611200000,0.80810769],[1376870400000,0.8098103],[1376956800000,0.8201265],[1377043200000,0.82253218],[1377129600000,0.80798649],[1377216000000,0.85143687],[1377475200000,0.84895917],[1377561600000,0.8974084],[1377648000000,0.89142081],[1377734400000,0.85227269],[1377820800000,0.83516358],[1378080000000,0.79202948],[1378166400000,0.83199805],[1378252800000,0.85061557],[1378339200000,0.83354084],[1378425600000,0.82373278],[1378684800000,0.82945835],[1378771200000,0.84636252],[1378857600000,0.83131096],[1378944000000,0.79238306],[1379030400000,0.80103066],[1379289600000,0.82997682],[1379376000000,0.8467468],[1379462400000,0.85755748],[1379894400000,0.84362819],[1379980800000,0.90278378],[1380067200000,0.91731295],[1380153600000,0.88947987],[1380240000000,0.87332577],[1380499200000,0.91026739],[1381190400000,0.90985996],[1381276800000,0.93568303],[1381363200000,0.98768414],[1381449600000,0.98080258],[1381708800000,0.97023515],[1381795200000,0.98119462],[1381881600000,0.95380394],[1381968000000,0.92172409],[1382054400000,0.89847772],[1382313600000,0.91770185],[1382400000000,0.95876739],[1382486400000,0.89556386],[1382572800000,0.85163581],[1382659200000,0.85065453],[1382918400000,0.78262764],[1383004800000,0.8322279],[1383091200000,0.7995183],[1383177600000,0.80041591],[1383264000000,0.75085959],[1383523200000,0.76985626],[1383609600000,0.77118708],[1383696000000,0.79128947],[1383782400000,0.75898843],[1383868800000,0.73201231],[1384128000000,0.7285246],[1384214400000,0.75108405],[1384300800000,0.73919783],[1384387200000,0.72419349],[1384473600000,0.74522381],[1384732800000,0.77465449],[1384819200000,0.79687619],[1384905600000,0.79265898],[1384992000000,0.79597083],[1385078400000,0.79017487],[1385337600000,0.75921171],[1385424000000,0.75976405],[1385510400000,0.75597125],[1385596800000,0.79465369],[1385683200000,0.80616636],[1385942400000,0.77052002],[1386028800000,0.71605629],[1386115200000,0.7443759],[1386201600000,0.76435412],[1386288000000,0.75675389],[1386547200000,0.76294343],[1386633600000,0.76797922],[1386720000000,0.77168042],[1386806400000,0.75342071],[1386892800000,0.74980162],[1387152000000,0.79100208],[1387238400000,0.75567017],[1387324800000,0.75620881],[1387411200000,0.75475809],[1387497600000,0.77790379],[1387756800000,0.74559879],[1387843200000,0.77683304],[1387929600000,0.77779638],[1388016000000,0.78978991],[1388102400000,0.74595822],[1388361600000,0.75953843],[1388448000000,0.73419427],[1388620800000,0.74718183],[1388707200000,0.75742882],[1388966400000,0.75225159],[1389052800000,0.70292926],[1389139200000,0.713013],[1389225600000,0.72884524],[1389312000000,0.71524173],[1389571200000,0.71013964],[1389657600000,0.68055578],[1389744000000,0.70758679],[1389830400000,0.73198627],[1389916800000,0.71142015],[1390176000000,0.69134428],[1390262400000,0.67628922],[1390348800000,0.6938136],[1390435200000,0.72242787],[1390521600000,0.7351873],[1390780800000,0.75507753],[1390867200000,0.76499907],[1390953600000,0.75974925],[1391040000000,0.80347562],[1391731200000,0.78765757],[1391990400000,0.85047981],[1392076800000,0.87472819],[1392163200000,0.86189185],[1392249600000,0.89212006],[1392336000000,0.85332374],[1392595200000,0.89137158],[1392681600000,0.9242922],[1392768000000,0.90454498],[1392854400000,0.87608629],[1392940800000,0.84560812],[1393200000000,0.84343419],[1393286400000,0.85773271],[1393372800000,0.74755394],[1393459200000,0.79353847],[1393545600000,0.76674661],[1393804800000,0.763858],[1393891200000,0.78827366],[1393977600000,0.78217068],[1394064000000,0.7521306],[1394150400000,0.76367838],[1394409600000,0.78004266],[1394496000000,0.73896322],[1394582400000,0.73513465],[1394668800000,0.71665607],[1394755200000,0.7420782],[1395014400000,0.72107811],[1395100800000,0.74366728],[1395187200000,0.74628719],[1395273600000,0.73919262],[1395360000000,0.69402365],[1395619200000,0.72894969],[1395705600000,0.72363394],[1395792000000,0.72882241],[1395878400000,0.73053575],[1395964800000,0.67492304],[1396224000000,0.6453792],[1396310400000,0.63373287],[1396396800000,0.65165992],[1396483200000,0.64306333],[1396569600000,0.63869887],[1396915200000,0.65582324],[1397001600000,0.6807706],[1397088000000,0.6976768],[1397174400000,0.75928064],[1397433600000,0.75037013],[1397520000000,0.73318609],[1397606400000,0.72248126],[1397692800000,0.72092521],[1397779200000,0.70791758],[1398038400000,0.74483524],[1398124800000,0.72735456],[1398211200000,0.7162063],[1398297600000,0.73197045],[1398384000000,0.73709005],[1398643200000,0.71373606],[1398729600000,0.71845791],[1398816000000,0.72960743],[1399248000000,0.72605742],[1399334400000,0.72535878],[1399420800000,0.72168167],[1399507200000,0.71570176],[1399593600000,0.7226259],[1399852800000,0.69708435],[1399939200000,0.75594726],[1400025600000,0.72055311],[1400112000000,0.70009065],[1400198400000,0.69669585],[1400457600000,0.69410335],[1400544000000,0.68260278],[1400630400000,0.67599622],[1400716800000,0.68725081],[1400803200000,0.67177777],[1401062400000,0.68023837],[1401148800000,0.6836001],[1401235200000,0.67754952],[1401321600000,0.68680658],[1401408000000,0.67006654],[1401753600000,0.67680114],[1401840000000,0.6690671],[1401926400000,0.66104229],[1402012800000,0.68262802],[1402272000000,0.68005721],[1402358400000,0.67911602],[1402444800000,0.70236749],[1402531200000,0.70298765],[1402617600000,0.69668861],[1402876800000,0.70737917],[1402963200000,0.71121729],[1403049600000,0.70183601],[1403136000000,0.69671105],[1403222400000,0.67048757],[1403481600000,0.67963745],[1403568000000,0.67050956],[1403654400000,0.66495142],[1403740800000,0.66649981],[1403827200000,0.67611059],[1404086400000,0.68559598],[1404172800000,0.69386099],[1404259200000,0.70410454],[1404345600000,0.70036672],[1404432000000,0.7084453],[1404691200000,0.71036592],[1404777600000,0.70206574],[1404864000000,0.70607514],[1404950400000,0.68458796],[1405036800000,0.67883386],[1405296000000,0.68476369],[1405382400000,0.70024624],[1405468800000,0.70273623],[1405555200000,0.69078935],[1405641600000,0.67871834],[1405900800000,0.688975],[1405987200000,0.69182106],[1406073600000,0.70493996],[1406160000000,0.7027859],[1406246400000,0.71440122],[1406505600000,0.72701773],[1406592000000,0.73578727],[1406678400000,0.73873017],[1406764800000,0.73247287],[1406851200000,0.73555018],[1407110400000,0.73209015],[1407196800000,0.73613842],[1407283200000,0.73040105],[1407369600000,0.73901221],[1407456000000,0.7344674],[1407715200000,0.7422513],[1407801600000,0.76395501],[1407888000000,0.77669853],[1407974400000,0.77737821],[1408060800000,0.77565156],[1408320000000,0.78389412],[1408406400000,0.81555559],[1408492800000,0.7856787],[1408579200000,0.78046193],[1408665600000,0.78368696],[1408924800000,0.79042457],[1409011200000,0.78303361],[1409097600000,0.7698505],[1409184000000,0.77299579],[1409270400000,0.77049924],[1409529600000,0.78228221],[1409616000000,0.80923175],[1409702400000,0.82051005],[1409788800000,0.82411646],[1409875200000,0.83199759],[1410220800000,0.84000378],[1410307200000,0.8378711],[1410393600000,0.8471766],[1410480000000,0.83737185],[1410739200000,0.85336464],[1410825600000,0.85046717],[1410912000000,0.81156309],[1410998400000,0.81469437],[1411084800000,0.82136368],[1411344000000,0.82430567],[1411430400000,0.80610158],[1411516800000,0.81550027],[1411603200000,0.87886301],[1411689600000,0.93298874],[1411948800000,0.9847513],[1412035200000,1.00015696],[1412726400000,1.05360778],[1412812800000,1.0593604],[1412899200000,1.04203903],[1413158400000,1.0084463],[1413244800000,1.00826665],[1413331200000,1.03648623],[1413417600000,1.0294883],[1413504000000,1.01456609],[1413763200000,1.00867243],[1413849600000,0.99767886],[1413936000000,0.99628607],[1414022400000,0.98078989],[1414108800000,0.97041608],[1414368000000,0.99231075],[1414454400000,1.01301426],[1414540800000,1.04034115],[1414627200000,1.06478554],[1414713600000,1.13581427],[1414972800000,1.12470316],[1415059200000,1.12399039],[1415145600000,1.11131106],[1415232000000,1.08291466],[1415318400000,1.09198466],[1415577600000,1.06965289],[1415664000000,1.11515222],[1415750400000,1.06717778],[1415836800000,1.10474485],[1415923200000,1.11195906],[1416182400000,1.12904825],[1416268800000,1.0947142],[1416355200000,1.07688949],[1416441600000,1.07455006],[1416528000000,1.07438762],[1416787200000,1.11374561],[1416873600000,1.13456286],[1416960000000,1.15656001],[1417046400000,1.16609448],[1417132800000,1.18397985],[1417392000000,1.2112553],[1417478400000,1.19275183],[1417564800000,1.26399789],[1417651200000,1.26501828],[1417737600000,1.30162395],[1417996800000,1.26589208],[1418083200000,1.33176032],[1418169600000,1.28663948],[1418256000000,1.36804627],[1418342400000,1.42254251],[1418601600000,1.40604078],[1418688000000,1.39640412],[1418774400000,1.41111249],[1418860800000,1.39883817],[1418947200000,1.39565995],[1419206400000,1.4271156],[1419292800000,1.39212997],[1419379200000,1.34542456],[1419465600000,1.3336105],[1419552000000,1.38059716],[1419811200000,1.41896968],[1419897600000,1.42114291],[1419984000000,1.38534679],[1420416000000,1.46383911],[1420502400000,1.54393061],[1420588800000,1.5276532],[1420675200000,1.50553828],[1420761600000,1.4536101],[1421020800000,1.44612303],[1421107200000,1.41698264],[1421193600000,1.43374526],[1421280000000,1.41303435],[1421366400000,1.44857723],[1421625600000,1.36540553],[1421712000000,1.33585385],[1421798400000,1.40057239],[1421884800000,1.46828246],[1421971200000,1.48076052],[1422230400000,1.47338287],[1422316800000,1.54702747],[1422403200000,1.51963325],[1422489600000,1.49627236],[1422576000000,1.49970467],[1422835200000,1.42605142],[1422921600000,1.42506986],[1423008000000,1.44405932],[1423094400000,1.46424378],[1423180800000,1.39142923],[1423440000000,1.33808094],[1423526400000,1.34326405],[1423612800000,1.39409742],[1423699200000,1.43066423],[1423785600000,1.44106002],[1424044800000,1.49088847],[1424131200000,1.51148154],[1424822400000,1.55797721],[1424908800000,1.61796209],[1424995200000,1.63977505],[1425254400000,1.64245902],[1425340800000,1.63749869],[1425427200000,1.61771147],[1425513600000,1.64529029],[1425600000000,1.60951431],[1425859200000,1.58176357],[1425945600000,1.60838732],[1426032000000,1.62181612],[1426118400000,1.62431953],[1426204800000,1.64817322],[1426464000000,1.70305272],[1426550400000,1.78857343],[1426636800000,1.85672191],[1426723200000,1.87335568],[1426809600000,1.86948059],[1427068800000,1.89963845],[1427155200000,1.93432213],[1427241600000,1.98071237],[1427328000000,1.98138971],[1427414400000,1.99687048],[1427673600000,2.03751764],[1427760000000,2.07932797],[1427846400000,2.02749062],[1427932800000,2.09196097],[1428019200000,2.0960836],[1428364800000,2.16851571],[1428451200000,2.25357233],[1428537600000,2.19254154],[1428624000000,2.20089297],[1428883200000,2.32689477],[1428969600000,2.38697895],[1429056000000,2.38514765],[1429142400000,2.36477423],[1429228800000,2.42828273],[1429488000000,2.42556017],[1429574400000,2.3355419],[1429660800000,2.44587796],[1429747200000,2.52589686],[1429833600000,2.46873159],[1430092800000,2.50693077],[1430179200000,2.50259185],[1430265600000,2.37399416],[1430352000000,2.41647781],[1430697600000,2.44167148],[1430784000000,2.45748152],[1430870400000,2.40697297],[1430956800000,2.26944945],[1431043200000,2.25327803],[1431302400000,2.33846008],[1431388800000,2.42933785],[1431475200000,2.47821188],[1431561600000,2.48414259],[1431648000000,2.42490412],[1431907200000,2.35193192],[1431993600000,2.37609713],[1432080000000,2.45562649],[1432166400000,2.49822125],[1432252800000,2.62927018],[1432512000000,2.6115373],[1432598400000,2.74666477],[1432684800000,2.89646902],[1432771200000,2.90987837],[1432857600000,2.69963565],[1433116800000,2.71366086],[1433203200000,2.89366517],[1433289600000,2.95661908],[1433376000000,2.87720649],[1433462400000,2.95192853],[1433721600000,2.92145293],[1433808000000,3.00170568],[1433894400000,3.01146513],[1433980800000,3.10224908],[1434067200000,3.11215101],[1434326400000,3.17442904],[1434412800000,3.02001821],[1434499200000,2.91844268],[1434585600000,3.02912962],[1434672000000,2.86382796],[1435017600000,2.78120116],[1435104000000,2.91778559],[1435190400000,2.98519884],[1435276800000,2.75773826],[1435536000000,2.76675752],[1435622400000,2.59959006],[1435708800000,2.74115861],[1435795200000,2.6790523],[1435881600000,2.43933482],[1436140800000,2.64890924],[1436227200000,2.34827036],[1436313600000,2.31146028],[1436400000000,2.30282065],[1436486400000,2.46840389],[1436745600000,2.65488314],[1436832000000,2.6231477],[1436918400000,2.57658669],[1437004800000,2.53000065],[1437091200000,2.60792629],[1437350400000,2.64424192],[1437436800000,2.56173189],[1437523200000,2.65649427],[1437609600000,2.60497248],[1437696000000,2.66769758],[1437955200000,2.5465878],[1438041600000,2.35979364],[1438128000000,2.52348866],[1438214400000,2.60455373],[1438300800000,2.50866632],[1438560000000,2.51598148],[1438646400000,2.59854771],[1438732800000,2.67360196],[1438819200000,2.55235894],[1438905600000,2.54449756],[1439164800000,2.59204672],[1439251200000,2.63320895],[1439337600000,2.54858218],[1439424000000,2.5001658],[1439510400000,2.52958956],[1439769600000,2.5044992],[1439856000000,2.53648133],[1439942400000,2.46333414],[1440028800000,2.50259278],[1440115200000,2.40716926],[1440374400000,2.29738092],[1440460800000,2.07897716],[1440547200000,2.10401617],[1440633600000,2.11790802],[1440720000000,2.16866449],[1440979200000,2.22819872],[1441065600000,2.16092159],[1441152000000,2.0376901],[1441584000000,2.14298794],[1441670400000,2.05827535],[1441756800000,2.09011832],[1441843200000,2.14996267],[1441929600000,2.3242825],[1442188800000,2.33753724],[1442275200000,2.16753583],[1442361600000,2.16087308],[1442448000000,2.29127565],[1442534400000,2.29399248],[1442793600000,2.32928883],[1442880000000,2.27730502],[1442966400000,2.22901719],[1443052800000,2.2283005],[1443139200000,2.23711932],[1443398400000,2.11428807],[1443484800000,2.11448281],[1443571200000,2.09906755],[1444262400000,2.18255695],[1444348800000,2.17847235],[1444608000000,2.18446699],[1444694400000,2.26600368],[1444780800000,2.23286454],[1444867200000,2.20048985],[1444953600000,2.25677065],[1445212800000,2.27838789],[1445299200000,2.25236127],[1445385600000,2.24406772],[1445472000000,2.15912757],[1445558400000,2.20842453],[1445817600000,2.25807747],[1445904000000,2.17962614],[1445990400000,2.20278933],[1446076800000,2.15402593],[1446163200000,2.16845955],[1446422400000,2.11189869],[1446508800000,2.13721351],[1446595200000,2.11218611],[1446681600000,2.27975554],[1446768000000,2.25280716],[1447027200000,2.27404332],[1447113600000,2.28379861],[1447200000000,2.31582695],[1447286400000,2.33715633],[1447372800000,2.29856502],[1447632000000,2.25420028],[1447718400000,2.38334145],[1447804800000,2.35272016],[1447891200000,2.33332938],[1447977600000,2.45441752],[1448236800000,2.51023486],[1448323200000,2.65911657],[1448409600000,2.57217718],[1448496000000,2.59870921],[1448582400000,2.47007952],[1448841600000,2.34697949],[1448928000000,2.37353525],[1449014400000,2.3294674],[1449100800000,2.35981657],[1449187200000,2.37897642],[1449446400000,2.38219992],[1449532800000,2.39082156],[1449619200000,2.33714853],[1449705600000,1.33947373],[1449792000000,1.30802472],[1450051200000,1.25268903],[1450137600000,1.27717713],[1450224000000,1.29199079],[1450310400000,1.30545376],[1450396800000,1.35860948],[1450656000000,1.33930548],[1450742400000,1.32442284],[1450828800000,1.32961274],[1450915200000,1.32928076],[1451001600000,1.32728861],[1451260800000,1.34335096],[1451347200000,1.2843148],[1451433600000,1.30685963],[1451520000000,1.30921402],[1451865600000,1.25424707],[1451952000000,0.99270018],[1452038400000,1.03163736],[1452124800000,1.03168806],[1452211200000,0.97804721],[1452470400000,0.93292987],[1452556800000,0.90158154],[1452643200000,0.93164049],[1452729600000,0.86642321],[1452816000000,0.94099698],[1453075200000,0.90769876],[1453161600000,0.93739489],[1453248000000,0.97028891],[1453334400000,0.95578475],[1453420800000,0.92418586],[1453680000000,0.93084476],[1453766400000,0.91635146],[1453852800000,0.87496222],[1453939200000,0.85921368],[1454025600000,0.83626688],[1454284800000,0.86378719],[1454371200000,0.85995338],[1454457600000,0.87213782],[1454544000000,0.88918054],[1454630400000,0.91317197],[1455494400000,0.86994022],[1455580800000,0.89393069],[1455667200000,0.90051145],[1455753600000,0.91143546],[1455840000000,0.90377392],[1456099200000,0.90825194],[1456185600000,0.90567697],[1456272000000,0.88283145],[1456358400000,0.89479772],[1456444800000,0.85782881],[1456704000000,0.84650384],[1456790400000,0.82474581],[1456876800000,0.83601491],[1456963200000,0.85073438],[1457049600000,0.83894059],[1457308800000,0.82163082],[1457395200000,0.81965403],[1457481600000,0.81801736],[1457568000000,0.81288251],[1457654400000,0.80606678],[1457913600000,0.81380636],[1458000000000,0.82766258],[1458086400000,0.83776703],[1458172800000,0.83382022],[1458259200000,0.85857909],[1458518400000,0.87464146],[1458604800000,0.869814],[1458691200000,0.87051311],[1458777600000,0.859425],[1458864000000,0.86636656],[1459123200000,0.86717824],[1459209600000,0.87457921],[1459296000000,0.87010109],[1459382400000,0.91324603],[1459468800000,0.90341468],[1459814400000,0.90855047],[1459900800000,0.90653282],[1459987200000,0.93356529],[1460073600000,0.90580915],[1460332800000,0.91405528],[1460419200000,0.90142222],[1460505600000,0.86593745],[1460592000000,0.86563444],[1460678400000,0.88737765],[1460937600000,0.88531971],[1461024000000,0.91094765],[1461110400000,0.9296711],[1461196800000,0.86373346],[1461283200000,0.81640367],[1461542400000,0.86779178],[1461628800000,0.85279018],[1461715200000,0.85093669],[1461801600000,0.85524019],[1461888000000,0.85769352],[1462233600000,0.87088527],[1462320000000,0.9239109],[1462406400000,0.92702112],[1462492800000,0.95925036],[1462752000000,0.8898803],[1462838400000,0.83848399],[1462924800000,0.84976105],[1463011200000,0.80717045],[1463097600000,0.86349883],[1463356800000,0.87452823],[1463443200000,0.90686743],[1463529600000,0.8860353],[1463616000000,0.86033539],[1463702400000,0.88095482],[1463961600000,0.88974295],[1464048000000,0.90770646],[1464134400000,0.91414853],[1464220800000,0.87029784],[1464307200000,0.8617333],[1464566400000,0.80678542],[1464652800000,0.82261342],[1464739200000,0.87294507],[1464825600000,0.88892522],[1464912000000,0.8912776],[1465171200000,0.92146182],[1465257600000,0.924844],[1465344000000,0.8970525],[1465776000000,0.91116169],[1465862400000,0.84133561],[1465948800000,0.80680314],[1466035200000,0.86041875],[1466121600000,0.87532883],[1466380800000,0.87544815],[1466467200000,0.87743259],[1466553600000,0.82560468],[1466640000000,0.83439601],[1466726400000,0.82345634],[1466985600000,0.82427936],[1467072000000,0.86508032],[1467158400000,0.87032942],[1467244800000,0.89683161],[1467331200000,0.89119215],[1467590400000,0.88808445],[1467676800000,0.91787707],[1467763200000,0.92967602],[1467849600000,0.97149231],[1467936000000,1.03170026],[1468195200000,1.01904979],[1468281600000,1.00568694],[1468368000000,1.04311242],[1468454400000,1.04867927],[1468540800000,1.05579684],[1468800000000,1.07145586],[1468886400000,1.07447423],[1468972800000,1.05928009],[1469059200000,1.03342414],[1469145600000,1.04422187],[1469404800000,0.99417074],[1469491200000,0.98688344],[1469577600000,1.02044457],[1469664000000,0.98871492],[1469750400000,1.01383173],[1470009600000,0.97231009],[1470096000000,0.93950938],[1470182400000,0.97344122],[1470268800000,0.96252859],[1470355200000,0.97722813],[1470614400000,0.95192999],[1470700800000,0.95716442],[1470787200000,0.98238645],[1470873600000,0.98075396],[1470960000000,0.96930227],[1471219200000,0.98657694],[1471305600000,1.02675514],[1471392000000,1.02015511],[1471478400000,1.01777462],[1471564800000,1.00130063],[1471824000000,0.9889306],[1471910400000,0.98210427],[1471996800000,0.98435216],[1472083200000,0.97325685],[1472169600000,0.97646176],[1472428800000,0.98689847],[1472515200000,0.98357101],[1472601600000,0.97317827],[1472688000000,0.97870094],[1472774400000,0.97618293],[1473033600000,0.9726335],[1473120000000,0.97020477],[1473206400000,0.99314077],[1473292800000,0.98829041],[1473379200000,0.99274336],[1473638400000,0.94764821],[1473724800000,0.93675213],[1473811200000,0.94850376],[1474243200000,0.94458211],[1474329600000,0.96478894],[1474416000000,0.97949432],[1474502400000,1.00224324],[1474588800000,1.04263992],[1474848000000,1.00563139],[1474934400000,0.95947303],[1475020800000,0.96130754],[1475107200000,0.96636973],[1475193600000,0.96634818],[1476057600000,1.0018916],[1476144000000,1.02933785],[1476230400000,1.04775222],[1476316800000,1.04545445],[1476403200000,1.03284309],[1476662400000,1.02452189],[1476748800000,1.01454692],[1476835200000,1.04174303],[1476921600000,1.04653698],[1477008000000,1.03399566],[1477267200000,1.04557428],[1477353600000,1.06499367],[1477440000000,1.04525397],[1477526400000,1.03391364],[1477612800000,1.02695574],[1477872000000,1.01670233],[1477958400000,1.03822298],[1478044800000,1.04943308],[1478131200000,1.03226851],[1478217600000,1.05661599],[1478476800000,1.05295567],[1478563200000,1.06697999],[1478649600000,1.08251775],[1478736000000,1.07734232],[1478822400000,1.08502238],[1479081600000,1.07821765],[1479168000000,1.07822711],[1479254400000,1.0862263],[1479340800000,1.09820602],[1479427200000,1.09783166],[1479686400000,1.08845887],[1479772800000,1.08531887],[1479859200000,1.08444208],[1479945600000,1.07352944],[1480032000000,1.08367187],[1480291200000,1.09309628],[1480377600000,1.0891132],[1480464000000,1.09942401],[1480550400000,1.09589279],[1480636800000,1.09479551],[1480896000000,1.02963341],[1480982400000,1.00077909],[1481068800000,0.99140234],[1481155200000,1.03753184],[1481241600000,1.01030606],[1481500800000,0.99534515],[1481587200000,0.91524975],[1481673600000,0.92434067],[1481760000000,0.90263653],[1481846400000,0.90855859],[1482105600000,0.91752248],[1482192000000,0.90756879],[1482278400000,0.89939251],[1482364800000,0.91136485],[1482451200000,0.90145049],[1482710400000,0.87284421],[1482796800000,0.88616708],[1482883200000,0.90444678],[1482969600000,0.88759013],[1483056000000,0.89497114],[1483401600000,0.91692243],[1483488000000,0.9298607],[1483574400000,0.95557354],[1483660800000,0.96722161],[1483920000000,0.95494318],[1484006400000,0.94914246],[1484092800000,0.93221706],[1484179200000,0.91942588],[1484265600000,0.89130622],[1484524800000,0.88699043],[1484611200000,0.86693688],[1484697600000,0.88902983],[1484784000000,0.90192274],[1484870400000,0.8858244],[1485129600000,0.89266565],[1485216000000,0.88348893],[1485302400000,0.89258525],[1485388800000,0.90413145],[1486080000000,0.91428062],[1486339200000,0.90252224],[1486425600000,0.90994799],[1486512000000,0.90453266],[1486598400000,0.91273913],[1486684800000,0.92066271],[1486944000000,0.92791156],[1487030400000,0.93238826],[1487116800000,0.94048139],[1487203200000,0.92844644],[1487289600000,0.93919235],[1487548800000,0.93112806],[1487635200000,0.96929856],[1487721600000,0.97892463],[1487808000000,1.00084628],[1487894400000,0.99033085],[1488153600000,0.98839041],[1488240000000,0.96083106],[1488326400000,0.96608621],[1488412800000,0.96837215],[1488499200000,0.9599284],[1488758400000,0.96832061],[1488844800000,0.98220004],[1488931200000,0.99592696],[1489017600000,0.9931479],[1489104000000,0.97150812],[1489363200000,0.97716044],[1489449600000,0.99212399],[1489536000000,0.99574521],[1489622400000,0.99923549],[1489708800000,0.99757034],[1489968000000,0.9736153],[1490054400000,0.98397696],[1490140800000,1.00506125],[1490227200000,1.01243339],[1490313600000,1.0122955],[1490572800000,1.03241044],[1490659200000,1.01328096],[1490745600000,1.01403309],[1490832000000,1.00518861],[1490918400000,0.98291139],[1491350400000,1.01909101],[1491436800000,1.04747239],[1491523200000,1.04776103],[1491782400000,1.05741181],[1491868800000,1.05447259],[1491955200000,1.05016621],[1492041600000,1.05194043],[1492128000000,1.06813117],[1492387200000,1.03774375],[1492473600000,1.03893514],[1492560000000,1.04971552],[1492646400000,1.04872252],[1492732800000,1.07714282],[1492992000000,1.05466692],[1493078400000,1.04283827],[1493164800000,1.05255563],[1493251200000,1.03371706],[1493337600000,1.05074857],[1493683200000,1.0283041],[1493769600000,1.03291038],[1493856000000,1.03902126],[1493942400000,1.02935843],[1494201600000,1.02251434],[1494288000000,0.98884229],[1494374400000,0.98862044],[1494460800000,0.97872618],[1494547200000,0.99919554],[1494806400000,1.02886447],[1494892800000,1.04748923],[1494979200000,1.08969464],[1495065600000,1.06339373],[1495152000000,1.07446771],[1495411200000,1.08242773],[1495497600000,1.08676898],[1495584000000,1.11629156],[1495670400000,1.11079606],[1495756800000,1.11805707],[1496188800000,1.09982318],[1496275200000,1.10442229],[1496361600000,1.12582685],[1496620800000,1.11589437],[1496707200000,1.10329624],[1496793600000,1.12263851],[1496880000000,1.14707603],[1496966400000,1.19750141],[1497225600000,1.203741],[1497312000000,1.21755861],[1497398400000,1.21423687],[1497484800000,1.18371993],[1497571200000,1.15962984],[1497830400000,1.17023637],[1497916800000,1.18061124],[1498003200000,1.17612576],[1498089600000,1.21765903],[1498176000000,1.19509697],[1498435200000,1.23311354],[1498521600000,1.26082089],[1498608000000,1.24502133],[1498694400000,1.23475504],[1498780800000,1.23902711],[1499040000000,1.24787427],[1499126400000,1.22013809],[1499212800000,1.22345457],[1499299200000,1.24352556],[1499385600000,1.23884323],[1499644800000,1.22915416],[1499731200000,1.20652213],[1499817600000,1.22239389],[1499904000000,1.19768121],[1499990400000,1.19209469],[1500249600000,1.20633263],[1500336000000,1.18923427],[1500422400000,1.19817328],[1500508800000,1.23561337],[1500595200000,1.25829109],[1500854400000,1.2610415],[1500940800000,1.26615029],[1501027200000,1.25777975],[1501113600000,1.23516113],[1501200000000,1.23867548],[1501459200000,1.26636667],[1501545600000,1.29873443],[1501632000000,1.30422944],[1501718400000,1.29260394],[1501804800000,1.27752581],[1502064000000,1.26679841],[1502150400000,1.30221866],[1502236800000,1.29107899],[1502323200000,1.32245743],[1502409600000,1.31404867],[1502668800000,1.30193378],[1502755200000,1.32302589],[1502841600000,1.32803675],[1502928000000,1.32409475],[1503014400000,1.31936398],[1503273600000,1.31789592],[1503360000000,1.33295062],[1503446400000,1.31828468],[1503532800000,1.32889703],[1503619200000,1.31806965],[1503878400000,1.34365197],[1503964800000,1.35367232],[1504051200000,1.36034184],[1504137600000,1.36171579],[1504224000000,1.35528644],[1504483200000,1.37218177],[1504569600000,1.37264543],[1504656000000,1.37162975],[1504742400000,1.37480587],[1504828800000,1.38722465],[1505088000000,1.38090612],[1505174400000,1.3851227],[1505260800000,1.4213836],[1505347200000,1.43922831],[1505433600000,1.42659277],[1505692800000,1.4169551],[1505779200000,1.44540593],[1505865600000,1.42532458],[1505952000000,1.42916177],[1506038400000,1.40861763],[1506297600000,1.42552548],[1506384000000,1.4475197],[1506470400000,1.45863223],[1506556800000,1.46723487],[1506643200000,1.48078804],[1507507200000,1.51041406],[1507593600000,1.49310575],[1507680000000,1.48383294],[1507766400000,1.49877895],[1507852800000,1.51317078],[1508112000000,1.51263222],[1508198400000,1.49313472],[1508284800000,1.4985033],[1508371200000,1.5237438],[1508457600000,1.52872704],[1508716800000,1.53246142],[1508803200000,1.54296078],[1508889600000,1.55484785],[1508976000000,1.61809032],[1509062400000,1.59654587],[1509321600000,1.62717647],[1509408000000,1.62023515],[1509494400000,1.62650288],[1509580800000,1.61548622],[1509667200000,1.60683073],[1509926400000,1.62956988],[1510012800000,1.70113756],[1510099200000,1.68971675],[1510185600000,1.66539113],[1510272000000,1.692656],[1510531200000,1.73415623],[1510617600000,1.75685902],[1510704000000,1.70461738],[1510790400000,1.70808091],[1510876800000,1.74200554],[1511136000000,1.6984134],[1511222400000,1.72402936],[1511308800000,1.78011622],[1511395200000,1.72790357],[1511481600000,1.62670778],[1511740800000,1.6113091],[1511827200000,1.57096271],[1511913600000,1.61888472],[1512000000000,1.60993104],[1512086400000,1.58733082],[1512345600000,1.5896253],[1512432000000,1.62722982],[1512518400000,1.62775694],[1512604800000,1.59091649],[1512691200000,1.55593451],[1512950400000,1.58978612],[1513036800000,1.6576499],[1513123200000,1.6391225],[1513209600000,1.68098295],[1513296000000,1.66426357],[1513555200000,1.64622944],[1513641600000,1.6607873],[1513728000000,1.6906962],[1513814400000,1.67736408],[1513900800000,1.72267838],[1514160000000,1.71355357],[1514246400000,1.71046725],[1514332800000,1.71555439],[1514419200000,1.66330475],[1514505600000,1.6918053],[1514851200000,1.70851721],[1514937600000,1.71817198],[1515024000000,1.73875046],[1515110400000,1.76829421],[1515369600000,1.75702258],[1515456000000,1.74600153],[1515542400000,1.78297929],[1515628800000,1.77908341],[1515715200000,1.76331297],[1515974400000,1.78362525],[1516060800000,1.7843067],[1516147200000,1.83903951],[1516233600000,1.78863373],[1516320000000,1.82751537],[1516579200000,1.81769497],[1516665600000,1.86430714],[1516752000000,1.89707134],[1516838400000,1.88274581],[1516924800000,1.87306657],[1517184000000,1.89653319],[1517270400000,1.81498477],[1517356800000,1.79807565],[1517443200000,1.85265859],[1517529600000,1.84343966],[1517788800000,1.80628258],[1517875200000,1.75072696],[1517961600000,1.78448727],[1518048000000,1.62105857],[1518134400000,1.53522626],[1518393600000,1.53536876],[1518480000000,1.6084843],[1518566400000,1.6272153],[1519257600000,1.68266434],[1519344000000,1.70989004],[1519603200000,1.72759567],[1519689600000,1.71810545],[1519776000000,1.63765261],[1519862400000,1.62618832],[1519948800000,1.65818943],[1520208000000,1.67803961],[1520294400000,1.68190737],[1520380800000,1.69057166],[1520467200000,1.69789174],[1520553600000,1.71967608],[1520812800000,1.73811859],[1520899200000,1.7131055],[1520985600000,1.68961973],[1521072000000,1.68079344],[1521158400000,1.72544765],[1521417600000,1.69784322],[1521504000000,1.69406208],[1521590400000,1.73665855],[1521676800000,1.70574468],[1521763200000,1.59400049],[1522022400000,1.5926153],[1522108800000,1.64111211],[1522195200000,1.57041823],[1522281600000,1.5407077],[1522368000000,1.5576233],[1522627200000,1.58781298],[1522713600000,1.54463188],[1522800000000,1.578193],[1523232000000,1.5502869],[1523318400000,1.55300298],[1523404800000,1.55905661],[1523491200000,1.542919],[1523577600000,1.56116501],[1523836800000,1.51466078],[1523923200000,1.54163608],[1524009600000,1.4728384],[1524096000000,1.48629548],[1524182400000,1.48351546],[1524441600000,1.46291213],[1524528000000,1.43042529],[1524614400000,1.47240876],[1524700800000,1.51377788],[1524787200000,1.48704915],[1525219200000,1.50536336],[1525305600000,1.51041304],[1525392000000,1.53677982],[1525651200000,1.55467422],[1525737600000,1.62791174],[1525824000000,1.64324971],[1525910400000,1.64920519],[1525996800000,1.67499929],[1526256000000,1.62593673],[1526342400000,1.63871795],[1526428800000,1.67110397],[1526515200000,1.66219312],[1526601600000,1.60821113],[1526860800000,1.6438865],[1526947200000,1.64394676],[1527033600000,1.65798763],[1527120000000,1.63988027],[1527206400000,1.62986281],[1527465600000,1.63952314],[1527552000000,1.67473037],[1527638400000,1.57773197],[1527724800000,1.61023361],[1527811200000,1.65566563],[1528070400000,1.6249545],[1528156800000,1.663215],[1528243200000,1.71510101],[1528329600000,1.77065602],[1528416000000,1.73536664],[1528675200000,1.71813818],[1528761600000,1.68277059],[1528848000000,1.74139247],[1528934400000,1.70302464],[1529020800000,1.67841521],[1529366400000,1.60493079],[1529452800000,1.53903977],[1529539200000,1.60396542],[1529625600000,1.57352385],[1529884800000,1.61635247],[1529971200000,1.58915766],[1530057600000,1.60507998],[1530144000000,1.50510881],[1530230400000,1.49764217],[1530489600000,1.57195465],[1530576000000,1.57953993],[1530662400000,1.51446413],[1530748800000,1.51130212],[1530835200000,1.47223814],[1531094400000,1.47878874],[1531180800000,1.54793864],[1531267200000,1.52175954],[1531353600000,1.54565714],[1531440000000,1.59728104],[1531699200000,1.67278794],[1531785600000,1.69404954],[1531872000000,1.67820874],[1531958400000,1.69099184],[1532044800000,1.63517844],[1532304000000,1.58898134],[1532390400000,1.59955374],[1532476800000,1.61320014],[1532563200000,1.63645744],[1532649600000,1.60654864],[1532908800000,1.57402544],[1532995200000,1.53790324],[1533081600000,1.53797764]]},{\"name\":\"close\",\"yAxis\":0,\"data\":[[1222128000000,0.0],[1222214400000,0.0072381186],[1222300800000,0.0471160548],[1222387200000,0.0565957767],[1223251200000,0.0024582289],[1223337600000,-0.0099035545],[1223424000000,-0.0473750636],[1223510400000,-0.0603631774],[1223596800000,-0.1019646995],[1223856000000,-0.0649829525],[1223942400000,-0.0889389116],[1224028800000,-0.0984798538],[1224115200000,-0.1424925123],[1224201600000,-0.1366718782],[1224460800000,-0.1067822631],[1224547200000,-0.1139968354],[1224633600000,-0.1366436227],[1224720000000,-0.1359560721],[1224806400000,-0.1609998681],[1225065600000,-0.2207743892],[1225152000000,-0.1966865711],[1225238400000,-0.2191026052],[1225324800000,-0.2005293198],[1225411200000,-0.2165407727],[1225670400000,-0.2213065346],[1225756800000,-0.2334469833],[1225843200000,-0.2034678923],[1225929600000,-0.2230772129],[1226016000000,-0.2098677642],[1226275200000,-0.1515484017],[1226361600000,-0.1611128902],[1226448000000,-0.1514777629],[1226534400000,-0.1174487163],[1226620800000,-0.0846864581],[1226880000000,-0.0641682521],[1226966400000,-0.1335826097],[1227052800000,-0.0802079605],[1227139200000,-0.0899702375],[1227225600000,-0.095480061],[1227484800000,-0.1346092264],[1227571200000,-0.1361868254],[1227657600000,-0.1318543146],[1227744000000,-0.1191487558],[1227830400000,-0.138244768],[1228089600000,-0.1221014561],[1228176000000,-0.120015258],[1228262400000,-0.0804387138],[1228348800000,-0.0661885207],[1228435200000,-0.0519430369],[1228694400000,-0.0133931094],[1228780800000,-0.0389125398],[1228867200000,-0.0127573606],[1228953600000,-0.0363271611],[1229040000000,-0.0768078814],[1229299200000,-0.0699088289],[1229385600000,-0.0607634637],[1229472000000,-0.0574811159],[1229558400000,-0.0369111082],[1229644800000,-0.0336099233],[1229904000000,-0.0498850943],[1229990400000,-0.0963183077],[1230076800000,-0.1113313994],[1230163200000,-0.1190074783],[1230249600000,-0.1230903988],[1230508800000,-0.1265469889],[1230595200000,-0.1365871117],[1230681600000,-0.1439900541],[1231113600000,-0.1132669015],[1231200000000,-0.0850867444],[1231286400000,-0.0905588939],[1231372800000,-0.1108981483],[1231459200000,-0.0965961535],[1231718400000,-0.095498898],[1231804800000,-0.1164550643],[1231891200000,-0.0792284363],[1231977600000,-0.0794026786],[1232064000000,-0.0627601861],[1232323200000,-0.052282103],[1232409600000,-0.0462872266],[1232496000000,-0.0479260459],[1232582400000,-0.037170117],[1232668800000,-0.0427599977],[1233532800000,-0.0312788442],[1233619200000,-0.0068613785],[1233705600000,0.0202168139],[1233792000000,0.0129457306],[1233878400000,0.0535912747],[1234137600000,0.0815595155],[1234224000000,0.0957249421],[1234310400000,0.0977923032],[1234396800000,0.0917644621],[1234483200000,0.129777535],[1234742400000,0.1595352911],[1234828800000,0.1232928966],[1234915200000,0.071750146],[1235001600000,0.0823789252],[1235088000000,0.1039990958],[1235347200000,0.1351554995],[1235433600000,0.0839989075],[1235520000000,0.0851291277],[1235606400000,0.0314154124],[1235692800000,0.0080104357],[1235952000000,0.0193974043],[1236038400000,0.0087921713],[1236124800000,0.0761344585],[1236211200000,0.0854446475],[1236297600000,0.0768078814],[1236556800000,0.037226628],[1236643200000,0.0552395125],[1236729600000,0.0456326408],[1236816000000,0.0434287114],[1236902400000,0.0385876015],[1237161600000,0.0556303803],[1237248000000,0.093676418],[1237334400000,0.0985034001],[1237420800000,0.1220072711],[1237507200000,0.1207263549],[1237766400000,0.1487746529],[1237852800000,0.1546047055],[1237939200000,0.1308465349],[1238025600000,0.1677953171],[1238112000000,0.1768088233],[1238371200000,0.170008665],[1238457600000,0.1809812195],[1238544000000,0.2000207207],[1238630400000,0.2132913896],[1238716800000,0.2105129316],[1239062400000,0.2135503984],[1239148800000,0.1675881101],[1239235200000,0.1856339593],[1239321600000,0.2223001865],[1239580800000,0.2510219074],[1239667200000,0.2606052329],[1239753600000,0.2653709948],[1239840000000,0.2654275058],[1239926400000,0.2482764142],[1240185600000,0.2751097255],[1240272000000,0.25993181],[1240358400000,0.2132348786],[1240444800000,0.2213724641],[1240531200000,0.2116384426],[1240790400000,0.1835713075],[1240876800000,0.1860389549],[1240963200000,0.2269340893],[1241049600000,0.2352035338],[1241395200000,0.2782319589],[1241481600000,0.2842174167],[1241568000000,0.3020984422],[1241654400000,0.3030873849],[1241740800000,0.3135136662],[1242000000000,0.2834215533],[1242086400000,0.3132028557],[1242172800000,0.3251831899],[1242259200000,0.315105393],[1242345600000,0.3167630493],[1242604800000,0.3235679168],[1242691200000,0.3374649161],[1242777600000,0.3246463353],[1242864000000,0.2950486937],[1242950400000,0.2906549626],[1243209600000,0.2963249006],[1243296000000,0.2808032098],[1243382400000,0.299616667],[1243814400000,0.3460640081],[1243900800000,0.3492474617],[1243987200000,0.3842324863],[1244073600000,0.3909949705],[1244160000000,0.3841948123],[1244419200000,0.3885131953],[1244505600000,0.3942019704],[1244592000000,0.4078729256],[1244678400000,0.3947058602],[1244764800000,0.368644866],[1245024000000,0.3968532786],[1245110400000,0.3945127809],[1245196800000,0.4177623524],[1245283200000,0.4398204834],[1245369600000,0.4504492625],[1245628800000,0.4516548307],[1245715200000,0.4522858704],[1245801600000,0.4696300413],[1245888000000,0.4683067418],[1245974400000,0.4732514552],[1246233600000,0.4975276433],[1246320000000,0.4911701547],[1246406400000,0.5248083335],[1246492800000,0.5457456628],[1246579200000,0.5668336881],[1246838400000,0.5892544314],[1246924800000,0.573120538],[1247011200000,0.5786680355],[1247097600000,0.599402867],[1247184000000,0.6003494264],[1247443200000,0.5827839207],[1247529600000,0.6269284382],[1247616000000,0.6450826003],[1247702400000,0.6488217454],[1247788800000,0.6575668243],[1248048000000,0.6911484921],[1248134400000,0.6669947445],[1248220800000,0.6985891084],[1248307200000,0.7198042835],[1248393600000,0.7271460056],[1248652800000,0.7629692768],[1248739200000,0.7687098536],[1248825600000,0.6757916251],[1248912000000,0.7117279183],[1248998400000,0.7587262418],[1249257600000,0.7834074255],[1249344000000,0.783209637],[1249430400000,0.7617024884],[1249516800000,0.7250550982],[1249603200000,0.6741810613],[1249862400000,0.6692128016],[1249948800000,0.6747885546],[1250035200000,0.5999208846],[1250121600000,0.6203684518],[1250208000000,0.5749901106],[1250467200000,0.4788319174],[1250553600000,0.4937696611],[1250640000000,0.4196366342],[1250726400000,0.4807721288],[1250812800000,0.5086650216],[1251072000000,0.5208996553],[1251158400000,0.4644969578],[1251244800000,0.4939580312],[1251331200000,0.4863808465],[1251417600000,0.4348051312],[1251676800000,0.332845141],[1251763200000,0.3391696649],[1251849600000,0.3614114567],[1251936000000,0.4372445231],[1252022400000,0.4491024168],[1252281600000,0.4618503588],[1252368000000,0.4932893175],[1252454400000,0.5045632641],[1252540800000,0.4894936613],[1252627200000,0.5249166463],[1252886400000,0.5509399665],[1252972800000,0.5552960235],[1253059200000,0.5343869497],[1253145600000,0.5635183755],[1253232000000,0.506814286],[1253491200000,0.5110102285],[1253577600000,0.4744805696],[1253664000000,0.4410637256],[1253750400000,0.4508872229],[1253836800000,0.440338501],[1254096000000,0.3998907454],[1254182400000,0.3997259216],[1254268800000,0.4150356961],[1255046400000,0.4898704014],[1255305600000,0.4841816264],[1255392000000,0.5062633036],[1255478400000,0.5198636201],[1255564800000,0.5256277431],[1255651200000,0.5266025581],[1255910400000,0.5677849568],[1255996800000,0.5905824401],[1256083200000,0.5866784712],[1256169600000,0.5763369563],[1256256000000,0.6073850472],[1256515200000,0.607851263],[1256601600000,0.5609847985],[1256688000000,0.567865014],[1256774400000,0.529117298],[1256860800000,0.5448085219],[1257120000000,0.5977546292],[1257206400000,0.6178301656],[1257292800000,0.6265234427],[1257379200000,0.6314351913],[1257465600000,0.6402414904],[1257724800000,0.6462552037],[1257811200000,0.6500178952],[1257897600000,0.6461986927],[1257984000000,0.6482330891],[1258070400000,0.6570535159],[1258329600000,0.7074801741],[1258416000000,0.708681033],[1258502400000,0.7095663722],[1258588800000,0.7153163675],[1258675200000,0.7099336937],[1258934400000,0.7261806092],[1259020800000,0.6708798764],[1259107200000,0.7092838171],[1259193600000,0.6415365344],[1259280000000,0.5929088101],[1259539200000,0.6537334941],[1259625600000,0.6768841713],[1259712000000,0.6940729369],[1259798400000,0.6910354701],[1259884800000,0.7158108388],[1260144000000,0.7277440805],[1260230400000,0.7066419274],[1260316800000,0.673893797],[1260403200000,0.6846120519],[1260489600000,0.6835665982],[1260748800000,0.7013346017],[1260835200000,0.6874846949],[1260921600000,0.6768323695],[1261008000000,0.6388899354],[1261094400000,0.5972554486],[1261353600000,0.599553563],[1261440000000,0.5566617063],[1261526400000,0.5712321284],[1261612800000,0.6194266016],[1261699200000,0.6128162262],[1261958400000,0.638081357],[1262044800000,0.6485848701],[1262131200000,0.6761575339],[1262217600000,0.6837431951],[1262563200000,0.6652951758],[1262649600000,0.6783948989],[1262736000000,0.6681150753],[1262822400000,0.6351992955],[1262908800000,0.6390090794],[1263168000000,0.6400813759],[1263254400000,0.6649118428],[1263340800000,0.6110893439],[1263427200000,0.6339292105],[1263513600000,0.6403790005],[1263772800000,0.6488302221],[1263859200000,0.6519472752],[1263945600000,0.5989955168],[1264032000000,0.6055244222],[1264118400000,0.5854714902],[1264377600000,0.5672349163],[1264464000000,0.5272802193],[1264550400000,0.5064271856],[1264636800000,0.510435229],[1264723200000,0.5092734568],[1264982400000,0.4847815849],[1265068800000,0.4816777177],[1265155200000,0.5214675909],[1265241600000,0.5160722022],[1265328000000,0.4849548854],[1265587200000,0.4841298246],[1265673600000,0.4923889088],[1265760000000,0.5136182116],[1265846400000,0.5165021568],[1265932800000,0.5309981728],[1266796800000,0.5229787895],[1266883200000,0.5062637746],[1266969600000,0.5280431179],[1267056000000,0.5503136361],[1267142400000,0.545643472],[1267401600000,0.5657434965],[1267488000000,0.5594825475],[1267574400000,0.5708431443],[1267660800000,0.5307763671],[1267747200000,0.5353433986],[1268006400000,0.5475276433],[1268092800000,0.5569612146],[1268179200000,0.5447835628],[1268265600000,0.5433792642],[1268352000000,0.5228888428],[1268611200000,0.4990845216],[1268697600000,0.5086838586],[1268784000000,0.5417046546],[1268870400000,0.5388955865],[1268956800000,0.5508938158],[1269216000000,0.5552013676],[1269302400000,0.5427166726],[1269388800000,0.5432624748],[1269475200000,0.5206905645],[1269561600000,0.5422518696],[1269820800000,0.5817521239],[1269907200000,0.5857022435],[1269993600000,0.5756418709],[1270080000000,0.5973331512],[1270166400000,0.6045740954],[1270512000000,0.6037080641],[1270598400000,0.5953552659],[1270684800000,0.5759079436],[1270771200000,0.5914277507],[1271030400000,0.5782950628],[1271116800000,0.5972441464],[1271203200000,0.6031420122],[1271289600000,0.5986978921],[1271376000000,0.5809991147],[1271635200000,0.4962698024],[1271721600000,0.4945236122],[1271808000000,0.5243044436],[1271894400000,0.5080499934],[1271980800000,0.5023960668],[1272240000000,0.4941209712],[1272326400000,0.4640877239],[1272412800000,0.458831729],[1272499200000,0.4413924313],[1272585600000,0.4447284646],[1272931200000,0.4219342777],[1273017600000,0.4299941605],[1273104000000,0.3645285098],[1273190400000,0.3359113342],[1273449600000,0.3460936764],[1273536000000,0.3190743497],[1273622400000,0.3272835157],[1273708800000,0.3593732929],[1273795200000,0.3507261665],[1274054400000,0.2784203289],[1274140800000,0.3045707989],[1274227200000,0.3010143726],[1274313600000,0.2839405127],[1274400000000,0.304035828],[1274659200000,0.3533308531],[1274745600000,0.3255142502],[1274832000000,0.3252067361],[1274918400000,0.3467826398],[1275004800000,0.3424473035],[1275264000000,0.3061752406],[1275350400000,0.2925494942],[1275436800000,0.2987708855],[1275523200000,0.2887241698],[1275609600000,0.2925118202],[1275868800000,0.2697411796],[1275955200000,0.2713503306],[1276041600000,0.3101903479],[1276128000000,0.2951475879],[1276214400000,0.2994188784],[1276732800000,0.2918770132],[1276819200000,0.2700270311],[1277078400000,0.3092988867],[1277164800000,0.3110554373],[1277251200000,0.2990685102],[1277337600000,0.2994132273],[1277424000000,0.2886822574],[1277683200000,0.2797436284],[1277769600000,0.2206594835],[1277856000000,0.2067709609],[1277942400000,0.1897828094],[1278028800000,0.193098122],[1278288000000,0.1834921921],[1278374400000,0.2067031477],[1278460800000,0.2152730424],[1278547200000,0.2128943998],[1278633600000,0.2466206416],[1278892800000,0.2602991316],[1278979200000,0.2408070714],[1279065600000,0.2496510445],[1279152000000,0.2285625483],[1279238400000,0.2322371767],[1279497600000,0.2632433552],[1279584000000,0.2911013996],[1279670400000,0.2936891329],[1279756800000,0.3096798651],[1279843200000,0.3153926573],[1280102400000,0.3238547102],[1280188800000,0.3166872304],[1280275200000,0.3487313278],[1280361600000,0.3551241359],[1280448000000,0.3508212933],[1280707200000,0.3735985269],[1280793600000,0.3495587432],[1280880000000,0.354570328],[1280966400000,0.3425268898],[1281052800000,0.3646825023],[1281312000000,0.3743571873],[1281398400000,0.3339843088],[1281484800000,0.3424826229],[1281571200000,0.3265879594],[1281657600000,0.3448283007],[1281916800000,0.375955507],[1282003200000,0.3857592254],[1282089600000,0.3832774502],[1282176000000,0.3918916119],[1282262400000,0.3650126208],[1282521600000,0.3642045133],[1282608000000,0.3714883116],[1282694400000,0.3388508486],[1282780800000,0.3421788762],[1282867200000,0.3461723209],[1283126400000,0.3727513327],[1283212800000,0.3671849982],[1283299200000,0.3581667828],[1283385600000,0.3757558348],[1283472000000,0.3752001432],[1283731200000,0.4010445118],[1283817600000,0.404821331],[1283904000000,0.4038135513],[1283990400000,0.3781434249],[1284076800000,0.3810113587],[1284336000000,0.3950307985],[1284422400000,0.396297587],[1284508800000,0.3718942491],[1284595200000,0.3458049993],[1284681600000,0.3474909111],[1284940800000,0.3420564357],[1285027200000,0.3456590126],[1285545600000,0.3680515004],[1285632000000,0.3566927873],[1285718400000,0.3538201443],[1285804800000,0.3824335525],[1286496000000,0.4336042722],[1286755200000,0.4753611995],[1286841600000,0.4941181457],[1286928000000,0.5152391358],[1287014400000,0.5183284043],[1287100800000,0.5670879876],[1287360000000,0.5569536798],[1287446400000,0.5896876825],[1287532800000,0.5996760035],[1287619200000,0.5892261759],[1287705600000,0.5910957485],[1287964800000,0.6393278957],[1288051200000,0.6322640194],[1288137600000,0.6029677699],[1288224000000,0.6000574529],[1288310400000,0.5917173696],[1288569600000,0.635522821],[1288656000000,0.6308747904],[1288742400000,0.610723906],[1288828800000,0.6390547592],[1288915200000,0.6580330401],[1289174400000,0.6711106297],[1289260800000,0.6595164541],[1289347200000,0.647818675],[1289433600000,0.6529376307],[1289520000000,0.5502053233],[1289779200000,0.5610648558],[1289865600000,0.4926158947],[1289952000000,0.4617090813],[1290038400000,0.4824533313],[1290124800000,0.4970002072],[1290384000000,0.4937461149],[1290470400000,0.4632490063],[1290556800000,0.4961478328],[1290643200000,0.5180175938],[1290729600000,0.5045350086],[1290988800000,0.5022745682],[1291075200000,0.4772872831],[1291161600000,0.4768304858],[1291248000000,0.4857968994],[1291334400000,0.4872567672],[1291593600000,0.4907463221],[1291680000000,0.5071203873],[1291766400000,0.4937178594],[1291852800000,0.4708732835],[1291939200000,0.489055701],[1292198400000,0.5357149585],[1292284800000,0.5396754384],[1292371200000,0.5293951438],[1292457600000,0.5214035451],[1292544000000,0.5190442104],[1292803200000,0.4969107314],[1292889600000,0.5302757737],[1292976000000,0.5142360653],[1293062400000,0.501596436],[1293148800000,0.4895172076],[1293408000000,0.459731196],[1293494400000,0.4339339198],[1293580800000,0.4418925537],[1293667200000,0.4429615537],[1293753600000,0.4731761071],[1294099200000,0.5021003259],[1294185600000,0.4954979562],[1294272000000,0.4879537363],[1294358400000,0.4912407934],[1294617600000,0.4637246407],[1294704000000,0.4716032174],[1294790400000,0.4798067323],[1294876800000,0.4793075518],[1294963200000,0.456034434],[1295222400000,0.4006960273],[1295308800000,0.4022500801],[1295395200000,0.4338962458],[1295481600000,0.3867378077],[1295568000000,0.4049861548],[1295827200000,0.3912210146],[1295913600000,0.3838840017],[1296000000000,0.4026174016],[1296086400000,0.4252406427],[1296172800000,0.4300770433],[1296432000000,0.448805734],[1296518400000,0.4491683463],[1297209600000,0.432059638],[1297296000000,0.4618268126],[1297382400000,0.469738354],[1297641600000,0.5159737789],[1297728000000,0.515281519],[1297814400000,0.5298142671],[1297900800000,0.5285804434],[1297987200000,0.5125548628],[1298246400000,0.5342315444],[1298332800000,0.4898091812],[1298419200000,0.4950647051],[1298505600000,0.5026936915],[1298592000000,0.5058394711],[1298851200000,0.5255900691],[1298937600000,0.5328093507],[1299024000000,0.527351329],[1299110400000,0.5171887656],[1299196800000,0.5402405485],[1299456000000,0.570304406],[1299542400000,0.571693635],[1299628800000,0.5723529301],[1299715200000,0.5447567201],[1299801600000,0.5292727033],[1300060800000,0.5365908791],[1300147200000,0.5088251361],[1300233600000,0.5296588619],[1300320000000,0.50559459],[1300406400000,0.5143490873],[1300665600000,0.5103085501],[1300752000000,0.5177727127],[1300838400000,0.5375374385],[1300924800000,0.5311469851],[1301011200000,0.5514532748],[1301270400000,0.5496119577],[1301356800000,0.5342645092],[1301443200000,0.5333697515],[1301529600000,0.517928118],[1301616000000,0.5412106542],[1302048000000,0.559265922],[1302134400000,0.5655527719],[1302220800000,0.5791813438],[1302480000000,0.5697958069],[1302566400000,0.5666594458],[1302652800000,0.5879735152],[1302739200000,0.5792755288],[1302825600000,0.5818091058],[1303084800000,0.5820445684],[1303171200000,0.5520796052],[1303257600000,0.5520560589],[1303344000000,0.56223275],[1303430400000,0.5540245258],[1303689600000,0.5303040292],[1303776000000,0.5215401134],[1303862400000,0.5114340611],[1303948800000,0.488961516],[1304035200000,0.5035319381],[1304380800000,0.512201669],[1304467200000,0.4735387195],[1304553600000,0.4721683275],[1304640000000,0.4699455611],[1304899200000,0.4738824948],[1304985600000,0.4849303973],[1305072000000,0.4810970671],[1305158400000,0.4606212444],[1305244800000,0.4730960499],[1305504000000,0.4600843898],[1305590400000,0.4674166934],[1305676800000,0.4784127941],[1305763200000,0.469587658],[1305849600000,0.4700397461],[1306108800000,0.4235971142],[1306195200000,0.4251229114],[1306281600000,0.4082261194],[1306368000000,0.4025938554],[1306454400000,0.3954970143],[1306713600000,0.3913528736],[1306800000000,0.4135098988],[1306886400000,0.4147390133],[1306972800000,0.3919179837],[1307059200000,0.4063471283],[1307404800000,0.4147813966],[1307491200000,0.4168487577],[1307577600000,0.3901190499],[1307664000000,0.3948471377],[1307923200000,0.3893938252],[1308009600000,0.4097424982],[1308096000000,0.3954075386],[1308182400000,0.3739616102],[1308268800000,0.3619906945],[1308528000000,0.3538625275],[1308614400000,0.3699540377],[1308700800000,0.3697232844],[1308787200000,0.3928221599],[1308873600000,0.4257115678],[1309132800000,0.4299593121],[1309219200000,0.4324269595],[1309305600000,0.412855313],[1309392000000,0.4335383427],[1309478400000,0.4362037787],[1309737600000,0.4702186976],[1309824000000,0.4704635787],[1309910400000,0.4663241472],[1309996800000,0.4606589184],[1310083200000,0.4641908565],[1310342400000,0.4660886846],[1310428800000,0.4395756023],[1310515200000,0.462811046],[1310601600000,0.4672848343],[1310688000000,0.4734727899],[1310947200000,0.4705106712],[1311033600000,0.4575696498],[1311120000000,0.4558978658],[1311206400000,0.4406257653],[1311292800000,0.4447934523],[1311552000000,0.3978422213],[1311638400000,0.4023065911],[1311724800000,0.412798802],[1311811200000,0.4038276791],[1311897600000,0.3996270273],[1312156800000,0.4022830448],[1312243200000,0.3922335035],[1312329600000,0.3915224066],[1312416000000,0.3940842391],[1312502400000,0.3644677605],[1312761600000,0.3157175956],[1312848000000,0.3177378643],[1312934400000,0.3299489517],[1313020800000,0.3501045454],[1313107200000,0.3540791531],[1313366400000,0.3741028877],[1313452800000,0.3645431085],[1313539200000,0.3590945052],[1313625600000,0.3347194228],[1313712000000,0.3221975248],[1313971200000,0.3081309925],[1314057600000,0.3284796655],[1314144000000,0.323308908],[1314230400000,0.3674910995],[1314316800000,0.3662572758],[1314576000000,0.3434597924],[1314662400000,0.3382466517],[1314748800000,0.3406201142],[1314835200000,0.3348512819],[1314921600000,0.3204033002],[1315180800000,0.2921336674],[1315267200000,0.2824702846],[1315353600000,0.3087431951],[1315440000000,0.2979166274],[1315526400000,0.2955572927],[1315872000000,0.2810480909],[1315958400000,0.2870900597],[1316044800000,0.2851781039],[1316131200000,0.2875044738],[1316390400000,0.2617354531],[1316476800000,0.2667131313],[1316563200000,0.3049381204],[1316649600000,0.2647587922],[1316736000000,0.2571250965],[1316995200000,0.2295477235],[1317081600000,0.2422438638],[1317168000000,0.2293923183],[1317254400000,0.2188435964],[1317340800000,0.2156224688],[1318204800000,0.204193117],[1318291200000,0.2017961083],[1318377600000,0.2454838284],[1318464000000,0.253885132],[1318550400000,0.2497315727],[1318809600000,0.2559336561],[1318896000000,0.2207367152],[1318982400000,0.2164371692],[1319068800000,0.1869808051],[1319155200000,0.1810236028],[1319414400000,0.2134185394],[1319500800000,0.2363808465],[1319587200000,0.2487285023],[1319673600000,0.2514739955],[1319760000000,0.2757454744],[1320019200000,0.2692890915],[1320105600000,0.2703345452],[1320192000000,0.2914602445],[1320278400000,0.2923597114],[1320364800000,0.3015192043],[1320624000000,0.2885687645],[1320710400000,0.2845470643],[1320796800000,0.2958210108],[1320883200000,0.2713046509],[1320969600000,0.2691431047],[1321228800000,0.2951381694],[1321315200000,0.2925386629],[1321401600000,0.2574264886],[1321488000000,0.2536119954],[1321574400000,0.2274662347],[1321833600000,0.2289684857],[1321920000000,0.2288695914],[1322006400000,0.2168751295],[1322092800000,0.2191873717],[1322179200000,0.2102633413],[1322438400000,0.2118409403],[1322524800000,0.2284410496],[1322611200000,0.1874470209],[1322697600000,0.2166867595],[1322784000000,0.2041836985],[1323043200000,0.1871833029],[1323129600000,0.185007629],[1323216000000,0.1906069282],[1323302400000,0.1890858402],[1323388800000,0.1789421139],[1323648000000,0.1668063744],[1323734400000,0.1502345207],[1323820800000,0.130959557],[1323907200000,0.1083221881],[1323993600000,0.125572174],[1324252800000,0.1228784825],[1324339200000,0.1194218924],[1324425600000,0.1015455761],[1324512000000,0.1025910298],[1324598400000,0.1109876241],[1324857600000,0.0999397216],[1324944000000,0.0854964492],[1325030400000,0.086862132],[1325116800000,0.088477405],[1325203200000,0.1046678094],[1325635200000,0.0825390397],[1325721600000,0.0720091548],[1325808000000,0.0787010002],[1326067200000,0.1154190291],[1326153600000,0.1525185074],[1326240000000,0.1469898469],[1326326400000,0.1468061861],[1326412800000,0.1275500593],[1326672000000,0.1046254262],[1326758400000,0.1587582647],[1326844800000,0.1406700322],[1326931200000,0.1624079341],[1327017600000,0.1792387967],[1327881600000,0.1588147757],[1327968000000,0.1604818505],[1328054400000,0.1438723228],[1328140800000,0.1708327839],[1328227200000,0.1801806469],[1328486400000,0.1793471095],[1328572800000,0.1575103133],[1328659200000,0.1906116375],[1328745600000,0.1910778533],[1328832000000,0.1931452145],[1329091200000,0.1923728973],[1329177600000,0.1877248667],[1329264000000,0.2006753066],[1329350400000,0.1942989809],[1329436800000,0.1947793245],[1329696000000,0.1964840733],[1329782400000,0.2067219847],[1329868800000,0.2232184904],[1329955200000,0.2273532127],[1330041600000,0.2470190442],[1330300800000,0.2510454537],[1330387200000,0.2538192024],[1330473600000,0.240482604],[1330560000000,0.240105864],[1330646400000,0.2620462637],[1330905600000,0.2539322245],[1330992000000,0.2343181947],[1331078400000,0.2258179969],[1331164800000,0.2412596304],[1331251200000,0.2546857046],[1331510400000,0.2500235463],[1331596800000,0.2625831183],[1331683200000,0.2268116488],[1331769600000,0.2176003541],[1331856000000,0.2354813796],[1332115200000,0.2385376834],[1332201600000,0.2170823365],[1332288000000,0.2186552263],[1332374400000,0.216752689],[1332460800000,0.2022434871],[1332720000000,0.2034207998],[1332806400000,0.1995121216],[1332892800000,0.1654924935],[1332979200000,0.1505264942],[1333065600000,0.1560739917],[1333584000000,0.1833546819],[1333670400000,0.1866511575],[1333929600000,0.1750287264],[1334016000000,0.1866323205],[1334102400000,0.1867500518],[1334188800000,0.2104846761],[1334275200000,0.2151986362],[1334534400000,0.2121800064],[1334620800000,0.1970350557],[1334707200000,0.2243628384],[1334793600000,0.2225497768],[1334880000000,0.2370448509],[1335139200000,0.2272496091],[1335225600000,0.2266986268],[1335312000000,0.2366445646],[1335398400000,0.2392346526],[1335484800000,0.2367246218],[1335916800000,0.263722757],[1336003200000,0.2675042854],[1336089600000,0.2789760205],[1336348800000,0.2798707782],[1336435200000,0.2757925669],[1336521600000,0.2514881233],[1336608000000,0.2513468457],[1336694400000,0.2417917758],[1336953600000,0.2317186882],[1337040000000,0.2325851903],[1337126400000,0.2124672707],[1337212800000,0.2309699173],[1337299200000,0.2121517509],[1337558400000,0.2183915083],[1337644800000,0.23736508],[1337731200000,0.2323497278],[1337817600000,0.2221730367],[1337904000000,0.2117373368],[1338163200000,0.2313231111],[1338249600000,0.2483517622],[1338336000000,0.2443065157],[1338422400000,0.2394936613],[1338508800000,0.2399457494],[1338768000000,0.2051114209],[1338854400000,0.2050219451],[1338940800000,0.204343813],[1339027200000,0.1971763332],[1339113600000,0.1887703204],[1339372800000,0.2047488086],[1339459200000,0.196234483],[1339545600000,0.215288112],[1339632000000,0.2057660067],[1339718400000,0.2093591651],[1339977600000,0.2155565393],[1340064000000,0.2049183416],[1340150400000,0.2020880818],[1340236800000,0.1830532899],[1340582400000,0.1568368904],[1340668800000,0.1560834103],[1340755200000,0.1524478686],[1340841600000,0.142337107],[1340928000000,0.1592338991],[1341187200000,0.1609433571],[1341273600000,0.1625821764],[1341360000000,0.1607926611],[1341446400000,0.1445221994],[1341532800000,0.164414075],[1341792000000,0.1377738429],[1341878400000,0.1333801119],[1341964800000,0.142261759],[1342051200000,0.1533803003],[1342137600000,0.1540631416],[1342396800000,0.1300930548],[1342483200000,0.1369073408],[1342569600000,0.136968561],[1342656000000,0.1416731026],[1342742400000,0.1294949799],[1343001600000,0.1139403244],[1343088000000,0.1189132933],[1343174400000,0.1114208752],[1343260800000,0.1054919283],[1343347200000,0.106254827],[1343606400000,0.0999821048],[1343692800000,0.0986305499],[1343779200000,0.1107474523],[1343865600000,0.099553563],[1343952000000,0.1084352101],[1344211200000,0.1234435926],[1344297600000,0.1249788084],[1344384000000,0.1254120594],[1344470400000,0.1357300281],[1344556800000,0.1301024733],[1344816000000,0.1075828357],[1344902400000,0.1099798444],[1344988800000,0.098013638],[1345075200000,0.0923907925],[1345161600000,0.0894757662],[1345420800000,0.0839706519],[1345507200000,0.0895793697],[1345593600000,0.0810509164],[1345680000000,0.0841637312],[1345766400000,0.071674798],[1346025600000,0.0493152749],[1346112000000,0.05412342],[1346198400000,0.043009588],[1346284800000,0.0413896057],[1346371200000,0.0383285927],[1346630400000,0.0493953322],[1346716800000,0.0381119671],[1346803200000,0.0359786765],[1346889600000,0.0444270725],[1346976000000,0.091218189],[1347235200000,0.0956872681],[1347321600000,0.0887269953],[1347408000000,0.0925791625],[1347494400000,0.0824024714],[1347580800000,0.0904458719],[1347840000000,0.0636831993],[1347926400000,0.0526305875],[1348012800000,0.0578107635],[1348099200000,0.0341279409],[1348185600000,0.0355925179],[1348444800000,0.0433439448],[1348531200000,0.0408150771],[1348617600000,0.0289195095],[1348704000000,0.0603914329],[1348790400000,0.0798830222],[1349654400000,0.0690234897],[1349740800000,0.0926215458],[1349827200000,0.0944864091],[1349913600000,0.0843191365],[1350000000000,0.0852609867],[1350259200000,0.0807071411],[1350345600000,0.0822611939],[1350432000000,0.0835044361],[1350518400000,0.1001186731],[1350604800000,0.0984186336],[1350864000000,0.1027134703],[1350950400000,0.0888164711],[1351036800000,0.0867914932],[1351123200000,0.0790023923],[1351209600000,0.0585972084],[1351468800000,0.0529178518],[1351555200000,0.0548156799],[1351641600000,0.0618513007],[1351728000000,0.0821293349],[1351814400000,0.0863158589],[1352073600000,0.0840130352],[1352160000000,0.0794591896],[1352246400000,0.0772411325],[1352332800000,0.0574198956],[1352419200000,0.055305442],[1352678400000,0.0604526532],[1352764800000,0.0418934956],[1352851200000,0.0469182662],[1352937600000,0.0330306855],[1353024000000,0.0253169326],[1353283200000,0.0242573511],[1353369600000,0.0194962985],[1353456000000,0.0336334696],[1353542400000,0.0254629194],[1353628800000,0.0325880159],[1353888000000,0.0245446154],[1353974400000,0.0127903253],[1354060800000,0.0026748545],[1354147200000,-0.0036732157],[1354233600000,0.0076195679],[1354492800000,-0.006889634],[1354579200000,0.0037626914],[1354665600000,0.0397460772],[1354752000000,0.0377305178],[1354838400000,0.0580556445],[1355097600000,0.0694944148],[1355184000000,0.063584305],[1355270400000,0.0679497805],[1355356800000,0.0561154332],[1355443200000,0.1094335713],[1355702400000,0.1145383992],[1355788800000,0.1152071129],[1355875200000,0.1166151789],[1355961600000,0.1230715618],[1356048000000,0.1170343022],[1356307200000,0.1213762315],[1356393600000,0.1530129787],[1356480000000,0.157354908],[1356566400000,0.1512187541],[1356652800000,0.1679177576],[1356912000000,0.1881204438],[1357257600000,0.1888079944],[1357516800000,0.1942613069],[1357603200000,0.1892412455],[1357689600000,0.1896179856],[1357776000000,0.1917088929],[1357862400000,0.1694152994],[1358121600000,0.21391772],[1358208000000,0.2224555918],[1358294400000,0.2136163279],[1358380800000,0.2021587206],[1358467200000,0.2222578032],[1358726400000,0.229538305],[1358812800000,0.2229453539],[1358899200000,0.2279183228],[1358985600000,0.2162817639],[1359072000000,0.211063914],[1359331200000,0.2488273965],[1359417600000,0.2601343078],[1359504000000,0.2661809859],[1359590400000,0.265319193],[1359676800000,0.2918982048],[1359936000000,0.294116262],[1360022400000,0.3052536403],[1360108800000,0.3072126886],[1360195200000,0.299692015],[1360281600000,0.3052771865],[1361145600000,0.2891432931],[1361232000000,0.2647211182],[1361318400000,0.2727409724],[1361404800000,0.2293734813],[1361491200000,0.2228040763],[1361750400000,0.22674101],[1361836800000,0.2091425396],[1361923200000,0.2218999002],[1362009600000,0.2589381581],[1362096000000,0.2568237045],[1362355200000,0.198843408],[1362441600000,0.2351470228],[1362528000000,0.2480456609],[1362614400000,0.2335788423],[1362700800000,0.2276687325],[1362960000000,0.2208120632],[1363046400000,0.2035008571],[1363132800000,0.1902584437],[1363219200000,0.1934513158],[1363305600000,0.1960884962],[1363564800000,0.1784853166],[1363651200000,0.1891329327],[1363737600000,0.2291945297],[1363824000000,0.2314643886],[1363910400000,0.2330278599],[1364169600000,0.2305743402],[1364256000000,0.2126556407],[1364342400000,0.2166490855],[1364428800000,0.1769830655],[1364515200000,0.1749957617],[1364774400000,0.1741057133],[1364860800000,0.1709034227],[1364947200000,0.1695659954],[1365379200000,0.1642680882],[1365465600000,0.1723350349],[1365552000000,0.1703948236],[1365638400000,0.1668958502],[1365724800000,0.1594693616],[1365984000000,0.1475596662],[1366070400000,0.1582826304],[1366156800000,0.1577551943],[1366243200000,0.1607596963],[1366329600000,0.1932441087],[1366588800000,0.1917559855],[1366675200000,0.1535168685],[1366761600000,0.1752312242],[1366848000000,0.1621865994],[1366934400000,0.1524996704],[1367452800000,0.1535969258],[1367539200000,0.1739738542],[1367798400000,0.1895473468],[1367884800000,0.1914122101],[1367971200000,0.1974683067],[1368057600000,0.1903997212],[1368144000000,0.1965452936],[1368403200000,0.191803078],[1368489600000,0.174176352],[1368576000000,0.1805762239],[1368662400000,0.2021351743],[1368748800000,0.2206613672],[1369008000000,0.2289308117],[1369094400000,0.2313984591],[1369180800000,0.2328960009],[1369267200000,0.2163288564],[1369353600000,0.2231007591],[1369612800000,0.2242121423],[1369699200000,0.2452954584],[1369785600000,0.2444477932],[1369872000000,0.2405673705],[1369958400000,0.2274332699],[1370217600000,0.2256390453],[1370304000000,0.2082383634],[1370390400000,0.2058225178],[1370476800000,0.1904232675],[1370563200000,0.1698532597],[1371081600000,0.1301919491],[1371168000000,0.1381176182],[1371427200000,0.1320285569],[1371513600000,0.1390500499],[1371600000000,0.1305781076],[1371686400000,0.0932384576],[1371772800000,0.0913170833],[1372032000000,0.0224772543],[1372118400000,0.0197505981],[1372204800000,0.0211068623],[1372291200000,0.0175466687],[1372377600000,0.0363365796],[1372636800000,0.0423079097],[1372723200000,0.0463861209],[1372809600000,0.0378388306],[1372896000000,0.0463861209],[1372982400000,0.0486795261],[1373241600000,0.0189029329],[1373328000000,0.0184555541],[1373414400000,0.0473656451],[1373500800000,0.0956966866],[1373587200000,0.0715288112],[1373846400000,0.0865654492],[1373932800000,0.0915337088],[1374019200000,0.0750466216],[1374105600000,0.0573822216],[1374192000000,0.0315519807],[1374451200000,0.0370665135],[1374537600000,0.0670408951],[1374624000000,0.0591811555],[1374710400000,0.0537796447],[1374796800000,0.0473420988],[1375056000000,0.0247188577],[1375142400000,0.0310386724],[1375228800000,0.0327481304],[1375315200000,0.0573963494],[1375401600000,0.0582911071],[1375660800000,0.0729227494],[1375747200000,0.0801326125],[1375833600000,0.0740011679],[1375920000000,0.0721928156],[1376006400000,0.0765394541],[1376265600000,0.1079878313],[1376352000000,0.1109452408],[1376438400000,0.1062406992],[1376524800000,0.0932902594],[1376611200000,0.0850773259],[1376870400000,0.0979288715],[1376956800000,0.0890001319],[1377043200000,0.0871729425],[1377129600000,0.0849784316],[1377216000000,0.0769727052],[1377475200000,0.0999020476],[1377561600000,0.1023791135],[1377648000000,0.0963418539],[1377734400000,0.0917503344],[1377820800000,0.089678264],[1378080000000,0.0927063123],[1378166400000,0.1087931132],[1378252800000,0.1070035979],[1378339200000,0.1027841091],[1378425600000,0.1103377475],[1378684800000,0.1493444723],[1378771200000,0.1654877842],[1378857600000,0.1692551849],[1378944000000,0.1808258142],[1379030400000,0.1720854446],[1379289600000,0.167136022],[1379376000000,0.1430858779],[1379462400000,0.1455299791],[1379894400000,0.164263379],[1379980800000,0.1508891066],[1380067200000,0.1438911598],[1380153600000,0.1228926102],[1380240000000,0.1278514514],[1380499200000,0.1344773673],[1381190400000,0.1499095824],[1381276800000,0.1554523706],[1381363200000,0.1440277281],[1381449600000,0.1624832822],[1381708800000,0.1643811103],[1381795200000,0.1620170663],[1381881600000,0.1402838736],[1381968000000,0.136497636],[1382054400000,0.142487803],[1382313600000,0.1638065816],[1382400000000,0.1518309567],[1382486400000,0.1389276094],[1382572800000,0.1304603764],[1382659200000,0.1154143199],[1382918400000,0.1141852054],[1383004800000,0.1170578484],[1383091200000,0.133738015],[1383177600000,0.1178442933],[1383264000000,0.1231374913],[1383523200000,0.1210136192],[1383609600000,0.1225770904],[1383696000000,0.1083551529],[1383782400000,0.1022237083],[1383868800000,0.0868715505],[1384128000000,0.0906106957],[1384214400000,0.1019646995],[1384300800000,0.077533106],[1384387200000,0.0852468589],[1384473600000,0.1070177256],[1384732800000,0.1438299395],[1384819200000,0.1359466536],[1384905600000,0.1419226929],[1384992000000,0.1349247462],[1385078400000,0.1292595174],[1385337600000,0.1248657864],[1385424000000,0.124295967],[1385510400000,0.1370391998],[1385596800000,0.1488358732],[1385683200000,0.1485580274],[1385942400000,0.1390688869],[1386028800000,0.1503663797],[1386115200000,0.1656055155],[1386201600000,0.1623372954],[1386288000000,0.1548448773],[1386547200000,0.1541761637],[1386633600000,0.1553299301],[1386720000000,0.1362292087],[1386806400000,0.1349341647],[1386892800000,0.1333471471],[1387152000000,0.1151129278],[1387238400000,0.1096784524],[1387324800000,0.1100787387],[1387411200000,0.0983903781],[1387497600000,0.0728332737],[1387756800000,0.0758754497],[1387843200000,0.0775943263],[1387929600000,0.0855341232],[1388016000000,0.0668007233],[1388102400000,0.0847665153],[1388361600000,0.0828733965],[1388448000000,0.0972695764],[1388620800000,0.0934786294],[1388707200000,0.0787857668],[1388966400000,0.0542317328],[1389052800000,0.0539303408],[1389139200000,0.0557716578],[1389225600000,0.0464991429],[1389312000000,0.0383191742],[1389571200000,0.033058941],[1389657600000,0.0420865749],[1389744000000,0.0402452578],[1389830400000,0.0416109405],[1389916800000,0.0259055889],[1390176000000,0.0200190254],[1390262400000,0.0301062407],[1390348800000,0.0566617063],[1390435200000,0.0510529885],[1390521600000,0.0575470454],[1390780800000,0.0435323149],[1390867200000,0.0453830505],[1390953600000,0.0491174864],[1391040000000,0.037188954],[1391731200000,0.0419123326],[1391990400000,0.0678367585],[1392076800000,0.0763275378],[1392163200000,0.0790071016],[1392249600000,0.0734972781],[1392336000000,0.0810414979],[1392595200000,0.0886139733],[1392681600000,0.0748582515],[1392768000000,0.0872059073],[1392854400000,0.077212877],[1392940800000,0.0663109613],[1393200000000,0.0428683105],[1393286400000,0.0162139507],[1393372800000,0.0188040387],[1393459200000,0.0144244354],[1393545600000,0.026131633],[1393804800000,0.031500179],[1393891200000,0.0286275359],[1393977600000,0.019072466],[1394064000000,0.023616893],[1394150400000,0.0211351178],[1394409600000,-0.0120980654],[1394496000000,-0.0069791098],[1394582400000,-0.0044031495],[1394668800000,0.0079350877],[1394755200000,-0.0003013921],[1395014400000,0.0092112947],[1395100800000,0.0068990525],[1395187200000,-0.0012291145],[1395273600000,-0.0171934749],[1395360000000,0.016633074],[1395619200000,0.0249919943],[1395705600000,0.0239983423],[1395792000000,0.0224019063],[1395878400000,0.0151779155],[1395964800000,0.0134166557],[1396224000000,0.0107465104],[1396310400000,0.0186627611],[1396396800000,0.0269604611],[1396483200000,0.0195575188],[1396569600000,0.029192646],[1396915200000,0.0536101117],[1397001600000,0.0542223143],[1397088000000,0.0707706218],[1397174400000,0.0693154633],[1397433600000,0.0683453576],[1397520000000,0.0499086405],[1397606400000,0.0513543805],[1397692800000,0.0477141296],[1397779200000,0.0475634336],[1398038400000,0.0300308927],[1398124800000,0.034523518],[1398211200000,0.0331860908],[1398297600000,0.0315472715],[1398384000000,0.0208855275],[1398643200000,0.0054109292],[1398729600000,0.0164776687],[1398816000000,0.0165671445],[1399248000000,0.0155358186],[1399334400000,0.0159408141],[1399420800000,0.0065176032],[1399507200000,0.0056605195],[1399593600000,0.0049117486],[1399852800000,0.0266402321],[1399939200000,0.0241914216],[1400025600000,0.0230235274],[1400112000000,0.0097010568],[1400198400000,0.0105816867],[1400457600000,-0.0039275152],[1400544000000,-0.0036308324],[1400630400000,0.0058535988],[1400716800000,0.0034801364],[1400803200000,0.0117401624],[1401062400000,0.0153050653],[1401148800000,0.011208017],[1401235200000,0.0216013337],[1401321600000,0.0149189067],[1401408000000,0.0155311093],[1401753600000,0.0124512593],[1401840000000,0.0022557312],[1401926400000,0.0127714883],[1402012800000,0.005293198],[1402272000000,0.0050859909],[1402358400000,0.017796259],[1402444800000,0.0175607964],[1402531200000,0.0140947878],[1402617600000,0.0248460075],[1402876800000,0.0321971481],[1402963200000,0.0217520297],[1403049600000,0.0173112061],[1403136000000,0.001615273],[1403222400000,0.0062397574],[1403481600000,0.0050059337],[1403568000000,0.0100495413],[1403654400000,0.0046574491],[1403740800000,0.0120556822],[1403827200000,0.0126113738],[1404086400000,0.0196093205],[1404172800000,0.0193456025],[1404259200000,0.0223171398],[1404345600000,0.0267061616],[1404432000000,0.0260044832],[1404691200000,0.0248695538],[1404777600000,0.0268380206],[1404864000000,0.0118814399],[1404950400000,0.0091218189],[1405036800000,0.0115517923],[1405296000000,0.0227362631],[1405382400000,0.0242526419],[1405468800000,0.0223171398],[1405555200000,0.0158183736],[1405641600000,0.019147814],[1405900800000,0.0201603029],[1405987200000,0.0325974344],[1406073600000,0.0350132801],[1406160000000,0.0534641249],[1406246400000,0.0645026089],[1406505600000,0.0943828056],[1406592000000,0.097900616],[1406678400000,0.0934927572],[1406764800000,0.1067916816],[1406851200000,0.0969728936],[1407110400000,0.118739051],[1407196800000,0.1157863507],[1407283200000,0.1128995799],[1407369600000,0.0960592989],[1407456000000,0.0977875939],[1407715200000,0.1139026504],[1407801600000,0.1099939722],[1407888000000,0.1108651836],[1407974400000,0.1000574529],[1408060800000,0.1116845932],[1408320000000,0.1182398704],[1408406400000,0.1183387647],[1408492800000,0.1142746812],[1408579200000,0.1086706727],[1408665600000,0.1139073596],[1408924800000,0.1033115452],[1409011200000,0.0944722813],[1409097600000,0.0961205191],[1409184000000,0.088439731],[1409270400000,0.1011594176],[1409529600000,0.1091792718],[1409616000000,0.1238438789],[1409702400000,0.1343831823],[1409788800000,0.1425678603],[1409875200000,0.1534179743],[1410220800000,0.1515154369],[1410307200000,0.1454923051],[1410393600000,0.1412633978],[1410480000000,0.1482848908],[1410739200000,0.1477339085],[1410825600000,0.1249270066],[1410912000000,0.1308465349],[1410998400000,0.1342984158],[1411084800000,0.142092226],[1411344000000,0.1202931038],[1411430400000,0.129965905],[1411516800000,0.1499331286],[1411603200000,0.147630305],[1411689600000,0.1477386177],[1411948800000,0.1527304236],[1412035200000,0.1542326747],[1412726400000,0.1671313128],[1412812800000,0.1688172246],[1412899200000,0.161673291],[1413158400000,0.156097538],[1413244800000,0.1521464765],[1413331200000,0.1602981898],[1413417600000,0.1511292784],[1413504000000,0.1498719084],[1413763200000,0.155984516],[1413849600000,0.1459443932],[1413936000000,0.1389982482],[1414022400000,0.1283082487],[1414108800000,0.1258453105],[1414368000000,0.1155414697],[1414454400000,0.1380611072],[1414540800000,0.1544163354],[1414627200000,0.1626810707],[1414713600000,0.1812308098],[1414972800000,0.1832228229],[1415059200000,0.1835147965],[1415145600000,0.1789374046],[1415232000000,0.1801712284],[1415318400000,0.178325202],[1415577600000,0.2082666189],[1415664000000,0.2049136323],[1415750400000,0.2217303671],[1415836800000,0.2148689886],[1415923200000,0.2155000283],[1416182400000,0.2089117863],[1416268800000,0.1968184301],[1416355200000,0.1948405448],[1416441600000,0.1947840338],[1416528000000,0.2166161207],[1416787200000,0.2476029913],[1416873600000,0.2646975719],[1416960000000,0.2823384256],[1417046400000,0.297158438],[1417132800000,0.3227437979],[1417392000000,0.3279192646],[1417478400000,0.3769566937],[1417564800000,0.3974937367],[1417651200000,0.4619162884],[1417737600000,0.4715890896],[1417996800000,0.5318627913],[1418083200000,0.4631218566],[1418169600000,0.5171087083],[1418256000000,0.4989592556],[1418342400000,0.5037721099],[1418601600000,0.515074312],[1418688000000,0.5556539266],[1418774400000,0.5825908414],[1418860800000,0.5756823704],[1418947200000,0.5932196206],[1419206400000,0.5985457833],[1419292800000,0.5657882344],[1419379200000,0.5212716861],[1419465600000,0.5707329478],[1419552000000,0.6227324957],[1419811200000,0.627262795],[1419897600000,0.6282470285],[1419984000000,0.664112683],[1420416000000,0.7148925349],[1420502400000,0.7146664909],[1420588800000,0.7159521163],[1420675200000,0.6761448189],[1420761600000,0.6702394183],[1421020800000,0.654632961],[1421107200000,0.6548495865],[1421193600000,0.649377437],[1421280000000,0.6972705182],[1421366400000,0.7118833236],[1421625600000,0.580029009],[1421712000000,0.599365193],[1421798400000,0.6712613257],[1421884800000,0.6800770433],[1421971200000,0.6820172547],[1422230400000,0.6990929983],[1422316800000,0.683524215],[1422403200000,0.6601616215],[1422489600000,0.6396669618],[1422576000000,0.6173404035],[1422835200000,0.5794638989],[1422921600000,0.6187814342],[1423008000000,0.6019788272],[1423094400000,0.5855812157],[1423180800000,0.5599016708],[1423440000000,0.5756776612],[1423526400000,0.6044135099],[1423612800000,0.6172132537],[1423699200000,0.6213338482],[1423785600000,0.6340299885],[1424044800000,0.6479929173],[1424131200000,0.6587488462],[1424822400000,0.6382212218],[1424908800000,0.6794554222],[1424995200000,0.6825399815],[1425254400000,0.6959236725],[1425340800000,0.6519581065],[1425427200000,0.6627517095],[1425513600000,0.6465142125],[1425600000000,0.6381223275],[1425859200000,0.6660152203],[1425945600000,0.6579435643],[1426032000000,0.6598461017],[1426118400000,0.6919584832],[1426204800000,0.7036468439],[1426464000000,0.7450929606],[1426550400000,0.7693220562],[1426636800000,0.8112014241],[1426723200000,0.8082298868],[1426809600000,0.833108859],[1427068800000,0.8705426941],[1427155200000,0.8710089099],[1427241600000,0.8556379151],[1427328000000,0.8601540867],[1427414400000,0.8703717483],[1427673600000,0.925226515],[1427760000000,0.9078117053],[1427846400000,0.942047959],[1427932800000,0.9424623731],[1428019200000,0.964011905],[1428364800000,1.0061597001],[1428451200000,1.0229999812],[1428537600000,1.0071486428],[1428624000000,1.0458963588],[1428883200000,1.0819927666],[1428969600000,1.0900502948],[1429056000000,1.0628920451],[1429142400000,1.1255439185],[1429228800000,1.1644376213],[1429488000000,1.1294855614],[1429574400000,1.1752783167],[1429660800000,1.2320954283],[1429747200000,1.2326040274],[1429833600000,1.2145911428],[1430092800000,1.2640147305],[1430179200000,1.2330608247],[1430265600000,1.2483517622],[1430352000000,1.2368423531],[1430697600000,1.2546668676],[1430784000000,1.1647672688],[1430870400000,1.1442773184],[1430956800000,1.1050775143],[1431043200000,1.1466649085],[1431302400000,1.2088882401],[1431388800000,1.2356791682],[1431475200000,1.2220317592],[1431561600000,1.2137152222],[1431648000000,1.1744824533],[1431907200000,1.1545481945],[1431993600000,1.2280501818],[1432080000000,1.2392111063],[1432166400000,1.2797389191],[1432252800000,1.3317055023],[1432512000000,1.4014824722],[1432598400000,1.4483018441],[1432684800000,1.4400653644],[1432771200000,1.2764565713],[1432857600000,1.2796682804],[1433116800000,1.3905004992],[1433203200000,1.4308540697],[1433289600000,1.4222455592],[1433376000000,1.4400606552],[1433462400000,1.4631972046],[1433721600000,1.5212151751],[1433808000000,1.5041253037],[1433894400000,1.5001930793],[1433980800000,1.4990063481],[1434067200000,1.5124418408],[1434326400000,1.4587799273],[1434412800000,1.3851507902],[1434499200000,1.4200039558],[1434585600000,1.321919679],[1434672000000,1.1837031665],[1435017600000,1.2538898412],[1435104000000,1.2981756362],[1435190400000,1.2164183322],[1435276800000,1.0420206454],[1435536000000,0.973906041],[1435622400000,1.1064479063],[1435708800000,1.002853806],[1435795200000,0.9345602502],[1435881600000,0.8299772072],[1436140800000,0.8830127903],[1436227200000,0.8497937348],[1436313600000,0.7250174242],[1436400000000,0.83549174],[1436486400000,0.933882118],[1436745600000,0.9834469833],[1436832000000,0.9365145893],[1436918400000,0.8680467911],[1437004800000,0.8824570987],[1437091200000,0.9550454914],[1437350400000,0.9593356189],[1437436800000,0.9618786144],[1437523200000,0.9577109273],[1437609600000,1.0018130616],[1437696000000,0.966715015],[1437955200000,0.7983357507],[1438041600000,0.7947378831],[1438128000000,0.8509145365],[1438214400000,0.7967722795],[1438300800000,0.7973797728],[1438560000000,0.8032851734],[1438646400000,0.8592875845],[1438732800000,0.8210202121],[1438819200000,0.8045142879],[1438905600000,0.8398807618],[1439164800000,0.9234275811],[1439251200000,0.9150969164],[1439337600000,0.8912963626],[1439424000000,0.9192363479],[1439510400000,0.9183321717],[1439769600000,0.9203712773],[1439856000000,0.8014815303],[1439942400000,0.8300808107],[1440028800000,0.7713611619],[1440115200000,0.6904044305],[1440374400000,0.5425292444],[1440460800000,0.4329920696],[1440547200000,0.4248733212],[1440633600000,0.5096162902],[1440720000000,0.5739682031],[1440979200000,0.5853881365],[1441065600000,0.5832878106],[1441152000000,0.5850537796],[1441584000000,0.5307372803],[1441670400000,0.5700736527],[1441756800000,0.6008156422],[1441843200000,0.5811592292],[1441929600000,0.5762757361],[1442188800000,0.5451664249],[1442275200000,0.4844641814],[1442361600000,0.5584088383],[1442448000000,0.5243845009],[1442534400000,0.5311046019],[1442793600000,0.5579379132],[1442880000000,0.5724329874],[1442966400000,0.5366426809],[1443052800000,0.546988905],[1443139200000,0.5220063292],[1443398400000,0.5270923202],[1443484800000,0.4970002072],[1443571200000,0.5083495018],[1444262400000,0.552395125],[1444348800000,0.5729462957],[1444608000000,0.6236037071],[1444694400000,0.6223557556],[1444780800000,0.6040226421],[1444867200000,0.6420262965],[1444953600000,0.6642775067],[1445212800000,0.6643340177],[1445299200000,0.6848286775],[1445385600000,0.6356405523],[1445472000000,0.6597895907],[1445558400000,0.6817865014],[1445817600000,0.6902725714],[1445904000000,0.6919773202],[1445990400000,0.6599732515],[1446076800000,0.6639243129],[1446163200000,0.6642869252],[1446422400000,0.6369167593],[1446508800000,0.6319861736],[1446595200000,0.7087705088],[1446681600000,0.7452342381],[1446768000000,0.7863930906],[1447027200000,0.8085171511],[1447113600000,0.8051688737],[1447200000000,0.805361953],[1447286400000,0.7873113945],[1447372800000,0.7641983913],[1447632000000,0.7726232411],[1447718400000,0.7699201311],[1447804800000,0.7497598282],[1447891200000,0.777728069],[1447977600000,0.7774502232],[1448236800000,0.7675372502],[1448323200000,0.7678009682],[1448409600000,0.7808550116],[1448496000000,0.7704098932],[1448582400000,0.6750758189],[1448841600000,0.6795119332],[1448928000000,0.6914216286],[1449014400000,0.7527643303],[1449100800000,0.7656394221],[1449187200000,0.7318693842],[1449446400000,0.7365880536],[1449532800000,0.7061710023],[1449619200000,0.7122553544],[1449705600000,0.7061992578],[1449792000000,0.699125963],[1450051200000,0.7477536873],[1450137600000,0.7397809257],[1450224000000,0.7355661461],[1450310400000,0.7687428184],[1450396800000,0.7744033379],[1450656000000,0.8205822518],[1450742400000,0.8256494057],[1450828800000,0.8207753311],[1450915200000,0.8033605214],[1451001600000,0.8075046622],[1451260800000,0.7554344755],[1451347200000,0.7715636597],[1451433600000,0.7731177124],[1451520000000,0.757021493],[1451865600000,0.6343031251],[1451952000000,0.638244768],[1452038400000,0.666985326],[1452124800000,0.5514061823],[1452211200000,0.5830429295],[1452470400000,0.5034047884],[1452556800000,0.5143585058],[1452643200000,0.486183058],[1452729600000,0.5171181268],[1452816000000,0.4686881911],[1453075200000,0.4743392921],[1453161600000,0.5178480607],[1453248000000,0.4948951721],[1453334400000,0.4510803021],[1453420800000,0.4662064159],[1453680000000,0.4734727899],[1453766400000,0.3847599224],[1453852800000,0.3799753235],[1453939200000,0.3439071712],[1454025600000,0.3873876844],[1454284800000,0.3661772185],[1454371200000,0.3945645827],[1454457600000,0.3885885433],[1454544000000,0.4055983574],[1454630400000,0.3957230584],[1455494400000,0.3876796579],[1455580800000,0.4302136116],[1455667200000,0.4425942321],[1455753600000,0.4380639328],[1455840000000,0.4370655716],[1456099200000,0.4687541206],[1456185600000,0.4548571213],[1456272000000,0.4643603895],[1456358400000,0.3745125925],[1456444800000,0.388301279],[1456704000000,0.355072805],[1456790400000,0.3801354381],[1456876800000,0.4369478403],[1456963200000,0.4402866992],[1457049600000,0.456990412],[1457308800000,0.4621470416],[1457395200000,0.4634797596],[1457481600000,0.4466394786],[1457568000000,0.4189679206],[1457654400000,0.4213837663],[1457913600000,0.4437103246],[1458000000000,0.4479910336],[1458086400000,0.4551726411],[1458172800000,0.4712641513],[1458259200000,0.4937555334],[1458518400000,0.530242809],[1458604800000,0.5191054307],[1458691200000,0.5239559591],[1458777600000,0.4984129825],[1458864000000,0.5059336561],[1459123200000,0.4927053704],[1459209600000,0.4765432215],[1459296000000,0.5146222239],[1459382400000,0.5154793076],[1459468800000,0.5172735321],[1459814400000,0.5373302315],[1459900800000,0.5340525929],[1459987200000,0.5113351668],[1460073600000,0.5002401718],[1460332800000,0.5211351178],[1460419200000,0.5156488406],[1460505600000,0.5358656545],[1460592000000,0.542670522],[1460678400000,0.5409657732],[1460937600000,0.5203580914],[1461024000000,0.5249967035],[1461110400000,0.4980268239],[1461196800000,0.4884058244],[1461283200000,0.4951400531],[1461542400000,0.4890792473],[1461628800000,0.497146194],[1461715200000,0.4909111459],[1461801600000,0.4883964059],[1461888000000,0.4865927628],[1462233600000,0.5133365984],[1462320000000,0.5114152241],[1462406400000,0.5135155499],[1462492800000,0.4741603406],[1462752000000,0.4436726506],[1462838400000,0.4453208884],[1462924800000,0.451772562],[1463011200000,0.4552244429],[1463097600000,0.4480663816],[1463356800000,0.4576591256],[1463443200000,0.4532842315],[1463529600000,0.4448122893],[1463616000000,0.4422080735],[1463702400000,0.4496110159],[1463961600000,0.4538493416],[1464048000000,0.4427025449],[1464134400000,0.4406681485],[1464220800000,0.4430133554],[1464307200000,0.4422080735],[1464566400000,0.4441906681],[1464652800000,0.4926253132],[1464739200000,0.4883822781],[1464825600000,0.4914668375],[1464912000000,0.5019307928],[1465171200000,0.4969719517],[1465257600000,0.4961525421],[1465344000000,0.4900022604],[1465776000000,0.4440164259],[1465862400000,0.4485561437],[1465948800000,0.4675768079],[1466035200000,0.4573577335],[1466121600000,0.4647465481],[1466380800000,0.4658343851],[1466467200000,0.4628440108],[1466553600000,0.4758603801],[1466640000000,0.4680241867],[1466726400000,0.4491118353],[1466985600000,0.4695405655],[1467072000000,0.4770094373],[1467158400000,0.4840686044],[1467244800000,0.4852600448],[1467331200000,0.4853919039],[1467590400000,0.5091736207],[1467676800000,0.5104356999],[1467763200000,0.5148718142],[1467849600000,0.5116459774],[1467936000000,0.5033247311],[1468195200000,0.5085284533],[1468281600000,0.5414225705],[1468368000000,0.5459858346],[1468454400000,0.5431084823],[1468540800000,0.5428824383],[1468800000000,0.5361670465],[1468886400000,0.5296729896],[1468972800000,0.524667056],[1469059200000,0.5316932582],[1469145600000,0.5188087479],[1469404800000,0.5215071486],[1469491200000,0.5397319494],[1469577600000,0.5155499463],[1469664000000,0.5169156291],[1469750400000,0.5088110083],[1470009600000,0.49603952],[1470096000000,0.5018036431],[1470182400000,0.503903969],[1470268800000,0.5075677661],[1470355200000,0.5093666999],[1470614400000,0.5230564922],[1470700800000,0.5337935841],[1470787200000,0.527370166],[1470873600000,0.5226703336],[1470960000000,0.5513355435],[1471219200000,0.5980466027],[1471305600000,0.5909026692],[1471392000000,0.5884538588],[1471478400000,0.58442274],[1471564800000,0.5846723303],[1471824000000,0.5713781152],[1471910400000,0.5737515776],[1471996800000,0.5681146043],[1472083200000,0.5582769793],[1472169600000,0.5573916401],[1472428800000,0.5577165784],[1472515200000,0.5596991731],[1472601600000,0.5671397894],[1472688000000,0.5547968429],[1472774400000,0.5606975342],[1473033600000,0.563320587],[1473120000000,0.5741236084],[1473206400000,0.5732759433],[1473292800000,0.5726825777],[1473379200000,0.5625482698],[1473638400000,0.5364401831],[1473724800000,0.5353711832],[1473811200000,0.5251992013],[1474243200000,0.5366850641],[1474329600000,0.5339913727],[1474416000000,0.5383427204],[1474502400000,0.5498709665],[1474588800000,0.542595174],[1474848000000,0.5165106335],[1474934400000,0.52615047],[1475020800000,0.5215071486],[1475107200000,0.5278646373],[1475193600000,0.5320511613],[1476057600000,0.5511660105],[1476144000000,0.5571420498],[1476230400000,0.5540574905],[1476316800000,0.5553007328],[1476403200000,0.556807693],[1476662400000,0.5436359184],[1476748800000,0.5640976134],[1476835200000,0.5617006047],[1476921600000,0.5628119879],[1477008000000,0.5671162431],[1477267200000,0.5858778985],[1477353600000,0.5858166783],[1477440000000,0.579859476],[1477526400000,0.5755740577],[1477612800000,0.572951005],[1477872000000,0.5711379434],[1477958400000,0.5818609076],[1478044800000,0.5697581329],[1478131200000,0.5847005858],[1478217600000,0.5795627932],[1478476800000,0.5807024319],[1478563200000,0.5875449733],[1478649600000,0.5790353571],[1478736000000,0.5967233033],[1478822400000,0.6092546198],[1479081600000,0.6153907736],[1479168000000,0.6152118221],[1479254400000,0.6150799631],[1479340800000,0.6183481832],[1479427200000,0.6093676418],[1479686400000,0.6205050201],[1479772800000,0.6333377286],[1479859200000,0.6363375214],[1479945600000,0.6429351819],[1480032000000,0.6582685026],[1480291200000,0.6647578503],[1480377600000,0.6783958408],[1480464000000,0.6661329516],[1480550400000,0.6788667659],[1480636800000,0.6618710795],[1480896000000,0.6338322],[1480982400000,0.6290005086],[1481068800000,0.636817865],[1481155200000,0.6341759753],[1481241600000,0.6452709703],[1481500800000,0.6054683821],[1481587200000,0.6035187522],[1481673600000,0.5912323168],[1481760000000,0.5730922825],[1481846400000,0.575729463],[1482105600000,0.5677001903],[1482192000000,0.5583193626],[1482278400000,0.5722022341],[1482364800000,0.5708506791],[1482451200000,0.5576318119],[1482710400000,0.5646015032],[1482796800000,0.5617712434],[1482883200000,0.5549428297],[1482969600000,0.5529979091],[1483056000000,0.5587997061],[1483401600000,0.5739399476],[1483488000000,0.5862216739],[1483574400000,0.5859767928],[1483660800000,0.5765017801],[1483920000000,0.5841448942],[1484006400000,0.581493586],[1484092800000,0.5702996967],[1484179200000,0.5623504813],[1484265600000,0.5634288997],[1484524800000,0.5632122742],[1484611200000,0.5664663665],[1484697600000,0.5725931019],[1484784000000,0.567846177],[1484870400000,0.5799018592],[1485129600000,0.5842296607],[1485216000000,0.584403903],[1485302400000,0.5897959953],[1485388800000,0.5954753518],[1486080000000,0.58442274],[1486339200000,0.5885292068],[1486425600000,0.5849831409],[1486512000000,0.5932761316],[1486598400000,0.5993981577],[1486684800000,0.6074980692],[1486944000000,0.6182257426],[1487030400000,0.6180044079],[1487116800000,0.6113690734],[1487203200000,0.6204202535],[1487289600000,0.6112419236],[1487548800000,0.6347646316],[1487635200000,0.6401473054],[1487721600000,0.6434155255],[1487808000000,0.6356735171],[1487894400000,0.6359231074],[1488153600000,0.6229114472],[1488240000000,0.6260148436],[1488326400000,0.6286661518],[1488412800000,0.6176747603],[1488499200000,0.6142652627],[1488758400000,0.6230338878],[1488844800000,0.6265564074],[1488931200000,0.6240934692],[1489017600000,0.6138320116],[1489104000000,0.6142793904],[1489363200000,0.6285060373],[1489449600000,0.6278420329],[1489536000000,0.6311149622],[1489622400000,0.6395303935],[1489708800000,0.622718368],[1489968000000,0.6245078833],[1490054400000,0.6323911692],[1490140800000,0.6247150903],[1490227200000,0.6303332266],[1490313600000,0.6433401774],[1490572800000,0.6378962835],[1490659200000,0.63402057],[1490745600000,0.6318448961],[1490832000000,0.6184564959],[1490918400000,0.6275406408],[1491350400000,0.6500696969],[1491436800000,0.6548542958],[1491523200000,0.6564601503],[1491782400000,0.6506583533],[1491868800000,0.6563989301],[1491955200000,0.6526833311],[1492041600000,0.6550991768],[1492128000000,0.6418803097],[1492387200000,0.6387910411],[1492473600000,0.6306911297],[1492560000000,0.6227513327],[1492646400000,0.6301307288],[1492732800000,0.6325983763],[1492992000000,0.615866408],[1493078400000,0.6204390905],[1493164800000,0.6224216852],[1493251200000,0.6231469098],[1493337600000,0.6198645619],[1493683200000,0.6136624786],[1493769600000,0.6073285362],[1493856000000,0.6032126509],[1493942400000,0.5929276471],[1494201600000,0.5817478855],[1494288000000,0.578790476],[1494374400000,0.571806657],[1494460800000,0.5807306874],[1494547200000,0.5942603651],[1494806400000,0.6007638405],[1494892800000,0.6146372935],[1494979200000,0.6058404129],[1495065600000,0.6002552414],[1495152000000,0.6029583514],[1495411200000,0.6064384878],[1495497600000,0.6125369676],[1495584000000,0.6125275491],[1495670400000,0.6414847326],[1495756800000,0.6390217944],[1496188800000,0.6448848117],[1496275200000,0.6471735076],[1496361600000,0.6418850189],[1496620800000,0.6335213894],[1496707200000,0.6448848117],[1496793600000,0.664188031],[1496880000000,0.67695481],[1496966400000,0.6841081621],[1497225600000,0.6832699154],[1497312000000,0.6869808051],[1497398400000,0.6648614538],[1497484800000,0.6617957315],[1497571200000,0.6570723529],[1497830400000,0.6735123477],[1497916800000,0.6701311055],[1498003200000,0.6896603688],[1498089600000,0.6907811705],[1498176000000,0.7061050728],[1498435200000,0.7273955959],[1498521600000,0.7305178292],[1498608000000,0.717072918],[1498694400000,0.7277440805],[1498780800000,0.7267881025],[1499040000000,0.7192768474],[1499126400000,0.7047393901],[1499212800000,0.7234351159],[1499299200000,0.7236329045],[1499385600000,0.7216691469],[1499644800000,0.7206142747],[1499731200000,0.7286765121],[1499817600000,0.7230301204],[1499904000000,0.7362631153],[1499990400000,0.7438779739],[1500249600000,0.7252623053],[1500336000000,0.7269670541],[1500422400000,0.7564328367],[1500508800000,0.7649707085],[1500595200000,0.7558912728],[1500854400000,0.7628939288],[1500940800000,0.75163411],[1501027200000,0.7449611016],[1501113600000,0.7481633922],[1501200000000,0.7527313655],[1501459200000,0.7602567484],[1501545600000,0.7755665229],[1501632000000,0.7710786068],[1501718400000,0.7555286605],[1501804800000,0.7459924275],[1502064000000,0.7550388984],[1502150400000,0.7575913124],[1502236800000,0.75704033],[1502323200000,0.7499199427],[1502409600000,0.7176286096],[1502668800000,0.7399174939],[1502755200000,0.7452766214],[1502841600000,0.743091529],[1502928000000,0.7524441012],[1503014400000,0.7540405372],[1503273600000,0.7617260346],[1503360000000,0.7670521973],[1503446400000,0.7688370034],[1503532800000,0.7587403696],[1503619200000,0.7875138923],[1503878400000,0.8096285343],[1503964800000,0.8057810763],[1504051200000,0.8056680543],[1504137600000,0.799918059],[1504224000000,0.803897376],[1504483200000,0.8109989263],[1504569600000,0.8163816],[1504656000000,0.8128025694],[1504742400000,0.8035818562],[1504828800000,0.8017546669],[1505088000000,0.8015945523],[1505174400000,0.8073775124],[1505260800000,0.8095814418],[1505347200000,0.8036242395],[1505433600000,0.8042552791],[1505692800000,0.8098310321],[1505779200000,0.8046414376],[1505865600000,0.8095013845],[1505952000000,0.8073257106],[1506038400000,0.8072833274],[1506297600000,0.7978930812],[1506384000000,0.7993011472],[1506470400000,0.7994989357],[1506556800000,0.8001299753],[1506643200000,0.8067040895],[1507507200000,0.8282300752],[1507593600000,0.8318326521],[1507680000000,0.8378746209],[1507766400000,0.8427063123],[1507852800000,0.8464972592],[1508112000000,0.8429417748],[1508198400000,0.8427628233],[1508284800000,0.8574038842],[1508371200000,0.8513242413],[1508457600000,0.849252171],[1508716800000,0.8511123251],[1508803200000,0.8645807825],[1508889600000,0.8728455177],[1508976000000,0.8806770019],[1509062400000,0.8940465651],[1509321600000,0.8882777328],[1509408000000,0.8868649575],[1509494400000,0.8821086142],[1509580800000,0.882348786],[1509667200000,0.8802625878],[1509926400000,0.893537966],[1510012800000,0.9092480268],[1510099200000,0.9063094543],[1510185600000,0.9194435549],[1510272000000,0.9364015672],[1510531200000,0.9440117166],[1510617600000,0.9304867482],[1510704000000,0.918393392],[1510790400000,0.9331521842],[1510876800000,0.9406116375],[1511136000000,0.951433496],[1511222400000,0.986220732],[1511308800000,0.9908687626],[1511395200000,0.9319230697],[1511481600000,0.9327707348],[1511740800000,0.907223049],[1511827200000,0.9099873792],[1511913600000,0.9090125643],[1512000000000,0.886572984],[1512086400000,0.8828244203],[1512345600000,0.8925819881],[1512432000000,0.9026174016],[1512518400000,0.8911503758],[1512604800000,0.870071769],[1512691200000,0.8852920677],[1512950400000,0.9164296344],[1513036800000,0.8912445608],[1513123200000,0.9072889785],[1513209600000,0.8960150319],[1513296000000,0.8746868348],[1513555200000,0.8767730329],[1513641600000,0.9003381242],[1513728000000,0.8980588468],[1513814400000,0.915652608],[1513900800000,0.9094128506],[1514160000000,0.903262569],[1514246400000,0.908951344],[1514332800000,0.8795609095],[1514419200000,0.8926008251],[1514505600000,0.8982283798],[1514851200000,0.9248591934],[1514937600000,0.9361566862],[1515024000000,0.9443602012],[1515110400000,0.9490411965],[1515369600000,0.9591237026],[1515456000000,0.9728464596],[1515542400000,0.9815632829],[1515628800000,0.9805178292],[1515715200000,0.9896584851],[1515974400000,0.9897715071],[1516060800000,1.0054203477],[1516147200000,1.0005462731],[1516233600000,1.0115188276],[1516320000000,1.0181023603],[1516579200000,1.0422137246],[1516665600000,1.0638809878],[1516752000000,1.0673093224],[1516838400000,1.0556256711],[1516924800000,1.063264076],[1517184000000,1.0259291352],[1517270400000,1.0043042553],[1517356800000,1.013628572],[1517443200000,0.9995008194],[1517529600000,1.0114293518],[1517788800000,1.0128044531],[1517875200000,0.9538163769],[1517961600000,0.9074820578],[1518048000000,0.8893749882],[1518134400000,0.8086584286],[1518393600000,0.8319456741],[1518480000000,0.8533868932],[1518566400000,0.8681409761],[1519257600000,0.9085322207],[1519344000000,0.9171784053],[1519603200000,0.9394672895],[1519689600000,0.9114755025],[1519776000000,0.89483301],[1519862400000,0.9068180534],[1519948800000,0.8914517679],[1520208000000,0.892224085],[1520294400000,0.9150451146],[1520380800000,0.9009597453],[1520467200000,0.9202441276],[1520553600000,0.934969955],[1520812800000,0.9438233466],[1520899200000,0.926672255],[1520985600000,0.9182379867],[1521072000000,0.9289844971],[1521158400000,0.9102699343],[1521417600000,0.9186665285],[1521504000000,0.9202912201],[1521590400000,0.9124503174],[1521676800000,0.8932836664],[1521763200000,0.8389342023],[1522022400000,0.827137529],[1522108800000,0.8428570083],[1522195200000,0.8096332435],[1522281600000,0.8338058282],[1522368000000,0.8359014448],[1522627200000,0.8304481323],[1522713600000,0.8189387232],[1522800000000,0.8153502741],[1523232000000,0.8144413887],[1523318400000,0.849402867],[1523404800000,0.8546631002],[1523491200000,0.8359673743],[1523577600000,0.8230169345],[1523836800000,0.7936877202],[1523923200000,0.7653286115],[1524009600000,0.77363573],[1524096000000,0.7950910769],[1524182400000,0.7710786068],[1524441600000,0.7736592763],[1524528000000,0.8099958559],[1524614400000,0.8030308738],[1524700800000,0.7685544484],[1524787200000,0.7692090342],[1525219200000,0.7723971971],[1525305600000,0.7862188483],[1525392000000,0.7775538267],[1525651200000,0.8056162526],[1525737600000,0.8265677096],[1525824000000,0.8232429785],[1525910400000,0.8333396123],[1525996800000,0.8238175071],[1526256000000,0.8409827265],[1526342400000,0.847957127],[1526428800000,0.8332360088],[1526515200000,0.8196780756],[1526601600000,0.8380488632],[1526860800000,0.8466102812],[1526947200000,0.8395322772],[1527033600000,0.8152184151],[1527120000000,0.8023339047],[1527206400000,0.7972855878],[1527465600000,0.8051782922],[1527552000000,0.7914037335],[1527638400000,0.7534283346],[1527724800000,0.7906361256],[1527811200000,0.7756654171],[1528070400000,0.793084936],[1528156800000,0.8108576488],[1528243200000,0.8071043758],[1528329600000,0.8041187108],[1528416000000,0.7799178707],[1528675200000,0.7800874037],[1528761600000,0.8017358299],[1528848000000,0.7840243374],[1528934400000,0.7769745889],[1529020800000,0.7675843427],[1529366400000,0.7052762447],[1529452800000,0.7120198919],[1529539200000,0.6920197035],[1529625600000,0.6995215401],[1529884800000,0.6767193475],[1529971200000,0.6628882777],[1530057600000,0.6290523104],[1530144000000,0.6122261571],[1530230400000,0.6534085558],[1530489600000,0.6048938535],[1530576000000,0.6055154746],[1530662400000,0.5840742555],[1530748800000,0.5740388419],[1530835200000,0.5847194228],[1531094400000,0.6290146364],[1531180800000,0.6329421516],[1531267200000,0.6046913557],[1531353600000,0.6393184772],[1531440000000,0.644795336],[1531699200000,0.6350942792],[1531785600000,0.6243995705],[1531872000000,0.6158946635],[1531958400000,0.6144913067],[1532044800000,0.644889521],[1532304000000,0.6603641193],[1532390400000,0.686717087],[1532476800000,0.6848522237],[1532563200000,0.6653088327],[1532649600000,0.6582355379],[1532908800000,0.6553393486],[1532995200000,0.6565543353],[1533081600000,0.6234624296]]}],\"xAxis\":{\"title\":{\"text\":\"date\"},\"type\":\"datetime\"},\"yAxis\":[{}]});</script>"
      ],
      "text/plain": [
       "<IPython.core.display.HTML object>"
      ]
     },
     "metadata": {},
     "output_type": "display_data"
    }
   ],
   "source": [
    "df = show_df.dropna(how='any', inplace=False).copy()\n",
    "# df.drop(columns=['open', 'high', 'low', 'o_pct_chg', 'TR', 'N'], inplace=True)\n",
    "df.columns\n",
    "\n",
    "df['close'] = (df['close'] - df.iloc[0]['close']) / df.iloc[0]['close']\n",
    "for col in sorted(df.columns):\n",
    "    if 'PROPERTY' in col:\n",
    "        df[col] = (df[col] - df.iloc[1][col]) / df.iloc[0][col]\n",
    "    if 'CASH' in col:\n",
    "        df[col] = df[col] / df.iloc[0][col]\n",
    "\n",
    "df = df.loc[:, ['close', 'CASH_TURTLE_20_60_60', 'PROPERTY_TURTLE_20_60_60']]\n",
    "df.reset_index(drop=False, inplace=True)\n",
    "# df.dtypes\n",
    "# df.iloc[0].date\n",
    "# df.iloc[0].date.to_timestamp()\n",
    "# df.iloc[0].date.to_timestamp().to_datetime64()\n",
    "df['date'] = df['date'].apply(lambda x: x.to_timestamp().to_datetime64())\n",
    "# df.iloc[0].date\n",
    "df.set_index(keys=['date'], inplace=True)\n",
    "# df\n",
    "\n",
    "display_charts(df, chart_type='stock', figsize=(900, 600), logy=False)"
   ]
  }
 ],
 "metadata": {
  "kernelspec": {
   "display_name": "Python 3",
   "language": "python",
   "name": "python3"
  },
  "language_info": {
   "codemirror_mode": {
    "name": "ipython",
    "version": 3
   },
   "file_extension": ".py",
   "mimetype": "text/x-python",
   "name": "python",
   "nbconvert_exporter": "python",
   "pygments_lexer": "ipython3",
   "version": "3.6.1"
  }
 },
 "nbformat": 4,
 "nbformat_minor": 2
}
