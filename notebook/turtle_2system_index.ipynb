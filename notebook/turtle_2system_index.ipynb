{
 "cells": [
  {
   "cell_type": "code",
   "execution_count": 1,
   "metadata": {
    "scrolled": false
   },
   "outputs": [
    {
     "data": {
      "text/html": [
       "\n",
       "<script src=\"//code.highcharts.com/stock/highstock.js\"></script>\n",
       "<script src=\"//code.highcharts.com/highcharts-more.js\"></script>\n",
       "<script src=\"//code.highcharts.com/modules/exporting.js\"></script>\n"
      ],
      "text/plain": [
       "<IPython.core.display.HTML object>"
      ]
     },
     "metadata": {},
     "output_type": "display_data"
    },
    {
     "data": {
      "text/plain": [
       "<module 'pandas' from 'd:\\\\python3\\\\lib\\\\site-packages\\\\pandas\\\\__init__.py'>"
      ]
     },
     "execution_count": 1,
     "metadata": {},
     "output_type": "execute_result"
    }
   ],
   "source": [
    "import os\n",
    "import sys\n",
    "sys.path.append(os.path.abspath(os.path.join(os.getcwd(), '..')))\n",
    "\n",
    "import pandas as pd\n",
    "pd.core.common.is_list_like = pd.api.types.is_list_like\n",
    "emp = None\n",
    "import empyrical as emp\n",
    "import tushare as ts\n",
    "import time\n",
    "import random\n",
    "# from concurrent.futures import ProcessPoolExecutor\n",
    "\n",
    "from common.log import *\n",
    "from common.config import Config\n",
    "from spider.spider_nasdaq import Spider_nasdaq\n",
    "\n",
    "from IPython.core.interactiveshell import InteractiveShell\n",
    "InteractiveShell.ast_node_interactivity = 'all'\n",
    "\n",
    "from pandas_highcharts.core import serialize\n",
    "from pandas_highcharts.display import display_charts\n",
    "\n",
    "CONF = Config().data[0]\n",
    "MONGODB = CONF['MONGODB']\n",
    "NASDAQ = CONF['NASDAQ']\n",
    "CRYPTOCURRENCY = CONF['CRYPTOCURRENCY']\n",
    "NASDAQ100 = CONF['NASDAQ100']\n",
    "# NASDAQ100 = ['NDX', 'TSLA', 'NVDA', 'AMZN', 'GOOGL', 'GOOG', 'BIDU', 'FB', 'JD']\n",
    "# HS300 = list(ts.get_hs300s()['code']) + ['399300']\n",
    "# print(HS300)\n",
    "BENCHMARK = '399300'\n",
    "\n",
    "TARGET = ['399300', 'NDX']\n",
    "TARGET = ['399300']\n",
    "\n",
    "pd"
   ]
  },
  {
   "cell_type": "code",
   "execution_count": 2,
   "metadata": {
    "scrolled": false
   },
   "outputs": [],
   "source": [
    "# %%time\n",
    "\n",
    "# # for symbol in HS300[:]:\n",
    "# for symbol in ['399300']:\n",
    "#     df = ts.get_k_data(code=symbol, index=True, start='2005-01-01', end='2018-08-01')\n",
    "# #     df = ts.get_k_data(code=symbol, ktype='D', autype='qfq', index=False, start='2008-01-01', end='2018-08-01')\n",
    "# #     print(df)\n",
    "#     datafile = '../database/market/%s.csv' % symbol\n",
    "#     df.to_csv(datafile, index=False, encoding='utf-8')\n",
    "#     print(datafile)\n",
    "#     time.sleep(1)"
   ]
  },
  {
   "cell_type": "code",
   "execution_count": 3,
   "metadata": {},
   "outputs": [
    {
     "name": "stdout",
     "output_type": "stream",
     "text": [
      "Wall time: 0 ns\n"
     ]
    }
   ],
   "source": [
    "%%time\n",
    "\n",
    "### 时间设置\n",
    "start_date = '2005-01-01'\n",
    "start_date = '2008-01-01'\n",
    "# start_date = '2009-01-01'\n",
    "# start_date = '2010-01-01'\n",
    "# start_date = '2013-01-01'\n",
    "# start_date = '2014-01-01'\n",
    "# start_date = '2015-01-01'\n",
    "# start_date = '2015-07-01'\n",
    "# start_date = '2016-01-01'\n",
    "# start_date = '2017-01-01'\n",
    "# start_date = '2018-01-01'\n",
    "# end_date = '2016-01-01'\n",
    "end_date = '2018-08-01'\n",
    "\n",
    "TURTLE_POS = 1\n",
    "### Turtle System One - Short\n",
    "TURTLE_SHORT_BUY_N = 20\n",
    "TURTLE_SHORT_SELL_N = 20\n",
    "### Turtle System Two - Long\n",
    "TURTLE_LONG_BUY_N = 60\n",
    "TURTLE_LONG_SELL_N = 30\n",
    "\n",
    "### 业务设置\n",
    "IS_HAPPYMONEY = False\n",
    "IS_TAX = False\n",
    "IS_SLIPPAGE = False\n",
    "IS_RANDOM_BUY = True\n",
    "IS_FILTER = False\n",
    "IS_MARKETUP = False\n",
    "IS_BUYBENCHMARK = True\n",
    "START_MONEY = 100000\n",
    "HAPPY_MONEY = 0\n",
    "PROPERTY = START_MONEY\n",
    "CASH = START_MONEY\n"
   ]
  },
  {
   "cell_type": "code",
   "execution_count": 4,
   "metadata": {},
   "outputs": [
    {
     "name": "stdout",
     "output_type": "stream",
     "text": [
      "Wall time: 73 ms\n"
     ]
    }
   ],
   "source": [
    "%%time\n",
    "\n",
    "stock_df_dict = {}\n",
    "\n",
    "for symbol in TARGET:\n",
    "    stock_data_file = '../database/market/%s.csv' % symbol\n",
    "    stock_df = pd.read_csv(stock_data_file)\n",
    "\n",
    "    # 筛选字段\n",
    "    stock_df = stock_df.loc[:, ['date', 'open', 'close']]\n",
    "#     stock_df = stock_df.loc[:, ['date', 'close']]\n",
    "\n",
    "    # 去掉Nasdaq行情首行的当天行情\n",
    "    if symbol in NASDAQ:\n",
    "        stock_df = stock_df.drop([0])\n",
    "\n",
    "    # 抛弃空值异常值\n",
    "    stock_df.dropna(axis=0, how='any', inplace=True)\n",
    "\n",
    "    # 格式化日期\n",
    "    # 1.48 s ± 45.8 ms per loop (mean ± std. dev. of 7 runs, 1 loop each)\n",
    "#     stock_df['date'] = stock_df['date'].apply(lambda x: pd.Period(x, freq='D'))\n",
    "\n",
    "    # 445 ms ± 17.5 ms per loop (mean ± std. dev. of 7 runs, 1 loop each)\n",
    "    stock_df = stock_df.assign(date=pd.to_datetime(stock_df['date']))  # need .index.to_period('D')\n",
    "\n",
    "    # 476 ms ± 46.6 ms per loop (mean ± std. dev. of 7 runs, 1 loop each)\n",
    "#     stock_df['date'] = pd.to_datetime(stock_df['date'])  # need .index.to_period('D')\n",
    "    \n",
    "    # 转换字段格式\n",
    "#     stock_df = stock_df.astype(dtype={'volume': 'float64'})\n",
    "\n",
    "    # 用日期作索引，日期升序排序\n",
    "    # 95.1 µs ± 1.58 µs per loop (mean ± std. dev. of 7 runs, 10000 loops each)\n",
    "    if symbol in NASDAQ:\n",
    "        stock_df = stock_df[::-1]\n",
    "    \n",
    "    # 407 µs ± 5.07 µs per loop (mean ± std. dev. of 7 runs, 1000 loops each)\n",
    "#     %timeit stock_df.set_index(['date'], inplace=False)\n",
    "\n",
    "    # Wall time: 500 µs\n",
    "    stock_df.set_index(['date'], inplace=True)\n",
    "    \n",
    "    # 305 µs ± 2.75 µs per loop (mean ± std. dev. of 7 runs, 1000 loops each)\n",
    "#     stock_df = stock_df.sort_index(axis=0, ascending=True)\n",
    "    \n",
    "    # 822 µs ± 41.3 µs per loop (mean ± std. dev. of 7 runs, 1000 loops each)\n",
    "    stock_df.index = stock_df.index.to_period('D')\n",
    "\n",
    "    # 计算涨跌幅\n",
    "#     stock_df['c_pct_chg'] = stock_df.close.pct_change(1)\n",
    "    stock_df['o_pct_chg'] = stock_df.open.pct_change(1)\n",
    "    \n",
    "    # Turtle指标\n",
    "#     stock_df['TR1'] = abs(stock_df['high'] - stock_df['low'])\n",
    "#     stock_df['TR2'] = abs(stock_df['high'] - stock_df['close'].shift())\n",
    "#     stock_df['TR3'] = abs(stock_df['low'] - stock_df['close'].shift())\n",
    "#     stock_df['TR'] = stock_df[['TR1', 'TR2', 'TR3']].max(axis=1)\n",
    "#     stock_df['N'] = stock_df['TR'].rolling(20).mean()\n",
    "#     stock_df['UNIT'] = (0.01 * START_MONEY) / (stock_df['N'])\n",
    "    stock_df['ROLLING_%d_MAX' % TURTLE_SHORT_BUY_N] = stock_df['open'].rolling(TURTLE_SHORT_BUY_N).max()\n",
    "    stock_df['ROLLING_%d_MIN' % TURTLE_SHORT_SELL_N] = stock_df['open'].rolling(TURTLE_SHORT_SELL_N).min()\n",
    "    stock_df['ROLLING_%d_MAX' % TURTLE_LONG_BUY_N] = stock_df['open'].rolling(TURTLE_LONG_BUY_N).max()\n",
    "    stock_df['ROLLING_%d_MIN' % TURTLE_LONG_SELL_N] = stock_df['open'].rolling(TURTLE_LONG_SELL_N).min()\n",
    "#     stock_df['MA%d' % TURTLE_BUY_N] = stock_df['open'].rolling(TURTLE_BUY_N).mean()\n",
    "#     stock_df['MA%d' % TURTLE_SELL_N] = stock_df['open'].rolling(TURTLE_SELL_N).mean()\n",
    "#     stock_df['EWMA'] = stock_df['open'].ewm(alpha=0.1, adjust=False).mean()\n",
    "#     stock_df['MA360'] = stock_df['open'].rolling(360).mean()\n",
    "    stock_df['MA180'] = stock_df['open'].rolling(180).mean()\n",
    "    stock_df['MA60'] = stock_df['open'].rolling(60).mean()\n",
    "    stock_df['MA30'] = stock_df['open'].rolling(30).mean()\n",
    "    \n",
    "#     stock_df['ops'] = ''\n",
    "#     stock_df['profit'] = 0\n",
    "    \n",
    "    # 减少数据\n",
    "    # stock_df = stock_df['2016-01-01':]\n",
    "    stock_df.dropna(how='any', inplace=True)\n",
    "#     stock_df.drop(columns=['volume', 'TR1', 'TR2', 'TR3'], inplace=True)\n",
    "    \n",
    "    stock_df_dict[symbol] = stock_df\n",
    "    \n",
    "#     print(stock_df.head(10))\n",
    "#     print(stock_df.dtypes)\n",
    "#     print(stock_df.index[0])\n",
    "#     print(type(stock_df.index[0]))"
   ]
  },
  {
   "cell_type": "code",
   "execution_count": 5,
   "metadata": {},
   "outputs": [
    {
     "data": {
      "text/html": [
       "<div>\n",
       "<style scoped>\n",
       "    .dataframe tbody tr th:only-of-type {\n",
       "        vertical-align: middle;\n",
       "    }\n",
       "\n",
       "    .dataframe tbody tr th {\n",
       "        vertical-align: top;\n",
       "    }\n",
       "\n",
       "    .dataframe thead th {\n",
       "        text-align: right;\n",
       "    }\n",
       "</style>\n",
       "<table border=\"1\" class=\"dataframe\">\n",
       "  <thead>\n",
       "    <tr style=\"text-align: right;\">\n",
       "      <th></th>\n",
       "      <th>open</th>\n",
       "      <th>close</th>\n",
       "      <th>o_pct_chg</th>\n",
       "      <th>ROLLING_20_MAX</th>\n",
       "      <th>ROLLING_20_MIN</th>\n",
       "      <th>ROLLING_60_MAX</th>\n",
       "      <th>ROLLING_30_MIN</th>\n",
       "      <th>MA180</th>\n",
       "      <th>MA60</th>\n",
       "      <th>MA30</th>\n",
       "    </tr>\n",
       "    <tr>\n",
       "      <th>date</th>\n",
       "      <th></th>\n",
       "      <th></th>\n",
       "      <th></th>\n",
       "      <th></th>\n",
       "      <th></th>\n",
       "      <th></th>\n",
       "      <th></th>\n",
       "      <th></th>\n",
       "      <th></th>\n",
       "      <th></th>\n",
       "    </tr>\n",
       "  </thead>\n",
       "  <tbody>\n",
       "    <tr>\n",
       "      <th>2005-12-29</th>\n",
       "      <td>921.14</td>\n",
       "      <td>932.03</td>\n",
       "      <td>0.002274</td>\n",
       "      <td>922.44</td>\n",
       "      <td>858.11</td>\n",
       "      <td>923.43</td>\n",
       "      <td>858.11</td>\n",
       "      <td>900.228556</td>\n",
       "      <td>888.027833</td>\n",
       "      <td>887.838667</td>\n",
       "    </tr>\n",
       "    <tr>\n",
       "      <th>2005-12-30</th>\n",
       "      <td>933.45</td>\n",
       "      <td>923.45</td>\n",
       "      <td>0.013364</td>\n",
       "      <td>933.45</td>\n",
       "      <td>858.11</td>\n",
       "      <td>933.45</td>\n",
       "      <td>858.11</td>\n",
       "      <td>899.944056</td>\n",
       "      <td>888.308833</td>\n",
       "      <td>890.201000</td>\n",
       "    </tr>\n",
       "    <tr>\n",
       "      <th>2006-01-04</th>\n",
       "      <td>926.56</td>\n",
       "      <td>941.43</td>\n",
       "      <td>-0.007381</td>\n",
       "      <td>933.45</td>\n",
       "      <td>858.11</td>\n",
       "      <td>933.45</td>\n",
       "      <td>858.11</td>\n",
       "      <td>899.514500</td>\n",
       "      <td>888.464667</td>\n",
       "      <td>891.660000</td>\n",
       "    </tr>\n",
       "    <tr>\n",
       "      <th>2006-01-05</th>\n",
       "      <td>943.85</td>\n",
       "      <td>959.13</td>\n",
       "      <td>0.018660</td>\n",
       "      <td>943.85</td>\n",
       "      <td>865.72</td>\n",
       "      <td>943.85</td>\n",
       "      <td>858.11</td>\n",
       "      <td>899.237500</td>\n",
       "      <td>889.085000</td>\n",
       "      <td>893.657333</td>\n",
       "    </tr>\n",
       "    <tr>\n",
       "      <th>2006-01-06</th>\n",
       "      <td>961.91</td>\n",
       "      <td>970.03</td>\n",
       "      <td>0.019134</td>\n",
       "      <td>961.91</td>\n",
       "      <td>873.69</td>\n",
       "      <td>961.91</td>\n",
       "      <td>858.11</td>\n",
       "      <td>899.092833</td>\n",
       "      <td>889.776000</td>\n",
       "      <td>896.787333</td>\n",
       "    </tr>\n",
       "  </tbody>\n",
       "</table>\n",
       "</div>"
      ],
      "text/plain": [
       "              open   close  o_pct_chg  ROLLING_20_MAX  ROLLING_20_MIN  \\\n",
       "date                                                                    \n",
       "2005-12-29  921.14  932.03   0.002274          922.44          858.11   \n",
       "2005-12-30  933.45  923.45   0.013364          933.45          858.11   \n",
       "2006-01-04  926.56  941.43  -0.007381          933.45          858.11   \n",
       "2006-01-05  943.85  959.13   0.018660          943.85          865.72   \n",
       "2006-01-06  961.91  970.03   0.019134          961.91          873.69   \n",
       "\n",
       "            ROLLING_60_MAX  ROLLING_30_MIN       MA180        MA60        MA30  \n",
       "date                                                                            \n",
       "2005-12-29          923.43          858.11  900.228556  888.027833  887.838667  \n",
       "2005-12-30          933.45          858.11  899.944056  888.308833  890.201000  \n",
       "2006-01-04          933.45          858.11  899.514500  888.464667  891.660000  \n",
       "2006-01-05          943.85          858.11  899.237500  889.085000  893.657333  \n",
       "2006-01-06          961.91          858.11  899.092833  889.776000  896.787333  "
      ]
     },
     "execution_count": 5,
     "metadata": {},
     "output_type": "execute_result"
    },
    {
     "data": {
      "text/html": [
       "<div>\n",
       "<style scoped>\n",
       "    .dataframe tbody tr th:only-of-type {\n",
       "        vertical-align: middle;\n",
       "    }\n",
       "\n",
       "    .dataframe tbody tr th {\n",
       "        vertical-align: top;\n",
       "    }\n",
       "\n",
       "    .dataframe thead th {\n",
       "        text-align: right;\n",
       "    }\n",
       "</style>\n",
       "<table border=\"1\" class=\"dataframe\">\n",
       "  <thead>\n",
       "    <tr style=\"text-align: right;\">\n",
       "      <th></th>\n",
       "      <th>open</th>\n",
       "      <th>close</th>\n",
       "      <th>o_pct_chg</th>\n",
       "      <th>ROLLING_20_MAX</th>\n",
       "      <th>ROLLING_20_MIN</th>\n",
       "      <th>ROLLING_60_MAX</th>\n",
       "      <th>ROLLING_30_MIN</th>\n",
       "      <th>MA180</th>\n",
       "      <th>MA60</th>\n",
       "      <th>MA30</th>\n",
       "    </tr>\n",
       "    <tr>\n",
       "      <th>date</th>\n",
       "      <th></th>\n",
       "      <th></th>\n",
       "      <th></th>\n",
       "      <th></th>\n",
       "      <th></th>\n",
       "      <th></th>\n",
       "      <th></th>\n",
       "      <th></th>\n",
       "      <th></th>\n",
       "      <th></th>\n",
       "    </tr>\n",
       "  </thead>\n",
       "  <tbody>\n",
       "    <tr>\n",
       "      <th>2018-07-26</th>\n",
       "      <td>3583.32</td>\n",
       "      <td>3536.25</td>\n",
       "      <td>-0.001724</td>\n",
       "      <td>3589.51</td>\n",
       "      <td>3347.06</td>\n",
       "      <td>3925.54</td>\n",
       "      <td>3347.06</td>\n",
       "      <td>3920.750167</td>\n",
       "      <td>3671.989333</td>\n",
       "      <td>3506.776333</td>\n",
       "    </tr>\n",
       "    <tr>\n",
       "      <th>2018-07-27</th>\n",
       "      <td>3533.77</td>\n",
       "      <td>3521.23</td>\n",
       "      <td>-0.013828</td>\n",
       "      <td>3589.51</td>\n",
       "      <td>3347.06</td>\n",
       "      <td>3925.54</td>\n",
       "      <td>3347.06</td>\n",
       "      <td>3918.192833</td>\n",
       "      <td>3668.282667</td>\n",
       "      <td>3498.747333</td>\n",
       "    </tr>\n",
       "    <tr>\n",
       "      <th>2018-07-30</th>\n",
       "      <td>3520.85</td>\n",
       "      <td>3515.08</td>\n",
       "      <td>-0.003656</td>\n",
       "      <td>3589.51</td>\n",
       "      <td>3347.06</td>\n",
       "      <td>3925.54</td>\n",
       "      <td>3347.06</td>\n",
       "      <td>3915.573389</td>\n",
       "      <td>3663.891500</td>\n",
       "      <td>3490.674333</td>\n",
       "    </tr>\n",
       "    <tr>\n",
       "      <th>2018-07-31</th>\n",
       "      <td>3510.47</td>\n",
       "      <td>3517.66</td>\n",
       "      <td>-0.002948</td>\n",
       "      <td>3589.51</td>\n",
       "      <td>3347.06</td>\n",
       "      <td>3925.54</td>\n",
       "      <td>3347.06</td>\n",
       "      <td>3912.913889</td>\n",
       "      <td>3659.357000</td>\n",
       "      <td>3484.267667</td>\n",
       "    </tr>\n",
       "    <tr>\n",
       "      <th>2018-08-01</th>\n",
       "      <td>3530.03</td>\n",
       "      <td>3447.39</td>\n",
       "      <td>0.005572</td>\n",
       "      <td>3589.51</td>\n",
       "      <td>3347.06</td>\n",
       "      <td>3925.54</td>\n",
       "      <td>3347.06</td>\n",
       "      <td>3910.178500</td>\n",
       "      <td>3654.280667</td>\n",
       "      <td>3481.850333</td>\n",
       "    </tr>\n",
       "  </tbody>\n",
       "</table>\n",
       "</div>"
      ],
      "text/plain": [
       "               open    close  o_pct_chg  ROLLING_20_MAX  ROLLING_20_MIN  \\\n",
       "date                                                                      \n",
       "2018-07-26  3583.32  3536.25  -0.001724         3589.51         3347.06   \n",
       "2018-07-27  3533.77  3521.23  -0.013828         3589.51         3347.06   \n",
       "2018-07-30  3520.85  3515.08  -0.003656         3589.51         3347.06   \n",
       "2018-07-31  3510.47  3517.66  -0.002948         3589.51         3347.06   \n",
       "2018-08-01  3530.03  3447.39   0.005572         3589.51         3347.06   \n",
       "\n",
       "            ROLLING_60_MAX  ROLLING_30_MIN        MA180         MA60  \\\n",
       "date                                                                   \n",
       "2018-07-26         3925.54         3347.06  3920.750167  3671.989333   \n",
       "2018-07-27         3925.54         3347.06  3918.192833  3668.282667   \n",
       "2018-07-30         3925.54         3347.06  3915.573389  3663.891500   \n",
       "2018-07-31         3925.54         3347.06  3912.913889  3659.357000   \n",
       "2018-08-01         3925.54         3347.06  3910.178500  3654.280667   \n",
       "\n",
       "                   MA30  \n",
       "date                     \n",
       "2018-07-26  3506.776333  \n",
       "2018-07-27  3498.747333  \n",
       "2018-07-30  3490.674333  \n",
       "2018-07-31  3484.267667  \n",
       "2018-08-01  3481.850333  "
      ]
     },
     "execution_count": 5,
     "metadata": {},
     "output_type": "execute_result"
    }
   ],
   "source": [
    "stock_df_dict[BENCHMARK].head(5)\n",
    "stock_df_dict[BENCHMARK].tail(5)"
   ]
  },
  {
   "cell_type": "code",
   "execution_count": 6,
   "metadata": {
    "scrolled": false
   },
   "outputs": [
    {
     "data": {
      "text/plain": [
       "Index(['open', 'close', 'o_pct_chg', 'ROLLING_20_MAX', 'ROLLING_20_MIN',\n",
       "       'ROLLING_60_MAX', 'ROLLING_30_MIN', 'MA180', 'MA60', 'MA30'],\n",
       "      dtype='object')"
      ]
     },
     "execution_count": 6,
     "metadata": {},
     "output_type": "execute_result"
    }
   ],
   "source": [
    "%matplotlib inline\n",
    "\n",
    "import matplotlib\n",
    "import matplotlib.pyplot as plt\n",
    "plt.rcParams['figure.figsize'] = [30, 20]\n",
    "\n",
    "df = stock_df_dict[BENCHMARK].iloc[:].copy()\n",
    "df.columns\n",
    "# df.tail(10)\n",
    "# df[(df.open == df.ROLLING_60_MAX)]\n",
    "# df[(df.open >= df.rolling_60_max) & (df.MA30 > df.MA60)]\n",
    "# df[(df.MA30 > df.MA60)]\n",
    "\n",
    "# df = df.loc[:, ['open', 'ROLLING_60_MAX', 'rolling_30_min', 'MA60', 'MA30']]\n",
    "\n",
    "df.reset_index(drop=False, inplace=True)\n",
    "df = df.astype(dtype={'date': 'datetime64[ns]'})\n",
    "df.set_index('date', inplace=True)\n",
    "# df.index.astype()\n",
    "\n",
    "# display_charts(df, chart_type='stock', kind='line', y=['open', 'ROLLING_60_MAX', 'ROLLING_60_MIN', 'MA60', 'MA180'], figsize=(900, 600))\n",
    "# display_charts(df, chart_type='stock', kind='line', y=['open', 'ROLLING_60_MAX', 'ROLLING_60_MIN'], figsize=(900, 600))\n",
    "\n",
    "# display_charts(df)\n",
    "\n",
    "# ax = df.plot(kind='line', y=['open', 'rolling_max', 'rolling_min'], label='', linewidth=1)\n",
    "\n",
    "# sum_buy_sig_short = 0\n",
    "# sum_buy_sig_long = 0\n",
    "# for symbol in NASDAQ100:\n",
    "#     tdf = stock_df_dict[symbol]\n",
    "#     buy_sig_short = tdf[(stock_df_dict[symbol].open == stock_df_dict[symbol]['ROLLING_%d_MAX' % TURTLE_SHORT_BUY_N])]\n",
    "#     buy_sig_long = tdf[(stock_df_dict[symbol].open == stock_df_dict[symbol]['ROLLING_%d_MAX' % TURTLE_LONG_BUY_N])]\n",
    "#     buy_sig_short_2 = buy_sig_short[buy_sig_short.MA30 >= buy_sig_short.MA180]\n",
    "#     buy_sig_long_2 = buy_sig_long[buy_sig_long.MA30 >= buy_sig_long.MA180]\n",
    "# #     print(symbol, len(tdf), len(buy_sig_short), len(buy_sig_short_2), len(buy_sig_long), len(buy_sig_long_2))\n",
    "#     sum_buy_sig_short += len(buy_sig_short_2)\n",
    "#     sum_buy_sig_long += len(buy_sig_long_2)\n",
    "# print(len(stock_df_dict['NDX']), sum_buy_sig_short, sum_buy_sig_long)"
   ]
  },
  {
   "cell_type": "code",
   "execution_count": 7,
   "metadata": {},
   "outputs": [
    {
     "name": "stdout",
     "output_type": "stream",
     "text": [
      "Wall time: 502 µs\n"
     ]
    }
   ],
   "source": [
    "%%time\n",
    "\n",
    "show_df = None\n",
    "show_df = stock_df_dict[BENCHMARK].copy()"
   ]
  },
  {
   "cell_type": "code",
   "execution_count": 17,
   "metadata": {
    "scrolled": false
   },
   "outputs": [
    {
     "name": "stdout",
     "output_type": "stream",
     "text": [
      "CASH 243258.456632\n",
      "HAPPY_MONEY 0\n",
      "PROPERTY 243258.456632\n",
      "BENCHMARK 5349.76 3530.03 0.65984829226\n",
      "Wall time: 8.4 s\n"
     ]
    }
   ],
   "source": [
    "%%time\n",
    "# %xmode\n",
    "\n",
    "PROPERTY = START_MONEY\n",
    "CASH = START_MONEY\n",
    "\n",
    "order_df = None\n",
    "order_df = pd.DataFrame(columns=[\n",
    "    'buy_date', 'symbol', 'buy_count', 'buy_price', 'buy_reason', 'sell_date', 'sell_price', 'sell_reason', 'profit', 'cash', 'property'\n",
    "])\n",
    "count_day = 0\n",
    "yesterday = None\n",
    "miss_buy_short = 0\n",
    "miss_buy_long = 0\n",
    "\n",
    "for today in pd.period_range(start=start_date, end=end_date, freq='D'):\n",
    "    count_day += 1\n",
    "    \n",
    "    # 新的一年筛股\n",
    "#     if IS_FILTER and (today.dayofyear == 1 or count_day == 1):\n",
    "#         HS300 = list(ts.get_hs300s()['code']) + [BENCHMARK]\n",
    "#         benchmark_lastyear = stock_df_dict[BENCHMARK][:today]\n",
    "#         if today - stock_df_dict[BENCHMARK].iloc[0].name < 250:\n",
    "#             continue\n",
    "#         benchmark_return_lastyear = benchmark_lastyear.iloc[-1].open / benchmark_lastyear.iloc[-250].open\n",
    "#         for symbol, stock_df in stock_df_dict.items():\n",
    "#             try:\n",
    "#                 return_lastyear = stock_df[:today].iloc[-1].open / stock_df[:today].iloc[-250].open\n",
    "#                 if return_lastyear < benchmark_return_lastyear:\n",
    "#                     HS300.remove(symbol)\n",
    "# #                     print(symbol, return_lastyear)\n",
    "#             except:\n",
    "#                 HS300.remove(symbol)\n",
    "#                 pass\n",
    "#         print(today, 'HS300 after filter', len(HS300))\n",
    "        \n",
    "    \n",
    "    if yesterday is None:\n",
    "        yesterday = today\n",
    "        continue\n",
    "\n",
    "    if today not in stock_df_dict[BENCHMARK].index:\n",
    "        continue\n",
    "            \n",
    "    # 突破下行趋势，清仓退出\n",
    "    order_arr = order_df.to_records(index=False)\n",
    "    if len(order_arr[(order_arr.buy_count > 0) & (order_arr.sell_price == 0)] ) != 0:\n",
    "        is_sell = False\n",
    "        for idx in order_df[(order_df['buy_count'] > 0) & (order_df['sell_price'] == 0)].index:\n",
    "            cur_order = order_df.loc[idx]\n",
    "            symbol = cur_order['symbol']\n",
    "            if today not in stock_df_dict[symbol].index or yesterday not in stock_df_dict[symbol].index:\n",
    "                continue\n",
    "            today_market = stock_df_dict[symbol].loc[today]\n",
    "            if cur_order.buy_reason == 'SHORT':\n",
    "                is_sell = (today_market.open <= today_market['ROLLING_%d_MIN' % TURTLE_SHORT_SELL_N])\n",
    "            if cur_order.buy_reason == 'LONG':\n",
    "                is_sell = (today_market.open <= today_market['ROLLING_%d_MIN' % TURTLE_LONG_SELL_N])\n",
    "            if is_sell:\n",
    "                CASH += cur_order.buy_count * today_market.open\n",
    "                order_df.loc[idx, 'sell_date'] = today\n",
    "                order_df.loc[idx, 'sell_price'] = today_market.open\n",
    "                order_df.loc[idx, 'sell_reason'] = 'EXIT'\n",
    "                order_df.loc[idx, 'profit'] = \\\n",
    "                    (today_market.open - cur_order.buy_price) * cur_order.buy_count\n",
    "#                 print(today, '退出', stock_df_dict[symbol].loc[today, 'open'], CASH)\n",
    "\n",
    "    if IS_HAPPYMONEY:        \n",
    "        if PROPERTY > START_MONEY * 2 and CASH > START_MONEY:\n",
    "            HAPPY_MONEY += START_MONEY\n",
    "            PROPERTY -= START_MONEY\n",
    "            CASH -= START_MONEY\n",
    "    \n",
    "    benchmark_today_market = stock_df_dict[BENCHMARK].loc[today]\n",
    "    # 买卖过程\n",
    "    for symbol in TARGET:\n",
    "        if IS_MARKETUP:\n",
    "            if benchmark_today_market.MA60 < benchmark_today_market.MA180:\n",
    "                break\n",
    "        \n",
    "        if not IS_BUYBENCHMARK and symbol == BENCHMARK:\n",
    "            continue\n",
    "        \n",
    "        if today not in stock_df_dict[symbol].index or yesterday not in stock_df_dict[symbol].index:\n",
    "            continue\n",
    "            \n",
    "        # TIME TEST\n",
    "        # DELETED\n",
    "\n",
    "        today_market = stock_df_dict[symbol].loc[today]\n",
    "\n",
    "        # 突破上行趋势，就买一份\n",
    "        order_arr = order_df.to_records(index=False)\n",
    "#         if today_market.MA60 >= today_market.MA180:\n",
    "        if today_market.MA30 >= today_market.MA60:\n",
    "#         if today_market.MA30 >= today_market.MA180:\n",
    "        # 指数就不要过滤器了\n",
    "#         if True:\n",
    "            is_buy = False\n",
    "            if today_market.open >= today_market['ROLLING_%d_MAX' % TURTLE_LONG_BUY_N]:\n",
    "                is_buy = True\n",
    "                buy_reason = 'LONG'\n",
    "            elif False and today_market.open >= today_market['ROLLING_%d_MAX' % TURTLE_SHORT_BUY_N]:\n",
    "                is_buy = True\n",
    "                buy_reason = 'SHORT'\n",
    "            if is_buy:\n",
    "                buy_count = 0\n",
    "                \n",
    "                if IS_SLIPPAGE:\n",
    "                    buy_price = today_market.open * (1 + random.randint(0, 20) / 1000)\n",
    "                else:\n",
    "                    buy_price = today_market.open\n",
    "\n",
    "#                 if CASH >= START_MONEY / TURTLE_POS:\n",
    "#                     buy_count = int((START_MONEY / TURTLE_POS) / buy_price)\n",
    "\n",
    "#                 if CASH >= PROPERTY / TURTLE_POS:\n",
    "#                     buy_count = int((PROPERTY / TURTLE_POS) / buy_price)\n",
    "\n",
    "                # 指数购买，满仓干\n",
    "                buy_count = int(CASH / buy_price)\n",
    "                \n",
    "                if IS_RANDOM_BUY:\n",
    "                    if random.randint(0, 100) > 50:\n",
    "                        buy_count = 0\n",
    "\n",
    "                if buy_count > 0:\n",
    "#                     buy_count = 1\n",
    "                    CASH -= buy_count * buy_price\n",
    "#                     print(today, '建仓', buy_count, stock_df_dict[symbol].loc[today, 'open'], CASH)\n",
    "                    order_df = order_df.append(\n",
    "                        {\n",
    "                            'buy_date': today,\n",
    "                            'symbol': symbol,\n",
    "                            'buy_count': buy_count,\n",
    "                            'buy_price': today_market.open,\n",
    "                            'buy_reason': buy_reason,\n",
    "                            'sell_date': pd.np.nan,\n",
    "                            'sell_price': 0,\n",
    "                            'profit': 0,\n",
    "                            'cash': CASH,\n",
    "                            'property': PROPERTY,\n",
    "                        },\n",
    "                        ignore_index=True\n",
    "                    )\n",
    "                else:\n",
    "                    if buy_reason == 'LONG':\n",
    "                        miss_buy_long += 1\n",
    "                    elif buy_reason == 'SHORT':\n",
    "                        miss_buy_short += 1\n",
    "            \n",
    "    # 每天盘点财产\n",
    "    # 闲钱进行T+0无风险投资，如货币基金\n",
    "    CASH = CASH * (1 + 0.04 / 365)\n",
    "    show_df.loc[today, 'CASH_TURTLE_%d_%d_%d' % (TURTLE_POS, TURTLE_LONG_BUY_N, TURTLE_LONG_SELL_N)] = CASH\n",
    "    PROPERTY = CASH + \\\n",
    "        sum(\n",
    "            [\n",
    "                stock_df_dict[order_df.loc[idx, 'symbol']][:today].iloc[-1].open * order_df.loc[idx, 'buy_count'] \\\n",
    "                for idx in order_df.loc[order_df['sell_price']==0].index\n",
    "            ]\n",
    "        )\n",
    "    show_df.loc[today, 'PROPERTY_TURTLE_%d_%d_%d' % (TURTLE_POS, TURTLE_LONG_BUY_N, TURTLE_LONG_SELL_N)] = PROPERTY\n",
    "\n",
    "    yesterday = today\n",
    "\n",
    "\n",
    "    \n",
    "# 最后一天，清仓\n",
    "order_arr = order_df.to_records(index=False)\n",
    "for idx in order_df[order_df['sell_price'] == 0].index:\n",
    "    cur_order = order_df.loc[idx]\n",
    "    symbol = cur_order['symbol']\n",
    "    today_market = stock_df_dict[symbol][:today].iloc[-1]\n",
    "    CASH += cur_order.buy_count * today_market.open\n",
    "    order_df.loc[idx, 'sell_date'] = today\n",
    "    order_df.loc[idx, 'sell_price'] = today_market.open\n",
    "    order_df.loc[idx, 'sell_reason'] = 'EXIT'\n",
    "    order_df.loc[idx, 'profit'] = \\\n",
    "        (today_market.open - cur_order.buy_price) * cur_order.buy_count\n",
    "\n",
    "\n",
    "print('CASH', CASH)\n",
    "print('HAPPY_MONEY', HAPPY_MONEY)\n",
    "print('PROPERTY', PROPERTY)\n",
    "\n",
    "s_p = stock_df_dict[BENCHMARK][start_date:].iloc[0].open\n",
    "e_p = stock_df_dict[BENCHMARK][:end_date].iloc[-1].open\n",
    "print('BENCHMARK', s_p, e_p, e_p / s_p)\n"
   ]
  },
  {
   "cell_type": "code",
   "execution_count": 9,
   "metadata": {},
   "outputs": [
    {
     "data": {
      "text/html": [
       "<div>\n",
       "<style scoped>\n",
       "    .dataframe tbody tr th:only-of-type {\n",
       "        vertical-align: middle;\n",
       "    }\n",
       "\n",
       "    .dataframe tbody tr th {\n",
       "        vertical-align: top;\n",
       "    }\n",
       "\n",
       "    .dataframe thead th {\n",
       "        text-align: right;\n",
       "    }\n",
       "</style>\n",
       "<table border=\"1\" class=\"dataframe\">\n",
       "  <thead>\n",
       "    <tr style=\"text-align: right;\">\n",
       "      <th></th>\n",
       "      <th>buy_date</th>\n",
       "      <th>symbol</th>\n",
       "      <th>buy_count</th>\n",
       "      <th>buy_price</th>\n",
       "      <th>buy_reason</th>\n",
       "      <th>sell_date</th>\n",
       "      <th>sell_price</th>\n",
       "      <th>sell_reason</th>\n",
       "      <th>profit</th>\n",
       "      <th>cash</th>\n",
       "      <th>property</th>\n",
       "    </tr>\n",
       "  </thead>\n",
       "  <tbody>\n",
       "    <tr>\n",
       "      <th>0</th>\n",
       "      <td>2009-02-04</td>\n",
       "      <td>399300</td>\n",
       "      <td>48</td>\n",
       "      <td>2118.560</td>\n",
       "      <td>LONG</td>\n",
       "      <td>2009-08-17</td>\n",
       "      <td>3283.44</td>\n",
       "      <td>EXIT</td>\n",
       "      <td>55914</td>\n",
       "      <td>1233</td>\n",
       "      <td>102923.966327</td>\n",
       "    </tr>\n",
       "    <tr>\n",
       "      <th>1</th>\n",
       "      <td>2009-11-16</td>\n",
       "      <td>399300</td>\n",
       "      <td>45</td>\n",
       "      <td>3541.050</td>\n",
       "      <td>LONG</td>\n",
       "      <td>2009-12-21</td>\n",
       "      <td>3386.33</td>\n",
       "      <td>EXIT</td>\n",
       "      <td>-6962</td>\n",
       "      <td>539</td>\n",
       "      <td>159886.844432</td>\n",
       "    </tr>\n",
       "    <tr>\n",
       "      <th>2</th>\n",
       "      <td>2010-08-17</td>\n",
       "      <td>399300</td>\n",
       "      <td>53</td>\n",
       "      <td>2927.258</td>\n",
       "      <td>LONG</td>\n",
       "      <td>2010-11-24</td>\n",
       "      <td>3088.99</td>\n",
       "      <td>EXIT</td>\n",
       "      <td>8571</td>\n",
       "      <td>486</td>\n",
       "      <td>155630.862602</td>\n",
       "    </tr>\n",
       "    <tr>\n",
       "      <th>3</th>\n",
       "      <td>2011-04-11</td>\n",
       "      <td>399300</td>\n",
       "      <td>49</td>\n",
       "      <td>3363.370</td>\n",
       "      <td>LONG</td>\n",
       "      <td>2011-04-29</td>\n",
       "      <td>3161.16</td>\n",
       "      <td>EXIT</td>\n",
       "      <td>-9908</td>\n",
       "      <td>1028</td>\n",
       "      <td>165833.516631</td>\n",
       "    </tr>\n",
       "    <tr>\n",
       "      <th>4</th>\n",
       "      <td>2012-02-27</td>\n",
       "      <td>399300</td>\n",
       "      <td>59</td>\n",
       "      <td>2658.120</td>\n",
       "      <td>LONG</td>\n",
       "      <td>2012-03-28</td>\n",
       "      <td>2538.46</td>\n",
       "      <td>EXIT</td>\n",
       "      <td>-7059</td>\n",
       "      <td>2570</td>\n",
       "      <td>159399.382484</td>\n",
       "    </tr>\n",
       "    <tr>\n",
       "      <th>5</th>\n",
       "      <td>2013-01-04</td>\n",
       "      <td>399300</td>\n",
       "      <td>60</td>\n",
       "      <td>2551.810</td>\n",
       "      <td>LONG</td>\n",
       "      <td>2013-03-05</td>\n",
       "      <td>2547.89</td>\n",
       "      <td>EXIT</td>\n",
       "      <td>-235</td>\n",
       "      <td>2408</td>\n",
       "      <td>155516.765162</td>\n",
       "    </tr>\n",
       "    <tr>\n",
       "      <th>6</th>\n",
       "      <td>2013-09-10</td>\n",
       "      <td>399300</td>\n",
       "      <td>64</td>\n",
       "      <td>2446.450</td>\n",
       "      <td>LONG</td>\n",
       "      <td>2013-10-29</td>\n",
       "      <td>2369.22</td>\n",
       "      <td>EXIT</td>\n",
       "      <td>-4942</td>\n",
       "      <td>894</td>\n",
       "      <td>157467.654603</td>\n",
       "    </tr>\n",
       "    <tr>\n",
       "      <th>7</th>\n",
       "      <td>2014-07-23</td>\n",
       "      <td>399300</td>\n",
       "      <td>70</td>\n",
       "      <td>2191.390</td>\n",
       "      <td>LONG</td>\n",
       "      <td>2014-10-27</td>\n",
       "      <td>2377.54</td>\n",
       "      <td>EXIT</td>\n",
       "      <td>13030</td>\n",
       "      <td>2185</td>\n",
       "      <td>155583.201604</td>\n",
       "    </tr>\n",
       "    <tr>\n",
       "      <th>8</th>\n",
       "      <td>2014-11-03</td>\n",
       "      <td>399300</td>\n",
       "      <td>67</td>\n",
       "      <td>2515.820</td>\n",
       "      <td>LONG</td>\n",
       "      <td>2015-02-09</td>\n",
       "      <td>3305.73</td>\n",
       "      <td>EXIT</td>\n",
       "      <td>52923</td>\n",
       "      <td>161</td>\n",
       "      <td>168721.022998</td>\n",
       "    </tr>\n",
       "    <tr>\n",
       "      <th>9</th>\n",
       "      <td>2015-03-18</td>\n",
       "      <td>399300</td>\n",
       "      <td>58</td>\n",
       "      <td>3769.090</td>\n",
       "      <td>LONG</td>\n",
       "      <td>2015-06-26</td>\n",
       "      <td>4573.87</td>\n",
       "      <td>EXIT</td>\n",
       "      <td>46677</td>\n",
       "      <td>3573</td>\n",
       "      <td>222181.193042</td>\n",
       "    </tr>\n",
       "    <tr>\n",
       "      <th>10</th>\n",
       "      <td>2015-12-22</td>\n",
       "      <td>399300</td>\n",
       "      <td>70</td>\n",
       "      <td>3872.100</td>\n",
       "      <td>LONG</td>\n",
       "      <td>2016-01-05</td>\n",
       "      <td>3382.18</td>\n",
       "      <td>EXIT</td>\n",
       "      <td>-34294</td>\n",
       "      <td>1397</td>\n",
       "      <td>272444.744921</td>\n",
       "    </tr>\n",
       "    <tr>\n",
       "      <th>11</th>\n",
       "      <td>2016-04-14</td>\n",
       "      <td>399300</td>\n",
       "      <td>73</td>\n",
       "      <td>3277.100</td>\n",
       "      <td>LONG</td>\n",
       "      <td>2016-05-09</td>\n",
       "      <td>3115.43</td>\n",
       "      <td>EXIT</td>\n",
       "      <td>-11801</td>\n",
       "      <td>652</td>\n",
       "      <td>239880.395560</td>\n",
       "    </tr>\n",
       "    <tr>\n",
       "      <th>12</th>\n",
       "      <td>2016-07-13</td>\n",
       "      <td>399300</td>\n",
       "      <td>70</td>\n",
       "      <td>3274.020</td>\n",
       "      <td>LONG</td>\n",
       "      <td>2016-09-27</td>\n",
       "      <td>3214.87</td>\n",
       "      <td>EXIT</td>\n",
       "      <td>-4140</td>\n",
       "      <td>25</td>\n",
       "      <td>229207.122212</td>\n",
       "    </tr>\n",
       "    <tr>\n",
       "      <th>13</th>\n",
       "      <td>2016-11-14</td>\n",
       "      <td>399300</td>\n",
       "      <td>66</td>\n",
       "      <td>3409.220</td>\n",
       "      <td>LONG</td>\n",
       "      <td>2016-12-16</td>\n",
       "      <td>3335.36</td>\n",
       "      <td>EXIT</td>\n",
       "      <td>-4874</td>\n",
       "      <td>774</td>\n",
       "      <td>225783.148395</td>\n",
       "    </tr>\n",
       "    <tr>\n",
       "      <th>14</th>\n",
       "      <td>2017-03-27</td>\n",
       "      <td>399300</td>\n",
       "      <td>63</td>\n",
       "      <td>3488.760</td>\n",
       "      <td>LONG</td>\n",
       "      <td>2017-05-03</td>\n",
       "      <td>3421.76</td>\n",
       "      <td>EXIT</td>\n",
       "      <td>-4221</td>\n",
       "      <td>2697</td>\n",
       "      <td>222489.568003</td>\n",
       "    </tr>\n",
       "    <tr>\n",
       "      <th>15</th>\n",
       "      <td>2017-06-26</td>\n",
       "      <td>399300</td>\n",
       "      <td>60</td>\n",
       "      <td>3627.020</td>\n",
       "      <td>LONG</td>\n",
       "      <td>2017-12-08</td>\n",
       "      <td>3962.83</td>\n",
       "      <td>EXIT</td>\n",
       "      <td>20148</td>\n",
       "      <td>1517</td>\n",
       "      <td>219138.468179</td>\n",
       "    </tr>\n",
       "    <tr>\n",
       "      <th>16</th>\n",
       "      <td>2018-01-15</td>\n",
       "      <td>399300</td>\n",
       "      <td>56</td>\n",
       "      <td>4229.840</td>\n",
       "      <td>LONG</td>\n",
       "      <td>2018-02-09</td>\n",
       "      <td>3896.17</td>\n",
       "      <td>EXIT</td>\n",
       "      <td>-18685</td>\n",
       "      <td>3091</td>\n",
       "      <td>239962.637680</td>\n",
       "    </tr>\n",
       "  </tbody>\n",
       "</table>\n",
       "</div>"
      ],
      "text/plain": [
       "     buy_date  symbol buy_count  buy_price buy_reason  sell_date sell_price  \\\n",
       "0  2009-02-04  399300        48   2118.560       LONG 2009-08-17    3283.44   \n",
       "1  2009-11-16  399300        45   3541.050       LONG 2009-12-21    3386.33   \n",
       "2  2010-08-17  399300        53   2927.258       LONG 2010-11-24    3088.99   \n",
       "3  2011-04-11  399300        49   3363.370       LONG 2011-04-29    3161.16   \n",
       "4  2012-02-27  399300        59   2658.120       LONG 2012-03-28    2538.46   \n",
       "5  2013-01-04  399300        60   2551.810       LONG 2013-03-05    2547.89   \n",
       "6  2013-09-10  399300        64   2446.450       LONG 2013-10-29    2369.22   \n",
       "7  2014-07-23  399300        70   2191.390       LONG 2014-10-27    2377.54   \n",
       "8  2014-11-03  399300        67   2515.820       LONG 2015-02-09    3305.73   \n",
       "9  2015-03-18  399300        58   3769.090       LONG 2015-06-26    4573.87   \n",
       "10 2015-12-22  399300        70   3872.100       LONG 2016-01-05    3382.18   \n",
       "11 2016-04-14  399300        73   3277.100       LONG 2016-05-09    3115.43   \n",
       "12 2016-07-13  399300        70   3274.020       LONG 2016-09-27    3214.87   \n",
       "13 2016-11-14  399300        66   3409.220       LONG 2016-12-16    3335.36   \n",
       "14 2017-03-27  399300        63   3488.760       LONG 2017-05-03    3421.76   \n",
       "15 2017-06-26  399300        60   3627.020       LONG 2017-12-08    3962.83   \n",
       "16 2018-01-15  399300        56   4229.840       LONG 2018-02-09    3896.17   \n",
       "\n",
       "   sell_reason  profit  cash       property  \n",
       "0         EXIT   55914  1233  102923.966327  \n",
       "1         EXIT   -6962   539  159886.844432  \n",
       "2         EXIT    8571   486  155630.862602  \n",
       "3         EXIT   -9908  1028  165833.516631  \n",
       "4         EXIT   -7059  2570  159399.382484  \n",
       "5         EXIT    -235  2408  155516.765162  \n",
       "6         EXIT   -4942   894  157467.654603  \n",
       "7         EXIT   13030  2185  155583.201604  \n",
       "8         EXIT   52923   161  168721.022998  \n",
       "9         EXIT   46677  3573  222181.193042  \n",
       "10        EXIT  -34294  1397  272444.744921  \n",
       "11        EXIT  -11801   652  239880.395560  \n",
       "12        EXIT   -4140    25  229207.122212  \n",
       "13        EXIT   -4874   774  225783.148395  \n",
       "14        EXIT   -4221  2697  222489.568003  \n",
       "15        EXIT   20148  1517  219138.468179  \n",
       "16        EXIT  -18685  3091  239962.637680  "
      ]
     },
     "execution_count": 9,
     "metadata": {},
     "output_type": "execute_result"
    }
   ],
   "source": [
    "df = order_df.copy()\n",
    "df = df.astype(dtype={'cash': 'int', 'profit': 'int'})\n",
    "df"
   ]
  },
  {
   "cell_type": "code",
   "execution_count": 10,
   "metadata": {
    "scrolled": false
   },
   "outputs": [
    {
     "data": {
      "text/plain": [
       "'ALL'"
      ]
     },
     "execution_count": 10,
     "metadata": {},
     "output_type": "execute_result"
    },
    {
     "data": {
      "text/plain": [
       "('start_date', '2008-01-01')"
      ]
     },
     "execution_count": 10,
     "metadata": {},
     "output_type": "execute_result"
    },
    {
     "data": {
      "text/plain": [
       "('end_date', '2018-08-01')"
      ]
     },
     "execution_count": 10,
     "metadata": {},
     "output_type": "execute_result"
    },
    {
     "data": {
      "text/plain": [
       "('TURTLE_POS', 1)"
      ]
     },
     "execution_count": 10,
     "metadata": {},
     "output_type": "execute_result"
    },
    {
     "data": {
      "text/plain": [
       "('TURTLE_SHORT_BUY_N', 20)"
      ]
     },
     "execution_count": 10,
     "metadata": {},
     "output_type": "execute_result"
    },
    {
     "data": {
      "text/plain": [
       "('TURTLE_SHORT_SELL_N', 20)"
      ]
     },
     "execution_count": 10,
     "metadata": {},
     "output_type": "execute_result"
    },
    {
     "data": {
      "text/plain": [
       "('TURTLE_LONG_BUY_N', 60)"
      ]
     },
     "execution_count": 10,
     "metadata": {},
     "output_type": "execute_result"
    },
    {
     "data": {
      "text/plain": [
       "('TURTLE_LONG_SELL_N', 30)"
      ]
     },
     "execution_count": 10,
     "metadata": {},
     "output_type": "execute_result"
    },
    {
     "data": {
      "text/plain": [
       "('IS_HAPPYMONEY', False)"
      ]
     },
     "execution_count": 10,
     "metadata": {},
     "output_type": "execute_result"
    },
    {
     "data": {
      "text/plain": [
       "('IS_TAX', False)"
      ]
     },
     "execution_count": 10,
     "metadata": {},
     "output_type": "execute_result"
    },
    {
     "data": {
      "text/plain": [
       "('IS_SLIPPAGE', False)"
      ]
     },
     "execution_count": 10,
     "metadata": {},
     "output_type": "execute_result"
    },
    {
     "data": {
      "text/plain": [
       "('IS_RANDOM_BUY', True)"
      ]
     },
     "execution_count": 10,
     "metadata": {},
     "output_type": "execute_result"
    },
    {
     "data": {
      "text/plain": [
       "('START_MONEY', 100000)"
      ]
     },
     "execution_count": 10,
     "metadata": {},
     "output_type": "execute_result"
    },
    {
     "data": {
      "text/plain": [
       "('len(order_df)', 17)"
      ]
     },
     "execution_count": 10,
     "metadata": {},
     "output_type": "execute_result"
    },
    {
     "data": {
      "text/plain": [
       "('sum_profit', 90139.705999999962)"
      ]
     },
     "execution_count": 10,
     "metadata": {},
     "output_type": "execute_result"
    },
    {
     "data": {
      "text/plain": [
       "('sum_tax', 0)"
      ]
     },
     "execution_count": 10,
     "metadata": {},
     "output_type": "execute_result"
    },
    {
     "data": {
      "text/plain": [
       "('win_rate', 0.35294117647058826)"
      ]
     },
     "execution_count": 10,
     "metadata": {},
     "output_type": "execute_result"
    },
    {
     "data": {
      "text/plain": [
       "('annual_return', 1.0625467676477047)"
      ]
     },
     "execution_count": 10,
     "metadata": {},
     "output_type": "execute_result"
    },
    {
     "data": {
      "text/plain": [
       "('len(order_df[order_df.profit != 0])', 17)"
      ]
     },
     "execution_count": 10,
     "metadata": {},
     "output_type": "execute_result"
    },
    {
     "data": {
      "text/plain": [
       "('len(order_df[order_df.profit > 0])', 6)"
      ]
     },
     "execution_count": 10,
     "metadata": {},
     "output_type": "execute_result"
    },
    {
     "data": {
      "text/plain": [
       "('order LONG', 17)"
      ]
     },
     "execution_count": 10,
     "metadata": {},
     "output_type": "execute_result"
    },
    {
     "data": {
      "text/plain": [
       "6"
      ]
     },
     "execution_count": 10,
     "metadata": {},
     "output_type": "execute_result"
    },
    {
     "data": {
      "text/plain": [
       "90139.705999999962"
      ]
     },
     "execution_count": 10,
     "metadata": {},
     "output_type": "execute_result"
    },
    {
     "data": {
      "text/plain": [
       "('order SHORT', 0)"
      ]
     },
     "execution_count": 10,
     "metadata": {},
     "output_type": "execute_result"
    },
    {
     "data": {
      "text/plain": [
       "0"
      ]
     },
     "execution_count": 10,
     "metadata": {},
     "output_type": "execute_result"
    },
    {
     "data": {
      "text/plain": [
       "0"
      ]
     },
     "execution_count": 10,
     "metadata": {},
     "output_type": "execute_result"
    },
    {
     "data": {
      "text/plain": [
       "('cum_returns', 1.2404072540323208, -0.34015170774015702)"
      ]
     },
     "execution_count": 10,
     "metadata": {},
     "output_type": "execute_result"
    },
    {
     "data": {
      "text/plain": [
       "('max_drawdown', -0.3085284042558867, -0.7188753062194538)"
      ]
     },
     "execution_count": 10,
     "metadata": {},
     "output_type": "execute_result"
    },
    {
     "data": {
      "text/plain": [
       "('annual_return', 0.082109267918186735, -0.039854783586569686)"
      ]
     },
     "execution_count": 10,
     "metadata": {},
     "output_type": "execute_result"
    },
    {
     "data": {
      "text/plain": [
       "('annual_volatility', 0.14659261124235723)"
      ]
     },
     "execution_count": 10,
     "metadata": {},
     "output_type": "execute_result"
    },
    {
     "data": {
      "text/plain": [
       "('calmar_ratio', 0.26613195668716166)"
      ]
     },
     "execution_count": 10,
     "metadata": {},
     "output_type": "execute_result"
    },
    {
     "data": {
      "text/plain": [
       "('sharpe_ratio', 0.6121201939648833)"
      ]
     },
     "execution_count": 10,
     "metadata": {},
     "output_type": "execute_result"
    },
    {
     "data": {
      "text/plain": [
       "('alpha', 0.08867893018525484)"
      ]
     },
     "execution_count": 10,
     "metadata": {},
     "output_type": "execute_result"
    },
    {
     "data": {
      "text/plain": [
       "('beta', 0.24152586366387693)"
      ]
     },
     "execution_count": 10,
     "metadata": {},
     "output_type": "execute_result"
    },
    {
     "data": {
      "text/plain": [
       "('ALL DAY', 2576)"
      ]
     },
     "execution_count": 10,
     "metadata": {},
     "output_type": "execute_result"
    },
    {
     "data": {
      "text/plain": [
       "'CASH_TURTLE_1_60_30'"
      ]
     },
     "execution_count": 10,
     "metadata": {},
     "output_type": "execute_result"
    },
    {
     "data": {
      "text/plain": [
       "'PROPERTY_TURTLE_1_60_30'"
      ]
     },
     "execution_count": 10,
     "metadata": {},
     "output_type": "execute_result"
    },
    {
     "data": {
      "text/plain": [
       "('CASH NOT USED DAY', 0)"
      ]
     },
     "execution_count": 10,
     "metadata": {},
     "output_type": "execute_result"
    },
    {
     "data": {
      "text/plain": [
       "('MISS_BUY_SIGNAL_LONG', 194)"
      ]
     },
     "execution_count": 10,
     "metadata": {},
     "output_type": "execute_result"
    },
    {
     "data": {
      "text/plain": [
       "('MISS_BUY_SIGNAL_SHORT', 0)"
      ]
     },
     "execution_count": 10,
     "metadata": {},
     "output_type": "execute_result"
    }
   ],
   "source": [
    "'ALL'\n",
    "'start_date', start_date\n",
    "'end_date', end_date\n",
    "'TURTLE_POS', TURTLE_POS\n",
    "'TURTLE_SHORT_BUY_N', TURTLE_SHORT_BUY_N\n",
    "'TURTLE_SHORT_SELL_N', TURTLE_SHORT_SELL_N\n",
    "'TURTLE_LONG_BUY_N', TURTLE_LONG_BUY_N\n",
    "'TURTLE_LONG_SELL_N', TURTLE_LONG_SELL_N\n",
    "'IS_HAPPYMONEY', IS_HAPPYMONEY\n",
    "'IS_TAX', IS_TAX\n",
    "'IS_SLIPPAGE', IS_SLIPPAGE\n",
    "'IS_RANDOM_BUY', IS_RANDOM_BUY\n",
    "'START_MONEY', START_MONEY\n",
    "\n",
    "'len(order_df)', len(order_df)\n",
    "sum_profit = sum(list(order_df['profit']))\n",
    "'sum_profit', sum_profit\n",
    "# sum_tax = sum(list(order_df_TB['tax']))\n",
    "sum_tax = 0\n",
    "'sum_tax', sum_tax\n",
    "'win_rate', len(order_df[order_df.profit > 0]) / len(order_df[order_df.profit != 0])\n",
    "'annual_return', ((sum_profit - sum_tax) / START_MONEY + 1) ** (365 / count_day)\n",
    "'len(order_df[order_df.profit != 0])', len(order_df[order_df.profit != 0])\n",
    "'len(order_df[order_df.profit > 0])', len(order_df[order_df.profit > 0])\n",
    "'order LONG', len(order_df[order_df.buy_reason == 'LONG'])\n",
    "len(order_df[(order_df.buy_reason == 'LONG') & (order_df.profit > 0)])\n",
    "sum(list(order_df[order_df.buy_reason == 'LONG']['profit']))\n",
    "'order SHORT', len(order_df[order_df.buy_reason == 'SHORT'])\n",
    "len(order_df[(order_df.buy_reason == 'SHORT') & (order_df.profit > 0)])\n",
    "sum(list(order_df[order_df.buy_reason == 'SHORT']['profit']))\n",
    "\n",
    "# order_df\n",
    "# order_df.loc[order_df['sell_price']==0]\n",
    "\n",
    "calc_df = order_df.copy()\n",
    "calc_df['profit_pct'] = calc_df['profit'] / (calc_df['buy_count'] * calc_df['buy_price'])\n",
    "# calc_df[calc_df.symbol == 'BIDU']\n",
    "# calc_df[calc_df.profit > 0]\n",
    "# calc_df\n",
    "\n",
    "# order_df[order_df.profit > 0]\n",
    "\n",
    "# csv_file = 'E:/Dev/result/T_TURTLE_POS%d_TURTLE_BUY_N%d_TURTLE_SELL_N%d_START_MONEY%d_%s_%s.csv' % \\\n",
    "#     (TURTLE_POS, TURTLE_BUY_N, TURTLE_SELL_N, START_MONEY, start_date, end_date)\n",
    "# calc_df.to_csv(csv_file)\n",
    "\n",
    "# list(show_df.dropna(how='any', inplace=False).PROPERTY_TURTLE_20_60_60.apply(int).tail(50))\n",
    "# list(show_df.open.apply(int).tail(50))\n",
    "\n",
    "df = show_df.dropna(how='any', inplace=False).copy()\n",
    "algo = df['PROPERTY_TURTLE_%d_%d_%d' % (TURTLE_POS, TURTLE_LONG_BUY_N, TURTLE_LONG_SELL_N)].pct_change()\n",
    "benchmark = df.open.pct_change()\n",
    "\n",
    "'cum_returns', emp.cum_returns(algo)[-1], emp.cum_returns(benchmark)[-1]\n",
    "'max_drawdown', emp.max_drawdown(algo), emp.max_drawdown(benchmark)\n",
    "'annual_return', emp.annual_return(algo), emp.annual_return(benchmark)\n",
    "'annual_volatility', emp.annual_volatility(algo, period='daily')\n",
    "'calmar_ratio', emp.calmar_ratio(algo)\n",
    "'sharpe_ratio', emp.sharpe_ratio(returns=algo)\n",
    "'alpha', emp.alpha(returns=algo, factor_returns=benchmark, risk_free=0.00)\n",
    "'beta', emp.beta(returns=algo, factor_returns=benchmark, risk_free=0.00)\n",
    "\n",
    "'ALL DAY', len(df)\n",
    "'CASH_TURTLE_%d_%d_%d' % (TURTLE_POS, TURTLE_LONG_BUY_N, TURTLE_LONG_SELL_N)\n",
    "'PROPERTY_TURTLE_%d_%d_%d' % (TURTLE_POS, TURTLE_LONG_BUY_N, TURTLE_LONG_SELL_N)\n",
    "'CASH NOT USED DAY', \\\n",
    "    len(df[df['CASH_TURTLE_%d_%d_%d' % (TURTLE_POS, TURTLE_LONG_BUY_N, TURTLE_LONG_SELL_N)] > \\\n",
    "           df['PROPERTY_TURTLE_%d_%d_%d' % (TURTLE_POS, TURTLE_LONG_BUY_N, TURTLE_LONG_SELL_N)] / TURTLE_POS])\n",
    "'MISS_BUY_SIGNAL_LONG', miss_buy_long\n",
    "'MISS_BUY_SIGNAL_SHORT', miss_buy_short"
   ]
  },
  {
   "cell_type": "code",
   "execution_count": 11,
   "metadata": {
    "scrolled": false
   },
   "outputs": [
    {
     "data": {
      "text/plain": [
       "'计算标的持有、收益等'"
      ]
     },
     "execution_count": 11,
     "metadata": {},
     "output_type": "execute_result"
    },
    {
     "data": {
      "text/html": [
       "<div>\n",
       "<style scoped>\n",
       "    .dataframe tbody tr th:only-of-type {\n",
       "        vertical-align: middle;\n",
       "    }\n",
       "\n",
       "    .dataframe tbody tr th {\n",
       "        vertical-align: top;\n",
       "    }\n",
       "\n",
       "    .dataframe thead th {\n",
       "        text-align: right;\n",
       "    }\n",
       "</style>\n",
       "<table border=\"1\" class=\"dataframe\">\n",
       "  <thead>\n",
       "    <tr style=\"text-align: right;\">\n",
       "      <th></th>\n",
       "      <th>pro_pct</th>\n",
       "    </tr>\n",
       "    <tr>\n",
       "      <th>symbol</th>\n",
       "      <th></th>\n",
       "    </tr>\n",
       "  </thead>\n",
       "  <tbody>\n",
       "    <tr>\n",
       "      <th>399300</th>\n",
       "      <td>0.81451</td>\n",
       "    </tr>\n",
       "  </tbody>\n",
       "</table>\n",
       "</div>"
      ],
      "text/plain": [
       "        pro_pct\n",
       "symbol         \n",
       "399300  0.81451"
      ]
     },
     "execution_count": 11,
     "metadata": {},
     "output_type": "execute_result"
    }
   ],
   "source": [
    "'''计算标的持有、收益等'''\n",
    "\n",
    "df = order_df.copy()\n",
    "df.drop(columns=['sell_reason'], inplace=True)\n",
    "df['pro_pct'] = (df.sell_price - df.buy_price) / df.buy_price\n",
    "# df.sell_date.dtypes\n",
    "# df.loc[1].sell_date\n",
    "# df.loc[1].sell_date.to_timestamp()\n",
    "\n",
    "# df = df.astype(dtype={'sell_date': 'datetime64[ns]', 'buy_date': 'datetime64[ns]', 'cash':'int'})\n",
    "df = df.astype(dtype={'cash': 'int', 'profit': 'int'})\n",
    "# df.loc[1].sell_date\n",
    "\n",
    "# type(df[1].sell_date)\n",
    "df['h_days'] = (df.sell_date - df.buy_date)\n",
    "# df.loc[1].h_days\n",
    "# type(df.loc[1].h_days)\n",
    "\n",
    "df['h_days'] = df['h_days'].apply(lambda x: 1 if x == 0 else x)\n",
    "# df.loc[1].h_days\n",
    "\n",
    "df['per_d'] = df.pro_pct / df.h_days * 365\n",
    "# df['per_d'] = df.apply(lambda x: x.pro_pct / x.h_days)\n",
    "\n",
    "# df\n",
    "# df.sort_values(by='pro_pct', ascending=False)\n",
    "# df.sort_values(by='per_d', ascending=False)\n",
    "\n",
    "df = df.loc[:, ['symbol', 'pro_pct']]\n",
    "df = df.groupby(by='symbol').sum()\n",
    "df.sort_values(by='pro_pct', ascending=False).head(20)"
   ]
  },
  {
   "cell_type": "code",
   "execution_count": 12,
   "metadata": {
    "scrolled": false
   },
   "outputs": [
    {
     "data": {
      "text/plain": [
       "Index(['open', 'close', 'o_pct_chg', 'ROLLING_20_MAX', 'ROLLING_20_MIN',\n",
       "       'ROLLING_60_MAX', 'ROLLING_30_MIN', 'MA180', 'MA60', 'MA30',\n",
       "       'CASH_TURTLE_1_60_30', 'PROPERTY_TURTLE_1_60_30'],\n",
       "      dtype='object')"
      ]
     },
     "execution_count": 12,
     "metadata": {},
     "output_type": "execute_result"
    },
    {
     "data": {
      "image/png": "[encoded data removed]",
      "text/plain": [
       "<matplotlib.figure.Figure at 0xdc2c830>"
      ]
     },
     "metadata": {},
     "output_type": "display_data"
    }
   ],
   "source": [
    "%matplotlib inline\n",
    "\n",
    "import matplotlib\n",
    "import matplotlib.pyplot as plt\n",
    "plt.rcParams['figure.figsize'] = [15, 10]\n",
    "\n",
    "# df = show_df.fillna(START_MONEY).copy()\n",
    "df = show_df.dropna(how='any', inplace=False).copy()\n",
    "# df.drop(columns=['open', 'high', 'low', 'o_pct_chg', 'TR', 'N'], inplace=True)\n",
    "df.columns\n",
    "\n",
    "df['close'] = (df['close'] - df.iloc[0]['close']) / df.iloc[0]['close']\n",
    "ax = df.plot(kind='line', y='close', label='BENCHMARK_%.2f' % df.iloc[-1]['close'], linewidth=1, grid=True)\n",
    "for col in sorted(df.columns):\n",
    "    if 'PROPERTY' in col:\n",
    "        df[col] = (df[col] - df.iloc[1][col]) / df.iloc[0][col]\n",
    "        ax = df.plot(kind='line', y=col, secondary_y=False, label='%s_%.2f' % (col, df.iloc[-1][col]), linewidth=1, grid=True, ax=ax)\n",
    "\n",
    "# display_charts(df, kind='line', figsize=(900, 600), logy=False)"
   ]
  },
  {
   "cell_type": "code",
   "execution_count": 13,
   "metadata": {},
   "outputs": [
    {
     "data": {
      "text/plain": [
       "Index(['open', 'close', 'o_pct_chg', 'ROLLING_20_MAX', 'ROLLING_20_MIN',\n",
       "       'ROLLING_60_MAX', 'ROLLING_30_MIN', 'MA180', 'MA60', 'MA30',\n",
       "       'CASH_TURTLE_1_60_30', 'PROPERTY_TURTLE_1_60_30'],\n",
       "      dtype='object')"
      ]
     },
     "execution_count": 13,
     "metadata": {},
     "output_type": "execute_result"
    },
    {
     "data": {
      "text/html": [
       "<div id=\"chart_idmUgcuACG\"</div>\n",
       "    <script type=\"text/javascript\">new Highcharts.StockChart({\"chart\":{\"renderTo\":\"chart_idmUgcuACG\",\"width\":900,\"height\":600},\"legend\":{\"enabled\":true},\"series\":[{\"name\":\"CASH_TURTLE_1_60_30\",\"yAxis\":0,\"data\":[[1199232000000,1.0],[1199318400000,1.000109589],[1199404800000,1.0002191901],[1199664000000,1.0003288032],[1199750400000,1.0004384282],[1199836800000,1.0005480653],[1199923200000,1.0006577144],[1200009600000,1.0007673755],[1200268800000,1.0008770487],[1200355200000,1.0009867338],[1200441600000,1.001096431],[1200528000000,1.0012061402],[1200614400000,1.0013158614],[1200873600000,1.0014255947],[1200960000000,1.0015353399],[1201046400000,1.0016450972],[1201132800000,1.0017548666],[1201219200000,1.0018646479],[1201478400000,1.0019744413],[1201564800000,1.0020842467],[1201651200000,1.0021940642],[1201737600000,1.0023038937],[1201824000000,1.0024137352],[1202083200000,1.0025235887],[1202169600000,1.0026334543],[1202860800000,1.002743332],[1202947200000,1.0028532217],[1203033600000,1.0029631234],[1203292800000,1.0030730372],[1203379200000,1.003182963],[1203465600000,1.0032929008],[1203552000000,1.0034028507],[1203638400000,1.0035128127],[1203897600000,1.0036227867],[1203984000000,1.0037327728],[1204070400000,1.0038427709],[1204156800000,1.003952781],[1204243200000,1.0040628033],[1204502400000,1.0041728375],[1204588800000,1.0042828839],[1204675200000,1.0043929423],[1204761600000,1.0045030127],[1204848000000,1.0046130953],[1205107200000,1.0047231898],[1205193600000,1.0048332965],[1205280000000,1.0049434152],[1205366400000,1.005053546],[1205452800000,1.0051636888],[1205712000000,1.0052738438],[1205798400000,1.0053840108],[1205884800000,1.0054941898],[1205971200000,1.005604381],[1206057600000,1.0057145842],[1206316800000,1.0058247995],[1206403200000,1.0059350269],[1206489600000,1.0060452663],[1206576000000,1.0061555179],[1206662400000,1.0062657815],[1206921600000,1.0063760572],[1207008000000,1.006486345],[1207094400000,1.0065966448],[1207180800000,1.0067069568],[1207526400000,1.0068172809],[1207612800000,1.006927617],[1207699200000,1.0070379652],[1207785600000,1.0071483256],[1207872000000,1.007258698],[1208131200000,1.0073690825],[1208217600000,1.0074794791],[1208304000000,1.0075898878],[1208390400000,1.0077003086],[1208476800000,1.0078107415],[1208736000000,1.0079211865],[1208822400000,1.0080316437],[1208908800000,1.0081421129],[1208995200000,1.0082525942],[1209081600000,1.0083630876],[1209340800000,1.0084735932],[1209427200000,1.0085841108],[1209513600000,1.0086946406],[1209945600000,1.0088051825],[1210032000000,1.0089157365],[1210118400000,1.0090263026],[1210204800000,1.0091368808],[1210291200000,1.0092474712],[1210550400000,1.0093580736],[1210636800000,1.0094686882],[1210723200000,1.0095793149],[1210809600000,1.0096899537],[1210896000000,1.0098006047],[1211155200000,1.0099112678],[1211241600000,1.010021943],[1211328000000,1.0101326303],[1211414400000,1.0102433298],[1211500800000,1.0103540414],[1211760000000,1.0104647651],[1211846400000,1.010575501],[1211932800000,1.010686249],[1212019200000,1.0107970091],[1212105600000,1.0109077814],[1212364800000,1.0110185658],[1212451200000,1.0111293624],[1212537600000,1.011240171],[1212624000000,1.0113509919],[1212710400000,1.0114618249],[1213056000000,1.01157267],[1213142400000,1.0116835273],[1213228800000,1.0117943967],[1213315200000,1.0119052783],[1213574400000,1.012016172],[1213660800000,1.0121270779],[1213747200000,1.0122379959],[1213833600000,1.0123489261],[1213920000000,1.0124598685],[1214179200000,1.012570823],[1214265600000,1.0126817896],[1214352000000,1.0127927685],[1214438400000,1.0129037595],[1214524800000,1.0130147626],[1214784000000,1.0131257779],[1214870400000,1.0132368054],[1214956800000,1.0133478451],[1215043200000,1.0134588969],[1215129600000,1.0135699609],[1215388800000,1.013681037],[1215475200000,1.0137921254],[1215561600000,1.0139032259],[1215648000000,1.0140143386],[1215734400000,1.0141254634],[1215993600000,1.0142366005],[1216080000000,1.0143477497],[1216166400000,1.0144589111],[1216252800000,1.0145700846],[1216339200000,1.0146812704],[1216598400000,1.0147924684],[1216684800000,1.0149036785],[1216771200000,1.0150149008],[1216857600000,1.0151261353],[1216944000000,1.015237382],[1217203200000,1.0153486409],[1217289600000,1.015459912],[1217376000000,1.0155711953],[1217462400000,1.0156824907],[1217548800000,1.0157937984],[1217808000000,1.0159051183],[1217894400000,1.0160164504],[1217980800000,1.0161277946],[1218067200000,1.0162391511],[1218153600000,1.0163505198],[1218412800000,1.0164619006],[1218499200000,1.0165732937],[1218585600000,1.016684699],[1218672000000,1.0167961165],[1218758400000,1.0169075462],[1219017600000,1.0170189882],[1219104000000,1.0171304423],[1219190400000,1.0172419086],[1219276800000,1.0173533872],[1219363200000,1.017464878],[1219622400000,1.017576381],[1219708800000,1.0176878962],[1219795200000,1.0177994236],[1219881600000,1.0179109633],[1219968000000,1.0180225152],[1220227200000,1.0181340793],[1220313600000,1.0182456556],[1220400000000,1.0183572442],[1220486400000,1.018468845],[1220572800000,1.018580458],[1220832000000,1.0186920833],[1220918400000,1.0188037208],[1221004800000,1.0189153705],[1221091200000,1.0190270325],[1221177600000,1.0191387067],[1221523200000,1.0192503931],[1221609600000,1.0193620918],[1221696000000,1.0194738027],[1221782400000,1.0195855258],[1222041600000,1.0196972612],[1222128000000,1.0198090089],[1222214400000,1.0199207688],[1222300800000,1.0200325409],[1222387200000,1.0201443253],[1223251200000,1.0202561219],[1223337600000,1.0203679308],[1223424000000,1.020479752],[1223510400000,1.0205915854],[1223596800000,1.020703431],[1223856000000,1.0208152889],[1223942400000,1.0209271591],[1224028800000,1.0210390415],[1224115200000,1.0211509362],[1224201600000,1.0212628432],[1224460800000,1.0213747624],[1224547200000,1.0214866939],[1224633600000,1.0215986376],[1224720000000,1.0217105936],[1224806400000,1.0218225619],[1225065600000,1.0219345425],[1225152000000,1.0220465353],[1225238400000,1.0221585404],[1225324800000,1.0222705578],[1225411200000,1.0223825874],[1225670400000,1.0224946293],[1225756800000,1.0226066835],[1225843200000,1.02271875],[1225929600000,1.0228308288],[1226016000000,1.0229429198],[1226275200000,1.0230550232],[1226361600000,1.0231671388],[1226448000000,1.0232792667],[1226534400000,1.0233914069],[1226620800000,1.0235035594],[1226880000000,1.0236157242],[1226966400000,1.0237279012],[1227052800000,1.0238400906],[1227139200000,1.0239522922],[1227225600000,1.0240645062],[1227484800000,1.0241767324],[1227571200000,1.024288971],[1227657600000,1.0244012218],[1227744000000,1.024513485],[1227830400000,1.0246257604],[1228089600000,1.0247380482],[1228176000000,1.0248503482],[1228262400000,1.0249626606],[1228348800000,1.0250749853],[1228435200000,1.0251873223],[1228694400000,1.0252996716],[1228780800000,1.0254120332],[1228867200000,1.0255244071],[1228953600000,1.0256367933],[1229040000000,1.0257491919],[1229299200000,1.0258616027],[1229385600000,1.0259740259],[1229472000000,1.0260864614],[1229558400000,1.0261989093],[1229644800000,1.0263113694],[1229904000000,1.0264238419],[1229990400000,1.0265363267],[1230076800000,1.0266488238],[1230163200000,1.0267613333],[1230249600000,1.0268738551],[1230508800000,1.0269863892],[1230595200000,1.0270989357],[1230681600000,1.0272114945],[1231113600000,1.0273240656],[1231200000000,1.027436649],[1231286400000,1.0275492448],[1231372800000,1.027661853],[1231459200000,1.0277744735],[1231718400000,1.0278871063],[1231804800000,1.0279997514],[1231891200000,1.0281124089],[1231977600000,1.0282250788],[1232064000000,1.028337761],[1232323200000,1.0284504555],[1232409600000,1.0285631624],[1232496000000,1.0286758817],[1232582400000,1.0287886133],[1232668800000,1.0289013573],[1233532800000,1.0290141136],[1233619200000,1.0291268822],[1233705600000,0.0123308633],[1233792000000,0.0123322146],[1233878400000,0.0123335661],[1234137600000,0.0123349177],[1234224000000,0.0123362695],[1234310400000,0.0123376214],[1234396800000,0.0123389735],[1234483200000,0.0123403257],[1234742400000,0.012341678],[1234828800000,0.0123430305],[1234915200000,0.0123443832],[1235001600000,0.012345736],[1235088000000,0.012347089],[1235347200000,0.0123484421],[1235433600000,0.0123497953],[1235520000000,0.0123511487],[1235606400000,0.0123525023],[1235692800000,0.012353856],[1235952000000,0.0123552098],[1236038400000,0.0123565638],[1236124800000,0.012357918],[1236211200000,0.0123592723],[1236297600000,0.0123606267],[1236556800000,0.0123619813],[1236643200000,0.012363336],[1236729600000,0.0123646909],[1236816000000,0.012366046],[1236902400000,0.0123674011],[1237161600000,0.0123687565],[1237248000000,0.0123701119],[1237334400000,0.0123714676],[1237420800000,0.0123728234],[1237507200000,0.0123741793],[1237766400000,0.0123755354],[1237852800000,0.0123768916],[1237939200000,0.0123782479],[1238025600000,0.0123796045],[1238112000000,0.0123809611],[1238371200000,0.012382318],[1238457600000,0.0123836749],[1238544000000,0.012385032],[1238630400000,0.0123863893],[1238716800000,0.0123877467],[1239062400000,0.0123891043],[1239148800000,0.012390462],[1239235200000,0.0123918198],[1239321600000,0.0123931779],[1239580800000,0.012394536],[1239667200000,0.0123958943],[1239753600000,0.0123972528],[1239840000000,0.0123986114],[1239926400000,0.0123999701],[1240185600000,0.012401329],[1240272000000,0.0124026881],[1240358400000,0.0124040473],[1240444800000,0.0124054066],[1240531200000,0.0124067661],[1240790400000,0.0124081258],[1240876800000,0.0124094856],[1240963200000,0.0124108455],[1241049600000,0.0124122056],[1241395200000,0.0124135658],[1241481600000,0.0124149262],[1241568000000,0.0124162868],[1241654400000,0.0124176475],[1241740800000,0.0124190083],[1242000000000,0.0124203693],[1242086400000,0.0124217304],[1242172800000,0.0124230917],[1242259200000,0.0124244531],[1242345600000,0.0124258147],[1242604800000,0.0124271765],[1242691200000,0.0124285383],[1242777600000,0.0124299004],[1242864000000,0.0124312625],[1242950400000,0.0124326249],[1243209600000,0.0124339874],[1243296000000,0.01243535],[1243382400000,0.0124367128],[1243814400000,0.0124380757],[1243900800000,0.0124394388],[1243987200000,0.012440802],[1244073600000,0.0124421654],[1244160000000,0.0124435289],[1244419200000,0.0124448926],[1244505600000,0.0124462564],[1244592000000,0.0124476204],[1244678400000,0.0124489845],[1244764800000,0.0124503488],[1245024000000,0.0124517132],[1245110400000,0.0124530778],[1245196800000,0.0124544425],[1245283200000,0.0124558073],[1245369600000,0.0124571724],[1245628800000,0.0124585375],[1245715200000,0.0124599029],[1245801600000,0.0124612683],[1245888000000,0.0124626339],[1245974400000,0.0124639997],[1246233600000,0.0124653656],[1246320000000,0.0124667317],[1246406400000,0.0124680979],[1246492800000,0.0124694643],[1246579200000,0.0124708308],[1246838400000,0.0124721975],[1246924800000,0.0124735643],[1247011200000,0.0124749312],[1247097600000,0.0124762984],[1247184000000,0.0124776656],[1247443200000,0.012479033],[1247529600000,0.0124804006],[1247616000000,0.0124817683],[1247702400000,0.0124831362],[1247788800000,0.0124845042],[1248048000000,0.0124858724],[1248134400000,0.0124872407],[1248220800000,0.0124886091],[1248307200000,0.0124899778],[1248393600000,0.0124913465],[1248652800000,0.0124927154],[1248739200000,0.0124940845],[1248825600000,0.0124954537],[1248912000000,0.0124968231],[1248998400000,0.0124981926],[1249257600000,0.0124995623],[1249344000000,0.0125009321],[1249430400000,0.012502302],[1249516800000,0.0125036722],[1249603200000,0.0125050424],[1249862400000,0.0125064128],[1249948800000,0.0125077834],[1250035200000,0.0125091541],[1250121600000,0.012510525],[1250208000000,0.012511896],[1250467200000,1.5885644672],[1250553600000,1.5887385564],[1250640000000,1.5889126648],[1250726400000,1.5890867922],[1250812800000,1.5892609387],[1251072000000,1.5894351043],[1251158400000,1.5896092889],[1251244800000,1.5897834927],[1251331200000,1.5899577155],[1251417600000,1.5901319575],[1251676800000,1.5903062185],[1251763200000,1.5904804986],[1251849600000,1.5906547979],[1251936000000,1.5908291162],[1252022400000,1.5910034536],[1252281600000,1.5911778102],[1252368000000,1.5913521858],[1252454400000,1.5915265806],[1252540800000,1.5917009945],[1252627200000,1.5918754275],[1252886400000,1.5920498796],[1252972800000,1.5922243508],[1253059200000,1.5923988411],[1253145600000,1.5925733506],[1253232000000,1.5927478792],[1253491200000,1.5929224269],[1253577600000,1.5930969937],[1253664000000,1.5932715797],[1253750400000,1.5934461848],[1253836800000,1.593620809],[1254096000000,1.5937954524],[1254182400000,1.5939701149],[1254268800000,1.5941447966],[1255046400000,1.5943194974],[1255305600000,1.5944942173],[1255392000000,1.5946689564],[1255478400000,1.5948437147],[1255564800000,1.5950184921],[1255651200000,1.5951932886],[1255910400000,1.5953681043],[1255996800000,1.5955429392],[1256083200000,1.5957177932],[1256169600000,1.5958926664],[1256256000000,1.5960675587],[1256515200000,1.5962424702],[1256601600000,1.5964174009],[1256688000000,1.5965923508],[1256774400000,1.5967673198],[1256860800000,1.596942308],[1257120000000,1.5971173154],[1257206400000,1.5972923419],[1257292800000,1.5974673877],[1257379200000,1.5976424526],[1257465600000,1.5978175367],[1257724800000,1.59799264],[1257811200000,1.5981677625],[1257897600000,1.5983429041],[1257984000000,1.598518065],[1258070400000,1.5986932451],[1258329600000,0.0053959443],[1258416000000,0.0053965357],[1258502400000,0.0053971271],[1258588800000,0.0053977185],[1258675200000,0.00539831],[1258934400000,0.0053989016],[1259020800000,0.0053994933],[1259107200000,0.005400085],[1259193600000,0.0054006768],[1259280000000,0.0054012687],[1259539200000,0.0054018606],[1259625600000,0.0054024526],[1259712000000,0.0054030446],[1259798400000,0.0054036367],[1259884800000,0.0054042289],[1260144000000,0.0054048212],[1260230400000,0.0054054135],[1260316800000,0.0054060059],[1260403200000,0.0054065983],[1260489600000,0.0054071908],[1260748800000,0.0054077834],[1260835200000,0.005408376],[1260921600000,0.0054089687],[1261008000000,0.0054095615],[1261094400000,0.0054101543],[1261353600000,1.5292592472],[1261440000000,1.5294268372],[1261526400000,1.5295944457],[1261612800000,1.5297620724],[1261699200000,1.5299297176],[1261958400000,1.5300973811],[1262044800000,1.530265063],[1262131200000,1.5304327633],[1262217600000,1.530600482],[1262563200000,1.530768219],[1262649600000,1.5309359744],[1262736000000,1.5311037482],[1262822400000,1.5312715404],[1262908800000,1.531439351],[1263168000000,1.53160718],[1263254400000,1.5317750273],[1263340800000,1.5319428931],[1263427200000,1.5321107773],[1263513600000,1.5322786798],[1263772800000,1.5324466008],[1263859200000,1.5326145401],[1263945600000,1.5327824979],[1264032000000,1.532950474],[1264118400000,1.5331184686],[1264377600000,1.5332864816],[1264464000000,1.533454513],[1264550400000,1.5336225628],[1264636800000,1.533790631],[1264723200000,1.5339587177],[1264982400000,1.5341268227],[1265068800000,1.5342949462],[1265155200000,1.5344630881],[1265241600000,1.5346312485],[1265328000000,1.5347994272],[1265587200000,1.5349676244],[1265673600000,1.5351358401],[1265760000000,1.5353040741],[1265846400000,1.5354723266],[1265932800000,1.5356405976],[1266796800000,1.535808887],[1266883200000,1.5359771948],[1266969600000,1.536145521],[1267056000000,1.5363138658],[1267142400000,1.5364822289],[1267401600000,1.5366506105],[1267488000000,1.5368190106],[1267574400000,1.5369874291],[1267660800000,1.5371558661],[1267747200000,1.5373243215],[1268006400000,1.5374927954],[1268092800000,1.5376612878],[1268179200000,1.5378297986],[1268265600000,1.5379983279],[1268352000000,1.5381668757],[1268611200000,1.5383354419],[1268697600000,1.5385040266],[1268784000000,1.5386726298],[1268870400000,1.5388412515],[1268956800000,1.5390098916],[1269216000000,1.5391785502],[1269302400000,1.5393472273],[1269388800000,1.5395159229],[1269475200000,1.539684637],[1269561600000,1.5398533695],[1269820800000,1.5400221206],[1269907200000,1.5401908901],[1269993600000,1.5403596782],[1270080000000,1.5405284847],[1270166400000,1.5406973098],[1270512000000,1.5408661533],[1270598400000,1.5410350153],[1270684800000,1.5412038959],[1270771200000,1.541372795],[1271030400000,1.5415417125],[1271116800000,1.5417106486],[1271203200000,1.5418796032],[1271289600000,1.5420485763],[1271376000000,1.5422175679],[1271635200000,1.5423865781],[1271721600000,1.5425556067],[1271808000000,1.5427246539],[1271894400000,1.5428937196],[1271980800000,1.5430628039],[1272240000000,1.5432319067],[1272326400000,1.543401028],[1272412800000,1.5435701678],[1272499200000,1.5437393262],[1272585600000,1.5439085031],[1272931200000,1.5440776985],[1273017600000,1.5442469125],[1273104000000,1.5444161451],[1273190400000,1.5445853962],[1273449600000,1.5447546658],[1273536000000,1.544923954],[1273622400000,1.5450932607],[1273708800000,1.545262586],[1273795200000,1.5454319298],[1274054400000,1.5456012922],[1274140800000,1.5457706732],[1274227200000,1.5459400727],[1274313600000,1.5461094908],[1274400000000,1.5462789275],[1274659200000,1.5464483827],[1274745600000,1.5466178565],[1274832000000,1.5467873489],[1274918400000,1.5469568598],[1275004800000,1.5471263893],[1275264000000,1.5472959374],[1275350400000,1.5474655041],[1275436800000,1.5476350894],[1275523200000,1.5478046932],[1275609600000,1.5479743156],[1275868800000,1.5481439567],[1275955200000,1.5483136163],[1276041600000,1.5484832945],[1276128000000,1.5486529913],[1276214400000,1.5488227067],[1276732800000,1.5489924407],[1276819200000,1.5491621933],[1277078400000,1.5493319645],[1277164800000,1.5495017543],[1277251200000,1.5496715627],[1277337600000,1.5498413897],[1277424000000,1.5500112353],[1277683200000,1.5501810996],[1277769600000,1.5503509824],[1277856000000,1.5505208839],[1277942400000,1.550690804],[1278028800000,1.5508607427],[1278288000000,1.5510307001],[1278374400000,1.551200676],[1278460800000,1.5513706706],[1278547200000,1.5515406839],[1278633600000,1.5517107157],[1278892800000,1.5518807662],[1278979200000,1.5520508353],[1279065600000,1.5522209231],[1279152000000,1.5523910295],[1279238400000,1.5525611545],[1279497600000,1.5527312982],[1279584000000,1.5529014606],[1279670400000,1.5530716415],[1279756800000,1.5532418412],[1279843200000,1.5534120595],[1280102400000,1.5535822964],[1280188800000,1.553752552],[1280275200000,1.5539228262],[1280361600000,1.5540931192],[1280448000000,1.5542634307],[1280707200000,1.554433761],[1280793600000,1.5546041099],[1280880000000,1.5547744774],[1280966400000,1.5549448637],[1281052800000,1.5551152686],[1281312000000,1.5552856922],[1281398400000,1.5554561345],[1281484800000,1.5556265954],[1281571200000,1.555797075],[1281657600000,1.5559675733],[1281916800000,1.5561380903],[1282003200000,0.004861886],[1282089600000,0.0048624188],[1282176000000,0.0048629517],[1282262400000,0.0048634846],[1282521600000,0.0048640176],[1282608000000,0.0048645507],[1282694400000,0.0048650838],[1282780800000,0.0048656169],[1282867200000,0.0048661501],[1283126400000,0.0048666834],[1283212800000,0.0048672167],[1283299200000,0.0048677501],[1283385600000,0.0048682836],[1283472000000,0.0048688171],[1283731200000,0.0048693507],[1283817600000,0.0048698843],[1283904000000,0.004870418],[1283990400000,0.0048709517],[1284076800000,0.0048714855],[1284336000000,0.0048720194],[1284422400000,0.0048725533],[1284508800000,0.0048730873],[1284595200000,0.0048736213],[1284681600000,0.0048741554],[1284940800000,0.0048746896],[1285027200000,0.0048752238],[1285545600000,0.0048757581],[1285632000000,0.0048762924],[1285718400000,0.0048768268],[1285804800000,0.0048773612],[1286496000000,0.0048778957],[1286755200000,0.0048784303],[1286841600000,0.0048789649],[1286928000000,0.0048794996],[1287014400000,0.0048800343],[1287100800000,0.0048805691],[1287360000000,0.004881104],[1287446400000,0.0048816389],[1287532800000,0.0048821739],[1287619200000,0.0048827089],[1287705600000,0.004883244],[1287964800000,0.0048837792],[1288051200000,0.0048843144],[1288137600000,0.0048848496],[1288224000000,0.004885385],[1288310400000,0.0048859203],[1288569600000,0.0048864558],[1288656000000,0.0048869913],[1288742400000,0.0048875269],[1288828800000,0.0048880625],[1288915200000,0.0048885981],[1289174400000,0.0048891339],[1289260800000,0.0048896697],[1289347200000,0.0048902055],[1289433600000,0.0048907414],[1289520000000,0.0048912774],[1289779200000,0.0048918134],[1289865600000,0.0048923495],[1289952000000,0.0048928857],[1290038400000,0.0048934219],[1290124800000,0.0048939582],[1290384000000,0.0048944945],[1290470400000,0.0048950309],[1290556800000,1.6420602673],[1290643200000,1.6422402191],[1290729600000,1.6424201906],[1290988800000,1.6426001819],[1291075200000,1.6427801929],[1291161600000,1.6429602236],[1291248000000,1.643140274],[1291334400000,1.6433203442],[1291593600000,1.6435004341],[1291680000000,1.6436805437],[1291766400000,1.6438606731],[1291852800000,1.6440408222],[1291939200000,1.6442209911],[1292198400000,1.6444011797],[1292284800000,1.644581388],[1292371200000,1.6447616161],[1292457600000,1.644941864],[1292544000000,1.6451221316],[1292803200000,1.6453024189],[1292889600000,1.645482726],[1292976000000,1.6456630529],[1293062400000,1.6458433996],[1293148800000,1.646023766],[1293408000000,1.6462041521],[1293494400000,1.6463845581],[1293580800000,1.6465649838],[1293667200000,1.6467454292],[1293753600000,1.6469258945],[1294099200000,1.6471063795],[1294185600000,1.6472868843],[1294272000000,1.6474674089],[1294358400000,1.6476479533],[1294617600000,1.6478285174],[1294704000000,1.6480091014],[1294790400000,1.6481897051],[1294876800000,1.6483703287],[1294963200000,1.648550972],[1295222400000,1.6487316351],[1295308800000,1.648912318],[1295395200000,1.6490930207],[1295481600000,1.6492737433],[1295568000000,1.6494544856],[1295827200000,1.6496352477],[1295913600000,1.6498160297],[1296000000000,1.6499968314],[1296086400000,1.650177653],[1296172800000,1.6503584944],[1296432000000,1.6505393556],[1296518400000,1.6507202366],[1297209600000,1.6509011375],[1297296000000,1.6510820581],[1297382400000,1.6512629986],[1297641600000,1.651443959],[1297728000000,1.6516249391],[1297814400000,1.6518059391],[1297900800000,1.651986959],[1297987200000,1.6521679986],[1298246400000,1.6523490581],[1298332800000,1.6525301375],[1298419200000,1.6527112367],[1298505600000,1.6528923557],[1298592000000,1.6530734946],[1298851200000,1.6532546533],[1298937600000,1.6534358319],[1299024000000,1.6536170304],[1299110400000,1.6537982487],[1299196800000,1.6539794868],[1299456000000,1.6541607449],[1299542400000,1.6543420228],[1299628800000,1.6545233205],[1299715200000,1.6547046381],[1299801600000,1.6548859756],[1300060800000,1.655067333],[1300147200000,1.6552487102],[1300233600000,1.6554301074],[1300320000000,1.6556115244],[1300406400000,1.6557929612],[1300665600000,1.655974418],[1300752000000,1.6561558946],[1300838400000,1.6563373912],[1300924800000,1.6565189076],[1301011200000,1.6567004439],[1301270400000,1.6568820001],[1301356800000,1.6570635763],[1301443200000,1.6572451723],[1301529600000,1.6574267882],[1301616000000,1.657608424],[1302048000000,1.6577900797],[1302134400000,1.6579717553],[1302220800000,1.6581534509],[1302480000000,0.0102838663],[1302566400000,0.0102849933],[1302652800000,0.0102861204],[1302739200000,0.0102872477],[1302825600000,0.010288375],[1303084800000,0.0102895025],[1303171200000,0.0102906302],[1303257600000,0.0102917579],[1303344000000,0.0102928858],[1303430400000,0.0102940137],[1303689600000,0.0102951419],[1303776000000,0.0102962701],[1303862400000,0.0102973985],[1303948800000,0.0102985269],[1304035200000,1.5592680555],[1304380800000,1.5594389342],[1304467200000,1.5596098316],[1304553600000,1.5597807478],[1304640000000,1.5599516827],[1304899200000,1.5601226363],[1304985600000,1.5602936086],[1305072000000,1.5604645997],[1305158400000,1.5606356095],[1305244800000,1.5608066381],[1305504000000,1.5609776854],[1305590400000,1.5611487514],[1305676800000,1.5613198362],[1305763200000,1.5614909398],[1305849600000,1.5616620621],[1306108800000,1.5618332031],[1306195200000,1.5620043629],[1306281600000,1.5621755415],[1306368000000,1.5623467388],[1306454400000,1.5625179549],[1306713600000,1.5626891897],[1306800000000,1.5628604433],[1306886400000,1.5630317157],[1306972800000,1.5632030069],[1307059200000,1.5633743168],[1307404800000,1.5635456455],[1307491200000,1.5637169929],[1307577600000,1.5638883592],[1307664000000,1.5640597442],[1307923200000,1.564231148],[1308009600000,1.5644025706],[1308096000000,1.564574012],[1308182400000,1.5647454721],[1308268800000,1.5649169511],[1308528000000,1.5650884489],[1308614400000,1.5652599654],[1308700800000,1.5654315007],[1308787200000,1.5656030549],[1308873600000,1.5657746278],[1309132800000,1.5659462195],[1309219200000,1.5661178301],[1309305600000,1.5662894594],[1309392000000,1.5664611076],[1309478400000,1.5666327746],[1309737600000,1.5668044604],[1309824000000,1.566976165],[1309910400000,1.5671478884],[1309996800000,1.5673196306],[1310083200000,1.5674913917],[1310342400000,1.5676631715],[1310428800000,1.5678349702],[1310515200000,1.5680067878],[1310601600000,1.5681786241],[1310688000000,1.5683504793],[1310947200000,1.5685223534],[1311033600000,1.5686942462],[1311120000000,1.5688661579],[1311206400000,1.5690380884],[1311292800000,1.5692100378],[1311552000000,1.5693820061],[1311638400000,1.5695539931],[1311724800000,1.569725999],[1311811200000,1.5698980238],[1311897600000,1.5700700674],[1312156800000,1.5702421299],[1312243200000,1.5704142112],[1312329600000,1.5705863114],[1312416000000,1.5707584305],[1312502400000,1.5709305684],[1312761600000,1.5711027251],[1312848000000,1.5712749008],[1312934400000,1.5714470953],[1313020800000,1.5716193087],[1313107200000,1.5717915409],[1313366400000,1.5719637921],[1313452800000,1.5721360621],[1313539200000,1.5723083509],[1313625600000,1.5724806587],[1313712000000,1.5726529854],[1313971200000,1.5728253309],[1314057600000,1.5729976953],[1314144000000,1.5731700786],[1314230400000,1.5733424808],[1314316800000,1.5735149019],[1314576000000,1.5736873419],[1314662400000,1.5738598008],[1314748800000,1.5740322786],[1314835200000,1.5742047753],[1314921600000,1.5743772909],[1315180800000,1.5745498254],[1315267200000,1.5747223788],[1315353600000,1.5748949511],[1315440000000,1.5750675423],[1315526400000,1.5752401524],[1315872000000,1.5754127815],[1315958400000,1.5755854295],[1316044800000,1.5757580964],[1316131200000,1.5759307822],[1316390400000,1.5761034869],[1316476800000,1.5762762106],[1316563200000,1.5764489532],[1316649600000,1.5766217147],[1316736000000,1.5767944952],[1316995200000,1.5769672946],[1317081600000,1.5771401129],[1317168000000,1.5773129502],[1317254400000,1.5774858064],[1317340800000,1.5776586816],[1318204800000,1.5778315757],[1318291200000,1.5780044887],[1318377600000,1.5781774207],[1318464000000,1.5783503717],[1318550400000,1.5785233416],[1318809600000,1.5786963304],[1318896000000,1.5788693382],[1318982400000,1.579042365],[1319068800000,1.5792154108],[1319155200000,1.5793884755],[1319414400000,1.5795615591],[1319500800000,1.5797346618],[1319587200000,1.5799077834],[1319673600000,1.580080924],[1319760000000,1.5802540835],[1320019200000,1.580427262],[1320105600000,1.5806004595],[1320192000000,1.580773676],[1320278400000,1.5809469115],[1320364800000,1.581120166],[1320624000000,1.5812934394],[1320710400000,1.5814667318],[1320796800000,1.5816400433],[1320883200000,1.5818133737],[1320969600000,1.5819867231],[1321228800000,1.5821600915],[1321315200000,1.5823334789],[1321401600000,1.5825068853],[1321488000000,1.5826803107],[1321574400000,1.5828537551],[1321833600000,1.5830272186],[1321920000000,1.583200701],[1322006400000,1.5833742025],[1322092800000,1.5835477229],[1322179200000,1.5837212624],[1322438400000,1.5838948209],[1322524800000,1.5840683984],[1322611200000,1.5842419949],[1322697600000,1.5844156105],[1322784000000,1.5845892451],[1323043200000,1.5847628987],[1323129600000,1.5849365713],[1323216000000,1.585110263],[1323302400000,1.5852839737],[1323388800000,1.5854577035],[1323648000000,1.5856314523],[1323734400000,1.5858052201],[1323820800000,1.585979007],[1323907200000,1.5861528129],[1323993600000,1.5863266379],[1324252800000,1.5865004819],[1324339200000,1.5866743449],[1324425600000,1.5868482271],[1324512000000,1.5870221282],[1324598400000,1.5871960485],[1324857600000,1.5873699878],[1324944000000,1.5875439461],[1325030400000,1.5877179235],[1325116800000,1.58789192],[1325203200000,1.5880659356],[1325635200000,1.5882399702],[1325721600000,1.5884140239],[1325808000000,1.5885880967],[1326067200000,1.5887621885],[1326153600000,1.5889362994],[1326240000000,1.5891104294],[1326326400000,1.5892845785],[1326412800000,1.5894587467],[1326672000000,1.589632934],[1326758400000,1.5898071403],[1326844800000,1.5899813658],[1326931200000,1.5901556103],[1327017600000,1.5903298739],[1327881600000,1.5905041566],[1327968000000,1.5906784585],[1328054400000,1.5908527794],[1328140800000,1.5910271194],[1328227200000,1.5912014786],[1328486400000,1.5913758568],[1328572800000,1.5915502542],[1328659200000,1.5917246706],[1328745600000,1.5918991062],[1328832000000,1.5920735609],[1329091200000,1.5922480347],[1329177600000,1.5924225277],[1329264000000,1.5925970397],[1329350400000,1.5927715709],[1329436800000,1.5929461212],[1329696000000,1.5931206906],[1329782400000,1.5932952792],[1329868800000,1.5934698869],[1329955200000,1.5936445137],[1330041600000,1.5938191597],[1330300800000,0.0257030248],[1330387200000,0.0257058416],[1330473600000,0.0257086587],[1330560000000,0.0257114761],[1330646400000,0.0257142938],[1330905600000,0.0257171118],[1330992000000,0.0257199301],[1331078400000,0.0257227487],[1331164800000,0.0257255676],[1331251200000,0.0257283869],[1331510400000,0.0257312064],[1331596800000,0.0257340263],[1331683200000,0.0257368465],[1331769600000,0.0257396669],[1331856000000,0.0257424877],[1332115200000,0.0257453088],[1332201600000,0.0257481302],[1332288000000,0.0257509519],[1332374400000,0.0257537739],[1332460800000,0.0257565963],[1332720000000,0.0257594189],[1332806400000,0.0257622419],[1332892800000,1.5234564651],[1332979200000,1.5236234193],[1333065600000,1.5237903917],[1333584000000,1.5239573824],[1333670400000,1.5241243914],[1333929600000,1.5242914188],[1334016000000,1.5244584644],[1334102400000,1.5246255284],[1334188800000,1.5247926106],[1334275200000,1.5249597112],[1334534400000,1.52512683],[1334620800000,1.5252939672],[1334707200000,1.5254611227],[1334793600000,1.5256282966],[1334880000000,1.5257954887],[1335139200000,1.5259626992],[1335225600000,1.5261299279],[1335312000000,1.5262971751],[1335398400000,1.5264644405],[1335484800000,1.5266317243],[1335916800000,1.5267990264],[1336003200000,1.5269663468],[1336089600000,1.5271336856],[1336348800000,1.5273010427],[1336435200000,1.5274684182],[1336521600000,1.527635812],[1336608000000,1.5278032241],[1336694400000,1.5279706546],[1336953600000,1.5281381035],[1337040000000,1.5283055706],[1337126400000,1.5284730562],[1337212800000,1.5286405601],[1337299200000,1.5288080823],[1337558400000,1.5289756229],[1337644800000,1.5291431819],[1337731200000,1.5293107593],[1337817600000,1.529478355],[1337904000000,1.529645969],[1338163200000,1.5298136015],[1338249600000,1.5299812523],[1338336000000,1.5301489214],[1338422400000,1.530316609],[1338508800000,1.5304843149],[1338768000000,1.5306520392],[1338854400000,1.5308197819],[1338940800000,1.530987543],[1339027200000,1.5311553224],[1339113600000,1.5313231203],[1339372800000,1.5314909365],[1339459200000,1.5316587711],[1339545600000,1.5318266242],[1339632000000,1.5319944956],[1339718400000,1.5321623854],[1339977600000,1.5323302936],[1340064000000,1.5324982202],[1340150400000,1.5326661652],[1340236800000,1.5328341286],[1340582400000,1.5330021104],[1340668800000,1.5331701107],[1340755200000,1.5333381293],[1340841600000,1.5335061664],[1340928000000,1.5336742218],[1341187200000,1.5338422957],[1341273600000,1.534010388],[1341360000000,1.5341784988],[1341446400000,1.5343466279],[1341532800000,1.5345147755],[1341792000000,1.5346829415],[1341878400000,1.5348511259],[1341964800000,1.5350193288],[1342051200000,1.5351875501],[1342137600000,1.5353557898],[1342396800000,1.535524048],[1342483200000,1.5356923246],[1342569600000,1.5358606196],[1342656000000,1.5360289331],[1342742400000,1.5361972651],[1343001600000,1.5363656155],[1343088000000,1.5365339843],[1343174400000,1.5367023716],[1343260800000,1.5368707773],[1343347200000,1.5370392015],[1343606400000,1.5372076442],[1343692800000,1.5373761053],[1343779200000,1.5375445848],[1343865600000,1.5377130829],[1343952000000,1.5378815994],[1344211200000,1.5380501344],[1344297600000,1.5382186878],[1344384000000,1.5383872597],[1344470400000,1.5385558501],[1344556800000,1.538724459],[1344816000000,1.5388930863],[1344902400000,1.5390617321],[1344988800000,1.5392303964],[1345075200000,1.5393990792],[1345161600000,1.5395677805],[1345420800000,1.5397365002],[1345507200000,1.5399052385],[1345593600000,1.5400739952],[1345680000000,1.5402427704],[1345766400000,1.5404115642],[1346025600000,1.5405803764],[1346112000000,1.5407492071],[1346198400000,1.5409180563],[1346284800000,1.5410869241],[1346371200000,1.5412558103],[1346630400000,1.5414247151],[1346716800000,1.5415936383],[1346803200000,1.5417625801],[1346889600000,1.5419315404],[1346976000000,1.5421005192],[1347235200000,1.5422695165],[1347321600000,1.5424385323],[1347408000000,1.5426075667],[1347494400000,1.5427766196],[1347580800000,1.542945691],[1347840000000,1.5431147809],[1347926400000,1.5432838894],[1348012800000,1.5434530164],[1348099200000,1.5436221619],[1348185600000,1.543791326],[1348444800000,1.5439605086],[1348531200000,1.5441297098],[1348617600000,1.5442989294],[1348704000000,1.5444681677],[1348790400000,1.5446374245],[1349654400000,1.5448066998],[1349740800000,1.5449759937],[1349827200000,1.5451453061],[1349913600000,1.5453146371],[1350000000000,1.5454839867],[1350259200000,1.5456533548],[1350345600000,1.5458227414],[1350432000000,1.5459921467],[1350518400000,1.5461615705],[1350604800000,1.5463310128],[1350864000000,1.5465004738],[1350950400000,1.5466699533],[1351036800000,1.5468394514],[1351123200000,1.547008968],[1351209600000,1.5471785032],[1351468800000,1.547348057],[1351555200000,1.5475176294],[1351641600000,1.5476872204],[1351728000000,1.54785683],[1351814400000,1.5480264581],[1352073600000,1.5481961048],[1352160000000,1.5483657702],[1352246400000,1.5485354541],[1352332800000,1.5487051566],[1352419200000,1.5488748777],[1352678400000,1.5490446174],[1352764800000,1.5492143757],[1352851200000,1.5493841527],[1352937600000,1.5495539482],[1353024000000,1.5497237623],[1353283200000,1.5498935951],[1353369600000,1.5500634464],[1353456000000,1.5502333164],[1353542400000,1.550403205],[1353628800000,1.5505731122],[1353888000000,1.550743038],[1353974400000,1.5509129824],[1354060800000,1.5510829455],[1354147200000,1.5512529272],[1354233600000,1.5514229275],[1354492800000,1.5515929465],[1354579200000,1.551762984],[1354665600000,1.5519330403],[1354752000000,1.5521031151],[1354838400000,1.5522732086],[1355097600000,1.5524433207],[1355184000000,1.5526134515],[1355270400000,1.5527836009],[1355356800000,1.552953769],[1355443200000,1.5531239557],[1355702400000,1.5532941611],[1355788800000,1.5534643851],[1355875200000,1.5536346278],[1355961600000,1.5538048891],[1356048000000,1.5539751691],[1356307200000,1.5541454677],[1356393600000,1.554315785],[1356480000000,1.554486121],[1356566400000,1.5546564757],[1356652800000,1.554826849],[1356912000000,1.554997241],[1357257600000,0.0240816516],[1357516800000,0.0240842907],[1357603200000,0.0240869301],[1357689600000,0.0240895697],[1357776000000,0.0240922097],[1357862400000,0.0240948499],[1358121600000,0.0240974905],[1358208000000,0.0241001313],[1358294400000,0.0241027724],[1358380800000,0.0241054138],[1358467200000,0.0241080555],[1358726400000,0.0241106975],[1358812800000,0.0241133397],[1358899200000,0.0241159823],[1358985600000,0.0241186251],[1359072000000,0.0241212683],[1359331200000,0.0241239117],[1359417600000,0.0241265554],[1359504000000,0.0241291994],[1359590400000,0.0241318437],[1359676800000,0.0241344883],[1359936000000,0.0241371332],[1360022400000,0.0241397783],[1360108800000,0.0241424238],[1360195200000,0.0241450695],[1360281600000,0.0241477156],[1361145600000,0.0241503619],[1361232000000,0.0241530085],[1361318400000,0.0241556554],[1361404800000,0.0241583026],[1361491200000,0.0241609501],[1361750400000,0.0241635979],[1361836800000,0.0241662459],[1361923200000,0.0241688943],[1362009600000,0.024171543],[1362096000000,0.0241741919],[1362355200000,0.0241768411],[1362441600000,1.5529134906],[1362528000000,1.5530836729],[1362614400000,1.5532538739],[1362700800000,1.5534240935],[1362960000000,1.5535943317],[1363046400000,1.5537645887],[1363132800000,1.5539348642],[1363219200000,1.5541051585],[1363305600000,1.5542754714],[1363564800000,1.5544458029],[1363651200000,1.5546161531],[1363737600000,1.554786522],[1363824000000,1.5549569096],[1363910400000,1.5551273158],[1364169600000,1.5552977407],[1364256000000,1.5554681843],[1364342400000,1.5556386466],[1364428800000,1.5558091275],[1364515200000,1.5559796272],[1364774400000,1.5561501455],[1364860800000,1.5563206825],[1364947200000,1.5564912382],[1365379200000,1.5566618126],[1365465600000,1.5568324056],[1365552000000,1.5570030174],[1365638400000,1.5571736479],[1365724800000,1.557344297],[1365984000000,1.5575149649],[1366070400000,1.5576856515],[1366156800000,1.5578563568],[1366243200000,1.5580270807],[1366329600000,1.5581978234],[1366588800000,1.5583685848],[1366675200000,1.558539365],[1366761600000,1.5587101638],[1366848000000,1.5588809813],[1366934400000,1.5590518176],[1367452800000,1.5592226726],[1367539200000,1.5593935463],[1367798400000,1.5595644388],[1367884800000,1.5597353499],[1367971200000,1.5599062798],[1368057600000,1.5600772285],[1368144000000,1.5602481958],[1368403200000,1.560419182],[1368489600000,1.5605901868],[1368576000000,1.5607612104],[1368662400000,1.5609322527],[1368748800000,1.5611033138],[1369008000000,1.5612743936],[1369094400000,1.5614454921],[1369180800000,1.5616166095],[1369267200000,1.5617877455],[1369353600000,1.5619589004],[1369612800000,1.5621300739],[1369699200000,1.5623012663],[1369785600000,1.5624724774],[1369872000000,1.5626437072],[1369958400000,1.5628149558],[1370217600000,1.5629862232],[1370304000000,1.5631575094],[1370390400000,1.5633288143],[1370476800000,1.563500138],[1370563200000,1.5636714805],[1371081600000,1.5638428418],[1371168000000,1.5640142218],[1371427200000,1.5641856206],[1371513600000,1.5643570382],[1371600000000,1.5645284746],[1371686400000,1.5646999298],[1371772800000,1.5648714038],[1372032000000,1.5650428965],[1372118400000,1.5652144081],[1372204800000,1.5653859384],[1372291200000,1.5655574876],[1372377600000,1.5657290555],[1372636800000,1.5659006423],[1372723200000,1.5660722478],[1372809600000,1.5662438722],[1372896000000,1.5664155153],[1372982400000,1.5665871773],[1373241600000,1.5667588581],[1373328000000,1.5669305577],[1373414400000,1.5671022761],[1373500800000,1.5672740133],[1373587200000,1.5674457694],[1373846400000,1.5676175443],[1373932800000,1.567789338],[1374019200000,1.5679611505],[1374105600000,1.5681329819],[1374192000000,1.5683048321],[1374451200000,1.5684767011],[1374537600000,1.5686485889],[1374624000000,1.5688204956],[1374710400000,1.5689924212],[1374796800000,1.5691643655],[1375056000000,1.5693363288],[1375142400000,1.5695083108],[1375228800000,1.5696803117],[1375315200000,1.5698523315],[1375401600000,1.5700243701],[1375660800000,1.5701964276],[1375747200000,1.5703685039],[1375833600000,1.5705405991],[1375920000000,1.5707127131],[1376006400000,1.570884846],[1376265600000,1.5710569978],[1376352000000,1.5712291684],[1376438400000,1.5714013579],[1376524800000,1.5715735663],[1376611200000,1.5717457935],[1376870400000,1.5719180396],[1376956800000,1.5720903046],[1377043200000,1.5722625885],[1377129600000,1.5724348912],[1377216000000,1.5726072129],[1377475200000,1.5727795534],[1377561600000,1.5729519128],[1377648000000,1.5731242911],[1377734400000,1.5732966883],[1377820800000,1.5734691043],[1378080000000,1.5736415393],[1378166400000,1.5738139932],[1378252800000,1.5739864659],[1378339200000,1.5741589576],[1378425600000,1.5743314682],[1378684800000,1.5745039976],[1378771200000,0.008948546],[1378857600000,0.0089495267],[1378944000000,0.0089505075],[1379030400000,0.0089514883],[1379289600000,0.0089524693],[1379376000000,0.0089534504],[1379462400000,0.0089544316],[1379894400000,0.0089554129],[1379980800000,0.0089563943],[1380067200000,0.0089573759],[1380153600000,0.0089583575],[1380240000000,0.0089593392],[1380499200000,0.0089603211],[1381190400000,0.008961303],[1381276800000,0.0089622851],[1381363200000,0.0089632673],[1381449600000,0.0089642495],[1381708800000,0.0089652319],[1381795200000,0.0089662144],[1381881600000,0.008967197],[1381968000000,0.0089681797],[1382054400000,0.0089691625],[1382313600000,0.0089701455],[1382400000000,0.0089711285],[1382486400000,0.0089721116],[1382572800000,0.0089730949],[1382659200000,0.0089740782],[1382918400000,0.0089750617],[1383004800000,1.5252768452],[1383091200000,1.5254439989],[1383177600000,1.5256111708],[1383264000000,1.5257783611],[1383523200000,1.5259455697],[1383609600000,1.5261127966],[1383696000000,1.5262800418],[1383782400000,1.5264473054],[1383868800000,1.5266145873],[1384128000000,1.5267818875],[1384214400000,1.5269492061],[1384300800000,1.527116543],[1384387200000,1.5272838982],[1384473600000,1.5274512718],[1384732800000,1.5276186637],[1384819200000,1.527786074],[1384905600000,1.5279535026],[1384992000000,1.5281209495],[1385078400000,1.5282884149],[1385337600000,1.5284558985],[1385424000000,1.5286234005],[1385510400000,1.5287909209],[1385596800000,1.5289584596],[1385683200000,1.5291260167],[1385942400000,1.5292935922],[1386028800000,1.529461186],[1386115200000,1.5296287982],[1386201600000,1.5297964287],[1386288000000,1.5299640777],[1386547200000,1.530131745],[1386633600000,1.5302994306],[1386720000000,1.5304671347],[1386806400000,1.5306348571],[1386892800000,1.5308025979],[1387152000000,1.5309703571],[1387238400000,1.5311381347],[1387324800000,1.5313059306],[1387411200000,1.531473745],[1387497600000,1.5316415777],[1387756800000,1.5318094289],[1387843200000,1.5319772984],[1387929600000,1.5321451863],[1388016000000,1.5323130926],[1388102400000,1.5324810173],[1388361600000,1.5326489605],[1388448000000,1.532816922],[1388620800000,1.5329849019],[1388707200000,1.5331529003],[1388966400000,1.533320917],[1389052800000,1.5334889522],[1389139200000,1.5336570058],[1389225600000,1.5338250778],[1389312000000,1.5339931682],[1389571200000,1.5341612771],[1389657600000,1.5343294043],[1389744000000,1.53449755],[1389830400000,1.5346657141],[1389916800000,1.5348338967],[1390176000000,1.5350020976],[1390262400000,1.535170317],[1390348800000,1.5353385549],[1390435200000,1.5355068112],[1390521600000,1.5356750859],[1390780800000,1.535843379],[1390867200000,1.5360116906],[1390953600000,1.5361800207],[1391040000000,1.5363483692],[1391731200000,1.5365167361],[1391990400000,1.5366851215],[1392076800000,1.5368535254],[1392163200000,1.5370219477],[1392249600000,1.5371903884],[1392336000000,1.5373588477],[1392595200000,1.5375273254],[1392681600000,1.5376958215],[1392768000000,1.5378643361],[1392854400000,1.5380328692],[1392940800000,1.5382014207],[1393200000000,1.5383699908],[1393286400000,1.5385385792],[1393372800000,1.5387071862],[1393459200000,1.5388758117],[1393545600000,1.5390444556],[1393804800000,1.539213118],[1393891200000,1.5393817989],[1393977600000,1.5395504983],[1394064000000,1.5397192161],[1394150400000,1.5398879525],[1394409600000,1.5400567073],[1394496000000,1.5402254806],[1394582400000,1.5403942725],[1394668800000,1.5405630828],[1394755200000,1.5407319116],[1395014400000,1.540900759],[1395100800000,1.5410696248],[1395187200000,1.5412385092],[1395273600000,1.541407412],[1395360000000,1.5415763334],[1395619200000,1.5417452732],[1395705600000,1.5419142316],[1395792000000,1.5420832085],[1395878400000,1.5422522039],[1395964800000,1.5424212179],[1396224000000,1.5425902503],[1396310400000,1.5427593013],[1396396800000,1.5429283708],[1396483200000,1.5430974589],[1396569600000,1.5432665655],[1396915200000,1.5434356906],[1397001600000,1.5436048342],[1397088000000,1.5437739964],[1397174400000,1.5439431771],[1397433600000,1.5441123763],[1397520000000,1.5442815941],[1397606400000,1.5444508305],[1397692800000,1.5446200854],[1397779200000,1.5447893588],[1398038400000,1.5449586508],[1398124800000,1.5451279613],[1398211200000,1.5452972904],[1398297600000,1.5454666381],[1398384000000,1.5456360043],[1398643200000,1.545805389],[1398729600000,1.5459747924],[1398816000000,1.5461442143],[1399248000000,1.5463136547],[1399334400000,1.5464831137],[1399420800000,1.5466525913],[1399507200000,1.5468220875],[1399593600000,1.5469916023],[1399852800000,1.5471611356],[1399939200000,1.5473306875],[1400025600000,1.547500258],[1400112000000,1.5476698471],[1400198400000,1.5478394547],[1400457600000,1.548009081],[1400544000000,1.5481787258],[1400630400000,1.5483483892],[1400716800000,1.5485180712],[1400803200000,1.5486877718],[1401062400000,1.548857491],[1401148800000,1.5490272288],[1401235200000,1.5491969853],[1401321600000,1.5493667603],[1401408000000,1.5495365539],[1401753600000,1.5497063661],[1401840000000,1.5498761969],[1401926400000,1.5500460464],[1402012800000,1.5502159145],[1402272000000,1.5503858011],[1402358400000,1.5505557064],[1402444800000,1.5507256303],[1402531200000,1.5508955729],[1402617600000,1.551065534],[1402876800000,1.5512355138],[1402963200000,1.5514055122],[1403049600000,1.5515755293],[1403136000000,1.5517455649],[1403222400000,1.5519156192],[1403481600000,1.5520856922],[1403568000000,1.5522557838],[1403654400000,1.552425894],[1403740800000,1.5525960229],[1403827200000,1.5527661704],[1404086400000,1.5529363365],[1404172800000,1.5531065213],[1404259200000,1.5532767248],[1404345600000,1.5534469469],[1404432000000,1.5536171877],[1404691200000,1.5537874471],[1404777600000,1.5539577251],[1404864000000,1.5541280219],[1404950400000,1.5542983373],[1405036800000,1.5544686714],[1405296000000,1.5546390241],[1405382400000,1.5548093955],[1405468800000,1.5549797856],[1405555200000,1.5551501943],[1405641600000,1.5553206217],[1405900800000,1.5554910678],[1405987200000,1.5556615326],[1406073600000,0.021859016],[1406160000000,0.0218614115],[1406246400000,0.0218638073],[1406505600000,0.0218662034],[1406592000000,0.0218685996],[1406678400000,0.0218709962],[1406764800000,0.021873393],[1406851200000,0.0218757901],[1407110400000,0.0218781875],[1407196800000,0.0218805851],[1407283200000,0.0218829829],[1407369600000,0.0218853811],[1407456000000,0.0218877795],[1407715200000,0.0218901781],[1407801600000,0.0218925771],[1407888000000,0.0218949762],[1407974400000,0.0218973757],[1408060800000,0.0218997754],[1408320000000,0.0219021754],[1408406400000,0.0219045756],[1408492800000,0.0219069761],[1408579200000,0.0219093769],[1408665600000,0.0219117779],[1408924800000,0.0219141792],[1409011200000,0.0219165808],[1409097600000,0.0219189826],[1409184000000,0.0219213847],[1409270400000,0.021923787],[1409529600000,0.0219261896],[1409616000000,0.0219285925],[1409702400000,0.0219309956],[1409788800000,0.021933399],[1409875200000,0.0219358027],[1410220800000,0.0219382066],[1410307200000,0.0219406108],[1410393600000,0.0219430152],[1410480000000,0.0219454199],[1410739200000,0.0219478249],[1410825600000,0.0219502302],[1410912000000,0.0219526357],[1410998400000,0.0219550414],[1411084800000,0.0219574475],[1411344000000,0.0219598538],[1411430400000,0.0219622603],[1411516800000,0.0219646671],[1411603200000,0.0219670742],[1411689600000,0.0219694816],[1411948800000,0.0219718892],[1412035200000,0.0219742971],[1412726400000,0.0219767052],[1412812800000,0.0219791136],[1412899200000,0.0219815223],[1413158400000,0.0219839312],[1413244800000,0.0219863404],[1413331200000,0.0219887499],[1413417600000,0.0219911596],[1413504000000,0.0219935696],[1413763200000,0.0219959799],[1413849600000,0.0219983904],[1413936000000,0.0220008012],[1414022400000,0.0220032122],[1414108800000,0.0220056235],[1414368000000,1.6862860351],[1414454400000,1.6864708336],[1414540800000,1.6866556523],[1414627200000,1.6868404913],[1414713600000,1.6870253505],[1414972800000,0.00161083],[1415059200000,0.0016110065],[1415145600000,0.0016111831],[1415232000000,0.0016113596],[1415318400000,0.0016115362],[1415577600000,0.0016117128],[1415664000000,0.0016118894],[1415750400000,0.0016120661],[1415836800000,0.0016122428],[1415923200000,0.0016124194],[1416182400000,0.0016125961],[1416268800000,0.0016127729],[1416355200000,0.0016129496],[1416441600000,0.0016131264],[1416528000000,0.0016133032],[1416787200000,0.00161348],[1416873600000,0.0016136568],[1416960000000,0.0016138336],[1417046400000,0.0016140105],[1417132800000,0.0016141873],[1417392000000,0.0016143642],[1417478400000,0.0016145412],[1417564800000,0.0016147181],[1417651200000,0.0016148951],[1417737600000,0.001615072],[1417996800000,0.001615249],[1418083200000,0.001615426],[1418169600000,0.0016156031],[1418256000000,0.0016157801],[1418342400000,0.0016159572],[1418601600000,0.0016161343],[1418688000000,0.0016163114],[1418774400000,0.0016164885],[1418860800000,0.0016166657],[1418947200000,0.0016168428],[1419206400000,0.00161702],[1419292800000,0.0016171972],[1419379200000,0.0016173745],[1419465600000,0.0016175517],[1419552000000,0.001617729],[1419811200000,0.0016179063],[1419897600000,0.0016180836],[1419984000000,0.0016182609],[1420416000000,0.0016184382],[1420502400000,0.0016186156],[1420588800000,0.001618793],[1420675200000,0.0016189704],[1420761600000,0.0016191478],[1421020800000,0.0016193252],[1421107200000,0.0016195027],[1421193600000,0.0016196802],[1421280000000,0.0016198577],[1421366400000,0.0016200352],[1421625600000,0.0016202127],[1421712000000,0.0016203903],[1421798400000,0.0016205679],[1421884800000,0.0016207455],[1421971200000,0.0016209231],[1422230400000,0.0016211007],[1422316800000,0.0016212784],[1422403200000,0.0016214561],[1422489600000,0.0016216337],[1422576000000,0.0016218115],[1422835200000,0.0016219892],[1422921600000,0.0016221669],[1423008000000,0.0016223447],[1423094400000,0.0016225225],[1423180800000,0.0016227003],[1423440000000,2.2164619782],[1423526400000,2.2167048781],[1423612800000,2.2169478047],[1423699200000,2.2171907578],[1423785600000,2.2174337376],[1424044800000,2.2176767441],[1424131200000,2.2179197772],[1424822400000,2.2181628369],[1424908800000,2.2184059232],[1424995200000,2.2186490362],[1425254400000,2.2188921758],[1425340800000,2.2191353421],[1425427200000,2.219378535],[1425513600000,2.2196217545],[1425600000000,2.2198650008],[1425859200000,2.2201082736],[1425945600000,2.2203515732],[1426032000000,2.2205948994],[1426118400000,2.2208382522],[1426204800000,2.2210816318],[1426464000000,2.221325038],[1426550400000,2.2215684709],[1426636800000,0.0357397304],[1426723200000,0.0357436471],[1426809600000,0.0357475642],[1427068800000,0.0357514818],[1427155200000,0.0357553997],[1427241600000,0.0357593181],[1427328000000,0.035763237],[1427414400000,0.0357671562],[1427673600000,0.0357710759],[1427760000000,0.035774996],[1427846400000,0.0357789166],[1427932800000,0.0357828375],[1428019200000,0.0357867589],[1428364800000,0.0357906808],[1428451200000,0.0357946031],[1428537600000,0.0357985257],[1428624000000,0.0358024489],[1428883200000,0.0358063724],[1428969600000,0.0358102964],[1429056000000,0.0358142208],[1429142400000,0.0358181457],[1429228800000,0.035822071],[1429488000000,0.0358259967],[1429574400000,0.0358299228],[1429660800000,0.0358338494],[1429747200000,0.0358377764],[1429833600000,0.0358417038],[1430092800000,0.0358456316],[1430179200000,0.0358495599],[1430265600000,0.0358534887],[1430352000000,0.0358574178],[1430697600000,0.0358613474],[1430784000000,0.0358652774],[1430870400000,0.0358692078],[1430956800000,0.0358731387],[1431043200000,0.03587707],[1431302400000,0.0358810017],[1431388800000,0.0358849339],[1431475200000,0.0358888665],[1431561600000,0.0358927995],[1431648000000,0.035896733],[1431907200000,0.0359006669],[1431993600000,0.0359046012],[1432080000000,0.0359085359],[1432166400000,0.0359124711],[1432252800000,0.0359164067],[1432512000000,0.0359203428],[1432598400000,0.0359242793],[1432684800000,0.0359282162],[1432771200000,0.0359321535],[1432857600000,0.0359360913],[1433116800000,0.0359400295],[1433203200000,0.0359439681],[1433289600000,0.0359479072],[1433376000000,0.0359518467],[1433462400000,0.0359557866],[1433721600000,0.035959727],[1433808000000,0.0359636678],[1433894400000,0.035967609],[1433980800000,0.0359715506],[1434067200000,0.0359754927],[1434326400000,0.0359794352],[1434412800000,0.0359833782],[1434499200000,0.0359873216],[1434585600000,0.0359912654],[1434672000000,0.0359952096],[1435017600000,0.0359991543],[1435104000000,0.0360030994],[1435190400000,0.036007045],[1435276800000,2.688855591],[1435536000000,2.6891502601],[1435622400000,2.6894449615],[1435708800000,2.6897396952],[1435795200000,2.6900344612],[1435881600000,2.6903292594],[1436140800000,2.6906240901],[1436227200000,2.690918953],[1436313600000,2.6912138482],[1436400000000,2.6915087757],[1436486400000,2.6918037356],[1436745600000,2.6920987278],[1436832000000,2.6923937523],[1436918400000,2.6926888092],[1437004800000,2.6929838983],[1437091200000,2.6932790199],[1437350400000,2.6935741737],[1437436800000,2.6938693599],[1437523200000,2.6941645785],[1437609600000,2.6944598294],[1437696000000,2.6947551127],[1437955200000,2.6950504283],[1438041600000,2.6953457763],[1438128000000,2.6956411567],[1438214400000,2.6959365694],[1438300800000,2.6962320145],[1438560000000,2.696527492],[1438646400000,2.6968230018],[1438732800000,2.6971185441],[1438819200000,2.6974141187],[1438905600000,2.6977097258],[1439164800000,2.6980053652],[1439251200000,2.698301037],[1439337600000,2.6985967412],[1439424000000,2.6988924778],[1439510400000,2.6991882469],[1439769600000,2.6994840483],[1439856000000,2.6997798822],[1439942400000,2.7000757485],[1440028800000,2.7003716472],[1440115200000,2.7006675783],[1440374400000,2.7009635419],[1440460800000,2.7012595379],[1440547200000,2.7015555664],[1440633600000,2.7018516272],[1440720000000,2.7021477206],[1440979200000,2.7024438464],[1441065600000,2.7027400046],[1441152000000,2.7030361953],[1441584000000,2.7033324184],[1441670400000,2.703628674],[1441756800000,2.7039249621],[1441843200000,2.7042212826],[1441929600000,2.7045176357],[1442188800000,2.7048140212],[1442275200000,2.7051104391],[1442361600000,2.7054068896],[1442448000000,2.7057033725],[1442534400000,2.705999888],[1442793600000,2.7062964359],[1442880000000,2.7065930163],[1442966400000,2.7068896293],[1443052800000,2.7071862747],[1443139200000,2.7074829527],[1443398400000,2.7077796631],[1443484800000,2.7080764061],[1443571200000,2.7083731816],[1444262400000,2.7086699896],[1444348800000,2.7089668302],[1444608000000,2.7092637032],[1444694400000,2.7095606088],[1444780800000,2.709857547],[1444867200000,2.7101545177],[1444953600000,2.7104515209],[1445212800000,2.7107485567],[1445299200000,2.711045625],[1445385600000,2.7113427259],[1445472000000,2.7116398594],[1445558400000,2.7119370254],[1445817600000,2.712234224],[1445904000000,2.7125314551],[1445990400000,2.7128287188],[1446076800000,2.7131260151],[1446163200000,2.713423344],[1446422400000,2.7137207055],[1446508800000,2.7140180995],[1446595200000,2.7143155262],[1446681600000,2.7146129854],[1446768000000,2.7149104772],[1447027200000,2.7152080017],[1447113600000,2.7155055587],[1447200000000,2.7158031484],[1447286400000,2.7161007706],[1447372800000,2.7163984255],[1447632000000,2.716696113],[1447718400000,2.7169938331],[1447804800000,2.7172915859],[1447891200000,2.7175893713],[1447977600000,2.7178871893],[1448236800000,2.7181850399],[1448323200000,2.7184829232],[1448409600000,2.7187808391],[1448496000000,2.7190787877],[1448582400000,2.719376769],[1448841600000,2.7196747829],[1448928000000,2.7199728294],[1449014400000,2.7202709086],[1449100800000,2.7205690205],[1449187200000,2.7208671651],[1449446400000,2.7211653423],[1449532800000,2.7214635522],[1449619200000,2.7217617948],[1449705600000,2.72206007],[1449792000000,2.722358378],[1450051200000,2.7226567186],[1450137600000,2.722955092],[1450224000000,2.723253498],[1450310400000,2.7235519367],[1450396800000,2.7238504082],[1450656000000,2.7241489123],[1450742400000,0.0139774492],[1450828800000,0.013978981],[1450915200000,0.0139805129],[1451001600000,0.013982045],[1451260800000,0.0139835773],[1451347200000,0.0139851098],[1451433600000,0.0139866424],[1451520000000,0.0139881752],[1451865600000,0.0139897081],[1451952000000,2.3815172412],[1452038400000,2.3817782294],[1452124800000,2.3820392462],[1452211200000,2.3823002916],[1452470400000,2.3825613656],[1452556800000,2.3828224682],[1452643200000,2.3830835995],[1452729600000,2.3833447593],[1452816000000,2.3836059478],[1453075200000,2.3838671649],[1453161600000,2.3841284106],[1453248000000,2.3843896849],[1453334400000,2.3846509879],[1453420800000,2.3849123195],[1453680000000,2.3851736798],[1453766400000,2.3854350687],[1453852800000,2.3856964862],[1453939200000,2.3859579324],[1454025600000,2.3862194072],[1454284800000,2.3864809107],[1454371200000,2.3867424429],[1454457600000,2.3870040037],[1454544000000,2.3872655932],[1454630400000,2.3875272113],[1455494400000,2.3877888582],[1455580800000,2.3880505336],[1455667200000,2.3883122378],[1455753600000,2.3885739707],[1455840000000,2.3888357322],[1456099200000,2.3890975224],[1456185600000,2.3893593413],[1456272000000,2.3896211889],[1456358400000,2.3898830652],[1456444800000,2.3901449702],[1456704000000,2.3904069039],[1456790400000,2.3906688663],[1456876800000,2.3909308574],[1456963200000,2.3911928772],[1457049600000,2.3914549258],[1457308800000,2.391717003],[1457395200000,2.391979109],[1457481600000,2.3922412437],[1457568000000,2.3925034071],[1457654400000,2.3927655993],[1457913600000,2.3930278202],[1458000000000,2.3932900698],[1458086400000,2.3935523481],[1458172800000,2.3938146552],[1458259200000,2.3940769911],[1458518400000,2.3943393557],[1458604800000,2.3946017491],[1458691200000,2.3948641712],[1458777600000,2.395126622],[1458864000000,2.3953891017],[1459123200000,2.3956516101],[1459209600000,2.3959141472],[1459296000000,2.3961767132],[1459382400000,2.3964393079],[1459468800000,2.3967019313],[1459814400000,2.3969645836],[1459900800000,2.3972272647],[1459987200000,2.3974899745],[1460073600000,2.3977527131],[1460332800000,2.3980154805],[1460419200000,2.3982782768],[1460505600000,2.3985411018],[1460592000000,0.0065209556],[1460678400000,0.0065216702],[1460937600000,0.0065223849],[1461024000000,0.0065230997],[1461110400000,0.0065238146],[1461196800000,0.0065245295],[1461283200000,0.0065252445],[1461542400000,0.0065259596],[1461628800000,0.0065266748],[1461715200000,0.00652739],[1461801600000,0.0065281054],[1461888000000,0.0065288208],[1462233600000,0.0065295363],[1462320000000,0.0065302518],[1462406400000,0.0065309675],[1462492800000,0.0065316832],[1462752000000,2.280796299],[1462838400000,2.2810462493],[1462924800000,2.281296227],[1463011200000,2.281546232],[1463097600000,2.2817962645],[1463356800000,2.2820463244],[1463443200000,2.2822964116],[1463529600000,2.2825465263],[1463616000000,2.2827966684],[1463702400000,2.2830468379],[1463961600000,2.2832970348],[1464048000000,2.2835472591],[1464134400000,2.2837975109],[1464220800000,2.2840477901],[1464307200000,2.2842980967],[1464566400000,2.2845484307],[1464652800000,2.2847987922],[1464739200000,2.2850491811],[1464825600000,2.2852995974],[1464912000000,2.2855500412],[1465171200000,2.2858005125],[1465257600000,2.2860510111],[1465344000000,2.2863015373],[1465776000000,2.2865520909],[1465862400000,2.2868026719],[1465948800000,2.2870532804],[1466035200000,2.2873039164],[1466121600000,2.2875545799],[1466380800000,2.2878052708],[1466467200000,2.2880559892],[1466553600000,2.288306735],[1466640000000,2.2885575084],[1466726400000,2.2888083092],[1466985600000,2.2890591375],[1467072000000,2.2893099933],[1467158400000,2.2895608766],[1467244800000,2.2898117874],[1467331200000,2.2900627256],[1467590400000,2.2903136914],[1467676800000,2.2905646847],[1467763200000,2.2908157055],[1467849600000,2.2910667538],[1467936000000,2.2913178296],[1468195200000,2.2915689329],[1468281600000,2.2918200638],[1468368000000,0.0002572221],[1468454400000,0.0002572503],[1468540800000,0.0002572785],[1468800000000,0.0002573067],[1468886400000,0.0002573349],[1468972800000,0.0002573631],[1469059200000,0.0002573913],[1469145600000,0.0002574195],[1469404800000,0.0002574477],[1469491200000,0.0002574759],[1469577600000,0.0002575041],[1469664000000,0.0002575324],[1469750400000,0.0002575606],[1470009600000,0.0002575888],[1470096000000,0.000257617],[1470182400000,0.0002576453],[1470268800000,0.0002576735],[1470355200000,0.0002577017],[1470614400000,0.00025773],[1470700800000,0.0002577582],[1470787200000,0.0002577865],[1470873600000,0.0002578147],[1470960000000,0.000257843],[1471219200000,0.0002578712],[1471305600000,0.0002578995],[1471392000000,0.0002579278],[1471478400000,0.000257956],[1471564800000,0.0002579843],[1471824000000,0.0002580126],[1471910400000,0.0002580408],[1471996800000,0.0002580691],[1472083200000,0.0002580974],[1472169600000,0.0002581257],[1472428800000,0.000258154],[1472515200000,0.0002581823],[1472601600000,0.0002582106],[1472688000000,0.0002582389],[1472774400000,0.0002582672],[1473033600000,0.0002582955],[1473120000000,0.0002583238],[1473206400000,0.0002583521],[1473292800000,0.0002583804],[1473379200000,0.0002584087],[1473638400000,0.000258437],[1473724800000,0.0002584653],[1473811200000,0.0002584937],[1474243200000,0.000258522],[1474329600000,0.0002585503],[1474416000000,0.0002585787],[1474502400000,0.000258607],[1474588800000,0.0002586353],[1474848000000,0.0002586637],[1474934400000,2.250667692],[1475020800000,2.2509143405],[1475107200000,2.2511610161],[1475193600000,2.2514077187],[1476057600000,2.2516544483],[1476144000000,2.2519012049],[1476230400000,2.2521479886],[1476316800000,2.2523947994],[1476403200000,2.2526416372],[1476662400000,2.252888502],[1476748800000,2.2531353939],[1476835200000,2.2533823128],[1476921600000,2.2536292588],[1477008000000,2.2538762319],[1477267200000,2.254123232],[1477353600000,2.2543702592],[1477440000000,2.2546173135],[1477526400000,2.2548643949],[1477612800000,2.2551115033],[1477872000000,2.2553586388],[1477958400000,2.2556058014],[1478044800000,2.2558529911],[1478131200000,2.2561002078],[1478217600000,2.2563474517],[1478476800000,2.2565947226],[1478563200000,2.2568420207],[1478649600000,2.2570893459],[1478736000000,2.2573366981],[1478822400000,2.2575840775],[1479081600000,0.0077462839],[1479168000000,0.0077471329],[1479254400000,0.0077479819],[1479340800000,0.007748831],[1479427200000,0.0077496801],[1479686400000,0.0077505294],[1479772800000,0.0077513788],[1479859200000,0.0077522283],[1479945600000,0.0077530778],[1480032000000,0.0077539275],[1480291200000,0.0077547772],[1480377600000,0.0077556271],[1480464000000,0.007756477],[1480550400000,0.007757327],[1480636800000,0.0077581771],[1480896000000,0.0077590273],[1480982400000,0.0077598776],[1481068800000,0.007760728],[1481155200000,0.0077615785],[1481241600000,0.0077624291],[1481500800000,0.0077632798],[1481587200000,0.0077641306],[1481673600000,0.0077649814],[1481760000000,0.0077658324],[1481846400000,2.2091042834],[1482105600000,2.2093463771],[1482192000000,2.2095884972],[1482278400000,2.2098306439],[1482364800000,2.2100728171],[1482451200000,2.2103150169],[1482710400000,2.2105572432],[1482796800000,2.210799496],[1482883200000,2.2110417754],[1482969600000,2.2112840814],[1483056000000,2.2115264139],[1483401600000,2.2117687729],[1483488000000,2.2120111585],[1483574400000,2.2122535707],[1483660800000,2.2124960095],[1483920000000,2.2127384748],[1484006400000,2.2129809667],[1484092800000,2.2132234851],[1484179200000,2.2134660302],[1484265600000,2.2137086018],[1484524800000,2.2139512],[1484611200000,2.2141938248],[1484697600000,2.2144364762],[1484784000000,2.2146791541],[1484870400000,2.2149218587],[1485129600000,2.2151645899],[1485216000000,2.2154073476],[1485302400000,2.215650132],[1485388800000,2.215892943],[1486080000000,2.2161357806],[1486339200000,2.2163786448],[1486425600000,2.2166215356],[1486512000000,2.216864453],[1486598400000,2.217107397],[1486684800000,2.2173503677],[1486944000000,2.217593365],[1487030400000,2.2178363889],[1487116800000,2.2180794395],[1487203200000,2.2183225167],[1487289600000,2.2185656205],[1487548800000,2.218808751],[1487635200000,2.2190519081],[1487721600000,2.2192950919],[1487808000000,2.2195383023],[1487894400000,2.2197815394],[1488153600000,2.2200248031],[1488240000000,2.2202680935],[1488326400000,2.2205114106],[1488412800000,2.2207547543],[1488499200000,2.2209981247],[1488758400000,2.2212415217],[1488844800000,2.2214849455],[1488931200000,2.2217283959],[1489017600000,2.221971873],[1489104000000,2.2222153767],[1489363200000,2.2224589072],[1489449600000,2.2227024643],[1489536000000,2.2229460481],[1489622400000,2.2231896587],[1489708800000,2.2234332959],[1489968000000,2.2236769598],[1490054400000,2.2239206504],[1490140800000,2.2241643678],[1490227200000,2.2244081118],[1490313600000,2.2246518826],[1490572800000,0.02697688],[1490659200000,0.0269798364],[1490745600000,0.0269827931],[1490832000000,0.0269857501],[1490918400000,0.0269887075],[1491350400000,0.0269916651],[1491436800000,0.0269946231],[1491523200000,0.0269975814],[1491782400000,0.0270005401],[1491868800000,0.027003499],[1491955200000,0.0270064583],[1492041600000,0.0270094179],[1492128000000,0.0270123779],[1492387200000,0.0270153381],[1492473600000,0.0270182987],[1492560000000,0.0270212596],[1492646400000,0.0270242209],[1492732800000,0.0270271824],[1492992000000,0.0270301443],[1493078400000,0.0270331065],[1493164800000,0.027036069],[1493251200000,0.0270390319],[1493337600000,0.0270419951],[1493683200000,0.0270449586],[1493769600000,2.1827567224],[1493856000000,2.1829959286],[1493942400000,2.1832351611],[1494201600000,2.1834744197],[1494288000000,2.1837137046],[1494374400000,2.1839530157],[1494460800000,2.184192353],[1494547200000,2.1844317165],[1494806400000,2.1846711063],[1494892800000,2.1849105223],[1494979200000,2.1851499646],[1495065600000,2.1853894331],[1495152000000,2.1856289278],[1495411200000,2.1858684488],[1495497600000,2.186107996],[1495584000000,2.1863475695],[1495670400000,2.1865871692],[1495756800000,2.1868267952],[1496188800000,2.1870664475],[1496275200000,2.187306126],[1496361600000,2.1875458307],[1496620800000,2.1877855618],[1496707200000,2.1880253191],[1496793600000,2.1882651027],[1496880000000,2.1885049126],[1496966400000,2.1887447487],[1497225600000,2.1889846112],[1497312000000,2.1892244999],[1497398400000,2.1894644149],[1497484800000,2.1897043562],[1497571200000,2.1899443238],[1497830400000,2.1901843177],[1497916800000,2.1904243379],[1498003200000,2.1906643844],[1498089600000,2.1909044572],[1498176000000,2.1911445564],[1498435200000,0.0151726818],[1498521600000,0.0151743445],[1498608000000,0.0151760075],[1498694400000,0.0151776706],[1498780800000,0.0151793339],[1499040000000,0.0151809974],[1499126400000,0.0151826611],[1499212800000,0.0151843249],[1499299200000,0.015185989],[1499385600000,0.0151876532],[1499644800000,0.0151893176],[1499731200000,0.0151909822],[1499817600000,0.0151926469],[1499904000000,0.0151943119],[1499990400000,0.015195977],[1500249600000,0.0151976423],[1500336000000,0.0151993078],[1500422400000,0.0152009735],[1500508800000,0.0152026394],[1500595200000,0.0152043054],[1500854400000,0.0152059716],[1500940800000,0.015207638],[1501027200000,0.0152093046],[1501113600000,0.0152109714],[1501200000000,0.0152126384],[1501459200000,0.0152143055],[1501545600000,0.0152159728],[1501632000000,0.0152176403],[1501718400000,0.015219308],[1501804800000,0.0152209759],[1502064000000,0.0152226439],[1502150400000,0.0152243122],[1502236800000,0.0152259806],[1502323200000,0.0152276492],[1502409600000,0.015229318],[1502668800000,0.0152309869],[1502755200000,0.0152326561],[1502841600000,0.0152343254],[1502928000000,0.0152359949],[1503014400000,0.0152376646],[1503273600000,0.0152393345],[1503360000000,0.0152410046],[1503446400000,0.0152426748],[1503532800000,0.0152443452],[1503619200000,0.0152460159],[1503878400000,0.0152476867],[1503964800000,0.0152493576],[1504051200000,0.0152510288],[1504137600000,0.0152527001],[1504224000000,0.0152543717],[1504483200000,0.0152560434],[1504569600000,0.0152577153],[1504656000000,0.0152593874],[1504742400000,0.0152610596],[1504828800000,0.0152627321],[1505088000000,0.0152644047],[1505174400000,0.0152660775],[1505260800000,0.0152677505],[1505347200000,0.0152694237],[1505433600000,0.015271097],[1505692800000,0.0152727706],[1505779200000,0.0152744443],[1505865600000,0.0152761182],[1505952000000,0.0152777923],[1506038400000,0.0152794666],[1506297600000,0.0152811411],[1506384000000,0.0152828157],[1506470400000,0.0152844905],[1506556800000,0.0152861655],[1506643200000,0.0152878407],[1507507200000,0.0152895161],[1507593600000,0.0152911917],[1507680000000,0.0152928674],[1507766400000,0.0152945434],[1507852800000,0.0152962195],[1508112000000,0.0152978958],[1508198400000,0.0152995723],[1508284800000,0.0153012489],[1508371200000,0.0153029258],[1508457600000,0.0153046028],[1508716800000,0.01530628],[1508803200000,0.0153079574],[1508889600000,0.015309635],[1508976000000,0.0153113128],[1509062400000,0.0153129907],[1509321600000,0.0153146689],[1509408000000,0.0153163472],[1509494400000,0.0153180257],[1509580800000,0.0153197044],[1509667200000,0.0153213832],[1509926400000,0.0153230623],[1510012800000,0.0153247415],[1510099200000,0.015326421],[1510185600000,0.0153281006],[1510272000000,0.0153297804],[1510531200000,0.0153314603],[1510617600000,0.0153331405],[1510704000000,0.0153348208],[1510790400000,0.0153365014],[1510876800000,0.0153381821],[1511136000000,0.015339863],[1511222400000,0.0153415441],[1511308800000,0.0153432253],[1511395200000,0.0153449068],[1511481600000,0.0153465884],[1511740800000,0.0153482702],[1511827200000,0.0153499522],[1511913600000,0.0153516344],[1512000000000,0.0153533168],[1512086400000,0.0153549993],[1512345600000,0.0153566821],[1512432000000,0.015358365],[1512518400000,0.0153600481],[1512604800000,0.0153617314],[1512691200000,2.3930614149],[1512950400000,2.3933236682],[1513036800000,2.3935859502],[1513123200000,2.393848261],[1513209600000,2.3941106006],[1513296000000,2.3943729688],[1513555200000,2.3946353659],[1513641600000,2.3948977917],[1513728000000,2.3951602462],[1513814400000,2.3954227295],[1513900800000,2.3956852416],[1514160000000,2.3959477825],[1514246400000,2.3962103521],[1514332800000,2.3964729505],[1514419200000,2.3967355777],[1514505600000,2.3969982336],[1514851200000,2.3972609184],[1514937600000,2.3975236319],[1515024000000,2.3977863742],[1515110400000,2.3980491453],[1515369600000,2.3983119452],[1515456000000,2.3985747739],[1515542400000,2.3988376314],[1515628800000,2.3991005177],[1515715200000,2.3993634329],[1515974400000,0.0309159768],[1516060800000,0.0309193649],[1516147200000,0.0309227533],[1516233600000,0.0309261421],[1516320000000,0.0309295312],[1516579200000,0.0309329208],[1516665600000,0.0309363107],[1516752000000,0.030939701],[1516838400000,0.0309430916],[1516924800000,0.0309464826],[1517184000000,0.030949874],[1517270400000,0.0309532658],[1517356800000,0.0309566579],[1517443200000,0.0309600505],[1517529600000,0.0309634433],[1517788800000,0.0309668366],[1517875200000,0.0309702302],[1517961600000,0.0309736242],[1518048000000,0.0309770186],[1518134400000,2.2128356133],[1518393600000,2.2130781159],[1518480000000,2.213320645],[1518566400000,2.2135632007],[1519257600000,2.2138057829],[1519344000000,2.2140483918],[1519603200000,2.2142910272],[1519689600000,2.2145336892],[1519776000000,2.2147763779],[1519862400000,2.2150190931],[1519948800000,2.2152618349],[1520208000000,2.2155046033],[1520294400000,2.2157473984],[1520380800000,2.21599022],[1520467200000,2.2162330682],[1520553600000,2.2164759431],[1520812800000,2.2167188446],[1520899200000,2.2169617727],[1520985600000,2.2172047274],[1521072000000,2.2174477087],[1521158400000,2.2176907167],[1521417600000,2.2179337513],[1521504000000,2.2181768125],[1521590400000,2.2184199004],[1521676800000,2.2186630149],[1521763200000,2.218906156],[1522022400000,2.2191493238],[1522108800000,2.2193925183],[1522195200000,2.2196357394],[1522281600000,2.2198789871],[1522368000000,2.2201222615],[1522627200000,2.2203655626],[1522713600000,2.2206088903],[1522800000000,2.2208522447],[1523232000000,2.2210956258],[1523318400000,2.2213390336],[1523404800000,2.221582468],[1523491200000,2.2218259291],[1523577600000,2.2220694168],[1523836800000,2.2223129313],[1523923200000,2.2225564724],[1524009600000,2.2228000403],[1524096000000,2.2230436348],[1524182400000,2.223287256],[1524441600000,2.2235309039],[1524528000000,2.2237745785],[1524614400000,2.2240182799],[1524700800000,2.2242620079],[1524787200000,2.2245057626],[1525219200000,2.2247495441],[1525305600000,2.2249933523],[1525392000000,2.2252371872],[1525651200000,2.2254810488],[1525737600000,2.2257249371],[1525824000000,2.2259688522],[1525910400000,2.226212794],[1525996800000,2.2264567625],[1526256000000,2.2267007577],[1526342400000,2.2269447797],[1526428800000,2.2271888285],[1526515200000,2.227432904],[1526601600000,2.2276770062],[1526860800000,2.2279211352],[1526947200000,2.2281652909],[1527033600000,2.2284094734],[1527120000000,2.2286536827],[1527206400000,2.2288979187],[1527465600000,2.2291421815],[1527552000000,2.229386471],[1527638400000,2.2296307874],[1527724800000,2.2298751305],[1527811200000,2.2301195004],[1528070400000,2.230363897],[1528156800000,2.2306083204],[1528243200000,2.2308527707],[1528329600000,2.2310972477],[1528416000000,2.2313417515],[1528675200000,2.2315862821],[1528761600000,2.2318308395],[1528848000000,2.2320754237],[1528934400000,2.2323200347],[1529020800000,2.2325646725],[1529366400000,2.2328093371],[1529452800000,2.2330540286],[1529539200000,2.2332987468],[1529625600000,2.2335434919],[1529884800000,2.2337882638],[1529971200000,2.2340330625],[1530057600000,2.234277888],[1530144000000,2.2345227404],[1530230400000,2.2347676196],[1530489600000,2.2350125257],[1530576000000,2.2352574585],[1530662400000,2.2355024183],[1530748800000,2.2357474048],[1530835200000,2.2359924182],[1531094400000,2.2362374585],[1531180800000,2.2364825256],[1531267200000,2.2367276196],[1531353600000,2.2369727404],[1531440000000,2.2372178881],[1531699200000,2.2374630627],[1531785600000,2.2377082641],[1531872000000,2.2379534924],[1531958400000,2.2381987476],[1532044800000,2.2384440297],[1532304000000,2.2386893386],[1532390400000,2.2389346744],[1532476800000,2.2391800371],[1532563200000,2.2394254267],[1532649600000,2.2396708432],[1532908800000,2.2399162866],[1532995200000,2.2401617569],[1533081600000,2.240407254]]},{\"name\":\"PROPERTY_TURTLE_1_60_30\",\"yAxis\":0,\"data\":[[1199232000000,-0.000109589],[1199318400000,0.0],[1199404800000,0.0001096011],[1199664000000,0.0002192141],[1199750400000,0.0003288392],[1199836800000,0.0004384763],[1199923200000,0.0005481254],[1200009600000,0.0006577865],[1200268800000,0.0007674596],[1200355200000,0.0008771448],[1200441600000,0.000986842],[1200528000000,0.0010965512],[1200614400000,0.0012062724],[1200873600000,0.0013160056],[1200960000000,0.0014257509],[1201046400000,0.0015355082],[1201132800000,0.0016452775],[1201219200000,0.0017550589],[1201478400000,0.0018648523],[1201564800000,0.0019746577],[1201651200000,0.0020844751],[1201737600000,0.0021943046],[1201824000000,0.0023041461],[1202083200000,0.0024139997],[1202169600000,0.0025238653],[1202860800000,0.0026337429],[1202947200000,0.0027436326],[1203033600000,0.0028535343],[1203292800000,0.0029634481],[1203379200000,0.0030733739],[1203465600000,0.0031833118],[1203552000000,0.0032932617],[1203638400000,0.0034032236],[1203897600000,0.0035131977],[1203984000000,0.0036231837],[1204070400000,0.0037331818],[1204156800000,0.003843192],[1204243200000,0.0039532142],[1204502400000,0.0040632485],[1204588800000,0.0041732948],[1204675200000,0.0042833532],[1204761600000,0.0043934237],[1204848000000,0.0045035062],[1205107200000,0.0046136008],[1205193600000,0.0047237074],[1205280000000,0.0048338262],[1205366400000,0.004943957],[1205452800000,0.0050540998],[1205712000000,0.0051642547],[1205798400000,0.0052744217],[1205884800000,0.0053846008],[1205971200000,0.0054947919],[1206057600000,0.0056049952],[1206316800000,0.0057152105],[1206403200000,0.0058254378],[1206489600000,0.0059356773],[1206576000000,0.0060459288],[1206662400000,0.0061561924],[1206921600000,0.0062664681],[1207008000000,0.0063767559],[1207094400000,0.0064870558],[1207180800000,0.0065973678],[1207526400000,0.0067076918],[1207612800000,0.006818028],[1207699200000,0.0069283762],[1207785600000,0.0070387365],[1207872000000,0.0071491089],[1208131200000,0.0072594934],[1208217600000,0.0073698901],[1208304000000,0.0074802988],[1208390400000,0.0075907196],[1208476800000,0.0077011525],[1208736000000,0.0078115975],[1208822400000,0.0079220546],[1208908800000,0.0080325238],[1208995200000,0.0081430052],[1209081600000,0.0082534986],[1209340800000,0.0083640041],[1209427200000,0.0084745218],[1209513600000,0.0085850516],[1209945600000,0.0086955934],[1210032000000,0.0088061474],[1210118400000,0.0089167135],[1210204800000,0.0090272918],[1210291200000,0.0091378821],[1210550400000,0.0092484846],[1210636800000,0.0093590992],[1210723200000,0.0094697259],[1210809600000,0.0095803647],[1210896000000,0.0096910156],[1211155200000,0.0098016787],[1211241600000,0.0099123539],[1211328000000,0.0100230413],[1211414400000,0.0101337407],[1211500800000,0.0102444523],[1211760000000,0.0103551761],[1211846400000,0.0104659119],[1211932800000,0.0105766599],[1212019200000,0.0106874201],[1212105600000,0.0107981923],[1212364800000,0.0109089768],[1212451200000,0.0110197733],[1212537600000,0.011130582],[1212624000000,0.0112414028],[1212710400000,0.0113522358],[1213056000000,0.011463081],[1213142400000,0.0115739382],[1213228800000,0.0116848077],[1213315200000,0.0117956893],[1213574400000,0.011906583],[1213660800000,0.0120174889],[1213747200000,0.0121284069],[1213833600000,0.0122393371],[1213920000000,0.0123502794],[1214179200000,0.0124612339],[1214265600000,0.0125722006],[1214352000000,0.0126831794],[1214438400000,0.0127941704],[1214524800000,0.0129051736],[1214784000000,0.0130161889],[1214870400000,0.0131272164],[1214956800000,0.013238256],[1215043200000,0.0133493078],[1215129600000,0.0134603718],[1215388800000,0.013571448],[1215475200000,0.0136825363],[1215561600000,0.0137936368],[1215648000000,0.0139047495],[1215734400000,0.0140158744],[1215993600000,0.0141270114],[1216080000000,0.0142381606],[1216166400000,0.014349322],[1216252800000,0.0144604956],[1216339200000,0.0145716814],[1216598400000,0.0146828793],[1216684800000,0.0147940894],[1216771200000,0.0149053118],[1216857600000,0.0150165463],[1216944000000,0.015127793],[1217203200000,0.0152390519],[1217289600000,0.015350323],[1217376000000,0.0154616062],[1217462400000,0.0155729017],[1217548800000,0.0156842094],[1217808000000,0.0157955292],[1217894400000,0.0159068613],[1217980800000,0.0160182056],[1218067200000,0.016129562],[1218153600000,0.0162409307],[1218412800000,0.0163523116],[1218499200000,0.0164637047],[1218585600000,0.01657511],[1218672000000,0.0166865275],[1218758400000,0.0167979572],[1219017600000,0.0169093991],[1219104000000,0.0170208533],[1219190400000,0.0171323196],[1219276800000,0.0172437982],[1219363200000,0.0173552889],[1219622400000,0.0174667919],[1219708800000,0.0175783072],[1219795200000,0.0176898346],[1219881600000,0.0178013743],[1219968000000,0.0179129262],[1220227200000,0.0180244903],[1220313600000,0.0181360666],[1220400000000,0.0182476552],[1220486400000,0.018359256],[1220572800000,0.018470869],[1220832000000,0.0185824942],[1220918400000,0.0186941317],[1221004800000,0.0188057815],[1221091200000,0.0189174434],[1221177600000,0.0190291176],[1221523200000,0.019140804],[1221609600000,0.0192525027],[1221696000000,0.0193642136],[1221782400000,0.0194759368],[1222041600000,0.0195876722],[1222128000000,0.0196994198],[1222214400000,0.0198111797],[1222300800000,0.0199229519],[1222387200000,0.0200347363],[1223251200000,0.0201465329],[1223337600000,0.0202583418],[1223424000000,0.0203701629],[1223510400000,0.0204819963],[1223596800000,0.020593842],[1223856000000,0.0207056999],[1223942400000,0.0208175701],[1224028800000,0.0209294525],[1224115200000,0.0210413472],[1224201600000,0.0211532541],[1224460800000,0.0212651733],[1224547200000,0.0213771048],[1224633600000,0.0214890486],[1224720000000,0.0216010046],[1224806400000,0.0217129729],[1225065600000,0.0218249534],[1225152000000,0.0219369462],[1225238400000,0.0220489513],[1225324800000,0.0221609687],[1225411200000,0.0222729984],[1225670400000,0.0223850403],[1225756800000,0.0224970945],[1225843200000,0.022609161],[1225929600000,0.0227212398],[1226016000000,0.0228333308],[1226275200000,0.0229454341],[1226361600000,0.0230575498],[1226448000000,0.0231696777],[1226534400000,0.0232818179],[1226620800000,0.0233939703],[1226880000000,0.0235061351],[1226966400000,0.0236183122],[1227052800000,0.0237305015],[1227139200000,0.0238427032],[1227225600000,0.0239549171],[1227484800000,0.0240671434],[1227571200000,0.0241793819],[1227657600000,0.0242916328],[1227744000000,0.0244038959],[1227830400000,0.0245161714],[1228089600000,0.0246284591],[1228176000000,0.0247407592],[1228262400000,0.0248530716],[1228348800000,0.0249653962],[1228435200000,0.0250777332],[1228694400000,0.0251900825],[1228780800000,0.0253024441],[1228867200000,0.025414818],[1228953600000,0.0255272043],[1229040000000,0.0256396028],[1229299200000,0.0257520137],[1229385600000,0.0258644369],[1229472000000,0.0259768724],[1229558400000,0.0260893202],[1229644800000,0.0262017804],[1229904000000,0.0263142529],[1229990400000,0.0264267377],[1230076800000,0.0265392348],[1230163200000,0.0266517443],[1230249600000,0.0267642661],[1230508800000,0.0268768002],[1230595200000,0.0269893466],[1230681600000,0.0271019054],[1231113600000,0.0272144765],[1231200000000,0.02732706],[1231286400000,0.0274396558],[1231372800000,0.0275522639],[1231459200000,0.0276648844],[1231718400000,0.0277775172],[1231804800000,0.0278901624],[1231891200000,0.0280028199],[1231977600000,0.0281154898],[1232064000000,0.028228172],[1232323200000,0.0283408665],[1232409600000,0.0284535734],[1232496000000,0.0285662927],[1232582400000,0.0286790243],[1232668800000,0.0287917682],[1233532800000,0.0289045245],[1233619200000,0.0290172932],[1233705600000,0.0290186444],[1233792000000,0.0510927768],[1233878400000,0.0479888685],[1234137600000,0.1024690499],[1234224000000,0.1103799349],[1234310400000,0.109978131],[1234396800000,0.1330985494],[1234483200000,0.1264574296],[1234742400000,0.1742759417],[1234828800000,0.193177623],[1234915200000,0.1313089559],[1235001600000,0.1140274027],[1235088000000,0.1165052843],[1235347200000,0.1323449017],[1235433600000,0.1529311991],[1235520000000,0.1281384696],[1235606400000,0.1139285806],[1235692800000,0.0511096187],[1235952000000,0.031351538],[1236038400000,0.0248592036],[1236124800000,0.0442504328],[1236211200000,0.1228863696],[1236297600000,0.0972969285],[1236556800000,0.1170961135],[1236643200000,0.0562881323],[1236729600000,0.1103987574],[1236816000000,0.0719995207],[1236902400000,0.0821805603],[1237161600000,0.0668235987],[1237248000000,0.0893152895],[1237334400000,0.1331406425],[1237420800000,0.1341498878],[1237507200000,0.1592860893],[1237766400000,0.1567821199],[1237852800000,0.2013705898],[1237939200000,0.1812429521],[1238025600000,0.1678681745],[1238112000000,0.2126198271],[1238371200000,0.2127699676],[1238457600000,0.1818003186],[1238544000000,0.2216901044],[1238630400000,0.2403518167],[1238716800000,0.2591431149],[1239062400000,0.2460419084],[1239148800000,0.242731629],[1239235200000,0.201313526],[1239321600000,0.2314027867],[1239580800000,0.2706974387],[1239667200000,0.2847228602],[1239753600000,0.2902580122],[1239840000000,0.3035923096],[1239926400000,0.2964712489],[1240185600000,0.2811430878],[1240272000000,0.2938870504],[1240358400000,0.3023258849],[1240444800000,0.2388158044],[1240531200000,0.2628961251],[1240790400000,0.2442851245],[1240876800000,0.2076233022],[1240963200000,0.2212167726],[1241049600000,0.2680801971],[1241395200000,0.2770277769],[1241481600000,0.3240543839],[1241568000000,0.3186371382],[1241654400000,0.3482800505],[1241740800000,0.3328846987],[1242000000000,0.3600702806],[1242086400000,0.3094851854],[1242172800000,0.3525282298],[1242259200000,0.3470725893],[1242345600000,0.3564425242],[1242604800000,0.3478096321],[1242691200000,0.3736129664],[1242777600000,0.3770699497],[1242864000000,0.3541730213],[1242950400000,0.3240288872],[1243209600000,0.300604017],[1243296000000,0.3356895348],[1243382400000,0.3247049015],[1243814400000,0.3556676714],[1243900800000,0.3938728478],[1243987200000,0.3877308842],[1244073600000,0.4158283686],[1244160000000,0.4358867341],[1244419200000,0.4222479925],[1244505600000,0.4276775615],[1244592000000,0.438943291],[1244678400000,0.4440081002],[1244764800000,0.4308589057],[1245024000000,0.4096705923],[1245110400000,0.4217138372],[1245196800000,0.4318276937],[1245283200000,0.4591188679],[1245369600000,0.4818985366],[1245628800000,0.5032527618],[1245715200000,0.4696626084],[1245801600000,0.4903497069],[1245888000000,0.5125054446],[1245974400000,0.5127803804],[1246233600000,0.5156038371],[1246320000000,0.544176472],[1246406400000,0.5258918422],[1246492800000,0.5713250297],[1246579200000,0.5745564423],[1246838400000,0.6120752974],[1246924800000,0.6289852113],[1247011200000,0.599277834],[1247097600000,0.6193362031],[1247184000000,0.6436661042],[1247443200000,0.635825131],[1247529600000,0.632610851],[1247616000000,0.6764122187],[1247702400000,0.7002429752],[1247788800000,0.6919556515],[1248048000000,0.7078000835],[1248134400000,0.7418201237],[1248220800000,0.7078556144],[1248307200000,0.7467183243],[1248393600000,0.7748494103],[1248652800000,0.7786615616],[1248739200000,0.8100514909],[1248825600000,0.8082434584],[1248912000000,0.7339825661],[1248998400000,0.7738867627],[1249257600000,0.8142181126],[1249344000000,0.8376601136],[1249430400000,0.8272658228],[1249516800000,0.7919958583],[1249603200000,0.7668239872],[1249862400000,0.7352736154],[1249948800000,0.7203630201],[1250035200000,0.7145330299],[1250121600000,0.6436893646],[1250208000000,0.6624374812],[1250467200000,0.5884548781],[1250553600000,0.5886289674],[1250640000000,0.5888030757],[1250726400000,0.5889772031],[1250812800000,0.5891513496],[1251072000000,0.5893255152],[1251158400000,0.5894996999],[1251244800000,0.5896739036],[1251331200000,0.5898481265],[1251417600000,0.5900223684],[1251676800000,0.5901966295],[1251763200000,0.5903709096],[1251849600000,0.5905452088],[1251936000000,0.5907195272],[1252022400000,0.5908938646],[1252281600000,0.5910682212],[1252368000000,0.5912425968],[1252454400000,0.5914169916],[1252540800000,0.5915914054],[1252627200000,0.5917658384],[1252886400000,0.5919402905],[1252972800000,0.5921147617],[1253059200000,0.5922892521],[1253145600000,0.5924637615],[1253232000000,0.5926382901],[1253491200000,0.5928128378],[1253577600000,0.5929874047],[1253664000000,0.5931619907],[1253750400000,0.5933365958],[1253836800000,0.59351122],[1254096000000,0.5936858634],[1254182400000,0.5938605259],[1254268800000,0.5940352075],[1255046400000,0.5942099083],[1255305600000,0.5943846283],[1255392000000,0.5945593674],[1255478400000,0.5947341256],[1255564800000,0.594908903],[1255651200000,0.5950836996],[1255910400000,0.5952585153],[1255996800000,0.5954333501],[1256083200000,0.5956082041],[1256169600000,0.5957830773],[1256256000000,0.5959579697],[1256515200000,0.5961328812],[1256601600000,0.5963078119],[1256688000000,0.5964827617],[1256774400000,0.5966577308],[1256860800000,0.596832719],[1257120000000,0.5970077263],[1257206400000,0.5971827529],[1257292800000,0.5973577986],[1257379200000,0.5975328635],[1257465600000,0.5977079476],[1257724800000,0.5978830509],[1257811200000,0.5980581734],[1257897600000,0.5982333151],[1257984000000,0.598408476],[1258070400000,0.598583656],[1258329600000,0.5985842473],[1258416000000,0.6453392149],[1258502400000,0.6403408541],[1258588800000,0.6422402375],[1258675200000,0.6388706983],[1258934400000,0.6415484965],[1259020800000,0.6614459077],[1259107200000,0.5987953653],[1259193600000,0.6412173082],[1259280000000,0.5532750376],[1259539200000,0.5419098751],[1259625600000,0.5835219069],[1259712000000,0.6156084827],[1259798400000,0.6237441833],[1259884800000,0.6168515309],[1260144000000,0.6451945171],[1260230400000,0.656979318],[1260316800000,0.6157959237],[1260403200000,0.616043989],[1260489600000,0.6203551092],[1260748800000,0.6127605341],[1260835200000,0.6226510429],[1260921600000,0.610849429],[1261008000000,0.6120963851],[1261094400000,0.5576484449],[1261353600000,0.5291496581],[1261440000000,0.5293172482],[1261526400000,0.5294848566],[1261612800000,0.5296524834],[1261699200000,0.5298201286],[1261958400000,0.5299877921],[1262044800000,0.530155474],[1262131200000,0.5303231743],[1262217600000,0.5304908929],[1262563200000,0.53065863],[1262649600000,0.5308263854],[1262736000000,0.5309941592],[1262822400000,0.5311619514],[1262908800000,0.531329762],[1263168000000,0.5314975909],[1263254400000,0.5316654383],[1263340800000,0.5318333041],[1263427200000,0.5320011882],[1263513600000,0.5321690908],[1263772800000,0.5323370117],[1263859200000,0.5325049511],[1263945600000,0.5326729088],[1264032000000,0.532840885],[1264118400000,0.5330088796],[1264377600000,0.5331768926],[1264464000000,0.5333449239],[1264550400000,0.5335129738],[1264636800000,0.533681042],[1264723200000,0.5338491286],[1264982400000,0.5340172337],[1265068800000,0.5341853572],[1265155200000,0.5343534991],[1265241600000,0.5345216594],[1265328000000,0.5346898382],[1265587200000,0.5348580354],[1265673600000,0.535026251],[1265760000000,0.5351944851],[1265846400000,0.5353627376],[1265932800000,0.5355310085],[1266796800000,0.5356992979],[1266883200000,0.5358676057],[1266969600000,0.536035932],[1267056000000,0.5362042767],[1267142400000,0.5363726399],[1267401600000,0.5365410215],[1267488000000,0.5367094216],[1267574400000,0.5368778401],[1267660800000,0.5370462771],[1267747200000,0.5372147325],[1268006400000,0.5373832064],[1268092800000,0.5375516988],[1268179200000,0.5377202096],[1268265600000,0.5378887389],[1268352000000,0.5380572866],[1268611200000,0.5382258529],[1268697600000,0.5383944376],[1268784000000,0.5385630408],[1268870400000,0.5387316624],[1268956800000,0.5389003026],[1269216000000,0.5390689612],[1269302400000,0.5392376383],[1269388800000,0.5394063339],[1269475200000,0.5395750479],[1269561600000,0.5397437805],[1269820800000,0.5399125315],[1269907200000,0.5400813011],[1269993600000,0.5402500891],[1270080000000,0.5404188957],[1270166400000,0.5405877207],[1270512000000,0.5407565643],[1270598400000,0.5409254263],[1270684800000,0.5410943069],[1270771200000,0.5412632059],[1271030400000,0.5414321235],[1271116800000,0.5416010596],[1271203200000,0.5417700141],[1271289600000,0.5419389873],[1271376000000,0.5421079789],[1271635200000,0.542276989],[1271721600000,0.5424460177],[1271808000000,0.5426150649],[1271894400000,0.5427841306],[1271980800000,0.5429532148],[1272240000000,0.5431223176],[1272326400000,0.5432914389],[1272412800000,0.5434605788],[1272499200000,0.5436297371],[1272585600000,0.543798914],[1272931200000,0.5439681095],[1273017600000,0.5441373235],[1273104000000,0.544306556],[1273190400000,0.5444758071],[1273449600000,0.5446450767],[1273536000000,0.5448143649],[1273622400000,0.5449836717],[1273708800000,0.545152997],[1273795200000,0.5453223408],[1274054400000,0.5454917032],[1274140800000,0.5456610842],[1274227200000,0.5458304837],[1274313600000,0.5459999018],[1274400000000,0.5461693384],[1274659200000,0.5463387937],[1274745600000,0.5465082675],[1274832000000,0.5466777598],[1274918400000,0.5468472708],[1275004800000,0.5470168003],[1275264000000,0.5471863484],[1275350400000,0.5473559151],[1275436800000,0.5475255003],[1275523200000,0.5476951042],[1275609600000,0.5478647266],[1275868800000,0.5480343676],[1275955200000,0.5482040272],[1276041600000,0.5483737054],[1276128000000,0.5485434022],[1276214400000,0.5487131176],[1276732800000,0.5488828516],[1276819200000,0.5490526042],[1277078400000,0.5492223754],[1277164800000,0.5493921652],[1277251200000,0.5495619736],[1277337600000,0.5497318007],[1277424000000,0.5499016463],[1277683200000,0.5500715105],[1277769600000,0.5502413934],[1277856000000,0.5504112949],[1277942400000,0.550581215],[1278028800000,0.5507511537],[1278288000000,0.550921111],[1278374400000,0.551091087],[1278460800000,0.5512610816],[1278547200000,0.5514310948],[1278633600000,0.5516011267],[1278892800000,0.5517711772],[1278979200000,0.5519412463],[1279065600000,0.552111334],[1279152000000,0.5522814405],[1279238400000,0.5524515655],[1279497600000,0.5526217092],[1279584000000,0.5527918715],[1279670400000,0.5529620525],[1279756800000,0.5531322521],[1279843200000,0.5533024704],[1280102400000,0.5534727074],[1280188800000,0.5536429629],[1280275200000,0.5538132372],[1280361600000,0.5539835301],[1280448000000,0.5541538417],[1280707200000,0.5543241719],[1280793600000,0.5544945208],[1280880000000,0.5546648884],[1280966400000,0.5548352746],[1281052800000,0.5550056796],[1281312000000,0.5551761032],[1281398400000,0.5553465454],[1281484800000,0.5555170064],[1281571200000,0.555687486],[1281657600000,0.5558579843],[1281916800000,0.5560285013],[1282003200000,0.5560290341],[1282089600000,0.5659506096],[1282176000000,0.5631890852],[1282262400000,0.564549979],[1282521600000,0.539310968],[1282608000000,0.5374153688],[1282694400000,0.5384000041],[1282780800000,0.5167333317],[1282867200000,0.5137396931],[1283126400000,0.5279426699],[1283212800000,0.5443184087],[1283299200000,0.5456490963],[1283385600000,0.5509914444],[1283472000000,0.5558674436],[1283731200000,0.5606109574],[1283817600000,0.5836162699],[1283904000000,0.5786883437],[1283990400000,0.5876289977],[1284076800000,0.5564318505],[1284336000000,0.5593947597],[1284422400000,0.579511889],[1284508800000,0.5763274721],[1284595200000,0.5460047292],[1284681600000,0.5228997954],[1284940800000,0.523069911],[1285027200000,0.520097471],[1285545600000,0.5256623955],[1285632000000,0.5418844521],[1285718400000,0.5295532379],[1285804800000,0.5199035299],[1286496000000,0.5763905741],[1286755200000,0.6312612955],[1286841600000,0.6590572841],[1286928000000,0.68833711],[1287014400000,0.7245008817],[1287100800000,0.7030864633],[1287360000000,0.7778512048],[1287446400000,0.7538559694],[1287532800000,0.7558172895],[1287619200000,0.8090769879],[1287705600000,0.788346195],[1287964800000,0.799607996],[1288051200000,0.8550510553],[1288137600000,0.8338327159],[1288224000000,0.8015067939],[1288310400000,0.8067166584],[1288569600000,0.8014972659],[1288656000000,0.8512169527],[1288742400000,0.8398290363],[1288828800000,0.8206032789],[1288915200000,0.8802381793],[1289174400000,0.8776949938],[1289260800000,0.8847172601],[1289347200000,0.863392933],[1289433600000,0.8546706248],[1289520000000,0.8514226168],[1289779200000,0.7529228474],[1289865600000,0.7597490354],[1289952000000,0.6603801614],[1290038400000,0.6661199686],[1290124800000,0.683730475],[1290384000000,0.67315867],[1290470400000,0.6775365266],[1290556800000,0.6419506783],[1290643200000,0.6421306301],[1290729600000,0.6423106016],[1290988800000,0.6424905929],[1291075200000,0.6426706038],[1291161600000,0.6428506345],[1291248000000,0.643030685],[1291334400000,0.6432107551],[1291593600000,0.643390845],[1291680000000,0.6435709547],[1291766400000,0.6437510841],[1291852800000,0.6439312332],[1291939200000,0.644111402],[1292198400000,0.6442915906],[1292284800000,0.644471799],[1292371200000,0.6446520271],[1292457600000,0.6448322749],[1292544000000,0.6450125425],[1292803200000,0.6451928299],[1292889600000,0.645373137],[1292976000000,0.6455534639],[1293062400000,0.6457338105],[1293148800000,0.6459141769],[1293408000000,0.6460945631],[1293494400000,0.646274969],[1293580800000,0.6464553947],[1293667200000,0.6466358402],[1293753600000,0.6468163054],[1294099200000,0.6469967905],[1294185600000,0.6471772953],[1294272000000,0.6473578199],[1294358400000,0.6475383642],[1294617600000,0.6477189284],[1294704000000,0.6478995124],[1294790400000,0.6480801161],[1294876800000,0.6482607396],[1294963200000,0.6484413829],[1295222400000,0.6486220461],[1295308800000,0.648802729],[1295395200000,0.6489834317],[1295481600000,0.6491641542],[1295568000000,0.6493448966],[1295827200000,0.6495256587],[1295913600000,0.6497064406],[1296000000000,0.6498872424],[1296086400000,0.650068064],[1296172800000,0.6502489053],[1296432000000,0.6504297666],[1296518400000,0.6506106476],[1297209600000,0.6507915484],[1297296000000,0.6509724691],[1297382400000,0.6511534096],[1297641600000,0.6513343699],[1297728000000,0.6515153501],[1297814400000,0.6516963501],[1297900800000,0.6518773699],[1297987200000,0.6520584096],[1298246400000,0.6522394691],[1298332800000,0.6524205484],[1298419200000,0.6526016476],[1298505600000,0.6527827667],[1298592000000,0.6529639056],[1298851200000,0.6531450643],[1298937600000,0.6533262429],[1299024000000,0.6535074413],[1299110400000,0.6536886596],[1299196800000,0.6538698978],[1299456000000,0.6540511558],[1299542400000,0.6542324337],[1299628800000,0.6544137315],[1299715200000,0.6545950491],[1299801600000,0.6547763866],[1300060800000,0.654957744],[1300147200000,0.6551391212],[1300233600000,0.6553205183],[1300320000000,0.6555019353],[1300406400000,0.6556833722],[1300665600000,0.655864829],[1300752000000,0.6560463056],[1300838400000,0.6562278021],[1300924800000,0.6564093186],[1301011200000,0.6565908549],[1301270400000,0.6567724111],[1301356800000,0.6569539872],[1301443200000,0.6571355832],[1301529600000,0.6573171991],[1301616000000,0.6574988349],[1302048000000,0.6576804907],[1302134400000,0.6578621663],[1302220800000,0.6580438618],[1302480000000,0.6580449887],[1302566400000,0.6391243893],[1302652800000,0.6325455375],[1302739200000,0.6634132821],[1302825600000,0.6491128768],[1303084800000,0.6496137495],[1303171200000,0.6441078806],[1303257600000,0.6272107602],[1303344000000,0.6330177518],[1303430400000,0.6353755216],[1303689600000,0.6233239705],[1303776000000,0.5988522807],[1303862400000,0.5988975042],[1303948800000,0.5899767105],[1304035200000,0.5591584665],[1304380800000,0.5593293452],[1304467200000,0.5595002426],[1304553600000,0.5596711588],[1304640000000,0.5598420936],[1304899200000,0.5600130472],[1304985600000,0.5601840196],[1305072000000,0.5603550107],[1305158400000,0.5605260205],[1305244800000,0.560697049],[1305504000000,0.5608680963],[1305590400000,0.5610391624],[1305676800000,0.5612102472],[1305763200000,0.5613813507],[1305849600000,0.561552473],[1306108800000,0.5617236141],[1306195200000,0.5618947739],[1306281600000,0.5620659524],[1306368000000,0.5622371498],[1306454400000,0.5624083658],[1306713600000,0.5625796007],[1306800000000,0.5627508543],[1306886400000,0.5629221267],[1306972800000,0.5630934178],[1307059200000,0.5632647277],[1307404800000,0.5634360564],[1307491200000,0.5636074039],[1307577600000,0.5637787701],[1307664000000,0.5639501552],[1307923200000,0.564121559],[1308009600000,0.5642929816],[1308096000000,0.5644644229],[1308182400000,0.5646358831],[1308268800000,0.5648073621],[1308528000000,0.5649788598],[1308614400000,0.5651503764],[1308700800000,0.5653219117],[1308787200000,0.5654934658],[1308873600000,0.5656650388],[1309132800000,0.5658366305],[1309219200000,0.5660082411],[1309305600000,0.5661798704],[1309392000000,0.5663515186],[1309478400000,0.5665231855],[1309737600000,0.5666948713],[1309824000000,0.5668665759],[1309910400000,0.5670382993],[1309996800000,0.5672100416],[1310083200000,0.5673818026],[1310342400000,0.5675535825],[1310428800000,0.5677253812],[1310515200000,0.5678971987],[1310601600000,0.5680690351],[1310688000000,0.5682408903],[1310947200000,0.5684127643],[1311033600000,0.5685846572],[1311120000000,0.5687565689],[1311206400000,0.5689284994],[1311292800000,0.5691004488],[1311552000000,0.569272417],[1311638400000,0.5694444041],[1311724800000,0.56961641],[1311811200000,0.5697884348],[1311897600000,0.5699604784],[1312156800000,0.5701325409],[1312243200000,0.5703046222],[1312329600000,0.5704767224],[1312416000000,0.5706488414],[1312502400000,0.5708209793],[1312761600000,0.5709931361],[1312848000000,0.5711653117],[1312934400000,0.5713375063],[1313020800000,0.5715097196],[1313107200000,0.5716819519],[1313366400000,0.571854203],[1313452800000,0.572026473],[1313539200000,0.5721987619],[1313625600000,0.5723710697],[1313712000000,0.5725433963],[1313971200000,0.5727157418],[1314057600000,0.5728881063],[1314144000000,0.5730604896],[1314230400000,0.5732328918],[1314316800000,0.5734053129],[1314576000000,0.5735777529],[1314662400000,0.5737502117],[1314748800000,0.5739226895],[1314835200000,0.5740951862],[1314921600000,0.5742677018],[1315180800000,0.5744402363],[1315267200000,0.5746127897],[1315353600000,0.574785362],[1315440000000,0.5749579533],[1315526400000,0.5751305634],[1315872000000,0.5753031925],[1315958400000,0.5754758404],[1316044800000,0.5756485073],[1316131200000,0.5758211932],[1316390400000,0.5759938979],[1316476800000,0.5761666216],[1316563200000,0.5763393642],[1316649600000,0.5765121257],[1316736000000,0.5766849062],[1316995200000,0.5768577056],[1317081600000,0.5770305239],[1317168000000,0.5772033612],[1317254400000,0.5773762174],[1317340800000,0.5775490925],[1318204800000,0.5777219866],[1318291200000,0.5778948997],[1318377600000,0.5780678317],[1318464000000,0.5782407826],[1318550400000,0.5784137525],[1318809600000,0.5785867414],[1318896000000,0.5787597492],[1318982400000,0.578932776],[1319068800000,0.5791058217],[1319155200000,0.5792788864],[1319414400000,0.5794519701],[1319500800000,0.5796250727],[1319587200000,0.5797981943],[1319673600000,0.5799713349],[1319760000000,0.5801444945],[1320019200000,0.580317673],[1320105600000,0.5804908705],[1320192000000,0.580664087],[1320278400000,0.5808373225],[1320364800000,0.5810105769],[1320624000000,0.5811838504],[1320710400000,0.5813571428],[1320796800000,0.5815304542],[1320883200000,0.5817037846],[1320969600000,0.581877134],[1321228800000,0.5820505025],[1321315200000,0.5822238899],[1321401600000,0.5823972963],[1321488000000,0.5825707217],[1321574400000,0.5827441661],[1321833600000,0.5829176295],[1321920000000,0.583091112],[1322006400000,0.5832646134],[1322092800000,0.5834381339],[1322179200000,0.5836116733],[1322438400000,0.5837852318],[1322524800000,0.5839588094],[1322611200000,0.5841324059],[1322697600000,0.5843060215],[1322784000000,0.584479656],[1323043200000,0.5846533097],[1323129600000,0.5848269823],[1323216000000,0.585000674],[1323302400000,0.5851743847],[1323388800000,0.5853481144],[1323648000000,0.5855218632],[1323734400000,0.5856956311],[1323820800000,0.5858694179],[1323907200000,0.5860432239],[1323993600000,0.5862170488],[1324252800000,0.5863908928],[1324339200000,0.5865647559],[1324425600000,0.586738638],[1324512000000,0.5869125392],[1324598400000,0.5870864594],[1324857600000,0.5872603987],[1324944000000,0.5874343571],[1325030400000,0.5876083345],[1325116800000,0.587782331],[1325203200000,0.5879563465],[1325635200000,0.5881303812],[1325721600000,0.5883044349],[1325808000000,0.5884785076],[1326067200000,0.5886525995],[1326153600000,0.5888267104],[1326240000000,0.5890008404],[1326326400000,0.5891749895],[1326412800000,0.5893491577],[1326672000000,0.5895233449],[1326758400000,0.5896975513],[1326844800000,0.5898717767],[1326931200000,0.5900460212],[1327017600000,0.5902202849],[1327881600000,0.5903945676],[1327968000000,0.5905688694],[1328054400000,0.5907431904],[1328140800000,0.5909175304],[1328227200000,0.5910918895],[1328486400000,0.5912662678],[1328572800000,0.5914406651],[1328659200000,0.5916150816],[1328745600000,0.5917895172],[1328832000000,0.5919639719],[1329091200000,0.5921384457],[1329177600000,0.5923129386],[1329264000000,0.5924874507],[1329350400000,0.5926619819],[1329436800000,0.5928365322],[1329696000000,0.5930111016],[1329782400000,0.5931856902],[1329868800000,0.5933602979],[1329955200000,0.5935349247],[1330041600000,0.5937095707],[1330300800000,0.5937123871],[1330387200000,0.5903053776],[1330473600000,0.5923847671],[1330560000000,0.5728489257],[1330646400000,0.5818305594],[1330905600000,0.6112003591],[1330992000000,0.591770707],[1331078400000,0.5573684961],[1331164800000,0.5667630858],[1331251200000,0.5854668556],[1331510400000,0.5967610377],[1331596800000,0.5911240756],[1331683200000,0.6151962581],[1331769600000,0.5610312148],[1331856000000,0.5546273376],[1332115200000,0.5698858869],[1332201600000,0.572838385],[1332288000000,0.5579276411],[1332374400000,0.5517715381],[1332460800000,0.544925211],[1332720000000,0.5308285788],[1332806400000,0.5391612889],[1332892800000,0.5233468761],[1332979200000,0.5235138302],[1333065600000,0.5236808027],[1333584000000,0.5238477934],[1333670400000,0.5240148024],[1333929600000,0.5241818297],[1334016000000,0.5243488754],[1334102400000,0.5245159393],[1334188800000,0.5246830216],[1334275200000,0.5248501221],[1334534400000,0.525017241],[1334620800000,0.5251843782],[1334707200000,0.5253515337],[1334793600000,0.5255187075],[1334880000000,0.5256858997],[1335139200000,0.5258531101],[1335225600000,0.5260203389],[1335312000000,0.526187586],[1335398400000,0.5263548515],[1335484800000,0.5265221352],[1335916800000,0.5266894373],[1336003200000,0.5268567578],[1336089600000,0.5270240966],[1336348800000,0.5271914537],[1336435200000,0.5273588291],[1336521600000,0.5275262229],[1336608000000,0.5276936351],[1336694400000,0.5278610656],[1336953600000,0.5280285144],[1337040000000,0.5281959816],[1337126400000,0.5283634671],[1337212800000,0.528530971],[1337299200000,0.5286984933],[1337558400000,0.5288660339],[1337644800000,0.5290335929],[1337731200000,0.5292011702],[1337817600000,0.5293687659],[1337904000000,0.52953638],[1338163200000,0.5297040124],[1338249600000,0.5298716632],[1338336000000,0.5300393324],[1338422400000,0.5302070199],[1338508800000,0.5303747259],[1338768000000,0.5305424502],[1338854400000,0.5307101929],[1338940800000,0.5308779539],[1339027200000,0.5310457334],[1339113600000,0.5312135312],[1339372800000,0.5313813475],[1339459200000,0.5315491821],[1339545600000,0.5317170351],[1339632000000,0.5318849065],[1339718400000,0.5320527963],[1339977600000,0.5322207045],[1340064000000,0.5323886312],[1340150400000,0.5325565762],[1340236800000,0.5327245396],[1340582400000,0.5328925214],[1340668800000,0.5330605216],[1340755200000,0.5332285403],[1340841600000,0.5333965773],[1340928000000,0.5335646328],[1341187200000,0.5337327067],[1341273600000,0.533900799],[1341360000000,0.5340689097],[1341446400000,0.5342370389],[1341532800000,0.5344051864],[1341792000000,0.5345733524],[1341878400000,0.5347415369],[1341964800000,0.5349097397],[1342051200000,0.535077961],[1342137600000,0.5352462008],[1342396800000,0.5354144589],[1342483200000,0.5355827355],[1342569600000,0.5357510306],[1342656000000,0.5359193441],[1342742400000,0.536087676],[1343001600000,0.5362560264],[1343088000000,0.5364243952],[1343174400000,0.5365927825],[1343260800000,0.5367611883],[1343347200000,0.5369296125],[1343606400000,0.5370980551],[1343692800000,0.5372665162],[1343779200000,0.5374349958],[1343865600000,0.5376034938],[1343952000000,0.5377720103],[1344211200000,0.5379405453],[1344297600000,0.5381090988],[1344384000000,0.5382776707],[1344470400000,0.538446261],[1344556800000,0.5386148699],[1344816000000,0.5387834972],[1344902400000,0.5389521431],[1344988800000,0.5391208074],[1345075200000,0.5392894901],[1345161600000,0.5394581914],[1345420800000,0.5396269112],[1345507200000,0.5397956494],[1345593600000,0.5399644062],[1345680000000,0.5401331814],[1345766400000,0.5403019751],[1346025600000,0.5404707873],[1346112000000,0.5406396181],[1346198400000,0.5408084673],[1346284800000,0.540977335],[1346371200000,0.5411462213],[1346630400000,0.541315126],[1346716800000,0.5414840493],[1346803200000,0.541652991],[1346889600000,0.5418219513],[1346976000000,0.5419909301],[1347235200000,0.5421599274],[1347321600000,0.5423289433],[1347408000000,0.5424979776],[1347494400000,0.5426670305],[1347580800000,0.5428361019],[1347840000000,0.5430051919],[1347926400000,0.5431743003],[1348012800000,0.5433434273],[1348099200000,0.5435125729],[1348185600000,0.5436817369],[1348444800000,0.5438509196],[1348531200000,0.5440201207],[1348617600000,0.5441893404],[1348704000000,0.5443585786],[1348790400000,0.5445278354],[1349654400000,0.5446971108],[1349740800000,0.5448664047],[1349827200000,0.5450357171],[1349913600000,0.5452050481],[1350000000000,0.5453743976],[1350259200000,0.5455437657],[1350345600000,0.5457131524],[1350432000000,0.5458825576],[1350518400000,0.5460519814],[1350604800000,0.5462214238],[1350864000000,0.5463908847],[1350950400000,0.5465603642],[1351036800000,0.5467298623],[1351123200000,0.546899379],[1351209600000,0.5470689142],[1351468800000,0.547238468],[1351555200000,0.5474080404],[1351641600000,0.5475776314],[1351728000000,0.5477472409],[1351814400000,0.5479168691],[1352073600000,0.5480865158],[1352160000000,0.5482561811],[1352246400000,0.5484258651],[1352332800000,0.5485955676],[1352419200000,0.5487652887],[1352678400000,0.5489350284],[1352764800000,0.5491047867],[1352851200000,0.5492745636],[1352937600000,0.5494443591],[1353024000000,0.5496141733],[1353283200000,0.549784006],[1353369600000,0.5499538574],[1353456000000,0.5501237273],[1353542400000,0.5502936159],[1353628800000,0.5504635231],[1353888000000,0.5506334489],[1353974400000,0.5508033934],[1354060800000,0.5509733565],[1354147200000,0.5511433381],[1354233600000,0.5513133385],[1354492800000,0.5514833574],[1354579200000,0.551653395],[1354665600000,0.5518234512],[1354752000000,0.5519935261],[1354838400000,0.5521636196],[1355097600000,0.5523337317],[1355184000000,0.5525038625],[1355270400000,0.5526740119],[1355356800000,0.55284418],[1355443200000,0.5530143667],[1355702400000,0.553184572],[1355788800000,0.5533547961],[1355875200000,0.5535250387],[1355961600000,0.5536953001],[1356048000000,0.55386558],[1356307200000,0.5540358787],[1356393600000,0.554206196],[1356480000000,0.554376532],[1356566400000,0.5545468866],[1356652800000,0.5547172599],[1356912000000,0.5548876519],[1357257600000,0.5548902907],[1357516800000,0.5346391494],[1357603200000,0.5446006974],[1357689600000,0.5346744251],[1357776000000,0.5391705727],[1357862400000,0.5439186928],[1358121600000,0.5083332334],[1358208000000,0.5712989742],[1358294400000,0.5786388112],[1358380800000,0.5662528103],[1358467200000,0.5650435848],[1358726400000,0.5872197968],[1358812800000,0.5900661274],[1358899200000,0.5767562289],[1358985600000,0.5876956732],[1359072000000,0.5723699961],[1359331200000,0.5702068769],[1359417600000,0.6170703852],[1359504000000,0.6309015137],[1359590400000,0.6384153349],[1359676800000,0.6301628841],[1359936000000,0.6760604994],[1360022400000,0.6606088382],[1360108800000,0.6869965922],[1360195200000,0.6867712629],[1360281600000,0.677246953],[1361145600000,0.6942937314],[1361232000000,0.6648876009],[1361318400000,0.6355234661],[1361404800000,0.6293167938],[1361491200000,0.5884699179],[1361750400000,0.5881725986],[1361836800000,0.5763145465],[1361923200000,0.5695199397],[1362009600000,0.5910542287],[1362096000000,0.6269929395],[1362355200000,0.5955470351],[1362441600000,0.5528039016],[1362528000000,0.5529740839],[1362614400000,0.5531442848],[1362700800000,0.5533145044],[1362960000000,0.5534847427],[1363046400000,0.5536549996],[1363132800000,0.5538252752],[1363219200000,0.5539955694],[1363305600000,0.5541658823],[1363564800000,0.5543362139],[1363651200000,0.5545065641],[1363737600000,0.554676933],[1363824000000,0.5548473205],[1363910400000,0.5550177268],[1364169600000,0.5551881517],[1364256000000,0.5553585953],[1364342400000,0.5555290576],[1364428800000,0.5556995385],[1364515200000,0.5558700381],[1364774400000,0.5560405564],[1364860800000,0.5562110934],[1364947200000,0.5563816491],[1365379200000,0.5565522235],[1365465600000,0.5567228166],[1365552000000,0.5568934284],[1365638400000,0.5570640588],[1365724800000,0.557234708],[1365984000000,0.5574053759],[1366070400000,0.5575760624],[1366156800000,0.5577467677],[1366243200000,0.5579174917],[1366329600000,0.5580882344],[1366588800000,0.5582589958],[1366675200000,0.5584297759],[1366761600000,0.5586005748],[1366848000000,0.5587713923],[1366934400000,0.5589422286],[1367452800000,0.5591130836],[1367539200000,0.5592839573],[1367798400000,0.5594548497],[1367884800000,0.5596257609],[1367971200000,0.5597966908],[1368057600000,0.5599676394],[1368144000000,0.5601386068],[1368403200000,0.5603095929],[1368489600000,0.5604805978],[1368576000000,0.5606516213],[1368662400000,0.5608226637],[1368748800000,0.5609937247],[1369008000000,0.5611648045],[1369094400000,0.5613359031],[1369180800000,0.5615070204],[1369267200000,0.5616781565],[1369353600000,0.5618493113],[1369612800000,0.5620204849],[1369699200000,0.5621916772],[1369785600000,0.5623628883],[1369872000000,0.5625341182],[1369958400000,0.5627053668],[1370217600000,0.5628766342],[1370304000000,0.5630479204],[1370390400000,0.5632192253],[1370476800000,0.563390549],[1370563200000,0.5635618915],[1371081600000,0.5637332527],[1371168000000,0.5639046328],[1371427200000,0.5640760316],[1371513600000,0.5642474492],[1371600000000,0.5644188856],[1371686400000,0.5645903408],[1371772800000,0.5647618147],[1372032000000,0.5649333075],[1372118400000,0.565104819],[1372204800000,0.5652763494],[1372291200000,0.5654478985],[1372377600000,0.5656194665],[1372636800000,0.5657910532],[1372723200000,0.5659626588],[1372809600000,0.5661342831],[1372896000000,0.5663059263],[1372982400000,0.5664775883],[1373241600000,0.566649269],[1373328000000,0.5668209686],[1373414400000,0.5669926871],[1373500800000,0.5671644243],[1373587200000,0.5673361804],[1373846400000,0.5675079552],[1373932800000,0.5676797489],[1374019200000,0.5678515615],[1374105600000,0.5680233928],[1374192000000,0.568195243],[1374451200000,0.568367112],[1374537600000,0.5685389999],[1374624000000,0.5687109066],[1374710400000,0.5688828321],[1374796800000,0.5690547765],[1375056000000,0.5692267397],[1375142400000,0.5693987218],[1375228800000,0.5695707227],[1375315200000,0.5697427425],[1375401600000,0.5699147811],[1375660800000,0.5700868385],[1375747200000,0.5702589148],[1375833600000,0.57043101],[1375920000000,0.5706031241],[1376006400000,0.570775257],[1376265600000,0.5709474087],[1376352000000,0.5711195794],[1376438400000,0.5712917689],[1376524800000,0.5714639772],[1376611200000,0.5716362045],[1376870400000,0.5718084506],[1376956800000,0.5719807156],[1377043200000,0.5721529994],[1377129600000,0.5723253022],[1377216000000,0.5724976238],[1377475200000,0.5726699643],[1377561600000,0.5728423237],[1377648000000,0.573014702],[1377734400000,0.5731870992],[1377820800000,0.5733595153],[1378080000000,0.5735319503],[1378166400000,0.5737044041],[1378252800000,0.5738768769],[1378339200000,0.5740493686],[1378425600000,0.5742218791],[1378684800000,0.5743944086],[1378771200000,0.5743953892],[1378857600000,0.5982913512],[1378944000000,0.5961677648],[1379030400000,0.6102919979],[1379289600000,0.6093586813],[1379376000000,0.5963882839],[1379462400000,0.5613403061],[1379894400000,0.5712474018],[1379980800000,0.5899343354],[1380067200000,0.5708078131],[1380153600000,0.5591620711],[1380240000000,0.5333034868],[1380499200000,0.5486563862],[1381190400000,0.5487917534],[1381276800000,0.5657636757],[1381363200000,0.5802910659],[1381449600000,0.5717937795],[1381708800000,0.5909350643],[1381795200000,0.5928878329],[1381881600000,0.5824963544],[1381968000000,0.5655839906],[1382054400000,0.5543670028],[1382313600000,0.5651188076],[1382400000000,0.5896483025],[1382486400000,0.5776889964],[1382572800000,0.5525279371],[1382659200000,0.5450289424],[1382918400000,0.527143886],[1383004800000,0.5251672562],[1383091200000,0.5253344098],[1383177600000,0.5255015818],[1383264000000,0.525668772],[1383523200000,0.5258359806],[1383609600000,0.5260032075],[1383696000000,0.5261704528],[1383782400000,0.5263377163],[1383868800000,0.5265049982],[1384128000000,0.5266722985],[1384214400000,0.526839617],[1384300800000,0.5270069539],[1384387200000,0.5271743092],[1384473600000,0.5273416828],[1384732800000,0.5275090747],[1384819200000,0.5276764849],[1384905600000,0.5278439135],[1384992000000,0.5280113605],[1385078400000,0.5281788258],[1385337600000,0.5283463095],[1385424000000,0.5285138115],[1385510400000,0.5286813319],[1385596800000,0.5288488706],[1385683200000,0.5290164277],[1385942400000,0.5291840031],[1386028800000,0.529351597],[1386115200000,0.5295192091],[1386201600000,0.5296868397],[1386288000000,0.5298544886],[1386547200000,0.5300221559],[1386633600000,0.5301898416],[1386720000000,0.5303575456],[1386806400000,0.5305252681],[1386892800000,0.5306930089],[1387152000000,0.5308607681],[1387238400000,0.5310285456],[1387324800000,0.5311963416],[1387411200000,0.5313641559],[1387497600000,0.5315319887],[1387756800000,0.5316998398],[1387843200000,0.5318677093],[1387929600000,0.5320355973],[1388016000000,0.5322035036],[1388102400000,0.5323714283],[1388361600000,0.5325393714],[1388448000000,0.532707333],[1388620800000,0.5328753129],[1388707200000,0.5330433112],[1388966400000,0.533211328],[1389052800000,0.5333793632],[1389139200000,0.5335474167],[1389225600000,0.5337154887],[1389312000000,0.5338835792],[1389571200000,0.534051688],[1389657600000,0.5342198153],[1389744000000,0.534387961],[1389830400000,0.5345561251],[1389916800000,0.5347243076],[1390176000000,0.5348925086],[1390262400000,0.535060728],[1390348800000,0.5352289658],[1390435200000,0.5353972221],[1390521600000,0.5355654968],[1390780800000,0.53573379],[1390867200000,0.5359021016],[1390953600000,0.5360704317],[1391040000000,0.5362387802],[1391731200000,0.5364071471],[1391990400000,0.5365755325],[1392076800000,0.5367439363],[1392163200000,0.5369123586],[1392249600000,0.5370807994],[1392336000000,0.5372492586],[1392595200000,0.5374177363],[1392681600000,0.5375862325],[1392768000000,0.5377547471],[1392854400000,0.5379232801],[1392940800000,0.5380918317],[1393200000000,0.5382604017],[1393286400000,0.5384289902],[1393372800000,0.5385975972],[1393459200000,0.5387662226],[1393545600000,0.5389348665],[1393804800000,0.5391035289],[1393891200000,0.5392722098],[1393977600000,0.5394409092],[1394064000000,0.5396096271],[1394150400000,0.5397783634],[1394409600000,0.5399471183],[1394496000000,0.5401158916],[1394582400000,0.5402846834],[1394668800000,0.5404534938],[1394755200000,0.5406223226],[1395014400000,0.5407911699],[1395100800000,0.5409600358],[1395187200000,0.5411289201],[1395273600000,0.541297823],[1395360000000,0.5414667443],[1395619200000,0.5416356842],[1395705600000,0.5418046426],[1395792000000,0.5419736195],[1395878400000,0.5421426149],[1395964800000,0.5423116288],[1396224000000,0.5424806613],[1396310400000,0.5426497123],[1396396800000,0.5428187818],[1396483200000,0.5429878698],[1396569600000,0.5431569764],[1396915200000,0.5433261015],[1397001600000,0.5434952452],[1397088000000,0.5436644073],[1397174400000,0.543833588],[1397433600000,0.5440027873],[1397520000000,0.5441720051],[1397606400000,0.5443412414],[1397692800000,0.5445104963],[1397779200000,0.5446797697],[1398038400000,0.5448490617],[1398124800000,0.5450183723],[1398211200000,0.5451877014],[1398297600000,0.545357049],[1398384000000,0.5455264152],[1398643200000,0.5456958],[1398729600000,0.5458652033],[1398816000000,0.5460346252],[1399248000000,0.5462040657],[1399334400000,0.5463735247],[1399420800000,0.5465430023],[1399507200000,0.5467124985],[1399593600000,0.5468820132],[1399852800000,0.5470515466],[1399939200000,0.5472210985],[1400025600000,0.5473906689],[1400112000000,0.547560258],[1400198400000,0.5477298657],[1400457600000,0.5478994919],[1400544000000,0.5480691367],[1400630400000,0.5482388002],[1400716800000,0.5484084822],[1400803200000,0.5485781828],[1401062400000,0.548747902],[1401148800000,0.5489176398],[1401235200000,0.5490873962],[1401321600000,0.5492571712],[1401408000000,0.5494269648],[1401753600000,0.5495967771],[1401840000000,0.5497666079],[1401926400000,0.5499364573],[1402012800000,0.5501063254],[1402272000000,0.5502762121],[1402358400000,0.5504461174],[1402444800000,0.5506160413],[1402531200000,0.5507859838],[1402617600000,0.550955945],[1402876800000,0.5511259248],[1402963200000,0.5512959232],[1403049600000,0.5514659402],[1403136000000,0.5516359759],[1403222400000,0.5518060302],[1403481600000,0.5519761032],[1403568000000,0.5521461947],[1403654400000,0.552316305],[1403740800000,0.5524864338],[1403827200000,0.5526565813],[1404086400000,0.5528267475],[1404172800000,0.5529969323],[1404259200000,0.5531671357],[1404345600000,0.5533373579],[1404432000000,0.5535075986],[1404691200000,0.553677858],[1404777600000,0.5538481361],[1404864000000,0.5540184328],[1404950400000,0.5541887482],[1405036800000,0.5543590823],[1405296000000,0.554529435],[1405382400000,0.5546998064],[1405468800000,0.5548701965],[1405555200000,0.5550406053],[1405641600000,0.5552110327],[1405900800000,0.5553814788],[1405987200000,0.5555519435],[1406073600000,0.5555543388],[1406160000000,0.5614640869],[1406246400000,0.591731166],[1406505600000,0.6122483139],[1406592000000,0.6498085942],[1406678400000,0.6488660943],[1406764800000,0.6469646998],[1406851200000,0.6604476195],[1407110400000,0.6572303697],[1407196800000,0.6853486861],[1407283200000,0.6723395099],[1407369600000,0.6761214939],[1407456000000,0.6520255332],[1407715200000,0.6582082546],[1407801600000,0.674420877],[1407888000000,0.6725264841],[1407974400000,0.6716469802],[1408060800000,0.6582038534],[1408320000000,0.6780000842],[1408406400000,0.6868355164],[1408492800000,0.6817704722],[1408579200000,0.6776293271],[1408665600000,0.6682457567],[1408924800000,0.6785370304],[1409011200000,0.6593475352],[1409097600000,0.6482841497],[1409184000000,0.6512752243],[1409270400000,0.643746452],[1409529600000,0.6602880421],[1409616000000,0.6735399929],[1409702400000,0.694421108],[1409788800000,0.7099898055],[1409875200000,0.7248585799],[1410220800000,0.7382015219],[1410307200000,0.7265572024],[1410393600000,0.7231229835],[1410480000000,0.7147753033],[1410739200000,0.7247516152],[1410825600000,0.7298914575],[1410912000000,0.6984113131],[1410998400000,0.6991276406],[1411084800000,0.7081800549],[1411344000000,0.7151956926],[1411430400000,0.6873341528],[1411516800000,0.6956656468],[1411603200000,0.7390632983],[1411689600000,0.7232404399],[1411948800000,0.7324118427],[1412035200000,0.738195617],[1412726400000,0.7442873578],[1412812800000,0.7578192835],[1412899200000,0.7521523135],[1413158400000,0.7418728492],[1413244800000,0.7374517432],[1413331200000,0.732869655],[1413417600000,0.735972725],[1413504000000,0.731950576],[1413763200000,0.7356135851],[1413849600000,0.7390876152],[1413936000000,0.7261274465],[1414022400000,0.7125163494],[1414108800000,0.70020711],[1414368000000,0.6861764461],[1414454400000,0.6863612445],[1414540800000,0.6865460632],[1414627200000,0.6867309022],[1414713600000,0.6869157614],[1414972800000,0.686915938],[1415059200000,0.6837138654],[1415145600000,0.6876197139],[1415232000000,0.6797817495],[1415318400000,0.6821869625],[1415577600000,0.6963024922],[1415664000000,0.7288678001],[1415750400000,0.7067336024],[1415836800000,0.7415632621],[1415923200000,0.7226849077],[1416182400000,0.7523628321],[1416268800000,0.7200457504],[1416355200000,0.7019311123],[1416441600000,0.6956004829],[1416528000000,0.7014692165],[1416787200000,0.7527991681],[1416873600000,0.7768631078],[1416960000000,0.8071305677],[1417046400000,0.835113578],[1417132800000,0.8464355141],[1417392000000,0.8944560285],[1417478400000,0.8822166467],[1417564800000,0.9684899691],[1417651200000,0.9948048622],[1417737600000,1.1077345634],[1417996800000,1.0838183613],[1418083200000,1.1674454737],[1418169600000,1.0918176388],[1418256000000,1.1353295474],[1418342400000,1.1338290889],[1418601600000,1.1297494131],[1418688000000,1.159581421],[1418774400000,1.229562129],[1418860800000,1.2518507636],[1418947200000,1.242833729],[1419206400000,1.2767455898],[1419292800000,1.2516570165],[1419379200000,1.2338036503],[1419465600000,1.1817706298],[1419552000000,1.2415014612],[1419811200000,1.347711799],[1419897600000,1.3132978477],[1419984000000,1.3210557749],[1420416000000,1.390527339],[1420502400000,1.4188922079],[1420588800000,1.4272597683],[1420675200000,1.4467883056],[1420761600000,1.3781210082],[1421020800000,1.3673621647],[1421107200000,1.350573982],[1421193600000,1.361601151],[1421280000000,1.3474055842],[1421366400000,1.4241324533],[1421625600000,1.2886466787],[1421712000000,1.2369151254],[1421798400000,1.292988158],[1421884800000,1.3804539504],[1421971200000,1.4012486491],[1422230400000,1.3999290714],[1422316800000,1.4226531588],[1422403200000,1.3779022407],[1422489600000,1.3294533279],[1422576000000,1.3441717926],[1422835200000,1.2525930064],[1422921600000,1.2716257984],[1423008000000,1.3101735518],[1423094400000,1.33818336],[1423180800000,1.2473280946],[1423440000000,1.2163523891],[1423526400000,1.2165952891],[1423612800000,1.2168382156],[1423699200000,1.2170811688],[1423785600000,1.2173241486],[1424044800000,1.217567155],[1424131200000,1.2178101881],[1424822400000,1.2180532478],[1424908800000,1.2182963342],[1424995200000,1.2185394471],[1425254400000,1.2187825867],[1425340800000,1.219025753],[1425427200000,1.2192689459],[1425513600000,1.2195121655],[1425600000000,1.2197554117],[1425859200000,1.2199986846],[1425945600000,1.2202419841],[1426032000000,1.2204853103],[1426118400000,1.2207286632],[1426204800000,1.2209720427],[1426464000000,1.2212154489],[1426550400000,1.2214588818],[1426636800000,1.2214627981],[1426723200000,1.2691142931],[1426809600000,1.2698373314],[1427068800000,1.3107789626],[1427155200000,1.3438334586],[1427241600000,1.3331143521],[1427328000000,1.3100194023],[1427414400000,1.3307804069],[1427673600000,1.3548389304],[1427760000000,1.4359527618],[1427846400000,1.3887614544],[1427932800000,1.4423804998],[1428019200000,1.4161248989],[1428364800000,1.4794694793],[1428451200000,1.516334162],[1428537600000,1.5392513737],[1428624000000,1.5000631919],[1428883200000,1.583966521],[1428969600000,1.6060544248],[1429056000000,1.6102222929],[1429142400000,1.5616159449],[1429228800000,1.6910558854],[1429488000000,1.7121405009],[1429574400000,1.6572998374],[1429660800000,1.7249243535],[1429747200000,1.7988237823],[1429833600000,1.7513599117],[1430092800000,1.7926785119],[1430179200000,1.825999789],[1430265600000,1.7747257372],[1430352000000,1.8127213029],[1430697600000,1.7948805881],[1430784000000,1.8108617671],[1430870400000,1.7186790002],[1430956800000,1.6575518304],[1431043200000,1.6544994966],[1431302400000,1.6930923994],[1431388800000,1.7569067387],[1431475200000,1.7885694018],[1431561600000,1.7719001621],[1431648000000,1.7561240248],[1431907200000,1.6930946665],[1431993600000,1.6905352817],[1432080000000,1.7914075624],[1432166400000,1.8013400095],[1432252800000,1.8751292591],[1432512000000,1.9059800146],[1432598400000,2.0171519683],[1432684800000,2.0608657151],[1432771200000,2.0364717262],[1432857600000,1.8424463275],[1433116800000,1.8559221893],[1433203200000,1.988447405],[1433289600000,2.037937321],[1433376000000,2.0260003691],[1433462400000,2.0833542241],[1433721600000,2.0859736778],[1433808000000,2.1556047882],[1433894400000,2.0830180846],[1433980800000,2.1125059951],[1434067200000,2.126509603],[1434326400000,2.1408553738],[1434412800000,2.031257128],[1434499200000,1.9774951635],[1434585600000,1.9980172588],[1434672000000,1.8468723673],[1435017600000,1.7276181813],[1435104000000,1.8263157107],[1435190400000,1.8812048414],[1435276800000,1.6887460019],[1435536000000,1.689040671],[1435622400000,1.6893353724],[1435708800000,1.6896301061],[1435795200000,1.6899248721],[1435881600000,1.6902196704],[1436140800000,1.690514501],[1436227200000,1.6908093639],[1436313600000,1.6911042592],[1436400000000,1.6913991867],[1436486400000,1.6916941466],[1436745600000,1.6919891388],[1436832000000,1.6922841633],[1436918400000,1.6925792201],[1437004800000,1.6928743093],[1437091200000,1.6931694308],[1437350400000,1.6934645847],[1437436800000,1.6937597709],[1437523200000,1.6940549895],[1437609600000,1.6943502404],[1437696000000,1.6946455236],[1437955200000,1.6949408393],[1438041600000,1.6952361873],[1438128000000,1.6955315676],[1438214400000,1.6958269804],[1438300800000,1.6961224255],[1438560000000,1.6964179029],[1438646400000,1.6967134128],[1438732800000,1.6970089551],[1438819200000,1.6973045297],[1438905600000,1.6976001367],[1439164800000,1.6978957761],[1439251200000,1.698191448],[1439337600000,1.6984871522],[1439424000000,1.6987828888],[1439510400000,1.6990786578],[1439769600000,1.6993744593],[1439856000000,1.6996702932],[1439942400000,1.6999661595],[1440028800000,1.7002620582],[1440115200000,1.7005579893],[1440374400000,1.7008539529],[1440460800000,1.7011499489],[1440547200000,1.7014459773],[1440633600000,1.7017420382],[1440720000000,1.7020381315],[1440979200000,1.7023342573],[1441065600000,1.7026304155],[1441152000000,1.7029266062],[1441584000000,1.7032228294],[1441670400000,1.703519085],[1441756800000,1.7038153731],[1441843200000,1.7041116936],[1441929600000,1.7044080466],[1442188800000,1.7047044321],[1442275200000,1.7050008501],[1442361600000,1.7052973005],[1442448000000,1.7055937835],[1442534400000,1.7058902989],[1442793600000,1.7061868469],[1442880000000,1.7064834273],[1442966400000,1.7067800402],[1443052800000,1.7070766857],[1443139200000,1.7073733636],[1443398400000,1.7076700741],[1443484800000,1.7079668171],[1443571200000,1.7082635925],[1444262400000,1.7085604006],[1444348800000,1.7088572411],[1444608000000,1.7091541142],[1444694400000,1.7094510198],[1444780800000,1.709747958],[1444867200000,1.7100449286],[1444953600000,1.7103419319],[1445212800000,1.7106389677],[1445299200000,1.710936036],[1445385600000,1.7112331369],[1445472000000,1.7115302703],[1445558400000,1.7118274363],[1445817600000,1.7121246349],[1445904000000,1.7124218661],[1445990400000,1.7127191298],[1446076800000,1.7130164261],[1446163200000,1.713313755],[1446422400000,1.7136111164],[1446508800000,1.7139085105],[1446595200000,1.7142059371],[1446681600000,1.7145033964],[1446768000000,1.7148008882],[1447027200000,1.7150984126],[1447113600000,1.7153959697],[1447200000000,1.7156935593],[1447286400000,1.7159911816],[1447372800000,1.7162888365],[1447632000000,1.716586524],[1447718400000,1.7168842441],[1447804800000,1.7171819968],[1447891200000,1.7174797822],[1447977600000,1.7177776002],[1448236800000,1.7180754509],[1448323200000,1.7183733342],[1448409600000,1.7186712501],[1448496000000,1.7189691987],[1448582400000,1.7192671799],[1448841600000,1.7195651938],[1448928000000,1.7198632404],[1449014400000,1.7201613196],[1449100800000,1.7204594315],[1449187200000,1.720757576],[1449446400000,1.7210557532],[1449532800000,1.7213539631],[1449619200000,1.7216522057],[1449705600000,1.721950481],[1449792000000,1.7222487889],[1450051200000,1.7225471296],[1450137600000,1.7228455029],[1450224000000,1.723143909],[1450310400000,1.7234423477],[1450396800000,1.7237408191],[1450656000000,1.7240393233],[1450742400000,1.7240408549],[1450828800000,1.7280809441],[1450915200000,1.7142729894],[1451001600000,1.6960345204],[1451260800000,1.7068498676],[1451347200000,1.6197249482],[1451433600000,1.6476254234],[1451520000000,1.6462201103],[1451865600000,1.621696331],[1451952000000,1.3814076522],[1452038400000,1.3816686404],[1452124800000,1.3819296572],[1452211200000,1.3821907026],[1452470400000,1.3824517766],[1452556800000,1.3827128792],[1452643200000,1.3829740104],[1452729600000,1.3832351703],[1452816000000,1.3834963587],[1453075200000,1.3837575758],[1453161600000,1.3840188215],[1453248000000,1.3842800959],[1453334400000,1.3845413989],[1453420800000,1.3848027305],[1453680000000,1.3850640907],[1453766400000,1.3853254796],[1453852800000,1.3855868972],[1453939200000,1.3858483434],[1454025600000,1.3861098182],[1454284800000,1.3863713217],[1454371200000,1.3866328539],[1454457600000,1.3868944147],[1454544000000,1.3871560041],[1454630400000,1.3874176223],[1455494400000,1.3876792691],[1455580800000,1.3879409446],[1455667200000,1.3882026488],[1455753600000,1.3884643816],[1455840000000,1.3887261432],[1456099200000,1.3889879334],[1456185600000,1.3892497523],[1456272000000,1.3895115999],[1456358400000,1.3897734762],[1456444800000,1.3900353812],[1456704000000,1.3902973149],[1456790400000,1.3905592773],[1456876800000,1.3908212684],[1456963200000,1.3910832882],[1457049600000,1.3913453367],[1457308800000,1.391607414],[1457395200000,1.3918695199],[1457481600000,1.3921316546],[1457568000000,1.3923938181],[1457654400000,1.3926560102],[1457913600000,1.3929182311],[1458000000000,1.3931804807],[1458086400000,1.3934427591],[1458172800000,1.3937050662],[1458259200000,1.3939674021],[1458518400000,1.3942297667],[1458604800000,1.39449216],[1458691200000,1.3947545821],[1458777600000,1.395017033],[1458864000000,1.3952795126],[1459123200000,1.395542021],[1459209600000,1.3958045582],[1459296000000,1.3960671241],[1459382400000,1.3963297188],[1459468800000,1.3965923423],[1459814400000,1.3968549946],[1459900800000,1.3971176756],[1459987200000,1.3973803855],[1460073600000,1.3976431241],[1460332800000,1.3979058915],[1460419200000,1.3981686877],[1460505600000,1.3984315127],[1460592000000,1.3984322273],[1460678400000,1.4004475211],[1460937600000,1.3806017108],[1461024000000,1.3742521215],[1461110400000,1.3743769228],[1461196800000,1.3135461042],[1461283200000,1.3002330782],[1461542400000,1.3164234191],[1461628800000,1.3127964319],[1461715200000,1.3289721745],[1461801600000,1.3197758977],[1461888000000,1.3082511762],[1462233600000,1.3128357893],[1462320000000,1.3446975133],[1462406400000,1.3452091729],[1462492800000,1.3517572711],[1462752000000,1.28068671],[1462838400000,1.2809366602],[1462924800000,1.2811866379],[1463011200000,1.281436643],[1463097600000,1.2816866754],[1463356800000,1.2819367353],[1463443200000,1.2821868226],[1463529600000,1.2824369373],[1463616000000,1.2826870793],[1463702400000,1.2829372488],[1463961600000,1.2831874458],[1464048000000,1.2834376701],[1464134400000,1.2836879218],[1464220800000,1.283938201],[1464307200000,1.2841885076],[1464566400000,1.2844388417],[1464652800000,1.2846892031],[1464739200000,1.284939592],[1464825600000,1.2851900084],[1464912000000,1.2854404522],[1465171200000,1.2856909234],[1465257600000,1.2859414221],[1465344000000,1.2861919482],[1465776000000,1.2864425018],[1465862400000,1.2866930829],[1465948800000,1.2869436914],[1466035200000,1.2871943274],[1466121600000,1.2874449908],[1466380800000,1.2876956817],[1466467200000,1.2879464001],[1466553600000,1.288197146],[1466640000000,1.2884479193],[1466726400000,1.2886987201],[1466985600000,1.2889495485],[1467072000000,1.2892004042],[1467158400000,1.2894512875],[1467244800000,1.2897021983],[1467331200000,1.2899531366],[1467590400000,1.2902041024],[1467676800000,1.2904550957],[1467763200000,1.2907061164],[1467849600000,1.2909571647],[1467936000000,1.2912082405],[1468195200000,1.2914593439],[1468281600000,1.2917104747],[1468368000000,1.2917105029],[1468454400000,1.2941322657],[1468540800000,1.2950771903],[1468800000000,1.2886939181],[1468886400000,1.2821986581],[1468972800000,1.2727007272],[1469059200000,1.2667374089],[1469145600000,1.2757664476],[1469404800000,1.254019859],[1469491200000,1.259661269],[1469577600000,1.2889530871],[1469664000000,1.2430241487],[1469750400000,1.2519342005],[1470009600000,1.2374038211],[1470096000000,1.2215365882],[1470182400000,1.2256801623],[1470268800000,1.2332883568],[1470355200000,1.2408475566],[1470614400000,1.2396017214],[1470700800000,1.2627202161],[1470787200000,1.2785245124],[1470873600000,1.2675917387],[1470960000000,1.2621673614],[1471219200000,1.3123238931],[1471305600000,1.3822532579],[1471392000000,1.3643282505],[1471478400000,1.3588548786],[1471564800000,1.3508757813],[1471824000000,1.3551663394],[1471910400000,1.3327268268],[1471996800000,1.3392431409],[1472083200000,1.3197503054],[1472169600000,1.3186444549],[1472428800000,1.314493938],[1472515200000,1.3171186787],[1472601600000,1.3172866886],[1472688000000,1.3286114758],[1472774400000,1.3089996534],[1473033600000,1.3245939727],[1473120000000,1.3253079228],[1473206400000,1.3407342605],[1473292800000,1.3364997529],[1473379200000,1.3374516769],[1473638400000,1.2902068827],[1473724800000,1.2856364119],[1473811200000,1.2719179436],[1474243200000,1.2698182021],[1474329600000,1.2851605491],[1474416000000,1.2802961105],[1474502400000,1.2969263163],[1474588800000,1.3044925155],[1474848000000,1.28728143],[1474934400000,1.250558103],[1475020800000,1.2508047515],[1475107200000,1.2510514271],[1475193600000,1.2512981296],[1476057600000,1.2515448592],[1476144000000,1.2517916159],[1476230400000,1.2520383996],[1476316800000,1.2522852103],[1476403200000,1.2525320481],[1476662400000,1.2527789129],[1476748800000,1.2530258048],[1476835200000,1.2532727238],[1476921600000,1.2535196698],[1477008000000,1.2537666429],[1477267200000,1.254013643],[1477353600000,1.2542606702],[1477440000000,1.2545077245],[1477526400000,1.2547548058],[1477612800000,1.2550019143],[1477872000000,1.2552490498],[1477958400000,1.2554962124],[1478044800000,1.255743402],[1478131200000,1.2559906188],[1478217600000,1.2562378627],[1478476800000,1.2564851336],[1478563200000,1.2567324317],[1478649600000,1.2569797568],[1478736000000,1.2572271091],[1478822400000,1.2574744884],[1479081600000,1.2574753372],[1479168000000,1.2704437651],[1479254400000,1.2727939566],[1479340800000,1.2668818537],[1479427200000,1.2761348889],[1479686400000,1.2597431347],[1479772800000,1.2799179732],[1479859200000,1.3001654038],[1479945600000,1.2968072215],[1480032000000,1.3108183358],[1480291200000,1.3429180679],[1480377600000,1.334485042],[1480464000000,1.3554319964],[1480550400000,1.3464050358],[1480636800000,1.3568393425],[1480896000000,1.3000336181],[1480982400000,1.2951180072],[1481068800000,1.2899252268],[1481155200000,1.3053947821],[1481241600000,1.2942164578],[1481500800000,1.3103195438],[1481587200000,1.2475876694],[1481673600000,1.2510201442],[1481760000000,1.2275605662],[1481846400000,1.2089946944],[1482105600000,1.209236788],[1482192000000,1.2094789082],[1482278400000,1.2097210548],[1482364800000,1.2099632281],[1482451200000,1.2102054278],[1482710400000,1.2104476541],[1482796800000,1.210689907],[1482883200000,1.2109321864],[1482969600000,1.2111744923],[1483056000000,1.2114168248],[1483401600000,1.2116591839],[1483488000000,1.2119015695],[1483574400000,1.2121439817],[1483660800000,1.2123864204],[1483920000000,1.2126288858],[1484006400000,1.2128713776],[1484092800000,1.2131138961],[1484179200000,1.2133564411],[1484265600000,1.2135990128],[1484524800000,1.213841611],[1484611200000,1.2140842358],[1484697600000,1.2143268871],[1484784000000,1.2145695651],[1484870400000,1.2148122697],[1485129600000,1.2150550008],[1485216000000,1.2152977586],[1485302400000,1.215540543],[1485388800000,1.2157833539],[1486080000000,1.2160261915],[1486339200000,1.2162690557],[1486425600000,1.2165119465],[1486512000000,1.2167548639],[1486598400000,1.216997808],[1486684800000,1.2172407787],[1486944000000,1.217483776],[1487030400000,1.2177267999],[1487116800000,1.2179698505],[1487203200000,1.2182129277],[1487289600000,1.2184560315],[1487548800000,1.218699162],[1487635200000,1.2189423191],[1487721600000,1.2191855029],[1487808000000,1.2194287133],[1487894400000,1.2196719504],[1488153600000,1.2199152141],[1488240000000,1.2201585045],[1488326400000,1.2204018215],[1488412800000,1.2206451653],[1488499200000,1.2208885356],[1488758400000,1.2211319327],[1488844800000,1.2213753564],[1488931200000,1.2216188068],[1489017600000,1.2218622839],[1489104000000,1.2221057877],[1489363200000,1.2223493181],[1489449600000,1.2225928753],[1489536000000,1.2228364591],[1489622400000,1.2230800696],[1489708800000,1.2233237069],[1489968000000,1.2235673708],[1490054400000,1.2238110614],[1490140800000,1.2240547787],[1490227200000,1.2242985228],[1490313600000,1.2245422935],[1490572800000,1.2245452496],[1490659200000,1.2191874934],[1490745600000,1.2146045527],[1490832000000,1.2074577932],[1490918400000,1.1905786007],[1491350400000,1.2167866865],[1491436800000,1.2366765651],[1491523200000,1.2407488775],[1491782400000,1.2439077903],[1491868800000,1.2340649282],[1491955200000,1.2408333461],[1492041600000,1.2318345922],[1492128000000,1.242250311],[1492387200000,1.2163820065],[1492473600000,1.2158495257],[1492560000000,1.2020569985],[1492646400000,1.1967244444],[1492732800000,1.2073543414],[1492992000000,1.2053667214],[1493078400000,1.1861567892],[1493164800000,1.1940464874],[1493251200000,1.1908053058],[1493337600000,1.1936240604],[1493683200000,1.1862883281],[1493769600000,1.1826471334],[1493856000000,1.1828863396],[1493942400000,1.183125572],[1494201600000,1.1833648307],[1494288000000,1.1836041155],[1494374400000,1.1838434266],[1494460800000,1.1840827639],[1494547200000,1.1843221275],[1494806400000,1.1845615173],[1494892800000,1.1848009333],[1494979200000,1.1850403755],[1495065600000,1.185279844],[1495152000000,1.1855193388],[1495411200000,1.1857588597],[1495497600000,1.185998407],[1495584000000,1.1862379804],[1495670400000,1.1864775802],[1495756800000,1.1867172062],[1496188800000,1.1869568584],[1496275200000,1.1871965369],[1496361600000,1.1874362417],[1496620800000,1.1876759728],[1496707200000,1.1879157301],[1496793600000,1.1881555137],[1496880000000,1.1883953235],[1496966400000,1.1886351597],[1497225600000,1.1888750221],[1497312000000,1.1891149109],[1497398400000,1.1893548259],[1497484800000,1.1895947672],[1497571200000,1.1898347348],[1497830400000,1.1900747287],[1497916800000,1.1903147489],[1498003200000,1.1905547954],[1498089600000,1.1907948682],[1498176000000,1.1910349673],[1498435200000,1.1910366299],[1498521600000,1.2141717575],[1498608000000,1.2133215138],[1498694400000,1.2043781572],[1498780800000,1.2076674602],[1499040000000,1.2151683019],[1499126400000,1.2029313068],[1499212800000,1.1819772671],[1499299200000,1.2075721264],[1499385600000,1.2034222456],[1499644800000,1.2036038903],[1499731200000,1.2029696246],[1499817600000,1.2184195964],[1499904000000,1.2086543317],[1499990400000,1.2244162696],[1500249600000,1.2352167515],[1500336000000,1.2039438444],[1500422400000,1.2113726961],[1500508800000,1.2499321364],[1500595200000,1.2577569452],[1500854400000,1.2494795187],[1500940800000,1.2604359846],[1501027200000,1.2485829503],[1501113600000,1.2353740648],[1501200000000,1.2369535588],[1501459200000,1.2483179807],[1501545600000,1.2581045757],[1501632000000,1.275774307],[1501718400000,1.2679288347],[1501804800000,1.2496985006],[1502064000000,1.2356017137],[1502150400000,1.2494678625],[1502236800000,1.2516892877],[1502323200000,1.2498491581],[1502409600000,1.2276352615],[1502668800000,1.2057093335],[1502755200000,1.2323480835],[1502841600000,1.2355594011],[1502928000000,1.23912468],[1503014400000,1.2391983419],[1503273600000,1.2539883911],[1503360000000,1.2623351466],[1503446400000,1.2634526946],[1503532800000,1.2684218206],[1503619200000,1.2566647799],[1503878400000,1.2982838899],[1503964800000,1.318395357],[1504051200000,1.315451351],[1504137600000,1.3163949191],[1504224000000,1.310097281],[1504483200000,1.3120187423],[1504569600000,1.3222252959],[1504656000000,1.322946889],[1504742400000,1.3259122365],[1504828800000,1.3129433304],[1505088000000,1.3119071168],[1505174400000,1.3142485332],[1505260800000,1.3162359885],[1505347200000,1.3210491344],[1505433600000,1.3105939538],[1505692800000,1.3146871789],[1505779200000,1.3248397402],[1505865600000,1.3130047113],[1505952000000,1.3208715235],[1506038400000,1.3107943023],[1506297600000,1.3124517953],[1506384000000,1.3011207119],[1506470400000,1.3062998193],[1506556800000,1.3078793214],[1506643200000,1.3100467593],[1507507200000,1.3609888521],[1507593600000,1.3447263101],[1507680000000,1.3470197347],[1507766400000,1.3561404113],[1507852800000,1.3627173668],[1508112000000,1.3706981687],[1508198400000,1.3614068636],[1508284800000,1.3638262753],[1508371200000,1.3792822585],[1508457600000,1.3660553852],[1508716800000,1.3734722498],[1508803200000,1.3706782336],[1508889600000,1.3898418112],[1508976000000,1.4029700505],[1509062400000,1.4104709066],[1509321600000,1.428236638],[1509408000000,1.4121780764],[1509494400000,1.4196909317],[1509580800000,1.411401519],[1509667200000,1.4103593123],[1509926400000,1.4084591998],[1510012800000,1.4283906949],[1510099200000,1.4458444618],[1510185600000,1.440794695],[1510272000000,1.4571205858],[1510531200000,1.4842812894],[1510617600000,1.4925140676],[1510704000000,1.4654827104],[1510790400000,1.4530537532],[1510876800000,1.4714074228],[1511136000000,1.4711991267],[1511222400000,1.4940703015],[1511308800000,1.5519776369],[1511395200000,1.5429863039],[1511481600000,1.4686501322],[1511740800000,1.4683278495],[1511827200000,1.4355011291],[1511913600000,1.451785027],[1512000000000,1.4353845068],[1512086400000,1.4171181914],[1512345600000,1.4084148281],[1512432000000,1.4197492691],[1512518400000,1.4312576912],[1512604800000,1.4171369221],[1512691200000,1.3929518258],[1512950400000,1.3932140791],[1513036800000,1.3934763612],[1513123200000,1.393738672],[1513209600000,1.3940010115],[1513296000000,1.3942633798],[1513555200000,1.3945257768],[1513641600000,1.3947882026],[1513728000000,1.3950506572],[1513814400000,1.3953131405],[1513900800000,1.3955756526],[1514160000000,1.3958381934],[1514246400000,1.3961007631],[1514332800000,1.3963633614],[1514419200000,1.3966259886],[1514505600000,1.3968886446],[1514851200000,1.3971513293],[1514937600000,1.3974140428],[1515024000000,1.3976767852],[1515110400000,1.3979395563],[1515369600000,1.3982023562],[1515456000000,1.3984651849],[1515542400000,1.3987280424],[1515628800000,1.3989909287],[1515715200000,1.3992538438],[1515974400000,1.3992572315],[1516060800000,1.3912982921],[1516147200000,1.417148448],[1516233600000,1.4158079841],[1516320000000,1.4284435889],[1516579200000,1.4253897135],[1516665600000,1.4648183828],[1516752000000,1.4886527615],[1516838400000,1.4844734105],[1516924800000,1.4678130277],[1517184000000,1.4873246812],[1517270400000,1.4311214326],[1517356800000,1.4016888506],[1517443200000,1.4253384518],[1517529600000,1.3904016737],[1517788800000,1.3850968487],[1517875200000,1.3727088003],[1517961600000,1.3858203578],[1518048000000,1.283433373],[1518134400000,1.2127260243],[1518393600000,1.2129685268],[1518480000000,1.2132110559],[1518566400000,1.2134536116],[1519257600000,1.2136961939],[1519344000000,1.2139388027],[1519603200000,1.2141814382],[1519689600000,1.2144241002],[1519776000000,1.2146667888],[1519862400000,1.214909504],[1519948800000,1.2151522459],[1520208000000,1.2153950143],[1520294400000,1.2156378093],[1520380800000,1.2158806309],[1520467200000,1.2161234792],[1520553600000,1.216366354],[1520812800000,1.2166092555],[1520899200000,1.2168521836],[1520985600000,1.2170951383],[1521072000000,1.2173381197],[1521158400000,1.2175811276],[1521417600000,1.2178241622],[1521504000000,1.2180672235],[1521590400000,1.2183103113],[1521676800000,1.2185534258],[1521763200000,1.218796567],[1522022400000,1.2190397348],[1522108800000,1.2192829292],[1522195200000,1.2195261503],[1522281600000,1.2197693981],[1522368000000,1.2200126725],[1522627200000,1.2202559736],[1522713600000,1.2204993013],[1522800000000,1.2207426557],[1523232000000,1.2209860368],[1523318400000,1.2212294445],[1523404800000,1.2214728789],[1523491200000,1.22171634],[1523577600000,1.2219598278],[1523836800000,1.2222033422],[1523923200000,1.2224468834],[1524009600000,1.2226904512],[1524096000000,1.2229340457],[1524182400000,1.223177667],[1524441600000,1.2234213149],[1524528000000,1.2236649895],[1524614400000,1.2239086908],[1524700800000,1.2241524189],[1524787200000,1.2243961736],[1525219200000,1.2246399551],[1525305600000,1.2248837632],[1525392000000,1.2251275981],[1525651200000,1.2253714597],[1525737600000,1.2256153481],[1525824000000,1.2258592631],[1525910400000,1.2261032049],[1525996800000,1.2263471734],[1526256000000,1.2265911687],[1526342400000,1.2268351907],[1526428800000,1.2270792394],[1526515200000,1.2273233149],[1526601600000,1.2275674172],[1526860800000,1.2278115462],[1526947200000,1.2280557019],[1527033600000,1.2282998844],[1527120000000,1.2285440936],[1527206400000,1.2287883297],[1527465600000,1.2290325925],[1527552000000,1.229276882],[1527638400000,1.2295211983],[1527724800000,1.2297655414],[1527811200000,1.2300099113],[1528070400000,1.230254308],[1528156800000,1.2304987314],[1528243200000,1.2307431816],[1528329600000,1.2309876587],[1528416000000,1.2312321625],[1528675200000,1.2314766931],[1528761600000,1.2317212505],[1528848000000,1.2319658347],[1528934400000,1.2322104457],[1529020800000,1.2324550835],[1529366400000,1.2326997481],[1529452800000,1.2329444395],[1529539200000,1.2331891578],[1529625600000,1.2334339029],[1529884800000,1.2336786747],[1529971200000,1.2339234735],[1530057600000,1.234168299],[1530144000000,1.2344131514],[1530230400000,1.2346580306],[1530489600000,1.2349029366],[1530576000000,1.2351478695],[1530662400000,1.2353928292],[1530748800000,1.2356378158],[1530835200000,1.2358828292],[1531094400000,1.2361278695],[1531180800000,1.2363729366],[1531267200000,1.2366180306],[1531353600000,1.2368631514],[1531440000000,1.2371082991],[1531699200000,1.2373534737],[1531785600000,1.2375986751],[1531872000000,1.2378439034],[1531958400000,1.2380891586],[1532044800000,1.2383344406],[1532304000000,1.2385797496],[1532390400000,1.2388250854],[1532476800000,1.2390704481],[1532563200000,1.2393158377],[1532649600000,1.2395612542],[1532908800000,1.2398066975],[1532995200000,1.2400521678],[1533081600000,1.240297665]]},{\"name\":\"close\",\"yAxis\":0,\"data\":[[1199232000000,0.0],[1199318400000,0.0068578114],[1199404800000,0.0183004958],[1199664000000,0.0318452768],[1199750400000,0.0265454681],[1199836800000,0.042461607],[1199923200000,0.0533044883],[1200009600000,0.0583183228],[1200268800000,0.0643739206],[1200355200000,0.0578169393],[1200441600000,0.0223988412],[1200528000000,-0.0036173887],[1200614400000,0.0054539377],[1200873600000,-0.044450428],[1200960000000,-0.117217879],[1201046400000,-0.0761341479],[1201132800000,-0.0664593044],[1201219200000,-0.0571335723],[1201478400000,-0.1213013686],[1201564800000,-0.1156933019],[1201651200000,-0.1252437281],[1201737600000,-0.142002934],[1201824000000,-0.1510018384],[1202083200000,-0.0807747303],[1202169600000,-0.0860281146],[1202860800000,-0.105665633],[1202947200000,-0.0937494197],[1203033600000,-0.1061800152],[1203292800000,-0.0880410763],[1203379200000,-0.0676589107],[1203465600000,-0.0884626098],[1203552000000,-0.0945330635],[1203638400000,-0.1268054447],[1203897600000,-0.1606878238],[1203984000000,-0.1614770385],[1204070400000,-0.138405972],[1204156800000,-0.1416946761],[1204243200000,-0.1319474104],[1204502400000,-0.1103712094],[1204588800000,-0.1325787822],[1204675200000,-0.1404579302],[1204761600000,-0.1300012999],[1204848000000,-0.1417633842],[1205107200000,-0.1770644928],[1205193600000,-0.175283653],[1205280000000,-0.1997084548],[1205366400000,-0.2202633192],[1205452800000,-0.2278936324],[1205712000000,-0.263657128],[1205798400000,-0.3010436204],[1205884800000,-0.2778481365],[1205971200000,-0.2568698817],[1206057600000,-0.2501847691],[1206316800000,-0.2837477484],[1206403200000,-0.2747079906],[1206489600000,-0.2731109914],[1206576000000,-0.3038346549],[1206662400000,-0.2724071976],[1206921600000,-0.2961077789],[1207008000000,-0.3346734508],[1207094400000,-0.3411487252],[1207180800000,-0.3220738705],[1207526400000,-0.2858405601],[1207612800000,-0.2774396019],[1207699200000,-0.3151250673],[1207785600000,-0.302757609],[1207872000000,-0.2973705224],[1208131200000,-0.3433121019],[1208217600000,-0.3345898869],[1208304000000,-0.3511689662],[1208390400000,-0.3711110286],[1208476800000,-0.3923046926],[1208736000000,-0.3932238956],[1208822400000,-0.3878888043],[1208908800000,-0.3586507214],[1208995200000,-0.299084511],[1209081600000,-0.2937791313],[1209340800000,-0.3075058959],[1209427200000,-0.2986314089],[1209513600000,-0.2648010251],[1209945600000,-0.2468514977],[1210032000000,-0.2551874617],[1210118400000,-0.2903901506],[1210204800000,-0.2711295983],[1210291200000,-0.2796939704],[1210550400000,-0.2748658335],[1210636800000,-0.2847505153],[1210723200000,-0.2617073035],[1210809600000,-0.2668492693],[1210896000000,-0.2690720692],[1211155200000,-0.2731667007],[1211241600000,-0.3109097324],[1211328000000,-0.2974967967],[1211414400000,-0.3107945999],[1211500800000,-0.3175335648],[1211760000000,-0.3390614845],[1211846400000,-0.3359083397],[1211932800000,-0.3173330115],[1212019200000,-0.335041132],[1212105600000,-0.3293847839],[1212364800000,-0.3266921691],[1212451200000,-0.3288685447],[1212537600000,-0.3413455646],[1212624000000,-0.3478041262],[1212710400000,-0.3520083193],[1213056000000,-0.4045495905],[1213142400000,-0.4168539117],[1213228800000,-0.4271916956],[1213315200000,-0.4467846465],[1213574400000,-0.4517761973],[1213660800000,-0.4721212234],[1213747200000,-0.444528421],[1213833600000,-0.4850457745],[1213920000000,-0.4708231973],[1214179200000,-0.4819149134],[1214265600000,-0.4704053778],[1214352000000,-0.4485636293],[1214438400000,-0.4464522479],[1214524800000,-0.4770719207],[1214784000000,-0.4815658019],[1214870400000,-0.4989229541],[1214956800000,-0.4986908321],[1215043200000,-0.4873614232],[1215129600000,-0.4908451097],[1215388800000,-0.4646784647],[1215475200000,-0.461135355],[1215561600000,-0.4400976769],[1215648000000,-0.4477855564],[1215734400000,-0.4515422183],[1215993600000,-0.4473881636],[1216080000000,-0.4702085384],[1216166400000,-0.4901487438],[1216252800000,-0.4952609979],[1216339200000,-0.4771759113],[1216598400000,-0.4594250803],[1216684800000,-0.460596832],[1216771200000,-0.464574474],[1216857600000,-0.4471114743],[1216944000000,-0.4541976936],[1217203200000,-0.4501773412],[1217289600000,-0.4604315612],[1217376000000,-0.4643776346],[1217462400000,-0.4790793114],[1217548800000,-0.4724721918],[1217808000000,-0.4850327756],[1217894400000,-0.4980446046],[1217980800000,-0.4945887727],[1218067200000,-0.4948208947],[1218153600000,-0.5187721676],[1218412800000,-0.5437763458],[1218499200000,-0.5461254201],[1218585600000,-0.5460307144],[1218672000000,-0.5462461236],[1218758400000,-0.5454847635],[1219017600000,-0.5704072348],[1219104000000,-0.5638948209],[1219190400000,-0.5296391896],[1219276800000,-0.5461588457],[1219363200000,-0.5534103359],[1219622400000,-0.5542236913],[1219708800000,-0.5670405378],[1219795200000,-0.5681992906],[1219881600000,-0.5662364673],[1219968000000,-0.5558782567],[1220227200000,-0.5711927355],[1220313600000,-0.5756049098],[1220400000000,-0.5829306791],[1220486400000,-0.5819669087],[1220572800000,-0.5945423483],[1220832000000,-0.6051103972],[1220918400000,-0.6027650369],[1221004800000,-0.6020166756],[1221091200000,-0.6152104882],[1221177600000,-0.6141482981],[1221523200000,-0.6284841507],[1221609600000,-0.6417633842],[1221696000000,-0.6479192587],[1221782400000,-0.6150285046],[1222041600000,-0.590052181],[1222128000000,-0.6056749178],[1222214400000,-0.6028207461],[1222300800000,-0.5870958757],[1222387200000,-0.5833577835],[1223251200000,-0.6047055765],[1223337600000,-0.6095801378],[1223424000000,-0.6243560937],[1223510400000,-0.6294776327],[1223596800000,-0.6458821563],[1223856000000,-0.6312993259],[1223942400000,-0.6407457615],[1224028800000,-0.6445079943],[1224115200000,-0.6618632894],[1224201600000,-0.6595680674],[1224460800000,-0.6477818425],[1224547200000,-0.6506267293],[1224633600000,-0.6595569256],[1224720000000,-0.6592858071],[1224806400000,-0.6691612041],[1225065600000,-0.692731797],[1225152000000,-0.6832333661],[1225238400000,-0.6920725706],[1225324800000,-0.6847486583],[1225411200000,-0.6910623758],[1225670400000,-0.6929416353],[1225756800000,-0.6977289187],[1225843200000,-0.6859074112],[1225929600000,-0.6936398581],[1226016000000,-0.6884310412],[1226275200000,-0.6654342538],[1226361600000,-0.6692057715],[1226448000000,-0.6654063991],[1226534400000,-0.6519878925],[1226620800000,-0.6390689124],[1226880000000,-0.6309780691],[1226966400000,-0.6583498914],[1227052800000,-0.6373029285],[1227139200000,-0.6411524391],[1227225600000,-0.6433251007],[1227484800000,-0.6587547121],[1227571200000,-0.6593767989],[1227657600000,-0.6576683813],[1227744000000,-0.6526582608],[1227830400000,-0.6601882973],[1228089600000,-0.6538225845],[1228176000000,-0.6529999443],[1228262400000,-0.6373939203],[1228348800000,-0.6317747117],[1228435200000,-0.6261573601],[1228694400000,-0.6109561568],[1228780800000,-0.6210191083],[1228867200000,-0.6107054651],[1228953600000,-0.6199996286],[1229040000000,-0.635962192],[1229299200000,-0.6332417225],[1229385600000,-0.6296354757],[1229472000000,-0.6283411636],[1229558400000,-0.6202298936],[1229644800000,-0.6189281536],[1229904000000,-0.6253458617],[1229990400000,-0.6436556424],[1230076800000,-0.649575681],[1230163200000,-0.6526025515],[1230249600000,-0.6542125494],[1230508800000,-0.6555755696],[1230595200000,-0.6595346419],[1230681600000,-0.6624538077],[1231113600000,-0.6503388981],[1231200000000,-0.6392267553],[1231286400000,-0.6413845611],[1231372800000,-0.6494048393],[1231459200000,-0.643765204],[1231718400000,-0.6433325286],[1231804800000,-0.6515960706],[1231891200000,-0.6369166775],[1231977600000,-0.6369853856],[1232064000000,-0.6304228334],[1232323200000,-0.6262910624],[1232409600000,-0.6239271323],[1232496000000,-0.6245733598],[1232582400000,-0.6203320273],[1232668800000,-0.6225362575],[1233532800000,-0.6180089506],[1233619200000,-0.6083805315],[1233705600000,-0.597702921],[1233792000000,-0.6005700915],[1233878400000,-0.584542534],[1234137600000,-0.5735139552],[1234224000000,-0.5679281722],[1234310400000,-0.5671129598],[1234396800000,-0.5694898888],[1234483200000,-0.5545003807],[1234742400000,-0.542766151],[1234828800000,-0.5570574363],[1234915200000,-0.5773820356],[1235001600000,-0.5731908414],[1235088000000,-0.5646654658],[1235347200000,-0.5523797144],[1235433600000,-0.5725520417],[1235520000000,-0.5721063676],[1235606400000,-0.5932870327],[1235692800000,-0.6025162021],[1235952000000,-0.5980260348],[1236038400000,-0.6022079441],[1236124800000,-0.5756531912],[1236211200000,-0.5719819502],[1236297600000,-0.5753876437],[1236556800000,-0.5909955247],[1236643200000,-0.5838925925],[1236729600000,-0.587680823],[1236816000000,-0.5885498877],[1236902400000,-0.5904588587],[1237161600000,-0.5837384635],[1237248000000,-0.5687359566],[1237334400000,-0.5668325565],[1237420800000,-0.5575643906],[1237507200000,-0.558069488],[1237766400000,-0.5470093406],[1237852800000,-0.5447104046],[1237939200000,-0.5540788472],[1238025600000,-0.5395090156],[1238112000000,-0.5359547641],[1238371200000,-0.538636237],[1238457600000,-0.5343094836],[1238544000000,-0.5268017307],[1238630400000,-0.5215687731],[1238716800000,-0.5226643888],[1239062400000,-0.5214666394],[1239148800000,-0.5395907225],[1239235200000,-0.5324747916],[1239321600000,-0.5180163785],[1239580800000,-0.5066906836],[1239667200000,-0.5029117379],[1239753600000,-0.5010324785],[1239840000000,-0.5010101948],[1239926400000,-0.5077733004],[1240185600000,-0.4971922527],[1240272000000,-0.5031772855],[1240358400000,-0.5215910568],[1240444800000,-0.5183822027],[1240531200000,-0.5222205716],[1240790400000,-0.5332881469],[1240876800000,-0.5323150916],[1240963200000,-0.5161891144],[1241049600000,-0.512928265],[1241395200000,-0.4959610778],[1241481600000,-0.4936008616],[1241568000000,-0.4865499248],[1241654400000,-0.4861599599],[1241740800000,-0.4820486156],[1242000000000,-0.4939146905],[1242086400000,-0.482171176],[1242172800000,-0.4774470298],[1242259200000,-0.4814209578],[1242345600000,-0.4807673024],[1242604800000,-0.4780839724],[1242691200000,-0.4726040371],[1242777600000,-0.477658725],[1242864000000,-0.4893298175],[1242950400000,-0.4910623758],[1243209600000,-0.488826577],[1243296000000,-0.494947169],[1243382400000,-0.487528551],[1243814400000,-0.4692131994],[1243900800000,-0.4679578838],[1243987200000,-0.4541624111],[1244073600000,-0.4514957939],[1244160000000,-0.4541772669],[1244419200000,-0.4524744202],[1244505600000,-0.4502311935],[1244592000000,-0.4448403929],[1244678400000,-0.4500324971],[1244764800000,-0.4603090008],[1245024000000,-0.4491857161],[1245110400000,-0.4501086331],[1245196800000,-0.4409407439],[1245283200000,-0.4322426696],[1245369600000,-0.4280514754],[1245628800000,-0.4275760896],[1245715200000,-0.4273272548],[1245801600000,-0.4204880132],[1245888000000,-0.4210098234],[1245974400000,-0.4190599989],[1246233600000,-0.409487289],[1246320000000,-0.4119942062],[1246406400000,-0.3987298286],[1246492800000,-0.3904737145],[1246579200000,-0.3821581772],[1246838400000,-0.3733171157],[1246924800000,-0.3796791146],[1247011200000,-0.3774915972],[1247097600000,-0.369315333],[1247184000000,-0.3689420809],[1247443200000,-0.3758686004],[1247529600000,-0.3584613099],[1247616000000,-0.3513026685],[1247702400000,-0.3498282297],[1247788800000,-0.3463798258],[1248048000000,-0.3331377319],[1248134400000,-0.3426621604],[1248220800000,-0.3302037102],[1248307200000,-0.3218380346],[1248393600000,-0.3189430094],[1248652800000,-0.304816995],[1248739200000,-0.3025533416],[1248825600000,-0.3391933297],[1248912000000,-0.325022748],[1248998400000,-0.3064901302],[1249257600000,-0.2967577204],[1249344000000,-0.2968357134],[1249430400000,-0.3053165215],[1249516800000,-0.3197675066],[1249603200000,-0.3398284154],[1249862400000,-0.3417875248],[1249948800000,-0.3395888656],[1250035200000,-0.3691110657],[1250121600000,-0.3610480771],[1250208000000,-0.3789418952],[1250467200000,-0.4168594826],[1250553600000,-0.4109691556],[1250640000000,-0.4402016676],[1250726400000,-0.4160944086],[1250812800000,-0.4050955414],[1251072000000,-0.4002711185],[1251158400000,-0.4225121168],[1251244800000,-0.4108948766],[1251331200000,-0.4138827506],[1251417600000,-0.4342203487],[1251676800000,-0.4744257303],[1251763200000,-0.4719318119],[1251849600000,-0.4631613155],[1251936000000,-0.4332584353],[1252022400000,-0.4285825704],[1252281600000,-0.4235557371],[1252368000000,-0.4111585672],[1252454400000,-0.4067129673],[1252540800000,-0.4126552896],[1252627200000,-0.3986871182],[1252886400000,-0.3884254703],[1252972800000,-0.3867077677],[1253059200000,-0.39495274],[1253145600000,-0.3834654881],[1253232000000,-0.4058253329],[1253491200000,-0.4041707675],[1253577600000,-0.4185753282],[1253664000000,-0.431752428],[1253750400000,-0.4278787766],[1253836800000,-0.4320384023],[1254096000000,-0.4479879668],[1254182400000,-0.4480529609],[1254268800000,-0.4420159329],[1255046400000,-0.4125067315],[1255305600000,-0.4147499582],[1255392000000,-0.406042599],[1255478400000,-0.4006796531],[1255564800000,-0.3984067148],[1255651200000,-0.3980223208],[1255910400000,-0.3817830681],[1255996800000,-0.3727934486],[1256083200000,-0.3743328815],[1256169600000,-0.3784108002],[1256256000000,-0.3661677592],[1256515200000,-0.3659839186],[1256601600000,-0.384464541],[1256688000000,-0.3817514995],[1256774400000,-0.3970306958],[1256860800000,-0.3908432527],[1257120000000,-0.3699652746],[1257206400000,-0.362048987],[1257292800000,-0.3586210098],[1257379200000,-0.3566841841],[1257465600000,-0.3532116395],[1257724800000,-0.3508402815],[1257811200000,-0.3493565579],[1257897600000,-0.3508625652],[1257984000000,-0.3500603517],[1258070400000,-0.3465822362],[1258329600000,-0.3266977401],[1258416000000,-0.3262242112],[1258502400000,-0.3258750998],[1258588800000,-0.3236077324],[1258675200000,-0.3257302557],[1258934400000,-0.3193236894],[1259020800000,-0.3411301554],[1259107200000,-0.3259865184],[1259193600000,-0.3527009712],[1259280000000,-0.3718761026],[1259539200000,-0.3478914041],[1259625600000,-0.3387625114],[1259712000000,-0.33198455],[1259798400000,-0.3331822993],[1259884800000,-0.32341275],[1260144000000,-0.3187071735],[1260230400000,-0.3270282817],[1260316800000,-0.339941691],[1260403200000,-0.3357152142],[1260489600000,-0.3361274628],[1260748800000,-0.3291210934],[1260835200000,-0.334582459],[1260921600000,-0.3387829381],[1261008000000,-0.3537445916],[1261094400000,-0.370162114],[1261353600000,-0.3692559098],[1261440000000,-0.3861692448],[1261526400000,-0.3804237619],[1261612800000,-0.3614194722],[1261699200000,-0.3640261091],[1261958400000,-0.3540634343],[1262044800000,-0.3499216356],[1262131200000,-0.3390490427],[1262217600000,-0.3360578262],[1262563200000,-0.3433323429],[1262649600000,-0.3381667936],[1262736000000,-0.3422203859],[1262822400000,-0.3551999034],[1262908800000,-0.3536976101],[1263168000000,-0.3532747767],[1263254400000,-0.3434835008],[1263340800000,-0.3647070621],[1263427200000,-0.3557007298],[1263513600000,-0.3531574158],[1263772800000,-0.3498248872],[1263859200000,-0.348595755],[1263945600000,-0.3694759614],[1264032000000,-0.3669014503],[1264118400000,-0.3748088243],[1264377600000,-0.3819999629],[1264464000000,-0.397755102],[1264550400000,-0.4059779763],[1264636800000,-0.4043975042],[1264723200000,-0.4048556201],[1264982400000,-0.4145133795],[1265068800000,-0.4157373122],[1265155200000,-0.4000471672],[1265241600000,-0.4021747043],[1265328000000,-0.4144450428],[1265587200000,-0.414770385],[1265673600000,-0.4115136209],[1265760000000,-0.4031423743],[1265846400000,-0.4020051624],[1265932800000,-0.3962890197],[1266796800000,-0.3994512637],[1266883200000,-0.4060424133],[1266969600000,-0.397454272],[1267056000000,-0.3886724481],[1267142400000,-0.3905140109],[1267401600000,-0.3825880671],[1267488000000,-0.3850569163],[1267574400000,-0.3805771481],[1267660800000,-0.3963764833],[1267747200000,-0.3945755882],[1268006400000,-0.3897710349],[1268092800000,-0.3860511411],[1268179200000,-0.3908530947],[1268265600000,-0.3914068448],[1268352000000,-0.3994867319],[1268611200000,-0.4088733728],[1268697600000,-0.4050881135],[1268784000000,-0.3920671854],[1268870400000,-0.3931748714],[1268956800000,-0.3884436686],[1269216000000,-0.3867450929],[1269302400000,-0.3916681213],[1269388800000,-0.3914528978],[1269475200000,-0.4003535682],[1269561600000,-0.3918514048],[1269820800000,-0.3762754638],[1269907200000,-0.3747178325],[1269993600000,-0.3786848898],[1270080000000,-0.3701314739],[1270166400000,-0.367276188],[1270512000000,-0.3676176858],[1270598400000,-0.3709114037],[1270684800000,-0.3785799707],[1270771200000,-0.3724601214],[1271030400000,-0.3776386697],[1271116800000,-0.3701665707],[1271203200000,-0.3678408943],[1271289600000,-0.3695933223],[1271376000000,-0.3765723942],[1271635200000,-0.4099832872],[1271721600000,-0.4106718538],[1271808000000,-0.398928525],[1271894400000,-0.4053380624],[1271980800000,-0.4075675475],[1272240000000,-0.4108306252],[1272326400000,-0.422673488],[1272412800000,-0.4247460586],[1272499200000,-0.4316228111],[1272585600000,-0.4303073295],[1272931200000,-0.4392956491],[1273017600000,-0.4361174351],[1273104000000,-0.4619321832],[1273190400000,-0.4732166534],[1273449600000,-0.4692015004],[1273536000000,-0.4798558987],[1273622400000,-0.4766188186],[1273708800000,-0.4639650146],[1273795200000,-0.4673747934],[1274054400000,-0.4958867988],[1274140800000,-0.4855750125],[1274227200000,-0.4869774006],[1274313600000,-0.4937100518],[1274400000000,-0.485785965],[1274659200000,-0.4663477001],[1274745600000,-0.4773164844],[1274832000000,-0.4774377449],[1274918400000,-0.4689298249],[1275004800000,-0.4706393567],[1275264000000,-0.4849423409],[1275350400000,-0.4903153145],[1275436800000,-0.4878620638],[1275523200000,-0.4918237359],[1275609600000,-0.4903301703],[1275868800000,-0.499309205],[1275955200000,-0.4986746764],[1276041600000,-0.4833590834],[1276128000000,-0.489290821],[1276214400000,-0.487606544],[1276732800000,-0.4905804906],[1276819200000,-0.4991964866],[1277078400000,-0.4837106089],[1277164800000,-0.483017957],[1277251200000,-0.487744703],[1277337600000,-0.4876087724],[1277424000000,-0.4918402629],[1277683200000,-0.4953649886],[1277769600000,-0.5186633489],[1277856000000,-0.5241399417],[1277942400000,-0.5308387959],[1278028800000,-0.529531485],[1278288000000,-0.5333193441],[1278374400000,-0.5241666821],[1278460800000,-0.5207873577],[1278547200000,-0.5217253162],[1278633600000,-0.5084262131],[1278892800000,-0.5030324414],[1278979200000,-0.5107186496],[1279065600000,-0.5072312492],[1279152000000,-0.5155469722],[1279238400000,-0.514097974],[1279497600000,-0.5018714601],[1279584000000,-0.4908863345],[1279670400000,-0.4898659264],[1279756800000,-0.4835603796],[1279843200000,-0.4813076823],[1280102400000,-0.4779708826],[1280188800000,-0.4807971997],[1280275200000,-0.4681614083],[1280361600000,-0.4656405638],[1280448000000,-0.4673372825],[1280707200000,-0.458355648],[1280793600000,-0.4678351377],[1280880000000,-0.4658589441],[1280966400000,-0.4706079739],[1281052800000,-0.4618714601],[1281312000000,-0.4580564892],[1281398400000,-0.4739765278],[1281484800000,-0.4706254294],[1281571200000,-0.4768930939],[1281657600000,-0.4697004698],[1281916800000,-0.4574262316],[1282003200000,-0.4535603796],[1282089600000,-0.4545390058],[1282176000000,-0.4511422258],[1282262400000,-0.4617412861],[1282521600000,-0.4620599432],[1282608000000,-0.4591877588],[1282694400000,-0.4720575291],[1282780800000,-0.4707452044],[1282867200000,-0.4691704889],[1283126400000,-0.4586897179],[1283212800000,-0.4608846632],[1283299200000,-0.4644407718],[1283385600000,-0.4575049674],[1283472000000,-0.4577240905],[1283731200000,-0.4475330077],[1283817600000,-0.4460437132],[1283904000000,-0.446441106],[1283990400000,-0.4565634807],[1284076800000,-0.4554325825],[1284336000000,-0.4499043657],[1284422400000,-0.4494048393],[1284508800000,-0.4590276875],[1284595200000,-0.469315333],[1284681600000,-0.4686505357],[1284940800000,-0.4707934857],[1285027200000,-0.4693728993],[1285545600000,-0.4605429797],[1285632000000,-0.4650220052],[1285718400000,-0.4661547604],[1285804800000,-0.4548717758],[1286496000000,-0.4346938776],[1286755200000,-0.4182280738],[1286841600000,-0.4108317394],[1286928000000,-0.4025032033],[1287014400000,-0.4012850272],[1287100800000,-0.3820579005],[1287360000000,-0.3860541123],[1287446400000,-0.373146274],[1287532800000,-0.3692076285],[1287619200000,-0.3733282576],[1287705600000,-0.3725910382],[1287964800000,-0.3535718928],[1288051200000,-0.3563573564],[1288137600000,-0.3679096024],[1288224000000,-0.3690572134],[1288310400000,-0.3723459174],[1288569600000,-0.3550723292],[1288656000000,-0.3569051642],[1288742400000,-0.3648511634],[1288828800000,-0.3536795974],[1288915200000,-0.3461959852],[1289174400000,-0.3410391636],[1289260800000,-0.3456110379],[1289347200000,-0.3502237656],[1289433600000,-0.348205233],[1289520000000,-0.3887151585],[1289779200000,-0.3844329725],[1289865600000,-0.4114241147],[1289952000000,-0.4236114464],[1290038400000,-0.4154314683],[1290124800000,-0.4096952703],[1290384000000,-0.4109784405],[1290470400000,-0.4230042153],[1290556800000,-0.4100313829],[1290643200000,-0.4014075876],[1290729600000,-0.4067241091],[1290988800000,-0.4076154575],[1291075200000,-0.4174685707],[1291161600000,-0.4176486973],[1291248000000,-0.4141130155],[1291334400000,-0.4135373531],[1291593600000,-0.4121613341],[1291680000000,-0.4057046294],[1291766400000,-0.4109895824],[1291852800000,-0.4199977716],[1291939200000,-0.4128279883],[1292198400000,-0.3944290728],[1292284800000,-0.3928673562],[1292371200000,-0.3969211342],[1292457600000,-0.4000724221],[1292544000000,-0.4010027669],[1292803200000,-0.4097305528],[1292889600000,-0.3965738798],[1292976000000,-0.4028987391],[1293062400000,-0.407882862],[1293148800000,-0.4126460047],[1293408000000,-0.4243913762],[1293494400000,-0.4345638892],[1293580800000,-0.4314256003],[1293667200000,-0.4310040668],[1293753600000,-0.4190897105],[1294099200000,-0.4076841656],[1294185600000,-0.4102876455],[1294272000000,-0.4132625207],[1294358400000,-0.4119663516],[1294617600000,-0.4228166608],[1294704000000,-0.4197099404],[1294790400000,-0.4164750887],[1294876800000,-0.4166719281],[1294963200000,-0.4258491022],[1295222400000,-0.4476704239],[1295308800000,-0.447057622],[1295395200000,-0.4345787451],[1295481600000,-0.4531745],[1295568000000,-0.4459787191],[1295827200000,-0.4514066591],[1295913600000,-0.4542998273],[1296000000000,-0.4469127778],[1296086400000,-0.4379918664],[1296172800000,-0.4360847524],[1296432000000,-0.4286995599],[1296518400000,-0.4285565728],[1297209600000,-0.4353029656],[1297296000000,-0.423565022],[1297382400000,-0.4204453028],[1297641600000,-0.4022135151],[1297728000000,-0.4024864905],[1297814400000,-0.3967558634],[1297900800000,-0.397242391],[1297987200000,-0.4035616794],[1298246400000,-0.3950140202],[1298332800000,-0.4125308722],[1298419200000,-0.4104584873],[1298505600000,-0.4074501866],[1298592000000,-0.4062097268],[1298851200000,-0.3984215706],[1298937600000,-0.3955748268],[1299024000000,-0.3977270617],[1299110400000,-0.4017344153],[1299196800000,-0.3926445191],[1299456000000,-0.3807895861],[1299542400000,-0.3802417782],[1299628800000,-0.3799818016],[1299715200000,-0.3908636794],[1299801600000,-0.3969694156],[1300060800000,-0.3940836753],[1300147200000,-0.4050324042],[1300233600000,-0.3968171436],[1300320000000,-0.4063062896],[1300406400000,-0.4028541717],[1300665600000,-0.4044474569],[1300752000000,-0.4015041503],[1300838400000,-0.3937104232],[1300924800000,-0.3962303393],[1301011200000,-0.3882230599],[1301270400000,-0.3889491374],[1301356800000,-0.3950010213],[1301443200000,-0.3953538467],[1301529600000,-0.4014428701],[1301616000000,-0.3922619821],[1302048000000,-0.3851423372],[1302134400000,-0.3826632746],[1302220800000,-0.3772891868],[1302480000000,-0.3809901395],[1302566400000,-0.3822268853],[1302652800000,-0.3738222131],[1302739200000,-0.3772520473],[1302825600000,-0.3762529944],[1303084800000,-0.3761601456],[1303171200000,-0.3879760822],[1303257600000,-0.387985367],[1303344000000,-0.3839724425],[1303430400000,-0.3872091512],[1303689600000,-0.3965627379],[1303776000000,-0.4000185698],[1303862400000,-0.4040036397],[1303948800000,-0.4128651279],[1304035200000,-0.4071196449],[1304380800000,-0.4037009526],[1304467200000,-0.4189467234],[1304553600000,-0.4194871033],[1304640000000,-0.4203635958],[1304899200000,-0.4188111641],[1304985600000,-0.4144546991],[1305072000000,-0.4159662773],[1305158400000,-0.4240404078],[1305244800000,-0.4191212791],[1305504000000,-0.424252103],[1305590400000,-0.4213607918],[1305676800000,-0.4170247535],[1305763200000,-0.420504726],[1305849600000,-0.4203264563],[1306108800000,-0.438639951],[1306195200000,-0.4380382908],[1306281600000,-0.4447011198],[1306368000000,-0.4469220627],[1306454400000,-0.4497205252],[1306713600000,-0.4513546638],[1306800000000,-0.442617593],[1306886400000,-0.4421329223],[1306972800000,-0.4511318267],[1307059200000,-0.4454420531],[1307404800000,-0.4421162095],[1307491200000,-0.4413009972],[1307577600000,-0.4518411914],[1307664000000,-0.4499767878],[1307923200000,-0.4521271657],[1308009600000,-0.4441031736],[1308096000000,-0.4497558077],[1308182400000,-0.4582124752],[1308268800000,-0.4629329075],[1308528000000,-0.4661380476],[1308614400000,-0.4597927615],[1308700800000,-0.4598837533],[1308787200000,-0.4507752874],[1308873600000,-0.4378061689],[1309132800000,-0.4361311768],[1309219200000,-0.4351581215],[1309305600000,-0.4428757126],[1309392000000,-0.4347198752],[1309478400000,-0.4336688269],[1309737600000,-0.4202558913],[1309824000000,-0.4201593285],[1309910400000,-0.4217916102],[1309996800000,-0.424025552],[1310083200000,-0.4226328202],[1310342400000,-0.421884459],[1310428800000,-0.4323392323],[1310515200000,-0.4231769141],[1310601600000,-0.4214127871],[1310688000000,-0.418972721],[1310947200000,-0.4201407588],[1311033600000,-0.4252437281],[1311120000000,-0.4259029544],[1311206400000,-0.4319251267],[1311292800000,-0.4302817032],[1311552000000,-0.4487957512],[1311638400000,-0.4470353382],[1311724800000,-0.4428979963],[1311811200000,-0.4464355351],[1311897600000,-0.4480919574],[1312156800000,-0.4470446231],[1312243200000,-0.4510074093],[1312329600000,-0.4512878127],[1312416000000,-0.4502776179],[1312502400000,-0.4619561382],[1312761600000,-0.481179551],[1312848000000,-0.4803829084],[1312934400000,-0.4755677703],[1313020800000,-0.4676199142],[1313107200000,-0.4660526267],[1313366400000,-0.4581567659],[1313452800000,-0.4619264266],[1313539200000,-0.4640749475],[1313625600000,-0.4736866539],[1313712000000,-0.4786243524],[1313971200000,-0.4841711389],[1314057600000,-0.4761471468],[1314144000000,-0.4781861061],[1314230400000,-0.4607639598],[1314316800000,-0.4612504875],[1314576000000,-0.470240107],[1314662400000,-0.4722957791],[1314748800000,-0.4713598633],[1314835200000,-0.4736346586],[1314921600000,-0.4793318601],[1315180800000,-0.4904792854],[1315267200000,-0.4942897996],[1315353600000,-0.483929732],[1315440000000,-0.4881989192],[1315526400000,-0.4891292641],[1315872000000,-0.4948506063],[1315958400000,-0.4924681064],[1316044800000,-0.4932220386],[1316131200000,-0.4923046926],[1316390400000,-0.5024660638],[1316476800000,-0.5005032404],[1316563200000,-0.4854301684],[1316649600000,-0.5012738854],[1316736000000,-0.504284043],[1316995200000,-0.5151584929],[1317081600000,-0.5101520863],[1317168000000,-0.5152197731],[1317254400000,-0.5193793987],[1317340800000,-0.5206495701],[1318204800000,-0.5251564502],[1318291200000,-0.5261016509],[1318377600000,-0.508874487],[1318464000000,-0.5055616423],[1318550400000,-0.5071994949],[1318809600000,-0.5047538579],[1318896000000,-0.5186328945],[1318982400000,-0.5203283133],[1319068800000,-0.5319436965],[1319155200000,-0.5342927708],[1319414400000,-0.5215186348],[1319500800000,-0.5124640211],[1319587200000,-0.5075950307],[1319673600000,-0.5065124139],[1319760000000,-0.496941561],[1320019200000,-0.4994874747],[1320105600000,-0.4990752261],[1320192000000,-0.490744833],[1320278400000,-0.4903901506],[1320364800000,-0.4867783328],[1320624000000,-0.4918850161],[1320710400000,-0.4934708733],[1320796800000,-0.4890252734],[1320883200000,-0.4986926891],[1320969600000,-0.4995450409],[1321228800000,-0.4892945349],[1321315200000,-0.4903195855],[1321401600000,-0.5041651966],[1321488000000,-0.5056693469],[1321574400000,-0.5159792762],[1321833600000,-0.5153869009],[1321920000000,-0.5154258974],[1322006400000,-0.5201556146],[1322092800000,-0.5192438395],[1322179200000,-0.5227628085],[1322438400000,-0.5221407216],[1322524800000,-0.5155948822],[1322611200000,-0.5317598559],[1322697600000,-0.5202298936],[1322784000000,-0.5251601642],[1323043200000,-0.5318638465],[1323129600000,-0.5327217693],[1323216000000,-0.5305138252],[1323302400000,-0.5311136283],[1323388800000,-0.5351135541],[1323648000000,-0.5398989805],[1323734400000,-0.5464336781],[1323820800000,-0.5540342798],[1323907200000,-0.5629607621],[1323993600000,-0.55615866],[1324252800000,-0.5572208501],[1324339200000,-0.5585838703],[1324425600000,-0.5656329502],[1324512000000,-0.5652207016],[1324598400000,-0.5619097138],[1324857600000,-0.5662661789],[1324944000000,-0.5719615235],[1325030400000,-0.5714230005],[1325116800000,-0.5707860578],[1325203200000,-0.5644017753],[1325635200000,-0.5731277042],[1325721600000,-0.577279902],[1325808000000,-0.5746411394],[1326067200000,-0.5601622997],[1326153600000,-0.5455330449],[1326240000000,-0.5477131344],[1326326400000,-0.5477855564],[1326412800000,-0.5553787302],[1326672000000,-0.5644184881],[1326758400000,-0.543072552],[1326844800000,-0.5502051958],[1326931200000,-0.5416333959],[1327017600000,-0.5349965646],[1327881600000,-0.5430502683],[1327968000000,-0.5423928989],[1328054400000,-0.5489424523],[1328140800000,-0.5383112663],[1328227200000,-0.5346251694],[1328486400000,-0.5349538542],[1328572800000,-0.5435646506],[1328659200000,-0.5305119682],[1328745600000,-0.5303281276],[1328832000000,-0.5295129153],[1329091200000,-0.5298174593],[1329177600000,-0.5316502943],[1329264000000,-0.5265436111],[1329350400000,-0.5290579562],[1329436800000,-0.5288685447],[1329696000000,-0.5281963195],[1329782400000,-0.5241592542],[1329868800000,-0.5176542683],[1329955200000,-0.5160238436],[1330041600000,-0.5082691129],[1330300800000,-0.5066813987],[1330387200000,-0.50558764],[1330473600000,-0.5108465952],[1330560000000,-0.5109951533],[1330646400000,-0.5023435034],[1330905600000,-0.5055430726],[1330992000000,-0.5132773765],[1331078400000,-0.5166292177],[1331164800000,-0.5105401942],[1331251200000,-0.5052459564],[1331510400000,-0.5070843624],[1331596800000,-0.5021318081],[1331683200000,-0.5162373958],[1331769600000,-0.5198696403],[1331856000000,-0.5128187035],[1332115200000,-0.5116135262],[1332201600000,-0.5200739076],[1332288000000,-0.5194536777],[1332374400000,-0.5202038959],[1332460800000,-0.5259252382],[1332720000000,-0.5254609942],[1332806400000,-0.5270022841],[1332892800000,-0.5404170767],[1332979200000,-0.5463185456],[1333065600000,-0.5441310282],[1333584000000,-0.5333735678],[1333670400000,-0.5320736848],[1333929600000,-0.5366567009],[1334016000000,-0.5320811127],[1334102400000,-0.5320346883],[1334188800000,-0.5226755306],[1334275200000,-0.5208166979],[1334534400000,-0.5220070194],[1334620800000,-0.5279790533],[1334707200000,-0.5172030232],[1334793600000,-0.5179179588],[1334880000000,-0.5122021875],[1335139200000,-0.516064697],[1335225600000,-0.5162819632],[1335312000000,-0.5123600305],[1335398400000,-0.5113386938],[1335484800000,-0.5123284619],[1335916800000,-0.50168242],[1336003200000,-0.5001912685],[1336089600000,-0.4956676756],[1336348800000,-0.4953148502],[1336435200000,-0.4969229912],[1336521600000,-0.506506843],[1336608000000,-0.5065625522],[1336694400000,-0.510330356],[1336953600000,-0.5143024271],[1337040000000,-0.5139607435],[1337126400000,-0.5218937438],[1337212800000,-0.5145976862],[1337299200000,-0.5220181612],[1337558400000,-0.5195576684],[1337644800000,-0.5120759132],[1337731200000,-0.5140535923],[1337817600000,-0.5180665169],[1337904000000,-0.5221815751],[1338163200000,-0.514458413],[1338249600000,-0.5077435888],[1338336000000,-0.5093387309],[1338422400000,-0.5112365601],[1338508800000,-0.5110582905],[1338768000000,-0.5247943399],[1338854400000,-0.5248296225],[1338940800000,-0.525097027],[1339027200000,-0.527923344],[1339113600000,-0.5312380457],[1339372800000,-0.5249373271],[1339459200000,-0.5282947392],[1339545600000,-0.5207814154],[1339632000000,-0.5245362203],[1339718400000,-0.5231193478],[1339977600000,-0.5206755678],[1340064000000,-0.5248704759],[1340150400000,-0.5259865184],[1340236800000,-0.5334924143],[1340582400000,-0.5438301981],[1340668800000,-0.5441273143],[1340755200000,-0.5455608995],[1340841600000,-0.5495478264],[1340928000000,-0.5428849975],[1341187200000,-0.5422109153],[1341273600000,-0.5415646877],[1341360000000,-0.5422703385],[1341446400000,-0.5486861897],[1341532800000,-0.5408423242],[1341792000000,-0.5513472359],[1341878400000,-0.5530797942],[1341964800000,-0.549577538],[1342051200000,-0.5451932183],[1342137600000,-0.5449239568],[1342396800000,-0.5543759633],[1342483200000,-0.5516889194],[1342569600000,-0.5516647787],[1342656000000,-0.54980966],[1342742400000,-0.5546117992],[1343001600000,-0.5607453901],[1343088000000,-0.5587844237],[1343174400000,-0.5617388721],[1343260800000,-0.5640768045],[1343347200000,-0.5637759744],[1343606400000,-0.5662494661],[1343692800000,-0.5667824182],[1343779200000,-0.5620044196],[1343865600000,-0.5664184509],[1343952000000,-0.5629161947],[1344211200000,-0.556998013],[1344297600000,-0.5563926389],[1344384000000,-0.5562217972],[1344470400000,-0.5521531634],[1344556800000,-0.5543722494],[1344816000000,-0.5632523073],[1344902400000,-0.5623071066],[1344988800000,-0.567025682],[1345075200000,-0.569242911],[1345161600000,-0.570392379],[1345420800000,-0.5725631836],[1345507200000,-0.5703515255],[1345593600000,-0.5737145086],[1345680000000,-0.5724870476],[1345766400000,-0.5774117472],[1346025600000,-0.586228668],[1346112000000,-0.5843326958],[1346198400000,-0.5887151585],[1346284800000,-0.5893539581],[1346371200000,-0.5905609924],[1346630400000,-0.5861970994],[1346716800000,-0.5906464133],[1346803200000,-0.5914876233],[1346889600000,-0.5881562088],[1346976000000,-0.569705298],[1347235200000,-0.567943028],[1347321600000,-0.5706876381],[1347408000000,-0.569168632],[1347494400000,-0.5731815565],[1347580800000,-0.570009842],[1347840000000,-0.580563035],[1347926400000,-0.5849213571],[1348012800000,-0.5828786838],[1348099200000,-0.5922174147],[1348185600000,-0.5916398953],[1348444800000,-0.5885833132],[1348531200000,-0.5895805092],[1348617600000,-0.5942712299],[1348704000000,-0.5818610611],[1348790400000,-0.5741750385],[1349654400000,-0.5784572246],[1349740800000,-0.5691519192],[1349827200000,-0.5684165568],[1349913600000,-0.5724257674],[1350000000000,-0.5720543722],[1350259200000,-0.5738500678],[1350345600000,-0.5732372658],[1350432000000,-0.5727470242],[1350518400000,-0.5661956138],[1350604800000,-0.5668659821],[1350864000000,-0.5651724202],[1350950400000,-0.5706523556],[1351036800000,-0.5714508551],[1351123200000,-0.574522293],[1351209600000,-0.5825685688],[1351468800000,-0.5848080816],[1351555200000,-0.5840597203],[1351641600000,-0.5812853986],[1351728000000,-0.5732892611],[1351814400000,-0.5716384097],[1352073600000,-0.5725464708],[1352160000000,-0.5743421663],[1352246400000,-0.5752168019],[1352332800000,-0.5830328128],[1352419200000,-0.5838665949],[1352678400000,-0.5818369204],[1352764800000,-0.5891552617],[1352851200000,-0.5871738686],[1352937600000,-0.5926500901],[1353024000000,-0.5956918163],[1353283200000,-0.5961096358],[1353369600000,-0.5979870383],[1353456000000,-0.5924123972],[1353542400000,-0.5956342501],[1353628800000,-0.5928246458],[1353888000000,-0.5959963603],[1353974400000,-0.6006313717],[1354060800000,-0.6046201556],[1354147200000,-0.6071233589],[1354233600000,-0.6026703311],[1354492800000,-0.6083916733],[1354579200000,-0.6041911942],[1354665600000,-0.5900020427],[1354752000000,-0.5907968283],[1354838400000,-0.582782121],[1355097600000,-0.578271527],[1355184000000,-0.5806020315],[1355270400000,-0.578880615],[1355356800000,-0.583547195],[1355443200000,-0.5625225158],[1355702400000,-0.5605095541],[1355788800000,-0.5602458636],[1355875200000,-0.5596906278],[1355961600000,-0.5571447141],[1356048000000,-0.559525357],[1356307200000,-0.5578132254],[1356393600000,-0.5453380624],[1356480000000,-0.5436259308],[1356566400000,-0.5460455702],[1356652800000,-0.5394607342],[1356912000000,-0.5314943084],[1357257600000,-0.5312231899],[1357516800000,-0.529072812],[1357603200000,-0.5310523481],[1357689600000,-0.5309037901],[1357776000000,-0.5300792929],[1357862400000,-0.538870216],[1358121600000,-0.5213217953],[1358208000000,-0.5179550983],[1358294400000,-0.5214406418],[1358380800000,-0.5259586637],[1358467200000,-0.5180330913],[1358726400000,-0.5151622068],[1358812800000,-0.5177619729],[1358899200000,-0.5158010065],[1358985600000,-0.5203895935],[1359072000000,-0.5224471226],[1359331200000,-0.5075560342],[1359417600000,-0.5030974355],[1359504000000,-0.5007130787],[1359590400000,-0.5010529052],[1359676800000,-0.4905721342],[1359936000000,-0.4896974987],[1360022400000,-0.4853057511],[1360108800000,-0.4845332492],[1360195200000,-0.4874988394],[1360281600000,-0.4852964662],[1361145600000,-0.491658465],[1361232000000,-0.5012887412],[1361318400000,-0.4981263115],[1361404800000,-0.515227201],[1361491200000,-0.5178176821],[1361750400000,-0.5162652504],[1361836800000,-0.5232047687],[1361923200000,-0.5181742215],[1362009600000,-0.5035691074],[1362096000000,-0.5044028895],[1362355200000,-0.5272659746],[1362441600000,-0.5129505487],[1362528000000,-0.5078642922],[1362614400000,-0.5135689217],[1362700800000,-0.5158994262],[1362960000000,-0.5186031829],[1363046400000,-0.5254294256],[1363132800000,-0.5306512414],[1363219200000,-0.5293922118],[1363305600000,-0.5283523054],[1363564800000,-0.5352936807],[1363651200000,-0.5310950586],[1363737600000,-0.5152977661],[1363824000000,-0.5144027038],[1363910400000,-0.5137861878],[1364169600000,-0.5147536722],[1364256000000,-0.5218194648],[1364342400000,-0.5202447494],[1364428800000,-0.535886056],[1364515200000,-0.5366696997],[1364774400000,-0.5370206681],[1364860800000,-0.5382834116],[1364947200000,-0.5388107927],[1365379200000,-0.5408998904],[1365465600000,-0.537718891],[1365552000000,-0.538483965],[1365638400000,-0.539863698],[1365724800000,-0.5427921487],[1365984000000,-0.5474884403],[1366070400000,-0.5432601066],[1366156800000,-0.5434680879],[1366243200000,-0.5422833374],[1366329600000,-0.5294739188],[1366588800000,-0.5300607231],[1366675200000,-0.545139366],[1366761600000,-0.5365768509],[1366848000000,-0.5417206737],[1366934400000,-0.5455404728],[1367452800000,-0.5451077974],[1367539200000,-0.5370726635],[1367798400000,-0.5309316447],[1367884800000,-0.5301962823],[1367971200000,-0.5278082115],[1368057600000,-0.5305955321],[1368144000000,-0.5281721788],[1368403200000,-0.5300421533],[1368489600000,-0.5369928135],[1368576000000,-0.5344691835],[1368662400000,-0.5259679486],[1368748800000,-0.5186626061],[1369008000000,-0.5154017567],[1369094400000,-0.5144287014],[1369180800000,-0.5138381831],[1369267200000,-0.5203710238],[1369353600000,-0.5177006927],[1369612800000,-0.5172624464],[1369699200000,-0.508948766],[1369785600000,-0.5092830217],[1369872000000,-0.5108131697],[1369958400000,-0.515992275],[1370217600000,-0.5166997827],[1370304000000,-0.5235613081],[1370390400000,-0.5245139366],[1370476800000,-0.5305862472],[1370563200000,-0.5386975172],[1371081600000,-0.5543369668],[1371168000000,-0.5512116767],[1371427200000,-0.5536127463],[1371513600000,-0.5508439955],[1371600000000,-0.5541846948],[1371686400000,-0.5689086554],[1371772800000,-0.5696663015],[1372032000000,-0.5968115727],[1372118400000,-0.5978867616],[1372204800000,-0.5973519526],[1372291200000,-0.5987558263],[1372377600000,-0.5913464931],[1372636800000,-0.5889918479],[1372723200000,-0.5873837069],[1372809600000,-0.5907541178],[1372896000000,-0.5873837069],[1372982400000,-0.5864793597],[1373241600000,-0.5982210173],[1373328000000,-0.5983974299],[1373414400000,-0.5869974559],[1373500800000,-0.567939314],[1373587200000,-0.5774693135],[1373846400000,-0.57153999],[1373932800000,-0.5695808806],[1374019200000,-0.5760821526],[1374105600000,-0.5830476686],[1374192000000,-0.5932331804],[1374451200000,-0.5910586619],[1374537600000,-0.5792390113],[1374624000000,-0.5823383038],[1374710400000,-0.584468255],[1374796800000,-0.5870067408],[1375056000000,-0.5959276522],[1375142400000,-0.5934355908],[1375228800000,-0.5927615086],[1375315200000,-0.5830420976],[1375401600000,-0.5826892723],[1375660800000,-0.5769196487],[1375747200000,-0.5740766188],[1375833600000,-0.5764944012],[1375920000000,-0.5772074799],[1376006400000,-0.5754934913],[1376265600000,-0.5630926074],[1376352000000,-0.5619264266],[1376438400000,-0.5637815454],[1376524800000,-0.5688882286],[1376611200000,-0.5721267943],[1376870400000,-0.5670591075],[1376956800000,-0.5705799335],[1377043200000,-0.5713004401],[1377129600000,-0.5721657908],[1377216000000,-0.5753226495],[1377475200000,-0.5662810347],[1377561600000,-0.5653042655],[1377648000000,-0.5676849084],[1377734400000,-0.5694954597],[1377820800000,-0.570312529],[1378080000000,-0.5691184936],[1378166400000,-0.5627750645],[1378252800000,-0.5634807153],[1378339200000,-0.5651445656],[1378425600000,-0.5621659765],[1378684800000,-0.5467846465],[1378771200000,-0.5404189337],[1378857600000,-0.5389333531],[1378944000000,-0.5343707638],[1379030400000,-0.5378173107],[1379289600000,-0.5397689922],[1379376000000,-0.5492525673],[1379462400000,-0.5482887969],[1379894400000,-0.5409017474],[1379980800000,-0.5461755585],[1380067200000,-0.5489350244],[1380153600000,-0.5572152792],[1380240000000,-0.5552598838],[1380499200000,-0.5526471189],[1381190400000,-0.5465618094],[1381276800000,-0.544376149],[1381363200000,-0.5488811721],[1381449600000,-0.5416036842],[1381708800000,-0.540855323],[1381795200000,-0.5417875248],[1381881600000,-0.5503574678],[1381968000000,-0.5518504763],[1382054400000,-0.5494884032],[1382313600000,-0.5410818741],[1382400000000,-0.5458041633],[1382486400000,-0.5508922768],[1382572800000,-0.5542311192],[1382659200000,-0.5601641567],[1382918400000,-0.5606488273],[1383004800000,-0.5595160721],[1383091200000,-0.5529386641],[1383177600000,-0.5592059572],[1383264000000,-0.5571187165],[1383523200000,-0.5579562125],[1383609600000,-0.5573396966],[1383696000000,-0.5629477633],[1383782400000,-0.5653655457],[1383868800000,-0.5714192865],[1384128000000,-0.5699448478],[1384214400000,-0.5654676793],[1384300800000,-0.5751016694],[1384387200000,-0.5720599432],[1384473600000,-0.5634751444],[1384732800000,-0.5489591651],[1384819200000,-0.5520677425],[1384905600000,-0.5497112403],[1384992000000,-0.5524707062],[1385078400000,-0.554704648],[1385337600000,-0.5564372064],[1385424000000,-0.5566619004],[1385510400000,-0.5516369241],[1385596800000,-0.5469851999],[1385683200000,-0.5470947615],[1385942400000,-0.5508365676],[1386028800000,-0.5463816828],[1386115200000,-0.5403725093],[1386201600000,-0.5416612505],[1386288000000,-0.5446156989],[1386547200000,-0.5448793894],[1386633600000,-0.5444244304],[1386720000000,-0.5519563239],[1386806400000,-0.5524669923],[1386892800000,-0.5530927931],[1387152000000,-0.5602830031],[1387238400000,-0.5624259531],[1387324800000,-0.5622681102],[1387411200000,-0.5668771239],[1387497600000,-0.5769549312],[1387756800000,-0.5757553249],[1387843200000,-0.5750775287],[1387929600000,-0.5719466677],[1388016000000,-0.5793337171],[1388102400000,-0.5722493547],[1388361600000,-0.5729958589],[1388448000000,-0.5673190841],[1388620800000,-0.5688139496],[1388707200000,-0.5746077139],[1388966400000,-0.5842899853],[1389052800000,-0.5844088318],[1389139200000,-0.5836827543],[1389225600000,-0.5873391395],[1389312000000,-0.5905647063],[1389571200000,-0.5926389482],[1389657600000,-0.5890791257],[1389744000000,-0.5898052032],[1389830400000,-0.5892666803],[1389916800000,-0.5954596943],[1390176000000,-0.597780914],[1390262400000,-0.593803272],[1390348800000,-0.5833317859],[1390435200000,-0.5855434439],[1390521600000,-0.5829826744],[1390780800000,-0.5885090342],[1390867200000,-0.5877792427],[1390953600000,-0.586306661],[1391040000000,-0.5910103805],[1391731200000,-0.5891478338],[1391990400000,-0.5789251824],[1392076800000,-0.5755770552],[1392163200000,-0.574520436],[1392249600000,-0.5766930976],[1392336000000,-0.5737182225],[1392595200000,-0.5707322055],[1392681600000,-0.5761564316],[1392768000000,-0.5712874413],[1392854400000,-0.5752279438],[1392940800000,-0.5795268426],[1393200000000,-0.5887708678],[1393286400000,-0.5992813504],[1393372800000,-0.5982600137],[1393459200000,-0.5999870012],[1393545600000,-0.5953705595],[1393804800000,-0.5932536072],[1393891200000,-0.5943863624],[1393977600000,-0.5981541661],[1394064000000,-0.5963621845],[1394150400000,-0.5973408108],[1394409600000,-0.6104454885],[1394496000000,-0.6084269559],[1394582400000,-0.6074111901],[1394668800000,-0.6025459137],[1394755200000,-0.6057937643],[1395014400000,-0.6020426733],[1395100800000,-0.6029544484],[1395187200000,-0.6061595885],[1395273600000,-0.6124547362],[1395360000000,-0.5991160796],[1395619200000,-0.5958199476],[1395705600000,-0.5962117695],[1395792000000,-0.5968412843],[1395878400000,-0.5996898851],[1395964800000,-0.600384394],[1396224000000,-0.6014372992],[1396310400000,-0.598315723],[1396396800000,-0.5950437318],[1396483200000,-0.5979628976],[1396569600000,-0.5941635253],[1396915200000,-0.5845351061],[1397001600000,-0.5842936993],[1397088000000,-0.5777682866],[1397174400000,-0.5783420921],[1397433600000,-0.5787246291],[1397520000000,-0.585994689],[1397606400000,-0.5854245975],[1397692800000,-0.5868600397],[1397779200000,-0.586919463],[1398038400000,-0.5938329836],[1398124800000,-0.5920614288],[1398211200000,-0.5925888099],[1398297600000,-0.5932350374],[1398384000000,-0.5974392305],[1398643200000,-0.6035412527],[1398729600000,-0.5991773598],[1398816000000,-0.5991420772],[1399248000000,-0.5995487549],[1399334400000,-0.599389055],[1399420800000,-0.6031048634],[1399507200000,-0.603442833],[1399593600000,-0.6037380921],[1399852800000,-0.5951700061],[1399939200000,-0.5961356335],[1400025600000,-0.5965961635],[1400112000000,-0.6018495478],[1400198400000,-0.6015022934],[1400457600000,-0.6072236356],[1400544000000,-0.6071066461],[1400630400000,-0.603366697],[1400716800000,-0.6043026128],[1400803200000,-0.6010454773],[1401062400000,-0.5996397467],[1401148800000,-0.6012553156],[1401235200000,-0.5971569702],[1401321600000,-0.5997920187],[1401408000000,-0.5995506119],[1401753600000,-0.600765074],[1401840000000,-0.6047854265],[1401926400000,-0.6006387997],[1402012800000,-0.6035876771],[1402272000000,-0.603669384],[1402358400000,-0.5986574065],[1402444800000,-0.5987502553],[1402531200000,-0.6001169895],[1402617600000,-0.5958775139],[1402876800000,-0.5929787748],[1402963200000,-0.5970975469],[1403049600000,-0.598848675],[1403136000000,-0.6050379752],[1403222400000,-0.603214425],[1403481600000,-0.6037009526],[1403568000000,-0.6017121316],[1403654400000,-0.6038383688],[1403740800000,-0.60092106],[1403827200000,-0.6007019368],[1404086400000,-0.5979424709],[1404172800000,-0.5980464615],[1404259200000,-0.5968747098],[1404345600000,-0.5951440085],[1404432000000,-0.5954206979],[1404691200000,-0.595868229],[1404777600000,-0.5950920131],[1404864000000,-0.6009897681],[1404950400000,-0.6020779558],[1405036800000,-0.6011197564],[1405296000000,-0.596709439],[1405382400000,-0.5961114928],[1405468800000,-0.5968747098],[1405555200000,-0.5994373364],[1405641600000,-0.5981244545],[1405900800000,-0.5977252047],[1405987200000,-0.5928209318],[1406073600000,-0.5918683033],[1406160000000,-0.5845926724],[1406246400000,-0.5802399213],[1406505600000,-0.5684574103],[1406592000000,-0.5670702494],[1406678400000,-0.5688083787],[1406764800000,-0.5635642792],[1406851200000,-0.5674360736],[1407110400000,-0.5588531318],[1407196800000,-0.5600174556],[1407283200000,-0.5611557817],[1407369600000,-0.5677963269],[1407456000000,-0.5671148168],[1407715200000,-0.5607602459],[1407801600000,-0.5623015357],[1407888000000,-0.5619579952],[1407974400000,-0.5662197545],[1408060800000,-0.5616348814],[1408320000000,-0.5590499712],[1408406400000,-0.5590109747],[1408492800000,-0.5606135448],[1408579200000,-0.5628233459],[1408665600000,-0.5607583889],[1408924800000,-0.5649365843],[1409011200000,-0.5684221277],[1409097600000,-0.5677721862],[1409184000000,-0.5708009136],[1409270400000,-0.5657852222],[1409529600000,-0.5626227925],[1409616000000,-0.5568401701],[1409702400000,-0.5526842584],[1409788800000,-0.5494568346],[1409875200000,-0.5451783625],[1410220800000,-0.5459285807],[1410307200000,-0.5483036527],[1410393600000,-0.5499712169],[1410480000000,-0.5472024661],[1410739200000,-0.5474197322],[1410825600000,-0.5564130657],[1410912000000,-0.5540788472],[1410998400000,-0.552717684],[1411084800000,-0.5496443891],[1411344000000,-0.5582403298],[1411430400000,-0.5544261017],[1411516800000,-0.5465525246],[1411603200000,-0.5474605857],[1411689600000,-0.5474178752],[1411948800000,-0.545449481],[1412035200000,-0.5448571057],[1412726400000,-0.5397708492],[1412812800000,-0.5391060519],[1412899200000,-0.5419230841],[1413158400000,-0.5441217433],[1413244800000,-0.545679746],[1413331200000,-0.542465321],[1413417600000,-0.5460808527],[1413504000000,-0.5465766652],[1413763200000,-0.5441663107],[1413849600000,-0.548125383],[1413936000000,-0.5508644222],[1414022400000,-0.5550797571],[1414108800000,-0.5560509554],[1414368000000,-0.5601140183],[1414454400000,-0.5512339604],[1414540800000,-0.5447846837],[1414627200000,-0.5415256913],[1414713600000,-0.5342110639],[1414972800000,-0.5334255631],[1415059200000,-0.5333104306],[1415145600000,-0.535115411],[1415232000000,-0.5346288834],[1415318400000,-0.5353568179],[1415577600000,-0.5235501662],[1415664000000,-0.5248723329],[1415750400000,-0.5182410726],[1415836800000,-0.5209466862],[1415923200000,-0.5206978515],[1416182400000,-0.5232957605],[1416268800000,-0.5280644742],[1416355200000,-0.528844404],[1416441600000,-0.5288666877],[1416528000000,-0.5202577482],[1416787200000,-0.5080388479],[1416873600000,-0.501298026],[1416960000000,-0.494341795],[1417046400000,-0.4884978923],[1417132800000,-0.4784089432],[1417392000000,-0.4763681269],[1417478400000,-0.4570314386],[1417564800000,-0.4489331674],[1417651200000,-0.4235297395],[1417737600000,-0.4197155113],[1417996800000,-0.395948079],[1418083200000,-0.4230543537],[1418169600000,-0.4017659839],[1418256000000,-0.4089227684],[1418342400000,-0.4070249392],[1418601600000,-0.4025681974],[1418688000000,-0.3865666376],[1418774400000,-0.3759447364],[1418860800000,-0.3786689198],[1418947200000,-0.3717535422],[1419206400000,-0.3696533026],[1419292800000,-0.3825704258],[1419379200000,-0.4001244174],[1419465600000,-0.3806206013],[1419552000000,-0.3601158753],[1419811200000,-0.3583294646],[1419897600000,-0.3579413567],[1419984000000,-0.3437986296],[1420416000000,-0.3237748603],[1420502400000,-0.3238639951],[1420588800000,-0.3233570407],[1420675200000,-0.3390540566],[1420761600000,-0.3413827041],[1421020800000,-0.3475367217],[1421107200000,-0.3474513008],[1421193600000,-0.3496091066],[1421280000000,-0.3307236634],[1421366400000,-0.3249614678],[1421625600000,-0.3769549312],[1421712000000,-0.3693301889],[1421798400000,-0.3409797404],[1421884800000,-0.3375034818],[1421971200000,-0.3367384078],[1422230400000,-0.3300050138],[1422316800000,-0.3361441756],[1422403200000,-0.3453566322],[1422489600000,-0.3534381906],[1422576000000,-0.3622421125],[1422835200000,-0.3771777683],[1422921600000,-0.3616738779],[1423008000000,-0.3682995673],[1423094400000,-0.3747655568],[1423180800000,-0.3848916455],[1423440000000,-0.3786707768],[1423526400000,-0.3673395109],[1423612800000,-0.3622922508],[1423699200000,-0.3606673971],[1423785600000,-0.3556609905],[1424044800000,-0.3501550575],[1424131200000,-0.3459137249],[1424822400000,-0.3540082821],[1424908800000,-0.3377486026],[1424995200000,-0.3365322835],[1425254400000,-0.3312547585],[1425340800000,-0.3485914839],[1425427200000,-0.3443352955],[1425513600000,-0.3507381479],[1425600000000,-0.3540472786],[1425859200000,-0.3430484114],[1425945600000,-0.3462312678],[1426032000000,-0.3454810496],[1426118400000,-0.3328183321],[1426204800000,-0.3282093183],[1426464000000,-0.3118660749],[1426550400000,-0.3023119348],[1426636800000,-0.2857978496],[1426723200000,-0.2869696013],[1426809600000,-0.2771591985],[1427068800000,-0.2623980985],[1427155200000,-0.2622142579],[1427241600000,-0.2682754266],[1427328000000,-0.2664945869],[1427414400000,-0.2624655067],[1427673600000,-0.2408348963],[1427760000000,-0.2477019925],[1427846400000,-0.234201779],[1427932800000,-0.2340383651],[1428019200000,-0.2255408442],[1428364800000,-0.2089209114],[1428451200000,-0.2022803662],[1428537600000,-0.2085309465],[1428624000000,-0.1932517502],[1428883200000,-0.1790180312],[1428969600000,-0.1758407458],[1429056000000,-0.1865499248],[1429142400000,-0.1618447197],[1429228800000,-0.1465079571],[1429488000000,-0.160290431],[1429574400000,-0.142233199],[1429660800000,-0.1198287868],[1429747200000,-0.1196282335],[1429833600000,-0.1267311656],[1430092800000,-0.1072422053],[1430179200000,-0.1194481068],[1430265600000,-0.1134185066],[1430352000000,-0.1179569553],[1430697600000,-0.1109283022],[1430784000000,-0.1463779688],[1430870400000,-0.1544576702],[1430956800000,-0.1699151362],[1431043200000,-0.1535161835],[1431302400000,-0.1289799632],[1431388800000,-0.1184156283],[1431475200000,-0.123797144],[1431561600000,-0.1270765631],[1431648000000,-0.1425470279],[1431907200000,-0.1504076062],[1431993600000,-0.121423929],[1432080000000,-0.1170228965],[1432166400000,-0.1010417634],[1432252800000,-0.0805500362],[1432512000000,-0.0530352268],[1432598400000,-0.0345731741],[1432684800000,-0.0378210247],[1432771200000,-0.1023360755],[1432857600000,-0.101069618],[1433116800000,-0.0573656942],[1433203200000,-0.0414532692],[1433289600000,-0.0448478208],[1433376000000,-0.0378228817],[1433462400000,-0.0286995599],[1433721600000,-0.0058216189],[1433808000000,-0.0125605838],[1433894400000,-0.0141111586],[1433980800000,-0.0145791165],[1434067200000,-0.0092811647],[1434326400000,-0.0304414031],[1434412800000,-0.0594752187],[1434499200000,-0.0457317413],[1434585600000,-0.0844088318],[1434672000000,-0.1389110694],[1435017600000,-0.1112347032],[1435104000000,-0.0937717034],[1435190400000,-0.126010659],[1435276800000,-0.1947800412],[1435536000000,-0.2216393382],[1435622400000,-0.1693747563],[1435708800000,-0.2102245084],[1435795200000,-0.2371543704],[1435881600000,-0.2783940874],[1436140800000,-0.2574808267],[1436227200000,-0.2705799335],[1436313600000,-0.3197823624],[1436400000000,-0.2762195688],[1436486400000,-0.2374217749],[1436745600000,-0.2178771053],[1436832000000,-0.2363837255],[1436918400000,-0.2633822956],[1437004800000,-0.2576999499],[1437091200000,-0.229076526],[1437350400000,-0.2273848211],[1437436800000,-0.2263820542],[1437523200000,-0.2280254777],[1437609600000,-0.2106349],[1437696000000,-0.2244749401],[1437955200000,-0.2908711073],[1438041600000,-0.2922898368],[1438128000000,-0.2701379733],[1438214400000,-0.2914876233],[1438300800000,-0.2912480734],[1438560000000,-0.2889194258],[1438646400000,-0.2668362704],[1438732800000,-0.2819260552],[1438819200000,-0.2884347552],[1438905600000,-0.2744888674],[1439164800000,-0.241544261],[1439251200000,-0.2448292511],[1439337600000,-0.2542144064],[1439424000000,-0.2431969694],[1439510400000,-0.2435535088],[1439769600000,-0.2427494383],[1439856000000,-0.2896306475],[1439942400000,-0.2783532339],[1440028800000,-0.3015078643],[1440115200000,-0.3334311341],[1440374400000,-0.3917420289],[1440460800000,-0.4349352844],[1440547200000,-0.4381367106],[1440633600000,-0.4047204323],[1440720000000,-0.379344859],[1440979200000,-0.3748416928],[1441065600000,-0.375669904],[1441152000000,-0.3749735381],[1441584000000,-0.3963918962],[1441670400000,-0.3808805779],[1441756800000,-0.3687582403],[1441843200000,-0.376509257],[1441929600000,-0.3784349409],[1442188800000,-0.3907021225],[1442275200000,-0.4146385397],[1442361600000,-0.3854803068],[1442448000000,-0.3988969564],[1442534400000,-0.3962470521],[1442793600000,-0.3856660043],[1442880000000,-0.3799502331],[1442966400000,-0.3940632486],[1443052800000,-0.3899834729],[1443139200000,-0.3998347292],[1443398400000,-0.3978291954],[1443484800000,-0.4096952703],[1443571200000,-0.4052199588],[1444262400000,-0.3878516648],[1444348800000,-0.3797478227],[1444608000000,-0.3597723348],[1444694400000,-0.3602644333],[1444780800000,-0.3674936399],[1444867200000,-0.3525078457],[1444953600000,-0.3437336354],[1445212800000,-0.3437113517],[1445299200000,-0.3356297933],[1445385600000,-0.3550259048],[1445472000000,-0.3455033333],[1445558400000,-0.3368293996],[1445817600000,-0.3334831294],[1445904000000,-0.3328109042],[1445990400000,-0.3454309112],[1446076800000,-0.3438729086],[1446163200000,-0.3437299214],[1446422400000,-0.3545226644],[1446508800000,-0.356466918],[1446595200000,-0.3261889287],[1446681600000,-0.3118103656],[1446768000000,-0.2955803978],[1447027200000,-0.2868563258],[1447113600000,-0.2881766355],[1447200000000,-0.2881004995],[1447286400000,-0.2952182875],[1447372800000,-0.3043323244],[1447632000000,-0.3010101948],[1447718400000,-0.3020760989],[1447804800000,-0.310025812],[1447891200000,-0.2989972331],[1447977600000,-0.2991067947],[1448236800000,-0.3030157286],[1448323200000,-0.3029117379],[1448409600000,-0.2977642012],[1448496000000,-0.3018829734],[1448582400000,-0.3394755901],[1448841600000,-0.3377263189],[1448928000000,-0.3330300273],[1449014400000,-0.3088410614],[1449100800000,-0.3037640898],[1449187200000,-0.3170804628],[1449446400000,-0.3152197731],[1449532800000,-0.3272139793],[1449619200000,-0.3248147667],[1449705600000,-0.3272028375],[1449792000000,-0.329992015],[1450051200000,-0.3108168836],[1450137600000,-0.3139607435],[1450224000000,-0.3156227368],[1450310400000,-0.3025403428],[1450396800000,-0.300308258],[1450656000000,-0.282098754],[1450742400000,-0.2801006481],[1450828800000,-0.282022618],[1450915200000,-0.2888897142],[1451001600000,-0.2872555756],[1451260800000,-0.3077881562],[1451347200000,-0.3014280143],[1451433600000,-0.3008152123],[1451520000000,-0.3071623554],[1451865600000,-0.3555532859],[1451952000000,-0.3539989972],[1452038400000,-0.3426658744],[1452124800000,-0.3882416297],[1452211200000,-0.3757664667],[1452470400000,-0.4071697833],[1452556800000,-0.4028504577],[1452643200000,-0.4139607435],[1452729600000,-0.40176227],[1452816000000,-0.4208594084],[1453075200000,-0.4186310375],[1453161600000,-0.4014744387],[1453248000000,-0.4105253384],[1453334400000,-0.4278026406],[1453420800000,-0.4218380346],[1453680000000,-0.418972721],[1453766400000,-0.4539544298],[1453852800000,-0.4558411172],[1453939200000,-0.4700636943],[1454025600000,-0.4529182374],[1454284800000,-0.461282056],[1454371200000,-0.4500882063],[1454457600000,-0.4524447085],[1454544000000,-0.4457373122],[1454630400000,-0.4496313903],[1455494400000,-0.4528031049],[1455580800000,-0.4360309001],[1455667200000,-0.4311489109],[1455753600000,-0.4329353215],[1455840000000,-0.4333290004],[1456099200000,-0.4208334107],[1456185600000,-0.4263133461],[1456272000000,-0.4225659691],[1456358400000,-0.457995209],[1456444800000,-0.4525579841],[1456704000000,-0.4656608048],[1456790400000,-0.45577798],[1456876800000,-0.4333754248],[1456963200000,-0.432058829],[1457049600000,-0.4254721361],[1457308800000,-0.4234387477],[1457395200000,-0.4229132235],[1457481600000,-0.4295537687],[1457568000000,-0.4404653581],[1457654400000,-0.4395127296],[1457913600000,-0.4307088076],[1458000000000,-0.4290208167],[1458086400000,-0.4261889287],[1458172800000,-0.4198436426],[1458259200000,-0.4109747266],[1458518400000,-0.3965868786],[1458604800000,-0.4009786262],[1458691200000,-0.3990659412],[1458777600000,-0.4091381776],[1458864000000,-0.4061725873],[1459123200000,-0.4113888321],[1459209600000,-0.4177619729],[1459296000000,-0.4027464671],[1459382400000,-0.4024084975],[1459468800000,-0.4017009898],[1459814400000,-0.3937921301],[1459900800000,-0.3950845852],[1459987200000,-0.4040426362],[1460073600000,-0.408417671],[1460332800000,-0.4001782697],[1460419200000,-0.4023416464],[1460505600000,-0.3943696496],[1460592000000,-0.3916863197],[1460678400000,-0.3923585449],[1460937600000,-0.4004846707],[1461024000000,-0.3986555496],[1461110400000,-0.4092904496],[1461196800000,-0.413084251],[1461283200000,-0.4104287757],[1461542400000,-0.4128187035],[1461628800000,-0.409637704],[1461715200000,-0.4120963399],[1461801600000,-0.4130879649],[1461888000000,-0.4137991866],[1462233600000,-0.4032534215],[1462320000000,-0.4040110676],[1462406400000,-0.4031828564],[1462492800000,-0.4187016026],[1462752000000,-0.4307236634],[1462838400000,-0.4300737219],[1462924800000,-0.4275296652],[1463011200000,-0.426168502],[1463097600000,-0.4289911051],[1463356800000,-0.4252084455],[1463443200000,-0.426933576],[1463529600000,-0.4302742753],[1463616000000,-0.4313011829],[1463702400000,-0.428382017],[1463961600000,-0.4267107389],[1464048000000,-0.4311062004],[1464134400000,-0.431908414],[1464220800000,-0.43098364],[1464307200000,-0.4313011829],[1464566400000,-0.4305193961],[1464652800000,-0.4114204007],[1464739200000,-0.4130935359],[1464825600000,-0.4118772168],[1464912000000,-0.4077510167],[1465171200000,-0.4097064121],[1465257600000,-0.4100295259],[1465344000000,-0.4124547362],[1465776000000,-0.4305881042],[1465862400000,-0.4287979796],[1465948800000,-0.4212976546],[1466035200000,-0.425327292],[1466121600000,-0.4224136971],[1466380800000,-0.4219847357],[1466467200000,-0.4231639152],[1466553600000,-0.4180312343],[1466640000000,-0.4211212419],[1466726400000,-0.4285788565],[1466985600000,-0.4205232958],[1467072000000,-0.4175781323],[1467158400000,-0.4147945256],[1467244800000,-0.4143247108],[1467331200000,-0.4142727155],[1467590400000,-0.404894988],[1467676800000,-0.4043973185],[1467763200000,-0.4026480474],[1467849600000,-0.4039200758],[1467936000000,-0.4072013519],[1468195200000,-0.4051493937],[1468281600000,-0.3921784182],[1468368000000,-0.3903790087],[1468454400000,-0.3915136209],[1468540800000,-0.3916027558],[1468800000000,-0.3942508031],[1468886400000,-0.3968115727],[1468972800000,-0.3987855379],[1469059200000,-0.3960149301],[1469145600000,-0.4010956157],[1469404800000,-0.4000315686],[1469491200000,-0.3928450725],[1469577600000,-0.4023806429],[1469664000000,-0.4018421199],[1469750400000,-0.4050379752],[1470009600000,-0.4100740933],[1470096000000,-0.407801155],[1470182400000,-0.4069729439],[1470268800000,-0.4055282167],[1470355200000,-0.404818852],[1470614400000,-0.3994206236],[1470700800000,-0.3951867189],[1470787200000,-0.3977196338],[1470873600000,-0.3995728956],[1470960000000,-0.3882694843],[1471219200000,-0.3698501421],[1471305600000,-0.3726671742],[1471392000000,-0.3736328016],[1471478400000,-0.3752223728],[1471564800000,-0.3751239531],[1471824000000,-0.3803661956],[1471910400000,-0.3794302798],[1471996800000,-0.3816530798],[1472083200000,-0.3855323021],[1472169600000,-0.3858814135],[1472428800000,-0.3857532822],[1472515200000,-0.3849714954],[1472601600000,-0.3820374738],[1472688000000,-0.3869046072],[1472774400000,-0.3845778166],[1473033600000,-0.3835434811],[1473120000000,-0.3792835788],[1473206400000,-0.3796178344],[1473292800000,-0.3798518133],[1473379200000,-0.3838480251],[1473638400000,-0.3941430985],[1473724800000,-0.394564632],[1473811200000,-0.3985756996],[1474243200000,-0.3940465358],[1474329600000,-0.3951087259],[1474416000000,-0.3933928804],[1474502400000,-0.3888470038],[1474588800000,-0.3917160313],[1474848000000,-0.4020018198],[1474934400000,-0.3982005905],[1475020800000,-0.4000315686],[1475107200000,-0.3975246514],[1475193600000,-0.3958737999],[1476057600000,-0.3883363354],[1476144000000,-0.3859798332],[1476230400000,-0.3871961523],[1476316800000,-0.3867059108],[1476403200000,-0.3861116785],[1476662400000,-0.3913056396],[1476748800000,-0.3832370801],[1476835200000,-0.3841822807],[1476921600000,-0.3837440345],[1477008000000,-0.3820467586],[1477267200000,-0.3746485673],[1477353600000,-0.374672708],[1477440000000,-0.3770217823],[1477526400000,-0.3787116302],[1477612800000,-0.3797459657],[1477872000000,-0.3804609014],[1477958400000,-0.3762325676],[1478044800000,-0.3810049953],[1478131200000,-0.3751128113],[1478217600000,-0.3771387718],[1478476800000,-0.3766893837],[1478563200000,-0.3739911979],[1478649600000,-0.3773467531],[1478736000000,-0.3703719522],[1478822400000,-0.3654305398],[1479081600000,-0.3630109004],[1479168000000,-0.3630814655],[1479254400000,-0.3631334608],[1479340800000,-0.3618447197],[1479427200000,-0.3653859724],[1479686400000,-0.3609942248],[1479772800000,-0.3559339659],[1479859200000,-0.3547510724],[1479945600000,-0.3521494494],[1480032000000,-0.3461031364],[1480291200000,-0.3435442239],[1480377600000,-0.3381664222],[1480464000000,-0.343001987],[1480550400000,-0.3379807246],[1480636800000,-0.34468255],[1480896000000,-0.3557389835],[1480982400000,-0.3576442406],[1481068800000,-0.3545616609],[1481155200000,-0.3556034243],[1481241600000,-0.3512283894],[1481500800000,-0.3669235483],[1481587200000,-0.3676923363],[1481673600000,-0.3725371859],[1481760000000,-0.3796902564],[1481846400000,-0.37865035],[1482105600000,-0.3818164937],[1482192000000,-0.3855155893],[1482278400000,-0.3800412249],[1482364800000,-0.3805741769],[1482451200000,-0.3857867078],[1482710400000,-0.3830383837],[1482796800000,-0.3841544261],[1482883200000,-0.3868470409],[1482969600000,-0.3876139719],[1483056000000,-0.3853261778],[1483401600000,-0.3793560008],[1483488000000,-0.3745130081],[1483574400000,-0.3746095709],[1483660800000,-0.378345806],[1483920000000,-0.3753319344],[1484006400000,-0.3763774117],[1484092800000,-0.3807914431],[1484179200000,-0.3839260181],[1484265600000,-0.3835007706],[1484524800000,-0.3835861915],[1484611200000,-0.3823030213],[1484697600000,-0.3798870959],[1484784000000,-0.3817589274],[1484870400000,-0.3770050695],[1485129600000,-0.3752985088],[1485216000000,-0.3752298007],[1485302400000,-0.3731035635],[1485388800000,-0.3708640508],[1486080000000,-0.3752223728],[1486339200000,-0.37360309],[1486425600000,-0.3750013927],[1486512000000,-0.3717312585],[1486598400000,-0.36931719],[1486684800000,-0.3661231918],[1486944000000,-0.3618930011],[1487030400000,-0.3619802789],[1487116800000,-0.3645967577],[1487203200000,-0.3610276504],[1487289600000,-0.3646468961],[1487548800000,-0.3553713023],[1487635200000,-0.353248779],[1487721600000,-0.3519600379],[1487808000000,-0.355012906],[1487894400000,-0.3549144863],[1488153600000,-0.3600453102],[1488240000000,-0.3588215632],[1488326400000,-0.3577760859],[1488412800000,-0.3621102672],[1488499200000,-0.3634547176],[1488758400000,-0.3599970288],[1488844800000,-0.358608011],[1488931200000,-0.3595792093],[1489017600000,-0.3636255594],[1489104000000,-0.3634491467],[1489363200000,-0.357839223],[1489449600000,-0.3581010566],[1489536000000,-0.3568104585],[1489622400000,-0.3534920429],[1489708800000,-0.3601214462],[1489968000000,-0.3594157954],[1490054400000,-0.3563072181],[1490140800000,-0.3593340885],[1490227200000,-0.3571187165],[1490313600000,-0.3519897495],[1490572800000,-0.3541364134],[1490659200000,-0.3556647045],[1490745600000,-0.3565226272],[1490832000000,-0.3618020092],[1490918400000,-0.3582199031],[1491350400000,-0.3493361312],[1491436800000,-0.3474494438],[1491523200000,-0.3468162151],[1491782400000,-0.3491040092],[1491868800000,-0.3468403558],[1491955200000,-0.3483055096],[1492041600000,-0.3473528811],[1492128000000,-0.352565412],[1492387200000,-0.353783588],[1492473600000,-0.3569775863],[1492560000000,-0.3601084474],[1492646400000,-0.3571985664],[1492732800000,-0.3562255111],[1492992000000,-0.3628233459],[1493078400000,-0.3610202225],[1493164800000,-0.3602384357],[1493251200000,-0.3599524614],[1493337600000,-0.3612467735],[1493683200000,-0.3636924105],[1493769600000,-0.3661900429],[1493856000000,-0.3678130397],[1493942400000,-0.3718686747],[1494201600000,-0.3762771351],[1494288000000,-0.3774433158],[1494374400000,-0.3801972108],[1494460800000,-0.3766782418],[1494547200000,-0.3713431505],[1494806400000,-0.3687786671],[1494892800000,-0.3633080166],[1494979200000,-0.3667768472],[1495065600000,-0.3689792204],[1495152000000,-0.3679133164],[1495411200000,-0.3665410113],[1495497600000,-0.3641362277],[1495584000000,-0.3641399417],[1495670400000,-0.3527213979],[1495756800000,-0.3536925962],[1496188800000,-0.3513806615],[1496275200000,-0.3504781713],[1496361600000,-0.352563555],[1496620800000,-0.3558615439],[1496707200000,-0.3513806615],[1496793600000,-0.3437689179],[1496880000000,-0.3387346567],[1496966400000,-0.3359139106],[1497225600000,-0.3362444523],[1497312000000,-0.3347811554],[1497398400000,-0.3435033704],[1497484800000,-0.3447122616],[1497571200000,-0.3465748083],[1497830400000,-0.340092106],[1497916800000,-0.3414254146],[1498003200000,-0.3337245362],[1498089600000,-0.333282576],[1498176000000,-0.327239977],[1498435200000,-0.3188445897],[1498521600000,-0.3176134148],[1498608000000,-0.3229150805],[1498694400000,-0.3187071735],[1498780800000,-0.3190841396],[1499040000000,-0.3220460159],[1499126400000,-0.3277784999],[1499212800000,-0.3204063063],[1499299200000,-0.3203283133],[1499385600000,-0.3211026722],[1499644800000,-0.3215186348],[1499731200000,-0.3183394923],[1499817600000,-0.3205660062],[1499904000000,-0.3153479044],[1499990400000,-0.3123451746],[1500249600000,-0.3196857997],[1500336000000,-0.3190135745],[1500422400000,-0.3073944774],[1500508800000,-0.3040277804],[1500595200000,-0.3076080296],[1500854400000,-0.3048467067],[1500940800000,-0.3092867356],[1501027200000,-0.3119180702],[1501113600000,-0.3106553267],[1501200000000,-0.3088540603],[1501459200000,-0.3058866131],[1501545600000,-0.299849585],[1501632000000,-0.3016192828],[1501718400000,-0.3077510167],[1501804800000,-0.3115113925],[1502064000000,-0.3079441422],[1502150400000,-0.3069376613],[1502236800000,-0.3071549275],[1502323200000,-0.3099626748],[1502409600000,-0.3226959574],[1502668800000,-0.3139068912],[1502755200000,-0.3117936529],[1502841600000,-0.3126552896],[1502928000000,-0.3089673358],[1503014400000,-0.308337821],[1503273600000,-0.3053072366],[1503360000000,-0.3032069971],[1503446400000,-0.3025032033],[1503532800000,-0.3064845592],[1503619200000,-0.2951384375],[1503878400000,-0.2864180795],[1503964800000,-0.2879352287],[1504051200000,-0.2879797961],[1504137600000,-0.2902471635],[1504224000000,-0.288678019],[1504483200000,-0.2858776996],[1504569600000,-0.2837551763],[1504656000000,-0.2851664779],[1504742400000,-0.2888024364],[1504828800000,-0.2895229429],[1505088000000,-0.2895860801],[1505174400000,-0.2873057139],[1505260800000,-0.2864366493],[1505347200000,-0.2887857236],[1505433600000,-0.2885368888],[1505692800000,-0.2863382296],[1505779200000,-0.2883846168],[1505865600000,-0.2864682179],[1505952000000,-0.2873261406],[1506038400000,-0.2873428534],[1506297600000,-0.291045663],[1506384000000,-0.2904904273],[1506470400000,-0.2904124343],[1506556800000,-0.2901635996],[1506643200000,-0.2875712614],[1507507200000,-0.2790830254],[1507593600000,-0.277662439],[1507680000000,-0.2752799391],[1507766400000,-0.273374682],[1507852800000,-0.2718798165],[1508112000000,-0.2732818332],[1508198400000,-0.2733523983],[1508284800000,-0.2675790607],[1508371200000,-0.2699764164],[1508457600000,-0.2707934857],[1508716800000,-0.2700599803],[1508803200000,-0.2647490297],[1508889600000,-0.2614900373],[1508976000000,-0.2584018867],[1509062400000,-0.2531299326],[1509321600000,-0.2554047279],[1509408000000,-0.2559618206],[1509494400000,-0.2578373661],[1509580800000,-0.2577426603],[1509667200000,-0.2585653006],[1509926400000,-0.253330486],[1510012800000,-0.2471356149],[1510099200000,-0.2482943678],[1510185600000,-0.2431152625],[1510272000000,-0.2364282929],[1510531200000,-0.2334274201],[1510617600000,-0.2387606544],[1510704000000,-0.2435293681],[1510790400000,-0.2377096061],[1510876800000,-0.2347681566],[1511136000000,-0.2305008264],[1511222400000,-0.2167833466],[1511308800000,-0.2149505116],[1511395200000,-0.2381942768],[1511481600000,-0.2378600212],[1511740800000,-0.2479341145],[1511827200000,-0.2468440697],[1511913600000,-0.2472284637],[1512000000000,-0.2560769531],[1512086400000,-0.2575551058],[1512345600000,-0.253707452],[1512432000000,-0.2497502368],[1512518400000,-0.2542719727],[1512604800000,-0.262583796],[1512691200000,-0.2565820505],[1512950400000,-0.244303727],[1513036800000,-0.2542348332],[1513123200000,-0.2479081168],[1513209600000,-0.2523537167],[1513296000000,-0.2607639598],[1513555200000,-0.2599413196],[1513641600000,-0.250649013],[1513728000000,-0.2515477893],[1513814400000,-0.2446101279],[1513900800000,-0.2470706208],[1514160000000,-0.2494958311],[1514246400000,-0.2472526044],[1514332800000,-0.2588419899],[1514419200000,-0.2537000241],[1514505600000,-0.2514809381],[1514851200000,-0.2409797404],[1514937600000,-0.2365248556],[1515024000000,-0.2332900039],[1515110400000,-0.23144417],[1515369600000,-0.227468385],[1515456000000,-0.2220571577],[1515542400000,-0.2186198956],[1515628800000,-0.2190321442],[1515715200000,-0.2154277544],[1515974400000,-0.2153831869],[1516060800000,-0.2092124566],[1516147200000,-0.2111344265],[1516233600000,-0.206807673],[1516320000000,-0.204211621],[1516579200000,-0.1947039052],[1516665600000,-0.1861599599],[1516752000000,-0.1848080816],[1516838400000,-0.1894152383],[1516924800000,-0.1864032237],[1517184000000,-0.2011253273],[1517270400000,-0.2096525598],[1517356800000,-0.2059757479],[1517443200000,-0.2115466751],[1517529600000,-0.2068429556],[1517788800000,-0.2063007186],[1517875200000,-0.2295611966],[1517961600000,-0.2478319808],[1518048000000,-0.2549720525],[1518134400000,-0.2868006165],[1518393600000,-0.2776178715],[1518480000000,-0.269163061],[1518566400000,-0.2633451561],[1519257600000,-0.2474178752],[1519344000000,-0.2440084678],[1519603200000,-0.2352194017],[1519689600000,-0.2462572654],[1519776000000,-0.2528198176],[1519862400000,-0.2480938144],[1519948800000,-0.2541531262],[1520208000000,-0.2538485822],[1520294400000,-0.2448496778],[1520380800000,-0.2504038922],[1520467200000,-0.2427995766],[1520553600000,-0.2369928135],[1520812800000,-0.2335016991],[1520899200000,-0.2402648047],[1520985600000,-0.2435906483],[1521072000000,-0.2393530297],[1521158400000,-0.2467326512],[1521417600000,-0.2434216635],[1521504000000,-0.2427810069],[1521590400000,-0.2458728714],[1521676800000,-0.2534307627],[1521763200000,-0.2748621196],[1522022400000,-0.2795138438],[1522108800000,-0.2733152588],[1522195200000,-0.2864162225],[1522281600000,-0.2768843661],[1522368000000,-0.2760580119],[1522627200000,-0.2782083898],[1522713600000,-0.2827468385],[1522800000000,-0.284161854],[1523232000000,-0.2845202503],[1523318400000,-0.2707340625],[1523404800000,-0.2686598206],[1523491200000,-0.2760320143],[1523577600000,-0.2811386975],[1523836800000,-0.2927039424],[1523923200000,-0.3038866502],[1524009600000,-0.300610945],[1524096000000,-0.2921505636],[1524182400000,-0.3016192828],[1524441600000,-0.3006016601],[1524528000000,-0.2862732354],[1524614400000,-0.2890197025],[1524700800000,-0.3026146218],[1524787200000,-0.3023565022],[1525219200000,-0.3010993296],[1525305600000,-0.2956491059],[1525392000000,-0.2990659412],[1525651200000,-0.2880002228],[1525737600000,-0.2797385378],[1525824000000,-0.2810495627],[1525910400000,-0.2770682067],[1525996800000,-0.2808230116],[1526256000000,-0.2740543351],[1526342400000,-0.2713041541],[1526428800000,-0.2771090602],[1526515200000,-0.2824552933],[1526601600000,-0.275211231],[1526860800000,-0.2718352491],[1526947200000,-0.2746262836],[1527033600000,-0.2842138493],[1527120000000,-0.2892945349],[1527206400000,-0.2912852129],[1527465600000,-0.2881729216],[1527552000000,-0.2936045756],[1527638400000,-0.3085792279],[1527724800000,-0.2939072626],[1527811200000,-0.2998105885],[1528070400000,-0.2929416353],[1528156800000,-0.2859334089],[1528243200000,-0.2874134185],[1528329600000,-0.2885907411],[1528416000000,-0.2981337394],[1528675200000,-0.2980668883],[1528761600000,-0.2895303708],[1528848000000,-0.2965144566],[1528934400000,-0.2992943492],[1529020800000,-0.3029971588],[1529366400000,-0.3275668047],[1529452800000,-0.3249076155],[1529539200000,-0.3327941914],[1529625600000,-0.329836029],[1529884800000,-0.3388275055],[1529971200000,-0.3442814432],[1530057600000,-0.3576238139],[1530144000000,-0.3642587881],[1530230400000,-0.3480195354],[1530489600000,-0.3671500993],[1530576000000,-0.3669049786],[1530662400000,-0.375359789],[1530748800000,-0.3793170043],[1530835200000,-0.3751053834],[1531094400000,-0.3576386697],[1531180800000,-0.3560899519],[1531267200000,-0.3672299493],[1531353600000,-0.3535756068],[1531440000000,-0.351415944],[1531699200000,-0.355241314],[1531785600000,-0.3594585059],[1531872000000,-0.362812204],[1531958400000,-0.3633655828],[1532044800000,-0.3513788045],[1532304000000,-0.3452767822],[1532390400000,-0.3348851461],[1532476800000,-0.3356205084],[1532563200000,-0.3433269577],[1532649600000,-0.3461161353],[1532908800000,-0.3472581753],[1532995200000,-0.3467790756],[1533081600000,-0.359828044]]}],\"xAxis\":{\"title\":{\"text\":\"date\"},\"type\":\"datetime\"},\"yAxis\":[{}]});</script>"
      ],
      "text/plain": [
       "<IPython.core.display.HTML object>"
      ]
     },
     "metadata": {},
     "output_type": "display_data"
    }
   ],
   "source": [
    "df = show_df.dropna(how='any', inplace=False).copy()\n",
    "# df.drop(columns=['open', 'high', 'low', 'o_pct_chg', 'TR', 'N'], inplace=True)\n",
    "df.columns\n",
    "\n",
    "show_columns = ['close']\n",
    "df['close'] = (df['close'] - df.iloc[0]['close']) / df.iloc[0]['close']\n",
    "for col in sorted(df.columns):\n",
    "    if 'PROPERTY' in col:\n",
    "        df[col] = (df[col] - df.iloc[1][col]) / df.iloc[0][col]\n",
    "        show_columns.append(col)\n",
    "    if 'CASH' in col:\n",
    "        df[col] = df[col] / df.iloc[0][col]\n",
    "        show_columns.append(col)\n",
    "\n",
    "# df = df.loc[:, ['close', 'CASH_TURTLE_20_60_60', 'PROPERTY_TURTLE_20_60_60']]\n",
    "df = df.loc[:, show_columns]\n",
    "df.reset_index(drop=False, inplace=True)\n",
    "# df.dtypes\n",
    "# df.iloc[0].date\n",
    "# df.iloc[0].date.to_timestamp()\n",
    "# df.iloc[0].date.to_timestamp().to_datetime64()\n",
    "df['date'] = df['date'].apply(lambda x: x.to_timestamp().to_datetime64())\n",
    "# df.iloc[0].date\n",
    "df.set_index(keys=['date'], inplace=True)\n",
    "# df\n",
    "\n",
    "display_charts(df, chart_type='stock', figsize=(900, 600), logy=False)"
   ]
  }
 ],
 "metadata": {
  "kernelspec": {
   "display_name": "Python 3",
   "language": "python",
   "name": "python3"
  },
  "language_info": {
   "codemirror_mode": {
    "name": "ipython",
    "version": 3
   },
   "file_extension": ".py",
   "mimetype": "text/x-python",
   "name": "python",
   "nbconvert_exporter": "python",
   "pygments_lexer": "ipython3",
   "version": "3.6.1"
  }
 },
 "nbformat": 4,
 "nbformat_minor": 2
}
