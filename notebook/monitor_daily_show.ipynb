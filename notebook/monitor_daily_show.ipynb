{
 "cells": [
  {
   "cell_type": "code",
   "execution_count": null,
   "metadata": {
    "scrolled": false
   },
   "outputs": [],
   "source": [
    "import pandas as pd\n",
    "pd.core.common.is_list_like = pd.api.types.is_list_like\n",
    "\n",
    "from IPython.core.interactiveshell import InteractiveShell\n",
    "InteractiveShell.ast_node_interactivity = 'all'\n",
    "\n",
    "from pandas_highcharts.core import serialize\n",
    "from pandas_highcharts.display import display_charts\n",
    "\n",
    "import matplotlib\n",
    "import matplotlib.pyplot as plt\n",
    "\n",
    "from IPython.core.display import display, HTML\n",
    "display(HTML(\"<style>.container { width:70% !important; }</style>\"))"
   ]
  },
  {
   "cell_type": "code",
   "execution_count": null,
   "metadata": {},
   "outputs": [],
   "source": [
    "%store -r MONITOR_TARGET\n",
    "%store -r stock_df_dict"
   ]
  },
  {
   "cell_type": "code",
   "execution_count": null,
   "metadata": {
    "scrolled": false
   },
   "outputs": [],
   "source": [
    "for symbol in MONITOR_TARGET:\n",
    "    df = stock_df_dict[symbol].iloc[-100:].copy()    \n",
    "    df.reset_index(drop=False, inplace=True)\n",
    "    # df = df.astype(dtype={'date': 'datetime64[ns]'})\n",
    "    df['date'] = df['date'].apply(lambda x: x.to_timestamp().to_datetime64())\n",
    "    df.set_index('date', inplace=True)\n",
    "\n",
    "    today_market = df.iloc[-1]\n",
    "    now_point = today_market.open\n",
    "    for col in df.columns:\n",
    "        if 'ROLLINGMAX' in col:\n",
    "            buy_point = today_market[col]\n",
    "            buy_diff = (buy_point - now_point) / now_point * 100\n",
    "        elif 'ROLLINGMIN' in col:\n",
    "            sell_point = today_market[col]\n",
    "            sell_diff = (now_point - sell_point) / now_point * 100\n",
    "    title = '%s, %s, open=%d, buy=%d(+%.1f), sell=%d(-%.1f)' % \\\n",
    "        (symbol, today_market.name.date(), now_point, buy_point, buy_diff, sell_point, sell_diff)\n",
    "    \n",
    "#     display_charts(df, chart_type='stock', kind='line', title=title, figsize=(1000, 600))\n",
    "    ax = df.plot(kind='line', title=title, linewidth=0.9, grid=True, figsize=(19, 7))\n",
    "    ax.yaxis.tick_right()"
   ]
  }
 ],
 "metadata": {
  "kernelspec": {
   "display_name": "Python 3",
   "language": "python",
   "name": "python3"
  },
  "language_info": {
   "codemirror_mode": {
    "name": "ipython",
    "version": 3
   },
   "file_extension": ".py",
   "mimetype": "text/x-python",
   "name": "python",
   "nbconvert_exporter": "python",
   "pygments_lexer": "ipython3",
   "version": "3.6.1"
  }
 },
 "nbformat": 4,
 "nbformat_minor": 2
}
