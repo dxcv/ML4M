{
 "cells": [
  {
   "cell_type": "code",
   "execution_count": 1,
   "metadata": {
    "scrolled": false
   },
   "outputs": [
    {
     "data": {
      "text/html": [
       "\n",
       "<script src=\"//code.highcharts.com/stock/highstock.js\"></script>\n",
       "<script src=\"//code.highcharts.com/highcharts-more.js\"></script>\n",
       "<script src=\"//code.highcharts.com/modules/exporting.js\"></script>\n"
      ],
      "text/plain": [
       "<IPython.core.display.HTML object>"
      ]
     },
     "metadata": {},
     "output_type": "display_data"
    },
    {
     "data": {
      "text/plain": [
       "<module 'pandas' from 'd:\\\\python36\\\\lib\\\\site-packages\\\\pandas\\\\__init__.py'>"
      ]
     },
     "execution_count": 1,
     "metadata": {},
     "output_type": "execute_result"
    }
   ],
   "source": [
    "import os\n",
    "import sys\n",
    "sys.path.append(os.path.abspath(os.path.join(os.getcwd(), '..')))\n",
    "\n",
    "import pandas as pd\n",
    "pd.core.common.is_list_like = pd.api.types.is_list_like\n",
    "try:\n",
    "    import empyrical as emp\n",
    "except:\n",
    "    emp = None\n",
    "import tushare as ts\n",
    "import time\n",
    "import random\n",
    "# from concurrent.futures import ProcessPoolExecutor\n",
    "\n",
    "from common.log import *\n",
    "from common.config import Config\n",
    "from spider.spider_nasdaq import Spider_nasdaq\n",
    "from spider.spider_coinmarketcap import Spider_coinmarketcap\n",
    "\n",
    "from IPython.core.interactiveshell import InteractiveShell\n",
    "InteractiveShell.ast_node_interactivity = 'all'\n",
    "\n",
    "import pandas_highcharts\n",
    "from pandas_highcharts.core import serialize\n",
    "from pandas_highcharts.display import display_charts\n",
    "\n",
    "CONF = Config().data[0]\n",
    "MONGODB = CONF['MONGODB']\n",
    "NASDAQ = CONF['NASDAQ']\n",
    "CRYPTOCURRENCY = CONF['CRYPTOCURRENCY']\n",
    "CRYPTOCURRENCY = list(CRYPTOCURRENCY.keys())\n",
    "NASDAQ100 = CONF['NASDAQ100']\n",
    "HS300 = list(ts.get_hs300s()['code'])\n",
    "\n",
    "BENCHMARK = '399300'\n",
    "# TARGET = ['399300']\n",
    "TARGET = HS300\n",
    "# BENCHMARK = 'NDX'\n",
    "# TARGET = NASDAQ100\n",
    "BENCHMARK = 'BITCOIN'\n",
    "TARGET = CRYPTOCURRENCY\n",
    "# BENCHMARK = 'EOS'\n",
    "# TARGET = ['EOS']\n",
    "\n",
    "ALL_TARGET = TARGET[:]\n",
    "\n",
    "pd"
   ]
  },
  {
   "cell_type": "code",
   "execution_count": 2,
   "metadata": {
    "scrolled": false
   },
   "outputs": [
    {
     "name": "stdout",
     "output_type": "stream",
     "text": [
      "Wall time: 0 ns\n"
     ]
    }
   ],
   "source": [
    "%%time\n",
    "\n",
    "IS_DOWNLOAD_DATA = False\n",
    "spider_n = Spider_nasdaq()\n",
    "spider_c = Spider_coinmarketcap()\n",
    "timeframe = '10y'\n",
    "ignore = True\n",
    "\n",
    "for symbol in TARGET + [BENCHMARK]:\n",
    "    if not IS_DOWNLOAD_DATA:\n",
    "        break\n",
    "\n",
    "    # 沪深300指数\n",
    "    if symbol == '399300':\n",
    "        df = ts.get_k_data(code=symbol, index=True, start='2005-01-01', end=time.strftime('%Y-%m-%d'))\n",
    "        datafile = '../database/market/%s.csv' % symbol\n",
    "        df.to_csv(datafile, index=False, encoding='utf-8')\n",
    "        \n",
    "    # A股\n",
    "    elif symbol in HS300:\n",
    "        df = ts.get_k_data(code=symbol, ktype='D', autype='qfq', index=False, start='2005-01-01', end=time.strftime('%Y-%m-%d'))\n",
    "        datafile = '../database/market/%s.csv' % symbol\n",
    "        df.to_csv(datafile, index=False, encoding='utf-8')\n",
    "        \n",
    "    # NASDAQ\n",
    "    elif symbol in NASDAQ100:\n",
    "        datafile = None\n",
    "        while datafile is None:\n",
    "            try:\n",
    "                datafile = spider_n.get_stock_data(symbol, timeframe)\n",
    "            except:\n",
    "                time.sleep(5)\n",
    "    \n",
    "    # CRYPTOCURRENCY\n",
    "    elif symbol in CRYPTOCURRENCY:\n",
    "        datafile = spider_c.get_coin_data(symbol, start_date='20100101', end_date=time.strftime('%Y%m%d'))\n",
    "        \n",
    "    print(datafile)\n",
    "    time.sleep(1)"
   ]
  },
  {
   "cell_type": "code",
   "execution_count": 3,
   "metadata": {},
   "outputs": [
    {
     "name": "stdout",
     "output_type": "stream",
     "text": [
      "Wall time: 0 ns\n"
     ]
    }
   ],
   "source": [
    "%%time\n",
    "\n",
    "### 时间设置\n",
    "start_date = '2005-01-01'\n",
    "# start_date = '2006-01-01'\n",
    "# start_date = '2007-01-01'\n",
    "# start_date = '2008-01-01'\n",
    "# start_date = '2009-01-01'\n",
    "# start_date = '2010-01-01'\n",
    "# start_date = '2011-01-01'\n",
    "# start_date = '2012-01-01'\n",
    "# start_date = '2013-01-01'\n",
    "# start_date = '2014-01-01'\n",
    "# start_date = '2015-01-01'\n",
    "# start_date = '2015-07-01'\n",
    "# start_date = '2016-01-01'\n",
    "start_date = '2017-01-01'\n",
    "start_date = '2018-01-01'\n",
    "# start_date = '2018-07-01'\n",
    "# end_date = '2016-01-01'\n",
    "# end_date = '2018-09-01'\n",
    "end_date = time.strftime('%Y-%m-%d')\n",
    "\n",
    "TURTLE_POS = 5\n",
    "### Turtle System One - Short\n",
    "TURTLE_SHORT_BUY_N = 20\n",
    "TURTLE_SHORT_SELL_N = 20\n",
    "### Turtle System Two - Long\n",
    "TURTLE_LONG_BUY_N = 20\n",
    "TURTLE_LONG_SELL_N = 10\n",
    "\n",
    "### 业务设置\n",
    "IS_HAPPYMONEY = False\n",
    "IS_TAX = False\n",
    "IS_SLIPPAGE = False\n",
    "IS_RANDOM_BUY = True\n",
    "IS_FILTER = False\n",
    "IS_MARKETUP = False\n",
    "IS_BUYBENCHMARK = True\n",
    "IS_SHOWBUYLIST = True\n",
    "START_MONEY = 1000000\n",
    "HAPPY_MONEY = 0\n",
    "PROPERTY = START_MONEY\n",
    "CASH = START_MONEY\n"
   ]
  },
  {
   "cell_type": "code",
   "execution_count": 4,
   "metadata": {},
   "outputs": [
    {
     "name": "stdout",
     "output_type": "stream",
     "text": [
      "Wall time: 1.27 s\n"
     ]
    }
   ],
   "source": [
    "%%time\n",
    "\n",
    "stock_df_dict = {}\n",
    "\n",
    "for symbol in TARGET + [BENCHMARK]:\n",
    "    stock_data_file = '../database/market/%s.csv' % symbol\n",
    "    stock_df = pd.read_csv(stock_data_file)\n",
    "\n",
    "    # 筛选字段\n",
    "    stock_df = stock_df.loc[:, ['date', 'open', 'close']]\n",
    "\n",
    "    # 去掉Nasdaq行情首行的当天行情\n",
    "    if symbol in NASDAQ100:\n",
    "        stock_df = stock_df.drop([0])\n",
    "\n",
    "    # 抛弃空值异常值\n",
    "    stock_df.dropna(axis=0, how='any', inplace=True)\n",
    "\n",
    "    # 格式化日期\n",
    "    # 445 ms ± 17.5 ms per loop (mean ± std. dev. of 7 runs, 1 loop each)\n",
    "    stock_df = stock_df.assign(date=pd.to_datetime(stock_df['date']))  # need .index.to_period('D')\n",
    "\n",
    "    # 用日期作索引，日期升序排序\n",
    "    # 95.1 µs ± 1.58 µs per loop (mean ± std. dev. of 7 runs, 10000 loops each)\n",
    "    if symbol in NASDAQ100 or symbol in CRYPTOCURRENCY:\n",
    "        stock_df = stock_df[::-1]\n",
    "    stock_df.set_index(['date'], inplace=True)\n",
    "    stock_df.index = stock_df.index.to_period('D')\n",
    "\n",
    "    # 计算每天涨跌幅\n",
    "    stock_df['o_pct_chg'] = stock_df.open.pct_change(1)\n",
    "#     stock_df['pre_close'] = stock_df.close.shift(1)\n",
    "#     stock_df['c_o_pct_chg'] = (stock_df.open - stock_df.pre_close) / stock_df.pre_close\n",
    "    stock_df['c_o_pct_chg'] = (stock_df.open - stock_df.close.shift(1)) / stock_df.close.shift(1)\n",
    "    \n",
    "    # Turtle指标\n",
    "#     stock_df['TR1'] = abs(stock_df['high'] - stock_df['low'])\n",
    "#     stock_df['TR2'] = abs(stock_df['high'] - stock_df['close'].shift())\n",
    "#     stock_df['TR3'] = abs(stock_df['low'] - stock_df['close'].shift())\n",
    "#     stock_df['TR'] = stock_df[['TR1', 'TR2', 'TR3']].max(axis=1)\n",
    "#     stock_df['N'] = stock_df['TR'].rolling(20).mean()\n",
    "#     stock_df['UNIT'] = (0.01 * START_MONEY) / (stock_df['N'])\n",
    "#     stock_df['ROLLING_%d_MAX' % TURTLE_SHORT_BUY_N] = stock_df['open'].rolling(TURTLE_SHORT_BUY_N).max()\n",
    "#     stock_df['ROLLING_%d_MIN' % TURTLE_SHORT_SELL_N] = stock_df['open'].rolling(TURTLE_SHORT_SELL_N).min()\n",
    "    stock_df['ROLLING_%d_MAX' % TURTLE_LONG_BUY_N] = stock_df['open'].rolling(TURTLE_LONG_BUY_N).max()\n",
    "    stock_df['ROLLING_%d_MIN' % TURTLE_LONG_SELL_N] = stock_df['open'].rolling(TURTLE_LONG_SELL_N).min()\n",
    "#     stock_df['EWMA'] = stock_df['open'].ewm(alpha=0.1, adjust=False).mean()\n",
    "#     stock_df['MA360'] = stock_df['open'].rolling(360).mean()\n",
    "#     stock_df['MA250'] = stock_df['open'].rolling(250).mean()\n",
    "    stock_df['MA180'] = stock_df['open'].rolling(180).mean()\n",
    "    stock_df['MA90'] = stock_df['open'].rolling(90).mean()\n",
    "    stock_df['MA60'] = stock_df['open'].rolling(60).mean()\n",
    "    stock_df['MA30'] = stock_df['open'].rolling(30).mean()\n",
    "    \n",
    "    # 减少数据\n",
    "    # stock_df = stock_df['2016-01-01':]\n",
    "    stock_df.dropna(how='any', inplace=True)\n",
    "#     stock_df.drop(columns=['volume', 'TR1', 'TR2', 'TR3'], inplace=True)\n",
    "    \n",
    "    stock_df_dict[symbol] = stock_df"
   ]
  },
  {
   "cell_type": "code",
   "execution_count": 5,
   "metadata": {
    "scrolled": false
   },
   "outputs": [
    {
     "data": {
      "text/plain": [
       "'抽查数据'"
      ]
     },
     "execution_count": 5,
     "metadata": {},
     "output_type": "execute_result"
    },
    {
     "data": {
      "text/html": [
       "<div>\n",
       "<style scoped>\n",
       "    .dataframe tbody tr th:only-of-type {\n",
       "        vertical-align: middle;\n",
       "    }\n",
       "\n",
       "    .dataframe tbody tr th {\n",
       "        vertical-align: top;\n",
       "    }\n",
       "\n",
       "    .dataframe thead th {\n",
       "        text-align: right;\n",
       "    }\n",
       "</style>\n",
       "<table border=\"1\" class=\"dataframe\">\n",
       "  <thead>\n",
       "    <tr style=\"text-align: right;\">\n",
       "      <th></th>\n",
       "      <th>open</th>\n",
       "      <th>close</th>\n",
       "      <th>o_pct_chg</th>\n",
       "      <th>c_o_pct_chg</th>\n",
       "      <th>ROLLING_20_MAX</th>\n",
       "      <th>ROLLING_10_MIN</th>\n",
       "      <th>MA180</th>\n",
       "      <th>MA90</th>\n",
       "      <th>MA60</th>\n",
       "      <th>MA30</th>\n",
       "    </tr>\n",
       "    <tr>\n",
       "      <th>date</th>\n",
       "      <th></th>\n",
       "      <th></th>\n",
       "      <th></th>\n",
       "      <th></th>\n",
       "      <th></th>\n",
       "      <th></th>\n",
       "      <th></th>\n",
       "      <th></th>\n",
       "      <th></th>\n",
       "      <th></th>\n",
       "    </tr>\n",
       "  </thead>\n",
       "  <tbody>\n",
       "    <tr>\n",
       "      <th>2013-10-24</th>\n",
       "      <td>214.30</td>\n",
       "      <td>198.23</td>\n",
       "      <td>0.108295</td>\n",
       "      <td>0.003183</td>\n",
       "      <td>214.3</td>\n",
       "      <td>140.77</td>\n",
       "      <td>117.189611</td>\n",
       "      <td>126.493778</td>\n",
       "      <td>135.473333</td>\n",
       "      <td>142.220333</td>\n",
       "    </tr>\n",
       "    <tr>\n",
       "      <th>2013-10-25</th>\n",
       "      <td>197.69</td>\n",
       "      <td>186.69</td>\n",
       "      <td>-0.077508</td>\n",
       "      <td>-0.002724</td>\n",
       "      <td>214.3</td>\n",
       "      <td>142.41</td>\n",
       "      <td>117.536222</td>\n",
       "      <td>127.623444</td>\n",
       "      <td>136.733000</td>\n",
       "      <td>144.564000</td>\n",
       "    </tr>\n",
       "  </tbody>\n",
       "</table>\n",
       "</div>"
      ],
      "text/plain": [
       "              open   close  o_pct_chg  c_o_pct_chg  ROLLING_20_MAX  \\\n",
       "date                                                                 \n",
       "2013-10-24  214.30  198.23   0.108295     0.003183           214.3   \n",
       "2013-10-25  197.69  186.69  -0.077508    -0.002724           214.3   \n",
       "\n",
       "            ROLLING_10_MIN       MA180        MA90        MA60        MA30  \n",
       "date                                                                        \n",
       "2013-10-24          140.77  117.189611  126.493778  135.473333  142.220333  \n",
       "2013-10-25          142.41  117.536222  127.623444  136.733000  144.564000  "
      ]
     },
     "execution_count": 5,
     "metadata": {},
     "output_type": "execute_result"
    },
    {
     "data": {
      "text/html": [
       "<div>\n",
       "<style scoped>\n",
       "    .dataframe tbody tr th:only-of-type {\n",
       "        vertical-align: middle;\n",
       "    }\n",
       "\n",
       "    .dataframe tbody tr th {\n",
       "        vertical-align: top;\n",
       "    }\n",
       "\n",
       "    .dataframe thead th {\n",
       "        text-align: right;\n",
       "    }\n",
       "</style>\n",
       "<table border=\"1\" class=\"dataframe\">\n",
       "  <thead>\n",
       "    <tr style=\"text-align: right;\">\n",
       "      <th></th>\n",
       "      <th>open</th>\n",
       "      <th>close</th>\n",
       "      <th>o_pct_chg</th>\n",
       "      <th>c_o_pct_chg</th>\n",
       "      <th>ROLLING_20_MAX</th>\n",
       "      <th>ROLLING_10_MIN</th>\n",
       "      <th>MA180</th>\n",
       "      <th>MA90</th>\n",
       "      <th>MA60</th>\n",
       "      <th>MA30</th>\n",
       "    </tr>\n",
       "    <tr>\n",
       "      <th>date</th>\n",
       "      <th></th>\n",
       "      <th></th>\n",
       "      <th></th>\n",
       "      <th></th>\n",
       "      <th></th>\n",
       "      <th></th>\n",
       "      <th></th>\n",
       "      <th></th>\n",
       "      <th></th>\n",
       "      <th></th>\n",
       "    </tr>\n",
       "  </thead>\n",
       "  <tbody>\n",
       "    <tr>\n",
       "      <th>2018-09-29</th>\n",
       "      <td>6643.10</td>\n",
       "      <td>6601.96</td>\n",
       "      <td>-0.005338</td>\n",
       "      <td>-0.000155</td>\n",
       "      <td>6735.05</td>\n",
       "      <td>6398.85</td>\n",
       "      <td>7301.466944</td>\n",
       "      <td>6825.017111</td>\n",
       "      <td>6675.2960</td>\n",
       "      <td>6635.130000</td>\n",
       "    </tr>\n",
       "    <tr>\n",
       "      <th>2018-09-30</th>\n",
       "      <td>6604.71</td>\n",
       "      <td>6625.56</td>\n",
       "      <td>-0.005779</td>\n",
       "      <td>0.000417</td>\n",
       "      <td>6735.05</td>\n",
       "      <td>6452.79</td>\n",
       "      <td>7298.702778</td>\n",
       "      <td>6827.509667</td>\n",
       "      <td>6655.8905</td>\n",
       "      <td>6622.821333</td>\n",
       "    </tr>\n",
       "  </tbody>\n",
       "</table>\n",
       "</div>"
      ],
      "text/plain": [
       "               open    close  o_pct_chg  c_o_pct_chg  ROLLING_20_MAX  \\\n",
       "date                                                                   \n",
       "2018-09-29  6643.10  6601.96  -0.005338    -0.000155         6735.05   \n",
       "2018-09-30  6604.71  6625.56  -0.005779     0.000417         6735.05   \n",
       "\n",
       "            ROLLING_10_MIN        MA180         MA90       MA60         MA30  \n",
       "date                                                                          \n",
       "2018-09-29         6398.85  7301.466944  6825.017111  6675.2960  6635.130000  \n",
       "2018-09-30         6452.79  7298.702778  6827.509667  6655.8905  6622.821333  "
      ]
     },
     "execution_count": 5,
     "metadata": {},
     "output_type": "execute_result"
    },
    {
     "data": {
      "text/plain": [
       "Index(['open', 'close', 'o_pct_chg', 'c_o_pct_chg', 'ROLLING_20_MAX',\n",
       "       'ROLLING_10_MIN', 'MA180', 'MA90', 'MA60', 'MA30'],\n",
       "      dtype='object')"
      ]
     },
     "execution_count": 5,
     "metadata": {},
     "output_type": "execute_result"
    }
   ],
   "source": [
    "'''抽查数据'''\n",
    "\n",
    "stock_df_dict[BENCHMARK].head(2)\n",
    "stock_df_dict[BENCHMARK].tail(2)\n",
    "\n",
    "df = stock_df_dict[BENCHMARK].iloc[:].copy()\n",
    "df.columns\n",
    "df.reset_index(drop=False, inplace=True)\n",
    "# df = df.astype(dtype={'date': 'datetime64[ns]'})\n",
    "df['date'] = df['date'].apply(lambda x: x.to_timestamp().to_datetime64())\n",
    "df.set_index('date', inplace=True)\n",
    "ax = df.plot(kind='line', y='close', label='test', linewidth=1, grid=True)\n",
    "# display_charts(df, chart_type='stock', kind='line', \n",
    "#                y=['open', 'ROLLING_%d_MAX' % TURTLE_LONG_BUY_N, 'ROLLING_%d_MIN' % TURTLE_LONG_SELL_N, 'MA30', 'MA60', 'MA180'], \n",
    "#                figsize=(900, 600))"
   ]
  },
  {
   "cell_type": "code",
   "execution_count": 6,
   "metadata": {
    "scrolled": true
   },
   "outputs": [
    {
     "data": {
      "text/plain": [
       "'用基准数据来存储策略数据'"
      ]
     },
     "execution_count": 6,
     "metadata": {},
     "output_type": "execute_result"
    }
   ],
   "source": [
    "'''用基准数据来存储策略数据'''\n",
    "show_df = None\n",
    "show_df = stock_df_dict[BENCHMARK].copy()\n",
    "show_df.loc[:, 'CASH_TURTLE'] = START_MONEY\n",
    "show_df.loc[:, 'PROPERTY_TURTLE'] = START_MONEY"
   ]
  },
  {
   "cell_type": "code",
   "execution_count": 7,
   "metadata": {
    "scrolled": false
   },
   "outputs": [
    {
     "name": "stdout",
     "output_type": "stream",
     "text": [
      "2017-01-01 2018-01-01 1000000 1000000 0.000\n",
      "2018-01-01 2018-10-02 1000000 1183432 0.183\n",
      "START_MONEY 1000000\n",
      "CASH 1212864.291251\n",
      "HAPPY_MONEY 0\n",
      "PROPERTY 1212864.291251\n",
      "BENCHMARK 14112.2 6604.71 0.46801420047901815\n",
      "Wall time: 1.35 s\n"
     ]
    }
   ],
   "source": [
    "%%time\n",
    "# %xmode\n",
    "\n",
    "'''简易海龟策略，唐安奇通道突破信号，平均分头寸'''\n",
    "\n",
    "PROPERTY = START_MONEY\n",
    "CASH = START_MONEY\n",
    "count_day = 0\n",
    "yesterday = None\n",
    "miss_buy_short = 0\n",
    "miss_buy_long = 0\n",
    "\n",
    "order_df = None\n",
    "order_df = pd.DataFrame(columns=[\n",
    "    'buy_date', 'symbol', 'buy_count', 'buy_price', 'buy_reason', 'sell_date', 'sell_price', 'sell_reason', 'profit', 'cash', 'property'\n",
    "])\n",
    "\n",
    "ops_df = None\n",
    "ops_df = pd.DataFrame(columns=[\n",
    "    'ops_date', 'ops', 'symbol', 'count', 'price', 'reason', 'profit'\n",
    "])\n",
    "\n",
    "\n",
    "# 时间序列\n",
    "for today in pd.period_range(start=start_date, end=end_date, freq='D'):\n",
    "    count_day += 1\n",
    "    \n",
    "    # 每年年初计算回报率\n",
    "    if today.dayofyear == 1 or today == (pd.to_datetime(end_date)).to_period(freq='D'):\n",
    "        if today.dayofyear == 1:\n",
    "            lastyear_firstday = pd.to_datetime('%d-01-01' % (today.year - 1))\n",
    "        else:\n",
    "            lastyear_firstday = pd.to_datetime('%d-01-01' % today.year)\n",
    "        lastyear_firstday = lastyear_firstday.to_period(freq='D')\n",
    "#         print(today, show_df.iloc[0].name, show_df[:today].iloc[-1].PROPERTY_TURTLE)\n",
    "        if today > show_df.iloc[0].name:\n",
    "            today_property = show_df[:today].iloc[-2].PROPERTY_TURTLE\n",
    "#             print(show_df[:today].iloc[-1])\n",
    "        else:\n",
    "            today_property = show_df.iloc[0].PROPERTY_TURTLE\n",
    "        if lastyear_firstday > show_df.iloc[0].name:\n",
    "            lastyear_firstday_property = show_df[:lastyear_firstday].iloc[-1].PROPERTY_TURTLE\n",
    "        else:\n",
    "            lastyear_firstday_property = show_df.iloc[0].PROPERTY_TURTLE\n",
    "#         lastyear_return = round((today_property - lastyear_firstday_property) / lastyear_firstday_property, 4)\n",
    "        lastyear_return = '%.3f' % ((today_property - lastyear_firstday_property) / lastyear_firstday_property)\n",
    "        print(lastyear_firstday, today, int(lastyear_firstday_property), int(today_property), lastyear_return)\n",
    "    \n",
    "    # 每年筛股\n",
    "    if IS_FILTER and (today.dayofyear == 1 or count_day == 1):\n",
    "        TARGET = ALL_TARGET[:]\n",
    "        benchmark_lastyear = stock_df_dict[BENCHMARK][:today]\n",
    "        \n",
    "        # 不到一年（250个交易日）\n",
    "        if len(benchmark_lastyear) < 250:\n",
    "            continue\n",
    "        \n",
    "        # 筛选过滤\n",
    "        benchmark_return_lastyear = benchmark_lastyear.iloc[-1].open / benchmark_lastyear.iloc[-250].open\n",
    "        for symbol, stock_df in stock_df_dict.items():\n",
    "            try:\n",
    "                return_lastyear = stock_df[:today].iloc[-1].open / stock_df[:today].iloc[-250].open\n",
    "                if return_lastyear < benchmark_return_lastyear:\n",
    "                    TARGET.remove(symbol)\n",
    "#                     print(symbol, return_lastyear)\n",
    "            except:\n",
    "                TARGET.remove(symbol)\n",
    "                pass\n",
    "        print(today, 'TARGET after filter', len(TARGET))\n",
    "        \n",
    "    \n",
    "    if yesterday is None:\n",
    "        yesterday = today\n",
    "        continue\n",
    "\n",
    "    # 日期不在基准交易日，则不交易\n",
    "    if today not in stock_df_dict[BENCHMARK].index:\n",
    "        continue\n",
    "            \n",
    "    # 突破下行趋势，清仓退出\n",
    "    order_arr = order_df.to_records(index=False)\n",
    "    if len(order_arr[(order_arr.buy_count > 0) & (order_arr.sell_price == 0)] ) != 0:\n",
    "        is_sell = False\n",
    "        for idx in order_df[(order_df['buy_count'] > 0) & (order_df['sell_price'] == 0)].index:\n",
    "            cur_order = order_df.loc[idx]\n",
    "            symbol = cur_order['symbol']\n",
    "            if today not in stock_df_dict[symbol].index or yesterday not in stock_df_dict[symbol].index:\n",
    "                continue\n",
    "            today_market = stock_df_dict[symbol].loc[today]\n",
    "            if today_market.c_o_pct_chg < -0.1 and symbol in HS300:\n",
    "#                 print(today, symbol, '跌停板，卖不掉')\n",
    "                continue\n",
    "            if cur_order.buy_reason == 'SHORT':\n",
    "                is_sell = (today_market.open <= today_market['ROLLING_%d_MIN' % TURTLE_SHORT_SELL_N])\n",
    "            if cur_order.buy_reason == 'LONG':\n",
    "                is_sell = (today_market.open <= today_market['ROLLING_%d_MIN' % TURTLE_LONG_SELL_N])\n",
    "#                 is_sell = (today_market.MA90 <= today_market.MA180)\n",
    "#                 is_sell = (today_market.MA30 <= today_market.MA60)\n",
    "            if is_sell:\n",
    "                CASH += cur_order.buy_count * today_market.open\n",
    "                order_df.loc[idx, 'sell_date'] = today\n",
    "                order_df.loc[idx, 'sell_price'] = today_market.open\n",
    "                order_df.loc[idx, 'sell_reason'] = 'EXIT'\n",
    "                order_df.loc[idx, 'profit'] = \\\n",
    "                    (today_market.open - cur_order.buy_price) * cur_order.buy_count\n",
    "#                 print(today, '退出', stock_df_dict[symbol].loc[today, 'open'], CASH)\n",
    "                \n",
    "                ops_df = ops_df.append(\n",
    "                    {\n",
    "                        'ops_date': today,\n",
    "                        'ops': 'SELL',\n",
    "                        'symbol': symbol,\n",
    "                        'count': cur_order.buy_count,\n",
    "                        'price': today_market.open,\n",
    "                        'reason': cur_order.buy_reason,\n",
    "                        'profit': (today_market.open - cur_order.buy_price) * cur_order.buy_count,\n",
    "                    },\n",
    "                    ignore_index=True\n",
    "                )\n",
    "\n",
    "    # 开心止盈，倍数止盈\n",
    "    if IS_HAPPYMONEY:        \n",
    "        if PROPERTY > START_MONEY * 2 and CASH > START_MONEY:\n",
    "            HAPPY_MONEY += START_MONEY\n",
    "            PROPERTY -= START_MONEY\n",
    "            CASH -= START_MONEY\n",
    "    \n",
    "    benchmark_today_market = stock_df_dict[BENCHMARK].loc[today]\n",
    "#     try:\n",
    "#         benchmark_yesterday_market = stock_df_dict[BENCHMARK].loc[:today].iloc[-2]\n",
    "#     except:\n",
    "#         benchmark_yesterday_market = stock_df_dict[BENCHMARK].loc[:today].iloc[-1]\n",
    "    buy_list = []\n",
    "    \n",
    "    # TIME TEST\n",
    "#     %timeit benchmark_today_market.MA60 < benchmark_today_market.MA180\n",
    "#     %timeit not IS_BUYBENCHMARK and symbol == BENCHMARK\n",
    "#     %timeit today not in stock_df_dict[symbol].index or yesterday not in stock_df_dict[symbol].index\n",
    "#     symbol = BENCHMARK\n",
    "#     %timeit today_market = stock_df_dict[symbol].loc[today]\n",
    "# #     %timeit today_market = stock_df_dict[symbol][today]\n",
    "#     %timeit today_market.open >= today_market['ROLLING_%d_MAX' % TURTLE_LONG_BUY_N]\n",
    "    # DELETED\n",
    "    \n",
    "    # 遍历标的，判断和执行买入\n",
    "    for symbol in TARGET:\n",
    "        # 趋势交易，只在好行情时买入\n",
    "        if IS_MARKETUP:\n",
    "            if benchmark_today_market.MA60 < benchmark_today_market.MA180:\n",
    "#             if benchmark_today_market.MA90 < benchmark_today_market.MA180:\n",
    "#             if benchmark_today_market.MA90 < benchmark_today_market.MA250 and benchmark_today_market.MA180 < benchmark_today_market.MA250:\n",
    "                break\n",
    "        \n",
    "        # 是否购买基准\n",
    "        if not IS_BUYBENCHMARK and symbol == BENCHMARK:\n",
    "            continue\n",
    "        \n",
    "        if today not in stock_df_dict[symbol].index or yesterday not in stock_df_dict[symbol].index:\n",
    "            continue\n",
    "            \n",
    "        # TIME TEST\n",
    "        # DELETED\n",
    "\n",
    "        today_market = stock_df_dict[symbol].loc[today]\n",
    "\n",
    "        # 突破上行趋势，就买一份\n",
    "#         order_arr = order_df.to_records(index=False)\n",
    "        is_buy = False\n",
    "#         if today_market.MA60 >= today_market.MA180:\n",
    "#         if today_market.MA30 >= today_market.MA60:\n",
    "#         if today_market.MA30 >= today_market.MA180:\n",
    "        # 指数就不要过滤器了\n",
    "        if True:\n",
    "            if today_market.open >= today_market['ROLLING_%d_MAX' % TURTLE_LONG_BUY_N]:\n",
    "#             if today_market.MA90 >= today_market.MA180:\n",
    "#             if today_market.MA30 > today_market.MA60:\n",
    "                is_buy = True\n",
    "                buy_reason = 'LONG'\n",
    "            elif False and today_market.open >= today_market['ROLLING_%d_MAX' % TURTLE_SHORT_BUY_N]:\n",
    "                is_buy = True\n",
    "                buy_reason = 'SHORT'\n",
    "\n",
    "        if is_buy:\n",
    "            buy_list.append(symbol)\n",
    "            \n",
    "    if IS_RANDOM_BUY:\n",
    "        random.shuffle(buy_list)\n",
    "    else:\n",
    "        tmp_list = []\n",
    "        for symbol in buy_list:\n",
    "            try:\n",
    "                return_lastyear = stock_df_dict[symbol][:today].iloc[-1].open / stock_df_dict[symbol][:today].iloc[-250].open\n",
    "            except:\n",
    "                return_lastyear = stock_df_dict[symbol][:today].iloc[-1].open / stock_df_dict[symbol][:today].iloc[1].open\n",
    "            tmp_list.append((return_lastyear, symbol))\n",
    "        tmp_list = sorted(tmp_list, reverse=True)\n",
    "#         buy_list = [x[1] for x in tmp_list if x[0]>1]\n",
    "#         buy_list = [x[1] for x in tmp_list]\n",
    "    \n",
    "    for symbol in buy_list:\n",
    "        today_market = stock_df_dict[symbol].loc[today]\n",
    "        buy_count = 0\n",
    "                \n",
    "        # 滑点\n",
    "        if IS_SLIPPAGE:\n",
    "            buy_price = today_market.open * (1 + random.randint(0, 20) / 1000)\n",
    "        else:\n",
    "            buy_price = today_market.open\n",
    "                \n",
    "        # 按份数买\n",
    "        if CASH >= PROPERTY / TURTLE_POS:\n",
    "            buy_count = int((PROPERTY / TURTLE_POS) / buy_price)\n",
    "\n",
    "        # 指数购买，满仓干\n",
    "#         buy_count = int(CASH / buy_price)\n",
    "\n",
    "        if buy_count > 0:\n",
    "            if today_market.c_o_pct_chg > 0.1 and symbol in HS300:\n",
    "#                 print(today, symbol, '涨停板，买不进')\n",
    "                continue\n",
    "            \n",
    "        if buy_count > 0:\n",
    "            CASH -= buy_count * buy_price\n",
    "#             print(today, '建仓', buy_count, stock_df_dict[symbol].loc[today, 'open'], CASH)\n",
    "            order_df = order_df.append(\n",
    "                {\n",
    "                    'buy_date': today,\n",
    "                    'symbol': symbol,\n",
    "                    'buy_count': buy_count,\n",
    "                    'buy_price': today_market.open,\n",
    "                    'buy_reason': buy_reason,\n",
    "                    'sell_date': pd.np.nan,\n",
    "                    'sell_price': 0,\n",
    "                    'profit': 0,\n",
    "                    'cash': CASH,\n",
    "                    'property': PROPERTY,\n",
    "                },\n",
    "                ignore_index=True\n",
    "            )\n",
    "            ops_df = ops_df.append(\n",
    "                {\n",
    "                    'ops_date': today,\n",
    "                    'ops': 'BUY',\n",
    "                    'symbol': symbol,\n",
    "                    'count': buy_count,\n",
    "                    'price': buy_price,\n",
    "                    'reason': buy_reason,\n",
    "                    'profit': 0,\n",
    "                },\n",
    "                ignore_index=True\n",
    "            )\n",
    "        else:\n",
    "            if buy_reason == 'LONG':\n",
    "                miss_buy_long += 1\n",
    "            elif buy_reason == 'SHORT':\n",
    "                miss_buy_short += 1\n",
    "            \n",
    "    # 每天盘点财产\n",
    "    # 大盘下行时，闲钱进行T+0无风险投资，如货币基金\n",
    "#     if benchmark_today_market.MA60 < benchmark_today_market.MA180:\n",
    "#         CASH = CASH * (1 + 0.04 / 365)\n",
    "    show_df.loc[today, 'CASH_TURTLE'] = CASH\n",
    "    PROPERTY = CASH + \\\n",
    "        sum(\n",
    "            [\n",
    "                stock_df_dict[order_df.loc[idx, 'symbol']][:today].iloc[-1].open * order_df.loc[idx, 'buy_count'] \\\n",
    "                for idx in order_df.loc[order_df['sell_price']==0].index\n",
    "            ]\n",
    "        )\n",
    "    show_df.loc[today, 'PROPERTY_TURTLE'] = PROPERTY\n",
    "\n",
    "    yesterday = today\n",
    "    \n",
    "#     print(today)\n",
    "\n",
    "\n",
    "    \n",
    "# 最后一天，清仓\n",
    "order_arr = order_df.to_records(index=False)\n",
    "for idx in order_df[order_df['sell_price'] == 0].index:\n",
    "    cur_order = order_df.loc[idx]\n",
    "    symbol = cur_order['symbol']\n",
    "    today_market = stock_df_dict[symbol][:today].iloc[-1]\n",
    "    CASH += cur_order.buy_count * today_market.open\n",
    "    order_df.loc[idx, 'sell_date'] = today\n",
    "    order_df.loc[idx, 'sell_price'] = today_market.open\n",
    "    order_df.loc[idx, 'sell_reason'] = 'EXIT'\n",
    "    order_df.loc[idx, 'profit'] = \\\n",
    "        (today_market.open - cur_order.buy_price) * cur_order.buy_count\n",
    "    ops_df = ops_df.append(\n",
    "        {\n",
    "            'ops_date': today,\n",
    "            'ops': 'SELL',\n",
    "            'symbol': symbol,\n",
    "            'count': cur_order.buy_count,\n",
    "            'price': today_market.open,\n",
    "            'reason': cur_order.buy_reason,\n",
    "            'profit': (today_market.open - cur_order.buy_price) * cur_order.buy_count,\n",
    "        },\n",
    "        ignore_index=True\n",
    "    )\n",
    "\n",
    "\n",
    "print('START_MONEY', START_MONEY)\n",
    "print('CASH', CASH)\n",
    "print('HAPPY_MONEY', HAPPY_MONEY)\n",
    "print('PROPERTY', PROPERTY)\n",
    "\n",
    "s_p = stock_df_dict[BENCHMARK][start_date:].iloc[0].open\n",
    "e_p = stock_df_dict[BENCHMARK][:end_date].iloc[-1].open\n",
    "print('BENCHMARK', s_p, e_p, e_p / s_p)\n",
    "\n",
    "# show_df['PROPERTY_TT'] = show_df['PROPERTY_TURTLE']\n",
    "# show_df['PROPERTY_MA'] = show_df['PROPERTY_TURTLE']"
   ]
  },
  {
   "cell_type": "code",
   "execution_count": 8,
   "metadata": {
    "scrolled": false
   },
   "outputs": [
    {
     "data": {
      "text/html": [
       "<div>\n",
       "<style scoped>\n",
       "    .dataframe tbody tr th:only-of-type {\n",
       "        vertical-align: middle;\n",
       "    }\n",
       "\n",
       "    .dataframe tbody tr th {\n",
       "        vertical-align: top;\n",
       "    }\n",
       "\n",
       "    .dataframe thead th {\n",
       "        text-align: right;\n",
       "    }\n",
       "</style>\n",
       "<table border=\"1\" class=\"dataframe\">\n",
       "  <thead>\n",
       "    <tr style=\"text-align: right;\">\n",
       "      <th></th>\n",
       "      <th>buy_date</th>\n",
       "      <th>symbol</th>\n",
       "      <th>buy_count</th>\n",
       "      <th>buy_price</th>\n",
       "      <th>buy_reason</th>\n",
       "      <th>sell_date</th>\n",
       "      <th>sell_price</th>\n",
       "      <th>sell_reason</th>\n",
       "      <th>profit</th>\n",
       "      <th>cash</th>\n",
       "      <th>property</th>\n",
       "    </tr>\n",
       "  </thead>\n",
       "  <tbody>\n",
       "    <tr>\n",
       "      <th>0</th>\n",
       "      <td>2018-01-02</td>\n",
       "      <td>STELLAR</td>\n",
       "      <td>402514</td>\n",
       "      <td>0.496876</td>\n",
       "      <td>LONG</td>\n",
       "      <td>2018-01-12</td>\n",
       "      <td>0.558864</td>\n",
       "      <td>EXIT</td>\n",
       "      <td>24951</td>\n",
       "      <td>800000</td>\n",
       "      <td>1000000</td>\n",
       "    </tr>\n",
       "    <tr>\n",
       "      <th>1</th>\n",
       "      <td>2018-01-02</td>\n",
       "      <td>RIPPLE</td>\n",
       "      <td>84388</td>\n",
       "      <td>2.370000</td>\n",
       "      <td>LONG</td>\n",
       "      <td>2018-01-10</td>\n",
       "      <td>2.13</td>\n",
       "      <td>EXIT</td>\n",
       "      <td>-20253</td>\n",
       "      <td>600000</td>\n",
       "      <td>1000000</td>\n",
       "    </tr>\n",
       "    <tr>\n",
       "      <th>2</th>\n",
       "      <td>2018-01-03</td>\n",
       "      <td>RIPPLE</td>\n",
       "      <td>81300</td>\n",
       "      <td>2.460000</td>\n",
       "      <td>LONG</td>\n",
       "      <td>2018-01-10</td>\n",
       "      <td>2.13</td>\n",
       "      <td>EXIT</td>\n",
       "      <td>-26829</td>\n",
       "      <td>400002</td>\n",
       "      <td>1e+06</td>\n",
       "    </tr>\n",
       "    <tr>\n",
       "      <th>3</th>\n",
       "      <td>2018-01-03</td>\n",
       "      <td>ETHEREUM</td>\n",
       "      <td>225</td>\n",
       "      <td>886.000000</td>\n",
       "      <td>LONG</td>\n",
       "      <td>2018-01-17</td>\n",
       "      <td>1061.34</td>\n",
       "      <td>EXIT</td>\n",
       "      <td>39451</td>\n",
       "      <td>200652</td>\n",
       "      <td>1e+06</td>\n",
       "    </tr>\n",
       "    <tr>\n",
       "      <th>4</th>\n",
       "      <td>2018-01-03</td>\n",
       "      <td>STELLAR</td>\n",
       "      <td>355416</td>\n",
       "      <td>0.562720</td>\n",
       "      <td>LONG</td>\n",
       "      <td>2018-01-12</td>\n",
       "      <td>0.558864</td>\n",
       "      <td>EXIT</td>\n",
       "      <td>-1370</td>\n",
       "      <td>653</td>\n",
       "      <td>1e+06</td>\n",
       "    </tr>\n",
       "    <tr>\n",
       "      <th>5</th>\n",
       "      <td>2018-01-10</td>\n",
       "      <td>ETHEREUM</td>\n",
       "      <td>175</td>\n",
       "      <td>1300.340000</td>\n",
       "      <td>LONG</td>\n",
       "      <td>2018-01-17</td>\n",
       "      <td>1061.34</td>\n",
       "      <td>EXIT</td>\n",
       "      <td>-41825</td>\n",
       "      <td>126009</td>\n",
       "      <td>1.13878e+06</td>\n",
       "    </tr>\n",
       "    <tr>\n",
       "      <th>6</th>\n",
       "      <td>2018-01-13</td>\n",
       "      <td>EOS</td>\n",
       "      <td>14553</td>\n",
       "      <td>13.920000</td>\n",
       "      <td>LONG</td>\n",
       "      <td>2018-01-31</td>\n",
       "      <td>11.46</td>\n",
       "      <td>EXIT</td>\n",
       "      <td>-35800</td>\n",
       "      <td>347011</td>\n",
       "      <td>1.0129e+06</td>\n",
       "    </tr>\n",
       "    <tr>\n",
       "      <th>7</th>\n",
       "      <td>2018-01-14</td>\n",
       "      <td>ETHEREUM</td>\n",
       "      <td>151</td>\n",
       "      <td>1397.480000</td>\n",
       "      <td>LONG</td>\n",
       "      <td>2018-01-17</td>\n",
       "      <td>1061.34</td>\n",
       "      <td>EXIT</td>\n",
       "      <td>-50757</td>\n",
       "      <td>135991</td>\n",
       "      <td>1.05778e+06</td>\n",
       "    </tr>\n",
       "    <tr>\n",
       "      <th>8</th>\n",
       "      <td>2018-02-15</td>\n",
       "      <td>LITECOIN</td>\n",
       "      <td>835</td>\n",
       "      <td>212.350000</td>\n",
       "      <td>LONG</td>\n",
       "      <td>2018-03-07</td>\n",
       "      <td>196.83</td>\n",
       "      <td>EXIT</td>\n",
       "      <td>-12959</td>\n",
       "      <td>710255</td>\n",
       "      <td>887567</td>\n",
       "    </tr>\n",
       "    <tr>\n",
       "      <th>9</th>\n",
       "      <td>2018-02-16</td>\n",
       "      <td>LITECOIN</td>\n",
       "      <td>787</td>\n",
       "      <td>225.500000</td>\n",
       "      <td>LONG</td>\n",
       "      <td>2018-03-07</td>\n",
       "      <td>196.83</td>\n",
       "      <td>EXIT</td>\n",
       "      <td>-22563</td>\n",
       "      <td>532786</td>\n",
       "      <td>887567</td>\n",
       "    </tr>\n",
       "    <tr>\n",
       "      <th>10</th>\n",
       "      <td>2018-02-17</td>\n",
       "      <td>LITECOIN</td>\n",
       "      <td>783</td>\n",
       "      <td>229.500000</td>\n",
       "      <td>LONG</td>\n",
       "      <td>2018-03-07</td>\n",
       "      <td>196.83</td>\n",
       "      <td>EXIT</td>\n",
       "      <td>-25580</td>\n",
       "      <td>353088</td>\n",
       "      <td>898548</td>\n",
       "    </tr>\n",
       "    <tr>\n",
       "      <th>11</th>\n",
       "      <td>2018-02-18</td>\n",
       "      <td>LITECOIN</td>\n",
       "      <td>785</td>\n",
       "      <td>230.510000</td>\n",
       "      <td>LONG</td>\n",
       "      <td>2018-03-07</td>\n",
       "      <td>196.83</td>\n",
       "      <td>EXIT</td>\n",
       "      <td>-26438</td>\n",
       "      <td>172137</td>\n",
       "      <td>905036</td>\n",
       "    </tr>\n",
       "    <tr>\n",
       "      <th>12</th>\n",
       "      <td>2018-02-20</td>\n",
       "      <td>BITCOIN</td>\n",
       "      <td>15</td>\n",
       "      <td>11231.800000</td>\n",
       "      <td>LONG</td>\n",
       "      <td>2018-02-25</td>\n",
       "      <td>9796.42</td>\n",
       "      <td>EXIT</td>\n",
       "      <td>-21530</td>\n",
       "      <td>3660</td>\n",
       "      <td>859296</td>\n",
       "    </tr>\n",
       "    <tr>\n",
       "      <th>13</th>\n",
       "      <td>2018-04-12</td>\n",
       "      <td>EOS</td>\n",
       "      <td>18317</td>\n",
       "      <td>8.500000</td>\n",
       "      <td>LONG</td>\n",
       "      <td>2018-05-12</td>\n",
       "      <td>14.98</td>\n",
       "      <td>EXIT</td>\n",
       "      <td>118694</td>\n",
       "      <td>622800</td>\n",
       "      <td>778495</td>\n",
       "    </tr>\n",
       "    <tr>\n",
       "      <th>14</th>\n",
       "      <td>2018-04-13</td>\n",
       "      <td>STELLAR</td>\n",
       "      <td>645753</td>\n",
       "      <td>0.241112</td>\n",
       "      <td>LONG</td>\n",
       "      <td>2018-05-08</td>\n",
       "      <td>0.396568</td>\n",
       "      <td>EXIT</td>\n",
       "      <td>100386</td>\n",
       "      <td>467101</td>\n",
       "      <td>778495</td>\n",
       "    </tr>\n",
       "    <tr>\n",
       "      <th>15</th>\n",
       "      <td>2018-04-13</td>\n",
       "      <td>EOS</td>\n",
       "      <td>17875</td>\n",
       "      <td>8.710000</td>\n",
       "      <td>LONG</td>\n",
       "      <td>2018-05-12</td>\n",
       "      <td>14.98</td>\n",
       "      <td>EXIT</td>\n",
       "      <td>112076</td>\n",
       "      <td>311410</td>\n",
       "      <td>778495</td>\n",
       "    </tr>\n",
       "    <tr>\n",
       "      <th>16</th>\n",
       "      <td>2018-04-14</td>\n",
       "      <td>STELLAR</td>\n",
       "      <td>637766</td>\n",
       "      <td>0.245338</td>\n",
       "      <td>LONG</td>\n",
       "      <td>2018-05-08</td>\n",
       "      <td>0.396568</td>\n",
       "      <td>EXIT</td>\n",
       "      <td>96449</td>\n",
       "      <td>154942</td>\n",
       "      <td>782341</td>\n",
       "    </tr>\n",
       "    <tr>\n",
       "      <th>17</th>\n",
       "      <td>2018-06-03</td>\n",
       "      <td>EOS</td>\n",
       "      <td>16287</td>\n",
       "      <td>14.810000</td>\n",
       "      <td>LONG</td>\n",
       "      <td>2018-06-11</td>\n",
       "      <td>11.31</td>\n",
       "      <td>EXIT</td>\n",
       "      <td>-57004</td>\n",
       "      <td>964890</td>\n",
       "      <td>1.2061e+06</td>\n",
       "    </tr>\n",
       "    <tr>\n",
       "      <th>18</th>\n",
       "      <td>2018-07-08</td>\n",
       "      <td>BITCOIN</td>\n",
       "      <td>33</td>\n",
       "      <td>6857.800000</td>\n",
       "      <td>LONG</td>\n",
       "      <td>2018-07-11</td>\n",
       "      <td>6330.77</td>\n",
       "      <td>EXIT</td>\n",
       "      <td>-17391</td>\n",
       "      <td>922788</td>\n",
       "      <td>1.1491e+06</td>\n",
       "    </tr>\n",
       "    <tr>\n",
       "      <th>19</th>\n",
       "      <td>2018-07-16</td>\n",
       "      <td>STELLAR</td>\n",
       "      <td>1031268</td>\n",
       "      <td>0.219478</td>\n",
       "      <td>LONG</td>\n",
       "      <td>2018-08-01</td>\n",
       "      <td>0.278127</td>\n",
       "      <td>EXIT</td>\n",
       "      <td>60482</td>\n",
       "      <td>905363</td>\n",
       "      <td>1.1317e+06</td>\n",
       "    </tr>\n",
       "    <tr>\n",
       "      <th>20</th>\n",
       "      <td>2018-07-17</td>\n",
       "      <td>STELLAR</td>\n",
       "      <td>950996</td>\n",
       "      <td>0.238004</td>\n",
       "      <td>LONG</td>\n",
       "      <td>2018-08-01</td>\n",
       "      <td>0.278127</td>\n",
       "      <td>EXIT</td>\n",
       "      <td>38156</td>\n",
       "      <td>679022</td>\n",
       "      <td>1.1317e+06</td>\n",
       "    </tr>\n",
       "    <tr>\n",
       "      <th>21</th>\n",
       "      <td>2018-07-18</td>\n",
       "      <td>RIPPLE</td>\n",
       "      <td>455659</td>\n",
       "      <td>0.505118</td>\n",
       "      <td>LONG</td>\n",
       "      <td>2018-08-01</td>\n",
       "      <td>0.435562</td>\n",
       "      <td>EXIT</td>\n",
       "      <td>-31693</td>\n",
       "      <td>448861</td>\n",
       "      <td>1.15081e+06</td>\n",
       "    </tr>\n",
       "    <tr>\n",
       "      <th>22</th>\n",
       "      <td>2018-07-18</td>\n",
       "      <td>BITCOIN</td>\n",
       "      <td>31</td>\n",
       "      <td>7315.320000</td>\n",
       "      <td>LONG</td>\n",
       "      <td>2018-08-02</td>\n",
       "      <td>7634.19</td>\n",
       "      <td>EXIT</td>\n",
       "      <td>9884</td>\n",
       "      <td>222086</td>\n",
       "      <td>1.15081e+06</td>\n",
       "    </tr>\n",
       "    <tr>\n",
       "      <th>23</th>\n",
       "      <td>2018-08-28</td>\n",
       "      <td>BITCOIN</td>\n",
       "      <td>35</td>\n",
       "      <td>6891.080000</td>\n",
       "      <td>LONG</td>\n",
       "      <td>2018-09-06</td>\n",
       "      <td>6755.14</td>\n",
       "      <td>EXIT</td>\n",
       "      <td>-4757</td>\n",
       "      <td>967347</td>\n",
       "      <td>1.20854e+06</td>\n",
       "    </tr>\n",
       "    <tr>\n",
       "      <th>24</th>\n",
       "      <td>2018-08-29</td>\n",
       "      <td>BITCOIN</td>\n",
       "      <td>34</td>\n",
       "      <td>7091.710000</td>\n",
       "      <td>LONG</td>\n",
       "      <td>2018-09-06</td>\n",
       "      <td>6755.14</td>\n",
       "      <td>EXIT</td>\n",
       "      <td>-11443</td>\n",
       "      <td>726229</td>\n",
       "      <td>1.20854e+06</td>\n",
       "    </tr>\n",
       "    <tr>\n",
       "      <th>25</th>\n",
       "      <td>2018-08-29</td>\n",
       "      <td>EOS</td>\n",
       "      <td>40967</td>\n",
       "      <td>5.900000</td>\n",
       "      <td>LONG</td>\n",
       "      <td>2018-09-06</td>\n",
       "      <td>5.21</td>\n",
       "      <td>EXIT</td>\n",
       "      <td>-28267</td>\n",
       "      <td>484523</td>\n",
       "      <td>1.20854e+06</td>\n",
       "    </tr>\n",
       "    <tr>\n",
       "      <th>26</th>\n",
       "      <td>2018-08-30</td>\n",
       "      <td>EOS</td>\n",
       "      <td>39724</td>\n",
       "      <td>6.120000</td>\n",
       "      <td>LONG</td>\n",
       "      <td>2018-09-06</td>\n",
       "      <td>5.21</td>\n",
       "      <td>EXIT</td>\n",
       "      <td>-36148</td>\n",
       "      <td>241412</td>\n",
       "      <td>1.21556e+06</td>\n",
       "    </tr>\n",
       "    <tr>\n",
       "      <th>27</th>\n",
       "      <td>2018-09-21</td>\n",
       "      <td>STELLAR</td>\n",
       "      <td>967995</td>\n",
       "      <td>0.233042</td>\n",
       "      <td>LONG</td>\n",
       "      <td>2018-10-02</td>\n",
       "      <td>0.254448</td>\n",
       "      <td>EXIT</td>\n",
       "      <td>20720</td>\n",
       "      <td>902334</td>\n",
       "      <td>1.12792e+06</td>\n",
       "    </tr>\n",
       "    <tr>\n",
       "      <th>28</th>\n",
       "      <td>2018-09-21</td>\n",
       "      <td>RIPPLE</td>\n",
       "      <td>498157</td>\n",
       "      <td>0.452836</td>\n",
       "      <td>LONG</td>\n",
       "      <td>2018-10-02</td>\n",
       "      <td>0.568045</td>\n",
       "      <td>EXIT</td>\n",
       "      <td>57392</td>\n",
       "      <td>676750</td>\n",
       "      <td>1.12792e+06</td>\n",
       "    </tr>\n",
       "    <tr>\n",
       "      <th>29</th>\n",
       "      <td>2018-09-22</td>\n",
       "      <td>RIPPLE</td>\n",
       "      <td>398932</td>\n",
       "      <td>0.565468</td>\n",
       "      <td>LONG</td>\n",
       "      <td>2018-10-02</td>\n",
       "      <td>0.568045</td>\n",
       "      <td>EXIT</td>\n",
       "      <td>1028</td>\n",
       "      <td>451167</td>\n",
       "      <td>1.12792e+06</td>\n",
       "    </tr>\n",
       "    <tr>\n",
       "      <th>30</th>\n",
       "      <td>2018-09-22</td>\n",
       "      <td>STELLAR</td>\n",
       "      <td>909376</td>\n",
       "      <td>0.248064</td>\n",
       "      <td>LONG</td>\n",
       "      <td>2018-10-02</td>\n",
       "      <td>0.254448</td>\n",
       "      <td>EXIT</td>\n",
       "      <td>5805</td>\n",
       "      <td>225584</td>\n",
       "      <td>1.12792e+06</td>\n",
       "    </tr>\n",
       "  </tbody>\n",
       "</table>\n",
       "</div>"
      ],
      "text/plain": [
       "     buy_date    symbol buy_count     buy_price buy_reason  sell_date  \\\n",
       "0  2018-01-02   STELLAR    402514      0.496876       LONG 2018-01-12   \n",
       "1  2018-01-02    RIPPLE     84388      2.370000       LONG 2018-01-10   \n",
       "2  2018-01-03    RIPPLE     81300      2.460000       LONG 2018-01-10   \n",
       "3  2018-01-03  ETHEREUM       225    886.000000       LONG 2018-01-17   \n",
       "4  2018-01-03   STELLAR    355416      0.562720       LONG 2018-01-12   \n",
       "5  2018-01-10  ETHEREUM       175   1300.340000       LONG 2018-01-17   \n",
       "6  2018-01-13       EOS     14553     13.920000       LONG 2018-01-31   \n",
       "7  2018-01-14  ETHEREUM       151   1397.480000       LONG 2018-01-17   \n",
       "8  2018-02-15  LITECOIN       835    212.350000       LONG 2018-03-07   \n",
       "9  2018-02-16  LITECOIN       787    225.500000       LONG 2018-03-07   \n",
       "10 2018-02-17  LITECOIN       783    229.500000       LONG 2018-03-07   \n",
       "11 2018-02-18  LITECOIN       785    230.510000       LONG 2018-03-07   \n",
       "12 2018-02-20   BITCOIN        15  11231.800000       LONG 2018-02-25   \n",
       "13 2018-04-12       EOS     18317      8.500000       LONG 2018-05-12   \n",
       "14 2018-04-13   STELLAR    645753      0.241112       LONG 2018-05-08   \n",
       "15 2018-04-13       EOS     17875      8.710000       LONG 2018-05-12   \n",
       "16 2018-04-14   STELLAR    637766      0.245338       LONG 2018-05-08   \n",
       "17 2018-06-03       EOS     16287     14.810000       LONG 2018-06-11   \n",
       "18 2018-07-08   BITCOIN        33   6857.800000       LONG 2018-07-11   \n",
       "19 2018-07-16   STELLAR   1031268      0.219478       LONG 2018-08-01   \n",
       "20 2018-07-17   STELLAR    950996      0.238004       LONG 2018-08-01   \n",
       "21 2018-07-18    RIPPLE    455659      0.505118       LONG 2018-08-01   \n",
       "22 2018-07-18   BITCOIN        31   7315.320000       LONG 2018-08-02   \n",
       "23 2018-08-28   BITCOIN        35   6891.080000       LONG 2018-09-06   \n",
       "24 2018-08-29   BITCOIN        34   7091.710000       LONG 2018-09-06   \n",
       "25 2018-08-29       EOS     40967      5.900000       LONG 2018-09-06   \n",
       "26 2018-08-30       EOS     39724      6.120000       LONG 2018-09-06   \n",
       "27 2018-09-21   STELLAR    967995      0.233042       LONG 2018-10-02   \n",
       "28 2018-09-21    RIPPLE    498157      0.452836       LONG 2018-10-02   \n",
       "29 2018-09-22    RIPPLE    398932      0.565468       LONG 2018-10-02   \n",
       "30 2018-09-22   STELLAR    909376      0.248064       LONG 2018-10-02   \n",
       "\n",
       "   sell_price sell_reason  profit    cash     property  \n",
       "0    0.558864        EXIT   24951  800000      1000000  \n",
       "1        2.13        EXIT  -20253  600000      1000000  \n",
       "2        2.13        EXIT  -26829  400002        1e+06  \n",
       "3     1061.34        EXIT   39451  200652        1e+06  \n",
       "4    0.558864        EXIT   -1370     653        1e+06  \n",
       "5     1061.34        EXIT  -41825  126009  1.13878e+06  \n",
       "6       11.46        EXIT  -35800  347011   1.0129e+06  \n",
       "7     1061.34        EXIT  -50757  135991  1.05778e+06  \n",
       "8      196.83        EXIT  -12959  710255       887567  \n",
       "9      196.83        EXIT  -22563  532786       887567  \n",
       "10     196.83        EXIT  -25580  353088       898548  \n",
       "11     196.83        EXIT  -26438  172137       905036  \n",
       "12    9796.42        EXIT  -21530    3660       859296  \n",
       "13      14.98        EXIT  118694  622800       778495  \n",
       "14   0.396568        EXIT  100386  467101       778495  \n",
       "15      14.98        EXIT  112076  311410       778495  \n",
       "16   0.396568        EXIT   96449  154942       782341  \n",
       "17      11.31        EXIT  -57004  964890   1.2061e+06  \n",
       "18    6330.77        EXIT  -17391  922788   1.1491e+06  \n",
       "19   0.278127        EXIT   60482  905363   1.1317e+06  \n",
       "20   0.278127        EXIT   38156  679022   1.1317e+06  \n",
       "21   0.435562        EXIT  -31693  448861  1.15081e+06  \n",
       "22    7634.19        EXIT    9884  222086  1.15081e+06  \n",
       "23    6755.14        EXIT   -4757  967347  1.20854e+06  \n",
       "24    6755.14        EXIT  -11443  726229  1.20854e+06  \n",
       "25       5.21        EXIT  -28267  484523  1.20854e+06  \n",
       "26       5.21        EXIT  -36148  241412  1.21556e+06  \n",
       "27   0.254448        EXIT   20720  902334  1.12792e+06  \n",
       "28   0.568045        EXIT   57392  676750  1.12792e+06  \n",
       "29   0.568045        EXIT    1028  451167  1.12792e+06  \n",
       "30   0.254448        EXIT    5805  225584  1.12792e+06  "
      ]
     },
     "execution_count": 8,
     "metadata": {},
     "output_type": "execute_result"
    },
    {
     "data": {
      "text/html": [
       "<div>\n",
       "<style scoped>\n",
       "    .dataframe tbody tr th:only-of-type {\n",
       "        vertical-align: middle;\n",
       "    }\n",
       "\n",
       "    .dataframe tbody tr th {\n",
       "        vertical-align: top;\n",
       "    }\n",
       "\n",
       "    .dataframe thead th {\n",
       "        text-align: right;\n",
       "    }\n",
       "</style>\n",
       "<table border=\"1\" class=\"dataframe\">\n",
       "  <thead>\n",
       "    <tr style=\"text-align: right;\">\n",
       "      <th></th>\n",
       "      <th>ops_date</th>\n",
       "      <th>ops</th>\n",
       "      <th>symbol</th>\n",
       "      <th>count</th>\n",
       "      <th>price</th>\n",
       "      <th>reason</th>\n",
       "      <th>profit</th>\n",
       "    </tr>\n",
       "  </thead>\n",
       "  <tbody>\n",
       "  </tbody>\n",
       "</table>\n",
       "</div>"
      ],
      "text/plain": [
       "Empty DataFrame\n",
       "Columns: [ops_date, ops, symbol, count, price, reason, profit]\n",
       "Index: []"
      ]
     },
     "execution_count": 8,
     "metadata": {},
     "output_type": "execute_result"
    }
   ],
   "source": [
    "symbol = BENCHMARK\n",
    "symbol = '600703'\n",
    "\n",
    "df = order_df.copy()\n",
    "df = df.astype(dtype={'cash': 'int', 'profit': 'int'})\n",
    "df\n",
    "# df[df.symbol == symbol]\n",
    "\n",
    "df = ops_df.copy()\n",
    "# df\n",
    "df[df.symbol == symbol]\n",
    "# df[(df.ops_date > pd.to_datetime('2015-01-01').to_period(freq='D')) & (df.ops_date < pd.to_datetime('2016-01-01').to_period(freq='D'))]"
   ]
  },
  {
   "cell_type": "code",
   "execution_count": 9,
   "metadata": {
    "scrolled": false
   },
   "outputs": [],
   "source": [
    "# %matplotlib inline\n",
    "\n",
    "# import matplotlib\n",
    "# import matplotlib.pyplot as plt\n",
    "# plt.rcParams['figure.figsize'] = [15, 10]\n",
    "\n",
    "# df = stock_df_dict['600703'].iloc[:].copy()\n",
    "# df.columns\n",
    "# df.reset_index(drop=False, inplace=True)\n",
    "# # df = df.astype(dtype={'date': 'datetime64[ns]'})\n",
    "# df['date'] = df['date'].apply(lambda x: x.to_timestamp().to_datetime64())\n",
    "# df.set_index('date', inplace=True)\n",
    "# # display_charts(df, chart_type='stock', kind='line', y=['open', 'ROLLING_60_MAX', 'ROLLING_60_MIN', 'MA60', 'MA180'], figsize=(900, 600))\n",
    "# # display_charts(df, chart_type='stock', kind='line', y=['open', 'ROLLING_60_MAX', 'ROLLING_30_MIN'], figsize=(900, 600))\n",
    "# ax = df.plot(kind='line', y=['close', 'MA90', 'MA180'], linewidth=0.5, grid=True)"
   ]
  },
  {
   "cell_type": "code",
   "execution_count": 10,
   "metadata": {
    "scrolled": false
   },
   "outputs": [
    {
     "data": {
      "text/plain": [
       "'ALL'"
      ]
     },
     "execution_count": 10,
     "metadata": {},
     "output_type": "execute_result"
    },
    {
     "data": {
      "text/plain": [
       "('start_date', '2018-01-01')"
      ]
     },
     "execution_count": 10,
     "metadata": {},
     "output_type": "execute_result"
    },
    {
     "data": {
      "text/plain": [
       "('end_date', '2018-10-02')"
      ]
     },
     "execution_count": 10,
     "metadata": {},
     "output_type": "execute_result"
    },
    {
     "data": {
      "text/plain": [
       "('TURTLE_POS', 5)"
      ]
     },
     "execution_count": 10,
     "metadata": {},
     "output_type": "execute_result"
    },
    {
     "data": {
      "text/plain": [
       "('TURTLE_SHORT_BUY_N', 20)"
      ]
     },
     "execution_count": 10,
     "metadata": {},
     "output_type": "execute_result"
    },
    {
     "data": {
      "text/plain": [
       "('TURTLE_SHORT_SELL_N', 20)"
      ]
     },
     "execution_count": 10,
     "metadata": {},
     "output_type": "execute_result"
    },
    {
     "data": {
      "text/plain": [
       "('TURTLE_LONG_BUY_N', 20)"
      ]
     },
     "execution_count": 10,
     "metadata": {},
     "output_type": "execute_result"
    },
    {
     "data": {
      "text/plain": [
       "('TURTLE_LONG_SELL_N', 10)"
      ]
     },
     "execution_count": 10,
     "metadata": {},
     "output_type": "execute_result"
    },
    {
     "data": {
      "text/plain": [
       "('IS_HAPPYMONEY', False)"
      ]
     },
     "execution_count": 10,
     "metadata": {},
     "output_type": "execute_result"
    },
    {
     "data": {
      "text/plain": [
       "('IS_TAX', False)"
      ]
     },
     "execution_count": 10,
     "metadata": {},
     "output_type": "execute_result"
    },
    {
     "data": {
      "text/plain": [
       "('IS_SLIPPAGE', False)"
      ]
     },
     "execution_count": 10,
     "metadata": {},
     "output_type": "execute_result"
    },
    {
     "data": {
      "text/plain": [
       "('IS_RANDOM_BUY', True)"
      ]
     },
     "execution_count": 10,
     "metadata": {},
     "output_type": "execute_result"
    },
    {
     "data": {
      "text/plain": [
       "('IS_FILTER', False)"
      ]
     },
     "execution_count": 10,
     "metadata": {},
     "output_type": "execute_result"
    },
    {
     "data": {
      "text/plain": [
       "('IS_MARKETUP', False)"
      ]
     },
     "execution_count": 10,
     "metadata": {},
     "output_type": "execute_result"
    },
    {
     "data": {
      "text/plain": [
       "('IS_BUYBENCHMARK', True)"
      ]
     },
     "execution_count": 10,
     "metadata": {},
     "output_type": "execute_result"
    },
    {
     "data": {
      "text/plain": [
       "('START_MONEY', 1000000)"
      ]
     },
     "execution_count": 10,
     "metadata": {},
     "output_type": "execute_result"
    },
    {
     "data": {
      "text/plain": [
       "('len(order_df)', 31)"
      ]
     },
     "execution_count": 10,
     "metadata": {},
     "output_type": "execute_result"
    },
    {
     "data": {
      "text/plain": [
       "('sum_profit', 212864.29125100002)"
      ]
     },
     "execution_count": 10,
     "metadata": {},
     "output_type": "execute_result"
    },
    {
     "data": {
      "text/plain": [
       "('sum_tax', 0)"
      ]
     },
     "execution_count": 10,
     "metadata": {},
     "output_type": "execute_result"
    },
    {
     "data": {
      "text/plain": [
       "('win_rate', 0.41935483870967744)"
      ]
     },
     "execution_count": 10,
     "metadata": {},
     "output_type": "execute_result"
    },
    {
     "data": {
      "text/plain": [
       "('annual_return', 1.2919379642833286)"
      ]
     },
     "execution_count": 10,
     "metadata": {},
     "output_type": "execute_result"
    },
    {
     "data": {
      "text/plain": [
       "('len(order_df[order_df.profit != 0])', 31)"
      ]
     },
     "execution_count": 10,
     "metadata": {},
     "output_type": "execute_result"
    },
    {
     "data": {
      "text/plain": [
       "('len(order_df[order_df.profit > 0])', 13)"
      ]
     },
     "execution_count": 10,
     "metadata": {},
     "output_type": "execute_result"
    },
    {
     "data": {
      "text/plain": [
       "('order LONG', 31)"
      ]
     },
     "execution_count": 10,
     "metadata": {},
     "output_type": "execute_result"
    },
    {
     "data": {
      "text/plain": [
       "13"
      ]
     },
     "execution_count": 10,
     "metadata": {},
     "output_type": "execute_result"
    },
    {
     "data": {
      "text/plain": [
       "212864.29125100002"
      ]
     },
     "execution_count": 10,
     "metadata": {},
     "output_type": "execute_result"
    },
    {
     "data": {
      "text/plain": [
       "('order SHORT', 0)"
      ]
     },
     "execution_count": 10,
     "metadata": {},
     "output_type": "execute_result"
    },
    {
     "data": {
      "text/plain": [
       "0"
      ]
     },
     "execution_count": 10,
     "metadata": {},
     "output_type": "execute_result"
    },
    {
     "data": {
      "text/plain": [
       "0"
      ]
     },
     "execution_count": 10,
     "metadata": {},
     "output_type": "execute_result"
    },
    {
     "data": {
      "text/plain": [
       "('cum_returns', 0.2128642912509986, -0.5319857995209822)"
      ]
     },
     "execution_count": 10,
     "metadata": {},
     "output_type": "execute_result"
    },
    {
     "data": {
      "text/plain": [
       "('max_drawdown', -0.45249248596758196, -0.6634889572267263)"
      ]
     },
     "execution_count": 10,
     "metadata": {},
     "output_type": "execute_result"
    },
    {
     "data": {
      "text/plain": [
       "('annual_return', 0.19499232731387184, -0.503837747438461)"
      ]
     },
     "execution_count": 10,
     "metadata": {},
     "output_type": "execute_result"
    },
    {
     "data": {
      "text/plain": [
       "('annual_volatility', 0.6287262388734394)"
      ]
     },
     "execution_count": 10,
     "metadata": {},
     "output_type": "execute_result"
    },
    {
     "data": {
      "text/plain": [
       "('calmar_ratio', 0.43092942614707136)"
      ]
     },
     "execution_count": 10,
     "metadata": {},
     "output_type": "execute_result"
    },
    {
     "data": {
      "text/plain": [
       "('sharpe_ratio', 0.5825928999569171)"
      ]
     },
     "execution_count": 10,
     "metadata": {},
     "output_type": "execute_result"
    },
    {
     "data": {
      "text/plain": [
       "('alpha', 0.518161874395201)"
      ]
     },
     "execution_count": 10,
     "metadata": {},
     "output_type": "execute_result"
    },
    {
     "data": {
      "text/plain": [
       "('beta', 0.32951746161975554)"
      ]
     },
     "execution_count": 10,
     "metadata": {},
     "output_type": "execute_result"
    },
    {
     "data": {
      "text/plain": [
       "('ALL DAY', 273)"
      ]
     },
     "execution_count": 10,
     "metadata": {},
     "output_type": "execute_result"
    },
    {
     "data": {
      "text/plain": [
       "'CASH_TURTLE'"
      ]
     },
     "execution_count": 10,
     "metadata": {},
     "output_type": "execute_result"
    },
    {
     "data": {
      "text/plain": [
       "'PROPERTY_TURTLE'"
      ]
     },
     "execution_count": 10,
     "metadata": {},
     "output_type": "execute_result"
    },
    {
     "data": {
      "text/plain": [
       "('CASH NOT USED DAY', 191)"
      ]
     },
     "execution_count": 10,
     "metadata": {},
     "output_type": "execute_result"
    },
    {
     "data": {
      "text/plain": [
       "('MISS_BUY_SIGNAL_LONG', 81)"
      ]
     },
     "execution_count": 10,
     "metadata": {},
     "output_type": "execute_result"
    },
    {
     "data": {
      "text/plain": [
       "('MISS_BUY_SIGNAL_SHORT', 0)"
      ]
     },
     "execution_count": 10,
     "metadata": {},
     "output_type": "execute_result"
    }
   ],
   "source": [
    "'ALL'\n",
    "'start_date', start_date\n",
    "'end_date', end_date\n",
    "'TURTLE_POS', TURTLE_POS\n",
    "'TURTLE_SHORT_BUY_N', TURTLE_SHORT_BUY_N\n",
    "'TURTLE_SHORT_SELL_N', TURTLE_SHORT_SELL_N\n",
    "'TURTLE_LONG_BUY_N', TURTLE_LONG_BUY_N\n",
    "'TURTLE_LONG_SELL_N', TURTLE_LONG_SELL_N\n",
    "### 业务设置\n",
    "'IS_HAPPYMONEY', IS_HAPPYMONEY\n",
    "'IS_TAX', IS_TAX\n",
    "'IS_SLIPPAGE', IS_SLIPPAGE\n",
    "'IS_RANDOM_BUY', IS_RANDOM_BUY\n",
    "'IS_FILTER', IS_FILTER\n",
    "'IS_MARKETUP', IS_MARKETUP\n",
    "'IS_BUYBENCHMARK', IS_BUYBENCHMARK\n",
    "'START_MONEY', START_MONEY\n",
    "\n",
    "'len(order_df)', len(order_df)\n",
    "sum_profit = sum(list(order_df['profit']))\n",
    "'sum_profit', sum_profit\n",
    "# sum_tax = sum(list(order_df_TB['tax']))\n",
    "sum_tax = 0\n",
    "'sum_tax', sum_tax\n",
    "'win_rate', len(order_df[order_df.profit > 0]) / len(order_df[order_df.profit != 0])\n",
    "'annual_return', ((sum_profit - sum_tax) / START_MONEY + 1) ** (365 / count_day)\n",
    "'len(order_df[order_df.profit != 0])', len(order_df[order_df.profit != 0])\n",
    "'len(order_df[order_df.profit > 0])', len(order_df[order_df.profit > 0])\n",
    "'order LONG', len(order_df[order_df.buy_reason == 'LONG'])\n",
    "len(order_df[(order_df.buy_reason == 'LONG') & (order_df.profit > 0)])\n",
    "sum(list(order_df[order_df.buy_reason == 'LONG']['profit']))\n",
    "'order SHORT', len(order_df[order_df.buy_reason == 'SHORT'])\n",
    "len(order_df[(order_df.buy_reason == 'SHORT') & (order_df.profit > 0)])\n",
    "sum(list(order_df[order_df.buy_reason == 'SHORT']['profit']))\n",
    "\n",
    "df = show_df.dropna(how='any', inplace=False).copy()\n",
    "df = df.loc[start_date:end_date]\n",
    "algo = df['PROPERTY_TURTLE'].pct_change()\n",
    "benchmark = df.open.pct_change()\n",
    "\n",
    "if emp:\n",
    "    'cum_returns', emp.cum_returns(algo)[-1], emp.cum_returns(benchmark)[-1]\n",
    "    'max_drawdown', emp.max_drawdown(algo), emp.max_drawdown(benchmark)\n",
    "    'annual_return', emp.annual_return(algo), emp.annual_return(benchmark)\n",
    "    'annual_volatility', emp.annual_volatility(algo, period='daily')\n",
    "    'calmar_ratio', emp.calmar_ratio(algo)\n",
    "    'sharpe_ratio', emp.sharpe_ratio(returns=algo)\n",
    "    'alpha', emp.alpha(returns=algo, factor_returns=benchmark, risk_free=0.00)\n",
    "    'beta', emp.beta(returns=algo, factor_returns=benchmark, risk_free=0.00)\n",
    "\n",
    "'ALL DAY', len(df)\n",
    "'CASH_TURTLE'\n",
    "'PROPERTY_TURTLE'\n",
    "'CASH NOT USED DAY', len(df[df['CASH_TURTLE'] > (df['PROPERTY_TURTLE'] / TURTLE_POS)])\n",
    "'MISS_BUY_SIGNAL_LONG', miss_buy_long\n",
    "'MISS_BUY_SIGNAL_SHORT', miss_buy_short"
   ]
  },
  {
   "cell_type": "code",
   "execution_count": 11,
   "metadata": {
    "scrolled": false
   },
   "outputs": [
    {
     "data": {
      "text/plain": [
       "'计算标的持有、收益等'"
      ]
     },
     "execution_count": 11,
     "metadata": {},
     "output_type": "execute_result"
    },
    {
     "data": {
      "text/html": [
       "<div>\n",
       "<style scoped>\n",
       "    .dataframe tbody tr th:only-of-type {\n",
       "        vertical-align: middle;\n",
       "    }\n",
       "\n",
       "    .dataframe tbody tr th {\n",
       "        vertical-align: top;\n",
       "    }\n",
       "\n",
       "    .dataframe thead th {\n",
       "        text-align: right;\n",
       "    }\n",
       "</style>\n",
       "<table border=\"1\" class=\"dataframe\">\n",
       "  <thead>\n",
       "    <tr style=\"text-align: right;\">\n",
       "      <th></th>\n",
       "      <th>pro_pct</th>\n",
       "    </tr>\n",
       "    <tr>\n",
       "      <th>symbol</th>\n",
       "      <th></th>\n",
       "    </tr>\n",
       "  </thead>\n",
       "  <tbody>\n",
       "    <tr>\n",
       "      <th>STELLAR</th>\n",
       "      <td>1.932456</td>\n",
       "    </tr>\n",
       "    <tr>\n",
       "      <th>EOS</th>\n",
       "      <td>0.803522</td>\n",
       "    </tr>\n",
       "    <tr>\n",
       "      <th>RIPPLE</th>\n",
       "      <td>-0.114141</td>\n",
       "    </tr>\n",
       "    <tr>\n",
       "      <th>ETHEREUM</th>\n",
       "      <td>-0.226430</td>\n",
       "    </tr>\n",
       "    <tr>\n",
       "      <th>BITCOIN</th>\n",
       "      <td>-0.228245</td>\n",
       "    </tr>\n",
       "    <tr>\n",
       "      <th>LITECOIN</th>\n",
       "      <td>-0.488690</td>\n",
       "    </tr>\n",
       "  </tbody>\n",
       "</table>\n",
       "</div>"
      ],
      "text/plain": [
       "           pro_pct\n",
       "symbol            \n",
       "STELLAR   1.932456\n",
       "EOS       0.803522\n",
       "RIPPLE   -0.114141\n",
       "ETHEREUM -0.226430\n",
       "BITCOIN  -0.228245\n",
       "LITECOIN -0.488690"
      ]
     },
     "execution_count": 11,
     "metadata": {},
     "output_type": "execute_result"
    },
    {
     "data": {
      "text/html": [
       "<div>\n",
       "<style scoped>\n",
       "    .dataframe tbody tr th:only-of-type {\n",
       "        vertical-align: middle;\n",
       "    }\n",
       "\n",
       "    .dataframe tbody tr th {\n",
       "        vertical-align: top;\n",
       "    }\n",
       "\n",
       "    .dataframe thead th {\n",
       "        text-align: right;\n",
       "    }\n",
       "</style>\n",
       "<table border=\"1\" class=\"dataframe\">\n",
       "  <thead>\n",
       "    <tr style=\"text-align: right;\">\n",
       "      <th></th>\n",
       "      <th>pro_pct</th>\n",
       "    </tr>\n",
       "    <tr>\n",
       "      <th>symbol</th>\n",
       "      <th></th>\n",
       "    </tr>\n",
       "  </thead>\n",
       "  <tbody>\n",
       "    <tr>\n",
       "      <th>STELLAR</th>\n",
       "      <td>1.932456</td>\n",
       "    </tr>\n",
       "    <tr>\n",
       "      <th>EOS</th>\n",
       "      <td>0.803522</td>\n",
       "    </tr>\n",
       "    <tr>\n",
       "      <th>RIPPLE</th>\n",
       "      <td>-0.114141</td>\n",
       "    </tr>\n",
       "    <tr>\n",
       "      <th>ETHEREUM</th>\n",
       "      <td>-0.226430</td>\n",
       "    </tr>\n",
       "    <tr>\n",
       "      <th>BITCOIN</th>\n",
       "      <td>-0.228245</td>\n",
       "    </tr>\n",
       "    <tr>\n",
       "      <th>LITECOIN</th>\n",
       "      <td>-0.488690</td>\n",
       "    </tr>\n",
       "  </tbody>\n",
       "</table>\n",
       "</div>"
      ],
      "text/plain": [
       "           pro_pct\n",
       "symbol            \n",
       "STELLAR   1.932456\n",
       "EOS       0.803522\n",
       "RIPPLE   -0.114141\n",
       "ETHEREUM -0.226430\n",
       "BITCOIN  -0.228245\n",
       "LITECOIN -0.488690"
      ]
     },
     "execution_count": 11,
     "metadata": {},
     "output_type": "execute_result"
    },
    {
     "data": {
      "text/plain": [
       "6"
      ]
     },
     "execution_count": 11,
     "metadata": {},
     "output_type": "execute_result"
    }
   ],
   "source": [
    "'''计算标的持有、收益等'''\n",
    "\n",
    "df = order_df.copy()\n",
    "df.drop(columns=['sell_reason'], inplace=True)\n",
    "df['pro_pct'] = (df.sell_price - df.buy_price) / df.buy_price\n",
    "# df.sell_date.dtypes\n",
    "# df.loc[1].sell_date\n",
    "# df.loc[1].sell_date.to_timestamp()\n",
    "\n",
    "# df = df.astype(dtype={'sell_date': 'datetime64[ns]', 'buy_date': 'datetime64[ns]', 'cash':'int'})\n",
    "df = df.astype(dtype={'cash': 'int', 'profit': 'int'})\n",
    "# df.loc[1].sell_date\n",
    "\n",
    "# type(df[1].sell_date)\n",
    "df['h_days'] = (df.sell_date - df.buy_date)\n",
    "# df.loc[1].h_days\n",
    "# type(df.loc[1].h_days)\n",
    "\n",
    "df['h_days'] = df['h_days'].apply(lambda x: 1 if x == 0 else x)\n",
    "# df.loc[1].h_days\n",
    "\n",
    "df['per_d'] = df.pro_pct / df.h_days * 365\n",
    "# df['per_d'] = df.apply(lambda x: x.pro_pct / x.h_days)\n",
    "\n",
    "# df\n",
    "# df.sort_values(by='pro_pct', ascending=False)\n",
    "# df.sort_values(by='per_d', ascending=False)\n",
    "\n",
    "df = df.loc[:, ['symbol', 'pro_pct']]\n",
    "df = df.groupby(by='symbol').sum()\n",
    "df.sort_values(by='pro_pct', ascending=False).head(10)\n",
    "df.sort_values(by='pro_pct', ascending=False).tail(10)\n",
    "len(df)"
   ]
  },
  {
   "cell_type": "code",
   "execution_count": 12,
   "metadata": {},
   "outputs": [
    {
     "data": {
      "text/plain": [
       "'策略评价'"
      ]
     },
     "execution_count": 12,
     "metadata": {},
     "output_type": "execute_result"
    }
   ],
   "source": [
    "'''策略评价'''\n",
    "\n",
    "strategy_result = None\n",
    "strategy_result = pd.DataFrame(columns=[\n",
    "    'strategy', 'ops', 'symbol', 'count', 'price', 'reason', 'profit'\n",
    "])\n"
   ]
  },
  {
   "cell_type": "code",
   "execution_count": 13,
   "metadata": {
    "scrolled": false
   },
   "outputs": [
    {
     "data": {
      "text/plain": [
       "Index(['open', 'close', 'o_pct_chg', 'c_o_pct_chg', 'ROLLING_20_MAX',\n",
       "       'ROLLING_10_MIN', 'MA180', 'MA90', 'MA60', 'MA30', 'CASH_TURTLE',\n",
       "       'PROPERTY_TURTLE'],\n",
       "      dtype='object')"
      ]
     },
     "execution_count": 13,
     "metadata": {},
     "output_type": "execute_result"
    },
    {
     "data": {
      "image/png": "[encoded data removed]",
      "text/plain": [
       "<Figure size 1080x720 with 1 Axes>"
      ]
     },
     "metadata": {},
     "output_type": "display_data"
    }
   ],
   "source": [
    "%matplotlib inline\n",
    "\n",
    "import matplotlib\n",
    "import matplotlib.pyplot as plt\n",
    "plt.rcParams['figure.figsize'] = [15, 10]\n",
    "\n",
    "# df = show_df.fillna(START_MONEY).copy()\n",
    "df = show_df.dropna(how='any', inplace=False).copy()\n",
    "df = df.loc[start_date:end_date]\n",
    "# df.drop(columns=['PROPERTY_TURTLE'], inplace=True)\n",
    "df.columns\n",
    "\n",
    "df['close'] = (df['close'] - df.iloc[0]['close']) / df.iloc[0]['close']\n",
    "ax = df.plot(kind='line', y='close', label='BENCHMARK_%.2f' % df.iloc[-1]['close'], linewidth=1, grid=True)\n",
    "for col in sorted(df.columns):\n",
    "    if 'PROPERTY' in col:\n",
    "        df[col] = (df[col] - df.iloc[1][col]) / df.iloc[0][col]\n",
    "        ax = df.plot(kind='line', y=col, secondary_y=False, label='%s_%.2f' % (col, df.iloc[-1][col]), linewidth=1, grid=True, ax=ax)\n",
    "\n",
    "# ax = df.plot(kind='line', y='close', label='BENCHMARK_%.2f' % df.iloc[-1]['close'], linewidth=1, grid=True)\n",
    "# for col in sorted(df.columns):\n",
    "#     if 'PROPERTY' in col:\n",
    "#         df[col] = (df[col] - df.iloc[1][col]) / df.iloc[0][col]\n",
    "#         ax = df.plot(kind='line', y=col, secondary_y=False, label='MA_%s_%.2f' % (col, df.iloc[-1][col]), linewidth=1, grid=True, ax=ax)\n",
    "\n",
    "# display_charts(df, kind='line', figsize=(900, 600), logy=False)"
   ]
  },
  {
   "cell_type": "code",
   "execution_count": 14,
   "metadata": {
    "scrolled": false
   },
   "outputs": [
    {
     "data": {
      "text/plain": [
       "Index(['open', 'close', 'o_pct_chg', 'c_o_pct_chg', 'ROLLING_20_MAX',\n",
       "       'ROLLING_10_MIN', 'MA180', 'MA90', 'MA60', 'MA30', 'CASH_TURTLE',\n",
       "       'PROPERTY_TURTLE'],\n",
       "      dtype='object')"
      ]
     },
     "execution_count": 14,
     "metadata": {},
     "output_type": "execute_result"
    },
    {
     "data": {
      "text/html": [
       "<div id=\"chart_idaChsvHJo\"</div>\n",
       "    <script type=\"text/javascript\">new Highcharts.StockChart({\"chart\":{\"renderTo\":\"chart_idaChsvHJo\",\"width\":900,\"height\":600},\"legend\":{\"enabled\":true},\"series\":[{\"name\":\"CASH_TURTLE\",\"yAxis\":0,\"data\":[[1514764800000,1.0],[1514851200000,0.6000008937],[1514937600000,0.0006532022],[1515024000000,0.0006532022],[1515110400000,0.0006532022],[1515196800000,0.0006532022],[1515283200000,0.0006532022],[1515369600000,0.0006532022],[1515456000000,0.0006532022],[1515542400000,0.1260091422],[1515628800000,0.1260091422],[1515715200000,0.5495889337],[1515801600000,0.3470111737],[1515888000000,0.1359916937],[1515974400000,0.1359916937],[1516060800000,0.1359916937],[1516147200000,0.7207900337],[1516233600000,0.7207900337],[1516320000000,0.7207900337],[1516406400000,0.7207900337],[1516492800000,0.7207900337],[1516579200000,0.7207900337],[1516665600000,0.7207900337],[1516752000000,0.7207900337],[1516838400000,0.7207900337],[1516924800000,0.7207900337],[1517011200000,0.7207900337],[1517097600000,0.7207900337],[1517184000000,0.7207900337],[1517270400000,0.7207900337],[1517356800000,0.8875674137],[1517443200000,0.8875674137],[1517529600000,0.8875674137],[1517616000000,0.8875674137],[1517702400000,0.8875674137],[1517788800000,0.8875674137],[1517875200000,0.8875674137],[1517961600000,0.8875674137],[1518048000000,0.8875674137],[1518134400000,0.8875674137],[1518220800000,0.8875674137],[1518307200000,0.8875674137],[1518393600000,0.8875674137],[1518480000000,0.8875674137],[1518566400000,0.8875674137],[1518652800000,0.7102551637],[1518739200000,0.5327866637],[1518825600000,0.3530881637],[1518912000000,0.1721378137],[1518998400000,0.1721378137],[1519084800000,0.0036608137],[1519171200000,0.0036608137],[1519257600000,0.0036608137],[1519344000000,0.0036608137],[1519430400000,0.0036608137],[1519516800000,0.1506071137],[1519603200000,0.1506071137],[1519689600000,0.1506071137],[1519776000000,0.1506071137],[1519862400000,0.1506071137],[1519948800000,0.1506071137],[1520035200000,0.1506071137],[1520121600000,0.1506071137],[1520208000000,0.1506071137],[1520294400000,0.1506071137],[1520380800000,0.7784948137],[1520467200000,0.7784948137],[1520553600000,0.7784948137],[1520640000000,0.7784948137],[1520726400000,0.7784948137],[1520812800000,0.7784948137],[1520899200000,0.7784948137],[1520985600000,0.7784948137],[1521072000000,0.7784948137],[1521158400000,0.7784948137],[1521244800000,0.7784948137],[1521331200000,0.7784948137],[1521417600000,0.7784948137],[1521504000000,0.7784948137],[1521590400000,0.7784948137],[1521676800000,0.7784948137],[1521763200000,0.7784948137],[1521849600000,0.7784948137],[1521936000000,0.7784948137],[1522022400000,0.7784948137],[1522108800000,0.7784948137],[1522195200000,0.7784948137],[1522281600000,0.7784948137],[1522368000000,0.7784948137],[1522454400000,0.7784948137],[1522540800000,0.7784948137],[1522627200000,0.7784948137],[1522713600000,0.7784948137],[1522800000000,0.7784948137],[1522886400000,0.7784948137],[1522972800000,0.7784948137],[1523059200000,0.7784948137],[1523145600000,0.7784948137],[1523232000000,0.7784948137],[1523318400000,0.7784948137],[1523404800000,0.7784948137],[1523491200000,0.6228003137],[1523577600000,0.3114102664],[1523664000000,0.1549420315],[1523750400000,0.1549420315],[1523836800000,0.1549420315],[1523923200000,0.1549420315],[1524009600000,0.1549420315],[1524096000000,0.1549420315],[1524182400000,0.1549420315],[1524268800000,0.1549420315],[1524355200000,0.1549420315],[1524441600000,0.1549420315],[1524528000000,0.1549420315],[1524614400000,0.1549420315],[1524700800000,0.1549420315],[1524787200000,0.1549420315],[1524873600000,0.1549420315],[1524960000000,0.1549420315],[1525046400000,0.1549420315],[1525132800000,0.1549420315],[1525219200000,0.1549420315],[1525305600000,0.1549420315],[1525392000000,0.1549420315],[1525478400000,0.1549420315],[1525564800000,0.1549420315],[1525651200000,0.1549420315],[1525737600000,0.6639445943],[1525824000000,0.6639445943],[1525910400000,0.6639445943],[1525996800000,0.6639445943],[1526083200000,1.2061007543],[1526169600000,1.2061007543],[1526256000000,1.2061007543],[1526342400000,1.2061007543],[1526428800000,1.2061007543],[1526515200000,1.2061007543],[1526601600000,1.2061007543],[1526688000000,1.2061007543],[1526774400000,1.2061007543],[1526860800000,1.2061007543],[1526947200000,1.2061007543],[1527033600000,1.2061007543],[1527120000000,1.2061007543],[1527206400000,1.2061007543],[1527292800000,1.2061007543],[1527379200000,1.2061007543],[1527465600000,1.2061007543],[1527552000000,1.2061007543],[1527638400000,1.2061007543],[1527724800000,1.2061007543],[1527811200000,1.2061007543],[1527897600000,1.2061007543],[1527984000000,0.9648902843],[1528070400000,0.9648902843],[1528156800000,0.9648902843],[1528243200000,0.9648902843],[1528329600000,0.9648902843],[1528416000000,0.9648902843],[1528502400000,0.9648902843],[1528588800000,0.9648902843],[1528675200000,1.1490962543],[1528761600000,1.1490962543],[1528848000000,1.1490962543],[1528934400000,1.1490962543],[1529020800000,1.1490962543],[1529107200000,1.1490962543],[1529193600000,1.1490962543],[1529280000000,1.1490962543],[1529366400000,1.1490962543],[1529452800000,1.1490962543],[1529539200000,1.1490962543],[1529625600000,1.1490962543],[1529712000000,1.1490962543],[1529798400000,1.1490962543],[1529884800000,1.1490962543],[1529971200000,1.1490962543],[1530057600000,1.1490962543],[1530144000000,1.1490962543],[1530230400000,1.1490962543],[1530316800000,1.1490962543],[1530403200000,1.1490962543],[1530489600000,1.1490962543],[1530576000000,1.1490962543],[1530662400000,1.1490962543],[1530748800000,1.1490962543],[1530835200000,1.1490962543],[1530921600000,1.1490962543],[1531008000000,0.9227888543],[1531094400000,0.9227888543],[1531180800000,0.9227888543],[1531267200000,1.1317042643],[1531353600000,1.1317042643],[1531440000000,1.1317042643],[1531526400000,1.1317042643],[1531612800000,1.1317042643],[1531699200000,0.9053636262],[1531785600000,0.6790227742],[1531872000000,0.2220862914],[1531958400000,0.2220862914],[1532044800000,0.2220862914],[1532131200000,0.2220862914],[1532217600000,0.2220862914],[1532304000000,0.2220862914],[1532390400000,0.2220862914],[1532476800000,0.2220862914],[1532563200000,0.2220862914],[1532649600000,0.2220862914],[1532736000000,0.2220862914],[1532822400000,0.2220862914],[1532908800000,0.2220862914],[1532995200000,0.2220862914],[1533081600000,0.9718751763],[1533168000000,1.2085350663],[1533254400000,1.2085350663],[1533340800000,1.2085350663],[1533427200000,1.2085350663],[1533513600000,1.2085350663],[1533600000000,1.2085350663],[1533686400000,1.2085350663],[1533772800000,1.2085350663],[1533859200000,1.2085350663],[1533945600000,1.2085350663],[1534032000000,1.2085350663],[1534118400000,1.2085350663],[1534204800000,1.2085350663],[1534291200000,1.2085350663],[1534377600000,1.2085350663],[1534464000000,1.2085350663],[1534550400000,1.2085350663],[1534636800000,1.2085350663],[1534723200000,1.2085350663],[1534809600000,1.2085350663],[1534896000000,1.2085350663],[1534982400000,1.2085350663],[1535068800000,1.2085350663],[1535155200000,1.2085350663],[1535241600000,1.2085350663],[1535328000000,1.2085350663],[1535414400000,0.9673472663],[1535500800000,0.4845238263],[1535587200000,0.2414129463],[1535673600000,0.2414129463],[1535760000000,0.2414129463],[1535846400000,0.2414129463],[1535932800000,0.2414129463],[1536019200000,0.2414129463],[1536105600000,0.2414129463],[1536192000000,1.1279177163],[1536278400000,1.1279177163],[1536364800000,1.1279177163],[1536451200000,1.1279177163],[1536537600000,1.1279177163],[1536624000000,1.1279177163],[1536710400000,1.1279177163],[1536796800000,1.1279177163],[1536883200000,1.1279177163],[1536969600000,1.1279177163],[1537056000000,1.1279177163],[1537142400000,1.1279177163],[1537228800000,1.1279177163],[1537315200000,1.1279177163],[1537401600000,1.1279177163],[1537488000000,0.6767508023],[1537574400000,0.225584074],[1537660800000,0.225584074],[1537747200000,0.225584074],[1537833600000,0.225584074],[1537920000000,0.225584074],[1538006400000,0.225584074],[1538092800000,0.225584074],[1538179200000,0.225584074],[1538265600000,0.225584074]]},{\"name\":\"PROPERTY_TURTLE\",\"yAxis\":0,\"data\":[[1514764800000,0.0],[1514851200000,0.0],[1514937600000,0.0340980518],[1515024000000,0.4103604863],[1515110400000,0.3274239962],[1515196800000,0.227492778],[1515283200000,0.2852320311],[1515369600000,0.3454562816],[1515456000000,0.1387816684],[1515542400000,0.0922362127],[1515628800000,0.0604827039],[1515715200000,0.0129049337],[1515801600000,0.0577769337],[1515888000000,0.1413251837],[1515974400000,0.0835236637],[1516060800000,0.0368377037],[1516147200000,-0.1307693663],[1516233600000,-0.1307693663],[1516320000000,-0.1281498263],[1516406400000,-0.1154887163],[1516492800000,-0.0513099863],[1516579200000,-0.0821623463],[1516665600000,-0.0817257563],[1516752000000,-0.0898754363],[1516838400000,-0.0760500863],[1516924800000,-0.0713931263],[1517011200000,-0.0705199463],[1517097600000,-0.0705199463],[1517184000000,-0.0604783763],[1517270400000,-0.0750313763],[1517356800000,-0.1124325863],[1517443200000,-0.1124325863],[1517529600000,-0.1124325863],[1517616000000,-0.1124325863],[1517702400000,-0.1124325863],[1517788800000,-0.1124325863],[1517875200000,-0.1124325863],[1517961600000,-0.1124325863],[1518048000000,-0.1124325863],[1518134400000,-0.1124325863],[1518220800000,-0.1124325863],[1518307200000,-0.1124325863],[1518393600000,-0.1124325863],[1518480000000,-0.1124325863],[1518566400000,-0.1124325863],[1518652800000,-0.1124325863],[1518739200000,-0.1014523363],[1518825600000,-0.0949643363],[1518912000000,-0.0925352863],[1518998400000,-0.1407042863],[1519084800000,-0.1162050863],[1519171200000,-0.0890256863],[1519257600000,-0.1574735863],[1519344000000,-0.2278170363],[1519430400000,-0.1700820863],[1519516800000,-0.1854581863],[1519603200000,-0.1407662863],[1519689600000,-0.1421379863],[1519776000000,-0.1562696863],[1519862400000,-0.2014400863],[1519948800000,-0.1809283863],[1520035200000,-0.1672432863],[1520121600000,-0.1787272863],[1520208000000,-0.1675622863],[1520294400000,-0.1778659863],[1520380800000,-0.2215051863],[1520467200000,-0.2215051863],[1520553600000,-0.2215051863],[1520640000000,-0.2215051863],[1520726400000,-0.2215051863],[1520812800000,-0.2215051863],[1520899200000,-0.2215051863],[1520985600000,-0.2215051863],[1521072000000,-0.2215051863],[1521158400000,-0.2215051863],[1521244800000,-0.2215051863],[1521331200000,-0.2215051863],[1521417600000,-0.2215051863],[1521504000000,-0.2215051863],[1521590400000,-0.2215051863],[1521676800000,-0.2215051863],[1521763200000,-0.2215051863],[1521849600000,-0.2215051863],[1521936000000,-0.2215051863],[1522022400000,-0.2215051863],[1522108800000,-0.2215051863],[1522195200000,-0.2215051863],[1522281600000,-0.2215051863],[1522368000000,-0.2215051863],[1522454400000,-0.2215051863],[1522540800000,-0.2215051863],[1522627200000,-0.2215051863],[1522713600000,-0.2215051863],[1522800000000,-0.2215051863],[1522886400000,-0.2215051863],[1522972800000,-0.2215051863],[1523059200000,-0.2215051863],[1523145600000,-0.2215051863],[1523232000000,-0.2215051863],[1523318400000,-0.2215051863],[1523404800000,-0.2215051863],[1523491200000,-0.2215051863],[1523577600000,-0.2176586163],[1523664000000,-0.2134819841],[1523750400000,-0.2105846934],[1523836800000,-0.1688823845],[1523923200000,-0.1853388238],[1524009600000,-0.1522983591],[1524096000000,-0.0633085677],[1524182400000,-0.0303968755],[1524268800000,0.0765597657],[1524355200000,0.0371727849],[1524441600000,0.0372309855],[1524528000000,0.05775316],[1524614400000,0.212149591],[1524700800000,0.1154565716],[1524787200000,0.2108340703],[1524873600000,0.2601326545],[1524960000000,0.3900895679],[1525046400000,0.5268716746],[1525132800000,0.3410450882],[1525219200000,0.4035689227],[1525305600000,0.4158472488],[1525392000000,0.3583840169],[1525478400000,0.3287468406],[1525564800000,0.3493351109],[1525651200000,0.3254015586],[1525737600000,0.3146767543],[1525824000000,0.3197436343],[1525910400000,0.3143148343],[1525996800000,0.2958569143],[1526083200000,0.2061007543],[1526169600000,0.2061007543],[1526256000000,0.2061007543],[1526342400000,0.2061007543],[1526428800000,0.2061007543],[1526515200000,0.2061007543],[1526601600000,0.2061007543],[1526688000000,0.2061007543],[1526774400000,0.2061007543],[1526860800000,0.2061007543],[1526947200000,0.2061007543],[1527033600000,0.2061007543],[1527120000000,0.2061007543],[1527206400000,0.2061007543],[1527292800000,0.2061007543],[1527379200000,0.2061007543],[1527465600000,0.2061007543],[1527552000000,0.2061007543],[1527638400000,0.2061007543],[1527724800000,0.2061007543],[1527811200000,0.2061007543],[1527897600000,0.2061007543],[1527984000000,0.2061007543],[1528070400000,0.2026804843],[1528156800000,0.1860677443],[1528243200000,0.1969800343],[1528329600000,0.1927454143],[1528416000000,0.2021918743],[1528502400000,0.1935597643],[1528588800000,0.1935597643],[1528675200000,0.1490962543],[1528761600000,0.1490962543],[1528848000000,0.1490962543],[1528934400000,0.1490962543],[1529020800000,0.1490962543],[1529107200000,0.1490962543],[1529193600000,0.1490962543],[1529280000000,0.1490962543],[1529366400000,0.1490962543],[1529452800000,0.1490962543],[1529539200000,0.1490962543],[1529625600000,0.1490962543],[1529712000000,0.1490962543],[1529798400000,0.1490962543],[1529884800000,0.1490962543],[1529971200000,0.1490962543],[1530057600000,0.1490962543],[1530144000000,0.1490962543],[1530230400000,0.1490962543],[1530316800000,0.1490962543],[1530403200000,0.1490962543],[1530489600000,0.1490962543],[1530576000000,0.1490962543],[1530662400000,0.1490962543],[1530748800000,0.1490962543],[1530835200000,0.1490962543],[1530921600000,0.1490962543],[1531008000000,0.1490962543],[1531094400000,0.1463664943],[1531180800000,0.1451827843],[1531267200000,0.1317042643],[1531353600000,0.1317042643],[1531440000000,0.1317042643],[1531526400000,0.1317042643],[1531612800000,0.1317042643],[1531699200000,0.1317042643],[1531785600000,0.1508095353],[1531872000000,0.1810291499],[1531958400000,0.2613509756],[1532044800000,0.2701686312],[1532131200000,0.1893088551],[1532217600000,0.2356853008],[1532304000000,0.2178049286],[1532390400000,0.2291116932],[1532476800000,0.27896271],[1532563200000,0.343632076],[1532649600000,0.2845217507],[1532736000000,0.3124089892],[1532822400000,0.3117136567],[1532908800000,0.2953983748],[1532995200000,0.2645817029],[1533081600000,0.2127154163],[1533168000000,0.2085350663],[1533254400000,0.2085350663],[1533340800000,0.2085350663],[1533427200000,0.2085350663],[1533513600000,0.2085350663],[1533600000000,0.2085350663],[1533686400000,0.2085350663],[1533772800000,0.2085350663],[1533859200000,0.2085350663],[1533945600000,0.2085350663],[1534032000000,0.2085350663],[1534118400000,0.2085350663],[1534204800000,0.2085350663],[1534291200000,0.2085350663],[1534377600000,0.2085350663],[1534464000000,0.2085350663],[1534550400000,0.2085350663],[1534636800000,0.2085350663],[1534723200000,0.2085350663],[1534809600000,0.2085350663],[1534896000000,0.2085350663],[1534982400000,0.2085350663],[1535068800000,0.2085350663],[1535155200000,0.2085350663],[1535241600000,0.2085350663],[1535328000000,0.2085350663],[1535414400000,0.2085350663],[1535500800000,0.2155571163],[1535587200000,0.2212613063],[1535673600000,0.2116043363],[1535760000000,0.2471548763],[1535846400000,0.2740891163],[1535932800000,0.2794542563],[1536019200000,0.2638238063],[1536105600000,0.2722313663],[1536192000000,0.1279177163],[1536278400000,0.1279177163],[1536364800000,0.1279177163],[1536451200000,0.1279177163],[1536537600000,0.1279177163],[1536624000000,0.1279177163],[1536710400000,0.1279177163],[1536796800000,0.1279177163],[1536883200000,0.1279177163],[1536969600000,0.1279177163],[1537056000000,0.1279177163],[1537142400000,0.1279177163],[1537228800000,0.1279177163],[1537315200000,0.1279177163],[1537401600000,0.1279177163],[1537488000000,0.1279177163],[1537574400000,0.1985673564],[1537660800000,0.1911121793],[1537747200000,0.2628259757],[1537833600000,0.1481276859],[1537920000000,0.1628335583],[1538006400000,0.14696117],[1538092800000,0.2008411416],[1538179200000,0.1834325868],[1538265600000,0.2128642913]]},{\"name\":\"close\",\"yAxis\":0,\"data\":[[1514764800000,0.0],[1514851200000,0.0970111004],[1514937600000,0.113039276],[1515024000000,0.1421960578],[1515110400000,0.2762132794],[1515196800000,0.2833523709],[1515283200000,0.2065137803],[1515369600000,0.1107767332],[1515456000000,0.0686963653],[1515542400000,0.0963667516],[1515628800000,-0.0184078728],[1515715200000,0.0236798172],[1515801600000,0.05147468],[1515888000000,0.0084058226],[1515974400000,0.0119058079],[1516060800000,-0.1586489178],[1516147200000,-0.1807544738],[1516233600000,-0.1597911724],[1516320000000,-0.1500893302],[1516406400000,-0.0555018598],[1516492800000,-0.1506238468],[1516579200000,-0.199587031],[1516665600000,-0.2041999824],[1516752000000,-0.16824825],[1516838400000,-0.1755703951],[1516924800000,-0.1820138828],[1517011200000,-0.162295346],[1517097600000,-0.1369900126],[1517184000000,-0.1728612014],[1517270400000,-0.2600020502],[1517356800000,-0.2515962276],[1517443200000,-0.3285197551],[1517529600000,-0.353399672],[1517616000000,-0.3281997774],[1517702400000,-0.3939453182],[1517788800000,-0.4907250388],[1517875200000,-0.4322408693],[1517961600000,-0.4419573558],[1518048000000,-0.3947815072],[1518134400000,-0.3602656474],[1518220800000,-0.368691972],[1518307200000,-0.4047118004],[1518393600000,-0.3463835925],[1518480000000,-0.370419266],[1518566400000,-0.3047894151],[1518652800000,-0.255601441],[1518739200000,-0.2506589931],[1518825600000,-0.186311982],[1518912000000,-0.2273818938],[1518998400000,-0.1780672466],[1519084800000,-0.1650045397],[1519171200000,-0.2172334007],[1519257600000,-0.2674193832],[1519344000000,-0.2457385116],[1519430400000,-0.2814727763],[1519516800000,-0.2923344463],[1519603200000,-0.2409351844],[1519689600000,-0.2146560056],[1519776000000,-0.2386506751],[1519862400000,-0.1981518906],[1519948800000,-0.1882377061],[1520035200000,-0.1587074949],[1520121600000,-0.1570307237],[1520208000000,-0.1525861816],[1520294400000,-0.2106800808],[1520380800000,-0.270306505],[1520467200000,-0.3120837361],[1520553600000,-0.3162910406],[1520640000000,-0.3508186158],[1520726400000,-0.2986388132],[1520812800000,-0.3259877574],[1520899200000,-0.3267397417],[1520985600000,-0.3944725127],[1521072000000,-0.3921989866],[1521158400000,-0.3894539144],[1521244800000,-0.4203145594],[1521331200000,-0.3978502182],[1521417600000,-0.3680512843],[1521504000000,-0.3473427935],[1521590400000,-0.3461851624],[1521676800000,-0.360888762],[1521763200000,-0.3498213397],[1521849600000,-0.3653076765],[1521936000000,-0.3779266614],[1522022400000,-0.3988958205],[1522108800000,-0.4264534458],[1522195200000,-0.4175614328],[1522281600000,-0.4753170489],[1522368000000,-0.4954661278],[1522454400000,-0.4893880151],[1522540800000,-0.4988555487],[1522627200000,-0.4813138857],[1522713600000,-0.4540528073],[1522800000000,-0.4981518906],[1522886400000,-0.5012542835],[1522972800000,-0.5140790206],[1523059200000,-0.4939599625],[1523145600000,-0.4857276748],[1523232000000,-0.5042373254],[1523318400000,-0.4995489559],[1523404800000,-0.4897694989],[1523491200000,-0.422337668],[1523577600000,-0.4218463521],[1523664000000,-0.4152359195],[1523750400000,-0.3901304806],[1523836800000,-0.4099324898],[1523923200000,-0.4213975046],[1524009600000,-0.4022625428],[1524096000000,-0.3926785871],[1524182400000,-0.3522954925],[1524268800000,-0.3486527253],[1524355200000,-0.3554711068],[1524441600000,-0.3460680081],[1524528000000,-0.2899349794],[1524614400000,-0.3523020824],[1524700800000,-0.3203943707],[1524787200000,-0.3419551592],[1524873600000,-0.3154907302],[1524960000000,-0.3103212957],[1525046400000,-0.3233935214],[1525132800000,-0.3322928565],[1525219200000,-0.3237325367],[1525305600000,-0.2865404329],[1525392000000,-0.2896962774],[1525478400000,-0.2781719533],[1525564800000,-0.2930615353],[1525651200000,-0.313694608],[1525737600000,-0.3238130803],[1525824000000,-0.31719679],[1525910400000,-0.3377895908],[1525996800000,-0.381901854],[1526083200000,-0.377259614],[1526169600000,-0.3612204551],[1526256000000,-0.3617439885],[1526342400000,-0.3768576282],[1526428800000,-0.3872221246],[1526515200000,-0.4073221451],[1526601600000,-0.3958520048],[1526688000000,-0.3961295141],[1526774400000,-0.3766474826],[1526860800000,-0.3835493366],[1526947200000,-0.4111692001],[1527033600000,-0.4466054535],[1527120000000,-0.4444439563],[1527206400000,-0.4522932958],[1527292800000,-0.4613917933],[1527379200000,-0.4604882406],[1527465600000,-0.4774924582],[1527552000000,-0.4528461178],[1527638400000,-0.4576838591],[1527724800000,-0.4512659989],[1527811200000,-0.4478040887],[1527897600000,-0.4403355007],[1527984000000,-0.4347120933],[1528070400000,-0.4497796034],[1528156800000,-0.4410450165],[1528243200000,-0.4395644788],[1528329600000,-0.4377881264],[1528416000000,-0.4416922942],[1528502400000,-0.4484974958],[1528588800000,-0.5031177694],[1528675200000,-0.494265296],[1528761600000,-0.5180300501],[1528848000000,-0.5350511086],[1528934400000,-0.5112211874],[1529020800000,-0.5272398442],[1529107200000,-0.5203877808],[1529193600000,-0.5241140204],[1529280000000,-0.5068667077],[1529366400000,-0.5042951703],[1529452800000,-0.5038111765],[1529539200000,-0.5072386726],[1529625600000,-0.554543391],[1529712000000,-0.5487742729],[1529798400000,-0.5479871423],[1529884800000,-0.5424259731],[1529971200000,-0.553812641],[1530057600000,-0.5491660077],[1530144000000,-0.5677415576],[1530230400000,-0.5446870515],[1530316800000,-0.5310898281],[1530403200000,-0.5324209941],[1530489600000,-0.5157001435],[1530576000000,-0.5218939461],[1530662400000,-0.5169178162],[1530748800000,-0.5138725361],[1530835200000,-0.511356647],[1530921600000,-0.4979256363],[1531008000000,-0.5040066778],[1531094400000,-0.506359283],[1531180800000,-0.5365118765],[1531267200000,-0.5317700554],[1531353600000,-0.5439174941],[1531440000000,-0.5432409279],[1531526400000,-0.5404533872],[1531612800000,-0.5343379316],[1531699200000,-0.506359283],[1531785600000,-0.4639428287],[1531872000000,-0.4603007937],[1531958400000,-0.4532656767],[1532044800000,-0.4615199309],[1532131200000,-0.4567488211],[1532217600000,-0.4568073983],[1532304000000,-0.4353813373],[1532390400000,-0.3831627274],[1532476800000,-0.4009467534],[1532563200000,-0.417773775],[1532649600000,-0.4021461207],[1532736000000,-0.4001588905],[1532822400000,-0.3982324342],[1532908800000,-0.4010133849],[1532995200000,-0.4303048941],[1533081600000,-0.4416930264],[1533168000000,-0.4459222974],[1533254400000,-0.4556431772],[1533340800000,-0.4850445186],[1533427200000,-0.4824356383],[1533513600000,-0.4909791172],[1533600000000,-0.5055267551],[1533686400000,-0.5382801746],[1533772800000,-0.5190646692],[1533859200000,-0.5471465601],[1533945600000,-0.5390175146],[1534032000000,-0.5370434643],[1534118400000,-0.5388827871],[1534204800000,-0.5460482383],[1534291200000,-0.5380810122],[1534377600000,-0.536161878],[1534464000000,-0.5181567232],[1534550400000,-0.5296429722],[1534636800000,-0.5236161146],[1534723200000,-0.53808028],[1534809600000,-0.5248835779],[1534896000000,-0.5330880415],[1534982400000,-0.5215066046],[1535068800000,-0.5079547784],[1535155200000,-0.5047894151],[1535241600000,-0.5088846909],[1535328000000,-0.4958966699],[1535414400000,-0.480400082],[1535500800000,-0.4839967197],[1535587200000,-0.4890438743],[1535673600000,-0.4846981812],[1535760000000,-0.4732997979],[1535846400000,-0.4674808892],[1535932800000,-0.4684078728],[1536019200000,-0.4609685734],[1536105600000,-0.5026191313],[1536192000000,-0.5219246991],[1536278400000,-0.5264717512],[1536364800000,-0.5441247108],[1536451200000,-0.5386418885],[1536537600000,-0.5365301819],[1536624000000,-0.5371525642],[1536710400000,-0.5349119878],[1536796800000,-0.5227931055],[1536883200000,-0.5231299241],[1536969600000,-0.5208974021],[1537056000000,-0.5228026243],[1537142400000,-0.5400814223],[1537228800000,-0.5334841695],[1537315200000,-0.5314896172],[1537401600000,-0.5226203028],[1537488000000,-0.5068571889],[1537574400000,-0.5078068711],[1537660800000,-0.5086379346],[1537747200000,-0.5170745101],[1537833600000,-0.5279801131],[1537920000000,-0.524426676],[1538006400000,-0.5111186773],[1538092800000,-0.5135071611],[1538179200000,-0.5165949096],[1538265600000,-0.5148668834]]}],\"xAxis\":{\"title\":{\"text\":\"date\"},\"type\":\"datetime\"},\"yAxis\":[{}]});</script>"
      ],
      "text/plain": [
       "<IPython.core.display.HTML object>"
      ]
     },
     "metadata": {},
     "output_type": "display_data"
    }
   ],
   "source": [
    "df = show_df.dropna(how='any', inplace=False).copy()\n",
    "# df.drop(columns=['open', 'high', 'low', 'o_pct_chg', 'TR', 'N'], inplace=True)\n",
    "df = df.loc[start_date:end_date]\n",
    "df.columns\n",
    "\n",
    "show_columns = ['close']\n",
    "df['close'] = (df['close'] - df.iloc[0]['close']) / df.iloc[0]['close']\n",
    "for col in sorted(df.columns):\n",
    "    if 'PROPERTY' in col:\n",
    "        df[col] = (df[col] - df.iloc[1][col]) / df.iloc[0][col]\n",
    "        show_columns.append(col)\n",
    "    if 'CASH' in col:\n",
    "        df[col] = df[col] / df.iloc[0][col]\n",
    "        show_columns.append(col)\n",
    "\n",
    "# df = df.loc[:, ['close', 'CASH_TURTLE_20_60_60', 'PROPERTY_TURTLE_20_60_60']]\n",
    "df = df.loc[:, show_columns]\n",
    "df.reset_index(drop=False, inplace=True)\n",
    "# df.dtypes\n",
    "# df.iloc[0].date\n",
    "# df.iloc[0].date.to_timestamp()\n",
    "# df.iloc[0].date.to_timestamp().to_datetime64()\n",
    "df['date'] = df['date'].apply(lambda x: x.to_timestamp().to_datetime64())\n",
    "# df.iloc[0].date\n",
    "df.set_index(keys=['date'], inplace=True)\n",
    "# df\n",
    "\n",
    "display_charts(df, chart_type='stock', figsize=(900, 600), logy=False)\n",
    "# display_charts"
   ]
  }
 ],
 "metadata": {
  "kernelspec": {
   "display_name": "Python 3",
   "language": "python",
   "name": "python3"
  },
  "language_info": {
   "codemirror_mode": {
    "name": "ipython",
    "version": 3
   },
   "file_extension": ".py",
   "mimetype": "text/x-python",
   "name": "python",
   "nbconvert_exporter": "python",
   "pygments_lexer": "ipython3",
   "version": "3.6.5"
  }
 },
 "nbformat": 4,
 "nbformat_minor": 2
}
