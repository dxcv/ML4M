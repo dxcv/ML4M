{
 "cells": [
  {
   "cell_type": "code",
   "execution_count": 1,
   "metadata": {
    "scrolled": false
   },
   "outputs": [
    {
     "data": {
      "text/html": [
       "\n",
       "<script src=\"//code.highcharts.com/stock/highstock.js\"></script>\n",
       "<script src=\"//code.highcharts.com/highcharts-more.js\"></script>\n",
       "<script src=\"//code.highcharts.com/modules/exporting.js\"></script>\n"
      ],
      "text/plain": [
       "<IPython.core.display.HTML object>"
      ]
     },
     "metadata": {},
     "output_type": "display_data"
    },
    {
     "data": {
      "text/plain": [
       "<module 'pandas' from 'd:\\\\python36\\\\lib\\\\site-packages\\\\pandas\\\\__init__.py'>"
      ]
     },
     "execution_count": 1,
     "metadata": {},
     "output_type": "execute_result"
    }
   ],
   "source": [
    "import os\n",
    "import sys\n",
    "sys.path.append(os.path.abspath(os.path.join(os.getcwd(), '..')))\n",
    "\n",
    "import pandas as pd\n",
    "pd.core.common.is_list_like = pd.api.types.is_list_like\n",
    "try:\n",
    "    import empyrical as emp\n",
    "except:\n",
    "    emp = None\n",
    "import tushare as ts\n",
    "import time\n",
    "import random\n",
    "# from concurrent.futures import ProcessPoolExecutor\n",
    "\n",
    "from common.log import *\n",
    "from common.config import Config\n",
    "from spider.spider_nasdaq import Spider_nasdaq\n",
    "from spider.spider_coinmarketcap import Spider_coinmarketcap\n",
    "\n",
    "from IPython.core.interactiveshell import InteractiveShell\n",
    "InteractiveShell.ast_node_interactivity = 'all'\n",
    "\n",
    "from pandas_highcharts.core import serialize\n",
    "from pandas_highcharts.display import display_charts\n",
    "\n",
    "CONF = Config().data[0]\n",
    "MONGODB = CONF['MONGODB']\n",
    "NASDAQ = CONF['NASDAQ']\n",
    "CRYPTOCURRENCY = CONF['CRYPTOCURRENCY']\n",
    "CRYPTOCURRENCY = list(CRYPTOCURRENCY.keys())\n",
    "NASDAQ100 = CONF['NASDAQ100']\n",
    "HS300 = list(ts.get_hs300s()['code'])\n",
    "\n",
    "BENCHMARK = '399300'\n",
    "# TARGET = ['399300']\n",
    "TARGET = HS300\n",
    "# BENCHMARK = 'NDX'\n",
    "# TARGET = NASDAQ100\n",
    "# BENCHMARK = 'BITCOIN'\n",
    "# TARGET = CRYPTOCURRENCY\n",
    "# BENCHMARK = 'EOS'\n",
    "# TARGET = ['EOS']\n",
    "\n",
    "ALL_TARGET = TARGET[:]\n",
    "\n",
    "pd"
   ]
  },
  {
   "cell_type": "code",
   "execution_count": 2,
   "metadata": {
    "scrolled": false
   },
   "outputs": [
    {
     "name": "stdout",
     "output_type": "stream",
     "text": [
      "Wall time: 0 ns\n"
     ]
    }
   ],
   "source": [
    "%%time\n",
    "\n",
    "IS_DOWNLOAD_DATA = False\n",
    "spider_n = Spider_nasdaq()\n",
    "spider_c = Spider_coinmarketcap()\n",
    "timeframe = '10y'\n",
    "ignore = True\n",
    "\n",
    "for symbol in TARGET + [BENCHMARK]:\n",
    "    if not IS_DOWNLOAD_DATA:\n",
    "        break\n",
    "\n",
    "    # 沪深300指数\n",
    "    if symbol == '399300':\n",
    "        df = ts.get_k_data(code=symbol, index=True, start='2005-01-01', end=time.strftime('%Y-%m-%d'))\n",
    "        datafile = '../database/market/%s.csv' % symbol\n",
    "        df.to_csv(datafile, index=False, encoding='utf-8')\n",
    "        \n",
    "    # A股\n",
    "    elif symbol in HS300:\n",
    "        df = ts.get_k_data(code=symbol, ktype='D', autype='qfq', index=False, start='2005-01-01', end=time.strftime('%Y-%m-%d'))\n",
    "        datafile = '../database/market/%s.csv' % symbol\n",
    "        df.to_csv(datafile, index=False, encoding='utf-8')\n",
    "        \n",
    "    # NASDAQ\n",
    "    elif symbol in NASDAQ100:\n",
    "        datafile = None\n",
    "        while datafile is None:\n",
    "            try:\n",
    "                datafile = spider_n.get_stock_data(symbol, timeframe)\n",
    "            except:\n",
    "                time.sleep(5)\n",
    "    \n",
    "    # CRYPTOCURRENCY\n",
    "    elif symbol in CRYPTOCURRENCY:\n",
    "        datafile = spider_c.get_coin_data(symbol, start_date='20100101', end_date=time.strftime('%Y%m%d'))\n",
    "        \n",
    "    print(datafile)\n",
    "    time.sleep(1)"
   ]
  },
  {
   "cell_type": "code",
   "execution_count": 3,
   "metadata": {},
   "outputs": [
    {
     "name": "stdout",
     "output_type": "stream",
     "text": [
      "Wall time: 0 ns\n"
     ]
    }
   ],
   "source": [
    "%%time\n",
    "\n",
    "### 时间设置\n",
    "start_date = '2005-01-01'\n",
    "# start_date = '2006-01-01'\n",
    "# start_date = '2007-01-01'\n",
    "# start_date = '2008-01-01'\n",
    "# start_date = '2009-01-01'\n",
    "# start_date = '2010-01-01'\n",
    "# start_date = '2011-01-01'\n",
    "# start_date = '2012-01-01'\n",
    "# start_date = '2013-01-01'\n",
    "# start_date = '2014-01-01'\n",
    "start_date = '2015-01-01'\n",
    "# start_date = '2015-07-01'\n",
    "# start_date = '2016-01-01'\n",
    "# start_date = '2017-01-01'\n",
    "# start_date = '2018-01-01'\n",
    "# start_date = '2018-07-20'\n",
    "# end_date = '2016-01-01'\n",
    "end_date = '2018-08-01'\n",
    "# end_date = time.strftime('%Y-%m-%d')\n",
    "\n",
    "TURTLE_POS = 20\n",
    "### Turtle System One - Short\n",
    "TURTLE_SHORT_BUY_N = 20\n",
    "TURTLE_SHORT_SELL_N = 20\n",
    "### Turtle System Two - Long\n",
    "TURTLE_LONG_BUY_N = 60\n",
    "TURTLE_LONG_SELL_N = 60\n",
    "\n",
    "### 业务设置\n",
    "IS_HAPPYMONEY = False\n",
    "IS_TAX = False\n",
    "IS_SLIPPAGE = False\n",
    "IS_RANDOM_BUY = False\n",
    "IS_FILTER = False\n",
    "IS_MARKETUP = False\n",
    "IS_BUYBENCHMARK = True\n",
    "IS_SHOWBUYLIST = True\n",
    "START_MONEY = 100000\n",
    "HAPPY_MONEY = 0\n",
    "PROPERTY = START_MONEY\n",
    "CASH = START_MONEY\n"
   ]
  },
  {
   "cell_type": "code",
   "execution_count": 4,
   "metadata": {},
   "outputs": [
    {
     "name": "stdout",
     "output_type": "stream",
     "text": [
      "Wall time: 4.79 s\n"
     ]
    }
   ],
   "source": [
    "%%time\n",
    "\n",
    "stock_df_dict = {}\n",
    "\n",
    "for symbol in TARGET + [BENCHMARK]:\n",
    "    stock_data_file = '../database/market/%s.csv' % symbol\n",
    "    stock_df = pd.read_csv(stock_data_file)\n",
    "\n",
    "    # 筛选字段\n",
    "    stock_df = stock_df.loc[:, ['date', 'open', 'close']]\n",
    "\n",
    "    # 去掉Nasdaq行情首行的当天行情\n",
    "    if symbol in NASDAQ100:\n",
    "        stock_df = stock_df.drop([0])\n",
    "\n",
    "    # 抛弃空值异常值\n",
    "    stock_df.dropna(axis=0, how='any', inplace=True)\n",
    "\n",
    "    # 格式化日期\n",
    "    # 445 ms ± 17.5 ms per loop (mean ± std. dev. of 7 runs, 1 loop each)\n",
    "    stock_df = stock_df.assign(date=pd.to_datetime(stock_df['date']))  # need .index.to_period('D')\n",
    "\n",
    "    # 用日期作索引，日期升序排序\n",
    "    # 95.1 µs ± 1.58 µs per loop (mean ± std. dev. of 7 runs, 10000 loops each)\n",
    "    if symbol in NASDAQ100 or symbol in CRYPTOCURRENCY:\n",
    "        stock_df = stock_df[::-1]\n",
    "    stock_df.set_index(['date'], inplace=True)\n",
    "    stock_df.index = stock_df.index.to_period('D')\n",
    "\n",
    "    # 计算每天涨跌幅\n",
    "    stock_df['o_pct_chg'] = stock_df.open.pct_change(1)\n",
    "#     stock_df['pre_close'] = stock_df.close.shift(1)\n",
    "#     stock_df['c_o_pct_chg'] = (stock_df.open - stock_df.pre_close) / stock_df.pre_close\n",
    "    stock_df['c_o_pct_chg'] = (stock_df.open - stock_df.close.shift(1)) / stock_df.close.shift(1)\n",
    "    \n",
    "    # Turtle指标\n",
    "#     stock_df['TR1'] = abs(stock_df['high'] - stock_df['low'])\n",
    "#     stock_df['TR2'] = abs(stock_df['high'] - stock_df['close'].shift())\n",
    "#     stock_df['TR3'] = abs(stock_df['low'] - stock_df['close'].shift())\n",
    "#     stock_df['TR'] = stock_df[['TR1', 'TR2', 'TR3']].max(axis=1)\n",
    "#     stock_df['N'] = stock_df['TR'].rolling(20).mean()\n",
    "#     stock_df['UNIT'] = (0.01 * START_MONEY) / (stock_df['N'])\n",
    "#     stock_df['ROLLING_%d_MAX' % TURTLE_SHORT_BUY_N] = stock_df['open'].rolling(TURTLE_SHORT_BUY_N).max()\n",
    "#     stock_df['ROLLING_%d_MIN' % TURTLE_SHORT_SELL_N] = stock_df['open'].rolling(TURTLE_SHORT_SELL_N).min()\n",
    "    stock_df['ROLLING_%d_MAX' % TURTLE_LONG_BUY_N] = stock_df['open'].rolling(TURTLE_LONG_BUY_N).max()\n",
    "    stock_df['ROLLING_%d_MIN' % TURTLE_LONG_SELL_N] = stock_df['open'].rolling(TURTLE_LONG_SELL_N).min()\n",
    "#     stock_df['EWMA'] = stock_df['open'].ewm(alpha=0.1, adjust=False).mean()\n",
    "#     stock_df['MA360'] = stock_df['open'].rolling(360).mean()\n",
    "    stock_df['MA180'] = stock_df['open'].rolling(180).mean()\n",
    "    stock_df['MA90'] = stock_df['open'].rolling(90).mean()\n",
    "    stock_df['MA60'] = stock_df['open'].rolling(60).mean()\n",
    "    stock_df['MA30'] = stock_df['open'].rolling(30).mean()\n",
    "    \n",
    "    # 减少数据\n",
    "    # stock_df = stock_df['2016-01-01':]\n",
    "    stock_df.dropna(how='any', inplace=True)\n",
    "#     stock_df.drop(columns=['volume', 'TR1', 'TR2', 'TR3'], inplace=True)\n",
    "    \n",
    "    stock_df_dict[symbol] = stock_df"
   ]
  },
  {
   "cell_type": "code",
   "execution_count": 5,
   "metadata": {
    "scrolled": false
   },
   "outputs": [
    {
     "data": {
      "text/plain": [
       "'抽查数据'"
      ]
     },
     "execution_count": 5,
     "metadata": {},
     "output_type": "execute_result"
    },
    {
     "data": {
      "text/html": [
       "<div>\n",
       "<style scoped>\n",
       "    .dataframe tbody tr th:only-of-type {\n",
       "        vertical-align: middle;\n",
       "    }\n",
       "\n",
       "    .dataframe tbody tr th {\n",
       "        vertical-align: top;\n",
       "    }\n",
       "\n",
       "    .dataframe thead th {\n",
       "        text-align: right;\n",
       "    }\n",
       "</style>\n",
       "<table border=\"1\" class=\"dataframe\">\n",
       "  <thead>\n",
       "    <tr style=\"text-align: right;\">\n",
       "      <th></th>\n",
       "      <th>open</th>\n",
       "      <th>close</th>\n",
       "      <th>o_pct_chg</th>\n",
       "      <th>c_o_pct_chg</th>\n",
       "      <th>ROLLING_60_MAX</th>\n",
       "      <th>ROLLING_60_MIN</th>\n",
       "      <th>MA180</th>\n",
       "      <th>MA90</th>\n",
       "      <th>MA60</th>\n",
       "      <th>MA30</th>\n",
       "    </tr>\n",
       "    <tr>\n",
       "      <th>date</th>\n",
       "      <th></th>\n",
       "      <th></th>\n",
       "      <th></th>\n",
       "      <th></th>\n",
       "      <th></th>\n",
       "      <th></th>\n",
       "      <th></th>\n",
       "      <th></th>\n",
       "      <th></th>\n",
       "      <th></th>\n",
       "    </tr>\n",
       "  </thead>\n",
       "  <tbody>\n",
       "    <tr>\n",
       "      <th>2005-12-29</th>\n",
       "      <td>921.14</td>\n",
       "      <td>932.03</td>\n",
       "      <td>0.002274</td>\n",
       "      <td>0.000239</td>\n",
       "      <td>923.43</td>\n",
       "      <td>855.45</td>\n",
       "      <td>900.228556</td>\n",
       "      <td>904.796111</td>\n",
       "      <td>888.027833</td>\n",
       "      <td>887.838667</td>\n",
       "    </tr>\n",
       "    <tr>\n",
       "      <th>2005-12-30</th>\n",
       "      <td>933.45</td>\n",
       "      <td>923.45</td>\n",
       "      <td>0.013364</td>\n",
       "      <td>0.001524</td>\n",
       "      <td>933.45</td>\n",
       "      <td>855.45</td>\n",
       "      <td>899.944056</td>\n",
       "      <td>904.966778</td>\n",
       "      <td>888.308833</td>\n",
       "      <td>890.201000</td>\n",
       "    </tr>\n",
       "  </tbody>\n",
       "</table>\n",
       "</div>"
      ],
      "text/plain": [
       "              open   close  o_pct_chg  c_o_pct_chg  ROLLING_60_MAX  \\\n",
       "date                                                                 \n",
       "2005-12-29  921.14  932.03   0.002274     0.000239          923.43   \n",
       "2005-12-30  933.45  923.45   0.013364     0.001524          933.45   \n",
       "\n",
       "            ROLLING_60_MIN       MA180        MA90        MA60        MA30  \n",
       "date                                                                        \n",
       "2005-12-29          855.45  900.228556  904.796111  888.027833  887.838667  \n",
       "2005-12-30          855.45  899.944056  904.966778  888.308833  890.201000  "
      ]
     },
     "execution_count": 5,
     "metadata": {},
     "output_type": "execute_result"
    },
    {
     "data": {
      "text/html": [
       "<div>\n",
       "<style scoped>\n",
       "    .dataframe tbody tr th:only-of-type {\n",
       "        vertical-align: middle;\n",
       "    }\n",
       "\n",
       "    .dataframe tbody tr th {\n",
       "        vertical-align: top;\n",
       "    }\n",
       "\n",
       "    .dataframe thead th {\n",
       "        text-align: right;\n",
       "    }\n",
       "</style>\n",
       "<table border=\"1\" class=\"dataframe\">\n",
       "  <thead>\n",
       "    <tr style=\"text-align: right;\">\n",
       "      <th></th>\n",
       "      <th>open</th>\n",
       "      <th>close</th>\n",
       "      <th>o_pct_chg</th>\n",
       "      <th>c_o_pct_chg</th>\n",
       "      <th>ROLLING_60_MAX</th>\n",
       "      <th>ROLLING_60_MIN</th>\n",
       "      <th>MA180</th>\n",
       "      <th>MA90</th>\n",
       "      <th>MA60</th>\n",
       "      <th>MA30</th>\n",
       "    </tr>\n",
       "    <tr>\n",
       "      <th>date</th>\n",
       "      <th></th>\n",
       "      <th></th>\n",
       "      <th></th>\n",
       "      <th></th>\n",
       "      <th></th>\n",
       "      <th></th>\n",
       "      <th></th>\n",
       "      <th></th>\n",
       "      <th></th>\n",
       "      <th></th>\n",
       "    </tr>\n",
       "  </thead>\n",
       "  <tbody>\n",
       "    <tr>\n",
       "      <th>2018-09-06</th>\n",
       "      <td>3286.66</td>\n",
       "      <td>3262.88</td>\n",
       "      <td>-0.018820</td>\n",
       "      <td>-0.003481</td>\n",
       "      <td>3774.64</td>\n",
       "      <td>3238.22</td>\n",
       "      <td>3804.822833</td>\n",
       "      <td>3568.450000</td>\n",
       "      <td>3434.073833</td>\n",
       "      <td>3361.371333</td>\n",
       "    </tr>\n",
       "    <tr>\n",
       "      <th>2018-09-07</th>\n",
       "      <td>3273.89</td>\n",
       "      <td>3277.64</td>\n",
       "      <td>-0.003885</td>\n",
       "      <td>0.003374</td>\n",
       "      <td>3763.04</td>\n",
       "      <td>3238.22</td>\n",
       "      <td>3800.506111</td>\n",
       "      <td>3563.091333</td>\n",
       "      <td>3425.728000</td>\n",
       "      <td>3352.708667</td>\n",
       "    </tr>\n",
       "  </tbody>\n",
       "</table>\n",
       "</div>"
      ],
      "text/plain": [
       "               open    close  o_pct_chg  c_o_pct_chg  ROLLING_60_MAX  \\\n",
       "date                                                                   \n",
       "2018-09-06  3286.66  3262.88  -0.018820    -0.003481         3774.64   \n",
       "2018-09-07  3273.89  3277.64  -0.003885     0.003374         3763.04   \n",
       "\n",
       "            ROLLING_60_MIN        MA180         MA90         MA60         MA30  \n",
       "date                                                                            \n",
       "2018-09-06         3238.22  3804.822833  3568.450000  3434.073833  3361.371333  \n",
       "2018-09-07         3238.22  3800.506111  3563.091333  3425.728000  3352.708667  "
      ]
     },
     "execution_count": 5,
     "metadata": {},
     "output_type": "execute_result"
    },
    {
     "data": {
      "text/plain": [
       "Index(['open', 'close', 'o_pct_chg', 'c_o_pct_chg', 'ROLLING_60_MAX',\n",
       "       'ROLLING_60_MIN', 'MA180', 'MA90', 'MA60', 'MA30'],\n",
       "      dtype='object')"
      ]
     },
     "execution_count": 5,
     "metadata": {},
     "output_type": "execute_result"
    }
   ],
   "source": [
    "'''抽查数据'''\n",
    "\n",
    "stock_df_dict[BENCHMARK].head(2)\n",
    "stock_df_dict[BENCHMARK].tail(2)\n",
    "\n",
    "df = stock_df_dict[BENCHMARK].iloc[:].copy()\n",
    "df.columns\n",
    "df.reset_index(drop=False, inplace=True)\n",
    "# df = df.astype(dtype={'date': 'datetime64[ns]'})\n",
    "df['date'] = df['date'].apply(lambda x: x.to_timestamp().to_datetime64())\n",
    "df.set_index('date', inplace=True)\n",
    "ax = df.plot(kind='line', y='close', label='test', linewidth=1, grid=True)\n",
    "# display_charts(df, chart_type='stock', kind='line', \n",
    "#                y=['open', 'ROLLING_%d_MAX' % TURTLE_LONG_BUY_N, 'ROLLING_%d_MIN' % TURTLE_LONG_SELL_N, 'MA30', 'MA60', 'MA180'], \n",
    "#                figsize=(900, 600))"
   ]
  },
  {
   "cell_type": "code",
   "execution_count": 6,
   "metadata": {
    "scrolled": true
   },
   "outputs": [
    {
     "data": {
      "text/plain": [
       "'用基准数据来存储策略数据'"
      ]
     },
     "execution_count": 6,
     "metadata": {},
     "output_type": "execute_result"
    }
   ],
   "source": [
    "'''用基准数据来存储策略数据'''\n",
    "show_df = None\n",
    "show_df = stock_df_dict[BENCHMARK].copy()\n",
    "show_df.loc[:, 'CASH_TURTLE'] = START_MONEY\n",
    "show_df.loc[:, 'PROPERTY_TURTLE'] = START_MONEY"
   ]
  },
  {
   "cell_type": "code",
   "execution_count": 7,
   "metadata": {
    "scrolled": false
   },
   "outputs": [
    {
     "name": "stdout",
     "output_type": "stream",
     "text": [
      "2014-01-01 2015-01-01 100000 100000 0.000\n",
      "2015-01-01 2016-01-01 100000 149672 0.497\n",
      "2016-01-01 2017-01-01 150376 139998 -0.069\n",
      "2017-01-01 2018-01-01 139816 162316 0.161\n",
      "2018-01-01 2018-08-01 162784 131448 -0.193\n",
      "START_MONEY 100000\n",
      "CASH 130908.03799999999\n",
      "HAPPY_MONEY 0\n",
      "PROPERTY 130908.038\n",
      "BENCHMARK 3566.09 3530.03 0.989888084709023\n",
      "Wall time: 2min 9s\n"
     ]
    }
   ],
   "source": [
    "%%time\n",
    "# %xmode\n",
    "\n",
    "'''简易海龟策略，唐安奇通道突破信号，平均分头寸'''\n",
    "\n",
    "PROPERTY = START_MONEY\n",
    "CASH = START_MONEY\n",
    "count_day = 0\n",
    "yesterday = None\n",
    "miss_buy_short = 0\n",
    "miss_buy_long = 0\n",
    "\n",
    "order_df = None\n",
    "order_df = pd.DataFrame(columns=[\n",
    "    'buy_date', 'symbol', 'buy_count', 'buy_price', 'buy_reason', 'sell_date', 'sell_price', 'sell_reason', 'profit', 'cash', 'property'\n",
    "])\n",
    "\n",
    "ops_df = None\n",
    "ops_df = pd.DataFrame(columns=[\n",
    "    'ops_date', 'ops', 'symbol', 'count', 'price', 'reason', 'profit'\n",
    "])\n",
    "\n",
    "\n",
    "# 时间序列\n",
    "for today in pd.period_range(start=start_date, end=end_date, freq='D'):\n",
    "    count_day += 1\n",
    "    \n",
    "    # 每年年初计算回报率\n",
    "    if today.dayofyear == 1 or today == (pd.to_datetime(end_date)).to_period(freq='D'):\n",
    "        if today.dayofyear == 1:\n",
    "            lastyear_firstday = pd.to_datetime('%d-01-01' % (today.year - 1))\n",
    "        else:\n",
    "            lastyear_firstday = pd.to_datetime('%d-01-01' % today.year)\n",
    "        lastyear_firstday = lastyear_firstday.to_period(freq='D')\n",
    "#         print(today, show_df.iloc[0].name, show_df[:today].iloc[-1].PROPERTY_TURTLE)\n",
    "        if today > show_df.iloc[0].name:\n",
    "            today_property = show_df[:today].iloc[-2].PROPERTY_TURTLE\n",
    "#             print(show_df[:today].iloc[-1])\n",
    "        else:\n",
    "            today_property = show_df.iloc[0].PROPERTY_TURTLE\n",
    "        if lastyear_firstday > show_df.iloc[0].name:\n",
    "            lastyear_firstday_property = show_df[:lastyear_firstday].iloc[-1].PROPERTY_TURTLE\n",
    "        else:\n",
    "            lastyear_firstday_property = show_df.iloc[0].PROPERTY_TURTLE\n",
    "#         lastyear_return = round((today_property - lastyear_firstday_property) / lastyear_firstday_property, 4)\n",
    "        lastyear_return = '%.3f' % ((today_property - lastyear_firstday_property) / lastyear_firstday_property)\n",
    "        print(lastyear_firstday, today, int(lastyear_firstday_property), int(today_property), lastyear_return)\n",
    "    \n",
    "    # 每年筛股\n",
    "    if IS_FILTER and (today.dayofyear == 1 or count_day == 1):\n",
    "        TARGET = ALL_TARGET[:]\n",
    "        benchmark_lastyear = stock_df_dict[BENCHMARK][:today]\n",
    "        \n",
    "        # 不到一年（250个交易日）\n",
    "        if len(benchmark_lastyear) < 250:\n",
    "            continue\n",
    "        \n",
    "        # 筛选过滤\n",
    "        benchmark_return_lastyear = benchmark_lastyear.iloc[-1].open / benchmark_lastyear.iloc[-250].open\n",
    "        for symbol, stock_df in stock_df_dict.items():\n",
    "            try:\n",
    "                return_lastyear = stock_df[:today].iloc[-1].open / stock_df[:today].iloc[-250].open\n",
    "                if return_lastyear < benchmark_return_lastyear:\n",
    "                    TARGET.remove(symbol)\n",
    "#                     print(symbol, return_lastyear)\n",
    "            except:\n",
    "                TARGET.remove(symbol)\n",
    "                pass\n",
    "        print(today, 'TARGET after filter', len(TARGET))\n",
    "        \n",
    "    \n",
    "    if yesterday is None:\n",
    "        yesterday = today\n",
    "        continue\n",
    "\n",
    "    # 日期不在基准交易日，则不交易\n",
    "    if today not in stock_df_dict[BENCHMARK].index:\n",
    "        continue\n",
    "            \n",
    "    # 突破下行趋势，清仓退出\n",
    "    order_arr = order_df.to_records(index=False)\n",
    "    if len(order_arr[(order_arr.buy_count > 0) & (order_arr.sell_price == 0)] ) != 0:\n",
    "        is_sell = False\n",
    "        for idx in order_df[(order_df['buy_count'] > 0) & (order_df['sell_price'] == 0)].index:\n",
    "            cur_order = order_df.loc[idx]\n",
    "            symbol = cur_order['symbol']\n",
    "            if today not in stock_df_dict[symbol].index or yesterday not in stock_df_dict[symbol].index:\n",
    "                continue\n",
    "            today_market = stock_df_dict[symbol].loc[today]\n",
    "            if today_market.c_o_pct_chg < -0.1 and symbol in HS300:\n",
    "#                 print(today, symbol, '跌停板，卖不掉')\n",
    "                continue\n",
    "            if cur_order.buy_reason == 'SHORT':\n",
    "                is_sell = (today_market.open <= today_market['ROLLING_%d_MIN' % TURTLE_SHORT_SELL_N])\n",
    "            if cur_order.buy_reason == 'LONG':\n",
    "                is_sell = (today_market.open <= today_market['ROLLING_%d_MIN' % TURTLE_LONG_SELL_N])\n",
    "                is_sell = (today_market.MA90 <= today_market.MA180)\n",
    "#                 is_sell = (today_market.MA30 <= today_market.MA60)\n",
    "            if is_sell:\n",
    "                CASH += cur_order.buy_count * today_market.open\n",
    "                order_df.loc[idx, 'sell_date'] = today\n",
    "                order_df.loc[idx, 'sell_price'] = today_market.open\n",
    "                order_df.loc[idx, 'sell_reason'] = 'EXIT'\n",
    "                order_df.loc[idx, 'profit'] = \\\n",
    "                    (today_market.open - cur_order.buy_price) * cur_order.buy_count\n",
    "#                 print(today, '退出', stock_df_dict[symbol].loc[today, 'open'], CASH)\n",
    "                \n",
    "                ops_df = ops_df.append(\n",
    "                    {\n",
    "                        'ops_date': today,\n",
    "                        'ops': 'SELL',\n",
    "                        'symbol': symbol,\n",
    "                        'count': cur_order.buy_count,\n",
    "                        'price': today_market.open,\n",
    "                        'reason': cur_order.buy_reason,\n",
    "                        'profit': (today_market.open - cur_order.buy_price) * cur_order.buy_count,\n",
    "                    },\n",
    "                    ignore_index=True\n",
    "                )\n",
    "\n",
    "    # 开心止盈，倍数止盈\n",
    "    if IS_HAPPYMONEY:        \n",
    "        if PROPERTY > START_MONEY * 2 and CASH > START_MONEY:\n",
    "            HAPPY_MONEY += START_MONEY\n",
    "            PROPERTY -= START_MONEY\n",
    "            CASH -= START_MONEY\n",
    "    \n",
    "    benchmark_today_market = stock_df_dict[BENCHMARK].loc[today]\n",
    "#     try:\n",
    "#         benchmark_yesterday_market = stock_df_dict[BENCHMARK].loc[:today].iloc[-2]\n",
    "#     except:\n",
    "#         benchmark_yesterday_market = stock_df_dict[BENCHMARK].loc[:today].iloc[-1]\n",
    "    buy_list = []\n",
    "    \n",
    "    # TIME TEST\n",
    "#     %timeit benchmark_today_market.MA60 < benchmark_today_market.MA180\n",
    "#     %timeit not IS_BUYBENCHMARK and symbol == BENCHMARK\n",
    "#     %timeit today not in stock_df_dict[symbol].index or yesterday not in stock_df_dict[symbol].index\n",
    "#     symbol = BENCHMARK\n",
    "#     %timeit today_market = stock_df_dict[symbol].loc[today]\n",
    "# #     %timeit today_market = stock_df_dict[symbol][today]\n",
    "#     %timeit today_market.open >= today_market['ROLLING_%d_MAX' % TURTLE_LONG_BUY_N]\n",
    "    # DELETED\n",
    "    \n",
    "    # 遍历标的，判断和执行买入\n",
    "    for symbol in TARGET:\n",
    "        # 趋势交易，只在好行情时买入\n",
    "        if IS_MARKETUP:\n",
    "#             if benchmark_today_market.MA60 < benchmark_today_market.MA180:\n",
    "            if benchmark_today_market.MA90 < benchmark_today_market.MA180:\n",
    "#             if benchmark_yesterday_market.MA60 < benchmark_yesterday_market.MA180:\n",
    "                break\n",
    "        \n",
    "        # 是否购买基准\n",
    "        if not IS_BUYBENCHMARK and symbol == BENCHMARK:\n",
    "            continue\n",
    "        \n",
    "        if today not in stock_df_dict[symbol].index or yesterday not in stock_df_dict[symbol].index:\n",
    "            continue\n",
    "            \n",
    "        # TIME TEST\n",
    "        # DELETED\n",
    "\n",
    "        today_market = stock_df_dict[symbol].loc[today]\n",
    "\n",
    "        # 突破上行趋势，就买一份\n",
    "#         order_arr = order_df.to_records(index=False)\n",
    "        is_buy = False\n",
    "#         if today_market.MA60 >= today_market.MA180:\n",
    "#         if today_market.MA30 >= today_market.MA60:\n",
    "#         if today_market.MA30 >= today_market.MA180:\n",
    "        # 指数就不要过滤器了\n",
    "        if True:\n",
    "#             if today_market.open >= today_market['ROLLING_%d_MAX' % TURTLE_LONG_BUY_N]:\n",
    "            if today_market.MA90 > today_market.MA180:\n",
    "#             if today_market.MA30 > today_market.MA60:\n",
    "                is_buy = True\n",
    "                buy_reason = 'LONG'\n",
    "            elif False and today_market.open >= today_market['ROLLING_%d_MAX' % TURTLE_SHORT_BUY_N]:\n",
    "                is_buy = True\n",
    "                buy_reason = 'SHORT'\n",
    "\n",
    "        if is_buy:\n",
    "            buy_list.append(symbol)\n",
    "            \n",
    "    if IS_RANDOM_BUY:\n",
    "        random.shuffle(buy_list)\n",
    "    else:\n",
    "        tmp_list = []\n",
    "        for symbol in buy_list:\n",
    "            try:\n",
    "                return_lastyear = stock_df_dict[symbol][:today].iloc[-1].open / stock_df_dict[symbol][:today].iloc[-250].open\n",
    "            except:\n",
    "                return_lastyear = stock_df_dict[symbol][:today].iloc[-1].open / stock_df_dict[symbol][:today].iloc[1].open\n",
    "            tmp_list.append((return_lastyear, symbol))\n",
    "        tmp_list = sorted(tmp_list, reverse=True)\n",
    "        buy_list = [x[1] for x in tmp_list if x[0]>1]\n",
    "#         buy_list = [x[1] for x in tmp_list]\n",
    "    \n",
    "    for symbol in buy_list:\n",
    "        today_market = stock_df_dict[symbol].loc[today]\n",
    "        buy_count = 0\n",
    "                \n",
    "        # 滑点\n",
    "        if IS_SLIPPAGE:\n",
    "            buy_price = today_market.open * (1 + random.randint(0, 20) / 1000)\n",
    "        else:\n",
    "            buy_price = today_market.open\n",
    "                \n",
    "        # 按份数买\n",
    "        if CASH >= PROPERTY / TURTLE_POS:\n",
    "            buy_count = int((PROPERTY / TURTLE_POS) / buy_price)\n",
    "\n",
    "        # 指数购买，满仓干\n",
    "#         buy_count = int(CASH / buy_price)\n",
    "\n",
    "        if buy_count > 0:\n",
    "            if today_market.c_o_pct_chg > 0.1 and symbol in HS300:\n",
    "#                 print(today, symbol, '涨停板，买不进')\n",
    "                continue\n",
    "            \n",
    "        if buy_count > 0:\n",
    "            CASH -= buy_count * buy_price\n",
    "#             print(today, '建仓', buy_count, stock_df_dict[symbol].loc[today, 'open'], CASH)\n",
    "            order_df = order_df.append(\n",
    "                {\n",
    "                    'buy_date': today,\n",
    "                    'symbol': symbol,\n",
    "                    'buy_count': buy_count,\n",
    "                    'buy_price': today_market.open,\n",
    "                    'buy_reason': buy_reason,\n",
    "                    'sell_date': pd.np.nan,\n",
    "                    'sell_price': 0,\n",
    "                    'profit': 0,\n",
    "                    'cash': CASH,\n",
    "                    'property': PROPERTY,\n",
    "                },\n",
    "                ignore_index=True\n",
    "            )\n",
    "            ops_df = ops_df.append(\n",
    "                {\n",
    "                    'ops_date': today,\n",
    "                    'ops': 'BUY',\n",
    "                    'symbol': symbol,\n",
    "                    'count': buy_count,\n",
    "                    'price': buy_price,\n",
    "                    'reason': buy_reason,\n",
    "                    'profit': 0,\n",
    "                },\n",
    "                ignore_index=True\n",
    "            )\n",
    "        else:\n",
    "            if buy_reason == 'LONG':\n",
    "                miss_buy_long += 1\n",
    "            elif buy_reason == 'SHORT':\n",
    "                miss_buy_short += 1\n",
    "            \n",
    "    # 每天盘点财产\n",
    "    # 大盘下行时，闲钱进行T+0无风险投资，如货币基金\n",
    "#     if benchmark_today_market.MA60 < benchmark_today_market.MA180:\n",
    "#         CASH = CASH * (1 + 0.04 / 365)\n",
    "    show_df.loc[today, 'CASH_TURTLE'] = CASH\n",
    "    PROPERTY = CASH + \\\n",
    "        sum(\n",
    "            [\n",
    "                stock_df_dict[order_df.loc[idx, 'symbol']][:today].iloc[-1].open * order_df.loc[idx, 'buy_count'] \\\n",
    "                for idx in order_df.loc[order_df['sell_price']==0].index\n",
    "            ]\n",
    "        )\n",
    "    show_df.loc[today, 'PROPERTY_TURTLE'] = PROPERTY\n",
    "\n",
    "    yesterday = today\n",
    "    \n",
    "#     print(today)\n",
    "\n",
    "\n",
    "    \n",
    "# 最后一天，清仓\n",
    "order_arr = order_df.to_records(index=False)\n",
    "for idx in order_df[order_df['sell_price'] == 0].index:\n",
    "    cur_order = order_df.loc[idx]\n",
    "    symbol = cur_order['symbol']\n",
    "    today_market = stock_df_dict[symbol][:today].iloc[-1]\n",
    "    CASH += cur_order.buy_count * today_market.open\n",
    "    order_df.loc[idx, 'sell_date'] = today\n",
    "    order_df.loc[idx, 'sell_price'] = today_market.open\n",
    "    order_df.loc[idx, 'sell_reason'] = 'EXIT'\n",
    "    order_df.loc[idx, 'profit'] = \\\n",
    "        (today_market.open - cur_order.buy_price) * cur_order.buy_count\n",
    "    ops_df = ops_df.append(\n",
    "        {\n",
    "            'ops_date': today,\n",
    "            'ops': 'SELL',\n",
    "            'symbol': symbol,\n",
    "            'count': cur_order.buy_count,\n",
    "            'price': today_market.open,\n",
    "            'reason': cur_order.buy_reason,\n",
    "            'profit': (today_market.open - cur_order.buy_price) * cur_order.buy_count,\n",
    "        },\n",
    "        ignore_index=True\n",
    "    )\n",
    "\n",
    "\n",
    "print('START_MONEY', START_MONEY)\n",
    "print('CASH', CASH)\n",
    "print('HAPPY_MONEY', HAPPY_MONEY)\n",
    "print('PROPERTY', PROPERTY)\n",
    "\n",
    "s_p = stock_df_dict[BENCHMARK][start_date:].iloc[0].open\n",
    "e_p = stock_df_dict[BENCHMARK][:end_date].iloc[-1].open\n",
    "print('BENCHMARK', s_p, e_p, e_p / s_p)\n"
   ]
  },
  {
   "cell_type": "code",
   "execution_count": 8,
   "metadata": {
    "scrolled": false
   },
   "outputs": [
    {
     "data": {
      "text/html": [
       "<div>\n",
       "<style scoped>\n",
       "    .dataframe tbody tr th:only-of-type {\n",
       "        vertical-align: middle;\n",
       "    }\n",
       "\n",
       "    .dataframe tbody tr th {\n",
       "        vertical-align: top;\n",
       "    }\n",
       "\n",
       "    .dataframe thead th {\n",
       "        text-align: right;\n",
       "    }\n",
       "</style>\n",
       "<table border=\"1\" class=\"dataframe\">\n",
       "  <thead>\n",
       "    <tr style=\"text-align: right;\">\n",
       "      <th></th>\n",
       "      <th>buy_date</th>\n",
       "      <th>symbol</th>\n",
       "      <th>buy_count</th>\n",
       "      <th>buy_price</th>\n",
       "      <th>buy_reason</th>\n",
       "      <th>sell_date</th>\n",
       "      <th>sell_price</th>\n",
       "      <th>sell_reason</th>\n",
       "      <th>profit</th>\n",
       "      <th>cash</th>\n",
       "      <th>property</th>\n",
       "    </tr>\n",
       "  </thead>\n",
       "  <tbody>\n",
       "  </tbody>\n",
       "</table>\n",
       "</div>"
      ],
      "text/plain": [
       "Empty DataFrame\n",
       "Columns: [buy_date, symbol, buy_count, buy_price, buy_reason, sell_date, sell_price, sell_reason, profit, cash, property]\n",
       "Index: []"
      ]
     },
     "execution_count": 8,
     "metadata": {},
     "output_type": "execute_result"
    },
    {
     "data": {
      "text/html": [
       "<div>\n",
       "<style scoped>\n",
       "    .dataframe tbody tr th:only-of-type {\n",
       "        vertical-align: middle;\n",
       "    }\n",
       "\n",
       "    .dataframe tbody tr th {\n",
       "        vertical-align: top;\n",
       "    }\n",
       "\n",
       "    .dataframe thead th {\n",
       "        text-align: right;\n",
       "    }\n",
       "</style>\n",
       "<table border=\"1\" class=\"dataframe\">\n",
       "  <thead>\n",
       "    <tr style=\"text-align: right;\">\n",
       "      <th></th>\n",
       "      <th>ops_date</th>\n",
       "      <th>ops</th>\n",
       "      <th>symbol</th>\n",
       "      <th>count</th>\n",
       "      <th>price</th>\n",
       "      <th>reason</th>\n",
       "      <th>profit</th>\n",
       "    </tr>\n",
       "  </thead>\n",
       "  <tbody>\n",
       "  </tbody>\n",
       "</table>\n",
       "</div>"
      ],
      "text/plain": [
       "Empty DataFrame\n",
       "Columns: [ops_date, ops, symbol, count, price, reason, profit]\n",
       "Index: []"
      ]
     },
     "execution_count": 8,
     "metadata": {},
     "output_type": "execute_result"
    }
   ],
   "source": [
    "symbol = BENCHMARK\n",
    "# symbol = '600109'\n",
    "\n",
    "df = order_df.copy()\n",
    "df = df.astype(dtype={'cash': 'int', 'profit': 'int'})\n",
    "df[df.symbol == symbol]\n",
    "\n",
    "df = ops_df.copy()\n",
    "# df\n",
    "df[df.symbol == symbol]\n",
    "# df[(df.ops_date > pd.to_datetime('2015-01-01').to_period(freq='D')) & (df.ops_date < pd.to_datetime('2016-01-01').to_period(freq='D'))]"
   ]
  },
  {
   "cell_type": "code",
   "execution_count": 19,
   "metadata": {
    "scrolled": false
   },
   "outputs": [
    {
     "data": {
      "text/plain": [
       "Index(['open', 'close', 'o_pct_chg', 'c_o_pct_chg', 'ROLLING_60_MAX',\n",
       "       'ROLLING_60_MIN', 'MA180', 'MA90', 'MA60', 'MA30'],\n",
       "      dtype='object')"
      ]
     },
     "execution_count": 19,
     "metadata": {},
     "output_type": "execute_result"
    },
    {
     "data": {
      "image/png": "[encoded data removed]",
      "text/plain": [
       "<Figure size 1080x720 with 1 Axes>"
      ]
     },
     "metadata": {},
     "output_type": "display_data"
    }
   ],
   "source": [
    "%matplotlib inline\n",
    "\n",
    "import matplotlib\n",
    "import matplotlib.pyplot as plt\n",
    "plt.rcParams['figure.figsize'] = [15, 10]\n",
    "\n",
    "df = stock_df_dict['600703'].iloc[:].copy()\n",
    "df.columns\n",
    "df.reset_index(drop=False, inplace=True)\n",
    "# df = df.astype(dtype={'date': 'datetime64[ns]'})\n",
    "df['date'] = df['date'].apply(lambda x: x.to_timestamp().to_datetime64())\n",
    "df.set_index('date', inplace=True)\n",
    "# display_charts(df, chart_type='stock', kind='line', y=['open', 'ROLLING_60_MAX', 'ROLLING_60_MIN', 'MA60', 'MA180'], figsize=(900, 600))\n",
    "# display_charts(df, chart_type='stock', kind='line', y=['open', 'ROLLING_60_MAX', 'ROLLING_30_MIN'], figsize=(900, 600))\n",
    "ax = df.plot(kind='line', y=['close', 'MA90', 'MA180'], linewidth=0.5, grid=True)"
   ]
  },
  {
   "cell_type": "code",
   "execution_count": 10,
   "metadata": {
    "scrolled": false
   },
   "outputs": [
    {
     "data": {
      "text/plain": [
       "'ALL'"
      ]
     },
     "execution_count": 10,
     "metadata": {},
     "output_type": "execute_result"
    },
    {
     "data": {
      "text/plain": [
       "('start_date', '2015-01-01')"
      ]
     },
     "execution_count": 10,
     "metadata": {},
     "output_type": "execute_result"
    },
    {
     "data": {
      "text/plain": [
       "('end_date', '2018-08-01')"
      ]
     },
     "execution_count": 10,
     "metadata": {},
     "output_type": "execute_result"
    },
    {
     "data": {
      "text/plain": [
       "('TURTLE_POS', 20)"
      ]
     },
     "execution_count": 10,
     "metadata": {},
     "output_type": "execute_result"
    },
    {
     "data": {
      "text/plain": [
       "('TURTLE_SHORT_BUY_N', 20)"
      ]
     },
     "execution_count": 10,
     "metadata": {},
     "output_type": "execute_result"
    },
    {
     "data": {
      "text/plain": [
       "('TURTLE_SHORT_SELL_N', 20)"
      ]
     },
     "execution_count": 10,
     "metadata": {},
     "output_type": "execute_result"
    },
    {
     "data": {
      "text/plain": [
       "('TURTLE_LONG_BUY_N', 60)"
      ]
     },
     "execution_count": 10,
     "metadata": {},
     "output_type": "execute_result"
    },
    {
     "data": {
      "text/plain": [
       "('TURTLE_LONG_SELL_N', 60)"
      ]
     },
     "execution_count": 10,
     "metadata": {},
     "output_type": "execute_result"
    },
    {
     "data": {
      "text/plain": [
       "('IS_HAPPYMONEY', False)"
      ]
     },
     "execution_count": 10,
     "metadata": {},
     "output_type": "execute_result"
    },
    {
     "data": {
      "text/plain": [
       "('IS_TAX', False)"
      ]
     },
     "execution_count": 10,
     "metadata": {},
     "output_type": "execute_result"
    },
    {
     "data": {
      "text/plain": [
       "('IS_SLIPPAGE', False)"
      ]
     },
     "execution_count": 10,
     "metadata": {},
     "output_type": "execute_result"
    },
    {
     "data": {
      "text/plain": [
       "('IS_RANDOM_BUY', False)"
      ]
     },
     "execution_count": 10,
     "metadata": {},
     "output_type": "execute_result"
    },
    {
     "data": {
      "text/plain": [
       "('IS_FILTER', False)"
      ]
     },
     "execution_count": 10,
     "metadata": {},
     "output_type": "execute_result"
    },
    {
     "data": {
      "text/plain": [
       "('IS_MARKETUP', False)"
      ]
     },
     "execution_count": 10,
     "metadata": {},
     "output_type": "execute_result"
    },
    {
     "data": {
      "text/plain": [
       "('IS_BUYBENCHMARK', True)"
      ]
     },
     "execution_count": 10,
     "metadata": {},
     "output_type": "execute_result"
    },
    {
     "data": {
      "text/plain": [
       "('START_MONEY', 100000)"
      ]
     },
     "execution_count": 10,
     "metadata": {},
     "output_type": "execute_result"
    },
    {
     "data": {
      "text/plain": [
       "('len(order_df)', 111)"
      ]
     },
     "execution_count": 10,
     "metadata": {},
     "output_type": "execute_result"
    },
    {
     "data": {
      "text/plain": [
       "('sum_profit', 30908.03799999998)"
      ]
     },
     "execution_count": 10,
     "metadata": {},
     "output_type": "execute_result"
    },
    {
     "data": {
      "text/plain": [
       "('sum_tax', 0)"
      ]
     },
     "execution_count": 10,
     "metadata": {},
     "output_type": "execute_result"
    },
    {
     "data": {
      "text/plain": [
       "('win_rate', 0.45045045045045046)"
      ]
     },
     "execution_count": 10,
     "metadata": {},
     "output_type": "execute_result"
    },
    {
     "data": {
      "text/plain": [
       "('annual_return', 1.0779900383202479)"
      ]
     },
     "execution_count": 10,
     "metadata": {},
     "output_type": "execute_result"
    },
    {
     "data": {
      "text/plain": [
       "('len(order_df[order_df.profit != 0])', 111)"
      ]
     },
     "execution_count": 10,
     "metadata": {},
     "output_type": "execute_result"
    },
    {
     "data": {
      "text/plain": [
       "('len(order_df[order_df.profit > 0])', 50)"
      ]
     },
     "execution_count": 10,
     "metadata": {},
     "output_type": "execute_result"
    },
    {
     "data": {
      "text/plain": [
       "('order LONG', 111)"
      ]
     },
     "execution_count": 10,
     "metadata": {},
     "output_type": "execute_result"
    },
    {
     "data": {
      "text/plain": [
       "50"
      ]
     },
     "execution_count": 10,
     "metadata": {},
     "output_type": "execute_result"
    },
    {
     "data": {
      "text/plain": [
       "30908.03799999998"
      ]
     },
     "execution_count": 10,
     "metadata": {},
     "output_type": "execute_result"
    },
    {
     "data": {
      "text/plain": [
       "('order SHORT', 0)"
      ]
     },
     "execution_count": 10,
     "metadata": {},
     "output_type": "execute_result"
    },
    {
     "data": {
      "text/plain": [
       "0"
      ]
     },
     "execution_count": 10,
     "metadata": {},
     "output_type": "execute_result"
    },
    {
     "data": {
      "text/plain": [
       "0"
      ]
     },
     "execution_count": 10,
     "metadata": {},
     "output_type": "execute_result"
    },
    {
     "data": {
      "text/plain": [
       "('cum_returns', 0.3090803800000044, -0.010111915290976992)"
      ]
     },
     "execution_count": 10,
     "metadata": {},
     "output_type": "execute_result"
    },
    {
     "data": {
      "text/plain": [
       "('max_drawdown', -0.5255268761803684, -0.46916703690140504)"
      ]
     },
     "execution_count": 10,
     "metadata": {},
     "output_type": "execute_result"
    },
    {
     "data": {
      "text/plain": [
       "('annual_return', 0.08074899678868275, -0.002926115330643575)"
      ]
     },
     "execution_count": 10,
     "metadata": {},
     "output_type": "execute_result"
    },
    {
     "data": {
      "text/plain": [
       "('annual_volatility', 0.4216750329582846)"
      ]
     },
     "execution_count": 10,
     "metadata": {},
     "output_type": "execute_result"
    },
    {
     "data": {
      "text/plain": [
       "('calmar_ratio', 0.1536534104127693)"
      ]
     },
     "execution_count": 10,
     "metadata": {},
     "output_type": "execute_result"
    },
    {
     "data": {
      "text/plain": [
       "('sharpe_ratio', 0.3961930739692555)"
      ]
     },
     "execution_count": 10,
     "metadata": {},
     "output_type": "execute_result"
    },
    {
     "data": {
      "text/plain": [
       "('alpha', 0.12627762205685417)"
      ]
     },
     "execution_count": 10,
     "metadata": {},
     "output_type": "execute_result"
    },
    {
     "data": {
      "text/plain": [
       "('beta', 1.17348707765919)"
      ]
     },
     "execution_count": 10,
     "metadata": {},
     "output_type": "execute_result"
    },
    {
     "data": {
      "text/plain": [
       "('ALL DAY', 874)"
      ]
     },
     "execution_count": 10,
     "metadata": {},
     "output_type": "execute_result"
    },
    {
     "data": {
      "text/plain": [
       "'CASH_TURTLE'"
      ]
     },
     "execution_count": 10,
     "metadata": {},
     "output_type": "execute_result"
    },
    {
     "data": {
      "text/plain": [
       "'PROPERTY_TURTLE'"
      ]
     },
     "execution_count": 10,
     "metadata": {},
     "output_type": "execute_result"
    },
    {
     "data": {
      "text/plain": [
       "('CASH NOT USED DAY', 2)"
      ]
     },
     "execution_count": 10,
     "metadata": {},
     "output_type": "execute_result"
    },
    {
     "data": {
      "text/plain": [
       "('MISS_BUY_SIGNAL_LONG', 114162)"
      ]
     },
     "execution_count": 10,
     "metadata": {},
     "output_type": "execute_result"
    },
    {
     "data": {
      "text/plain": [
       "('MISS_BUY_SIGNAL_SHORT', 0)"
      ]
     },
     "execution_count": 10,
     "metadata": {},
     "output_type": "execute_result"
    }
   ],
   "source": [
    "'ALL'\n",
    "'start_date', start_date\n",
    "'end_date', end_date\n",
    "'TURTLE_POS', TURTLE_POS\n",
    "'TURTLE_SHORT_BUY_N', TURTLE_SHORT_BUY_N\n",
    "'TURTLE_SHORT_SELL_N', TURTLE_SHORT_SELL_N\n",
    "'TURTLE_LONG_BUY_N', TURTLE_LONG_BUY_N\n",
    "'TURTLE_LONG_SELL_N', TURTLE_LONG_SELL_N\n",
    "### 业务设置\n",
    "'IS_HAPPYMONEY', IS_HAPPYMONEY\n",
    "'IS_TAX', IS_TAX\n",
    "'IS_SLIPPAGE', IS_SLIPPAGE\n",
    "'IS_RANDOM_BUY', IS_RANDOM_BUY\n",
    "'IS_FILTER', IS_FILTER\n",
    "'IS_MARKETUP', IS_MARKETUP\n",
    "'IS_BUYBENCHMARK', IS_BUYBENCHMARK\n",
    "'START_MONEY', START_MONEY\n",
    "\n",
    "'len(order_df)', len(order_df)\n",
    "sum_profit = sum(list(order_df['profit']))\n",
    "'sum_profit', sum_profit\n",
    "# sum_tax = sum(list(order_df_TB['tax']))\n",
    "sum_tax = 0\n",
    "'sum_tax', sum_tax\n",
    "'win_rate', len(order_df[order_df.profit > 0]) / len(order_df[order_df.profit != 0])\n",
    "'annual_return', ((sum_profit - sum_tax) / START_MONEY + 1) ** (365 / count_day)\n",
    "'len(order_df[order_df.profit != 0])', len(order_df[order_df.profit != 0])\n",
    "'len(order_df[order_df.profit > 0])', len(order_df[order_df.profit > 0])\n",
    "'order LONG', len(order_df[order_df.buy_reason == 'LONG'])\n",
    "len(order_df[(order_df.buy_reason == 'LONG') & (order_df.profit > 0)])\n",
    "sum(list(order_df[order_df.buy_reason == 'LONG']['profit']))\n",
    "'order SHORT', len(order_df[order_df.buy_reason == 'SHORT'])\n",
    "len(order_df[(order_df.buy_reason == 'SHORT') & (order_df.profit > 0)])\n",
    "sum(list(order_df[order_df.buy_reason == 'SHORT']['profit']))\n",
    "\n",
    "df = show_df.dropna(how='any', inplace=False).copy()\n",
    "df = df.loc[start_date:end_date]\n",
    "algo = df['PROPERTY_TURTLE'].pct_change()\n",
    "benchmark = df.open.pct_change()\n",
    "\n",
    "if emp:\n",
    "    'cum_returns', emp.cum_returns(algo)[-1], emp.cum_returns(benchmark)[-1]\n",
    "    'max_drawdown', emp.max_drawdown(algo), emp.max_drawdown(benchmark)\n",
    "    'annual_return', emp.annual_return(algo), emp.annual_return(benchmark)\n",
    "    'annual_volatility', emp.annual_volatility(algo, period='daily')\n",
    "    'calmar_ratio', emp.calmar_ratio(algo)\n",
    "    'sharpe_ratio', emp.sharpe_ratio(returns=algo)\n",
    "    'alpha', emp.alpha(returns=algo, factor_returns=benchmark, risk_free=0.00)\n",
    "    'beta', emp.beta(returns=algo, factor_returns=benchmark, risk_free=0.00)\n",
    "\n",
    "'ALL DAY', len(df)\n",
    "'CASH_TURTLE'\n",
    "'PROPERTY_TURTLE'\n",
    "'CASH NOT USED DAY', len(df[df['CASH_TURTLE'] > (df['PROPERTY_TURTLE'] / TURTLE_POS)])\n",
    "'MISS_BUY_SIGNAL_LONG', miss_buy_long\n",
    "'MISS_BUY_SIGNAL_SHORT', miss_buy_short"
   ]
  },
  {
   "cell_type": "code",
   "execution_count": 11,
   "metadata": {
    "scrolled": false
   },
   "outputs": [
    {
     "data": {
      "text/plain": [
       "'计算标的持有、收益等'"
      ]
     },
     "execution_count": 11,
     "metadata": {},
     "output_type": "execute_result"
    },
    {
     "data": {
      "text/html": [
       "<div>\n",
       "<style scoped>\n",
       "    .dataframe tbody tr th:only-of-type {\n",
       "        vertical-align: middle;\n",
       "    }\n",
       "\n",
       "    .dataframe tbody tr th {\n",
       "        vertical-align: top;\n",
       "    }\n",
       "\n",
       "    .dataframe thead th {\n",
       "        text-align: right;\n",
       "    }\n",
       "</style>\n",
       "<table border=\"1\" class=\"dataframe\">\n",
       "  <thead>\n",
       "    <tr style=\"text-align: right;\">\n",
       "      <th></th>\n",
       "      <th>pro_pct</th>\n",
       "    </tr>\n",
       "    <tr>\n",
       "      <th>symbol</th>\n",
       "      <th></th>\n",
       "    </tr>\n",
       "  </thead>\n",
       "  <tbody>\n",
       "    <tr>\n",
       "      <th>300033</th>\n",
       "      <td>3.165694</td>\n",
       "    </tr>\n",
       "    <tr>\n",
       "      <th>002625</th>\n",
       "      <td>3.160155</td>\n",
       "    </tr>\n",
       "    <tr>\n",
       "      <th>300136</th>\n",
       "      <td>3.090549</td>\n",
       "    </tr>\n",
       "    <tr>\n",
       "      <th>300059</th>\n",
       "      <td>2.726049</td>\n",
       "    </tr>\n",
       "    <tr>\n",
       "      <th>002074</th>\n",
       "      <td>1.493671</td>\n",
       "    </tr>\n",
       "  </tbody>\n",
       "</table>\n",
       "</div>"
      ],
      "text/plain": [
       "         pro_pct\n",
       "symbol          \n",
       "300033  3.165694\n",
       "002625  3.160155\n",
       "300136  3.090549\n",
       "300059  2.726049\n",
       "002074  1.493671"
      ]
     },
     "execution_count": 11,
     "metadata": {},
     "output_type": "execute_result"
    },
    {
     "data": {
      "text/plain": [
       "55"
      ]
     },
     "execution_count": 11,
     "metadata": {},
     "output_type": "execute_result"
    }
   ],
   "source": [
    "'''计算标的持有、收益等'''\n",
    "\n",
    "df = order_df.copy()\n",
    "df.drop(columns=['sell_reason'], inplace=True)\n",
    "df['pro_pct'] = (df.sell_price - df.buy_price) / df.buy_price\n",
    "# df.sell_date.dtypes\n",
    "# df.loc[1].sell_date\n",
    "# df.loc[1].sell_date.to_timestamp()\n",
    "\n",
    "# df = df.astype(dtype={'sell_date': 'datetime64[ns]', 'buy_date': 'datetime64[ns]', 'cash':'int'})\n",
    "df = df.astype(dtype={'cash': 'int', 'profit': 'int'})\n",
    "# df.loc[1].sell_date\n",
    "\n",
    "# type(df[1].sell_date)\n",
    "df['h_days'] = (df.sell_date - df.buy_date)\n",
    "# df.loc[1].h_days\n",
    "# type(df.loc[1].h_days)\n",
    "\n",
    "df['h_days'] = df['h_days'].apply(lambda x: 1 if x == 0 else x)\n",
    "# df.loc[1].h_days\n",
    "\n",
    "df['per_d'] = df.pro_pct / df.h_days * 365\n",
    "# df['per_d'] = df.apply(lambda x: x.pro_pct / x.h_days)\n",
    "\n",
    "# df\n",
    "# df.sort_values(by='pro_pct', ascending=False)\n",
    "# df.sort_values(by='per_d', ascending=False)\n",
    "\n",
    "df = df.loc[:, ['symbol', 'pro_pct']]\n",
    "df = df.groupby(by='symbol').sum()\n",
    "df.sort_values(by='pro_pct', ascending=False).head(5)\n",
    "len(df)"
   ]
  },
  {
   "cell_type": "code",
   "execution_count": 12,
   "metadata": {},
   "outputs": [
    {
     "data": {
      "text/plain": [
       "'策略评价'"
      ]
     },
     "execution_count": 12,
     "metadata": {},
     "output_type": "execute_result"
    }
   ],
   "source": [
    "'''策略评价'''\n",
    "\n",
    "strategy_result = None\n",
    "strategy_result = pd.DataFrame(columns=[\n",
    "    'strategy', 'ops', 'symbol', 'count', 'price', 'reason', 'profit'\n",
    "])\n"
   ]
  },
  {
   "cell_type": "code",
   "execution_count": 13,
   "metadata": {
    "scrolled": false
   },
   "outputs": [
    {
     "data": {
      "text/plain": [
       "Index(['open', 'close', 'o_pct_chg', 'c_o_pct_chg', 'ROLLING_60_MAX',\n",
       "       'ROLLING_60_MIN', 'MA180', 'MA90', 'MA60', 'MA30', 'CASH_TURTLE',\n",
       "       'PROPERTY_TURTLE'],\n",
       "      dtype='object')"
      ]
     },
     "execution_count": 13,
     "metadata": {},
     "output_type": "execute_result"
    },
    {
     "data": {
      "image/png": "[encoded data removed]",
      "text/plain": [
       "<Figure size 1080x720 with 1 Axes>"
      ]
     },
     "metadata": {},
     "output_type": "display_data"
    }
   ],
   "source": [
    "%matplotlib inline\n",
    "\n",
    "import matplotlib\n",
    "import matplotlib.pyplot as plt\n",
    "plt.rcParams['figure.figsize'] = [15, 10]\n",
    "\n",
    "# df = show_df.fillna(START_MONEY).copy()\n",
    "df = show_df.dropna(how='any', inplace=False).copy()\n",
    "df = df.loc[start_date:end_date]\n",
    "# df.drop(columns=['open', 'high', 'low', 'o_pct_chg', 'TR', 'N'], inplace=True)\n",
    "df.columns\n",
    "\n",
    "df['close'] = (df['close'] - df.iloc[0]['close']) / df.iloc[0]['close']\n",
    "ax = df.plot(kind='line', y='close', label='BENCHMARK_%.2f' % df.iloc[-1]['close'], linewidth=1, grid=True)\n",
    "for col in sorted(df.columns):\n",
    "    if 'PROPERTY' in col:\n",
    "        df[col] = (df[col] - df.iloc[1][col]) / df.iloc[0][col]\n",
    "        ax = df.plot(kind='line', y=col, secondary_y=False, label='%s_%.2f' % (col, df.iloc[-1][col]), linewidth=1, grid=True, ax=ax)\n",
    "\n",
    "# display_charts(df, kind='line', figsize=(900, 600), logy=False)"
   ]
  },
  {
   "cell_type": "code",
   "execution_count": 14,
   "metadata": {
    "scrolled": false
   },
   "outputs": [
    {
     "data": {
      "text/plain": [
       "Index(['open', 'close', 'o_pct_chg', 'c_o_pct_chg', 'ROLLING_60_MAX',\n",
       "       'ROLLING_60_MIN', 'MA180', 'MA90', 'MA60', 'MA30', 'CASH_TURTLE',\n",
       "       'PROPERTY_TURTLE'],\n",
       "      dtype='object')"
      ]
     },
     "execution_count": 14,
     "metadata": {},
     "output_type": "execute_result"
    },
    {
     "data": {
      "text/html": [
       "<div id=\"chart_iddCDGQjwq\"</div>\n",
       "    <script type=\"text/javascript\">new Highcharts.StockChart({\"chart\":{\"renderTo\":\"chart_iddCDGQjwq\",\"width\":900,\"height\":600},\"legend\":{\"enabled\":true},\"series\":[{\"name\":\"CASH_TURTLE\",\"yAxis\":0,\"data\":[[1420416000000,1.0],[1420502400000,0.00106815],[1420588800000,0.00106815],[1420675200000,0.00106815],[1420761600000,0.00106815],[1421020800000,0.00106815],[1421107200000,0.00106815],[1421193600000,0.00106815],[1421280000000,0.00106815],[1421366400000,0.00106815],[1421625600000,0.00106815],[1421712000000,0.00106815],[1421798400000,0.00106815],[1421884800000,0.00106815],[1421971200000,0.00106815],[1422230400000,0.00106815],[1422316800000,0.00106815],[1422403200000,0.00106815],[1422489600000,0.00106815],[1422576000000,0.00106815],[1422835200000,0.00106815],[1422921600000,0.00106815],[1423008000000,0.00106815],[1423094400000,0.00106815],[1423180800000,0.00106815],[1423440000000,0.00106815],[1423526400000,0.00106815],[1423612800000,0.00106815],[1423699200000,0.00106815],[1423785600000,0.00106815],[1424044800000,0.00106815],[1424131200000,0.00106815],[1424822400000,0.00106815],[1424908800000,0.00106815],[1424995200000,0.00106815],[1425254400000,0.00106815],[1425340800000,0.00106815],[1425427200000,0.00106815],[1425513600000,0.00106815],[1425600000000,0.00106815],[1425859200000,0.00106815],[1425945600000,0.00106815],[1426032000000,0.00106815],[1426118400000,0.00106815],[1426204800000,0.00106815],[1426464000000,0.00106815],[1426550400000,0.00106815],[1426636800000,0.00106815],[1426723200000,0.00106815],[1426809600000,0.00440946],[1427068800000,0.00440946],[1427155200000,0.00440946],[1427241600000,0.00440946],[1427328000000,0.00440946],[1427414400000,0.00440946],[1427673600000,0.00440946],[1427760000000,0.00440946],[1427846400000,0.00440946],[1427932800000,0.00440946],[1428019200000,0.00440946],[1428364800000,0.00440946],[1428451200000,0.00440946],[1428537600000,0.00440946],[1428624000000,0.00440946],[1428883200000,0.00440946],[1428969600000,0.00440946],[1429056000000,0.00440946],[1429142400000,0.00440946],[1429228800000,0.00440946],[1429488000000,0.00440946],[1429574400000,0.00440946],[1429660800000,0.00440946],[1429747200000,0.00440946],[1429833600000,0.00440946],[1430092800000,0.00440946],[1430179200000,0.00440946],[1430265600000,0.00440946],[1430352000000,0.00440946],[1430697600000,0.00440946],[1430784000000,0.00440946],[1430870400000,0.00440946],[1430956800000,0.00440946],[1431043200000,0.00440946],[1431302400000,0.00440946],[1431388800000,0.00440946],[1431475200000,0.00440946],[1431561600000,0.00440946],[1431648000000,0.00440946],[1431907200000,0.00440946],[1431993600000,0.00440946],[1432080000000,0.00440946],[1432166400000,0.00440946],[1432252800000,0.00440946],[1432512000000,0.00440946],[1432598400000,0.00440946],[1432684800000,0.00440946],[1432771200000,0.00440946],[1432857600000,0.00440946],[1433116800000,0.00440946],[1433203200000,0.00440946],[1433289600000,0.00440946],[1433376000000,0.00440946],[1433462400000,0.00440946],[1433721600000,0.00440946],[1433808000000,0.00440946],[1433894400000,0.00440946],[1433980800000,0.00440946],[1434067200000,0.00440946],[1434326400000,0.00440946],[1434412800000,0.00440946],[1434499200000,0.00440946],[1434585600000,0.00440946],[1434672000000,0.00440946],[1435017600000,0.00440946],[1435104000000,0.00440946],[1435190400000,0.00440946],[1435276800000,0.00440946],[1435536000000,0.00440946],[1435622400000,0.00440946],[1435708800000,0.00440946],[1435795200000,0.00440946],[1435881600000,0.00440946],[1436140800000,0.00440946],[1436227200000,0.00440946],[1436313600000,0.00440946],[1436400000000,0.00440946],[1436486400000,0.00440946],[1436745600000,0.00440946],[1436832000000,0.00440946],[1436918400000,0.00440946],[1437004800000,0.00440946],[1437091200000,0.00440946],[1437350400000,0.00440946],[1437436800000,0.00440946],[1437523200000,0.00440946],[1437609600000,0.00440946],[1437696000000,0.00440946],[1437955200000,0.00440946],[1438041600000,0.00440946],[1438128000000,0.00440946],[1438214400000,0.00440946],[1438300800000,0.00440946],[1438560000000,0.00440946],[1438646400000,0.00440946],[1438732800000,0.00440946],[1438819200000,0.00440946],[1438905600000,0.00440946],[1439164800000,0.00440946],[1439251200000,0.00440946],[1439337600000,0.00440946],[1439424000000,0.00440946],[1439510400000,0.00440946],[1439769600000,0.00440946],[1439856000000,0.03743539],[1439942400000,0.03743539],[1440028800000,0.03743539],[1440115200000,0.03743539],[1440374400000,0.03653551],[1440460800000,0.00496245],[1440547200000,0.00496245],[1440633600000,0.00496245],[1440720000000,0.00496245],[1440979200000,0.00496245],[1441065600000,0.03449679],[1441152000000,0.04241523],[1441584000000,0.04241523],[1441670400000,0.04241523],[1441756800000,0.04241523],[1441843200000,0.04241523],[1441929600000,0.04241523],[1442188800000,0.04241523],[1442275200000,0.04241523],[1442361600000,0.04241523],[1442448000000,0.04241523],[1442534400000,0.04241523],[1442793600000,0.04241523],[1442880000000,0.04241523],[1442966400000,0.04241523],[1443052800000,0.04241523],[1443139200000,0.04241523],[1443398400000,0.03523407],[1443484800000,0.03523407],[1443571200000,0.03523407],[1444262400000,0.0305711],[1444348800000,0.0305711],[1444608000000,0.0305711],[1444694400000,0.0305711],[1444780800000,0.0305711],[1444867200000,0.0305711],[1444953600000,0.02223488],[1445212800000,0.02223488],[1445299200000,0.0126763],[1445385600000,0.0126763],[1445472000000,0.00841845],[1445558400000,0.00841845],[1445817600000,0.00841845],[1445904000000,0.00841845],[1445990400000,0.00431496],[1446076800000,0.00431496],[1446163200000,0.00431496],[1446422400000,0.00431496],[1446508800000,0.00431496],[1446595200000,0.00431496],[1446681600000,0.00431496],[1446768000000,0.00431496],[1447027200000,0.00431496],[1447113600000,0.00431496],[1447200000000,0.00431496],[1447286400000,0.02796595],[1447372800000,0.02796595],[1447632000000,0.02796595],[1447718400000,0.02796595],[1447804800000,0.02796595],[1447891200000,0.02796595],[1447977600000,0.02796595],[1448236800000,0.02796595],[1448323200000,0.02796595],[1448409600000,0.02796595],[1448496000000,0.02796595],[1448582400000,0.02796595],[1448841600000,0.02796595],[1448928000000,0.02796595],[1449014400000,0.02796595],[1449100800000,0.02796595],[1449187200000,0.02796595],[1449446400000,0.02796595],[1449532800000,0.06429427],[1449619200000,0.06429427],[1449705600000,0.06429427],[1449792000000,0.06429427],[1450051200000,0.06429427],[1450137600000,0.06429427],[1450224000000,0.05490961],[1450310400000,0.05490961],[1450396800000,0.05490961],[1450656000000,0.05490961],[1450742400000,0.05328917],[1450828800000,0.05328917],[1450915200000,0.05328917],[1451001600000,0.05328917],[1451260800000,0.05328917],[1451347200000,0.05328917],[1451433600000,0.05328917],[1451520000000,0.05328917],[1451865600000,0.05328917],[1451952000000,0.05328917],[1452038400000,0.05328917],[1452124800000,0.05328917],[1452211200000,0.05328917],[1452470400000,0.05328917],[1452556800000,0.05328917],[1452643200000,0.05328917],[1452729600000,0.05328917],[1452816000000,0.05328917],[1453075200000,0.05328917],[1453161600000,0.05328917],[1453248000000,0.05328917],[1453334400000,0.05328917],[1453420800000,0.05328917],[1453680000000,0.05328917],[1453766400000,0.05328917],[1453852800000,0.05328917],[1453939200000,0.05328917],[1454025600000,0.05328917],[1454284800000,0.05328917],[1454371200000,0.05328917],[1454457600000,0.02337323],[1454544000000,0.02337323],[1454630400000,0.02337323],[1455494400000,0.02337323],[1455580800000,0.02337323],[1455667200000,0.02337323],[1455753600000,0.02337323],[1455840000000,0.02337323],[1456099200000,0.02337323],[1456185600000,0.02337323],[1456272000000,0.02337323],[1456358400000,0.02337323],[1456444800000,0.02337323],[1456704000000,0.02337323],[1456790400000,0.02337323],[1456876800000,0.02337323],[1456963200000,0.02337323],[1457049600000,0.02337323],[1457308800000,0.02337323],[1457395200000,0.02337323],[1457481600000,0.02337323],[1457568000000,0.04976363],[1457654400000,0.04976363],[1457913600000,0.04976363],[1458000000000,0.04976363],[1458086400000,0.04976363],[1458172800000,0.04976363],[1458259200000,0.04976363],[1458518400000,0.04976363],[1458604800000,0.04976363],[1458691200000,0.04976363],[1458777600000,0.04976363],[1458864000000,0.04976363],[1459123200000,0.04976363],[1459209600000,0.01346812],[1459296000000,0.01346812],[1459382400000,0.01346812],[1459468800000,0.01346812],[1459814400000,0.01346812],[1459900800000,0.01346812],[1459987200000,0.01346812],[1460073600000,0.01346812],[1460332800000,0.01346812],[1460419200000,0.01346812],[1460505600000,0.01346812],[1460592000000,0.01346812],[1460678400000,0.01346812],[1460937600000,0.01346812],[1461024000000,0.01346812],[1461110400000,0.01346812],[1461196800000,0.01346812],[1461283200000,0.01346812],[1461542400000,0.01346812],[1461628800000,0.01346812],[1461715200000,0.01346812],[1461801600000,0.01346812],[1461888000000,0.01346812],[1462233600000,0.01264442],[1462320000000,0.01264442],[1462406400000,0.01264442],[1462492800000,0.01264442],[1462752000000,0.01264442],[1462838400000,0.01264442],[1462924800000,0.01264442],[1463011200000,0.01264442],[1463097600000,0.0007575],[1463356800000,0.03856659],[1463443200000,0.03856659],[1463529600000,0.03856659],[1463616000000,0.03856659],[1463702400000,0.03856659],[1463961600000,0.033297],[1464048000000,0.033297],[1464134400000,0.033297],[1464220800000,0.033297],[1464307200000,0.033297],[1464566400000,0.033297],[1464652800000,0.033297],[1464739200000,0.033297],[1464825600000,0.033297],[1464912000000,0.033297],[1465171200000,0.033297],[1465257600000,0.033297],[1465344000000,0.033297],[1465776000000,0.033297],[1465862400000,0.033297],[1465948800000,0.033297],[1466035200000,0.033297],[1466121600000,0.033297],[1466380800000,0.033297],[1466467200000,0.033297],[1466553600000,0.033297],[1466640000000,0.033297],[1466726400000,0.033297],[1466985600000,0.033297],[1467072000000,0.033297],[1467158400000,0.033297],[1467244800000,0.033297],[1467331200000,0.033297],[1467590400000,0.033297],[1467676800000,0.033297],[1467763200000,0.033297],[1467849600000,0.033297],[1467936000000,0.033297],[1468195200000,0.033297],[1468281600000,0.033297],[1468368000000,0.033297],[1468454400000,0.02842606],[1468540800000,0.02842606],[1468800000000,0.02842606],[1468886400000,0.02842606],[1468972800000,0.02842606],[1469059200000,0.02842606],[1469145600000,0.02842606],[1469404800000,0.02842606],[1469491200000,0.02842606],[1469577600000,0.02842606],[1469664000000,0.02842606],[1469750400000,0.02842606],[1470009600000,0.00932533],[1470096000000,0.00932533],[1470182400000,0.00932533],[1470268800000,0.00932533],[1470355200000,0.00932533],[1470614400000,0.00932533],[1470700800000,0.00932533],[1470787200000,0.00932533],[1470873600000,0.00932533],[1470960000000,0.0036608],[1471219200000,0.0036608],[1471305600000,0.0036608],[1471392000000,0.0036608],[1471478400000,0.0036608],[1471564800000,0.0036608],[1471824000000,0.0036608],[1471910400000,0.0036608],[1471996800000,0.0036608],[1472083200000,0.0036608],[1472169600000,0.0036608],[1472428800000,0.0036608],[1472515200000,0.0036608],[1472601600000,0.0036608],[1472688000000,0.0036608],[1472774400000,0.0036608],[1473033600000,0.0036608],[1473120000000,0.0036608],[1473206400000,0.0036608],[1473292800000,0.0036608],[1473379200000,0.0036608],[1473638400000,0.0036608],[1473724800000,0.0036608],[1473811200000,0.0036608],[1474243200000,0.0036608],[1474329600000,0.0036608],[1474416000000,0.0036608],[1474502400000,0.0036608],[1474588800000,0.0036608],[1474848000000,0.0036608],[1474934400000,0.0036608],[1475020800000,0.0036608],[1475107200000,0.0036608],[1475193600000,0.0036608],[1476057600000,0.0036608],[1476144000000,0.0036608],[1476230400000,0.0036608],[1476316800000,0.0036608],[1476403200000,0.0036608],[1476662400000,0.0036608],[1476748800000,0.0036608],[1476835200000,0.0036608],[1476921600000,0.05953568],[1477008000000,0.05953568],[1477267200000,0.05953568],[1477353600000,0.05953568],[1477440000000,0.05953568],[1477526400000,0.0646422],[1477612800000,0.0646422],[1477872000000,0.0646422],[1477958400000,0.0646422],[1478044800000,0.0646422],[1478131200000,0.0646422],[1478217600000,0.0646422],[1478476800000,0.0646422],[1478563200000,0.0646422],[1478649600000,0.0646422],[1478736000000,0.0646422],[1478822400000,0.0646422],[1479081600000,0.0646422],[1479168000000,0.0646422],[1479254400000,0.0646422],[1479340800000,0.0646422],[1479427200000,0.0646422],[1479686400000,0.0646422],[1479772800000,0.0646422],[1479859200000,0.0646422],[1479945600000,0.0646422],[1480032000000,0.0646422],[1480291200000,0.0646422],[1480377600000,0.0646422],[1480464000000,0.0646422],[1480550400000,0.0646422],[1480636800000,0.0646422],[1480896000000,0.0646422],[1480982400000,0.0646422],[1481068800000,0.0646422],[1481155200000,0.05322489],[1481241600000,0.05322489],[1481500800000,0.05322489],[1481587200000,0.05322489],[1481673600000,0.05322489],[1481760000000,0.05322489],[1481846400000,0.05322489],[1482105600000,0.05322489],[1482192000000,0.05322489],[1482278400000,0.05322489],[1482364800000,0.05322489],[1482451200000,0.05322489],[1482710400000,0.05322489],[1482796800000,0.0343518],[1482883200000,0.0343518],[1482969600000,0.0343518],[1483056000000,0.0343518],[1483401600000,0.0343518],[1483488000000,0.0343518],[1483574400000,0.0343518],[1483660800000,0.0343518],[1483920000000,0.0343518],[1484006400000,0.0343518],[1484092800000,0.0343518],[1484179200000,0.0343518],[1484265600000,0.0343518],[1484524800000,0.0343518],[1484611200000,0.0343518],[1484697600000,0.0343518],[1484784000000,0.0343518],[1484870400000,0.02275711],[1485129600000,0.02275711],[1485216000000,0.02275711],[1485302400000,0.02275711],[1485388800000,0.02275711],[1486080000000,0.02275711],[1486339200000,0.02275711],[1486425600000,0.02275711],[1486512000000,0.02275711],[1486598400000,0.02275711],[1486684800000,0.02275711],[1486944000000,0.02275711],[1487030400000,0.02275711],[1487116800000,0.02275711],[1487203200000,0.02275711],[1487289600000,0.02275711],[1487548800000,0.02275711],[1487635200000,0.02275711],[1487721600000,0.02275711],[1487808000000,0.02275711],[1487894400000,0.02275711],[1488153600000,0.02275711],[1488240000000,0.02275711],[1488326400000,0.02275711],[1488412800000,0.02275711],[1488499200000,0.02275711],[1488758400000,0.02275711],[1488844800000,0.02275711],[1488931200000,0.02275711],[1489017600000,0.02275711],[1489104000000,0.02275711],[1489363200000,0.02275711],[1489449600000,0.02275711],[1489536000000,0.02275711],[1489622400000,0.02275711],[1489708800000,0.02275711],[1489968000000,0.02275711],[1490054400000,0.02275711],[1490140800000,0.02275711],[1490227200000,0.02275711],[1490313600000,0.02275711],[1490572800000,0.02275711],[1490659200000,0.02275711],[1490745600000,0.02275711],[1490832000000,0.02275711],[1490918400000,0.02275711],[1491350400000,0.02275711],[1491436800000,0.02275711],[1491523200000,0.02275711],[1491782400000,0.02275711],[1491868800000,0.02275711],[1491955200000,0.02275711],[1492041600000,0.02275711],[1492128000000,0.02275711],[1492387200000,0.02275711],[1492473600000,0.02275711],[1492560000000,0.02275711],[1492646400000,0.02275711],[1492732800000,0.02275711],[1492992000000,0.02275711],[1493078400000,0.04372733],[1493164800000,0.04372733],[1493251200000,0.04372733],[1493337600000,0.04372733],[1493683200000,0.04372733],[1493769600000,0.04372733],[1493856000000,0.04372733],[1493942400000,0.04372733],[1494201600000,0.04372733],[1494288000000,0.04372733],[1494374400000,0.04372733],[1494460800000,0.04372733],[1494547200000,0.04372733],[1494806400000,0.04372733],[1494892800000,0.04372733],[1494979200000,0.04372733],[1495065600000,0.04372733],[1495152000000,0.04372733],[1495411200000,0.04372733],[1495497600000,0.04372733],[1495584000000,0.04372733],[1495670400000,0.04372733],[1495756800000,0.04372733],[1496188800000,0.04372733],[1496275200000,0.04372733],[1496361600000,0.04372733],[1496620800000,0.04372733],[1496707200000,0.04372733],[1496793600000,0.04372733],[1496880000000,0.04372733],[1496966400000,0.04372733],[1497225600000,0.04372733],[1497312000000,0.04372733],[1497398400000,0.04372733],[1497484800000,0.04372733],[1497571200000,0.04372733],[1497830400000,0.04372733],[1497916800000,0.04372733],[1498003200000,0.04372733],[1498089600000,0.04372733],[1498176000000,0.04372733],[1498435200000,0.04372733],[1498521600000,0.04372733],[1498608000000,0.04372733],[1498694400000,0.04372733],[1498780800000,0.04372733],[1499040000000,0.04372733],[1499126400000,0.04372733],[1499212800000,0.04372733],[1499299200000,0.04372733],[1499385600000,0.04372733],[1499644800000,0.04372733],[1499731200000,0.04372733],[1499817600000,0.04372733],[1499904000000,0.04372733],[1499990400000,0.04372733],[1500249600000,0.04372733],[1500336000000,0.04372733],[1500422400000,0.04372733],[1500508800000,0.04372733],[1500595200000,0.04372733],[1500854400000,0.07044918],[1500940800000,0.07044918],[1501027200000,0.07044918],[1501113600000,0.07044918],[1501200000000,0.07044918],[1501459200000,0.07044918],[1501545600000,0.07044918],[1501632000000,0.07044918],[1501718400000,0.07044918],[1501804800000,0.07044918],[1502064000000,0.07044918],[1502150400000,0.07044918],[1502236800000,0.07044918],[1502323200000,0.07044918],[1502409600000,0.07044918],[1502668800000,0.00033082],[1502755200000,0.00033082],[1502841600000,0.00033082],[1502928000000,0.00033082],[1503014400000,0.00033082],[1503273600000,0.00033082],[1503360000000,0.00033082],[1503446400000,0.00033082],[1503532800000,0.07220834],[1503619200000,0.07220834],[1503878400000,0.07220834],[1503964800000,0.07220834],[1504051200000,0.07220834],[1504137600000,0.07220834],[1504224000000,0.07220834],[1504483200000,0.07220834],[1504569600000,0.07220834],[1504656000000,0.07220834],[1504742400000,0.07220834],[1504828800000,0.07220834],[1505088000000,0.06860194],[1505174400000,0.06860194],[1505260800000,0.06860194],[1505347200000,0.06860194],[1505433600000,0.06860194],[1505692800000,0.06860194],[1505779200000,0.06860194],[1505865600000,0.06860194],[1505952000000,0.06860194],[1506038400000,0.06860194],[1506297600000,0.06860194],[1506384000000,0.06860194],[1506470400000,0.06860194],[1506556800000,0.06860194],[1506643200000,0.06860194],[1507507200000,0.06860194],[1507593600000,0.02381316],[1507680000000,0.02381316],[1507766400000,0.02381316],[1507852800000,0.02381316],[1508112000000,0.02381316],[1508198400000,0.02381316],[1508284800000,0.02381316],[1508371200000,0.02381316],[1508457600000,0.02381316],[1508716800000,0.02381316],[1508803200000,0.02381316],[1508889600000,0.02381316],[1508976000000,0.02381316],[1509062400000,0.02381316],[1509321600000,0.02381316],[1509408000000,0.02381316],[1509494400000,0.02381316],[1509580800000,0.02381316],[1509667200000,0.02381316],[1509926400000,0.02381316],[1510012800000,0.02381316],[1510099200000,0.02381316],[1510185600000,0.02381316],[1510272000000,0.02381316],[1510531200000,0.02381316],[1510617600000,0.02381316],[1510704000000,0.02381316],[1510790400000,0.02381316],[1510876800000,0.02381316],[1511136000000,0.02381316],[1511222400000,0.02381316],[1511308800000,0.02381316],[1511395200000,0.02381316],[1511481600000,0.02381316],[1511740800000,0.02381316],[1511827200000,0.02381316],[1511913600000,0.02381316],[1512000000000,0.02381316],[1512086400000,0.02381316],[1512345600000,0.02381316],[1512432000000,0.02381316],[1512518400000,0.02381316],[1512604800000,0.02381316],[1512691200000,0.02381316],[1512950400000,0.02381316],[1513036800000,0.02381316],[1513123200000,0.02381316],[1513209600000,0.02381316],[1513296000000,0.02381316],[1513555200000,0.02381316],[1513641600000,0.02381316],[1513728000000,0.02381316],[1513814400000,0.02381316],[1513900800000,0.02381316],[1514160000000,0.02381316],[1514246400000,0.02381316],[1514332800000,0.02381316],[1514419200000,0.02381316],[1514505600000,0.02381316],[1514851200000,0.00348152],[1514937600000,0.00348152],[1515024000000,0.00348152],[1515110400000,0.00348152],[1515369600000,0.00348152],[1515456000000,0.00348152],[1515542400000,0.00348152],[1515628800000,0.00348152],[1515715200000,0.00348152],[1515974400000,0.00348152],[1516060800000,0.00348152],[1516147200000,0.00348152],[1516233600000,0.00348152],[1516320000000,0.00348152],[1516579200000,0.00348152],[1516665600000,0.00348152],[1516752000000,0.00348152],[1516838400000,0.00348152],[1516924800000,0.00348152],[1517184000000,0.00348152],[1517270400000,0.00348152],[1517356800000,0.00348152],[1517443200000,0.00348152],[1517529600000,0.00348152],[1517788800000,0.00348152],[1517875200000,0.00348152],[1517961600000,0.00348152],[1518048000000,0.00348152],[1518134400000,0.00348152],[1518393600000,0.00348152],[1518480000000,0.00348152],[1518566400000,0.00348152],[1519257600000,0.00348152],[1519344000000,0.00348152],[1519603200000,0.00348152],[1519689600000,0.00348152],[1519776000000,0.00348152],[1519862400000,0.00348152],[1519948800000,0.00348152],[1520208000000,0.00348152],[1520294400000,0.00348152],[1520380800000,0.00348152],[1520467200000,0.00348152],[1520553600000,0.00348152],[1520812800000,0.00348152],[1520899200000,0.07185283],[1520985600000,0.07185283],[1521072000000,0.07185283],[1521158400000,0.07185283],[1521417600000,0.07185283],[1521504000000,0.07185283],[1521590400000,0.07185283],[1521676800000,0.07185283],[1521763200000,0.07185283],[1522022400000,0.00444677],[1522108800000,0.00444677],[1522195200000,0.00444677],[1522281600000,0.00444677],[1522368000000,0.00444677],[1522627200000,0.00444677],[1522713600000,0.00444677],[1522800000000,0.00444677],[1523232000000,0.00444677],[1523318400000,0.00444677],[1523404800000,0.02752302],[1523491200000,0.02752302],[1523577600000,0.02752302],[1523836800000,0.02752302],[1523923200000,0.02752302],[1524009600000,0.02752302],[1524096000000,0.02752302],[1524182400000,0.02752302],[1524441600000,0.02752302],[1524528000000,0.02752302],[1524614400000,0.02752302],[1524700800000,0.02752302],[1524787200000,0.02752302],[1525219200000,0.02752302],[1525305600000,0.02752302],[1525392000000,0.02752302],[1525651200000,0.02752302],[1525737600000,0.02752302],[1525824000000,0.02752302],[1525910400000,0.02752302],[1525996800000,0.02752302],[1526256000000,0.02752302],[1526342400000,0.02752302],[1526428800000,0.02752302],[1526515200000,0.02752302],[1526601600000,0.02752302],[1526860800000,0.02752302],[1526947200000,0.02752302],[1527033600000,0.02752302],[1527120000000,0.02752302],[1527206400000,0.02752302],[1527465600000,0.02752302],[1527552000000,0.02752302],[1527638400000,0.02752302],[1527724800000,0.02752302],[1527811200000,0.04812906],[1528070400000,0.04812906],[1528156800000,0.04812906],[1528243200000,0.04812906],[1528329600000,0.04812906],[1528416000000,0.04812906],[1528675200000,0.04812906],[1528761600000,0.04812906],[1528848000000,0.04812906],[1528934400000,0.04812906],[1529020800000,0.00701076],[1529366400000,0.00701076],[1529452800000,0.00701076],[1529539200000,0.00701076],[1529625600000,0.00701076],[1529884800000,0.00701076],[1529971200000,0.00701076],[1530057600000,0.02022456],[1530144000000,0.02022456],[1530230400000,0.02022456],[1530489600000,0.02022456],[1530576000000,0.02022456],[1530662400000,0.02022456],[1530748800000,0.02022456],[1530835200000,0.02022456],[1531094400000,0.02022456],[1531180800000,0.02022456],[1531267200000,0.02022456],[1531353600000,0.02022456],[1531440000000,0.02022456],[1531699200000,0.02022456],[1531785600000,0.02022456],[1531872000000,0.04886636],[1531958400000,0.04886636],[1532044800000,0.04886636],[1532304000000,0.04886636],[1532390400000,0.04886636],[1532476800000,0.04886636],[1532563200000,0.04886636],[1532649600000,0.04886636],[1532908800000,0.04396796],[1532995200000,0.05225006],[1533081600000,0.05225006]]},{\"name\":\"PROPERTY_TURTLE\",\"yAxis\":0,\"data\":[[1420416000000,-1.455191523e-16],[1420502400000,0.0],[1420588800000,0.01661441],[1420675200000,0.02814774],[1420761600000,-0.01024169],[1421020800000,-0.000198],[1421107200000,-0.00166991],[1421193600000,-0.00587972],[1421280000000,-0.01294688],[1421366400000,0.01938498],[1421625600000,-0.03965651],[1421712000000,-0.07171015],[1421798400000,-0.0403088],[1421884800000,-0.00249546],[1421971200000,0.00607663],[1422230400000,-0.00174698],[1422316800000,0.00318479],[1422403200000,0.00530777],[1422489600000,-0.01671294],[1422576000000,-0.01514661],[1422835200000,-0.06277682],[1422921600000,-0.05804351],[1423008000000,-0.02664995],[1423094400000,-0.00522962],[1423180800000,-0.04016366],[1423440000000,-0.04594643],[1423526400000,-0.02522568],[1423612800000,0.00376482],[1423699200000,0.01277741],[1423785600000,0.02638494],[1424044800000,0.04018639],[1424131200000,0.06421461],[1424822400000,0.08521617],[1424908800000,0.0612015],[1424995200000,0.10489008],[1425254400000,0.11879655],[1425340800000,0.11235971],[1425427200000,0.09716036],[1425513600000,0.09785274],[1425600000000,0.09605598],[1425859200000,0.04652037],[1425945600000,0.06336703],[1426032000000,0.06844625],[1426118400000,0.06490522],[1426204800000,0.07655349],[1426464000000,0.09201286],[1426550400000,0.12746191],[1426636800000,0.13652327],[1426723200000,0.1523999],[1426809600000,0.1811664],[1427068800000,0.23286139],[1427155200000,0.27581755],[1427241600000,0.3030416],[1427328000000,0.29360855],[1427414400000,0.26315209],[1427673600000,0.28332946],[1427760000000,0.32230981],[1427846400000,0.31730128],[1427932800000,0.34613406],[1428019200000,0.33392621],[1428364800000,0.36972267],[1428451200000,0.3896418],[1428537600000,0.42397744],[1428624000000,0.40360658],[1428883200000,0.44846259],[1428969600000,0.47265058],[1429056000000,0.48355405],[1429142400000,0.42689075],[1429228800000,0.47173724],[1429488000000,0.5132451],[1429574400000,0.51499531],[1429660800000,0.57900336],[1429747200000,0.6668751],[1429833600000,0.6450492],[1430092800000,0.74942388],[1430179200000,0.78291216],[1430265600000,0.82991218],[1430352000000,0.82435415],[1430697600000,0.891643],[1430784000000,0.80328819],[1430870400000,0.76371676],[1430956800000,0.71309232],[1431043200000,0.71337632],[1431302400000,0.75480248],[1431388800000,0.84130474],[1431475200000,0.8700644],[1431561600000,0.82169971],[1431648000000,0.76126966],[1431907200000,0.76397801],[1431993600000,0.75186542],[1432080000000,0.8129074],[1432166400000,0.82136889],[1432252800000,0.82921922],[1432512000000,0.82356097],[1432598400000,0.88708907],[1432684800000,0.91356871],[1432771200000,0.84771391],[1432857600000,0.70262103],[1433116800000,0.69905368],[1433203200000,0.77940856],[1433289600000,0.86879179],[1433376000000,0.92804521],[1433462400000,1.01290415],[1433721600000,0.9546341],[1433808000000,0.94255564],[1433894400000,0.8925137],[1433980800000,0.9302054],[1434067200000,0.87972428],[1434326400000,0.86409381],[1434412800000,0.74914268],[1434499200000,0.74094377],[1434585600000,0.85227479],[1434672000000,0.67486492],[1435017600000,0.65391813],[1435104000000,0.69446951],[1435190400000,0.6839503],[1435276800000,0.54711925],[1435536000000,0.48004552],[1435622400000,0.34504957],[1435708800000,0.48613749],[1435795200000,0.42806805],[1435881600000,0.29968165],[1436140800000,0.37009367],[1436227200000,0.26310323],[1436313600000,0.18582221],[1436400000000,0.20050144],[1436486400000,0.34570068],[1436745600000,0.45124919],[1436832000000,0.45259718],[1436918400000,0.41289884],[1437004800000,0.32729986],[1437091200000,0.36663478],[1437350400000,0.42914568],[1437436800000,0.40433801],[1437523200000,0.43388089],[1437609600000,0.42925138],[1437696000000,0.4673503],[1437955200000,0.38968958],[1438041600000,0.24996689],[1438128000000,0.29082473],[1438214400000,0.3411704],[1438300800000,0.2742835],[1438560000000,0.27765716],[1438646400000,0.29235077],[1438732800000,0.34102033],[1438819200000,0.28763083],[1438905600000,0.30783083],[1439164800000,0.34864454],[1439251200000,0.41799794],[1439337600000,0.38542653],[1439424000000,0.3662024],[1439510400000,0.40803681],[1439769600000,0.38001764],[1439856000000,0.37421164],[1439942400000,0.24282274],[1440028800000,0.28583963],[1440115200000,0.22876085],[1440374400000,0.13273963],[1440460800000,0.01808916],[1440547200000,0.00785898],[1440633600000,-0.01950357],[1440720000000,0.01857326],[1440979200000,0.06004943],[1441065600000,0.00135432],[1441152000000,-0.04493108],[1441584000000,0.01296944],[1441670400000,-0.00546107],[1441756800000,0.04689827],[1441843200000,0.06744566],[1441929600000,0.07349873],[1442188800000,0.08485411],[1442275200000,-0.01533944],[1442361600000,-0.03610917],[1442448000000,0.02366137],[1442534400000,0.01867359],[1442793600000,0.02090123],[1442880000000,0.06568668],[1442966400000,0.03815497],[1443052800000,0.04570309],[1443139200000,0.07132258],[1443398400000,0.02479887],[1443484800000,0.03232921],[1443571200000,0.04161228],[1444262400000,0.0715361],[1444348800000,0.079224],[1444608000000,0.1034069],[1444694400000,0.16412664],[1444780800000,0.17526002],[1444867200000,0.17583511],[1444953600000,0.26190925],[1445212800000,0.3045109],[1445299200000,0.3206085],[1445385600000,0.37642546],[1445472000000,0.32703503],[1445558400000,0.41731445],[1445817600000,0.43139391],[1445904000000,0.40111499],[1445990400000,0.42096117],[1446076800000,0.39080318],[1446163200000,0.35720783],[1446422400000,0.29351431],[1446508800000,0.30020558],[1446595200000,0.31234291],[1446681600000,0.4739057],[1446768000000,0.4658357],[1447027200000,0.50832035],[1447113600000,0.55747733],[1447200000000,0.54879555],[1447286400000,0.54840461],[1447372800000,0.59833156],[1447632000000,0.50320507],[1447718400000,0.60383903],[1447804800000,0.56286239],[1447891200000,0.57454806],[1447977600000,0.63622488],[1448236800000,0.71309792],[1448323200000,0.71046047],[1448409600000,0.87244222],[1448496000000,0.81943471],[1448582400000,0.8142784],[1448841600000,0.6803409],[1448928000000,0.65804731],[1449014400000,0.66016436],[1449100800000,0.62441376],[1449187200000,0.65510506],[1449446400000,0.71572338],[1449532800000,0.67847309],[1449619200000,0.63501588],[1449705600000,0.59349449],[1449792000000,0.60701464],[1450051200000,0.51323604],[1450137600000,0.4519515],[1450224000000,0.49239215],[1450310400000,0.51961562],[1450396800000,0.54141018],[1450656000000,0.52626306],[1450742400000,0.51627506],[1450828800000,0.52913747],[1450915200000,0.48539142],[1451001600000,0.49901557],[1451260800000,0.51259212],[1451347200000,0.47868272],[1451433600000,0.49672629],[1451520000000,0.50376176],[1451865600000,0.45831614],[1451952000000,0.25568424],[1452038400000,0.30767503],[1452124800000,0.30278098],[1452211200000,0.25132514],[1452470400000,0.19948333],[1452556800000,0.15922783],[1452643200000,0.1807925],[1452729600000,0.07398208],[1452816000000,0.16625456],[1453075200000,0.12187564],[1453161600000,0.17610254],[1453248000000,0.2226292],[1453334400000,0.21250064],[1453420800000,0.19458254],[1453680000000,0.2316112],[1453766400000,0.22718607],[1453852800000,0.16176612],[1453939200000,0.13235452],[1454025600000,0.08213384],[1454284800000,0.12782449],[1454371200000,0.11603917],[1454457600000,0.1677343],[1454544000000,0.20362301],[1454630400000,0.23144543],[1455494400000,0.14746104],[1455580800000,0.21690995],[1455667200000,0.24298108],[1455753600000,0.29717607],[1455840000000,0.27845436],[1456099200000,0.28969519],[1456185600000,0.2951575],[1456272000000,0.2465677],[1456358400000,0.26760139],[1456444800000,0.18193382],[1456704000000,0.17895933],[1456790400000,0.11462081],[1456876800000,0.12762205],[1456963200000,0.17489664],[1457049600000,0.15901412],[1457308800000,0.13259321],[1457395200000,0.13701664],[1457481600000,0.14742385],[1457568000000,0.14082416],[1457654400000,0.11669862],[1457913600000,0.13416259],[1458000000000,0.16663569],[1458086400000,0.18833342],[1458172800000,0.16464006],[1458259200000,0.22305742],[1458518400000,0.27298894],[1458604800000,0.26142713],[1458691200000,0.26660231],[1458777600000,0.25584387],[1458864000000,0.2426812],[1459123200000,0.25278995],[1459209600000,0.23613951],[1459296000000,0.23392313],[1459382400000,0.29473627],[1459468800000,0.26165811],[1459814400000,0.26580178],[1459900800000,0.27986287],[1459987200000,0.30859346],[1460073600000,0.28637137],[1460332800000,0.30161139],[1460419200000,0.29213647],[1460505600000,0.27422845],[1460592000000,0.28385202],[1460678400000,0.29372923],[1460937600000,0.30282626],[1461024000000,0.32340376],[1461110400000,0.31837057],[1461196800000,0.24600824],[1461283200000,0.22892356],[1461542400000,0.25994014],[1461628800000,0.24170448],[1461715200000,0.25619637],[1461801600000,0.26089651],[1461888000000,0.25807394],[1462233600000,0.26512097],[1462320000000,0.30376197],[1462406400000,0.30618415],[1462492800000,0.33257289],[1462752000000,0.2701585],[1462838400000,0.25848866],[1462924800000,0.24722333],[1463011200000,0.17095422],[1463097600000,0.21683714],[1463356800000,0.21373873],[1463443200000,0.2347501],[1463529600000,0.22219675],[1463616000000,0.20768296],[1463702400000,0.2099604],[1463961600000,0.22438117],[1464048000000,0.24147565],[1464134400000,0.24358454],[1464220800000,0.20215229],[1464307200000,0.21003824],[1464566400000,0.1891143],[1464652800000,0.19488625],[1464739200000,0.24909769],[1464825600000,0.26556083],[1464912000000,0.27092516],[1465171200000,0.28336735],[1465257600000,0.29636579],[1465344000000,0.27431297],[1465776000000,0.25143106],[1465862400000,0.22186861],[1465948800000,0.20531142],[1466035200000,0.26535733],[1466121600000,0.24728405],[1466380800000,0.24908795],[1466467200000,0.27481873],[1466553600000,0.24164777],[1466640000000,0.25754824],[1466726400000,0.26448756],[1466985600000,0.26129454],[1467072000000,0.33871587],[1467158400000,0.37712193],[1467244800000,0.38554396],[1467331200000,0.37311773],[1467590400000,0.34384031],[1467676800000,0.36677371],[1467763200000,0.3690939],[1467849600000,0.36965774],[1467936000000,0.36685576],[1468195200000,0.35120728],[1468281600000,0.34091227],[1468368000000,0.35210251],[1468454400000,0.34984873],[1468540800000,0.35053869],[1468800000000,0.34677828],[1468886400000,0.345435],[1468972800000,0.34606802],[1469059200000,0.34611019],[1469145600000,0.34766324],[1469404800000,0.33028397],[1469491200000,0.32693822],[1469577600000,0.33667876],[1469664000000,0.31012075],[1469750400000,0.31345713],[1470009600000,0.31310199],[1470096000000,0.30693478],[1470182400000,0.30049904],[1470268800000,0.29535055],[1470355200000,0.30103995],[1470614400000,0.29923493],[1470700800000,0.3052332],[1470787200000,0.31185618],[1470873600000,0.31151626],[1470960000000,0.29743933],[1471219200000,0.30683737],[1471305600000,0.32223627],[1471392000000,0.33864739],[1471478400000,0.33469236],[1471564800000,0.3336113],[1471824000000,0.33336219],[1471910400000,0.32996019],[1471996800000,0.32383407],[1472083200000,0.32458108],[1472169600000,0.32713496],[1472428800000,0.32650927],[1472515200000,0.32994906],[1472601600000,0.32897335],[1472688000000,0.33606772],[1472774400000,0.34823953],[1473033600000,0.34993855],[1473120000000,0.35077005],[1473206400000,0.36823032],[1473292800000,0.34715679],[1473379200000,0.34402524],[1473638400000,0.32448355],[1473724800000,0.32526414],[1473811200000,0.33327615],[1474243200000,0.34140126],[1474329600000,0.34083655],[1474416000000,0.33488091],[1474502400000,0.35583331],[1474588800000,0.35261882],[1474848000000,0.35147761],[1474934400000,0.3275052],[1475020800000,0.3417909],[1475107200000,0.35804196],[1475193600000,0.35829498],[1476057600000,0.37557267],[1476144000000,0.34648651],[1476230400000,0.36449629],[1476316800000,0.37100732],[1476403200000,0.36962818],[1476662400000,0.36662366],[1476748800000,0.35483298],[1476835200000,0.38009553],[1476921600000,0.36501488],[1477008000000,0.37397076],[1477267200000,0.36325169],[1477353600000,0.36299699],[1477440000000,0.36894256],[1477526400000,0.36625991],[1477612800000,0.3563055],[1477872000000,0.34950761],[1477958400000,0.41843935],[1478044800000,0.46646933],[1478131200000,0.50752337],[1478217600000,0.55614018],[1478476800000,0.45583226],[1478563200000,0.44687986],[1478649600000,0.47408481],[1478736000000,0.50283224],[1478822400000,0.48781975],[1479081600000,0.471991],[1479168000000,0.46213762],[1479254400000,0.49876457],[1479340800000,0.52142241],[1479427200000,0.49223246],[1479686400000,0.49984197],[1479772800000,0.48469595],[1479859200000,0.48625622],[1479945600000,0.46666247],[1480032000000,0.45908659],[1480291200000,0.45058135],[1480377600000,0.42790469],[1480464000000,0.42845017],[1480550400000,0.42616881],[1480636800000,0.4547927],[1480896000000,0.42889122],[1480982400000,0.43700922],[1481068800000,0.4440247],[1481155200000,0.45015813],[1481241600000,0.44860016],[1481500800000,0.43176637],[1481587200000,0.34872274],[1481673600000,0.33588002],[1481760000000,0.30408099],[1481846400000,0.30567115],[1482105600000,0.31871274],[1482192000000,0.31315354],[1482278400000,0.38408858],[1482364800000,0.45117617],[1482451200000,0.41448592],[1482710400000,0.39083257],[1482796800000,0.41386133],[1482883200000,0.40416867],[1482969600000,0.39998138],[1483056000000,0.3981632],[1483401600000,0.39709384],[1483488000000,0.40216933],[1483574400000,0.41610478],[1483660800000,0.40367955],[1483920000000,0.39833549],[1484006400000,0.39176171],[1484092800000,0.39325318],[1484179200000,0.38718286],[1484265600000,0.37764133],[1484524800000,0.36243603],[1484611200000,0.35059469],[1484697600000,0.37628445],[1484784000000,0.37532457],[1484870400000,0.38278696],[1485129600000,0.3795208],[1485216000000,0.3720669],[1485302400000,0.35446072],[1485388800000,0.39896205],[1486080000000,0.41478221],[1486339200000,0.40959061],[1486425600000,0.40823943],[1486512000000,0.42045599],[1486598400000,0.4189627],[1486684800000,0.43816403],[1486944000000,0.43058105],[1487030400000,0.4644165],[1487116800000,0.46768247],[1487203200000,0.45338575],[1487289600000,0.45311307],[1487548800000,0.52640618],[1487635200000,0.58200438],[1487721600000,0.57752058],[1487808000000,0.68684245],[1487894400000,0.68585563],[1488153600000,0.72278439],[1488240000000,0.76352777],[1488326400000,0.73364467],[1488412800000,0.73157175],[1488499200000,0.70854591],[1488758400000,0.72075589],[1488844800000,0.74986131],[1488931200000,0.72877971],[1489017600000,0.75235929],[1489104000000,0.73478613],[1489363200000,0.72801606],[1489449600000,0.74556016],[1489536000000,0.73050897],[1489622400000,0.71624542],[1489708800000,0.67226766],[1489968000000,0.72598595],[1490054400000,0.73118697],[1490140800000,0.77499486],[1490227200000,0.76567977],[1490313600000,0.74945894],[1490572800000,0.78837247],[1490659200000,0.75920103],[1490745600000,0.74523243],[1490832000000,0.79161671],[1490918400000,0.84632707],[1491350400000,0.85423695],[1491436800000,0.8697304],[1491523200000,0.83964062],[1491782400000,0.76584857],[1491868800000,0.7961702],[1491955200000,0.75840102],[1492041600000,0.72870934],[1492128000000,0.69595288],[1492387200000,0.65947997],[1492473600000,0.64515763],[1492560000000,0.65460587],[1492646400000,0.6789305],[1492732800000,0.66223558],[1492992000000,0.63849915],[1493078400000,0.59579593],[1493164800000,0.62033343],[1493251200000,0.60826158],[1493337600000,0.62802218],[1493683200000,0.64630393],[1493769600000,0.62961368],[1493856000000,0.61156473],[1493942400000,0.57276853],[1494201600000,0.54621438],[1494288000000,0.52204363],[1494374400000,0.51773093],[1494460800000,0.51661088],[1494547200000,0.48952848],[1494806400000,0.48399753],[1494892800000,0.46131143],[1494979200000,0.48925228],[1495065600000,0.48926783],[1495152000000,0.48708613],[1495411200000,0.50568033],[1495497600000,0.47310193],[1495584000000,0.45713043],[1495670400000,0.49276343],[1495756800000,0.47262193],[1496188800000,0.45830428],[1496275200000,0.40406818],[1496361600000,0.38789563],[1496620800000,0.40019233],[1496707200000,0.42010948],[1496793600000,0.40996713],[1496880000000,0.42982158],[1496966400000,0.48616908],[1497225600000,0.49199413],[1497312000000,0.44305428],[1497398400000,0.44996733],[1497484800000,0.44602418],[1497571200000,0.46132363],[1497830400000,0.47577213],[1497916800000,0.46052308],[1498003200000,0.46937038],[1498089600000,0.47682008],[1498176000000,0.46597938],[1498435200000,0.47780038],[1498521600000,0.47542788],[1498608000000,0.47014698],[1498694400000,0.49317428],[1498780800000,0.48229188],[1499040000000,0.51470363],[1499126400000,0.50279123],[1499212800000,0.50319578],[1499299200000,0.51414478],[1499385600000,0.50405328],[1499644800000,0.51589848],[1499731200000,0.48812113],[1499817600000,0.48429423],[1499904000000,0.48995478],[1499990400000,0.47331653],[1500249600000,0.45716058],[1500336000000,0.42886723],[1500422400000,0.42202903],[1500508800000,0.44032133],[1500595200000,0.44724103],[1500854400000,0.43727938],[1500940800000,0.44818178],[1501027200000,0.44263745],[1501113600000,0.42412957],[1501200000000,0.42934927],[1501459200000,0.43392485],[1501545600000,0.44423674],[1501632000000,0.45311344],[1501718400000,0.44544578],[1501804800000,0.42242661],[1502064000000,0.41263341],[1502150400000,0.42845526],[1502236800000,0.41292772],[1502323200000,0.41966778],[1502409600000,0.40517897],[1502668800000,0.40389422],[1502755200000,0.44800668],[1502841600000,0.4656313],[1502928000000,0.44913075],[1503014400000,0.43593361],[1503273600000,0.4507145],[1503360000000,0.4660198],[1503446400000,0.47129752],[1503532800000,0.47166953],[1503619200000,0.46900545],[1503878400000,0.47132512],[1503964800000,0.50709224],[1504051200000,0.49138031],[1504137600000,0.50699231],[1504224000000,0.50550423],[1504483200000,0.54521548],[1504569600000,0.54487361],[1504656000000,0.53128552],[1504742400000,0.53178944],[1504828800000,0.54018508],[1505088000000,0.54471048],[1505174400000,0.57677085],[1505260800000,0.56936138],[1505347200000,0.57457673],[1505433600000,0.56294302],[1505692800000,0.52350783],[1505779200000,0.53895075],[1505865600000,0.53104218],[1505952000000,0.53765378],[1506038400000,0.51461807],[1506297600000,0.5121349],[1506384000000,0.48008129],[1506470400000,0.48580053],[1506556800000,0.5216827],[1506643200000,0.52165766],[1507507200000,0.55128174],[1507593600000,0.54466255],[1507680000000,0.52979855],[1507766400000,0.50668613],[1507852800000,0.52823899],[1508112000000,0.56154817],[1508198400000,0.55053095],[1508284800000,0.55160571],[1508371200000,0.53661585],[1508457600000,0.52435535],[1508716800000,0.54360444],[1508803200000,0.57415198],[1508889600000,0.59797982],[1508976000000,0.61158716],[1509062400000,0.62127419],[1509321600000,0.62226507],[1509408000000,0.62198556],[1509494400000,0.65223063],[1509580800000,0.63818843],[1509667200000,0.60618147],[1509926400000,0.61495031],[1510012800000,0.64890832],[1510099200000,0.65569418],[1510185600000,0.65222988],[1510272000000,0.67231679],[1510531200000,0.70985171],[1510617600000,0.73650659],[1510704000000,0.69477257],[1510790400000,0.68101799],[1510876800000,0.69824957],[1511136000000,0.63756983],[1511222400000,0.70853449],[1511308800000,0.73795475],[1511395200000,0.72863467],[1511481600000,0.67366606],[1511740800000,0.65967125],[1511827200000,0.60005375],[1511913600000,0.65325783],[1512000000000,0.6538251],[1512086400000,0.64843007],[1512345600000,0.67242675],[1512432000000,0.69517523],[1512518400000,0.6503393],[1512604800000,0.61972111],[1512691200000,0.57937313],[1512950400000,0.61058733],[1513036800000,0.63835613],[1513123200000,0.64618702],[1513209600000,0.64926039],[1513296000000,0.62994526],[1513555200000,0.6033097],[1513641600000,0.62714065],[1513728000000,0.65450278],[1513814400000,0.62654466],[1513900800000,0.6735121],[1514160000000,0.66032744],[1514246400000,0.66261745],[1514332800000,0.65472473],[1514419200000,0.62316188],[1514505600000,0.62784702],[1514851200000,0.64784184],[1514937600000,0.65906892],[1515024000000,0.70532878],[1515110400000,0.75883802],[1515369600000,0.72440101],[1515456000000,0.71647085],[1515542400000,0.74369188],[1515628800000,0.68895696],[1515715200000,0.66338496],[1515974400000,0.67172561],[1516060800000,0.61349743],[1516147200000,0.60304364],[1516233600000,0.59288435],[1516320000000,0.60080138],[1516579200000,0.55813715],[1516665600000,0.61454542],[1516752000000,0.58944908],[1516838400000,0.53118289],[1516924800000,0.51742958],[1517184000000,0.49685703],[1517270400000,0.49132855],[1517356800000,0.50850854],[1517443200000,0.4734142],[1517529600000,0.45666673],[1517788800000,0.44258693],[1517875200000,0.39237063],[1517961600000,0.41476743],[1518048000000,0.35675028],[1518134400000,0.37405256],[1518393600000,0.40334133],[1518480000000,0.49741924],[1518566400000,0.46047155],[1519257600000,0.48218462],[1519344000000,0.5114821],[1519603200000,0.54476703],[1519689600000,0.58646943],[1519776000000,0.54174345],[1519862400000,0.55448809],[1519948800000,0.5882131],[1520208000000,0.58345643],[1520294400000,0.54977627],[1520380800000,0.56347232],[1520467200000,0.538764],[1520553600000,0.5559281],[1520812800000,0.60146782],[1520899200000,0.59956678],[1520985600000,0.579444],[1521072000000,0.58958043],[1521158400000,0.58751764],[1521417600000,0.55818751],[1521504000000,0.54066617],[1521590400000,0.5537412],[1521676800000,0.54475026],[1521763200000,0.47542327],[1522022400000,0.40402963],[1522108800000,0.46341514],[1522195200000,0.43204821],[1522281600000,0.4381294],[1522368000000,0.43255769],[1522627200000,0.44404987],[1522713600000,0.40361294],[1522800000000,0.42010118],[1523232000000,0.39085888],[1523318400000,0.40286901],[1523404800000,0.44899649],[1523491200000,0.44261139],[1523577600000,0.43386658],[1523836800000,0.41892575],[1523923200000,0.39143816],[1524009600000,0.34816962],[1524096000000,0.35572517],[1524182400000,0.37804239],[1524441600000,0.3768387],[1524528000000,0.36944691],[1524614400000,0.39164222],[1524700800000,0.39351796],[1524787200000,0.36185976],[1525219200000,0.36976083],[1525305600000,0.36834126],[1525392000000,0.37726817],[1525651200000,0.37875642],[1525737600000,0.40790931],[1525824000000,0.42250725],[1525910400000,0.42515784],[1525996800000,0.43592827],[1526256000000,0.4533252],[1526342400000,0.47289547],[1526428800000,0.46278187],[1526515200000,0.46655684],[1526601600000,0.44357802],[1526860800000,0.45138978],[1526947200000,0.4542301],[1527033600000,0.46550714],[1527120000000,0.44111048],[1527206400000,0.4217777],[1527465600000,0.39681529],[1527552000000,0.40904617],[1527638400000,0.37569161],[1527724800000,0.38204462],[1527811200000,0.39978727],[1528070400000,0.38028033],[1528156800000,0.38526841],[1528243200000,0.39971067],[1528329600000,0.41483207],[1528416000000,0.41457799],[1528675200000,0.4101779],[1528761600000,0.41165664],[1528848000000,0.41889153],[1528934400000,0.39255721],[1529020800000,0.37983986],[1529366400000,0.33780682],[1529452800000,0.28967993],[1529539200000,0.32065883],[1529625600000,0.29149577],[1529884800000,0.32620235],[1529971200000,0.2879226],[1530057600000,0.31374248],[1530144000000,0.26693738],[1530230400000,0.25720552],[1530489600000,0.30740718],[1530576000000,0.2900984],[1530662400000,0.27444172],[1530748800000,0.24943416],[1530835200000,0.23708206],[1531094400000,0.23599998],[1531180800000,0.28367344],[1531267200000,0.26127462],[1531353600000,0.2723774],[1531440000000,0.31555244],[1531699200000,0.35591578],[1531785600000,0.3503296],[1531872000000,0.35621752],[1531958400000,0.35396164],[1532044800000,0.326956],[1532304000000,0.32469846],[1532390400000,0.33877522],[1532476800000,0.35477916],[1532563200000,0.34898412],[1532649600000,0.33273264],[1532908800000,0.3193206],[1532995200000,0.31448632],[1533081600000,0.30908038]]},{\"name\":\"close\",\"yAxis\":0,\"data\":[[1420416000000,0.0],[1420502400000,-0.0001318124],[1420588800000,0.0006178705],[1420675200000,-0.0225948363],[1420761600000,-0.0260384343],[1421020800000,-0.0351389797],[1421107200000,-0.0350126595],[1421193600000,-0.0382036172],[1421280000000,-0.0102758723],[1421366400000,-0.0017547521],[1421625600000,-0.0786425523],[1421712000000,-0.0673671029],[1421798400000,-0.0254425326],[1421884800000,-0.0203018503],[1421971200000,-0.0191704608],[1422230400000,-0.0092131351],[1422316800000,-0.0182917117],[1422403200000,-0.0319150689],[1422489600000,-0.0438660567],[1422576000000,-0.0568852738],[1422835200000,-0.0789720832],[1422921600000,-0.05604497],[1423008000000,-0.0658430225],[1423094400000,-0.0754049111],[1423180800000,-0.090379345],[1423440000000,-0.0811799404],[1423526400000,-0.0644232934],[1423612800000,-0.0569594183],[1423699200000,-0.0545565887],[1423785600000,-0.0471531275],[1424044800000,-0.0390109679],[1424131200000,-0.0327388962],[1424822400000,-0.0447091066],[1424908800000,-0.0206643343],[1424995200000,-0.0188656448],[1425254400000,-0.0110612543],[1425340800000,-0.0366987593],[1425427200000,-0.0304047189],[1425513600000,-0.0398732404],[1425600000000,-0.0447667745],[1425859200000,-0.0285016779],[1425945600000,-0.0332084777],[1426032000000,-0.032099057],[1426118400000,-0.0133734629],[1426204800000,-0.0065576652],[1426464000000,0.0176106812],[1426550400000,0.0317393191],[1426636800000,0.0561603058],[1426723200000,0.0544275224],[1426809600000,0.0689351209],[1427068800000,0.0907637977],[1427155200000,0.0910356607],[1427241600000,0.0820724199],[1427328000000,0.0847059211],[1427414400000,0.0906641146],[1427673600000,0.1226514057],[1427760000000,0.1124963614],[1427846400000,0.1324604426],[1427932800000,0.1327020986],[1428019200000,0.1452682107],[1428364800000,0.1698457246],[1428451200000,0.1796657458],[1428537600000,0.1704224037],[1428624000000,0.19301724],[1428883200000,0.214066027],[1428969600000,0.2187645886],[1429056000000,0.2029278822],[1429142400000,0.239461876],[1429228800000,0.2621418411],[1429488000000,0.2417603541],[1429574400000,0.2684633424],[1429660800000,0.3015949296],[1429747200000,0.3018915074],[1429833600000,0.2913877096],[1430092800000,0.320207934],[1430179200000,0.3021578783],[1430265600000,0.3110744355],[1430352000000,0.3043629893],[1430697600000,0.3147569435],[1430784000000,0.2623340675],[1430870400000,0.2503858258],[1430956800000,0.2275273648],[1431043200000,0.2517780939],[1431302400000,0.2880621935],[1431388800000,0.3036847048],[1431475200000,0.2957265333],[1431561600000,0.2908769367],[1431648000000,0.2679992531],[1431907200000,0.2563750501],[1431993600000,0.2992360375],[1432080000000,0.305744273],[1432166400000,0.3293771317],[1432252800000,0.3596802452],[1432512000000,0.4003690746],[1432598400000,0.4276707107],[1432684800000,0.4228677977],[1432771200000,0.3274631063],[1432857600000,0.3293359403],[1433116800000,0.3939651906],[1433203200000,0.4174964438],[1433289600000,0.4124765896],[1433376000000,0.4228650516],[1433462400000,0.4363565964],[1433721600000,0.4701884368],[1433808000000,0.4602228727],[1433894400000,0.4579298868],[1433980800000,0.4572378719],[1434067200000,0.4650724693],[1434326400000,0.4337807631],[1434412800000,0.3908456312],[1434499200000,0.4111694503],[1434585600000,0.3539738682],[1434672000000,0.2733760991],[1435017600000,0.3143038385],[1435104000000,0.3401280777],[1435190400000,0.2924531929],[1435276800000,0.1907572071],[1435536000000,0.1510377478],[1435622400000,0.2283264773],[1435708800000,0.1679179688],[1435795200000,0.128094158],[1435881600000,0.0671089704],[1436140800000,0.0980354465],[1436227200000,0.0786645211],[1436313600000,0.0059040955],[1436400000000,0.0703246429],[1436486400000,0.1276987209],[1436745600000,0.156601328],[1436832000000,0.1292337857],[1436918400000,0.0893083695],[1437004800000,0.0977114078],[1437091200000,0.1400396536],[1437350400000,0.1425413424],[1437436800000,0.1440242315],[1437523200000,0.141593941],[1437609600000,0.1673110827],[1437696000000,0.1468444669],[1437955200000,0.0486579854],[1438041600000,0.0465599719],[1438128000000,0.0793180907],[1438214400000,0.0477462832],[1438300800000,0.0481005289],[1438560000000,0.0515441269],[1438646400000,0.0842006404],[1438732800000,0.0618859054],[1438819200000,0.0522608567],[1438905600000,0.0728839996],[1439164800000,0.121602399],[1439251200000,0.1167445641],[1439337600000,0.1028658205],[1439424000000,0.119158378],[1439510400000,0.1186311286],[1439769600000,0.119820186],[1439856000000,0.0504923741],[1439942400000,0.0671693844],[1440028800000,0.0329283765],[1440115200000,-0.0142796729],[1440374400000,-0.1005096745],[1440460800000,-0.1643837497],[1440547200000,-0.1691180105],[1440633600000,-0.1197021041],[1440720000000,-0.0821767714],[1440979200000,-0.0755175008],[1441065600000,-0.0767422574],[1441152000000,-0.0757124733],[1441584000000,-0.1073858862],[1441670400000,-0.0844477886],[1441756800000,-0.0665213069],[1441843200000,-0.0779834905],[1441929600000,-0.0808311868],[1442188800000,-0.0989718636],[1442275200000,-0.1343689758],[1442361600000,-0.0912498558],[1442448000000,-0.1110903629],[1442534400000,-0.1071716911],[1442793600000,-0.0915244649],[1442880000000,-0.083071997],[1442966400000,-0.1039422882],[1443052800000,-0.0979091264],[1443139200000,-0.1124771388],[1443398400000,-0.1095113606],[1443484800000,-0.1270588817],[1443571200000,-0.1204408025],[1444262400000,-0.094756614],[1444348800000,-0.0827726731],[1444608000000,-0.0532329729],[1444694400000,-0.053960687],[1444780800000,-0.064651219],[1444867200000,-0.0424902651],[1444953600000,-0.0295149854],[1445212800000,-0.0294820323],[1445299200000,-0.0175310446],[1445385600000,-0.0462139644],[1445472000000,-0.0321320101],[1445558400000,-0.0193050193],[1445817600000,-0.0143565634],[1445904000000,-0.0133624785],[1445990400000,-0.0320249125],[1446076800000,-0.0297209422],[1446163200000,-0.0295094932],[1446422400000,-0.0454697738],[1446508800000,-0.048344931],[1446595200000,-0.0035699182],[1446681600000,0.0176930639],[1446768000000,0.0416938987],[1447027200000,0.054595034],[1447113600000,0.0526425633],[1447200000000,0.052755153],[1447286400000,0.0422293865],[1447372800000,0.0287515721],[1447632000000,0.0336643288],[1447718400000,0.0320880726],[1447804800000,0.0203320573],[1447891200000,0.0366410914],[1447977600000,0.036479072],[1448236800000,0.0306985506],[1448323200000,0.0308523317],[1448409600000,0.0384644958],[1448496000000,0.0323736661],[1448582400000,-0.0232181989],[1448841600000,-0.0206313812],[1448928000000,-0.0136865172],[1449014400000,0.0220840633],[1449100800000,0.029591876],[1449187200000,0.0098996578],[1449446400000,0.012651241],[1449532800000,-0.0050857604],[1449619200000,-0.0015378109],[1449705600000,-0.0050692839],[1449792000000,-0.0091939125],[1450051200000,0.0191622226],[1450137600000,0.0145130906],[1450224000000,0.0120553392],[1450310400000,0.0314015499],[1450396800000,0.0347023512],[1450656000000,0.061630519],[1450742400000,0.0645853128],[1450828800000,0.0617431087],[1450915200000,0.0515880644],[1451001600000,0.0540046244],[1451260800000,0.0236410969],[1451347200000,0.0330464584],[1451433600000,0.0339526684],[1451520000000,0.0245665295],[1451865600000,-0.0469938542],[1451952000000,-0.0446953761],[1452038400000,-0.0279359831],[1452124800000,-0.0953332931],[1452211200000,-0.0768850541],[1452470400000,-0.123324198],[1452556800000,-0.1169367905],[1452643200000,-0.1333666526],[1452729600000,-0.1153275812],[1452816000000,-0.1435683804],[1453075200000,-0.1402730713],[1453161600000,-0.1149019371],[1453248000000,-0.1282863843],[1453334400000,-0.1538360144],[1453420800000,-0.1450155703],[1453680000000,-0.140778352],[1453766400000,-0.1925092131],[1453852800000,-0.1952992415],[1453939200000,-0.216331552],[1454025600000,-0.1909768944],[1454284800000,-0.203345288],[1454371200000,-0.1867918518],[1454457600000,-0.1902766412],[1454544000000,-0.1803577607],[1454630400000,-0.1861163134],[1455494400000,-0.1908066368],[1455580800000,-0.1660039434],[1455667200000,-0.1587844703],[1455753600000,-0.1614262098],[1455840000000,-0.1620083811],[1456099200000,-0.1435299351],[1456185600000,-0.1516336495],[1456272000000,-0.146092038],[1456358400000,-0.198484707],[1456444800000,-0.1904441527],[1456704000000,-0.2098205704],[1456790400000,-0.1952058744],[1456876800000,-0.1620770333],[1456963200000,-0.1601300549],[1457049600000,-0.1503896703],[1457308800000,-0.1473827007],[1457395200000,-0.146605557],[1457481600000,-0.1564255782],[1457568000000,-0.1725616086],[1457654400000,-0.1711528639],[1457913600000,-0.1581336468],[1458000000000,-0.1556374501],[1458086400000,-0.1514496614],[1458172800000,-0.1420662687],[1458259200000,-0.1289509383],[1458518400000,-0.1076742257],[1458604800000,-0.1141687308],[1458691200000,-0.1113402571],[1458777600000,-0.1262350544],[1458864000000,-0.1218495472],[1459123200000,-0.1295633166],[1459209600000,-0.1389879007],[1459296000000,-0.1167830094],[1459382400000,-0.1162832208],[1459468800000,-0.1152369602],[1459814400000,-0.1035413589],[1459900800000,-0.1054526382],[1459987200000,-0.1186997809],[1460073600000,-0.1251695711],[1460332800000,-0.1129851656],[1460419200000,-0.1161843616],[1460505600000,-0.1043953932],[1460592000000,-0.1004272918],[1460678400000,-0.1014213767],[1460937600000,-0.1134382706],[1461024000000,-0.110733371],[1461110400000,-0.1264602339],[1461196800000,-0.1320704976],[1461283200000,-0.1281435876],[1461542400000,-0.1316778066],[1461628800000,-0.1269737529],[1461715200000,-0.1306095773],[1461801600000,-0.1320759898],[1461888000000,-0.1331277427],[1462233600000,-0.1175326922],[1462320000000,-0.1186530973],[1462406400000,-0.1174283408],[1462492800000,-0.1403774227],[1462752000000,-0.1581556155],[1462838400000,-0.1571944837],[1462924800000,-0.1534323391],[1463011200000,-0.1514194544],[1463097600000,-0.1555935126],[1463356800000,-0.1499997254],[1463443200000,-0.1525508439],[1463529600000,-0.1574910615],[1463616000000,-0.1590096498],[1463702400000,-0.1546927948],[1463961600000,-0.152221313],[1464048000000,-0.1587213102],[1464134400000,-0.1599076215],[1464220800000,-0.1585400682],[1464307200000,-0.1590096498],[1464566400000,-0.1578535455],[1464652800000,-0.1296100002],[1464739200000,-0.1320842281],[1464825600000,-0.1302855385],[1464912000000,-0.1241837245],[1465171200000,-0.1270753582],[1465257600000,-0.1275531781],[1465344000000,-0.1311395728],[1465776000000,-0.1579551508],[1465862400000,-0.1553079192],[1465948800000,-0.1442164579],[1466035200000,-0.1501754752],[1466121600000,-0.1458668585],[1466380800000,-0.1452325115],[1466467200000,-0.1469762793],[1466553600000,-0.1393860839],[1466640000000,-0.1439555792],[1466726400000,-0.1549838804],[1466985600000,-0.143071338],[1467072000000,-0.1387160377],[1467158400000,-0.1345996474],[1467244800000,-0.1339048864],[1467331200000,-0.1338279958],[1467590400000,-0.1199602366],[1467676800000,-0.1192242842],[1467763200000,-0.1166374666],[1467849600000,-0.1185185389],[1467936000000,-0.1233708816],[1468195200000,-0.1203364511],[1468281600000,-0.1011550058],[1468368000000,-0.0984940437],[1468454400000,-0.1001719053],[1468540800000,-0.1003037177],[1468800000000,-0.1042196433],[1468886400000,-0.1080065027],[1468972800000,-0.1109255974],[1469059200000,-0.1068284297],[1469145600000,-0.1143417345],[1469404800000,-0.1127682244],[1469491200000,-0.1021408525],[1469577600000,-0.1162420295],[1469664000000,-0.1154456631],[1469750400000,-0.1201716856],[1470009600000,-0.1276190842],[1470096000000,-0.1242578689],[1470182400000,-0.1230331124],[1470268800000,-0.1208966536],[1470355200000,-0.1198476469],[1470614400000,-0.1118647605],[1470700800000,-0.1056036732],[1470787200000,-0.1093493412],[1470873600000,-0.11208994],[1470960000000,-0.0953744844],[1471219200000,-0.0681360084],[1471305600000,-0.0723018283],[1471392000000,-0.0737297956],[1471478400000,-0.0760804495],[1471564800000,-0.0759349067],[1471824000000,-0.0836871214],[1471910400000,-0.0823030915],[1471996800000,-0.0855901624],[1472083200000,-0.0913267464],[1472169600000,-0.0918430115],[1472428800000,-0.0916535312],[1472515200000,-0.0904974269],[1472601600000,-0.0861586032],[1472688000000,-0.0933561076],[1472774400000,-0.0899152556],[1473033600000,-0.088385683],[1473120000000,-0.0820861504],[1473206400000,-0.0825804467],[1473292800000,-0.0829264542],[1473379200000,-0.0888360419],[1473638400000,-0.1040603701],[1473724800000,-0.1046837327],[1473811200000,-0.1106152891],[1474243200000,-0.1039175733],[1474329600000,-0.1054883374],[1474416000000,-0.1029509493],[1474502400000,-0.0962285187],[1474588800000,-0.1004712292],[1474848000000,-0.1156818269],[1474934400000,-0.1100605788],[1475020800000,-0.1127682244],[1475107200000,-0.1090610017],[1475193600000,-0.1066197268],[1476057600000,-0.0954733437],[1476144000000,-0.0919885543],[1476230400000,-0.0937872439],[1476316800000,-0.0930622759],[1476403200000,-0.0921835267],[1476662400000,-0.0998643431],[1476748800000,-0.087932578],[1476835200000,-0.0893303383],[1476921600000,-0.0886822608],[1477008000000,-0.0861723337],[1477267200000,-0.0752319074],[1477353600000,-0.0752676066],[1477440000000,-0.0787414116],[1477526400000,-0.0812403544],[1477612800000,-0.082769927],[1477872000000,-0.083827172],[1477958400000,-0.077574323],[1478044800000,-0.0846317767],[1478131200000,-0.0759184301],[1478217600000,-0.0789144153],[1478476800000,-0.0782498613],[1478563200000,-0.0742597912],[1478649600000,-0.0792219775],[1478736000000,-0.0689076599],[1478822400000,-0.061600312],[1479081600000,-0.0580221555],[1479168000000,-0.0581265069],[1479254400000,-0.0582033975],[1479340800000,-0.0562976104],[1479427200000,-0.0615344058],[1479686400000,-0.0550399007],[1479772800000,-0.0475568029],[1479859200000,-0.045807543],[1479945600000,-0.0419602696],[1480032000000,-0.0330189975],[1480291200000,-0.0292348841],[1480377600000,-0.0212822048],[1480464000000,-0.0284330256],[1480550400000,-0.0210075957],[1480636800000,-0.0309182379],[1480896000000,-0.0472684633],[1480982400000,-0.0500859526],[1481068800000,-0.0455274417],[1481155200000,-0.0470679987],[1481241600000,-0.0405982085],[1481500800000,-0.0638081691],[1481587200000,-0.0649450507],[1481673600000,-0.072109602],[1481760000000,-0.0826875443],[1481846400000,-0.0811497334],[1482105600000,-0.0858318184],[1482192000000,-0.0913020316],[1482278400000,-0.0832065555],[1482364800000,-0.0839946836],[1482451200000,-0.0917029608],[1482710400000,-0.0876387462],[1482796800000,-0.0892891469],[1482883200000,-0.0932709788],[1482969600000,-0.0944051143],[1483056000000,-0.0910219303],[1483401600000,-0.0821932479],[1483488000000,-0.0750314427],[1483574400000,-0.0751742395],[1483660800000,-0.0806993744],[1483920000000,-0.0762424688],[1484006400000,-0.077788518],[1484092800000,-0.0843159762],[1484179200000,-0.0889513777],[1484265600000,-0.0883225229],[1484524800000,-0.0884488431],[1484611200000,-0.0865512942],[1484697600000,-0.0829786299],[1484784000000,-0.0857466896],[1484870400000,-0.0787166968],[1485129600000,-0.0761930392],[1485216000000,-0.0760914338],[1485302400000,-0.0729471597],[1485388800000,-0.069635374],[1486080000000,-0.0760804495],[1486339200000,-0.0736858582],[1486425600000,-0.0757536647],[1486512000000,-0.0709177985],[1486598400000,-0.0673478803],[1486684800000,-0.0626246039],[1486944000000,-0.0563690087],[1487030400000,-0.056498075],[1487116800000,-0.0603673171],[1487203200000,-0.0550893303],[1487289600000,-0.0604414616],[1487548800000,-0.0467247373],[1487635200000,-0.0435859554],[1487721600000,-0.0416801683],[1487808000000,-0.0461947418],[1487894400000,-0.046049199],[1488153600000,-0.0536366482],[1488240000000,-0.0518269743],[1488326400000,-0.0502809251],[1488412800000,-0.0566903014],[1488499200000,-0.0586784712],[1488758400000,-0.0535652499],[1488844800000,-0.0515111738],[1488931200000,-0.0529473794],[1489017600000,-0.0589311116],[1489104000000,-0.0586702329],[1489363200000,-0.0503742922],[1489449600000,-0.050761491],[1489536000000,-0.0488529578],[1489622400000,-0.0439456933],[1489708800000,-0.053749238],[1489968000000,-0.0527057234],[1490054400000,-0.0481087672],[1490140800000,-0.0525848954],[1490227200000,-0.0493088089],[1490313600000,-0.0417241057],[1490572800000,-0.0448985869],[1490659200000,-0.0471586197],[1490745600000,-0.0484273137],[1490832000000,-0.0562344503],[1490918400000,-0.0509372408],[1491350400000,-0.0377999418],[1491436800000,-0.0350099134],[1491523200000,-0.0340734964],[1491782400000,-0.0374566804],[1491868800000,-0.0341091956],[1491955200000,-0.0362758613],[1492041600000,-0.0348671167],[1492128000000,-0.0425753939],[1492387200000,-0.0443768296],[1492473600000,-0.049100106],[1492560000000,-0.0537300153],[1492646400000,-0.0494268908],[1492732800000,-0.0479879392],[1492992000000,-0.0577448003],[1493078400000,-0.055078346],[1493164800000,-0.0539222417],[1493251200000,-0.0534993437],[1493337600000,-0.0554133691],[1493683200000,-0.0590299708],[1493769600000,-0.0627234632],[1493856000000,-0.0651235466],[1493942400000,-0.0711210092],[1494201600000,-0.0776402291],[1494288000000,-0.0793647742],[1494374400000,-0.0834372271],[1494460800000,-0.0782333848],[1494547200000,-0.0703438655],[1494806400000,-0.0665515139],[1494892800000,-0.05846153],[1494979200000,-0.0635912279],[1495065600000,-0.0668480917],[1495152000000,-0.0652718355],[1495411200000,-0.0632424743],[1495497600000,-0.0596862866],[1495584000000,-0.0596917788],[1495670400000,-0.0428060656],[1495756800000,-0.0442422711],[1496188800000,-0.0408233879],[1496275200000,-0.0394887877],[1496361600000,-0.0425726478],[1496620800000,-0.0474497053],[1496707200000,-0.0408233879],[1496793600000,-0.0295671611],[1496880000000,-0.0221225086],[1496966400000,-0.0179511965],[1497225600000,-0.0184400007],[1497312000000,-0.016276081],[1497398400000,-0.0291744701],[1497484800000,-0.0309621753],[1497571200000,-0.0337165046],[1497830400000,-0.0241299011],[1497916800000,-0.0261015944],[1498003200000,-0.0147135553],[1498089600000,-0.0140599856],[1498176000000,-0.0051242057],[1498435200000,0.0072908714],[1498521600000,0.0091115297],[1498608000000,0.0012714401],[1498694400000,0.0074940822],[1498780800000,0.0069366257],[1499040000000,0.0025566107],[1499126400000,-0.0059205721],[1499212800000,0.004981409],[1499299200000,0.0050967448],[1499385600000,0.0039516249],[1499644800000,0.0033365005],[1499731200000,0.0080378082],[1499817600000,0.0047452451],[1499904000000,0.0124617607],[1499990400000,0.0169021897],[1500249600000,0.0060468922],[1500336000000,0.0070409772],[1500422400000,0.0242232682],[1500508800000,0.0292019311],[1500595200000,0.0239074677],[1500854400000,0.0279909049],[1500940800000,0.0214250015],[1501027200000,0.0175337906],[1501113600000,0.0194011325],[1501200000000,0.0220648407],[1501459200000,0.026453094],[1501545600000,0.0353806357],[1501632000000,0.032763611],[1501718400000,0.0236960187],[1501804800000,0.0181351846],[1502064000000,0.0234104253],[1502150400000,0.0248988065],[1502236800000,0.0245775139],[1502323200000,0.0204254244],[1502409600000,0.0015954788],[1502668800000,0.0145927273],[1502755200000,0.0177177787],[1502841600000,0.0164435925],[1502928000000,0.0218973292],[1503014400000,0.022828254],[1503273600000,0.0273098744],[1503360000000,0.0304157032],[1503446400000,0.0314564717],[1503532800000,0.0255688527],[1503619200000,0.0423474684],[1503878400000,0.0552431114],[1503964800000,0.0529995551],[1504051200000,0.052933649],[1504137600000,0.0495806719],[1504224000000,0.0519011188],[1504483200000,0.0560422239],[1504569600000,0.0591810058],[1504656000000,0.0570939767],[1504742400000,0.0517171307],[1504828800000,0.0506516474],[1505088000000,0.0505582803],[1505174400000,0.05393048],[1505260800000,0.0552156505],[1505347200000,0.0517418455],[1505433600000,0.0521098217],[1505692800000,0.0553611933],[1505779200000,0.0523350011],[1505865600000,0.055168967],[1505952000000,0.053900273],[1506038400000,0.0538755581],[1506297600000,0.0483998528],[1506384000000,0.049220934],[1506470400000,0.0493362698],[1506556800000,0.049704246],[1506643200000,0.053537789],[1507507200000,0.0660901706],[1507593600000,0.0681909302],[1507680000000,0.0717141649],[1507766400000,0.0745316542],[1507852800000,0.0767422574],[1508112000000,0.0746689587],[1508198400000,0.0745646073],[1508284800000,0.083102204],[1508371200000,0.0795570006],[1508457600000,0.0783487206],[1508716800000,0.0794334265],[1508803200000,0.0872872466],[1508889600000,0.0921066362],[1508976000000,0.0966733854],[1509062400000,0.1044695376],[1509321600000,0.1011055762],[1509408000000,0.1002817489],[1509494400000,0.0975081971],[1509580800000,0.0976482477],[1509667200000,0.0964317294],[1509926400000,0.1041729598],[1510012800000,0.1133339192],[1510099200000,0.1116203584],[1510185600000,0.1192792061],[1510272000000,0.1291678795],[1510531200000,0.1336055625],[1510617600000,0.1257187893],[1510704000000,0.1186668278],[1510790400000,0.1272730768],[1510876800000,0.1316228848],[1511136000000,0.1379334018],[1511222400000,0.1582187756],[1511308800000,0.1609291673],[1511395200000,0.126556347],[1511481600000,0.1270506434],[1511740800000,0.1121531001],[1511827200000,0.1137650554],[1511913600000,0.1131966146],[1512000000000,0.1001114913],[1512086400000,0.0979256029],[1512345600000,0.1036155033],[1512432000000,0.1094674231],[1512518400000,0.1027806917],[1512604800000,0.0904891886],[1512691200000,0.0993645546],[1512950400000,0.1175217078],[1513036800000,0.1028356135],[1513123200000,0.1121915453],[1513209600000,0.1056174036],[1513296000000,0.0931803578],[1513555200000,0.094396876],[1513641600000,0.1081383151],[1513728000000,0.1068092071],[1513814400000,0.1170686028],[1513900800000,0.1134300323],[1514160000000,0.1098436376],[1514246400000,0.1131609154],[1514332800000,0.0960225619],[1514419200000,0.1036264877],[1514505600000,0.1069080664],[1514851200000,0.1224372106],[1514937600000,0.1290250828],[1515024000000,0.1338087732],[1515110400000,0.1365383876],[1515369600000,0.1424177683],[1515456000000,0.1504198773],[1515542400000,0.1555028916],[1515628800000,0.1548932594],[1515715200000,0.160223422],[1515974400000,0.1602893281],[1516060800000,0.1694145883],[1516147200000,0.1665723842],[1516233600000,0.1729707761],[1516320000000,0.1768098112],[1516579200000,0.1908697968],[1516665600000,0.2035045613],[1516752000000,0.2055037155],[1516838400000,0.1986906638],[1516924800000,0.2031448233],[1517184000000,0.1813738144],[1517270400000,0.1687637648],[1517356800000,0.1742010248],[1517443200000,0.165962752],[1517529600000,0.1729186004],[1517788800000,0.1737204589],[1517875200000,0.1393229238],[1517961600000,0.1123041351],[1518048000000,0.1017454154],[1518134400000,0.0546774167],[1518393600000,0.0682568364],[1518480000000,0.0807597884],[1518566400000,0.0893632914],[1519257600000,0.1129165133],[1519344000000,0.1179583363],[1519603200000,0.1309555847],[1519689600000,0.1146328202],[1519776000000,0.1049281348],[1519862400000,0.1119169362],[1519948800000,0.1029564415],[1520208000000,0.1034068004],[1520294400000,0.1167143571],[1520380800000,0.1085007991],[1520467200000,0.1197460415],[1520553600000,0.1283330679],[1520812800000,0.1334957188],[1520899200000,0.1234944556],[1520985600000,0.1185762068],[1521072000000,0.1248427863],[1521158400000,0.1139298209],[1521417600000,0.118826101],[1521504000000,0.1197735024],[1521590400000,0.115201261],[1521676800000,0.1040246709],[1521763200000,0.0723320353],[1522022400000,0.0654530775],[1522108800000,0.0746195291],[1522195200000,0.0552458575],[1522281600000,0.0693415423],[1522368000000,0.0705635528],[1522627200000,0.0673835795],[1522713600000,0.0606721332],[1522800000000,0.0585796119],[1523232000000,0.0580496164],[1523318400000,0.0784365955],[1523404800000,0.0815039791],[1523491200000,0.0706019981],[1523577600000,0.063050248],[1523836800000,0.0459475936],[1523923200000,0.029410634],[1524009600000,0.0342547384],[1524096000000,0.0467659287],[1524182400000,0.032763611],[1524441600000,0.0342684688],[1524528000000,0.0554573065],[1524614400000,0.051395838],[1524700800000,0.0312917063],[1524787200000,0.0316734129],[1525219200000,0.0335325165],[1525305600000,0.0415922934],[1525392000000,0.036539486],[1525651200000,0.052903442],[1525737600000,0.0651208005],[1525824000000,0.0631820603],[1525910400000,0.0690696793],[1525996800000,0.0635170834],[1526256000000,0.0735265849],[1526342400000,0.0775935456],[1526428800000,0.0690092653],[1526515200000,0.0611032695],[1526601600000,0.0718157703],[1526860800000,0.0768081636],[1526947200000,0.0726807889],[1527033600000,0.0585027214],[1527120000000,0.0509894166],[1527206400000,0.0480456071],[1527465600000,0.0526480555],[1527552000000,0.0446157395],[1527638400000,0.0224712622],[1527724800000,0.0441681267],[1527811200000,0.0354383036],[1528070400000,0.045596094],[1528156800000,0.0559598412],[1528243200000,0.0537712067],[1528329600000,0.052030185],[1528416000000,0.0379180237],[1528675200000,0.038016883],[1528761600000,0.050640663],[1528848000000,0.040312615],[1528934400000,0.0362017169],[1529020800000,0.0307260115],[1529366400000,-0.0056075177],[1529452800000,-0.0016751155],[1529539200000,-0.0133377637],[1529625600000,-0.0089632408],[1529884800000,-0.0222598132],[1529971200000,-0.0303250822],[1530057600000,-0.0500557456],[1530144000000,-0.0598675286],[1530230400000,-0.0358529633],[1530489600000,-0.0641431922],[1530576000000,-0.0637807082],[1530662400000,-0.0762836602],[1530748800000,-0.08213558],[1530835200000,-0.0759074458],[1531094400000,-0.0500777144],[1531180800000,-0.0477874745],[1531267200000,-0.0642612741],[1531353600000,-0.0440692674],[1531440000000,-0.0408755636],[1531699200000,-0.046532511],[1531785600000,-0.0527688835],[1531872000000,-0.0577283237],[1531958400000,-0.0585466588],[1532044800000,-0.0408206418],[1532304000000,-0.031796987],[1532390400000,-0.0164298621],[1532476800000,-0.0175173141],[1532563200000,-0.0289135915],[1532649600000,-0.0330382201],[1532908800000,-0.034727066],[1532995200000,-0.0340185746],[1533081600000,-0.0533153556]]}],\"xAxis\":{\"title\":{\"text\":\"date\"},\"type\":\"datetime\"},\"yAxis\":[{}]});</script>"
      ],
      "text/plain": [
       "<IPython.core.display.HTML object>"
      ]
     },
     "metadata": {},
     "output_type": "display_data"
    }
   ],
   "source": [
    "df = show_df.dropna(how='any', inplace=False).copy()\n",
    "# df.drop(columns=['open', 'high', 'low', 'o_pct_chg', 'TR', 'N'], inplace=True)\n",
    "df = df.loc[start_date:end_date]\n",
    "df.columns\n",
    "\n",
    "show_columns = ['close']\n",
    "df['close'] = (df['close'] - df.iloc[0]['close']) / df.iloc[0]['close']\n",
    "for col in sorted(df.columns):\n",
    "    if 'PROPERTY' in col:\n",
    "        df[col] = (df[col] - df.iloc[1][col]) / df.iloc[0][col]\n",
    "        show_columns.append(col)\n",
    "    if 'CASH' in col:\n",
    "        df[col] = df[col] / df.iloc[0][col]\n",
    "        show_columns.append(col)\n",
    "\n",
    "# df = df.loc[:, ['close', 'CASH_TURTLE_20_60_60', 'PROPERTY_TURTLE_20_60_60']]\n",
    "df = df.loc[:, show_columns]\n",
    "df.reset_index(drop=False, inplace=True)\n",
    "# df.dtypes\n",
    "# df.iloc[0].date\n",
    "# df.iloc[0].date.to_timestamp()\n",
    "# df.iloc[0].date.to_timestamp().to_datetime64()\n",
    "df['date'] = df['date'].apply(lambda x: x.to_timestamp().to_datetime64())\n",
    "# df.iloc[0].date\n",
    "df.set_index(keys=['date'], inplace=True)\n",
    "# df\n",
    "\n",
    "display_charts(df, chart_type='stock', figsize=(900, 600), logy=False)"
   ]
  }
 ],
 "metadata": {
  "kernelspec": {
   "display_name": "Python 3",
   "language": "python",
   "name": "python3"
  },
  "language_info": {
   "codemirror_mode": {
    "name": "ipython",
    "version": 3
   },
   "file_extension": ".py",
   "mimetype": "text/x-python",
   "name": "python",
   "nbconvert_exporter": "python",
   "pygments_lexer": "ipython3",
   "version": "3.6.5"
  }
 },
 "nbformat": 4,
 "nbformat_minor": 2
}
