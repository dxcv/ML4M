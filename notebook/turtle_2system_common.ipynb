{
 "cells": [
  {
   "cell_type": "code",
   "execution_count": 1,
   "metadata": {
    "scrolled": false
   },
   "outputs": [
    {
     "data": {
      "text/html": [
       "\n",
       "<script src=\"https://code.jquery.com/jquery-3.1.1.min.js\"></script>\n",
       "<script src=\"https://code.highcharts.com/stock/highstock.js\"></script>\n",
       "<script src=\"https://code.highcharts.com/stock/modules/exporting.js\"></script>\n",
       "<script src=\"https://code.highcharts.com/stock/modules/export-data.js\"></script>\n"
      ],
      "text/plain": [
       "<IPython.core.display.HTML object>"
      ]
     },
     "metadata": {},
     "output_type": "display_data"
    },
    {
     "data": {
      "text/plain": [
       "<module 'pandas' from 'd:\\\\python3\\\\lib\\\\site-packages\\\\pandas\\\\__init__.py'>"
      ]
     },
     "execution_count": 1,
     "metadata": {},
     "output_type": "execute_result"
    }
   ],
   "source": [
    "import os\n",
    "import sys\n",
    "sys.path.append(os.path.abspath(os.path.join(os.getcwd(), '..')))\n",
    "\n",
    "import pandas as pd\n",
    "pd.core.common.is_list_like = pd.api.types.is_list_like\n",
    "try:\n",
    "    import empyrical as emp\n",
    "except:\n",
    "    emp = None\n",
    "import tushare as ts\n",
    "import time\n",
    "import random\n",
    "# from concurrent.futures import ProcessPoolExecutor\n",
    "\n",
    "from common.log import *\n",
    "from common.config import Config\n",
    "from spider.spider_nasdaq import Spider_nasdaq\n",
    "from spider.spider_coinmarketcap import Spider_coinmarketcap\n",
    "\n",
    "from IPython.core.interactiveshell import InteractiveShell\n",
    "InteractiveShell.ast_node_interactivity = 'all'\n",
    "\n",
    "import pandas_highcharts\n",
    "from pandas_highcharts.core import serialize\n",
    "from pandas_highcharts.display import display_charts\n",
    "\n",
    "CONF = Config().data[0]\n",
    "MONGODB = CONF['MONGODB']\n",
    "NASDAQ = CONF['NASDAQ']\n",
    "CRYPTOCURRENCY = CONF['CRYPTOCURRENCY']\n",
    "CRYPTOCURRENCY = list(CRYPTOCURRENCY.keys())\n",
    "NASDAQ100 = CONF['NASDAQ100']\n",
    "HS300 = list(ts.get_hs300s()['code'])\n",
    "\n",
    "BENCHMARK = '399300'\n",
    "# TARGET = ['399300']\n",
    "TARGET = HS300\n",
    "# BENCHMARK = 'NDX'\n",
    "# TARGET = NASDAQ100\n",
    "# BENCHMARK = 'BITCOIN'\n",
    "# TARGET = CRYPTOCURRENCY\n",
    "# BENCHMARK = 'EOS'\n",
    "# TARGET = ['EOS']\n",
    "\n",
    "ALL_TARGET = TARGET[:]\n",
    "\n",
    "pd"
   ]
  },
  {
   "cell_type": "code",
   "execution_count": 2,
   "metadata": {
    "scrolled": false
   },
   "outputs": [
    {
     "name": "stdout",
     "output_type": "stream",
     "text": [
      "Wall time: 0 ns\n"
     ]
    }
   ],
   "source": [
    "%%time\n",
    "\n",
    "IS_DOWNLOAD_DATA = False\n",
    "spider_n = Spider_nasdaq()\n",
    "spider_c = Spider_coinmarketcap()\n",
    "timeframe = '10y'\n",
    "ignore = True\n",
    "\n",
    "for symbol in TARGET + [BENCHMARK]:\n",
    "    if not IS_DOWNLOAD_DATA:\n",
    "        break\n",
    "\n",
    "    # 沪深300指数\n",
    "    if symbol == '399300':\n",
    "        df = ts.get_k_data(code=symbol, index=True, start='2005-01-01', end=time.strftime('%Y-%m-%d'))\n",
    "        datafile = '../database/market/%s.csv' % symbol\n",
    "        df.to_csv(datafile, index=False, encoding='utf-8')\n",
    "        \n",
    "    # A股\n",
    "    elif symbol in HS300:\n",
    "        df = ts.get_k_data(code=symbol, ktype='D', autype='qfq', index=False, start='2005-01-01', end=time.strftime('%Y-%m-%d'))\n",
    "        datafile = '../database/market/%s.csv' % symbol\n",
    "        df.to_csv(datafile, index=False, encoding='utf-8')\n",
    "        \n",
    "    # NASDAQ\n",
    "    elif symbol in NASDAQ100:\n",
    "        datafile = None\n",
    "        while datafile is None:\n",
    "            try:\n",
    "                datafile = spider_n.get_stock_data(symbol, timeframe)\n",
    "            except:\n",
    "                time.sleep(5)\n",
    "    \n",
    "    # CRYPTOCURRENCY\n",
    "    elif symbol in CRYPTOCURRENCY:\n",
    "        datafile = spider_c.get_coin_data(symbol, start_date='20100101', end_date=time.strftime('%Y%m%d'))\n",
    "        \n",
    "    print(datafile)\n",
    "    time.sleep(1)"
   ]
  },
  {
   "cell_type": "code",
   "execution_count": 3,
   "metadata": {},
   "outputs": [
    {
     "name": "stdout",
     "output_type": "stream",
     "text": [
      "Wall time: 0 ns\n"
     ]
    }
   ],
   "source": [
    "%%time\n",
    "\n",
    "### 时间设置\n",
    "start_date = '2005-01-01'\n",
    "# start_date = '2006-01-01'\n",
    "# start_date = '2007-01-01'\n",
    "# start_date = '2008-01-01'\n",
    "# start_date = '2009-01-01'\n",
    "# start_date = '2010-01-01'\n",
    "# start_date = '2011-01-01'\n",
    "# start_date = '2012-01-01'\n",
    "# start_date = '2013-01-01'\n",
    "# start_date = '2014-01-01'\n",
    "# start_date = '2015-01-01'\n",
    "# start_date = '2015-07-01'\n",
    "# start_date = '2016-01-01'\n",
    "# start_date = '2017-01-01'\n",
    "# start_date = '2018-01-01'\n",
    "# start_date = '2018-07-20'\n",
    "# end_date = '2016-01-01'\n",
    "end_date = '2018-08-01'\n",
    "# end_date = time.strftime('%Y-%m-%d')\n",
    "\n",
    "TURTLE_POS = 20\n",
    "### Turtle System One - Short\n",
    "TURTLE_SHORT_BUY_N = 20\n",
    "TURTLE_SHORT_SELL_N = 20\n",
    "### Turtle System Two - Long\n",
    "TURTLE_LONG_BUY_N = 60\n",
    "TURTLE_LONG_SELL_N = 60\n",
    "\n",
    "### 业务设置\n",
    "IS_HAPPYMONEY = False\n",
    "IS_TAX = False\n",
    "IS_SLIPPAGE = False\n",
    "IS_RANDOM_BUY = False\n",
    "IS_FILTER = False\n",
    "IS_MARKETUP = False\n",
    "IS_BUYBENCHMARK = True\n",
    "IS_SHOWBUYLIST = True\n",
    "START_MONEY = 100000\n",
    "HAPPY_MONEY = 0\n",
    "PROPERTY = START_MONEY\n",
    "CASH = START_MONEY\n"
   ]
  },
  {
   "cell_type": "code",
   "execution_count": 4,
   "metadata": {},
   "outputs": [
    {
     "name": "stdout",
     "output_type": "stream",
     "text": [
      "Wall time: 8.4 s\n"
     ]
    }
   ],
   "source": [
    "%%time\n",
    "\n",
    "stock_df_dict = {}\n",
    "\n",
    "for symbol in TARGET + [BENCHMARK]:\n",
    "    stock_data_file = '../database/market/%s.csv' % symbol\n",
    "    stock_df = pd.read_csv(stock_data_file)\n",
    "\n",
    "    # 筛选字段\n",
    "    stock_df = stock_df.loc[:, ['date', 'open', 'close']]\n",
    "\n",
    "    # 去掉Nasdaq行情首行的当天行情\n",
    "    if symbol in NASDAQ100:\n",
    "        stock_df = stock_df.drop([0])\n",
    "\n",
    "    # 抛弃空值异常值\n",
    "    stock_df.dropna(axis=0, how='any', inplace=True)\n",
    "\n",
    "    # 格式化日期\n",
    "    # 445 ms ± 17.5 ms per loop (mean ± std. dev. of 7 runs, 1 loop each)\n",
    "    stock_df = stock_df.assign(date=pd.to_datetime(stock_df['date']))  # need .index.to_period('D')\n",
    "\n",
    "    # 用日期作索引，日期升序排序\n",
    "    # 95.1 µs ± 1.58 µs per loop (mean ± std. dev. of 7 runs, 10000 loops each)\n",
    "    if symbol in NASDAQ100 or symbol in CRYPTOCURRENCY:\n",
    "        stock_df = stock_df[::-1]\n",
    "    stock_df.set_index(['date'], inplace=True)\n",
    "    stock_df.index = stock_df.index.to_period('D')\n",
    "\n",
    "    # 计算每天涨跌幅\n",
    "    stock_df['o_pct_chg'] = stock_df.open.pct_change(1)\n",
    "#     stock_df['pre_close'] = stock_df.close.shift(1)\n",
    "#     stock_df['c_o_pct_chg'] = (stock_df.open - stock_df.pre_close) / stock_df.pre_close\n",
    "    stock_df['c_o_pct_chg'] = (stock_df.open - stock_df.close.shift(1)) / stock_df.close.shift(1)\n",
    "    \n",
    "    # Turtle指标\n",
    "#     stock_df['TR1'] = abs(stock_df['high'] - stock_df['low'])\n",
    "#     stock_df['TR2'] = abs(stock_df['high'] - stock_df['close'].shift())\n",
    "#     stock_df['TR3'] = abs(stock_df['low'] - stock_df['close'].shift())\n",
    "#     stock_df['TR'] = stock_df[['TR1', 'TR2', 'TR3']].max(axis=1)\n",
    "#     stock_df['N'] = stock_df['TR'].rolling(20).mean()\n",
    "#     stock_df['UNIT'] = (0.01 * START_MONEY) / (stock_df['N'])\n",
    "#     stock_df['ROLLING_%d_MAX' % TURTLE_SHORT_BUY_N] = stock_df['open'].rolling(TURTLE_SHORT_BUY_N).max()\n",
    "#     stock_df['ROLLING_%d_MIN' % TURTLE_SHORT_SELL_N] = stock_df['open'].rolling(TURTLE_SHORT_SELL_N).min()\n",
    "    stock_df['ROLLING_%d_MAX' % TURTLE_LONG_BUY_N] = stock_df['open'].rolling(TURTLE_LONG_BUY_N).max()\n",
    "    stock_df['ROLLING_%d_MIN' % TURTLE_LONG_SELL_N] = stock_df['open'].rolling(TURTLE_LONG_SELL_N).min()\n",
    "#     stock_df['EWMA'] = stock_df['open'].ewm(alpha=0.1, adjust=False).mean()\n",
    "#     stock_df['MA360'] = stock_df['open'].rolling(360).mean()\n",
    "#     stock_df['MA250'] = stock_df['open'].rolling(250).mean()\n",
    "    stock_df['MA180'] = stock_df['open'].rolling(180).mean()\n",
    "    stock_df['MA90'] = stock_df['open'].rolling(90).mean()\n",
    "    stock_df['MA60'] = stock_df['open'].rolling(60).mean()\n",
    "    stock_df['MA30'] = stock_df['open'].rolling(30).mean()\n",
    "    \n",
    "    # 减少数据\n",
    "    # stock_df = stock_df['2016-01-01':]\n",
    "    stock_df.dropna(how='any', inplace=True)\n",
    "#     stock_df.drop(columns=['volume', 'TR1', 'TR2', 'TR3'], inplace=True)\n",
    "    \n",
    "    stock_df_dict[symbol] = stock_df"
   ]
  },
  {
   "cell_type": "code",
   "execution_count": 5,
   "metadata": {
    "scrolled": false
   },
   "outputs": [
    {
     "data": {
      "text/plain": [
       "'抽查数据'"
      ]
     },
     "execution_count": 5,
     "metadata": {},
     "output_type": "execute_result"
    },
    {
     "data": {
      "text/html": [
       "<div>\n",
       "<style scoped>\n",
       "    .dataframe tbody tr th:only-of-type {\n",
       "        vertical-align: middle;\n",
       "    }\n",
       "\n",
       "    .dataframe tbody tr th {\n",
       "        vertical-align: top;\n",
       "    }\n",
       "\n",
       "    .dataframe thead th {\n",
       "        text-align: right;\n",
       "    }\n",
       "</style>\n",
       "<table border=\"1\" class=\"dataframe\">\n",
       "  <thead>\n",
       "    <tr style=\"text-align: right;\">\n",
       "      <th></th>\n",
       "      <th>open</th>\n",
       "      <th>close</th>\n",
       "      <th>o_pct_chg</th>\n",
       "      <th>c_o_pct_chg</th>\n",
       "      <th>ROLLING_60_MAX</th>\n",
       "      <th>ROLLING_60_MIN</th>\n",
       "      <th>MA180</th>\n",
       "      <th>MA90</th>\n",
       "      <th>MA60</th>\n",
       "      <th>MA30</th>\n",
       "    </tr>\n",
       "    <tr>\n",
       "      <th>date</th>\n",
       "      <th></th>\n",
       "      <th></th>\n",
       "      <th></th>\n",
       "      <th></th>\n",
       "      <th></th>\n",
       "      <th></th>\n",
       "      <th></th>\n",
       "      <th></th>\n",
       "      <th></th>\n",
       "      <th></th>\n",
       "    </tr>\n",
       "  </thead>\n",
       "  <tbody>\n",
       "    <tr>\n",
       "      <th>2005-12-29</th>\n",
       "      <td>921.14</td>\n",
       "      <td>932.03</td>\n",
       "      <td>0.002274</td>\n",
       "      <td>0.000239</td>\n",
       "      <td>923.43</td>\n",
       "      <td>855.45</td>\n",
       "      <td>900.228556</td>\n",
       "      <td>904.796111</td>\n",
       "      <td>888.027833</td>\n",
       "      <td>887.838667</td>\n",
       "    </tr>\n",
       "    <tr>\n",
       "      <th>2005-12-30</th>\n",
       "      <td>933.45</td>\n",
       "      <td>923.45</td>\n",
       "      <td>0.013364</td>\n",
       "      <td>0.001524</td>\n",
       "      <td>933.45</td>\n",
       "      <td>855.45</td>\n",
       "      <td>899.944056</td>\n",
       "      <td>904.966778</td>\n",
       "      <td>888.308833</td>\n",
       "      <td>890.201000</td>\n",
       "    </tr>\n",
       "  </tbody>\n",
       "</table>\n",
       "</div>"
      ],
      "text/plain": [
       "              open   close  o_pct_chg  c_o_pct_chg  ROLLING_60_MAX  \\\n",
       "date                                                                 \n",
       "2005-12-29  921.14  932.03   0.002274     0.000239          923.43   \n",
       "2005-12-30  933.45  923.45   0.013364     0.001524          933.45   \n",
       "\n",
       "            ROLLING_60_MIN       MA180        MA90        MA60        MA30  \n",
       "date                                                                        \n",
       "2005-12-29          855.45  900.228556  904.796111  888.027833  887.838667  \n",
       "2005-12-30          855.45  899.944056  904.966778  888.308833  890.201000  "
      ]
     },
     "execution_count": 5,
     "metadata": {},
     "output_type": "execute_result"
    },
    {
     "data": {
      "text/html": [
       "<div>\n",
       "<style scoped>\n",
       "    .dataframe tbody tr th:only-of-type {\n",
       "        vertical-align: middle;\n",
       "    }\n",
       "\n",
       "    .dataframe tbody tr th {\n",
       "        vertical-align: top;\n",
       "    }\n",
       "\n",
       "    .dataframe thead th {\n",
       "        text-align: right;\n",
       "    }\n",
       "</style>\n",
       "<table border=\"1\" class=\"dataframe\">\n",
       "  <thead>\n",
       "    <tr style=\"text-align: right;\">\n",
       "      <th></th>\n",
       "      <th>open</th>\n",
       "      <th>close</th>\n",
       "      <th>o_pct_chg</th>\n",
       "      <th>c_o_pct_chg</th>\n",
       "      <th>ROLLING_60_MAX</th>\n",
       "      <th>ROLLING_60_MIN</th>\n",
       "      <th>MA180</th>\n",
       "      <th>MA90</th>\n",
       "      <th>MA60</th>\n",
       "      <th>MA30</th>\n",
       "    </tr>\n",
       "    <tr>\n",
       "      <th>date</th>\n",
       "      <th></th>\n",
       "      <th></th>\n",
       "      <th></th>\n",
       "      <th></th>\n",
       "      <th></th>\n",
       "      <th></th>\n",
       "      <th></th>\n",
       "      <th></th>\n",
       "      <th></th>\n",
       "      <th></th>\n",
       "    </tr>\n",
       "  </thead>\n",
       "  <tbody>\n",
       "    <tr>\n",
       "      <th>2018-07-31</th>\n",
       "      <td>3510.47</td>\n",
       "      <td>3517.66</td>\n",
       "      <td>-0.002948</td>\n",
       "      <td>-0.001311</td>\n",
       "      <td>3925.54</td>\n",
       "      <td>3347.06</td>\n",
       "      <td>3912.913889</td>\n",
       "      <td>3724.645000</td>\n",
       "      <td>3659.357000</td>\n",
       "      <td>3484.267667</td>\n",
       "    </tr>\n",
       "    <tr>\n",
       "      <th>2018-08-01</th>\n",
       "      <td>3530.03</td>\n",
       "      <td>3447.39</td>\n",
       "      <td>0.005572</td>\n",
       "      <td>0.003517</td>\n",
       "      <td>3925.54</td>\n",
       "      <td>3347.06</td>\n",
       "      <td>3910.178500</td>\n",
       "      <td>3718.345111</td>\n",
       "      <td>3654.280667</td>\n",
       "      <td>3481.850333</td>\n",
       "    </tr>\n",
       "  </tbody>\n",
       "</table>\n",
       "</div>"
      ],
      "text/plain": [
       "               open    close  o_pct_chg  c_o_pct_chg  ROLLING_60_MAX  \\\n",
       "date                                                                   \n",
       "2018-07-31  3510.47  3517.66  -0.002948    -0.001311         3925.54   \n",
       "2018-08-01  3530.03  3447.39   0.005572     0.003517         3925.54   \n",
       "\n",
       "            ROLLING_60_MIN        MA180         MA90         MA60         MA30  \n",
       "date                                                                            \n",
       "2018-07-31         3347.06  3912.913889  3724.645000  3659.357000  3484.267667  \n",
       "2018-08-01         3347.06  3910.178500  3718.345111  3654.280667  3481.850333  "
      ]
     },
     "execution_count": 5,
     "metadata": {},
     "output_type": "execute_result"
    },
    {
     "data": {
      "text/plain": [
       "Index(['open', 'close', 'o_pct_chg', 'c_o_pct_chg', 'ROLLING_60_MAX',\n",
       "       'ROLLING_60_MIN', 'MA180', 'MA90', 'MA60', 'MA30'],\n",
       "      dtype='object')"
      ]
     },
     "execution_count": 5,
     "metadata": {},
     "output_type": "execute_result"
    }
   ],
   "source": [
    "'''抽查数据'''\n",
    "\n",
    "stock_df_dict[BENCHMARK].head(2)\n",
    "stock_df_dict[BENCHMARK].tail(2)\n",
    "\n",
    "df = stock_df_dict[BENCHMARK].iloc[:].copy()\n",
    "df.columns\n",
    "df.reset_index(drop=False, inplace=True)\n",
    "# df = df.astype(dtype={'date': 'datetime64[ns]'})\n",
    "df['date'] = df['date'].apply(lambda x: x.to_timestamp().to_datetime64())\n",
    "df.set_index('date', inplace=True)\n",
    "ax = df.plot(kind='line', y='close', label='test', linewidth=1, grid=True)\n",
    "# display_charts(df, chart_type='stock', kind='line', \n",
    "#                y=['open', 'ROLLING_%d_MAX' % TURTLE_LONG_BUY_N, 'ROLLING_%d_MIN' % TURTLE_LONG_SELL_N, 'MA30', 'MA60', 'MA180'], \n",
    "#                figsize=(900, 600))"
   ]
  },
  {
   "cell_type": "code",
   "execution_count": 6,
   "metadata": {
    "scrolled": true
   },
   "outputs": [
    {
     "data": {
      "text/plain": [
       "'用基准数据来存储策略数据'"
      ]
     },
     "execution_count": 6,
     "metadata": {},
     "output_type": "execute_result"
    }
   ],
   "source": [
    "'''用基准数据来存储策略数据'''\n",
    "show_df = None\n",
    "show_df = stock_df_dict[BENCHMARK].copy()\n",
    "show_df.loc[:, 'CASH_TURTLE'] = START_MONEY\n",
    "show_df.loc[:, 'PROPERTY_TURTLE'] = START_MONEY"
   ]
  },
  {
   "cell_type": "code",
   "execution_count": 7,
   "metadata": {
    "scrolled": false
   },
   "outputs": [
    {
     "name": "stdout",
     "output_type": "stream",
     "text": [
      "2016-01-01 2017-01-01 100000 100000 0.000\n",
      "2017-01-01 2018-01-01 100000 116645 0.166\n",
      "2018-01-01 2018-08-01 116921 96035 -0.179\n",
      "START_MONEY 100000\n",
      "CASH 96106.761\n",
      "HAPPY_MONEY 0\n",
      "PROPERTY 96106.761\n",
      "BENCHMARK 3313.95 3530.03 1.06520315635\n",
      "Wall time: 55.2 s\n"
     ]
    }
   ],
   "source": [
    "%%time\n",
    "# %xmode\n",
    "\n",
    "'''简易海龟策略，唐安奇通道突破信号，平均分头寸'''\n",
    "\n",
    "PROPERTY = START_MONEY\n",
    "CASH = START_MONEY\n",
    "count_day = 0\n",
    "yesterday = None\n",
    "miss_buy_short = 0\n",
    "miss_buy_long = 0\n",
    "\n",
    "order_df = None\n",
    "order_df = pd.DataFrame(columns=[\n",
    "    'buy_date', 'symbol', 'buy_count', 'buy_price', 'buy_reason', 'sell_date', 'sell_price', 'sell_reason', 'profit', 'cash', 'property'\n",
    "])\n",
    "\n",
    "ops_df = None\n",
    "ops_df = pd.DataFrame(columns=[\n",
    "    'ops_date', 'ops', 'symbol', 'count', 'price', 'reason', 'profit'\n",
    "])\n",
    "\n",
    "\n",
    "# 时间序列\n",
    "for today in pd.period_range(start=start_date, end=end_date, freq='D'):\n",
    "    count_day += 1\n",
    "    \n",
    "    # 每年年初计算回报率\n",
    "    if today.dayofyear == 1 or today == (pd.to_datetime(end_date)).to_period(freq='D'):\n",
    "        if today.dayofyear == 1:\n",
    "            lastyear_firstday = pd.to_datetime('%d-01-01' % (today.year - 1))\n",
    "        else:\n",
    "            lastyear_firstday = pd.to_datetime('%d-01-01' % today.year)\n",
    "        lastyear_firstday = lastyear_firstday.to_period(freq='D')\n",
    "#         print(today, show_df.iloc[0].name, show_df[:today].iloc[-1].PROPERTY_TURTLE)\n",
    "        if today > show_df.iloc[0].name:\n",
    "            today_property = show_df[:today].iloc[-2].PROPERTY_TURTLE\n",
    "#             print(show_df[:today].iloc[-1])\n",
    "        else:\n",
    "            today_property = show_df.iloc[0].PROPERTY_TURTLE\n",
    "        if lastyear_firstday > show_df.iloc[0].name:\n",
    "            lastyear_firstday_property = show_df[:lastyear_firstday].iloc[-1].PROPERTY_TURTLE\n",
    "        else:\n",
    "            lastyear_firstday_property = show_df.iloc[0].PROPERTY_TURTLE\n",
    "#         lastyear_return = round((today_property - lastyear_firstday_property) / lastyear_firstday_property, 4)\n",
    "        lastyear_return = '%.3f' % ((today_property - lastyear_firstday_property) / lastyear_firstday_property)\n",
    "        print(lastyear_firstday, today, int(lastyear_firstday_property), int(today_property), lastyear_return)\n",
    "    \n",
    "    # 每年筛股\n",
    "    if IS_FILTER and (today.dayofyear == 1 or count_day == 1):\n",
    "        TARGET = ALL_TARGET[:]\n",
    "        benchmark_lastyear = stock_df_dict[BENCHMARK][:today]\n",
    "        \n",
    "        # 不到一年（250个交易日）\n",
    "        if len(benchmark_lastyear) < 250:\n",
    "            continue\n",
    "        \n",
    "        # 筛选过滤\n",
    "        benchmark_return_lastyear = benchmark_lastyear.iloc[-1].open / benchmark_lastyear.iloc[-250].open\n",
    "        for symbol, stock_df in stock_df_dict.items():\n",
    "            try:\n",
    "                return_lastyear = stock_df[:today].iloc[-1].open / stock_df[:today].iloc[-250].open\n",
    "                if return_lastyear < benchmark_return_lastyear:\n",
    "                    TARGET.remove(symbol)\n",
    "#                     print(symbol, return_lastyear)\n",
    "            except:\n",
    "                TARGET.remove(symbol)\n",
    "                pass\n",
    "        print(today, 'TARGET after filter', len(TARGET))\n",
    "        \n",
    "    \n",
    "    if yesterday is None:\n",
    "        yesterday = today\n",
    "        continue\n",
    "\n",
    "    # 日期不在基准交易日，则不交易\n",
    "    if today not in stock_df_dict[BENCHMARK].index:\n",
    "        continue\n",
    "            \n",
    "    # 突破下行趋势，清仓退出\n",
    "    order_arr = order_df.to_records(index=False)\n",
    "    if len(order_arr[(order_arr.buy_count > 0) & (order_arr.sell_price == 0)] ) != 0:\n",
    "        is_sell = False\n",
    "        for idx in order_df[(order_df['buy_count'] > 0) & (order_df['sell_price'] == 0)].index:\n",
    "            cur_order = order_df.loc[idx]\n",
    "            symbol = cur_order['symbol']\n",
    "            if today not in stock_df_dict[symbol].index or yesterday not in stock_df_dict[symbol].index:\n",
    "                continue\n",
    "            today_market = stock_df_dict[symbol].loc[today]\n",
    "            if today_market.c_o_pct_chg < -0.1 and symbol in HS300:\n",
    "#                 print(today, symbol, '跌停板，卖不掉')\n",
    "                continue\n",
    "            if cur_order.buy_reason == 'SHORT':\n",
    "                is_sell = (today_market.open <= today_market['ROLLING_%d_MIN' % TURTLE_SHORT_SELL_N])\n",
    "            if cur_order.buy_reason == 'LONG':\n",
    "                is_sell = (today_market.open <= today_market['ROLLING_%d_MIN' % TURTLE_LONG_SELL_N])\n",
    "                is_sell = (today_market.MA90 <= today_market.MA180)\n",
    "#                 is_sell = (today_market.MA30 <= today_market.MA60)\n",
    "            if is_sell:\n",
    "                CASH += cur_order.buy_count * today_market.open\n",
    "                order_df.loc[idx, 'sell_date'] = today\n",
    "                order_df.loc[idx, 'sell_price'] = today_market.open\n",
    "                order_df.loc[idx, 'sell_reason'] = 'EXIT'\n",
    "                order_df.loc[idx, 'profit'] = \\\n",
    "                    (today_market.open - cur_order.buy_price) * cur_order.buy_count\n",
    "#                 print(today, '退出', stock_df_dict[symbol].loc[today, 'open'], CASH)\n",
    "                \n",
    "                ops_df = ops_df.append(\n",
    "                    {\n",
    "                        'ops_date': today,\n",
    "                        'ops': 'SELL',\n",
    "                        'symbol': symbol,\n",
    "                        'count': cur_order.buy_count,\n",
    "                        'price': today_market.open,\n",
    "                        'reason': cur_order.buy_reason,\n",
    "                        'profit': (today_market.open - cur_order.buy_price) * cur_order.buy_count,\n",
    "                    },\n",
    "                    ignore_index=True\n",
    "                )\n",
    "\n",
    "    # 开心止盈，倍数止盈\n",
    "    if IS_HAPPYMONEY:        \n",
    "        if PROPERTY > START_MONEY * 2 and CASH > START_MONEY:\n",
    "            HAPPY_MONEY += START_MONEY\n",
    "            PROPERTY -= START_MONEY\n",
    "            CASH -= START_MONEY\n",
    "    \n",
    "    benchmark_today_market = stock_df_dict[BENCHMARK].loc[today]\n",
    "#     try:\n",
    "#         benchmark_yesterday_market = stock_df_dict[BENCHMARK].loc[:today].iloc[-2]\n",
    "#     except:\n",
    "#         benchmark_yesterday_market = stock_df_dict[BENCHMARK].loc[:today].iloc[-1]\n",
    "    buy_list = []\n",
    "    \n",
    "    # TIME TEST\n",
    "#     %timeit benchmark_today_market.MA60 < benchmark_today_market.MA180\n",
    "#     %timeit not IS_BUYBENCHMARK and symbol == BENCHMARK\n",
    "#     %timeit today not in stock_df_dict[symbol].index or yesterday not in stock_df_dict[symbol].index\n",
    "#     symbol = BENCHMARK\n",
    "#     %timeit today_market = stock_df_dict[symbol].loc[today]\n",
    "# #     %timeit today_market = stock_df_dict[symbol][today]\n",
    "#     %timeit today_market.open >= today_market['ROLLING_%d_MAX' % TURTLE_LONG_BUY_N]\n",
    "    # DELETED\n",
    "    \n",
    "    # 遍历标的，判断和执行买入\n",
    "    for symbol in TARGET:\n",
    "        # 趋势交易，只在好行情时买入\n",
    "        if IS_MARKETUP:\n",
    "            if benchmark_today_market.MA60 < benchmark_today_market.MA180:\n",
    "#             if benchmark_today_market.MA90 < benchmark_today_market.MA180:\n",
    "#             if benchmark_today_market.MA90 < benchmark_today_market.MA250 and benchmark_today_market.MA180 < benchmark_today_market.MA250:\n",
    "                break\n",
    "        \n",
    "        # 是否购买基准\n",
    "        if not IS_BUYBENCHMARK and symbol == BENCHMARK:\n",
    "            continue\n",
    "        \n",
    "        if today not in stock_df_dict[symbol].index or yesterday not in stock_df_dict[symbol].index:\n",
    "            continue\n",
    "            \n",
    "        # TIME TEST\n",
    "        # DELETED\n",
    "\n",
    "        today_market = stock_df_dict[symbol].loc[today]\n",
    "\n",
    "        # 突破上行趋势，就买一份\n",
    "#         order_arr = order_df.to_records(index=False)\n",
    "        is_buy = False\n",
    "#         if today_market.MA60 >= today_market.MA180:\n",
    "#         if today_market.MA30 >= today_market.MA60:\n",
    "#         if today_market.MA30 >= today_market.MA180:\n",
    "        # 指数就不要过滤器了\n",
    "        if True:\n",
    "#             if today_market.open >= today_market['ROLLING_%d_MAX' % TURTLE_LONG_BUY_N]:\n",
    "            if today_market.MA90 >= today_market.MA180:\n",
    "#             if today_market.MA30 > today_market.MA60:\n",
    "                is_buy = True\n",
    "                buy_reason = 'LONG'\n",
    "            elif False and today_market.open >= today_market['ROLLING_%d_MAX' % TURTLE_SHORT_BUY_N]:\n",
    "                is_buy = True\n",
    "                buy_reason = 'SHORT'\n",
    "\n",
    "        if is_buy:\n",
    "            buy_list.append(symbol)\n",
    "            \n",
    "    if IS_RANDOM_BUY:\n",
    "        random.shuffle(buy_list)\n",
    "    else:\n",
    "        tmp_list = []\n",
    "        for symbol in buy_list:\n",
    "            try:\n",
    "                return_lastyear = stock_df_dict[symbol][:today].iloc[-1].open / stock_df_dict[symbol][:today].iloc[-250].open\n",
    "            except:\n",
    "                return_lastyear = stock_df_dict[symbol][:today].iloc[-1].open / stock_df_dict[symbol][:today].iloc[1].open\n",
    "            tmp_list.append((return_lastyear, symbol))\n",
    "        tmp_list = sorted(tmp_list, reverse=True)\n",
    "        buy_list = [x[1] for x in tmp_list if x[0]>1]\n",
    "#         buy_list = [x[1] for x in tmp_list]\n",
    "    \n",
    "    for symbol in buy_list:\n",
    "        today_market = stock_df_dict[symbol].loc[today]\n",
    "        buy_count = 0\n",
    "                \n",
    "        # 滑点\n",
    "        if IS_SLIPPAGE:\n",
    "            buy_price = today_market.open * (1 + random.randint(0, 20) / 1000)\n",
    "        else:\n",
    "            buy_price = today_market.open\n",
    "                \n",
    "        # 按份数买\n",
    "        if CASH >= PROPERTY / TURTLE_POS:\n",
    "            buy_count = int((PROPERTY / TURTLE_POS) / buy_price)\n",
    "\n",
    "        # 指数购买，满仓干\n",
    "#         buy_count = int(CASH / buy_price)\n",
    "\n",
    "        if buy_count > 0:\n",
    "            if today_market.c_o_pct_chg > 0.1 and symbol in HS300:\n",
    "#                 print(today, symbol, '涨停板，买不进')\n",
    "                continue\n",
    "            \n",
    "        if buy_count > 0:\n",
    "            CASH -= buy_count * buy_price\n",
    "#             print(today, '建仓', buy_count, stock_df_dict[symbol].loc[today, 'open'], CASH)\n",
    "            order_df = order_df.append(\n",
    "                {\n",
    "                    'buy_date': today,\n",
    "                    'symbol': symbol,\n",
    "                    'buy_count': buy_count,\n",
    "                    'buy_price': today_market.open,\n",
    "                    'buy_reason': buy_reason,\n",
    "                    'sell_date': pd.np.nan,\n",
    "                    'sell_price': 0,\n",
    "                    'profit': 0,\n",
    "                    'cash': CASH,\n",
    "                    'property': PROPERTY,\n",
    "                },\n",
    "                ignore_index=True\n",
    "            )\n",
    "            ops_df = ops_df.append(\n",
    "                {\n",
    "                    'ops_date': today,\n",
    "                    'ops': 'BUY',\n",
    "                    'symbol': symbol,\n",
    "                    'count': buy_count,\n",
    "                    'price': buy_price,\n",
    "                    'reason': buy_reason,\n",
    "                    'profit': 0,\n",
    "                },\n",
    "                ignore_index=True\n",
    "            )\n",
    "        else:\n",
    "            if buy_reason == 'LONG':\n",
    "                miss_buy_long += 1\n",
    "            elif buy_reason == 'SHORT':\n",
    "                miss_buy_short += 1\n",
    "            \n",
    "    # 每天盘点财产\n",
    "    # 大盘下行时，闲钱进行T+0无风险投资，如货币基金\n",
    "#     if benchmark_today_market.MA60 < benchmark_today_market.MA180:\n",
    "#         CASH = CASH * (1 + 0.04 / 365)\n",
    "    show_df.loc[today, 'CASH_TURTLE'] = CASH\n",
    "    PROPERTY = CASH + \\\n",
    "        sum(\n",
    "            [\n",
    "                stock_df_dict[order_df.loc[idx, 'symbol']][:today].iloc[-1].open * order_df.loc[idx, 'buy_count'] \\\n",
    "                for idx in order_df.loc[order_df['sell_price']==0].index\n",
    "            ]\n",
    "        )\n",
    "    show_df.loc[today, 'PROPERTY_TURTLE'] = PROPERTY\n",
    "\n",
    "    yesterday = today\n",
    "    \n",
    "#     print(today)\n",
    "\n",
    "\n",
    "    \n",
    "# 最后一天，清仓\n",
    "order_arr = order_df.to_records(index=False)\n",
    "for idx in order_df[order_df['sell_price'] == 0].index:\n",
    "    cur_order = order_df.loc[idx]\n",
    "    symbol = cur_order['symbol']\n",
    "    today_market = stock_df_dict[symbol][:today].iloc[-1]\n",
    "    CASH += cur_order.buy_count * today_market.open\n",
    "    order_df.loc[idx, 'sell_date'] = today\n",
    "    order_df.loc[idx, 'sell_price'] = today_market.open\n",
    "    order_df.loc[idx, 'sell_reason'] = 'EXIT'\n",
    "    order_df.loc[idx, 'profit'] = \\\n",
    "        (today_market.open - cur_order.buy_price) * cur_order.buy_count\n",
    "    ops_df = ops_df.append(\n",
    "        {\n",
    "            'ops_date': today,\n",
    "            'ops': 'SELL',\n",
    "            'symbol': symbol,\n",
    "            'count': cur_order.buy_count,\n",
    "            'price': today_market.open,\n",
    "            'reason': cur_order.buy_reason,\n",
    "            'profit': (today_market.open - cur_order.buy_price) * cur_order.buy_count,\n",
    "        },\n",
    "        ignore_index=True\n",
    "    )\n",
    "\n",
    "\n",
    "print('START_MONEY', START_MONEY)\n",
    "print('CASH', CASH)\n",
    "print('HAPPY_MONEY', HAPPY_MONEY)\n",
    "print('PROPERTY', PROPERTY)\n",
    "\n",
    "s_p = stock_df_dict[BENCHMARK][start_date:].iloc[0].open\n",
    "e_p = stock_df_dict[BENCHMARK][:end_date].iloc[-1].open\n",
    "print('BENCHMARK', s_p, e_p, e_p / s_p)\n",
    "\n",
    "# show_df['PROPERTY_TT'] = show_df['PROPERTY_TURTLE']\n",
    "# show_df['PROPERTY_MA'] = show_df['PROPERTY_TURTLE']"
   ]
  },
  {
   "cell_type": "code",
   "execution_count": 8,
   "metadata": {
    "scrolled": false
   },
   "outputs": [
    {
     "data": {
      "text/html": [
       "<div>\n",
       "<style scoped>\n",
       "    .dataframe tbody tr th:only-of-type {\n",
       "        vertical-align: middle;\n",
       "    }\n",
       "\n",
       "    .dataframe tbody tr th {\n",
       "        vertical-align: top;\n",
       "    }\n",
       "\n",
       "    .dataframe thead th {\n",
       "        text-align: right;\n",
       "    }\n",
       "</style>\n",
       "<table border=\"1\" class=\"dataframe\">\n",
       "  <thead>\n",
       "    <tr style=\"text-align: right;\">\n",
       "      <th></th>\n",
       "      <th>buy_date</th>\n",
       "      <th>symbol</th>\n",
       "      <th>buy_count</th>\n",
       "      <th>buy_price</th>\n",
       "      <th>buy_reason</th>\n",
       "      <th>sell_date</th>\n",
       "      <th>sell_price</th>\n",
       "      <th>sell_reason</th>\n",
       "      <th>profit</th>\n",
       "      <th>cash</th>\n",
       "      <th>property</th>\n",
       "    </tr>\n",
       "  </thead>\n",
       "  <tbody>\n",
       "  </tbody>\n",
       "</table>\n",
       "</div>"
      ],
      "text/plain": [
       "Empty DataFrame\n",
       "Columns: [buy_date, symbol, buy_count, buy_price, buy_reason, sell_date, sell_price, sell_reason, profit, cash, property]\n",
       "Index: []"
      ]
     },
     "execution_count": 8,
     "metadata": {},
     "output_type": "execute_result"
    },
    {
     "data": {
      "text/html": [
       "<div>\n",
       "<style scoped>\n",
       "    .dataframe tbody tr th:only-of-type {\n",
       "        vertical-align: middle;\n",
       "    }\n",
       "\n",
       "    .dataframe tbody tr th {\n",
       "        vertical-align: top;\n",
       "    }\n",
       "\n",
       "    .dataframe thead th {\n",
       "        text-align: right;\n",
       "    }\n",
       "</style>\n",
       "<table border=\"1\" class=\"dataframe\">\n",
       "  <thead>\n",
       "    <tr style=\"text-align: right;\">\n",
       "      <th></th>\n",
       "      <th>ops_date</th>\n",
       "      <th>ops</th>\n",
       "      <th>symbol</th>\n",
       "      <th>count</th>\n",
       "      <th>price</th>\n",
       "      <th>reason</th>\n",
       "      <th>profit</th>\n",
       "    </tr>\n",
       "  </thead>\n",
       "  <tbody>\n",
       "  </tbody>\n",
       "</table>\n",
       "</div>"
      ],
      "text/plain": [
       "Empty DataFrame\n",
       "Columns: [ops_date, ops, symbol, count, price, reason, profit]\n",
       "Index: []"
      ]
     },
     "execution_count": 8,
     "metadata": {},
     "output_type": "execute_result"
    }
   ],
   "source": [
    "symbol = BENCHMARK\n",
    "symbol = '600703'\n",
    "\n",
    "df = order_df.copy()\n",
    "df = df.astype(dtype={'cash': 'int', 'profit': 'int'})\n",
    "# df\n",
    "df[df.symbol == symbol]\n",
    "\n",
    "df = ops_df.copy()\n",
    "# df\n",
    "df[df.symbol == symbol]\n",
    "# df[(df.ops_date > pd.to_datetime('2015-01-01').to_period(freq='D')) & (df.ops_date < pd.to_datetime('2016-01-01').to_period(freq='D'))]"
   ]
  },
  {
   "cell_type": "code",
   "execution_count": 9,
   "metadata": {
    "scrolled": false
   },
   "outputs": [],
   "source": [
    "# %matplotlib inline\n",
    "\n",
    "# import matplotlib\n",
    "# import matplotlib.pyplot as plt\n",
    "# plt.rcParams['figure.figsize'] = [15, 10]\n",
    "\n",
    "# df = stock_df_dict['600703'].iloc[:].copy()\n",
    "# df.columns\n",
    "# df.reset_index(drop=False, inplace=True)\n",
    "# # df = df.astype(dtype={'date': 'datetime64[ns]'})\n",
    "# df['date'] = df['date'].apply(lambda x: x.to_timestamp().to_datetime64())\n",
    "# df.set_index('date', inplace=True)\n",
    "# # display_charts(df, chart_type='stock', kind='line', y=['open', 'ROLLING_60_MAX', 'ROLLING_60_MIN', 'MA60', 'MA180'], figsize=(900, 600))\n",
    "# # display_charts(df, chart_type='stock', kind='line', y=['open', 'ROLLING_60_MAX', 'ROLLING_30_MIN'], figsize=(900, 600))\n",
    "# ax = df.plot(kind='line', y=['close', 'MA90', 'MA180'], linewidth=0.5, grid=True)"
   ]
  },
  {
   "cell_type": "code",
   "execution_count": 10,
   "metadata": {
    "scrolled": false
   },
   "outputs": [
    {
     "data": {
      "text/plain": [
       "'ALL'"
      ]
     },
     "execution_count": 10,
     "metadata": {},
     "output_type": "execute_result"
    },
    {
     "data": {
      "text/plain": [
       "('start_date', '2017-01-01')"
      ]
     },
     "execution_count": 10,
     "metadata": {},
     "output_type": "execute_result"
    },
    {
     "data": {
      "text/plain": [
       "('end_date', '2018-08-01')"
      ]
     },
     "execution_count": 10,
     "metadata": {},
     "output_type": "execute_result"
    },
    {
     "data": {
      "text/plain": [
       "('TURTLE_POS', 20)"
      ]
     },
     "execution_count": 10,
     "metadata": {},
     "output_type": "execute_result"
    },
    {
     "data": {
      "text/plain": [
       "('TURTLE_SHORT_BUY_N', 20)"
      ]
     },
     "execution_count": 10,
     "metadata": {},
     "output_type": "execute_result"
    },
    {
     "data": {
      "text/plain": [
       "('TURTLE_SHORT_SELL_N', 20)"
      ]
     },
     "execution_count": 10,
     "metadata": {},
     "output_type": "execute_result"
    },
    {
     "data": {
      "text/plain": [
       "('TURTLE_LONG_BUY_N', 60)"
      ]
     },
     "execution_count": 10,
     "metadata": {},
     "output_type": "execute_result"
    },
    {
     "data": {
      "text/plain": [
       "('TURTLE_LONG_SELL_N', 60)"
      ]
     },
     "execution_count": 10,
     "metadata": {},
     "output_type": "execute_result"
    },
    {
     "data": {
      "text/plain": [
       "('IS_HAPPYMONEY', False)"
      ]
     },
     "execution_count": 10,
     "metadata": {},
     "output_type": "execute_result"
    },
    {
     "data": {
      "text/plain": [
       "('IS_TAX', False)"
      ]
     },
     "execution_count": 10,
     "metadata": {},
     "output_type": "execute_result"
    },
    {
     "data": {
      "text/plain": [
       "('IS_SLIPPAGE', False)"
      ]
     },
     "execution_count": 10,
     "metadata": {},
     "output_type": "execute_result"
    },
    {
     "data": {
      "text/plain": [
       "('IS_RANDOM_BUY', True)"
      ]
     },
     "execution_count": 10,
     "metadata": {},
     "output_type": "execute_result"
    },
    {
     "data": {
      "text/plain": [
       "('IS_FILTER', False)"
      ]
     },
     "execution_count": 10,
     "metadata": {},
     "output_type": "execute_result"
    },
    {
     "data": {
      "text/plain": [
       "('IS_MARKETUP', False)"
      ]
     },
     "execution_count": 10,
     "metadata": {},
     "output_type": "execute_result"
    },
    {
     "data": {
      "text/plain": [
       "('IS_BUYBENCHMARK', True)"
      ]
     },
     "execution_count": 10,
     "metadata": {},
     "output_type": "execute_result"
    },
    {
     "data": {
      "text/plain": [
       "('START_MONEY', 100000)"
      ]
     },
     "execution_count": 10,
     "metadata": {},
     "output_type": "execute_result"
    },
    {
     "data": {
      "text/plain": [
       "('len(order_df)', 73)"
      ]
     },
     "execution_count": 10,
     "metadata": {},
     "output_type": "execute_result"
    },
    {
     "data": {
      "text/plain": [
       "('sum_profit', -3893.2390000000055)"
      ]
     },
     "execution_count": 10,
     "metadata": {},
     "output_type": "execute_result"
    },
    {
     "data": {
      "text/plain": [
       "('sum_tax', 0)"
      ]
     },
     "execution_count": 10,
     "metadata": {},
     "output_type": "execute_result"
    },
    {
     "data": {
      "text/plain": [
       "('win_rate', 0.4225352112676056)"
      ]
     },
     "execution_count": 10,
     "metadata": {},
     "output_type": "execute_result"
    },
    {
     "data": {
      "text/plain": [
       "('annual_return', 0.97523509728629909)"
      ]
     },
     "execution_count": 10,
     "metadata": {},
     "output_type": "execute_result"
    },
    {
     "data": {
      "text/plain": [
       "('len(order_df[order_df.profit != 0])', 71)"
      ]
     },
     "execution_count": 10,
     "metadata": {},
     "output_type": "execute_result"
    },
    {
     "data": {
      "text/plain": [
       "('len(order_df[order_df.profit > 0])', 30)"
      ]
     },
     "execution_count": 10,
     "metadata": {},
     "output_type": "execute_result"
    },
    {
     "data": {
      "text/plain": [
       "('order LONG', 73)"
      ]
     },
     "execution_count": 10,
     "metadata": {},
     "output_type": "execute_result"
    },
    {
     "data": {
      "text/plain": [
       "30"
      ]
     },
     "execution_count": 10,
     "metadata": {},
     "output_type": "execute_result"
    },
    {
     "data": {
      "text/plain": [
       "-3893.2390000000055"
      ]
     },
     "execution_count": 10,
     "metadata": {},
     "output_type": "execute_result"
    },
    {
     "data": {
      "text/plain": [
       "('order SHORT', 0)"
      ]
     },
     "execution_count": 10,
     "metadata": {},
     "output_type": "execute_result"
    },
    {
     "data": {
      "text/plain": [
       "0"
      ]
     },
     "execution_count": 10,
     "metadata": {},
     "output_type": "execute_result"
    },
    {
     "data": {
      "text/plain": [
       "0"
      ]
     },
     "execution_count": 10,
     "metadata": {},
     "output_type": "execute_result"
    },
    {
     "data": {
      "text/plain": [
       "('cum_returns', -0.038932390000001704, 0.065203156354200154)"
      ]
     },
     "execution_count": 10,
     "metadata": {},
     "output_type": "execute_result"
    },
    {
     "data": {
      "text/plain": [
       "('max_drawdown', -0.22564873131204574, -0.23747622139447916)"
      ]
     },
     "execution_count": 10,
     "metadata": {},
     "output_type": "execute_result"
    },
    {
     "data": {
      "text/plain": [
       "('annual_return', -0.025591834310148664, 0.042099684425607631)"
      ]
     },
     "execution_count": 10,
     "metadata": {},
     "output_type": "execute_result"
    },
    {
     "data": {
      "text/plain": [
       "('annual_volatility', 0.15793558924437404)"
      ]
     },
     "execution_count": 10,
     "metadata": {},
     "output_type": "execute_result"
    },
    {
     "data": {
      "text/plain": [
       "('calmar_ratio', -0.11341448348210811)"
      ]
     },
     "execution_count": 10,
     "metadata": {},
     "output_type": "execute_result"
    },
    {
     "data": {
      "text/plain": [
       "('sharpe_ratio', -0.08552254839114035)"
      ]
     },
     "execution_count": 10,
     "metadata": {},
     "output_type": "execute_result"
    },
    {
     "data": {
      "text/plain": [
       "('alpha', -0.06292220475029177)"
      ]
     },
     "execution_count": 10,
     "metadata": {},
     "output_type": "execute_result"
    },
    {
     "data": {
      "text/plain": [
       "('beta', 0.9503539719269392)"
      ]
     },
     "execution_count": 10,
     "metadata": {},
     "output_type": "execute_result"
    },
    {
     "data": {
      "text/plain": [
       "('ALL DAY', 386)"
      ]
     },
     "execution_count": 10,
     "metadata": {},
     "output_type": "execute_result"
    },
    {
     "data": {
      "text/plain": [
       "'CASH_TURTLE'"
      ]
     },
     "execution_count": 10,
     "metadata": {},
     "output_type": "execute_result"
    },
    {
     "data": {
      "text/plain": [
       "'PROPERTY_TURTLE'"
      ]
     },
     "execution_count": 10,
     "metadata": {},
     "output_type": "execute_result"
    },
    {
     "data": {
      "text/plain": [
       "('CASH NOT USED DAY', 3)"
      ]
     },
     "execution_count": 10,
     "metadata": {},
     "output_type": "execute_result"
    },
    {
     "data": {
      "text/plain": [
       "('MISS_BUY_SIGNAL_LONG', 60861)"
      ]
     },
     "execution_count": 10,
     "metadata": {},
     "output_type": "execute_result"
    },
    {
     "data": {
      "text/plain": [
       "('MISS_BUY_SIGNAL_SHORT', 0)"
      ]
     },
     "execution_count": 10,
     "metadata": {},
     "output_type": "execute_result"
    }
   ],
   "source": [
    "'ALL'\n",
    "'start_date', start_date\n",
    "'end_date', end_date\n",
    "'TURTLE_POS', TURTLE_POS\n",
    "'TURTLE_SHORT_BUY_N', TURTLE_SHORT_BUY_N\n",
    "'TURTLE_SHORT_SELL_N', TURTLE_SHORT_SELL_N\n",
    "'TURTLE_LONG_BUY_N', TURTLE_LONG_BUY_N\n",
    "'TURTLE_LONG_SELL_N', TURTLE_LONG_SELL_N\n",
    "### 业务设置\n",
    "'IS_HAPPYMONEY', IS_HAPPYMONEY\n",
    "'IS_TAX', IS_TAX\n",
    "'IS_SLIPPAGE', IS_SLIPPAGE\n",
    "'IS_RANDOM_BUY', IS_RANDOM_BUY\n",
    "'IS_FILTER', IS_FILTER\n",
    "'IS_MARKETUP', IS_MARKETUP\n",
    "'IS_BUYBENCHMARK', IS_BUYBENCHMARK\n",
    "'START_MONEY', START_MONEY\n",
    "\n",
    "'len(order_df)', len(order_df)\n",
    "sum_profit = sum(list(order_df['profit']))\n",
    "'sum_profit', sum_profit\n",
    "# sum_tax = sum(list(order_df_TB['tax']))\n",
    "sum_tax = 0\n",
    "'sum_tax', sum_tax\n",
    "'win_rate', len(order_df[order_df.profit > 0]) / len(order_df[order_df.profit != 0])\n",
    "'annual_return', ((sum_profit - sum_tax) / START_MONEY + 1) ** (365 / count_day)\n",
    "'len(order_df[order_df.profit != 0])', len(order_df[order_df.profit != 0])\n",
    "'len(order_df[order_df.profit > 0])', len(order_df[order_df.profit > 0])\n",
    "'order LONG', len(order_df[order_df.buy_reason == 'LONG'])\n",
    "len(order_df[(order_df.buy_reason == 'LONG') & (order_df.profit > 0)])\n",
    "sum(list(order_df[order_df.buy_reason == 'LONG']['profit']))\n",
    "'order SHORT', len(order_df[order_df.buy_reason == 'SHORT'])\n",
    "len(order_df[(order_df.buy_reason == 'SHORT') & (order_df.profit > 0)])\n",
    "sum(list(order_df[order_df.buy_reason == 'SHORT']['profit']))\n",
    "\n",
    "df = show_df.dropna(how='any', inplace=False).copy()\n",
    "df = df.loc[start_date:end_date]\n",
    "algo = df['PROPERTY_TURTLE'].pct_change()\n",
    "benchmark = df.open.pct_change()\n",
    "\n",
    "if emp:\n",
    "    'cum_returns', emp.cum_returns(algo)[-1], emp.cum_returns(benchmark)[-1]\n",
    "    'max_drawdown', emp.max_drawdown(algo), emp.max_drawdown(benchmark)\n",
    "    'annual_return', emp.annual_return(algo), emp.annual_return(benchmark)\n",
    "    'annual_volatility', emp.annual_volatility(algo, period='daily')\n",
    "    'calmar_ratio', emp.calmar_ratio(algo)\n",
    "    'sharpe_ratio', emp.sharpe_ratio(returns=algo)\n",
    "    'alpha', emp.alpha(returns=algo, factor_returns=benchmark, risk_free=0.00)\n",
    "    'beta', emp.beta(returns=algo, factor_returns=benchmark, risk_free=0.00)\n",
    "\n",
    "'ALL DAY', len(df)\n",
    "'CASH_TURTLE'\n",
    "'PROPERTY_TURTLE'\n",
    "'CASH NOT USED DAY', len(df[df['CASH_TURTLE'] > (df['PROPERTY_TURTLE'] / TURTLE_POS)])\n",
    "'MISS_BUY_SIGNAL_LONG', miss_buy_long\n",
    "'MISS_BUY_SIGNAL_SHORT', miss_buy_short"
   ]
  },
  {
   "cell_type": "code",
   "execution_count": 11,
   "metadata": {
    "scrolled": false
   },
   "outputs": [
    {
     "data": {
      "text/plain": [
       "'计算标的持有、收益等'"
      ]
     },
     "execution_count": 11,
     "metadata": {},
     "output_type": "execute_result"
    },
    {
     "data": {
      "text/html": [
       "<div>\n",
       "<style scoped>\n",
       "    .dataframe tbody tr th:only-of-type {\n",
       "        vertical-align: middle;\n",
       "    }\n",
       "\n",
       "    .dataframe tbody tr th {\n",
       "        vertical-align: top;\n",
       "    }\n",
       "\n",
       "    .dataframe thead th {\n",
       "        text-align: right;\n",
       "    }\n",
       "</style>\n",
       "<table border=\"1\" class=\"dataframe\">\n",
       "  <thead>\n",
       "    <tr style=\"text-align: right;\">\n",
       "      <th></th>\n",
       "      <th>pro_pct</th>\n",
       "    </tr>\n",
       "    <tr>\n",
       "      <th>symbol</th>\n",
       "      <th></th>\n",
       "    </tr>\n",
       "  </thead>\n",
       "  <tbody>\n",
       "    <tr>\n",
       "      <th>601318</th>\n",
       "      <td>0.858270</td>\n",
       "    </tr>\n",
       "    <tr>\n",
       "      <th>002050</th>\n",
       "      <td>0.698751</td>\n",
       "    </tr>\n",
       "    <tr>\n",
       "      <th>002142</th>\n",
       "      <td>0.519300</td>\n",
       "    </tr>\n",
       "    <tr>\n",
       "      <th>600332</th>\n",
       "      <td>0.377572</td>\n",
       "    </tr>\n",
       "    <tr>\n",
       "      <th>600036</th>\n",
       "      <td>0.355936</td>\n",
       "    </tr>\n",
       "    <tr>\n",
       "      <th>000858</th>\n",
       "      <td>0.188425</td>\n",
       "    </tr>\n",
       "    <tr>\n",
       "      <th>600104</th>\n",
       "      <td>0.176752</td>\n",
       "    </tr>\n",
       "    <tr>\n",
       "      <th>000425</th>\n",
       "      <td>0.139605</td>\n",
       "    </tr>\n",
       "    <tr>\n",
       "      <th>002415</th>\n",
       "      <td>0.099091</td>\n",
       "    </tr>\n",
       "    <tr>\n",
       "      <th>002352</th>\n",
       "      <td>0.081956</td>\n",
       "    </tr>\n",
       "  </tbody>\n",
       "</table>\n",
       "</div>"
      ],
      "text/plain": [
       "         pro_pct\n",
       "symbol          \n",
       "601318  0.858270\n",
       "002050  0.698751\n",
       "002142  0.519300\n",
       "600332  0.377572\n",
       "600036  0.355936\n",
       "000858  0.188425\n",
       "600104  0.176752\n",
       "000425  0.139605\n",
       "002415  0.099091\n",
       "002352  0.081956"
      ]
     },
     "execution_count": 11,
     "metadata": {},
     "output_type": "execute_result"
    },
    {
     "data": {
      "text/html": [
       "<div>\n",
       "<style scoped>\n",
       "    .dataframe tbody tr th:only-of-type {\n",
       "        vertical-align: middle;\n",
       "    }\n",
       "\n",
       "    .dataframe tbody tr th {\n",
       "        vertical-align: top;\n",
       "    }\n",
       "\n",
       "    .dataframe thead th {\n",
       "        text-align: right;\n",
       "    }\n",
       "</style>\n",
       "<table border=\"1\" class=\"dataframe\">\n",
       "  <thead>\n",
       "    <tr style=\"text-align: right;\">\n",
       "      <th></th>\n",
       "      <th>pro_pct</th>\n",
       "    </tr>\n",
       "    <tr>\n",
       "      <th>symbol</th>\n",
       "      <th></th>\n",
       "    </tr>\n",
       "  </thead>\n",
       "  <tbody>\n",
       "    <tr>\n",
       "      <th>600820</th>\n",
       "      <td>-0.163026</td>\n",
       "    </tr>\n",
       "    <tr>\n",
       "      <th>000826</th>\n",
       "      <td>-0.169699</td>\n",
       "    </tr>\n",
       "    <tr>\n",
       "      <th>000503</th>\n",
       "      <td>-0.175297</td>\n",
       "    </tr>\n",
       "    <tr>\n",
       "      <th>600115</th>\n",
       "      <td>-0.180521</td>\n",
       "    </tr>\n",
       "    <tr>\n",
       "      <th>000413</th>\n",
       "      <td>-0.192372</td>\n",
       "    </tr>\n",
       "    <tr>\n",
       "      <th>000786</th>\n",
       "      <td>-0.222227</td>\n",
       "    </tr>\n",
       "    <tr>\n",
       "      <th>601012</th>\n",
       "      <td>-0.264670</td>\n",
       "    </tr>\n",
       "    <tr>\n",
       "      <th>300136</th>\n",
       "      <td>-0.326814</td>\n",
       "    </tr>\n",
       "    <tr>\n",
       "      <th>300124</th>\n",
       "      <td>-0.448225</td>\n",
       "    </tr>\n",
       "    <tr>\n",
       "      <th>600682</th>\n",
       "      <td>-0.596774</td>\n",
       "    </tr>\n",
       "  </tbody>\n",
       "</table>\n",
       "</div>"
      ],
      "text/plain": [
       "         pro_pct\n",
       "symbol          \n",
       "600820 -0.163026\n",
       "000826 -0.169699\n",
       "000503 -0.175297\n",
       "600115 -0.180521\n",
       "000413 -0.192372\n",
       "000786 -0.222227\n",
       "601012 -0.264670\n",
       "300136 -0.326814\n",
       "300124 -0.448225\n",
       "600682 -0.596774"
      ]
     },
     "execution_count": 11,
     "metadata": {},
     "output_type": "execute_result"
    },
    {
     "data": {
      "text/plain": [
       "63"
      ]
     },
     "execution_count": 11,
     "metadata": {},
     "output_type": "execute_result"
    }
   ],
   "source": [
    "'''计算标的持有、收益等'''\n",
    "\n",
    "df = order_df.copy()\n",
    "df.drop(columns=['sell_reason'], inplace=True)\n",
    "df['pro_pct'] = (df.sell_price - df.buy_price) / df.buy_price\n",
    "# df.sell_date.dtypes\n",
    "# df.loc[1].sell_date\n",
    "# df.loc[1].sell_date.to_timestamp()\n",
    "\n",
    "# df = df.astype(dtype={'sell_date': 'datetime64[ns]', 'buy_date': 'datetime64[ns]', 'cash':'int'})\n",
    "df = df.astype(dtype={'cash': 'int', 'profit': 'int'})\n",
    "# df.loc[1].sell_date\n",
    "\n",
    "# type(df[1].sell_date)\n",
    "df['h_days'] = (df.sell_date - df.buy_date)\n",
    "# df.loc[1].h_days\n",
    "# type(df.loc[1].h_days)\n",
    "\n",
    "df['h_days'] = df['h_days'].apply(lambda x: 1 if x == 0 else x)\n",
    "# df.loc[1].h_days\n",
    "\n",
    "df['per_d'] = df.pro_pct / df.h_days * 365\n",
    "# df['per_d'] = df.apply(lambda x: x.pro_pct / x.h_days)\n",
    "\n",
    "# df\n",
    "# df.sort_values(by='pro_pct', ascending=False)\n",
    "# df.sort_values(by='per_d', ascending=False)\n",
    "\n",
    "df = df.loc[:, ['symbol', 'pro_pct']]\n",
    "df = df.groupby(by='symbol').sum()\n",
    "df.sort_values(by='pro_pct', ascending=False).head(10)\n",
    "df.sort_values(by='pro_pct', ascending=False).tail(10)\n",
    "len(df)"
   ]
  },
  {
   "cell_type": "code",
   "execution_count": 12,
   "metadata": {},
   "outputs": [
    {
     "data": {
      "text/plain": [
       "'策略评价'"
      ]
     },
     "execution_count": 12,
     "metadata": {},
     "output_type": "execute_result"
    }
   ],
   "source": [
    "'''策略评价'''\n",
    "\n",
    "strategy_result = None\n",
    "strategy_result = pd.DataFrame(columns=[\n",
    "    'strategy', 'ops', 'symbol', 'count', 'price', 'reason', 'profit'\n",
    "])\n"
   ]
  },
  {
   "cell_type": "code",
   "execution_count": 13,
   "metadata": {
    "scrolled": false
   },
   "outputs": [
    {
     "data": {
      "text/plain": [
       "Index(['open', 'close', 'o_pct_chg', 'c_o_pct_chg', 'ROLLING_60_MAX',\n",
       "       'ROLLING_60_MIN', 'MA180', 'MA90', 'MA60', 'MA30', 'CASH_TURTLE',\n",
       "       'PROPERTY_TURTLE'],\n",
       "      dtype='object')"
      ]
     },
     "execution_count": 13,
     "metadata": {},
     "output_type": "execute_result"
    },
    {
     "data": {
      "image/png": "[encoded data removed]",
      "text/plain": [
       "<matplotlib.figure.Figure at 0x11015350>"
      ]
     },
     "metadata": {},
     "output_type": "display_data"
    }
   ],
   "source": [
    "%matplotlib inline\n",
    "\n",
    "import matplotlib\n",
    "import matplotlib.pyplot as plt\n",
    "plt.rcParams['figure.figsize'] = [15, 10]\n",
    "\n",
    "# df = show_df.fillna(START_MONEY).copy()\n",
    "df = show_df.dropna(how='any', inplace=False).copy()\n",
    "df = df.loc[start_date:end_date]\n",
    "# df.drop(columns=['PROPERTY_TURTLE'], inplace=True)\n",
    "df.columns\n",
    "\n",
    "df['close'] = (df['close'] - df.iloc[0]['close']) / df.iloc[0]['close']\n",
    "ax = df.plot(kind='line', y='close', label='BENCHMARK_%.2f' % df.iloc[-1]['close'], linewidth=1, grid=True)\n",
    "for col in sorted(df.columns):\n",
    "    if 'PROPERTY' in col:\n",
    "        df[col] = (df[col] - df.iloc[1][col]) / df.iloc[0][col]\n",
    "        ax = df.plot(kind='line', y=col, secondary_y=False, label='%s_%.2f' % (col, df.iloc[-1][col]), linewidth=1, grid=True, ax=ax)\n",
    "\n",
    "# ax = df.plot(kind='line', y='close', label='BENCHMARK_%.2f' % df.iloc[-1]['close'], linewidth=1, grid=True)\n",
    "# for col in sorted(df.columns):\n",
    "#     if 'PROPERTY' in col:\n",
    "#         df[col] = (df[col] - df.iloc[1][col]) / df.iloc[0][col]\n",
    "#         ax = df.plot(kind='line', y=col, secondary_y=False, label='MA_%s_%.2f' % (col, df.iloc[-1][col]), linewidth=1, grid=True, ax=ax)\n",
    "\n",
    "# display_charts(df, kind='line', figsize=(900, 600), logy=False)"
   ]
  },
  {
   "cell_type": "code",
   "execution_count": 14,
   "metadata": {
    "scrolled": false
   },
   "outputs": [
    {
     "data": {
      "text/plain": [
       "Index(['open', 'close', 'o_pct_chg', 'c_o_pct_chg', 'ROLLING_60_MAX',\n",
       "       'ROLLING_60_MIN', 'MA180', 'MA90', 'MA60', 'MA30', 'CASH_TURTLE',\n",
       "       'PROPERTY_TURTLE'],\n",
       "      dtype='object')"
      ]
     },
     "execution_count": 14,
     "metadata": {},
     "output_type": "execute_result"
    },
    {
     "data": {
      "text/html": [
       "\n",
       "<script src=\"https://code.jquery.com/jquery-3.1.1.min.js\"></script>\n",
       "<script src=\"https://code.highcharts.com/stock/highstock.js\"></script>\n",
       "<script src=\"https://code.highcharts.com/stock/modules/exporting.js\"></script>\n",
       "<script src=\"https://code.highcharts.com/stock/modules/export-data.js\"></script>\n",
       "<div id=\"chart_idFfSyvcMc\"</div>\n",
       "    <script type=\"text/javascript\">new Highcharts.StockChart({\"chart\":{\"renderTo\":\"chart_idFfSyvcMc\",\"width\":900,\"height\":600},\"legend\":{\"enabled\":true},\"series\":[{\"name\":\"CASH_TURTLE\",\"yAxis\":0,\"data\":[[1483401600000,1.0],[1483488000000,0.00182738],[1483574400000,0.00182738],[1483660800000,0.00182738],[1483920000000,0.00182738],[1484006400000,0.00182738],[1484092800000,0.00182738],[1484179200000,0.00182738],[1484265600000,0.00182738],[1484524800000,0.00182738],[1484611200000,0.00182738],[1484697600000,0.00279256],[1484784000000,0.00279256],[1484870400000,0.00279256],[1485129600000,0.00279256],[1485216000000,0.00279256],[1485302400000,0.00279256],[1485388800000,0.00279256],[1486080000000,0.00279256],[1486339200000,0.00354058],[1486425600000,0.00354058],[1486512000000,0.00354058],[1486598400000,0.00354058],[1486684800000,0.00697264],[1486944000000,0.00697264],[1487030400000,0.00697264],[1487116800000,0.00697264],[1487203200000,0.00697264],[1487289600000,0.00697264],[1487548800000,0.00697264],[1487635200000,0.00537476],[1487721600000,0.00537476],[1487808000000,0.00408866],[1487894400000,0.00408866],[1488153600000,0.00408866],[1488240000000,0.00224623],[1488326400000,0.00224623],[1488412800000,0.00224623],[1488499200000,0.00224623],[1488758400000,0.00224623],[1488844800000,0.00224623],[1488931200000,0.00224623],[1489017600000,0.00224623],[1489104000000,0.00224623],[1489363200000,0.00249579],[1489449600000,0.00249579],[1489536000000,0.00249579],[1489622400000,0.00249579],[1489708800000,0.00249579],[1489968000000,0.00249579],[1490054400000,0.00249579],[1490140800000,0.00249579],[1490227200000,0.00249579],[1490313600000,0.04346539],[1490572800000,0.04346539],[1490659200000,0.04346539],[1490745600000,0.04346539],[1490832000000,0.04346539],[1490918400000,0.04346539],[1491350400000,0.04346539],[1491436800000,0.04346539],[1491523200000,0.04373926],[1491782400000,0.04496224],[1491868800000,0.04496224],[1491955200000,0.04678533],[1492041600000,0.04678533],[1492128000000,0.04753343],[1492387200000,0.04753343],[1492473600000,0.04753343],[1492560000000,0.04741795],[1492646400000,0.04741795],[1492732800000,0.0439232],[1492992000000,0.04347725],[1493078400000,0.04401533],[1493164800000,0.04401533],[1493251200000,0.04401533],[1493337600000,0.03659359],[1493683200000,0.03659359],[1493769600000,0.03659359],[1493856000000,0.03659359],[1493942400000,0.03659359],[1494201600000,0.02981747],[1494288000000,0.02981747],[1494374400000,0.02981747],[1494460800000,0.02981747],[1494547200000,0.02981747],[1494806400000,0.02981747],[1494892800000,0.02981747],[1494979200000,0.02981747],[1495065600000,0.02981747],[1495152000000,0.02981747],[1495411200000,0.02981747],[1495497600000,0.02981747],[1495584000000,0.02981747],[1495670400000,0.02981747],[1495756800000,0.02981747],[1496188800000,0.02981747],[1496275200000,0.02981747],[1496361600000,0.02981747],[1496620800000,0.02932631],[1496707200000,0.02932631],[1496793600000,0.02932631],[1496880000000,0.02932631],[1496966400000,0.02932631],[1497225600000,0.02932631],[1497312000000,0.02932631],[1497398400000,0.02932631],[1497484800000,0.02932631],[1497571200000,0.02932631],[1497830400000,0.02932631],[1497916800000,0.02932631],[1498003200000,0.02932631],[1498089600000,0.02932631],[1498176000000,0.02932631],[1498435200000,0.02932631],[1498521600000,0.02932631],[1498608000000,0.01823269],[1498694400000,0.01035388],[1498780800000,0.01035388],[1499040000000,0.01035388],[1499126400000,0.01035388],[1499212800000,0.01035388],[1499299200000,0.01035388],[1499385600000,0.01035388],[1499644800000,0.01035388],[1499731200000,0.01035388],[1499817600000,0.01035388],[1499904000000,0.01035388],[1499990400000,0.01035388],[1500249600000,0.01035388],[1500336000000,0.01035388],[1500422400000,0.01035388],[1500508800000,0.01035388],[1500595200000,0.01035388],[1500854400000,0.01035388],[1500940800000,0.01035388],[1501027200000,0.01035388],[1501113600000,0.01035388],[1501200000000,0.01035388],[1501459200000,0.01035388],[1501545600000,0.01035388],[1501632000000,0.01035388],[1501718400000,0.01035388],[1501804800000,0.01035388],[1502064000000,0.01035388],[1502150400000,0.01035388],[1502236800000,0.01035388],[1502323200000,0.01035388],[1502409600000,0.01035388],[1502668800000,0.01035388],[1502755200000,0.01035388],[1502841600000,0.01035388],[1502928000000,0.00613789],[1503014400000,0.00613789],[1503273600000,0.00613789],[1503360000000,0.00613789],[1503446400000,0.00613789],[1503532800000,0.00613789],[1503619200000,0.00613789],[1503878400000,0.00778769],[1503964800000,0.00778769],[1504051200000,0.00778769],[1504137600000,0.00778769],[1504224000000,0.00778769],[1504483200000,0.00778769],[1504569600000,0.00778769],[1504656000000,0.00778769],[1504742400000,0.00778769],[1504828800000,0.00778769],[1505088000000,0.00778769],[1505174400000,0.00778769],[1505260800000,0.00621448],[1505347200000,0.00621448],[1505433600000,0.00621448],[1505692800000,0.00621448],[1505779200000,0.00621448],[1505865600000,0.00621448],[1505952000000,0.00621448],[1506038400000,0.00621448],[1506297600000,0.00621448],[1506384000000,0.00621448],[1506470400000,0.00621448],[1506556800000,0.00621448],[1506643200000,0.00621448],[1507507200000,0.00621448],[1507593600000,0.00411968],[1507680000000,0.00411968],[1507766400000,0.05155716],[1507852800000,0.05155716],[1508112000000,0.05155716],[1508198400000,0.05155716],[1508284800000,0.04620926],[1508371200000,0.04620926],[1508457600000,0.04620926],[1508716800000,0.04620926],[1508803200000,0.04620926],[1508889600000,0.04620926],[1508976000000,0.04620926],[1509062400000,0.04620926],[1509321600000,0.04620926],[1509408000000,0.04620926],[1509494400000,0.04620926],[1509580800000,0.04620926],[1509667200000,0.04620926],[1509926400000,0.04620926],[1510012800000,0.04620926],[1510099200000,0.04620926],[1510185600000,0.04620926],[1510272000000,0.04620926],[1510531200000,0.04620926],[1510617600000,0.04620926],[1510704000000,0.04620926],[1510790400000,0.04620926],[1510876800000,0.04620926],[1511136000000,0.04620926],[1511222400000,0.04620926],[1511308800000,0.04620926],[1511395200000,0.03902886],[1511481600000,0.03902886],[1511740800000,0.03902886],[1511827200000,0.03902886],[1511913600000,0.03902886],[1512000000000,0.03902886],[1512086400000,0.03902886],[1512345600000,0.03902886],[1512432000000,0.03902886],[1512518400000,0.03902886],[1512604800000,0.03902886],[1512691200000,0.03902886],[1512950400000,0.03902886],[1513036800000,0.03902886],[1513123200000,0.03902886],[1513209600000,0.03902886],[1513296000000,0.03902886],[1513555200000,0.03902886],[1513641600000,0.03902886],[1513728000000,0.03902886],[1513814400000,0.03902886],[1513900800000,0.02992027],[1514160000000,0.02992027],[1514246400000,0.02992027],[1514332800000,0.02992027],[1514419200000,0.02992027],[1514505600000,0.02992027],[1514851200000,0.02992027],[1514937600000,0.02992027],[1515024000000,0.02992027],[1515110400000,0.02992027],[1515369600000,0.02992027],[1515456000000,0.01154188],[1515542400000,0.01154188],[1515628800000,0.01154188],[1515715200000,0.01154188],[1515974400000,0.01154188],[1516060800000,0.01154188],[1516147200000,0.05536102],[1516233600000,0.05536102],[1516320000000,0.05536102],[1516579200000,0.05536102],[1516665600000,0.05536102],[1516752000000,0.05536102],[1516838400000,0.05536102],[1516924800000,0.05536102],[1517184000000,0.05536102],[1517270400000,0.05536102],[1517356800000,0.05536102],[1517443200000,0.05536102],[1517529600000,0.05536102],[1517788800000,0.05536102],[1517875200000,0.05536102],[1517961600000,0.05536102],[1518048000000,0.05536102],[1518134400000,0.05536102],[1518393600000,0.04950594],[1518480000000,0.04950594],[1518566400000,0.04950594],[1519257600000,0.04570472],[1519344000000,0.04570472],[1519603200000,0.04570472],[1519689600000,0.04570472],[1519776000000,0.04570472],[1519862400000,0.04570472],[1519948800000,0.04570472],[1520208000000,0.04570472],[1520294400000,0.04570472],[1520380800000,0.04570472],[1520467200000,0.04570472],[1520553600000,0.04570472],[1520812800000,0.04570472],[1520899200000,0.04570472],[1520985600000,0.04570472],[1521072000000,0.04570472],[1521158400000,0.04570472],[1521417600000,0.04570472],[1521504000000,0.04570472],[1521590400000,0.04570472],[1521676800000,0.04570472],[1521763200000,0.04570472],[1522022400000,0.03907592],[1522108800000,0.03907592],[1522195200000,0.03907592],[1522281600000,0.03907592],[1522368000000,0.03907592],[1522627200000,0.03907592],[1522713600000,0.03370951],[1522800000000,0.03370951],[1523232000000,0.03370951],[1523318400000,0.03370951],[1523404800000,0.01797319],[1523491200000,0.01797319],[1523577600000,0.01797319],[1523836800000,0.01797319],[1523923200000,0.01797319],[1524009600000,0.01797319],[1524096000000,0.01797319],[1524182400000,0.01797319],[1524441600000,0.01797319],[1524528000000,0.01797319],[1524614400000,0.01797319],[1524700800000,0.01797319],[1524787200000,0.01797319],[1525219200000,0.01797319],[1525305600000,0.01797319],[1525392000000,0.01797319],[1525651200000,0.01797319],[1525737600000,0.01797319],[1525824000000,0.01797319],[1525910400000,0.01797319],[1525996800000,0.01797319],[1526256000000,0.01797319],[1526342400000,0.01797319],[1526428800000,0.00869612],[1526515200000,0.00869612],[1526601600000,0.00869612],[1526860800000,0.00869612],[1526947200000,0.00869612],[1527033600000,0.00869612],[1527120000000,0.00869612],[1527206400000,0.00869612],[1527465600000,0.00869612],[1527552000000,0.00869612],[1527638400000,0.00869612],[1527724800000,0.00869612],[1527811200000,0.00869612],[1528070400000,0.00869612],[1528156800000,0.00869612],[1528243200000,0.00869612],[1528329600000,0.00869612],[1528416000000,0.00869612],[1528675200000,0.00869612],[1528761600000,0.00869612],[1528848000000,0.04575332],[1528934400000,0.04751016],[1529020800000,0.02916944],[1529366400000,0.02419212],[1529452800000,0.02419212],[1529539200000,0.02419212],[1529625600000,0.02419212],[1529884800000,0.02419212],[1529971200000,0.02419212],[1530057600000,0.05139421],[1530144000000,0.05139421],[1530230400000,0.00156241],[1530489600000,0.02169867],[1530576000000,0.04037183],[1530662400000,0.04037183],[1530748800000,0.03580353],[1530835200000,0.03580353],[1531094400000,0.03677111],[1531180800000,0.03677111],[1531267200000,0.03677111],[1531353600000,0.03677111],[1531440000000,0.03677111],[1531699200000,0.03677111],[1531785600000,0.03677111],[1531872000000,0.03768461],[1531958400000,0.03768461],[1532044800000,0.03768461],[1532304000000,0.03768461],[1532390400000,0.03768461],[1532476800000,0.03768461],[1532563200000,0.03768461],[1532649600000,0.03768461],[1532908800000,0.03386641],[1532995200000,0.03386641],[1533081600000,0.03386641]]},{\"name\":\"PROPERTY_TURTLE\",\"yAxis\":0,\"data\":[[1483401600000,-1.455191523e-16],[1483488000000,0.0],[1483574400000,0.00512715],[1483660800000,0.00865713],[1483920000000,-0.00058102],[1484006400000,0.00696332],[1484092800000,0.00868905],[1484179200000,-0.00277801],[1484265600000,-0.0115852],[1484524800000,-0.01207017],[1484611200000,-0.02696623],[1484697600000,-0.02131103],[1484784000000,-0.0227321],[1484870400000,-0.02505408],[1485129600000,-0.01357209],[1485216000000,-0.01156104],[1485302400000,-0.01304702],[1485388800000,-0.00898676],[1486080000000,-0.00566867],[1486339200000,-0.01577908],[1486425600000,-0.01335454],[1486512000000,-0.00967588],[1486598400000,-0.00679899],[1486684800000,-0.00032135],[1486944000000,0.00921038],[1487030400000,0.01418961],[1487116800000,0.01399535],[1487203200000,0.00468276],[1487289600000,0.0166089],[1487548800000,0.00427584],[1487635200000,0.02128562],[1487721600000,0.02712011],[1487808000000,0.02766464],[1487894400000,0.018681],[1488153600000,0.02261211],[1488240000000,0.01741204],[1488326400000,0.01849466],[1488412800000,0.01951435],[1488499200000,0.00585661],[1488758400000,0.00685405],[1488844800000,0.01301587],[1488931200000,0.0111907],[1489017600000,0.0075437],[1489104000000,0.01036752],[1489363200000,0.00955231],[1489449600000,0.01336313],[1489536000000,0.01068647],[1489622400000,0.01976533],[1489708800000,0.0240455],[1489968000000,0.01515609],[1490054400000,0.00747445],[1490140800000,0.00202358],[1490227200000,0.00386479],[1490313600000,0.00672339],[1490572800000,0.01553108],[1490659200000,0.0236219],[1490745600000,0.02520611],[1490832000000,0.02300378],[1490918400000,0.01502798],[1491350400000,0.02724773],[1491436800000,0.03011752],[1491523200000,0.02714318],[1491782400000,0.02678527],[1491868800000,0.03056083],[1491955200000,0.0372137],[1492041600000,0.03249307],[1492128000000,0.03582496],[1492387200000,0.02330534],[1492473600000,0.01615161],[1492560000000,0.00266391],[1492646400000,-0.0073643],[1492732800000,-0.00347714],[1492992000000,-0.0040985],[1493078400000,-0.01240098],[1493164800000,-0.01022032],[1493251200000,-0.01081345],[1493337600000,-0.00622705],[1493683200000,-0.00089312],[1493769600000,-0.00495924],[1493856000000,-0.00442214],[1493942400000,-0.0032348],[1494201600000,-0.01121202],[1494288000000,-0.01175347],[1494374400000,0.00056257],[1494460800000,-0.00723917],[1494547200000,0.00191006],[1494806400000,0.01401486],[1494892800000,0.01372257],[1494979200000,0.02076564],[1495065600000,0.00889007],[1495152000000,0.00842001],[1495411200000,0.00871745],[1495497600000,0.01074665],[1495584000000,0.01695301],[1495670400000,0.0227093],[1495756800000,0.0368646],[1496188800000,0.03845827],[1496275200000,0.0323208],[1496361600000,0.03617062],[1496620800000,0.03185459],[1496707200000,0.0305681],[1496793600000,0.03577504],[1496880000000,0.041745],[1496966400000,0.04637593],[1497225600000,0.04848115],[1497312000000,0.04981127],[1497398400000,0.05576958],[1497484800000,0.04500491],[1497571200000,0.04089809],[1497830400000,0.03809886],[1497916800000,0.04518964],[1498003200000,0.04198382],[1498089600000,0.04388736],[1498176000000,0.05035742],[1498435200000,0.05629699],[1498521600000,0.06365315],[1498608000000,0.06796719],[1498694400000,0.06485836],[1498780800000,0.05997118],[1499040000000,0.06330567],[1499126400000,0.05991321],[1499212800000,0.057111],[1499299200000,0.07861021],[1499385600000,0.08369333],[1499644800000,0.08073772],[1499731200000,0.07352939],[1499817600000,0.07625267],[1499904000000,0.0751577],[1499990400000,0.08118049],[1500249600000,0.09174867],[1500336000000,0.0837379],[1500422400000,0.08567947],[1500508800000,0.10007404],[1500595200000,0.10437964],[1500854400000,0.10304732],[1500940800000,0.11154846],[1501027200000,0.10478242],[1501113600000,0.09393129],[1501200000000,0.09467052],[1501459200000,0.10027069],[1501545600000,0.10182435],[1501632000000,0.11393972],[1501718400000,0.10737056],[1501804800000,0.09889729],[1502064000000,0.0906772],[1502150400000,0.09565919],[1502236800000,0.08978254],[1502323200000,0.08998847],[1502409600000,0.08095265],[1502668800000,0.07636206],[1502755200000,0.08361317],[1502841600000,0.09035594],[1502928000000,0.0871338],[1503014400000,0.08744264],[1503273600000,0.10242802],[1503360000000,0.10932002],[1503446400000,0.1147908],[1503532800000,0.1155303],[1503619200000,0.10963666],[1503878400000,0.12274944],[1503964800000,0.12509714],[1504051200000,0.12415639],[1504137600000,0.11528796],[1504224000000,0.10849147],[1504483200000,0.10689244],[1504569600000,0.11447622],[1504656000000,0.11328844],[1504742400000,0.11140247],[1504828800000,0.10288215],[1505088000000,0.10470721],[1505174400000,0.10370841],[1505260800000,0.10563853],[1505347200000,0.10223403],[1505433600000,0.09423263],[1505692800000,0.0909835],[1505779200000,0.09912713],[1505865600000,0.09881494],[1505952000000,0.09839988],[1506038400000,0.09985926],[1506297600000,0.10009309],[1506384000000,0.09808917],[1506470400000,0.09956283],[1506556800000,0.0998445],[1506643200000,0.09458359],[1507507200000,0.11347774],[1507593600000,0.10334495],[1507680000000,0.11004289],[1507766400000,0.11225811],[1507852800000,0.11877381],[1508112000000,0.12360763],[1508198400000,0.12591351],[1508284800000,0.12550547],[1508371200000,0.14009899],[1508457600000,0.13497382],[1508716800000,0.14075707],[1508803200000,0.14039443],[1508889600000,0.14950708],[1508976000000,0.15633726],[1509062400000,0.15661972],[1509321600000,0.1765149],[1509408000000,0.17374887],[1509494400000,0.16827998],[1509580800000,0.16231015],[1509667200000,0.15963434],[1509926400000,0.15557711],[1510012800000,0.16587042],[1510099200000,0.17574177],[1510185600000,0.17447299],[1510272000000,0.18136697],[1510531200000,0.2043559],[1510617600000,0.21211908],[1510704000000,0.19655857],[1510790400000,0.19412041],[1510876800000,0.2062005],[1511136000000,0.20874278],[1511222400000,0.21233424],[1511308800000,0.23073526],[1511395200000,0.21732256],[1511481600000,0.18673451],[1511740800000,0.18604439],[1511827200000,0.16765243],[1511913600000,0.17308655],[1512000000000,0.16112342],[1512086400000,0.15456397],[1512345600000,0.14494917],[1512432000000,0.15686697],[1512518400000,0.17036313],[1512604800000,0.16235506],[1512691200000,0.15045834],[1512950400000,0.16287595],[1513036800000,0.17491799],[1513123200000,0.15807274],[1513209600000,0.17055974],[1513296000000,0.1606961],[1513555200000,0.1554949],[1513641600000,0.15920299],[1513728000000,0.17767595],[1513814400000,0.17896846],[1513900800000,0.1906095],[1514160000000,0.18536741],[1514246400000,0.18778888],[1514332800000,0.18628708],[1514419200000,0.16645538],[1514505600000,0.16921905],[1514851200000,0.17583115],[1514937600000,0.19648483],[1515024000000,0.19406028],[1515110400000,0.19550765],[1515369600000,0.18496538],[1515456000000,0.17869721],[1515542400000,0.18975293],[1515628800000,0.18759449],[1515715200000,0.19412989],[1515974400000,0.20247282],[1516060800000,0.2043324],[1516147200000,0.20552925],[1516233600000,0.20524418],[1516320000000,0.20700236],[1516579200000,0.20045116],[1516665600000,0.218226],[1516752000000,0.22781799],[1516838400000,0.20967887],[1516924800000,0.20175568],[1517184000000,0.20538203],[1517270400000,0.17804532],[1517356800000,0.17121686],[1517443200000,0.18772954],[1517529600000,0.17667385],[1517788800000,0.17950601],[1517875200000,0.17586701],[1517961600000,0.18239723],[1518048000000,0.13568018],[1518134400000,0.10527488],[1518393600000,0.09703634],[1518480000000,0.12457662],[1518566400000,0.12889027],[1519257600000,0.14461971],[1519344000000,0.16126811],[1519603200000,0.16718901],[1519689600000,0.17826595],[1519776000000,0.14601406],[1519862400000,0.14055095],[1519948800000,0.14980091],[1520208000000,0.14551986],[1520294400000,0.13839188],[1520380800000,0.14930791],[1520467200000,0.14823327],[1520553600000,0.16913466],[1520812800000,0.17686296],[1520899200000,0.1748735],[1520985600000,0.15872361],[1521072000000,0.15357503],[1521158400000,0.1656967],[1521417600000,0.15562713],[1521504000000,0.15881129],[1521590400000,0.17973012],[1521676800000,0.16499161],[1521763200000,0.11915482],[1522022400000,0.11272454],[1522108800000,0.12450411],[1522195200000,0.09716981],[1522281600000,0.09629373],[1522368000000,0.11497465],[1522627200000,0.11257261],[1522713600000,0.09503569],[1522800000000,0.10522103],[1523232000000,0.10265859],[1523318400000,0.10201867],[1523404800000,0.12823695],[1523491200000,0.12729692],[1523577600000,0.12244686],[1523836800000,0.10571865],[1523923200000,0.08433768],[1524009600000,0.07519577],[1524096000000,0.07071806],[1524182400000,0.08410801],[1524441600000,0.07413359],[1524528000000,0.0727695],[1524614400000,0.09002675],[1524700800000,0.09406095],[1524787200000,0.08471209],[1525219200000,0.08662091],[1525305600000,0.0878738],[1525392000000,0.09103263],[1525651200000,0.09499708],[1525737600000,0.11740813],[1525824000000,0.13349162],[1525910400000,0.13860098],[1525996800000,0.14467026],[1526256000000,0.14345603],[1526342400000,0.1519154],[1526428800000,0.16414965],[1526515200000,0.15807156],[1526601600000,0.14054829],[1526860800000,0.15438544],[1526947200000,0.15020927],[1527033600000,0.14742706],[1527120000000,0.13880303],[1527206400000,0.1225125],[1527465600000,0.12128124],[1527552000000,0.13232714],[1527638400000,0.10207573],[1527724800000,0.10870493],[1527811200000,0.12069144],[1528070400000,0.10625317],[1528156800000,0.11012987],[1528243200000,0.11992165],[1528329600000,0.1103487],[1528416000000,0.1075001],[1528675200000,0.10011965],[1528761600000,0.11026162],[1528848000000,0.12385095],[1528934400000,0.11634861],[1529020800000,0.10820742],[1529366400000,0.087348],[1529452800000,0.06818341],[1529539200000,0.08495502],[1529625600000,0.06022372],[1529884800000,0.07673195],[1529971200000,0.04002594],[1530057600000,0.03353431],[1530144000000,0.00104051],[1530230400000,-0.01314922],[1530489600000,0.01357217],[1530576000000,-0.01228976],[1530662400000,-0.02836468],[1530748800000,-0.03963534],[1530835200000,-0.04697859],[1531094400000,-0.03762155],[1531180800000,-0.00897698],[1531267200000,-0.02073802],[1531353600000,-0.0113765],[1531440000000,0.01442428],[1531699200000,0.02993451],[1531785600000,0.02736841],[1531872000000,0.01715926],[1531958400000,0.00841266],[1532044800000,-0.00866539],[1532304000000,-0.01873319],[1532390400000,-0.00748379],[1532476800000,-0.00249449],[1532563200000,0.00059441],[1532649600000,-0.02041144],[1532908800000,-0.02366194],[1532995200000,-0.03964134],[1533081600000,-0.03893239]]},{\"name\":\"close\",\"yAxis\":0,\"data\":[[1483401600000,0.0],[1483488000000,0.0078031733],[1483574400000,0.0076475886],[1483660800000,0.0016276558],[1483920000000,0.006483695],[1484006400000,0.004799191],[1484092800000,-0.0023128271],[1484179200000,-0.0073633472],[1484265600000,-0.0066781759],[1484524800000,-0.0068158086],[1484611200000,-0.0047483267],[1484697600000,-0.0008557161],[1484784000000,-0.0038716665],[1484870400000,0.0037878901],[1485129600000,0.0065375513],[1485216000000,0.0066482558],[1485302400000,0.0100741122],[1485388800000,0.0136824815],[1486080000000,0.0066602239],[1486339200000,0.0092692603],[1486425600000,0.0070162736],[1486512000000,0.0122852108],[1486598400000,0.0161748294],[1486684800000,0.021321094],[1486944000000,0.0281369026],[1487030400000,0.0279962779],[1487116800000,0.0237805298],[1487203200000,0.0295311813],[1487289600000,0.0236997454],[1487548800000,0.0386448569],[1487635200000,0.0420647292],[1487721600000,0.0441411872],[1487808000000,0.0392223156],[1487894400000,0.0393808924],[1488153600000,0.0311139568],[1488240000000,0.0330856943],[1488326400000,0.0347701983],[1488412800000,0.0277868369],[1488499200000,0.0256206186],[1488758400000,0.0311917492],[1488844800000,0.0334297759],[1488931200000,0.0318649524],[1489017600000,0.0253453533],[1489104000000,0.0256295946],[1489363200000,0.0346684699],[1489449600000,0.0342465958],[1489536000000,0.0363260458],[1489622400000,0.0416727754],[1489708800000,0.0309912843],[1489968000000,0.0321282497],[1490054400000,0.0371368817],[1490140800000,0.0322598983],[1490227200000,0.0358293714],[1490313600000,0.0440933149],[1490572800000,0.0406345464],[1490659200000,0.0381721186],[1490745600000,0.036789808],[1490832000000,0.0282835113],[1490918400000,0.0340551069],[1491350400000,0.0483689034],[1491436800000,0.0514087899],[1491523200000,0.0524290668],[1491782400000,0.0487429052],[1491868800000,0.0523901706],[1491955200000,0.0500294713],[1492041600000,0.0515643747],[1492128000000,0.0431657905],[1492387200000,0.0412030291],[1492473600000,0.0360567645],[1492560000000,0.0310122284],[1492646400000,0.0357007148],[1492732800000,0.0372685303],[1492992000000,0.0266379034],[1493078400000,0.0295431493],[1493164800000,0.0308027874],[1493251200000,0.0312635576],[1493337600000,0.0291781236],[1493683200000,0.0252376407],[1493769600000,0.0212133815],[1493856000000,0.018598361],[1493942400000,0.0120638017],[1494201600000,0.0049607597],[1494288000000,0.0030817747],[1494374400000,-0.0013553825],[1494460800000,0.0043144846],[1494547200000,0.0129105418],[1494806400000,0.0170425135],[1494892800000,0.0258569877],[1494979200000,0.020267905],[1495065600000,0.016719376],[1495152000000,0.0184367922],[1495411200000,0.0206478908],[1495497600000,0.0245225493],[1495584000000,0.0245165653],[1495670400000,0.0429144613],[1495756800000,0.0413496378],[1496188800000,0.0450746956],[1496275200000,0.0465288146],[1496361600000,0.0431687825],[1496620800000,0.0378549651],[1496707200000,0.0450746956],[1496793600000,0.0573389623],[1496880000000,0.0654503131],[1496966400000,0.0699951829],[1497225600000,0.0694626043],[1497312000000,0.0718203116],[1497398400000,0.0577668204],[1497484800000,0.055819019],[1497571200000,0.0528180287],[1497830400000,0.0632631507],[1497916800000,0.0611148844],[1498003200000,0.0735227677],[1498089600000,0.0742348671],[1498176000000,0.0839708817],[1498435200000,0.0974977784],[1498521600000,0.0994814839],[1498608000000,0.0909392831],[1498694400000,0.0977191875],[1498780800000,0.0971118086],[1499040000000,0.0923395458],[1499126400000,0.0831031976],[1499212800000,0.0949814944],[1499299200000,0.095107159],[1499385600000,0.093859489],[1499644800000,0.0931892778],[1499731200000,0.0983116063],[1499817600000,0.0947241812],[1499904000000,0.1031317414],[1499990400000,0.1079698285],[1500249600000,0.0961423959],[1500336000000,0.0972255051],[1500422400000,0.1159465387],[1500508800000,0.1213710606],[1500595200000,0.115602457],[1500854400000,0.1200515823],[1500940800000,0.1128976761],[1501027200000,0.1086579918],[1501113600000,0.1106925616],[1501200000000,0.1135948154],[1501459200000,0.1183760543],[1501545600000,0.1281030928],[1501632000000,0.1252517032],[1501718400000,0.1153720719],[1501804800000,0.109313243],[1502064000000,0.1150609025],[1502150400000,0.1166825742],[1502236800000,0.1163325085],[1502323200000,0.1118085829],[1502409600000,0.0912923407],[1502668800000,0.1054535445],[1502755200000,0.1088584568],[1502841600000,0.1074701621],[1502928000000,0.1134123026],[1503014400000,0.1144265954],[1503273600000,0.1193095628],[1503360000000,0.122693531],[1503446400000,0.1238275044],[1503532800000,0.1174126257],[1503619200000,0.1356938332],[1503878400000,0.1497443324],[1503964800000,0.1472998567],[1504051200000,0.1472280483],[1504137600000,0.1435747989],[1504224000000,0.146103051],[1504483200000,0.1506150085],[1504569600000,0.1540348809],[1504656000000,0.15176095],[1504742400000,0.145902586],[1504828800000,0.1447416844],[1505088000000,0.144639956],[1505174400000,0.1483141495],[1505260800000,0.1497144122],[1505347200000,0.1459295141],[1505433600000,0.146330444],[1505692800000,0.149872989],[1505779200000,0.1465757892],[1505865600000,0.149663548],[1505952000000,0.1482812374],[1506038400000,0.1482543092],[1506297600000,0.1422882327],[1506384000000,0.143182845],[1506470400000,0.1433085096],[1506556800000,0.1437094395],[1506643200000,0.1478862915],[1507507200000,0.1615627889],[1507593600000,0.1638516799],[1507680000000,0.1676904342],[1507766400000,0.1707602409],[1507852800000,0.1731688124],[1508112000000,0.1709098416],[1508198400000,0.1707961451],[1508284800000,0.1800983176],[1508371200000,0.1762356271],[1508457600000,0.1749191408],[1508716800000,0.1761009865],[1508803200000,0.1846581474],[1508889600000,0.1899091325],[1508976000000,0.1948848523],[1509062400000,0.203379181],[1509321600000,0.1997139634],[1509408000000,0.1988163591],[1509494400000,0.1957944247],[1509580800000,0.1959470174],[1509667200000,0.1946215551],[1509926400000,0.2030560434],[1510012800000,0.2130374032],[1510099200000,0.2111703862],[1510185600000,0.2195151142],[1510272000000,0.2302893577],[1510531200000,0.2351244528],[1510617600000,0.2265313877],[1510704000000,0.218847895],[1510790400000,0.2282248678],[1510876800000,0.2329642185],[1511136000000,0.2398398674],[1511222400000,0.2619418771],[1511308800000,0.2648949953],[1511395200000,0.2274439521],[1511481600000,0.2279825147],[1511740800000,0.211750837],[1511827200000,0.2135071494],[1511913600000,0.2128878025],[1512000000000,0.1986308543],[1512086400000,0.1962492109],[1512345600000,0.2024486645],[1512432000000,0.208824647],[1512518400000,0.2015390922],[1512604800000,0.1881468361],[1512691200000,0.1978170264],[1512950400000,0.217600225],[1513036800000,0.2015989324],[1513123200000,0.2117927252],[1513209600000,0.2046298429],[1513296000000,0.1910790101],[1513555200000,0.1924044725],[1513641600000,0.2073765121],[1513728000000,0.2059283772],[1513814400000,0.2171065426],[1513900800000,0.2131421237],[1514160000000,0.209234553],[1514246400000,0.2128489063],[1514332800000,0.1941757449],[1514419200000,0.2024606326],[1514505600000,0.2060360897],[1514851200000,0.2229559306],[1514937600000,0.230133773],[1515024000000,0.2353458619],[1515110400000,0.2383199241],[1515369600000,0.2447258268],[1515456000000,0.2534445565],[1515542400000,0.258982775],[1515628800000,0.2583185478],[1515715200000,0.2641260476],[1515974400000,0.2641978559],[1516060800000,0.2741403195],[1516147200000,0.2710435847],[1516233600000,0.278014978],[1516320000000,0.282197814],[1516579200000,0.2975169273],[1516665600000,0.3112831852],[1516752000000,0.3134613716],[1516838400000,0.3060381841],[1516924800000,0.3108912313],[1517184000000,0.2871705418],[1517270400000,0.2734312121],[1517356800000,0.2793554004],[1517443200000,0.2703793575],[1517529600000,0.2779581298],[1517788800000,0.2788317979],[1517875200000,0.2413538266],[1517961600000,0.2119153978],[1518048000000,0.2004111028],[1518134400000,0.1491279774],[1518393600000,0.1639234882],[1518480000000,0.1775461294],[1518566400000,0.1869201102],[1519257600000,0.212582617],[1519344000000,0.2180759553],[1519603200000,0.232237159],[1519689600000,0.2144526259],[1519776000000,0.2038788474],[1519862400000,0.2114935238],[1519948800000,0.2017305811],[1520208000000,0.2022212714],[1520294400000,0.2167205728],[1520380800000,0.207771458],[1520467200000,0.2200237566],[1520553600000,0.2293797854],[1520812800000,0.2350047723],[1520899200000,0.2241078561],[1520985600000,0.2187491585],[1521072000000,0.2255769352],[1521158400000,0.2136866703],[1521417600000,0.2190214318],[1521504000000,0.2200536767],[1521590400000,0.2150719729],[1521676800000,0.2028944746],[1521763200000,0.1683636375],[1522022400000,0.1608686416],[1522108800000,0.1708559854],[1522195200000,0.1497473244],[1522281600000,0.1651053339],[1522368000000,0.1664367802],[1522627200000,0.1629720277],[1522713600000,0.1556595447],[1522800000000,0.1533796298],[1523232000000,0.152802171],[1523318400000,0.1750148853],[1523404800000,0.1783569653],[1523491200000,0.1664786684],[1523577600000,0.1582506291],[1523836800000,0.1396163639],[1523923200000,0.1215984537],[1524009600000,0.126876367],[1524096000000,0.1405079842],[1524182400000,0.1252517032],[1524441600000,0.126891327],[1524528000000,0.1499777095],[1524614400000,0.1455525203],[1524700800000,0.1236479835],[1524787200000,0.1240638735],[1525219200000,0.1260894672],[1525305600000,0.1348710292],[1525392000000,0.1293657229],[1525651200000,0.1471951362],[1525737600000,0.1605066079],[1525824000000,0.1583942458],[1525910400000,0.1648091244],[1525996800000,0.1587592715],[1526256000000,0.1696651637],[1526342400000,0.1740963369],[1526428800000,0.1647433001],[1526515200000,0.1561292909],[1526601600000,0.1678011388],[1526860800000,0.1732406208],[1526947200000,0.1687436233],[1527033600000,0.1532958534],[1527120000000,0.1451097022],[1527206400000,0.1419022629],[1527465600000,0.1469168789],[1527552000000,0.138165237],[1527638400000,0.1140376336],[1527724800000,0.1376775386],[1527811200000,0.1281659251],[1528070400000,0.1392333861],[1528156800000,0.1505252481],[1528243200000,0.1481406127],[1528329600000,0.1462436756],[1528416000000,0.1308677141],[1528675200000,0.1309754266],[1528761600000,0.1447297164],[1528848000000,0.1334767506],[1528934400000,0.1289977051],[1529020800000,0.1230316286],[1529366400000,0.0834442872],[1529452800000,0.0877288517],[1529539200000,0.0750217669],[1529625600000,0.0797880457],[1529884800000,0.0653007124],[1529971200000,0.0565131664],[1530057600000,0.0350155435],[1530144000000,0.0243250764],[1530230400000,0.0504902415],[1530489600000,0.0196665101],[1530576000000,0.020061456],[1530662400000,0.0064388148],[1530748800000,0.0000628323],[1530835200000,0.0068487208],[1531094400000,0.0349916074],[1531180800000,0.0374869473],[1531267200000,0.0195378535],[1531353600000,0.0415381347],[1531440000000,0.0450178474],[1531699200000,0.0388542979],[1531785600000,0.0320594334],[1531872000000,0.0266558555],[1531958400000,0.0257642353],[1532044800000,0.0450776877],[1532304000000,0.0549094467],[1532390400000,0.0716527588],[1532476800000,0.0704679211],[1532563200000,0.0580510617],[1532649600000,0.0535570562],[1532908800000,0.0517169674],[1532995200000,0.0524889071],[1533081600000,0.0314640225]]}],\"xAxis\":{\"title\":{\"text\":\"date\"},\"type\":\"datetime\"},\"yAxis\":[{}]});</script>"
      ],
      "text/plain": [
       "<IPython.core.display.HTML object>"
      ]
     },
     "metadata": {},
     "output_type": "display_data"
    }
   ],
   "source": [
    "df = show_df.dropna(how='any', inplace=False).copy()\n",
    "# df.drop(columns=['open', 'high', 'low', 'o_pct_chg', 'TR', 'N'], inplace=True)\n",
    "df = df.loc[start_date:end_date]\n",
    "df.columns\n",
    "\n",
    "show_columns = ['close']\n",
    "df['close'] = (df['close'] - df.iloc[0]['close']) / df.iloc[0]['close']\n",
    "for col in sorted(df.columns):\n",
    "    if 'PROPERTY' in col:\n",
    "        df[col] = (df[col] - df.iloc[1][col]) / df.iloc[0][col]\n",
    "        show_columns.append(col)\n",
    "    if 'CASH' in col:\n",
    "        df[col] = df[col] / df.iloc[0][col]\n",
    "        show_columns.append(col)\n",
    "\n",
    "# df = df.loc[:, ['close', 'CASH_TURTLE_20_60_60', 'PROPERTY_TURTLE_20_60_60']]\n",
    "df = df.loc[:, show_columns]\n",
    "df.reset_index(drop=False, inplace=True)\n",
    "# df.dtypes\n",
    "# df.iloc[0].date\n",
    "# df.iloc[0].date.to_timestamp()\n",
    "# df.iloc[0].date.to_timestamp().to_datetime64()\n",
    "df['date'] = df['date'].apply(lambda x: x.to_timestamp().to_datetime64())\n",
    "# df.iloc[0].date\n",
    "df.set_index(keys=['date'], inplace=True)\n",
    "# df\n",
    "\n",
    "\n",
    "import pandas_highcharts\n",
    "from pandas_highcharts.core import serialize\n",
    "from pandas_highcharts.display import display_charts\n",
    "\n",
    "display_charts(df, chart_type='stock', figsize=(900, 600), logy=False)\n",
    "# display_charts"
   ]
  }
 ],
 "metadata": {
  "kernelspec": {
   "display_name": "Python 3",
   "language": "python",
   "name": "python3"
  },
  "language_info": {
   "codemirror_mode": {
    "name": "ipython",
    "version": 3
   },
   "file_extension": ".py",
   "mimetype": "text/x-python",
   "name": "python",
   "nbconvert_exporter": "python",
   "pygments_lexer": "ipython3",
   "version": "3.6.1"
  }
 },
 "nbformat": 4,
 "nbformat_minor": 2
}
