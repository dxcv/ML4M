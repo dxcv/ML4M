{
 "cells": [
  {
   "cell_type": "markdown",
   "metadata": {},
   "source": [
    "# 总体回测前"
   ]
  },
  {
   "cell_type": "markdown",
   "metadata": {},
   "source": [
    "## 设置参数"
   ]
  },
  {
   "cell_type": "code",
   "execution_count": 1,
   "metadata": {},
   "outputs": [
    {
     "data": {
      "text/html": [
       "\n",
       "<script src=\"https://code.jquery.com/jquery-3.1.1.min.js\"></script>\n",
       "<script src=\"https://code.highcharts.com/stock/highstock.js\"></script>\n",
       "<script src=\"https://code.highcharts.com/stock/modules/exporting.js\"></script>\n",
       "<script src=\"https://code.highcharts.com/stock/modules/export-data.js\"></script>\n"
      ],
      "text/plain": [
       "<IPython.core.display.HTML object>"
      ]
     },
     "metadata": {},
     "output_type": "display_data"
    },
    {
     "data": {
      "text/plain": [
       "<module 'pandas' from 'd:\\\\python3\\\\lib\\\\site-packages\\\\pandas\\\\__init__.py'>"
      ]
     },
     "execution_count": 1,
     "metadata": {},
     "output_type": "execute_result"
    }
   ],
   "source": [
    "import os\n",
    "import sys\n",
    "sys.path.append(os.path.abspath(os.path.join(os.getcwd(), '..')))\n",
    "\n",
    "import pandas as pd\n",
    "pd.core.common.is_list_like = pd.api.types.is_list_like\n",
    "try:\n",
    "    import empyrical as emp\n",
    "except:\n",
    "    emp = None\n",
    "import tushare as ts\n",
    "import time\n",
    "import datetime\n",
    "import random\n",
    "\n",
    "from common.config import Config\n",
    "from spider.spider_nasdaq import Spider_nasdaq\n",
    "from spider.spider_coinmarketcap import Spider_coinmarketcap\n",
    "\n",
    "from IPython.core.interactiveshell import InteractiveShell\n",
    "InteractiveShell.ast_node_interactivity = 'all'\n",
    "\n",
    "from pandas_highcharts.core import serialize\n",
    "from pandas_highcharts.display import display_charts\n",
    "\n",
    "CONF = Config().data[0]\n",
    "CRYPTOCURRENCY = CONF['CRYPTOCURRENCY']\n",
    "CRYPTOCURRENCY = list(CRYPTOCURRENCY.keys())\n",
    "NASDAQ100 = CONF['NASDAQ100']\n",
    "HS300 = list(ts.get_hs300s()['code'])\n",
    "\n",
    "BENCHMARK = '399300'\n",
    "# TARGET = ['399300']\n",
    "TARGET = HS300\n",
    "\n",
    "ALL_TARGET = TARGET[:]\n",
    "\n",
    "pd"
   ]
  },
  {
   "cell_type": "code",
   "execution_count": 2,
   "metadata": {},
   "outputs": [
    {
     "name": "stdout",
     "output_type": "stream",
     "text": [
      "Wall time: 0 ns\n"
     ]
    }
   ],
   "source": [
    "%%time\n",
    "\n",
    "### 时间设置\n",
    "# start_date = '2005-01-01'\n",
    "# start_date = '2006-01-01'\n",
    "# start_date = '2007-01-01'\n",
    "# start_date = '2008-01-01'\n",
    "# start_date = '2009-01-01'\n",
    "# start_date = '2010-01-01'\n",
    "# start_date = '2011-01-01'\n",
    "# start_date = '2012-01-01'\n",
    "# start_date = '2013-01-01'\n",
    "# start_date = '2014-01-01'\n",
    "# start_date = '2015-01-01'\n",
    "# start_date = '2015-07-01'\n",
    "# start_date = '2016-01-01'\n",
    "start_date = '2017-01-01'\n",
    "# start_date = '2018-01-01'\n",
    "# start_date = '2018-08-01'\n",
    "# end_date = '2016-01-01'\n",
    "# end_date = '2018-08-01'\n",
    "end_date = time.strftime('%Y-%m-%d')\n",
    "\n",
    "TURTLE_POS = 20\n",
    "### Turtle System One - Short\n",
    "TURTLE_SHORT_BUY_N = 20\n",
    "TURTLE_SHORT_SELL_N = 20\n",
    "### Turtle System Two - Long\n",
    "TURTLE_LONG_BUY_N = 60\n",
    "TURTLE_LONG_SELL_N = 60\n",
    "\n",
    "### 业务设置\n",
    "IS_HAPPYMONEY = False\n",
    "IS_TAX = False\n",
    "IS_SLIPPAGE = False\n",
    "IS_RANDOM_BUY = False\n",
    "IS_FILTER = False\n",
    "IS_MARKETUP = True\n",
    "IS_BUYBENCHMARK = True\n",
    "IS_SHOWBUYLIST = True\n",
    "START_MONEY = 10000\n",
    "HAPPY_MONEY = 0\n",
    "PROPERTY = START_MONEY\n",
    "CASH = START_MONEY"
   ]
  },
  {
   "cell_type": "markdown",
   "metadata": {},
   "source": [
    "# 每天开盘前"
   ]
  },
  {
   "cell_type": "markdown",
   "metadata": {},
   "source": [
    "## 是否交易日"
   ]
  },
  {
   "cell_type": "code",
   "execution_count": null,
   "metadata": {},
   "outputs": [],
   "source": [
    "# today = datetime.date.today().strftime('%Y-%m-%d')\n",
    "# lastweek = (datetime.date.today()  - datetime.timedelta(days=7)).strftime('%Y-%m-%d')\n",
    "# df = ts.get_k_data(code='399300', index=True, start=lastweek, end=today)\n",
    "# df\n",
    "\n",
    "# if df.iloc[-1].date == today:\n",
    "#     is_today_trading = True\n",
    "# else:\n",
    "#     is_today_trading = False\n",
    "# #     return False"
   ]
  },
  {
   "cell_type": "markdown",
   "metadata": {},
   "source": [
    "## 准备历史数据"
   ]
  },
  {
   "cell_type": "code",
   "execution_count": null,
   "metadata": {},
   "outputs": [],
   "source": [
    "%%time\n",
    "\n",
    "stock_df_dict = {}\n",
    "\n",
    "for symbol in TARGET + [BENCHMARK]:\n",
    "    stock_data_file = '../database/market/%s_lite.csv' % symbol\n",
    "    stock_df = pd.read_csv(stock_data_file)\n",
    "\n",
    "    # 筛选字段\n",
    "    stock_df = stock_df.loc[:, ['date', 'open', 'close']]\n",
    "\n",
    "    # 去掉Nasdaq行情首行的当天行情\n",
    "    if symbol in NASDAQ100:\n",
    "        stock_df = stock_df.drop([0])\n",
    "\n",
    "    # 抛弃空值异常值\n",
    "    stock_df.dropna(axis=0, how='any', inplace=True)\n",
    "\n",
    "    # 格式化日期\n",
    "    # 445 ms ± 17.5 ms per loop (mean ± std. dev. of 7 runs, 1 loop each)\n",
    "    stock_df = stock_df.assign(date=pd.to_datetime(stock_df['date']))  # need .index.to_period('D')\n",
    "\n",
    "    # 用日期作索引，日期升序排序\n",
    "    # 95.1 µs ± 1.58 µs per loop (mean ± std. dev. of 7 runs, 10000 loops each)\n",
    "    if symbol in NASDAQ100 or symbol in CRYPTOCURRENCY:\n",
    "        stock_df = stock_df[::-1]\n",
    "    stock_df.set_index(['date'], inplace=True)\n",
    "    stock_df.index = stock_df.index.to_period('D')\n",
    "\n",
    "    # 计算每天涨跌幅\n",
    "    stock_df['o_pct_chg'] = stock_df.open.pct_change(1)\n",
    "    stock_df['c_o_pct_chg'] = (stock_df.open - stock_df.close.shift(1)) / stock_df.close.shift(1)\n",
    "    \n",
    "    # Turtle指标\n",
    "    stock_df['ROLLING_%d_MAX' % TURTLE_LONG_BUY_N] = stock_df['open'].rolling(TURTLE_LONG_BUY_N).max()\n",
    "    stock_df['ROLLING_%d_MIN' % TURTLE_LONG_SELL_N] = stock_df['open'].rolling(TURTLE_LONG_SELL_N).min()\n",
    "    stock_df['MA180'] = stock_df['open'].rolling(180).mean()\n",
    "    stock_df['MA90'] = stock_df['open'].rolling(90).mean()\n",
    "    stock_df['MA60'] = stock_df['open'].rolling(60).mean()\n",
    "    stock_df['MA30'] = stock_df['open'].rolling(30).mean()\n",
    "    \n",
    "    # 减少数据\n",
    "    # stock_df = stock_df['2016-01-01':]\n",
    "    stock_df.dropna(how='any', inplace=True)\n",
    "    \n",
    "    stock_df_dict[symbol] = stock_df"
   ]
  },
  {
   "cell_type": "markdown",
   "metadata": {},
   "source": [
    "## 抽查数据"
   ]
  },
  {
   "cell_type": "code",
   "execution_count": null,
   "metadata": {},
   "outputs": [],
   "source": [
    "stock_df_dict[BENCHMARK].head(2)\n",
    "stock_df_dict[BENCHMARK].tail(2)\n",
    "\n",
    "df = stock_df_dict[BENCHMARK].iloc[:].copy()\n",
    "df.columns\n",
    "df.reset_index(drop=False, inplace=True)\n",
    "df['date'] = df['date'].apply(lambda x: x.to_timestamp().to_datetime64())\n",
    "df.set_index('date', inplace=True)\n",
    "display_charts(df, chart_type='stock', kind='line', y=['open', 'ROLLING_60_MAX', 'ROLLING_60_MIN', 'MA60', 'MA180'], figsize=(900, 600))"
   ]
  },
  {
   "cell_type": "markdown",
   "metadata": {},
   "source": [
    "## 准备订单数据"
   ]
  },
  {
   "cell_type": "code",
   "execution_count": null,
   "metadata": {},
   "outputs": [],
   "source": [
    "# get_order"
   ]
  },
  {
   "cell_type": "markdown",
   "metadata": {},
   "source": [
    "## 计算现金和总资产"
   ]
  },
  {
   "cell_type": "code",
   "execution_count": null,
   "metadata": {},
   "outputs": [],
   "source": [
    "# get_cash"
   ]
  },
  {
   "cell_type": "markdown",
   "metadata": {},
   "source": [
    "## 关注临界卖出目标"
   ]
  },
  {
   "cell_type": "markdown",
   "metadata": {},
   "source": [
    "## 关注临界买入目标"
   ]
  },
  {
   "cell_type": "code",
   "execution_count": null,
   "metadata": {},
   "outputs": [],
   "source": [
    "watch_buy_df = None\n",
    "watch_buy_df = pd.DataFrame(columns=[\n",
    "    'date', 'symbol', 'open', 'ROLLING_MAX', 'minus'\n",
    "])\n",
    "\n",
    "today = pd.to_datetime(time.strftime('%Y-%m-%d'))\n",
    "today = today.to_period(freq='D')\n",
    "'today', today\n",
    "\n",
    "for symbol in TARGET + [BENCHMARK]:\n",
    "    if len(stock_df_dict[symbol]) == 0:\n",
    "        continue\n",
    "    yesterday_market = stock_df_dict[symbol].iloc[-1]\n",
    "    if today - yesterday_market.name > 3:\n",
    "        continue\n",
    "    watch_buy_df = watch_buy_df.append(\n",
    "        {\n",
    "            'date': yesterday_market.name,\n",
    "            'symbol': symbol,\n",
    "            'open': yesterday_market.open,\n",
    "            'ROLLING_MAX': yesterday_market['ROLLING_%d_MAX' % TURTLE_LONG_BUY_N],\n",
    "            'minus': (yesterday_market['ROLLING_%d_MAX' % TURTLE_LONG_BUY_N] - yesterday_market.open) / yesterday_market.open\n",
    "        },\n",
    "        ignore_index=True\n",
    "    )\n",
    "\n",
    "# watch_buy_df.sort_values(by='date')\n",
    "watch_buy_df.sort_values(by='minus')[:10]"
   ]
  },
  {
   "cell_type": "markdown",
   "metadata": {},
   "source": [
    "# 每天交易时"
   ]
  },
  {
   "cell_type": "markdown",
   "metadata": {},
   "source": [
    "## 第一时间获取开盘价"
   ]
  },
  {
   "cell_type": "code",
   "execution_count": null,
   "metadata": {
    "scrolled": false
   },
   "outputs": [],
   "source": [
    "%%time\n",
    "\n",
    "today_open_market = ts.get_today_all()\n",
    "print('')\n",
    "print('len(today_open_market)', len(today_open_market))"
   ]
  },
  {
   "cell_type": "markdown",
   "metadata": {},
   "source": [
    "## 执行卖出\n"
   ]
  },
  {
   "cell_type": "markdown",
   "metadata": {},
   "source": [
    "## 计算买入信号"
   ]
  },
  {
   "cell_type": "code",
   "execution_count": null,
   "metadata": {
    "scrolled": false
   },
   "outputs": [],
   "source": [
    "today = pd.to_datetime(time.strftime('%Y-%m-%d'))\n",
    "today = today.to_period(freq='D')\n",
    "\n",
    "benchmark_lastday_market = stock_df_dict[BENCHMARK].loc[:today].iloc[-1]\n",
    "benchmark_today_market = stock_df_dict[BENCHMARK].loc[:today].iloc[-1]\n",
    "\n",
    "target_today_market = today_open_market.copy()\n",
    "target_today_market.set_index(keys='code', inplace=True)\n",
    "# target_today_market[:10]\n",
    "# stock_df_dict['600000']\n",
    "# target_today_market.loc['600000']\n",
    "buy_list = []\n",
    "\n",
    "# 趋势交易，只在好行情时买入\n",
    "is_market_up = True\n",
    "if IS_MARKETUP:\n",
    "    if benchmark_lastday_market.MA60 < benchmark_lastday_market.MA180:\n",
    "        print('BENCHMARK', BENCHMARK)\n",
    "        print('LASTDAY', benchmark_lastday_market.name)\n",
    "        print('OPEN', benchmark_lastday_market.open)\n",
    "        print('MA60', benchmark_today_market.MA60)\n",
    "        print('MA180', benchmark_today_market.MA180)\n",
    "        print('MARKET IS DOWN, STOP BUYING!')\n",
    "        is_market_up = False\n",
    "\n",
    "\n",
    "# 遍历标的，判断和执行买入\n",
    "for symbol in TARGET:\n",
    "#     print(symbol)\n",
    "    \n",
    "    if not is_market_up:\n",
    "        pass\n",
    "#         break\n",
    "\n",
    "    if len(stock_df_dict[symbol]) == 0:\n",
    "        continue\n",
    "\n",
    "    today_market = target_today_market.loc[symbol]\n",
    "#     today_market\n",
    "    lastday_market = stock_df_dict[symbol].loc[:today].iloc[-1]\n",
    "#     lastday_market\n",
    "    \n",
    "#     if today - lastday_market.name > 3:\n",
    "#         continue\n",
    "\n",
    "    # 突破上行趋势，就买一份\n",
    "    is_buy = False\n",
    "    buy_reason = ''\n",
    "\n",
    "    # 指数就不要过滤器了\n",
    "    if True:\n",
    "        if lastday_market.MA90 >= lastday_market.MA180:\n",
    "            is_buy = True\n",
    "            buy_reason += 'MA'\n",
    "        if today_market.open >= lastday_market['ROLLING_%d_MAX' % TURTLE_LONG_BUY_N]:\n",
    "            is_buy = True\n",
    "            buy_reason += 'LONG'\n",
    "        if False and today_market.open >= lastday_market['ROLLING_%d_MAX' % TURTLE_SHORT_BUY_N]:\n",
    "            is_buy = True\n",
    "            buy_reason += 'SHORT'\n",
    "\n",
    "    # 加入购买信号列表\n",
    "    if is_buy:\n",
    "        buy_list.append(symbol)\n",
    "\n",
    "\n",
    "if IS_RANDOM_BUY:\n",
    "    random.shuffle(buy_list)\n",
    "else:\n",
    "    tmp_list = []\n",
    "    for symbol in buy_list:\n",
    "        try:\n",
    "            return_lastyear = stock_df_dict[symbol][:today].iloc[-1].open / stock_df_dict[symbol][:today].iloc[-250].open - 1\n",
    "        except:\n",
    "            return_lastyear = stock_df_dict[symbol][:today].iloc[-1].open / stock_df_dict[symbol][:today].iloc[1].open - 1\n",
    "        tmp_list.append((return_lastyear, symbol))\n",
    "    tmp_list = sorted(tmp_list, reverse=True)\n",
    "    buy_list = [x for x in tmp_list if x[0]>0]\n",
    "#     buy_list = [x[1] for x in tmp_list]\n",
    "#     buy_list = tmp_list\n",
    "\n",
    "\n",
    "buy_list_df = None\n",
    "buy_list_df = pd.DataFrame(columns=[\n",
    "    'today', 'symbol', 'name', \n",
    "    'now_open', 'o_c_chg', 'reason', 'now_vol', 'ret_lastyear',\n",
    "    'p_date', 'RO60_MAX', 'p_open', 'p_close',\n",
    "    'MA60', 'MA90', 'MA180', \n",
    "#     'per', 'pb',\n",
    "])\n",
    "for return_lastyear, symbol in buy_list:\n",
    "    today_market = target_today_market.loc[symbol]\n",
    "    lastday_market = stock_df_dict[symbol].loc[:today].iloc[-1]\n",
    "    buy_list_df = buy_list_df.append(\n",
    "        {\n",
    "            'today': today,\n",
    "            'symbol': symbol,\n",
    "            'name': today_market['name'],\n",
    "            'reason': buy_reason,\n",
    "            'now_open': today_market.open,\n",
    "            'p_date': lastday_market.name,\n",
    "            'RO60_MAX': lastday_market.ROLLING_60_MAX,\n",
    "            'p_open': lastday_market.open,\n",
    "            'p_close': lastday_market.close,\n",
    "            'o_c_chg': '%.2f' % ((today_market.open - lastday_market.close) * 100 / lastday_market.close),\n",
    "            'MA60': '%.3f' % lastday_market.MA60,\n",
    "            'MA90': '%.3f' % lastday_market.MA90,\n",
    "            'MA180': '%.3f' % lastday_market.MA180,\n",
    "            'now_vol': int(today_market.volume / 10000),\n",
    "            'ret_lastyear': return_lastyear,\n",
    "#             'per': today_market.per,\n",
    "#             'pb': today_market.pb,\n",
    "        },\n",
    "        ignore_index = True\n",
    "    )\n",
    "\n",
    "\n",
    "'''今天买入目标'''\n",
    "buy_list_df\n",
    "\n",
    "\n",
    "\n",
    "%matplotlib inline\n",
    "import matplotlib\n",
    "import matplotlib.pyplot as plt\n",
    "plt.rcParams['figure.figsize'] = [15, 5]\n",
    "for i in range(len(buy_list_df[:10])):\n",
    "    symbol = buy_list_df.iloc[i].symbol\n",
    "    name = buy_list_df.iloc[i]['name']\n",
    "    df = stock_df_dict[symbol].copy()\n",
    "    df.reset_index(drop=False, inplace=True)\n",
    "    df['date'] = df['date'].apply(lambda x: x.to_timestamp().to_datetime64())\n",
    "    df.set_index('date', inplace=True)\n",
    "#     display_charts(\n",
    "#         df, chart_type='stock', title='%s %s' % (symbol, name), \n",
    "#         y=['open', 'ROLLING_60_MAX', 'ROLLING_60_MIN', 'MA60', 'MA180'], \n",
    "#         figsize=(900, 600)\n",
    "#     )\n",
    "    ax = df.plot(title='%s %s' % (symbol, name), kind='line', \n",
    "                 y=['open', 'ROLLING_60_MAX', 'ROLLING_60_MIN', 'MA90', 'MA180'], \n",
    "                 linewidth=0.5, grid=True)"
   ]
  },
  {
   "cell_type": "code",
   "execution_count": null,
   "metadata": {},
   "outputs": [],
   "source": [
    "## 计算买入份额"
   ]
  },
  {
   "cell_type": "markdown",
   "metadata": {},
   "source": [
    "## 人工执行/记录买入"
   ]
  },
  {
   "cell_type": "code",
   "execution_count": null,
   "metadata": {},
   "outputs": [],
   "source": [
    "CASH = 100000\n",
    "PROPERTY = 100000\n",
    "CASH_PER_SYMBOL = PROPERTY / TURTLE_POS\n",
    "buy_symbol_count = int(CASH / CASH_PER_SYMBOL)\n",
    "print('CASH=%d, PROPERTY=%d, CASH_PER_SYMBOL=%d, CAN_BUY_SYMBOL=%d' %\n",
    "          (CASH, PROPERTY, CASH_PER_SYMBOL, buy_symbol_count)\n",
    "    )\n",
    "\n",
    "if buy_symbol_count == 0:\n",
    "    pass\n",
    "#     return False\n",
    "\n",
    "for i in range(len(buy_list_df)):\n",
    "    today_market = buy_list_df.loc[i]\n",
    "    buy_count = int(CASH_PER_SYMBOL / today_market.now_open)\n",
    "    buy_list_df.loc[i, 'buy_cnt'] = buy_count\n",
    "#     buy_list_df.astype({'buy_cnt': 'int'})\n",
    "    buy_list_df.astype(dtype={'buy_cnt': 'int'})\n",
    "\n",
    "buy_list_df\n",
    "\n",
    "enter_buy_list = []\n",
    "input_data = None\n",
    "print('每次输入一支股票的代码和买入数目，如600028,1445')\n",
    "print('结束请输入end')\n",
    "while True:\n",
    "    input_data = input()\n",
    "    if input_data == 'end':\n",
    "        print('输入完毕！')\n",
    "        break\n",
    "    input_data = input_data.split(',')\n",
    "    enter_buy_list.append((input_data[0], input_data[1]))\n",
    "\n",
    "'买入列表'\n",
    "enter_buy_list\n",
    "\n",
    "\n",
    "\n",
    "order_df = None\n",
    "order_df = pd.DataFrame(columns=[\n",
    "    'buy_date', 'symbol', 'name', 'buy_count', 'buy_price', 'buy_reason', \n",
    "    'sell_date', 'sell_price', 'sell_reason', 'profit', \n",
    "    'cash', 'property'\n",
    "])\n",
    "\n",
    "ops_df = None\n",
    "ops_df = pd.DataFrame(columns=[\n",
    "    'ops_date', 'ops', 'symbol', 'name', 'count', 'price', 'reason', 'profit'\n",
    "])\n",
    "\n",
    "\n",
    "for buy_item in enter_buy_list:\n",
    "    today_market = buy_list_df[buy_list_df['symbol'] == buy_item[0]].iloc[0]\n",
    "#     today_market\n",
    "    CASH = CASH - int(today_market.now_open) * int(buy_item[1])\n",
    "    order_df = order_df.append(\n",
    "        {\n",
    "            'buy_date': today,\n",
    "            'symbol': today_market.symbol,\n",
    "            'name': today_market['name'],\n",
    "            'buy_count': int(buy_item[1]),\n",
    "            'buy_price': today_market.now_open,\n",
    "            'buy_reason': 'ROLLING60MAX',\n",
    "            'sell_date': pd.np.nan,\n",
    "            'sell_price': 0,\n",
    "            'profit': 0,\n",
    "            'cash': CASH,\n",
    "            'property': PROPERTY,\n",
    "        },\n",
    "        ignore_index=True\n",
    "    )\n",
    "    ops_df = ops_df.append(\n",
    "        {\n",
    "            'ops_date': today,\n",
    "            'ops': 'BUY',\n",
    "            'symbol': today_market.symbol,\n",
    "            'name': today_market['name'],\n",
    "            'count': int(buy_item[1]),\n",
    "            'price': today_market.now_open,\n",
    "            'reason': 'ROLLING60MAX',\n",
    "            'profit': 0,\n",
    "        },\n",
    "        ignore_index=True\n",
    "    )\n",
    "\n",
    "order_df\n",
    "ops_df\n",
    "CASH\n",
    "PROPERTY"
   ]
  },
  {
   "cell_type": "markdown",
   "metadata": {},
   "source": [
    "# 每天收盘后"
   ]
  },
  {
   "cell_type": "markdown",
   "metadata": {},
   "source": [
    "## 下载数据到本地"
   ]
  },
  {
   "cell_type": "code",
   "execution_count": null,
   "metadata": {},
   "outputs": [],
   "source": [
    "%%time\n",
    "\n",
    "IS_DOWNLOAD_DATA = False\n",
    "ignore = True\n",
    "\n",
    "for symbol in TARGET + [BENCHMARK]:\n",
    "    if not IS_DOWNLOAD_DATA:\n",
    "        break\n",
    "\n",
    "    # 沪深300指数\n",
    "    if symbol == '399300':\n",
    "        df = ts.get_k_data(code=symbol, index=True, start='2017-01-01', end=time.strftime('%Y-%m-%d'))\n",
    "        datafile = '../database/market/%s_lite.csv' % symbol\n",
    "        df.to_csv(datafile, index=False, encoding='utf-8')\n",
    "        \n",
    "    # A股\n",
    "    elif symbol in HS300:\n",
    "        df = ts.get_k_data(code=symbol, ktype='D', autype='qfq', index=False, start='2017-01-01', end=time.strftime('%Y-%m-%d'))\n",
    "        datafile = '../database/market/%s_lite.csv' % symbol\n",
    "        df.to_csv(datafile, index=False, encoding='utf-8')\n",
    "\n",
    "    print(datafile)\n",
    "    time.sleep(1)"
   ]
  },
  {
   "cell_type": "code",
   "execution_count": null,
   "metadata": {},
   "outputs": [],
   "source": [
    "# df = ts.get_k_data(code='399300', index=True, start='2018-08-01', end=time.strftime('%Y-%m-%d'))\n",
    "# df"
   ]
  }
 ],
 "metadata": {
  "kernelspec": {
   "display_name": "Python 3",
   "language": "python",
   "name": "python3"
  },
  "language_info": {
   "codemirror_mode": {
    "name": "ipython",
    "version": 3
   },
   "file_extension": ".py",
   "mimetype": "text/x-python",
   "name": "python",
   "nbconvert_exporter": "python",
   "pygments_lexer": "ipython3",
   "version": "3.6.1"
  }
 },
 "nbformat": 4,
 "nbformat_minor": 2
}
