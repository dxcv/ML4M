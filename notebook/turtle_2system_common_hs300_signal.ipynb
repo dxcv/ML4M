{
 "cells": [
  {
   "cell_type": "markdown",
   "metadata": {},
   "source": [
    "# 总体回测前"
   ]
  },
  {
   "cell_type": "markdown",
   "metadata": {},
   "source": [
    "## 设置参数"
   ]
  },
  {
   "cell_type": "code",
   "execution_count": 1,
   "metadata": {},
   "outputs": [
    {
     "data": {
      "text/html": [
       "\n",
       "<script src=\"//code.highcharts.com/stock/highstock.js\"></script>\n",
       "<script src=\"//code.highcharts.com/highcharts-more.js\"></script>\n",
       "<script src=\"//code.highcharts.com/modules/exporting.js\"></script>\n"
      ],
      "text/plain": [
       "<IPython.core.display.HTML object>"
      ]
     },
     "metadata": {},
     "output_type": "display_data"
    },
    {
     "data": {
      "text/plain": [
       "<module 'pandas' from 'd:\\\\python36\\\\lib\\\\site-packages\\\\pandas\\\\__init__.py'>"
      ]
     },
     "execution_count": 1,
     "metadata": {},
     "output_type": "execute_result"
    }
   ],
   "source": [
    "import os\n",
    "import sys\n",
    "sys.path.append(os.path.abspath(os.path.join(os.getcwd(), '..')))\n",
    "\n",
    "import pandas as pd\n",
    "pd.core.common.is_list_like = pd.api.types.is_list_like\n",
    "try:\n",
    "    import empyrical as emp\n",
    "except:\n",
    "    emp = None\n",
    "import tushare as ts\n",
    "import time\n",
    "import datetime\n",
    "import random\n",
    "\n",
    "from common.config import Config\n",
    "from spider.spider_nasdaq import Spider_nasdaq\n",
    "from spider.spider_coinmarketcap import Spider_coinmarketcap\n",
    "\n",
    "from IPython.core.interactiveshell import InteractiveShell\n",
    "InteractiveShell.ast_node_interactivity = 'all'\n",
    "\n",
    "from pandas_highcharts.core import serialize\n",
    "from pandas_highcharts.display import display_charts\n",
    "\n",
    "CONF = Config().data[0]\n",
    "CRYPTOCURRENCY = CONF['CRYPTOCURRENCY']\n",
    "CRYPTOCURRENCY = list(CRYPTOCURRENCY.keys())\n",
    "NASDAQ100 = CONF['NASDAQ100']\n",
    "HS300 = list(ts.get_hs300s()['code'])\n",
    "\n",
    "BENCHMARK = '399300'\n",
    "# TARGET = ['399300']\n",
    "TARGET = HS300\n",
    "\n",
    "ALL_TARGET = TARGET[:]\n",
    "\n",
    "pd"
   ]
  },
  {
   "cell_type": "code",
   "execution_count": 2,
   "metadata": {},
   "outputs": [
    {
     "name": "stdout",
     "output_type": "stream",
     "text": [
      "Wall time: 0 ns\n"
     ]
    }
   ],
   "source": [
    "%%time\n",
    "\n",
    "### 时间设置\n",
    "# start_date = '2005-01-01'\n",
    "# start_date = '2006-01-01'\n",
    "# start_date = '2007-01-01'\n",
    "# start_date = '2008-01-01'\n",
    "# start_date = '2009-01-01'\n",
    "# start_date = '2010-01-01'\n",
    "# start_date = '2011-01-01'\n",
    "# start_date = '2012-01-01'\n",
    "# start_date = '2013-01-01'\n",
    "# start_date = '2014-01-01'\n",
    "# start_date = '2015-01-01'\n",
    "# start_date = '2015-07-01'\n",
    "# start_date = '2016-01-01'\n",
    "start_date = '2017-01-01'\n",
    "# start_date = '2018-01-01'\n",
    "# start_date = '2018-08-01'\n",
    "# end_date = '2016-01-01'\n",
    "# end_date = '2018-08-01'\n",
    "end_date = time.strftime('%Y-%m-%d')\n",
    "\n",
    "TURTLE_POS = 10\n",
    "### Turtle System One - Short\n",
    "TURTLE_SHORT_BUY_N = 20\n",
    "TURTLE_SHORT_SELL_N = 20\n",
    "### Turtle System Two - Long\n",
    "TURTLE_LONG_BUY_N = 60\n",
    "TURTLE_LONG_SELL_N = 60\n",
    "\n",
    "### 业务设置\n",
    "IS_HAPPYMONEY = False\n",
    "IS_TAX = False\n",
    "IS_SLIPPAGE = False\n",
    "IS_RANDOM_BUY = False\n",
    "IS_FILTER = False\n",
    "IS_MARKETUP = True\n",
    "IS_BUYBENCHMARK = True\n",
    "IS_SHOWBUYLIST = True\n",
    "START_MONEY = 10000\n",
    "HAPPY_MONEY = 0\n",
    "PROPERTY = START_MONEY\n",
    "CASH = START_MONEY"
   ]
  },
  {
   "cell_type": "markdown",
   "metadata": {},
   "source": [
    "# 每天开盘前"
   ]
  },
  {
   "cell_type": "markdown",
   "metadata": {},
   "source": [
    "## 是否交易日"
   ]
  },
  {
   "cell_type": "code",
   "execution_count": 3,
   "metadata": {},
   "outputs": [
    {
     "data": {
      "text/html": [
       "<div>\n",
       "<style scoped>\n",
       "    .dataframe tbody tr th:only-of-type {\n",
       "        vertical-align: middle;\n",
       "    }\n",
       "\n",
       "    .dataframe tbody tr th {\n",
       "        vertical-align: top;\n",
       "    }\n",
       "\n",
       "    .dataframe thead th {\n",
       "        text-align: right;\n",
       "    }\n",
       "</style>\n",
       "<table border=\"1\" class=\"dataframe\">\n",
       "  <thead>\n",
       "    <tr style=\"text-align: right;\">\n",
       "      <th></th>\n",
       "      <th>date</th>\n",
       "      <th>open</th>\n",
       "      <th>close</th>\n",
       "      <th>high</th>\n",
       "      <th>low</th>\n",
       "      <th>volume</th>\n",
       "      <th>code</th>\n",
       "    </tr>\n",
       "  </thead>\n",
       "  <tbody>\n",
       "    <tr>\n",
       "      <th>154</th>\n",
       "      <td>2018-08-20</td>\n",
       "      <td>3238.22</td>\n",
       "      <td>3267.25</td>\n",
       "      <td>3267.25</td>\n",
       "      <td>3209.01</td>\n",
       "      <td>70904228.0</td>\n",
       "      <td>sz399300</td>\n",
       "    </tr>\n",
       "    <tr>\n",
       "      <th>155</th>\n",
       "      <td>2018-08-21</td>\n",
       "      <td>3271.84</td>\n",
       "      <td>3326.65</td>\n",
       "      <td>3331.71</td>\n",
       "      <td>3270.03</td>\n",
       "      <td>75205583.0</td>\n",
       "      <td>sz399300</td>\n",
       "    </tr>\n",
       "    <tr>\n",
       "      <th>156</th>\n",
       "      <td>2018-08-22</td>\n",
       "      <td>3328.97</td>\n",
       "      <td>3307.95</td>\n",
       "      <td>3328.97</td>\n",
       "      <td>3299.39</td>\n",
       "      <td>50787057.0</td>\n",
       "      <td>sz399300</td>\n",
       "    </tr>\n",
       "    <tr>\n",
       "      <th>157</th>\n",
       "      <td>2018-08-23</td>\n",
       "      <td>3308.46</td>\n",
       "      <td>3320.03</td>\n",
       "      <td>3336.11</td>\n",
       "      <td>3285.81</td>\n",
       "      <td>61112334.0</td>\n",
       "      <td>sz399300</td>\n",
       "    </tr>\n",
       "    <tr>\n",
       "      <th>158</th>\n",
       "      <td>2018-08-24</td>\n",
       "      <td>3308.48</td>\n",
       "      <td>3325.33</td>\n",
       "      <td>3353.04</td>\n",
       "      <td>3291.87</td>\n",
       "      <td>63765897.0</td>\n",
       "      <td>sz399300</td>\n",
       "    </tr>\n",
       "  </tbody>\n",
       "</table>\n",
       "</div>"
      ],
      "text/plain": [
       "           date     open    close     high      low      volume      code\n",
       "154  2018-08-20  3238.22  3267.25  3267.25  3209.01  70904228.0  sz399300\n",
       "155  2018-08-21  3271.84  3326.65  3331.71  3270.03  75205583.0  sz399300\n",
       "156  2018-08-22  3328.97  3307.95  3328.97  3299.39  50787057.0  sz399300\n",
       "157  2018-08-23  3308.46  3320.03  3336.11  3285.81  61112334.0  sz399300\n",
       "158  2018-08-24  3308.48  3325.33  3353.04  3291.87  63765897.0  sz399300"
      ]
     },
     "execution_count": 3,
     "metadata": {},
     "output_type": "execute_result"
    },
    {
     "ename": "SyntaxError",
     "evalue": "'return' outside function (<ipython-input-3-c8ed6ea32b16>, line 10)",
     "output_type": "error",
     "traceback": [
      "\u001b[1;36m  File \u001b[1;32m\"<ipython-input-3-c8ed6ea32b16>\"\u001b[1;36m, line \u001b[1;32m10\u001b[0m\n\u001b[1;33m    return False\u001b[0m\n\u001b[1;37m    ^\u001b[0m\n\u001b[1;31mSyntaxError\u001b[0m\u001b[1;31m:\u001b[0m 'return' outside function\n"
     ]
    }
   ],
   "source": [
    "today = datetime.date.today().strftime('%Y-%m-%d')\n",
    "lastweek = (datetime.date.today()  - datetime.timedelta(days=7)).strftime('%Y-%m-%d')\n",
    "df = ts.get_k_data(code='399300', index=True, start=lastweek, end=today)\n",
    "df\n",
    "\n",
    "if df.iloc[-1].date == today:\n",
    "    is_today_trading = True\n",
    "else:\n",
    "    is_today_trading = False\n",
    "#     return False"
   ]
  },
  {
   "cell_type": "markdown",
   "metadata": {},
   "source": [
    "## 准备历史数据"
   ]
  },
  {
   "cell_type": "code",
   "execution_count": null,
   "metadata": {},
   "outputs": [],
   "source": [
    "%%time\n",
    "\n",
    "stock_df_dict = {}\n",
    "\n",
    "for symbol in TARGET + [BENCHMARK]:\n",
    "    stock_data_file = '../database/market/%s_lite.csv' % symbol\n",
    "    stock_df = pd.read_csv(stock_data_file)\n",
    "\n",
    "    # 筛选字段\n",
    "    stock_df = stock_df.loc[:, ['date', 'open', 'close']]\n",
    "\n",
    "    # 去掉Nasdaq行情首行的当天行情\n",
    "    if symbol in NASDAQ100:\n",
    "        stock_df = stock_df.drop([0])\n",
    "\n",
    "    # 抛弃空值异常值\n",
    "    stock_df.dropna(axis=0, how='any', inplace=True)\n",
    "\n",
    "    # 格式化日期\n",
    "    # 445 ms ± 17.5 ms per loop (mean ± std. dev. of 7 runs, 1 loop each)\n",
    "    stock_df = stock_df.assign(date=pd.to_datetime(stock_df['date']))  # need .index.to_period('D')\n",
    "\n",
    "    # 用日期作索引，日期升序排序\n",
    "    # 95.1 µs ± 1.58 µs per loop (mean ± std. dev. of 7 runs, 10000 loops each)\n",
    "    if symbol in NASDAQ100 or symbol in CRYPTOCURRENCY:\n",
    "        stock_df = stock_df[::-1]\n",
    "    stock_df.set_index(['date'], inplace=True)\n",
    "    stock_df.index = stock_df.index.to_period('D')\n",
    "\n",
    "    # 计算每天涨跌幅\n",
    "    stock_df['o_pct_chg'] = stock_df.open.pct_change(1)\n",
    "    stock_df['c_o_pct_chg'] = (stock_df.open - stock_df.close.shift(1)) / stock_df.close.shift(1)\n",
    "    \n",
    "    # Turtle指标\n",
    "    stock_df['ROLLING_%d_MAX' % TURTLE_LONG_BUY_N] = stock_df['open'].rolling(TURTLE_LONG_BUY_N).max()\n",
    "    stock_df['ROLLING_%d_MIN' % TURTLE_LONG_SELL_N] = stock_df['open'].rolling(TURTLE_LONG_SELL_N).min()\n",
    "    stock_df['MA180'] = stock_df['open'].rolling(180).mean()\n",
    "    stock_df['MA60'] = stock_df['open'].rolling(60).mean()\n",
    "    stock_df['MA30'] = stock_df['open'].rolling(30).mean()\n",
    "    \n",
    "    # 减少数据\n",
    "    # stock_df = stock_df['2016-01-01':]\n",
    "    stock_df.dropna(how='any', inplace=True)\n",
    "    \n",
    "    stock_df_dict[symbol] = stock_df"
   ]
  },
  {
   "cell_type": "markdown",
   "metadata": {},
   "source": [
    "## 抽查数据"
   ]
  },
  {
   "cell_type": "code",
   "execution_count": null,
   "metadata": {},
   "outputs": [],
   "source": [
    "stock_df_dict[BENCHMARK].head(2)\n",
    "stock_df_dict[BENCHMARK].tail(2)\n",
    "\n",
    "df = stock_df_dict[BENCHMARK].iloc[:].copy()\n",
    "df.columns\n",
    "df.reset_index(drop=False, inplace=True)\n",
    "df['date'] = df['date'].apply(lambda x: x.to_timestamp().to_datetime64())\n",
    "df.set_index('date', inplace=True)\n",
    "display_charts(df, chart_type='stock', kind='line', y=['open', 'ROLLING_60_MAX', 'ROLLING_60_MIN', 'MA60', 'MA180'], figsize=(900, 600))"
   ]
  },
  {
   "cell_type": "markdown",
   "metadata": {},
   "source": [
    "## 准备订单数据"
   ]
  },
  {
   "cell_type": "code",
   "execution_count": null,
   "metadata": {},
   "outputs": [],
   "source": [
    "# get_order"
   ]
  },
  {
   "cell_type": "markdown",
   "metadata": {},
   "source": [
    "## 关注临界卖出目标"
   ]
  },
  {
   "cell_type": "markdown",
   "metadata": {},
   "source": [
    "## 关注临界买入目标"
   ]
  },
  {
   "cell_type": "code",
   "execution_count": null,
   "metadata": {},
   "outputs": [],
   "source": [
    "watch_buy_df = None\n",
    "watch_buy_df = pd.DataFrame(columns=[\n",
    "    'date', 'symbol', 'open', 'ROLLING_MAX', 'minus'\n",
    "])\n",
    "\n",
    "today = pd.to_datetime(time.strftime('%Y-%m-%d'))\n",
    "today = today.to_period(freq='D')\n",
    "'today', today\n",
    "\n",
    "for symbol in TARGET + [BENCHMARK]:\n",
    "    if len(stock_df_dict[symbol]) == 0:\n",
    "        continue\n",
    "    yesterday_market = stock_df_dict[symbol].iloc[-1]\n",
    "    if today - yesterday_market.name > 3:\n",
    "        continue\n",
    "    watch_buy_df = watch_buy_df.append(\n",
    "        {\n",
    "            'date': yesterday_market.name,\n",
    "            'symbol': symbol,\n",
    "            'open': yesterday_market.open,\n",
    "            'ROLLING_MAX': yesterday_market['ROLLING_%d_MAX' % TURTLE_LONG_BUY_N],\n",
    "            'minus': (yesterday_market['ROLLING_%d_MAX' % TURTLE_LONG_BUY_N] - yesterday_market.open) / yesterday_market.open\n",
    "        },\n",
    "        ignore_index=True\n",
    "    )\n",
    "\n",
    "# watch_buy_df.sort_values(by='date')\n",
    "watch_buy_df.sort_values(by='minus')[:10]"
   ]
  },
  {
   "cell_type": "markdown",
   "metadata": {},
   "source": [
    "# 每天交易时"
   ]
  },
  {
   "cell_type": "markdown",
   "metadata": {},
   "source": [
    "## 第一时间获取开盘价"
   ]
  },
  {
   "cell_type": "code",
   "execution_count": null,
   "metadata": {},
   "outputs": [],
   "source": [
    "today_open_market = ts.get_today_all()"
   ]
  },
  {
   "cell_type": "markdown",
   "metadata": {},
   "source": [
    "## 执行卖出\n"
   ]
  },
  {
   "cell_type": "markdown",
   "metadata": {},
   "source": [
    "## 执行买入"
   ]
  },
  {
   "cell_type": "markdown",
   "metadata": {},
   "source": [
    "# 每天收盘后"
   ]
  },
  {
   "cell_type": "markdown",
   "metadata": {},
   "source": [
    "## 下载数据到本地"
   ]
  },
  {
   "cell_type": "code",
   "execution_count": null,
   "metadata": {},
   "outputs": [],
   "source": [
    "%%time\n",
    "\n",
    "IS_DOWNLOAD_DATA = False\n",
    "ignore = True\n",
    "\n",
    "for symbol in TARGET + [BENCHMARK]:\n",
    "    if not IS_DOWNLOAD_DATA:\n",
    "        break\n",
    "\n",
    "    # 沪深300指数\n",
    "    if symbol == '399300':\n",
    "        df = ts.get_k_data(code=symbol, index=True, start='2017-01-01', end=time.strftime('%Y-%m-%d'))\n",
    "        datafile = '../database/market/%s_lite.csv' % symbol\n",
    "        df.to_csv(datafile, index=False, encoding='utf-8')\n",
    "        \n",
    "    # A股\n",
    "    elif symbol in HS300:\n",
    "        df = ts.get_k_data(code=symbol, ktype='D', autype='qfq', index=False, start='2017-01-01', end=time.strftime('%Y-%m-%d'))\n",
    "        datafile = '../database/market/%s_lite.csv' % symbol\n",
    "        df.to_csv(datafile, index=False, encoding='utf-8')\n",
    "\n",
    "    print(datafile)\n",
    "    time.sleep(1)"
   ]
  }
 ],
 "metadata": {
  "kernelspec": {
   "display_name": "Python 3",
   "language": "python",
   "name": "python3"
  },
  "language_info": {
   "codemirror_mode": {
    "name": "ipython",
    "version": 3
   },
   "file_extension": ".py",
   "mimetype": "text/x-python",
   "name": "python",
   "nbconvert_exporter": "python",
   "pygments_lexer": "ipython3",
   "version": "3.6.5"
  }
 },
 "nbformat": 4,
 "nbformat_minor": 2
}
