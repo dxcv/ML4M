{
 "cells": [
  {
   "cell_type": "code",
   "execution_count": 2,
   "metadata": {},
   "outputs": [],
   "source": [
    "import pandas as pd\n",
    "# import empyrical as emp\n",
    "\n",
    "from IPython.core.interactiveshell import InteractiveShell\n",
    "InteractiveShell.ast_node_interactivity = 'all'"
   ]
  },
  {
   "cell_type": "code",
   "execution_count": 22,
   "metadata": {},
   "outputs": [
    {
     "name": "stdout",
     "output_type": "stream",
     "text": [
      "CPU times: user 40.1 s, sys: 27 ms, total: 40.1 s\n",
      "Wall time: 40.4 s\n"
     ]
    }
   ],
   "source": [
    "%%time\n",
    "\n",
    "df = pd.DataFrame([1], columns=['A'])\n",
    "df\n",
    "\n",
    "# df = pd.DataFrame(columns=['A'])\n",
    "# for i in range(3000):\n",
    "#     df = df.append({'A': i}, ignore_index=True)\n",
    "# print(df)\n",
    "\n",
    "df = pd.DataFrame([1], columns=['A'])\n",
    "for i in range(1000 * 20):\n",
    "    dd = pd.DataFrame([i], columns=['A'])\n",
    "    df = pd.concat([df, dd], ignore_index=True)\n",
    "# print(df)"
   ]
  },
  {
   "cell_type": "code",
   "execution_count": 6,
   "metadata": {},
   "outputs": [
    {
     "data": {
      "text/plain": [
       "-0.06908967519369626"
      ]
     },
     "execution_count": 6,
     "metadata": {},
     "output_type": "execute_result"
    },
    {
     "data": {
      "text/plain": [
       "0.29303001006627349"
      ]
     },
     "execution_count": 6,
     "metadata": {},
     "output_type": "execute_result"
    },
    {
     "data": {
      "text/plain": [
       "0.20126031221825255"
      ]
     },
     "execution_count": 6,
     "metadata": {},
     "output_type": "execute_result"
    },
    {
     "data": {
      "text/plain": [
       "4.2412995754394505"
      ]
     },
     "execution_count": 6,
     "metadata": {},
     "output_type": "execute_result"
    },
    {
     "data": {
      "text/plain": [
       "1.4024897997413097"
      ]
     },
     "execution_count": 6,
     "metadata": {},
     "output_type": "execute_result"
    },
    {
     "data": {
      "text/plain": [
       "Period('2018-04-18', 'D')"
      ]
     },
     "execution_count": 6,
     "metadata": {},
     "output_type": "execute_result"
    },
    {
     "name": "stdout",
     "output_type": "stream",
     "text": [
      "300 µs ± 18.2 µs per loop (mean ± std. dev. of 7 runs, 1000 loops each)\n",
      "265 µs ± 27.8 µs per loop (mean ± std. dev. of 7 runs, 1000 loops each)\n",
      "18.4 µs ± 2.29 µs per loop (mean ± std. dev. of 7 runs, 100000 loops each)\n",
      "1.66 ms ± 139 µs per loop (mean ± std. dev. of 7 runs, 1000 loops each)\n"
     ]
    },
    {
     "data": {
      "text/plain": [
       "{'a': 1}"
      ]
     },
     "execution_count": 6,
     "metadata": {},
     "output_type": "execute_result"
    },
    {
     "data": {
      "text/plain": [
       "1"
      ]
     },
     "execution_count": 6,
     "metadata": {},
     "output_type": "execute_result"
    },
    {
     "name": "stdout",
     "output_type": "stream",
     "text": [
      "None\n"
     ]
    },
    {
     "data": {
      "text/plain": [
       "{}"
      ]
     },
     "execution_count": 6,
     "metadata": {},
     "output_type": "execute_result"
    }
   ],
   "source": [
    "df = pd.DataFrame(\n",
    "#     index=pd.date_range('2018-04-18', '2018-06-06'),\n",
    "    index = pd.period_range('2018-04-18', '2018-06-06', freq='D'),\n",
    ")\n",
    "df['turtle'] = [106094,\n",
    " 101565,\n",
    " 100946,\n",
    " 101904,\n",
    " 100412,\n",
    " 98764,\n",
    " 102296,\n",
    " 100789,\n",
    " 100209,\n",
    " 101640,\n",
    " 101935,\n",
    " 102689,\n",
    " 104078,\n",
    " 103725,\n",
    " 105023,\n",
    " 106489,\n",
    " 105952,\n",
    " 105335,\n",
    " 104822,\n",
    " 104592,\n",
    " 102981,\n",
    " 103501,\n",
    " 105050,\n",
    " 104449,\n",
    " 102568,\n",
    " 103617,\n",
    " 102132,\n",
    " 102511,\n",
    " 105126,\n",
    " 105927,\n",
    " 106489,\n",
    " 107741,\n",
    " 107895,\n",
    " 107732,\n",
    " 106690,\n",
    " 106788,\n",
    " 106730,\n",
    " 106586,\n",
    " 106889,\n",
    " 107466,\n",
    " 106342,\n",
    " 108204,\n",
    " 108272,\n",
    " 107663,\n",
    " 108524,\n",
    " 108830,\n",
    " 108984,\n",
    " 110214,\n",
    " 110919,\n",
    " 111644]\n",
    "\n",
    "df['benchmark'] = [6488,\n",
    " 6493,\n",
    " 6528,\n",
    " 6448,\n",
    " 6326,\n",
    " 6619,\n",
    " 6514,\n",
    " 6488,\n",
    " 6585,\n",
    " 6578,\n",
    " 6627,\n",
    " 6696,\n",
    " 6675,\n",
    " 6738,\n",
    " 6824,\n",
    " 6793,\n",
    " 6754,\n",
    " 6699,\n",
    " 6680,\n",
    " 6514,\n",
    " 6606,\n",
    " 6748,\n",
    " 6669,\n",
    " 6592,\n",
    " 6694,\n",
    " 6608,\n",
    " 6618,\n",
    " 6803,\n",
    " 6813,\n",
    " 6830,\n",
    " 6909,\n",
    " 6948,\n",
    " 6977,\n",
    " 6909,\n",
    " 6892,\n",
    " 6905,\n",
    " 6876,\n",
    " 6920,\n",
    " 6934,\n",
    " 6847,\n",
    " 6951,\n",
    " 6951,\n",
    " 6928,\n",
    " 6955,\n",
    " 6969,\n",
    " 7010,\n",
    " 7099,\n",
    " 7162,\n",
    " 7180,\n",
    " 7212]\n",
    "\n",
    "df['turtle_pct'] = df.turtle.pct_change()\n",
    "df['benchmark_pct'] = df.benchmark.pct_change()\n",
    "# emp.cum_returns(df.turtle_pct)\n",
    "# emp.cum_returns(df.benchmark_pct)\n",
    "emp.max_drawdown(df.turtle_pct)\n",
    "emp.annual_return(df.turtle_pct)\n",
    "emp.annual_volatility(df.turtle_pct, period='daily')\n",
    "emp.calmar_ratio(df.turtle_pct)\n",
    "emp.sharpe_ratio(returns=df.turtle_pct)\n",
    "\n",
    "\n",
    "\n",
    "d = pd.Period('2018-04-18', 'D')\n",
    "d\n",
    "\n",
    "%timeit df.loc[d].turtle\n",
    "\n",
    "\n",
    "%timeit ccc = df.loc[d]\n",
    "\n",
    "ccc = df.loc[d]\n",
    "%timeit ccc.turtle\n",
    "\n",
    "\n",
    "arr = df.to_records()\n",
    "# arr\n",
    "\n",
    "%timeit arr[arr.index==d][0].turtle\n",
    "\n",
    "\n",
    "\n",
    "d = {'a':1}\n",
    "d\n",
    "d.get('a')\n",
    "t = d.get('b')\n",
    "print(t)\n",
    "d.clear()\n",
    "d\n",
    "\n",
    "# arr.index\n",
    "# for i in df.index:\n",
    "#     i\n",
    "#     arr[arr.index==i]\n",
    "#     arr[arr.index==i].turtle\n",
    "#     arr[arr.index==i][0]\n",
    "#     arr[arr.index==i][0].turtle\n",
    "#     break"
   ]
  },
  {
   "cell_type": "code",
   "execution_count": null,
   "metadata": {},
   "outputs": [],
   "source": [
    "pd.period_range(start='2018-01-01', end='2018-06-01', freq='D')\n",
    "dt = pd.to_datetime('2018-06-01') - pd.to_datetime('2018-01-01')\n",
    "dt.days\n",
    "365 / dt.days"
   ]
  },
  {
   "cell_type": "code",
   "execution_count": 3,
   "metadata": {},
   "outputs": [
    {
     "data": {
      "text/html": [
       "<div>\n",
       "<style scoped>\n",
       "    .dataframe tbody tr th:only-of-type {\n",
       "        vertical-align: middle;\n",
       "    }\n",
       "\n",
       "    .dataframe tbody tr th {\n",
       "        vertical-align: top;\n",
       "    }\n",
       "\n",
       "    .dataframe thead th {\n",
       "        text-align: right;\n",
       "    }\n",
       "</style>\n",
       "<table border=\"1\" class=\"dataframe\">\n",
       "  <thead>\n",
       "    <tr style=\"text-align: right;\">\n",
       "      <th></th>\n",
       "      <th>a</th>\n",
       "      <th>b</th>\n",
       "    </tr>\n",
       "  </thead>\n",
       "  <tbody>\n",
       "    <tr>\n",
       "      <th>0</th>\n",
       "      <td>1</td>\n",
       "      <td>2</td>\n",
       "    </tr>\n",
       "    <tr>\n",
       "      <th>1</th>\n",
       "      <td>3</td>\n",
       "      <td>6</td>\n",
       "    </tr>\n",
       "    <tr>\n",
       "      <th>2</th>\n",
       "      <td>5</td>\n",
       "      <td>10</td>\n",
       "    </tr>\n",
       "    <tr>\n",
       "      <th>3</th>\n",
       "      <td>1</td>\n",
       "      <td>2</td>\n",
       "    </tr>\n",
       "    <tr>\n",
       "      <th>4</th>\n",
       "      <td>3</td>\n",
       "      <td>6</td>\n",
       "    </tr>\n",
       "    <tr>\n",
       "      <th>5</th>\n",
       "      <td>5</td>\n",
       "      <td>10</td>\n",
       "    </tr>\n",
       "  </tbody>\n",
       "</table>\n",
       "</div>"
      ],
      "text/plain": [
       "   a   b\n",
       "0  1   2\n",
       "1  3   6\n",
       "2  5  10\n",
       "3  1   2\n",
       "4  3   6\n",
       "5  5  10"
      ]
     },
     "execution_count": 3,
     "metadata": {},
     "output_type": "execute_result"
    },
    {
     "data": {
      "text/html": [
       "<div>\n",
       "<style scoped>\n",
       "    .dataframe tbody tr th:only-of-type {\n",
       "        vertical-align: middle;\n",
       "    }\n",
       "\n",
       "    .dataframe tbody tr th {\n",
       "        vertical-align: top;\n",
       "    }\n",
       "\n",
       "    .dataframe thead th {\n",
       "        text-align: right;\n",
       "    }\n",
       "</style>\n",
       "<table border=\"1\" class=\"dataframe\">\n",
       "  <thead>\n",
       "    <tr style=\"text-align: right;\">\n",
       "      <th></th>\n",
       "      <th>a</th>\n",
       "      <th>b</th>\n",
       "    </tr>\n",
       "  </thead>\n",
       "  <tbody>\n",
       "    <tr>\n",
       "      <th>1</th>\n",
       "      <td>3</td>\n",
       "      <td>6</td>\n",
       "    </tr>\n",
       "    <tr>\n",
       "      <th>4</th>\n",
       "      <td>3</td>\n",
       "      <td>6</td>\n",
       "    </tr>\n",
       "  </tbody>\n",
       "</table>\n",
       "</div>"
      ],
      "text/plain": [
       "   a  b\n",
       "1  3  6\n",
       "4  3  6"
      ]
     },
     "execution_count": 3,
     "metadata": {},
     "output_type": "execute_result"
    },
    {
     "data": {
      "text/plain": [
       "Int64Index([1, 4], dtype='int64')"
      ]
     },
     "execution_count": 3,
     "metadata": {},
     "output_type": "execute_result"
    },
    {
     "data": {
      "text/plain": [
       "3"
      ]
     },
     "execution_count": 3,
     "metadata": {},
     "output_type": "execute_result"
    },
    {
     "data": {
      "text/plain": [
       "array([1, 2], dtype=int64)"
      ]
     },
     "execution_count": 3,
     "metadata": {},
     "output_type": "execute_result"
    }
   ],
   "source": [
    "df = pd.DataFrame(columns=['a', 'b'], data=[[1, 2], [3, 6], [5, 10]]*2)\n",
    "df\n",
    "\n",
    "df[df.a == 3]\n",
    "df[df.a == 3].index\n",
    "# %timeit len(df[df.a == 3])\n",
    "# df.index.where(4)\n",
    "df.index.get_loc(3)\n",
    "\n",
    "n = df.values\n",
    "\n",
    "n[df.index.get_loc(3)]\n",
    "\n",
    "# n[n[:, 0] == 3]\n",
    "# n[(n[:, 0] == 3) & (n[:, 1] == 6)]\n",
    "# # %timeit len(n[n[:, 0] == 3])\n",
    "\n",
    "# type(df.columns)"
   ]
  },
  {
   "cell_type": "code",
   "execution_count": null,
   "metadata": {},
   "outputs": [],
   "source": [
    "%%timeit\n",
    "df = pd.DataFrame(columns=['a', 'b'], data=[[1, 2], [3, 6], [5, 10]]*10)\n",
    "# df['c'] = df.a[1:3] - df.b[1:3].values\n",
    "print(df)\n",
    "\n",
    "# df['c'] = pd.np.nan\n",
    "\n",
    "# %timeit df.loc[:2, 'c'] = (df.a[1:3] - df.b[1:3].values).reset_index(drop=True)\n",
    "\n",
    "# df.loc[3:5, 'c'] = df.a[1:3] - df.b[1:3].values\n",
    "\n",
    "# df.c[3:5] = df.a[1:3] - df.b[1:3].values\n",
    "\n",
    "# df.loc[3:5, 'c'] = df.a[1:3].values - df.b[1:3].values\n",
    "\n",
    "# df[1:3].c = df.a[1:3] - df.b[1:3].values\n",
    "\n",
    "# print(df)\n",
    "\n",
    "# c = df.c[3:5]\n",
    "# print(type(c))\n",
    "# print(c)\n",
    "\n",
    "# v = df.a[1:3].values - df.b[1:3].values\n",
    "# print(type(v))\n",
    "# print(v)\n",
    "\n",
    "# s = df.a[1:3] - df.b[1:3].values\n",
    "# print(type(s))\n",
    "# print(s)\n",
    "# print(s.reset_index(drop=True))\n",
    "# df['c'] = df['c'].apply(lambda x: 'UP' if x < 0 else 'DOWN')\n",
    "# df\n",
    "\n",
    "# print(df['b'].shift(1))\n",
    "# print(df['b'])\n",
    "# s = df['b'] - df['b'].shift(1)\n",
    "# s = s.reset_index(drop=True, inplace=True)\n",
    "# s.shift(-1)\n",
    "# print(s)\n",
    "\n",
    "# print(df['b'].diff(1))\n",
    "# print(df['b'].diff(4))\n",
    "\n",
    "# %timeit df.loc[2, 'b'] - df.shift(2).loc[2, 'b']\n",
    "# print(df.shift(2).loc[2])\n",
    "\n",
    "# df['b'].rolling(2).mean()\n",
    "# df['b'].rolling(10).max()\n",
    "df['b'].rolling(10).min()"
   ]
  },
  {
   "cell_type": "code",
   "execution_count": null,
   "metadata": {
    "scrolled": true
   },
   "outputs": [],
   "source": [
    "import numpy as np\n",
    "arr = np.array([[2,3,1,0], [2,3,1,0], [3,2,1,1]])\n",
    "%timeit d = len(arr)\n",
    "%timeit f = arr.shape[0]\n",
    "%timeit c = d"
   ]
  },
  {
   "cell_type": "code",
   "execution_count": null,
   "metadata": {},
   "outputs": [],
   "source": [
    "df = pd.DataFrame(columns=['a', 'b'], data=[[1, 2], [3, 6], [5, 10]]*1000)\n",
    "# df\n",
    "\n",
    "%timeit df['b'].rolling(10).min()\n",
    "%timeit df.loc[:, 'b'].rolling(10).min()\n",
    "%timeit df['b'].rolling(20).min()\n",
    "# %timeit df['b'].rolling(20).min()\n",
    "# %timeit min(df.loc[i-10:i, 'b'])\n",
    "\n",
    "%timeit '2931' not in df.index"
   ]
  },
  {
   "cell_type": "code",
   "execution_count": null,
   "metadata": {},
   "outputs": [],
   "source": [
    "%%timeit\n",
    "for i in df.index:\n",
    "    d = min(df.loc[i-10:i, 'b'])"
   ]
  },
  {
   "cell_type": "code",
   "execution_count": null,
   "metadata": {},
   "outputs": [],
   "source": [
    "df = pd.DataFrame(columns=['a', 'b'], data=[[1, 2], [3, 6], [5, 10]]*3)\n",
    "df = df.drop(index=5)\n",
    "df\n",
    "\n",
    "today = 6\n",
    "df.shift(1).loc[today, 'b']"
   ]
  },
  {
   "cell_type": "code",
   "execution_count": null,
   "metadata": {},
   "outputs": [],
   "source": []
  }
 ],
 "metadata": {
  "kernelspec": {
   "display_name": "Python 3",
   "language": "python",
   "name": "python3"
  },
  "language_info": {
   "codemirror_mode": {
    "name": "ipython",
    "version": 3
   },
   "file_extension": ".py",
   "mimetype": "text/x-python",
   "name": "python",
   "nbconvert_exporter": "python",
   "pygments_lexer": "ipython3",
   "version": "3.6.4"
  }
 },
 "nbformat": 4,
 "nbformat_minor": 2
}
