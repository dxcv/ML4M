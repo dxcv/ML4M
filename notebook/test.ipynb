{
 "cells": [
  {
   "cell_type": "code",
   "execution_count": 1,
   "metadata": {},
   "outputs": [],
   "source": [
    "import pandas as pd"
   ]
  },
  {
   "cell_type": "code",
   "execution_count": 2,
   "metadata": {},
   "outputs": [
    {
     "data": {
      "text/html": [
       "<div>\n",
       "<style scoped>\n",
       "    .dataframe tbody tr th:only-of-type {\n",
       "        vertical-align: middle;\n",
       "    }\n",
       "\n",
       "    .dataframe tbody tr th {\n",
       "        vertical-align: top;\n",
       "    }\n",
       "\n",
       "    .dataframe thead th {\n",
       "        text-align: right;\n",
       "    }\n",
       "</style>\n",
       "<table border=\"1\" class=\"dataframe\">\n",
       "  <thead>\n",
       "    <tr style=\"text-align: right;\">\n",
       "      <th></th>\n",
       "      <th>a</th>\n",
       "      <th>b</th>\n",
       "    </tr>\n",
       "  </thead>\n",
       "  <tbody>\n",
       "    <tr>\n",
       "      <th>0</th>\n",
       "      <td>1</td>\n",
       "      <td>2</td>\n",
       "    </tr>\n",
       "    <tr>\n",
       "      <th>1</th>\n",
       "      <td>3</td>\n",
       "      <td>6</td>\n",
       "    </tr>\n",
       "    <tr>\n",
       "      <th>2</th>\n",
       "      <td>5</td>\n",
       "      <td>10</td>\n",
       "    </tr>\n",
       "    <tr>\n",
       "      <th>3</th>\n",
       "      <td>1</td>\n",
       "      <td>2</td>\n",
       "    </tr>\n",
       "    <tr>\n",
       "      <th>4</th>\n",
       "      <td>3</td>\n",
       "      <td>6</td>\n",
       "    </tr>\n",
       "    <tr>\n",
       "      <th>5</th>\n",
       "      <td>5</td>\n",
       "      <td>10</td>\n",
       "    </tr>\n",
       "  </tbody>\n",
       "</table>\n",
       "</div>"
      ],
      "text/plain": [
       "   a   b\n",
       "0  1   2\n",
       "1  3   6\n",
       "2  5  10\n",
       "3  1   2\n",
       "4  3   6\n",
       "5  5  10"
      ]
     },
     "execution_count": 2,
     "metadata": {},
     "output_type": "execute_result"
    }
   ],
   "source": [
    "df = pd.DataFrame(columns=['a', 'b'], data=[[1, 2], [3, 6], [5, 10]]*2)\n",
    "df"
   ]
  },
  {
   "cell_type": "code",
   "execution_count": 3,
   "metadata": {},
   "outputs": [
    {
     "name": "stdout",
     "output_type": "stream",
     "text": [
      "   a   b\n",
      "0  1   2\n",
      "1  3   6\n",
      "2  5  10\n",
      "3  1   2\n",
      "4  3   6\n",
      "5  5  10\n",
      "0     NaN\n",
      "1     2.0\n",
      "2     6.0\n",
      "3    10.0\n",
      "4     2.0\n",
      "5     6.0\n",
      "Name: b, dtype: float64\n",
      "0     2\n",
      "1     6\n",
      "2    10\n",
      "3     2\n",
      "4     6\n",
      "5    10\n",
      "Name: b, dtype: int64\n",
      "0    NaN\n",
      "1    4.0\n",
      "2    4.0\n",
      "3   -8.0\n",
      "4    4.0\n",
      "5    4.0\n",
      "Name: b, dtype: float64\n",
      "0    NaN\n",
      "1    4.0\n",
      "2    4.0\n",
      "3   -8.0\n",
      "4    4.0\n",
      "5    4.0\n",
      "Name: b, dtype: float64\n"
     ]
    }
   ],
   "source": [
    "# %%timeit\n",
    "df = pd.DataFrame(columns=['a', 'b'], data=[[1, 2], [3, 6], [5, 10]]*2)\n",
    "# df['c'] = df.a[1:3] - df.b[1:3].values\n",
    "print(df)\n",
    "\n",
    "# df['c'] = pd.np.nan\n",
    "\n",
    "# %timeit df.loc[:2, 'c'] = (df.a[1:3] - df.b[1:3].values).reset_index(drop=True)\n",
    "\n",
    "# df.loc[3:5, 'c'] = df.a[1:3] - df.b[1:3].values\n",
    "\n",
    "# df.c[3:5] = df.a[1:3] - df.b[1:3].values\n",
    "\n",
    "# df.loc[3:5, 'c'] = df.a[1:3].values - df.b[1:3].values\n",
    "\n",
    "# df[1:3].c = df.a[1:3] - df.b[1:3].values\n",
    "\n",
    "# print(df)\n",
    "\n",
    "# c = df.c[3:5]\n",
    "# print(type(c))\n",
    "# print(c)\n",
    "\n",
    "# v = df.a[1:3].values - df.b[1:3].values\n",
    "# print(type(v))\n",
    "# print(v)\n",
    "\n",
    "# s = df.a[1:3] - df.b[1:3].values\n",
    "# print(type(s))\n",
    "# print(s)\n",
    "# print(s.reset_index(drop=True))\n",
    "# df['c'] = df['c'].apply(lambda x: 'UP' if x < 0 else 'DOWN')\n",
    "# df\n",
    "\n",
    "print(df['b'].shift(1))\n",
    "print(df['b'])\n",
    "s = df['b'] - df['b'].shift(1)\n",
    "# s = s.reset_index(drop=True, inplace=True)\n",
    "# s.shift(-1)\n",
    "print(s)\n",
    "print(df['b'].diff(1))"
   ]
  },
  {
   "cell_type": "code",
   "execution_count": 5,
   "metadata": {},
   "outputs": [
    {
     "data": {
      "text/plain": [
       "[[1, 2]]"
      ]
     },
     "execution_count": 5,
     "metadata": {},
     "output_type": "execute_result"
    }
   ],
   "source": [
    "l = [[1,2], [2,3]]\n",
    "for t in l:\n",
    "    if t[0] > 1:\n",
    "        l.remove(t)\n",
    "l"
   ]
  },
  {
   "cell_type": "code",
   "execution_count": 14,
   "metadata": {},
   "outputs": [
    {
     "name": "stdout",
     "output_type": "stream",
     "text": [
      "85.3 ns ± 4.24 ns per loop (mean ± std. dev. of 7 runs, 10000000 loops each)\n",
      "116 ns ± 1.47 ns per loop (mean ± std. dev. of 7 runs, 10000000 loops each)\n",
      "26.6 ns ± 0.13 ns per loop (mean ± std. dev. of 7 runs, 10000000 loops each)\n"
     ]
    }
   ],
   "source": [
    "import numpy as np\n",
    "arr = np.array([[2,3,1,0], [2,3,1,0], [3,2,1,1]])\n",
    "%timeit d = len(arr)\n",
    "%timeit f = arr.shape[0]\n",
    "%timeit c = d"
   ]
  }
 ],
 "metadata": {
  "kernelspec": {
   "display_name": "Python 3",
   "language": "python",
   "name": "python3"
  },
  "language_info": {
   "codemirror_mode": {
    "name": "ipython",
    "version": 3
   },
   "file_extension": ".py",
   "mimetype": "text/x-python",
   "name": "python",
   "nbconvert_exporter": "python",
   "pygments_lexer": "ipython3",
   "version": "3.6.1"
  }
 },
 "nbformat": 4,
 "nbformat_minor": 2
}
