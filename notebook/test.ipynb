{
 "cells": [
  {
   "cell_type": "code",
   "execution_count": 1,
   "metadata": {},
   "outputs": [],
   "source": [
    "import pandas as pd"
   ]
  },
  {
   "cell_type": "code",
   "execution_count": 18,
   "metadata": {},
   "outputs": [
    {
     "data": {
      "text/plain": [
       "10"
      ]
     },
     "execution_count": 18,
     "metadata": {},
     "output_type": "execute_result"
    }
   ],
   "source": [
    "df = pd.DataFrame(columns=['a', 'b'], data=[[1, 2], [3, 6], [5, 10]]*2)\n",
    "df\n",
    "\n",
    "int(df.loc[:10, 'b'].tail(1))"
   ]
  },
  {
   "cell_type": "code",
   "execution_count": 12,
   "metadata": {},
   "outputs": [
    {
     "name": "stdout",
     "output_type": "stream",
     "text": [
      "    a   b\n",
      "0   1   2\n",
      "1   3   6\n",
      "2   5  10\n",
      "3   1   2\n",
      "4   3   6\n",
      "5   5  10\n",
      "6   1   2\n",
      "7   3   6\n",
      "8   5  10\n",
      "9   1   2\n",
      "10  3   6\n",
      "11  5  10\n",
      "12  1   2\n",
      "13  3   6\n",
      "14  5  10\n",
      "15  1   2\n",
      "16  3   6\n",
      "17  5  10\n",
      "18  1   2\n",
      "19  3   6\n",
      "20  5  10\n",
      "21  1   2\n",
      "22  3   6\n",
      "23  5  10\n",
      "24  1   2\n",
      "25  3   6\n",
      "26  5  10\n",
      "27  1   2\n",
      "28  3   6\n",
      "29  5  10\n"
     ]
    },
    {
     "data": {
      "text/plain": [
       "0     NaN\n",
       "1     NaN\n",
       "2     NaN\n",
       "3     NaN\n",
       "4     NaN\n",
       "5     NaN\n",
       "6     NaN\n",
       "7     NaN\n",
       "8     NaN\n",
       "9     2.0\n",
       "10    2.0\n",
       "11    2.0\n",
       "12    2.0\n",
       "13    2.0\n",
       "14    2.0\n",
       "15    2.0\n",
       "16    2.0\n",
       "17    2.0\n",
       "18    2.0\n",
       "19    2.0\n",
       "20    2.0\n",
       "21    2.0\n",
       "22    2.0\n",
       "23    2.0\n",
       "24    2.0\n",
       "25    2.0\n",
       "26    2.0\n",
       "27    2.0\n",
       "28    2.0\n",
       "29    2.0\n",
       "Name: b, dtype: float64"
      ]
     },
     "execution_count": 12,
     "metadata": {},
     "output_type": "execute_result"
    }
   ],
   "source": [
    "# %%timeit\n",
    "df = pd.DataFrame(columns=['a', 'b'], data=[[1, 2], [3, 6], [5, 10]]*10)\n",
    "# df['c'] = df.a[1:3] - df.b[1:3].values\n",
    "print(df)\n",
    "\n",
    "# df['c'] = pd.np.nan\n",
    "\n",
    "# %timeit df.loc[:2, 'c'] = (df.a[1:3] - df.b[1:3].values).reset_index(drop=True)\n",
    "\n",
    "# df.loc[3:5, 'c'] = df.a[1:3] - df.b[1:3].values\n",
    "\n",
    "# df.c[3:5] = df.a[1:3] - df.b[1:3].values\n",
    "\n",
    "# df.loc[3:5, 'c'] = df.a[1:3].values - df.b[1:3].values\n",
    "\n",
    "# df[1:3].c = df.a[1:3] - df.b[1:3].values\n",
    "\n",
    "# print(df)\n",
    "\n",
    "# c = df.c[3:5]\n",
    "# print(type(c))\n",
    "# print(c)\n",
    "\n",
    "# v = df.a[1:3].values - df.b[1:3].values\n",
    "# print(type(v))\n",
    "# print(v)\n",
    "\n",
    "# s = df.a[1:3] - df.b[1:3].values\n",
    "# print(type(s))\n",
    "# print(s)\n",
    "# print(s.reset_index(drop=True))\n",
    "# df['c'] = df['c'].apply(lambda x: 'UP' if x < 0 else 'DOWN')\n",
    "# df\n",
    "\n",
    "# print(df['b'].shift(1))\n",
    "# print(df['b'])\n",
    "# s = df['b'] - df['b'].shift(1)\n",
    "# s = s.reset_index(drop=True, inplace=True)\n",
    "# s.shift(-1)\n",
    "# print(s)\n",
    "\n",
    "# print(df['b'].diff(1))\n",
    "# print(df['b'].diff(4))\n",
    "\n",
    "# %timeit df.loc[2, 'b'] - df.shift(2).loc[2, 'b']\n",
    "# print(df.shift(2).loc[2])\n",
    "\n",
    "# df['b'].rolling(2).mean()\n",
    "# df['b'].rolling(10).max()\n",
    "df['b'].rolling(10).min()"
   ]
  },
  {
   "cell_type": "code",
   "execution_count": 5,
   "metadata": {},
   "outputs": [
    {
     "data": {
      "text/plain": [
       "[[1, 2]]"
      ]
     },
     "execution_count": 5,
     "metadata": {},
     "output_type": "execute_result"
    }
   ],
   "source": [
    "l = [[1,2], [2,3]]\n",
    "for t in l:\n",
    "    if t[0] > 1:\n",
    "        l.remove(t)\n",
    "l"
   ]
  },
  {
   "cell_type": "code",
   "execution_count": 14,
   "metadata": {},
   "outputs": [
    {
     "name": "stdout",
     "output_type": "stream",
     "text": [
      "85.3 ns ± 4.24 ns per loop (mean ± std. dev. of 7 runs, 10000000 loops each)\n",
      "116 ns ± 1.47 ns per loop (mean ± std. dev. of 7 runs, 10000000 loops each)\n",
      "26.6 ns ± 0.13 ns per loop (mean ± std. dev. of 7 runs, 10000000 loops each)\n"
     ]
    }
   ],
   "source": [
    "import numpy as np\n",
    "arr = np.array([[2,3,1,0], [2,3,1,0], [3,2,1,1]])\n",
    "%timeit d = len(arr)\n",
    "%timeit f = arr.shape[0]\n",
    "%timeit c = d"
   ]
  }
 ],
 "metadata": {
  "kernelspec": {
   "display_name": "Python 3",
   "language": "python",
   "name": "python3"
  },
  "language_info": {
   "codemirror_mode": {
    "name": "ipython",
    "version": 3
   },
   "file_extension": ".py",
   "mimetype": "text/x-python",
   "name": "python",
   "nbconvert_exporter": "python",
   "pygments_lexer": "ipython3",
   "version": "3.6.1"
  }
 },
 "nbformat": 4,
 "nbformat_minor": 2
}
