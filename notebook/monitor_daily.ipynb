{
 "cells": [
  {
   "cell_type": "code",
   "execution_count": 1,
   "metadata": {
    "scrolled": false
   },
   "outputs": [
    {
     "data": {
      "text/html": [
       "\n",
       "<script src=\"https://code.jquery.com/jquery-3.1.1.min.js\"></script>\n",
       "<script src=\"https://code.highcharts.com/stock/highstock.js\"></script>\n",
       "<script src=\"https://code.highcharts.com/stock/modules/exporting.js\"></script>\n",
       "<script src=\"https://code.highcharts.com/stock/modules/export-data.js\"></script>\n"
      ],
      "text/plain": [
       "<IPython.core.display.HTML object>"
      ]
     },
     "metadata": {},
     "output_type": "display_data"
    },
    {
     "data": {
      "text/html": [
       "<style>.container { width:70% !important; }</style>"
      ],
      "text/plain": [
       "<IPython.core.display.HTML object>"
      ]
     },
     "metadata": {},
     "output_type": "display_data"
    },
    {
     "data": {
      "text/plain": [
       "<module 'pandas' from 'd:\\\\python3\\\\lib\\\\site-packages\\\\pandas\\\\__init__.py'>"
      ]
     },
     "execution_count": 1,
     "metadata": {},
     "output_type": "execute_result"
    }
   ],
   "source": [
    "import os\n",
    "import sys\n",
    "sys.path.append(os.path.abspath(os.path.join(os.getcwd(), '..')))\n",
    "\n",
    "import pandas as pd\n",
    "pd.core.common.is_list_like = pd.api.types.is_list_like\n",
    "try:\n",
    "    import empyrical as emp\n",
    "except:\n",
    "    emp = None\n",
    "import tushare as ts\n",
    "import time\n",
    "import random\n",
    "\n",
    "from common.log import *\n",
    "from common.config import Config\n",
    "from spider.spider_nasdaq import Spider_nasdaq\n",
    "from spider.spider_coinmarketcap import Spider_coinmarketcap\n",
    "\n",
    "from IPython.core.interactiveshell import InteractiveShell\n",
    "InteractiveShell.ast_node_interactivity = 'all'\n",
    "\n",
    "from pandas_highcharts.core import serialize\n",
    "from pandas_highcharts.display import display_charts\n",
    "\n",
    "import matplotlib\n",
    "import matplotlib.pyplot as plt\n",
    "plt.rcParams['figure.figsize'] = [15, 10]\n",
    "\n",
    "from IPython.core.display import display, HTML\n",
    "display(HTML(\"<style>.container { width:70% !important; }</style>\"))\n",
    "\n",
    "CONF = Config('../conf/secret.yaml').data[0]\n",
    "ts_token = CONF['TUSHARE']['TOKEN']\n",
    "ts.set_token(ts_token)\n",
    "pro = ts.pro_api()\n",
    "\n",
    "CONF = Config().data[0]\n",
    "MONGODB = CONF['MONGODB']\n",
    "NASDAQ = CONF['NASDAQ']\n",
    "CRYPTOCURRENCY = CONF['CRYPTOCURRENCY']\n",
    "CRYPTOCURRENCY = list(CRYPTOCURRENCY.keys())\n",
    "NASDAQ100 = CONF['NASDAQ100']\n",
    "\n",
    "MONITOR_TARGET = {\n",
    "    '399300': {'MA': [30, 150], 'ROLLINGMAX': [100], 'ROLLINGMIN': [40], 'NAME': '沪深300(SZ:399300)'},\n",
    "    '000905': {'MA': [90, 120], 'ROLLINGMAX': [30], 'ROLLINGMIN': [20], 'NAME': '中证500(SH:000905)'},\n",
    "    '399006': {'MA': [110, 180], 'ROLLINGMAX': [150], 'ROLLINGMIN': [50], 'NAME': '创业板指(SZ:399006)'},\n",
    "#     'BITCOIN': {'MA': [], 'ROLLINGMAX': [20], 'ROLLINGMIN': [10], 'NAME': 'BITCOIN'},\n",
    "#     'EOS': {'MA': [], 'ROLLINGMAX': [20], 'ROLLINGMIN': [10], 'NAME': 'EOS'},\n",
    "}\n",
    "\n",
    "# MONITOR_TARGET = {\n",
    "#     '399300': {'MA': [17], 'ROLLINGMAX': [100], 'ROLLINGMIN': [40], 'N': 10, 'NAME': '沪深300(SZ:399300)'},\n",
    "#     '000905': {'MA': [17], 'ROLLINGMAX': [30], 'ROLLINGMIN': [20], 'N': 10, 'NAME': '中证500(SH:000905)'},\n",
    "#     '399006': {'MA': [17], 'ROLLINGMAX': [150], 'ROLLINGMIN': [50], 'N': 10, 'NAME': '创业板指(SZ:399006)'},\n",
    "#     'BITCOIN': {'MA': [5], 'ROLLINGMAX': [20], 'ROLLINGMIN': [10], 'N': 2, 'NAME': 'BITCOIN'},\n",
    "#     'EOS': {'MA': [5], 'ROLLINGMAX': [20], 'ROLLINGMIN': [10], 'N': 2, 'NAME': 'EOS'},\n",
    "#     'ETHEREUM': {'MA': [5], 'ROLLINGMAX': [20], 'ROLLINGMIN': [10], 'N': 2, 'NAME': 'ETHEREUM'},\n",
    "#     'RIPPLE': {'MA': [5], 'ROLLINGMAX': [20], 'ROLLINGMIN': [10], 'N': 2, 'NAME': 'RIPPLE'},\n",
    "#     'LITECOIN': {'MA': [5], 'ROLLINGMAX': [20], 'ROLLINGMIN': [10], 'N': 2, 'NAME': 'LITECOIN'},\n",
    "# }\n",
    "\n",
    "pd"
   ]
  },
  {
   "cell_type": "code",
   "execution_count": 2,
   "metadata": {
    "scrolled": false
   },
   "outputs": [
    {
     "name": "stdout",
     "output_type": "stream",
     "text": [
      "399300\n",
      "000905\n",
      "399006\n",
      "Wall time: 6.63 s\n"
     ]
    }
   ],
   "source": [
    "%%time\n",
    "\n",
    "IS_DOWNLOAD_DATA = True\n",
    "\n",
    "spider_n = Spider_nasdaq()\n",
    "spider_c = Spider_coinmarketcap()\n",
    "\n",
    "for symbol in MONITOR_TARGET:\n",
    "    if not IS_DOWNLOAD_DATA:\n",
    "        break\n",
    "        \n",
    "    print(symbol)\n",
    "\n",
    "    # 指数\n",
    "    if symbol in ['399300', '000905', '000016', '399006']:\n",
    "        df = ts.get_k_data(code=symbol, index=True, start='2005-01-01', end=time.strftime('%Y-%m-%d'))\n",
    "        datafile = '../database/market/%s.csv' % symbol\n",
    "        df.to_csv(datafile, index=False, encoding='utf-8')\n",
    "        \n",
    "    # CRYPTOCURRENCY\n",
    "    elif symbol in CRYPTOCURRENCY:\n",
    "        datafile = spider_c.get_coin_data(symbol, start_date='20100101', end_date=time.strftime('%Y%m%d'))\n",
    "        \n",
    "    # ETF\n",
    "    else:\n",
    "        df = ts.get_k_data(code=symbol, ktype='D', autype='qfq', index=False, start='2005-01-01', end=time.strftime('%Y-%m-%d'))\n",
    "        datafile = '../database/market/%s.csv' % symbol\n",
    "        df.to_csv(datafile, index=False, encoding='utf-8')\n",
    "        time.sleep(1)\n",
    "\n",
    "    time.sleep(1)"
   ]
  },
  {
   "cell_type": "code",
   "execution_count": 3,
   "metadata": {
    "scrolled": false
   },
   "outputs": [
    {
     "name": "stdout",
     "output_type": "stream",
     "text": [
      "Wall time: 92.3 ms\n"
     ]
    }
   ],
   "source": [
    "%%time\n",
    "\n",
    "stock_df_dict = {}\n",
    "\n",
    "for symbol in MONITOR_TARGET:\n",
    "    stock_data_file = '../database/market/%s.csv' % symbol\n",
    "    try:\n",
    "        stock_df = pd.read_csv(stock_data_file)\n",
    "    except:\n",
    "        print(symbol)\n",
    "        continue\n",
    "\n",
    "    # 筛选字段\n",
    "#     stock_df = stock_df.loc[:, ['date', 'open', 'close']]\n",
    "    stock_df = stock_df.loc[:, ['date', 'close']]\n",
    "\n",
    "    # 去掉Nasdaq行情首行的当天行情\n",
    "    if symbol in NASDAQ100:\n",
    "        stock_df = stock_df.drop([0])\n",
    "\n",
    "    # 抛弃空值异常值\n",
    "    stock_df.dropna(axis=0, how='any', inplace=True)\n",
    "\n",
    "    # 格式化日期\n",
    "    # 445 ms ± 17.5 ms per loop (mean ± std. dev. of 7 runs, 1 loop each)\n",
    "    stock_df = stock_df.assign(date=pd.to_datetime(stock_df['date']))  # need .index.to_period('D')\n",
    "\n",
    "    # 用日期作索引，日期升序排序\n",
    "    # 95.1 µs ± 1.58 µs per loop (mean ± std. dev. of 7 runs, 10000 loops each)\n",
    "    if symbol in NASDAQ100 or symbol in CRYPTOCURRENCY:\n",
    "        stock_df = stock_df[::-1]\n",
    "    stock_df.set_index(['date'], inplace=True)\n",
    "    stock_df.index = stock_df.index.to_period('D')\n",
    "\n",
    "#     # 计算每天涨跌幅\n",
    "#     N = MONITOR_TARGET[symbol]['N']\n",
    "#     stock_df['N_sht'] = stock_df.close.shift(N)\n",
    "#     stock_df['N_chg'] = (stock_df.close.shift(1) - stock_df.close.shift(N)) / stock_df.close.shift(N)\n",
    "\n",
    "    for MA_PARAM in MONITOR_TARGET[symbol]['MA']:\n",
    "        stock_df['MA_%d' % MA_PARAM] = stock_df['close'].rolling(MA_PARAM).mean()\n",
    "    \n",
    "    for ROLLINGMAX_PARAM in MONITOR_TARGET[symbol]['ROLLINGMAX']:\n",
    "        stock_df['ROLLINGMAX_%d' % ROLLINGMAX_PARAM] = stock_df['close'].rolling(ROLLINGMAX_PARAM).max()\n",
    "        \n",
    "    for ROLLINGMIN_PARAM in MONITOR_TARGET[symbol]['ROLLINGMIN']:\n",
    "        stock_df['ROLLINGMIN_%d' % ROLLINGMIN_PARAM] = stock_df['close'].rolling(ROLLINGMIN_PARAM).min()\n",
    "    \n",
    "    # 减少数据\n",
    "    # stock_df = stock_df['2016-01-01':]\n",
    "    stock_df.dropna(how='any', inplace=True)\n",
    "    \n",
    "    stock_df_dict[symbol] = stock_df"
   ]
  },
  {
   "cell_type": "code",
   "execution_count": 4,
   "metadata": {},
   "outputs": [
    {
     "name": "stdout",
     "output_type": "stream",
     "text": [
      "Stored 'MONITOR_TARGET' (dict)\n",
      "Stored 'stock_df_dict' (dict)\n"
     ]
    }
   ],
   "source": [
    "%store MONITOR_TARGET\n",
    "%store stock_df_dict"
   ]
  },
  {
   "cell_type": "code",
   "execution_count": 5,
   "metadata": {
    "scrolled": false
   },
   "outputs": [
    {
     "data": {
      "text/plain": [
       "'399300'"
      ]
     },
     "execution_count": 5,
     "metadata": {},
     "output_type": "execute_result"
    },
    {
     "data": {
      "text/html": [
       "<div>\n",
       "<style scoped>\n",
       "    .dataframe tbody tr th:only-of-type {\n",
       "        vertical-align: middle;\n",
       "    }\n",
       "\n",
       "    .dataframe tbody tr th {\n",
       "        vertical-align: top;\n",
       "    }\n",
       "\n",
       "    .dataframe thead th {\n",
       "        text-align: right;\n",
       "    }\n",
       "</style>\n",
       "<table border=\"1\" class=\"dataframe\">\n",
       "  <thead>\n",
       "    <tr style=\"text-align: right;\">\n",
       "      <th></th>\n",
       "      <th>close</th>\n",
       "      <th>MA_30</th>\n",
       "      <th>MA_150</th>\n",
       "      <th>ROLLINGMAX_100</th>\n",
       "      <th>ROLLINGMIN_40</th>\n",
       "    </tr>\n",
       "    <tr>\n",
       "      <th>date</th>\n",
       "      <th></th>\n",
       "      <th></th>\n",
       "      <th></th>\n",
       "      <th></th>\n",
       "      <th></th>\n",
       "    </tr>\n",
       "  </thead>\n",
       "  <tbody>\n",
       "    <tr>\n",
       "      <th>2019-05-29</th>\n",
       "      <td>3663.91</td>\n",
       "      <td>3799.412000</td>\n",
       "      <td>3453.190267</td>\n",
       "      <td>4120.61</td>\n",
       "      <td>3583.96</td>\n",
       "    </tr>\n",
       "    <tr>\n",
       "      <th>2019-05-30</th>\n",
       "      <td>3641.18</td>\n",
       "      <td>3788.267333</td>\n",
       "      <td>3456.791667</td>\n",
       "      <td>4120.61</td>\n",
       "      <td>3583.96</td>\n",
       "    </tr>\n",
       "    <tr>\n",
       "      <th>2019-05-31</th>\n",
       "      <td>3629.79</td>\n",
       "      <td>3773.067333</td>\n",
       "      <td>3460.201933</td>\n",
       "      <td>4120.61</td>\n",
       "      <td>3583.96</td>\n",
       "    </tr>\n",
       "    <tr>\n",
       "      <th>2019-06-03</th>\n",
       "      <td>3632.01</td>\n",
       "      <td>3757.893000</td>\n",
       "      <td>3464.119400</td>\n",
       "      <td>4120.61</td>\n",
       "      <td>3583.96</td>\n",
       "    </tr>\n",
       "    <tr>\n",
       "      <th>2019-06-04</th>\n",
       "      <td>3598.47</td>\n",
       "      <td>3742.106000</td>\n",
       "      <td>3467.209533</td>\n",
       "      <td>4120.61</td>\n",
       "      <td>3583.96</td>\n",
       "    </tr>\n",
       "  </tbody>\n",
       "</table>\n",
       "</div>"
      ],
      "text/plain": [
       "              close        MA_30       MA_150  ROLLINGMAX_100  ROLLINGMIN_40\n",
       "date                                                                        \n",
       "2019-05-29  3663.91  3799.412000  3453.190267         4120.61        3583.96\n",
       "2019-05-30  3641.18  3788.267333  3456.791667         4120.61        3583.96\n",
       "2019-05-31  3629.79  3773.067333  3460.201933         4120.61        3583.96\n",
       "2019-06-03  3632.01  3757.893000  3464.119400         4120.61        3583.96\n",
       "2019-06-04  3598.47  3742.106000  3467.209533         4120.61        3583.96"
      ]
     },
     "execution_count": 5,
     "metadata": {},
     "output_type": "execute_result"
    },
    {
     "data": {
      "text/plain": [
       "'000905'"
      ]
     },
     "execution_count": 5,
     "metadata": {},
     "output_type": "execute_result"
    },
    {
     "data": {
      "text/html": [
       "<div>\n",
       "<style scoped>\n",
       "    .dataframe tbody tr th:only-of-type {\n",
       "        vertical-align: middle;\n",
       "    }\n",
       "\n",
       "    .dataframe tbody tr th {\n",
       "        vertical-align: top;\n",
       "    }\n",
       "\n",
       "    .dataframe thead th {\n",
       "        text-align: right;\n",
       "    }\n",
       "</style>\n",
       "<table border=\"1\" class=\"dataframe\">\n",
       "  <thead>\n",
       "    <tr style=\"text-align: right;\">\n",
       "      <th></th>\n",
       "      <th>close</th>\n",
       "      <th>MA_90</th>\n",
       "      <th>MA_120</th>\n",
       "      <th>ROLLINGMAX_30</th>\n",
       "      <th>ROLLINGMIN_20</th>\n",
       "    </tr>\n",
       "    <tr>\n",
       "      <th>date</th>\n",
       "      <th></th>\n",
       "      <th></th>\n",
       "      <th></th>\n",
       "      <th></th>\n",
       "      <th></th>\n",
       "    </tr>\n",
       "  </thead>\n",
       "  <tbody>\n",
       "    <tr>\n",
       "      <th>2019-05-29</th>\n",
       "      <td>4956.86</td>\n",
       "      <td>5082.956889</td>\n",
       "      <td>4891.179083</td>\n",
       "      <td>5810.18</td>\n",
       "      <td>4841.76</td>\n",
       "    </tr>\n",
       "    <tr>\n",
       "      <th>2019-05-30</th>\n",
       "      <td>4926.40</td>\n",
       "      <td>5089.751556</td>\n",
       "      <td>4895.216917</td>\n",
       "      <td>5810.18</td>\n",
       "      <td>4841.76</td>\n",
       "    </tr>\n",
       "    <tr>\n",
       "      <th>2019-05-31</th>\n",
       "      <td>4912.00</td>\n",
       "      <td>5096.701000</td>\n",
       "      <td>4899.936083</td>\n",
       "      <td>5810.18</td>\n",
       "      <td>4841.76</td>\n",
       "    </tr>\n",
       "    <tr>\n",
       "      <th>2019-06-03</th>\n",
       "      <td>4853.82</td>\n",
       "      <td>5102.328333</td>\n",
       "      <td>4903.912500</td>\n",
       "      <td>5810.18</td>\n",
       "      <td>4841.76</td>\n",
       "    </tr>\n",
       "    <tr>\n",
       "      <th>2019-06-04</th>\n",
       "      <td>4795.41</td>\n",
       "      <td>5107.423111</td>\n",
       "      <td>4906.247833</td>\n",
       "      <td>5810.18</td>\n",
       "      <td>4795.41</td>\n",
       "    </tr>\n",
       "  </tbody>\n",
       "</table>\n",
       "</div>"
      ],
      "text/plain": [
       "              close        MA_90       MA_120  ROLLINGMAX_30  ROLLINGMIN_20\n",
       "date                                                                       \n",
       "2019-05-29  4956.86  5082.956889  4891.179083        5810.18        4841.76\n",
       "2019-05-30  4926.40  5089.751556  4895.216917        5810.18        4841.76\n",
       "2019-05-31  4912.00  5096.701000  4899.936083        5810.18        4841.76\n",
       "2019-06-03  4853.82  5102.328333  4903.912500        5810.18        4841.76\n",
       "2019-06-04  4795.41  5107.423111  4906.247833        5810.18        4795.41"
      ]
     },
     "execution_count": 5,
     "metadata": {},
     "output_type": "execute_result"
    },
    {
     "data": {
      "text/plain": [
       "'399006'"
      ]
     },
     "execution_count": 5,
     "metadata": {},
     "output_type": "execute_result"
    },
    {
     "data": {
      "text/html": [
       "<div>\n",
       "<style scoped>\n",
       "    .dataframe tbody tr th:only-of-type {\n",
       "        vertical-align: middle;\n",
       "    }\n",
       "\n",
       "    .dataframe tbody tr th {\n",
       "        vertical-align: top;\n",
       "    }\n",
       "\n",
       "    .dataframe thead th {\n",
       "        text-align: right;\n",
       "    }\n",
       "</style>\n",
       "<table border=\"1\" class=\"dataframe\">\n",
       "  <thead>\n",
       "    <tr style=\"text-align: right;\">\n",
       "      <th></th>\n",
       "      <th>close</th>\n",
       "      <th>MA_110</th>\n",
       "      <th>MA_180</th>\n",
       "      <th>ROLLINGMAX_150</th>\n",
       "      <th>ROLLINGMIN_50</th>\n",
       "    </tr>\n",
       "    <tr>\n",
       "      <th>date</th>\n",
       "      <th></th>\n",
       "      <th></th>\n",
       "      <th></th>\n",
       "      <th></th>\n",
       "      <th></th>\n",
       "    </tr>\n",
       "  </thead>\n",
       "  <tbody>\n",
       "    <tr>\n",
       "      <th>2019-05-29</th>\n",
       "      <td>1497.89</td>\n",
       "      <td>1485.482545</td>\n",
       "      <td>1433.488056</td>\n",
       "      <td>1777.26</td>\n",
       "      <td>1443.75</td>\n",
       "    </tr>\n",
       "    <tr>\n",
       "      <th>2019-05-30</th>\n",
       "      <td>1485.24</td>\n",
       "      <td>1486.814455</td>\n",
       "      <td>1433.444333</td>\n",
       "      <td>1777.26</td>\n",
       "      <td>1443.75</td>\n",
       "    </tr>\n",
       "    <tr>\n",
       "      <th>2019-05-31</th>\n",
       "      <td>1483.66</td>\n",
       "      <td>1488.043182</td>\n",
       "      <td>1433.458056</td>\n",
       "      <td>1777.26</td>\n",
       "      <td>1443.75</td>\n",
       "    </tr>\n",
       "    <tr>\n",
       "      <th>2019-06-03</th>\n",
       "      <td>1468.98</td>\n",
       "      <td>1489.484273</td>\n",
       "      <td>1433.519500</td>\n",
       "      <td>1777.26</td>\n",
       "      <td>1443.75</td>\n",
       "    </tr>\n",
       "    <tr>\n",
       "      <th>2019-06-04</th>\n",
       "      <td>1456.27</td>\n",
       "      <td>1490.912455</td>\n",
       "      <td>1433.636556</td>\n",
       "      <td>1777.26</td>\n",
       "      <td>1443.75</td>\n",
       "    </tr>\n",
       "  </tbody>\n",
       "</table>\n",
       "</div>"
      ],
      "text/plain": [
       "              close       MA_110       MA_180  ROLLINGMAX_150  ROLLINGMIN_50\n",
       "date                                                                        \n",
       "2019-05-29  1497.89  1485.482545  1433.488056         1777.26        1443.75\n",
       "2019-05-30  1485.24  1486.814455  1433.444333         1777.26        1443.75\n",
       "2019-05-31  1483.66  1488.043182  1433.458056         1777.26        1443.75\n",
       "2019-06-03  1468.98  1489.484273  1433.519500         1777.26        1443.75\n",
       "2019-06-04  1456.27  1490.912455  1433.636556         1777.26        1443.75"
      ]
     },
     "execution_count": 5,
     "metadata": {},
     "output_type": "execute_result"
    }
   ],
   "source": [
    "for symbol in MONITOR_TARGET:\n",
    "    symbol\n",
    "    stock_df_dict[symbol].tail(5)"
   ]
  },
  {
   "cell_type": "code",
   "execution_count": 6,
   "metadata": {
    "scrolled": false
   },
   "outputs": [
    {
     "ename": "ValueError",
     "evalue": "labels ['N_chg'] not contained in axis",
     "output_type": "error",
     "traceback": [
      "\u001b[1;31m---------------------------------------------------------------------------\u001b[0m",
      "\u001b[1;31mValueError\u001b[0m                                Traceback (most recent call last)",
      "\u001b[1;32m<ipython-input-6-2bc935aeda54>\u001b[0m in \u001b[0;36m<module>\u001b[1;34m()\u001b[0m\n\u001b[0;32m     40\u001b[0m     \u001b[0mtitle\u001b[0m \u001b[1;33m=\u001b[0m \u001b[1;34m'%s, %s, close=%.1f, buy=%.1f(+%.1f%%), sell=%.1f(-%.1f%%)'\u001b[0m \u001b[1;33m%\u001b[0m         \u001b[1;33m(\u001b[0m\u001b[0msymbol\u001b[0m\u001b[1;33m,\u001b[0m \u001b[0mtoday_market\u001b[0m\u001b[1;33m.\u001b[0m\u001b[0mname\u001b[0m\u001b[1;33m.\u001b[0m\u001b[0mdate\u001b[0m\u001b[1;33m(\u001b[0m\u001b[1;33m)\u001b[0m\u001b[1;33m,\u001b[0m \u001b[0mnow_point\u001b[0m\u001b[1;33m,\u001b[0m \u001b[0mbuy_point\u001b[0m\u001b[1;33m,\u001b[0m \u001b[0mbuy_diff\u001b[0m\u001b[1;33m,\u001b[0m \u001b[0msell_point\u001b[0m\u001b[1;33m,\u001b[0m \u001b[0msell_diff\u001b[0m\u001b[1;33m)\u001b[0m\u001b[1;33m\u001b[0m\u001b[0m\n\u001b[0;32m     41\u001b[0m \u001b[1;33m\u001b[0m\u001b[0m\n\u001b[1;32m---> 42\u001b[1;33m     \u001b[0mdf\u001b[0m\u001b[1;33m.\u001b[0m\u001b[0mdrop\u001b[0m\u001b[1;33m(\u001b[0m\u001b[0mcolumns\u001b[0m\u001b[1;33m=\u001b[0m\u001b[1;33m[\u001b[0m\u001b[1;34m'N_chg'\u001b[0m\u001b[1;33m]\u001b[0m\u001b[1;33m,\u001b[0m \u001b[0minplace\u001b[0m\u001b[1;33m=\u001b[0m\u001b[1;32mTrue\u001b[0m\u001b[1;33m)\u001b[0m\u001b[1;33m\u001b[0m\u001b[0m\n\u001b[0m\u001b[0;32m     43\u001b[0m     \u001b[0max\u001b[0m \u001b[1;33m=\u001b[0m \u001b[0mdf\u001b[0m\u001b[1;33m.\u001b[0m\u001b[0mplot\u001b[0m\u001b[1;33m(\u001b[0m\u001b[0mkind\u001b[0m\u001b[1;33m=\u001b[0m\u001b[1;34m'line'\u001b[0m\u001b[1;33m,\u001b[0m \u001b[0mtitle\u001b[0m\u001b[1;33m=\u001b[0m\u001b[0mtitle\u001b[0m\u001b[1;33m,\u001b[0m \u001b[0mlinewidth\u001b[0m\u001b[1;33m=\u001b[0m\u001b[1;36m0.9\u001b[0m\u001b[1;33m,\u001b[0m \u001b[0mgrid\u001b[0m\u001b[1;33m=\u001b[0m\u001b[1;32mTrue\u001b[0m\u001b[1;33m,\u001b[0m \u001b[0mfigsize\u001b[0m\u001b[1;33m=\u001b[0m\u001b[1;33m(\u001b[0m\u001b[1;36m19\u001b[0m\u001b[1;33m,\u001b[0m \u001b[1;36m5\u001b[0m\u001b[1;33m)\u001b[0m\u001b[1;33m)\u001b[0m\u001b[1;33m\u001b[0m\u001b[0m\n\u001b[0;32m     44\u001b[0m     \u001b[0max\u001b[0m\u001b[1;33m.\u001b[0m\u001b[0myaxis\u001b[0m\u001b[1;33m.\u001b[0m\u001b[0mtick_right\u001b[0m\u001b[1;33m(\u001b[0m\u001b[1;33m)\u001b[0m\u001b[1;33m\u001b[0m\u001b[0m\n",
      "\u001b[1;32md:\\python3\\lib\\site-packages\\pandas\\core\\generic.py\u001b[0m in \u001b[0;36mdrop\u001b[1;34m(self, labels, axis, index, columns, level, inplace, errors)\u001b[0m\n\u001b[0;32m   2528\u001b[0m         \u001b[1;32mfor\u001b[0m \u001b[0maxis\u001b[0m\u001b[1;33m,\u001b[0m \u001b[0mlabels\u001b[0m \u001b[1;32min\u001b[0m \u001b[0maxes\u001b[0m\u001b[1;33m.\u001b[0m\u001b[0mitems\u001b[0m\u001b[1;33m(\u001b[0m\u001b[1;33m)\u001b[0m\u001b[1;33m:\u001b[0m\u001b[1;33m\u001b[0m\u001b[0m\n\u001b[0;32m   2529\u001b[0m             \u001b[1;32mif\u001b[0m \u001b[0mlabels\u001b[0m \u001b[1;32mis\u001b[0m \u001b[1;32mnot\u001b[0m \u001b[1;32mNone\u001b[0m\u001b[1;33m:\u001b[0m\u001b[1;33m\u001b[0m\u001b[0m\n\u001b[1;32m-> 2530\u001b[1;33m                 \u001b[0mobj\u001b[0m \u001b[1;33m=\u001b[0m \u001b[0mobj\u001b[0m\u001b[1;33m.\u001b[0m\u001b[0m_drop_axis\u001b[0m\u001b[1;33m(\u001b[0m\u001b[0mlabels\u001b[0m\u001b[1;33m,\u001b[0m \u001b[0maxis\u001b[0m\u001b[1;33m,\u001b[0m \u001b[0mlevel\u001b[0m\u001b[1;33m=\u001b[0m\u001b[0mlevel\u001b[0m\u001b[1;33m,\u001b[0m \u001b[0merrors\u001b[0m\u001b[1;33m=\u001b[0m\u001b[0merrors\u001b[0m\u001b[1;33m)\u001b[0m\u001b[1;33m\u001b[0m\u001b[0m\n\u001b[0m\u001b[0;32m   2531\u001b[0m \u001b[1;33m\u001b[0m\u001b[0m\n\u001b[0;32m   2532\u001b[0m         \u001b[1;32mif\u001b[0m \u001b[0minplace\u001b[0m\u001b[1;33m:\u001b[0m\u001b[1;33m\u001b[0m\u001b[0m\n",
      "\u001b[1;32md:\\python3\\lib\\site-packages\\pandas\\core\\generic.py\u001b[0m in \u001b[0;36m_drop_axis\u001b[1;34m(self, labels, axis, level, errors)\u001b[0m\n\u001b[0;32m   2560\u001b[0m                 \u001b[0mnew_axis\u001b[0m \u001b[1;33m=\u001b[0m \u001b[0maxis\u001b[0m\u001b[1;33m.\u001b[0m\u001b[0mdrop\u001b[0m\u001b[1;33m(\u001b[0m\u001b[0mlabels\u001b[0m\u001b[1;33m,\u001b[0m \u001b[0mlevel\u001b[0m\u001b[1;33m=\u001b[0m\u001b[0mlevel\u001b[0m\u001b[1;33m,\u001b[0m \u001b[0merrors\u001b[0m\u001b[1;33m=\u001b[0m\u001b[0merrors\u001b[0m\u001b[1;33m)\u001b[0m\u001b[1;33m\u001b[0m\u001b[0m\n\u001b[0;32m   2561\u001b[0m             \u001b[1;32melse\u001b[0m\u001b[1;33m:\u001b[0m\u001b[1;33m\u001b[0m\u001b[0m\n\u001b[1;32m-> 2562\u001b[1;33m                 \u001b[0mnew_axis\u001b[0m \u001b[1;33m=\u001b[0m \u001b[0maxis\u001b[0m\u001b[1;33m.\u001b[0m\u001b[0mdrop\u001b[0m\u001b[1;33m(\u001b[0m\u001b[0mlabels\u001b[0m\u001b[1;33m,\u001b[0m \u001b[0merrors\u001b[0m\u001b[1;33m=\u001b[0m\u001b[0merrors\u001b[0m\u001b[1;33m)\u001b[0m\u001b[1;33m\u001b[0m\u001b[0m\n\u001b[0m\u001b[0;32m   2563\u001b[0m             \u001b[0mdropped\u001b[0m \u001b[1;33m=\u001b[0m \u001b[0mself\u001b[0m\u001b[1;33m.\u001b[0m\u001b[0mreindex\u001b[0m\u001b[1;33m(\u001b[0m\u001b[1;33m**\u001b[0m\u001b[1;33m{\u001b[0m\u001b[0maxis_name\u001b[0m\u001b[1;33m:\u001b[0m \u001b[0mnew_axis\u001b[0m\u001b[1;33m}\u001b[0m\u001b[1;33m)\u001b[0m\u001b[1;33m\u001b[0m\u001b[0m\n\u001b[0;32m   2564\u001b[0m             \u001b[1;32mtry\u001b[0m\u001b[1;33m:\u001b[0m\u001b[1;33m\u001b[0m\u001b[0m\n",
      "\u001b[1;32md:\\python3\\lib\\site-packages\\pandas\\core\\indexes\\base.py\u001b[0m in \u001b[0;36mdrop\u001b[1;34m(self, labels, errors)\u001b[0m\n\u001b[0;32m   3739\u001b[0m             \u001b[1;32mif\u001b[0m \u001b[0merrors\u001b[0m \u001b[1;33m!=\u001b[0m \u001b[1;34m'ignore'\u001b[0m\u001b[1;33m:\u001b[0m\u001b[1;33m\u001b[0m\u001b[0m\n\u001b[0;32m   3740\u001b[0m                 raise ValueError('labels %s not contained in axis' %\n\u001b[1;32m-> 3741\u001b[1;33m                                  labels[mask])\n\u001b[0m\u001b[0;32m   3742\u001b[0m             \u001b[0mindexer\u001b[0m \u001b[1;33m=\u001b[0m \u001b[0mindexer\u001b[0m\u001b[1;33m[\u001b[0m\u001b[1;33m~\u001b[0m\u001b[0mmask\u001b[0m\u001b[1;33m]\u001b[0m\u001b[1;33m\u001b[0m\u001b[0m\n\u001b[0;32m   3743\u001b[0m         \u001b[1;32mreturn\u001b[0m \u001b[0mself\u001b[0m\u001b[1;33m.\u001b[0m\u001b[0mdelete\u001b[0m\u001b[1;33m(\u001b[0m\u001b[0mindexer\u001b[0m\u001b[1;33m)\u001b[0m\u001b[1;33m\u001b[0m\u001b[0m\n",
      "\u001b[1;31mValueError\u001b[0m: labels ['N_chg'] not contained in axis"
     ]
    }
   ],
   "source": [
    "monitor_df = pd.DataFrame(columns=['SYMBOL', 'DATE', 'NOW', 'BUY', 'BUYDIFF', 'SELL', 'SELLDIFF'])\n",
    "\n",
    "for symbol in MONITOR_TARGET:\n",
    "    df = stock_df_dict[symbol].iloc[-40:].copy()\n",
    "    \n",
    "    df.reset_index(drop=False, inplace=True)\n",
    "    # df = df.astype(dtype={'date': 'datetime64[ns]'})\n",
    "    df['date'] = df['date'].apply(lambda x: x.to_timestamp().to_datetime64())\n",
    "    df.set_index('date', inplace=True)\n",
    "    \n",
    "    today_market = df.iloc[-1]\n",
    "    now_point = today_market.close\n",
    "    for col in df.columns:\n",
    "        if 'ROLLINGMAX' in col:\n",
    "            buy_point = today_market[col]\n",
    "            buy_diff = (buy_point - now_point) / now_point * 100\n",
    "        elif 'ROLLINGMIN' in col:\n",
    "            sell_point = today_market[col]\n",
    "            sell_diff = (now_point - sell_point) / now_point * 100\n",
    "        elif 'MA' in col:\n",
    "            ma = today_market[col]\n",
    "            ma_diff = (now_point - ma) / now_point * 100\n",
    "        elif 'N_chg' in col:\n",
    "            n_chg = today_market[col] * 100\n",
    "    \n",
    "    monitor_df = monitor_df.append({\n",
    "        'SYMBOL': symbol, \n",
    "        'DATE': today_market.name.date(), \n",
    "        'NOW': now_point, \n",
    "        'BUY': buy_point, \n",
    "        'BUYDIFF': '+%.2f%%' % buy_diff, \n",
    "        'SELL': sell_point, \n",
    "        'SELLDIFF': '-%.2f%%' % sell_diff,\n",
    "        'MA': ma,\n",
    "        'MADIFF': '%.2f%%' % ma_diff,\n",
    "#         'N_sht': today_market.N_sht, \n",
    "#         'N_chg': '%.2f%%' % n_chg,\n",
    "    }, ignore_index=True)\n",
    "    \n",
    "    title = '%s, %s, close=%.1f, buy=%.1f(+%.1f%%), sell=%.1f(-%.1f%%)' % \\\n",
    "        (symbol, today_market.name.date(), now_point, buy_point, buy_diff, sell_point, sell_diff)\n",
    "    \n",
    "#     df.drop(columns=['N_chg'], inplace=True)\n",
    "    ax = df.plot(kind='line', title=title, linewidth=0.9, grid=True, figsize=(19, 5))\n",
    "    ax.yaxis.tick_right()\n",
    "    \n",
    "#     display_charts(df, chart_type='stock', kind='line', title=title, figsize=(1000, 600))\n",
    "\n",
    "\n",
    "monitor_df"
   ]
  },
  {
   "cell_type": "code",
   "execution_count": null,
   "metadata": {},
   "outputs": [],
   "source": [
    "# df = ts.get_realtime_quotes(['sh', 'sz', 'hs300', 'sz50', 'sh000905', 'zxb', 'cyb'])\n",
    "# df = ts.get_realtime_quotes(['hs300', 'sh000905', 'cyb'])\n",
    "# df = ts.get_realtime_quotes(list(MONITOR_TARGET.keys()))\n",
    "# df\n",
    "# list(MONITOR_TARGET.keys())"
   ]
  }
 ],
 "metadata": {
  "kernelspec": {
   "display_name": "Python 3",
   "language": "python",
   "name": "python3"
  },
  "language_info": {
   "codemirror_mode": {
    "name": "ipython",
    "version": 3
   },
   "file_extension": ".py",
   "mimetype": "text/x-python",
   "name": "python",
   "nbconvert_exporter": "python",
   "pygments_lexer": "ipython3",
   "version": "3.6.1"
  }
 },
 "nbformat": 4,
 "nbformat_minor": 2
}
