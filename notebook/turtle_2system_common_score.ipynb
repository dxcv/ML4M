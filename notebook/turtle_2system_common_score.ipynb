{
 "cells": [
  {
   "cell_type": "code",
   "execution_count": 1,
   "metadata": {
    "scrolled": false
   },
   "outputs": [
    {
     "data": {
      "text/html": [
       "\n",
       "<script src=\"//code.highcharts.com/stock/highstock.js\"></script>\n",
       "<script src=\"//code.highcharts.com/highcharts-more.js\"></script>\n",
       "<script src=\"//code.highcharts.com/modules/exporting.js\"></script>\n"
      ],
      "text/plain": [
       "<IPython.core.display.HTML object>"
      ]
     },
     "metadata": {},
     "output_type": "display_data"
    },
    {
     "data": {
      "text/plain": [
       "<module 'pandas' from 'd:\\\\python3\\\\lib\\\\site-packages\\\\pandas\\\\__init__.py'>"
      ]
     },
     "execution_count": 1,
     "metadata": {},
     "output_type": "execute_result"
    }
   ],
   "source": [
    "import os\n",
    "import sys\n",
    "sys.path.append(os.path.abspath(os.path.join(os.getcwd(), '..')))\n",
    "\n",
    "import pandas as pd\n",
    "pd.core.common.is_list_like = pd.api.types.is_list_like\n",
    "try:\n",
    "    import empyrical as emp\n",
    "except:\n",
    "    emp = None\n",
    "import tushare as ts\n",
    "import time\n",
    "import random\n",
    "import itertools\n",
    "# from concurrent.futures import ProcessPoolExecutor\n",
    "\n",
    "from common.log import *\n",
    "from common.config import Config\n",
    "from spider.spider_nasdaq import Spider_nasdaq\n",
    "from spider.spider_coinmarketcap import Spider_coinmarketcap\n",
    "\n",
    "from IPython.core.interactiveshell import InteractiveShell\n",
    "InteractiveShell.ast_node_interactivity = 'all'\n",
    "\n",
    "from pandas_highcharts.core import serialize\n",
    "from pandas_highcharts.display import display_charts\n",
    "\n",
    "CONF = Config().data[0]\n",
    "MONGODB = CONF['MONGODB']\n",
    "NASDAQ = CONF['NASDAQ']\n",
    "CRYPTOCURRENCY = CONF['CRYPTOCURRENCY']\n",
    "CRYPTOCURRENCY = list(CRYPTOCURRENCY.keys())\n",
    "NASDAQ100 = CONF['NASDAQ100']\n",
    "HS300 = list(ts.get_hs300s()['code'])\n",
    "\n",
    "BENCHMARK = '399300'\n",
    "# TARGET = ['399300']\n",
    "TARGET = HS300\n",
    "# BENCHMARK = 'NDX'\n",
    "# TARGET = NASDAQ100\n",
    "# BENCHMARK = 'BITCOIN'\n",
    "# TARGET = CRYPTOCURRENCY\n",
    "# BENCHMARK = 'EOS'\n",
    "# TARGET = ['EOS']\n",
    "\n",
    "ALL_TARGET = TARGET[:]\n",
    "\n",
    "pd"
   ]
  },
  {
   "cell_type": "code",
   "execution_count": 2,
   "metadata": {
    "scrolled": false
   },
   "outputs": [
    {
     "name": "stdout",
     "output_type": "stream",
     "text": [
      "Wall time: 0 ns\n"
     ]
    }
   ],
   "source": [
    "%%time\n",
    "\n",
    "IS_DOWNLOAD_DATA = False\n",
    "spider_n = Spider_nasdaq()\n",
    "spider_c = Spider_coinmarketcap()\n",
    "timeframe = '10y'\n",
    "ignore = True\n",
    "\n",
    "for symbol in TARGET + [BENCHMARK]:\n",
    "    if not IS_DOWNLOAD_DATA:\n",
    "        break\n",
    "\n",
    "    # 沪深300指数\n",
    "    if symbol == '399300':\n",
    "        df = ts.get_k_data(code=symbol, index=True, start='2005-01-01', end=time.strftime('%Y-%m-%d'))\n",
    "        datafile = '../database/market/%s.csv' % symbol\n",
    "        df.to_csv(datafile, index=False, encoding='utf-8')\n",
    "        \n",
    "    # A股\n",
    "    elif symbol in HS300:\n",
    "        df = ts.get_k_data(code=symbol, ktype='D', autype='qfq', index=False, start='2005-01-01', end=time.strftime('%Y-%m-%d'))\n",
    "        datafile = '../database/market/%s.csv' % symbol\n",
    "        df.to_csv(datafile, index=False, encoding='utf-8')\n",
    "        \n",
    "    # NASDAQ\n",
    "    elif symbol in NASDAQ100:\n",
    "        datafile = None\n",
    "        while datafile is None:\n",
    "            try:\n",
    "                datafile = spider_n.get_stock_data(symbol, timeframe)\n",
    "            except:\n",
    "                time.sleep(5)\n",
    "    \n",
    "    # CRYPTOCURRENCY\n",
    "    elif symbol in CRYPTOCURRENCY:\n",
    "        datafile = spider_c.get_coin_data(symbol, start_date='20100101', end_date=time.strftime('%Y%m%d'))\n",
    "        \n",
    "    print(datafile)\n",
    "    time.sleep(1)"
   ]
  },
  {
   "cell_type": "code",
   "execution_count": 3,
   "metadata": {},
   "outputs": [
    {
     "data": {
      "text/html": [
       "<div>\n",
       "<style scoped>\n",
       "    .dataframe tbody tr th:only-of-type {\n",
       "        vertical-align: middle;\n",
       "    }\n",
       "\n",
       "    .dataframe tbody tr th {\n",
       "        vertical-align: top;\n",
       "    }\n",
       "\n",
       "    .dataframe thead th {\n",
       "        text-align: right;\n",
       "    }\n",
       "</style>\n",
       "<table border=\"1\" class=\"dataframe\">\n",
       "  <thead>\n",
       "    <tr style=\"text-align: right;\">\n",
       "      <th></th>\n",
       "      <th>START</th>\n",
       "      <th>END</th>\n",
       "      <th>TURTLE_POS</th>\n",
       "      <th>ROLLING_X_MAX</th>\n",
       "      <th>ROLLING_X_MIN</th>\n",
       "      <th>MA_SHORT</th>\n",
       "      <th>MA_LONG</th>\n",
       "      <th>X_DAY_RETURN</th>\n",
       "      <th>ORDER</th>\n",
       "      <th>STOCK</th>\n",
       "      <th>...</th>\n",
       "      <th>annual_return</th>\n",
       "      <th>annual_volatility</th>\n",
       "      <th>calmar_ratio</th>\n",
       "      <th>sharpe_ratio</th>\n",
       "      <th>alpha</th>\n",
       "      <th>beta</th>\n",
       "      <th>ALL_DAYS</th>\n",
       "      <th>FREECASH_DAY</th>\n",
       "      <th>MISS_SIGNAL</th>\n",
       "      <th>RET_PER_YEAR</th>\n",
       "    </tr>\n",
       "  </thead>\n",
       "  <tbody>\n",
       "  </tbody>\n",
       "</table>\n",
       "<p>0 rows × 23 columns</p>\n",
       "</div>"
      ],
      "text/plain": [
       "Empty DataFrame\n",
       "Columns: [START, END, TURTLE_POS, ROLLING_X_MAX, ROLLING_X_MIN, MA_SHORT, MA_LONG, X_DAY_RETURN, ORDER, STOCK, RETURN, MAXDROPDOWN, WINRATE, annual_return, annual_volatility, calmar_ratio, sharpe_ratio, alpha, beta, ALL_DAYS, FREECASH_DAY, MISS_SIGNAL, RET_PER_YEAR]\n",
       "Index: []\n",
       "\n",
       "[0 rows x 23 columns]"
      ]
     },
     "execution_count": 3,
     "metadata": {},
     "output_type": "execute_result"
    }
   ],
   "source": [
    "score_df = None\n",
    "score_df = pd.DataFrame(columns=[\n",
    "    'START',\n",
    "    'END',\n",
    "    'TURTLE_POS',\n",
    "    'ROLLING_X_MAX',\n",
    "    'ROLLING_X_MIN', \n",
    "    'MA_SHORT', \n",
    "    'MA_LONG', \n",
    "    'X_DAY_RETURN', \n",
    "    'ORDER',\n",
    "    'STOCK',\n",
    "    'RETURN',\n",
    "    'MAXDROPDOWN',\n",
    "    'WINRATE',\n",
    "    'annual_return',\n",
    "    'annual_volatility',\n",
    "    'calmar_ratio',\n",
    "    'sharpe_ratio',\n",
    "    'alpha',\n",
    "    'beta',\n",
    "    'ALL_DAYS',\n",
    "    'FREECASH_DAY',\n",
    "    'MISS_SIGNAL',\n",
    "    'RET_PER_YEAR',\n",
    "])\n",
    "\n",
    "score_df"
   ]
  },
  {
   "cell_type": "code",
   "execution_count": 14,
   "metadata": {},
   "outputs": [
    {
     "name": "stdout",
     "output_type": "stream",
     "text": [
      "Wall time: 0 ns\n"
     ]
    }
   ],
   "source": [
    "%%time\n",
    "\n",
    "### 时间设置\n",
    "start_date = '2005-01-01'\n",
    "end_date = '2018-08-01'\n",
    "\n",
    "TURTLE_POS = 10\n",
    "### Turtle System One - Short\n",
    "TURTLE_SHORT_BUY_N = 20\n",
    "TURTLE_SHORT_SELL_N = 20\n",
    "### Turtle System Two - Long\n",
    "TURTLE_LONG_BUY_N = 61\n",
    "TURTLE_LONG_SELL_N = 61\n",
    "\n",
    "### 业务设置\n",
    "IS_HAPPYMONEY = False\n",
    "IS_TAX = False\n",
    "IS_SLIPPAGE = False\n",
    "IS_RANDOM_BUY = False\n",
    "IS_FILTER = False\n",
    "IS_MARKETUP = True\n",
    "IS_BUYBENCHMARK = True\n",
    "IS_SHOWBUYLIST = True\n",
    "START_MONEY = 100000\n",
    "HAPPY_MONEY = 0\n",
    "PROPERTY = START_MONEY\n",
    "CASH = START_MONEY\n"
   ]
  },
  {
   "cell_type": "code",
   "execution_count": 22,
   "metadata": {},
   "outputs": [
    {
     "name": "stdout",
     "output_type": "stream",
     "text": [
      "Fri Sep  7 14:01:01 2018\n"
     ]
    },
    {
     "data": {
      "text/plain": [
       "[(58, 58), (59, 59), (60, 60), (61, 61)]"
      ]
     },
     "execution_count": 22,
     "metadata": {},
     "output_type": "execute_result"
    },
    {
     "data": {
      "text/plain": [
       "[(58, 58),\n",
       " (58, 59),\n",
       " (58, 60),\n",
       " (58, 61),\n",
       " (59, 58),\n",
       " (59, 59),\n",
       " (59, 60),\n",
       " (59, 61),\n",
       " (60, 58),\n",
       " (60, 59),\n",
       " (60, 60),\n",
       " (60, 61),\n",
       " (61, 58),\n",
       " (61, 59),\n",
       " (61, 60),\n",
       " (61, 61)]"
      ]
     },
     "execution_count": 22,
     "metadata": {},
     "output_type": "execute_result"
    }
   ],
   "source": [
    "print(time.ctime())\n",
    "TURTLE_LONG_BUY_N = range(58, 62)\n",
    "TURTLE_LONG_SELL_N = range(58, 62)\n",
    "\n",
    "list(zip(TURTLE_LONG_BUY_N, TURTLE_LONG_SELL_N))\n",
    "list(itertools.product(TURTLE_LONG_BUY_N, TURTLE_LONG_SELL_N))"
   ]
  },
  {
   "cell_type": "code",
   "execution_count": 15,
   "metadata": {},
   "outputs": [
    {
     "name": "stdout",
     "output_type": "stream",
     "text": [
      "Wall time: 8.21 s\n"
     ]
    }
   ],
   "source": [
    "%%time\n",
    "\n",
    "stock_df_dict = {}\n",
    "\n",
    "for symbol in TARGET + [BENCHMARK]:\n",
    "    stock_data_file = '../database/market/%s.csv' % symbol\n",
    "    stock_df = pd.read_csv(stock_data_file)\n",
    "\n",
    "    # 筛选字段\n",
    "    stock_df = stock_df.loc[:, ['date', 'open', 'close']]\n",
    "\n",
    "    # 去掉Nasdaq行情首行的当天行情\n",
    "    if symbol in NASDAQ100:\n",
    "        stock_df = stock_df.drop([0])\n",
    "\n",
    "    # 抛弃空值异常值\n",
    "    stock_df.dropna(axis=0, how='any', inplace=True)\n",
    "\n",
    "    # 格式化日期\n",
    "    # 445 ms ± 17.5 ms per loop (mean ± std. dev. of 7 runs, 1 loop each)\n",
    "    stock_df = stock_df.assign(date=pd.to_datetime(stock_df['date']))  # need .index.to_period('D')\n",
    "\n",
    "    # 用日期作索引，日期升序排序\n",
    "    # 95.1 µs ± 1.58 µs per loop (mean ± std. dev. of 7 runs, 10000 loops each)\n",
    "    if symbol in NASDAQ100 or symbol in CRYPTOCURRENCY:\n",
    "        stock_df = stock_df[::-1]\n",
    "    stock_df.set_index(['date'], inplace=True)\n",
    "    stock_df.index = stock_df.index.to_period('D')\n",
    "\n",
    "    # 计算每天涨跌幅\n",
    "    stock_df['o_pct_chg'] = stock_df.open.pct_change(1)\n",
    "    stock_df['c_o_pct_chg'] = (stock_df.open - stock_df.close.shift(1)) / stock_df.close.shift(1)\n",
    "    \n",
    "    # Turtle指标\n",
    "    stock_df['ROLLING_%d_MAX' % TURTLE_LONG_BUY_N] = stock_df['open'].rolling(TURTLE_LONG_BUY_N).max()\n",
    "    stock_df['ROLLING_%d_MIN' % TURTLE_LONG_SELL_N] = stock_df['open'].rolling(TURTLE_LONG_SELL_N).min()\n",
    "    stock_df['MA180'] = stock_df['open'].rolling(180).mean()\n",
    "    stock_df['MA60'] = stock_df['open'].rolling(60).mean()\n",
    "    stock_df['MA30'] = stock_df['open'].rolling(30).mean()\n",
    "    \n",
    "    # 减少数据\n",
    "    stock_df.dropna(how='any', inplace=True)\n",
    "#     stock_df.drop(columns=['volume', 'TR1', 'TR2', 'TR3'], inplace=True)\n",
    "    \n",
    "    stock_df_dict[symbol] = stock_df"
   ]
  },
  {
   "cell_type": "code",
   "execution_count": 7,
   "metadata": {
    "scrolled": false
   },
   "outputs": [],
   "source": [
    "# '''抽查数据'''\n",
    "\n",
    "# stock_df_dict[BENCHMARK].head(2)\n",
    "# stock_df_dict[BENCHMARK].tail(2)\n",
    "\n",
    "# df = stock_df_dict[BENCHMARK].iloc[:].copy()\n",
    "# df.columns\n",
    "# df.reset_index(drop=False, inplace=True)\n",
    "# # df = df.astype(dtype={'date': 'datetime64[ns]'})\n",
    "# df['date'] = df['date'].apply(lambda x: x.to_timestamp().to_datetime64())\n",
    "# df.set_index('date', inplace=True)\n",
    "# display_charts(df, chart_type='stock', kind='line', \n",
    "#                y=['open', 'ROLLING_%d_MAX' % TURTLE_LONG_BUY_N, 'ROLLING_%d_MIN' % TURTLE_LONG_SELL_N, 'MA30', 'MA60', 'MA180'], \n",
    "#                figsize=(900, 600))"
   ]
  },
  {
   "cell_type": "code",
   "execution_count": 8,
   "metadata": {
    "scrolled": true
   },
   "outputs": [
    {
     "data": {
      "text/plain": [
       "'用基准数据来存储策略数据'"
      ]
     },
     "execution_count": 8,
     "metadata": {},
     "output_type": "execute_result"
    }
   ],
   "source": [
    "'''用基准数据来存储策略数据'''\n",
    "show_df = None\n",
    "show_df = stock_df_dict[BENCHMARK].copy()\n",
    "show_df.loc[:, 'CASH_TURTLE'] = START_MONEY\n",
    "show_df.loc[:, 'PROPERTY_TURTLE'] = START_MONEY"
   ]
  },
  {
   "cell_type": "code",
   "execution_count": 20,
   "metadata": {
    "scrolled": false
   },
   "outputs": [
    {
     "name": "stdout",
     "output_type": "stream",
     "text": [
      "2004-01-01 2005-01-01 100010 100010 0.000\n",
      "2005-01-01 2006-01-01 100010 100010 0.000\n",
      "2006-01-01 2007-01-01 100021 226916 1.269\n",
      "2007-01-01 2008-01-01 231010 1095831 3.744\n",
      "2008-01-01 2009-01-01 1139842 1046349 -0.082\n",
      "2009-01-01 2010-01-01 1046464 1544386 0.476\n",
      "2010-01-01 2011-01-01 1539423 1722950 0.119\n",
      "2011-01-01 2012-01-01 1775369 1353579 -0.238\n",
      "2012-01-01 2013-01-01 1353727 1628966 0.203\n",
      "2013-01-01 2014-01-01 1625176 1999199 0.230\n",
      "2014-01-01 2015-01-01 1967649 2896263 0.472\n",
      "2015-01-01 2016-01-01 2764743 5120890 0.852\n",
      "2016-01-01 2017-01-01 5123834 5122750 -0.000\n",
      "2017-01-01 2018-01-01 5125923 6687577 0.305\n",
      "2018-01-01 2018-08-01 6730450 6541925 -0.028\n",
      "START_MONEY 100000\n",
      "CASH 6558315.30783\n",
      "HAPPY_MONEY 0\n",
      "PROPERTY 6558315.30783\n",
      "BENCHMARK 921.14 3530.03 3.83224048462\n",
      "Wall time: 5min 15s\n"
     ]
    }
   ],
   "source": [
    "%%time\n",
    "# %xmode\n",
    "\n",
    "'''简易海龟策略，唐安奇通道突破信号，平均分头寸'''\n",
    "\n",
    "PROPERTY = START_MONEY\n",
    "CASH = START_MONEY\n",
    "count_day = 0\n",
    "yesterday = None\n",
    "miss_buy_short = 0\n",
    "miss_buy_long = 0\n",
    "\n",
    "order_df = None\n",
    "order_df = pd.DataFrame(columns=[\n",
    "    'buy_date', 'symbol', 'buy_count', 'buy_price', 'buy_reason', 'sell_date', 'sell_price', 'sell_reason', 'profit', 'cash', 'property'\n",
    "])\n",
    "\n",
    "ops_df = None\n",
    "ops_df = pd.DataFrame(columns=[\n",
    "    'ops_date', 'ops', 'symbol', 'count', 'price', 'reason', 'profit'\n",
    "])\n",
    "\n",
    "\n",
    "# 时间序列\n",
    "for today in pd.period_range(start=start_date, end=end_date, freq='D'):\n",
    "    count_day += 1\n",
    "    \n",
    "    # 每年年初计算回报率\n",
    "    if today.dayofyear == 1 or today == (pd.to_datetime(end_date)).to_period(freq='D'):\n",
    "        if today.dayofyear == 1:\n",
    "            lastyear_firstday = pd.to_datetime('%d-01-01' % (today.year - 1))\n",
    "        else:\n",
    "            lastyear_firstday = pd.to_datetime('%d-01-01' % today.year)\n",
    "        lastyear_firstday = lastyear_firstday.to_period(freq='D')\n",
    "#         print(today, show_df.iloc[0].name, show_df[:today].iloc[-1].PROPERTY_TURTLE)\n",
    "        if today > show_df.iloc[0].name:\n",
    "            today_property = show_df[:today].iloc[-2].PROPERTY_TURTLE\n",
    "#             print(show_df[:today].iloc[-1])\n",
    "        else:\n",
    "            today_property = show_df.iloc[0].PROPERTY_TURTLE\n",
    "        if lastyear_firstday > show_df.iloc[0].name:\n",
    "            lastyear_firstday_property = show_df[:lastyear_firstday].iloc[-1].PROPERTY_TURTLE\n",
    "        else:\n",
    "            lastyear_firstday_property = show_df.iloc[0].PROPERTY_TURTLE\n",
    "#         lastyear_return = round((today_property - lastyear_firstday_property) / lastyear_firstday_property, 4)\n",
    "        lastyear_return = '%.3f' % ((today_property - lastyear_firstday_property) / lastyear_firstday_property)\n",
    "        print(lastyear_firstday, today, int(lastyear_firstday_property), int(today_property), lastyear_return)\n",
    "    \n",
    "    # 每年筛股\n",
    "    if IS_FILTER and (today.dayofyear == 1 or count_day == 1):\n",
    "        TARGET = ALL_TARGET[:]\n",
    "        benchmark_lastyear = stock_df_dict[BENCHMARK][:today]\n",
    "        \n",
    "        # 不到一年（250个交易日）\n",
    "        if len(benchmark_lastyear) < 250:\n",
    "            continue\n",
    "        \n",
    "        # 筛选过滤\n",
    "        benchmark_return_lastyear = benchmark_lastyear.iloc[-1].open / benchmark_lastyear.iloc[-250].open\n",
    "        for symbol, stock_df in stock_df_dict.items():\n",
    "            try:\n",
    "                return_lastyear = stock_df[:today].iloc[-1].open / stock_df[:today].iloc[-250].open\n",
    "                if return_lastyear < benchmark_return_lastyear:\n",
    "                    TARGET.remove(symbol)\n",
    "#                     print(symbol, return_lastyear)\n",
    "            except:\n",
    "                TARGET.remove(symbol)\n",
    "                pass\n",
    "        print(today, 'TARGET after filter', len(TARGET))\n",
    "        \n",
    "    \n",
    "    if yesterday is None:\n",
    "        yesterday = today\n",
    "        continue\n",
    "\n",
    "    # 日期不在基准交易日，则不交易\n",
    "    if today not in stock_df_dict[BENCHMARK].index:\n",
    "        continue\n",
    "            \n",
    "    # 突破下行趋势，清仓退出\n",
    "    order_arr = order_df.to_records(index=False)\n",
    "    if len(order_arr[(order_arr.buy_count > 0) & (order_arr.sell_price == 0)] ) != 0:\n",
    "        is_sell = False\n",
    "        for idx in order_df[(order_df['buy_count'] > 0) & (order_df['sell_price'] == 0)].index:\n",
    "            cur_order = order_df.loc[idx]\n",
    "            symbol = cur_order['symbol']\n",
    "            if today not in stock_df_dict[symbol].index or yesterday not in stock_df_dict[symbol].index:\n",
    "                continue\n",
    "            today_market = stock_df_dict[symbol].loc[today]\n",
    "            if today_market.c_o_pct_chg < -0.1 and symbol in HS300:\n",
    "#                 print(today, symbol, '跌停板，卖不掉')\n",
    "                continue\n",
    "            if cur_order.buy_reason == 'SHORT':\n",
    "                is_sell = (today_market.open <= today_market['ROLLING_%d_MIN' % TURTLE_SHORT_SELL_N])\n",
    "            if cur_order.buy_reason == 'LONG':\n",
    "                is_sell = (today_market.open <= today_market['ROLLING_%d_MIN' % TURTLE_LONG_SELL_N])\n",
    "#                 is_sell = (today_market.MA60 <= today_market.MA180)\n",
    "#                 is_sell = (today_market.MA30 <= today_market.MA60)\n",
    "            if is_sell:\n",
    "                CASH += cur_order.buy_count * today_market.open\n",
    "                order_df.loc[idx, 'sell_date'] = today\n",
    "                order_df.loc[idx, 'sell_price'] = today_market.open\n",
    "                order_df.loc[idx, 'sell_reason'] = 'EXIT'\n",
    "                order_df.loc[idx, 'profit'] = \\\n",
    "                    (today_market.open - cur_order.buy_price) * cur_order.buy_count\n",
    "#                 print(today, '退出', stock_df_dict[symbol].loc[today, 'open'], CASH)\n",
    "                \n",
    "                ops_df = ops_df.append(\n",
    "                    {\n",
    "                        'ops_date': today,\n",
    "                        'ops': 'SELL',\n",
    "                        'symbol': symbol,\n",
    "                        'count': cur_order.buy_count,\n",
    "                        'price': today_market.open,\n",
    "                        'reason': cur_order.buy_reason,\n",
    "                        'profit': (today_market.open - cur_order.buy_price) * cur_order.buy_count,\n",
    "                    },\n",
    "                    ignore_index=True\n",
    "                )\n",
    "\n",
    "    # 开心止盈，倍数止盈\n",
    "    if IS_HAPPYMONEY:        \n",
    "        if PROPERTY > START_MONEY * 2 and CASH > START_MONEY:\n",
    "            HAPPY_MONEY += START_MONEY\n",
    "            PROPERTY -= START_MONEY\n",
    "            CASH -= START_MONEY\n",
    "    \n",
    "    benchmark_today_market = stock_df_dict[BENCHMARK].loc[today]\n",
    "    try:\n",
    "        benchmark_yesterday_market = stock_df_dict[BENCHMARK].loc[:today].iloc[-2]\n",
    "    except:\n",
    "        benchmark_yesterday_market = stock_df_dict[BENCHMARK].loc[:today].iloc[-1]\n",
    "    buy_list = []\n",
    "    \n",
    "    # 遍历标的，判断和执行买入\n",
    "    for symbol in TARGET:\n",
    "        \n",
    "        # 趋势交易，只在好行情时买入\n",
    "        if IS_MARKETUP:\n",
    "            if benchmark_today_market.MA60 < benchmark_today_market.MA180:\n",
    "#             if benchmark_yesterday_market.MA60 < benchmark_yesterday_market.MA180:\n",
    "                break\n",
    "        \n",
    "        # 是否购买基准\n",
    "        if not IS_BUYBENCHMARK and symbol == BENCHMARK:\n",
    "            continue\n",
    "        \n",
    "        if today not in stock_df_dict[symbol].index or yesterday not in stock_df_dict[symbol].index:\n",
    "            continue\n",
    "            \n",
    "        # TIME TEST\n",
    "        # DELETED\n",
    "\n",
    "        today_market = stock_df_dict[symbol].loc[today]\n",
    "\n",
    "        # 突破上行趋势，就买一份\n",
    "        order_arr = order_df.to_records(index=False)\n",
    "        is_buy = False\n",
    "        # 指数就不要过滤器了\n",
    "        if True:\n",
    "            if today_market.open >= today_market['ROLLING_%d_MAX' % TURTLE_LONG_BUY_N]:\n",
    "                is_buy = True\n",
    "                buy_reason = 'LONG'\n",
    "            elif False and today_market.open >= today_market['ROLLING_%d_MAX' % TURTLE_SHORT_BUY_N]:\n",
    "                is_buy = True\n",
    "                buy_reason = 'SHORT'\n",
    "\n",
    "        if is_buy:\n",
    "            buy_list.append(symbol)\n",
    "            \n",
    "    if IS_RANDOM_BUY:\n",
    "        random.shuffle(buy_list)\n",
    "    else:\n",
    "        tmp_list = []\n",
    "        for symbol in buy_list:\n",
    "            try:\n",
    "                return_lastyear = stock_df_dict[symbol][:today].iloc[-1].open / stock_df_dict[symbol][:today].iloc[-250].open\n",
    "            except:\n",
    "                return_lastyear = stock_df_dict[symbol][:today].iloc[-1].open / stock_df_dict[symbol][:today].iloc[1].open\n",
    "            tmp_list.append((return_lastyear, symbol))\n",
    "        tmp_list = sorted(tmp_list, reverse=True)\n",
    "        buy_list = [x[1] for x in tmp_list if x[0]>1]\n",
    "#         buy_list = [x[1] for x in tmp_list]\n",
    "    \n",
    "    for symbol in buy_list:\n",
    "        today_market = stock_df_dict[symbol].loc[today]\n",
    "        buy_count = 0\n",
    "                \n",
    "        # 滑点\n",
    "        if IS_SLIPPAGE:\n",
    "            buy_price = today_market.open * (1 + random.randint(0, 20) / 1000)\n",
    "        else:\n",
    "            buy_price = today_market.open\n",
    "                \n",
    "        # 按份数买\n",
    "        if CASH >= PROPERTY / TURTLE_POS:\n",
    "            buy_count = int((PROPERTY / TURTLE_POS) / buy_price)\n",
    "\n",
    "        # 指数购买，满仓干\n",
    "#         buy_count = int(CASH / buy_price)\n",
    "\n",
    "        if buy_count > 0:\n",
    "            if today_market.c_o_pct_chg > 0.1 and symbol in HS300:\n",
    "#                 print(today, symbol, '涨停板，买不进')\n",
    "                continue\n",
    "            \n",
    "        if buy_count > 0:\n",
    "            CASH -= buy_count * buy_price\n",
    "#             print(today, '建仓', buy_count, stock_df_dict[symbol].loc[today, 'open'], CASH)\n",
    "            order_df = order_df.append(\n",
    "                {\n",
    "                    'buy_date': today,\n",
    "                    'symbol': symbol,\n",
    "                    'buy_count': buy_count,\n",
    "                    'buy_price': today_market.open,\n",
    "                    'buy_reason': buy_reason,\n",
    "                    'sell_date': pd.np.nan,\n",
    "                    'sell_price': 0,\n",
    "                    'profit': 0,\n",
    "                    'cash': CASH,\n",
    "                    'property': PROPERTY,\n",
    "                },\n",
    "                ignore_index=True\n",
    "            )\n",
    "            ops_df = ops_df.append(\n",
    "                {\n",
    "                    'ops_date': today,\n",
    "                    'ops': 'BUY',\n",
    "                    'symbol': symbol,\n",
    "                    'count': buy_count,\n",
    "                    'price': buy_price,\n",
    "                    'reason': buy_reason,\n",
    "                    'profit': 0,\n",
    "                },\n",
    "                ignore_index=True\n",
    "            )\n",
    "        else:\n",
    "            if buy_reason == 'LONG':\n",
    "                miss_buy_long += 1\n",
    "            elif buy_reason == 'SHORT':\n",
    "                miss_buy_short += 1\n",
    "            \n",
    "    # 每天盘点财产\n",
    "    # 大盘下行时，闲钱进行T+0无风险投资，如货币基金\n",
    "    if benchmark_today_market.MA60 < benchmark_today_market.MA180:\n",
    "        CASH = CASH * (1 + 0.04 / 365)\n",
    "    show_df.loc[today, 'CASH_TURTLE'] = CASH\n",
    "    PROPERTY = CASH + \\\n",
    "        sum(\n",
    "            [\n",
    "                stock_df_dict[order_df.loc[idx, 'symbol']][:today].iloc[-1].open * order_df.loc[idx, 'buy_count'] \\\n",
    "                for idx in order_df.loc[order_df['sell_price']==0].index\n",
    "            ]\n",
    "        )\n",
    "    show_df.loc[today, 'PROPERTY_TURTLE'] = PROPERTY\n",
    "\n",
    "    yesterday = today\n",
    "\n",
    "\n",
    "    \n",
    "# 最后一天，清仓\n",
    "order_arr = order_df.to_records(index=False)\n",
    "for idx in order_df[order_df['sell_price'] == 0].index:\n",
    "    cur_order = order_df.loc[idx]\n",
    "    symbol = cur_order['symbol']\n",
    "    today_market = stock_df_dict[symbol][:today].iloc[-1]\n",
    "    CASH += cur_order.buy_count * today_market.open\n",
    "    order_df.loc[idx, 'sell_date'] = today\n",
    "    order_df.loc[idx, 'sell_price'] = today_market.open\n",
    "    order_df.loc[idx, 'sell_reason'] = 'EXIT'\n",
    "    order_df.loc[idx, 'profit'] = \\\n",
    "        (today_market.open - cur_order.buy_price) * cur_order.buy_count\n",
    "    ops_df = ops_df.append(\n",
    "        {\n",
    "            'ops_date': today,\n",
    "            'ops': 'SELL',\n",
    "            'symbol': symbol,\n",
    "            'count': cur_order.buy_count,\n",
    "            'price': today_market.open,\n",
    "            'reason': cur_order.buy_reason,\n",
    "            'profit': (today_market.open - cur_order.buy_price) * cur_order.buy_count,\n",
    "        },\n",
    "        ignore_index=True\n",
    "    )\n",
    "\n",
    "\n",
    "print('START_MONEY', START_MONEY)\n",
    "print('CASH', CASH)\n",
    "print('HAPPY_MONEY', HAPPY_MONEY)\n",
    "print('PROPERTY', PROPERTY)\n",
    "\n",
    "s_p = stock_df_dict[BENCHMARK][start_date:].iloc[0].open\n",
    "e_p = stock_df_dict[BENCHMARK][:end_date].iloc[-1].open\n",
    "print('BENCHMARK', s_p, e_p, e_p / s_p)\n"
   ]
  },
  {
   "cell_type": "code",
   "execution_count": 16,
   "metadata": {
    "scrolled": false
   },
   "outputs": [
    {
     "data": {
      "text/plain": [
       "'ALL'"
      ]
     },
     "execution_count": 16,
     "metadata": {},
     "output_type": "execute_result"
    },
    {
     "data": {
      "text/plain": [
       "('start_date', '2005-01-01')"
      ]
     },
     "execution_count": 16,
     "metadata": {},
     "output_type": "execute_result"
    },
    {
     "data": {
      "text/plain": [
       "('end_date', '2018-08-01')"
      ]
     },
     "execution_count": 16,
     "metadata": {},
     "output_type": "execute_result"
    },
    {
     "data": {
      "text/plain": [
       "('TURTLE_POS', 10)"
      ]
     },
     "execution_count": 16,
     "metadata": {},
     "output_type": "execute_result"
    },
    {
     "data": {
      "text/plain": [
       "('TURTLE_SHORT_BUY_N', 20)"
      ]
     },
     "execution_count": 16,
     "metadata": {},
     "output_type": "execute_result"
    },
    {
     "data": {
      "text/plain": [
       "('TURTLE_SHORT_SELL_N', 20)"
      ]
     },
     "execution_count": 16,
     "metadata": {},
     "output_type": "execute_result"
    },
    {
     "data": {
      "text/plain": [
       "('TURTLE_LONG_BUY_N', 61)"
      ]
     },
     "execution_count": 16,
     "metadata": {},
     "output_type": "execute_result"
    },
    {
     "data": {
      "text/plain": [
       "('TURTLE_LONG_SELL_N', 61)"
      ]
     },
     "execution_count": 16,
     "metadata": {},
     "output_type": "execute_result"
    },
    {
     "data": {
      "text/plain": [
       "('IS_HAPPYMONEY', False)"
      ]
     },
     "execution_count": 16,
     "metadata": {},
     "output_type": "execute_result"
    },
    {
     "data": {
      "text/plain": [
       "('IS_TAX', False)"
      ]
     },
     "execution_count": 16,
     "metadata": {},
     "output_type": "execute_result"
    },
    {
     "data": {
      "text/plain": [
       "('IS_SLIPPAGE', False)"
      ]
     },
     "execution_count": 16,
     "metadata": {},
     "output_type": "execute_result"
    },
    {
     "data": {
      "text/plain": [
       "('IS_RANDOM_BUY', False)"
      ]
     },
     "execution_count": 16,
     "metadata": {},
     "output_type": "execute_result"
    },
    {
     "data": {
      "text/plain": [
       "('IS_FILTER', False)"
      ]
     },
     "execution_count": 16,
     "metadata": {},
     "output_type": "execute_result"
    },
    {
     "data": {
      "text/plain": [
       "('IS_MARKETUP', True)"
      ]
     },
     "execution_count": 16,
     "metadata": {},
     "output_type": "execute_result"
    },
    {
     "data": {
      "text/plain": [
       "('IS_BUYBENCHMARK', True)"
      ]
     },
     "execution_count": 16,
     "metadata": {},
     "output_type": "execute_result"
    },
    {
     "data": {
      "text/plain": [
       "('START_MONEY', 100000)"
      ]
     },
     "execution_count": 16,
     "metadata": {},
     "output_type": "execute_result"
    },
    {
     "data": {
      "text/plain": [
       "('cum_returns', 75.812551031983688, 2.832240484616904)"
      ]
     },
     "execution_count": 16,
     "metadata": {},
     "output_type": "execute_result"
    },
    {
     "data": {
      "text/plain": [
       "('max_drawdown', -0.4920035333207, -0.7245794370204585)"
      ]
     },
     "execution_count": 16,
     "metadata": {},
     "output_type": "execute_result"
    },
    {
     "data": {
      "text/plain": [
       "('annual_return', 0.42961850349733077, 0.11694902458749357)"
      ]
     },
     "execution_count": 16,
     "metadata": {},
     "output_type": "execute_result"
    },
    {
     "data": {
      "text/plain": [
       "('annual_volatility', 0.3352250371463965)"
      ]
     },
     "execution_count": 16,
     "metadata": {},
     "output_type": "execute_result"
    },
    {
     "data": {
      "text/plain": [
       "('calmar_ratio', 0.87320206950077905)"
      ]
     },
     "execution_count": 16,
     "metadata": {},
     "output_type": "execute_result"
    },
    {
     "data": {
      "text/plain": [
       "('sharpe_ratio', 1.234090954826649)"
      ]
     },
     "execution_count": 16,
     "metadata": {},
     "output_type": "execute_result"
    },
    {
     "data": {
      "text/plain": [
       "('alpha', 0.3259194789884316)"
      ]
     },
     "execution_count": 16,
     "metadata": {},
     "output_type": "execute_result"
    },
    {
     "data": {
      "text/plain": [
       "('beta', 0.5531869487583605)"
      ]
     },
     "execution_count": 16,
     "metadata": {},
     "output_type": "execute_result"
    },
    {
     "data": {
      "text/plain": [
       "'2005-2006,0.000,0.013,0.000,0.000'"
      ]
     },
     "execution_count": 16,
     "metadata": {},
     "output_type": "execute_result"
    },
    {
     "data": {
      "text/plain": [
       "'2006-2007,1.309,1.150,-0.181,-0.140'"
      ]
     },
     "execution_count": 16,
     "metadata": {},
     "output_type": "execute_result"
    },
    {
     "data": {
      "text/plain": [
       "'2007-2008,4.334,1.595,-0.288,-0.197'"
      ]
     },
     "execution_count": 16,
     "metadata": {},
     "output_type": "execute_result"
    },
    {
     "data": {
      "text/plain": [
       "'2008-2009,-0.132,-0.657,-0.457,-0.719'"
      ]
     },
     "execution_count": 16,
     "metadata": {},
     "output_type": "execute_result"
    },
    {
     "data": {
      "text/plain": [
       "'2009-2010,0.512,0.927,-0.196,-0.263'"
      ]
     },
     "execution_count": 16,
     "metadata": {},
     "output_type": "execute_result"
    },
    {
     "data": {
      "text/plain": [
       "'2010-2011,0.156,-0.146,-0.159,-0.303'"
      ]
     },
     "execution_count": 16,
     "metadata": {},
     "output_type": "execute_result"
    },
    {
     "data": {
      "text/plain": [
       "'2011-2012,-0.250,-0.265,-0.283,-0.320'"
      ]
     },
     "execution_count": 16,
     "metadata": {},
     "output_type": "execute_result"
    },
    {
     "data": {
      "text/plain": [
       "'2012-2013,0.200,0.053,-0.126,-0.225'"
      ]
     },
     "execution_count": 16,
     "metadata": {},
     "output_type": "execute_result"
    },
    {
     "data": {
      "text/plain": [
       "'2013-2014,0.206,-0.103,-0.216,-0.229'"
      ]
     },
     "execution_count": 16,
     "metadata": {},
     "output_type": "execute_result"
    },
    {
     "data": {
      "text/plain": [
       "'2014-2015,0.404,0.490,-0.189,-0.105'"
      ]
     },
     "execution_count": 16,
     "metadata": {},
     "output_type": "execute_result"
    },
    {
     "data": {
      "text/plain": [
       "'2015-2016,0.836,0.055,-0.492,-0.431'"
      ]
     },
     "execution_count": 16,
     "metadata": {},
     "output_type": "execute_result"
    },
    {
     "data": {
      "text/plain": [
       "'2016-2017,0.002,-0.114,-0.074,-0.234'"
      ]
     },
     "execution_count": 16,
     "metadata": {},
     "output_type": "execute_result"
    },
    {
     "data": {
      "text/plain": [
       "'2017-2018,0.349,0.214,-0.128,-0.063'"
      ]
     },
     "execution_count": 16,
     "metadata": {},
     "output_type": "execute_result"
    },
    {
     "data": {
      "text/plain": [
       "'2018-2019,-0.043,-0.127,-0.184,-0.237'"
      ]
     },
     "execution_count": 16,
     "metadata": {},
     "output_type": "execute_result"
    },
    {
     "data": {
      "text/plain": [
       "'2005-2006,0.000,0.013,0.000,0.000;2006-2007,1.309,1.150,-0.181,-0.140;2007-2008,4.334,1.595,-0.288,-0.197;2008-2009,-0.132,-0.657,-0.457,-0.719;2009-2010,0.512,0.927,-0.196,-0.263;2010-2011,0.156,-0.146,-0.159,-0.303;2011-2012,-0.250,-0.265,-0.283,-0.320;2012-2013,0.200,0.053,-0.126,-0.225;2013-2014,0.206,-0.103,-0.216,-0.229;2014-2015,0.404,0.490,-0.189,-0.105;2015-2016,0.836,0.055,-0.492,-0.431;2016-2017,0.002,-0.114,-0.074,-0.234;2017-2018,0.349,0.214,-0.128,-0.063;2018-2019,-0.043,-0.127,-0.184,-0.237;'"
      ]
     },
     "execution_count": 16,
     "metadata": {},
     "output_type": "execute_result"
    }
   ],
   "source": [
    "'ALL'\n",
    "'start_date', start_date\n",
    "'end_date', end_date\n",
    "'TURTLE_POS', TURTLE_POS\n",
    "'TURTLE_SHORT_BUY_N', TURTLE_SHORT_BUY_N\n",
    "'TURTLE_SHORT_SELL_N', TURTLE_SHORT_SELL_N\n",
    "'TURTLE_LONG_BUY_N', TURTLE_LONG_BUY_N\n",
    "'TURTLE_LONG_SELL_N', TURTLE_LONG_SELL_N\n",
    "### 业务设置\n",
    "'IS_HAPPYMONEY', IS_HAPPYMONEY\n",
    "'IS_TAX', IS_TAX\n",
    "'IS_SLIPPAGE', IS_SLIPPAGE\n",
    "'IS_RANDOM_BUY', IS_RANDOM_BUY\n",
    "'IS_FILTER', IS_FILTER\n",
    "'IS_MARKETUP', IS_MARKETUP\n",
    "'IS_BUYBENCHMARK', IS_BUYBENCHMARK\n",
    "'START_MONEY', START_MONEY\n",
    "\n",
    "df = show_df.dropna(how='any', inplace=False).copy()\n",
    "df = df.loc[start_date:end_date]\n",
    "algo = df['PROPERTY_TURTLE'].pct_change()\n",
    "benchmark = df.open.pct_change()\n",
    "\n",
    "if emp:\n",
    "    'cum_returns', emp.cum_returns(algo)[-1], emp.cum_returns(benchmark)[-1]\n",
    "    'max_drawdown', emp.max_drawdown(algo), emp.max_drawdown(benchmark)\n",
    "    'annual_return', emp.annual_return(algo), emp.annual_return(benchmark)\n",
    "    'annual_volatility', emp.annual_volatility(algo, period='daily')\n",
    "    'calmar_ratio', emp.calmar_ratio(algo)\n",
    "    'sharpe_ratio', emp.sharpe_ratio(returns=algo)\n",
    "    'alpha', emp.alpha(returns=algo, factor_returns=benchmark, risk_free=0.00)\n",
    "    'beta', emp.beta(returns=algo, factor_returns=benchmark, risk_free=0.00)\n",
    "\n",
    "ALL_DAYS = len(df)\n",
    "FREECASH_DAY = len(df[df['CASH_TURTLE'] > (df['PROPERTY_TURTLE'] / TURTLE_POS)])\n",
    "\n",
    "\n",
    "output_str = ''\n",
    "for y in range(int(start_date.split('-')[0]), int(end_date.split('-')[0])+1, 1):\n",
    "#     '%d-01-01' % y, '%d-01-01' % (y+1)\n",
    "#     df.loc['%d-01-01' % y:'%d-01-01' % (y+1)].head(1)\n",
    "#     df.loc['%d-01-01' % y:'%d-01-01' % (y+1)].tail(1)\n",
    "    y_df = df.loc['%d-01-01' % y:'%d-01-01' % (y+1)]\n",
    "    y_algo = y_df['PROPERTY_TURTLE'].pct_change()\n",
    "    y_benchmark = y_df.open.pct_change()\n",
    "#     'cum_returns', emp.cum_returns(y_algo)[-1], emp.cum_returns(y_benchmark)[-1]\n",
    "    result = '%d-%d,%.3f,%.3f,%.3f,%.3f' % (\n",
    "        y, y+1, emp.cum_returns(y_algo)[-1], emp.cum_returns(y_benchmark)[-1], emp.max_drawdown(y_algo), emp.max_drawdown(y_benchmark)\n",
    "    )\n",
    "    result\n",
    "    output_str += result\n",
    "    output_str += ';'\n",
    "\n",
    "output_str"
   ]
  },
  {
   "cell_type": "code",
   "execution_count": 17,
   "metadata": {
    "scrolled": false
   },
   "outputs": [
    {
     "data": {
      "text/plain": [
       "'计算标的持有、收益等'"
      ]
     },
     "execution_count": 17,
     "metadata": {},
     "output_type": "execute_result"
    },
    {
     "data": {
      "text/plain": [
       "92"
      ]
     },
     "execution_count": 17,
     "metadata": {},
     "output_type": "execute_result"
    }
   ],
   "source": [
    "'''计算标的持有、收益等'''\n",
    "\n",
    "df = order_df.copy()\n",
    "df.drop(columns=['sell_reason'], inplace=True)\n",
    "df['pro_pct'] = (df.sell_price - df.buy_price) / df.buy_price\n",
    "# df.sell_date.dtypes\n",
    "# df.loc[1].sell_date\n",
    "# df.loc[1].sell_date.to_timestamp()\n",
    "\n",
    "# df = df.astype(dtype={'sell_date': 'datetime64[ns]', 'buy_date': 'datetime64[ns]', 'cash':'int'})\n",
    "df = df.astype(dtype={'cash': 'int', 'profit': 'int'})\n",
    "# df.loc[1].sell_date\n",
    "\n",
    "# type(df[1].sell_date)\n",
    "df['h_days'] = (df.sell_date - df.buy_date)\n",
    "# df.loc[1].h_days\n",
    "# type(df.loc[1].h_days)\n",
    "\n",
    "df['h_days'] = df['h_days'].apply(lambda x: 1 if x == 0 else x)\n",
    "# df.loc[1].h_days\n",
    "\n",
    "df['per_d'] = df.pro_pct / df.h_days * 365\n",
    "# df['per_d'] = df.apply(lambda x: x.pro_pct / x.h_days)\n",
    "\n",
    "# df\n",
    "# df.sort_values(by='pro_pct', ascending=False)\n",
    "# df.sort_values(by='per_d', ascending=False)\n",
    "\n",
    "df = df.loc[:, ['symbol', 'pro_pct']]\n",
    "df = df.groupby(by='symbol').sum()\n",
    "# df.sort_values(by='pro_pct', ascending=False).head(10)\n",
    "buy_stock_count = len(df)\n",
    "buy_stock_count"
   ]
  },
  {
   "cell_type": "code",
   "execution_count": 18,
   "metadata": {},
   "outputs": [
    {
     "data": {
      "text/html": [
       "<div>\n",
       "<style scoped>\n",
       "    .dataframe tbody tr th:only-of-type {\n",
       "        vertical-align: middle;\n",
       "    }\n",
       "\n",
       "    .dataframe tbody tr th {\n",
       "        vertical-align: top;\n",
       "    }\n",
       "\n",
       "    .dataframe thead th {\n",
       "        text-align: right;\n",
       "    }\n",
       "</style>\n",
       "<table border=\"1\" class=\"dataframe\">\n",
       "  <thead>\n",
       "    <tr style=\"text-align: right;\">\n",
       "      <th></th>\n",
       "      <th>START</th>\n",
       "      <th>END</th>\n",
       "      <th>TURTLE_POS</th>\n",
       "      <th>ROLLING_X_MAX</th>\n",
       "      <th>ROLLING_X_MIN</th>\n",
       "      <th>MA_SHORT</th>\n",
       "      <th>MA_LONG</th>\n",
       "      <th>X_DAY_RETURN</th>\n",
       "      <th>ORDER</th>\n",
       "      <th>STOCK</th>\n",
       "      <th>...</th>\n",
       "      <th>annual_return</th>\n",
       "      <th>annual_volatility</th>\n",
       "      <th>calmar_ratio</th>\n",
       "      <th>sharpe_ratio</th>\n",
       "      <th>alpha</th>\n",
       "      <th>beta</th>\n",
       "      <th>ALL_DAYS</th>\n",
       "      <th>FREECASH_DAY</th>\n",
       "      <th>MISS_SIGNAL</th>\n",
       "      <th>RET_PER_YEAR</th>\n",
       "    </tr>\n",
       "  </thead>\n",
       "  <tbody>\n",
       "    <tr>\n",
       "      <th>0</th>\n",
       "      <td>2005-01-01</td>\n",
       "      <td>2018-08-01</td>\n",
       "      <td>10</td>\n",
       "      <td>60</td>\n",
       "      <td>60</td>\n",
       "      <td>60</td>\n",
       "      <td>180</td>\n",
       "      <td>250</td>\n",
       "      <td>142</td>\n",
       "      <td>92</td>\n",
       "      <td>...</td>\n",
       "      <td>0.429619</td>\n",
       "      <td>0.335225</td>\n",
       "      <td>0.873202</td>\n",
       "      <td>1.234091</td>\n",
       "      <td>0.325919</td>\n",
       "      <td>0.553187</td>\n",
       "      <td>3061</td>\n",
       "      <td>1229</td>\n",
       "      <td>28014</td>\n",
       "      <td>2005-2006,0.000,0.013,0.000,0.000;2006-2007,1....</td>\n",
       "    </tr>\n",
       "  </tbody>\n",
       "</table>\n",
       "<p>1 rows × 23 columns</p>\n",
       "</div>"
      ],
      "text/plain": [
       "        START         END TURTLE_POS ROLLING_X_MAX ROLLING_X_MIN MA_SHORT  \\\n",
       "0  2005-01-01  2018-08-01         10            60            60       60   \n",
       "\n",
       "  MA_LONG X_DAY_RETURN ORDER STOCK  \\\n",
       "0     180          250   142    92   \n",
       "\n",
       "                         ...                          annual_return  \\\n",
       "0                        ...                               0.429619   \n",
       "\n",
       "   annual_volatility  calmar_ratio  sharpe_ratio     alpha      beta  \\\n",
       "0           0.335225      0.873202      1.234091  0.325919  0.553187   \n",
       "\n",
       "   ALL_DAYS  FREECASH_DAY  MISS_SIGNAL  \\\n",
       "0      3061          1229        28014   \n",
       "\n",
       "                                        RET_PER_YEAR  \n",
       "0  2005-2006,0.000,0.013,0.000,0.000;2006-2007,1....  \n",
       "\n",
       "[1 rows x 23 columns]"
      ]
     },
     "execution_count": 18,
     "metadata": {},
     "output_type": "execute_result"
    }
   ],
   "source": [
    "if score_df is not False:\n",
    "    pass\n",
    "else:\n",
    "    score_df = None\n",
    "    score_df = pd.DataFrame(columns=[\n",
    "        'START',\n",
    "        'END',\n",
    "        'TURTLE_POS',\n",
    "        'ROLLING_X_MAX',\n",
    "        'ROLLING_X_MIN', \n",
    "        'MA_SHORT', \n",
    "        'MA_LONG', \n",
    "        'X_DAY_RETURN', \n",
    "        'ORDER',\n",
    "        'STOCK',\n",
    "        'RETURN',\n",
    "        'MAXDROPDOWN',\n",
    "        'WINRATE',\n",
    "        'annual_return',\n",
    "        'annual_volatility',\n",
    "        'calmar_ratio',\n",
    "        'sharpe_ratio',\n",
    "        'alpha',\n",
    "        'beta',\n",
    "        'ALL_DAYS',\n",
    "        'FREECASH_DAY',\n",
    "        'MISS_SIGNAL',\n",
    "        'RET_PER_YEAR',\n",
    "    ])\n",
    "\n",
    "score_df"
   ]
  },
  {
   "cell_type": "code",
   "execution_count": 21,
   "metadata": {},
   "outputs": [
    {
     "data": {
      "text/html": [
       "<div>\n",
       "<style scoped>\n",
       "    .dataframe tbody tr th:only-of-type {\n",
       "        vertical-align: middle;\n",
       "    }\n",
       "\n",
       "    .dataframe tbody tr th {\n",
       "        vertical-align: top;\n",
       "    }\n",
       "\n",
       "    .dataframe thead th {\n",
       "        text-align: right;\n",
       "    }\n",
       "</style>\n",
       "<table border=\"1\" class=\"dataframe\">\n",
       "  <thead>\n",
       "    <tr style=\"text-align: right;\">\n",
       "      <th></th>\n",
       "      <th>START</th>\n",
       "      <th>END</th>\n",
       "      <th>TURTLE_POS</th>\n",
       "      <th>ROLLING_X_MAX</th>\n",
       "      <th>ROLLING_X_MIN</th>\n",
       "      <th>MA_SHORT</th>\n",
       "      <th>MA_LONG</th>\n",
       "      <th>X_DAY_RETURN</th>\n",
       "      <th>ORDER</th>\n",
       "      <th>STOCK</th>\n",
       "      <th>...</th>\n",
       "      <th>annual_return</th>\n",
       "      <th>annual_volatility</th>\n",
       "      <th>calmar_ratio</th>\n",
       "      <th>sharpe_ratio</th>\n",
       "      <th>alpha</th>\n",
       "      <th>beta</th>\n",
       "      <th>ALL_DAYS</th>\n",
       "      <th>FREECASH_DAY</th>\n",
       "      <th>MISS_SIGNAL</th>\n",
       "      <th>RET_PER_YEAR</th>\n",
       "    </tr>\n",
       "  </thead>\n",
       "  <tbody>\n",
       "    <tr>\n",
       "      <th>0</th>\n",
       "      <td>2005-01-01</td>\n",
       "      <td>2018-08-01</td>\n",
       "      <td>10</td>\n",
       "      <td>60</td>\n",
       "      <td>60</td>\n",
       "      <td>60</td>\n",
       "      <td>180</td>\n",
       "      <td>250</td>\n",
       "      <td>142</td>\n",
       "      <td>92</td>\n",
       "      <td>...</td>\n",
       "      <td>0.429619</td>\n",
       "      <td>0.335225</td>\n",
       "      <td>0.873202</td>\n",
       "      <td>1.234091</td>\n",
       "      <td>0.325919</td>\n",
       "      <td>0.553187</td>\n",
       "      <td>3061</td>\n",
       "      <td>1229</td>\n",
       "      <td>28014</td>\n",
       "      <td>2005-2006,0.000,0.013,0.000,0.000;2006-2007,1....</td>\n",
       "    </tr>\n",
       "    <tr>\n",
       "      <th>1</th>\n",
       "      <td>2005-01-01</td>\n",
       "      <td>2018-08-01</td>\n",
       "      <td>10</td>\n",
       "      <td>61</td>\n",
       "      <td>61</td>\n",
       "      <td>60</td>\n",
       "      <td>180</td>\n",
       "      <td>250</td>\n",
       "      <td>142</td>\n",
       "      <td>92</td>\n",
       "      <td>...</td>\n",
       "      <td>0.429619</td>\n",
       "      <td>0.335225</td>\n",
       "      <td>0.873202</td>\n",
       "      <td>1.234091</td>\n",
       "      <td>0.325919</td>\n",
       "      <td>0.553187</td>\n",
       "      <td>3061</td>\n",
       "      <td>1229</td>\n",
       "      <td>28014</td>\n",
       "      <td>2005-2006,0.000,0.013,0.000,0.000;2006-2007,1....</td>\n",
       "    </tr>\n",
       "    <tr>\n",
       "      <th>2</th>\n",
       "      <td>2005-01-01</td>\n",
       "      <td>2018-08-01</td>\n",
       "      <td>10</td>\n",
       "      <td>61</td>\n",
       "      <td>61</td>\n",
       "      <td>60</td>\n",
       "      <td>180</td>\n",
       "      <td>250</td>\n",
       "      <td>140</td>\n",
       "      <td>92</td>\n",
       "      <td>...</td>\n",
       "      <td>0.429619</td>\n",
       "      <td>0.335225</td>\n",
       "      <td>0.873202</td>\n",
       "      <td>1.234091</td>\n",
       "      <td>0.325919</td>\n",
       "      <td>0.553187</td>\n",
       "      <td>3061</td>\n",
       "      <td>1229</td>\n",
       "      <td>27906</td>\n",
       "      <td>2005-2006,0.000,0.013,0.000,0.000;2006-2007,1....</td>\n",
       "    </tr>\n",
       "  </tbody>\n",
       "</table>\n",
       "<p>3 rows × 23 columns</p>\n",
       "</div>"
      ],
      "text/plain": [
       "        START         END TURTLE_POS ROLLING_X_MAX ROLLING_X_MIN MA_SHORT  \\\n",
       "0  2005-01-01  2018-08-01         10            60            60       60   \n",
       "1  2005-01-01  2018-08-01         10            61            61       60   \n",
       "2  2005-01-01  2018-08-01         10            61            61       60   \n",
       "\n",
       "  MA_LONG X_DAY_RETURN ORDER STOCK  \\\n",
       "0     180          250   142    92   \n",
       "1     180          250   142    92   \n",
       "2     180          250   140    92   \n",
       "\n",
       "                         ...                          annual_return  \\\n",
       "0                        ...                               0.429619   \n",
       "1                        ...                               0.429619   \n",
       "2                        ...                               0.429619   \n",
       "\n",
       "   annual_volatility  calmar_ratio  sharpe_ratio     alpha      beta  \\\n",
       "0           0.335225      0.873202      1.234091  0.325919  0.553187   \n",
       "1           0.335225      0.873202      1.234091  0.325919  0.553187   \n",
       "2           0.335225      0.873202      1.234091  0.325919  0.553187   \n",
       "\n",
       "   ALL_DAYS  FREECASH_DAY  MISS_SIGNAL  \\\n",
       "0      3061          1229        28014   \n",
       "1      3061          1229        28014   \n",
       "2      3061          1229        27906   \n",
       "\n",
       "                                        RET_PER_YEAR  \n",
       "0  2005-2006,0.000,0.013,0.000,0.000;2006-2007,1....  \n",
       "1  2005-2006,0.000,0.013,0.000,0.000;2006-2007,1....  \n",
       "2  2005-2006,0.000,0.013,0.000,0.000;2006-2007,1....  \n",
       "\n",
       "[3 rows x 23 columns]"
      ]
     },
     "execution_count": 21,
     "metadata": {},
     "output_type": "execute_result"
    }
   ],
   "source": [
    "score_df = score_df.append({\n",
    "    'START': start_date,\n",
    "    'END': end_date,\n",
    "    'TURTLE_POS': TURTLE_POS,\n",
    "    'ROLLING_X_MAX': TURTLE_LONG_BUY_N,\n",
    "    'ROLLING_X_MIN': TURTLE_LONG_SELL_N, \n",
    "    'MA_SHORT': 60, \n",
    "    'MA_LONG': 180, \n",
    "    'X_DAY_RETURN': 250, \n",
    "    'ORDER': len(order_df),\n",
    "    'STOCK': buy_stock_count,\n",
    "    'RETURN': emp.cum_returns(algo)[-1],\n",
    "    'MAXDROPDOWN': emp.max_drawdown(algo),\n",
    "    'WINRATE': len(order_df[order_df.profit > 0]) / len(order_df[order_df.profit != 0]),\n",
    "    'annual_return': emp.annual_return(algo),\n",
    "    'annual_volatility': emp.annual_volatility(algo, period='daily'),\n",
    "    'calmar_ratio': emp.calmar_ratio(algo),\n",
    "    'sharpe_ratio': emp.sharpe_ratio(returns=algo),\n",
    "    'alpha': emp.alpha(returns=algo, factor_returns=benchmark, risk_free=0.00),\n",
    "    'beta': emp.beta(returns=algo, factor_returns=benchmark, risk_free=0.00),\n",
    "    'ALL_DAYS': ALL_DAYS,\n",
    "    'FREECASH_DAY': FREECASH_DAY,\n",
    "    'MISS_SIGNAL': miss_buy_long,\n",
    "    'RET_PER_YEAR': output_str,\n",
    "}, ignore_index = True)\n",
    "\n",
    "score_df\n",
    "score_df.to_csv('../database/%s.csv' % time.strftime('%Y-%m-%d-%H-%M-%S'))"
   ]
  },
  {
   "cell_type": "code",
   "execution_count": 23,
   "metadata": {},
   "outputs": [],
   "source": [
    "def test(haha):\n",
    "    print(haha)"
   ]
  },
  {
   "cell_type": "code",
   "execution_count": 24,
   "metadata": {},
   "outputs": [
    {
     "name": "stdout",
     "output_type": "stream",
     "text": [
      "ss\n"
     ]
    }
   ],
   "source": [
    "test('ss')"
   ]
  }
 ],
 "metadata": {
  "kernelspec": {
   "display_name": "Python 3",
   "language": "python",
   "name": "python3"
  },
  "language_info": {
   "codemirror_mode": {
    "name": "ipython",
    "version": 3
   },
   "file_extension": ".py",
   "mimetype": "text/x-python",
   "name": "python",
   "nbconvert_exporter": "python",
   "pygments_lexer": "ipython3",
   "version": "3.6.1"
  }
 },
 "nbformat": 4,
 "nbformat_minor": 2
}
