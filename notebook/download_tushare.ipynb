{
 "cells": [
  {
   "cell_type": "code",
   "execution_count": 2,
   "metadata": {
    "scrolled": false
   },
   "outputs": [
    {
     "name": "stderr",
     "output_type": "stream",
     "text": [
      "d:\\python36\\lib\\site-packages\\tushare\\stock\\classifying.py:266: FutureWarning: the 'parse_cols' keyword is deprecated, use 'usecols' instead\n",
      "  ct.PAGES['sz50b']), parse_cols=[0, 4, 5])\n"
     ]
    },
    {
     "data": {
      "text/plain": [
       "<module 'pandas' from 'd:\\\\python36\\\\lib\\\\site-packages\\\\pandas\\\\__init__.py'>"
      ]
     },
     "execution_count": 2,
     "metadata": {},
     "output_type": "execute_result"
    },
    {
     "data": {
      "text/plain": [
       "300"
      ]
     },
     "execution_count": 2,
     "metadata": {},
     "output_type": "execute_result"
    }
   ],
   "source": [
    "import os\n",
    "import sys\n",
    "sys.path.append(os.path.abspath(os.path.join(os.getcwd(), '..')))\n",
    "\n",
    "import pandas as pd\n",
    "pd.core.common.is_list_like = pd.api.types.is_list_like\n",
    "try:\n",
    "    import empyrical as emp\n",
    "except:\n",
    "    emp = None\n",
    "import tushare as ts\n",
    "import time\n",
    "import random\n",
    "# from concurrent.futures import ProcessPoolExecutor\n",
    "\n",
    "from common.log import *\n",
    "from common.config import Config\n",
    "from spider.spider_nasdaq import Spider_nasdaq\n",
    "from spider.spider_coinmarketcap import Spider_coinmarketcap\n",
    "\n",
    "from IPython.core.interactiveshell import InteractiveShell\n",
    "InteractiveShell.ast_node_interactivity = 'all'\n",
    "\n",
    "from pandas_highcharts.core import serialize\n",
    "from pandas_highcharts.display import display_charts\n",
    "\n",
    "CONF = Config('../conf/secret.yaml').data[0]\n",
    "ts_token = CONF['TUSHARE']['TOKEN']\n",
    "ts.set_token(ts_token)\n",
    "pro = ts.pro_api()\n",
    "\n",
    "CONF = Config().data[0]\n",
    "MONGODB = CONF['MONGODB']\n",
    "NASDAQ = CONF['NASDAQ']\n",
    "CRYPTOCURRENCY = CONF['CRYPTOCURRENCY']\n",
    "CRYPTOCURRENCY = list(CRYPTOCURRENCY.keys())\n",
    "NASDAQ100 = CONF['NASDAQ100']\n",
    "HS300 = list(ts.get_hs300s()['code'])\n",
    "ZZ500 = list(ts.get_zz500s()['code'])\n",
    "SZ50 = list(ts.get_sz50s()['code'])\n",
    "HSALL = list(set(ts.get_stock_basics().index) - set(['601162', '002940', '002939', '300674', '002941']))\n",
    "HSALL = HSALL + ['000866', '600001', '000956']\n",
    "\n",
    "BENCHMARK = '399300'\n",
    "# TARGET = ['399300']\n",
    "TARGET = HS300\n",
    "# BENCHMARK = '000905'\n",
    "# TARGET = ZZ500\n",
    "# BENCHMARK = '000016'\n",
    "# TARGET = SZ50\n",
    "# TARGET = HSALL\n",
    "\n",
    "# BENCHMARK = 'NDX'\n",
    "# TARGET = NASDAQ100\n",
    "\n",
    "# BENCHMARK = 'BITCOIN'\n",
    "# TARGET = CRYPTOCURRENCY\n",
    "# BENCHMARK = 'EOS'\n",
    "# TARGET = ['EOS']\n",
    "\n",
    "ALL_TARGET = TARGET[:]\n",
    "\n",
    "pd\n",
    "len(TARGET)\n",
    "# TARGET"
   ]
  },
  {
   "cell_type": "code",
   "execution_count": 2,
   "metadata": {},
   "outputs": [
    {
     "name": "stderr",
     "output_type": "stream",
     "text": [
      "d:\\python3\\lib\\site-packages\\tushare\\stock\\classifying.py:266: FutureWarning: the 'parse_cols' keyword is deprecated, use 'usecols' instead\n",
      "  ct.PAGES['sz50b']), parse_cols=[0, 4, 5])\n"
     ]
    }
   ],
   "source": [
    "SZ50_20121212 = ['600000', '600010', '600015', '600016', '600019', '600028',\n",
    " '600030', '600031', '600036', '600048', '600050', '600058',\n",
    " '600068', '600089', '600104', '600111', '600188', '600348',\n",
    " '600362', '600383', '600489', '600519', '600547', '600585',\n",
    " '600837', '600900', '601006', '601088', '601111', '601118',\n",
    " '601166', '601168', '601169', '601288', '601299', '601318',\n",
    " '601328', '601398', '601600', '601601', '601628', '601668',\n",
    " '601699', '601766', '601818', '601857', '601898', '601899',\n",
    " '601958', '601989']\n",
    "\n",
    "SZ50_20151204 = ['600000', '600010', '600015', '600016', '600018', '600028',\n",
    "'600030', '600036', '600048', '600050', '600111', '600104',\n",
    "'600109', '600111', '600150', '600256', '600406', '600518',\n",
    "'600519', '600583', '600585', '600637', '600690', '600837',\n",
    "'600887', '600893', '600958', '600999', '601006', '601088',\n",
    "'601166', '601169', '601186', '601288', '601318', '601328',\n",
    "'601390', '601398', '601601', '601628', '601668', '601688',\n",
    "'601766', '601800', '601818', '601857', '601901', '601988',\n",
    "'601989', '601998']\n",
    "\n",
    "SZ50_20160325 = ['600000', '600010', '600015', '600016', '600018', '600028',\n",
    "'600030', '600036', '600048', '600050', '600104', '600109',\n",
    "'600111', '600150', '600518', '600519', '600585', '600637',\n",
    "'600795', '600837', '600887', '600893', '600958', '600999',\n",
    "'601006', '601088', '601166', '601169', '601186', '601211',\n",
    "'601288', '601318', '601328', '601336', '601390', '601398',\n",
    "'601601', '601628', '601668', '601669', '601688', '601766',\n",
    "'601800', '601818', '601857', '601901', '601985', '601988',\n",
    "'601989', '601998']\n",
    "\n",
    "SZ50_20161212 = ['600000', '600016', '600028', '600029', '600030', '600036',\n",
    "'600048', '600050', '600100', '600104', '600109', '600111',\n",
    "'600485', '600518', '600519', '600547', '600637', '600837',\n",
    "'600887', '600893', '600958', '600999', '601006', '601088',\n",
    "'601166', '601169', '601186', '601198', '601211', '601288',\n",
    "'601318', '601328', '601336', '601377', '601390', '601398',\n",
    "'601601', '601628', '601668', '601688', '601766', '601788',\n",
    "'601800', '601818', '601857', '601901', '601985', '601988',\n",
    "'601989', '601998']\n",
    "\n",
    "SZ50_20171213 = ['600000', '600016', '600019', '600028', '600029', '600030',\n",
    "'600036', '600048', '600050', '600104', '600111', '600309',\n",
    "'600340', '600518', '600519', '600547', '600606', '600837',\n",
    "'600887', '600919', '600958', '600999', '601006', '601088',\n",
    "'601166', '601169', '601186', '601211', '601229', '601288',\n",
    "'601318', '601328', '601336', '601390', '601398', '601601',\n",
    "'601628', '601668', '601669', '601688', '601766', '601800',\n",
    "'601818', '601857', '601878', '601881', '601985', '601988',\n",
    "'601989', '603993']\n",
    "\n",
    "FULL_SZ50 = SZ50_20121212 + SZ50_20151204 + SZ50_20160325 + SZ50_20161212 + SZ50_20171213 + list(ts.get_sz50s()['code'])\n",
    "FULL_SZ50 = list(set(FULL_SZ50))\n",
    "\n",
    "# TARGET = FULL_SZ50\n",
    "# ALL_TARGET = TARGET[:]"
   ]
  },
  {
   "cell_type": "code",
   "execution_count": 3,
   "metadata": {
    "scrolled": false
   },
   "outputs": [
    {
     "name": "stdout",
     "output_type": "stream",
     "text": [
      "Wall time: 0 ns\n"
     ]
    }
   ],
   "source": [
    "%%time\n",
    "\n",
    "IS_DOWNLOAD_DATA = False\n",
    "spider_n = Spider_nasdaq()\n",
    "spider_c = Spider_coinmarketcap()\n",
    "timeframe = '10y'\n",
    "ignore = True\n",
    "\n",
    "for symbol in TARGET + [BENCHMARK]:\n",
    "    if not IS_DOWNLOAD_DATA:\n",
    "        break\n",
    "        \n",
    "    print(symbol)\n",
    "\n",
    "    # 沪深300指数\n",
    "    if symbol in ['399300', '000905', '000016']:\n",
    "        df = ts.get_k_data(code=symbol, index=True, start='2005-01-01', end=time.strftime('%Y-%m-%d'))\n",
    "        datafile = '../database/market/%s.csv' % symbol\n",
    "        df.to_csv(datafile, index=False, encoding='utf-8')\n",
    "        \n",
    "    # A股\n",
    "    elif symbol in HS300 or symbol in ZZ500 or symbol in HSALL or symbol in FULL_SZ50:\n",
    "        df = ts.get_k_data(code=symbol, ktype='D', autype='qfq', index=False, start='2005-01-01', end=time.strftime('%Y-%m-%d'))\n",
    "        datafile = '../database/market/%s.csv' % symbol\n",
    "        df.to_csv(datafile, index=False, encoding='utf-8')\n",
    "        \n",
    "    # NASDAQ\n",
    "    elif symbol in NASDAQ100:\n",
    "        datafile = None\n",
    "        while datafile is None:\n",
    "            try:\n",
    "                datafile = spider_n.get_stock_data(symbol, timeframe)\n",
    "            except:\n",
    "                time.sleep(5)\n",
    "    \n",
    "    # CRYPTOCURRENCY\n",
    "    elif symbol in CRYPTOCURRENCY:\n",
    "        datafile = spider_c.get_coin_data(symbol, start_date='20100101', end_date=time.strftime('%Y%m%d'))\n",
    "        \n",
    "#     print(datafile)\n",
    "    time.sleep(1)"
   ]
  },
  {
   "cell_type": "code",
   "execution_count": 28,
   "metadata": {},
   "outputs": [],
   "source": [
    "full_df.to_csv('../database/HS300IDX_2007-2009.csv', index=False, encoding='utf-8')"
   ]
  },
  {
   "cell_type": "code",
   "execution_count": 30,
   "metadata": {
    "scrolled": false
   },
   "outputs": [
    {
     "data": {
      "text/plain": [
       "(Period('2015-01-30', 'D'), 300, 300)"
      ]
     },
     "execution_count": 30,
     "metadata": {},
     "output_type": "execute_result"
    },
    {
     "data": {
      "text/plain": [
       "(Period('2015-02-27', 'D'), 300, 600)"
      ]
     },
     "execution_count": 30,
     "metadata": {},
     "output_type": "execute_result"
    },
    {
     "data": {
      "text/plain": [
       "(Period('2015-03-31', 'D'), 300, 900)"
      ]
     },
     "execution_count": 30,
     "metadata": {},
     "output_type": "execute_result"
    },
    {
     "data": {
      "text/plain": [
       "(Period('2015-04-30', 'D'), 300, 1200)"
      ]
     },
     "execution_count": 30,
     "metadata": {},
     "output_type": "execute_result"
    },
    {
     "data": {
      "text/plain": [
       "(Period('2015-05-30', 'D'), 300, 1500)"
      ]
     },
     "execution_count": 30,
     "metadata": {},
     "output_type": "execute_result"
    },
    {
     "data": {
      "text/plain": [
       "(Period('2015-07-01', 'D'), 600, 2100)"
      ]
     },
     "execution_count": 30,
     "metadata": {},
     "output_type": "execute_result"
    },
    {
     "data": {
      "text/plain": [
       "(Period('2015-07-31', 'D'), 300, 2400)"
      ]
     },
     "execution_count": 30,
     "metadata": {},
     "output_type": "execute_result"
    },
    {
     "data": {
      "text/plain": [
       "(Period('2015-08-04', 'D'), 300, 2700)"
      ]
     },
     "execution_count": 30,
     "metadata": {},
     "output_type": "execute_result"
    },
    {
     "data": {
      "text/plain": [
       "(Period('2015-09-01', 'D'), 600, 3300)"
      ]
     },
     "execution_count": 30,
     "metadata": {},
     "output_type": "execute_result"
    },
    {
     "data": {
      "text/plain": [
       "(Period('2015-10-01', 'D'), 300, 3600)"
      ]
     },
     "execution_count": 30,
     "metadata": {},
     "output_type": "execute_result"
    },
    {
     "data": {
      "text/plain": [
       "(Period('2015-10-31', 'D'), 300, 3900)"
      ]
     },
     "execution_count": 30,
     "metadata": {},
     "output_type": "execute_result"
    },
    {
     "data": {
      "text/plain": [
       "(Period('2015-11-02', 'D'), 300, 4200)"
      ]
     },
     "execution_count": 30,
     "metadata": {},
     "output_type": "execute_result"
    },
    {
     "data": {
      "text/plain": [
       "(Period('2015-11-30', 'D'), 300, 4500)"
      ]
     },
     "execution_count": 30,
     "metadata": {},
     "output_type": "execute_result"
    },
    {
     "data": {
      "text/plain": [
       "(Period('2015-12-02', 'D'), 300, 4800)"
      ]
     },
     "execution_count": 30,
     "metadata": {},
     "output_type": "execute_result"
    },
    {
     "data": {
      "text/plain": [
       "(Period('2016-01-01', 'D'), 300, 5100)"
      ]
     },
     "execution_count": 30,
     "metadata": {},
     "output_type": "execute_result"
    },
    {
     "data": {
      "text/plain": [
       "(Period('2016-01-05', 'D'), 300, 5400)"
      ]
     },
     "execution_count": 30,
     "metadata": {},
     "output_type": "execute_result"
    },
    {
     "data": {
      "text/plain": [
       "(Period('2016-01-29', 'D'), 300, 5700)"
      ]
     },
     "execution_count": 30,
     "metadata": {},
     "output_type": "execute_result"
    },
    {
     "data": {
      "text/plain": [
       "(Period('2016-03-01', 'D'), 600, 6300)"
      ]
     },
     "execution_count": 30,
     "metadata": {},
     "output_type": "execute_result"
    },
    {
     "data": {
      "text/plain": [
       "(Period('2016-03-31', 'D'), 300, 6600)"
      ]
     },
     "execution_count": 30,
     "metadata": {},
     "output_type": "execute_result"
    },
    {
     "data": {
      "text/plain": [
       "(Period('2016-04-02', 'D'), 300, 6900)"
      ]
     },
     "execution_count": 30,
     "metadata": {},
     "output_type": "execute_result"
    },
    {
     "data": {
      "text/plain": [
       "(Period('2016-04-30', 'D'), 300, 7200)"
      ]
     },
     "execution_count": 30,
     "metadata": {},
     "output_type": "execute_result"
    },
    {
     "data": {
      "text/plain": [
       "(Period('2016-05-04', 'D'), 300, 7500)"
      ]
     },
     "execution_count": 30,
     "metadata": {},
     "output_type": "execute_result"
    },
    {
     "data": {
      "text/plain": [
       "(Period('2016-06-01', 'D'), 600, 8100)"
      ]
     },
     "execution_count": 30,
     "metadata": {},
     "output_type": "execute_result"
    },
    {
     "data": {
      "text/plain": [
       "(Period('2016-07-01', 'D'), 600, 8700)"
      ]
     },
     "execution_count": 30,
     "metadata": {},
     "output_type": "execute_result"
    },
    {
     "data": {
      "text/plain": [
       "(Period('2016-07-29', 'D'), 300, 9000)"
      ]
     },
     "execution_count": 30,
     "metadata": {},
     "output_type": "execute_result"
    },
    {
     "data": {
      "text/plain": [
       "(Period('2016-08-02', 'D'), 300, 9300)"
      ]
     },
     "execution_count": 30,
     "metadata": {},
     "output_type": "execute_result"
    },
    {
     "data": {
      "text/plain": [
       "(Period('2016-09-01', 'D'), 600, 9900)"
      ]
     },
     "execution_count": 30,
     "metadata": {},
     "output_type": "execute_result"
    },
    {
     "data": {
      "text/plain": [
       "(Period('2016-10-01', 'D'), 300, 10200)"
      ]
     },
     "execution_count": 30,
     "metadata": {},
     "output_type": "execute_result"
    },
    {
     "data": {
      "text/plain": [
       "(Period('2016-10-11', 'D'), 300, 10500)"
      ]
     },
     "execution_count": 30,
     "metadata": {},
     "output_type": "execute_result"
    },
    {
     "data": {
      "text/plain": [
       "(Period('2016-10-31', 'D'), 300, 10800)"
      ]
     },
     "execution_count": 30,
     "metadata": {},
     "output_type": "execute_result"
    },
    {
     "data": {
      "text/plain": [
       "(Period('2016-11-02', 'D'), 300, 11100)"
      ]
     },
     "execution_count": 30,
     "metadata": {},
     "output_type": "execute_result"
    },
    {
     "data": {
      "text/plain": [
       "(Period('2016-11-30', 'D'), 300, 11400)"
      ]
     },
     "execution_count": 30,
     "metadata": {},
     "output_type": "execute_result"
    },
    {
     "data": {
      "text/plain": [
       "(Period('2016-12-02', 'D'), 300, 11700)"
      ]
     },
     "execution_count": 30,
     "metadata": {},
     "output_type": "execute_result"
    },
    {
     "data": {
      "text/plain": [
       "(Period('2016-12-30', 'D'), 300, 12000)"
      ]
     },
     "execution_count": 30,
     "metadata": {},
     "output_type": "execute_result"
    },
    {
     "data": {
      "text/plain": [
       "(Period('2017-01-03', 'D'), 300, 12300)"
      ]
     },
     "execution_count": 30,
     "metadata": {},
     "output_type": "execute_result"
    },
    {
     "data": {
      "text/plain": [
       "(Period('2017-01-27', 'D'), 300, 12600)"
      ]
     },
     "execution_count": 30,
     "metadata": {},
     "output_type": "execute_result"
    },
    {
     "data": {
      "text/plain": [
       "(Period('2017-02-04', 'D'), 300, 12900)"
      ]
     },
     "execution_count": 30,
     "metadata": {},
     "output_type": "execute_result"
    },
    {
     "data": {
      "text/plain": [
       "(Period('2017-02-28', 'D'), 300, 13200)"
      ]
     },
     "execution_count": 30,
     "metadata": {},
     "output_type": "execute_result"
    },
    {
     "data": {
      "text/plain": [
       "(Period('2017-03-02', 'D'), 300, 13500)"
      ]
     },
     "execution_count": 30,
     "metadata": {},
     "output_type": "execute_result"
    },
    {
     "data": {
      "text/plain": [
       "(Period('2017-04-01', 'D'), 300, 13800)"
      ]
     },
     "execution_count": 30,
     "metadata": {},
     "output_type": "execute_result"
    },
    {
     "data": {
      "text/plain": [
       "(Period('2017-04-05', 'D'), 300, 14100)"
      ]
     },
     "execution_count": 30,
     "metadata": {},
     "output_type": "execute_result"
    },
    {
     "data": {
      "text/plain": [
       "(Period('2017-04-29', 'D'), 300, 14400)"
      ]
     },
     "execution_count": 30,
     "metadata": {},
     "output_type": "execute_result"
    },
    {
     "data": {
      "text/plain": [
       "(Period('2017-05-03', 'D'), 300, 14700)"
      ]
     },
     "execution_count": 30,
     "metadata": {},
     "output_type": "execute_result"
    },
    {
     "data": {
      "text/plain": [
       "(Period('2017-05-31', 'D'), 300, 15000)"
      ]
     },
     "execution_count": 30,
     "metadata": {},
     "output_type": "execute_result"
    },
    {
     "data": {
      "text/plain": [
       "(Period('2017-06-02', 'D'), 300, 15300)"
      ]
     },
     "execution_count": 30,
     "metadata": {},
     "output_type": "execute_result"
    },
    {
     "data": {
      "text/plain": [
       "(Period('2017-06-30', 'D'), 300, 15600)"
      ]
     },
     "execution_count": 30,
     "metadata": {},
     "output_type": "execute_result"
    },
    {
     "data": {
      "text/plain": [
       "(Period('2017-07-04', 'D'), 300, 15900)"
      ]
     },
     "execution_count": 30,
     "metadata": {},
     "output_type": "execute_result"
    },
    {
     "data": {
      "text/plain": [
       "(Period('2017-08-01', 'D'), 600, 16500)"
      ]
     },
     "execution_count": 30,
     "metadata": {},
     "output_type": "execute_result"
    },
    {
     "data": {
      "text/plain": [
       "(Period('2017-08-31', 'D'), 300, 16800)"
      ]
     },
     "execution_count": 30,
     "metadata": {},
     "output_type": "execute_result"
    },
    {
     "data": {
      "text/plain": [
       "(Period('2017-09-02', 'D'), 300, 17100)"
      ]
     },
     "execution_count": 30,
     "metadata": {},
     "output_type": "execute_result"
    },
    {
     "data": {
      "text/plain": [
       "(Period('2017-09-30', 'D'), 300, 17400)"
      ]
     },
     "execution_count": 30,
     "metadata": {},
     "output_type": "execute_result"
    },
    {
     "data": {
      "text/plain": [
       "(Period('2017-10-10', 'D'), 300, 17700)"
      ]
     },
     "execution_count": 30,
     "metadata": {},
     "output_type": "execute_result"
    },
    {
     "data": {
      "text/plain": [
       "(Period('2017-11-01', 'D'), 600, 18300)"
      ]
     },
     "execution_count": 30,
     "metadata": {},
     "output_type": "execute_result"
    },
    {
     "data": {
      "text/plain": [
       "(Period('2017-12-01', 'D'), 600, 18900)"
      ]
     },
     "execution_count": 30,
     "metadata": {},
     "output_type": "execute_result"
    },
    {
     "data": {
      "text/plain": [
       "(Period('2017-12-29', 'D'), 300, 19200)"
      ]
     },
     "execution_count": 30,
     "metadata": {},
     "output_type": "execute_result"
    },
    {
     "data": {
      "text/plain": [
       "(Period('2018-01-02', 'D'), 300, 19500)"
      ]
     },
     "execution_count": 30,
     "metadata": {},
     "output_type": "execute_result"
    },
    {
     "data": {
      "text/plain": [
       "(Period('2018-02-01', 'D'), 600, 20100)"
      ]
     },
     "execution_count": 30,
     "metadata": {},
     "output_type": "execute_result"
    },
    {
     "data": {
      "text/plain": [
       "(Period('2018-03-01', 'D'), 600, 20700)"
      ]
     },
     "execution_count": 30,
     "metadata": {},
     "output_type": "execute_result"
    },
    {
     "data": {
      "text/plain": [
       "(Period('2018-03-31', 'D'), 300, 21000)"
      ]
     },
     "execution_count": 30,
     "metadata": {},
     "output_type": "execute_result"
    },
    {
     "data": {
      "text/plain": [
       "(Period('2018-04-02', 'D'), 300, 21300)"
      ]
     },
     "execution_count": 30,
     "metadata": {},
     "output_type": "execute_result"
    },
    {
     "data": {
      "text/plain": [
       "(Period('2018-04-28', 'D'), 300, 21600)"
      ]
     },
     "execution_count": 30,
     "metadata": {},
     "output_type": "execute_result"
    },
    {
     "data": {
      "text/plain": [
       "(Period('2018-05-02', 'D'), 300, 21900)"
      ]
     },
     "execution_count": 30,
     "metadata": {},
     "output_type": "execute_result"
    },
    {
     "data": {
      "text/plain": [
       "(Period('2018-06-01', 'D'), 600, 22500)"
      ]
     },
     "execution_count": 30,
     "metadata": {},
     "output_type": "execute_result"
    },
    {
     "data": {
      "text/plain": [
       "(Period('2018-06-29', 'D'), 300, 22800)"
      ]
     },
     "execution_count": 30,
     "metadata": {},
     "output_type": "execute_result"
    },
    {
     "data": {
      "text/plain": [
       "(Period('2018-07-03', 'D'), 300, 23100)"
      ]
     },
     "execution_count": 30,
     "metadata": {},
     "output_type": "execute_result"
    },
    {
     "data": {
      "text/plain": [
       "(Period('2018-07-31', 'D'), 300, 23400)"
      ]
     },
     "execution_count": 30,
     "metadata": {},
     "output_type": "execute_result"
    },
    {
     "data": {
      "text/plain": [
       "(Period('2018-08-02', 'D'), 300, 23700)"
      ]
     },
     "execution_count": 30,
     "metadata": {},
     "output_type": "execute_result"
    },
    {
     "data": {
      "text/plain": [
       "(Period('2018-09-01', 'D'), 300, 24000)"
      ]
     },
     "execution_count": 30,
     "metadata": {},
     "output_type": "execute_result"
    },
    {
     "data": {
      "text/plain": [
       "(Period('2018-09-03', 'D'), 300, 24300)"
      ]
     },
     "execution_count": 30,
     "metadata": {},
     "output_type": "execute_result"
    },
    {
     "data": {
      "text/plain": [
       "(Period('2018-09-29', 'D'), 300, 24600)"
      ]
     },
     "execution_count": 30,
     "metadata": {},
     "output_type": "execute_result"
    },
    {
     "data": {
      "text/plain": [
       "(Period('2018-10-09', 'D'), 300, 24900)"
      ]
     },
     "execution_count": 30,
     "metadata": {},
     "output_type": "execute_result"
    },
    {
     "data": {
      "text/plain": [
       "24900"
      ]
     },
     "execution_count": 30,
     "metadata": {},
     "output_type": "execute_result"
    },
    {
     "data": {
      "text/html": [
       "<div>\n",
       "<style scoped>\n",
       "    .dataframe tbody tr th:only-of-type {\n",
       "        vertical-align: middle;\n",
       "    }\n",
       "\n",
       "    .dataframe tbody tr th {\n",
       "        vertical-align: top;\n",
       "    }\n",
       "\n",
       "    .dataframe thead th {\n",
       "        text-align: right;\n",
       "    }\n",
       "</style>\n",
       "<table border=\"1\" class=\"dataframe\">\n",
       "  <thead>\n",
       "    <tr style=\"text-align: right;\">\n",
       "      <th></th>\n",
       "      <th>index_code</th>\n",
       "      <th>con_code</th>\n",
       "      <th>trade_date</th>\n",
       "      <th>weight</th>\n",
       "    </tr>\n",
       "  </thead>\n",
       "  <tbody>\n",
       "    <tr>\n",
       "      <th>0</th>\n",
       "      <td>399300.SZ</td>\n",
       "      <td>600690.SH</td>\n",
       "      <td>20150130</td>\n",
       "      <td>0.3700</td>\n",
       "    </tr>\n",
       "    <tr>\n",
       "      <th>1</th>\n",
       "      <td>399300.SZ</td>\n",
       "      <td>600642.SH</td>\n",
       "      <td>20150130</td>\n",
       "      <td>0.2000</td>\n",
       "    </tr>\n",
       "    <tr>\n",
       "      <th>2</th>\n",
       "      <td>399300.SZ</td>\n",
       "      <td>600395.SH</td>\n",
       "      <td>20150130</td>\n",
       "      <td>0.0700</td>\n",
       "    </tr>\n",
       "    <tr>\n",
       "      <th>3</th>\n",
       "      <td>399300.SZ</td>\n",
       "      <td>000895.SZ</td>\n",
       "      <td>20150130</td>\n",
       "      <td>0.2600</td>\n",
       "    </tr>\n",
       "    <tr>\n",
       "      <th>4</th>\n",
       "      <td>399300.SZ</td>\n",
       "      <td>601601.SH</td>\n",
       "      <td>20150130</td>\n",
       "      <td>1.2800</td>\n",
       "    </tr>\n",
       "    <tr>\n",
       "      <th>5</th>\n",
       "      <td>399300.SZ</td>\n",
       "      <td>600549.SH</td>\n",
       "      <td>20150130</td>\n",
       "      <td>0.1300</td>\n",
       "    </tr>\n",
       "    <tr>\n",
       "      <th>6</th>\n",
       "      <td>399300.SZ</td>\n",
       "      <td>002236.SZ</td>\n",
       "      <td>20150130</td>\n",
       "      <td>0.1800</td>\n",
       "    </tr>\n",
       "    <tr>\n",
       "      <th>7</th>\n",
       "      <td>399300.SZ</td>\n",
       "      <td>600718.SH</td>\n",
       "      <td>20150130</td>\n",
       "      <td>0.1900</td>\n",
       "    </tr>\n",
       "    <tr>\n",
       "      <th>8</th>\n",
       "      <td>399300.SZ</td>\n",
       "      <td>000768.SZ</td>\n",
       "      <td>20150130</td>\n",
       "      <td>0.4000</td>\n",
       "    </tr>\n",
       "    <tr>\n",
       "      <th>9</th>\n",
       "      <td>399300.SZ</td>\n",
       "      <td>000060.SZ</td>\n",
       "      <td>20150130</td>\n",
       "      <td>0.1800</td>\n",
       "    </tr>\n",
       "    <tr>\n",
       "      <th>10</th>\n",
       "      <td>399300.SZ</td>\n",
       "      <td>600267.SH</td>\n",
       "      <td>20150130</td>\n",
       "      <td>0.1000</td>\n",
       "    </tr>\n",
       "    <tr>\n",
       "      <th>11</th>\n",
       "      <td>399300.SZ</td>\n",
       "      <td>600109.SH</td>\n",
       "      <td>20150130</td>\n",
       "      <td>0.4000</td>\n",
       "    </tr>\n",
       "    <tr>\n",
       "      <th>12</th>\n",
       "      <td>399300.SZ</td>\n",
       "      <td>002081.SZ</td>\n",
       "      <td>20150130</td>\n",
       "      <td>0.2400</td>\n",
       "    </tr>\n",
       "    <tr>\n",
       "      <th>13</th>\n",
       "      <td>399300.SZ</td>\n",
       "      <td>600703.SH</td>\n",
       "      <td>20150130</td>\n",
       "      <td>0.2500</td>\n",
       "    </tr>\n",
       "    <tr>\n",
       "      <th>14</th>\n",
       "      <td>399300.SZ</td>\n",
       "      <td>000559.SZ</td>\n",
       "      <td>20150130</td>\n",
       "      <td>0.1500</td>\n",
       "    </tr>\n",
       "    <tr>\n",
       "      <th>15</th>\n",
       "      <td>399300.SZ</td>\n",
       "      <td>600221.SH</td>\n",
       "      <td>20150130</td>\n",
       "      <td>0.2300</td>\n",
       "    </tr>\n",
       "    <tr>\n",
       "      <th>16</th>\n",
       "      <td>399300.SZ</td>\n",
       "      <td>000898.SZ</td>\n",
       "      <td>20150130</td>\n",
       "      <td>0.1200</td>\n",
       "    </tr>\n",
       "    <tr>\n",
       "      <th>17</th>\n",
       "      <td>399300.SZ</td>\n",
       "      <td>600373.SH</td>\n",
       "      <td>20150130</td>\n",
       "      <td>0.0900</td>\n",
       "    </tr>\n",
       "    <tr>\n",
       "      <th>18</th>\n",
       "      <td>399300.SZ</td>\n",
       "      <td>002294.SZ</td>\n",
       "      <td>20150130</td>\n",
       "      <td>0.0900</td>\n",
       "    </tr>\n",
       "    <tr>\n",
       "      <th>19</th>\n",
       "      <td>399300.SZ</td>\n",
       "      <td>601006.SH</td>\n",
       "      <td>20150130</td>\n",
       "      <td>0.7700</td>\n",
       "    </tr>\n",
       "    <tr>\n",
       "      <th>20</th>\n",
       "      <td>399300.SZ</td>\n",
       "      <td>000826.SZ</td>\n",
       "      <td>20150130</td>\n",
       "      <td>0.1800</td>\n",
       "    </tr>\n",
       "    <tr>\n",
       "      <th>21</th>\n",
       "      <td>399300.SZ</td>\n",
       "      <td>002673.SZ</td>\n",
       "      <td>20150130</td>\n",
       "      <td>0.1700</td>\n",
       "    </tr>\n",
       "    <tr>\n",
       "      <th>22</th>\n",
       "      <td>399300.SZ</td>\n",
       "      <td>600498.SH</td>\n",
       "      <td>20150130</td>\n",
       "      <td>0.1000</td>\n",
       "    </tr>\n",
       "    <tr>\n",
       "      <th>23</th>\n",
       "      <td>399300.SZ</td>\n",
       "      <td>600196.SH</td>\n",
       "      <td>20150130</td>\n",
       "      <td>0.3100</td>\n",
       "    </tr>\n",
       "    <tr>\n",
       "      <th>24</th>\n",
       "      <td>399300.SZ</td>\n",
       "      <td>603699.SH</td>\n",
       "      <td>20150130</td>\n",
       "      <td>0.0400</td>\n",
       "    </tr>\n",
       "    <tr>\n",
       "      <th>25</th>\n",
       "      <td>399300.SZ</td>\n",
       "      <td>601766.SH</td>\n",
       "      <td>20150130</td>\n",
       "      <td>0.7200</td>\n",
       "    </tr>\n",
       "    <tr>\n",
       "      <th>26</th>\n",
       "      <td>399300.SZ</td>\n",
       "      <td>600352.SH</td>\n",
       "      <td>20150130</td>\n",
       "      <td>0.3500</td>\n",
       "    </tr>\n",
       "    <tr>\n",
       "      <th>27</th>\n",
       "      <td>399300.SZ</td>\n",
       "      <td>002051.SZ</td>\n",
       "      <td>20150130</td>\n",
       "      <td>0.1000</td>\n",
       "    </tr>\n",
       "    <tr>\n",
       "      <th>28</th>\n",
       "      <td>399300.SZ</td>\n",
       "      <td>000338.SZ</td>\n",
       "      <td>20150130</td>\n",
       "      <td>0.3400</td>\n",
       "    </tr>\n",
       "    <tr>\n",
       "      <th>29</th>\n",
       "      <td>399300.SZ</td>\n",
       "      <td>600664.SH</td>\n",
       "      <td>20150130</td>\n",
       "      <td>0.1000</td>\n",
       "    </tr>\n",
       "    <tr>\n",
       "      <th>...</th>\n",
       "      <td>...</td>\n",
       "      <td>...</td>\n",
       "      <td>...</td>\n",
       "      <td>...</td>\n",
       "    </tr>\n",
       "    <tr>\n",
       "      <th>24870</th>\n",
       "      <td>399300.SZ</td>\n",
       "      <td>000786.SZ</td>\n",
       "      <td>20181008</td>\n",
       "      <td>0.1323</td>\n",
       "    </tr>\n",
       "    <tr>\n",
       "      <th>24871</th>\n",
       "      <td>399300.SZ</td>\n",
       "      <td>000783.SZ</td>\n",
       "      <td>20181008</td>\n",
       "      <td>0.1918</td>\n",
       "    </tr>\n",
       "    <tr>\n",
       "      <th>24872</th>\n",
       "      <td>399300.SZ</td>\n",
       "      <td>000776.SZ</td>\n",
       "      <td>20181008</td>\n",
       "      <td>0.4017</td>\n",
       "    </tr>\n",
       "    <tr>\n",
       "      <th>24873</th>\n",
       "      <td>399300.SZ</td>\n",
       "      <td>000768.SZ</td>\n",
       "      <td>20181008</td>\n",
       "      <td>0.2169</td>\n",
       "    </tr>\n",
       "    <tr>\n",
       "      <th>24874</th>\n",
       "      <td>399300.SZ</td>\n",
       "      <td>000728.SZ</td>\n",
       "      <td>20181008</td>\n",
       "      <td>0.1335</td>\n",
       "    </tr>\n",
       "    <tr>\n",
       "      <th>24875</th>\n",
       "      <td>399300.SZ</td>\n",
       "      <td>000725.SZ</td>\n",
       "      <td>20181008</td>\n",
       "      <td>0.7150</td>\n",
       "    </tr>\n",
       "    <tr>\n",
       "      <th>24876</th>\n",
       "      <td>399300.SZ</td>\n",
       "      <td>000723.SZ</td>\n",
       "      <td>20181008</td>\n",
       "      <td>0.0437</td>\n",
       "    </tr>\n",
       "    <tr>\n",
       "      <th>24877</th>\n",
       "      <td>399300.SZ</td>\n",
       "      <td>000709.SZ</td>\n",
       "      <td>20181008</td>\n",
       "      <td>0.1328</td>\n",
       "    </tr>\n",
       "    <tr>\n",
       "      <th>24878</th>\n",
       "      <td>399300.SZ</td>\n",
       "      <td>000671.SZ</td>\n",
       "      <td>20181008</td>\n",
       "      <td>0.0924</td>\n",
       "    </tr>\n",
       "    <tr>\n",
       "      <th>24879</th>\n",
       "      <td>399300.SZ</td>\n",
       "      <td>000651.SZ</td>\n",
       "      <td>20181008</td>\n",
       "      <td>1.8232</td>\n",
       "    </tr>\n",
       "    <tr>\n",
       "      <th>24880</th>\n",
       "      <td>399300.SZ</td>\n",
       "      <td>000630.SZ</td>\n",
       "      <td>20181008</td>\n",
       "      <td>0.1344</td>\n",
       "    </tr>\n",
       "    <tr>\n",
       "      <th>24881</th>\n",
       "      <td>399300.SZ</td>\n",
       "      <td>000627.SZ</td>\n",
       "      <td>20181008</td>\n",
       "      <td>0.0899</td>\n",
       "    </tr>\n",
       "    <tr>\n",
       "      <th>24882</th>\n",
       "      <td>399300.SZ</td>\n",
       "      <td>000625.SZ</td>\n",
       "      <td>20181008</td>\n",
       "      <td>0.1373</td>\n",
       "    </tr>\n",
       "    <tr>\n",
       "      <th>24883</th>\n",
       "      <td>399300.SZ</td>\n",
       "      <td>000623.SZ</td>\n",
       "      <td>20181008</td>\n",
       "      <td>0.1472</td>\n",
       "    </tr>\n",
       "    <tr>\n",
       "      <th>24884</th>\n",
       "      <td>399300.SZ</td>\n",
       "      <td>000568.SZ</td>\n",
       "      <td>20181008</td>\n",
       "      <td>0.3256</td>\n",
       "    </tr>\n",
       "    <tr>\n",
       "      <th>24885</th>\n",
       "      <td>399300.SZ</td>\n",
       "      <td>000559.SZ</td>\n",
       "      <td>20181008</td>\n",
       "      <td>0.0795</td>\n",
       "    </tr>\n",
       "    <tr>\n",
       "      <th>24886</th>\n",
       "      <td>399300.SZ</td>\n",
       "      <td>000540.SZ</td>\n",
       "      <td>20181008</td>\n",
       "      <td>0.2057</td>\n",
       "    </tr>\n",
       "    <tr>\n",
       "      <th>24887</th>\n",
       "      <td>399300.SZ</td>\n",
       "      <td>000538.SZ</td>\n",
       "      <td>20181008</td>\n",
       "      <td>0.3652</td>\n",
       "    </tr>\n",
       "    <tr>\n",
       "      <th>24888</th>\n",
       "      <td>399300.SZ</td>\n",
       "      <td>000503.SZ</td>\n",
       "      <td>20181008</td>\n",
       "      <td>0.1298</td>\n",
       "    </tr>\n",
       "    <tr>\n",
       "      <th>24889</th>\n",
       "      <td>399300.SZ</td>\n",
       "      <td>000425.SZ</td>\n",
       "      <td>20181008</td>\n",
       "      <td>0.1793</td>\n",
       "    </tr>\n",
       "    <tr>\n",
       "      <th>24890</th>\n",
       "      <td>399300.SZ</td>\n",
       "      <td>000423.SZ</td>\n",
       "      <td>20181008</td>\n",
       "      <td>0.2098</td>\n",
       "    </tr>\n",
       "    <tr>\n",
       "      <th>24891</th>\n",
       "      <td>399300.SZ</td>\n",
       "      <td>000415.SZ</td>\n",
       "      <td>20181008</td>\n",
       "      <td>0.0723</td>\n",
       "    </tr>\n",
       "    <tr>\n",
       "      <th>24892</th>\n",
       "      <td>399300.SZ</td>\n",
       "      <td>000413.SZ</td>\n",
       "      <td>20181008</td>\n",
       "      <td>0.2004</td>\n",
       "    </tr>\n",
       "    <tr>\n",
       "      <th>24893</th>\n",
       "      <td>399300.SZ</td>\n",
       "      <td>000402.SZ</td>\n",
       "      <td>20181008</td>\n",
       "      <td>0.0807</td>\n",
       "    </tr>\n",
       "    <tr>\n",
       "      <th>24894</th>\n",
       "      <td>399300.SZ</td>\n",
       "      <td>000157.SZ</td>\n",
       "      <td>20181008</td>\n",
       "      <td>0.1626</td>\n",
       "    </tr>\n",
       "    <tr>\n",
       "      <th>24895</th>\n",
       "      <td>399300.SZ</td>\n",
       "      <td>000069.SZ</td>\n",
       "      <td>20181008</td>\n",
       "      <td>0.1997</td>\n",
       "    </tr>\n",
       "    <tr>\n",
       "      <th>24896</th>\n",
       "      <td>399300.SZ</td>\n",
       "      <td>000063.SZ</td>\n",
       "      <td>20181008</td>\n",
       "      <td>0.3995</td>\n",
       "    </tr>\n",
       "    <tr>\n",
       "      <th>24897</th>\n",
       "      <td>399300.SZ</td>\n",
       "      <td>000060.SZ</td>\n",
       "      <td>20181008</td>\n",
       "      <td>0.1108</td>\n",
       "    </tr>\n",
       "    <tr>\n",
       "      <th>24898</th>\n",
       "      <td>399300.SZ</td>\n",
       "      <td>000002.SZ</td>\n",
       "      <td>20181008</td>\n",
       "      <td>1.0708</td>\n",
       "    </tr>\n",
       "    <tr>\n",
       "      <th>24899</th>\n",
       "      <td>399300.SZ</td>\n",
       "      <td>000001.SZ</td>\n",
       "      <td>20181008</td>\n",
       "      <td>0.8961</td>\n",
       "    </tr>\n",
       "  </tbody>\n",
       "</table>\n",
       "<p>24900 rows × 4 columns</p>\n",
       "</div>"
      ],
      "text/plain": [
       "      index_code   con_code trade_date  weight\n",
       "0      399300.SZ  600690.SH   20150130  0.3700\n",
       "1      399300.SZ  600642.SH   20150130  0.2000\n",
       "2      399300.SZ  600395.SH   20150130  0.0700\n",
       "3      399300.SZ  000895.SZ   20150130  0.2600\n",
       "4      399300.SZ  601601.SH   20150130  1.2800\n",
       "5      399300.SZ  600549.SH   20150130  0.1300\n",
       "6      399300.SZ  002236.SZ   20150130  0.1800\n",
       "7      399300.SZ  600718.SH   20150130  0.1900\n",
       "8      399300.SZ  000768.SZ   20150130  0.4000\n",
       "9      399300.SZ  000060.SZ   20150130  0.1800\n",
       "10     399300.SZ  600267.SH   20150130  0.1000\n",
       "11     399300.SZ  600109.SH   20150130  0.4000\n",
       "12     399300.SZ  002081.SZ   20150130  0.2400\n",
       "13     399300.SZ  600703.SH   20150130  0.2500\n",
       "14     399300.SZ  000559.SZ   20150130  0.1500\n",
       "15     399300.SZ  600221.SH   20150130  0.2300\n",
       "16     399300.SZ  000898.SZ   20150130  0.1200\n",
       "17     399300.SZ  600373.SH   20150130  0.0900\n",
       "18     399300.SZ  002294.SZ   20150130  0.0900\n",
       "19     399300.SZ  601006.SH   20150130  0.7700\n",
       "20     399300.SZ  000826.SZ   20150130  0.1800\n",
       "21     399300.SZ  002673.SZ   20150130  0.1700\n",
       "22     399300.SZ  600498.SH   20150130  0.1000\n",
       "23     399300.SZ  600196.SH   20150130  0.3100\n",
       "24     399300.SZ  603699.SH   20150130  0.0400\n",
       "25     399300.SZ  601766.SH   20150130  0.7200\n",
       "26     399300.SZ  600352.SH   20150130  0.3500\n",
       "27     399300.SZ  002051.SZ   20150130  0.1000\n",
       "28     399300.SZ  000338.SZ   20150130  0.3400\n",
       "29     399300.SZ  600664.SH   20150130  0.1000\n",
       "...          ...        ...        ...     ...\n",
       "24870  399300.SZ  000786.SZ   20181008  0.1323\n",
       "24871  399300.SZ  000783.SZ   20181008  0.1918\n",
       "24872  399300.SZ  000776.SZ   20181008  0.4017\n",
       "24873  399300.SZ  000768.SZ   20181008  0.2169\n",
       "24874  399300.SZ  000728.SZ   20181008  0.1335\n",
       "24875  399300.SZ  000725.SZ   20181008  0.7150\n",
       "24876  399300.SZ  000723.SZ   20181008  0.0437\n",
       "24877  399300.SZ  000709.SZ   20181008  0.1328\n",
       "24878  399300.SZ  000671.SZ   20181008  0.0924\n",
       "24879  399300.SZ  000651.SZ   20181008  1.8232\n",
       "24880  399300.SZ  000630.SZ   20181008  0.1344\n",
       "24881  399300.SZ  000627.SZ   20181008  0.0899\n",
       "24882  399300.SZ  000625.SZ   20181008  0.1373\n",
       "24883  399300.SZ  000623.SZ   20181008  0.1472\n",
       "24884  399300.SZ  000568.SZ   20181008  0.3256\n",
       "24885  399300.SZ  000559.SZ   20181008  0.0795\n",
       "24886  399300.SZ  000540.SZ   20181008  0.2057\n",
       "24887  399300.SZ  000538.SZ   20181008  0.3652\n",
       "24888  399300.SZ  000503.SZ   20181008  0.1298\n",
       "24889  399300.SZ  000425.SZ   20181008  0.1793\n",
       "24890  399300.SZ  000423.SZ   20181008  0.2098\n",
       "24891  399300.SZ  000415.SZ   20181008  0.0723\n",
       "24892  399300.SZ  000413.SZ   20181008  0.2004\n",
       "24893  399300.SZ  000402.SZ   20181008  0.0807\n",
       "24894  399300.SZ  000157.SZ   20181008  0.1626\n",
       "24895  399300.SZ  000069.SZ   20181008  0.1997\n",
       "24896  399300.SZ  000063.SZ   20181008  0.3995\n",
       "24897  399300.SZ  000060.SZ   20181008  0.1108\n",
       "24898  399300.SZ  000002.SZ   20181008  1.0708\n",
       "24899  399300.SZ  000001.SZ   20181008  0.8961\n",
       "\n",
       "[24900 rows x 4 columns]"
      ]
     },
     "execution_count": 30,
     "metadata": {},
     "output_type": "execute_result"
    }
   ],
   "source": [
    "flag = 0\n",
    "full_df = None\n",
    "for today in pd.period_range(start='2015-01-01', end='2019-01-01', freq='D'):\n",
    "    if flag == 0:\n",
    "        start_date = today.strftime('%Y%m%d')\n",
    "        flag = 1\n",
    "    elif flag == 1:\n",
    "        end_date = today.strftime('%Y%m%d')\n",
    "        df = pro.index_weight(index_code='399300.SZ', start_date=start_date, end_date=end_date)\n",
    "        if full_df is not None:\n",
    "            full_df = pd.concat([full_df, df], ignore_index=True)\n",
    "        else:\n",
    "            full_df = df.copy()\n",
    "        if len(df) != 0:\n",
    "            today , len(df), len(full_df)\n",
    "            pass\n",
    "        flag = 0\n",
    "        time.sleep(1)\n",
    "\n",
    "len(full_df)\n",
    "full_df.to_csv('../database/HS300IDX_2015-2018.csv', index=False, encoding='utf-8')\n",
    "full_df\n",
    "\n",
    "\n",
    "\n",
    "# start_date = '20050101'\n",
    "# end_date = '20050201'\n",
    "# pro.index_weight(index_code='399300.SZ', start_date=start_date, end_date=end_date)"
   ]
  }
 ],
 "metadata": {
  "kernelspec": {
   "display_name": "Python 3",
   "language": "python",
   "name": "python3"
  },
  "language_info": {
   "codemirror_mode": {
    "name": "ipython",
    "version": 3
   },
   "file_extension": ".py",
   "mimetype": "text/x-python",
   "name": "python",
   "nbconvert_exporter": "python",
   "pygments_lexer": "ipython3",
   "version": "3.6.5"
  }
 },
 "nbformat": 4,
 "nbformat_minor": 2
}
