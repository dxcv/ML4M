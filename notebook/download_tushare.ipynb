{
 "cells": [
  {
   "cell_type": "code",
   "execution_count": 1,
   "metadata": {
    "scrolled": false
   },
   "outputs": [
    {
     "data": {
      "text/html": [
       "\n",
       "<script src=\"https://code.jquery.com/jquery-3.1.1.min.js\"></script>\n",
       "<script src=\"https://code.highcharts.com/stock/highstock.js\"></script>\n",
       "<script src=\"https://code.highcharts.com/stock/modules/exporting.js\"></script>\n",
       "<script src=\"https://code.highcharts.com/stock/modules/export-data.js\"></script>\n"
      ],
      "text/plain": [
       "<IPython.core.display.HTML object>"
      ]
     },
     "metadata": {},
     "output_type": "display_data"
    },
    {
     "name": "stderr",
     "output_type": "stream",
     "text": [
      "d:\\python3\\lib\\site-packages\\tushare\\stock\\classifying.py:266: FutureWarning: the 'parse_cols' keyword is deprecated, use 'usecols' instead\n",
      "  ct.PAGES['sz50b']), parse_cols=[0, 4, 5])\n"
     ]
    },
    {
     "data": {
      "text/plain": [
       "300"
      ]
     },
     "execution_count": 1,
     "metadata": {},
     "output_type": "execute_result"
    }
   ],
   "source": [
    "import os\n",
    "import sys\n",
    "sys.path.append(os.path.abspath(os.path.join(os.getcwd(), '..')))\n",
    "\n",
    "import pandas as pd\n",
    "pd.core.common.is_list_like = pd.api.types.is_list_like\n",
    "try:\n",
    "    import empyrical as emp\n",
    "except:\n",
    "    emp = None\n",
    "import tushare as ts\n",
    "import time\n",
    "import random\n",
    "# from concurrent.futures import ProcessPoolExecutor\n",
    "\n",
    "from common.log import *\n",
    "from common.config import Config\n",
    "from spider.spider_nasdaq import Spider_nasdaq\n",
    "from spider.spider_coinmarketcap import Spider_coinmarketcap\n",
    "\n",
    "from IPython.core.interactiveshell import InteractiveShell\n",
    "InteractiveShell.ast_node_interactivity = 'all'\n",
    "\n",
    "from pandas_highcharts.core import serialize\n",
    "from pandas_highcharts.display import display_charts\n",
    "\n",
    "CONF = Config('../conf/secret.yaml').data[0]\n",
    "ts_token = CONF['TUSHARE']['TOKEN']\n",
    "ts.set_token(ts_token)\n",
    "pro = ts.pro_api()\n",
    "\n",
    "CONF = Config().data[0]\n",
    "MONGODB = CONF['MONGODB']\n",
    "NASDAQ = CONF['NASDAQ']\n",
    "CRYPTOCURRENCY = CONF['CRYPTOCURRENCY']\n",
    "CRYPTOCURRENCY = list(CRYPTOCURRENCY.keys())\n",
    "NASDAQ100 = CONF['NASDAQ100']\n",
    "HS300 = list(ts.get_hs300s()['code'])\n",
    "ZZ500 = list(ts.get_zz500s()['code'])\n",
    "SZ50 = list(ts.get_sz50s()['code'])\n",
    "HSALL = list(set(ts.get_stock_basics().index) - set(['601162', '002940', '002939', '300674', '002941']))\n",
    "HSALL = HSALL + ['000866', '600001', '000956']\n",
    "\n",
    "BENCHMARK = '399300'\n",
    "# TARGET = ['399300']\n",
    "TARGET = HS300\n",
    "# BENCHMARK = '000905'\n",
    "# TARGET = ZZ500\n",
    "# BENCHMARK = '000016'\n",
    "# TARGET = SZ50\n",
    "# TARGET = HSALL\n",
    "\n",
    "# BENCHMARK = 'NDX'\n",
    "# TARGET = NASDAQ100\n",
    "\n",
    "# BENCHMARK = 'BITCOIN'\n",
    "# TARGET = CRYPTOCURRENCY\n",
    "# BENCHMARK = 'EOS'\n",
    "# TARGET = ['EOS']\n",
    "\n",
    "ALL_TARGET = TARGET[:]\n",
    "\n",
    "pd\n",
    "len(TARGET)\n",
    "# TARGET"
   ]
  },
  {
   "cell_type": "code",
   "execution_count": null,
   "metadata": {},
   "outputs": [],
   "source": [
    "SZ50_20121212 = ['600000', '600010', '600015', '600016', '600019', '600028',\n",
    " '600030', '600031', '600036', '600048', '600050', '600058',\n",
    " '600068', '600089', '600104', '600111', '600188', '600348',\n",
    " '600362', '600383', '600489', '600519', '600547', '600585',\n",
    " '600837', '600900', '601006', '601088', '601111', '601118',\n",
    " '601166', '601168', '601169', '601288', '601299', '601318',\n",
    " '601328', '601398', '601600', '601601', '601628', '601668',\n",
    " '601699', '601766', '601818', '601857', '601898', '601899',\n",
    " '601958', '601989']\n",
    "\n",
    "SZ50_20151204 = ['600000', '600010', '600015', '600016', '600018', '600028',\n",
    "'600030', '600036', '600048', '600050', '600111', '600104',\n",
    "'600109', '600111', '600150', '600256', '600406', '600518',\n",
    "'600519', '600583', '600585', '600637', '600690', '600837',\n",
    "'600887', '600893', '600958', '600999', '601006', '601088',\n",
    "'601166', '601169', '601186', '601288', '601318', '601328',\n",
    "'601390', '601398', '601601', '601628', '601668', '601688',\n",
    "'601766', '601800', '601818', '601857', '601901', '601988',\n",
    "'601989', '601998']\n",
    "\n",
    "SZ50_20160325 = ['600000', '600010', '600015', '600016', '600018', '600028',\n",
    "'600030', '600036', '600048', '600050', '600104', '600109',\n",
    "'600111', '600150', '600518', '600519', '600585', '600637',\n",
    "'600795', '600837', '600887', '600893', '600958', '600999',\n",
    "'601006', '601088', '601166', '601169', '601186', '601211',\n",
    "'601288', '601318', '601328', '601336', '601390', '601398',\n",
    "'601601', '601628', '601668', '601669', '601688', '601766',\n",
    "'601800', '601818', '601857', '601901', '601985', '601988',\n",
    "'601989', '601998']\n",
    "\n",
    "SZ50_20161212 = ['600000', '600016', '600028', '600029', '600030', '600036',\n",
    "'600048', '600050', '600100', '600104', '600109', '600111',\n",
    "'600485', '600518', '600519', '600547', '600637', '600837',\n",
    "'600887', '600893', '600958', '600999', '601006', '601088',\n",
    "'601166', '601169', '601186', '601198', '601211', '601288',\n",
    "'601318', '601328', '601336', '601377', '601390', '601398',\n",
    "'601601', '601628', '601668', '601688', '601766', '601788',\n",
    "'601800', '601818', '601857', '601901', '601985', '601988',\n",
    "'601989', '601998']\n",
    "\n",
    "SZ50_20171213 = ['600000', '600016', '600019', '600028', '600029', '600030',\n",
    "'600036', '600048', '600050', '600104', '600111', '600309',\n",
    "'600340', '600518', '600519', '600547', '600606', '600837',\n",
    "'600887', '600919', '600958', '600999', '601006', '601088',\n",
    "'601166', '601169', '601186', '601211', '601229', '601288',\n",
    "'601318', '601328', '601336', '601390', '601398', '601601',\n",
    "'601628', '601668', '601669', '601688', '601766', '601800',\n",
    "'601818', '601857', '601878', '601881', '601985', '601988',\n",
    "'601989', '603993']\n",
    "\n",
    "FULL_SZ50 = SZ50_20121212 + SZ50_20151204 + SZ50_20160325 + SZ50_20161212 + SZ50_20171213 + list(ts.get_sz50s()['code'])\n",
    "FULL_SZ50 = list(set(FULL_SZ50))\n",
    "\n",
    "# TARGET = FULL_SZ50\n",
    "# ALL_TARGET = TARGET[:]"
   ]
  },
  {
   "cell_type": "code",
   "execution_count": null,
   "metadata": {
    "scrolled": false
   },
   "outputs": [],
   "source": [
    "%%time\n",
    "\n",
    "IS_DOWNLOAD_DATA = False\n",
    "spider_n = Spider_nasdaq()\n",
    "spider_c = Spider_coinmarketcap()\n",
    "timeframe = '10y'\n",
    "ignore = True\n",
    "\n",
    "for symbol in TARGET + [BENCHMARK]:\n",
    "    if not IS_DOWNLOAD_DATA:\n",
    "        break\n",
    "        \n",
    "    print(symbol)\n",
    "\n",
    "    # 沪深300指数\n",
    "    if symbol in ['399300', '000905', '000016']:\n",
    "        df = ts.get_k_data(code=symbol, index=True, start='2005-01-01', end=time.strftime('%Y-%m-%d'))\n",
    "        datafile = '../database/market/%s.csv' % symbol\n",
    "        df.to_csv(datafile, index=False, encoding='utf-8')\n",
    "        \n",
    "    # A股\n",
    "    elif symbol in HS300 or symbol in ZZ500 or symbol in HSALL or symbol in FULL_SZ50:\n",
    "        df = ts.get_k_data(code=symbol, ktype='D', autype='qfq', index=False, start='2005-01-01', end=time.strftime('%Y-%m-%d'))\n",
    "        datafile = '../database/market/%s.csv' % symbol\n",
    "        df.to_csv(datafile, index=False, encoding='utf-8')\n",
    "        \n",
    "    # NASDAQ\n",
    "    elif symbol in NASDAQ100:\n",
    "        datafile = None\n",
    "        while datafile is None:\n",
    "            try:\n",
    "                datafile = spider_n.get_stock_data(symbol, timeframe)\n",
    "            except:\n",
    "                time.sleep(5)\n",
    "    \n",
    "    # CRYPTOCURRENCY\n",
    "    elif symbol in CRYPTOCURRENCY:\n",
    "        datafile = spider_c.get_coin_data(symbol, start_date='20100101', end_date=time.strftime('%Y%m%d'))\n",
    "        \n",
    "#     print(datafile)\n",
    "    time.sleep(1)"
   ]
  },
  {
   "cell_type": "code",
   "execution_count": null,
   "metadata": {},
   "outputs": [],
   "source": [
    "full_df.to_csv('../database/HS300IDX_2007-2009.csv', index=False, encoding='utf-8')"
   ]
  },
  {
   "cell_type": "code",
   "execution_count": 5,
   "metadata": {},
   "outputs": [],
   "source": [
    "# pro.index_basic(market='CSI')"
   ]
  },
  {
   "cell_type": "code",
   "execution_count": 12,
   "metadata": {},
   "outputs": [
    {
     "data": {
      "text/html": [
       "<div>\n",
       "<style scoped>\n",
       "    .dataframe tbody tr th:only-of-type {\n",
       "        vertical-align: middle;\n",
       "    }\n",
       "\n",
       "    .dataframe tbody tr th {\n",
       "        vertical-align: top;\n",
       "    }\n",
       "\n",
       "    .dataframe thead th {\n",
       "        text-align: right;\n",
       "    }\n",
       "</style>\n",
       "<table border=\"1\" class=\"dataframe\">\n",
       "  <thead>\n",
       "    <tr style=\"text-align: right;\">\n",
       "      <th></th>\n",
       "      <th>index_code</th>\n",
       "      <th>con_code</th>\n",
       "      <th>trade_date</th>\n",
       "      <th>weight</th>\n",
       "    </tr>\n",
       "  </thead>\n",
       "  <tbody>\n",
       "  </tbody>\n",
       "</table>\n",
       "</div>"
      ],
      "text/plain": [
       "Empty DataFrame\n",
       "Columns: [index_code, con_code, trade_date, weight]\n",
       "Index: []"
      ]
     },
     "execution_count": 12,
     "metadata": {},
     "output_type": "execute_result"
    }
   ],
   "source": [
    "pro.index_weight(index_code='000905.SH', start_date='2005-01-01', end_date='2007-01-01')"
   ]
  },
  {
   "cell_type": "code",
   "execution_count": 7,
   "metadata": {},
   "outputs": [],
   "source": [
    "# ts.get_k_data(code='000905', index=True, start='2005-01-01', end=time.strftime('%Y-%m-%d'))"
   ]
  },
  {
   "cell_type": "code",
   "execution_count": 15,
   "metadata": {
    "scrolled": false
   },
   "outputs": [
    {
     "data": {
      "text/plain": [
       "(Period('2015-01-30', 'D'), 500, 500)"
      ]
     },
     "execution_count": 15,
     "metadata": {},
     "output_type": "execute_result"
    },
    {
     "data": {
      "text/plain": [
       "(Period('2015-02-27', 'D'), 500, 1000)"
      ]
     },
     "execution_count": 15,
     "metadata": {},
     "output_type": "execute_result"
    },
    {
     "data": {
      "text/plain": [
       "(Period('2015-03-31', 'D'), 500, 1500)"
      ]
     },
     "execution_count": 15,
     "metadata": {},
     "output_type": "execute_result"
    },
    {
     "data": {
      "text/plain": [
       "(Period('2015-04-30', 'D'), 500, 2000)"
      ]
     },
     "execution_count": 15,
     "metadata": {},
     "output_type": "execute_result"
    },
    {
     "data": {
      "text/plain": [
       "(Period('2015-05-30', 'D'), 500, 2500)"
      ]
     },
     "execution_count": 15,
     "metadata": {},
     "output_type": "execute_result"
    },
    {
     "data": {
      "text/plain": [
       "(Period('2015-07-01', 'D'), 500, 3000)"
      ]
     },
     "execution_count": 15,
     "metadata": {},
     "output_type": "execute_result"
    },
    {
     "data": {
      "text/plain": [
       "(Period('2015-07-31', 'D'), 500, 3500)"
      ]
     },
     "execution_count": 15,
     "metadata": {},
     "output_type": "execute_result"
    },
    {
     "data": {
      "text/plain": [
       "(Period('2015-09-01', 'D'), 500, 4000)"
      ]
     },
     "execution_count": 15,
     "metadata": {},
     "output_type": "execute_result"
    },
    {
     "data": {
      "text/plain": [
       "(Period('2015-10-01', 'D'), 500, 4500)"
      ]
     },
     "execution_count": 15,
     "metadata": {},
     "output_type": "execute_result"
    },
    {
     "data": {
      "text/plain": [
       "(Period('2015-10-31', 'D'), 500, 5000)"
      ]
     },
     "execution_count": 15,
     "metadata": {},
     "output_type": "execute_result"
    },
    {
     "data": {
      "text/plain": [
       "(Period('2015-11-30', 'D'), 500, 5500)"
      ]
     },
     "execution_count": 15,
     "metadata": {},
     "output_type": "execute_result"
    },
    {
     "data": {
      "text/plain": [
       "(Period('2016-01-01', 'D'), 500, 6000)"
      ]
     },
     "execution_count": 15,
     "metadata": {},
     "output_type": "execute_result"
    },
    {
     "data": {
      "text/plain": [
       "(Period('2016-01-29', 'D'), 500, 6500)"
      ]
     },
     "execution_count": 15,
     "metadata": {},
     "output_type": "execute_result"
    },
    {
     "data": {
      "text/plain": [
       "(Period('2016-03-01', 'D'), 500, 7000)"
      ]
     },
     "execution_count": 15,
     "metadata": {},
     "output_type": "execute_result"
    },
    {
     "data": {
      "text/plain": [
       "(Period('2016-03-31', 'D'), 500, 7500)"
      ]
     },
     "execution_count": 15,
     "metadata": {},
     "output_type": "execute_result"
    },
    {
     "data": {
      "text/plain": [
       "(Period('2016-04-30', 'D'), 500, 8000)"
      ]
     },
     "execution_count": 15,
     "metadata": {},
     "output_type": "execute_result"
    },
    {
     "data": {
      "text/plain": [
       "(Period('2016-06-01', 'D'), 500, 8500)"
      ]
     },
     "execution_count": 15,
     "metadata": {},
     "output_type": "execute_result"
    },
    {
     "data": {
      "text/plain": [
       "(Period('2016-07-01', 'D'), 500, 9000)"
      ]
     },
     "execution_count": 15,
     "metadata": {},
     "output_type": "execute_result"
    },
    {
     "data": {
      "text/plain": [
       "(Period('2016-07-29', 'D'), 500, 9500)"
      ]
     },
     "execution_count": 15,
     "metadata": {},
     "output_type": "execute_result"
    },
    {
     "data": {
      "text/plain": [
       "(Period('2016-09-01', 'D'), 500, 10000)"
      ]
     },
     "execution_count": 15,
     "metadata": {},
     "output_type": "execute_result"
    },
    {
     "data": {
      "text/plain": [
       "(Period('2016-10-01', 'D'), 500, 10500)"
      ]
     },
     "execution_count": 15,
     "metadata": {},
     "output_type": "execute_result"
    },
    {
     "data": {
      "text/plain": [
       "(Period('2016-10-31', 'D'), 500, 11000)"
      ]
     },
     "execution_count": 15,
     "metadata": {},
     "output_type": "execute_result"
    },
    {
     "data": {
      "text/plain": [
       "(Period('2016-11-30', 'D'), 500, 11500)"
      ]
     },
     "execution_count": 15,
     "metadata": {},
     "output_type": "execute_result"
    },
    {
     "data": {
      "text/plain": [
       "(Period('2016-12-30', 'D'), 500, 12000)"
      ]
     },
     "execution_count": 15,
     "metadata": {},
     "output_type": "execute_result"
    },
    {
     "data": {
      "text/plain": [
       "(Period('2017-01-27', 'D'), 500, 12500)"
      ]
     },
     "execution_count": 15,
     "metadata": {},
     "output_type": "execute_result"
    },
    {
     "data": {
      "text/plain": [
       "(Period('2017-02-28', 'D'), 500, 13000)"
      ]
     },
     "execution_count": 15,
     "metadata": {},
     "output_type": "execute_result"
    },
    {
     "data": {
      "text/plain": [
       "(Period('2017-04-01', 'D'), 500, 13500)"
      ]
     },
     "execution_count": 15,
     "metadata": {},
     "output_type": "execute_result"
    },
    {
     "data": {
      "text/plain": [
       "(Period('2017-04-29', 'D'), 500, 14000)"
      ]
     },
     "execution_count": 15,
     "metadata": {},
     "output_type": "execute_result"
    },
    {
     "data": {
      "text/plain": [
       "(Period('2017-05-31', 'D'), 500, 14500)"
      ]
     },
     "execution_count": 15,
     "metadata": {},
     "output_type": "execute_result"
    },
    {
     "data": {
      "text/plain": [
       "(Period('2017-06-30', 'D'), 500, 15000)"
      ]
     },
     "execution_count": 15,
     "metadata": {},
     "output_type": "execute_result"
    },
    {
     "data": {
      "text/plain": [
       "(Period('2017-08-01', 'D'), 500, 15500)"
      ]
     },
     "execution_count": 15,
     "metadata": {},
     "output_type": "execute_result"
    },
    {
     "data": {
      "text/plain": [
       "(Period('2017-08-31', 'D'), 500, 16000)"
      ]
     },
     "execution_count": 15,
     "metadata": {},
     "output_type": "execute_result"
    },
    {
     "data": {
      "text/plain": [
       "(Period('2017-09-30', 'D'), 500, 16500)"
      ]
     },
     "execution_count": 15,
     "metadata": {},
     "output_type": "execute_result"
    },
    {
     "data": {
      "text/plain": [
       "(Period('2017-11-01', 'D'), 500, 17000)"
      ]
     },
     "execution_count": 15,
     "metadata": {},
     "output_type": "execute_result"
    },
    {
     "data": {
      "text/plain": [
       "(Period('2017-12-01', 'D'), 500, 17500)"
      ]
     },
     "execution_count": 15,
     "metadata": {},
     "output_type": "execute_result"
    },
    {
     "data": {
      "text/plain": [
       "(Period('2017-12-29', 'D'), 500, 18000)"
      ]
     },
     "execution_count": 15,
     "metadata": {},
     "output_type": "execute_result"
    },
    {
     "data": {
      "text/plain": [
       "(Period('2018-02-01', 'D'), 500, 18500)"
      ]
     },
     "execution_count": 15,
     "metadata": {},
     "output_type": "execute_result"
    },
    {
     "data": {
      "text/plain": [
       "(Period('2018-03-01', 'D'), 500, 19000)"
      ]
     },
     "execution_count": 15,
     "metadata": {},
     "output_type": "execute_result"
    },
    {
     "data": {
      "text/plain": [
       "(Period('2018-03-31', 'D'), 500, 19500)"
      ]
     },
     "execution_count": 15,
     "metadata": {},
     "output_type": "execute_result"
    },
    {
     "data": {
      "text/plain": [
       "(Period('2018-04-28', 'D'), 500, 20000)"
      ]
     },
     "execution_count": 15,
     "metadata": {},
     "output_type": "execute_result"
    },
    {
     "data": {
      "text/plain": [
       "(Period('2018-06-01', 'D'), 500, 20500)"
      ]
     },
     "execution_count": 15,
     "metadata": {},
     "output_type": "execute_result"
    },
    {
     "data": {
      "text/plain": [
       "(Period('2018-06-29', 'D'), 500, 21000)"
      ]
     },
     "execution_count": 15,
     "metadata": {},
     "output_type": "execute_result"
    },
    {
     "data": {
      "text/plain": [
       "(Period('2018-07-31', 'D'), 500, 21500)"
      ]
     },
     "execution_count": 15,
     "metadata": {},
     "output_type": "execute_result"
    },
    {
     "data": {
      "text/plain": [
       "(Period('2018-09-01', 'D'), 500, 22000)"
      ]
     },
     "execution_count": 15,
     "metadata": {},
     "output_type": "execute_result"
    },
    {
     "data": {
      "text/plain": [
       "(Period('2018-09-29', 'D'), 500, 22500)"
      ]
     },
     "execution_count": 15,
     "metadata": {},
     "output_type": "execute_result"
    },
    {
     "data": {
      "text/plain": [
       "22500"
      ]
     },
     "execution_count": 15,
     "metadata": {},
     "output_type": "execute_result"
    },
    {
     "data": {
      "text/html": [
       "<div>\n",
       "<style scoped>\n",
       "    .dataframe tbody tr th:only-of-type {\n",
       "        vertical-align: middle;\n",
       "    }\n",
       "\n",
       "    .dataframe tbody tr th {\n",
       "        vertical-align: top;\n",
       "    }\n",
       "\n",
       "    .dataframe thead th {\n",
       "        text-align: right;\n",
       "    }\n",
       "</style>\n",
       "<table border=\"1\" class=\"dataframe\">\n",
       "  <thead>\n",
       "    <tr style=\"text-align: right;\">\n",
       "      <th></th>\n",
       "      <th>index_code</th>\n",
       "      <th>con_code</th>\n",
       "      <th>trade_date</th>\n",
       "      <th>weight</th>\n",
       "    </tr>\n",
       "  </thead>\n",
       "  <tbody>\n",
       "    <tr>\n",
       "      <th>0</th>\n",
       "      <td>000905.SH</td>\n",
       "      <td>000988.SZ</td>\n",
       "      <td>20150130</td>\n",
       "      <td>0.260</td>\n",
       "    </tr>\n",
       "    <tr>\n",
       "      <th>1</th>\n",
       "      <td>000905.SH</td>\n",
       "      <td>002004.SZ</td>\n",
       "      <td>20150130</td>\n",
       "      <td>0.260</td>\n",
       "    </tr>\n",
       "    <tr>\n",
       "      <th>2</th>\n",
       "      <td>000905.SH</td>\n",
       "      <td>600180.SH</td>\n",
       "      <td>20150130</td>\n",
       "      <td>0.140</td>\n",
       "    </tr>\n",
       "    <tr>\n",
       "      <th>3</th>\n",
       "      <td>000905.SH</td>\n",
       "      <td>600699.SH</td>\n",
       "      <td>20150130</td>\n",
       "      <td>0.200</td>\n",
       "    </tr>\n",
       "    <tr>\n",
       "      <th>4</th>\n",
       "      <td>000905.SH</td>\n",
       "      <td>600151.SH</td>\n",
       "      <td>20150130</td>\n",
       "      <td>0.260</td>\n",
       "    </tr>\n",
       "    <tr>\n",
       "      <th>5</th>\n",
       "      <td>000905.SH</td>\n",
       "      <td>002183.SZ</td>\n",
       "      <td>20150130</td>\n",
       "      <td>0.360</td>\n",
       "    </tr>\n",
       "    <tr>\n",
       "      <th>6</th>\n",
       "      <td>000905.SH</td>\n",
       "      <td>000541.SZ</td>\n",
       "      <td>20150130</td>\n",
       "      <td>0.190</td>\n",
       "    </tr>\n",
       "    <tr>\n",
       "      <th>7</th>\n",
       "      <td>000905.SH</td>\n",
       "      <td>000050.SZ</td>\n",
       "      <td>20150130</td>\n",
       "      <td>0.260</td>\n",
       "    </tr>\n",
       "    <tr>\n",
       "      <th>8</th>\n",
       "      <td>000905.SH</td>\n",
       "      <td>002254.SZ</td>\n",
       "      <td>20150130</td>\n",
       "      <td>0.160</td>\n",
       "    </tr>\n",
       "    <tr>\n",
       "      <th>9</th>\n",
       "      <td>000905.SH</td>\n",
       "      <td>600161.SH</td>\n",
       "      <td>20150130</td>\n",
       "      <td>0.260</td>\n",
       "    </tr>\n",
       "    <tr>\n",
       "      <th>10</th>\n",
       "      <td>000905.SH</td>\n",
       "      <td>600017.SH</td>\n",
       "      <td>20150130</td>\n",
       "      <td>0.250</td>\n",
       "    </tr>\n",
       "    <tr>\n",
       "      <th>11</th>\n",
       "      <td>000905.SH</td>\n",
       "      <td>000650.SZ</td>\n",
       "      <td>20150130</td>\n",
       "      <td>0.190</td>\n",
       "    </tr>\n",
       "    <tr>\n",
       "      <th>12</th>\n",
       "      <td>000905.SH</td>\n",
       "      <td>002083.SZ</td>\n",
       "      <td>20150130</td>\n",
       "      <td>0.110</td>\n",
       "    </tr>\n",
       "    <tr>\n",
       "      <th>13</th>\n",
       "      <td>000905.SH</td>\n",
       "      <td>600021.SH</td>\n",
       "      <td>20150130</td>\n",
       "      <td>0.260</td>\n",
       "    </tr>\n",
       "    <tr>\n",
       "      <th>14</th>\n",
       "      <td>000905.SH</td>\n",
       "      <td>601099.SH</td>\n",
       "      <td>20150130</td>\n",
       "      <td>0.980</td>\n",
       "    </tr>\n",
       "    <tr>\n",
       "      <th>15</th>\n",
       "      <td>000905.SH</td>\n",
       "      <td>002025.SZ</td>\n",
       "      <td>20150130</td>\n",
       "      <td>0.140</td>\n",
       "    </tr>\n",
       "    <tr>\n",
       "      <th>16</th>\n",
       "      <td>000905.SH</td>\n",
       "      <td>600456.SH</td>\n",
       "      <td>20150130</td>\n",
       "      <td>0.130</td>\n",
       "    </tr>\n",
       "    <tr>\n",
       "      <th>17</th>\n",
       "      <td>000905.SH</td>\n",
       "      <td>600201.SH</td>\n",
       "      <td>20150130</td>\n",
       "      <td>0.450</td>\n",
       "    </tr>\n",
       "    <tr>\n",
       "      <th>18</th>\n",
       "      <td>000905.SH</td>\n",
       "      <td>600869.SH</td>\n",
       "      <td>20150130</td>\n",
       "      <td>0.070</td>\n",
       "    </tr>\n",
       "    <tr>\n",
       "      <th>19</th>\n",
       "      <td>000905.SH</td>\n",
       "      <td>000703.SZ</td>\n",
       "      <td>20150130</td>\n",
       "      <td>0.100</td>\n",
       "    </tr>\n",
       "    <tr>\n",
       "      <th>20</th>\n",
       "      <td>000905.SH</td>\n",
       "      <td>002179.SZ</td>\n",
       "      <td>20150130</td>\n",
       "      <td>0.210</td>\n",
       "    </tr>\n",
       "    <tr>\n",
       "      <th>21</th>\n",
       "      <td>000905.SH</td>\n",
       "      <td>603077.SH</td>\n",
       "      <td>20150130</td>\n",
       "      <td>0.110</td>\n",
       "    </tr>\n",
       "    <tr>\n",
       "      <th>22</th>\n",
       "      <td>000905.SH</td>\n",
       "      <td>600616.SH</td>\n",
       "      <td>20150130</td>\n",
       "      <td>0.100</td>\n",
       "    </tr>\n",
       "    <tr>\n",
       "      <th>23</th>\n",
       "      <td>000905.SH</td>\n",
       "      <td>600138.SH</td>\n",
       "      <td>20150130</td>\n",
       "      <td>0.300</td>\n",
       "    </tr>\n",
       "    <tr>\n",
       "      <th>24</th>\n",
       "      <td>000905.SH</td>\n",
       "      <td>002285.SZ</td>\n",
       "      <td>20150130</td>\n",
       "      <td>0.270</td>\n",
       "    </tr>\n",
       "    <tr>\n",
       "      <th>25</th>\n",
       "      <td>000905.SH</td>\n",
       "      <td>000596.SZ</td>\n",
       "      <td>20150130</td>\n",
       "      <td>0.130</td>\n",
       "    </tr>\n",
       "    <tr>\n",
       "      <th>26</th>\n",
       "      <td>000905.SH</td>\n",
       "      <td>600433.SH</td>\n",
       "      <td>20150130</td>\n",
       "      <td>0.410</td>\n",
       "    </tr>\n",
       "    <tr>\n",
       "      <th>27</th>\n",
       "      <td>000905.SH</td>\n",
       "      <td>002690.SZ</td>\n",
       "      <td>20150130</td>\n",
       "      <td>0.210</td>\n",
       "    </tr>\n",
       "    <tr>\n",
       "      <th>28</th>\n",
       "      <td>000905.SH</td>\n",
       "      <td>002216.SZ</td>\n",
       "      <td>20150130</td>\n",
       "      <td>0.120</td>\n",
       "    </tr>\n",
       "    <tr>\n",
       "      <th>29</th>\n",
       "      <td>000905.SH</td>\n",
       "      <td>600521.SH</td>\n",
       "      <td>20150130</td>\n",
       "      <td>0.230</td>\n",
       "    </tr>\n",
       "    <tr>\n",
       "      <th>...</th>\n",
       "      <td>...</td>\n",
       "      <td>...</td>\n",
       "      <td>...</td>\n",
       "      <td>...</td>\n",
       "    </tr>\n",
       "    <tr>\n",
       "      <th>22470</th>\n",
       "      <td>000905.SH</td>\n",
       "      <td>000541.SZ</td>\n",
       "      <td>20180928</td>\n",
       "      <td>0.119</td>\n",
       "    </tr>\n",
       "    <tr>\n",
       "      <th>22471</th>\n",
       "      <td>000905.SH</td>\n",
       "      <td>000536.SZ</td>\n",
       "      <td>20180928</td>\n",
       "      <td>0.103</td>\n",
       "    </tr>\n",
       "    <tr>\n",
       "      <th>22472</th>\n",
       "      <td>000905.SH</td>\n",
       "      <td>000528.SZ</td>\n",
       "      <td>20180928</td>\n",
       "      <td>0.262</td>\n",
       "    </tr>\n",
       "    <tr>\n",
       "      <th>22473</th>\n",
       "      <td>000905.SH</td>\n",
       "      <td>000519.SZ</td>\n",
       "      <td>20180928</td>\n",
       "      <td>0.165</td>\n",
       "    </tr>\n",
       "    <tr>\n",
       "      <th>22474</th>\n",
       "      <td>000905.SH</td>\n",
       "      <td>000513.SZ</td>\n",
       "      <td>20180928</td>\n",
       "      <td>0.293</td>\n",
       "    </tr>\n",
       "    <tr>\n",
       "      <th>22475</th>\n",
       "      <td>000905.SH</td>\n",
       "      <td>000501.SZ</td>\n",
       "      <td>20180928</td>\n",
       "      <td>0.124</td>\n",
       "    </tr>\n",
       "    <tr>\n",
       "      <th>22476</th>\n",
       "      <td>000905.SH</td>\n",
       "      <td>000488.SZ</td>\n",
       "      <td>20180928</td>\n",
       "      <td>0.262</td>\n",
       "    </tr>\n",
       "    <tr>\n",
       "      <th>22477</th>\n",
       "      <td>000905.SH</td>\n",
       "      <td>000426.SZ</td>\n",
       "      <td>20180928</td>\n",
       "      <td>0.133</td>\n",
       "    </tr>\n",
       "    <tr>\n",
       "      <th>22478</th>\n",
       "      <td>000905.SH</td>\n",
       "      <td>000418.SZ</td>\n",
       "      <td>20180928</td>\n",
       "      <td>0.313</td>\n",
       "    </tr>\n",
       "    <tr>\n",
       "      <th>22479</th>\n",
       "      <td>000905.SH</td>\n",
       "      <td>000401.SZ</td>\n",
       "      <td>20180928</td>\n",
       "      <td>0.311</td>\n",
       "    </tr>\n",
       "    <tr>\n",
       "      <th>22480</th>\n",
       "      <td>000905.SH</td>\n",
       "      <td>000400.SZ</td>\n",
       "      <td>20180928</td>\n",
       "      <td>0.170</td>\n",
       "    </tr>\n",
       "    <tr>\n",
       "      <th>22481</th>\n",
       "      <td>000905.SH</td>\n",
       "      <td>000158.SZ</td>\n",
       "      <td>20180928</td>\n",
       "      <td>0.114</td>\n",
       "    </tr>\n",
       "    <tr>\n",
       "      <th>22482</th>\n",
       "      <td>000905.SH</td>\n",
       "      <td>000156.SZ</td>\n",
       "      <td>20180928</td>\n",
       "      <td>0.156</td>\n",
       "    </tr>\n",
       "    <tr>\n",
       "      <th>22483</th>\n",
       "      <td>000905.SH</td>\n",
       "      <td>000090.SZ</td>\n",
       "      <td>20180928</td>\n",
       "      <td>0.128</td>\n",
       "    </tr>\n",
       "    <tr>\n",
       "      <th>22484</th>\n",
       "      <td>000905.SH</td>\n",
       "      <td>000089.SZ</td>\n",
       "      <td>20180928</td>\n",
       "      <td>0.264</td>\n",
       "    </tr>\n",
       "    <tr>\n",
       "      <th>22485</th>\n",
       "      <td>000905.SH</td>\n",
       "      <td>000078.SZ</td>\n",
       "      <td>20180928</td>\n",
       "      <td>0.190</td>\n",
       "    </tr>\n",
       "    <tr>\n",
       "      <th>22486</th>\n",
       "      <td>000905.SH</td>\n",
       "      <td>000066.SZ</td>\n",
       "      <td>20180928</td>\n",
       "      <td>0.354</td>\n",
       "    </tr>\n",
       "    <tr>\n",
       "      <th>22487</th>\n",
       "      <td>000905.SH</td>\n",
       "      <td>000062.SZ</td>\n",
       "      <td>20180928</td>\n",
       "      <td>0.133</td>\n",
       "    </tr>\n",
       "    <tr>\n",
       "      <th>22488</th>\n",
       "      <td>000905.SH</td>\n",
       "      <td>000061.SZ</td>\n",
       "      <td>20180928</td>\n",
       "      <td>0.105</td>\n",
       "    </tr>\n",
       "    <tr>\n",
       "      <th>22489</th>\n",
       "      <td>000905.SH</td>\n",
       "      <td>000049.SZ</td>\n",
       "      <td>20180928</td>\n",
       "      <td>0.094</td>\n",
       "    </tr>\n",
       "    <tr>\n",
       "      <th>22490</th>\n",
       "      <td>000905.SH</td>\n",
       "      <td>000039.SZ</td>\n",
       "      <td>20180928</td>\n",
       "      <td>0.319</td>\n",
       "    </tr>\n",
       "    <tr>\n",
       "      <th>22491</th>\n",
       "      <td>000905.SH</td>\n",
       "      <td>000031.SZ</td>\n",
       "      <td>20180928</td>\n",
       "      <td>0.191</td>\n",
       "    </tr>\n",
       "    <tr>\n",
       "      <th>22492</th>\n",
       "      <td>000905.SH</td>\n",
       "      <td>000028.SZ</td>\n",
       "      <td>20180928</td>\n",
       "      <td>0.208</td>\n",
       "    </tr>\n",
       "    <tr>\n",
       "      <th>22493</th>\n",
       "      <td>000905.SH</td>\n",
       "      <td>000027.SZ</td>\n",
       "      <td>20180928</td>\n",
       "      <td>0.197</td>\n",
       "    </tr>\n",
       "    <tr>\n",
       "      <th>22494</th>\n",
       "      <td>000905.SH</td>\n",
       "      <td>000025.SZ</td>\n",
       "      <td>20180928</td>\n",
       "      <td>0.048</td>\n",
       "    </tr>\n",
       "    <tr>\n",
       "      <th>22495</th>\n",
       "      <td>000905.SH</td>\n",
       "      <td>000021.SZ</td>\n",
       "      <td>20180928</td>\n",
       "      <td>0.137</td>\n",
       "    </tr>\n",
       "    <tr>\n",
       "      <th>22496</th>\n",
       "      <td>000905.SH</td>\n",
       "      <td>000012.SZ</td>\n",
       "      <td>20180928</td>\n",
       "      <td>0.166</td>\n",
       "    </tr>\n",
       "    <tr>\n",
       "      <th>22497</th>\n",
       "      <td>000905.SH</td>\n",
       "      <td>000009.SZ</td>\n",
       "      <td>20180928</td>\n",
       "      <td>0.304</td>\n",
       "    </tr>\n",
       "    <tr>\n",
       "      <th>22498</th>\n",
       "      <td>000905.SH</td>\n",
       "      <td>000008.SZ</td>\n",
       "      <td>20180928</td>\n",
       "      <td>0.303</td>\n",
       "    </tr>\n",
       "    <tr>\n",
       "      <th>22499</th>\n",
       "      <td>000905.SH</td>\n",
       "      <td>000006.SZ</td>\n",
       "      <td>20180928</td>\n",
       "      <td>0.164</td>\n",
       "    </tr>\n",
       "  </tbody>\n",
       "</table>\n",
       "<p>22500 rows × 4 columns</p>\n",
       "</div>"
      ],
      "text/plain": [
       "      index_code   con_code trade_date  weight\n",
       "0      000905.SH  000988.SZ   20150130   0.260\n",
       "1      000905.SH  002004.SZ   20150130   0.260\n",
       "2      000905.SH  600180.SH   20150130   0.140\n",
       "3      000905.SH  600699.SH   20150130   0.200\n",
       "4      000905.SH  600151.SH   20150130   0.260\n",
       "5      000905.SH  002183.SZ   20150130   0.360\n",
       "6      000905.SH  000541.SZ   20150130   0.190\n",
       "7      000905.SH  000050.SZ   20150130   0.260\n",
       "8      000905.SH  002254.SZ   20150130   0.160\n",
       "9      000905.SH  600161.SH   20150130   0.260\n",
       "10     000905.SH  600017.SH   20150130   0.250\n",
       "11     000905.SH  000650.SZ   20150130   0.190\n",
       "12     000905.SH  002083.SZ   20150130   0.110\n",
       "13     000905.SH  600021.SH   20150130   0.260\n",
       "14     000905.SH  601099.SH   20150130   0.980\n",
       "15     000905.SH  002025.SZ   20150130   0.140\n",
       "16     000905.SH  600456.SH   20150130   0.130\n",
       "17     000905.SH  600201.SH   20150130   0.450\n",
       "18     000905.SH  600869.SH   20150130   0.070\n",
       "19     000905.SH  000703.SZ   20150130   0.100\n",
       "20     000905.SH  002179.SZ   20150130   0.210\n",
       "21     000905.SH  603077.SH   20150130   0.110\n",
       "22     000905.SH  600616.SH   20150130   0.100\n",
       "23     000905.SH  600138.SH   20150130   0.300\n",
       "24     000905.SH  002285.SZ   20150130   0.270\n",
       "25     000905.SH  000596.SZ   20150130   0.130\n",
       "26     000905.SH  600433.SH   20150130   0.410\n",
       "27     000905.SH  002690.SZ   20150130   0.210\n",
       "28     000905.SH  002216.SZ   20150130   0.120\n",
       "29     000905.SH  600521.SH   20150130   0.230\n",
       "...          ...        ...        ...     ...\n",
       "22470  000905.SH  000541.SZ   20180928   0.119\n",
       "22471  000905.SH  000536.SZ   20180928   0.103\n",
       "22472  000905.SH  000528.SZ   20180928   0.262\n",
       "22473  000905.SH  000519.SZ   20180928   0.165\n",
       "22474  000905.SH  000513.SZ   20180928   0.293\n",
       "22475  000905.SH  000501.SZ   20180928   0.124\n",
       "22476  000905.SH  000488.SZ   20180928   0.262\n",
       "22477  000905.SH  000426.SZ   20180928   0.133\n",
       "22478  000905.SH  000418.SZ   20180928   0.313\n",
       "22479  000905.SH  000401.SZ   20180928   0.311\n",
       "22480  000905.SH  000400.SZ   20180928   0.170\n",
       "22481  000905.SH  000158.SZ   20180928   0.114\n",
       "22482  000905.SH  000156.SZ   20180928   0.156\n",
       "22483  000905.SH  000090.SZ   20180928   0.128\n",
       "22484  000905.SH  000089.SZ   20180928   0.264\n",
       "22485  000905.SH  000078.SZ   20180928   0.190\n",
       "22486  000905.SH  000066.SZ   20180928   0.354\n",
       "22487  000905.SH  000062.SZ   20180928   0.133\n",
       "22488  000905.SH  000061.SZ   20180928   0.105\n",
       "22489  000905.SH  000049.SZ   20180928   0.094\n",
       "22490  000905.SH  000039.SZ   20180928   0.319\n",
       "22491  000905.SH  000031.SZ   20180928   0.191\n",
       "22492  000905.SH  000028.SZ   20180928   0.208\n",
       "22493  000905.SH  000027.SZ   20180928   0.197\n",
       "22494  000905.SH  000025.SZ   20180928   0.048\n",
       "22495  000905.SH  000021.SZ   20180928   0.137\n",
       "22496  000905.SH  000012.SZ   20180928   0.166\n",
       "22497  000905.SH  000009.SZ   20180928   0.304\n",
       "22498  000905.SH  000008.SZ   20180928   0.303\n",
       "22499  000905.SH  000006.SZ   20180928   0.164\n",
       "\n",
       "[22500 rows x 4 columns]"
      ]
     },
     "execution_count": 15,
     "metadata": {},
     "output_type": "execute_result"
    }
   ],
   "source": [
    "flag = 0\n",
    "full_df = None\n",
    "for today in pd.period_range(start='2015-01-01', end='2019-01-01', freq='D'):\n",
    "    if flag == 0:\n",
    "        start_date = today.strftime('%Y%m%d')\n",
    "        flag = 1\n",
    "    elif flag == 1:\n",
    "        end_date = today.strftime('%Y%m%d')\n",
    "        df = pro.index_weight(index_code='000905.SH', start_date=start_date, end_date=end_date)\n",
    "        if full_df is not None:\n",
    "            full_df = pd.concat([full_df, df], ignore_index=True)\n",
    "        else:\n",
    "            full_df = df.copy()\n",
    "        if len(df) != 0:\n",
    "            today , len(df), len(full_df)\n",
    "            pass\n",
    "        flag = 0\n",
    "        time.sleep(1)\n",
    "\n",
    "len(full_df)\n",
    "full_df.to_csv('../database/ZZ500IDX_2015-2018.csv', index=False, encoding='utf-8')\n",
    "full_df\n",
    "\n",
    "\n",
    "\n",
    "# start_date = '20050101'\n",
    "# end_date = '20050201'\n",
    "# pro.index_weight(index_code='399300.SZ', start_date=start_date, end_date=end_date)"
   ]
  }
 ],
 "metadata": {
  "kernelspec": {
   "display_name": "Python 3",
   "language": "python",
   "name": "python3"
  },
  "language_info": {
   "codemirror_mode": {
    "name": "ipython",
    "version": 3
   },
   "file_extension": ".py",
   "mimetype": "text/x-python",
   "name": "python",
   "nbconvert_exporter": "python",
   "pygments_lexer": "ipython3",
   "version": "3.6.1"
  }
 },
 "nbformat": 4,
 "nbformat_minor": 2
}
