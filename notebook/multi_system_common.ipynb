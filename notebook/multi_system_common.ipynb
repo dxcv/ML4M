{
 "cells": [
  {
   "cell_type": "code",
   "execution_count": 1,
   "metadata": {
    "scrolled": false
   },
   "outputs": [
    {
     "data": {
      "text/html": [
       "\n",
       "<script src=\"//code.highcharts.com/stock/highstock.js\"></script>\n",
       "<script src=\"//code.highcharts.com/highcharts-more.js\"></script>\n",
       "<script src=\"//code.highcharts.com/modules/exporting.js\"></script>\n"
      ],
      "text/plain": [
       "<IPython.core.display.HTML object>"
      ]
     },
     "metadata": {},
     "output_type": "display_data"
    },
    {
     "data": {
      "text/plain": [
       "<module 'pandas' from 'd:\\\\python36\\\\lib\\\\site-packages\\\\pandas\\\\__init__.py'>"
      ]
     },
     "execution_count": 1,
     "metadata": {},
     "output_type": "execute_result"
    }
   ],
   "source": [
    "import os\n",
    "import sys\n",
    "sys.path.append(os.path.abspath(os.path.join(os.getcwd(), '..')))\n",
    "\n",
    "import pandas as pd\n",
    "pd.core.common.is_list_like = pd.api.types.is_list_like\n",
    "try:\n",
    "    import empyrical as emp\n",
    "except:\n",
    "    emp = None\n",
    "import tushare as ts\n",
    "import time\n",
    "import random\n",
    "# from concurrent.futures import ProcessPoolExecutor\n",
    "\n",
    "from common.log import *\n",
    "from common.config import Config\n",
    "from spider.spider_nasdaq import Spider_nasdaq\n",
    "from spider.spider_coinmarketcap import Spider_coinmarketcap\n",
    "\n",
    "from IPython.core.interactiveshell import InteractiveShell\n",
    "InteractiveShell.ast_node_interactivity = 'all'\n",
    "\n",
    "from pandas_highcharts.core import serialize\n",
    "from pandas_highcharts.display import display_charts\n",
    "\n",
    "CONF = Config().data[0]\n",
    "MONGODB = CONF['MONGODB']\n",
    "NASDAQ = CONF['NASDAQ']\n",
    "CRYPTOCURRENCY = CONF['CRYPTOCURRENCY']\n",
    "CRYPTOCURRENCY = list(CRYPTOCURRENCY.keys())\n",
    "NASDAQ100 = CONF['NASDAQ100']\n",
    "HS300 = list(ts.get_hs300s()['code'])\n",
    "\n",
    "BENCHMARK = '399300'\n",
    "# TARGET = ['399300']\n",
    "TARGET = HS300\n",
    "# BENCHMARK = 'NDX'\n",
    "# TARGET = NASDAQ100\n",
    "# BENCHMARK = 'BITCOIN'\n",
    "# TARGET = CRYPTOCURRENCY\n",
    "# BENCHMARK = 'EOS'\n",
    "# TARGET = ['EOS']\n",
    "\n",
    "ALL_TARGET = TARGET[:]\n",
    "\n",
    "pd"
   ]
  },
  {
   "cell_type": "code",
   "execution_count": 2,
   "metadata": {
    "scrolled": false
   },
   "outputs": [
    {
     "name": "stdout",
     "output_type": "stream",
     "text": [
      "Wall time: 0 ns\n"
     ]
    }
   ],
   "source": [
    "%%time\n",
    "\n",
    "IS_DOWNLOAD_DATA = False\n",
    "spider_n = Spider_nasdaq()\n",
    "spider_c = Spider_coinmarketcap()\n",
    "timeframe = '10y'\n",
    "ignore = True\n",
    "\n",
    "for symbol in TARGET + [BENCHMARK]:\n",
    "    if not IS_DOWNLOAD_DATA:\n",
    "        break\n",
    "\n",
    "    # 沪深300指数\n",
    "    if symbol == '399300':\n",
    "        df = ts.get_k_data(code=symbol, index=True, start='2005-01-01', end=time.strftime('%Y-%m-%d'))\n",
    "        datafile = '../database/market/%s.csv' % symbol\n",
    "        df.to_csv(datafile, index=False, encoding='utf-8')\n",
    "        \n",
    "    # A股\n",
    "    elif symbol in HS300:\n",
    "        df = ts.get_k_data(code=symbol, ktype='D', autype='qfq', index=False, start='2005-01-01', end=time.strftime('%Y-%m-%d'))\n",
    "        datafile = '../database/market/%s.csv' % symbol\n",
    "        df.to_csv(datafile, index=False, encoding='utf-8')\n",
    "        \n",
    "    # NASDAQ\n",
    "    elif symbol in NASDAQ100:\n",
    "        datafile = None\n",
    "        while datafile is None:\n",
    "            try:\n",
    "                datafile = spider_n.get_stock_data(symbol, timeframe)\n",
    "            except:\n",
    "                time.sleep(5)\n",
    "    \n",
    "    # CRYPTOCURRENCY\n",
    "    elif symbol in CRYPTOCURRENCY:\n",
    "        datafile = spider_c.get_coin_data(symbol, start_date='20100101', end_date=time.strftime('%Y%m%d'))\n",
    "        \n",
    "    print(datafile)\n",
    "    time.sleep(1)"
   ]
  },
  {
   "cell_type": "code",
   "execution_count": 3,
   "metadata": {},
   "outputs": [
    {
     "name": "stdout",
     "output_type": "stream",
     "text": [
      "Wall time: 0 ns\n"
     ]
    }
   ],
   "source": [
    "%%time\n",
    "\n",
    "### 时间设置\n",
    "start_date = '2005-01-01'\n",
    "# start_date = '2006-01-01'\n",
    "# start_date = '2007-01-01'\n",
    "# start_date = '2008-01-01'\n",
    "# start_date = '2009-01-01'\n",
    "# start_date = '2010-01-01'\n",
    "# start_date = '2011-01-01'\n",
    "# start_date = '2012-01-01'\n",
    "# start_date = '2013-01-01'\n",
    "# start_date = '2014-01-01'\n",
    "# start_date = '2015-01-01'\n",
    "# start_date = '2015-07-01'\n",
    "# start_date = '2016-01-01'\n",
    "# start_date = '2017-01-01'\n",
    "# start_date = '2017-09-22'\n",
    "# start_date = '2018-01-01'\n",
    "# start_date = '2018-07-20'\n",
    "# end_date = '2016-01-01'\n",
    "end_date = '2018-08-01'\n",
    "# end_date = time.strftime('%Y-%m-%d')\n",
    "\n",
    "TURTLE_POS = 50\n",
    "### Turtle System One - Short\n",
    "TURTLE_SHORT_BUY_N = 20\n",
    "TURTLE_SHORT_SELL_N = 20\n",
    "### Turtle System Two - Long\n",
    "TURTLE_LONG_BUY_N = 60\n",
    "TURTLE_LONG_SELL_N = 60\n",
    "\n",
    "### 业务设置\n",
    "IS_HAPPYMONEY = False\n",
    "IS_TAX = False\n",
    "IS_SLIPPAGE = False\n",
    "IS_RANDOM_BUY = True\n",
    "IS_FILTER = False\n",
    "IS_MARKETUP = False\n",
    "IS_BUYBENCHMARK = True\n",
    "IS_SHOWBUYLIST = True\n",
    "START_MONEY = 100000\n",
    "HAPPY_MONEY = 0\n",
    "PROPERTY = START_MONEY\n",
    "CASH = START_MONEY\n"
   ]
  },
  {
   "cell_type": "code",
   "execution_count": 4,
   "metadata": {},
   "outputs": [
    {
     "name": "stdout",
     "output_type": "stream",
     "text": [
      "Wall time: 4.64 s\n"
     ]
    }
   ],
   "source": [
    "%%time\n",
    "\n",
    "stock_df_dict = {}\n",
    "\n",
    "for symbol in TARGET + [BENCHMARK]:\n",
    "    stock_data_file = '../database/market/%s.csv' % symbol\n",
    "    stock_df = pd.read_csv(stock_data_file)\n",
    "\n",
    "    # 筛选字段\n",
    "    stock_df = stock_df.loc[:, ['date', 'open', 'close']]\n",
    "\n",
    "    # 去掉Nasdaq行情首行的当天行情\n",
    "    if symbol in NASDAQ100:\n",
    "        stock_df = stock_df.drop([0])\n",
    "\n",
    "    # 抛弃空值异常值\n",
    "    stock_df.dropna(axis=0, how='any', inplace=True)\n",
    "\n",
    "    # 格式化日期\n",
    "    # 445 ms ± 17.5 ms per loop (mean ± std. dev. of 7 runs, 1 loop each)\n",
    "    stock_df = stock_df.assign(date=pd.to_datetime(stock_df['date']))  # need .index.to_period('D')\n",
    "\n",
    "    # 用日期作索引，日期升序排序\n",
    "    # 95.1 µs ± 1.58 µs per loop (mean ± std. dev. of 7 runs, 10000 loops each)\n",
    "    if symbol in NASDAQ100 or symbol in CRYPTOCURRENCY:\n",
    "        stock_df = stock_df[::-1]\n",
    "    stock_df.set_index(['date'], inplace=True)\n",
    "    stock_df.index = stock_df.index.to_period('D')\n",
    "\n",
    "    # 计算每天涨跌幅\n",
    "    stock_df['o_pct_chg'] = stock_df.open.pct_change(1)\n",
    "#     stock_df['pre_close'] = stock_df.close.shift(1)\n",
    "#     stock_df['c_o_pct_chg'] = (stock_df.open - stock_df.pre_close) / stock_df.pre_close\n",
    "    stock_df['c_o_pct_chg'] = (stock_df.open - stock_df.close.shift(1)) / stock_df.close.shift(1)\n",
    "    \n",
    "    # Turtle指标\n",
    "#     stock_df['TR1'] = abs(stock_df['high'] - stock_df['low'])\n",
    "#     stock_df['TR2'] = abs(stock_df['high'] - stock_df['close'].shift())\n",
    "#     stock_df['TR3'] = abs(stock_df['low'] - stock_df['close'].shift())\n",
    "#     stock_df['TR'] = stock_df[['TR1', 'TR2', 'TR3']].max(axis=1)\n",
    "#     stock_df['N'] = stock_df['TR'].rolling(20).mean()\n",
    "#     stock_df['UNIT'] = (0.01 * START_MONEY) / (stock_df['N'])\n",
    "#     stock_df['ROLLING_%d_MAX' % TURTLE_SHORT_BUY_N] = stock_df['open'].rolling(TURTLE_SHORT_BUY_N).max()\n",
    "#     stock_df['ROLLING_%d_MIN' % TURTLE_SHORT_SELL_N] = stock_df['open'].rolling(TURTLE_SHORT_SELL_N).min()\n",
    "    stock_df['ROLLING_%d_MAX' % TURTLE_LONG_BUY_N] = stock_df['open'].rolling(TURTLE_LONG_BUY_N).max()\n",
    "    stock_df['ROLLING_%d_MIN' % TURTLE_LONG_SELL_N] = stock_df['open'].rolling(TURTLE_LONG_SELL_N).min()\n",
    "#     stock_df['EWMA'] = stock_df['open'].ewm(alpha=0.1, adjust=False).mean()\n",
    "#     stock_df['MA360'] = stock_df['open'].rolling(360).mean()\n",
    "#     stock_df['MA250'] = stock_df['open'].rolling(250).mean()\n",
    "    stock_df['MA180'] = stock_df['open'].rolling(180).mean()\n",
    "    stock_df['MA90'] = stock_df['open'].rolling(90).mean()\n",
    "    stock_df['MA60'] = stock_df['open'].rolling(60).mean()\n",
    "    stock_df['MA30'] = stock_df['open'].rolling(30).mean()\n",
    "    \n",
    "    # 减少数据\n",
    "    # stock_df = stock_df['2016-01-01':]\n",
    "    stock_df.dropna(how='any', inplace=True)\n",
    "#     stock_df.drop(columns=['volume', 'TR1', 'TR2', 'TR3'], inplace=True)\n",
    "    \n",
    "    stock_df_dict[symbol] = stock_df"
   ]
  },
  {
   "cell_type": "code",
   "execution_count": 5,
   "metadata": {
    "scrolled": false
   },
   "outputs": [
    {
     "data": {
      "text/plain": [
       "'抽查数据'"
      ]
     },
     "execution_count": 5,
     "metadata": {},
     "output_type": "execute_result"
    },
    {
     "data": {
      "text/html": [
       "<div>\n",
       "<style scoped>\n",
       "    .dataframe tbody tr th:only-of-type {\n",
       "        vertical-align: middle;\n",
       "    }\n",
       "\n",
       "    .dataframe tbody tr th {\n",
       "        vertical-align: top;\n",
       "    }\n",
       "\n",
       "    .dataframe thead th {\n",
       "        text-align: right;\n",
       "    }\n",
       "</style>\n",
       "<table border=\"1\" class=\"dataframe\">\n",
       "  <thead>\n",
       "    <tr style=\"text-align: right;\">\n",
       "      <th></th>\n",
       "      <th>open</th>\n",
       "      <th>close</th>\n",
       "      <th>o_pct_chg</th>\n",
       "      <th>c_o_pct_chg</th>\n",
       "      <th>ROLLING_60_MAX</th>\n",
       "      <th>ROLLING_60_MIN</th>\n",
       "      <th>MA180</th>\n",
       "      <th>MA90</th>\n",
       "      <th>MA60</th>\n",
       "      <th>MA30</th>\n",
       "    </tr>\n",
       "    <tr>\n",
       "      <th>date</th>\n",
       "      <th></th>\n",
       "      <th></th>\n",
       "      <th></th>\n",
       "      <th></th>\n",
       "      <th></th>\n",
       "      <th></th>\n",
       "      <th></th>\n",
       "      <th></th>\n",
       "      <th></th>\n",
       "      <th></th>\n",
       "    </tr>\n",
       "  </thead>\n",
       "  <tbody>\n",
       "    <tr>\n",
       "      <th>2005-12-29</th>\n",
       "      <td>921.14</td>\n",
       "      <td>932.03</td>\n",
       "      <td>0.002274</td>\n",
       "      <td>0.000239</td>\n",
       "      <td>923.43</td>\n",
       "      <td>855.45</td>\n",
       "      <td>900.228556</td>\n",
       "      <td>904.796111</td>\n",
       "      <td>888.027833</td>\n",
       "      <td>887.838667</td>\n",
       "    </tr>\n",
       "    <tr>\n",
       "      <th>2005-12-30</th>\n",
       "      <td>933.45</td>\n",
       "      <td>923.45</td>\n",
       "      <td>0.013364</td>\n",
       "      <td>0.001524</td>\n",
       "      <td>933.45</td>\n",
       "      <td>855.45</td>\n",
       "      <td>899.944056</td>\n",
       "      <td>904.966778</td>\n",
       "      <td>888.308833</td>\n",
       "      <td>890.201000</td>\n",
       "    </tr>\n",
       "  </tbody>\n",
       "</table>\n",
       "</div>"
      ],
      "text/plain": [
       "              open   close  o_pct_chg  c_o_pct_chg  ROLLING_60_MAX  \\\n",
       "date                                                                 \n",
       "2005-12-29  921.14  932.03   0.002274     0.000239          923.43   \n",
       "2005-12-30  933.45  923.45   0.013364     0.001524          933.45   \n",
       "\n",
       "            ROLLING_60_MIN       MA180        MA90        MA60        MA30  \n",
       "date                                                                        \n",
       "2005-12-29          855.45  900.228556  904.796111  888.027833  887.838667  \n",
       "2005-12-30          855.45  899.944056  904.966778  888.308833  890.201000  "
      ]
     },
     "execution_count": 5,
     "metadata": {},
     "output_type": "execute_result"
    },
    {
     "data": {
      "text/html": [
       "<div>\n",
       "<style scoped>\n",
       "    .dataframe tbody tr th:only-of-type {\n",
       "        vertical-align: middle;\n",
       "    }\n",
       "\n",
       "    .dataframe tbody tr th {\n",
       "        vertical-align: top;\n",
       "    }\n",
       "\n",
       "    .dataframe thead th {\n",
       "        text-align: right;\n",
       "    }\n",
       "</style>\n",
       "<table border=\"1\" class=\"dataframe\">\n",
       "  <thead>\n",
       "    <tr style=\"text-align: right;\">\n",
       "      <th></th>\n",
       "      <th>open</th>\n",
       "      <th>close</th>\n",
       "      <th>o_pct_chg</th>\n",
       "      <th>c_o_pct_chg</th>\n",
       "      <th>ROLLING_60_MAX</th>\n",
       "      <th>ROLLING_60_MIN</th>\n",
       "      <th>MA180</th>\n",
       "      <th>MA90</th>\n",
       "      <th>MA60</th>\n",
       "      <th>MA30</th>\n",
       "    </tr>\n",
       "    <tr>\n",
       "      <th>date</th>\n",
       "      <th></th>\n",
       "      <th></th>\n",
       "      <th></th>\n",
       "      <th></th>\n",
       "      <th></th>\n",
       "      <th></th>\n",
       "      <th></th>\n",
       "      <th></th>\n",
       "      <th></th>\n",
       "      <th></th>\n",
       "    </tr>\n",
       "  </thead>\n",
       "  <tbody>\n",
       "    <tr>\n",
       "      <th>2018-09-20</th>\n",
       "      <td>3314.88</td>\n",
       "      <td>3310.13</td>\n",
       "      <td>0.016211</td>\n",
       "      <td>0.000725</td>\n",
       "      <td>3589.51</td>\n",
       "      <td>3193.64</td>\n",
       "      <td>3761.288722</td>\n",
       "      <td>3501.053889</td>\n",
       "      <td>3372.709333</td>\n",
       "      <td>3305.050667</td>\n",
       "    </tr>\n",
       "    <tr>\n",
       "      <th>2018-09-21</th>\n",
       "      <td>3320.70</td>\n",
       "      <td>3410.49</td>\n",
       "      <td>0.001756</td>\n",
       "      <td>0.003193</td>\n",
       "      <td>3589.51</td>\n",
       "      <td>3193.64</td>\n",
       "      <td>3757.553722</td>\n",
       "      <td>3494.667333</td>\n",
       "      <td>3370.855000</td>\n",
       "      <td>3302.460333</td>\n",
       "    </tr>\n",
       "  </tbody>\n",
       "</table>\n",
       "</div>"
      ],
      "text/plain": [
       "               open    close  o_pct_chg  c_o_pct_chg  ROLLING_60_MAX  \\\n",
       "date                                                                   \n",
       "2018-09-20  3314.88  3310.13   0.016211     0.000725         3589.51   \n",
       "2018-09-21  3320.70  3410.49   0.001756     0.003193         3589.51   \n",
       "\n",
       "            ROLLING_60_MIN        MA180         MA90         MA60         MA30  \n",
       "date                                                                            \n",
       "2018-09-20         3193.64  3761.288722  3501.053889  3372.709333  3305.050667  \n",
       "2018-09-21         3193.64  3757.553722  3494.667333  3370.855000  3302.460333  "
      ]
     },
     "execution_count": 5,
     "metadata": {},
     "output_type": "execute_result"
    },
    {
     "data": {
      "text/plain": [
       "Index(['open', 'close', 'o_pct_chg', 'c_o_pct_chg', 'ROLLING_60_MAX',\n",
       "       'ROLLING_60_MIN', 'MA180', 'MA90', 'MA60', 'MA30'],\n",
       "      dtype='object')"
      ]
     },
     "execution_count": 5,
     "metadata": {},
     "output_type": "execute_result"
    }
   ],
   "source": [
    "'''抽查数据'''\n",
    "\n",
    "stock_df_dict[BENCHMARK].head(2)\n",
    "stock_df_dict[BENCHMARK].tail(2)\n",
    "\n",
    "df = stock_df_dict[BENCHMARK].iloc[:].copy()\n",
    "df.columns\n",
    "df.reset_index(drop=False, inplace=True)\n",
    "# df = df.astype(dtype={'date': 'datetime64[ns]'})\n",
    "df['date'] = df['date'].apply(lambda x: x.to_timestamp().to_datetime64())\n",
    "df.set_index('date', inplace=True)\n",
    "ax = df.plot(kind='line', y='close', label='test', linewidth=1, grid=True)\n",
    "# display_charts(df, chart_type='stock', kind='line', \n",
    "#                y=['open', 'ROLLING_%d_MAX' % TURTLE_LONG_BUY_N, 'ROLLING_%d_MIN' % TURTLE_LONG_SELL_N, 'MA30', 'MA60', 'MA180'], \n",
    "#                figsize=(900, 600))"
   ]
  },
  {
   "cell_type": "code",
   "execution_count": 6,
   "metadata": {
    "scrolled": true
   },
   "outputs": [
    {
     "data": {
      "text/plain": [
       "'用基准数据来存储策略数据'"
      ]
     },
     "execution_count": 6,
     "metadata": {},
     "output_type": "execute_result"
    }
   ],
   "source": [
    "'''用基准数据来存储策略数据'''\n",
    "show_df = None\n",
    "show_df = stock_df_dict[BENCHMARK].copy()\n",
    "show_df.loc[:, 'CASH'] = START_MONEY\n",
    "show_df.loc[:, 'PROPERTY'] = START_MONEY"
   ]
  },
  {
   "cell_type": "code",
   "execution_count": 7,
   "metadata": {
    "scrolled": false
   },
   "outputs": [
    {
     "name": "stdout",
     "output_type": "stream",
     "text": [
      "2004-01-01 2005-01-01 100000 100000 0.000\n",
      "2005-01-01 2006-01-01 100000 100000 0.000\n",
      "2006-01-01 2007-01-01 100000 177715 0.777\n",
      "2007-01-01 2008-01-01 177807 626290 2.522\n",
      "2008-01-01 2009-01-01 640160 517388 -0.192\n",
      "2009-01-01 2010-01-01 517388 774225 0.496\n",
      "2010-01-01 2011-01-01 771542 817659 0.060\n",
      "2011-01-01 2012-01-01 830706 685123 -0.175\n",
      "2012-01-01 2013-01-01 685123 698823 0.020\n",
      "2013-01-01 2014-01-01 699551 758982 0.085\n",
      "2014-01-01 2015-01-01 757948 1033213 0.363\n",
      "2015-01-01 2016-01-01 1009264 1152791 0.142\n",
      "2016-01-01 2017-01-01 1155546 1125224 -0.026\n",
      "2017-01-01 2018-01-01 1129445 1486686 0.316\n",
      "2018-01-01 2018-08-01 1491699 1411182 -0.054\n",
      "START_MONEY 100000\n",
      "CASH 1417376.2630000005\n",
      "HAPPY_MONEY 0\n",
      "PROPERTY 1417376.2630000003\n",
      "BENCHMARK 921.14 3530.03 3.832240484616888\n",
      "Wall time: 2min 34s\n"
     ]
    }
   ],
   "source": [
    "%%time\n",
    "# %xmode\n",
    "\n",
    "'''简易海龟策略，唐安奇通道突破信号，平均分头寸'''\n",
    "\n",
    "PROPERTY = START_MONEY\n",
    "CASH = START_MONEY\n",
    "IS_MARKETUP = True\n",
    "count_day = 0\n",
    "yesterday = None\n",
    "miss_buy_short = 0\n",
    "miss_buy_long = 0\n",
    "\n",
    "order_df = None\n",
    "order_df = pd.DataFrame(columns=[\n",
    "    'buy_date', 'symbol', 'buy_count', 'buy_price', 'buy_reason', 'sell_date', 'sell_price', 'sell_reason', 'profit', 'cash', 'property'\n",
    "])\n",
    "\n",
    "ops_df = None\n",
    "ops_df = pd.DataFrame(columns=[\n",
    "    'ops_date', 'ops', 'symbol', 'count', 'price', 'reason', 'profit'\n",
    "])\n",
    "\n",
    "\n",
    "# 时间序列\n",
    "for today in pd.period_range(start=start_date, end=end_date, freq='D'):\n",
    "    count_day += 1\n",
    "    \n",
    "    # 每年年初计算回报率\n",
    "    if today.dayofyear == 1 or today == (pd.to_datetime(end_date)).to_period(freq='D'):\n",
    "        if today.dayofyear == 1:\n",
    "            lastyear_firstday = pd.to_datetime('%d-01-01' % (today.year - 1))\n",
    "        else:\n",
    "            lastyear_firstday = pd.to_datetime('%d-01-01' % today.year)\n",
    "        lastyear_firstday = lastyear_firstday.to_period(freq='D')\n",
    "#         print(today, show_df.iloc[0].name, show_df[:today].iloc[-1].PROPERTY)\n",
    "        if today > show_df.iloc[0].name:\n",
    "            today_property = show_df[:today].iloc[-2].PROPERTY\n",
    "#             print(show_df[:today].iloc[-1])\n",
    "        else:\n",
    "            today_property = show_df.iloc[0].PROPERTY\n",
    "        if lastyear_firstday > show_df.iloc[0].name:\n",
    "            lastyear_firstday_property = show_df[:lastyear_firstday].iloc[-1].PROPERTY\n",
    "        else:\n",
    "            lastyear_firstday_property = show_df.iloc[0].PROPERTY\n",
    "#         lastyear_return = round((today_property - lastyear_firstday_property) / lastyear_firstday_property, 4)\n",
    "        lastyear_return = '%.3f' % ((today_property - lastyear_firstday_property) / lastyear_firstday_property)\n",
    "        print(lastyear_firstday, today, int(lastyear_firstday_property), int(today_property), lastyear_return)\n",
    "    \n",
    "    # 每年筛股\n",
    "    if IS_FILTER and (today.dayofyear == 1 or count_day == 1):\n",
    "        TARGET = ALL_TARGET[:]\n",
    "        benchmark_lastyear = stock_df_dict[BENCHMARK][:today]\n",
    "        \n",
    "        # 不到一年（250个交易日）\n",
    "        if len(benchmark_lastyear) < 250:\n",
    "            continue\n",
    "        \n",
    "        # 筛选过滤\n",
    "        benchmark_return_lastyear = benchmark_lastyear.iloc[-1].open / benchmark_lastyear.iloc[-250].open\n",
    "        for symbol, stock_df in stock_df_dict.items():\n",
    "            try:\n",
    "                return_lastyear = stock_df[:today].iloc[-1].open / stock_df[:today].iloc[-250].open\n",
    "                if return_lastyear < benchmark_return_lastyear:\n",
    "                    TARGET.remove(symbol)\n",
    "#                     print(symbol, return_lastyear)\n",
    "            except:\n",
    "                TARGET.remove(symbol)\n",
    "                pass\n",
    "        print(today, 'TARGET after filter', len(TARGET))\n",
    "        \n",
    "    \n",
    "    if yesterday is None:\n",
    "        yesterday = today\n",
    "        continue\n",
    "\n",
    "    # 日期不在基准交易日，则不交易\n",
    "    if today not in stock_df_dict[BENCHMARK].index:\n",
    "        continue\n",
    "            \n",
    "    # 突破下行趋势，清仓退出\n",
    "    order_arr = order_df.to_records(index=False)\n",
    "    if len(order_arr[(order_arr.buy_count > 0) & (order_arr.sell_price == 0)] ) != 0:\n",
    "        is_sell = False\n",
    "        for idx in order_df[(order_df['buy_count'] > 0) & (order_df['sell_price'] == 0)].index:\n",
    "            cur_order = order_df.loc[idx]\n",
    "            symbol = cur_order['symbol']\n",
    "            if today not in stock_df_dict[symbol].index or yesterday not in stock_df_dict[symbol].index:\n",
    "                continue\n",
    "            today_market = stock_df_dict[symbol].loc[today]\n",
    "            if today_market.c_o_pct_chg < -0.1 and symbol in HS300:\n",
    "#                 print(today, symbol, '跌停板，卖不掉')\n",
    "                continue\n",
    "            if cur_order.buy_reason == 'SHORT':\n",
    "                is_sell = (today_market.open <= today_market['ROLLING_%d_MIN' % TURTLE_SHORT_SELL_N])\n",
    "            if cur_order.buy_reason == 'LONG':\n",
    "                is_sell = (today_market.open <= today_market['ROLLING_%d_MIN' % TURTLE_LONG_SELL_N])\n",
    "#                 is_sell = (today_market.MA90 <= today_market.MA180)\n",
    "#                 is_sell = (today_market.MA30 <= today_market.MA60)\n",
    "            if is_sell:\n",
    "                CASH += cur_order.buy_count * today_market.open\n",
    "                order_df.loc[idx, 'sell_date'] = today\n",
    "                order_df.loc[idx, 'sell_price'] = today_market.open\n",
    "                order_df.loc[idx, 'sell_reason'] = 'EXIT'\n",
    "                order_df.loc[idx, 'profit'] = \\\n",
    "                    (today_market.open - cur_order.buy_price) * cur_order.buy_count\n",
    "#                 print(today, '退出', stock_df_dict[symbol].loc[today, 'open'], CASH)\n",
    "                \n",
    "                ops_df = ops_df.append(\n",
    "                    {\n",
    "                        'ops_date': today,\n",
    "                        'ops': 'SELL',\n",
    "                        'symbol': symbol,\n",
    "                        'count': cur_order.buy_count,\n",
    "                        'price': today_market.open,\n",
    "                        'reason': cur_order.buy_reason,\n",
    "                        'profit': (today_market.open - cur_order.buy_price) * cur_order.buy_count,\n",
    "                    },\n",
    "                    ignore_index=True\n",
    "                )\n",
    "\n",
    "    # 开心止盈，倍数止盈\n",
    "    if IS_HAPPYMONEY:        \n",
    "        if PROPERTY > START_MONEY * 2 and CASH > START_MONEY:\n",
    "            HAPPY_MONEY += START_MONEY\n",
    "            PROPERTY -= START_MONEY\n",
    "            CASH -= START_MONEY\n",
    "    \n",
    "    benchmark_today_market = stock_df_dict[BENCHMARK].loc[today]\n",
    "#     try:\n",
    "#         benchmark_yesterday_market = stock_df_dict[BENCHMARK].loc[:today].iloc[-2]\n",
    "#     except:\n",
    "#         benchmark_yesterday_market = stock_df_dict[BENCHMARK].loc[:today].iloc[-1]\n",
    "    buy_list = []\n",
    "    \n",
    "    # TIME TEST\n",
    "#     %timeit benchmark_today_market.MA60 < benchmark_today_market.MA180\n",
    "#     %timeit not IS_BUYBENCHMARK and symbol == BENCHMARK\n",
    "#     %timeit today not in stock_df_dict[symbol].index or yesterday not in stock_df_dict[symbol].index\n",
    "#     symbol = BENCHMARK\n",
    "#     %timeit today_market = stock_df_dict[symbol].loc[today]\n",
    "# #     %timeit today_market = stock_df_dict[symbol][today]\n",
    "#     %timeit today_market.open >= today_market['ROLLING_%d_MAX' % TURTLE_LONG_BUY_N]\n",
    "    # DELETED\n",
    "    \n",
    "    # 遍历标的，判断和执行买入\n",
    "    for symbol in TARGET:\n",
    "        # 趋势交易，只在好行情时买入\n",
    "        if IS_MARKETUP:\n",
    "            if benchmark_today_market.MA60 < benchmark_today_market.MA180:\n",
    "#             if benchmark_today_market.MA90 < benchmark_today_market.MA180:\n",
    "#             if benchmark_today_market.MA90 < benchmark_today_market.MA250 and benchmark_today_market.MA180 < benchmark_today_market.MA250:\n",
    "                break\n",
    "        \n",
    "        # 是否购买基准\n",
    "        if not IS_BUYBENCHMARK and symbol == BENCHMARK:\n",
    "            continue\n",
    "        \n",
    "        if today not in stock_df_dict[symbol].index or yesterday not in stock_df_dict[symbol].index:\n",
    "            continue\n",
    "            \n",
    "        # TIME TEST\n",
    "        # DELETED\n",
    "\n",
    "        today_market = stock_df_dict[symbol].loc[today]\n",
    "\n",
    "        # 突破上行趋势，就买一份\n",
    "#         order_arr = order_df.to_records(index=False)\n",
    "        is_buy = False\n",
    "#         if today_market.MA60 >= today_market.MA180:\n",
    "#         if today_market.MA30 >= today_market.MA60:\n",
    "#         if today_market.MA30 >= today_market.MA180:\n",
    "        # 指数就不要过滤器了\n",
    "        if True:\n",
    "            if today_market.open >= today_market['ROLLING_%d_MAX' % TURTLE_LONG_BUY_N]:\n",
    "#             if today_market.MA90 >= today_market.MA180:\n",
    "#             if today_market.MA30 > today_market.MA60:\n",
    "                is_buy = True\n",
    "                buy_reason = 'LONG'\n",
    "            elif False and today_market.open >= today_market['ROLLING_%d_MAX' % TURTLE_SHORT_BUY_N]:\n",
    "                is_buy = True\n",
    "                buy_reason = 'SHORT'\n",
    "\n",
    "        if is_buy:\n",
    "            buy_list.append(symbol)\n",
    "            \n",
    "    if IS_RANDOM_BUY:\n",
    "        random.shuffle(buy_list)\n",
    "    else:\n",
    "        tmp_list = []\n",
    "        for symbol in buy_list:\n",
    "            try:\n",
    "                return_lastyear = stock_df_dict[symbol][:today].iloc[-1].open / stock_df_dict[symbol][:today].iloc[-250].open\n",
    "            except:\n",
    "                return_lastyear = stock_df_dict[symbol][:today].iloc[-1].open / stock_df_dict[symbol][:today].iloc[1].open\n",
    "            tmp_list.append((return_lastyear, symbol))\n",
    "        tmp_list = sorted(tmp_list, reverse=True)\n",
    "        buy_list = [x[1] for x in tmp_list if x[0]>1]\n",
    "#         buy_list = [x[1] for x in tmp_list]\n",
    "    \n",
    "    for symbol in buy_list:\n",
    "        today_market = stock_df_dict[symbol].loc[today]\n",
    "        buy_count = 0\n",
    "                \n",
    "        # 滑点\n",
    "        if IS_SLIPPAGE:\n",
    "            buy_price = today_market.open * (1 + random.randint(0, 20) / 1000)\n",
    "        else:\n",
    "            buy_price = today_market.open\n",
    "                \n",
    "        # 按份数买\n",
    "        if CASH >= PROPERTY / TURTLE_POS:\n",
    "            buy_count = int((PROPERTY / TURTLE_POS) / buy_price)\n",
    "\n",
    "        # 指数购买，满仓干\n",
    "#         buy_count = int(CASH / buy_price)\n",
    "\n",
    "        if buy_count > 0:\n",
    "            if today_market.c_o_pct_chg > 0.1 and symbol in HS300:\n",
    "#                 print(today, symbol, '涨停板，买不进')\n",
    "                continue\n",
    "            \n",
    "        if buy_count > 0:\n",
    "            CASH -= buy_count * buy_price\n",
    "#             print(today, '建仓', buy_count, stock_df_dict[symbol].loc[today, 'open'], CASH)\n",
    "            order_df = order_df.append(\n",
    "                {\n",
    "                    'buy_date': today,\n",
    "                    'symbol': symbol,\n",
    "                    'buy_count': buy_count,\n",
    "                    'buy_price': today_market.open,\n",
    "                    'buy_reason': buy_reason,\n",
    "                    'sell_date': pd.np.nan,\n",
    "                    'sell_price': 0,\n",
    "                    'profit': 0,\n",
    "                    'cash': CASH,\n",
    "                    'property': PROPERTY,\n",
    "                },\n",
    "                ignore_index=True\n",
    "            )\n",
    "            ops_df = ops_df.append(\n",
    "                {\n",
    "                    'ops_date': today,\n",
    "                    'ops': 'BUY',\n",
    "                    'symbol': symbol,\n",
    "                    'count': buy_count,\n",
    "                    'price': buy_price,\n",
    "                    'reason': buy_reason,\n",
    "                    'profit': 0,\n",
    "                },\n",
    "                ignore_index=True\n",
    "            )\n",
    "        else:\n",
    "            if buy_reason == 'LONG':\n",
    "                miss_buy_long += 1\n",
    "            elif buy_reason == 'SHORT':\n",
    "                miss_buy_short += 1\n",
    "            \n",
    "    # 每天盘点财产\n",
    "    # 大盘下行时，闲钱进行T+0无风险投资，如货币基金\n",
    "#     if benchmark_today_market.MA60 < benchmark_today_market.MA180:\n",
    "#         CASH = CASH * (1 + 0.04 / 365)\n",
    "    show_df.loc[today, 'CASH'] = CASH\n",
    "    PROPERTY = CASH + \\\n",
    "        sum(\n",
    "            [\n",
    "                stock_df_dict[order_df.loc[idx, 'symbol']][:today].iloc[-1].open * order_df.loc[idx, 'buy_count'] \\\n",
    "                for idx in order_df.loc[order_df['sell_price']==0].index\n",
    "            ]\n",
    "        )\n",
    "    show_df.loc[today, 'PROPERTY'] = PROPERTY\n",
    "\n",
    "    yesterday = today\n",
    "    \n",
    "#     print(today)\n",
    "\n",
    "\n",
    "    \n",
    "# 最后一天，清仓\n",
    "order_arr = order_df.to_records(index=False)\n",
    "for idx in order_df[order_df['sell_price'] == 0].index:\n",
    "    cur_order = order_df.loc[idx]\n",
    "    symbol = cur_order['symbol']\n",
    "    today_market = stock_df_dict[symbol][:today].iloc[-1]\n",
    "    CASH += cur_order.buy_count * today_market.open\n",
    "    order_df.loc[idx, 'sell_date'] = today\n",
    "    order_df.loc[idx, 'sell_price'] = today_market.open\n",
    "    order_df.loc[idx, 'sell_reason'] = 'EXIT'\n",
    "    order_df.loc[idx, 'profit'] = \\\n",
    "        (today_market.open - cur_order.buy_price) * cur_order.buy_count\n",
    "    ops_df = ops_df.append(\n",
    "        {\n",
    "            'ops_date': today,\n",
    "            'ops': 'SELL',\n",
    "            'symbol': symbol,\n",
    "            'count': cur_order.buy_count,\n",
    "            'price': today_market.open,\n",
    "            'reason': cur_order.buy_reason,\n",
    "            'profit': (today_market.open - cur_order.buy_price) * cur_order.buy_count,\n",
    "        },\n",
    "        ignore_index=True\n",
    "    )\n",
    "\n",
    "\n",
    "print('START_MONEY', START_MONEY)\n",
    "print('CASH', CASH)\n",
    "print('HAPPY_MONEY', HAPPY_MONEY)\n",
    "print('PROPERTY', PROPERTY)\n",
    "\n",
    "s_p = stock_df_dict[BENCHMARK][start_date:].iloc[0].open\n",
    "e_p = stock_df_dict[BENCHMARK][:end_date].iloc[-1].open\n",
    "print('BENCHMARK', s_p, e_p, e_p / s_p)\n",
    "\n",
    "show_df['PROPERTY_TT'] = show_df['PROPERTY']"
   ]
  },
  {
   "cell_type": "code",
   "execution_count": 8,
   "metadata": {},
   "outputs": [
    {
     "name": "stdout",
     "output_type": "stream",
     "text": [
      "2004-01-01 2005-01-01 100000 100000 0.000\n",
      "2005-01-01 2006-01-01 100000 100000 0.000\n",
      "2006-01-01 2007-01-01 100000 216315 1.163\n",
      "2007-01-01 2008-01-01 217660 572367 1.630\n",
      "2008-01-01 2009-01-01 587912 316457 -0.462\n",
      "2009-01-01 2010-01-01 324303 1787687 4.512\n",
      "2010-01-01 2011-01-01 1708292 2890324 0.692\n",
      "2011-01-01 2012-01-01 2879418 2173423 -0.245\n",
      "2012-01-01 2013-01-01 2200346 2333917 0.061\n",
      "2013-01-01 2014-01-01 2369520 3218892 0.358\n",
      "2014-01-01 2015-01-01 3181035 4625115 0.454\n",
      "2015-01-01 2016-01-01 4513467 8915741 0.975\n",
      "2016-01-01 2017-01-01 8939843 8547004 -0.044\n",
      "2017-01-01 2018-01-01 8571804 12279509 0.433\n",
      "2018-01-01 2018-08-01 12372755 10393771 -0.160\n",
      "START_MONEY 100000\n",
      "CASH 10475314.562000005\n",
      "HAPPY_MONEY 0\n",
      "PROPERTY 10475314.562000003\n",
      "BENCHMARK 921.14 3530.03 3.832240484616888\n",
      "Wall time: 4min 42s\n"
     ]
    }
   ],
   "source": [
    "%%time\n",
    "# %xmode\n",
    "\n",
    "'''均线突破策略，平均分头寸'''\n",
    "\n",
    "PROPERTY = START_MONEY\n",
    "CASH = START_MONEY\n",
    "IS_MARKETUP = False\n",
    "count_day = 0\n",
    "yesterday = None\n",
    "miss_buy_short = 0\n",
    "miss_buy_long = 0\n",
    "\n",
    "order_df = None\n",
    "order_df = pd.DataFrame(columns=[\n",
    "    'buy_date', 'symbol', 'buy_count', 'buy_price', 'buy_reason', 'sell_date', 'sell_price', 'sell_reason', 'profit', 'cash', 'property'\n",
    "])\n",
    "\n",
    "ops_df = None\n",
    "ops_df = pd.DataFrame(columns=[\n",
    "    'ops_date', 'ops', 'symbol', 'count', 'price', 'reason', 'profit'\n",
    "])\n",
    "\n",
    "\n",
    "# 时间序列\n",
    "for today in pd.period_range(start=start_date, end=end_date, freq='D'):\n",
    "    count_day += 1\n",
    "    \n",
    "    # 每年年初计算回报率\n",
    "    if today.dayofyear == 1 or today == (pd.to_datetime(end_date)).to_period(freq='D'):\n",
    "        if today.dayofyear == 1:\n",
    "            lastyear_firstday = pd.to_datetime('%d-01-01' % (today.year - 1))\n",
    "        else:\n",
    "            lastyear_firstday = pd.to_datetime('%d-01-01' % today.year)\n",
    "        lastyear_firstday = lastyear_firstday.to_period(freq='D')\n",
    "#         print(today, show_df.iloc[0].name, show_df[:today].iloc[-1].PROPERTY)\n",
    "        if today > show_df.iloc[0].name:\n",
    "            today_property = show_df[:today].iloc[-2].PROPERTY\n",
    "#             print(show_df[:today].iloc[-1])\n",
    "        else:\n",
    "            today_property = show_df.iloc[0].PROPERTY\n",
    "        if lastyear_firstday > show_df.iloc[0].name:\n",
    "            lastyear_firstday_property = show_df[:lastyear_firstday].iloc[-1].PROPERTY\n",
    "        else:\n",
    "            lastyear_firstday_property = show_df.iloc[0].PROPERTY\n",
    "#         lastyear_return = round((today_property - lastyear_firstday_property) / lastyear_firstday_property, 4)\n",
    "        lastyear_return = '%.3f' % ((today_property - lastyear_firstday_property) / lastyear_firstday_property)\n",
    "        print(lastyear_firstday, today, int(lastyear_firstday_property), int(today_property), lastyear_return)\n",
    "    \n",
    "    # 每年筛股\n",
    "    if IS_FILTER and (today.dayofyear == 1 or count_day == 1):\n",
    "        TARGET = ALL_TARGET[:]\n",
    "        benchmark_lastyear = stock_df_dict[BENCHMARK][:today]\n",
    "        \n",
    "        # 不到一年（250个交易日）\n",
    "        if len(benchmark_lastyear) < 250:\n",
    "            continue\n",
    "        \n",
    "        # 筛选过滤\n",
    "        benchmark_return_lastyear = benchmark_lastyear.iloc[-1].open / benchmark_lastyear.iloc[-250].open\n",
    "        for symbol, stock_df in stock_df_dict.items():\n",
    "            try:\n",
    "                return_lastyear = stock_df[:today].iloc[-1].open / stock_df[:today].iloc[-250].open\n",
    "                if return_lastyear < benchmark_return_lastyear:\n",
    "                    TARGET.remove(symbol)\n",
    "#                     print(symbol, return_lastyear)\n",
    "            except:\n",
    "                TARGET.remove(symbol)\n",
    "                pass\n",
    "        print(today, 'TARGET after filter', len(TARGET))\n",
    "        \n",
    "    \n",
    "    if yesterday is None:\n",
    "        yesterday = today\n",
    "        continue\n",
    "\n",
    "    # 日期不在基准交易日，则不交易\n",
    "    if today not in stock_df_dict[BENCHMARK].index:\n",
    "        continue\n",
    "            \n",
    "    # 突破下行趋势，清仓退出\n",
    "    order_arr = order_df.to_records(index=False)\n",
    "    if len(order_arr[(order_arr.buy_count > 0) & (order_arr.sell_price == 0)] ) != 0:\n",
    "        is_sell = False\n",
    "        for idx in order_df[(order_df['buy_count'] > 0) & (order_df['sell_price'] == 0)].index:\n",
    "            cur_order = order_df.loc[idx]\n",
    "            symbol = cur_order['symbol']\n",
    "            if today not in stock_df_dict[symbol].index or yesterday not in stock_df_dict[symbol].index:\n",
    "                continue\n",
    "            today_market = stock_df_dict[symbol].loc[today]\n",
    "            if today_market.c_o_pct_chg < -0.1 and symbol in HS300:\n",
    "#                 print(today, symbol, '跌停板，卖不掉')\n",
    "                continue\n",
    "            if cur_order.buy_reason == 'SHORT':\n",
    "                is_sell = (today_market.open <= today_market['ROLLING_%d_MIN' % TURTLE_SHORT_SELL_N])\n",
    "            if cur_order.buy_reason == 'LONG':\n",
    "#                 is_sell = (today_market.open <= today_market['ROLLING_%d_MIN' % TURTLE_LONG_SELL_N])\n",
    "                is_sell = (today_market.MA90 <= today_market.MA180)\n",
    "#                 is_sell = (today_market.MA30 <= today_market.MA60)\n",
    "            if is_sell:\n",
    "                CASH += cur_order.buy_count * today_market.open\n",
    "                order_df.loc[idx, 'sell_date'] = today\n",
    "                order_df.loc[idx, 'sell_price'] = today_market.open\n",
    "                order_df.loc[idx, 'sell_reason'] = 'EXIT'\n",
    "                order_df.loc[idx, 'profit'] = \\\n",
    "                    (today_market.open - cur_order.buy_price) * cur_order.buy_count\n",
    "#                 print(today, '退出', stock_df_dict[symbol].loc[today, 'open'], CASH)\n",
    "                \n",
    "                ops_df = ops_df.append(\n",
    "                    {\n",
    "                        'ops_date': today,\n",
    "                        'ops': 'SELL',\n",
    "                        'symbol': symbol,\n",
    "                        'count': cur_order.buy_count,\n",
    "                        'price': today_market.open,\n",
    "                        'reason': cur_order.buy_reason,\n",
    "                        'profit': (today_market.open - cur_order.buy_price) * cur_order.buy_count,\n",
    "                    },\n",
    "                    ignore_index=True\n",
    "                )\n",
    "\n",
    "    # 开心止盈，倍数止盈\n",
    "    if IS_HAPPYMONEY:        \n",
    "        if PROPERTY > START_MONEY * 2 and CASH > START_MONEY:\n",
    "            HAPPY_MONEY += START_MONEY\n",
    "            PROPERTY -= START_MONEY\n",
    "            CASH -= START_MONEY\n",
    "    \n",
    "    benchmark_today_market = stock_df_dict[BENCHMARK].loc[today]\n",
    "#     try:\n",
    "#         benchmark_yesterday_market = stock_df_dict[BENCHMARK].loc[:today].iloc[-2]\n",
    "#     except:\n",
    "#         benchmark_yesterday_market = stock_df_dict[BENCHMARK].loc[:today].iloc[-1]\n",
    "    buy_list = []\n",
    "    \n",
    "    # TIME TEST\n",
    "#     %timeit benchmark_today_market.MA60 < benchmark_today_market.MA180\n",
    "#     %timeit not IS_BUYBENCHMARK and symbol == BENCHMARK\n",
    "#     %timeit today not in stock_df_dict[symbol].index or yesterday not in stock_df_dict[symbol].index\n",
    "#     symbol = BENCHMARK\n",
    "#     %timeit today_market = stock_df_dict[symbol].loc[today]\n",
    "# #     %timeit today_market = stock_df_dict[symbol][today]\n",
    "#     %timeit today_market.open >= today_market['ROLLING_%d_MAX' % TURTLE_LONG_BUY_N]\n",
    "    # DELETED\n",
    "    \n",
    "    # 遍历标的，判断和执行买入\n",
    "    for symbol in TARGET:\n",
    "        # 趋势交易，只在好行情时买入\n",
    "        if IS_MARKETUP:\n",
    "#             if benchmark_today_market.MA60 < benchmark_today_market.MA180:\n",
    "#             if benchmark_today_market.MA90 < benchmark_today_market.MA180:\n",
    "            if benchmark_today_market.MA90 < benchmark_today_market.MA250 and benchmark_today_market.MA180 < benchmark_today_market.MA250:\n",
    "                break\n",
    "        \n",
    "        # 是否购买基准\n",
    "        if not IS_BUYBENCHMARK and symbol == BENCHMARK:\n",
    "            continue\n",
    "        \n",
    "        if today not in stock_df_dict[symbol].index or yesterday not in stock_df_dict[symbol].index:\n",
    "            continue\n",
    "            \n",
    "        # TIME TEST\n",
    "        # DELETED\n",
    "\n",
    "        today_market = stock_df_dict[symbol].loc[today]\n",
    "\n",
    "        # 突破上行趋势，就买一份\n",
    "#         order_arr = order_df.to_records(index=False)\n",
    "        is_buy = False\n",
    "#         if today_market.MA60 >= today_market.MA180:\n",
    "#         if today_market.MA30 >= today_market.MA60:\n",
    "#         if today_market.MA30 >= today_market.MA180:\n",
    "        # 指数就不要过滤器了\n",
    "        if True:\n",
    "#             if today_market.open >= today_market['ROLLING_%d_MAX' % TURTLE_LONG_BUY_N]:\n",
    "            if today_market.MA90 >= today_market.MA180:\n",
    "#             if today_market.MA30 > today_market.MA60:\n",
    "                is_buy = True\n",
    "                buy_reason = 'LONG'\n",
    "            elif False and today_market.open >= today_market['ROLLING_%d_MAX' % TURTLE_SHORT_BUY_N]:\n",
    "                is_buy = True\n",
    "                buy_reason = 'SHORT'\n",
    "\n",
    "        if is_buy:\n",
    "            buy_list.append(symbol)\n",
    "            \n",
    "    if IS_RANDOM_BUY:\n",
    "        random.shuffle(buy_list)\n",
    "    else:\n",
    "        tmp_list = []\n",
    "        for symbol in buy_list:\n",
    "            try:\n",
    "                return_lastyear = stock_df_dict[symbol][:today].iloc[-1].open / stock_df_dict[symbol][:today].iloc[-250].open\n",
    "            except:\n",
    "                return_lastyear = stock_df_dict[symbol][:today].iloc[-1].open / stock_df_dict[symbol][:today].iloc[1].open\n",
    "            tmp_list.append((return_lastyear, symbol))\n",
    "        tmp_list = sorted(tmp_list, reverse=True)\n",
    "        buy_list = [x[1] for x in tmp_list if x[0]>1]\n",
    "#         buy_list = [x[1] for x in tmp_list]\n",
    "    \n",
    "    for symbol in buy_list:\n",
    "        today_market = stock_df_dict[symbol].loc[today]\n",
    "        buy_count = 0\n",
    "                \n",
    "        # 滑点\n",
    "        if IS_SLIPPAGE:\n",
    "            buy_price = today_market.open * (1 + random.randint(0, 20) / 1000)\n",
    "        else:\n",
    "            buy_price = today_market.open\n",
    "                \n",
    "        # 按份数买\n",
    "        if CASH >= PROPERTY / TURTLE_POS:\n",
    "            buy_count = int((PROPERTY / TURTLE_POS) / buy_price)\n",
    "\n",
    "        # 指数购买，满仓干\n",
    "#         buy_count = int(CASH / buy_price)\n",
    "\n",
    "        if buy_count > 0:\n",
    "            if today_market.c_o_pct_chg > 0.1 and symbol in HS300:\n",
    "#                 print(today, symbol, '涨停板，买不进')\n",
    "                continue\n",
    "            \n",
    "        if buy_count > 0:\n",
    "            CASH -= buy_count * buy_price\n",
    "#             print(today, '建仓', buy_count, stock_df_dict[symbol].loc[today, 'open'], CASH)\n",
    "            order_df = order_df.append(\n",
    "                {\n",
    "                    'buy_date': today,\n",
    "                    'symbol': symbol,\n",
    "                    'buy_count': buy_count,\n",
    "                    'buy_price': today_market.open,\n",
    "                    'buy_reason': buy_reason,\n",
    "                    'sell_date': pd.np.nan,\n",
    "                    'sell_price': 0,\n",
    "                    'profit': 0,\n",
    "                    'cash': CASH,\n",
    "                    'property': PROPERTY,\n",
    "                },\n",
    "                ignore_index=True\n",
    "            )\n",
    "            ops_df = ops_df.append(\n",
    "                {\n",
    "                    'ops_date': today,\n",
    "                    'ops': 'BUY',\n",
    "                    'symbol': symbol,\n",
    "                    'count': buy_count,\n",
    "                    'price': buy_price,\n",
    "                    'reason': buy_reason,\n",
    "                    'profit': 0,\n",
    "                },\n",
    "                ignore_index=True\n",
    "            )\n",
    "        else:\n",
    "            if buy_reason == 'LONG':\n",
    "                miss_buy_long += 1\n",
    "            elif buy_reason == 'SHORT':\n",
    "                miss_buy_short += 1\n",
    "            \n",
    "    # 每天盘点财产\n",
    "    # 大盘下行时，闲钱进行T+0无风险投资，如货币基金\n",
    "#     if benchmark_today_market.MA60 < benchmark_today_market.MA180:\n",
    "#         CASH = CASH * (1 + 0.04 / 365)\n",
    "    show_df.loc[today, 'CASH'] = CASH\n",
    "    PROPERTY = CASH + \\\n",
    "        sum(\n",
    "            [\n",
    "                stock_df_dict[order_df.loc[idx, 'symbol']][:today].iloc[-1].open * order_df.loc[idx, 'buy_count'] \\\n",
    "                for idx in order_df.loc[order_df['sell_price']==0].index\n",
    "            ]\n",
    "        )\n",
    "    show_df.loc[today, 'PROPERTY'] = PROPERTY\n",
    "\n",
    "    yesterday = today\n",
    "    \n",
    "#     print(today)\n",
    "\n",
    "\n",
    "    \n",
    "# 最后一天，清仓\n",
    "order_arr = order_df.to_records(index=False)\n",
    "for idx in order_df[order_df['sell_price'] == 0].index:\n",
    "    cur_order = order_df.loc[idx]\n",
    "    symbol = cur_order['symbol']\n",
    "    today_market = stock_df_dict[symbol][:today].iloc[-1]\n",
    "    CASH += cur_order.buy_count * today_market.open\n",
    "    order_df.loc[idx, 'sell_date'] = today\n",
    "    order_df.loc[idx, 'sell_price'] = today_market.open\n",
    "    order_df.loc[idx, 'sell_reason'] = 'EXIT'\n",
    "    order_df.loc[idx, 'profit'] = \\\n",
    "        (today_market.open - cur_order.buy_price) * cur_order.buy_count\n",
    "    ops_df = ops_df.append(\n",
    "        {\n",
    "            'ops_date': today,\n",
    "            'ops': 'SELL',\n",
    "            'symbol': symbol,\n",
    "            'count': cur_order.buy_count,\n",
    "            'price': today_market.open,\n",
    "            'reason': cur_order.buy_reason,\n",
    "            'profit': (today_market.open - cur_order.buy_price) * cur_order.buy_count,\n",
    "        },\n",
    "        ignore_index=True\n",
    "    )\n",
    "\n",
    "\n",
    "print('START_MONEY', START_MONEY)\n",
    "print('CASH', CASH)\n",
    "print('HAPPY_MONEY', HAPPY_MONEY)\n",
    "print('PROPERTY', PROPERTY)\n",
    "\n",
    "s_p = stock_df_dict[BENCHMARK][start_date:].iloc[0].open\n",
    "e_p = stock_df_dict[BENCHMARK][:end_date].iloc[-1].open\n",
    "print('BENCHMARK', s_p, e_p, e_p / s_p)\n",
    "\n",
    "show_df['PROPERTY_MA'] = show_df['PROPERTY']"
   ]
  },
  {
   "cell_type": "code",
   "execution_count": 9,
   "metadata": {
    "scrolled": false
   },
   "outputs": [],
   "source": [
    "symbol = BENCHMARK\n",
    "symbol = '600703'\n",
    "\n",
    "df = order_df.copy()\n",
    "df = df.astype(dtype={'cash': 'int', 'profit': 'int'})\n",
    "# df\n",
    "# df[df.symbol == symbol]\n",
    "\n",
    "df = ops_df.copy()\n",
    "# df\n",
    "# df[df.symbol == symbol]\n",
    "# df[(df.ops_date > pd.to_datetime('2015-01-01').to_period(freq='D')) & (df.ops_date < pd.to_datetime('2016-01-01').to_period(freq='D'))]"
   ]
  },
  {
   "cell_type": "code",
   "execution_count": 10,
   "metadata": {
    "scrolled": false
   },
   "outputs": [],
   "source": [
    "# %matplotlib inline\n",
    "\n",
    "# import matplotlib\n",
    "# import matplotlib.pyplot as plt\n",
    "# plt.rcParams['figure.figsize'] = [15, 10]\n",
    "\n",
    "# df = stock_df_dict['600703'].iloc[:].copy()\n",
    "# df.columns\n",
    "# df.reset_index(drop=False, inplace=True)\n",
    "# # df = df.astype(dtype={'date': 'datetime64[ns]'})\n",
    "# df['date'] = df['date'].apply(lambda x: x.to_timestamp().to_datetime64())\n",
    "# df.set_index('date', inplace=True)\n",
    "# # display_charts(df, chart_type='stock', kind='line', y=['open', 'ROLLING_60_MAX', 'ROLLING_60_MIN', 'MA60', 'MA180'], figsize=(900, 600))\n",
    "# # display_charts(df, chart_type='stock', kind='line', y=['open', 'ROLLING_60_MAX', 'ROLLING_30_MIN'], figsize=(900, 600))\n",
    "# ax = df.plot(kind='line', y=['close', 'MA90', 'MA180'], linewidth=0.5, grid=True)"
   ]
  },
  {
   "cell_type": "code",
   "execution_count": 11,
   "metadata": {
    "scrolled": false
   },
   "outputs": [
    {
     "data": {
      "text/plain": [
       "'ALL'"
      ]
     },
     "execution_count": 11,
     "metadata": {},
     "output_type": "execute_result"
    },
    {
     "data": {
      "text/plain": [
       "('start_date', '2005-01-01')"
      ]
     },
     "execution_count": 11,
     "metadata": {},
     "output_type": "execute_result"
    },
    {
     "data": {
      "text/plain": [
       "('end_date', '2018-08-01')"
      ]
     },
     "execution_count": 11,
     "metadata": {},
     "output_type": "execute_result"
    },
    {
     "data": {
      "text/plain": [
       "('TURTLE_POS', 50)"
      ]
     },
     "execution_count": 11,
     "metadata": {},
     "output_type": "execute_result"
    },
    {
     "data": {
      "text/plain": [
       "('TURTLE_SHORT_BUY_N', 20)"
      ]
     },
     "execution_count": 11,
     "metadata": {},
     "output_type": "execute_result"
    },
    {
     "data": {
      "text/plain": [
       "('TURTLE_SHORT_SELL_N', 20)"
      ]
     },
     "execution_count": 11,
     "metadata": {},
     "output_type": "execute_result"
    },
    {
     "data": {
      "text/plain": [
       "('TURTLE_LONG_BUY_N', 60)"
      ]
     },
     "execution_count": 11,
     "metadata": {},
     "output_type": "execute_result"
    },
    {
     "data": {
      "text/plain": [
       "('TURTLE_LONG_SELL_N', 60)"
      ]
     },
     "execution_count": 11,
     "metadata": {},
     "output_type": "execute_result"
    },
    {
     "data": {
      "text/plain": [
       "('IS_HAPPYMONEY', False)"
      ]
     },
     "execution_count": 11,
     "metadata": {},
     "output_type": "execute_result"
    },
    {
     "data": {
      "text/plain": [
       "('IS_TAX', False)"
      ]
     },
     "execution_count": 11,
     "metadata": {},
     "output_type": "execute_result"
    },
    {
     "data": {
      "text/plain": [
       "('IS_SLIPPAGE', False)"
      ]
     },
     "execution_count": 11,
     "metadata": {},
     "output_type": "execute_result"
    },
    {
     "data": {
      "text/plain": [
       "('IS_RANDOM_BUY', True)"
      ]
     },
     "execution_count": 11,
     "metadata": {},
     "output_type": "execute_result"
    },
    {
     "data": {
      "text/plain": [
       "('IS_FILTER', False)"
      ]
     },
     "execution_count": 11,
     "metadata": {},
     "output_type": "execute_result"
    },
    {
     "data": {
      "text/plain": [
       "('IS_MARKETUP', False)"
      ]
     },
     "execution_count": 11,
     "metadata": {},
     "output_type": "execute_result"
    },
    {
     "data": {
      "text/plain": [
       "('IS_BUYBENCHMARK', True)"
      ]
     },
     "execution_count": 11,
     "metadata": {},
     "output_type": "execute_result"
    },
    {
     "data": {
      "text/plain": [
       "('START_MONEY', 100000)"
      ]
     },
     "execution_count": 11,
     "metadata": {},
     "output_type": "execute_result"
    },
    {
     "data": {
      "text/plain": [
       "('len(order_df)', 1045)"
      ]
     },
     "execution_count": 11,
     "metadata": {},
     "output_type": "execute_result"
    },
    {
     "data": {
      "text/plain": [
       "('sum_profit', 10375314.562000003)"
      ]
     },
     "execution_count": 11,
     "metadata": {},
     "output_type": "execute_result"
    },
    {
     "data": {
      "text/plain": [
       "('sum_tax', 0)"
      ]
     },
     "execution_count": 11,
     "metadata": {},
     "output_type": "execute_result"
    },
    {
     "data": {
      "text/plain": [
       "('win_rate', 0.4456207892204042)"
      ]
     },
     "execution_count": 11,
     "metadata": {},
     "output_type": "execute_result"
    },
    {
     "data": {
      "text/plain": [
       "('annual_return', 1.4080935924085278)"
      ]
     },
     "execution_count": 11,
     "metadata": {},
     "output_type": "execute_result"
    },
    {
     "data": {
      "text/plain": [
       "('len(order_df[order_df.profit != 0])', 1039)"
      ]
     },
     "execution_count": 11,
     "metadata": {},
     "output_type": "execute_result"
    },
    {
     "data": {
      "text/plain": [
       "('len(order_df[order_df.profit > 0])', 463)"
      ]
     },
     "execution_count": 11,
     "metadata": {},
     "output_type": "execute_result"
    },
    {
     "data": {
      "text/plain": [
       "('order LONG', 1045)"
      ]
     },
     "execution_count": 11,
     "metadata": {},
     "output_type": "execute_result"
    },
    {
     "data": {
      "text/plain": [
       "463"
      ]
     },
     "execution_count": 11,
     "metadata": {},
     "output_type": "execute_result"
    },
    {
     "data": {
      "text/plain": [
       "10375314.562000003"
      ]
     },
     "execution_count": 11,
     "metadata": {},
     "output_type": "execute_result"
    },
    {
     "data": {
      "text/plain": [
       "('order SHORT', 0)"
      ]
     },
     "execution_count": 11,
     "metadata": {},
     "output_type": "execute_result"
    },
    {
     "data": {
      "text/plain": [
       "0"
      ]
     },
     "execution_count": 11,
     "metadata": {},
     "output_type": "execute_result"
    },
    {
     "data": {
      "text/plain": [
       "0"
      ]
     },
     "execution_count": 11,
     "metadata": {},
     "output_type": "execute_result"
    },
    {
     "data": {
      "text/plain": [
       "('cum_returns', 103.75314562000078, 2.832240484616904)"
      ]
     },
     "execution_count": 11,
     "metadata": {},
     "output_type": "execute_result"
    },
    {
     "data": {
      "text/plain": [
       "('max_drawdown', -0.6322768497508968, -0.7245794370204585)"
      ]
     },
     "execution_count": 11,
     "metadata": {},
     "output_type": "execute_result"
    },
    {
     "data": {
      "text/plain": [
       "('annual_return', 0.4666022593516954, 0.11694902458749357)"
      ]
     },
     "execution_count": 11,
     "metadata": {},
     "output_type": "execute_result"
    },
    {
     "data": {
      "text/plain": [
       "('annual_volatility', 0.3862547359522279)"
      ]
     },
     "execution_count": 11,
     "metadata": {},
     "output_type": "execute_result"
    },
    {
     "data": {
      "text/plain": [
       "('calmar_ratio', 0.7379714432618029)"
      ]
     },
     "execution_count": 11,
     "metadata": {},
     "output_type": "execute_result"
    },
    {
     "data": {
      "text/plain": [
       "('sharpe_ratio', 1.1853343175646986)"
      ]
     },
     "execution_count": 11,
     "metadata": {},
     "output_type": "execute_result"
    },
    {
     "data": {
      "text/plain": [
       "('alpha', 0.3147532804471973)"
      ]
     },
     "execution_count": 11,
     "metadata": {},
     "output_type": "execute_result"
    },
    {
     "data": {
      "text/plain": [
       "('beta', 0.9017477941750518)"
      ]
     },
     "execution_count": 11,
     "metadata": {},
     "output_type": "execute_result"
    },
    {
     "data": {
      "text/plain": [
       "('ALL DAY', 3061)"
      ]
     },
     "execution_count": 11,
     "metadata": {},
     "output_type": "execute_result"
    },
    {
     "data": {
      "text/plain": [
       "'CASH_TURTLE'"
      ]
     },
     "execution_count": 11,
     "metadata": {},
     "output_type": "execute_result"
    },
    {
     "data": {
      "text/plain": [
       "'PROPERTY_TURTLE'"
      ]
     },
     "execution_count": 11,
     "metadata": {},
     "output_type": "execute_result"
    },
    {
     "data": {
      "text/plain": [
       "('CASH NOT USED DAY', 52)"
      ]
     },
     "execution_count": 11,
     "metadata": {},
     "output_type": "execute_result"
    },
    {
     "data": {
      "text/plain": [
       "('MISS_BUY_SIGNAL_LONG', 365198)"
      ]
     },
     "execution_count": 11,
     "metadata": {},
     "output_type": "execute_result"
    },
    {
     "data": {
      "text/plain": [
       "('MISS_BUY_SIGNAL_SHORT', 0)"
      ]
     },
     "execution_count": 11,
     "metadata": {},
     "output_type": "execute_result"
    }
   ],
   "source": [
    "'ALL'\n",
    "'start_date', start_date\n",
    "'end_date', end_date\n",
    "'TURTLE_POS', TURTLE_POS\n",
    "'TURTLE_SHORT_BUY_N', TURTLE_SHORT_BUY_N\n",
    "'TURTLE_SHORT_SELL_N', TURTLE_SHORT_SELL_N\n",
    "'TURTLE_LONG_BUY_N', TURTLE_LONG_BUY_N\n",
    "'TURTLE_LONG_SELL_N', TURTLE_LONG_SELL_N\n",
    "### 业务设置\n",
    "'IS_HAPPYMONEY', IS_HAPPYMONEY\n",
    "'IS_TAX', IS_TAX\n",
    "'IS_SLIPPAGE', IS_SLIPPAGE\n",
    "'IS_RANDOM_BUY', IS_RANDOM_BUY\n",
    "'IS_FILTER', IS_FILTER\n",
    "'IS_MARKETUP', IS_MARKETUP\n",
    "'IS_BUYBENCHMARK', IS_BUYBENCHMARK\n",
    "'START_MONEY', START_MONEY\n",
    "\n",
    "'len(order_df)', len(order_df)\n",
    "sum_profit = sum(list(order_df['profit']))\n",
    "'sum_profit', sum_profit\n",
    "# sum_tax = sum(list(order_df_TB['tax']))\n",
    "sum_tax = 0\n",
    "'sum_tax', sum_tax\n",
    "'win_rate', len(order_df[order_df.profit > 0]) / len(order_df[order_df.profit != 0])\n",
    "'annual_return', ((sum_profit - sum_tax) / START_MONEY + 1) ** (365 / count_day)\n",
    "'len(order_df[order_df.profit != 0])', len(order_df[order_df.profit != 0])\n",
    "'len(order_df[order_df.profit > 0])', len(order_df[order_df.profit > 0])\n",
    "'order LONG', len(order_df[order_df.buy_reason == 'LONG'])\n",
    "len(order_df[(order_df.buy_reason == 'LONG') & (order_df.profit > 0)])\n",
    "sum(list(order_df[order_df.buy_reason == 'LONG']['profit']))\n",
    "'order SHORT', len(order_df[order_df.buy_reason == 'SHORT'])\n",
    "len(order_df[(order_df.buy_reason == 'SHORT') & (order_df.profit > 0)])\n",
    "sum(list(order_df[order_df.buy_reason == 'SHORT']['profit']))\n",
    "\n",
    "df = show_df.dropna(how='any', inplace=False).copy()\n",
    "df = df.loc[start_date:end_date]\n",
    "algo = df['PROPERTY'].pct_change()\n",
    "benchmark = df.open.pct_change()\n",
    "\n",
    "if emp:\n",
    "    'cum_returns', emp.cum_returns(algo)[-1], emp.cum_returns(benchmark)[-1]\n",
    "    'max_drawdown', emp.max_drawdown(algo), emp.max_drawdown(benchmark)\n",
    "    'annual_return', emp.annual_return(algo), emp.annual_return(benchmark)\n",
    "    'annual_volatility', emp.annual_volatility(algo, period='daily')\n",
    "    'calmar_ratio', emp.calmar_ratio(algo)\n",
    "    'sharpe_ratio', emp.sharpe_ratio(returns=algo)\n",
    "    'alpha', emp.alpha(returns=algo, factor_returns=benchmark, risk_free=0.00)\n",
    "    'beta', emp.beta(returns=algo, factor_returns=benchmark, risk_free=0.00)\n",
    "\n",
    "'ALL DAY', len(df)\n",
    "'CASH_TURTLE'\n",
    "'PROPERTY_TURTLE'\n",
    "'CASH NOT USED DAY', len(df[df['CASH'] > (df['PROPERTY'] / TURTLE_POS)])\n",
    "'MISS_BUY_SIGNAL_LONG', miss_buy_long\n",
    "'MISS_BUY_SIGNAL_SHORT', miss_buy_short"
   ]
  },
  {
   "cell_type": "code",
   "execution_count": 12,
   "metadata": {
    "scrolled": false
   },
   "outputs": [
    {
     "data": {
      "text/plain": [
       "'计算标的持有、收益等'"
      ]
     },
     "execution_count": 12,
     "metadata": {},
     "output_type": "execute_result"
    },
    {
     "data": {
      "text/html": [
       "<div>\n",
       "<style scoped>\n",
       "    .dataframe tbody tr th:only-of-type {\n",
       "        vertical-align: middle;\n",
       "    }\n",
       "\n",
       "    .dataframe tbody tr th {\n",
       "        vertical-align: top;\n",
       "    }\n",
       "\n",
       "    .dataframe thead th {\n",
       "        text-align: right;\n",
       "    }\n",
       "</style>\n",
       "<table border=\"1\" class=\"dataframe\">\n",
       "  <thead>\n",
       "    <tr style=\"text-align: right;\">\n",
       "      <th></th>\n",
       "      <th>pro_pct</th>\n",
       "    </tr>\n",
       "    <tr>\n",
       "      <th>symbol</th>\n",
       "      <th></th>\n",
       "    </tr>\n",
       "  </thead>\n",
       "  <tbody>\n",
       "    <tr>\n",
       "      <th>600703</th>\n",
       "      <td>543.836342</td>\n",
       "    </tr>\n",
       "    <tr>\n",
       "      <th>600109</th>\n",
       "      <td>18.004175</td>\n",
       "    </tr>\n",
       "    <tr>\n",
       "      <th>600893</th>\n",
       "      <td>15.517408</td>\n",
       "    </tr>\n",
       "    <tr>\n",
       "      <th>300059</th>\n",
       "      <td>13.701797</td>\n",
       "    </tr>\n",
       "    <tr>\n",
       "      <th>000568</th>\n",
       "      <td>12.565375</td>\n",
       "    </tr>\n",
       "  </tbody>\n",
       "</table>\n",
       "</div>"
      ],
      "text/plain": [
       "           pro_pct\n",
       "symbol            \n",
       "600703  543.836342\n",
       "600109   18.004175\n",
       "600893   15.517408\n",
       "300059   13.701797\n",
       "000568   12.565375"
      ]
     },
     "execution_count": 12,
     "metadata": {},
     "output_type": "execute_result"
    },
    {
     "data": {
      "text/plain": [
       "246"
      ]
     },
     "execution_count": 12,
     "metadata": {},
     "output_type": "execute_result"
    }
   ],
   "source": [
    "'''计算标的持有、收益等'''\n",
    "\n",
    "df = order_df.copy()\n",
    "df.drop(columns=['sell_reason'], inplace=True)\n",
    "df['pro_pct'] = (df.sell_price - df.buy_price) / df.buy_price\n",
    "# df.sell_date.dtypes\n",
    "# df.loc[1].sell_date\n",
    "# df.loc[1].sell_date.to_timestamp()\n",
    "\n",
    "# df = df.astype(dtype={'sell_date': 'datetime64[ns]', 'buy_date': 'datetime64[ns]', 'cash':'int'})\n",
    "df = df.astype(dtype={'cash': 'int', 'profit': 'int'})\n",
    "# df.loc[1].sell_date\n",
    "\n",
    "# type(df[1].sell_date)\n",
    "df['h_days'] = (df.sell_date - df.buy_date)\n",
    "# df.loc[1].h_days\n",
    "# type(df.loc[1].h_days)\n",
    "\n",
    "df['h_days'] = df['h_days'].apply(lambda x: 1 if x == 0 else x)\n",
    "# df.loc[1].h_days\n",
    "\n",
    "df['per_d'] = df.pro_pct / df.h_days * 365\n",
    "# df['per_d'] = df.apply(lambda x: x.pro_pct / x.h_days)\n",
    "\n",
    "# df\n",
    "# df.sort_values(by='pro_pct', ascending=False)\n",
    "# df.sort_values(by='per_d', ascending=False)\n",
    "\n",
    "df = df.loc[:, ['symbol', 'pro_pct']]\n",
    "df = df.groupby(by='symbol').sum()\n",
    "df.sort_values(by='pro_pct', ascending=False).head(5)\n",
    "len(df)"
   ]
  },
  {
   "cell_type": "code",
   "execution_count": 13,
   "metadata": {
    "scrolled": false
   },
   "outputs": [
    {
     "data": {
      "text/plain": [
       "Index(['open', 'close', 'o_pct_chg', 'c_o_pct_chg', 'ROLLING_60_MAX',\n",
       "       'ROLLING_60_MIN', 'MA180', 'MA90', 'MA60', 'MA30', 'CASH',\n",
       "       'PROPERTY_TT', 'PROPERTY_MA'],\n",
       "      dtype='object')"
      ]
     },
     "execution_count": 13,
     "metadata": {},
     "output_type": "execute_result"
    },
    {
     "data": {
      "image/png": "[encoded data removed]",
      "text/plain": [
       "<Figure size 1080x720 with 1 Axes>"
      ]
     },
     "metadata": {},
     "output_type": "display_data"
    }
   ],
   "source": [
    "%matplotlib inline\n",
    "\n",
    "import matplotlib\n",
    "import matplotlib.pyplot as plt\n",
    "plt.rcParams['figure.figsize'] = [15, 10]\n",
    "\n",
    "# df = show_df.fillna(START_MONEY).copy()\n",
    "df = show_df.dropna(how='any', inplace=False).copy()\n",
    "df = df.loc[start_date:end_date]\n",
    "df.drop(columns=['PROPERTY'], inplace=True)\n",
    "df.columns\n",
    "\n",
    "df['close'] = (df['close'] - df.iloc[0]['close']) / df.iloc[0]['close']\n",
    "ax = df.plot(kind='line', y='close', label='BENCHMARK_%.2f' % df.iloc[-1]['close'], linewidth=1, grid=True)\n",
    "for col in sorted(df.columns):\n",
    "    if 'PROPERTY' in col:\n",
    "        df[col] = (df[col] - df.iloc[1][col]) / df.iloc[0][col]\n",
    "        ax = df.plot(kind='line', y=col, secondary_y=False, label='%s_%.2f' % (col, df.iloc[-1][col]), linewidth=1, grid=True, ax=ax)\n",
    "\n",
    "# ax = df.plot(kind='line', y='close', label='BENCHMARK_%.2f' % df.iloc[-1]['close'], linewidth=1, grid=True)\n",
    "# for col in sorted(df.columns):\n",
    "#     if 'PROPERTY' in col:\n",
    "#         df[col] = (df[col] - df.iloc[1][col]) / df.iloc[0][col]\n",
    "#         ax = df.plot(kind='line', y=col, secondary_y=False, label='MA_%s_%.2f' % (col, df.iloc[-1][col]), linewidth=1, grid=True, ax=ax)\n",
    "\n",
    "# display_charts(df, kind='line', figsize=(900, 600), logy=False)"
   ]
  },
  {
   "cell_type": "code",
   "execution_count": 14,
   "metadata": {
    "scrolled": false
   },
   "outputs": [],
   "source": [
    "# df = show_df.dropna(how='any', inplace=False).copy()\n",
    "# # df.drop(columns=['open', 'high', 'low', 'o_pct_chg', 'TR', 'N'], inplace=True)\n",
    "# df = df.loc[start_date:end_date]\n",
    "# df.columns\n",
    "\n",
    "# show_columns = ['close']\n",
    "# df['close'] = (df['close'] - df.iloc[0]['close']) / df.iloc[0]['close']\n",
    "# for col in sorted(df.columns):\n",
    "#     if 'PROPERTY' in col:\n",
    "#         df[col] = (df[col] - df.iloc[1][col]) / df.iloc[0][col]\n",
    "#         show_columns.append(col)\n",
    "#     if 'CASH' in col:\n",
    "#         df[col] = df[col] / df.iloc[0][col]\n",
    "#         show_columns.append(col)\n",
    "\n",
    "# # df = df.loc[:, ['close', 'CASH_TURTLE_20_60_60', 'PROPERTY_TURTLE_20_60_60']]\n",
    "# df = df.loc[:, show_columns]\n",
    "# df.reset_index(drop=False, inplace=True)\n",
    "# # df.dtypes\n",
    "# # df.iloc[0].date\n",
    "# # df.iloc[0].date.to_timestamp()\n",
    "# # df.iloc[0].date.to_timestamp().to_datetime64()\n",
    "# df['date'] = df['date'].apply(lambda x: x.to_timestamp().to_datetime64())\n",
    "# # df.iloc[0].date\n",
    "# df.set_index(keys=['date'], inplace=True)\n",
    "# # df\n",
    "\n",
    "# display_charts(df, chart_type='stock', figsize=(900, 600), logy=False)"
   ]
  }
 ],
 "metadata": {
  "kernelspec": {
   "display_name": "Python 3",
   "language": "python",
   "name": "python3"
  },
  "language_info": {
   "codemirror_mode": {
    "name": "ipython",
    "version": 3
   },
   "file_extension": ".py",
   "mimetype": "text/x-python",
   "name": "python",
   "nbconvert_exporter": "python",
   "pygments_lexer": "ipython3",
   "version": "3.6.5"
  }
 },
 "nbformat": 4,
 "nbformat_minor": 2
}
