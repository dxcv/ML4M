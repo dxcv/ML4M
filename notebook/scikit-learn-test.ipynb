{
 "cells": [
  {
   "cell_type": "code",
   "execution_count": 1,
   "metadata": {},
   "outputs": [],
   "source": [
    "import sys\n",
    "import os\n",
    "sys.path.append(os.path.abspath(os.path.join(os.getcwd(), '..')))"
   ]
  },
  {
   "cell_type": "code",
   "execution_count": 2,
   "metadata": {},
   "outputs": [],
   "source": [
    "from data_structure.test import *"
   ]
  },
  {
   "cell_type": "code",
   "execution_count": 3,
   "metadata": {},
   "outputs": [
    {
     "name": "stdout",
     "output_type": "stream",
     "text": [
      "Wall time: 3.6 s\n"
     ]
    }
   ],
   "source": [
    "%%time\n",
    "origin_result_df = deal_data()\n",
    "# origin_result_df"
   ]
  },
  {
   "cell_type": "code",
   "execution_count": 4,
   "metadata": {},
   "outputs": [],
   "source": [
    "hoRatio = 0.1\n",
    "offset_day = 7\n",
    "# offset_day_list = range(1, 40, 1)\n",
    "k = 70\n",
    "# k_list = range(2, 100, 1)"
   ]
  },
  {
   "cell_type": "code",
   "execution_count": 5,
   "metadata": {},
   "outputs": [
    {
     "name": "stdout",
     "output_type": "stream",
     "text": [
      "Wall time: 5.43 s\n"
     ]
    },
    {
     "data": {
      "text/plain": [
       "(0.4666666666666667, 0.47058823529411764, 7, 70, 0.1)"
      ]
     },
     "execution_count": 5,
     "metadata": {},
     "output_type": "execute_result"
    }
   ],
   "source": [
    "# %time\n",
    "%time ret = guess_price(origin_result_df, hoRatio=hoRatio, offset_day=offset_day, k=k)\n",
    "ret"
   ]
  },
  {
   "cell_type": "code",
   "execution_count": 6,
   "metadata": {},
   "outputs": [
    {
     "name": "stdout",
     "output_type": "stream",
     "text": [
      "KNeighborsClassifier(algorithm='auto', leaf_size=1, metric='minkowski',\n",
      "           metric_params=None, n_jobs=1, n_neighbors=70, p=2,\n",
      "           weights='uniform')\n",
      "Wall time: 1.88 s\n"
     ]
    }
   ],
   "source": [
    "%%time\n",
    "# import time\n",
    "# time.sleep(1)\n",
    "from sklearn import neighbors\n",
    "from sklearn import preprocessing\n",
    "clf = neighbors.KNeighborsClassifier(\n",
    "    n_neighbors=k, weights='uniform', algorithm='auto', leaf_size=1, p=2, metric='minkowski', metric_params=None, n_jobs=1)\n",
    "print(clf)"
   ]
  },
  {
   "cell_type": "code",
   "execution_count": 9,
   "metadata": {},
   "outputs": [
    {
     "name": "stdout",
     "output_type": "stream",
     "text": [
      "Wall time: 143 ms\n",
      "(0.71604938271604934, 2, 11, KNeighborsClassifier(algorithm='auto', leaf_size=1, metric='minkowski',\n",
      "           metric_params=None, n_jobs=1, n_neighbors=2, p=2,\n",
      "           weights='uniform'))\n",
      "(0.68292682926829273, 20, 6, KNeighborsClassifier(algorithm='auto', leaf_size=1, metric='minkowski',\n",
      "           metric_params=None, n_jobs=1, n_neighbors=20, p=2,\n",
      "           weights='uniform'))\n",
      "(0.67073170731707321, 18, 6, KNeighborsClassifier(algorithm='auto', leaf_size=1, metric='minkowski',\n",
      "           metric_params=None, n_jobs=1, n_neighbors=18, p=2,\n",
      "           weights='uniform'))\n",
      "(0.66666666666666663, 22, 13, KNeighborsClassifier(algorithm='auto', leaf_size=1, metric='minkowski',\n",
      "           metric_params=None, n_jobs=1, n_neighbors=22, p=2,\n",
      "           weights='uniform'))\n",
      "(0.66666666666666663, 18, 8, KNeighborsClassifier(algorithm='auto', leaf_size=1, metric='minkowski',\n",
      "           metric_params=None, n_jobs=1, n_neighbors=18, p=2,\n",
      "           weights='uniform'))\n",
      "(0.66666666666666663, 17, 8, KNeighborsClassifier(algorithm='auto', leaf_size=1, metric='minkowski',\n",
      "           metric_params=None, n_jobs=1, n_neighbors=17, p=2,\n",
      "           weights='uniform'))\n",
      "(0.65853658536585369, 22, 6, KNeighborsClassifier(algorithm='auto', leaf_size=1, metric='minkowski',\n",
      "           metric_params=None, n_jobs=1, n_neighbors=22, p=2,\n",
      "           weights='uniform'))\n",
      "(0.65432098765432101, 27, 8, KNeighborsClassifier(algorithm='auto', leaf_size=1, metric='minkowski',\n",
      "           metric_params=None, n_jobs=1, n_neighbors=27, p=2,\n",
      "           weights='uniform'))\n",
      "(0.65432098765432101, 26, 8, KNeighborsClassifier(algorithm='auto', leaf_size=1, metric='minkowski',\n",
      "           metric_params=None, n_jobs=1, n_neighbors=26, p=2,\n",
      "           weights='uniform'))\n",
      "(0.65432098765432101, 25, 8, KNeighborsClassifier(algorithm='auto', leaf_size=1, metric='minkowski',\n",
      "           metric_params=None, n_jobs=1, n_neighbors=25, p=2,\n",
      "           weights='uniform'))\n",
      "Wall time: 26 s\n"
     ]
    }
   ],
   "source": [
    "%%time\n",
    "\n",
    "import itertools\n",
    "\n",
    "# temp_df = origin_result_df.copy()\n",
    "# temp_df = temp_df.reset_index(drop=False)\n",
    "# temp_df['Close_change'] = '-'\n",
    "# temp_df['inX_lable'] = 'CALCULATING'\n",
    "# print(temp_df)\n",
    "\n",
    "%time o_result_df = kNN.autoNorm(origin_result_df)\n",
    "# print(result_df)\n",
    "# %time X_normalized = preprocessing.normalize(origin_result_df, norm='l2')\n",
    "# print(X_normalized)\n",
    "\n",
    "result_list = []\n",
    "\n",
    "offset_day_list = range(1, 15, 1)\n",
    "k_list = range(2, 110, 1)\n",
    "# for k in range(1, 110, 1):\n",
    "for offset_day, k in itertools.product(offset_day_list, k_list):\n",
    "    result_df = o_result_df.copy()\n",
    "    result_df = result_df.reset_index(drop=False)\n",
    "    result_df['Close_change'] = pd.np.nan\n",
    "    # result_df['Close_change2'] = pd.np.nan\n",
    "\n",
    "    # for i in range(0, len(result_df), 1):\n",
    "    #     try:\n",
    "    #         result_df.loc[i, 'Close_change'] = 'UP' if result_df.loc[i + offset_day, 'close'] > result_df.loc[i, 'close'] else 'DOWN'\n",
    "    #         temp_df.loc[i, 'Close_change'] = result_df.loc[i, 'Close_change']\n",
    "    #     except Exception as e:\n",
    "    #         pass\n",
    "\n",
    "\n",
    "    result_df['Close_change'] = result_df.close[:len(result_df)-offset_day] - result_df.close[offset_day:].values\n",
    "    result_df['Close_change'] = result_df['Close_change'].apply(lambda x: 'UP' if x <=0 else 'DOWN')\n",
    "    result_df.loc[len(result_df)-offset_day: ,'Close_change'] = pd.np.nan\n",
    "\n",
    "    result_df.dropna(inplace=True)\n",
    "    # print(result_df)\n",
    "\n",
    "    numTestVecs = int(hoRatio * len(result_df))\n",
    "    inX_label = result_df.loc[:, 'Close_change']\n",
    "    train_label = inX_label.loc[:len(result_df)-numTestVecs]\n",
    "    sample_label = inX_label.loc[len(result_df)-numTestVecs:]\n",
    "\n",
    "    result_df = result_df.loc[:, ['close', 'volume', 'News_count', 'News_sentiment']]\n",
    "    train_df = result_df.loc[:len(result_df)-numTestVecs]\n",
    "    sample_df = result_df.loc[len(result_df)-numTestVecs:]\n",
    "\n",
    "    clf = neighbors.KNeighborsClassifier(\n",
    "        n_neighbors=k, weights='uniform', algorithm='auto', leaf_size=1, p=2, metric='minkowski', metric_params=None, n_jobs=1)\n",
    "    clf.fit(train_df, train_label)\n",
    "    # prediction = clf.predict([(0.04380037, 0.17151515, 0, 0)])\n",
    "    # print(prediction)\n",
    "    # prediction = clf.predict(sample_df)\n",
    "    # print(prediction)\n",
    "    score = clf.score(sample_df, sample_label)\n",
    "    # print(score)\n",
    "    result_list.append((score, k, offset_day, clf))\n",
    "\n",
    "# print(sorted(result_list)[::-1][:10])\n",
    "for item in sorted(result_list)[::-1][:10]:\n",
    "    print(item)"
   ]
  },
  {
   "cell_type": "code",
   "execution_count": 10,
   "metadata": {},
   "outputs": [
    {
     "name": "stdout",
     "output_type": "stream",
     "text": [
      "105000 0.716049382716 2 11\n",
      "107688 0.682926829268 20 6\n",
      "109708 0.670731707317 18 6\n",
      "100794 0.666666666667 22 13\n",
      "106164 0.666666666667 18 8\n",
      "105876 0.666666666667 17 8\n",
      "106512 0.658536585366 22 6\n",
      "99544 0.654320987654 27 8\n",
      "102523 0.654320987654 26 8\n",
      "100923 0.654320987654 25 8\n",
      "100970 0.654320987654 24 13\n",
      "101621 0.654320987654 24 8\n",
      "102800 0.654320987654 22 8\n",
      "100524 0.654320987654 21 13\n",
      "100547 0.654320987654 20 13\n",
      "103550 0.654320987654 19 8\n",
      "99055 0.654320987654 18 13\n",
      "99359 0.654320987654 17 13\n",
      "102616 0.654320987654 2 13\n",
      "100768 0.641975308642 50 13\n",
      "100768 0.641975308642 48 13\n",
      "100017 0.641975308642 28 14\n",
      "97405 0.641975308642 26 11\n",
      "97689 0.641975308642 25 11\n",
      "100391 0.641975308642 23 13\n",
      "101032 0.641975308642 23 8\n",
      "103514 0.641975308642 20 8\n",
      "100221 0.641975308642 16 13\n",
      "98532 0.641975308642 16 10\n",
      "99724 0.641975308642 14 13\n",
      "103932 0.641975308642 2 12\n",
      "104782 0.634146341463 24 6\n",
      "101916 0.634146341463 18 7\n",
      "100682 0.62962962963 52 13\n",
      "100682 0.62962962963 51 13\n",
      "99500 0.62962962963 46 13\n",
      "97304 0.62962962963 42 13\n",
      "96729 0.62962962963 37 12\n",
      "99146 0.62962962963 30 13\n",
      "99042 0.62962962963 29 14\n",
      "99392 0.62962962963 29 8\n",
      "99046 0.62962962963 28 13\n",
      "99270 0.62962962963 27 13\n",
      "99784 0.62962962963 24 14\n",
      "98102 0.62962962963 24 11\n",
      "100970 0.62962962963 20 9\n",
      "96699 0.62962962963 19 13\n",
      "102146 0.62962962963 18 9\n",
      "101485 0.62962962963 16 9\n",
      "104098 0.62962962963 16 8\n",
      "Wall time: 37.3 s\n"
     ]
    }
   ],
   "source": [
    "%%time\n",
    "\n",
    "for score, k, offset_day, clf in sorted(result_list)[::-1][:50]:\n",
    "    result_df = origin_result_df.copy()\n",
    "    \n",
    "    result_df['inX_lable'] = o_result_df.apply(lambda x: clf.predict([x.values])[0], axis=1)\n",
    "\n",
    "    result_df = result_df.reset_index(drop=False)\n",
    "    result_df['Close_change'] = pd.np.nan\n",
    "    result_df['Close_change'] = result_df.close[:len(result_df)-offset_day] - result_df.close[offset_day:].values\n",
    "    result_df['Close_change'] = result_df['Close_change'].apply(lambda x: 'UP' if x <=0 else 'DOWN')\n",
    "    result_df.loc[len(result_df)-offset_day: ,'Close_change'] = pd.np.nan\n",
    "    \n",
    "#     print(result_df)\n",
    "\n",
    "    last_property = trade_strategy(result_df, offset_day, hoRatio)\n",
    "    print(int(last_property), score, k, offset_day)"
   ]
  },
  {
   "cell_type": "code",
   "execution_count": null,
   "metadata": {},
   "outputs": [],
   "source": []
  }
 ],
 "metadata": {
  "kernelspec": {
   "display_name": "Python 3",
   "language": "python",
   "name": "python3"
  },
  "language_info": {
   "codemirror_mode": {
    "name": "ipython",
    "version": 3
   },
   "file_extension": ".py",
   "mimetype": "text/x-python",
   "name": "python",
   "nbconvert_exporter": "python",
   "pygments_lexer": "ipython3",
   "version": "3.6.1"
  }
 },
 "nbformat": 4,
 "nbformat_minor": 2
}
