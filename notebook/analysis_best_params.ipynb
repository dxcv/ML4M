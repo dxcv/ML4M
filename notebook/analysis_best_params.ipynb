{
 "cells": [
  {
   "cell_type": "code",
   "execution_count": null,
   "metadata": {},
   "outputs": [],
   "source": [
    "import os\n",
    "import sys\n",
    "sys.path.append(os.path.abspath(os.path.join(os.getcwd(), '..')))\n",
    "\n",
    "import pandas as pd\n",
    "pd.core.common.is_list_like = pd.api.types.is_list_like\n",
    "try:\n",
    "    import empyrical as emp\n",
    "except:\n",
    "    emp = None\n",
    "import tushare as ts\n",
    "import time\n",
    "import datetime\n",
    "import random\n",
    "import seaborn as sns\n",
    "\n",
    "from common.config import Config\n",
    "from spider.spider_nasdaq import Spider_nasdaq\n",
    "from spider.spider_coinmarketcap import Spider_coinmarketcap\n",
    "\n",
    "from IPython.core.interactiveshell import InteractiveShell\n",
    "InteractiveShell.ast_node_interactivity = 'all'\n",
    "\n",
    "from pandas_highcharts.core import serialize\n",
    "from pandas_highcharts.display import display_charts\n",
    "\n",
    "from IPython.core.display import display, HTML\n",
    "display(HTML(\"<style>.container { width:70% !important; }</style>\"))"
   ]
  },
  {
   "cell_type": "code",
   "execution_count": null,
   "metadata": {},
   "outputs": [],
   "source": [
    "%matplotlib inline\n",
    "import matplotlib.pyplot as plt\n",
    "import numpy as np\n",
    "plt.rcParams['figure.figsize'] = [16, 16]\n",
    "\n",
    "def analysis_csv_result(csv_file, best_pct = '95%'):\n",
    "    df = pd.read_csv(csv_file)\n",
    "    df = df.loc[:, ['N', 'K', 'M', 'ORDER', 'RETURN_ALGO', 'RETURN_BENC', 'MAXDROPDOWN_ALGO', 'MAXDROPDOWN_BENC', 'WINRATE_ORDER', 'WINRATE_YEARLY', 'ANNUAL_RETURN']]\n",
    "\n",
    "    RETURN_ALGO_md = df['RETURN_ALGO'].describe(percentiles=[.75, .90, .95])[best_pct]\n",
    "    WINRATE_YEARLY_md = df['WINRATE_YEARLY'].describe(percentiles=[.75, .90, .95])[best_pct]\n",
    "    MAXDROPDOWN_ALGO_md = df['MAXDROPDOWN_ALGO'].describe(percentiles=[.75, .90, .95])[best_pct]\n",
    "\n",
    "    best_df = df[(df['RETURN_ALGO'] > RETURN_ALGO_md) & (df['MAXDROPDOWN_ALGO'] > MAXDROPDOWN_ALGO_md)]\n",
    "\n",
    "    heat_df = df.pivot(index='N', columns='M', values='RETURN_ALGO')\n",
    "#     ax = sns.heatmap(heat_df, annot=True)\n",
    "    return df, best_df"
   ]
  },
  {
   "cell_type": "code",
   "execution_count": null,
   "metadata": {
    "scrolled": false
   },
   "outputs": [],
   "source": [
    "df, best_df = analysis_csv_result('../database/result/ETFROTATION/ETFROTATION-399300399006000012-2015-01-01-2019-08-01-20190816021030.csv')\n",
    "df.describe()\n",
    "# best_df"
   ]
  },
  {
   "cell_type": "code",
   "execution_count": null,
   "metadata": {},
   "outputs": [],
   "source": [
    "df, best_df = analysis_csv_result('../database/result/ETFROTATION/ETFROTATION-399300000905399006000012-2015-01-01-2019-08-01-20190816030936.csv')\n",
    "df.describe()\n",
    "# best_df"
   ]
  },
  {
   "cell_type": "code",
   "execution_count": null,
   "metadata": {},
   "outputs": [],
   "source": [
    "df, best_df = analysis_csv_result('../database/result/ETFROTATION/ETFROTATION-399300513100399006000012-20150101-20190801-20190815-162314.csv')\n",
    "df.describe()\n",
    "# best_df"
   ]
  },
  {
   "cell_type": "code",
   "execution_count": null,
   "metadata": {},
   "outputs": [],
   "source": [
    "df, best_df = analysis_csv_result('../database/result/ETFROTATION/ETFROTATION-399300518880399006000012-20150101-20190801-20190815-135234.csv')\n",
    "df.describe()\n",
    "# best_df"
   ]
  },
  {
   "cell_type": "code",
   "execution_count": null,
   "metadata": {},
   "outputs": [],
   "source": [
    "df, best_df = analysis_csv_result('../database/result/ETFROTATION/ETFROTATION-399300518880513100399006000012-20150101-20190801-20190815-184346.csv')\n",
    "df.describe()\n",
    "# best_df"
   ]
  }
 ],
 "metadata": {
  "kernelspec": {
   "display_name": "Python 3",
   "language": "python",
   "name": "python3"
  },
  "language_info": {
   "codemirror_mode": {
    "name": "ipython",
    "version": 3
   },
   "file_extension": ".py",
   "mimetype": "text/x-python",
   "name": "python",
   "nbconvert_exporter": "python",
   "pygments_lexer": "ipython3",
   "version": "3.6.5"
  }
 },
 "nbformat": 4,
 "nbformat_minor": 2
}
