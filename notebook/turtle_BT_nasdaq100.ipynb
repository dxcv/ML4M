{
 "cells": [
  {
   "cell_type": "code",
   "execution_count": 1,
   "metadata": {
    "scrolled": true
   },
   "outputs": [
    {
     "data": {
      "text/html": [
       "\n",
       "<script src=\"//code.highcharts.com/stock/highstock.js\"></script>\n",
       "<script src=\"//code.highcharts.com/highcharts-more.js\"></script>\n",
       "<script src=\"//code.highcharts.com/modules/exporting.js\"></script>\n"
      ],
      "text/plain": [
       "<IPython.core.display.HTML object>"
      ]
     },
     "metadata": {},
     "output_type": "display_data"
    },
    {
     "data": {
      "text/plain": [
       "<module 'pandas' from 'd:\\\\python3\\\\lib\\\\site-packages\\\\pandas\\\\__init__.py'>"
      ]
     },
     "execution_count": 1,
     "metadata": {},
     "output_type": "execute_result"
    }
   ],
   "source": [
    "import os\n",
    "import sys\n",
    "sys.path.append(os.path.abspath(os.path.join(os.getcwd(), '..')))\n",
    "\n",
    "import pandas as pd\n",
    "pd.core.common.is_list_like = pd.api.types.is_list_like\n",
    "import empyrical as emp\n",
    "import time\n",
    "import random\n",
    "# from concurrent.futures import ProcessPoolExecutor\n",
    "\n",
    "from common.log import *\n",
    "from common.config import Config\n",
    "from spider.spider_nasdaq import Spider_nasdaq\n",
    "\n",
    "from IPython.core.interactiveshell import InteractiveShell\n",
    "InteractiveShell.ast_node_interactivity = 'all'\n",
    "\n",
    "from pandas_highcharts.core import serialize\n",
    "from pandas_highcharts.display import display_charts\n",
    "\n",
    "CONF = Config().data[0]\n",
    "MONGODB = CONF['MONGODB']\n",
    "NASDAQ = CONF['NASDAQ']\n",
    "CRYPTOCURRENCY = CONF['CRYPTOCURRENCY']\n",
    "NASDAQ100 = CONF['NASDAQ100']\n",
    "\n",
    "pd"
   ]
  },
  {
   "cell_type": "code",
   "execution_count": 2,
   "metadata": {
    "scrolled": false
   },
   "outputs": [
    {
     "name": "stdout",
     "output_type": "stream",
     "text": [
      "Wall time: 0 ns\n"
     ]
    }
   ],
   "source": [
    "%%time\n",
    "\n",
    "spider = Spider_nasdaq()\n",
    "timeframe = '10y'\n",
    "ignore = True\n",
    "\n",
    "# for symbol in NASDAQ100:\n",
    "for symbol in ['NDX', 'TSLA']:\n",
    "#     if symbol == 'SHPG':\n",
    "#         ignore = False\n",
    "#     if ignore:\n",
    "#         continue\n",
    "#     datafile = spider.get_stock_data(symbol, timeframe)\n",
    "#     print(datafile)\n",
    "    pass"
   ]
  },
  {
   "cell_type": "code",
   "execution_count": 3,
   "metadata": {},
   "outputs": [
    {
     "name": "stdout",
     "output_type": "stream",
     "text": [
      "Wall time: 0 ns\n"
     ]
    }
   ],
   "source": [
    "%%time\n",
    "\n",
    "### 时间设置\n",
    "start_date = '2008-06-02'\n",
    "start_date = '2010-01-01'\n",
    "# start_date = '2015-01-01'\n",
    "start_date = '2017-01-01'\n",
    "start_date = '2018-01-01'\n",
    "end_date = '2018-06-01'\n",
    "\n",
    "TURTLE_POS = 20\n",
    "### Turtle System One - Short\n",
    "TURTLE_SHORT_BUY_N = 20\n",
    "TURTLE_SHORT_SELL_N = 20\n",
    "### Turtle System Two - Long\n",
    "TURTLE_LONG_BUY_N = 60\n",
    "TURTLE_LONG_SELL_N = 60\n",
    "\n",
    "### 业务设置\n",
    "IS_HAPPYMONEY = False\n",
    "IS_TAX = False\n",
    "IS_SLIPPAGE = True\n",
    "IS_RANDOM_BUY = True\n",
    "START_MONEY = 100000\n",
    "HAPPY_MONEY = 0\n",
    "PROPERTY = START_MONEY\n",
    "CASH = START_MONEY\n"
   ]
  },
  {
   "cell_type": "code",
   "execution_count": 4,
   "metadata": {},
   "outputs": [],
   "source": [
    "# PEG_NASDAQ100 = {\n",
    "#   - ATVI\n",
    "#   - ADBE\n",
    "#   - ALXN\n",
    "#   - ALGN\n",
    "#   - GOOGL\n",
    "#   - GOOG\n",
    "#   - AMZN\n",
    "#   - AAL\n",
    "#   - AMGN\n",
    "#   - ADI\n",
    "#   - AAPL\n",
    "#   - AMAT\n",
    "#   - ASML\n",
    "#   - ADSK\n",
    "#   - ADP\n",
    "#   - BIDU\n",
    "#   - BIIB\n",
    "#   - BMRN\n",
    "#   - BKNG\n",
    "#   - AVGO\n",
    "#   - CA\n",
    "#   - CDNS\n",
    "#   - CELG\n",
    "#   - CERN\n",
    "#   - CHTR\n",
    "#   - CHKP\n",
    "#   - CTAS\n",
    "#   - CSCO\n",
    "#   - CTXS\n",
    "#   - CTSH\n",
    "#   - CMCSA\n",
    "#   - COST\n",
    "#   - CSX\n",
    "#   - CTRP\n",
    "#   - XRAY\n",
    "#   - DISH\n",
    "#   - DLTR\n",
    "#   - EBAY\n",
    "#   - EA\n",
    "#   - EXPE\n",
    "#   - ESRX\n",
    "#   - FB\n",
    "#   - FAST\n",
    "#   - FISV\n",
    "#   - GILD\n",
    "#   - HAS\n",
    "#   - HSIC\n",
    "#   - HOLX\n",
    "#   - IDXX\n",
    "#   - ILMN\n",
    "#   - INCY\n",
    "#   - INTC\n",
    "#   - INTU\n",
    "#   - ISRG\n",
    "#   - JBHT\n",
    "#   - JD\n",
    "#   - KLAC\n",
    "#   - LRCX\n",
    "#   - LBTYA\n",
    "#   - LBTYK\n",
    "#   - MAR\n",
    "#   - MXIM\n",
    "#   - MELI\n",
    "#   - MCHP\n",
    "#   - MU\n",
    "#   - MSFT\n",
    "#   - MDLZ\n",
    "#   - MNST\n",
    "#   - MYL\n",
    "#   - NTES\n",
    "#   - NFLX\n",
    "#   - NVDA\n",
    "#   - ORLY\n",
    "#   - PCAR\n",
    "#   - PAYX\n",
    "#   - PYPL\n",
    "#   - QCOM\n",
    "#   - QRTEA\n",
    "#   - REGN\n",
    "#   - ROST\n",
    "#   - STX\n",
    "#   - SHPG\n",
    "#   - SIRI\n",
    "#   - SWKS\n",
    "#   - SBUX\n",
    "#   - SYMC\n",
    "#   - SNPS\n",
    "#   - TMUS\n",
    "#   - TTWO\n",
    "#   - TSLA\n",
    "#   - TXN\n",
    "#   - KHC\n",
    "#   - FOXA\n",
    "#   - FOX\n",
    "#   - ULTA\n",
    "#   - VRSK\n",
    "#   - VRTX\n",
    "#   - VOD\n",
    "#   - WBA\n",
    "#   - WDC\n",
    "#   - WDAY\n",
    "#   - WYNN\n",
    "#   - XLNX\n",
    "# }"
   ]
  },
  {
   "cell_type": "code",
   "execution_count": 5,
   "metadata": {},
   "outputs": [
    {
     "name": "stdout",
     "output_type": "stream",
     "text": [
      "Wall time: 53.4 s\n"
     ]
    }
   ],
   "source": [
    "%%time\n",
    "\n",
    "stock_df_dict = {}\n",
    "\n",
    "for symbol in NASDAQ100[:]:\n",
    "    stock_data_file = '../database/market/%s.csv' % symbol\n",
    "    stock_df = pd.read_csv(stock_data_file)\n",
    "\n",
    "    # 筛选字段\n",
    "#     stock_df = stock_df.loc[:, ['date', 'open', 'close']]\n",
    "\n",
    "    # 去掉Nasdaq行情首行的当天行情\n",
    "    if symbol in NASDAQ:\n",
    "        stock_df = stock_df.drop([0])\n",
    "\n",
    "    # 抛弃空值异常值\n",
    "    stock_df.dropna(axis=0, how='any', inplace=True)\n",
    "\n",
    "    # 格式化日期\n",
    "    # 1.48 s ± 45.8 ms per loop (mean ± std. dev. of 7 runs, 1 loop each)\n",
    "#     stock_df['date'] = stock_df['date'].apply(lambda x: pd.Period(x, freq='D'))\n",
    "\n",
    "    # 445 ms ± 17.5 ms per loop (mean ± std. dev. of 7 runs, 1 loop each)\n",
    "    stock_df = stock_df.assign(date=pd.to_datetime(stock_df['date']))  # need .index.to_period('D')\n",
    "\n",
    "    # 476 ms ± 46.6 ms per loop (mean ± std. dev. of 7 runs, 1 loop each)\n",
    "#     stock_df['date'] = pd.to_datetime(stock_df['date'])  # need .index.to_period('D')\n",
    "    \n",
    "    # 转换字段格式\n",
    "#     stock_df = stock_df.astype(dtype={'volume': 'float64'})\n",
    "\n",
    "    # 用日期作索引，日期升序排序\n",
    "    # 95.1 µs ± 1.58 µs per loop (mean ± std. dev. of 7 runs, 10000 loops each)\n",
    "    stock_df = stock_df[::-1]\n",
    "    \n",
    "    # 407 µs ± 5.07 µs per loop (mean ± std. dev. of 7 runs, 1000 loops each)\n",
    "#     %timeit stock_df.set_index(['date'], inplace=False)\n",
    "\n",
    "    # Wall time: 500 µs\n",
    "    stock_df.set_index(['date'], inplace=True)\n",
    "    \n",
    "    # 305 µs ± 2.75 µs per loop (mean ± std. dev. of 7 runs, 1000 loops each)\n",
    "#     stock_df = stock_df.sort_index(axis=0, ascending=True)\n",
    "    \n",
    "    # 822 µs ± 41.3 µs per loop (mean ± std. dev. of 7 runs, 1000 loops each)\n",
    "    stock_df.index = stock_df.index.to_period('D')\n",
    "\n",
    "    # 计算涨跌幅\n",
    "#     stock_df['c_pct_chg'] = stock_df.close.pct_change(1)\n",
    "    stock_df['o_pct_chg'] = stock_df.open.pct_change(1)\n",
    "    \n",
    "    # Turtle指标\n",
    "#     stock_df['TR1'] = abs(stock_df['high'] - stock_df['low'])\n",
    "#     stock_df['TR2'] = abs(stock_df['high'] - stock_df['close'].shift())\n",
    "#     stock_df['TR3'] = abs(stock_df['low'] - stock_df['close'].shift())\n",
    "#     stock_df['TR'] = stock_df[['TR1', 'TR2', 'TR3']].max(axis=1)\n",
    "#     stock_df['N'] = stock_df['TR'].rolling(20).mean()\n",
    "#     stock_df['UNIT'] = (0.01 * START_MONEY) / (stock_df['N'])\n",
    "    stock_df['ROLLING_%d_MAX' % TURTLE_SHORT_BUY_N] = stock_df['open'].rolling(TURTLE_SHORT_BUY_N).max()\n",
    "    stock_df['ROLLING_%d_MIN' % TURTLE_SHORT_SELL_N] = stock_df['open'].rolling(TURTLE_SHORT_SELL_N).min()\n",
    "    stock_df['ROLLING_%d_MAX' % TURTLE_LONG_BUY_N] = stock_df['open'].rolling(TURTLE_LONG_BUY_N).max()\n",
    "    stock_df['ROLLING_%d_MIN' % TURTLE_LONG_SELL_N] = stock_df['open'].rolling(TURTLE_LONG_SELL_N).min()\n",
    "#     stock_df['MA%d' % TURTLE_BUY_N] = stock_df['open'].rolling(TURTLE_BUY_N).mean()\n",
    "#     stock_df['MA%d' % TURTLE_SELL_N] = stock_df['open'].rolling(TURTLE_SELL_N).mean()\n",
    "#     stock_df['EWMA'] = stock_df['open'].ewm(alpha=0.1, adjust=False).mean()\n",
    "#     stock_df['MA360'] = stock_df['open'].rolling(360).mean()\n",
    "    stock_df['MA180'] = stock_df['open'].rolling(180).mean()\n",
    "    stock_df['MA60'] = stock_df['open'].rolling(30).mean()\n",
    "    stock_df['MA30'] = stock_df['open'].rolling(30).mean()\n",
    "    \n",
    "#     stock_df['ops'] = ''\n",
    "#     stock_df['profit'] = 0\n",
    "    \n",
    "    # 减少数据\n",
    "    # stock_df = stock_df['2016-01-01':]\n",
    "    stock_df.dropna(how='any', inplace=True)\n",
    "#     stock_df.drop(columns=['volume', 'TR1', 'TR2', 'TR3'], inplace=True)\n",
    "    \n",
    "    stock_df_dict[symbol] = stock_df\n",
    "    \n",
    "#     print(stock_df.head(10))\n",
    "#     print(stock_df.dtypes)\n",
    "#     print(stock_df.index[0])\n",
    "#     print(type(stock_df.index[0]))"
   ]
  },
  {
   "cell_type": "code",
   "execution_count": 6,
   "metadata": {
    "scrolled": false
   },
   "outputs": [],
   "source": [
    "# %matplotlib inline\n",
    "\n",
    "# import matplotlib\n",
    "# import matplotlib.pyplot as plt\n",
    "# plt.rcParams['figure.figsize'] = [30, 20]\n",
    "\n",
    "# df = stock_df_dict['TSLA'].iloc[800:].copy()\n",
    "# df.columns\n",
    "# df.tail(10)\n",
    "# # df[(df.open == df.rolling_60_max)]\n",
    "# # df[(df.open >= df.rolling_60_max) & (df.MA30 > df.MA60)]\n",
    "# # df[(df.MA30 > df.MA60)]\n",
    "\n",
    "# # df = df.loc[:, ['open', 'ROLLING_60_MAX', 'rolling_30_min', 'MA60', 'MA30']]\n",
    "\n",
    "# df.reset_index(drop=False, inplace=True)\n",
    "# df = df.astype(dtype={'date': 'datetime64[ns]'})\n",
    "# df.set_index('date', inplace=True)\n",
    "# # df.index.astype()\n",
    "\n",
    "# display_charts(df, chart_type='stock', kind='line', y=['open', 'ROLLING_60_MAX', 'ROLLING_60_MIN'], figsize=(900, 600), logy=False)\n",
    "\n",
    "# # display_charts(df)\n",
    "\n",
    "# # ax = df.plot(kind='line', y=['open', 'rolling_max', 'rolling_min'], label='', linewidth=1)\n",
    "\n",
    "# # sum_buy_sig_short = 0\n",
    "# # sum_buy_sig_long = 0\n",
    "# # for symbol in NASDAQ100:\n",
    "# #     tdf = stock_df_dict[symbol]\n",
    "# #     buy_sig_short = tdf[(stock_df_dict[symbol].open == stock_df_dict[symbol]['ROLLING_%d_MAX' % TURTLE_SHORT_BUY_N])]\n",
    "# #     buy_sig_long = tdf[(stock_df_dict[symbol].open == stock_df_dict[symbol]['ROLLING_%d_MAX' % TURTLE_LONG_BUY_N])]\n",
    "# #     buy_sig_short_2 = buy_sig_short[buy_sig_short.MA30 >= buy_sig_short.MA180]\n",
    "# #     buy_sig_long_2 = buy_sig_long[buy_sig_long.MA30 >= buy_sig_long.MA180]\n",
    "# # #     print(symbol, len(tdf), len(buy_sig_short), len(buy_sig_short_2), len(buy_sig_long), len(buy_sig_long_2))\n",
    "# #     sum_buy_sig_short += len(buy_sig_short_2)\n",
    "# #     sum_buy_sig_long += len(buy_sig_long_2)\n",
    "# # print(len(stock_df_dict['NDX']), sum_buy_sig_short, sum_buy_sig_long)"
   ]
  },
  {
   "cell_type": "code",
   "execution_count": 7,
   "metadata": {
    "scrolled": false
   },
   "outputs": [],
   "source": [
    "# algo = stock_df_dict['TSLA'].open.pct_change()\n",
    "# benchmark = stock_df_dict['NDX'].open.pct_change()\n",
    "\n",
    "# 'cum_returns', emp.cum_returns(algo)[-1]\n",
    "# 'max_drawdown', emp.max_drawdown(algo), emp.max_drawdown(benchmark)\n",
    "# 'annual_return', emp.annual_return(algo), emp.annual_return(benchmark)\n",
    "# 'annual_volatility', emp.annual_volatility(algo, period='daily')\n",
    "# 'calmar_ratio', emp.calmar_ratio(algo)\n",
    "# 'sharpe_ratio', emp.sharpe_ratio(returns=algo)\n",
    "# 'alpha', emp.alpha(returns=algo, factor_returns=benchmark, risk_free=0.00)\n",
    "# 'beta', emp.beta(returns=algo, factor_returns=benchmark, risk_free=0.00)\n",
    "\n",
    "# emp_df = None\n",
    "# emp_df = pd.DataFrame(columns=[\n",
    "#     'symbol', 'cum_returns', 'annual_return', 'annual_volatility', 'max_drawdown', 'alpha', 'beta', 'sharpe_ratio', 'calmar_ratio'\n",
    "# ])\n",
    "\n",
    "# for symbol in NASDAQ100:\n",
    "#     algo = stock_df_dict[symbol].open.pct_change()\n",
    "#     emp_df = emp_df.append(\n",
    "#         {\n",
    "#             'symbol': symbol,\n",
    "#             'cum_returns': emp.cum_returns(algo)[-1],\n",
    "#             'annual_return': emp.annual_return(algo),\n",
    "#             'annual_volatility': emp.annual_volatility(algo, period='daily'),\n",
    "#             'max_drawdown': emp.max_drawdown(algo),\n",
    "#             'alpha': round(emp.alpha(returns=algo, factor_returns=benchmark, risk_free=0.00), 2),\n",
    "#             'beta': round(emp.beta(returns=algo, factor_returns=benchmark, risk_free=0.00), 2),\n",
    "#             'sharpe_ratio': emp.sharpe_ratio(returns=algo),\n",
    "#             'calmar_ratio': emp.calmar_ratio(algo)\n",
    "#         },\n",
    "#         ignore_index=True,\n",
    "#     )\n",
    "\n",
    "# # emp_df\n",
    "# # emp_df.sort_values('cum_returns', ascending=False)\n",
    "# emp_df.sort_values('sharpe_ratio', ascending=False)"
   ]
  },
  {
   "cell_type": "code",
   "execution_count": 8,
   "metadata": {},
   "outputs": [
    {
     "name": "stdout",
     "output_type": "stream",
     "text": [
      "Wall time: 0 ns\n"
     ]
    }
   ],
   "source": [
    "%%time\n",
    "\n",
    "show_df = None\n",
    "show_df = stock_df_dict['NDX'].copy()"
   ]
  },
  {
   "cell_type": "code",
   "execution_count": 19,
   "metadata": {
    "scrolled": false
   },
   "outputs": [
    {
     "name": "stdout",
     "output_type": "stream",
     "text": [
      "2018-01-02 0 0.0095062255859375 0.0020012855529785156 0.008005142211914062 0.00850534439086914\n",
      "2018-01-03 9 0.17762398719787598 0.0005004405975341797 0.15660548210144043 0.17561936378479004\n",
      "2018-01-04 29 0.22765159606933594 0.005503654479980469 0.19963288307189941 0.22665071487426758\n",
      "2018-01-05 53 0.28168797492980957 0.012510061264038086 0.26067566871643066 0.2811875343322754\n",
      "2018-01-08 70 0.2851905822753906 0.017511606216430664 0.2791867256164551 0.2836894989013672\n",
      "2018-01-09 97 0.3447296619415283 0.019515514373779297 0.3402259349822998 0.34372806549072266\n",
      "2018-01-10 108 0.17411541938781738 0.014010190963745117 0.16961216926574707 0.17311477661132812\n",
      "2018-01-11 124 0.2381594181060791 0.014510869979858398 0.2311558723449707 0.2356584072113037\n",
      "2018-01-12 150 0.31821250915527344 0.01951289176940918 0.31270837783813477 0.3172111511230469\n",
      "2018-01-16 187 0.3697476387023926 0.014011144638061523 0.3622424602508545 0.3687460422515869\n",
      "2018-01-17 202 0.2186448574066162 0.01600956916809082 0.21113944053649902 0.21764397621154785\n",
      "2018-01-18 229 0.36023926734924316 0.017010927200317383 0.33672332763671875 0.35873842239379883\n",
      "2018-01-19 251 0.5413613319396973 0.017511367797851562 0.5323543548583984 0.5403604507446289\n",
      "2018-01-22 276 0.3032033443450928 0.01450967788696289 0.29419732093811035 0.3022024631500244\n",
      "2018-01-23 314 0.4117758274078369 0.015011072158813477 0.40126824378967285 0.4102745056152344\n",
      "2018-01-24 355 0.43228650093078613 0.015509605407714844 0.4207797050476074 0.4312856197357178\n",
      "2018-01-25 386 0.3737492561340332 0.016010761260986328 0.3612403869628906 0.37274789810180664\n",
      "2018-01-26 408 0.31821250915527344 0.016511201858520508 0.304703950881958 0.317211389541626\n",
      "2018-01-29 443 0.4122755527496338 0.016010046005249023 0.398266077041626 0.41127443313598633\n",
      "2018-01-30 456 0.2686777114868164 0.01550912857055664 0.2501652240753174 0.26717662811279297\n",
      "2018-01-31 467 0.2551717758178711 0.017011165618896484 0.2381582260131836 0.25417113304138184\n",
      "2018-02-01 473 0.2171461582183838 0.01601123809814453 0.2001352310180664 0.21614503860473633\n",
      "2018-02-02 480 0.2716810703277588 0.023517370223999023 0.25617051124572754 0.27068042755126953\n",
      "2018-02-05 483 0.2791893482208252 0.015009403228759766 0.24816536903381348 0.27718448638916016\n",
      "2018-02-06 483 0.3742482662200928 0.033521413803100586 0.34422802925109863 0.37274718284606934\n",
      "2018-02-07 483 0.23865938186645508 0.02451801300048828 0.21764492988586426 0.23765850067138672\n",
      "2018-02-08 483 0.18562555313110352 0.019514799118041992 0.17011427879333496 0.18412399291992188\n",
      "2018-02-09 483 0.2051384449005127 0.015010356903076172 0.18962764739990234 0.20363664627075195\n",
      "2018-02-12 483 0.1811211109161377 0.01600933074951172 0.16611003875732422 0.18012022972106934\n",
      "2018-02-13 483 0.19663262367248535 0.016012191772460938 0.1811213493347168 0.1951310634613037\n",
      "2018-02-14 483 0.18162298202514648 0.01551365852355957 0.16611218452453613 0.18062210083007812\n",
      "2018-02-15 486 0.2166450023651123 0.015512466430664062 0.20113587379455566 0.21514344215393066\n",
      "2018-02-16 490 0.23165559768676758 0.016512155532836914 0.21514272689819336 0.2306532859802246\n",
      "2018-02-20 492 0.26517415046691895 0.017008543014526367 0.23865699768066406 0.2641737461090088\n",
      "2018-02-21 500 0.2531707286834717 0.02001357078552246 0.23515653610229492 0.25166845321655273\n",
      "2018-02-22 505 0.23965883255004883 0.01750969886779785 0.21264028549194336 0.23865818977355957\n",
      "2018-02-23 509 0.22715282440185547 0.019514083862304688 0.21014118194580078 0.22565174102783203\n",
      "2018-02-26 520 0.2811872959136963 0.017512083053588867 0.2641758918762207 0.27968645095825195\n",
      "2018-02-27 533 0.29369616508483887 0.01651167869567871 0.27718567848205566 0.2926945686340332\n",
      "2018-02-28 537 0.25567078590393066 0.020514965057373047 0.20813870429992676 0.25366926193237305\n",
      "2018-03-01 537 0.4292874336242676 0.035024404525756836 0.39126157760620117 0.42778563499450684\n",
      "2018-03-02 537 0.32521629333496094 0.029018640518188477 0.30820584297180176 0.3242151737213135\n",
      "2018-03-05 541 0.2211470603942871 0.015510082244873047 0.20263409614562988 0.22014594078063965\n",
      "2018-03-06 552 0.33222198486328125 0.025016307830810547 0.314208984375 0.3307199478149414\n",
      "2018-03-07 561 0.2741818428039551 0.016009807586669922 0.25316929817199707 0.2731812000274658\n",
      "2018-03-08 580 0.3542366027832031 0.016510963439941406 0.3352231979370117 0.35323572158813477\n",
      "2018-03-09 595 0.33022022247314453 0.016511917114257812 0.3117067813873291 0.32921791076660156\n",
      "2018-03-12 629 0.4743161201477051 0.018512964248657227 0.4548025131225586 0.4733150005340576\n",
      "2018-03-13 656 0.430788516998291 0.016512155532836914 0.41027379035949707 0.42978692054748535\n",
      "2018-03-14 660 0.25316762924194336 0.017010927200317383 0.22714924812316895 0.25166773796081543\n",
      "2018-03-15 661 0.22965335845947266 0.021015167236328125 0.20763850212097168 0.22815227508544922\n",
      "2018-03-16 666 0.266176700592041 0.017010211944580078 0.24316120147705078 0.2646756172180176\n",
      "2018-03-19 667 0.4267854690551758 0.017511606216430664 0.3672471046447754 0.4237830638885498\n",
      "2018-03-20 667 0.369246244430542 0.02501702308654785 0.34873247146606445 0.36824560165405273\n",
      "2018-03-21 668 0.25667309761047363 0.013509988784790039 0.20063352584838867 0.2546699047088623\n",
      "2018-03-22 668 0.22815251350402832 0.022016048431396484 0.2046365737915039 0.22715187072753906\n",
      "2018-03-23 668 0.22965168952941895 0.016010284423828125 0.20513629913330078 0.22815203666687012\n",
      "2018-03-26 668 0.2476656436920166 0.021013736724853516 0.22214913368225098 0.2456648349761963\n",
      "2018-03-27 670 0.32321619987487793 0.022014379501342773 0.2621743679046631 0.3217144012451172\n",
      "2018-03-28 670 0.25566959381103516 0.02051401138305664 0.23015236854553223 0.2546687126159668\n",
      "2018-03-29 670 0.21764469146728516 0.014510869979858398 0.19713091850280762 0.2166435718536377\n",
      "2018-04-02 670 0.22815251350402832 0.014009237289428711 0.20563697814941406 0.22715115547180176\n",
      "2018-04-03 670 0.21964550018310547 0.016012191772460938 0.1976313591003418 0.21814393997192383\n",
      "2018-04-04 670 0.2261519432067871 0.017511606216430664 0.20363616943359375 0.22515058517456055\n",
      "2018-04-05 670 0.22565078735351562 0.014009475708007812 0.2026352882385254 0.22465014457702637\n",
      "2018-04-06 670 0.22064709663391113 0.015509605407714844 0.1976320743560791 0.2191460132598877\n",
      "2018-04-09 670 0.2186441421508789 0.012007474899291992 0.1976318359375 0.21714282035827637\n",
      "2018-04-10 671 0.3762524127960205 0.012508153915405273 0.2906937599182129 0.37525057792663574\n",
      "2018-04-11 671 0.4397923946380615 0.019012928009033203 0.41827845573425293 0.43879175186157227\n",
      "2018-04-12 672 0.25366926193237305 0.01350855827331543 0.2021338939666748 0.2526679039001465\n",
      "2018-04-13 674 0.3067052364349365 0.017012357711791992 0.25116753578186035 0.30620503425598145\n",
      "2018-04-16 675 0.24816513061523438 0.013508796691894531 0.19663071632385254 0.2476644515991211\n",
      "2018-04-17 678 0.2861921787261963 0.01651287078857422 0.2286531925201416 0.28519153594970703\n",
      "2018-04-18 687 0.3237142562866211 0.013509035110473633 0.27017903327941895 0.32271337509155273\n",
      "2018-04-19 691 0.25867223739624023 0.01601099967956543 0.23415565490722656 0.2576713562011719\n",
      "2018-04-20 691 0.22765207290649414 0.02251601219177246 0.20413613319396973 0.2261514663696289\n",
      "2018-04-23 691 0.27268242835998535 0.018512725830078125 0.2476651668548584 0.2716822624206543\n",
      "2018-04-24 695 0.36274170875549316 0.018011808395385742 0.34122681617736816 0.3617405891418457\n",
      "2018-04-25 695 0.22014713287353516 0.015009641647338867 0.19663119316101074 0.2191460132598877\n",
      "2018-04-26 696 0.33172130584716797 0.025018930435180664 0.28719162940979004 0.3307209014892578\n",
      "2018-04-27 701 0.3642435073852539 0.014010429382324219 0.2456645965576172 0.36274218559265137\n",
      "2018-04-30 708 0.6169109344482422 0.02601790428161621 0.5838887691497803 0.6159100532531738\n",
      "2018-05-01 710 0.30620503425598145 0.014509439468383789 0.2711803913116455 0.3047041893005371\n",
      "2018-05-02 711 0.23265576362609863 0.018011808395385742 0.20863842964172363 0.2306528091430664\n",
      "2018-05-03 711 0.3042030334472656 0.019011974334716797 0.27518272399902344 0.30320143699645996\n",
      "2018-05-04 711 0.3017005920410156 0.017012357711791992 0.2756829261779785 0.30069947242736816\n",
      "2018-05-07 718 0.34673261642456055 0.014510393142700195 0.3147096633911133 0.3432281017303467\n"
     ]
    },
    {
     "name": "stdout",
     "output_type": "stream",
     "text": [
      "2018-05-08 725 0.35173487663269043 0.020012617111206055 0.33021998405456543 0.35073375701904297\n",
      "2018-05-09 732 0.2806856632232666 0.015509366989135742 0.25617027282714844 0.27968454360961914\n",
      "2018-05-10 745 0.33172011375427246 0.01650857925415039 0.3092036247253418 0.330718994140625\n",
      "2018-05-11 758 0.33171963691711426 0.015509605407714844 0.30870509147644043 0.3307187557220459\n",
      "2018-05-14 770 0.33522462844848633 0.016510725021362305 0.3117077350616455 0.33422398567199707\n",
      "2018-05-15 774 0.4382915496826172 0.01550912857055664 0.3992645740509033 0.43678927421569824\n",
      "2018-05-16 779 0.4097743034362793 0.017514705657958984 0.3857567310333252 0.40877342224121094\n",
      "2018-05-17 786 0.3027012348175049 0.016010046005249023 0.2786855697631836 0.30120015144348145\n",
      "2018-05-18 793 0.3337223529815674 0.016510963439941406 0.3052022457122803 0.33222150802612305\n",
      "2018-05-21 801 0.35823845863342285 0.019512653350830078 0.33222103118896484 0.3572378158569336\n",
      "2018-05-22 807 0.35073280334472656 0.0190122127532959 0.3242156505584717 0.3492317199707031\n",
      "2018-05-23 807 0.2601747512817383 0.01651167869567871 0.2331554889678955 0.2591733932495117\n",
      "2018-05-24 816 0.32321643829345703 0.019013404846191406 0.298198938369751 0.3222157955169678\n",
      "2018-05-25 823 0.30770397186279297 0.01601099967956543 0.2831885814666748 0.3067030906677246\n",
      "2018-05-29 825 0.26221656799316406 0.015510797500610352 0.23515582084655762 0.2607154846191406\n",
      "2018-05-30 832 0.3102080821990967 0.018012285232543945 0.2851905822753906 0.3092069625854492\n",
      "2018-05-31 843 0.33422231674194336 0.015509843826293945 0.30870509147644043 0.3327212333679199\n",
      "2018-06-01 852 0.5053360462188721 0.016010522842407227 0.4668102264404297 0.5033347606658936\n",
      "103788.78907\n",
      "0\n",
      "0\n",
      "NDX 6431.589 7276.382 1.13135058848\n",
      "Wall time: 31.5 s\n"
     ]
    }
   ],
   "source": [
    "%%time\n",
    "# %xmode\n",
    "\n",
    "PROPERTY = START_MONEY\n",
    "CASH = START_MONEY\n",
    "\n",
    "order_df = None\n",
    "order_df = pd.DataFrame(columns=[\n",
    "    'signal_date', 'signal_reason', 'symbol',\n",
    "    'buy_date', 'buy_count', 'buy_price',\n",
    "    'sell_date', 'sell_price', 'sell_reason', 'profit',\n",
    "    'cash', 'property',\n",
    "])\n",
    "count_day = 0\n",
    "yesterday = None\n",
    "miss_buy_short = 0\n",
    "miss_buy_long = 0\n",
    "\n",
    "for today in pd.period_range(start=start_date, end=end_date, freq='D'):\n",
    "    s_time = time.time()\n",
    "    count_day += 1\n",
    "    \n",
    "    if yesterday is None:\n",
    "        yesterday = today\n",
    "        continue\n",
    "\n",
    "    if today not in stock_df_dict['NDX'].index:\n",
    "        continue\n",
    "\n",
    "    if IS_HAPPYMONEY:        \n",
    "        if PROPERTY > START_MONEY * 2:\n",
    "            HAPPY_MONEY += 50000\n",
    "            PROPERTY -= 50000\n",
    "            CASH = PROPERTY\n",
    "    \n",
    "    # 买卖过程\n",
    "    # 突破下行趋势，清仓退出\n",
    "    order_arr = order_df.to_records(index=False)\n",
    "    if len(order_arr[(order_arr.buy_count > 0) & (order_arr.sell_price == 0)] ) != 0:\n",
    "        is_sell = False\n",
    "        for idx in order_df[(order_df['buy_count'] > 0) & (order_df['sell_price'] == 0)].index:\n",
    "            cur_order = order_df.loc[idx]\n",
    "            symbol = cur_order['symbol']\n",
    "            if today not in stock_df_dict[symbol].index or yesterday not in stock_df_dict[symbol].index:\n",
    "                continue\n",
    "            today_market = stock_df_dict[symbol].loc[today]\n",
    "            if cur_order.signal_reason == 'SHORT':\n",
    "                is_sell = (today_market.open <= today_market['ROLLING_%d_MIN' % TURTLE_SHORT_SELL_N])\n",
    "            if cur_order.signal_reason == 'LONG':\n",
    "                is_sell = (today_market.open <= today_market['ROLLING_%d_MIN' % TURTLE_LONG_SELL_N])\n",
    "            if is_sell:\n",
    "                CASH += cur_order.buy_count * today_market.open\n",
    "                order_df.loc[idx, 'sell_date'] = today\n",
    "                order_df.loc[idx, 'sell_price'] = today_market.open\n",
    "                order_df.loc[idx, 'sell_reason'] = 'EXIT'\n",
    "                order_df.loc[idx, 'profit'] = \\\n",
    "                    (today_market.open - cur_order.buy_price) * cur_order.buy_count\n",
    "#                 print(today, '退出', stock_df_dict[symbol].loc[today, 'open'], CASH)\n",
    "    time_p1 = time.time() - s_time\n",
    "\n",
    "    # 买入信号\n",
    "    for symbol in NASDAQ100[:]:\n",
    "#     for symbol in ['TSLA']:\n",
    "        if symbol in ['ALGN', 'ROST', 'ORLY', 'ESRX', 'ULTA', 'REGN', 'MNST']:\n",
    "#             continue\n",
    "            pass\n",
    "\n",
    "        if symbol == 'NDX':\n",
    "            continue\n",
    "        \n",
    "        if today not in stock_df_dict[symbol].index or yesterday not in stock_df_dict[symbol].index:\n",
    "            continue\n",
    "\n",
    "        today_market = stock_df_dict[symbol].loc[today]\n",
    "\n",
    "        # 突破上行趋势，加入买入信号\n",
    "        order_arr = order_df.to_records(index=False)\n",
    "        if today_market.MA60 >= today_market.MA180:\n",
    "#         if today_market.MA30 >= today_market.MA180:\n",
    "            is_buy = False\n",
    "            if today_market.open >= today_market['ROLLING_%d_MAX' % TURTLE_LONG_BUY_N]:\n",
    "                is_buy = True\n",
    "                buy_reason = 'LONG'\n",
    "            elif False and today_market.open >= today_market['ROLLING_%d_MAX' % TURTLE_SHORT_BUY_N]:\n",
    "                is_buy = True\n",
    "                buy_reason = 'SHORT'\n",
    "                \n",
    "            if is_buy:\n",
    "                order_df = order_df.append(\n",
    "                    {\n",
    "                        'signal_date': today,\n",
    "                        'signal_reason': buy_reason,\n",
    "                        'symbol': symbol,\n",
    "                        'buy_date': pd.np.nan,\n",
    "                        'buy_count': 0,\n",
    "                        'buy_price': today_market.open,\n",
    "                        'sell_date': pd.np.nan,\n",
    "                        'sell_price': 0,\n",
    "                        'sell_reason': pd.np.nan,\n",
    "                        'profit': 0,\n",
    "                        'cash': CASH,\n",
    "                        'property': PROPERTY,\n",
    "                    },\n",
    "                    ignore_index=True\n",
    "                )\n",
    "    time_p2 = time.time() - s_time\n",
    "\n",
    "    # 执行买入\n",
    "    order_arr = order_df.to_records(index=False)\n",
    "    if len(order_arr[order_arr.signal_date == today]) != 0 and CASH >= START_MONEY / TURTLE_POS:\n",
    "        is_buy = False\n",
    "        for idx in order_df[order_df['signal_date'] == today].index:\n",
    "            cur_order = order_df.loc[idx]\n",
    "            symbol = cur_order['symbol']\n",
    "            today_market = stock_df_dict[symbol].loc[today]\n",
    "            buy_count = 0\n",
    "\n",
    "            if IS_SLIPPAGE:\n",
    "                buy_price = today_market.open * (1 + random.randint(0, 20) / 1000)\n",
    "            else:\n",
    "                buy_price = today_market.open\n",
    "\n",
    "            if CASH >= START_MONEY / TURTLE_POS:\n",
    "                buy_count = int((START_MONEY / TURTLE_POS) / buy_price)\n",
    "\n",
    "            if IS_RANDOM_BUY:\n",
    "                if random.randint(0, 100) > 50:\n",
    "                    buy_count = 0\n",
    "\n",
    "            if buy_count > 0:\n",
    "                CASH -= buy_count * buy_price\n",
    "#                     print(today, '建仓', buy_count, stock_df_dict[symbol].loc[today, 'open'], CASH)\n",
    "                order_df.loc[idx, 'buy_date'] = today\n",
    "                order_df.loc[idx, 'buy_count'] = buy_count\n",
    "                order_df.loc[idx, 'buy_price'] = buy_price\n",
    "    time_p3 = time.time() - s_time\n",
    "\n",
    "            \n",
    "    # 每天盘点财产\n",
    "    show_df.loc[today, 'CASH_TURTLE_%d_%d_%d' % (TURTLE_POS, TURTLE_LONG_BUY_N, TURTLE_LONG_SELL_N)] = CASH\n",
    "#     PROPERTY = CASH + \\\n",
    "#         sum(\n",
    "#             [\n",
    "#                 stock_df_dict[order_df.loc[idx, 'symbol']][:today].iloc[-1].open * order_df.loc[idx, 'buy_count'] \\\n",
    "#                 for idx in order_df.loc[order_df['sell_price']==0].index\n",
    "#             ]\n",
    "#         )\n",
    "    PROPERTY = 0\n",
    "    show_df.loc[today, 'PROPERTY_TURTLE_%d_%d_%d' % (TURTLE_POS, TURTLE_LONG_BUY_N, TURTLE_LONG_SELL_N)] = PROPERTY\n",
    "\n",
    "    yesterday = today\n",
    "    \n",
    "    print(today, len(order_df), time.time() - s_time, time_p1, time_p2, time_p3)\n",
    "\n",
    "\n",
    "# 最后一天，全部清仓\n",
    "order_arr = order_df.to_records(index=False)\n",
    "if len(order_arr[(order_arr.buy_count > 0) & (order_arr.sell_price == 0)] ) != 0:\n",
    "    for idx in order_df[(order_df['buy_count'] > 0) & (order_df['sell_price'] == 0)].index:\n",
    "        cur_order = order_df.loc[idx]\n",
    "        symbol = cur_order['symbol']\n",
    "        today_market = stock_df_dict[symbol][:today].iloc[-1]\n",
    "        CASH += cur_order.buy_count * today_market.open\n",
    "        order_df.loc[idx, 'sell_date'] = today\n",
    "        order_df.loc[idx, 'sell_price'] = today_market.open\n",
    "        order_df.loc[idx, 'sell_reason'] = 'LAST'\n",
    "        order_df.loc[idx, 'profit'] = \\\n",
    "            (today_market.open - cur_order.buy_price) * cur_order.buy_count\n",
    "    \n",
    "\n",
    "print(CASH)\n",
    "print(HAPPY_MONEY)\n",
    "print(PROPERTY)\n",
    "\n",
    "s_p = stock_df_dict['NDX'][start_date:].iloc[0].open\n",
    "e_p = stock_df_dict['NDX'].iloc[-1].open\n",
    "print('NDX', s_p, e_p, e_p / s_p)\n"
   ]
  },
  {
   "cell_type": "code",
   "execution_count": 16,
   "metadata": {},
   "outputs": [
    {
     "data": {
      "text/plain": [
       "151"
      ]
     },
     "execution_count": 16,
     "metadata": {},
     "output_type": "execute_result"
    }
   ],
   "source": [
    "# # order_df\n",
    "# # order_df[order_df['buy_count'] != 0]\n",
    "# # stock_df_dict['AMZN'].close\n",
    "\n",
    "dt = pd.to_datetime(end_date) - pd.to_datetime(start_date)\n",
    "dt.days\n",
    "\n",
    "# order_arr = order_df.to_records(index=False)\n",
    "# %timeit len(order_arr[(order_arr.buy_count > 0) & (order_arr.sell_price == 0)] ) != 0\n",
    "# # is_sell = False\n",
    "# # for idx in order_df[(order_df['buy_count'] > 0) & (order_df['sell_price'] == 0)].index:\n",
    "# %timeit idx = order_df[(order_df['buy_count'] > 0) & (order_df['sell_price'] == 0)].index\n",
    "# #     cur_order = order_df.loc[idx]\n",
    "# #     symbol = cur_order['symbol']\n",
    "# #     if today not in stock_df_dict[symbol].index or yesterday not in stock_df_dict[symbol].index:\n",
    "# #         continue\n",
    "# #     today_market = stock_df_dict[symbol].loc[today]\n",
    "# #     if cur_order.signal_reason == 'SHORT':\n",
    "# #         is_sell = (today_market.open <= today_market['ROLLING_%d_MIN' % TURTLE_SHORT_SELL_N])\n",
    "# #     if cur_order.signal_reason == 'LONG':\n",
    "# #         is_sell = (today_market.open <= today_market['ROLLING_%d_MIN' % TURTLE_LONG_SELL_N])\n",
    "# #     if is_sell:\n",
    "# #         CASH += cur_order.buy_count * today_market.open\n",
    "# #         order_df.loc[idx, 'sell_date'] = today\n",
    "# #         order_df.loc[idx, 'sell_price'] = today_market.open\n",
    "# #         order_df.loc[idx, 'sell_reason'] = 'EXIT'\n",
    "# #         order_df.loc[idx, 'profit'] = \\\n",
    "# #             (today_market.open - cur_order.buy_price) * cur_order.buy_count\n",
    "\n",
    "\n",
    "# # 执行买入\n",
    "# order_arr = order_df.to_records(index=False)\n",
    "# # if len(order_arr[order_arr.signal_date == today]) != 0 and CASH >= START_MONEY / TURTLE_POS:\n",
    "# %timeit len(order_arr[order_arr.signal_date == today])\n",
    "# #     is_buy = False\n",
    "# #     for idx in order_df[order_df['signal_date'] == today].index:\n",
    "# #         cur_order = order_df.loc[idx]\n",
    "# #         symbol = cur_order['symbol']\n",
    "# #         today_market = stock_df_dict[symbol].loc[today]\n",
    "# #         buy_count = 0\n",
    "\n",
    "# #         if IS_SLIPPAGE:\n",
    "# #             buy_price = today_market.open * (1 + random.randint(0, 20) / 1000)\n",
    "# #         else:\n",
    "# #             buy_price = today_market.open\n",
    "\n",
    "# #         if CASH >= START_MONEY / TURTLE_POS:\n",
    "# #             buy_count = int((START_MONEY / TURTLE_POS) / buy_price)\n",
    "\n",
    "# #         if IS_RANDOM_BUY:\n",
    "# #             if random.randint(0, 100) > 50:\n",
    "# #                 buy_count = 0\n",
    "\n",
    "# #         if buy_count > 0:\n",
    "# #             CASH -= buy_count * buy_price\n",
    "# # #                     print(today, '建仓', buy_count, stock_df_dict[symbol].loc[today, 'open'], CASH)\n",
    "# #             order_df.loc[idx, 'buy_date'] = today\n",
    "# #             order_df.loc[idx, 'buy_count'] = buy_count\n",
    "# #             order_df.loc[idx, 'buy_price'] = buy_price"
   ]
  },
  {
   "cell_type": "code",
   "execution_count": 11,
   "metadata": {
    "scrolled": false
   },
   "outputs": [
    {
     "data": {
      "text/plain": [
       "'ALL'"
      ]
     },
     "execution_count": 11,
     "metadata": {},
     "output_type": "execute_result"
    },
    {
     "data": {
      "text/plain": [
       "('start_date', '2018-01-01')"
      ]
     },
     "execution_count": 11,
     "metadata": {},
     "output_type": "execute_result"
    },
    {
     "data": {
      "text/plain": [
       "('end_date', '2018-06-01')"
      ]
     },
     "execution_count": 11,
     "metadata": {},
     "output_type": "execute_result"
    },
    {
     "data": {
      "text/plain": [
       "('TURTLE_POS', 20)"
      ]
     },
     "execution_count": 11,
     "metadata": {},
     "output_type": "execute_result"
    },
    {
     "data": {
      "text/plain": [
       "('TURTLE_SHORT_BUY_N', 20)"
      ]
     },
     "execution_count": 11,
     "metadata": {},
     "output_type": "execute_result"
    },
    {
     "data": {
      "text/plain": [
       "('TURTLE_SHORT_SELL_N', 20)"
      ]
     },
     "execution_count": 11,
     "metadata": {},
     "output_type": "execute_result"
    },
    {
     "data": {
      "text/plain": [
       "('TURTLE_LONG_BUY_N', 60)"
      ]
     },
     "execution_count": 11,
     "metadata": {},
     "output_type": "execute_result"
    },
    {
     "data": {
      "text/plain": [
       "('TURTLE_LONG_SELL_N', 60)"
      ]
     },
     "execution_count": 11,
     "metadata": {},
     "output_type": "execute_result"
    },
    {
     "data": {
      "text/plain": [
       "('IS_HAPPYMONEY', False)"
      ]
     },
     "execution_count": 11,
     "metadata": {},
     "output_type": "execute_result"
    },
    {
     "data": {
      "text/plain": [
       "('IS_TAX', False)"
      ]
     },
     "execution_count": 11,
     "metadata": {},
     "output_type": "execute_result"
    },
    {
     "data": {
      "text/plain": [
       "('IS_SLIPPAGE', True)"
      ]
     },
     "execution_count": 11,
     "metadata": {},
     "output_type": "execute_result"
    },
    {
     "data": {
      "text/plain": [
       "('IS_RANDOM_BUY', True)"
      ]
     },
     "execution_count": 11,
     "metadata": {},
     "output_type": "execute_result"
    },
    {
     "data": {
      "text/plain": [
       "('START_MONEY', 100000)"
      ]
     },
     "execution_count": 11,
     "metadata": {},
     "output_type": "execute_result"
    },
    {
     "data": {
      "text/plain": [
       "('len(order_df)', 852)"
      ]
     },
     "execution_count": 11,
     "metadata": {},
     "output_type": "execute_result"
    },
    {
     "data": {
      "text/plain": [
       "('sum_profit', 11878.451160000002)"
      ]
     },
     "execution_count": 11,
     "metadata": {},
     "output_type": "execute_result"
    },
    {
     "data": {
      "text/plain": [
       "('sum_tax', 0)"
      ]
     },
     "execution_count": 11,
     "metadata": {},
     "output_type": "execute_result"
    },
    {
     "data": {
      "text/plain": [
       "('win rate', 0.6296296296296297)"
      ]
     },
     "execution_count": 11,
     "metadata": {},
     "output_type": "execute_result"
    },
    {
     "data": {
      "text/plain": [
       "('len(order_df[order_df.profit != 0])', 27)"
      ]
     },
     "execution_count": 11,
     "metadata": {},
     "output_type": "execute_result"
    },
    {
     "data": {
      "text/plain": [
       "('len(order_df[order_df.profit > 0])', 17)"
      ]
     },
     "execution_count": 11,
     "metadata": {},
     "output_type": "execute_result"
    },
    {
     "data": {
      "text/plain": [
       "('order LONG', 852)"
      ]
     },
     "execution_count": 11,
     "metadata": {},
     "output_type": "execute_result"
    },
    {
     "data": {
      "text/plain": [
       "17"
      ]
     },
     "execution_count": 11,
     "metadata": {},
     "output_type": "execute_result"
    },
    {
     "data": {
      "text/plain": [
       "11878.451160000002"
      ]
     },
     "execution_count": 11,
     "metadata": {},
     "output_type": "execute_result"
    },
    {
     "data": {
      "text/plain": [
       "('order SHORT', 0)"
      ]
     },
     "execution_count": 11,
     "metadata": {},
     "output_type": "execute_result"
    },
    {
     "data": {
      "text/plain": [
       "0"
      ]
     },
     "execution_count": 11,
     "metadata": {},
     "output_type": "execute_result"
    },
    {
     "data": {
      "text/plain": [
       "0"
      ]
     },
     "execution_count": 11,
     "metadata": {},
     "output_type": "execute_result"
    },
    {
     "data": {
      "text/plain": [
       "('cum_returns', 0.11878451160000014, 0.089945424062391588)"
      ]
     },
     "execution_count": 11,
     "metadata": {},
     "output_type": "execute_result"
    },
    {
     "data": {
      "text/plain": [
       "('max_drawdown', -0.09962418561611878, -0.11791455209402121)"
      ]
     },
     "execution_count": 11,
     "metadata": {},
     "output_type": "execute_result"
    },
    {
     "data": {
      "text/plain": [
       "('annual_return', 0.30915620632707119, 0.22962137988751685)"
      ]
     },
     "execution_count": 11,
     "metadata": {},
     "output_type": "execute_result"
    },
    {
     "data": {
      "text/plain": [
       "('annual_volatility', 0.21360436498130883)"
      ]
     },
     "execution_count": 11,
     "metadata": {},
     "output_type": "execute_result"
    },
    {
     "data": {
      "text/plain": [
       "('calmar_ratio', 3.1032244270316123)"
      ]
     },
     "execution_count": 11,
     "metadata": {},
     "output_type": "execute_result"
    },
    {
     "data": {
      "text/plain": [
       "('sharpe_ratio', 1.3799672489446992)"
      ]
     },
     "execution_count": 11,
     "metadata": {},
     "output_type": "execute_result"
    },
    {
     "data": {
      "text/plain": [
       "('alpha', 0.09181128162785883)"
      ]
     },
     "execution_count": 11,
     "metadata": {},
     "output_type": "execute_result"
    },
    {
     "data": {
      "text/plain": [
       "('beta', 0.8632620761305533)"
      ]
     },
     "execution_count": 11,
     "metadata": {},
     "output_type": "execute_result"
    },
    {
     "data": {
      "text/plain": [
       "('ALL DAY', 105)"
      ]
     },
     "execution_count": 11,
     "metadata": {},
     "output_type": "execute_result"
    },
    {
     "data": {
      "text/plain": [
       "'CASH_TURTLE_20_60_60'"
      ]
     },
     "execution_count": 11,
     "metadata": {},
     "output_type": "execute_result"
    },
    {
     "data": {
      "text/plain": [
       "'PROPERTY_TURTLE_20_60_60'"
      ]
     },
     "execution_count": 11,
     "metadata": {},
     "output_type": "execute_result"
    },
    {
     "data": {
      "text/plain": [
       "('CASH NOT USED DAY', 20)"
      ]
     },
     "execution_count": 11,
     "metadata": {},
     "output_type": "execute_result"
    },
    {
     "data": {
      "text/plain": [
       "('MISS_BUY_SIGNAL_LONG', 0)"
      ]
     },
     "execution_count": 11,
     "metadata": {},
     "output_type": "execute_result"
    },
    {
     "data": {
      "text/plain": [
       "('MISS_BUY_SIGNAL_SHORT', 0)"
      ]
     },
     "execution_count": 11,
     "metadata": {},
     "output_type": "execute_result"
    }
   ],
   "source": [
    "'ALL'\n",
    "'start_date', start_date\n",
    "'end_date', end_date\n",
    "'TURTLE_POS', TURTLE_POS\n",
    "'TURTLE_SHORT_BUY_N', TURTLE_SHORT_BUY_N\n",
    "'TURTLE_SHORT_SELL_N', TURTLE_SHORT_SELL_N\n",
    "'TURTLE_LONG_BUY_N', TURTLE_LONG_BUY_N\n",
    "'TURTLE_LONG_SELL_N', TURTLE_LONG_SELL_N\n",
    "'IS_HAPPYMONEY', IS_HAPPYMONEY\n",
    "'IS_TAX', IS_TAX\n",
    "'IS_SLIPPAGE', IS_SLIPPAGE\n",
    "'IS_RANDOM_BUY', IS_RANDOM_BUY\n",
    "'START_MONEY', START_MONEY\n",
    "\n",
    "'len(order_df)', len(order_df)\n",
    "sum_profit = sum(list(order_df['profit']))\n",
    "'sum_profit', sum_profit\n",
    "# sum_tax = sum(list(order_df_TB['tax']))\n",
    "sum_tax = 0\n",
    "'sum_tax', sum_tax\n",
    "'win rate', len(order_df[order_df.profit > 0]) / len(order_df[order_df.profit != 0])\n",
    "# 'REWARD', ((sum_profit - sum_tax) / START_MONEY + 1) ** (365 / count_day)\n",
    "'len(order_df[order_df.profit != 0])', len(order_df[order_df.profit != 0])\n",
    "'len(order_df[order_df.profit > 0])', len(order_df[order_df.profit > 0])\n",
    "'order LONG', len(order_df[order_df.signal_reason == 'LONG'])\n",
    "len(order_df[(order_df.signal_reason == 'LONG') & (order_df.profit > 0)])\n",
    "sum(list(order_df[order_df.signal_reason == 'LONG']['profit']))\n",
    "'order SHORT', len(order_df[order_df.signal_reason == 'SHORT'])\n",
    "len(order_df[(order_df.signal_reason == 'SHORT') & (order_df.profit > 0)])\n",
    "sum(list(order_df[order_df.signal_reason == 'SHORT']['profit']))\n",
    "\n",
    "# order_df\n",
    "# order_df.loc[order_df['sell_price']==0]\n",
    "\n",
    "calc_df = order_df.copy()\n",
    "calc_df['profit_pct'] = calc_df['profit'] / (calc_df['buy_count'] * calc_df['buy_price'] + 1)\n",
    "# calc_df[calc_df.symbol == 'BIDU']\n",
    "# calc_df[calc_df.profit > 0]\n",
    "# calc_df\n",
    "\n",
    "# order_df[order_df.profit > 0]\n",
    "\n",
    "# csv_file = 'E:/Dev/result/T_TURTLE_POS%d_TURTLE_BUY_N%d_TURTLE_SELL_N%d_START_MONEY%d_%s_%s.csv' % \\\n",
    "#     (TURTLE_POS, TURTLE_BUY_N, TURTLE_SELL_N, START_MONEY, start_date, end_date)\n",
    "# calc_df.to_csv(csv_file)\n",
    "\n",
    "# list(show_df.dropna(how='any', inplace=False).PROPERTY_TURTLE_20_60_60.apply(int).tail(50))\n",
    "# list(show_df.open.apply(int).tail(50))\n",
    "\n",
    "df = show_df.dropna(how='any', inplace=False).copy()\n",
    "algo = df['PROPERTY_TURTLE_%d_%d_%d' % (TURTLE_POS, TURTLE_LONG_BUY_N, TURTLE_LONG_SELL_N)].pct_change()\n",
    "benchmark = df.open.pct_change()\n",
    "\n",
    "'cum_returns', emp.cum_returns(algo)[-1], emp.cum_returns(benchmark)[-1]\n",
    "'max_drawdown', emp.max_drawdown(algo), emp.max_drawdown(benchmark)\n",
    "'annual_return', emp.annual_return(algo), emp.annual_return(benchmark)\n",
    "'annual_volatility', emp.annual_volatility(algo, period='daily')\n",
    "'calmar_ratio', emp.calmar_ratio(algo)\n",
    "'sharpe_ratio', emp.sharpe_ratio(returns=algo)\n",
    "'alpha', emp.alpha(returns=algo, factor_returns=benchmark, risk_free=0.00)\n",
    "'beta', emp.beta(returns=algo, factor_returns=benchmark, risk_free=0.00)\n",
    "\n",
    "'ALL DAY', len(df)\n",
    "'CASH_TURTLE_%d_%d_%d' % (TURTLE_POS, TURTLE_LONG_BUY_N, TURTLE_LONG_SELL_N)\n",
    "'PROPERTY_TURTLE_%d_%d_%d' % (TURTLE_POS, TURTLE_LONG_BUY_N, TURTLE_LONG_SELL_N)\n",
    "'CASH NOT USED DAY', \\\n",
    "    len(df[df['CASH_TURTLE_%d_%d_%d' % (TURTLE_POS, TURTLE_LONG_BUY_N, TURTLE_LONG_SELL_N)] > \\\n",
    "           df['PROPERTY_TURTLE_%d_%d_%d' % (TURTLE_POS, TURTLE_LONG_BUY_N, TURTLE_LONG_SELL_N)] / TURTLE_POS])\n",
    "'MISS_BUY_SIGNAL_LONG', miss_buy_long\n",
    "'MISS_BUY_SIGNAL_SHORT', miss_buy_short"
   ]
  },
  {
   "cell_type": "code",
   "execution_count": 12,
   "metadata": {
    "scrolled": true
   },
   "outputs": [
    {
     "data": {
      "text/plain": [
       "78"
      ]
     },
     "execution_count": 12,
     "metadata": {},
     "output_type": "execute_result"
    }
   ],
   "source": [
    "bad_stock_cnt = 0\n",
    "s_p = stock_df_dict['NDX'][start_date:].iloc[0].open\n",
    "e_p = stock_df_dict['NDX'].iloc[-1].open\n",
    "benchmark_return = e_p / s_p\n",
    "for symbol, stock_df in stock_df_dict.items():\n",
    "    df = stock_df.loc[start_date:end_date, 'close']\n",
    "#     print(df)\n",
    "    s_p = df.head(1).values\n",
    "    e_p = df.tail(1).values\n",
    "#     print(symbol, s_p, e_p, e_p / s_p)\n",
    "    if e_p / s_p < benchmark_return:\n",
    "        bad_stock_cnt += 1\n",
    "bad_stock_cnt\n"
   ]
  },
  {
   "cell_type": "code",
   "execution_count": 13,
   "metadata": {
    "scrolled": false
   },
   "outputs": [],
   "source": [
    "%matplotlib inline\n",
    "\n",
    "import sys\n",
    "import matplotlib\n",
    "import matplotlib.pyplot as plt\n",
    "plt.rcParams['figure.figsize'] = [15, 10]\n",
    "\n",
    "# order_df_TB\n",
    "bar_df = order_df.copy()\n",
    "df = bar_df.sort_values(by=['profit'])\n",
    "# df\n",
    "\n",
    "bins = [100 * x for x in range(-200, 500)]\n",
    "# bins\n",
    "\n",
    "cats = pd.cut(df['profit'], bins)\n",
    "# cats\n",
    "\n",
    "def get_stats(group):\n",
    "    return {'count': group.count()}\n",
    "\n",
    "grouped = df['profit'].groupby(cats)\n",
    "bin_counts = grouped.apply(get_stats).unstack()\n",
    "bin_counts.reset_index(inplace=True, drop=False)\n",
    "bin_counts['profit'] = bin_counts['profit'].apply(str)\n",
    "# bin_counts\n",
    "\n",
    "# df['profit'].hist(bins=10)\n",
    "\n",
    "# bin_counts.plot(kind='barh', alpha=0.5, rot=0)\n",
    "\n",
    "# display_charts(bin_counts, kind='bar', x='profit', figsize=(900, 600), logy=True)"
   ]
  },
  {
   "cell_type": "code",
   "execution_count": 14,
   "metadata": {
    "scrolled": false
   },
   "outputs": [
    {
     "data": {
      "text/plain": [
       "Index(['open', 'high', 'low', 'close', 'volume', 'o_pct_chg', 'ROLLING_20_MAX',\n",
       "       'ROLLING_20_MIN', 'ROLLING_60_MAX', 'ROLLING_60_MIN', 'MA180', 'MA60',\n",
       "       'MA30', 'CASH_TURTLE_20_60_60', 'PROPERTY_TURTLE_20_60_60'],\n",
       "      dtype='object')"
      ]
     },
     "execution_count": 14,
     "metadata": {},
     "output_type": "execute_result"
    },
    {
     "data": {
      "image/png": "[encoded data removed]",
      "text/plain": [
       "<matplotlib.figure.Figure at 0xe47c890>"
      ]
     },
     "metadata": {},
     "output_type": "display_data"
    }
   ],
   "source": [
    "%matplotlib inline\n",
    "\n",
    "import matplotlib\n",
    "import matplotlib.pyplot as plt\n",
    "plt.rcParams['figure.figsize'] = [15, 10]\n",
    "\n",
    "df = show_df.dropna(how='any', inplace=False).copy()\n",
    "# df.drop(columns=['open', 'high', 'low', 'o_pct_chg', 'TR', 'N'], inplace=True)\n",
    "df.columns\n",
    "\n",
    "df['close'] = (df['close'] - df.iloc[0]['close']) / df.iloc[0]['close']\n",
    "ax = df.plot(kind='line', y='close', label='NDX_%.2f' % df.iloc[-1]['close'], linewidth=1, grid=True)\n",
    "for col in sorted(df.columns):\n",
    "    if 'PROPERTY' in col:\n",
    "        df[col] = (df[col] - df.iloc[1][col]) / df.iloc[0][col]\n",
    "        ax = df.plot(kind='line', y=col, secondary_y=False, label='%s_%.2f' % (col, df.iloc[-1][col]), linewidth=1, grid=True, ax=ax)\n",
    "\n",
    "# display_charts(df, kind='line', figsize=(900, 600), logy=False)"
   ]
  },
  {
   "cell_type": "code",
   "execution_count": 15,
   "metadata": {
    "scrolled": false
   },
   "outputs": [
    {
     "data": {
      "text/plain": [
       "Index(['close', 'CASH_TURTLE_20_60_60', 'PROPERTY_TURTLE_20_60_60'], dtype='object')"
      ]
     },
     "execution_count": 15,
     "metadata": {},
     "output_type": "execute_result"
    },
    {
     "data": {
      "text/plain": [
       "PeriodIndex(['2018-01-02', '2018-01-03', '2018-01-04', '2018-01-05',\n",
       "             '2018-01-08', '2018-01-09', '2018-01-10', '2018-01-11',\n",
       "             '2018-01-12', '2018-01-16',\n",
       "             ...\n",
       "             '2018-05-18', '2018-05-21', '2018-05-22', '2018-05-23',\n",
       "             '2018-05-24', '2018-05-25', '2018-05-29', '2018-05-30',\n",
       "             '2018-05-31', '2018-06-01'],\n",
       "            dtype='period[D]', name='date', length=105, freq='D')"
      ]
     },
     "execution_count": 15,
     "metadata": {},
     "output_type": "execute_result"
    },
    {
     "data": {
      "text/plain": [
       "period[D]"
      ]
     },
     "execution_count": 15,
     "metadata": {},
     "output_type": "execute_result"
    },
    {
     "data": {
      "text/html": [
       "<div id=\"chart_idWHQeLCNi\"</div>\n",
       "    <script type=\"text/javascript\">new Highcharts.StockChart({\"chart\":{\"renderTo\":\"chart_idWHQeLCNi\",\"width\":900,\"height\":600},\"legend\":{\"enabled\":true},\"series\":[{\"name\":\"CASH_TURTLE_20_60_60\",\"yAxis\":0,\"data\":[[1514851200000,100000.0],[1514937600000,70175.64877],[1515024000000,36557.31852],[1515110400000,1935.41776],[1515369600000,1935.41776],[1515456000000,1935.41776],[1515542400000,1935.41776],[1515628800000,1935.41776],[1515715200000,1935.41776],[1516060800000,1935.41776],[1516147200000,1935.41776],[1516233600000,1935.41776],[1516320000000,1935.41776],[1516579200000,1935.41776],[1516665600000,1935.41776],[1516752000000,1935.41776],[1516838400000,1935.41776],[1516924800000,1935.41776],[1517184000000,1935.41776],[1517270400000,1935.41776],[1517356800000,1935.41776],[1517443200000,1935.41776],[1517529600000,1935.41776],[1517788800000,1935.41776],[1517875200000,1935.41776],[1517961600000,1935.41776],[1518048000000,1935.41776],[1518134400000,1935.41776],[1518393600000,1935.41776],[1518480000000,1935.41776],[1518566400000,1935.41776],[1518652800000,1935.41776],[1518739200000,1935.41776],[1519084800000,1935.41776],[1519171200000,1935.41776],[1519257600000,1935.41776],[1519344000000,1935.41776],[1519603200000,1935.41776],[1519689600000,1935.41776],[1519776000000,2298.31776],[1519862400000,2298.31776],[1519948800000,2298.31776],[1520208000000,2298.31776],[1520294400000,2298.31776],[1520380800000,2298.31776],[1520467200000,2298.31776],[1520553600000,2298.31776],[1520812800000,2298.31776],[1520899200000,2298.31776],[1520985600000,2298.31776],[1521072000000,2298.31776],[1521158400000,2298.31776],[1521417600000,2298.31776],[1521504000000,2298.31776],[1521590400000,2298.31776],[1521676800000,6925.01776],[1521763200000,6925.01776],[1522022400000,6925.01776],[1522108800000,1955.64832],[1522195200000,9955.28832],[1522281600000,9955.28832],[1522627200000,9955.28832],[1522713600000,9955.28832],[1522800000000,14206.76832],[1522886400000,14206.76832],[1522972800000,23670.20832],[1523232000000,23670.20832],[1523318400000,18695.2016],[1523404800000,18695.2016],[1523491200000,18695.2016],[1523577600000,13721.14496],[1523836800000,13721.14496],[1523923200000,3835.82136],[1524009600000,3835.82136],[1524096000000,3835.82136],[1524182400000,3835.82136],[1524441600000,3835.82136],[1524528000000,3835.82136],[1524614400000,3835.82136],[1524700800000,8136.82136],[1524787200000,3286.19116],[1525046400000,3286.19116],[1525132800000,3286.19116],[1525219200000,3286.19116],[1525305600000,3286.19116],[1525392000000,3286.19116],[1525651200000,3286.19116],[1525737600000,3286.19116],[1525824000000,3286.19116],[1525910400000,3286.19116],[1525996800000,3286.19116],[1526256000000,3286.19116],[1526342400000,3286.19116],[1526428800000,3286.19116],[1526515200000,3286.19116],[1526601600000,3286.19116],[1526860800000,3286.19116],[1526947200000,3286.19116],[1527033600000,3286.19116],[1527120000000,3286.19116],[1527206400000,3286.19116],[1527552000000,3286.19116],[1527638400000,3286.19116],[1527724800000,3286.19116],[1527811200000,3286.19116]]},{\"name\":\"PROPERTY_TURTLE_20_60_60\",\"yAxis\":0,\"data\":[[1514851200000,100000.0],[1514937600000,99632.84877],[1515024000000,99770.00852],[1515110400000,99747.95776],[1515369600000,100217.3277600001],[1515456000000,100536.14776],[1515542400000,100684.35776],[1515628800000,100812.90776],[1515715200000,102341.36776],[1516060800000,104061.14776],[1516147200000,103569.88776],[1516233600000,103591.20776],[1516320000000,103846.43776],[1516579200000,104526.17776],[1516665600000,107155.60776],[1516752000000,107436.37776],[1516838400000,107943.58776],[1516924800000,108418.54276],[1517184000000,108747.7677600001],[1517270400000,108101.77776],[1517356800000,108593.54776],[1517443200000,106086.37276],[1517529600000,105460.0877600001],[1517788800000,103767.91776],[1517875200000,99149.0377600001],[1517961600000,102655.55776],[1518048000000,102170.74776],[1518134400000,98757.96776],[1518393600000,100213.17776],[1518480000000,100388.51776],[1518566400000,101166.00776],[1518652800000,104591.10776],[1518739200000,104961.65776],[1519084800000,104887.72776],[1519171200000,105454.83776],[1519257600000,105372.40776],[1519344000000,105392.02776],[1519603200000,107143.52776],[1519689600000,107926.0577600001],[1519776000000,106975.88776],[1519862400000,105617.74776],[1519948800000,103141.00776],[1520208000000,105071.15776],[1520294400000,107547.55976],[1520380800000,107492.94776],[1520467200000,109360.36776],[1520553600000,109950.05776],[1520812800000,111925.82776],[1520899200000,111911.82776],[1520985600000,110784.29776],[1521072000000,110642.1977600001],[1521158400000,110432.8977600001],[1521417600000,109205.83776],[1521504000000,108480.44776],[1521590400000,108486.40776],[1521676800000,107404.05776],[1521763200000,106432.75776],[1522022400000,106245.45776],[1522108800000,108461.9983200001],[1522195200000,104070.70832],[1522281600000,103015.69832],[1522627200000,104094.81832],[1522713600000,102528.1383200001],[1522800000000,100775.30832],[1522886400000,103924.20832],[1522972800000,102604.26832],[1523232000000,102121.26832],[1523318400000,103476.9316],[1523404800000,103575.6766],[1523491200000,104464.1546],[1523577600000,105754.78896],[1523836800000,105641.4549600001],[1523923200000,107053.7013600001],[1524009600000,108432.80136],[1524096000000,107987.43136],[1524182400000,107149.82096],[1524441600000,106515.49416],[1524528000000,106035.54036],[1524614400000,104392.51136],[1524700800000,105437.35136],[1524787200000,107122.53116],[1525046400000,106898.34116],[1525132800000,104673.05116],[1525219200000,105539.63116],[1525305600000,104874.07916],[1525392000000,105001.95116],[1525651200000,107808.14006],[1525737600000,108587.61116],[1525824000000,108962.58516],[1525910400000,109881.29116],[1525996800000,109941.04116],[1526256000000,109688.26116],[1526342400000,108729.28996],[1526428800000,108979.36116],[1526515200000,109275.73116],[1526601600000,109037.05116],[1526860800000,109145.49116],[1526947200000,109756.29116],[1527033600000,108735.28116],[1527120000000,111018.85116],[1527206400000,111281.35116],[1527552000000,110671.16716],[1527638400000,111544.04116],[1527724800000,111917.47316],[1527811200000,111878.45116]]},{\"name\":\"close\",\"yAxis\":0,\"data\":[[1514851200000,100000.0],[1514937600000,100989.9185175902],[1515024000000,101124.714037532],[1515110400000,102179.9646893176],[1515369600000,102538.4774633317],[1515456000000,102558.4579773392],[1515542400000,102323.8827498593],[1515628800000,103027.7620104236],[1515715200000,103796.3744504975],[1516060800000,103467.6865482764],[1516147200000,104591.079813937],[1516233600000,104607.8812607658],[1516320000000,104960.3276988591],[1516579200000,106065.3069473829],[1516665600000,106943.5895262176],[1516752000000,106266.1103452682],[1516838400000,106219.3150907094],[1516924800000,107857.5022299544],[1517184000000,107325.2465236056],[1517270400000,106440.8054619753],[1517356800000,106736.6122877243],[1517443200000,105992.004108522],[1517529600000,103823.2506222986],[1517788800000,99763.0903850265],[1517875200000,102374.8706872191],[1517961600000,101085.4748267025],[1518048000000,96847.9318555432],[1518134400000,98484.736791667],[1518393600000,100192.0955182217],[1518480000000,100652.9988278918],[1518566400000,102513.8742477743],[1518652800000,104355.1377411484],[1518739200000,103982.5879265479],[1519084800000,104121.284330854],[1519171200000,103807.4781489044],[1519257600000,103847.3009566074],[1519344000000,105916.720111854],[1519603200000,107337.2563329476],[1519689600000,105974.3119085706],[1519776000000,105268.8661511356],[1519862400000,103673.5733820852],[1519948800000,104602.6596045302],[1520208000000,105681.4230671886],[1520294400000,106168.910750223],[1520380800000,106420.2259932819],[1520467200000,106989.0640089051],[1520553600000,109058.5906688389],[1520812800000,109518.4189316369],[1520899200000,108219.0097773977],[1520985600000,108134.0503588813],[1521072000000,107980.3032983667],[1521158400000,107811.0602050821],[1521417600000,105429.5856585062],[1521504000000,105752.6372435553],[1521590400000,105254.0458621139],[1521676800000,102624.8037271568],[1521763200000,99950.0256782624],[1522022400000,103724.0852272587],[1522108800000,100284.0580992188],[1522195200000,99223.8929474468],[1522281600000,101071.6835111154],[1522627200000,98149.2607363395],[1522713600000,99193.5305522178],[1522800000000,100748.1558338801],[1522886400000,101282.3159089736],[1522972800000,98800.1094704872],[1523232000000,99401.0453141471],[1523318400000,101605.3060627729],[1523404800000,101107.3136360174],[1523491200000,102225.5006032549],[1523577600000,101796.8640575586],[1523836800000,102516.1625618306],[1523923200000,104684.4860293051],[1524009600000,104943.1730223437],[1524096000000,104047.443968557],[1524182400000,102402.0540152694],[1524441600000,102111.100258257],[1524528000000,99964.7231047845],[1524614400000,100039.8842389528],[1524700800000,102124.1083254087],[1524787200000,102227.0056688757],[1525046400000,101447.1052366455],[1525132800000,102620.3038881066],[1525219200000,102044.6316459397],[1525305600000,102029.3199069194],[1525392000000,103958.8293906757],[1525651200000,104769.0768603225],[1525737600000,104670.925080905],[1525824000000,105864.7032010596],[1525910400000,106944.8488668392],[1525996800000,106776.1586548031],[1526256000000,106957.5037043044],[1526342400000,105792.8286387572],[1526428800000,106429.1028088825],[1526515200000,105993.9852663291],[1526601600000,105450.6412193857],[1526860800000,106053.8500192894],[1526947200000,105870.9384729174],[1527033600000,106792.530082883],[1527120000000,106732.173879924],[1527206400000,106904.4731778877],[1527552000000,106376.548374652],[1527638400000,107141.7360225477],[1527724800000,107009.09059635],[1527811200000,108793.6069726926]]}],\"xAxis\":{\"title\":{\"text\":\"date\"},\"type\":\"datetime\"},\"yAxis\":[{}]});</script>"
      ],
      "text/plain": [
       "<IPython.core.display.HTML object>"
      ]
     },
     "metadata": {},
     "output_type": "display_data"
    }
   ],
   "source": [
    "df = show_df.dropna(how='any', inplace=False).copy()\n",
    "# df.drop(columns=['open', 'high', 'low', 'o_pct_chg', 'TR', 'N'], inplace=True)\n",
    "df = df.loc[:, ['close', 'CASH_TURTLE_20_60_60', 'PROPERTY_TURTLE_20_60_60']]\n",
    "# df.drop(columns=['CASH_TURTLE_20_60_60'], inplace=True)\n",
    "df.columns\n",
    "df.index\n",
    "\n",
    "# df.reset_index(drop=False, inplace=True)\n",
    "# df = df.astype(dtype={'date': 'datetime64[ns]'})\n",
    "# df = df.astype(dtype={'date': 'datetime'})\n",
    "df.index.dtype\n",
    "df.index = df.index.astype('datetime64[ns]')\n",
    "# df.set_index('date', inplace=True)\n",
    "# df.index.astype()\n",
    "\n",
    "# df['close'] = (df['close'] - df.iloc[0]['close']) / df.iloc[0]['close']\n",
    "df['close'] = df['close'] / df.iloc[0]['close'] * 100000\n",
    "\n",
    "# df\n",
    "\n",
    "display_charts(df, chart_type='stock', figsize=(900, 600), logy=False)\n",
    "\n",
    "\n",
    "# pi = pd.period_range('2016-01-01', periods=3, freq='M')\n",
    "# pi.dtype\n",
    "# pi.astype('period[D]')\n",
    "# pi.astype('datetime64[ns]')"
   ]
  }
 ],
 "metadata": {
  "kernelspec": {
   "display_name": "Python 3",
   "language": "python",
   "name": "python3"
  },
  "language_info": {
   "codemirror_mode": {
    "name": "ipython",
    "version": 3
   },
   "file_extension": ".py",
   "mimetype": "text/x-python",
   "name": "python",
   "nbconvert_exporter": "python",
   "pygments_lexer": "ipython3",
   "version": "3.6.1"
  }
 },
 "nbformat": 4,
 "nbformat_minor": 2
}
