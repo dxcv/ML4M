{
 "cells": [
  {
   "cell_type": "code",
   "execution_count": 1,
   "metadata": {
    "scrolled": true
   },
   "outputs": [
    {
     "data": {
      "text/html": [
       "\n",
       "<script src=\"//code.highcharts.com/stock/highstock.js\"></script>\n",
       "<script src=\"//code.highcharts.com/highcharts-more.js\"></script>\n",
       "<script src=\"//code.highcharts.com/modules/exporting.js\"></script>\n"
      ],
      "text/plain": [
       "<IPython.core.display.HTML object>"
      ]
     },
     "metadata": {},
     "output_type": "display_data"
    },
    {
     "data": {
      "text/plain": [
       "<module 'pandas' from 'd:\\\\python3\\\\lib\\\\site-packages\\\\pandas\\\\__init__.py'>"
      ]
     },
     "execution_count": 1,
     "metadata": {},
     "output_type": "execute_result"
    }
   ],
   "source": [
    "import os\n",
    "import sys\n",
    "sys.path.append(os.path.abspath(os.path.join(os.getcwd(), '..')))\n",
    "\n",
    "import pandas as pd\n",
    "pd.core.common.is_list_like = pd.api.types.is_list_like\n",
    "import empyrical as emp\n",
    "import time\n",
    "import random\n",
    "# from concurrent.futures import ProcessPoolExecutor\n",
    "\n",
    "from common.log import *\n",
    "from common.config import Config\n",
    "from spider.spider_nasdaq import Spider_nasdaq\n",
    "\n",
    "from IPython.core.interactiveshell import InteractiveShell\n",
    "InteractiveShell.ast_node_interactivity = 'all'\n",
    "\n",
    "from pandas_highcharts.core import serialize\n",
    "from pandas_highcharts.display import display_charts\n",
    "\n",
    "CONF = Config().data[0]\n",
    "MONGODB = CONF['MONGODB']\n",
    "NASDAQ = CONF['NASDAQ']\n",
    "CRYPTOCURRENCY = CONF['CRYPTOCURRENCY']\n",
    "NASDAQ100 = CONF['NASDAQ100']\n",
    "\n",
    "pd"
   ]
  },
  {
   "cell_type": "code",
   "execution_count": 2,
   "metadata": {
    "scrolled": false
   },
   "outputs": [
    {
     "name": "stdout",
     "output_type": "stream",
     "text": [
      "Wall time: 0 ns\n"
     ]
    }
   ],
   "source": [
    "%%time\n",
    "\n",
    "spider = Spider_nasdaq()\n",
    "timeframe = '10y'\n",
    "ignore = True\n",
    "\n",
    "# for symbol in NASDAQ100:\n",
    "for symbol in ['NDX', 'TSLA']:\n",
    "#     if symbol == 'SHPG':\n",
    "#         ignore = False\n",
    "#     if ignore:\n",
    "#         continue\n",
    "#     datafile = spider.get_stock_data(symbol, timeframe)\n",
    "#     print(datafile)\n",
    "    pass"
   ]
  },
  {
   "cell_type": "code",
   "execution_count": 3,
   "metadata": {},
   "outputs": [
    {
     "name": "stdout",
     "output_type": "stream",
     "text": [
      "Wall time: 0 ns\n"
     ]
    }
   ],
   "source": [
    "%%time\n",
    "\n",
    "### 时间设置\n",
    "start_date = '2008-06-02'\n",
    "start_date = '2010-01-01'\n",
    "# start_date = '2015-01-01'\n",
    "start_date = '2017-01-01'\n",
    "start_date = '2018-01-01'\n",
    "end_date = '2018-06-01'\n",
    "\n",
    "TURTLE_POS = 20\n",
    "### Turtle System One - Short\n",
    "TURTLE_SHORT_BUY_N = 20\n",
    "TURTLE_SHORT_SELL_N = 20\n",
    "### Turtle System Two - Long\n",
    "TURTLE_LONG_BUY_N = 60\n",
    "TURTLE_LONG_SELL_N = 60\n",
    "\n",
    "### 业务设置\n",
    "IS_HAPPYMONEY = False\n",
    "IS_TAX = False\n",
    "IS_SLIPPAGE = True\n",
    "IS_RANDOM_BUY = True\n",
    "START_MONEY = 100000\n",
    "HAPPY_MONEY = 0\n",
    "PROPERTY = START_MONEY\n",
    "CASH = START_MONEY\n"
   ]
  },
  {
   "cell_type": "code",
   "execution_count": 4,
   "metadata": {},
   "outputs": [],
   "source": [
    "# PEG_NASDAQ100 = {\n",
    "#   - ATVI\n",
    "#   - ADBE\n",
    "#   - ALXN\n",
    "#   - ALGN\n",
    "#   - GOOGL\n",
    "#   - GOOG\n",
    "#   - AMZN\n",
    "#   - AAL\n",
    "#   - AMGN\n",
    "#   - ADI\n",
    "#   - AAPL\n",
    "#   - AMAT\n",
    "#   - ASML\n",
    "#   - ADSK\n",
    "#   - ADP\n",
    "#   - BIDU\n",
    "#   - BIIB\n",
    "#   - BMRN\n",
    "#   - BKNG\n",
    "#   - AVGO\n",
    "#   - CA\n",
    "#   - CDNS\n",
    "#   - CELG\n",
    "#   - CERN\n",
    "#   - CHTR\n",
    "#   - CHKP\n",
    "#   - CTAS\n",
    "#   - CSCO\n",
    "#   - CTXS\n",
    "#   - CTSH\n",
    "#   - CMCSA\n",
    "#   - COST\n",
    "#   - CSX\n",
    "#   - CTRP\n",
    "#   - XRAY\n",
    "#   - DISH\n",
    "#   - DLTR\n",
    "#   - EBAY\n",
    "#   - EA\n",
    "#   - EXPE\n",
    "#   - ESRX\n",
    "#   - FB\n",
    "#   - FAST\n",
    "#   - FISV\n",
    "#   - GILD\n",
    "#   - HAS\n",
    "#   - HSIC\n",
    "#   - HOLX\n",
    "#   - IDXX\n",
    "#   - ILMN\n",
    "#   - INCY\n",
    "#   - INTC\n",
    "#   - INTU\n",
    "#   - ISRG\n",
    "#   - JBHT\n",
    "#   - JD\n",
    "#   - KLAC\n",
    "#   - LRCX\n",
    "#   - LBTYA\n",
    "#   - LBTYK\n",
    "#   - MAR\n",
    "#   - MXIM\n",
    "#   - MELI\n",
    "#   - MCHP\n",
    "#   - MU\n",
    "#   - MSFT\n",
    "#   - MDLZ\n",
    "#   - MNST\n",
    "#   - MYL\n",
    "#   - NTES\n",
    "#   - NFLX\n",
    "#   - NVDA\n",
    "#   - ORLY\n",
    "#   - PCAR\n",
    "#   - PAYX\n",
    "#   - PYPL\n",
    "#   - QCOM\n",
    "#   - QRTEA\n",
    "#   - REGN\n",
    "#   - ROST\n",
    "#   - STX\n",
    "#   - SHPG\n",
    "#   - SIRI\n",
    "#   - SWKS\n",
    "#   - SBUX\n",
    "#   - SYMC\n",
    "#   - SNPS\n",
    "#   - TMUS\n",
    "#   - TTWO\n",
    "#   - TSLA\n",
    "#   - TXN\n",
    "#   - KHC\n",
    "#   - FOXA\n",
    "#   - FOX\n",
    "#   - ULTA\n",
    "#   - VRSK\n",
    "#   - VRTX\n",
    "#   - VOD\n",
    "#   - WBA\n",
    "#   - WDC\n",
    "#   - WDAY\n",
    "#   - WYNN\n",
    "#   - XLNX\n",
    "# }"
   ]
  },
  {
   "cell_type": "code",
   "execution_count": 5,
   "metadata": {},
   "outputs": [
    {
     "name": "stdout",
     "output_type": "stream",
     "text": [
      "Wall time: 52.6 s\n"
     ]
    }
   ],
   "source": [
    "%%time\n",
    "\n",
    "stock_df_dict = {}\n",
    "\n",
    "for symbol in NASDAQ100[:]:\n",
    "    stock_data_file = '../database/market/%s.csv' % symbol\n",
    "    stock_df = pd.read_csv(stock_data_file)\n",
    "\n",
    "    # 筛选字段\n",
    "#     stock_df = stock_df.loc[:, ['date', 'open', 'close']]\n",
    "\n",
    "    # 去掉Nasdaq行情首行的当天行情\n",
    "    if symbol in NASDAQ:\n",
    "        stock_df = stock_df.drop([0])\n",
    "\n",
    "    # 抛弃空值异常值\n",
    "    stock_df.dropna(axis=0, how='any', inplace=True)\n",
    "\n",
    "    # 格式化日期\n",
    "    # 1.48 s ± 45.8 ms per loop (mean ± std. dev. of 7 runs, 1 loop each)\n",
    "#     stock_df['date'] = stock_df['date'].apply(lambda x: pd.Period(x, freq='D'))\n",
    "\n",
    "    # 445 ms ± 17.5 ms per loop (mean ± std. dev. of 7 runs, 1 loop each)\n",
    "    stock_df = stock_df.assign(date=pd.to_datetime(stock_df['date']))  # need .index.to_period('D')\n",
    "\n",
    "    # 476 ms ± 46.6 ms per loop (mean ± std. dev. of 7 runs, 1 loop each)\n",
    "#     stock_df['date'] = pd.to_datetime(stock_df['date'])  # need .index.to_period('D')\n",
    "    \n",
    "    # 转换字段格式\n",
    "#     stock_df = stock_df.astype(dtype={'volume': 'float64'})\n",
    "\n",
    "    # 用日期作索引，日期升序排序\n",
    "    # 95.1 µs ± 1.58 µs per loop (mean ± std. dev. of 7 runs, 10000 loops each)\n",
    "    stock_df = stock_df[::-1]\n",
    "    \n",
    "    # 407 µs ± 5.07 µs per loop (mean ± std. dev. of 7 runs, 1000 loops each)\n",
    "#     %timeit stock_df.set_index(['date'], inplace=False)\n",
    "\n",
    "    # Wall time: 500 µs\n",
    "    stock_df.set_index(['date'], inplace=True)\n",
    "    \n",
    "    # 305 µs ± 2.75 µs per loop (mean ± std. dev. of 7 runs, 1000 loops each)\n",
    "#     stock_df = stock_df.sort_index(axis=0, ascending=True)\n",
    "    \n",
    "    # 822 µs ± 41.3 µs per loop (mean ± std. dev. of 7 runs, 1000 loops each)\n",
    "    stock_df.index = stock_df.index.to_period('D')\n",
    "\n",
    "    # 计算涨跌幅\n",
    "#     stock_df['c_pct_chg'] = stock_df.close.pct_change(1)\n",
    "    stock_df['o_pct_chg'] = stock_df.open.pct_change(1)\n",
    "    \n",
    "    # Turtle指标\n",
    "#     stock_df['TR1'] = abs(stock_df['high'] - stock_df['low'])\n",
    "#     stock_df['TR2'] = abs(stock_df['high'] - stock_df['close'].shift())\n",
    "#     stock_df['TR3'] = abs(stock_df['low'] - stock_df['close'].shift())\n",
    "#     stock_df['TR'] = stock_df[['TR1', 'TR2', 'TR3']].max(axis=1)\n",
    "#     stock_df['N'] = stock_df['TR'].rolling(20).mean()\n",
    "#     stock_df['UNIT'] = (0.01 * START_MONEY) / (stock_df['N'])\n",
    "    stock_df['ROLLING_%d_MAX' % TURTLE_SHORT_BUY_N] = stock_df['open'].rolling(TURTLE_SHORT_BUY_N).max()\n",
    "    stock_df['ROLLING_%d_MIN' % TURTLE_SHORT_SELL_N] = stock_df['open'].rolling(TURTLE_SHORT_SELL_N).min()\n",
    "    stock_df['ROLLING_%d_MAX' % TURTLE_LONG_BUY_N] = stock_df['open'].rolling(TURTLE_LONG_BUY_N).max()\n",
    "    stock_df['ROLLING_%d_MIN' % TURTLE_LONG_SELL_N] = stock_df['open'].rolling(TURTLE_LONG_SELL_N).min()\n",
    "#     stock_df['MA%d' % TURTLE_BUY_N] = stock_df['open'].rolling(TURTLE_BUY_N).mean()\n",
    "#     stock_df['MA%d' % TURTLE_SELL_N] = stock_df['open'].rolling(TURTLE_SELL_N).mean()\n",
    "#     stock_df['EWMA'] = stock_df['open'].ewm(alpha=0.1, adjust=False).mean()\n",
    "#     stock_df['MA360'] = stock_df['open'].rolling(360).mean()\n",
    "    stock_df['MA180'] = stock_df['open'].rolling(180).mean()\n",
    "    stock_df['MA60'] = stock_df['open'].rolling(30).mean()\n",
    "    stock_df['MA30'] = stock_df['open'].rolling(30).mean()\n",
    "    \n",
    "#     stock_df['ops'] = ''\n",
    "#     stock_df['profit'] = 0\n",
    "    \n",
    "    # 减少数据\n",
    "    # stock_df = stock_df['2016-01-01':]\n",
    "    stock_df.dropna(how='any', inplace=True)\n",
    "#     stock_df.drop(columns=['volume', 'TR1', 'TR2', 'TR3'], inplace=True)\n",
    "    \n",
    "    stock_df_dict[symbol] = stock_df\n",
    "    \n",
    "#     print(stock_df.head(10))\n",
    "#     print(stock_df.dtypes)\n",
    "#     print(stock_df.index[0])\n",
    "#     print(type(stock_df.index[0]))"
   ]
  },
  {
   "cell_type": "code",
   "execution_count": 6,
   "metadata": {
    "scrolled": false
   },
   "outputs": [],
   "source": [
    "# %matplotlib inline\n",
    "\n",
    "# import matplotlib\n",
    "# import matplotlib.pyplot as plt\n",
    "# plt.rcParams['figure.figsize'] = [30, 20]\n",
    "\n",
    "# df = stock_df_dict['TSLA'].iloc[800:].copy()\n",
    "# df.columns\n",
    "# df.tail(10)\n",
    "# # df[(df.open == df.rolling_60_max)]\n",
    "# # df[(df.open >= df.rolling_60_max) & (df.MA30 > df.MA60)]\n",
    "# # df[(df.MA30 > df.MA60)]\n",
    "\n",
    "# # df = df.loc[:, ['open', 'ROLLING_60_MAX', 'rolling_30_min', 'MA60', 'MA30']]\n",
    "\n",
    "# df.reset_index(drop=False, inplace=True)\n",
    "# df = df.astype(dtype={'date': 'datetime64[ns]'})\n",
    "# df.set_index('date', inplace=True)\n",
    "# # df.index.astype()\n",
    "\n",
    "# display_charts(df, chart_type='stock', kind='line', y=['open', 'ROLLING_60_MAX', 'ROLLING_60_MIN'], figsize=(900, 600), logy=False)\n",
    "\n",
    "# # display_charts(df)\n",
    "\n",
    "# # ax = df.plot(kind='line', y=['open', 'rolling_max', 'rolling_min'], label='', linewidth=1)\n",
    "\n",
    "# # sum_buy_sig_short = 0\n",
    "# # sum_buy_sig_long = 0\n",
    "# # for symbol in NASDAQ100:\n",
    "# #     tdf = stock_df_dict[symbol]\n",
    "# #     buy_sig_short = tdf[(stock_df_dict[symbol].open == stock_df_dict[symbol]['ROLLING_%d_MAX' % TURTLE_SHORT_BUY_N])]\n",
    "# #     buy_sig_long = tdf[(stock_df_dict[symbol].open == stock_df_dict[symbol]['ROLLING_%d_MAX' % TURTLE_LONG_BUY_N])]\n",
    "# #     buy_sig_short_2 = buy_sig_short[buy_sig_short.MA30 >= buy_sig_short.MA180]\n",
    "# #     buy_sig_long_2 = buy_sig_long[buy_sig_long.MA30 >= buy_sig_long.MA180]\n",
    "# # #     print(symbol, len(tdf), len(buy_sig_short), len(buy_sig_short_2), len(buy_sig_long), len(buy_sig_long_2))\n",
    "# #     sum_buy_sig_short += len(buy_sig_short_2)\n",
    "# #     sum_buy_sig_long += len(buy_sig_long_2)\n",
    "# # print(len(stock_df_dict['NDX']), sum_buy_sig_short, sum_buy_sig_long)"
   ]
  },
  {
   "cell_type": "code",
   "execution_count": 7,
   "metadata": {
    "scrolled": false
   },
   "outputs": [],
   "source": [
    "# algo = stock_df_dict['TSLA'].open.pct_change()\n",
    "# benchmark = stock_df_dict['NDX'].open.pct_change()\n",
    "\n",
    "# 'cum_returns', emp.cum_returns(algo)[-1]\n",
    "# 'max_drawdown', emp.max_drawdown(algo), emp.max_drawdown(benchmark)\n",
    "# 'annual_return', emp.annual_return(algo), emp.annual_return(benchmark)\n",
    "# 'annual_volatility', emp.annual_volatility(algo, period='daily')\n",
    "# 'calmar_ratio', emp.calmar_ratio(algo)\n",
    "# 'sharpe_ratio', emp.sharpe_ratio(returns=algo)\n",
    "# 'alpha', emp.alpha(returns=algo, factor_returns=benchmark, risk_free=0.00)\n",
    "# 'beta', emp.beta(returns=algo, factor_returns=benchmark, risk_free=0.00)\n",
    "\n",
    "# emp_df = None\n",
    "# emp_df = pd.DataFrame(columns=[\n",
    "#     'symbol', 'cum_returns', 'annual_return', 'annual_volatility', 'max_drawdown', 'alpha', 'beta', 'sharpe_ratio', 'calmar_ratio'\n",
    "# ])\n",
    "\n",
    "# for symbol in NASDAQ100:\n",
    "#     algo = stock_df_dict[symbol].open.pct_change()\n",
    "#     emp_df = emp_df.append(\n",
    "#         {\n",
    "#             'symbol': symbol,\n",
    "#             'cum_returns': emp.cum_returns(algo)[-1],\n",
    "#             'annual_return': emp.annual_return(algo),\n",
    "#             'annual_volatility': emp.annual_volatility(algo, period='daily'),\n",
    "#             'max_drawdown': emp.max_drawdown(algo),\n",
    "#             'alpha': round(emp.alpha(returns=algo, factor_returns=benchmark, risk_free=0.00), 2),\n",
    "#             'beta': round(emp.beta(returns=algo, factor_returns=benchmark, risk_free=0.00), 2),\n",
    "#             'sharpe_ratio': emp.sharpe_ratio(returns=algo),\n",
    "#             'calmar_ratio': emp.calmar_ratio(algo)\n",
    "#         },\n",
    "#         ignore_index=True,\n",
    "#     )\n",
    "\n",
    "# # emp_df\n",
    "# # emp_df.sort_values('cum_returns', ascending=False)\n",
    "# emp_df.sort_values('sharpe_ratio', ascending=False)"
   ]
  },
  {
   "cell_type": "code",
   "execution_count": 8,
   "metadata": {},
   "outputs": [
    {
     "name": "stdout",
     "output_type": "stream",
     "text": [
      "Wall time: 500 µs\n"
     ]
    }
   ],
   "source": [
    "%%time\n",
    "\n",
    "show_df = None\n",
    "show_df = stock_df_dict['NDX'].copy()"
   ]
  },
  {
   "cell_type": "code",
   "execution_count": 21,
   "metadata": {
    "scrolled": false
   },
   "outputs": [
    {
     "name": "stdout",
     "output_type": "stream",
     "text": [
      "108203.50771\n",
      "0\n",
      "108203.50771\n",
      "NDX 6431.589 7287.053 1.133009743\n",
      "Wall time: 53 s\n"
     ]
    }
   ],
   "source": [
    "%%time\n",
    "# %xmode\n",
    "\n",
    "PROPERTY = START_MONEY\n",
    "CASH = START_MONEY\n",
    "\n",
    "order_df = None\n",
    "order_df = pd.DataFrame(columns=[\n",
    "    'signal_date', 'signal_reason', 'symbol',\n",
    "    'buy_date', 'buy_count', 'buy_price',\n",
    "    'sell_date', 'sell_price', 'sell_reason', 'profit',\n",
    "    'cash', 'property',\n",
    "])\n",
    "count_day = 0\n",
    "yesterday = None\n",
    "miss_buy_short = 0\n",
    "miss_buy_long = 0\n",
    "\n",
    "for today in pd.period_range(start=start_date, end=end_date, freq='D'):\n",
    "    count_day += 1\n",
    "    \n",
    "    if yesterday is None:\n",
    "        yesterday = today\n",
    "        continue\n",
    "\n",
    "    if today not in stock_df_dict['NDX'].index:\n",
    "        continue\n",
    "\n",
    "    if IS_HAPPYMONEY:        \n",
    "        if PROPERTY > START_MONEY * 2:\n",
    "            HAPPY_MONEY += 50000\n",
    "            PROPERTY -= 50000\n",
    "            CASH = PROPERTY\n",
    "    \n",
    "    # 买卖过程\n",
    "    # 突破下行趋势，清仓退出\n",
    "    order_arr = order_df.to_records(index=False)\n",
    "    if len(order_arr[(order_arr.buy_count > 0) & (order_arr.sell_price == 0)] ) != 0:\n",
    "        is_sell = False\n",
    "        for idx in order_df[(order_df['buy_count'] > 0) & (order_df['sell_price'] == 0)].index:\n",
    "            cur_order = order_df.loc[idx]\n",
    "            symbol = cur_order['symbol']\n",
    "            if today not in stock_df_dict[symbol].index or yesterday not in stock_df_dict[symbol].index:\n",
    "                continue\n",
    "            today_market = stock_df_dict[symbol].loc[today]\n",
    "            if cur_order.signal_reason == 'SHORT':\n",
    "                is_sell = (today_market.open <= today_market['ROLLING_%d_MIN' % TURTLE_SHORT_SELL_N])\n",
    "            if cur_order.signal_reason == 'LONG':\n",
    "                is_sell = (today_market.open <= today_market['ROLLING_%d_MIN' % TURTLE_LONG_SELL_N])\n",
    "            if is_sell:\n",
    "                CASH += cur_order.buy_count * today_market.open\n",
    "                order_df.loc[idx, 'sell_date'] = today\n",
    "                order_df.loc[idx, 'sell_price'] = today_market.open\n",
    "                order_df.loc[idx, 'sell_reason'] = 'EXIT'\n",
    "                order_df.loc[idx, 'profit'] = \\\n",
    "                    (today_market.open - cur_order.buy_price) * cur_order.buy_count\n",
    "#                 print(today, '退出', stock_df_dict[symbol].loc[today, 'open'], CASH)\n",
    "\n",
    "    # 买入信号\n",
    "    for symbol in NASDAQ100[:]:\n",
    "#     for symbol in ['TSLA']:\n",
    "        if symbol in ['ALGN', 'ROST', 'ORLY', 'ESRX', 'ULTA', 'REGN', 'MNST']:\n",
    "#             continue\n",
    "            pass\n",
    "\n",
    "        if symbol == 'NDX':\n",
    "            continue\n",
    "        \n",
    "        if today not in stock_df_dict[symbol].index or yesterday not in stock_df_dict[symbol].index:\n",
    "            continue\n",
    "\n",
    "        today_market = stock_df_dict[symbol].loc[today]\n",
    "\n",
    "        # 突破上行趋势，加入买入信号\n",
    "        order_arr = order_df.to_records(index=False)\n",
    "        if today_market.MA60 >= today_market.MA180:\n",
    "#         if today_market.MA30 >= today_market.MA180:\n",
    "            is_buy = False\n",
    "            if today_market.open >= today_market['ROLLING_%d_MAX' % TURTLE_LONG_BUY_N]:\n",
    "                is_buy = True\n",
    "                buy_reason = 'LONG'\n",
    "            elif False and today_market.open >= today_market['ROLLING_%d_MAX' % TURTLE_SHORT_BUY_N]:\n",
    "                is_buy = True\n",
    "                buy_reason = 'SHORT'\n",
    "                \n",
    "            if is_buy:\n",
    "                order_df = order_df.append(\n",
    "                    {\n",
    "                        'signal_date': today,\n",
    "                        'signal_reason': buy_reason,\n",
    "                        'symbol': symbol,\n",
    "                        'buy_date': pd.np.nan,\n",
    "                        'buy_count': 0,\n",
    "                        'buy_price': today_market.open,\n",
    "                        'sell_date': pd.np.nan,\n",
    "                        'sell_price': 0,\n",
    "                        'sell_reason': pd.np.nan,\n",
    "                        'profit': 0,\n",
    "                        'cash': CASH,\n",
    "                        'property': PROPERTY,\n",
    "                    },\n",
    "                    ignore_index=True\n",
    "                )\n",
    "\n",
    "    # 执行买入\n",
    "    order_arr = order_df.to_records(index=False)\n",
    "    if len(order_arr[order_arr.signal_date == today]) != 0 and CASH >= START_MONEY / TURTLE_POS:\n",
    "        is_buy = False\n",
    "        for idx in order_df[order_df['signal_date'] == today].index:\n",
    "            cur_order = order_df.loc[idx]\n",
    "            symbol = cur_order['symbol']\n",
    "            today_market = stock_df_dict[symbol].loc[today]\n",
    "            buy_count = 0\n",
    "\n",
    "            if IS_SLIPPAGE:\n",
    "                buy_price = today_market.open * (1 + random.randint(0, 20) / 1000)\n",
    "            else:\n",
    "                buy_price = today_market.open\n",
    "\n",
    "            if CASH >= START_MONEY / TURTLE_POS:\n",
    "                buy_count = int((START_MONEY / TURTLE_POS) / buy_price)\n",
    "\n",
    "            if IS_RANDOM_BUY:\n",
    "                if random.randint(0, 100) > 20:\n",
    "                    buy_count = 0\n",
    "\n",
    "            if buy_count > 0:\n",
    "                CASH -= buy_count * buy_price\n",
    "#                     print(today, '建仓', buy_count, stock_df_dict[symbol].loc[today, 'open'], CASH)\n",
    "                order_df.loc[idx, 'buy_date'] = today\n",
    "                order_df.loc[idx, 'buy_count'] = buy_count\n",
    "                order_df.loc[idx, 'buy_price'] = buy_price\n",
    "\n",
    "            \n",
    "    # 每天盘点财产\n",
    "    show_df.loc[today, 'CASH_TURTLE_%d_%d_%d' % (TURTLE_POS, TURTLE_LONG_BUY_N, TURTLE_LONG_SELL_N)] = CASH\n",
    "    PROPERTY = CASH + \\\n",
    "        sum(\n",
    "            [\n",
    "                stock_df_dict[order_df.loc[idx, 'symbol']][:today].iloc[-1].open * order_df.loc[idx, 'buy_count'] \\\n",
    "                for idx in order_df.loc[order_df['sell_price']==0].index\n",
    "            ]\n",
    "        )\n",
    "    show_df.loc[today, 'PROPERTY_TURTLE_%d_%d_%d' % (TURTLE_POS, TURTLE_LONG_BUY_N, TURTLE_LONG_SELL_N)] = PROPERTY\n",
    "\n",
    "    yesterday = today\n",
    "\n",
    "\n",
    "# 最后一天，全部清仓\n",
    "order_arr = order_df.to_records(index=False)\n",
    "if len(order_arr[(order_arr.buy_count > 0) & (order_arr.sell_price == 0)] ) != 0:\n",
    "    for idx in order_df[(order_df['buy_count'] > 0) & (order_df['sell_price'] == 0)].index:\n",
    "        cur_order = order_df.loc[idx]\n",
    "        symbol = cur_order['symbol']\n",
    "        today_market = stock_df_dict[symbol][:today].iloc[-1]\n",
    "        CASH += cur_order.buy_count * today_market.open\n",
    "        order_df.loc[idx, 'sell_date'] = today\n",
    "        order_df.loc[idx, 'sell_price'] = today_market.open\n",
    "        order_df.loc[idx, 'sell_reason'] = 'LAST'\n",
    "        order_df.loc[idx, 'profit'] = \\\n",
    "            (today_market.open - cur_order.buy_price) * cur_order.buy_count\n",
    "    \n",
    "\n",
    "print(CASH)\n",
    "print(HAPPY_MONEY)\n",
    "print(PROPERTY)\n",
    "\n",
    "s_p = stock_df_dict['NDX'][start_date:].iloc[0].open\n",
    "e_p = stock_df_dict['NDX'].iloc[-1].open\n",
    "print('NDX', s_p, e_p, e_p / s_p)\n"
   ]
  },
  {
   "cell_type": "code",
   "execution_count": 10,
   "metadata": {},
   "outputs": [
    {
     "data": {
      "text/html": [
       "<div>\n",
       "<style scoped>\n",
       "    .dataframe tbody tr th:only-of-type {\n",
       "        vertical-align: middle;\n",
       "    }\n",
       "\n",
       "    .dataframe tbody tr th {\n",
       "        vertical-align: top;\n",
       "    }\n",
       "\n",
       "    .dataframe thead th {\n",
       "        text-align: right;\n",
       "    }\n",
       "</style>\n",
       "<table border=\"1\" class=\"dataframe\">\n",
       "  <thead>\n",
       "    <tr style=\"text-align: right;\">\n",
       "      <th></th>\n",
       "      <th>signal_date</th>\n",
       "      <th>signal_reason</th>\n",
       "      <th>symbol</th>\n",
       "      <th>buy_date</th>\n",
       "      <th>buy_count</th>\n",
       "      <th>buy_price</th>\n",
       "      <th>sell_date</th>\n",
       "      <th>sell_price</th>\n",
       "      <th>sell_reason</th>\n",
       "      <th>profit</th>\n",
       "      <th>cash</th>\n",
       "      <th>property</th>\n",
       "    </tr>\n",
       "  </thead>\n",
       "  <tbody>\n",
       "    <tr>\n",
       "      <th>1</th>\n",
       "      <td>2018-01-03</td>\n",
       "      <td>LONG</td>\n",
       "      <td>ESRX</td>\n",
       "      <td>2018-01-03</td>\n",
       "      <td>65</td>\n",
       "      <td>75.83644</td>\n",
       "      <td>2018-03-22</td>\n",
       "      <td>71.18</td>\n",
       "      <td>EXIT</td>\n",
       "      <td>-302.669</td>\n",
       "      <td>100000</td>\n",
       "      <td>100000</td>\n",
       "    </tr>\n",
       "    <tr>\n",
       "      <th>2</th>\n",
       "      <td>2018-01-03</td>\n",
       "      <td>LONG</td>\n",
       "      <td>JBHT</td>\n",
       "      <td>2018-01-03</td>\n",
       "      <td>42</td>\n",
       "      <td>117.02798</td>\n",
       "      <td>2018-04-06</td>\n",
       "      <td>112.66</td>\n",
       "      <td>EXIT</td>\n",
       "      <td>-183.455</td>\n",
       "      <td>100000</td>\n",
       "      <td>100000</td>\n",
       "    </tr>\n",
       "    <tr>\n",
       "      <th>3</th>\n",
       "      <td>2018-01-03</td>\n",
       "      <td>LONG</td>\n",
       "      <td>MYL</td>\n",
       "      <td>2018-01-03</td>\n",
       "      <td>115</td>\n",
       "      <td>43.23565</td>\n",
       "      <td>2018-04-26</td>\n",
       "      <td>39.1</td>\n",
       "      <td>EXIT</td>\n",
       "      <td>-475.6</td>\n",
       "      <td>100000</td>\n",
       "      <td>100000</td>\n",
       "    </tr>\n",
       "    <tr>\n",
       "      <th>6</th>\n",
       "      <td>2018-01-03</td>\n",
       "      <td>LONG</td>\n",
       "      <td>TXN</td>\n",
       "      <td>2018-01-03</td>\n",
       "      <td>47</td>\n",
       "      <td>106.09176</td>\n",
       "      <td>2018-06-01</td>\n",
       "      <td>112.55</td>\n",
       "      <td>LAST</td>\n",
       "      <td>303.537</td>\n",
       "      <td>100000</td>\n",
       "      <td>100000</td>\n",
       "    </tr>\n",
       "    <tr>\n",
       "      <th>7</th>\n",
       "      <td>2018-01-03</td>\n",
       "      <td>LONG</td>\n",
       "      <td>FOXA</td>\n",
       "      <td>2018-01-03</td>\n",
       "      <td>138</td>\n",
       "      <td>36.13396</td>\n",
       "      <td>2018-06-01</td>\n",
       "      <td>38.71</td>\n",
       "      <td>LAST</td>\n",
       "      <td>355.494</td>\n",
       "      <td>100000</td>\n",
       "      <td>100000</td>\n",
       "    </tr>\n",
       "    <tr>\n",
       "      <th>8</th>\n",
       "      <td>2018-01-03</td>\n",
       "      <td>LONG</td>\n",
       "      <td>FOX</td>\n",
       "      <td>2018-01-03</td>\n",
       "      <td>138</td>\n",
       "      <td>35.97129</td>\n",
       "      <td>2018-06-01</td>\n",
       "      <td>38.26</td>\n",
       "      <td>LAST</td>\n",
       "      <td>315.842</td>\n",
       "      <td>100000</td>\n",
       "      <td>100000</td>\n",
       "    </tr>\n",
       "    <tr>\n",
       "      <th>9</th>\n",
       "      <td>2018-01-04</td>\n",
       "      <td>LONG</td>\n",
       "      <td>GOOGL</td>\n",
       "      <td>2018-01-04</td>\n",
       "      <td>4</td>\n",
       "      <td>1111.35217</td>\n",
       "      <td>2018-03-28</td>\n",
       "      <td>1001.91</td>\n",
       "      <td>EXIT</td>\n",
       "      <td>-437.769</td>\n",
       "      <td>70246.5</td>\n",
       "      <td>99769.6</td>\n",
       "    </tr>\n",
       "    <tr>\n",
       "      <th>11</th>\n",
       "      <td>2018-01-04</td>\n",
       "      <td>LONG</td>\n",
       "      <td>AMZN</td>\n",
       "      <td>2018-01-04</td>\n",
       "      <td>4</td>\n",
       "      <td>1207.41000</td>\n",
       "      <td>2018-06-01</td>\n",
       "      <td>1637.03</td>\n",
       "      <td>LAST</td>\n",
       "      <td>1718.48</td>\n",
       "      <td>70246.5</td>\n",
       "      <td>99769.6</td>\n",
       "    </tr>\n",
       "    <tr>\n",
       "      <th>13</th>\n",
       "      <td>2018-01-04</td>\n",
       "      <td>LONG</td>\n",
       "      <td>CTXS</td>\n",
       "      <td>2018-01-04</td>\n",
       "      <td>54</td>\n",
       "      <td>91.80000</td>\n",
       "      <td>2018-06-01</td>\n",
       "      <td>106.33</td>\n",
       "      <td>LAST</td>\n",
       "      <td>784.62</td>\n",
       "      <td>70246.5</td>\n",
       "      <td>99769.6</td>\n",
       "    </tr>\n",
       "    <tr>\n",
       "      <th>14</th>\n",
       "      <td>2018-01-04</td>\n",
       "      <td>LONG</td>\n",
       "      <td>EBAY</td>\n",
       "      <td>2018-01-04</td>\n",
       "      <td>124</td>\n",
       "      <td>40.20840</td>\n",
       "      <td>2018-04-26</td>\n",
       "      <td>38.84</td>\n",
       "      <td>EXIT</td>\n",
       "      <td>-169.682</td>\n",
       "      <td>70246.5</td>\n",
       "      <td>99769.6</td>\n",
       "    </tr>\n",
       "    <tr>\n",
       "      <th>15</th>\n",
       "      <td>2018-01-04</td>\n",
       "      <td>LONG</td>\n",
       "      <td>ESRX</td>\n",
       "      <td>2018-01-04</td>\n",
       "      <td>65</td>\n",
       "      <td>76.72479</td>\n",
       "      <td>2018-03-22</td>\n",
       "      <td>71.18</td>\n",
       "      <td>EXIT</td>\n",
       "      <td>-360.411</td>\n",
       "      <td>70246.5</td>\n",
       "      <td>99769.6</td>\n",
       "    </tr>\n",
       "    <tr>\n",
       "      <th>16</th>\n",
       "      <td>2018-01-04</td>\n",
       "      <td>LONG</td>\n",
       "      <td>FB</td>\n",
       "      <td>2018-01-04</td>\n",
       "      <td>26</td>\n",
       "      <td>185.63960</td>\n",
       "      <td>2018-03-20</td>\n",
       "      <td>167.47</td>\n",
       "      <td>EXIT</td>\n",
       "      <td>-472.41</td>\n",
       "      <td>70246.5</td>\n",
       "      <td>99769.6</td>\n",
       "    </tr>\n",
       "    <tr>\n",
       "      <th>17</th>\n",
       "      <td>2018-01-04</td>\n",
       "      <td>LONG</td>\n",
       "      <td>HOLX</td>\n",
       "      <td>2018-01-04</td>\n",
       "      <td>111</td>\n",
       "      <td>44.88220</td>\n",
       "      <td>2018-02-09</td>\n",
       "      <td>35.62</td>\n",
       "      <td>EXIT</td>\n",
       "      <td>-1028.1</td>\n",
       "      <td>70246.5</td>\n",
       "      <td>99769.6</td>\n",
       "    </tr>\n",
       "    <tr>\n",
       "      <th>19</th>\n",
       "      <td>2018-01-04</td>\n",
       "      <td>LONG</td>\n",
       "      <td>JBHT</td>\n",
       "      <td>2018-01-04</td>\n",
       "      <td>42</td>\n",
       "      <td>118.10736</td>\n",
       "      <td>2018-04-06</td>\n",
       "      <td>112.66</td>\n",
       "      <td>EXIT</td>\n",
       "      <td>-228.789</td>\n",
       "      <td>70246.5</td>\n",
       "      <td>99769.6</td>\n",
       "    </tr>\n",
       "    <tr>\n",
       "      <th>20</th>\n",
       "      <td>2018-01-04</td>\n",
       "      <td>LONG</td>\n",
       "      <td>LBTYA</td>\n",
       "      <td>2018-01-04</td>\n",
       "      <td>136</td>\n",
       "      <td>36.66706</td>\n",
       "      <td>2018-04-04</td>\n",
       "      <td>30.83</td>\n",
       "      <td>EXIT</td>\n",
       "      <td>-793.84</td>\n",
       "      <td>70246.5</td>\n",
       "      <td>99769.6</td>\n",
       "    </tr>\n",
       "    <tr>\n",
       "      <th>24</th>\n",
       "      <td>2018-01-04</td>\n",
       "      <td>LONG</td>\n",
       "      <td>MYL</td>\n",
       "      <td>2018-01-04</td>\n",
       "      <td>114</td>\n",
       "      <td>43.55670</td>\n",
       "      <td>2018-04-26</td>\n",
       "      <td>39.1</td>\n",
       "      <td>EXIT</td>\n",
       "      <td>-508.064</td>\n",
       "      <td>70246.5</td>\n",
       "      <td>99769.6</td>\n",
       "    </tr>\n",
       "    <tr>\n",
       "      <th>30</th>\n",
       "      <td>2018-01-05</td>\n",
       "      <td>LONG</td>\n",
       "      <td>GOOG</td>\n",
       "      <td>2018-01-05</td>\n",
       "      <td>4</td>\n",
       "      <td>1106.03400</td>\n",
       "      <td>2018-03-28</td>\n",
       "      <td>998</td>\n",
       "      <td>EXIT</td>\n",
       "      <td>-432.136</td>\n",
       "      <td>21320.1</td>\n",
       "      <td>99730.9</td>\n",
       "    </tr>\n",
       "    <tr>\n",
       "      <th>34</th>\n",
       "      <td>2018-01-05</td>\n",
       "      <td>LONG</td>\n",
       "      <td>CMCSA</td>\n",
       "      <td>2018-01-05</td>\n",
       "      <td>121</td>\n",
       "      <td>41.07364</td>\n",
       "      <td>2018-02-28</td>\n",
       "      <td>36.9</td>\n",
       "      <td>EXIT</td>\n",
       "      <td>-505.01</td>\n",
       "      <td>21320.1</td>\n",
       "      <td>99730.9</td>\n",
       "    </tr>\n",
       "    <tr>\n",
       "      <th>37</th>\n",
       "      <td>2018-01-05</td>\n",
       "      <td>LONG</td>\n",
       "      <td>FISV</td>\n",
       "      <td>2018-01-05</td>\n",
       "      <td>74</td>\n",
       "      <td>67.08728</td>\n",
       "      <td>2018-06-01</td>\n",
       "      <td>73.01</td>\n",
       "      <td>LAST</td>\n",
       "      <td>438.281</td>\n",
       "      <td>21320.1</td>\n",
       "      <td>99730.9</td>\n",
       "    </tr>\n",
       "    <tr>\n",
       "      <th>38</th>\n",
       "      <td>2018-01-05</td>\n",
       "      <td>LONG</td>\n",
       "      <td>ILMN</td>\n",
       "      <td>2018-01-05</td>\n",
       "      <td>21</td>\n",
       "      <td>234.07791</td>\n",
       "      <td>2018-06-01</td>\n",
       "      <td>274.61</td>\n",
       "      <td>LAST</td>\n",
       "      <td>851.174</td>\n",
       "      <td>21320.1</td>\n",
       "      <td>99730.9</td>\n",
       "    </tr>\n",
       "    <tr>\n",
       "      <th>483</th>\n",
       "      <td>2018-02-15</td>\n",
       "      <td>LONG</td>\n",
       "      <td>CSCO</td>\n",
       "      <td>2018-02-15</td>\n",
       "      <td>110</td>\n",
       "      <td>45.33539</td>\n",
       "      <td>2018-06-01</td>\n",
       "      <td>42.91</td>\n",
       "      <td>LAST</td>\n",
       "      <td>-266.793</td>\n",
       "      <td>5999.75</td>\n",
       "      <td>96824</td>\n",
       "    </tr>\n",
       "    <tr>\n",
       "      <th>533</th>\n",
       "      <td>2018-02-28</td>\n",
       "      <td>LONG</td>\n",
       "      <td>BKNG</td>\n",
       "      <td>2018-02-28</td>\n",
       "      <td>2</td>\n",
       "      <td>2071.51000</td>\n",
       "      <td>2018-06-01</td>\n",
       "      <td>2120.99</td>\n",
       "      <td>LAST</td>\n",
       "      <td>98.96</td>\n",
       "      <td>5477.76</td>\n",
       "      <td>101433</td>\n",
       "    </tr>\n",
       "    <tr>\n",
       "      <th>668</th>\n",
       "      <td>2018-03-27</td>\n",
       "      <td>LONG</td>\n",
       "      <td>ADBE</td>\n",
       "      <td>2018-03-27</td>\n",
       "      <td>21</td>\n",
       "      <td>234.03820</td>\n",
       "      <td>2018-06-01</td>\n",
       "      <td>250.55</td>\n",
       "      <td>LAST</td>\n",
       "      <td>346.748</td>\n",
       "      <td>14942.4</td>\n",
       "      <td>97206.8</td>\n",
       "    </tr>\n",
       "    <tr>\n",
       "      <th>671</th>\n",
       "      <td>2018-04-12</td>\n",
       "      <td>LONG</td>\n",
       "      <td>VRSK</td>\n",
       "      <td>2018-04-12</td>\n",
       "      <td>46</td>\n",
       "      <td>107.04846</td>\n",
       "      <td>2018-06-01</td>\n",
       "      <td>106.83</td>\n",
       "      <td>LAST</td>\n",
       "      <td>-10.0492</td>\n",
       "      <td>31683.5</td>\n",
       "      <td>95133.4</td>\n",
       "    </tr>\n",
       "    <tr>\n",
       "      <th>672</th>\n",
       "      <td>2018-04-13</td>\n",
       "      <td>LONG</td>\n",
       "      <td>INTC</td>\n",
       "      <td>2018-04-13</td>\n",
       "      <td>92</td>\n",
       "      <td>53.90896</td>\n",
       "      <td>2018-06-01</td>\n",
       "      <td>55.84</td>\n",
       "      <td>LAST</td>\n",
       "      <td>177.656</td>\n",
       "      <td>26759.3</td>\n",
       "      <td>95505.5</td>\n",
       "    </tr>\n",
       "    <tr>\n",
       "      <th>674</th>\n",
       "      <td>2018-04-16</td>\n",
       "      <td>LONG</td>\n",
       "      <td>STX</td>\n",
       "      <td>2018-04-16</td>\n",
       "      <td>81</td>\n",
       "      <td>61.37712</td>\n",
       "      <td>2018-06-01</td>\n",
       "      <td>56.6</td>\n",
       "      <td>LAST</td>\n",
       "      <td>-386.947</td>\n",
       "      <td>21799.7</td>\n",
       "      <td>96154.2</td>\n",
       "    </tr>\n",
       "    <tr>\n",
       "      <th>676</th>\n",
       "      <td>2018-04-17</td>\n",
       "      <td>LONG</td>\n",
       "      <td>STX</td>\n",
       "      <td>2018-04-17</td>\n",
       "      <td>79</td>\n",
       "      <td>62.73983</td>\n",
       "      <td>2018-06-01</td>\n",
       "      <td>56.6</td>\n",
       "      <td>LAST</td>\n",
       "      <td>-485.047</td>\n",
       "      <td>16828.1</td>\n",
       "      <td>95893.7</td>\n",
       "    </tr>\n",
       "    <tr>\n",
       "      <th>677</th>\n",
       "      <td>2018-04-17</td>\n",
       "      <td>LONG</td>\n",
       "      <td>VRSK</td>\n",
       "      <td>2018-04-17</td>\n",
       "      <td>45</td>\n",
       "      <td>109.86420</td>\n",
       "      <td>2018-06-01</td>\n",
       "      <td>106.83</td>\n",
       "      <td>LAST</td>\n",
       "      <td>-136.539</td>\n",
       "      <td>16828.1</td>\n",
       "      <td>95893.7</td>\n",
       "    </tr>\n",
       "    <tr>\n",
       "      <th>680</th>\n",
       "      <td>2018-04-18</td>\n",
       "      <td>LONG</td>\n",
       "      <td>CSX</td>\n",
       "      <td>2018-04-18</td>\n",
       "      <td>83</td>\n",
       "      <td>59.54675</td>\n",
       "      <td>2018-06-01</td>\n",
       "      <td>65.22</td>\n",
       "      <td>LAST</td>\n",
       "      <td>470.88</td>\n",
       "      <td>6927.78</td>\n",
       "      <td>96403.5</td>\n",
       "    </tr>\n",
       "    <tr>\n",
       "      <th>695</th>\n",
       "      <td>2018-04-26</td>\n",
       "      <td>LONG</td>\n",
       "      <td>CTXS</td>\n",
       "      <td>2018-04-26</td>\n",
       "      <td>48</td>\n",
       "      <td>103.42640</td>\n",
       "      <td>2018-06-01</td>\n",
       "      <td>106.33</td>\n",
       "      <td>LAST</td>\n",
       "      <td>139.373</td>\n",
       "      <td>15755.5</td>\n",
       "      <td>94777.4</td>\n",
       "    </tr>\n",
       "    <tr>\n",
       "      <th>700</th>\n",
       "      <td>2018-04-27</td>\n",
       "      <td>LONG</td>\n",
       "      <td>ULTA</td>\n",
       "      <td>2018-04-27</td>\n",
       "      <td>20</td>\n",
       "      <td>243.59000</td>\n",
       "      <td>2018-06-01</td>\n",
       "      <td>235.99</td>\n",
       "      <td>LAST</td>\n",
       "      <td>-152</td>\n",
       "      <td>10791</td>\n",
       "      <td>94711</td>\n",
       "    </tr>\n",
       "    <tr>\n",
       "      <th>701</th>\n",
       "      <td>2018-04-30</td>\n",
       "      <td>LONG</td>\n",
       "      <td>ADP</td>\n",
       "      <td>2018-04-30</td>\n",
       "      <td>40</td>\n",
       "      <td>122.40000</td>\n",
       "      <td>2018-06-01</td>\n",
       "      <td>130.62</td>\n",
       "      <td>LAST</td>\n",
       "      <td>328.8</td>\n",
       "      <td>5919.19</td>\n",
       "      <td>95815.8</td>\n",
       "    </tr>\n",
       "  </tbody>\n",
       "</table>\n",
       "</div>"
      ],
      "text/plain": [
       "    signal_date signal_reason symbol   buy_date  buy_count   buy_price  \\\n",
       "1    2018-01-03          LONG   ESRX 2018-01-03         65    75.83644   \n",
       "2    2018-01-03          LONG   JBHT 2018-01-03         42   117.02798   \n",
       "3    2018-01-03          LONG    MYL 2018-01-03        115    43.23565   \n",
       "6    2018-01-03          LONG    TXN 2018-01-03         47   106.09176   \n",
       "7    2018-01-03          LONG   FOXA 2018-01-03        138    36.13396   \n",
       "8    2018-01-03          LONG    FOX 2018-01-03        138    35.97129   \n",
       "9    2018-01-04          LONG  GOOGL 2018-01-04          4  1111.35217   \n",
       "11   2018-01-04          LONG   AMZN 2018-01-04          4  1207.41000   \n",
       "13   2018-01-04          LONG   CTXS 2018-01-04         54    91.80000   \n",
       "14   2018-01-04          LONG   EBAY 2018-01-04        124    40.20840   \n",
       "15   2018-01-04          LONG   ESRX 2018-01-04         65    76.72479   \n",
       "16   2018-01-04          LONG     FB 2018-01-04         26   185.63960   \n",
       "17   2018-01-04          LONG   HOLX 2018-01-04        111    44.88220   \n",
       "19   2018-01-04          LONG   JBHT 2018-01-04         42   118.10736   \n",
       "20   2018-01-04          LONG  LBTYA 2018-01-04        136    36.66706   \n",
       "24   2018-01-04          LONG    MYL 2018-01-04        114    43.55670   \n",
       "30   2018-01-05          LONG   GOOG 2018-01-05          4  1106.03400   \n",
       "34   2018-01-05          LONG  CMCSA 2018-01-05        121    41.07364   \n",
       "37   2018-01-05          LONG   FISV 2018-01-05         74    67.08728   \n",
       "38   2018-01-05          LONG   ILMN 2018-01-05         21   234.07791   \n",
       "483  2018-02-15          LONG   CSCO 2018-02-15        110    45.33539   \n",
       "533  2018-02-28          LONG   BKNG 2018-02-28          2  2071.51000   \n",
       "668  2018-03-27          LONG   ADBE 2018-03-27         21   234.03820   \n",
       "671  2018-04-12          LONG   VRSK 2018-04-12         46   107.04846   \n",
       "672  2018-04-13          LONG   INTC 2018-04-13         92    53.90896   \n",
       "674  2018-04-16          LONG    STX 2018-04-16         81    61.37712   \n",
       "676  2018-04-17          LONG    STX 2018-04-17         79    62.73983   \n",
       "677  2018-04-17          LONG   VRSK 2018-04-17         45   109.86420   \n",
       "680  2018-04-18          LONG    CSX 2018-04-18         83    59.54675   \n",
       "695  2018-04-26          LONG   CTXS 2018-04-26         48   103.42640   \n",
       "700  2018-04-27          LONG   ULTA 2018-04-27         20   243.59000   \n",
       "701  2018-04-30          LONG    ADP 2018-04-30         40   122.40000   \n",
       "\n",
       "     sell_date sell_price sell_reason   profit     cash property  \n",
       "1   2018-03-22      71.18        EXIT -302.669   100000   100000  \n",
       "2   2018-04-06     112.66        EXIT -183.455   100000   100000  \n",
       "3   2018-04-26       39.1        EXIT   -475.6   100000   100000  \n",
       "6   2018-06-01     112.55        LAST  303.537   100000   100000  \n",
       "7   2018-06-01      38.71        LAST  355.494   100000   100000  \n",
       "8   2018-06-01      38.26        LAST  315.842   100000   100000  \n",
       "9   2018-03-28    1001.91        EXIT -437.769  70246.5  99769.6  \n",
       "11  2018-06-01    1637.03        LAST  1718.48  70246.5  99769.6  \n",
       "13  2018-06-01     106.33        LAST   784.62  70246.5  99769.6  \n",
       "14  2018-04-26      38.84        EXIT -169.682  70246.5  99769.6  \n",
       "15  2018-03-22      71.18        EXIT -360.411  70246.5  99769.6  \n",
       "16  2018-03-20     167.47        EXIT  -472.41  70246.5  99769.6  \n",
       "17  2018-02-09      35.62        EXIT  -1028.1  70246.5  99769.6  \n",
       "19  2018-04-06     112.66        EXIT -228.789  70246.5  99769.6  \n",
       "20  2018-04-04      30.83        EXIT  -793.84  70246.5  99769.6  \n",
       "24  2018-04-26       39.1        EXIT -508.064  70246.5  99769.6  \n",
       "30  2018-03-28        998        EXIT -432.136  21320.1  99730.9  \n",
       "34  2018-02-28       36.9        EXIT  -505.01  21320.1  99730.9  \n",
       "37  2018-06-01      73.01        LAST  438.281  21320.1  99730.9  \n",
       "38  2018-06-01     274.61        LAST  851.174  21320.1  99730.9  \n",
       "483 2018-06-01      42.91        LAST -266.793  5999.75    96824  \n",
       "533 2018-06-01    2120.99        LAST    98.96  5477.76   101433  \n",
       "668 2018-06-01     250.55        LAST  346.748  14942.4  97206.8  \n",
       "671 2018-06-01     106.83        LAST -10.0492  31683.5  95133.4  \n",
       "672 2018-06-01      55.84        LAST  177.656  26759.3  95505.5  \n",
       "674 2018-06-01       56.6        LAST -386.947  21799.7  96154.2  \n",
       "676 2018-06-01       56.6        LAST -485.047  16828.1  95893.7  \n",
       "677 2018-06-01     106.83        LAST -136.539  16828.1  95893.7  \n",
       "680 2018-06-01      65.22        LAST   470.88  6927.78  96403.5  \n",
       "695 2018-06-01     106.33        LAST  139.373  15755.5  94777.4  \n",
       "700 2018-06-01     235.99        LAST     -152    10791    94711  \n",
       "701 2018-06-01     130.62        LAST    328.8  5919.19  95815.8  "
      ]
     },
     "execution_count": 10,
     "metadata": {},
     "output_type": "execute_result"
    }
   ],
   "source": [
    "# order_df\n",
    "order_df[order_df['buy_count'] != 0]\n",
    "# stock_df_dict['AMZN'].close"
   ]
  },
  {
   "cell_type": "code",
   "execution_count": 11,
   "metadata": {
    "scrolled": false
   },
   "outputs": [
    {
     "data": {
      "text/plain": [
       "'ALL'"
      ]
     },
     "execution_count": 11,
     "metadata": {},
     "output_type": "execute_result"
    },
    {
     "data": {
      "text/plain": [
       "('start_date', '2018-01-01')"
      ]
     },
     "execution_count": 11,
     "metadata": {},
     "output_type": "execute_result"
    },
    {
     "data": {
      "text/plain": [
       "('end_date', '2018-06-01')"
      ]
     },
     "execution_count": 11,
     "metadata": {},
     "output_type": "execute_result"
    },
    {
     "data": {
      "text/plain": [
       "('TURTLE_POS', 20)"
      ]
     },
     "execution_count": 11,
     "metadata": {},
     "output_type": "execute_result"
    },
    {
     "data": {
      "text/plain": [
       "('TURTLE_SHORT_BUY_N', 20)"
      ]
     },
     "execution_count": 11,
     "metadata": {},
     "output_type": "execute_result"
    },
    {
     "data": {
      "text/plain": [
       "('TURTLE_SHORT_SELL_N', 20)"
      ]
     },
     "execution_count": 11,
     "metadata": {},
     "output_type": "execute_result"
    },
    {
     "data": {
      "text/plain": [
       "('TURTLE_LONG_BUY_N', 60)"
      ]
     },
     "execution_count": 11,
     "metadata": {},
     "output_type": "execute_result"
    },
    {
     "data": {
      "text/plain": [
       "('TURTLE_LONG_SELL_N', 60)"
      ]
     },
     "execution_count": 11,
     "metadata": {},
     "output_type": "execute_result"
    },
    {
     "data": {
      "text/plain": [
       "('IS_HAPPYMONEY', False)"
      ]
     },
     "execution_count": 11,
     "metadata": {},
     "output_type": "execute_result"
    },
    {
     "data": {
      "text/plain": [
       "('IS_TAX', False)"
      ]
     },
     "execution_count": 11,
     "metadata": {},
     "output_type": "execute_result"
    },
    {
     "data": {
      "text/plain": [
       "('IS_SLIPPAGE', True)"
      ]
     },
     "execution_count": 11,
     "metadata": {},
     "output_type": "execute_result"
    },
    {
     "data": {
      "text/plain": [
       "('IS_RANDOM_BUY', True)"
      ]
     },
     "execution_count": 11,
     "metadata": {},
     "output_type": "execute_result"
    },
    {
     "data": {
      "text/plain": [
       "('START_MONEY', 100000)"
      ]
     },
     "execution_count": 11,
     "metadata": {},
     "output_type": "execute_result"
    },
    {
     "data": {
      "text/plain": [
       "('len(order_df)', 852)"
      ]
     },
     "execution_count": 11,
     "metadata": {},
     "output_type": "execute_result"
    },
    {
     "data": {
      "text/plain": [
       "('sum_profit', -1005.4687967999955)"
      ]
     },
     "execution_count": 11,
     "metadata": {},
     "output_type": "execute_result"
    },
    {
     "data": {
      "text/plain": [
       "('sum_tax', 0)"
      ]
     },
     "execution_count": 11,
     "metadata": {},
     "output_type": "execute_result"
    },
    {
     "data": {
      "text/plain": [
       "('win rate', 0.40625)"
      ]
     },
     "execution_count": 11,
     "metadata": {},
     "output_type": "execute_result"
    },
    {
     "data": {
      "text/plain": [
       "('len(order_df[order_df.profit != 0])', 32)"
      ]
     },
     "execution_count": 11,
     "metadata": {},
     "output_type": "execute_result"
    },
    {
     "data": {
      "text/plain": [
       "('len(order_df[order_df.profit > 0])', 13)"
      ]
     },
     "execution_count": 11,
     "metadata": {},
     "output_type": "execute_result"
    },
    {
     "data": {
      "text/plain": [
       "('order LONG', 852)"
      ]
     },
     "execution_count": 11,
     "metadata": {},
     "output_type": "execute_result"
    },
    {
     "data": {
      "text/plain": [
       "13"
      ]
     },
     "execution_count": 11,
     "metadata": {},
     "output_type": "execute_result"
    },
    {
     "data": {
      "text/plain": [
       "-1005.4687967999955"
      ]
     },
     "execution_count": 11,
     "metadata": {},
     "output_type": "execute_result"
    },
    {
     "data": {
      "text/plain": [
       "('order SHORT', 0)"
      ]
     },
     "execution_count": 11,
     "metadata": {},
     "output_type": "execute_result"
    },
    {
     "data": {
      "text/plain": [
       "0"
      ]
     },
     "execution_count": 11,
     "metadata": {},
     "output_type": "execute_result"
    },
    {
     "data": {
      "text/plain": [
       "0"
      ]
     },
     "execution_count": 11,
     "metadata": {},
     "output_type": "execute_result"
    },
    {
     "data": {
      "text/plain": [
       "('cum_returns', -0.01005468796800002, 0.089945424062391588)"
      ]
     },
     "execution_count": 11,
     "metadata": {},
     "output_type": "execute_result"
    },
    {
     "data": {
      "text/plain": [
       "('max_drawdown', -0.10735507018630312, -0.11791455209402121)"
      ]
     },
     "execution_count": 11,
     "metadata": {},
     "output_type": "execute_result"
    },
    {
     "data": {
      "text/plain": [
       "('annual_return', -0.023961636622661597, 0.22962137988751685)"
      ]
     },
     "execution_count": 11,
     "metadata": {},
     "output_type": "execute_result"
    },
    {
     "data": {
      "text/plain": [
       "('annual_volatility', 0.18507168843106334)"
      ]
     },
     "execution_count": 11,
     "metadata": {},
     "output_type": "execute_result"
    },
    {
     "data": {
      "text/plain": [
       "('calmar_ratio', -0.22319985987693702)"
      ]
     },
     "execution_count": 11,
     "metadata": {},
     "output_type": "execute_result"
    },
    {
     "data": {
      "text/plain": [
       "('sharpe_ratio', -0.040186737914941206)"
      ]
     },
     "execution_count": 11,
     "metadata": {},
     "output_type": "execute_result"
    },
    {
     "data": {
      "text/plain": [
       "('alpha', -0.17957904164460892)"
      ]
     },
     "execution_count": 11,
     "metadata": {},
     "output_type": "execute_result"
    },
    {
     "data": {
      "text/plain": [
       "('beta', 0.73219571257931)"
      ]
     },
     "execution_count": 11,
     "metadata": {},
     "output_type": "execute_result"
    },
    {
     "data": {
      "text/plain": [
       "('ALL DAY', 105)"
      ]
     },
     "execution_count": 11,
     "metadata": {},
     "output_type": "execute_result"
    },
    {
     "data": {
      "text/plain": [
       "'CASH_TURTLE_20_60_60'"
      ]
     },
     "execution_count": 11,
     "metadata": {},
     "output_type": "execute_result"
    },
    {
     "data": {
      "text/plain": [
       "'PROPERTY_TURTLE_20_60_60'"
      ]
     },
     "execution_count": 11,
     "metadata": {},
     "output_type": "execute_result"
    },
    {
     "data": {
      "text/plain": [
       "('CASH NOT USED DAY', 29)"
      ]
     },
     "execution_count": 11,
     "metadata": {},
     "output_type": "execute_result"
    },
    {
     "data": {
      "text/plain": [
       "('MISS_BUY_SIGNAL_LONG', 0)"
      ]
     },
     "execution_count": 11,
     "metadata": {},
     "output_type": "execute_result"
    },
    {
     "data": {
      "text/plain": [
       "('MISS_BUY_SIGNAL_SHORT', 0)"
      ]
     },
     "execution_count": 11,
     "metadata": {},
     "output_type": "execute_result"
    }
   ],
   "source": [
    "'ALL'\n",
    "'start_date', start_date\n",
    "'end_date', end_date\n",
    "'TURTLE_POS', TURTLE_POS\n",
    "'TURTLE_SHORT_BUY_N', TURTLE_SHORT_BUY_N\n",
    "'TURTLE_SHORT_SELL_N', TURTLE_SHORT_SELL_N\n",
    "'TURTLE_LONG_BUY_N', TURTLE_LONG_BUY_N\n",
    "'TURTLE_LONG_SELL_N', TURTLE_LONG_SELL_N\n",
    "'IS_HAPPYMONEY', IS_HAPPYMONEY\n",
    "'IS_TAX', IS_TAX\n",
    "'IS_SLIPPAGE', IS_SLIPPAGE\n",
    "'IS_RANDOM_BUY', IS_RANDOM_BUY\n",
    "'START_MONEY', START_MONEY\n",
    "\n",
    "'len(order_df)', len(order_df)\n",
    "sum_profit = sum(list(order_df['profit']))\n",
    "'sum_profit', sum_profit\n",
    "# sum_tax = sum(list(order_df_TB['tax']))\n",
    "sum_tax = 0\n",
    "'sum_tax', sum_tax\n",
    "'win rate', len(order_df[order_df.profit > 0]) / len(order_df[order_df.profit != 0])\n",
    "# 'REWARD', ((sum_profit - sum_tax) / START_MONEY + 1) ** (365 / count_day)\n",
    "'len(order_df[order_df.profit != 0])', len(order_df[order_df.profit != 0])\n",
    "'len(order_df[order_df.profit > 0])', len(order_df[order_df.profit > 0])\n",
    "'order LONG', len(order_df[order_df.signal_reason == 'LONG'])\n",
    "len(order_df[(order_df.signal_reason == 'LONG') & (order_df.profit > 0)])\n",
    "sum(list(order_df[order_df.signal_reason == 'LONG']['profit']))\n",
    "'order SHORT', len(order_df[order_df.signal_reason == 'SHORT'])\n",
    "len(order_df[(order_df.signal_reason == 'SHORT') & (order_df.profit > 0)])\n",
    "sum(list(order_df[order_df.signal_reason == 'SHORT']['profit']))\n",
    "\n",
    "# order_df\n",
    "# order_df.loc[order_df['sell_price']==0]\n",
    "\n",
    "calc_df = order_df.copy()\n",
    "calc_df['profit_pct'] = calc_df['profit'] / (calc_df['buy_count'] * calc_df['buy_price'] + 1)\n",
    "# calc_df[calc_df.symbol == 'BIDU']\n",
    "# calc_df[calc_df.profit > 0]\n",
    "# calc_df\n",
    "\n",
    "# order_df[order_df.profit > 0]\n",
    "\n",
    "# csv_file = 'E:/Dev/result/T_TURTLE_POS%d_TURTLE_BUY_N%d_TURTLE_SELL_N%d_START_MONEY%d_%s_%s.csv' % \\\n",
    "#     (TURTLE_POS, TURTLE_BUY_N, TURTLE_SELL_N, START_MONEY, start_date, end_date)\n",
    "# calc_df.to_csv(csv_file)\n",
    "\n",
    "# list(show_df.dropna(how='any', inplace=False).PROPERTY_TURTLE_20_60_60.apply(int).tail(50))\n",
    "# list(show_df.open.apply(int).tail(50))\n",
    "\n",
    "df = show_df.dropna(how='any', inplace=False).copy()\n",
    "algo = df['PROPERTY_TURTLE_%d_%d_%d' % (TURTLE_POS, TURTLE_LONG_BUY_N, TURTLE_LONG_SELL_N)].pct_change()\n",
    "benchmark = df.open.pct_change()\n",
    "\n",
    "'cum_returns', emp.cum_returns(algo)[-1], emp.cum_returns(benchmark)[-1]\n",
    "'max_drawdown', emp.max_drawdown(algo), emp.max_drawdown(benchmark)\n",
    "'annual_return', emp.annual_return(algo), emp.annual_return(benchmark)\n",
    "'annual_volatility', emp.annual_volatility(algo, period='daily')\n",
    "'calmar_ratio', emp.calmar_ratio(algo)\n",
    "'sharpe_ratio', emp.sharpe_ratio(returns=algo)\n",
    "'alpha', emp.alpha(returns=algo, factor_returns=benchmark, risk_free=0.00)\n",
    "'beta', emp.beta(returns=algo, factor_returns=benchmark, risk_free=0.00)\n",
    "\n",
    "'ALL DAY', len(df)\n",
    "'CASH_TURTLE_%d_%d_%d' % (TURTLE_POS, TURTLE_LONG_BUY_N, TURTLE_LONG_SELL_N)\n",
    "'PROPERTY_TURTLE_%d_%d_%d' % (TURTLE_POS, TURTLE_LONG_BUY_N, TURTLE_LONG_SELL_N)\n",
    "'CASH NOT USED DAY', \\\n",
    "    len(df[df['CASH_TURTLE_%d_%d_%d' % (TURTLE_POS, TURTLE_LONG_BUY_N, TURTLE_LONG_SELL_N)] > \\\n",
    "           df['PROPERTY_TURTLE_%d_%d_%d' % (TURTLE_POS, TURTLE_LONG_BUY_N, TURTLE_LONG_SELL_N)] / TURTLE_POS])\n",
    "'MISS_BUY_SIGNAL_LONG', miss_buy_long\n",
    "'MISS_BUY_SIGNAL_SHORT', miss_buy_short"
   ]
  },
  {
   "cell_type": "code",
   "execution_count": 12,
   "metadata": {
    "scrolled": true
   },
   "outputs": [
    {
     "data": {
      "text/plain": [
       "78"
      ]
     },
     "execution_count": 12,
     "metadata": {},
     "output_type": "execute_result"
    }
   ],
   "source": [
    "bad_stock_cnt = 0\n",
    "s_p = stock_df_dict['NDX'][start_date:].iloc[0].open\n",
    "e_p = stock_df_dict['NDX'].iloc[-1].open\n",
    "benchmark_return = e_p / s_p\n",
    "for symbol, stock_df in stock_df_dict.items():\n",
    "    df = stock_df.loc[start_date:end_date, 'close']\n",
    "#     print(df)\n",
    "    s_p = df.head(1).values\n",
    "    e_p = df.tail(1).values\n",
    "#     print(symbol, s_p, e_p, e_p / s_p)\n",
    "    if e_p / s_p < benchmark_return:\n",
    "        bad_stock_cnt += 1\n",
    "bad_stock_cnt\n"
   ]
  },
  {
   "cell_type": "code",
   "execution_count": 13,
   "metadata": {
    "scrolled": false
   },
   "outputs": [],
   "source": [
    "%matplotlib inline\n",
    "\n",
    "import sys\n",
    "import matplotlib\n",
    "import matplotlib.pyplot as plt\n",
    "plt.rcParams['figure.figsize'] = [15, 10]\n",
    "\n",
    "# order_df_TB\n",
    "bar_df = order_df.copy()\n",
    "df = bar_df.sort_values(by=['profit'])\n",
    "# df\n",
    "\n",
    "bins = [100 * x for x in range(-200, 500)]\n",
    "# bins\n",
    "\n",
    "cats = pd.cut(df['profit'], bins)\n",
    "# cats\n",
    "\n",
    "def get_stats(group):\n",
    "    return {'count': group.count()}\n",
    "\n",
    "grouped = df['profit'].groupby(cats)\n",
    "bin_counts = grouped.apply(get_stats).unstack()\n",
    "bin_counts.reset_index(inplace=True, drop=False)\n",
    "bin_counts['profit'] = bin_counts['profit'].apply(str)\n",
    "# bin_counts\n",
    "\n",
    "# df['profit'].hist(bins=10)\n",
    "\n",
    "# bin_counts.plot(kind='barh', alpha=0.5, rot=0)\n",
    "\n",
    "# display_charts(bin_counts, kind='bar', x='profit', figsize=(900, 600), logy=True)"
   ]
  },
  {
   "cell_type": "code",
   "execution_count": 14,
   "metadata": {
    "scrolled": false
   },
   "outputs": [
    {
     "data": {
      "text/plain": [
       "Index(['open', 'high', 'low', 'close', 'volume', 'o_pct_chg', 'ROLLING_20_MAX',\n",
       "       'ROLLING_20_MIN', 'ROLLING_60_MAX', 'ROLLING_60_MIN', 'MA180', 'MA60',\n",
       "       'MA30', 'CASH_TURTLE_20_60_60', 'PROPERTY_TURTLE_20_60_60'],\n",
       "      dtype='object')"
      ]
     },
     "execution_count": 14,
     "metadata": {},
     "output_type": "execute_result"
    },
    {
     "data": {
      "image/png": "[encoded data removed]",
      "text/plain": [
       "<matplotlib.figure.Figure at 0xdee92b0>"
      ]
     },
     "metadata": {},
     "output_type": "display_data"
    }
   ],
   "source": [
    "%matplotlib inline\n",
    "\n",
    "import matplotlib\n",
    "import matplotlib.pyplot as plt\n",
    "plt.rcParams['figure.figsize'] = [15, 10]\n",
    "\n",
    "df = show_df.dropna(how='any', inplace=False).copy()\n",
    "# df.drop(columns=['open', 'high', 'low', 'o_pct_chg', 'TR', 'N'], inplace=True)\n",
    "df.columns\n",
    "\n",
    "df['close'] = (df['close'] - df.iloc[0]['close']) / df.iloc[0]['close']\n",
    "ax = df.plot(kind='line', y='close', label='NDX_%.2f' % df.iloc[-1]['close'], linewidth=1, grid=True)\n",
    "for col in sorted(df.columns):\n",
    "    if 'PROPERTY' in col:\n",
    "        df[col] = (df[col] - df.iloc[1][col]) / df.iloc[0][col]\n",
    "        ax = df.plot(kind='line', y=col, secondary_y=False, label='%s_%.2f' % (col, df.iloc[-1][col]), linewidth=1, grid=True, ax=ax)\n",
    "\n",
    "# display_charts(df, kind='line', figsize=(900, 600), logy=False)"
   ]
  },
  {
   "cell_type": "code",
   "execution_count": 15,
   "metadata": {
    "scrolled": false
   },
   "outputs": [
    {
     "data": {
      "text/plain": [
       "Index(['close', 'CASH_TURTLE_20_60_60', 'PROPERTY_TURTLE_20_60_60'], dtype='object')"
      ]
     },
     "execution_count": 15,
     "metadata": {},
     "output_type": "execute_result"
    },
    {
     "data": {
      "text/plain": [
       "PeriodIndex(['2018-01-02', '2018-01-03', '2018-01-04', '2018-01-05',\n",
       "             '2018-01-08', '2018-01-09', '2018-01-10', '2018-01-11',\n",
       "             '2018-01-12', '2018-01-16',\n",
       "             ...\n",
       "             '2018-05-18', '2018-05-21', '2018-05-22', '2018-05-23',\n",
       "             '2018-05-24', '2018-05-25', '2018-05-29', '2018-05-30',\n",
       "             '2018-05-31', '2018-06-01'],\n",
       "            dtype='period[D]', name='date', length=105, freq='D')"
      ]
     },
     "execution_count": 15,
     "metadata": {},
     "output_type": "execute_result"
    },
    {
     "data": {
      "text/plain": [
       "period[D]"
      ]
     },
     "execution_count": 15,
     "metadata": {},
     "output_type": "execute_result"
    },
    {
     "data": {
      "text/html": [
       "<div id=\"chart_idGyUNRSXe\"</div>\n",
       "    <script type=\"text/javascript\">new Highcharts.StockChart({\"chart\":{\"renderTo\":\"chart_idGyUNRSXe\",\"width\":900,\"height\":600},\"legend\":{\"enabled\":true},\"series\":[{\"name\":\"CASH_TURTLE_20_60_60\",\"yAxis\":0,\"data\":[[1514851200000,100000.0],[1514937600000,70246.51927],[1515024000000,21320.07076],[1515110400000,2045.92949],[1515369600000,2045.92949],[1515456000000,2045.92949],[1515542400000,2045.92949],[1515628800000,2045.92949],[1515715200000,2045.92949],[1516060800000,2045.92949],[1516147200000,2045.92949],[1516233600000,2045.92949],[1516320000000,2045.92949],[1516579200000,2045.92949],[1516665600000,2045.92949],[1516752000000,2045.92949],[1516838400000,2045.92949],[1516924800000,2045.92949],[1517184000000,2045.92949],[1517270400000,2045.92949],[1517356800000,2045.92949],[1517443200000,2045.92949],[1517529600000,2045.92949],[1517788800000,2045.92949],[1517875200000,2045.92949],[1517961600000,2045.92949],[1518048000000,2045.92949],[1518134400000,5999.74949],[1518393600000,5999.74949],[1518480000000,5999.74949],[1518566400000,5999.74949],[1518652800000,1012.85659],[1518739200000,1012.85659],[1519084800000,1012.85659],[1519171200000,1012.85659],[1519257600000,1012.85659],[1519344000000,1012.85659],[1519603200000,1012.85659],[1519689600000,1012.85659],[1519776000000,1334.73659],[1519862400000,1334.73659],[1519948800000,1334.73659],[1520208000000,1334.73659],[1520294400000,1334.73659],[1520380800000,1334.73659],[1520467200000,1334.73659],[1520553600000,1334.73659],[1520812800000,1334.73659],[1520899200000,1334.73659],[1520985600000,1334.73659],[1521072000000,1334.73659],[1521158400000,1334.73659],[1521417600000,1334.73659],[1521504000000,5688.95659],[1521590400000,5688.95659],[1521676800000,14942.35659],[1521763200000,14942.35659],[1522022400000,14942.35659],[1522108800000,10027.55439],[1522195200000,18027.19439],[1522281600000,18027.19439],[1522627200000,18027.19439],[1522713600000,18027.19439],[1522800000000,22220.07439],[1522886400000,22220.07439],[1522972800000,31683.51439],[1523232000000,31683.51439],[1523318400000,31683.51439],[1523404800000,31683.51439],[1523491200000,26759.28523],[1523577600000,21799.66091],[1523836800000,16828.11419],[1523923200000,6927.77862],[1524009600000,1985.3984032],[1524096000000,1985.3984032],[1524182400000,1985.3984032],[1524441600000,1985.3984032],[1524528000000,1985.3984032],[1524614400000,1985.3984032],[1524700800000,10790.9912032],[1524787200000,5919.1912032],[1525046400000,1023.1912032],[1525132800000,1023.1912032],[1525219200000,1023.1912032],[1525305600000,1023.1912032],[1525392000000,1023.1912032],[1525651200000,1023.1912032],[1525737600000,1023.1912032],[1525824000000,1023.1912032],[1525910400000,1023.1912032],[1525996800000,1023.1912032],[1526256000000,1023.1912032],[1526342400000,1023.1912032],[1526428800000,1023.1912032],[1526515200000,1023.1912032],[1526601600000,1023.1912032],[1526860800000,1023.1912032],[1526947200000,1023.1912032],[1527033600000,1023.1912032],[1527120000000,1023.1912032],[1527206400000,1023.1912032],[1527552000000,1023.1912032],[1527638400000,1023.1912032],[1527724800000,1023.1912032],[1527811200000,1023.1912032]]},{\"name\":\"PROPERTY_TURTLE_20_60_60\",\"yAxis\":0,\"data\":[[1514851200000,100000.0],[1514937600000,99769.56927],[1515024000000,99730.94076],[1515110400000,100086.08949],[1515369600000,99883.16949],[1515456000000,100616.21949],[1515542400000,100917.97949],[1515628800000,100741.53949],[1515715200000,101832.05949],[1516060800000,103001.77949],[1516147200000,102672.43949],[1516233600000,102400.86949],[1516320000000,102663.49949],[1516579200000,103268.51949],[1516665600000,104478.04949],[1516752000000,104805.13449],[1516838400000,104723.23949],[1516924800000,104718.07949],[1517184000000,104890.13949],[1517270400000,103431.69949],[1517356800000,103970.03949],[1517443200000,102757.95449],[1517529600000,102312.82949],[1517788800000,100720.39949],[1517875200000,96237.13949],[1517961600000,98733.92949],[1518048000000,98622.75949],[1518134400000,95311.45949],[1518393600000,96368.71949],[1518480000000,96299.07949],[1518566400000,96824.04949],[1518652800000,99437.47659],[1518739200000,99152.43659],[1519084800000,99093.82659],[1519171200000,99332.07659],[1519257600000,99204.00659],[1519344000000,99600.56659],[1519603200000,101078.36659],[1519689600000,101432.81659],[1519776000000,100728.23659],[1519862400000,99082.46659],[1519948800000,96751.61659],[1520208000000,97838.98659],[1520294400000,99724.29859],[1520380800000,99411.26659],[1520467200000,102032.17659],[1520553600000,101950.63659],[1520812800000,103341.73659],[1520899200000,103538.57659],[1520985600000,102422.41659],[1521072000000,101976.39659],[1521158400000,101907.86659],[1521417600000,100654.47659],[1521504000000,99548.16659],[1521590400000,99239.53659],[1521676800000,98358.29659],[1521763200000,97385.80659],[1522022400000,97206.80659],[1522108800000,98608.15439],[1522195200000,95373.48439],[1522281600000,95190.54439],[1522627200000,95560.69439],[1522713600000,94619.07439],[1522800000000,93679.68439],[1522886400000,95802.93439],[1522972800000,94687.69439],[1523232000000,94119.00439],[1523318400000,94879.81439],[1523404800000,95133.36439],[1523491200000,95505.48523],[1523577600000,96154.22491],[1523836800000,95893.74419],[1523923200000,96403.54862],[1524009600000,97559.0112032],[1524096000000,97281.7484032],[1524182400000,96715.4380032],[1524441600000,96240.5752032],[1524528000000,96177.7284032],[1524614400000,94777.3884032],[1524700800000,94711.0312032],[1524787200000,95815.8312032001],[1525046400000,96143.8312032],[1525132800000,93988.3312032],[1525219200000,94901.2712032],[1525305600000,93629.6512032],[1525392000000,94053.8212032],[1525651200000,96364.7492032],[1525737600000,96868.2912032],[1525824000000,97253.4912032],[1525910400000,98188.7312032],[1525996800000,98425.0212032],[1526256000000,98432.0112032],[1526342400000,97470.1600032],[1526428800000,97803.4012032],[1526515200000,98027.8212032],[1526601600000,98176.4512032],[1526860800000,98370.4812032],[1526947200000,98597.5012032],[1527033600000,97530.5312032],[1527120000000,98801.1912032],[1527206400000,98903.1512032],[1527552000000,98141.2772032001],[1527638400000,98943.1012032],[1527724800000,99435.4312032],[1527811200000,98994.5312032]]},{\"name\":\"close\",\"yAxis\":0,\"data\":[[1514851200000,100000.0],[1514937600000,100989.9185175902],[1515024000000,101124.714037532],[1515110400000,102179.9646893176],[1515369600000,102538.4774633317],[1515456000000,102558.4579773392],[1515542400000,102323.8827498593],[1515628800000,103027.7620104236],[1515715200000,103796.3744504975],[1516060800000,103467.6865482764],[1516147200000,104591.079813937],[1516233600000,104607.8812607658],[1516320000000,104960.3276988591],[1516579200000,106065.3069473829],[1516665600000,106943.5895262176],[1516752000000,106266.1103452682],[1516838400000,106219.3150907094],[1516924800000,107857.5022299544],[1517184000000,107325.2465236056],[1517270400000,106440.8054619753],[1517356800000,106736.6122877243],[1517443200000,105992.004108522],[1517529600000,103823.2506222986],[1517788800000,99763.0903850265],[1517875200000,102374.8706872191],[1517961600000,101085.4748267025],[1518048000000,96847.9318555432],[1518134400000,98484.736791667],[1518393600000,100192.0955182217],[1518480000000,100652.9988278918],[1518566400000,102513.8742477743],[1518652800000,104355.1377411484],[1518739200000,103982.5879265479],[1519084800000,104121.284330854],[1519171200000,103807.4781489044],[1519257600000,103847.3009566074],[1519344000000,105916.720111854],[1519603200000,107337.2563329476],[1519689600000,105974.3119085706],[1519776000000,105268.8661511356],[1519862400000,103673.5733820852],[1519948800000,104602.6596045302],[1520208000000,105681.4230671886],[1520294400000,106168.910750223],[1520380800000,106420.2259932819],[1520467200000,106989.0640089051],[1520553600000,109058.5906688389],[1520812800000,109518.4189316369],[1520899200000,108219.0097773977],[1520985600000,108134.0503588813],[1521072000000,107980.3032983667],[1521158400000,107811.0602050821],[1521417600000,105429.5856585062],[1521504000000,105752.6372435553],[1521590400000,105254.0458621139],[1521676800000,102624.8037271568],[1521763200000,99950.0256782624],[1522022400000,103724.0852272587],[1522108800000,100284.0580992188],[1522195200000,99223.8929474468],[1522281600000,101071.6835111154],[1522627200000,98149.2607363395],[1522713600000,99193.5305522178],[1522800000000,100748.1558338801],[1522886400000,101282.3159089736],[1522972800000,98800.1094704872],[1523232000000,99401.0453141471],[1523318400000,101605.3060627729],[1523404800000,101107.3136360174],[1523491200000,102225.5006032549],[1523577600000,101796.8640575586],[1523836800000,102516.1625618306],[1523923200000,104684.4860293051],[1524009600000,104943.1730223437],[1524096000000,104047.443968557],[1524182400000,102402.0540152694],[1524441600000,102111.100258257],[1524528000000,99964.7231047845],[1524614400000,100039.8842389528],[1524700800000,102124.1083254087],[1524787200000,102227.0056688757],[1525046400000,101447.1052366455],[1525132800000,102620.3038881066],[1525219200000,102044.6316459397],[1525305600000,102029.3199069194],[1525392000000,103958.8293906757],[1525651200000,104769.0768603225],[1525737600000,104670.925080905],[1525824000000,105864.7032010596],[1525910400000,106944.8488668392],[1525996800000,106776.1586548031],[1526256000000,106957.5037043044],[1526342400000,105792.8286387572],[1526428800000,106429.1028088825],[1526515200000,105993.9852663291],[1526601600000,105450.6412193857],[1526860800000,106053.8500192894],[1526947200000,105870.9384729174],[1527033600000,106792.530082883],[1527120000000,106732.173879924],[1527206400000,106904.4731778877],[1527552000000,106376.548374652],[1527638400000,107141.7360225477],[1527724800000,107009.09059635],[1527811200000,108793.6069726926]]}],\"xAxis\":{\"title\":{\"text\":\"date\"},\"type\":\"datetime\"},\"yAxis\":[{}]});</script>"
      ],
      "text/plain": [
       "<IPython.core.display.HTML object>"
      ]
     },
     "metadata": {},
     "output_type": "display_data"
    }
   ],
   "source": [
    "df = show_df.dropna(how='any', inplace=False).copy()\n",
    "# df.drop(columns=['open', 'high', 'low', 'o_pct_chg', 'TR', 'N'], inplace=True)\n",
    "df = df.loc[:, ['close', 'CASH_TURTLE_20_60_60', 'PROPERTY_TURTLE_20_60_60']]\n",
    "# df.drop(columns=['CASH_TURTLE_20_60_60'], inplace=True)\n",
    "df.columns\n",
    "df.index\n",
    "\n",
    "# df.reset_index(drop=False, inplace=True)\n",
    "# df = df.astype(dtype={'date': 'datetime64[ns]'})\n",
    "# df = df.astype(dtype={'date': 'datetime'})\n",
    "df.index.dtype\n",
    "df.index = df.index.astype('datetime64[ns]')\n",
    "# df.set_index('date', inplace=True)\n",
    "# df.index.astype()\n",
    "\n",
    "# df['close'] = (df['close'] - df.iloc[0]['close']) / df.iloc[0]['close']\n",
    "df['close'] = df['close'] / df.iloc[0]['close'] * 100000\n",
    "\n",
    "# df\n",
    "\n",
    "display_charts(df, chart_type='stock', figsize=(900, 600), logy=False)\n",
    "\n",
    "\n",
    "# pi = pd.period_range('2016-01-01', periods=3, freq='M')\n",
    "# pi.dtype\n",
    "# pi.astype('period[D]')\n",
    "# pi.astype('datetime64[ns]')"
   ]
  }
 ],
 "metadata": {
  "kernelspec": {
   "display_name": "Python 3",
   "language": "python",
   "name": "python3"
  },
  "language_info": {
   "codemirror_mode": {
    "name": "ipython",
    "version": 3
   },
   "file_extension": ".py",
   "mimetype": "text/x-python",
   "name": "python",
   "nbconvert_exporter": "python",
   "pygments_lexer": "ipython3",
   "version": "3.6.1"
  }
 },
 "nbformat": 4,
 "nbformat_minor": 2
}
