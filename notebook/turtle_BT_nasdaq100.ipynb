{
 "cells": [
  {
   "cell_type": "code",
   "execution_count": 1,
   "metadata": {
    "scrolled": true
   },
   "outputs": [
    {
     "data": {
      "text/html": [
       "\n",
       "<script src=\"//code.highcharts.com/stock/highstock.js\"></script>\n",
       "<script src=\"//code.highcharts.com/highcharts-more.js\"></script>\n",
       "<script src=\"//code.highcharts.com/modules/exporting.js\"></script>\n"
      ],
      "text/plain": [
       "<IPython.core.display.HTML object>"
      ]
     },
     "metadata": {},
     "output_type": "display_data"
    },
    {
     "data": {
      "text/plain": [
       "<module 'pandas' from 'D:\\\\Anaconda3\\\\lib\\\\site-packages\\\\pandas\\\\__init__.py'>"
      ]
     },
     "execution_count": 1,
     "metadata": {},
     "output_type": "execute_result"
    }
   ],
   "source": [
    "import os\n",
    "import sys\n",
    "sys.path.append(os.path.abspath(os.path.join(os.getcwd(), '..')))\n",
    "\n",
    "import pandas as pd\n",
    "pd.core.common.is_list_like = pd.api.types.is_list_like\n",
    "import empyrical as emp\n",
    "import time\n",
    "import random\n",
    "# from concurrent.futures import ProcessPoolExecutor\n",
    "\n",
    "from common.log import *\n",
    "from common.config import Config\n",
    "from spider.spider_nasdaq import Spider_nasdaq\n",
    "\n",
    "from IPython.core.interactiveshell import InteractiveShell\n",
    "InteractiveShell.ast_node_interactivity = 'all'\n",
    "\n",
    "from pandas_highcharts.core import serialize\n",
    "from pandas_highcharts.display import display_charts\n",
    "\n",
    "CONF = Config().data[0]\n",
    "MONGODB = CONF['MONGODB']\n",
    "NASDAQ = CONF['NASDAQ']\n",
    "CRYPTOCURRENCY = CONF['CRYPTOCURRENCY']\n",
    "NASDAQ100 = CONF['NASDAQ100']\n",
    "\n",
    "pd"
   ]
  },
  {
   "cell_type": "code",
   "execution_count": 2,
   "metadata": {
    "scrolled": false
   },
   "outputs": [
    {
     "name": "stdout",
     "output_type": "stream",
     "text": [
      "Wall time: 0 ns\n"
     ]
    }
   ],
   "source": [
    "%%time\n",
    "\n",
    "spider = Spider_nasdaq()\n",
    "timeframe = '10y'\n",
    "ignore = True\n",
    "\n",
    "# for symbol in NASDAQ100:\n",
    "for symbol in ['NDX', 'TSLA']:\n",
    "#     if symbol == 'SHPG':\n",
    "#         ignore = False\n",
    "#     if ignore:\n",
    "#         continue\n",
    "#     datafile = spider.get_stock_data(symbol, timeframe)\n",
    "#     print(datafile)\n",
    "    pass"
   ]
  },
  {
   "cell_type": "code",
   "execution_count": 3,
   "metadata": {},
   "outputs": [
    {
     "name": "stdout",
     "output_type": "stream",
     "text": [
      "Wall time: 0 ns\n"
     ]
    }
   ],
   "source": [
    "%%time\n",
    "\n",
    "### 时间设置\n",
    "start_date = '2008-06-02'\n",
    "# start_date = '2010-01-01'\n",
    "# start_date = '2015-01-01'\n",
    "start_date = '2017-01-01'\n",
    "# start_date = '2018-01-01'\n",
    "end_date = '2018-06-01'\n",
    "\n",
    "TURTLE_POS = 20\n",
    "### Turtle System One - Short\n",
    "TURTLE_SHORT_BUY_N = 20\n",
    "TURTLE_SHORT_SELL_N = 20\n",
    "### Turtle System Two - Long\n",
    "TURTLE_LONG_BUY_N = 60\n",
    "TURTLE_LONG_SELL_N = 60\n",
    "\n",
    "### 业务设置\n",
    "IS_HAPPYMONEY = False\n",
    "IS_TAX = False\n",
    "IS_SLIPPAGE = True\n",
    "IS_RANDOM_BUY = False\n",
    "START_MONEY = 100000\n",
    "HAPPY_MONEY = 0\n",
    "PROPERTY = START_MONEY\n",
    "CASH = START_MONEY\n"
   ]
  },
  {
   "cell_type": "code",
   "execution_count": 4,
   "metadata": {},
   "outputs": [],
   "source": [
    "# PEG_NASDAQ100 = {\n",
    "#   - ATVI\n",
    "#   - ADBE\n",
    "#   - ALXN\n",
    "#   - ALGN\n",
    "#   - GOOGL\n",
    "#   - GOOG\n",
    "#   - AMZN\n",
    "#   - AAL\n",
    "#   - AMGN\n",
    "#   - ADI\n",
    "#   - AAPL\n",
    "#   - AMAT\n",
    "#   - ASML\n",
    "#   - ADSK\n",
    "#   - ADP\n",
    "#   - BIDU\n",
    "#   - BIIB\n",
    "#   - BMRN\n",
    "#   - BKNG\n",
    "#   - AVGO\n",
    "#   - CA\n",
    "#   - CDNS\n",
    "#   - CELG\n",
    "#   - CERN\n",
    "#   - CHTR\n",
    "#   - CHKP\n",
    "#   - CTAS\n",
    "#   - CSCO\n",
    "#   - CTXS\n",
    "#   - CTSH\n",
    "#   - CMCSA\n",
    "#   - COST\n",
    "#   - CSX\n",
    "#   - CTRP\n",
    "#   - XRAY\n",
    "#   - DISH\n",
    "#   - DLTR\n",
    "#   - EBAY\n",
    "#   - EA\n",
    "#   - EXPE\n",
    "#   - ESRX\n",
    "#   - FB\n",
    "#   - FAST\n",
    "#   - FISV\n",
    "#   - GILD\n",
    "#   - HAS\n",
    "#   - HSIC\n",
    "#   - HOLX\n",
    "#   - IDXX\n",
    "#   - ILMN\n",
    "#   - INCY\n",
    "#   - INTC\n",
    "#   - INTU\n",
    "#   - ISRG\n",
    "#   - JBHT\n",
    "#   - JD\n",
    "#   - KLAC\n",
    "#   - LRCX\n",
    "#   - LBTYA\n",
    "#   - LBTYK\n",
    "#   - MAR\n",
    "#   - MXIM\n",
    "#   - MELI\n",
    "#   - MCHP\n",
    "#   - MU\n",
    "#   - MSFT\n",
    "#   - MDLZ\n",
    "#   - MNST\n",
    "#   - MYL\n",
    "#   - NTES\n",
    "#   - NFLX\n",
    "#   - NVDA\n",
    "#   - ORLY\n",
    "#   - PCAR\n",
    "#   - PAYX\n",
    "#   - PYPL\n",
    "#   - QCOM\n",
    "#   - QRTEA\n",
    "#   - REGN\n",
    "#   - ROST\n",
    "#   - STX\n",
    "#   - SHPG\n",
    "#   - SIRI\n",
    "#   - SWKS\n",
    "#   - SBUX\n",
    "#   - SYMC\n",
    "#   - SNPS\n",
    "#   - TMUS\n",
    "#   - TTWO\n",
    "#   - TSLA\n",
    "#   - TXN\n",
    "#   - KHC\n",
    "#   - FOXA\n",
    "#   - FOX\n",
    "#   - ULTA\n",
    "#   - VRSK\n",
    "#   - VRTX\n",
    "#   - VOD\n",
    "#   - WBA\n",
    "#   - WDC\n",
    "#   - WDAY\n",
    "#   - WYNN\n",
    "#   - XLNX\n",
    "# }"
   ]
  },
  {
   "cell_type": "code",
   "execution_count": 5,
   "metadata": {},
   "outputs": [
    {
     "name": "stdout",
     "output_type": "stream",
     "text": [
      "Wall time: 20.5 s\n"
     ]
    }
   ],
   "source": [
    "%%time\n",
    "\n",
    "stock_df_dict = {}\n",
    "\n",
    "for symbol in NASDAQ100[:]:\n",
    "    stock_data_file = '../database/market/%s.csv' % symbol\n",
    "    stock_df = pd.read_csv(stock_data_file)\n",
    "\n",
    "    # 筛选字段\n",
    "#     stock_df = stock_df.loc[:, ['date', 'open', 'close']]\n",
    "\n",
    "    # 去掉Nasdaq行情首行的当天行情\n",
    "    if symbol in NASDAQ:\n",
    "        stock_df = stock_df.drop([0])\n",
    "\n",
    "    # 抛弃空值异常值\n",
    "    stock_df.dropna(axis=0, how='any', inplace=True)\n",
    "\n",
    "    # 格式化日期\n",
    "    # 1.48 s ± 45.8 ms per loop (mean ± std. dev. of 7 runs, 1 loop each)\n",
    "#     stock_df['date'] = stock_df['date'].apply(lambda x: pd.Period(x, freq='D'))\n",
    "\n",
    "    # 445 ms ± 17.5 ms per loop (mean ± std. dev. of 7 runs, 1 loop each)\n",
    "    stock_df = stock_df.assign(date=pd.to_datetime(stock_df['date']))  # need .index.to_period('D')\n",
    "\n",
    "    # 476 ms ± 46.6 ms per loop (mean ± std. dev. of 7 runs, 1 loop each)\n",
    "#     stock_df['date'] = pd.to_datetime(stock_df['date'])  # need .index.to_period('D')\n",
    "    \n",
    "    # 转换字段格式\n",
    "#     stock_df = stock_df.astype(dtype={'volume': 'float64'})\n",
    "\n",
    "    # 用日期作索引，日期升序排序\n",
    "    # 95.1 µs ± 1.58 µs per loop (mean ± std. dev. of 7 runs, 10000 loops each)\n",
    "    stock_df = stock_df[::-1]\n",
    "    \n",
    "    # 407 µs ± 5.07 µs per loop (mean ± std. dev. of 7 runs, 1000 loops each)\n",
    "#     %timeit stock_df.set_index(['date'], inplace=False)\n",
    "\n",
    "    # Wall time: 500 µs\n",
    "    stock_df.set_index(['date'], inplace=True)\n",
    "    \n",
    "    # 305 µs ± 2.75 µs per loop (mean ± std. dev. of 7 runs, 1000 loops each)\n",
    "#     stock_df = stock_df.sort_index(axis=0, ascending=True)\n",
    "    \n",
    "    # 822 µs ± 41.3 µs per loop (mean ± std. dev. of 7 runs, 1000 loops each)\n",
    "    stock_df.index = stock_df.index.to_period('D')\n",
    "\n",
    "    # 计算涨跌幅\n",
    "#     stock_df['c_pct_chg'] = stock_df.close.pct_change(1)\n",
    "    stock_df['o_pct_chg'] = stock_df.open.pct_change(1)\n",
    "    \n",
    "    # Turtle指标\n",
    "#     stock_df['TR1'] = abs(stock_df['high'] - stock_df['low'])\n",
    "#     stock_df['TR2'] = abs(stock_df['high'] - stock_df['close'].shift())\n",
    "#     stock_df['TR3'] = abs(stock_df['low'] - stock_df['close'].shift())\n",
    "#     stock_df['TR'] = stock_df[['TR1', 'TR2', 'TR3']].max(axis=1)\n",
    "#     stock_df['N'] = stock_df['TR'].rolling(20).mean()\n",
    "#     stock_df['UNIT'] = (0.01 * START_MONEY) / (stock_df['N'])\n",
    "    stock_df['ROLLING_%d_MAX' % TURTLE_SHORT_BUY_N] = stock_df['open'].rolling(TURTLE_SHORT_BUY_N).max()\n",
    "    stock_df['ROLLING_%d_MIN' % TURTLE_SHORT_SELL_N] = stock_df['open'].rolling(TURTLE_SHORT_SELL_N).min()\n",
    "    stock_df['ROLLING_%d_MAX' % TURTLE_LONG_BUY_N] = stock_df['open'].rolling(TURTLE_LONG_BUY_N).max()\n",
    "    stock_df['ROLLING_%d_MIN' % TURTLE_LONG_SELL_N] = stock_df['open'].rolling(TURTLE_LONG_SELL_N).min()\n",
    "#     stock_df['MA%d' % TURTLE_BUY_N] = stock_df['open'].rolling(TURTLE_BUY_N).mean()\n",
    "#     stock_df['MA%d' % TURTLE_SELL_N] = stock_df['open'].rolling(TURTLE_SELL_N).mean()\n",
    "#     stock_df['EWMA'] = stock_df['open'].ewm(alpha=0.1, adjust=False).mean()\n",
    "#     stock_df['MA360'] = stock_df['open'].rolling(360).mean()\n",
    "    stock_df['MA180'] = stock_df['open'].rolling(180).mean()\n",
    "    stock_df['MA60'] = stock_df['open'].rolling(30).mean()\n",
    "    stock_df['MA30'] = stock_df['open'].rolling(30).mean()\n",
    "    \n",
    "#     stock_df['ops'] = ''\n",
    "#     stock_df['profit'] = 0\n",
    "    \n",
    "    # 减少数据\n",
    "    # stock_df = stock_df['2016-01-01':]\n",
    "    stock_df.dropna(how='any', inplace=True)\n",
    "#     stock_df.drop(columns=['volume', 'TR1', 'TR2', 'TR3'], inplace=True)\n",
    "    \n",
    "    stock_df_dict[symbol] = stock_df\n",
    "    \n",
    "#     print(stock_df.head(10))\n",
    "#     print(stock_df.dtypes)\n",
    "#     print(stock_df.index[0])\n",
    "#     print(type(stock_df.index[0]))"
   ]
  },
  {
   "cell_type": "code",
   "execution_count": 6,
   "metadata": {
    "scrolled": false
   },
   "outputs": [],
   "source": [
    "# %matplotlib inline\n",
    "\n",
    "# import matplotlib\n",
    "# import matplotlib.pyplot as plt\n",
    "# plt.rcParams['figure.figsize'] = [30, 20]\n",
    "\n",
    "# df = stock_df_dict['TSLA'].iloc[800:].copy()\n",
    "# df.columns\n",
    "# df.tail(10)\n",
    "# # df[(df.open == df.rolling_60_max)]\n",
    "# # df[(df.open >= df.rolling_60_max) & (df.MA30 > df.MA60)]\n",
    "# # df[(df.MA30 > df.MA60)]\n",
    "\n",
    "# # df = df.loc[:, ['open', 'ROLLING_60_MAX', 'rolling_30_min', 'MA60', 'MA30']]\n",
    "\n",
    "# df.reset_index(drop=False, inplace=True)\n",
    "# df = df.astype(dtype={'date': 'datetime64[ns]'})\n",
    "# df.set_index('date', inplace=True)\n",
    "# # df.index.astype()\n",
    "\n",
    "# display_charts(df, chart_type='stock', kind='line', y=['open', 'ROLLING_60_MAX', 'ROLLING_60_MIN'], figsize=(900, 600), logy=False)\n",
    "\n",
    "# # display_charts(df)\n",
    "\n",
    "# # ax = df.plot(kind='line', y=['open', 'rolling_max', 'rolling_min'], label='', linewidth=1)\n",
    "\n",
    "# # sum_buy_sig_short = 0\n",
    "# # sum_buy_sig_long = 0\n",
    "# # for symbol in NASDAQ100:\n",
    "# #     tdf = stock_df_dict[symbol]\n",
    "# #     buy_sig_short = tdf[(stock_df_dict[symbol].open == stock_df_dict[symbol]['ROLLING_%d_MAX' % TURTLE_SHORT_BUY_N])]\n",
    "# #     buy_sig_long = tdf[(stock_df_dict[symbol].open == stock_df_dict[symbol]['ROLLING_%d_MAX' % TURTLE_LONG_BUY_N])]\n",
    "# #     buy_sig_short_2 = buy_sig_short[buy_sig_short.MA30 >= buy_sig_short.MA180]\n",
    "# #     buy_sig_long_2 = buy_sig_long[buy_sig_long.MA30 >= buy_sig_long.MA180]\n",
    "# # #     print(symbol, len(tdf), len(buy_sig_short), len(buy_sig_short_2), len(buy_sig_long), len(buy_sig_long_2))\n",
    "# #     sum_buy_sig_short += len(buy_sig_short_2)\n",
    "# #     sum_buy_sig_long += len(buy_sig_long_2)\n",
    "# # print(len(stock_df_dict['NDX']), sum_buy_sig_short, sum_buy_sig_long)"
   ]
  },
  {
   "cell_type": "code",
   "execution_count": 7,
   "metadata": {
    "scrolled": false
   },
   "outputs": [],
   "source": [
    "# algo = stock_df_dict['TSLA'].open.pct_change()\n",
    "# benchmark = stock_df_dict['NDX'].open.pct_change()\n",
    "\n",
    "# 'cum_returns', emp.cum_returns(algo)[-1]\n",
    "# 'max_drawdown', emp.max_drawdown(algo), emp.max_drawdown(benchmark)\n",
    "# 'annual_return', emp.annual_return(algo), emp.annual_return(benchmark)\n",
    "# 'annual_volatility', emp.annual_volatility(algo, period='daily')\n",
    "# 'calmar_ratio', emp.calmar_ratio(algo)\n",
    "# 'sharpe_ratio', emp.sharpe_ratio(returns=algo)\n",
    "# 'alpha', emp.alpha(returns=algo, factor_returns=benchmark, risk_free=0.00)\n",
    "# 'beta', emp.beta(returns=algo, factor_returns=benchmark, risk_free=0.00)\n",
    "\n",
    "# emp_df = None\n",
    "# emp_df = pd.DataFrame(columns=[\n",
    "#     'symbol', 'cum_returns', 'annual_return', 'annual_volatility', 'max_drawdown', 'alpha', 'beta', 'sharpe_ratio', 'calmar_ratio'\n",
    "# ])\n",
    "\n",
    "# for symbol in NASDAQ100:\n",
    "#     algo = stock_df_dict[symbol].open.pct_change()\n",
    "#     emp_df = emp_df.append(\n",
    "#         {\n",
    "#             'symbol': symbol,\n",
    "#             'cum_returns': emp.cum_returns(algo)[-1],\n",
    "#             'annual_return': emp.annual_return(algo),\n",
    "#             'annual_volatility': emp.annual_volatility(algo, period='daily'),\n",
    "#             'max_drawdown': emp.max_drawdown(algo),\n",
    "#             'alpha': round(emp.alpha(returns=algo, factor_returns=benchmark, risk_free=0.00), 2),\n",
    "#             'beta': round(emp.beta(returns=algo, factor_returns=benchmark, risk_free=0.00), 2),\n",
    "#             'sharpe_ratio': emp.sharpe_ratio(returns=algo),\n",
    "#             'calmar_ratio': emp.calmar_ratio(algo)\n",
    "#         },\n",
    "#         ignore_index=True,\n",
    "#     )\n",
    "\n",
    "# # emp_df\n",
    "# # emp_df.sort_values('cum_returns', ascending=False)\n",
    "# emp_df.sort_values('sharpe_ratio', ascending=False)"
   ]
  },
  {
   "cell_type": "code",
   "execution_count": 8,
   "metadata": {},
   "outputs": [
    {
     "name": "stdout",
     "output_type": "stream",
     "text": [
      "Wall time: 0 ns\n"
     ]
    }
   ],
   "source": [
    "%%time\n",
    "\n",
    "show_df = None\n",
    "show_df = stock_df_dict['NDX'].copy()"
   ]
  },
  {
   "cell_type": "code",
   "execution_count": 9,
   "metadata": {
    "scrolled": false
   },
   "outputs": [
    {
     "name": "stdout",
     "output_type": "stream",
     "text": [
      "139420.853915\n",
      "0\n",
      "139420.853915\n",
      "NDX 4900.854 7372.276999999999 1.5042841512928153\n",
      "Wall time: 6min 4s\n"
     ]
    }
   ],
   "source": [
    "%%time\n",
    "# %xmode\n",
    "\n",
    "PROPERTY = START_MONEY\n",
    "CASH = START_MONEY\n",
    "\n",
    "order_df = None\n",
    "order_df = pd.DataFrame(columns=[\n",
    "    'signal_date', 'signal_reason', 'symbol',\n",
    "    'buy_date', 'buy_count', 'buy_price',\n",
    "    'sell_date', 'sell_price', 'sell_reason', 'profit',\n",
    "    'cash', 'property',\n",
    "])\n",
    "count_day = 0\n",
    "yesterday = None\n",
    "miss_buy_short = 0\n",
    "miss_buy_long = 0\n",
    "\n",
    "for today in pd.period_range(start=start_date, end=end_date, freq='D'):\n",
    "    s_time = time.time()\n",
    "    count_day += 1\n",
    "    \n",
    "    if yesterday is None:\n",
    "        yesterday = today\n",
    "        continue\n",
    "\n",
    "    if today not in stock_df_dict['NDX'].index:\n",
    "        continue\n",
    "\n",
    "    if IS_HAPPYMONEY:        \n",
    "        if PROPERTY > START_MONEY * 2:\n",
    "            HAPPY_MONEY += 50000\n",
    "            PROPERTY -= 50000\n",
    "            CASH = PROPERTY\n",
    "    \n",
    "    # 买卖过程\n",
    "    # 突破下行趋势，清仓退出\n",
    "    order_arr = order_df.to_records(index=False)\n",
    "    if len(order_arr[(order_arr.buy_count > 0) & (order_arr.sell_price == 0)] ) != 0:\n",
    "        is_sell = False\n",
    "        for idx in order_df[(order_df['buy_count'] > 0) & (order_df['sell_price'] == 0)].index:\n",
    "            cur_order = order_df.loc[idx]\n",
    "            symbol = cur_order['symbol']\n",
    "            if today not in stock_df_dict[symbol].index or yesterday not in stock_df_dict[symbol].index:\n",
    "                continue\n",
    "            today_market = stock_df_dict[symbol].loc[today]\n",
    "            if cur_order.signal_reason == 'SHORT':\n",
    "                is_sell = (today_market.open <= today_market['ROLLING_%d_MIN' % TURTLE_SHORT_SELL_N])\n",
    "            if cur_order.signal_reason == 'LONG':\n",
    "                is_sell = (today_market.open <= today_market['ROLLING_%d_MIN' % TURTLE_LONG_SELL_N])\n",
    "            if is_sell:\n",
    "                CASH += cur_order.buy_count * today_market.open\n",
    "                order_df.loc[idx, 'sell_date'] = today\n",
    "                order_df.loc[idx, 'sell_price'] = today_market.open\n",
    "                order_df.loc[idx, 'sell_reason'] = 'EXIT'\n",
    "                order_df.loc[idx, 'profit'] = \\\n",
    "                    (today_market.open - cur_order.buy_price) * cur_order.buy_count\n",
    "#                 print(today, '退出', stock_df_dict[symbol].loc[today, 'open'], CASH)\n",
    "    time_p1 = time.time() - s_time\n",
    "\n",
    "    # 买入信号\n",
    "    for symbol in NASDAQ100[:]:\n",
    "#     for symbol in ['TSLA']:\n",
    "        if symbol in ['ALGN', 'ROST', 'ORLY', 'ESRX', 'ULTA', 'REGN', 'MNST']:\n",
    "#             continue\n",
    "            pass\n",
    "\n",
    "        if symbol == 'NDX':\n",
    "            continue\n",
    "        \n",
    "        if today not in stock_df_dict[symbol].index or yesterday not in stock_df_dict[symbol].index:\n",
    "            continue\n",
    "\n",
    "        today_market = stock_df_dict[symbol].loc[today]\n",
    "\n",
    "        # 突破上行趋势，加入买入信号\n",
    "        order_arr = order_df.to_records(index=False)\n",
    "        if today_market.MA60 >= today_market.MA180:\n",
    "#         if today_market.MA30 >= today_market.MA180:\n",
    "            is_buy = False\n",
    "            if today_market.open >= today_market['ROLLING_%d_MAX' % TURTLE_LONG_BUY_N]:\n",
    "                is_buy = True\n",
    "                buy_reason = 'LONG'\n",
    "            elif False and today_market.open >= today_market['ROLLING_%d_MAX' % TURTLE_SHORT_BUY_N]:\n",
    "                is_buy = True\n",
    "                buy_reason = 'SHORT'\n",
    "                \n",
    "            if is_buy:\n",
    "                order_df = order_df.append(\n",
    "                    {\n",
    "                        'signal_date': today,\n",
    "                        'signal_reason': buy_reason,\n",
    "                        'symbol': symbol,\n",
    "                        'buy_date': pd.np.nan,\n",
    "                        'buy_count': 0,\n",
    "                        'buy_price': today_market.open,\n",
    "                        'sell_date': pd.np.nan,\n",
    "                        'sell_price': 0,\n",
    "                        'sell_reason': pd.np.nan,\n",
    "                        'profit': 0,\n",
    "                        'cash': CASH,\n",
    "                        'property': PROPERTY,\n",
    "                    },\n",
    "                    ignore_index=True\n",
    "                )\n",
    "    time_p2 = time.time() - s_time\n",
    "\n",
    "    # 执行买入\n",
    "    order_arr = order_df.to_records(index=False)\n",
    "    if len(order_arr[order_arr.signal_date == today]) != 0 and CASH >= START_MONEY / TURTLE_POS:\n",
    "        is_buy = False\n",
    "        for idx in order_df[order_df['signal_date'] == today].index:\n",
    "            cur_order = order_df.loc[idx]\n",
    "            symbol = cur_order['symbol']\n",
    "            today_market = stock_df_dict[symbol].loc[today]\n",
    "            buy_count = 0\n",
    "\n",
    "            if IS_SLIPPAGE:\n",
    "                buy_price = today_market.open * (1 + random.randint(0, 20) / 1000)\n",
    "            else:\n",
    "                buy_price = today_market.open\n",
    "\n",
    "            if CASH >= START_MONEY / TURTLE_POS:\n",
    "                buy_count = int((START_MONEY / TURTLE_POS) / buy_price)\n",
    "\n",
    "            if IS_RANDOM_BUY:\n",
    "                if random.randint(0, 100) > 50:\n",
    "                    buy_count = 0\n",
    "\n",
    "            if buy_count > 0:\n",
    "                CASH -= buy_count * buy_price\n",
    "#                     print(today, '建仓', buy_count, stock_df_dict[symbol].loc[today, 'open'], CASH)\n",
    "                order_df.loc[idx, 'buy_date'] = today\n",
    "                order_df.loc[idx, 'buy_count'] = buy_count\n",
    "                order_df.loc[idx, 'buy_price'] = buy_price\n",
    "    time_p3 = time.time() - s_time\n",
    "\n",
    "            \n",
    "    # 每天盘点财产\n",
    "    show_df.loc[today, 'CASH_TURTLE_%d_%d_%d' % (TURTLE_POS, TURTLE_LONG_BUY_N, TURTLE_LONG_SELL_N)] = CASH\n",
    "    PROPERTY = CASH + \\\n",
    "        sum(\n",
    "            [\n",
    "                stock_df_dict[order_df.loc[idx, 'symbol']][:today].iloc[-1].open * order_df.loc[idx, 'buy_count'] \\\n",
    "                for idx in order_df.loc[order_df['sell_price']==0].index\n",
    "            ]\n",
    "        )\n",
    "#     PROPERTY = 0\n",
    "    show_df.loc[today, 'PROPERTY_TURTLE_%d_%d_%d' % (TURTLE_POS, TURTLE_LONG_BUY_N, TURTLE_LONG_SELL_N)] = PROPERTY\n",
    "\n",
    "    yesterday = today\n",
    "    \n",
    "#     print(today, len(order_df), time.time() - s_time, time_p1, time_p2, time_p3)\n",
    "\n",
    "\n",
    "# 最后一天，全部清仓\n",
    "order_arr = order_df.to_records(index=False)\n",
    "if len(order_arr[(order_arr.buy_count > 0) & (order_arr.sell_price == 0)] ) != 0:\n",
    "    for idx in order_df[(order_df['buy_count'] > 0) & (order_df['sell_price'] == 0)].index:\n",
    "        cur_order = order_df.loc[idx]\n",
    "        symbol = cur_order['symbol']\n",
    "        today_market = stock_df_dict[symbol][:today].iloc[-1]\n",
    "        CASH += cur_order.buy_count * today_market.open\n",
    "        order_df.loc[idx, 'sell_date'] = today\n",
    "        order_df.loc[idx, 'sell_price'] = today_market.open\n",
    "        order_df.loc[idx, 'sell_reason'] = 'LAST'\n",
    "        order_df.loc[idx, 'profit'] = \\\n",
    "            (today_market.open - cur_order.buy_price) * cur_order.buy_count\n",
    "    \n",
    "\n",
    "print(CASH)\n",
    "print(HAPPY_MONEY)\n",
    "print(PROPERTY)\n",
    "\n",
    "s_p = stock_df_dict['NDX'][start_date:].iloc[0].open\n",
    "e_p = stock_df_dict['NDX'].iloc[-1].open\n",
    "print('NDX', s_p, e_p, e_p / s_p)\n"
   ]
  },
  {
   "cell_type": "code",
   "execution_count": 10,
   "metadata": {},
   "outputs": [
    {
     "data": {
      "text/plain": [
       "516"
      ]
     },
     "execution_count": 10,
     "metadata": {},
     "output_type": "execute_result"
    }
   ],
   "source": [
    "# # order_df\n",
    "# # order_df[order_df['buy_count'] != 0]\n",
    "# # stock_df_dict['AMZN'].close\n",
    "\n",
    "dt = pd.to_datetime(end_date) - pd.to_datetime(start_date)\n",
    "dt.days\n",
    "\n",
    "# order_arr = order_df.to_records(index=False)\n",
    "# %timeit len(order_arr[(order_arr.buy_count > 0) & (order_arr.sell_price == 0)] ) != 0\n",
    "# # is_sell = False\n",
    "# # for idx in order_df[(order_df['buy_count'] > 0) & (order_df['sell_price'] == 0)].index:\n",
    "# %timeit idx = order_df[(order_df['buy_count'] > 0) & (order_df['sell_price'] == 0)].index\n",
    "# #     cur_order = order_df.loc[idx]\n",
    "# #     symbol = cur_order['symbol']\n",
    "# #     if today not in stock_df_dict[symbol].index or yesterday not in stock_df_dict[symbol].index:\n",
    "# #         continue\n",
    "# #     today_market = stock_df_dict[symbol].loc[today]\n",
    "# #     if cur_order.signal_reason == 'SHORT':\n",
    "# #         is_sell = (today_market.open <= today_market['ROLLING_%d_MIN' % TURTLE_SHORT_SELL_N])\n",
    "# #     if cur_order.signal_reason == 'LONG':\n",
    "# #         is_sell = (today_market.open <= today_market['ROLLING_%d_MIN' % TURTLE_LONG_SELL_N])\n",
    "# #     if is_sell:\n",
    "# #         CASH += cur_order.buy_count * today_market.open\n",
    "# #         order_df.loc[idx, 'sell_date'] = today\n",
    "# #         order_df.loc[idx, 'sell_price'] = today_market.open\n",
    "# #         order_df.loc[idx, 'sell_reason'] = 'EXIT'\n",
    "# #         order_df.loc[idx, 'profit'] = \\\n",
    "# #             (today_market.open - cur_order.buy_price) * cur_order.buy_count\n",
    "\n",
    "\n",
    "# # 执行买入\n",
    "# order_arr = order_df.to_records(index=False)\n",
    "# # if len(order_arr[order_arr.signal_date == today]) != 0 and CASH >= START_MONEY / TURTLE_POS:\n",
    "# %timeit len(order_arr[order_arr.signal_date == today])\n",
    "# #     is_buy = False\n",
    "# #     for idx in order_df[order_df['signal_date'] == today].index:\n",
    "# #         cur_order = order_df.loc[idx]\n",
    "# #         symbol = cur_order['symbol']\n",
    "# #         today_market = stock_df_dict[symbol].loc[today]\n",
    "# #         buy_count = 0\n",
    "\n",
    "# #         if IS_SLIPPAGE:\n",
    "# #             buy_price = today_market.open * (1 + random.randint(0, 20) / 1000)\n",
    "# #         else:\n",
    "# #             buy_price = today_market.open\n",
    "\n",
    "# #         if CASH >= START_MONEY / TURTLE_POS:\n",
    "# #             buy_count = int((START_MONEY / TURTLE_POS) / buy_price)\n",
    "\n",
    "# #         if IS_RANDOM_BUY:\n",
    "# #             if random.randint(0, 100) > 50:\n",
    "# #                 buy_count = 0\n",
    "\n",
    "# #         if buy_count > 0:\n",
    "# #             CASH -= buy_count * buy_price\n",
    "# # #                     print(today, '建仓', buy_count, stock_df_dict[symbol].loc[today, 'open'], CASH)\n",
    "# #             order_df.loc[idx, 'buy_date'] = today\n",
    "# #             order_df.loc[idx, 'buy_count'] = buy_count\n",
    "# #             order_df.loc[idx, 'buy_price'] = buy_price"
   ]
  },
  {
   "cell_type": "code",
   "execution_count": 11,
   "metadata": {
    "scrolled": false
   },
   "outputs": [
    {
     "data": {
      "text/plain": [
       "'ALL'"
      ]
     },
     "execution_count": 11,
     "metadata": {},
     "output_type": "execute_result"
    },
    {
     "data": {
      "text/plain": [
       "('start_date', '2017-01-01')"
      ]
     },
     "execution_count": 11,
     "metadata": {},
     "output_type": "execute_result"
    },
    {
     "data": {
      "text/plain": [
       "('end_date', '2018-06-01')"
      ]
     },
     "execution_count": 11,
     "metadata": {},
     "output_type": "execute_result"
    },
    {
     "data": {
      "text/plain": [
       "('TURTLE_POS', 20)"
      ]
     },
     "execution_count": 11,
     "metadata": {},
     "output_type": "execute_result"
    },
    {
     "data": {
      "text/plain": [
       "('TURTLE_SHORT_BUY_N', 20)"
      ]
     },
     "execution_count": 11,
     "metadata": {},
     "output_type": "execute_result"
    },
    {
     "data": {
      "text/plain": [
       "('TURTLE_SHORT_SELL_N', 20)"
      ]
     },
     "execution_count": 11,
     "metadata": {},
     "output_type": "execute_result"
    },
    {
     "data": {
      "text/plain": [
       "('TURTLE_LONG_BUY_N', 60)"
      ]
     },
     "execution_count": 11,
     "metadata": {},
     "output_type": "execute_result"
    },
    {
     "data": {
      "text/plain": [
       "('TURTLE_LONG_SELL_N', 60)"
      ]
     },
     "execution_count": 11,
     "metadata": {},
     "output_type": "execute_result"
    },
    {
     "data": {
      "text/plain": [
       "('IS_HAPPYMONEY', False)"
      ]
     },
     "execution_count": 11,
     "metadata": {},
     "output_type": "execute_result"
    },
    {
     "data": {
      "text/plain": [
       "('IS_TAX', False)"
      ]
     },
     "execution_count": 11,
     "metadata": {},
     "output_type": "execute_result"
    },
    {
     "data": {
      "text/plain": [
       "('IS_SLIPPAGE', True)"
      ]
     },
     "execution_count": 11,
     "metadata": {},
     "output_type": "execute_result"
    },
    {
     "data": {
      "text/plain": [
       "('IS_RANDOM_BUY', False)"
      ]
     },
     "execution_count": 11,
     "metadata": {},
     "output_type": "execute_result"
    },
    {
     "data": {
      "text/plain": [
       "('START_MONEY', 100000)"
      ]
     },
     "execution_count": 11,
     "metadata": {},
     "output_type": "execute_result"
    },
    {
     "data": {
      "text/plain": [
       "('len(order_df)', 3940)"
      ]
     },
     "execution_count": 11,
     "metadata": {},
     "output_type": "execute_result"
    },
    {
     "data": {
      "text/plain": [
       "('sum_profit', 39420.85391500001)"
      ]
     },
     "execution_count": 11,
     "metadata": {},
     "output_type": "execute_result"
    },
    {
     "data": {
      "text/plain": [
       "('sum_tax', 0)"
      ]
     },
     "execution_count": 11,
     "metadata": {},
     "output_type": "execute_result"
    },
    {
     "data": {
      "text/plain": [
       "('win rate', 0.5873015873015873)"
      ]
     },
     "execution_count": 11,
     "metadata": {},
     "output_type": "execute_result"
    },
    {
     "data": {
      "text/plain": [
       "('len(order_df[order_df.profit != 0])', 63)"
      ]
     },
     "execution_count": 11,
     "metadata": {},
     "output_type": "execute_result"
    },
    {
     "data": {
      "text/plain": [
       "('len(order_df[order_df.profit > 0])', 37)"
      ]
     },
     "execution_count": 11,
     "metadata": {},
     "output_type": "execute_result"
    },
    {
     "data": {
      "text/plain": [
       "('order LONG', 3940)"
      ]
     },
     "execution_count": 11,
     "metadata": {},
     "output_type": "execute_result"
    },
    {
     "data": {
      "text/plain": [
       "37"
      ]
     },
     "execution_count": 11,
     "metadata": {},
     "output_type": "execute_result"
    },
    {
     "data": {
      "text/plain": [
       "39420.85391500001"
      ]
     },
     "execution_count": 11,
     "metadata": {},
     "output_type": "execute_result"
    },
    {
     "data": {
      "text/plain": [
       "('order SHORT', 0)"
      ]
     },
     "execution_count": 11,
     "metadata": {},
     "output_type": "execute_result"
    },
    {
     "data": {
      "text/plain": [
       "0"
      ]
     },
     "execution_count": 11,
     "metadata": {},
     "output_type": "execute_result"
    },
    {
     "data": {
      "text/plain": [
       "0"
      ]
     },
     "execution_count": 11,
     "metadata": {},
     "output_type": "execute_result"
    },
    {
     "data": {
      "text/plain": [
       "('cum_returns', 0.3942085391499992, 0.43037948080069754)"
      ]
     },
     "execution_count": 11,
     "metadata": {},
     "output_type": "execute_result"
    },
    {
     "data": {
      "text/plain": [
       "('max_drawdown', -0.11779215413353841, -0.1179145520940211)"
      ]
     },
     "execution_count": 11,
     "metadata": {},
     "output_type": "execute_result"
    },
    {
     "data": {
      "text/plain": [
       "('annual_return', 0.265215718680303, 0.28836387944344866)"
      ]
     },
     "execution_count": 11,
     "metadata": {},
     "output_type": "execute_result"
    },
    {
     "data": {
      "text/plain": [
       "('annual_volatility', 0.16831691669764584)"
      ]
     },
     "execution_count": 11,
     "metadata": {},
     "output_type": "execute_result"
    },
    {
     "data": {
      "text/plain": [
       "('calmar_ratio', 2.2515567410341584)"
      ]
     },
     "execution_count": 11,
     "metadata": {},
     "output_type": "execute_result"
    },
    {
     "data": {
      "text/plain": [
       "('sharpe_ratio', 1.4865854647683645)"
      ]
     },
     "execution_count": 11,
     "metadata": {},
     "output_type": "execute_result"
    },
    {
     "data": {
      "text/plain": [
       "('alpha', -0.01979425031207988)"
      ]
     },
     "execution_count": 11,
     "metadata": {},
     "output_type": "execute_result"
    },
    {
     "data": {
      "text/plain": [
       "('beta', 1.0163743773252485)"
      ]
     },
     "execution_count": 11,
     "metadata": {},
     "output_type": "execute_result"
    },
    {
     "data": {
      "text/plain": [
       "('ALL DAY', 356)"
      ]
     },
     "execution_count": 11,
     "metadata": {},
     "output_type": "execute_result"
    },
    {
     "data": {
      "text/plain": [
       "'CASH_TURTLE_20_60_60'"
      ]
     },
     "execution_count": 11,
     "metadata": {},
     "output_type": "execute_result"
    },
    {
     "data": {
      "text/plain": [
       "'PROPERTY_TURTLE_20_60_60'"
      ]
     },
     "execution_count": 11,
     "metadata": {},
     "output_type": "execute_result"
    },
    {
     "data": {
      "text/plain": [
       "('CASH NOT USED DAY', 20)"
      ]
     },
     "execution_count": 11,
     "metadata": {},
     "output_type": "execute_result"
    },
    {
     "data": {
      "text/plain": [
       "('MISS_BUY_SIGNAL_LONG', 0)"
      ]
     },
     "execution_count": 11,
     "metadata": {},
     "output_type": "execute_result"
    },
    {
     "data": {
      "text/plain": [
       "('MISS_BUY_SIGNAL_SHORT', 0)"
      ]
     },
     "execution_count": 11,
     "metadata": {},
     "output_type": "execute_result"
    }
   ],
   "source": [
    "'ALL'\n",
    "'start_date', start_date\n",
    "'end_date', end_date\n",
    "'TURTLE_POS', TURTLE_POS\n",
    "'TURTLE_SHORT_BUY_N', TURTLE_SHORT_BUY_N\n",
    "'TURTLE_SHORT_SELL_N', TURTLE_SHORT_SELL_N\n",
    "'TURTLE_LONG_BUY_N', TURTLE_LONG_BUY_N\n",
    "'TURTLE_LONG_SELL_N', TURTLE_LONG_SELL_N\n",
    "'IS_HAPPYMONEY', IS_HAPPYMONEY\n",
    "'IS_TAX', IS_TAX\n",
    "'IS_SLIPPAGE', IS_SLIPPAGE\n",
    "'IS_RANDOM_BUY', IS_RANDOM_BUY\n",
    "'START_MONEY', START_MONEY\n",
    "\n",
    "'len(order_df)', len(order_df)\n",
    "sum_profit = sum(list(order_df['profit']))\n",
    "'sum_profit', sum_profit\n",
    "# sum_tax = sum(list(order_df_TB['tax']))\n",
    "sum_tax = 0\n",
    "'sum_tax', sum_tax\n",
    "'win rate', len(order_df[order_df.profit > 0]) / len(order_df[order_df.profit != 0])\n",
    "# 'REWARD', ((sum_profit - sum_tax) / START_MONEY + 1) ** (365 / count_day)\n",
    "'len(order_df[order_df.profit != 0])', len(order_df[order_df.profit != 0])\n",
    "'len(order_df[order_df.profit > 0])', len(order_df[order_df.profit > 0])\n",
    "'order LONG', len(order_df[order_df.signal_reason == 'LONG'])\n",
    "len(order_df[(order_df.signal_reason == 'LONG') & (order_df.profit > 0)])\n",
    "sum(list(order_df[order_df.signal_reason == 'LONG']['profit']))\n",
    "'order SHORT', len(order_df[order_df.signal_reason == 'SHORT'])\n",
    "len(order_df[(order_df.signal_reason == 'SHORT') & (order_df.profit > 0)])\n",
    "sum(list(order_df[order_df.signal_reason == 'SHORT']['profit']))\n",
    "\n",
    "# order_df\n",
    "# order_df.loc[order_df['sell_price']==0]\n",
    "\n",
    "calc_df = order_df.copy()\n",
    "calc_df['profit_pct'] = calc_df['profit'] / (calc_df['buy_count'] * calc_df['buy_price'] + 1)\n",
    "# calc_df[calc_df.symbol == 'BIDU']\n",
    "# calc_df[calc_df.profit > 0]\n",
    "# calc_df\n",
    "\n",
    "# order_df[order_df.profit > 0]\n",
    "\n",
    "# csv_file = 'E:/Dev/result/T_TURTLE_POS%d_TURTLE_BUY_N%d_TURTLE_SELL_N%d_START_MONEY%d_%s_%s.csv' % \\\n",
    "#     (TURTLE_POS, TURTLE_BUY_N, TURTLE_SELL_N, START_MONEY, start_date, end_date)\n",
    "# calc_df.to_csv(csv_file)\n",
    "\n",
    "# list(show_df.dropna(how='any', inplace=False).PROPERTY_TURTLE_20_60_60.apply(int).tail(50))\n",
    "# list(show_df.open.apply(int).tail(50))\n",
    "\n",
    "df = show_df.dropna(how='any', inplace=False).copy()\n",
    "algo = df['PROPERTY_TURTLE_%d_%d_%d' % (TURTLE_POS, TURTLE_LONG_BUY_N, TURTLE_LONG_SELL_N)].pct_change()\n",
    "benchmark = df.open.pct_change()\n",
    "\n",
    "'cum_returns', emp.cum_returns(algo)[-1], emp.cum_returns(benchmark)[-1]\n",
    "'max_drawdown', emp.max_drawdown(algo), emp.max_drawdown(benchmark)\n",
    "'annual_return', emp.annual_return(algo), emp.annual_return(benchmark)\n",
    "'annual_volatility', emp.annual_volatility(algo, period='daily')\n",
    "'calmar_ratio', emp.calmar_ratio(algo)\n",
    "'sharpe_ratio', emp.sharpe_ratio(returns=algo)\n",
    "'alpha', emp.alpha(returns=algo, factor_returns=benchmark, risk_free=0.00)\n",
    "'beta', emp.beta(returns=algo, factor_returns=benchmark, risk_free=0.00)\n",
    "\n",
    "'ALL DAY', len(df)\n",
    "'CASH_TURTLE_%d_%d_%d' % (TURTLE_POS, TURTLE_LONG_BUY_N, TURTLE_LONG_SELL_N)\n",
    "'PROPERTY_TURTLE_%d_%d_%d' % (TURTLE_POS, TURTLE_LONG_BUY_N, TURTLE_LONG_SELL_N)\n",
    "'CASH NOT USED DAY', \\\n",
    "    len(df[df['CASH_TURTLE_%d_%d_%d' % (TURTLE_POS, TURTLE_LONG_BUY_N, TURTLE_LONG_SELL_N)] > \\\n",
    "           df['PROPERTY_TURTLE_%d_%d_%d' % (TURTLE_POS, TURTLE_LONG_BUY_N, TURTLE_LONG_SELL_N)] / TURTLE_POS])\n",
    "'MISS_BUY_SIGNAL_LONG', miss_buy_long\n",
    "'MISS_BUY_SIGNAL_SHORT', miss_buy_short"
   ]
  },
  {
   "cell_type": "code",
   "execution_count": 12,
   "metadata": {
    "scrolled": true
   },
   "outputs": [
    {
     "data": {
      "text/plain": [
       "69"
      ]
     },
     "execution_count": 12,
     "metadata": {},
     "output_type": "execute_result"
    }
   ],
   "source": [
    "bad_stock_cnt = 0\n",
    "s_p = stock_df_dict['NDX'][start_date:].iloc[0].open\n",
    "e_p = stock_df_dict['NDX'].iloc[-1].open\n",
    "benchmark_return = e_p / s_p\n",
    "for symbol, stock_df in stock_df_dict.items():\n",
    "    df = stock_df.loc[start_date:end_date, 'close']\n",
    "#     print(df)\n",
    "    s_p = df.head(1).values\n",
    "    e_p = df.tail(1).values\n",
    "#     print(symbol, s_p, e_p, e_p / s_p)\n",
    "    if e_p / s_p < benchmark_return:\n",
    "        bad_stock_cnt += 1\n",
    "bad_stock_cnt\n"
   ]
  },
  {
   "cell_type": "code",
   "execution_count": 13,
   "metadata": {
    "scrolled": false
   },
   "outputs": [],
   "source": [
    "%matplotlib inline\n",
    "\n",
    "import sys\n",
    "import matplotlib\n",
    "import matplotlib.pyplot as plt\n",
    "plt.rcParams['figure.figsize'] = [15, 10]\n",
    "\n",
    "# order_df_TB\n",
    "bar_df = order_df.copy()\n",
    "df = bar_df.sort_values(by=['profit'])\n",
    "# df\n",
    "\n",
    "bins = [100 * x for x in range(-200, 500)]\n",
    "# bins\n",
    "\n",
    "cats = pd.cut(df['profit'], bins)\n",
    "# cats\n",
    "\n",
    "def get_stats(group):\n",
    "    return {'count': group.count()}\n",
    "\n",
    "grouped = df['profit'].groupby(cats)\n",
    "bin_counts = grouped.apply(get_stats).unstack()\n",
    "bin_counts.reset_index(inplace=True, drop=False)\n",
    "bin_counts['profit'] = bin_counts['profit'].apply(str)\n",
    "# bin_counts\n",
    "\n",
    "# df['profit'].hist(bins=10)\n",
    "\n",
    "# bin_counts.plot(kind='barh', alpha=0.5, rot=0)\n",
    "\n",
    "# display_charts(bin_counts, kind='bar', x='profit', figsize=(900, 600), logy=True)"
   ]
  },
  {
   "cell_type": "code",
   "execution_count": 14,
   "metadata": {
    "scrolled": false
   },
   "outputs": [
    {
     "data": {
      "text/plain": [
       "Index(['open', 'high', 'low', 'close', 'volume', 'o_pct_chg', 'ROLLING_20_MAX',\n",
       "       'ROLLING_20_MIN', 'ROLLING_60_MAX', 'ROLLING_60_MIN', 'MA180', 'MA60',\n",
       "       'MA30', 'CASH_TURTLE_20_60_60', 'PROPERTY_TURTLE_20_60_60'],\n",
       "      dtype='object')"
      ]
     },
     "execution_count": 14,
     "metadata": {},
     "output_type": "execute_result"
    },
    {
     "data": {
      "image/png": "[encoded data removed]",
      "text/plain": [
       "<Figure size 1080x720 with 1 Axes>"
      ]
     },
     "metadata": {},
     "output_type": "display_data"
    }
   ],
   "source": [
    "%matplotlib inline\n",
    "\n",
    "import matplotlib\n",
    "import matplotlib.pyplot as plt\n",
    "plt.rcParams['figure.figsize'] = [15, 10]\n",
    "\n",
    "df = show_df.dropna(how='any', inplace=False).copy()\n",
    "# df.drop(columns=['open', 'high', 'low', 'o_pct_chg', 'TR', 'N'], inplace=True)\n",
    "df.columns\n",
    "\n",
    "df['close'] = (df['close'] - df.iloc[0]['close']) / df.iloc[0]['close']\n",
    "ax = df.plot(kind='line', y='close', label='NDX_%.2f' % df.iloc[-1]['close'], linewidth=1, grid=True)\n",
    "for col in sorted(df.columns):\n",
    "    if 'PROPERTY' in col:\n",
    "        df[col] = (df[col] - df.iloc[1][col]) / df.iloc[0][col]\n",
    "        ax = df.plot(kind='line', y=col, secondary_y=False, label='%s_%.2f' % (col, df.iloc[-1][col]), linewidth=1, grid=True, ax=ax)\n",
    "\n",
    "# display_charts(df, kind='line', figsize=(900, 600), logy=False)"
   ]
  },
  {
   "cell_type": "code",
   "execution_count": 15,
   "metadata": {
    "scrolled": false
   },
   "outputs": [
    {
     "data": {
      "text/plain": [
       "Index(['close', 'CASH_TURTLE_20_60_60', 'PROPERTY_TURTLE_20_60_60'], dtype='object')"
      ]
     },
     "execution_count": 15,
     "metadata": {},
     "output_type": "execute_result"
    },
    {
     "data": {
      "text/plain": [
       "PeriodIndex(['2017-01-03', '2017-01-04', '2017-01-05', '2017-01-06',\n",
       "             '2017-01-09', '2017-01-10', '2017-01-11', '2017-01-12',\n",
       "             '2017-01-13', '2017-01-17',\n",
       "             ...\n",
       "             '2018-05-18', '2018-05-21', '2018-05-22', '2018-05-23',\n",
       "             '2018-05-24', '2018-05-25', '2018-05-29', '2018-05-30',\n",
       "             '2018-05-31', '2018-06-01'],\n",
       "            dtype='period[D]', name='date', length=356, freq='D')"
      ]
     },
     "execution_count": 15,
     "metadata": {},
     "output_type": "execute_result"
    },
    {
     "data": {
      "text/plain": [
       "period[D]"
      ]
     },
     "execution_count": 15,
     "metadata": {},
     "output_type": "execute_result"
    },
    {
     "data": {
      "text/html": [
       "<div id=\"chart_idvJrgRQKm\"</div>\n",
       "    <script type=\"text/javascript\">new Highcharts.StockChart({\"chart\":{\"height\":600,\"width\":900,\"renderTo\":\"chart_idvJrgRQKm\"},\"yAxis\":[{}],\"legend\":{\"enabled\":true},\"series\":[{\"name\":\"CASH_TURTLE_20_60_60\",\"yAxis\":0,\"data\":[[1483401600000,100000.0],[1483488000000,95007.8032],[1483574400000,80153.6832],[1483660800000,50525.90593],[1483920000000,10955.57451],[1484006400000,1084.91267],[1484092800000,1084.91267],[1484179200000,1084.91267],[1484265600000,1084.91267],[1484611200000,1084.91267],[1484697600000,1084.91267],[1484784000000,1084.91267],[1484870400000,1084.91267],[1485129600000,1084.91267],[1485216000000,1084.91267],[1485302400000,1084.91267],[1485388800000,1084.91267],[1485475200000,1084.91267],[1485734400000,1084.91267],[1485820800000,1084.91267],[1485907200000,1084.91267],[1485993600000,1084.91267],[1486080000000,1084.91267],[1486339200000,1084.91267],[1486425600000,1084.91267],[1486512000000,1084.91267],[1486598400000,1084.91267],[1486684800000,1084.91267],[1486944000000,1084.91267],[1487030400000,1084.91267],[1487116800000,1084.91267],[1487203200000,1084.91267],[1487289600000,1084.91267],[1487635200000,1084.91267],[1487721600000,1084.91267],[1487808000000,1084.91267],[1487894400000,1084.91267],[1488153600000,1084.91267],[1488240000000,1084.91267],[1488326400000,1084.91267],[1488412800000,1084.91267],[1488499200000,1084.91267],[1488758400000,1084.91267],[1488844800000,1084.91267],[1488931200000,1084.91267],[1489017600000,1084.91267],[1489104000000,1084.91267],[1489363200000,1084.91267],[1489449600000,1084.91267],[1489536000000,1084.91267],[1489622400000,1084.91267],[1489708800000,1084.91267],[1489968000000,1084.91267],[1490054400000,1084.91267],[1490140800000,1084.91267],[1490227200000,1084.91267],[1490313600000,1084.91267],[1490572800000,1084.91267],[1490659200000,1084.91267],[1490745600000,1084.91267],[1490832000000,1084.91267],[1490918400000,1084.91267],[1491177600000,1084.91267],[1491264000000,1084.91267],[1491350400000,1084.91267],[1491436800000,1084.91267],[1491523200000,1084.91267],[1491782400000,1084.91267],[1491868800000,1084.91267],[1491955200000,1084.91267],[1492041600000,1084.91267],[1492387200000,1084.91267],[1492473600000,10114.75522],[1492560000000,190.56892],[1492646400000,190.56892],[1492732800000,190.56892],[1492992000000,190.56892],[1493078400000,190.56892],[1493164800000,190.56892],[1493251200000,190.56892],[1493337600000,190.56892],[1493596800000,190.56892],[1493683200000,190.56892],[1493769600000,190.56892],[1493856000000,324.53052],[1493942400000,324.53052],[1494201600000,324.53052],[1494288000000,477.76417],[1494374400000,477.76417],[1494460800000,664.53417],[1494547200000,664.53417],[1494806400000,664.53417],[1494892800000,664.53417],[1494979200000,991.06147],[1495065600000,991.06147],[1495152000000,991.06147],[1495411200000,991.06147],[1495497600000,991.06147],[1495584000000,991.06147],[1495670400000,991.06147],[1495756800000,991.06147],[1496102400000,991.06147],[1496188800000,991.06147],[1496275200000,991.06147],[1496361600000,991.06147],[1496620800000,991.06147],[1496707200000,991.06147],[1496793600000,991.06147],[1496880000000,991.06147],[1496966400000,991.06147],[1497225600000,991.06147],[1497312000000,991.06147],[1497398400000,991.06147],[1497484800000,991.06147],[1497571200000,991.06147],[1497830400000,991.06147],[1497916800000,520.72451],[1498003200000,520.72451],[1498089600000,520.72451],[1498176000000,520.72451],[1498435200000,520.72451],[1498521600000,5665.72451],[1498608000000,5665.72451],[1498694400000,716.49015],[1498780800000,716.49015],[1499040000000,716.49015],[1499212800000,716.49015],[1499299200000,716.49015],[1499385600000,716.49015],[1499644800000,716.49015],[1499731200000,716.49015],[1499817600000,716.49015],[1499904000000,716.49015],[1499990400000,716.49015],[1500249600000,716.49015],[1500336000000,716.49015],[1500422400000,716.49015],[1500508800000,716.49015],[1500595200000,716.49015],[1500854400000,716.49015],[1500940800000,716.49015],[1501027200000,716.49015],[1501113600000,716.49015],[1501200000000,716.49015],[1501459200000,716.49015],[1501545600000,716.49015],[1501632000000,2059.65567],[1501718400000,2059.65567],[1501804800000,2059.65567],[1502064000000,2059.65567],[1502150400000,2059.65567],[1502236800000,2059.65567],[1502323200000,2059.65567],[1502409600000,23274.97935],[1502668800000,13313.32803],[1502755200000,3555.75003],[1502841600000,3555.75003],[1502928000000,3555.75003],[1503014400000,8998.05003],[1503273600000,4005.84075],[1503360000000,4005.84075],[1503446400000,4005.84075],[1503532800000,4005.84075],[1503619200000,4005.84075],[1503878400000,4005.84075],[1503964800000,4005.84075],[1504051200000,4005.84075],[1504137600000,4005.84075],[1504224000000,4005.84075],[1504569600000,4005.84075],[1504656000000,4005.84075],[1504742400000,4005.84075],[1504828800000,4005.84075],[1505088000000,4005.84075],[1505174400000,4005.84075],[1505260800000,4005.84075],[1505347200000,4005.84075],[1505433600000,4005.84075],[1505692800000,4005.84075],[1505779200000,4005.84075],[1505865600000,4005.84075],[1505952000000,4005.84075],[1506038400000,4005.84075],[1506297600000,4005.84075],[1506384000000,4005.84075],[1506470400000,4005.84075],[1506556800000,4005.84075],[1506643200000,4005.84075],[1506902400000,4005.84075],[1506988800000,4005.84075],[1507075200000,4005.84075],[1507161600000,4005.84075],[1507248000000,4005.84075],[1507507200000,4005.84075],[1507593600000,4005.84075],[1507680000000,4005.84075],[1507766400000,4005.84075],[1507852800000,4005.84075],[1508112000000,4005.84075],[1508198400000,4005.84075],[1508284800000,4005.84075],[1508371200000,2728.56327],[1508457600000,2728.56327],[1508716800000,2728.56327],[1508803200000,2728.56327],[1508889600000,2728.56327],[1508976000000,2728.56327],[1509062400000,2728.56327],[1509321600000,2728.56327],[1509408000000,2728.56327],[1509494400000,2728.56327],[1509580800000,2728.56327],[1509667200000,2728.56327],[1509926400000,2728.56327],[1510012800000,2728.56327],[1510099200000,2728.56327],[1510185600000,2728.56327],[1510272000000,2728.56327],[1510531200000,2728.56327],[1510617600000,2728.56327],[1510704000000,2728.56327],[1510790400000,2905.75879],[1510876800000,2905.75879],[1511136000000,2905.75879],[1511222400000,2905.75879],[1511308800000,2905.75879],[1511481600000,2905.75879],[1511740800000,2905.75879],[1511827200000,2905.75879],[1511913600000,2905.75879],[1512000000000,2905.75879],[1512086400000,2905.75879],[1512345600000,2905.75879],[1512432000000,4968.58717],[1512518400000,4968.58717],[1512604800000,4968.58717],[1512691200000,4968.58717],[1512950400000,4968.58717],[1513036800000,4968.58717],[1513123200000,4968.58717],[1513209600000,4968.58717],[1513296000000,4968.58717],[1513555200000,4968.58717],[1513641600000,4968.58717],[1513728000000,4968.58717],[1513814400000,4968.58717],[1513900800000,4968.58717],[1514246400000,4968.58717],[1514332800000,4968.58717],[1514419200000,4968.58717],[1514505600000,4968.58717],[1514851200000,4968.58717],[1514937600000,4968.58717],[1515024000000,4968.58717],[1515110400000,4968.58717],[1515369600000,4968.58717],[1515456000000,4968.58717],[1515542400000,4968.58717],[1515628800000,4968.58717],[1515715200000,4968.58717],[1516060800000,4968.58717],[1516147200000,4968.58717],[1516233600000,4968.58717],[1516320000000,4968.58717],[1516579200000,4968.58717],[1516665600000,4968.58717],[1516752000000,4968.58717],[1516838400000,4968.58717],[1516924800000,4968.58717],[1517184000000,4968.58717],[1517270400000,1960.365145],[1517356800000,1960.365145],[1517443200000,1960.365145],[1517529600000,1960.365145],[1517788800000,2675.126095],[1517875200000,2675.126095],[1517961600000,2675.126095],[1518048000000,2675.126095],[1518134400000,2675.126095],[1518393600000,2675.126095],[1518480000000,2675.126095],[1518566400000,2675.126095],[1518652800000,2675.126095],[1518739200000,2675.126095],[1519084800000,2675.126095],[1519171200000,2675.126095],[1519257600000,2675.126095],[1519344000000,2675.126095],[1519603200000,2675.126095],[1519689600000,2675.126095],[1519776000000,2675.126095],[1519862400000,7903.076095],[1519948800000,7903.076095],[1520208000000,2938.244775],[1520294400000,2938.244775],[1520380800000,926.249735],[1520467200000,926.249735],[1520553600000,926.249735],[1520812800000,926.249735],[1520899200000,926.249735],[1520985600000,926.249735],[1521072000000,926.249735],[1521158400000,926.249735],[1521417600000,926.249735],[1521504000000,6614.609735],[1521590400000,5656.586375],[1521676800000,5656.586375],[1521763200000,5656.586375],[1522022400000,5656.586375],[1522108800000,799.718975],[1522195200000,5789.718975],[1522281600000,5789.718975],[1522627200000,5789.718975],[1522713600000,5789.718975],[1522800000000,14116.603975],[1522886400000,14116.603975],[1522972800000,14116.603975],[1523232000000,14116.603975],[1523318400000,9180.693575],[1523404800000,9180.693575],[1523491200000,8766.354695],[1523577600000,3777.494315],[1523836800000,3777.494315],[1523923200000,3777.494315],[1524009600000,3777.494315],[1524096000000,3777.494315],[1524182400000,3777.494315],[1524441600000,3777.494315],[1524528000000,3777.494315],[1524614400000,3777.494315],[1524700800000,3566.223915],[1524787200000,3566.223915],[1525046400000,3566.223915],[1525132800000,3566.223915],[1525219200000,3566.223915],[1525305600000,3566.223915],[1525392000000,3566.223915],[1525651200000,3566.223915],[1525737600000,3566.223915],[1525824000000,3566.223915],[1525910400000,3566.223915],[1525996800000,3566.223915],[1526256000000,3566.223915],[1526342400000,3566.223915],[1526428800000,3566.223915],[1526515200000,3566.223915],[1526601600000,3566.223915],[1526860800000,3566.223915],[1526947200000,3566.223915],[1527033600000,3566.223915],[1527120000000,3566.223915],[1527206400000,3566.223915],[1527552000000,3566.223915],[1527638400000,3566.223915],[1527724800000,3566.223915],[1527811200000,3566.223915]]},{\"name\":\"PROPERTY_TURTLE_20_60_60\",\"yAxis\":0,\"data\":[[1483401600000,100000.0],[1483488000000,99975.1632],[1483574400000,99897.5232],[1483660800000,99783.69593],[1483920000000,99434.72451],[1484006400000,99382.88267],[1484092800000,99897.69267],[1484179200000,100082.80767],[1484265600000,100336.62267],[1484611200000,100724.82267],[1484697600000,101205.31267],[1484784000000,102982.76267],[1484870400000,103772.37267],[1485129600000,103584.06267],[1485216000000,103855.00267],[1485302400000,105127.50267],[1485388800000,105007.20267],[1485475200000,105735.97267],[1485734400000,105643.07267],[1485820800000,105261.77267],[1485907200000,105846.87267],[1485993600000,106440.10767],[1486080000000,106280.00267],[1486339200000,106357.65267],[1486425600000,106144.60267],[1486512000000,105871.99267],[1486598400000,106456.14267],[1486684800000,106631.98267],[1486944000000,106961.38267],[1487030400000,106113.81267],[1487116800000,106496.50267],[1487203200000,107286.44267],[1487289600000,107057.29267],[1487635200000,107610.54267],[1487721600000,108379.20267],[1487808000000,108227.44267],[1487894400000,107441.23267],[1488153600000,108117.28267],[1488240000000,108277.99267],[1488326400000,108144.42267],[1488412800000,108161.63267],[1488499200000,107428.75267],[1488758400000,107787.46767],[1488844800000,108754.87267],[1488931200000,108319.13267],[1489017600000,108272.12267],[1489104000000,108728.59267],[1489363200000,108683.89267],[1489449600000,109258.93267],[1489536000000,109742.51267],[1489622400000,110218.95267],[1489708800000,110495.08267],[1489968000000,110435.72267],[1490054400000,110432.91267],[1490140800000,108461.20267],[1490227200000,109006.87267],[1490313600000,109856.12267],[1490572800000,109262.77267],[1490659200000,110127.37267],[1490745600000,111081.01267],[1490832000000,110899.28267],[1490918400000,111319.26267],[1491177600000,111215.45267],[1491264000000,110818.63267],[1491350400000,111231.84267],[1491436800000,110173.78267],[1491523200000,110492.77267],[1491782400000,110602.98267],[1491868800000,110244.48267],[1491955200000,110110.67267],[1492041600000,110297.50267],[1492387200000,109053.15267],[1492473600000,108288.75522],[1492560000000,107863.85892],[1492646400000,108140.39892],[1492732800000,108672.99892],[1492992000000,109852.95892],[1493078400000,109685.34892],[1493164800000,110449.82892],[1493251200000,109889.97192],[1493337600000,111453.00892],[1493596800000,110857.81892],[1493683200000,111016.55892],[1493769600000,110681.41892],[1493856000000,108890.53052],[1493942400000,110009.29052],[1494201600000,109780.13052],[1494288000000,109522.80417],[1494374400000,109614.71417],[1494460800000,109262.46417],[1494547200000,109743.24417],[1494806400000,110524.02417],[1494892800000,110889.79417],[1494979200000,109767.41147],[1495065600000,107797.28147],[1495152000000,109265.39147],[1495411200000,109903.01147],[1495497600000,111177.81147],[1495584000000,111242.06147],[1495670400000,111766.85147],[1495756800000,113093.72147],[1496102400000,112944.36147],[1496188800000,113308.98147],[1496275200000,113373.22147],[1496361600000,113743.75147],[1496620800000,114506.79147],[1496707200000,114175.20147],[1496793600000,114249.54147],[1496880000000,114644.07147],[1496966400000,114666.69147],[1497225600000,110300.79147],[1497312000000,110745.27647],[1497398400000,111365.77147],[1497484800000,109193.32147],[1497571200000,109527.73147],[1497830400000,110386.83147],[1497916800000,110986.59451],[1498003200000,110411.49451],[1498089600000,111300.05451],[1498176000000,111484.62451],[1498435200000,112579.55451],[1498521600000,110866.03451],[1498608000000,109800.34451],[1498694400000,110047.82015],[1498780800000,109044.72015],[1499040000000,108923.75015],[1499212800000,108355.52015],[1499299200000,108233.14015],[1499385600000,108270.05015],[1499644800000,109695.15015],[1499731200000,110209.21015],[1499817600000,111417.56015],[1499904000000,112363.68015],[1499990400000,112447.24015],[1500249600000,113209.32015],[1500336000000,114242.77015],[1500422400000,115544.70015],[1500508800000,115187.01015],[1500595200000,114448.68015],[1500854400000,115689.12515],[1500940800000,115671.75015],[1501027200000,115481.11015],[1501113600000,116485.44015],[1501200000000,114670.59015],[1501459200000,115886.20015],[1501545600000,115383.92015],[1501632000000,115553.78567],[1501718400000,114581.32567],[1501804800000,115209.10567],[1502064000000,115361.04567],[1502150400000,115533.45567],[1502236800000,114414.29567],[1502323200000,114790.89567],[1502409600000,113021.09935],[1502668800000,113722.85803],[1502755200000,114422.15003],[1502841600000,114576.38003],[1502928000000,114562.78003],[1503014400000,112159.33003],[1503273600000,112509.59075],[1503360000000,112857.84075],[1503446400000,113744.86075],[1503532800000,114027.83075],[1503619200000,113913.77075],[1503878400000,113642.86075],[1503964800000,112790.49075],[1504051200000,114155.29075],[1504137600000,115580.04075],[1504224000000,116628.51075],[1504569600000,115742.03075],[1504656000000,116018.04075],[1504742400000,116340.98075],[1504828800000,116776.43075],[1505088000000,117163.03075],[1505174400000,117775.55075],[1505260800000,117627.76075],[1505347200000,116996.95075],[1505433600000,117133.84075],[1505692800000,117402.28075],[1505779200000,117834.81075],[1505865600000,117725.96075],[1505952000000,117523.25075],[1506038400000,116637.93075],[1506297600000,116475.57075],[1506384000000,115527.39075],[1506470400000,116029.23075],[1506556800000,116397.17075],[1506643200000,116773.32075],[1506902400000,117949.96075],[1506988800000,117484.85075],[1507075200000,117717.36075],[1507161600000,118468.56075],[1507248000000,119167.94075],[1507507200000,120002.28075],[1507593600000,120071.88075],[1507680000000,120006.64075],[1507766400000,120425.40075],[1507852800000,121180.37075],[1508112000000,121590.91075],[1508198400000,121910.34075],[1508284800000,121953.07075],[1508371200000,120063.87327],[1508457600000,121357.19327],[1508716800000,122114.40327],[1508803200000,121242.82827],[1508889600000,121448.20327],[1508976000000,121368.78327],[1509062400000,122458.67327],[1509321600000,124244.97327],[1509408000000,124715.34327],[1509494400000,125687.85327],[1509580800000,124649.09327],[1509667200000,125695.31327],[1509926400000,125788.97327],[1510012800000,125777.23327],[1510099200000,126492.80327],[1510185600000,125883.68327],[1510272000000,125298.12327],[1510531200000,125221.62327],[1510617600000,126114.58327],[1510704000000,126019.32327],[1510790400000,126104.99879],[1510876800000,127138.88879],[1511136000000,125812.75879],[1511222400000,126645.34879],[1511308800000,127233.51879],[1511481600000,127341.09879],[1511740800000,127671.55879],[1511827200000,128162.77879],[1511913600000,127818.51879],[1512000000000,124649.85879],[1512086400000,124162.38879],[1512345600000,124852.11879],[1512432000000,119501.93717],[1512518400000,119136.62717],[1512604800000,120498.83717],[1512691200000,122009.96717],[1512950400000,121551.15717],[1513036800000,121563.35717],[1513123200000,121429.80717],[1513209600000,121767.20717],[1513296000000,121846.34717],[1513555200000,122985.78717],[1513641600000,123082.82717],[1513728000000,123018.62717],[1513814400000,122658.07717],[1513900800000,121600.96717],[1514246400000,120925.91717],[1514332800000,120823.93717],[1514419200000,121284.20717],[1514505600000,121447.60717],[1514851200000,121644.83717],[1514937600000,123132.39717],[1515024000000,124981.81717],[1515110400000,125639.48717],[1515369600000,126518.62717],[1515456000000,127823.92717],[1515542400000,126557.66717],[1515628800000,127173.78717],[1515715200000,128363.84717],[1516060800000,130730.97717],[1516147200000,129984.17217],[1516233600000,131243.84717],[1516320000000,131715.71717],[1516579200000,131888.29717],[1516665600000,135046.56717],[1516752000000,135474.79717],[1516838400000,136188.25717],[1516924800000,136360.69217],[1517184000000,137333.9771700001],[1517270400000,135252.880145],[1517356800000,135285.855145],[1517443200000,134583.145145],[1517529600000,132530.435145],[1517788800000,129840.626095],[1517875200000,123117.216095],[1517961600000,127527.056095],[1518048000000,126746.716095],[1518134400000,122224.326095],[1518393600000,124303.371095],[1518480000000,124376.766095],[1518566400000,124919.046095],[1518652800000,129683.381095],[1518739200000,131087.741095],[1519084800000,130128.026095],[1519171200000,131112.636095],[1519257600000,131089.116095],[1519344000000,131581.986095],[1519603200000,133918.836095],[1519689600000,134547.386095],[1519776000000,133587.296095],[1519862400000,131280.236095],[1519948800000,128556.216095],[1520208000000,131173.624775],[1520294400000,134596.484775],[1520380800000,132627.179735],[1520467200000,134624.429735],[1520553600000,135514.834735],[1520812800000,138387.109735],[1520899200000,138240.399735],[1520985600000,136185.529735],[1521072000000,135769.169735],[1521158400000,135935.559735],[1521417600000,134093.269735],[1521504000000,133319.649735],[1521590400000,133829.746375],[1521676800000,132443.726375],[1521763200000,130163.166375],[1522022400000,129881.696375],[1522108800000,133432.598975],[1522195200000,126399.208975],[1522281600000,125054.328975],[1522627200000,126119.378975],[1522713600000,124449.458975],[1522800000000,122086.193975],[1522886400000,127369.5939750001],[1522972800000,125979.373975],[1523232000000,125457.153975],[1523318400000,127238.233575],[1523404800000,127481.478575],[1523491200000,128781.669695],[1523577600000,130582.1083150001],[1523836800000,129876.904315],[1523923200000,132061.404315],[1524009600000,133935.601915],[1524096000000,132829.634315],[1524182400000,131391.483915],[1524441600000,130650.810115],[1524528000000,130036.849315],[1524614400000,126428.474315],[1524700800000,127900.693915],[1524787200000,129686.663915],[1525046400000,128927.423915],[1525132800000,127476.263915],[1525219200000,128539.683915],[1525305600000,126792.465915],[1525392000000,127235.973915],[1525651200000,130575.994415],[1525737600000,131134.938915],[1525824000000,132383.561915],[1525910400000,134315.683915],[1525996800000,135007.933915],[1526256000000,135544.503915],[1526342400000,133966.202715],[1526428800000,134256.133915],[1526515200000,134546.713915],[1526601600000,134165.343915],[1526860800000,135324.167915],[1526947200000,136421.269915],[1527033600000,133997.193915],[1527120000000,137022.233915],[1527206400000,137677.693915],[1527552000000,137198.754915],[1527638400000,138285.223915],[1527724800000,139119.272915],[1527811200000,139420.853915]]},{\"name\":\"close\",\"yAxis\":0,\"data\":[[1483401600000,100000.0],[1483488000000,100526.679502278],[1483574400000,101091.6988778614],[1483660800000,101949.4084705262],[1483920000000,102312.2425344143],[1484006400000,102521.3506060266],[1484092800000,102827.6420102392],[1484179200000,102648.7701106176],[1484265600000,103017.0202160879],[1484611200000,102714.4548855953],[1484697600000,102942.4987416866],[1484784000000,102847.1275432999],[1484870400000,103092.0099948365],[1485129600000,103142.9940855198],[1485216000000,103863.042561128],[1485302400000,104889.4435241246],[1485388800000,105000.3909323248],[1485475200000,105227.1520417256],[1485734400000,104438.5478818798],[1485820800000,104182.8537082375],[1485907200000,104914.1822102988],[1485993600000,104812.6823332796],[1486080000000,105095.5992422429],[1486339200000,105225.2381022191],[1486425600000,105589.9861056137],[1486512000000,105807.8290713566],[1486598400000,106125.0136419093],[1486684800000,106420.9005451877],[1486944000000,107034.3385180733],[1487030400000,107324.5650470666],[1487116800000,107962.375207072],[1487203200000,107926.6619103234],[1487289600000,108416.9969230369],[1487635200000,108946.4658903402],[1487721600000,108975.0935387032],[1487808000000,108572.7182990535],[1487894400000,108795.5090020312],[1488153600000,108881.7991682915],[1488240000000,108530.6523520281],[1488326400000,109766.2224698127],[1488412800000,109201.610315401],[1488499200000,109409.6799730257],[1488758400000,109141.6469978841],[1488844800000,108957.7459167933],[1488931200000,109131.3035801257],[1489017600000,109216.3109996954],[1489104000000,109662.5846816427],[1489363200000,109839.2372258791],[1489449600000,109586.6379331409],[1489536000000,110280.6649758844],[1489622400000,110195.6371952561],[1489708800000,110128.2013692405],[1489968000000,110220.7016583675],[1490054400000,108575.9760684262],[1490140800000,109289.1017841174],[1490227200000,109036.4210471449],[1490313600000,109216.6367766327],[1490572800000,109425.8873756551],[1490659200000,110096.4584789149],[1490745600000,110566.0455729358],[1490832000000,110758.9055198015],[1490918400000,110687.4789263044],[1491177600000,110605.3220549358],[1491264000000,110772.4252626984],[1491350400000,110326.8642178015],[1491436800000,110374.834871815],[1491523200000,110323.7693368974],[1491782400000,110391.1440797372],[1491868800000,109917.0979138874],[1491955200000,109482.0431752175],[1492041600000,109004.6781568193],[1492387200000,109933.3256775753],[1492473600000,109779.8236569439],[1492560000000,109942.3252654675],[1492646400000,110836.0535707596],[1492732800000,110805.9192040618],[1492992000000,112149.4232933768],[1493078400000,112967.1234059328],[1493164800000,112822.3766404905],[1493251200000,113437.178804301],[1493337600000,113686.6017719008],[1493596800000,114625.2872945366],[1493683200000,114919.1584530157],[1493769600000,114534.2122795101],[1493856000000,114557.7496632281],[1493942400000,114960.4506798151],[1494201600000,115224.6557759437],[1494288000000,115616.3821819562],[1494374400000,115685.019310428],[1494460800000,115533.1054523658],[1494547200000,115789.4511798827],[1494806400000,116149.2514460424],[1494892800000,116555.6174531737],[1494979200000,113625.8443730993],[1495065600000,114557.6071358181],[1495152000000,115071.8053091868],[1495411200000,116045.8579905753],[1495497600000,116126.2027277304],[1495584000000,116674.9943396258],[1495670400000,117653.8318697805],[1495756800000,117857.116678639],[1496102400000,117984.8619601673],[1496188800000,117866.1162665312],[1496275200000,118430.3415608299],[1496361600000,119752.6905102807],[1496620800000,119684.6845746249],[1496707200000,119250.0370571267],[1496793600000,119673.9542967535],[1496880000000,119830.8769752263],[1496966400000,116912.0785057264],[1497225600000,116224.5873627869],[1497312000000,117113.0625149654],[1497398400000,116609.1263151208],[1497484800000,116076.094162566],[1497571200000,115680.9470987121],[1497830400000,117528.5706373989],[1497916800000,116593.7944380104],[1498003200000,117735.6833252704],[1498089600000,117684.2920134155],[1498176000000,118157.3608484535],[1498435200000,117637.8484387955],[1498521600000,115479.7391178287],[1498608000000,117137.8012011396],[1498694400000,115101.4713715372],[1498780800000,114977.2281920847],[1499040000000,113959.9693443902],[1499212800000,115015.8734812687],[1499299200000,113979.2919889823],[1499385600000,115171.6966625782],[1499644800000,115938.9624330325],[1499731200000,116257.5926387444],[1499817600000,117665.5191174052],[1499904000000,117958.8405273026],[1499990400000,118869.5295943914],[1500249600000,118903.2475073992],[1500336000000,119724.9383874368],[1500422400000,120459.3617704023],[1500508800000,120562.3683657563],[1500595200000,120568.4766833302],[1500854400000,120972.5215297833],[1500940800000,120754.2102596931],[1501027200000,121163.2435654983],[1501113600000,120476.9333639564],[1501200000000,120311.7440957003],[1501459200000,119729.7028751444],[1501545600000,120031.9424286997],[1501632000000,120419.9834831093],[1501718400000,119951.0479429631],[1501804800000,120128.3316800154],[1502064000000,120837.324100815],[1502150400000,120666.800235211],[1502236800000,120525.0669064385],[1502323200000,117853.6960207976],[1502409600000,118736.1442996366],[1502668800000,120296.5547459999],[1502755200000,120287.636602342],[1502841600000,120484.9759820953],[1502928000000,118019.1296217567],[1503014400000,117909.0577390755],[1503273600000,117819.9781077899],[1503360000000,119587.2569093216],[1503446400000,119148.5371801075],[1503532800000,118795.3949801032],[1503619200000,118552.8947724204],[1503878400000,118869.5295943914],[1503964800000,119359.3148585232],[1504051200000,120800.0837246729],[1504137600000,121934.3372149656],[1504224000000,121919.9419465498],[1504569600000,120796.6630668315],[1504656000000,121171.2047394029],[1504742400000,121439.7263799504],[1504828800000,120402.4118895551],[1505088000000,121769.7791395254],[1505174400000,122077.5161788972],[1505260800000,122255.5125529999],[1505347200000,121531.4122267343],[1505433600000,121922.0187745249],[1505692800000,121781.8736083216],[1505779200000,121984.6901128329],[1505865600000,121628.9213362719],[1505952000000,120841.1316187694],[1506038400000,120788.3150328139],[1506297600000,119465.4163347815],[1506384000000,119750.2268221926],[1506470400000,120899.6696621857],[1506556800000,120803.5858267486],[1506643200000,121744.8164817068],[1506902400000,121798.1828162439],[1506988800000,122065.7474870382],[1507075200000,122142.6512052932],[1507161600000,123329.88417001],[1507248000000,123481.0650299634],[1507507200000,123358.1045972013],[1507593600000,123459.7470016306],[1507680000000,123820.6874870708],[1507766400000,123591.3812453475],[1507852800000,124048.7924263378],[1508112000000,124498.2424334234],[1508198400000,124662.8005088636],[1508284800000,124494.679248172],[1508371200000,124052.1316399448],[1508457600000,124381.9604278755],[1508716800000,123547.4828030499],[1508803200000,123799.6952356752],[1508889600000,123287.0852248757],[1508976000000,122937.4451269472],[1509062400000,126512.8062914042],[1509321600000,126800.3247996065],[1509408000000,127227.2758369617],[1509494400000,127229.0268879996],[1509580800000,126979.5224761654],[1509667200000,128184.7138945493],[1509926400000,128551.6812533291],[1510012800000,128697.7107654618],[1510099200000,129207.4702280602],[1510185600000,128523.2164934348],[1510272000000,128459.2624084363],[1510531200000,128604.0295349372],[1510617600000,128145.1930798463],[1510704000000,127426.8142110416],[1510790400000,129071.6212452172],[1510876800000,128570.1487334608],[1511136000000,128449.9574046655],[1511222400000,129875.6387264077],[1511308800000,130028.1837772859],[1511481600000,130499.8273382233],[1511740800000,130432.2286237391],[1511827200000,130770.1000298086],[1511913600000,128506.2760926966],[1512000000000,129609.6011350069],[1512086400000,129045.8441450555],[1512345600000,127535.6237080909],[1512432000000,127564.2513564538],[1512518400000,128133.2614995187],[1512604800000,128606.0860018537],[1512691200000,129182.1614322458],[1512950400000,130186.3077582149],[1513036800000,129977.9123236529],[1513123200000,130202.2097449656],[1513209600000,130105.2503840096],[1513296000000,131661.1203143096],[1513555200000,132617.0720146209],[1513641600000,131953.2607828095],[1513728000000,131786.6258793942],[1513814400000,131790.7795353444],[1513900800000,131637.5829305917],[1514246400000,130985.9476118108],[1514332800000,131026.5068405013],[1514419200000,131154.1706777952],[1514505600000,130237.9230417141],[1514851200000,132577.8566157966],[1514937600000,133890.2693686606],[1515024000000,134068.9783798136],[1515110400000,135468.0070758752],[1515369600000,135943.3156273569],[1515456000000,135969.8053645689],[1515542400000,135658.8105558244],[1515628800000,136591.9985926436],[1515715200000,137611.0084913759],[1516060800000,137175.2411156557],[1516147200000,138664.6118286349],[1516233600000,138686.8868267209],[1516320000000,139154.1527600637],[1516579200000,140619.1105638059],[1516665600000,141783.5187818549],[1516752000000,140885.3314047339],[1516838400000,140823.2912592419],[1516924800000,142995.1646558086],[1517184000000,142289.511448616],[1517270400000,141116.9384460766],[1517356800000,141509.1127953779],[1517443200000,140521.9272312056],[1517529600000,137646.6403438902],[1517788800000,132263.7669261481],[1517875200000,135726.4092703086],[1517961600000,134016.9558751428],[1518048000000,128398.9122308065],[1518134400000,130568.953132101],[1518393600000,132832.53273651],[1518480000000,133443.5884655418],[1518566400000,135910.6972115123],[1518652800000,138351.8048856767],[1518739200000,137857.8863266534],[1519084800000,138041.7670466855],[1519171200000,137625.7295367289],[1519257600000,137678.5257616258],[1519344000000,140422.1173220485],[1519603200000,142305.4337964253],[1519689600000,140498.4712917219],[1519776000000,139563.2064269275],[1519862400000,137448.2014669736],[1519948800000,138679.9640668039],[1520208000000,140110.1655435507],[1520294400000,140756.4662649838],[1520380800000,141089.65462758],[1520467200000,141843.8078763091],[1520553600000,144587.5419641418],[1520812800000,145197.172419073],[1520899200000,143474.4436137133],[1520985600000,143361.806237651],[1521072000000,143157.9716802109],[1521158400000,142933.5928146639],[1521417600000,139776.2849049628],[1521504000000,140204.5797721843],[1521590400000,139543.5580053982],[1521676800000,136057.7651376327],[1521763200000,132511.6017311787],[1522022400000,137515.1689886418],[1522108800000,132954.4547552846],[1522195200000,131548.9105204776],[1522281600000,133998.6716445383],[1522627200000,130124.1861684886],[1522713600000,131508.6567076657],[1522800000000,133569.7455845009],[1522886400000,134277.9235629572],[1522972800000,130987.0674700326],[1523232000000,131783.775331193],[1523318400000,134706.1369859444],[1523404800000,134045.9093004429],[1523491200000,135528.3776145636],[1523577600000,134960.1004696075],[1523836800000,135913.7310092407],[1523923200000,138788.4477869158],[1524009600000,139131.4094576303],[1524096000000,137943.8710770349],[1524182400000,135762.4483439944],[1524441600000,135376.7080892043],[1524528000000,132531.0872642394],[1524614400000,132630.7342849278],[1524700800000,135393.9539058212],[1524787200000,135530.3729983044],[1525046400000,134496.3977215161],[1525132800000,136051.7993474688],[1525219200000,135288.5854276718],[1525305600000,135268.285452268],[1525392000000,137826.3877690307],[1525651200000,138900.5964975722],[1525737600000,138770.4689721901],[1525824000000,140353.1544166394],[1525910400000,141785.1883886584],[1525996800000,141561.5425212203],[1526256000000,141801.965900928],[1526342400000,140257.864662487],[1526428800000,141101.423319439],[1526515200000,140524.5538077624],[1526601600000,139804.1999162754],[1526860800000,140603.9212141055],[1526947200000,140361.4210064228],[1527033600000,141583.2474096662],[1527120000000,141503.2284494484],[1527206400000,141731.6591656528],[1527552000000,141031.7477769797],[1527638400000,142046.2171596486],[1527724800000,141870.3586966968],[1527811200000,144236.2322594097]]}],\"xAxis\":{\"title\":{\"text\":\"date\"},\"type\":\"datetime\"}});</script>"
      ],
      "text/plain": [
       "<IPython.core.display.HTML object>"
      ]
     },
     "metadata": {},
     "output_type": "display_data"
    }
   ],
   "source": [
    "df = show_df.dropna(how='any', inplace=False).copy()\n",
    "# df.drop(columns=['open', 'high', 'low', 'o_pct_chg', 'TR', 'N'], inplace=True)\n",
    "df = df.loc[:, ['close', 'CASH_TURTLE_20_60_60', 'PROPERTY_TURTLE_20_60_60']]\n",
    "# df.drop(columns=['CASH_TURTLE_20_60_60'], inplace=True)\n",
    "df.columns\n",
    "df.index\n",
    "\n",
    "# df.reset_index(drop=False, inplace=True)\n",
    "# df = df.astype(dtype={'date': 'datetime64[ns]'})\n",
    "# df = df.astype(dtype={'date': 'datetime'})\n",
    "df.index.dtype\n",
    "df.index = df.index.astype('datetime64[ns]')\n",
    "# df.set_index('date', inplace=True)\n",
    "# df.index.astype()\n",
    "\n",
    "# df['close'] = (df['close'] - df.iloc[0]['close']) / df.iloc[0]['close']\n",
    "df['close'] = df['close'] / df.iloc[0]['close'] * 100000\n",
    "\n",
    "# df\n",
    "\n",
    "display_charts(df, chart_type='stock', figsize=(900, 600), logy=False)\n",
    "\n",
    "\n",
    "# pi = pd.period_range('2016-01-01', periods=3, freq='M')\n",
    "# pi.dtype\n",
    "# pi.astype('period[D]')\n",
    "# pi.astype('datetime64[ns]')"
   ]
  }
 ],
 "metadata": {
  "kernelspec": {
   "display_name": "Python 3",
   "language": "python",
   "name": "python3"
  },
  "language_info": {
   "codemirror_mode": {
    "name": "ipython",
    "version": 3
   },
   "file_extension": ".py",
   "mimetype": "text/x-python",
   "name": "python",
   "nbconvert_exporter": "python",
   "pygments_lexer": "ipython3",
   "version": "3.5.5"
  }
 },
 "nbformat": 4,
 "nbformat_minor": 2
}
