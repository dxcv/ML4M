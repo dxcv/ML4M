{
 "cells": [
  {
   "cell_type": "code",
   "execution_count": 1,
   "metadata": {
    "scrolled": true
   },
   "outputs": [
    {
     "data": {
      "text/html": [
       "\n",
       "<script src=\"//code.highcharts.com/stock/highstock.js\"></script>\n",
       "<script src=\"//code.highcharts.com/highcharts-more.js\"></script>\n",
       "<script src=\"//code.highcharts.com/modules/exporting.js\"></script>\n"
      ],
      "text/plain": [
       "<IPython.core.display.HTML object>"
      ]
     },
     "metadata": {},
     "output_type": "display_data"
    },
    {
     "data": {
      "text/plain": [
       "<module 'pandas' from '/usr/local/lib/python3.6/site-packages/pandas/__init__.py'>"
      ]
     },
     "execution_count": 1,
     "metadata": {},
     "output_type": "execute_result"
    }
   ],
   "source": [
    "import os\n",
    "import sys\n",
    "sys.path.append(os.path.abspath(os.path.join(os.getcwd(), '..')))\n",
    "\n",
    "import pandas as pd\n",
    "pd.core.common.is_list_like = pd.api.types.is_list_like\n",
    "# import empyrical as emp\n",
    "import time\n",
    "import random\n",
    "# from concurrent.futures import ProcessPoolExecutor\n",
    "\n",
    "from common.log import *\n",
    "from common.config import Config\n",
    "from spider.spider_nasdaq import Spider_nasdaq\n",
    "\n",
    "from IPython.core.interactiveshell import InteractiveShell\n",
    "InteractiveShell.ast_node_interactivity = 'all'\n",
    "\n",
    "from pandas_highcharts.core import serialize\n",
    "from pandas_highcharts.display import display_charts\n",
    "\n",
    "CONF = Config().data[0]\n",
    "MONGODB = CONF['MONGODB']\n",
    "NASDAQ = CONF['NASDAQ']\n",
    "CRYPTOCURRENCY = CONF['CRYPTOCURRENCY']\n",
    "NASDAQ100 = CONF['NASDAQ100']\n",
    "\n",
    "pd"
   ]
  },
  {
   "cell_type": "code",
   "execution_count": 2,
   "metadata": {
    "scrolled": false
   },
   "outputs": [
    {
     "name": "stdout",
     "output_type": "stream",
     "text": [
      "CPU times: user 0 ns, sys: 0 ns, total: 0 ns\n",
      "Wall time: 32.7 µs\n"
     ]
    }
   ],
   "source": [
    "%%time\n",
    "\n",
    "spider = Spider_nasdaq()\n",
    "timeframe = '10y'\n",
    "ignore = True\n",
    "\n",
    "# for symbol in NASDAQ100:\n",
    "for symbol in ['NDX', 'TSLA']:\n",
    "#     if symbol == 'SHPG':\n",
    "#         ignore = False\n",
    "#     if ignore:\n",
    "#         continue\n",
    "#     datafile = spider.get_stock_data(symbol, timeframe)\n",
    "#     print(datafile)\n",
    "    pass"
   ]
  },
  {
   "cell_type": "code",
   "execution_count": 3,
   "metadata": {},
   "outputs": [
    {
     "name": "stdout",
     "output_type": "stream",
     "text": [
      "CPU times: user 0 ns, sys: 0 ns, total: 0 ns\n",
      "Wall time: 28.8 µs\n"
     ]
    }
   ],
   "source": [
    "%%time\n",
    "\n",
    "### 时间设置\n",
    "start_date = '2008-06-02'\n",
    "# start_date = '2010-01-01'\n",
    "# start_date = '2015-01-01'\n",
    "start_date = '2017-01-01'\n",
    "start_date = '2018-01-01'\n",
    "end_date = '2018-06-01'\n",
    "\n",
    "TURTLE_POS = 20\n",
    "### Turtle System One - Short\n",
    "TURTLE_SHORT_BUY_N = 20\n",
    "TURTLE_SHORT_SELL_N = 20\n",
    "### Turtle System Two - Long\n",
    "TURTLE_LONG_BUY_N = 60\n",
    "TURTLE_LONG_SELL_N = 60\n",
    "\n",
    "### 业务设置\n",
    "IS_HAPPYMONEY = False\n",
    "IS_TAX = False\n",
    "IS_SLIPPAGE = False\n",
    "IS_RANDOM_BUY = False\n",
    "START_MONEY = 100000\n",
    "HAPPY_MONEY = 0\n",
    "PROPERTY = START_MONEY\n",
    "CASH = START_MONEY\n"
   ]
  },
  {
   "cell_type": "code",
   "execution_count": 4,
   "metadata": {},
   "outputs": [
    {
     "name": "stdout",
     "output_type": "stream",
     "text": [
      "CPU times: user 2min 55s, sys: 395 ms, total: 2min 55s\n",
      "Wall time: 2min 56s\n"
     ]
    }
   ],
   "source": [
    "%%time\n",
    "\n",
    "stock_df_dict = {}\n",
    "\n",
    "for symbol in NASDAQ100[:]:\n",
    "    stock_data_file = '../database/market/%s.csv' % symbol\n",
    "    stock_df = pd.read_csv(stock_data_file)\n",
    "\n",
    "    # 筛选字段\n",
    "#     stock_df = stock_df.loc[:, ['date', 'open', 'close']]\n",
    "\n",
    "    # 去掉Nasdaq行情首行的当天行情\n",
    "    if symbol in NASDAQ:\n",
    "        stock_df = stock_df.drop([0])\n",
    "\n",
    "    # 抛弃空值异常值\n",
    "    stock_df.dropna(axis=0, how='any', inplace=True)\n",
    "\n",
    "    # 格式化日期\n",
    "    # 1.48 s ± 45.8 ms per loop (mean ± std. dev. of 7 runs, 1 loop each)\n",
    "#     stock_df['date'] = stock_df['date'].apply(lambda x: pd.Period(x, freq='D'))\n",
    "\n",
    "    # 445 ms ± 17.5 ms per loop (mean ± std. dev. of 7 runs, 1 loop each)\n",
    "    stock_df = stock_df.assign(date=pd.to_datetime(stock_df['date']))  # need .index.to_period('D')\n",
    "\n",
    "    # 476 ms ± 46.6 ms per loop (mean ± std. dev. of 7 runs, 1 loop each)\n",
    "#     stock_df['date'] = pd.to_datetime(stock_df['date'])  # need .index.to_period('D')\n",
    "    \n",
    "    # 转换字段格式\n",
    "#     stock_df = stock_df.astype(dtype={'volume': 'float64'})\n",
    "\n",
    "    # 用日期作索引，日期升序排序\n",
    "    # 95.1 µs ± 1.58 µs per loop (mean ± std. dev. of 7 runs, 10000 loops each)\n",
    "    stock_df = stock_df[::-1]\n",
    "    \n",
    "    # 407 µs ± 5.07 µs per loop (mean ± std. dev. of 7 runs, 1000 loops each)\n",
    "#     %timeit stock_df.set_index(['date'], inplace=False)\n",
    "\n",
    "    # Wall time: 500 µs\n",
    "    stock_df.set_index(['date'], inplace=True)\n",
    "    \n",
    "    # 305 µs ± 2.75 µs per loop (mean ± std. dev. of 7 runs, 1000 loops each)\n",
    "#     stock_df = stock_df.sort_index(axis=0, ascending=True)\n",
    "    \n",
    "    # 822 µs ± 41.3 µs per loop (mean ± std. dev. of 7 runs, 1000 loops each)\n",
    "    stock_df.index = stock_df.index.to_period('D')\n",
    "\n",
    "    # 计算涨跌幅\n",
    "#     stock_df['c_pct_chg'] = stock_df.close.pct_change(1)\n",
    "    stock_df['o_pct_chg'] = stock_df.open.pct_change(1)\n",
    "    \n",
    "    # Turtle指标\n",
    "#     stock_df['TR1'] = abs(stock_df['high'] - stock_df['low'])\n",
    "#     stock_df['TR2'] = abs(stock_df['high'] - stock_df['close'].shift())\n",
    "#     stock_df['TR3'] = abs(stock_df['low'] - stock_df['close'].shift())\n",
    "#     stock_df['TR'] = stock_df[['TR1', 'TR2', 'TR3']].max(axis=1)\n",
    "#     stock_df['N'] = stock_df['TR'].rolling(20).mean()\n",
    "#     stock_df['UNIT'] = (0.01 * START_MONEY) / (stock_df['N'])\n",
    "    stock_df['ROLLING_%d_MAX' % TURTLE_SHORT_BUY_N] = stock_df['open'].rolling(TURTLE_SHORT_BUY_N).max()\n",
    "    stock_df['ROLLING_%d_MIN' % TURTLE_SHORT_SELL_N] = stock_df['open'].rolling(TURTLE_SHORT_SELL_N).min()\n",
    "    stock_df['ROLLING_%d_MAX' % TURTLE_LONG_BUY_N] = stock_df['open'].rolling(TURTLE_LONG_BUY_N).max()\n",
    "    stock_df['ROLLING_%d_MIN' % TURTLE_LONG_SELL_N] = stock_df['open'].rolling(TURTLE_LONG_SELL_N).min()\n",
    "#     stock_df['MA%d' % TURTLE_BUY_N] = stock_df['open'].rolling(TURTLE_BUY_N).mean()\n",
    "#     stock_df['MA%d' % TURTLE_SELL_N] = stock_df['open'].rolling(TURTLE_SELL_N).mean()\n",
    "#     stock_df['EWMA'] = stock_df['open'].ewm(alpha=0.1, adjust=False).mean()\n",
    "#     stock_df['MA360'] = stock_df['open'].rolling(360).mean()\n",
    "    stock_df['MA180'] = stock_df['open'].rolling(180).mean()\n",
    "    stock_df['MA60'] = stock_df['open'].rolling(30).mean()\n",
    "    stock_df['MA30'] = stock_df['open'].rolling(30).mean()\n",
    "    \n",
    "#     stock_df['ops'] = ''\n",
    "#     stock_df['profit'] = 0\n",
    "    \n",
    "    # 减少数据\n",
    "    # stock_df = stock_df['2016-01-01':]\n",
    "    stock_df.dropna(how='any', inplace=True)\n",
    "#     stock_df.drop(columns=['volume', 'TR1', 'TR2', 'TR3'], inplace=True)\n",
    "    \n",
    "    stock_df_dict[symbol] = stock_df\n",
    "    \n",
    "#     print(stock_df.head(10))\n",
    "#     print(stock_df.dtypes)\n",
    "#     print(stock_df.index[0])\n",
    "#     print(type(stock_df.index[0]))"
   ]
  },
  {
   "cell_type": "code",
   "execution_count": 5,
   "metadata": {
    "scrolled": false
   },
   "outputs": [],
   "source": [
    "# %matplotlib inline\n",
    "\n",
    "# import matplotlib\n",
    "# import matplotlib.pyplot as plt\n",
    "# plt.rcParams['figure.figsize'] = [30, 20]\n",
    "\n",
    "# df = stock_df_dict['TSLA'].iloc[800:].copy()\n",
    "# df.columns\n",
    "# df.tail(10)\n",
    "# # df[(df.open == df.rolling_60_max)]\n",
    "# # df[(df.open >= df.rolling_60_max) & (df.MA30 > df.MA60)]\n",
    "# # df[(df.MA30 > df.MA60)]\n",
    "\n",
    "# # df = df.loc[:, ['open', 'ROLLING_60_MAX', 'rolling_30_min', 'MA60', 'MA30']]\n",
    "\n",
    "# df.reset_index(drop=False, inplace=True)\n",
    "# df = df.astype(dtype={'date': 'datetime64[ns]'})\n",
    "# df.set_index('date', inplace=True)\n",
    "# # df.index.astype()\n",
    "\n",
    "# display_charts(df, chart_type='stock', kind='line', y=['open', 'ROLLING_60_MAX', 'ROLLING_60_MIN'], figsize=(900, 600), logy=False)\n",
    "\n",
    "# # display_charts(df)\n",
    "\n",
    "# # ax = df.plot(kind='line', y=['open', 'rolling_max', 'rolling_min'], label='', linewidth=1)\n",
    "\n",
    "# # sum_buy_sig_short = 0\n",
    "# # sum_buy_sig_long = 0\n",
    "# # for symbol in NASDAQ100:\n",
    "# #     tdf = stock_df_dict[symbol]\n",
    "# #     buy_sig_short = tdf[(stock_df_dict[symbol].open == stock_df_dict[symbol]['ROLLING_%d_MAX' % TURTLE_SHORT_BUY_N])]\n",
    "# #     buy_sig_long = tdf[(stock_df_dict[symbol].open == stock_df_dict[symbol]['ROLLING_%d_MAX' % TURTLE_LONG_BUY_N])]\n",
    "# #     buy_sig_short_2 = buy_sig_short[buy_sig_short.MA30 >= buy_sig_short.MA180]\n",
    "# #     buy_sig_long_2 = buy_sig_long[buy_sig_long.MA30 >= buy_sig_long.MA180]\n",
    "# # #     print(symbol, len(tdf), len(buy_sig_short), len(buy_sig_short_2), len(buy_sig_long), len(buy_sig_long_2))\n",
    "# #     sum_buy_sig_short += len(buy_sig_short_2)\n",
    "# #     sum_buy_sig_long += len(buy_sig_long_2)\n",
    "# # print(len(stock_df_dict['NDX']), sum_buy_sig_short, sum_buy_sig_long)"
   ]
  },
  {
   "cell_type": "code",
   "execution_count": 6,
   "metadata": {
    "scrolled": false
   },
   "outputs": [],
   "source": [
    "# algo = stock_df_dict['TSLA'].open.pct_change()\n",
    "# benchmark = stock_df_dict['NDX'].open.pct_change()\n",
    "\n",
    "# 'cum_returns', emp.cum_returns(algo)[-1]\n",
    "# 'max_drawdown', emp.max_drawdown(algo), emp.max_drawdown(benchmark)\n",
    "# 'annual_return', emp.annual_return(algo), emp.annual_return(benchmark)\n",
    "# 'annual_volatility', emp.annual_volatility(algo, period='daily')\n",
    "# 'calmar_ratio', emp.calmar_ratio(algo)\n",
    "# 'sharpe_ratio', emp.sharpe_ratio(returns=algo)\n",
    "# 'alpha', emp.alpha(returns=algo, factor_returns=benchmark, risk_free=0.00)\n",
    "# 'beta', emp.beta(returns=algo, factor_returns=benchmark, risk_free=0.00)\n",
    "\n",
    "# emp_df = None\n",
    "# emp_df = pd.DataFrame(columns=[\n",
    "#     'symbol', 'cum_returns', 'annual_return', 'annual_volatility', 'max_drawdown', 'alpha', 'beta', 'sharpe_ratio', 'calmar_ratio'\n",
    "# ])\n",
    "\n",
    "# for symbol in NASDAQ100:\n",
    "#     algo = stock_df_dict[symbol].open.pct_change()\n",
    "#     emp_df = emp_df.append(\n",
    "#         {\n",
    "#             'symbol': symbol,\n",
    "#             'cum_returns': emp.cum_returns(algo)[-1],\n",
    "#             'annual_return': emp.annual_return(algo),\n",
    "#             'annual_volatility': emp.annual_volatility(algo, period='daily'),\n",
    "#             'max_drawdown': emp.max_drawdown(algo),\n",
    "#             'alpha': round(emp.alpha(returns=algo, factor_returns=benchmark, risk_free=0.00), 2),\n",
    "#             'beta': round(emp.beta(returns=algo, factor_returns=benchmark, risk_free=0.00), 2),\n",
    "#             'sharpe_ratio': emp.sharpe_ratio(returns=algo),\n",
    "#             'calmar_ratio': emp.calmar_ratio(algo)\n",
    "#         },\n",
    "#         ignore_index=True,\n",
    "#     )\n",
    "\n",
    "# # emp_df\n",
    "# # emp_df.sort_values('cum_returns', ascending=False)\n",
    "# emp_df.sort_values('sharpe_ratio', ascending=False)"
   ]
  },
  {
   "cell_type": "code",
   "execution_count": 7,
   "metadata": {},
   "outputs": [
    {
     "name": "stdout",
     "output_type": "stream",
     "text": [
      "CPU times: user 0 ns, sys: 1 ms, total: 1 ms\n",
      "Wall time: 7.19 ms\n"
     ]
    }
   ],
   "source": [
    "%%time\n",
    "\n",
    "show_df = None\n",
    "show_df = stock_df_dict['NDX'].copy()"
   ]
  },
  {
   "cell_type": "code",
   "execution_count": 20,
   "metadata": {
    "scrolled": false
   },
   "outputs": [
    {
     "name": "stdout",
     "output_type": "stream",
     "text": [
      "2018-01-02 0 0.03727555274963379 0.003995418548583984 0.028963565826416016 0.030092239379882812\n",
      "2018-01-03 9 0.7027409076690674 0.0013875961303710938 0.6045255661010742 0.6795260906219482\n",
      "2018-01-04 29 1.0055274963378906 0.03433585166931152 0.8131916522979736 0.94380784034729\n",
      "2018-01-05 53 0.9442720413208008 0.06048417091369629 0.8335926532745361 0.840576171875\n",
      "2018-01-08 70 0.8415889739990234 0.06016063690185547 0.6966981887817383 0.7077028751373291\n",
      "2018-01-09 97 1.1241276264190674 0.06125068664550781 0.9281513690948486 0.9422004222869873\n",
      "2018-01-10 108 0.8528504371643066 0.07262110710144043 0.6311507225036621 0.6446967124938965\n",
      "2018-01-11 124 0.9821882247924805 0.06719756126403809 0.7365682125091553 0.7514848709106445\n",
      "2018-01-12 150 1.2342844009399414 0.07610797882080078 0.9393203258514404 0.9569985866546631\n",
      "2018-01-16 187 1.6014816761016846 0.0640866756439209 1.2211158275604248 1.2452969551086426\n",
      "2018-01-17 202 1.1609954833984375 0.06527423858642578 0.7630183696746826 0.7866034507751465\n",
      "2018-01-18 229 1.571230173110962 0.06334185600280762 1.107362985610962 1.1362173557281494\n",
      "2018-01-19 251 1.4507644176483154 0.06101226806640625 0.8971688747406006 0.9291927814483643\n",
      "2018-01-22 276 1.5115606784820557 0.06682300567626953 0.9768884181976318 1.010455846786499\n",
      "2018-01-23 314 1.8581740856170654 0.06932735443115234 1.2520396709442139 1.2881128787994385\n",
      "2018-01-24 355 2.044904947280884 0.06565690040588379 1.3404953479766846 1.3815076351165771\n",
      "2018-01-25 386 1.908750057220459 0.0663292407989502 1.1471259593963623 1.1912791728973389\n",
      "2018-01-26 408 1.835357666015625 0.06628084182739258 1.0339977741241455 1.0805583000183105\n",
      "2018-01-29 443 2.090019941329956 0.0650641918182373 1.2420635223388672 1.2923696041107178\n",
      "2018-01-30 456 1.6804742813110352 0.0652780532836914 0.799882173538208 0.8516616821289062\n",
      "2018-01-31 467 1.660658597946167 0.06683111190795898 0.7623021602630615 0.8153219223022461\n",
      "2018-02-01 473 1.6065335273742676 0.06555581092834473 0.668785572052002 0.722531795501709\n",
      "2018-02-02 480 1.7614989280700684 0.06259512901306152 0.6951189041137695 0.7496016025543213\n",
      "2018-02-05 483 1.5349349975585938 0.06431245803833008 0.6019532680511475 0.6567122936248779\n",
      "2018-02-06 483 1.4883475303649902 0.06260347366333008 0.5425958633422852 0.5976123809814453\n",
      "2018-02-07 483 1.4696526527404785 0.061432838439941406 0.536686897277832 0.5915219783782959\n",
      "2018-02-08 483 1.4670538902282715 0.06076455116271973 0.5369317531585693 0.5914630889892578\n",
      "2018-02-09 483 1.493680477142334 0.0807349681854248 0.5537819862365723 0.6086447238922119\n",
      "2018-02-12 483 1.4627704620361328 0.06272292137145996 0.5218706130981445 0.5784075260162354\n",
      "2018-02-13 483 1.492213249206543 0.06102395057678223 0.5172791481018066 0.5742104053497314\n",
      "2018-02-14 483 1.4647126197814941 0.06391692161560059 0.5338499546051025 0.5885224342346191\n",
      "2018-02-15 486 1.6066105365753174 0.060988664627075195 0.5962285995483398 0.7201240062713623\n",
      "2018-02-16 490 1.5940132141113281 0.06588864326477051 0.6194536685943604 0.674962043762207\n",
      "2018-02-20 492 1.5434296131134033 0.06699895858764648 0.5861048698425293 0.6419034004211426\n",
      "2018-02-21 500 1.707773208618164 0.06543231010437012 0.7243807315826416 0.7810022830963135\n",
      "2018-02-22 505 1.625856876373291 0.06593084335327148 0.6482625007629395 0.7058351039886475\n",
      "2018-02-23 509 1.636995792388916 0.06666374206542969 0.6384596824645996 0.6961324214935303\n",
      "2018-02-26 520 1.7699434757232666 0.06223583221435547 0.7707767486572266 0.8308546543121338\n",
      "2018-02-27 533 1.8522484302520752 0.06209516525268555 0.8235933780670166 0.8838908672332764\n",
      "2018-02-28 537 1.6800282001495361 0.06416821479797363 0.6370804309844971 0.6976661682128906\n",
      "2018-03-01 537 1.6178088188171387 0.06711697578430176 0.5414223670959473 0.6050479412078857\n",
      "2018-03-02 537 1.6142888069152832 0.06439828872680664 0.5411465167999268 0.6048188209533691\n",
      "2018-03-05 541 1.6937625408172607 0.06855225563049316 0.6346340179443359 0.6964578628540039\n",
      "2018-03-06 552 1.8485949039459229 0.06641626358032227 0.7811367511749268 0.8431456089019775\n",
      "2018-03-07 561 1.8375015258789062 0.0664522647857666 0.7455344200134277 0.8092360496520996\n",
      "2018-03-08 580 2.0750370025634766 0.06233358383178711 0.9497952461242676 1.015566110610962\n",
      "2018-03-09 595 2.042509078979492 0.06824827194213867 0.8767166137695312 0.9438819885253906\n",
      "2018-03-12 629 2.4895145893096924 0.06790614128112793 1.2776026725769043 1.3486130237579346\n",
      "2018-03-13 656 2.4223055839538574 0.06790733337402344 1.1523842811584473 1.228724479675293\n",
      "2018-03-14 660 2.0238583087921143 0.06726264953613281 0.6915469169616699 0.7657167911529541\n",
      "2018-03-15 661 1.9141533374786377 0.06595039367675781 0.6330225467681885 0.7072410583496094\n",
      "2018-03-16 666 2.021946430206299 0.06713199615478516 0.718977689743042 0.7941696643829346\n",
      "2018-03-19 667 1.9126698970794678 0.06442379951477051 0.6297566890716553 0.7044827938079834\n",
      "2018-03-20 667 1.9384963512420654 0.07786369323730469 0.6069583892822266 0.6850264072418213\n",
      "2018-03-21 668 2.011829376220703 0.06221485137939453 0.6133997440338135 0.7795999050140381\n",
      "2018-03-22 668 1.939685583114624 0.08500099182128906 0.6163311004638672 0.6946506500244141\n",
      "2018-03-23 668 1.8969933986663818 0.056681156158447266 0.6043810844421387 0.6842403411865234\n",
      "2018-03-26 668 1.921523094177246 0.060164451599121094 0.6359522342681885 0.7110984325408936\n",
      "2018-03-27 670 2.0261964797973633 0.060387372970581055 0.6541709899902344 0.8230268955230713\n",
      "2018-03-28 670 1.9418299198150635 0.08679652214050293 0.6189522743225098 0.6981291770935059\n",
      "2018-03-29 670 1.9156901836395264 0.06029224395751953 0.5889596939086914 0.6672289371490479\n",
      "2018-04-02 670 1.9191911220550537 0.056550025939941406 0.6053555011749268 0.6807034015655518\n",
      "2018-04-03 670 1.8985493183135986 0.06220436096191406 0.594066858291626 0.6714527606964111\n",
      "2018-04-04 670 1.9195585250854492 0.059009552001953125 0.5890710353851318 0.668067216873169\n",
      "2018-04-05 670 1.9311020374298096 0.05982375144958496 0.5896434783935547 0.669713020324707\n",
      "2018-04-06 670 1.9381167888641357 0.0785832405090332 0.6123790740966797 0.6905438899993896\n",
      "2018-04-09 670 1.8992183208465576 0.05433797836303711 0.6116549968719482 0.6875565052032471\n",
      "2018-04-10 671 1.9847469329833984 0.055368661880493164 0.6139576435089111 0.779310941696167\n",
      "2018-04-11 671 1.9140419960021973 0.05839419364929199 0.5870554447174072 0.6662821769714355\n",
      "2018-04-12 672 1.9891149997711182 0.05758786201477051 0.6256141662597656 0.7865192890167236\n",
      "2018-04-13 674 2.0327091217041016 0.060556888580322266 0.6502232551574707 0.8143353462219238\n",
      "2018-04-16 675 1.9296000003814697 0.06319904327392578 0.6228742599487305 0.7034797668457031\n",
      "2018-04-17 678 2.0123133659362793 0.0635690689086914 0.6982262134552002 0.775360107421875\n",
      "2018-04-18 687 2.1290435791015625 0.0647573471069336 0.8031144142150879 0.880986213684082\n",
      "2018-04-19 691 2.039706230163574 0.06685519218444824 0.7044112682342529 0.7826211452484131\n",
      "2018-04-20 691 1.9551608562469482 0.06396293640136719 0.6231789588928223 0.7021002769470215\n",
      "2018-04-23 691 2.0861127376556396 0.062195777893066406 0.6024713516235352 0.6828842163085938\n",
      "2018-04-24 695 2.10101580619812 0.06268095970153809 0.7170228958129883 0.7959926128387451\n",
      "2018-04-25 695 1.9426875114440918 0.06230497360229492 0.6180660724639893 0.6964952945709229\n",
      "2018-04-26 696 2.0790629386901855 0.07671856880187988 0.6655335426330566 0.8326859474182129\n",
      "2018-04-27 701 2.1991043090820312 0.05852675437927246 0.747624397277832 0.9244716167449951\n",
      "2018-04-30 708 2.7284271717071533 0.0717461109161377 0.8559410572052002 0.9867584705352783\n",
      "2018-05-01 710 2.359894037246704 0.06324887275695801 0.8003361225128174 0.8807971477508545\n",
      "2018-05-02 711 2.0062997341156006 0.0659029483795166 0.6377658843994141 0.7249433994293213\n",
      "2018-05-03 711 2.004610300064087 0.06525921821594238 0.6109530925750732 0.6954474449157715\n",
      "2018-05-04 711 2.197910785675049 0.0645914077758789 0.610713005065918 0.6944928169250488\n",
      "2018-05-07 718 2.606593370437622 0.0667257308959961 0.8258793354034424 0.9199533462524414\n",
      "2018-05-08 725 2.7154381275177 0.11490249633789062 1.027747631072998 1.109914779663086\n",
      "2018-05-09 732 2.306612253189087 0.14009332656860352 0.9059493541717529 0.9909889698028564\n",
      "2018-05-10 745 2.3356716632843018 0.06076455116271973 0.9207968711853027 1.0052695274353027\n"
     ]
    },
    {
     "name": "stdout",
     "output_type": "stream",
     "text": [
      "2018-05-11 758 2.3663759231567383 0.06622195243835449 0.9265866279602051 1.0129303932189941\n",
      "2018-05-14 770 2.3970861434936523 0.061618804931640625 0.9373865127563477 1.024681806564331\n",
      "2018-05-15 774 2.185697317123413 0.061495065689086914 0.7211976051330566 0.8113143444061279\n",
      "2018-05-16 779 2.66579008102417 0.06292295455932617 0.7924847602844238 0.9082674980163574\n",
      "2018-05-17 786 2.4333837032318115 0.06403255462646484 0.8410911560058594 0.9294674396514893\n",
      "2018-05-18 793 2.3402223587036133 0.06067919731140137 0.7870299816131592 0.8780362606048584\n",
      "2018-05-21 801 2.495682954788208 0.06116008758544922 0.8327121734619141 0.9270346164703369\n",
      "2018-05-22 807 2.483732223510742 0.06460285186767578 0.8245902061462402 0.916003942489624\n",
      "2018-05-23 807 2.37937331199646 0.07001662254333496 0.6891584396362305 0.7830448150634766\n",
      "2018-05-24 816 2.4654769897460938 0.0707857608795166 0.8681764602661133 0.9605655670166016\n",
      "2018-05-25 823 2.406904458999634 0.06414985656738281 0.8079698085784912 0.9005277156829834\n",
      "2018-05-29 825 2.3288373947143555 0.06949853897094727 0.7238693237304688 0.8174142837524414\n",
      "2018-05-30 832 2.4252254962921143 0.060688018798828125 0.8079156875610352 0.9019744396209717\n",
      "2018-05-31 843 2.511307954788208 0.0610806941986084 0.8862149715423584 0.9826059341430664\n",
      "2018-06-01 852 2.4997057914733887 0.06526899337768555 0.8557677268981934 0.9517278671264648\n",
      "109147.11\n",
      "0\n",
      "109147.11\n",
      "NDX 6431.589 7404.56 1.1512800335966742\n",
      "CPU times: user 3min 15s, sys: 1.07 s, total: 3min 16s\n",
      "Wall time: 3min 17s\n"
     ]
    }
   ],
   "source": [
    "%%time\n",
    "# %xmode\n",
    "\n",
    "PROPERTY = START_MONEY\n",
    "CASH = START_MONEY\n",
    "\n",
    "order_df = None\n",
    "order_df = pd.DataFrame(columns=[\n",
    "    'signal_date', 'signal_reason', 'symbol',\n",
    "    'buy_date', 'buy_count', 'buy_price',\n",
    "    'sell_date', 'sell_price', 'sell_reason', 'profit',\n",
    "    'cash', 'property',\n",
    "])\n",
    "count_day = 0\n",
    "yesterday = None\n",
    "miss_buy_short = 0\n",
    "miss_buy_long = 0\n",
    "\n",
    "for today in pd.period_range(start=start_date, end=end_date, freq='D'):\n",
    "    s_time = time.time()\n",
    "    count_day += 1\n",
    "    \n",
    "    if yesterday is None:\n",
    "        yesterday = today\n",
    "        continue\n",
    "\n",
    "    if today not in stock_df_dict['NDX'].index:\n",
    "        continue\n",
    "\n",
    "    if IS_HAPPYMONEY:        \n",
    "        if PROPERTY > START_MONEY * 2:\n",
    "            HAPPY_MONEY += 50000\n",
    "            PROPERTY -= 50000\n",
    "            CASH = PROPERTY\n",
    "    \n",
    "    # 买卖过程\n",
    "    # 突破下行趋势，清仓退出\n",
    "    order_arr = order_df.to_records(index=False)\n",
    "    if len(order_arr[(order_arr.buy_count > 0) & (order_arr.sell_price == 0)] ) != 0:\n",
    "        is_sell = False\n",
    "        for idx in order_df[(order_df['buy_count'] > 0) & (order_df['sell_price'] == 0)].index:\n",
    "            cur_order = order_df.loc[idx]\n",
    "            symbol = cur_order['symbol']\n",
    "            if today not in stock_df_dict[symbol].index or yesterday not in stock_df_dict[symbol].index:\n",
    "                continue\n",
    "            today_market = stock_df_dict[symbol].loc[today]\n",
    "            if cur_order.signal_reason == 'SHORT':\n",
    "                is_sell = (today_market.open <= today_market['ROLLING_%d_MIN' % TURTLE_SHORT_SELL_N])\n",
    "            if cur_order.signal_reason == 'LONG':\n",
    "                is_sell = (today_market.open <= today_market['ROLLING_%d_MIN' % TURTLE_LONG_SELL_N])\n",
    "            if is_sell:\n",
    "                CASH += cur_order.buy_count * today_market.open\n",
    "                order_df.loc[idx, 'sell_date'] = today\n",
    "                order_df.loc[idx, 'sell_price'] = today_market.open\n",
    "                order_df.loc[idx, 'sell_reason'] = 'EXIT'\n",
    "                order_df.loc[idx, 'profit'] = \\\n",
    "                    (today_market.open - cur_order.buy_price) * cur_order.buy_count\n",
    "#                 print(today, '退出', stock_df_dict[symbol].loc[today, 'open'], CASH)\n",
    "    time_p1 = time.time() - s_time\n",
    "\n",
    "    # 买入信号\n",
    "    for symbol in NASDAQ100[:]:\n",
    "#     for symbol in ['TSLA']:\n",
    "#         if symbol in ['ALGN', 'ROST', 'ORLY', 'ESRX', 'ULTA', 'REGN', 'MNST']:\n",
    "#             continue\n",
    "#             pass\n",
    "\n",
    "        if symbol == 'NDX':\n",
    "            continue\n",
    "        \n",
    "        if today not in stock_df_dict[symbol].index or yesterday not in stock_df_dict[symbol].index:\n",
    "            continue\n",
    "\n",
    "        today_market = stock_df_dict[symbol].loc[today]\n",
    "\n",
    "        # 突破上行趋势，加入买入信号\n",
    "        order_arr = order_df.to_records(index=False)\n",
    "        if today_market.MA60 >= today_market.MA180:\n",
    "#         if today_market.MA30 >= today_market.MA180:\n",
    "            is_buy = False\n",
    "            if today_market.open >= today_market['ROLLING_%d_MAX' % TURTLE_LONG_BUY_N]:\n",
    "                is_buy = True\n",
    "                buy_reason = 'LONG'\n",
    "            elif False and today_market.open >= today_market['ROLLING_%d_MAX' % TURTLE_SHORT_BUY_N]:\n",
    "                is_buy = True\n",
    "                buy_reason = 'SHORT'\n",
    "                \n",
    "            if is_buy:\n",
    "                new_order = pd.DataFrame(\n",
    "                    {\n",
    "                        'signal_date': today,\n",
    "                        'signal_reason': buy_reason,\n",
    "                        'symbol': symbol,\n",
    "                        'buy_date': pd.np.nan,\n",
    "                        'buy_count': 0,\n",
    "                        'buy_price': today_market.open,\n",
    "                        'sell_date': pd.np.nan,\n",
    "                        'sell_price': 0,\n",
    "                        'sell_reason': pd.np.nan,\n",
    "                        'profit': 0,\n",
    "                        'cash': CASH,\n",
    "                        'property': PROPERTY,\n",
    "                    },\n",
    "                    index = [0]\n",
    "                )\n",
    "                \n",
    "                order_df = pd.concat([order_df, new_order], ignore_index=True)\n",
    "                \n",
    "#                 order_df = order_df.append(\n",
    "#                     {\n",
    "#                         'signal_date': today,\n",
    "#                         'signal_reason': buy_reason,\n",
    "#                         'symbol': symbol,\n",
    "#                         'buy_date': pd.np.nan,\n",
    "#                         'buy_count': 0,\n",
    "#                         'buy_price': today_market.open,\n",
    "#                         'sell_date': pd.np.nan,\n",
    "#                         'sell_price': 0,\n",
    "#                         'sell_reason': pd.np.nan,\n",
    "#                         'profit': 0,\n",
    "#                         'cash': CASH,\n",
    "#                         'property': PROPERTY,\n",
    "#                     },\n",
    "#                     ignore_index=True\n",
    "#                 )\n",
    "    time_p2 = time.time() - s_time\n",
    "\n",
    "    # 执行买入\n",
    "    order_arr = order_df.to_records(index=False)\n",
    "    if len(order_arr[order_arr.signal_date == today]) != 0 and CASH >= START_MONEY / TURTLE_POS:\n",
    "        is_buy = False\n",
    "        for idx in order_df[order_df['signal_date'] == today].index:\n",
    "            cur_order = order_df.loc[idx]\n",
    "            symbol = cur_order['symbol']\n",
    "            today_market = stock_df_dict[symbol].loc[today]\n",
    "            buy_count = 0\n",
    "\n",
    "            if IS_SLIPPAGE:\n",
    "                buy_price = today_market.open * (1 + random.randint(0, 20) / 1000)\n",
    "            else:\n",
    "                buy_price = today_market.open\n",
    "\n",
    "            if CASH >= START_MONEY / TURTLE_POS:\n",
    "                buy_count = int((START_MONEY / TURTLE_POS) / buy_price)\n",
    "\n",
    "            if IS_RANDOM_BUY:\n",
    "                if random.randint(0, 100) > 50:\n",
    "                    buy_count = 0\n",
    "\n",
    "            if buy_count > 0:\n",
    "                CASH -= buy_count * buy_price\n",
    "#                     print(today, '建仓', buy_count, stock_df_dict[symbol].loc[today, 'open'], CASH)\n",
    "                order_df.loc[idx, 'buy_date'] = today\n",
    "                order_df.loc[idx, 'buy_count'] = buy_count\n",
    "                order_df.loc[idx, 'buy_price'] = buy_price\n",
    "    time_p3 = time.time() - s_time\n",
    "\n",
    "            \n",
    "    # 每天盘点财产\n",
    "    show_df.loc[today, 'CASH_TURTLE_%d_%d_%d' % (TURTLE_POS, TURTLE_LONG_BUY_N, TURTLE_LONG_SELL_N)] = CASH\n",
    "    PROPERTY = CASH + \\\n",
    "        sum(\n",
    "            [\n",
    "                stock_df_dict[order_df.loc[idx, 'symbol']][:today].iloc[-1].open * order_df.loc[idx, 'buy_count'] \\\n",
    "                for idx in order_df.loc[order_df['sell_price']==0].index\n",
    "            ]\n",
    "        )\n",
    "#     PROPERTY = 0\n",
    "    show_df.loc[today, 'PROPERTY_TURTLE_%d_%d_%d' % (TURTLE_POS, TURTLE_LONG_BUY_N, TURTLE_LONG_SELL_N)] = PROPERTY\n",
    "\n",
    "    yesterday = today\n",
    "    \n",
    "    print(today, len(order_df), time.time() - s_time, time_p1, time_p2, time_p3)\n",
    "\n",
    "\n",
    "# 最后一天，全部清仓\n",
    "order_arr = order_df.to_records(index=False)\n",
    "if len(order_arr[(order_arr.buy_count > 0) & (order_arr.sell_price == 0)] ) != 0:\n",
    "    for idx in order_df[(order_df['buy_count'] > 0) & (order_df['sell_price'] == 0)].index:\n",
    "        cur_order = order_df.loc[idx]\n",
    "        symbol = cur_order['symbol']\n",
    "        today_market = stock_df_dict[symbol][:today].iloc[-1]\n",
    "        CASH += cur_order.buy_count * today_market.open\n",
    "        order_df.loc[idx, 'sell_date'] = today\n",
    "        order_df.loc[idx, 'sell_price'] = today_market.open\n",
    "        order_df.loc[idx, 'sell_reason'] = 'LAST'\n",
    "        order_df.loc[idx, 'profit'] = \\\n",
    "            (today_market.open - cur_order.buy_price) * cur_order.buy_count\n",
    "    \n",
    "\n",
    "print(CASH)\n",
    "print(HAPPY_MONEY)\n",
    "print(PROPERTY)\n",
    "\n",
    "s_p = stock_df_dict['NDX'][start_date:].iloc[0].open\n",
    "e_p = stock_df_dict['NDX'].iloc[-1].open\n",
    "print('NDX', s_p, e_p, e_p / s_p)\n"
   ]
  },
  {
   "cell_type": "code",
   "execution_count": 9,
   "metadata": {},
   "outputs": [
    {
     "data": {
      "text/plain": [
       "151"
      ]
     },
     "execution_count": 9,
     "metadata": {},
     "output_type": "execute_result"
    }
   ],
   "source": [
    "# # order_df\n",
    "# # order_df[order_df['buy_count'] != 0]\n",
    "# # stock_df_dict['AMZN'].close\n",
    "\n",
    "dt = pd.to_datetime(end_date) - pd.to_datetime(start_date)\n",
    "dt.days\n",
    "\n",
    "# order_arr = order_df.to_records(index=False)\n",
    "# %timeit len(order_arr[(order_arr.buy_count > 0) & (order_arr.sell_price == 0)] ) != 0\n",
    "# # is_sell = False\n",
    "# # for idx in order_df[(order_df['buy_count'] > 0) & (order_df['sell_price'] == 0)].index:\n",
    "# %timeit idx = order_df[(order_df['buy_count'] > 0) & (order_df['sell_price'] == 0)].index\n",
    "# #     cur_order = order_df.loc[idx]\n",
    "# #     symbol = cur_order['symbol']\n",
    "# #     if today not in stock_df_dict[symbol].index or yesterday not in stock_df_dict[symbol].index:\n",
    "# #         continue\n",
    "# #     today_market = stock_df_dict[symbol].loc[today]\n",
    "# #     if cur_order.signal_reason == 'SHORT':\n",
    "# #         is_sell = (today_market.open <= today_market['ROLLING_%d_MIN' % TURTLE_SHORT_SELL_N])\n",
    "# #     if cur_order.signal_reason == 'LONG':\n",
    "# #         is_sell = (today_market.open <= today_market['ROLLING_%d_MIN' % TURTLE_LONG_SELL_N])\n",
    "# #     if is_sell:\n",
    "# #         CASH += cur_order.buy_count * today_market.open\n",
    "# #         order_df.loc[idx, 'sell_date'] = today\n",
    "# #         order_df.loc[idx, 'sell_price'] = today_market.open\n",
    "# #         order_df.loc[idx, 'sell_reason'] = 'EXIT'\n",
    "# #         order_df.loc[idx, 'profit'] = \\\n",
    "# #             (today_market.open - cur_order.buy_price) * cur_order.buy_count\n",
    "\n",
    "\n",
    "# # 执行买入\n",
    "# order_arr = order_df.to_records(index=False)\n",
    "# # if len(order_arr[order_arr.signal_date == today]) != 0 and CASH >= START_MONEY / TURTLE_POS:\n",
    "# %timeit len(order_arr[order_arr.signal_date == today])\n",
    "# #     is_buy = False\n",
    "# #     for idx in order_df[order_df['signal_date'] == today].index:\n",
    "# #         cur_order = order_df.loc[idx]\n",
    "# #         symbol = cur_order['symbol']\n",
    "# #         today_market = stock_df_dict[symbol].loc[today]\n",
    "# #         buy_count = 0\n",
    "\n",
    "# #         if IS_SLIPPAGE:\n",
    "# #             buy_price = today_market.open * (1 + random.randint(0, 20) / 1000)\n",
    "# #         else:\n",
    "# #             buy_price = today_market.open\n",
    "\n",
    "# #         if CASH >= START_MONEY / TURTLE_POS:\n",
    "# #             buy_count = int((START_MONEY / TURTLE_POS) / buy_price)\n",
    "\n",
    "# #         if IS_RANDOM_BUY:\n",
    "# #             if random.randint(0, 100) > 50:\n",
    "# #                 buy_count = 0\n",
    "\n",
    "# #         if buy_count > 0:\n",
    "# #             CASH -= buy_count * buy_price\n",
    "# # #                     print(today, '建仓', buy_count, stock_df_dict[symbol].loc[today, 'open'], CASH)\n",
    "# #             order_df.loc[idx, 'buy_date'] = today\n",
    "# #             order_df.loc[idx, 'buy_count'] = buy_count\n",
    "# #             order_df.loc[idx, 'buy_price'] = buy_price"
   ]
  },
  {
   "cell_type": "code",
   "execution_count": 10,
   "metadata": {
    "scrolled": false
   },
   "outputs": [
    {
     "data": {
      "text/plain": [
       "'ALL'"
      ]
     },
     "execution_count": 10,
     "metadata": {},
     "output_type": "execute_result"
    },
    {
     "data": {
      "text/plain": [
       "('start_date', '2018-01-01')"
      ]
     },
     "execution_count": 10,
     "metadata": {},
     "output_type": "execute_result"
    },
    {
     "data": {
      "text/plain": [
       "('end_date', '2018-06-01')"
      ]
     },
     "execution_count": 10,
     "metadata": {},
     "output_type": "execute_result"
    },
    {
     "data": {
      "text/plain": [
       "('TURTLE_POS', 20)"
      ]
     },
     "execution_count": 10,
     "metadata": {},
     "output_type": "execute_result"
    },
    {
     "data": {
      "text/plain": [
       "('TURTLE_SHORT_BUY_N', 20)"
      ]
     },
     "execution_count": 10,
     "metadata": {},
     "output_type": "execute_result"
    },
    {
     "data": {
      "text/plain": [
       "('TURTLE_SHORT_SELL_N', 20)"
      ]
     },
     "execution_count": 10,
     "metadata": {},
     "output_type": "execute_result"
    },
    {
     "data": {
      "text/plain": [
       "('TURTLE_LONG_BUY_N', 60)"
      ]
     },
     "execution_count": 10,
     "metadata": {},
     "output_type": "execute_result"
    },
    {
     "data": {
      "text/plain": [
       "('TURTLE_LONG_SELL_N', 60)"
      ]
     },
     "execution_count": 10,
     "metadata": {},
     "output_type": "execute_result"
    },
    {
     "data": {
      "text/plain": [
       "('IS_HAPPYMONEY', False)"
      ]
     },
     "execution_count": 10,
     "metadata": {},
     "output_type": "execute_result"
    },
    {
     "data": {
      "text/plain": [
       "('IS_TAX', False)"
      ]
     },
     "execution_count": 10,
     "metadata": {},
     "output_type": "execute_result"
    },
    {
     "data": {
      "text/plain": [
       "('IS_SLIPPAGE', False)"
      ]
     },
     "execution_count": 10,
     "metadata": {},
     "output_type": "execute_result"
    },
    {
     "data": {
      "text/plain": [
       "('IS_RANDOM_BUY', False)"
      ]
     },
     "execution_count": 10,
     "metadata": {},
     "output_type": "execute_result"
    },
    {
     "data": {
      "text/plain": [
       "('START_MONEY', 100000)"
      ]
     },
     "execution_count": 10,
     "metadata": {},
     "output_type": "execute_result"
    },
    {
     "data": {
      "text/plain": [
       "('len(order_df)', 852)"
      ]
     },
     "execution_count": 10,
     "metadata": {},
     "output_type": "execute_result"
    },
    {
     "data": {
      "text/plain": [
       "('sum_profit', 9147.109999999997)"
      ]
     },
     "execution_count": 10,
     "metadata": {},
     "output_type": "execute_result"
    },
    {
     "data": {
      "text/plain": [
       "('sum_tax', 0)"
      ]
     },
     "execution_count": 10,
     "metadata": {},
     "output_type": "execute_result"
    },
    {
     "data": {
      "text/plain": [
       "('win rate', 0.6206896551724138)"
      ]
     },
     "execution_count": 10,
     "metadata": {},
     "output_type": "execute_result"
    },
    {
     "data": {
      "text/plain": [
       "('annual_return', 1.2338983808984492)"
      ]
     },
     "execution_count": 10,
     "metadata": {},
     "output_type": "execute_result"
    },
    {
     "data": {
      "text/plain": [
       "('len(order_df[order_df.profit != 0])', 29)"
      ]
     },
     "execution_count": 10,
     "metadata": {},
     "output_type": "execute_result"
    },
    {
     "data": {
      "text/plain": [
       "('len(order_df[order_df.profit > 0])', 18)"
      ]
     },
     "execution_count": 10,
     "metadata": {},
     "output_type": "execute_result"
    },
    {
     "data": {
      "text/plain": [
       "('order LONG', 852)"
      ]
     },
     "execution_count": 10,
     "metadata": {},
     "output_type": "execute_result"
    },
    {
     "data": {
      "text/plain": [
       "18"
      ]
     },
     "execution_count": 10,
     "metadata": {},
     "output_type": "execute_result"
    },
    {
     "data": {
      "text/plain": [
       "9147.109999999997"
      ]
     },
     "execution_count": 10,
     "metadata": {},
     "output_type": "execute_result"
    },
    {
     "data": {
      "text/plain": [
       "('order SHORT', 0)"
      ]
     },
     "execution_count": 10,
     "metadata": {},
     "output_type": "execute_result"
    },
    {
     "data": {
      "text/plain": [
       "0"
      ]
     },
     "execution_count": 10,
     "metadata": {},
     "output_type": "execute_result"
    },
    {
     "data": {
      "text/plain": [
       "0"
      ]
     },
     "execution_count": 10,
     "metadata": {},
     "output_type": "execute_result"
    },
    {
     "data": {
      "text/plain": [
       "('ALL DAY', 105)"
      ]
     },
     "execution_count": 10,
     "metadata": {},
     "output_type": "execute_result"
    },
    {
     "data": {
      "text/plain": [
       "'CASH_TURTLE_20_60_60'"
      ]
     },
     "execution_count": 10,
     "metadata": {},
     "output_type": "execute_result"
    },
    {
     "data": {
      "text/plain": [
       "'PROPERTY_TURTLE_20_60_60'"
      ]
     },
     "execution_count": 10,
     "metadata": {},
     "output_type": "execute_result"
    },
    {
     "data": {
      "text/plain": [
       "('CASH NOT USED DAY', 22)"
      ]
     },
     "execution_count": 10,
     "metadata": {},
     "output_type": "execute_result"
    },
    {
     "data": {
      "text/plain": [
       "('MISS_BUY_SIGNAL_LONG', 0)"
      ]
     },
     "execution_count": 10,
     "metadata": {},
     "output_type": "execute_result"
    },
    {
     "data": {
      "text/plain": [
       "('MISS_BUY_SIGNAL_SHORT', 0)"
      ]
     },
     "execution_count": 10,
     "metadata": {},
     "output_type": "execute_result"
    }
   ],
   "source": [
    "'ALL'\n",
    "'start_date', start_date\n",
    "'end_date', end_date\n",
    "'TURTLE_POS', TURTLE_POS\n",
    "'TURTLE_SHORT_BUY_N', TURTLE_SHORT_BUY_N\n",
    "'TURTLE_SHORT_SELL_N', TURTLE_SHORT_SELL_N\n",
    "'TURTLE_LONG_BUY_N', TURTLE_LONG_BUY_N\n",
    "'TURTLE_LONG_SELL_N', TURTLE_LONG_SELL_N\n",
    "'IS_HAPPYMONEY', IS_HAPPYMONEY\n",
    "'IS_TAX', IS_TAX\n",
    "'IS_SLIPPAGE', IS_SLIPPAGE\n",
    "'IS_RANDOM_BUY', IS_RANDOM_BUY\n",
    "'START_MONEY', START_MONEY\n",
    "\n",
    "'len(order_df)', len(order_df)\n",
    "sum_profit = sum(list(order_df['profit']))\n",
    "'sum_profit', sum_profit\n",
    "# sum_tax = sum(list(order_df_TB['tax']))\n",
    "sum_tax = 0\n",
    "'sum_tax', sum_tax\n",
    "'win rate', len(order_df[order_df.profit > 0]) / len(order_df[order_df.profit != 0])\n",
    "'annual_return', ((sum_profit - sum_tax) / START_MONEY + 1) ** (365 / count_day)\n",
    "'len(order_df[order_df.profit != 0])', len(order_df[order_df.profit != 0])\n",
    "'len(order_df[order_df.profit > 0])', len(order_df[order_df.profit > 0])\n",
    "'order LONG', len(order_df[order_df.signal_reason == 'LONG'])\n",
    "len(order_df[(order_df.signal_reason == 'LONG') & (order_df.profit > 0)])\n",
    "sum(list(order_df[order_df.signal_reason == 'LONG']['profit']))\n",
    "'order SHORT', len(order_df[order_df.signal_reason == 'SHORT'])\n",
    "len(order_df[(order_df.signal_reason == 'SHORT') & (order_df.profit > 0)])\n",
    "sum(list(order_df[order_df.signal_reason == 'SHORT']['profit']))\n",
    "\n",
    "# order_df\n",
    "# order_df.loc[order_df['sell_price']==0]\n",
    "\n",
    "calc_df = order_df.copy()\n",
    "calc_df['profit_pct'] = calc_df['profit'] / (calc_df['buy_count'] * calc_df['buy_price'] + 1)\n",
    "# calc_df[calc_df.symbol == 'BIDU']\n",
    "# calc_df[calc_df.profit > 0]\n",
    "# calc_df\n",
    "\n",
    "# order_df[order_df.profit > 0]\n",
    "\n",
    "# csv_file = 'E:/Dev/result/T_TURTLE_POS%d_TURTLE_BUY_N%d_TURTLE_SELL_N%d_START_MONEY%d_%s_%s.csv' % \\\n",
    "#     (TURTLE_POS, TURTLE_BUY_N, TURTLE_SELL_N, START_MONEY, start_date, end_date)\n",
    "# calc_df.to_csv(csv_file)\n",
    "\n",
    "# list(show_df.dropna(how='any', inplace=False).PROPERTY_TURTLE_20_60_60.apply(int).tail(50))\n",
    "# list(show_df.open.apply(int).tail(50))\n",
    "\n",
    "df = show_df.dropna(how='any', inplace=False).copy()\n",
    "algo = df['PROPERTY_TURTLE_%d_%d_%d' % (TURTLE_POS, TURTLE_LONG_BUY_N, TURTLE_LONG_SELL_N)].pct_change()\n",
    "benchmark = df.open.pct_change()\n",
    "\n",
    "# 'cum_returns', emp.cum_returns(algo)[-1], emp.cum_returns(benchmark)[-1]\n",
    "# 'max_drawdown', emp.max_drawdown(algo), emp.max_drawdown(benchmark)\n",
    "# 'annual_return', emp.annual_return(algo), emp.annual_return(benchmark)\n",
    "# 'annual_volatility', emp.annual_volatility(algo, period='daily')\n",
    "# 'calmar_ratio', emp.calmar_ratio(algo)\n",
    "# 'sharpe_ratio', emp.sharpe_ratio(returns=algo)\n",
    "# 'alpha', emp.alpha(returns=algo, factor_returns=benchmark, risk_free=0.00)\n",
    "# 'beta', emp.beta(returns=algo, factor_returns=benchmark, risk_free=0.00)\n",
    "\n",
    "'ALL DAY', len(df)\n",
    "'CASH_TURTLE_%d_%d_%d' % (TURTLE_POS, TURTLE_LONG_BUY_N, TURTLE_LONG_SELL_N)\n",
    "'PROPERTY_TURTLE_%d_%d_%d' % (TURTLE_POS, TURTLE_LONG_BUY_N, TURTLE_LONG_SELL_N)\n",
    "'CASH NOT USED DAY', \\\n",
    "    len(df[df['CASH_TURTLE_%d_%d_%d' % (TURTLE_POS, TURTLE_LONG_BUY_N, TURTLE_LONG_SELL_N)] > \\\n",
    "           df['PROPERTY_TURTLE_%d_%d_%d' % (TURTLE_POS, TURTLE_LONG_BUY_N, TURTLE_LONG_SELL_N)] / TURTLE_POS])\n",
    "'MISS_BUY_SIGNAL_LONG', miss_buy_long\n",
    "'MISS_BUY_SIGNAL_SHORT', miss_buy_short"
   ]
  },
  {
   "cell_type": "code",
   "execution_count": 11,
   "metadata": {
    "scrolled": true
   },
   "outputs": [
    {
     "data": {
      "text/plain": [
       "82"
      ]
     },
     "execution_count": 11,
     "metadata": {},
     "output_type": "execute_result"
    }
   ],
   "source": [
    "bad_stock_cnt = 0\n",
    "s_p = stock_df_dict['NDX'][start_date:].iloc[0].open\n",
    "e_p = stock_df_dict['NDX'].iloc[-1].open\n",
    "benchmark_return = e_p / s_p\n",
    "for symbol, stock_df in stock_df_dict.items():\n",
    "    df = stock_df.loc[start_date:end_date, 'close']\n",
    "#     print(df)\n",
    "    s_p = df.head(1).values\n",
    "    e_p = df.tail(1).values\n",
    "#     print(symbol, s_p, e_p, e_p / s_p)\n",
    "    if e_p / s_p < benchmark_return:\n",
    "        bad_stock_cnt += 1\n",
    "bad_stock_cnt\n"
   ]
  },
  {
   "cell_type": "code",
   "execution_count": 12,
   "metadata": {
    "scrolled": false
   },
   "outputs": [],
   "source": [
    "%matplotlib inline\n",
    "\n",
    "import sys\n",
    "import matplotlib\n",
    "import matplotlib.pyplot as plt\n",
    "plt.rcParams['figure.figsize'] = [15, 10]\n",
    "\n",
    "# order_df_TB\n",
    "bar_df = order_df.copy()\n",
    "df = bar_df.sort_values(by=['profit'])\n",
    "# df\n",
    "\n",
    "bins = [100 * x for x in range(-200, 500)]\n",
    "# bins\n",
    "\n",
    "cats = pd.cut(df['profit'], bins)\n",
    "# cats\n",
    "\n",
    "def get_stats(group):\n",
    "    return {'count': group.count()}\n",
    "\n",
    "grouped = df['profit'].groupby(cats)\n",
    "bin_counts = grouped.apply(get_stats).unstack()\n",
    "bin_counts.reset_index(inplace=True, drop=False)\n",
    "bin_counts['profit'] = bin_counts['profit'].apply(str)\n",
    "# bin_counts\n",
    "\n",
    "# df['profit'].hist(bins=10)\n",
    "\n",
    "# bin_counts.plot(kind='barh', alpha=0.5, rot=0)\n",
    "\n",
    "# display_charts(bin_counts, kind='bar', x='profit', figsize=(900, 600), logy=True)"
   ]
  },
  {
   "cell_type": "code",
   "execution_count": 13,
   "metadata": {
    "scrolled": false
   },
   "outputs": [
    {
     "data": {
      "text/plain": [
       "Index(['open', 'high', 'low', 'close', 'volume', 'o_pct_chg', 'ROLLING_20_MAX',\n",
       "       'ROLLING_20_MIN', 'ROLLING_60_MAX', 'ROLLING_60_MIN', 'MA180', 'MA60',\n",
       "       'MA30', 'CASH_TURTLE_20_60_60', 'PROPERTY_TURTLE_20_60_60'],\n",
       "      dtype='object')"
      ]
     },
     "execution_count": 13,
     "metadata": {},
     "output_type": "execute_result"
    },
    {
     "data": {
      "image/png": "[encoded data removed]",
      "text/plain": [
       "<matplotlib.figure.Figure at 0x78e56d611240>"
      ]
     },
     "metadata": {},
     "output_type": "display_data"
    }
   ],
   "source": [
    "%matplotlib inline\n",
    "\n",
    "import matplotlib\n",
    "import matplotlib.pyplot as plt\n",
    "plt.rcParams['figure.figsize'] = [15, 10]\n",
    "\n",
    "df = show_df.dropna(how='any', inplace=False).copy()\n",
    "# df.drop(columns=['open', 'high', 'low', 'o_pct_chg', 'TR', 'N'], inplace=True)\n",
    "df.columns\n",
    "\n",
    "df['close'] = (df['close'] - df.iloc[0]['close']) / df.iloc[0]['close']\n",
    "ax = df.plot(kind='line', y='close', label='NDX_%.2f' % df.iloc[-1]['close'], linewidth=1, grid=True)\n",
    "for col in sorted(df.columns):\n",
    "    if 'PROPERTY' in col:\n",
    "        df[col] = (df[col] - df.iloc[1][col]) / df.iloc[0][col]\n",
    "        ax = df.plot(kind='line', y=col, secondary_y=False, label='%s_%.2f' % (col, df.iloc[-1][col]), linewidth=1, grid=True, ax=ax)\n",
    "\n",
    "# display_charts(df, kind='line', figsize=(900, 600), logy=False)"
   ]
  },
  {
   "cell_type": "code",
   "execution_count": 14,
   "metadata": {
    "scrolled": false
   },
   "outputs": [
    {
     "data": {
      "text/plain": [
       "Index(['close', 'CASH_TURTLE_20_60_60', 'PROPERTY_TURTLE_20_60_60'], dtype='object')"
      ]
     },
     "execution_count": 14,
     "metadata": {},
     "output_type": "execute_result"
    },
    {
     "data": {
      "text/plain": [
       "PeriodIndex(['2018-01-02', '2018-01-03', '2018-01-04', '2018-01-05',\n",
       "             '2018-01-08', '2018-01-09', '2018-01-10', '2018-01-11',\n",
       "             '2018-01-12', '2018-01-16',\n",
       "             ...\n",
       "             '2018-05-18', '2018-05-21', '2018-05-22', '2018-05-23',\n",
       "             '2018-05-24', '2018-05-25', '2018-05-29', '2018-05-30',\n",
       "             '2018-05-31', '2018-06-01'],\n",
       "            dtype='period[D]', name='date', length=105, freq='D')"
      ]
     },
     "execution_count": 14,
     "metadata": {},
     "output_type": "execute_result"
    },
    {
     "data": {
      "text/plain": [
       "period[D]"
      ]
     },
     "execution_count": 14,
     "metadata": {},
     "output_type": "execute_result"
    },
    {
     "data": {
      "text/html": [
       "<div id=\"chart_iduWhWppPa\"</div>\n",
       "    <script type=\"text/javascript\">new Highcharts.StockChart({\"chart\":{\"renderTo\":\"chart_iduWhWppPa\",\"width\":900,\"height\":600},\"legend\":{\"enabled\":true},\"series\":[{\"name\":\"CASH_TURTLE_20_60_60\",\"yAxis\":0,\"data\":[[1514851200000,100000.0],[1514937600000,55445.35],[1515024000000,2287.75],[1515110400000,2287.75],[1515369600000,2287.75],[1515456000000,2287.75],[1515542400000,2287.75],[1515628800000,2287.75],[1515715200000,2287.75],[1516060800000,2287.75],[1516147200000,2287.75],[1516233600000,2287.75],[1516320000000,2287.75],[1516579200000,2287.75],[1516665600000,2287.75],[1516752000000,2287.75],[1516838400000,2287.75],[1516924800000,2287.75],[1517184000000,2287.75],[1517270400000,2287.75],[1517356800000,2287.75],[1517443200000,2287.75],[1517529600000,2287.75],[1517788800000,2287.75],[1517875200000,2287.75],[1517961600000,2287.75],[1518048000000,2287.75],[1518134400000,6277.19],[1518393600000,6277.19],[1518480000000,6277.19],[1518566400000,6277.19],[1518652800000,1320.04],[1518739200000,1320.04],[1519084800000,1320.04],[1519171200000,1320.04],[1519257600000,1320.04],[1519344000000,1320.04],[1519603200000,1320.04],[1519689600000,1320.04],[1519776000000,1320.04],[1519862400000,1320.04],[1519948800000,1320.04],[1520208000000,1320.04],[1520294400000,1320.04],[1520380800000,1320.04],[1520467200000,1320.04],[1520553600000,1320.04],[1520812800000,1320.04],[1520899200000,1320.04],[1520985600000,1320.04],[1521072000000,1320.04],[1521158400000,1320.04],[1521417600000,1320.04],[1521504000000,5841.73],[1521590400000,1037.77],[1521676800000,10362.35],[1521763200000,10362.35],[1522022400000,10362.35],[1522108800000,551.51],[1522195200000,8551.15],[1522281600000,8551.15],[1522627200000,8551.15],[1522713600000,8551.15],[1522800000000,8551.15],[1522886400000,8551.15],[1522972800000,18014.59],[1523232000000,18014.59],[1523318400000,13021.31],[1523404800000,13021.31],[1523491200000,8126.45],[1523577600000,3138.81],[1523836800000,3138.81],[1523923200000,3138.81],[1524009600000,3138.81],[1524096000000,3138.81],[1524182400000,3138.81],[1524441600000,3138.81],[1524528000000,3138.81],[1524614400000,3138.81],[1524700800000,7662.65],[1524787200000,2760.62],[1525046400000,2760.62],[1525132800000,2760.62],[1525219200000,2760.62],[1525305600000,2760.62],[1525392000000,2760.62],[1525651200000,2760.62],[1525737600000,2760.62],[1525824000000,2760.62],[1525910400000,2760.62],[1525996800000,2760.62],[1526256000000,2760.62],[1526342400000,2760.62],[1526428800000,2760.62],[1526515200000,2760.62],[1526601600000,2760.62],[1526860800000,2760.62],[1526947200000,2760.62],[1527033600000,2760.62],[1527120000000,2760.62],[1527206400000,2760.62],[1527552000000,2760.62],[1527638400000,2760.62],[1527724800000,2760.62],[1527811200000,2760.62]]},{\"name\":\"PROPERTY_TURTLE_20_60_60\",\"yAxis\":0,\"data\":[[1514851200000,100000.0],[1514937600000,100000.0],[1515024000000,100621.97],[1515110400000,101160.06],[1515369600000,101636.12],[1515456000000,102405.42],[1515542400000,102538.26],[1515628800000,102498.48],[1515715200000,103264.73],[1516060800000,104827.58],[1516147200000,104517.93],[1516233600000,104669.92],[1516320000000,104847.17],[1516579200000,105415.64],[1516665600000,107438.7],[1516752000000,107885.215],[1516838400000,107963.2],[1516924800000,108289.34],[1517184000000,108542.96],[1517270400000,107310.37],[1517356800000,108224.79],[1517443200000,106553.28],[1517529600000,106273.1],[1517788800000,104192.22],[1517875200000,99532.26],[1517961600000,102726.03],[1518048000000,102110.27],[1518134400000,98668.93],[1518393600000,99779.37],[1518480000000,99923.38],[1518566400000,100504.13],[1518652800000,103948.73],[1518739200000,103997.04],[1519084800000,103943.79],[1519171200000,104678.04],[1519257600000,104612.49],[1519344000000,104818.35],[1519603200000,106609.05],[1519689600000,107484.6],[1519776000000,106879.08],[1519862400000,105419.41],[1519948800000,102795.53],[1520208000000,104417.97],[1520294400000,106565.602],[1520380800000,106217.84],[1520467200000,108883.2],[1520553600000,109034.8],[1520812800000,110750.12],[1520899200000,110757.68],[1520985600000,109603.74],[1521072000000,109241.6],[1521158400000,109129.26],[1521417600000,107705.88],[1521504000000,106770.48],[1521590400000,106611.93],[1521676800000,105368.9],[1521763200000,104304.03],[1522022400000,103957.6],[1522108800000,106094.63],[1522195200000,101565.47],[1522281600000,100946.25],[1522627200000,101904.76],[1522713600000,100412.62],[1522800000000,98764.26],[1522886400000,102296.05],[1522972800000,100789.36],[1523232000000,100209.31],[1523318400000,101640.77],[1523404800000,101935.47],[1523491200000,102689.666],[1523577600000,104078.964],[1523836800000,103725.58],[1523923200000,105023.73],[1524009600000,106489.72],[1524096000000,105952.19],[1524182400000,105335.1396],[1524441600000,104822.7908],[1524528000000,104592.288],[1524614400000,102981.48],[1524700800000,103501.8],[1524787200000,104958.33],[1525046400000,104785.01],[1525132800000,103031.13],[1525219200000,103935.19],[1525305600000,102538.244],[1525392000000,102959.99],[1525651200000,105531.4618],[1525737600000,106331.68],[1525824000000,106835.052],[1525910400000,108108.975],[1525996800000,108251.72],[1526256000000,108060.11],[1526342400000,106944.2829],[1526428800000,107084.09],[1526515200000,106983.29],[1526601600000,106835.88],[1526860800000,107167.08],[1526947200000,107723.57],[1527033600000,106590.69],[1527120000000,108425.85],[1527206400000,108527.59],[1527552000000,107864.113],[1527638400000,108698.02],[1527724800000,109018.896],[1527811200000,109147.11]]},{\"name\":\"close\",\"yAxis\":0,\"data\":[[1514851200000,100000.0],[1514937600000,100989.9185175902],[1515024000000,101124.714037532],[1515110400000,102179.9646893176],[1515369600000,102538.4774633317],[1515456000000,102558.4579773392],[1515542400000,102323.8827498593],[1515628800000,103027.7620104236],[1515715200000,103796.3744504975],[1516060800000,103467.6865482764],[1516147200000,104591.079813937],[1516233600000,104607.8812607658],[1516320000000,104960.3276988591],[1516579200000,106065.3069473829],[1516665600000,106943.5895262176],[1516752000000,106266.1103452682],[1516838400000,106219.3150907094],[1516924800000,107857.5022299544],[1517184000000,107325.2465236056],[1517270400000,106440.8054619753],[1517356800000,106736.6122877243],[1517443200000,105992.004108522],[1517529600000,103823.2506222986],[1517788800000,99763.0903850265],[1517875200000,102374.8706872191],[1517961600000,101085.4748267025],[1518048000000,96847.9318555432],[1518134400000,98484.736791667],[1518393600000,100192.0955182217],[1518480000000,100652.9988278918],[1518566400000,102513.8742477743],[1518652800000,104355.1377411484],[1518739200000,103982.5879265479],[1519084800000,104121.284330854],[1519171200000,103807.4781489044],[1519257600000,103847.3009566074],[1519344000000,105916.720111854],[1519603200000,107337.2563329476],[1519689600000,105974.3119085706],[1519776000000,105268.8661511356],[1519862400000,103673.5733820852],[1519948800000,104602.6596045302],[1520208000000,105681.4230671886],[1520294400000,106168.910750223],[1520380800000,106420.2259932819],[1520467200000,106989.0640089051],[1520553600000,109058.5906688389],[1520812800000,109518.4189316369],[1520899200000,108219.0097773977],[1520985600000,108134.0503588813],[1521072000000,107980.3032983667],[1521158400000,107811.0602050821],[1521417600000,105429.5856585062],[1521504000000,105752.6372435553],[1521590400000,105254.0458621139],[1521676800000,102624.8037271568],[1521763200000,99950.0256782624],[1522022400000,103724.0852272587],[1522108800000,100284.0580992188],[1522195200000,99223.8929474468],[1522281600000,101071.6835111154],[1522627200000,98149.2607363395],[1522713600000,99193.5305522178],[1522800000000,100748.1558338801],[1522886400000,101282.3159089736],[1522972800000,98800.1094704872],[1523232000000,99401.0453141471],[1523318400000,101605.3060627729],[1523404800000,101107.3136360174],[1523491200000,102225.5006032549],[1523577600000,101796.8640575586],[1523836800000,102516.1625618306],[1523923200000,104684.4860293051],[1524009600000,104943.1730223437],[1524096000000,104047.443968557],[1524182400000,102402.0540152694],[1524441600000,102111.100258257],[1524528000000,99964.7231047845],[1524614400000,100039.8842389528],[1524700800000,102124.1083254087],[1524787200000,102227.0056688757],[1525046400000,101447.1052366455],[1525132800000,102620.3038881066],[1525219200000,102044.6316459397],[1525305600000,102029.3199069194],[1525392000000,103958.8293906757],[1525651200000,104769.0768603225],[1525737600000,104670.925080905],[1525824000000,105864.7032010596],[1525910400000,106944.8488668392],[1525996800000,106776.1586548031],[1526256000000,106957.5037043044],[1526342400000,105792.8286387572],[1526428800000,106429.1028088825],[1526515200000,105993.9852663291],[1526601600000,105450.6412193857],[1526860800000,106053.8500192894],[1526947200000,105870.9384729174],[1527033600000,106792.530082883],[1527120000000,106732.173879924],[1527206400000,106904.4731778877],[1527552000000,106376.548374652],[1527638400000,107141.7360225477],[1527724800000,107009.09059635],[1527811200000,108793.6069726926]]}],\"xAxis\":{\"title\":{\"text\":\"date\"},\"type\":\"datetime\"},\"yAxis\":[{}]});</script>"
      ],
      "text/plain": [
       "<IPython.core.display.HTML object>"
      ]
     },
     "metadata": {},
     "output_type": "display_data"
    }
   ],
   "source": [
    "df = show_df.dropna(how='any', inplace=False).copy()\n",
    "# df.drop(columns=['open', 'high', 'low', 'o_pct_chg', 'TR', 'N'], inplace=True)\n",
    "df = df.loc[:, ['close', 'CASH_TURTLE_20_60_60', 'PROPERTY_TURTLE_20_60_60']]\n",
    "# df.drop(columns=['CASH_TURTLE_20_60_60'], inplace=True)\n",
    "df.columns\n",
    "df.index\n",
    "\n",
    "# df.reset_index(drop=False, inplace=True)\n",
    "# df = df.astype(dtype={'date': 'datetime64[ns]'})\n",
    "# df = df.astype(dtype={'date': 'datetime'})\n",
    "df.index.dtype\n",
    "df.index = df.index.astype('datetime64[ns]')\n",
    "# df.set_index('date', inplace=True)\n",
    "# df.index.astype()\n",
    "\n",
    "# df['close'] = (df['close'] - df.iloc[0]['close']) / df.iloc[0]['close']\n",
    "df['close'] = df['close'] / df.iloc[0]['close'] * 100000\n",
    "\n",
    "# df\n",
    "\n",
    "display_charts(df, chart_type='stock', figsize=(900, 600), logy=False)\n",
    "\n",
    "\n",
    "# pi = pd.period_range('2016-01-01', periods=3, freq='M')\n",
    "# pi.dtype\n",
    "# pi.astype('period[D]')\n",
    "# pi.astype('datetime64[ns]')"
   ]
  }
 ],
 "metadata": {
  "kernelspec": {
   "display_name": "Python 3",
   "language": "python",
   "name": "python3"
  },
  "language_info": {
   "codemirror_mode": {
    "name": "ipython",
    "version": 3
   },
   "file_extension": ".py",
   "mimetype": "text/x-python",
   "name": "python",
   "nbconvert_exporter": "python",
   "pygments_lexer": "ipython3",
   "version": "3.6.4"
  }
 },
 "nbformat": 4,
 "nbformat_minor": 2
}
